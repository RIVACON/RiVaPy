{
 "cells": [
  {
   "cell_type": "markdown",
   "metadata": {},
   "source": [
    "# German Credit Risk \n",
    "\n",
    "Notebook using German Credit Risk Dataset from https://archive.ics.uci.edu/dataset/144/statlog+german+credit+data and methods from paper: \"Explainable AI for Credit Assessment in Banks\" (https://www.mdpi.com/1911-8074/15/12/556).\n",
    "\n",
    "Note that text for explanation in this notebook is for the most part copied/adapted from the paper above."
   ]
  }
 ],
 "metadata": {
  "language_info": {
   "name": "python"
  }
 },
 "nbformat": 4,
 "nbformat_minor": 2
}
