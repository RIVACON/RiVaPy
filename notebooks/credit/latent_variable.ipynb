{
 "cells": [
  {
   "cell_type": "code",
   "execution_count": 44,
   "metadata": {},
   "outputs": [
    {
     "name": "stdout",
     "output_type": "stream",
     "text": [
      "The autoreload extension is already loaded. To reload it, use:\n",
      "  %reload_ext autoreload\n"
     ]
    }
   ],
   "source": [
    "import sys\n",
    "import numpy as np\n",
    "import matplotlib.pyplot as plt\n",
    "sys.path.append('..')\n",
    "from tools import VasicekModel, LoanPortfolio\n",
    "\n",
    "%load_ext autoreload\n",
    "%autoreload 2\n",
    "%matplotlib inline"
   ]
  },
  {
   "cell_type": "markdown",
   "metadata": {},
   "source": [
    "# Vasicek (CreditMetrics) Model and Homogeneous Portfolio"
   ]
  },
  {
   "cell_type": "markdown",
   "metadata": {},
   "source": [
    "## Vasicek (CreditMetrics) Model\n",
    "Log-return $r_b$ of borrower's asset is defined by\n",
    "$$\n",
    "r_b = \\beta_bX_b +\\sqrt{1-\\beta_b^2}\\varepsilon_b\n",
    "$$\n",
    "where\n",
    "$X_b$ is a normally distributed (systemic) factor\n",
    "$$\n",
    "    X_b=\\sum_{k=1}^K \\alpha_{b,k}Y_k\n",
    "$$\n",
    "and $\\varepsilon$ is is an  normally distributed idiosyncratic risk factor.\n",
    "\n",
    "The obligor defaults if\n",
    "$$\n",
    "r_b<\\theta_b\n",
    "$$\n",
    "for a fixed threshold $theta_b$ that is determined by the estimated default probability $pd_b$ via the relation\n",
    "$$pd_b=\\phi(\\theta_b)$$.\n",
    "\n",
    "In case of default, the loss of the investor that invested $N_b$ into the loan is given by $N_b \\mbox{LGD}_b$ where $LGD_b$ is the so-called loss given default (the percentage that cannot be recovered).\n",
    "\n",
    "For a portfolio of $B$ loans the loss is given by\n",
    "$$\n",
    "L = \\sum_{b=1}I_{r_b<\\theta_b}N_b\\mbox{LGD}_b\n",
    "$$"
   ]
  },
  {
   "cell_type": "markdown",
   "metadata": {},
   "source": [
    "### 1 systemic risk factor"
   ]
  },
  {
   "cell_type": "code",
   "execution_count": 221,
   "metadata": {
    "code_folding": []
   },
   "outputs": [],
   "source": [
    "n_loans = 2000\n",
    "\n",
    "if False:\n",
    "    betas = 0.5*np.ones((n_loans,))\n",
    "    pds = 0.05*np.ones((n_loans,))\n",
    "    lgds = 0.7*np.ones((n_loans,))\n",
    "    notionals = np.ones((n_loans,))\n",
    "else:\n",
    "    betas =np.random.uniform(0.4,0.5,size=(n_loans,))\n",
    "    pds = np.random.uniform(0.01,0.1,size=(n_loans,))\n",
    "    lgds = np.random.uniform(0.5,0.7, size=(n_loans,))\n",
    "    notionals = np.random.uniform(0.1,1.0, size=(n_loans,))#np.ones((n_loans,))/n_loans\n",
    "\n",
    "notionals /= np.sum(notionals)                         \n",
    "vasicek_model = VasicekModel(betas = betas, \n",
    "                             pds=pds,\n",
    "                            notionals = notionals,\n",
    "                            lgds = lgds\n",
    "                            )"
   ]
  },
  {
   "cell_type": "code",
   "execution_count": 222,
   "metadata": {},
   "outputs": [],
   "source": [
    "n_sims = 100_000\n",
    "vasicek_loss = np.empty((n_sims, ))\n",
    "for i in range(n_sims):\n",
    "    vasicek_model.simulate(np.random.uniform(0.0,1.0,(vasicek_model.random_variates_shape())))\n",
    "    vasicek_loss[i] = vasicek_model.compute_default_loss()"
   ]
  },
  {
   "cell_type": "code",
   "execution_count": 223,
   "metadata": {},
   "outputs": [
    {
     "data": {
      "image/png": "[encoded data removed]",
      "text/plain": [
       "<Figure size 864x432 with 1 Axes>"
      ]
     },
     "metadata": {
      "needs_background": "light"
     },
     "output_type": "display_data"
    }
   ],
   "source": [
    "plt.figure(figsize=(12,6))\n",
    "plt.hist(vasicek_loss, bins=100, density = True);"
   ]
  },
  {
   "cell_type": "markdown",
   "metadata": {},
   "source": [
    "### 2 systemic risk factors"
   ]
  },
  {
   "cell_type": "markdown",
   "metadata": {},
   "source": [
    "Here we assume two uncorrelated systemic risk factors $Y_1$ and $Y_2$ where the different loans can be grouped into three categories:\n",
    "- loans that do only depend on the first risk factor $Y_1$, i.e. $\\alpha_{b,1}=1$ and $\\alpha_{b,2}=0$\n",
    "- loans that do only depend on the second risk factor $Y_2$, i.e. $\\alpha_{b,1}=0$ and $\\alpha_{b,2}=1$\n",
    "- loans that depend on both risk factors, i.e. $\\alpha_{b,1}\\not=0.0$ and $\\alpha_{b,2}\\not=0.0$"
   ]
  },
  {
   "cell_type": "code",
   "execution_count": 187,
   "metadata": {},
   "outputs": [],
   "source": [
    "alphas = np.zeros((n_loans,2))\n",
    "if False:\n",
    "    alphas[:int(n_loans/3), 0] = 1.0\n",
    "    alphas[int(n_loans/3):int(2*n_loans/3), 1] = 1.0\n",
    "    alphas[int(2*n_loans/3):, 0] = 0.5\n",
    "    alphas[int(2*n_loans/3):, 1] = 0.5\n",
    "else:\n",
    "    alphas[:int(n_loans/2), 0] = 1.0\n",
    "    alphas[int(n_loans/2):, 1] = 1.0\n",
    "vasicek_model_2 = VasicekModel(betas = betas, \n",
    "                             pds=pds,\n",
    "                            notionals = notionals,\n",
    "                            lgds = lgds,\n",
    "                            alphas = alphas\n",
    "                            )\n",
    "n_sims = 100_000\n",
    "vasicek_loss_2 = np.empty((n_sims, ))\n",
    "for i in range(n_sims):\n",
    "    vasicek_model_2.simulate(np.random.uniform(0.0,1.0,(vasicek_model_2.random_variates_shape())))\n",
    "    vasicek_loss_2[i] = vasicek_model_2.compute_default_loss()"
   ]
  },
  {
   "cell_type": "code",
   "execution_count": 188,
   "metadata": {},
   "outputs": [
    {
     "data": {
      "image/png": "[encoded data removed]",
      "text/plain": [
       "<Figure size 864x432 with 1 Axes>"
      ]
     },
     "metadata": {
      "needs_background": "light"
     },
     "output_type": "display_data"
    }
   ],
   "source": [
    "plt.figure(figsize=(12,6))\n",
    "plt.hist(vasicek_loss, bins=100, density = True, label='1 systemic factor')\n",
    "plt.hist(vasicek_loss_2, bins=100, density = True, alpha=0.5, label='2 systemic factors')\n",
    "plt.legend();"
   ]
  },
  {
   "cell_type": "markdown",
   "metadata": {},
   "source": [
    "## The homogeneous portfolio"
   ]
  },
  {
   "cell_type": "markdown",
   "metadata": {},
   "source": [
    "Under the condition that all loans have the same systemic factor $X$, the same deafult probability $pd_b=pd$  and the same loss given default $LGD_b=LGD$ one can show (Gordy)\n",
    "$$\n",
    "    L = \\sum_{b=1}I_{r_b<\\phi^{-1}(pd)}N_b\\mbox{LGD}_b \\approx N\\cdot LGD\\phi\\left(\\frac{\\phi^{-1}(pd)+\\beta X}{\\sqrt{1-\\beta^2}} \\right)\n",
    "$$\n",
    "where $N=\\sum_bN_b$."
   ]
  },
  {
   "cell_type": "code",
   "execution_count": 224,
   "metadata": {},
   "outputs": [],
   "source": [
    "loan_portfolio = LoanPortfolio(lgd = np.mean(lgds), r=0.0, pd = np.mean(pds), beta = np.mean(betas))\n",
    "loss_homogeneous_ptf = loan_portfolio.compute_loss(np.random.normal(size=n_sims))"
   ]
  },
  {
   "cell_type": "code",
   "execution_count": 225,
   "metadata": {},
   "outputs": [
    {
     "data": {
      "image/png": "[encoded data removed]",
      "text/plain": [
       "<Figure size 864x432 with 1 Axes>"
      ]
     },
     "metadata": {
      "needs_background": "light"
     },
     "output_type": "display_data"
    }
   ],
   "source": [
    "plt.figure(figsize=(12,6))\n",
    "plt.hist(vasicek_loss, bins=100, density = True, label='portfolio')\n",
    "plt.hist(loss_homogeneous_ptf, bins=100, alpha=0.5, density = True, label='homogeneous portfolio')\n",
    "plt.legend();"
   ]
  },
  {
   "cell_type": "code",
   "execution_count": 226,
   "metadata": {},
   "outputs": [
    {
     "name": "stdout",
     "output_type": "stream",
     "text": [
      "Vasicek:  0.2421970333769619 , approximated:  0.24665807185613295\n",
      "Vasicek:  0.26800480168984725 , approximated:  0.2751663000208418\n"
     ]
    }
   ],
   "source": [
    "q = 0.999\n",
    "VaR_vasicek = np.quantile(vasicek_loss, q)\n",
    "VaR_homogeneous = np.quantile(loss_homogeneous_ptf, q)\n",
    "print('Vasicek: ', VaR_vasicek, ', approximated: ', VaR_homogeneous)\n",
    "ES_vasicek = vasicek_loss[vasicek_loss>=VaR_vasicek].mean()\n",
    "ES_homogeneous = loss_homogeneous_ptf[loss_homogeneous_ptf>=VaR_homogeneous].mean()\n",
    "print('Vasicek: ', ES_vasicek, ', approximated: ', ES_homogeneous)"
   ]
  },
  {
   "cell_type": "code",
   "execution_count": null,
   "metadata": {},
   "outputs": [],
   "source": []
  }
 ],
 "metadata": {
  "hide_input": false,
  "kernelspec": {
   "display_name": "credit_portfolio",
   "language": "python",
   "name": "credit_portfolio"
  },
  "language_info": {
   "codemirror_mode": {
    "name": "ipython",
    "version": 3
   },
   "file_extension": ".py",
   "mimetype": "text/x-python",
   "name": "python",
   "nbconvert_exporter": "python",
   "pygments_lexer": "ipython3",
   "version": "3.8.12"
  },
  "toc": {
   "base_numbering": 1,
   "nav_menu": {},
   "number_sections": true,
   "sideBar": true,
   "skip_h1_title": false,
   "title_cell": "Table of Contents",
   "title_sidebar": "Contents",
   "toc_cell": false,
   "toc_position": {},
   "toc_section_display": true,
   "toc_window_display": false
  }
 },
 "nbformat": 4,
 "nbformat_minor": 4
}
