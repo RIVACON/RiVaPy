{
 "cells": [
  {
   "cell_type": "markdown",
   "metadata": {},
   "source": [
    "# Credit Metrics "
   ]
  },
  {
   "cell_type": "code",
   "execution_count": 14,
   "metadata": {},
   "outputs": [],
   "source": [
    "import rivapy\n",
    "import pandas as pd\n",
    "import numpy as np\n",
    "from scipy.stats import norm\n",
    "import plotly.express as px\n",
    "from numpy.linalg import cholesky"
   ]
  },
  {
   "cell_type": "markdown",
   "metadata": {},
   "source": [
    "CreditMetrics was developed by J.P Morgan in 1997 and is used as a tool for accessing portfolio risk due to changes in debt value caused by changes in credit quality (https://thequantmba.wordpress.com/2017/01/05/creditmetrics-in-python/).\n",
    "\n",
    "It takes a Migration Matrix (usually provided by a credit rating agency)\n"
   ]
  },
  {
   "cell_type": "code",
   "execution_count": 16,
   "metadata": {},
   "outputs": [],
   "source": [
    "# User inputs\n",
    "TransMat = np.matrix(\"\"\"\n",
    "90.81, 8.33, 0.68, 0.06, 0.08, 0.02, 0.01, 0.01;\n",
    "0.70, 90.65, 7.79, 0.64, 0.06, 0.13, 0.02, 0.01;\n",
    "0.09, 2.27, 91.05, 5.52, 0.74, 0.26, 0.01, 0.06;\n",
    "0.02, 0.33, 5.95, 85.93, 5.30, 1.17, 1.12, 0.18;\n",
    "0.03, 0.14, 0.67, 7.73, 80.53, 8.84, 1.00, 1.06;\n",
    "0.01, 0.11, 0.24, 0.43, 6.48, 83.46, 4.07, 5.20;\n",
    "0.21, 0, 0.22, 1.30, 2.38, 11.24, 64.86, 19.79\"\"\")/100\n",
    "\n",
    "N = 3 # number of asset\n",
    "Nsim = 5000 # num sim for CVaR\n",
    "r = 0 # risk free rate\n",
    "exposure = np.matrix([1590899,1007000,188000]).T\n",
    "recover = 0.55\n",
    "LGD = 1- recover\n",
    "idx = [3, 1, 5] # rating index start at 0\n",
    "t= 1\n",
    "\n",
    "# correlation matrix\n",
    "rho = 0.4\n",
    "sigma = rho*np.ones((N,N))\n",
    "sigma = sigma -np.diag(np.diag(sigma)) + np.eye(N)\n",
    "\n",
    "# compute the cut off for each credit rating\n",
    "Z=np.cumsum(np.flipud(TransMat.T),0)\n",
    "Z[Z>=1] = 1-1/1e12;\n",
    "Z[Z<=0] = 0+1/1e12;\n",
    "\n",
    "CutOffs=norm.ppf(Z,0,1) # compute cut offes by inverting normal distribution\n",
    "\n",
    "# credit spread implied by transmat\n",
    "PD_t = TransMat[:,-1] # default probability at t\n",
    "credit_spread = -np.log(1-LGD*PD_t)/1\n",
    "\n",
    "# simulate jointly normals with sigma as vcov matrix\n",
    "# use cholesky decomposition\n",
    "\n",
    "c = cholesky(sigma)\n",
    "# cut off matrix for each bond based on their ratings\n",
    "cut = np.matrix(CutOffs[:,idx]).T\n",
    "# reference value \n",
    "EV = np.multiply(exposure, np.exp(-(r+credit_spread[idx])*t))\n",
    "PORT_V = sum(EV)\n",
    "\n",
    "# bond state variable for security Value\n",
    "cp = np.tile(credit_spread.T,[N,1])\n",
    "state = np.multiply(exposure,np.exp(-(r+cp)*t))\n",
    "state = np.append(state,np.multiply(exposure,recover),axis=1) #last column is default case\n",
    "states = np.fliplr(state) # keep in same order as credit cutoff\n",
    "\n",
    "Loss=np.zeros((N,Nsim)) # initialization of value array for MC\n",
    "\n",
    "# Monte Carlo Simulation Nsim times\n",
    "for i in range(0,Nsim):\n",
    "    YY = np.matrix(np.random.normal(size=3))\n",
    "    rr = c*YY.T\n",
    "    rating = rr<cut\n",
    "    rate_idx = rating.shape[1]-np.sum(rating,1) # index of the rating\n",
    "    row_idx = range(0,N)\n",
    "    col_idx = np.squeeze(np.asarray(rate_idx))\n",
    "    V_t = states[row_idx,col_idx] # retrieve the corresponding state value of the exposure\n",
    "    Loss_t = V_t-EV.T\n",
    "    Loss[:,i] = Loss_t\n",
    "\n",
    "Portfolio_MC_Loss = np.sum(Loss,0)\n",
    "Port_Var = -1*np.percentile(Portfolio_MC_Loss,1)\n",
    "ES = -1*np.mean(Portfolio_MC_Loss[Portfolio_MC_Loss<-1*Port_Var])"
   ]
  },
  {
   "cell_type": "code",
   "execution_count": 17,
   "metadata": {},
   "outputs": [
    {
     "name": "stdout",
     "output_type": "stream",
     "text": [
      "301915.30904099985\n"
     ]
    }
   ],
   "source": [
    "print(ES)"
   ]
  }
 ],
 "metadata": {
  "kernelspec": {
   "display_name": "rivapy",
   "language": "python",
   "name": "python3"
  },
  "language_info": {
   "codemirror_mode": {
    "name": "ipython",
    "version": 3
   },
   "file_extension": ".py",
   "mimetype": "text/x-python",
   "name": "python",
   "nbconvert_exporter": "python",
   "pygments_lexer": "ipython3",
   "version": "3.8.18"
  }
 },
 "nbformat": 4,
 "nbformat_minor": 2
}
