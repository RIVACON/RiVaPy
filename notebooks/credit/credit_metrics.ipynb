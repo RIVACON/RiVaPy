{
 "cells": [
  {
   "cell_type": "code",
   "execution_count": 133,
   "metadata": {},
   "outputs": [],
   "source": [
    "from __future__ import division\n",
    "import pandas as pd\n",
    "import numpy as np\n",
    "from scipy.stats import norm\n",
    "import sys\n",
    "import math\n",
    "from scipy.linalg import sqrtm\n",
    "from random import seed\n",
    "from random import random\n",
    "import plotly.express as px\n",
    "from pandas_datareader import data as pdr\n",
    "from datetime import date\n",
    "import yfinance as yf\n",
    "yf.pdr_override()\n",
    "\n",
    "from numpy.linalg import cholesky\n"
   ]
  },
  {
   "cell_type": "code",
   "execution_count": 135,
   "metadata": {},
   "outputs": [
    {
     "name": "stdout",
     "output_type": "stream",
     "text": [
      "[*********************100%***********************]  1 of 1 completed\n"
     ]
    },
    {
     "data": {
      "text/html": [
       "<div>\n",
       "<style scoped>\n",
       "    .dataframe tbody tr th:only-of-type {\n",
       "        vertical-align: middle;\n",
       "    }\n",
       "\n",
       "    .dataframe tbody tr th {\n",
       "        vertical-align: top;\n",
       "    }\n",
       "\n",
       "    .dataframe thead th {\n",
       "        text-align: right;\n",
       "    }\n",
       "</style>\n",
       "<table border=\"1\" class=\"dataframe\">\n",
       "  <thead>\n",
       "    <tr style=\"text-align: right;\">\n",
       "      <th></th>\n",
       "      <th>Close</th>\n",
       "    </tr>\n",
       "    <tr>\n",
       "      <th>Date</th>\n",
       "      <th></th>\n",
       "    </tr>\n",
       "  </thead>\n",
       "  <tbody>\n",
       "    <tr>\n",
       "      <th>2007-12-28</th>\n",
       "      <td>17.900000</td>\n",
       "    </tr>\n",
       "    <tr>\n",
       "      <th>2008-01-09</th>\n",
       "      <td>17.350000</td>\n",
       "    </tr>\n",
       "    <tr>\n",
       "      <th>2008-01-10</th>\n",
       "      <td>16.500000</td>\n",
       "    </tr>\n",
       "    <tr>\n",
       "      <th>2008-01-11</th>\n",
       "      <td>17.100000</td>\n",
       "    </tr>\n",
       "    <tr>\n",
       "      <th>2008-01-14</th>\n",
       "      <td>17.500000</td>\n",
       "    </tr>\n",
       "    <tr>\n",
       "      <th>...</th>\n",
       "      <td>...</td>\n",
       "    </tr>\n",
       "    <tr>\n",
       "      <th>2018-08-14</th>\n",
       "      <td>23.040001</td>\n",
       "    </tr>\n",
       "    <tr>\n",
       "      <th>2018-08-15</th>\n",
       "      <td>22.770000</td>\n",
       "    </tr>\n",
       "    <tr>\n",
       "      <th>2018-08-16</th>\n",
       "      <td>23.129999</td>\n",
       "    </tr>\n",
       "    <tr>\n",
       "      <th>2018-08-17</th>\n",
       "      <td>23.100000</td>\n",
       "    </tr>\n",
       "    <tr>\n",
       "      <th>2018-08-20</th>\n",
       "      <td>23.309999</td>\n",
       "    </tr>\n",
       "  </tbody>\n",
       "</table>\n",
       "<p>352 rows × 1 columns</p>\n",
       "</div>"
      ],
      "text/plain": [
       "                Close\n",
       "Date                 \n",
       "2007-12-28  17.900000\n",
       "2008-01-09  17.350000\n",
       "2008-01-10  16.500000\n",
       "2008-01-11  17.100000\n",
       "2008-01-14  17.500000\n",
       "...               ...\n",
       "2018-08-14  23.040001\n",
       "2018-08-15  22.770000\n",
       "2018-08-16  23.129999\n",
       "2018-08-17  23.100000\n",
       "2018-08-20  23.309999\n",
       "\n",
       "[352 rows x 1 columns]"
      ]
     },
     "execution_count": 135,
     "metadata": {},
     "output_type": "execute_result"
    }
   ],
   "source": [
    "pdr.get_data_yahoo('LHA','2007-04-02','2022-03-14')[['Close']]"
   ]
  },
  {
   "cell_type": "code",
   "execution_count": 2,
   "metadata": {},
   "outputs": [],
   "source": [
    "np.set_printoptions(formatter={'float': '{: 0.5f}'.format})"
   ]
  },
  {
   "cell_type": "code",
   "execution_count": 3,
   "metadata": {},
   "outputs": [],
   "source": [
    "# User inputs\n",
    "TransMat = np.matrix(\"\"\"\n",
    "90.81, 8.33, 0.68, 0.06, 0.08, 0.02, 0.01, 0.01;\n",
    "0.70, 90.65, 7.79, 0.64, 0.06, 0.13, 0.02, 0.01;\n",
    "0.09, 2.27, 91.05, 5.52, 0.74, 0.26, 0.01, 0.06;\n",
    "0.02, 0.33, 5.95, 85.93, 5.30, 1.17, 1.12, 0.18;\n",
    "0.03, 0.14, 0.67, 7.73, 80.53, 8.84, 1.00, 1.06;\n",
    "0.01, 0.11, 0.24, 0.43, 6.48, 83.46, 4.07, 5.20;\n",
    "0.21, 0, 0.22, 1.30, 2.38, 11.24, 64.86, 19.79\"\"\")/100"
   ]
  },
  {
   "cell_type": "code",
   "execution_count": null,
   "metadata": {},
   "outputs": [],
   "source": []
  },
  {
   "cell_type": "code",
   "execution_count": 4,
   "metadata": {},
   "outputs": [],
   "source": [
    "positions = pd.read_excel(\"C:/Users/Anwender/Desktop/Datenmodell_Krediportfoliomodell.xlsx\", \"Positions\")\n",
    "issuer = pd.read_excel(\"C:/Users/Anwender/Desktop/Datenmodell_Krediportfoliomodell.xlsx\", \"Issuer\")"
   ]
  },
  {
   "cell_type": "code",
   "execution_count": 124,
   "metadata": {},
   "outputs": [],
   "source": [
    "marketDataDAX = pd.read_excel(\"C:/Users/Anwender/Desktop/^GDAXI.xlsx\", \"DAX\").rename(columns={\"Close\" : \"Close_Dax\"})\n",
    "marketDataBASF = pd.read_excel(\"C:/Users/Anwender/Desktop/^GDAXI.xlsx\", \"BASF\").rename(columns={\"Close\" : \"Close_BASF\"})\n",
    "marketDataLHA = pd.read_excel(\"C:/Users/Anwender/Desktop/^GDAXI.xlsx\", \"Lufthansa\").rename(columns={\"Close\" : \"Close_LHA\"})\n",
    "marketDataVW = pd.read_excel(\"C:/Users/Anwender/Desktop/^GDAXI.xlsx\", \"Volkswagen\").rename(columns={\"Close\" : \"Close_VW\"})"
   ]
  },
  {
   "cell_type": "code",
   "execution_count": 125,
   "metadata": {},
   "outputs": [],
   "source": [
    "marketDataDAX = marketDataDAX[marketDataDAX[\"Date\"]>='2007-04-02']"
   ]
  },
  {
   "cell_type": "code",
   "execution_count": 126,
   "metadata": {},
   "outputs": [],
   "source": [
    "mergedData = marketDataDAX[['Date', 'Close_Dax']].merge(marketDataBASF[['Date', 'Close_BASF']], on='Date', how='left').merge(marketDataLHA[['Date', 'Close_LHA']], on='Date', how='left').merge(marketDataVW[['Date', 'Close_VW']], on='Date', how='left')"
   ]
  },
  {
   "cell_type": "code",
   "execution_count": 128,
   "metadata": {},
   "outputs": [
    {
     "data": {
      "text/html": [
       "<div>\n",
       "<style scoped>\n",
       "    .dataframe tbody tr th:only-of-type {\n",
       "        vertical-align: middle;\n",
       "    }\n",
       "\n",
       "    .dataframe tbody tr th {\n",
       "        vertical-align: top;\n",
       "    }\n",
       "\n",
       "    .dataframe thead th {\n",
       "        text-align: right;\n",
       "    }\n",
       "</style>\n",
       "<table border=\"1\" class=\"dataframe\">\n",
       "  <thead>\n",
       "    <tr style=\"text-align: right;\">\n",
       "      <th></th>\n",
       "      <th>Close_Dax</th>\n",
       "      <th>Close_BASF</th>\n",
       "      <th>Close_LHA</th>\n",
       "      <th>Close_VW</th>\n",
       "    </tr>\n",
       "  </thead>\n",
       "  <tbody>\n",
       "    <tr>\n",
       "      <th>0</th>\n",
       "      <td>NaN</td>\n",
       "      <td>NaN</td>\n",
       "      <td>NaN</td>\n",
       "      <td>NaN</td>\n",
       "    </tr>\n",
       "    <tr>\n",
       "      <th>1</th>\n",
       "      <td>0.015797</td>\n",
       "      <td>0.028236</td>\n",
       "      <td>0.029316</td>\n",
       "      <td>0.005050</td>\n",
       "    </tr>\n",
       "    <tr>\n",
       "      <th>2</th>\n",
       "      <td>0.018091</td>\n",
       "      <td>0.004371</td>\n",
       "      <td>-0.002713</td>\n",
       "      <td>0.025480</td>\n",
       "    </tr>\n",
       "    <tr>\n",
       "      <th>3</th>\n",
       "      <td>0.004846</td>\n",
       "      <td>-0.020868</td>\n",
       "      <td>0.006346</td>\n",
       "      <td>-0.024497</td>\n",
       "    </tr>\n",
       "    <tr>\n",
       "      <th>4</th>\n",
       "      <td>0.018791</td>\n",
       "      <td>0.005471</td>\n",
       "      <td>-0.007658</td>\n",
       "      <td>-0.008969</td>\n",
       "    </tr>\n",
       "    <tr>\n",
       "      <th>...</th>\n",
       "      <td>...</td>\n",
       "      <td>...</td>\n",
       "      <td>...</td>\n",
       "      <td>...</td>\n",
       "    </tr>\n",
       "    <tr>\n",
       "      <th>776</th>\n",
       "      <td>-0.024804</td>\n",
       "      <td>-0.020818</td>\n",
       "      <td>-0.001326</td>\n",
       "      <td>-0.051020</td>\n",
       "    </tr>\n",
       "    <tr>\n",
       "      <th>777</th>\n",
       "      <td>-0.031596</td>\n",
       "      <td>-0.101546</td>\n",
       "      <td>-0.046191</td>\n",
       "      <td>-0.000827</td>\n",
       "    </tr>\n",
       "    <tr>\n",
       "      <th>778</th>\n",
       "      <td>-0.101096</td>\n",
       "      <td>-0.152739</td>\n",
       "      <td>-0.195241</td>\n",
       "      <td>-0.183775</td>\n",
       "    </tr>\n",
       "    <tr>\n",
       "      <th>779</th>\n",
       "      <td>0.040748</td>\n",
       "      <td>0.052344</td>\n",
       "      <td>0.153208</td>\n",
       "      <td>0.024341</td>\n",
       "    </tr>\n",
       "    <tr>\n",
       "      <th>780</th>\n",
       "      <td>0.055763</td>\n",
       "      <td>0.012621</td>\n",
       "      <td>0.054881</td>\n",
       "      <td>0.081188</td>\n",
       "    </tr>\n",
       "  </tbody>\n",
       "</table>\n",
       "<p>781 rows × 4 columns</p>\n",
       "</div>"
      ],
      "text/plain": [
       "     Close_Dax  Close_BASF  Close_LHA  Close_VW\n",
       "0          NaN         NaN        NaN       NaN\n",
       "1     0.015797    0.028236   0.029316  0.005050\n",
       "2     0.018091    0.004371  -0.002713  0.025480\n",
       "3     0.004846   -0.020868   0.006346 -0.024497\n",
       "4     0.018791    0.005471  -0.007658 -0.008969\n",
       "..         ...         ...        ...       ...\n",
       "776  -0.024804   -0.020818  -0.001326 -0.051020\n",
       "777  -0.031596   -0.101546  -0.046191 -0.000827\n",
       "778  -0.101096   -0.152739  -0.195241 -0.183775\n",
       "779   0.040748    0.052344   0.153208  0.024341\n",
       "780   0.055763    0.012621   0.054881  0.081188\n",
       "\n",
       "[781 rows x 4 columns]"
      ]
     },
     "execution_count": 128,
     "metadata": {},
     "output_type": "execute_result"
    }
   ],
   "source": [
    "mergedData = mergedData.drop(['Date'], axis=1)\n",
    "returns = mergedData.pct_change()\n",
    "returns"
   ]
  },
  {
   "cell_type": "code",
   "execution_count": 144,
   "metadata": {},
   "outputs": [
    {
     "data": {
      "text/html": [
       "<div>\n",
       "<style scoped>\n",
       "    .dataframe tbody tr th:only-of-type {\n",
       "        vertical-align: middle;\n",
       "    }\n",
       "\n",
       "    .dataframe tbody tr th {\n",
       "        vertical-align: top;\n",
       "    }\n",
       "\n",
       "    .dataframe thead th {\n",
       "        text-align: right;\n",
       "    }\n",
       "</style>\n",
       "<table border=\"1\" class=\"dataframe\">\n",
       "  <thead>\n",
       "    <tr style=\"text-align: right;\">\n",
       "      <th></th>\n",
       "      <th>Close_Dax</th>\n",
       "      <th>Close_BASF</th>\n",
       "      <th>Close_LHA</th>\n",
       "      <th>Close_VW</th>\n",
       "    </tr>\n",
       "  </thead>\n",
       "  <tbody>\n",
       "    <tr>\n",
       "      <th>Close_Dax</th>\n",
       "      <td>1.000000</td>\n",
       "      <td>0.865773</td>\n",
       "      <td>0.613133</td>\n",
       "      <td>0.508473</td>\n",
       "    </tr>\n",
       "    <tr>\n",
       "      <th>Close_BASF</th>\n",
       "      <td>0.865773</td>\n",
       "      <td>1.000000</td>\n",
       "      <td>0.570253</td>\n",
       "      <td>0.404331</td>\n",
       "    </tr>\n",
       "    <tr>\n",
       "      <th>Close_LHA</th>\n",
       "      <td>0.613133</td>\n",
       "      <td>0.570253</td>\n",
       "      <td>1.000000</td>\n",
       "      <td>0.279816</td>\n",
       "    </tr>\n",
       "    <tr>\n",
       "      <th>Close_VW</th>\n",
       "      <td>0.508473</td>\n",
       "      <td>0.404331</td>\n",
       "      <td>0.279816</td>\n",
       "      <td>1.000000</td>\n",
       "    </tr>\n",
       "  </tbody>\n",
       "</table>\n",
       "</div>"
      ],
      "text/plain": [
       "            Close_Dax  Close_BASF  Close_LHA  Close_VW\n",
       "Close_Dax    1.000000    0.865773   0.613133  0.508473\n",
       "Close_BASF   0.865773    1.000000   0.570253  0.404331\n",
       "Close_LHA    0.613133    0.570253   1.000000  0.279816\n",
       "Close_VW     0.508473    0.404331   0.279816  1.000000"
      ]
     },
     "execution_count": 144,
     "metadata": {},
     "output_type": "execute_result"
    }
   ],
   "source": [
    "correlation_mat = returns.corr()\n",
    "correlation_mat"
   ]
  },
  {
   "cell_type": "code",
   "execution_count": 145,
   "metadata": {},
   "outputs": [
    {
     "name": "stdout",
     "output_type": "stream",
     "text": [
      "0.8657731142064324\n"
     ]
    }
   ],
   "source": [
    "corr_pairs = correlation_mat.unstack()\n",
    "\n",
    "print(corr_pairs['Close_Dax','Close_BASF'])"
   ]
  },
  {
   "cell_type": "code",
   "execution_count": 5,
   "metadata": {},
   "outputs": [],
   "source": [
    "n_issuer = issuer[\"IssuerID\"].nunique()\n",
    "Nsim = 5000 # num sim for CVaR\n",
    "r = 0 # risk free rate\n",
    "t= 1"
   ]
  },
  {
   "cell_type": "code",
   "execution_count": 6,
   "metadata": {},
   "outputs": [],
   "source": [
    "rating_map = pd.DataFrame({'Rating': [\"AAA\", \"AA\", \"A\", \"BBB\", \"BB\", \"B\", \"CCC\", \"D\"], 'RatingID': [0, 1, 2, 3, 4, 5, 6, 7]})\n",
    "issuer_adj = issuer.merge(rating_map, on = \"Rating\", how = \"left\")\n",
    "positions_adj = positions.merge(issuer_adj[[\"IssuerID\",\"Rating\",\"RatingID\"]], on = \"IssuerID\", how = \"left\")"
   ]
  },
  {
   "cell_type": "code",
   "execution_count": 51,
   "metadata": {},
   "outputs": [],
   "source": [
    "def get_correlation_matrix (rho, n):\n",
    "    sigma = rho*np.ones((n,n))\n",
    "    sigma = sigma -np.diag(np.diag(sigma)) + np.eye(n)\n",
    "    return sigma\n",
    "\n",
    "def get_cutoffs_rating(transition_matrix):\n",
    "    Z=np.cumsum(np.flipud(transition_matrix.T),0)\n",
    "    Z[Z>=(1-1/1e12)] = 1-1/1e12;\n",
    "    Z[Z<=(0+1/1e12)] = 0+1/1e12;\n",
    "\n",
    "    CutOffs=norm.ppf(Z,0,1) # compute cut offes by inverting normal distribution\n",
    "    return(CutOffs)\n",
    "\n",
    "def get_cholesky_decomposition(rho, n):\n",
    "    # simulate jointly normals with sigma as vcov matrix\n",
    "    # use cholesky decomposition\n",
    "\n",
    "    sigma = get_correlation_matrix(rho, n)\n",
    "    c = cholesky(sigma)\n",
    "\n",
    "    return(c)\n",
    "\n",
    "def get_cut_ratings(transition_matrix, index_rating):\n",
    "    \n",
    "    # idx = position_data[\"RatingID\"]\n",
    "    cutOffs = get_cutoffs_rating(transition_matrix)\n",
    "    # cut off matrix for each bond based on their ratings\n",
    "    cut = np.matrix(cutOffs[:,index_rating]).T\n",
    "\n",
    "    return(cut)\n",
    "\n",
    "def get_credit_spreads(transition_matrix, LGD):\n",
    "    # credit spread implied by transmat\n",
    "    PD_t = transition_matrix[:,-1] # default probability at t\n",
    "    credit_spread = -np.log(1-LGD*PD_t)/1\n",
    "    \n",
    "    return(credit_spread)\n",
    "\n",
    "def get_expected_value (r, position_data,  transition_matrix, t):\n",
    "    exposure = np.matrix(position_data[\"Exposure\"]).T\n",
    "    # print(exposure)\n",
    "    idx = position_data[\"RatingID\"]\n",
    "    # print(idx)\n",
    "    LGD = 0.45\n",
    "    credit_spread = get_credit_spreads(transition_matrix, LGD)\n",
    "    # print(credit_spread)\n",
    "    EV = np.multiply(exposure, np.exp(-(r+credit_spread[idx])*t))\n",
    "\n",
    "    return(EV)\n",
    "\n",
    "def get_states (transition_matrix, position_data, r, t):\n",
    "    # bond state variable for security Value\n",
    "    LGD = 0.45\n",
    "    recover = 0.55\n",
    "    credit_spread = get_credit_spreads(transition_matrix, LGD)\n",
    "    cp = np.tile(credit_spread.T,[position_data[\"InstrumentID\"].nunique(),1])\n",
    "    # print(cp)\n",
    "    exposure = np.matrix(position_data[\"Exposure\"]).T\n",
    "    # print(exposure)\n",
    "    state = np.multiply(exposure,np.exp(-(r+cp)*t))\n",
    "    # print(state)\n",
    "    state = np.append(state,np.multiply(exposure,recover),axis=1) #last column is default case\n",
    "    # print(state)\n",
    "    states = np.fliplr(state) # keep in same order as credit cutoff\n",
    "    # print(states)\n",
    "\n",
    "    return(states)\n",
    "\n",
    "def mc_calculation(rho, n_issuer, n_simulation, transition_matrix, position_data, r, t):\n",
    "    # c = get_cholesky_distribution(rho, n_issuer)\n",
    "    # cut = get_cut_ratings(transition_matrix, position_data)\n",
    "    cutOffs = get_cutoffs_rating(transition_matrix)\n",
    "    states = get_states (transition_matrix, position_data, r, t)\n",
    "    EV = get_expected_value (r, position_data,  transition_matrix, t)\n",
    "    n_positions = position_data[\"InstrumentID\"].nunique()\n",
    "    Loss = np.zeros((n_simulation,n_positions))\n",
    "    # np.random.seed(1)\n",
    "\n",
    "    for i in range(0,n_simulation):\n",
    "        YY = norm.ppf(np.random.rand())\n",
    "        # rr=c*YY.T\n",
    "        rr = YY*rho\n",
    "        for j in range (0,n_positions):\n",
    "            YY_ido = norm.ppf(np.random.rand())\n",
    "            #corr_idio=np.sqrt((1-(c*c)))\n",
    "            rr_idio=np.sqrt(1-(rho**2))*YY_ido\n",
    "            # print(rr_idio)\n",
    "            rr_all=rr+rr_idio\n",
    "            # print(rr_all)\n",
    "            rating = np.array(rr_all<np.matrix(cutOffs[:,position_data.loc[j,\"RatingID\"]]).T)\n",
    "            rate_idx = len(rating) - np.sum(rating,0)\n",
    "            # print(rate_idx)\n",
    "            col_idx = rate_idx\n",
    "            V_t = states[j,col_idx] # retrieve the corresponding state value of the exposure\n",
    "            Loss_t = V_t-EV.item(j)\n",
    "            # print(Loss_t)\n",
    "            Loss[i,j] = Loss_t\n",
    "            # print(Loss)\n",
    "\n",
    "    # Portfolio_MC_Loss = np.sum(Loss,1)\n",
    "    return(Loss)\n",
    "\n",
    "def get_Loss_distribution (rho, n_issuer, n_simulation, transition_matrix, position_data, r, t):\n",
    "    Loss = mc_calculation(rho, n_issuer, n_simulation, transition_matrix, position_data, r, t)\n",
    "    Portfolio_MC_Loss = np.sum(Loss,1)\n",
    "\n",
    "    return(Portfolio_MC_Loss)\n",
    "\n",
    "def get_portfolio_VaR(rho, n_issuer, n_simulation, transition_matrix, position_data, r, t, confidencelevel):\n",
    "    loss_Distribution = get_Loss_distribution(rho, n_issuer, n_simulation, transition_matrix, position_data, r, t)\n",
    "    Port_Var = -1*np.percentile(loss_Distribution,confidencelevel)\n",
    "\n",
    "    return(Port_Var)\n",
    "\n",
    "def get_portfolio_ES(rho, n_issuer, n_simulation, transition_matrix, position_data, r, t, confidencelevel):\n",
    "    loss_Distribution = get_Loss_distribution(rho, n_issuer, n_simulation, transition_matrix, position_data, r, t)\n",
    "    portVar = get_portfolio_VaR(rho, n_issuer, n_simulation, transition_matrix, position_data, r, t, confidencelevel)\n",
    "\n",
    "    expectedShortfall = -1*np.mean(loss_Distribution[loss_Distribution<-1*portVar])\n",
    "\n",
    "    return(expectedShortfall)"
   ]
  },
  {
   "cell_type": "code",
   "execution_count": 52,
   "metadata": {},
   "outputs": [
    {
     "data": {
      "text/plain": [
       "128142.0"
      ]
     },
     "execution_count": 52,
     "metadata": {},
     "output_type": "execute_result"
    }
   ],
   "source": [
    "var = get_portfolio_VaR(0.2, n_issuer, 5000, TransMat, positions_adj, r, t, 1)\n",
    "var"
   ]
  },
  {
   "cell_type": "code",
   "execution_count": 53,
   "metadata": {},
   "outputs": [],
   "source": [
    "tmp = get_Loss_distribution(0.2, n_issuer, 5000, TransMat, positions_adj, r, t)\n"
   ]
  },
  {
   "cell_type": "code",
   "execution_count": 54,
   "metadata": {},
   "outputs": [],
   "source": [
    "tmp.sort()"
   ]
  },
  {
   "cell_type": "code",
   "execution_count": 55,
   "metadata": {},
   "outputs": [
    {
     "data": {
      "text/plain": [
       "array([-262966.50000, -135009.00000, -134919.00000, ...,  6939.00000,\n",
       "        7006.50000,  7006.50000])"
      ]
     },
     "execution_count": 55,
     "metadata": {},
     "output_type": "execute_result"
    }
   ],
   "source": [
    "tmp"
   ]
  },
  {
   "cell_type": "code",
   "execution_count": 57,
   "metadata": {},
   "outputs": [
    {
     "data": {
      "text/plain": [
       "130120.07142857143"
      ]
     },
     "execution_count": 57,
     "metadata": {},
     "output_type": "execute_result"
    }
   ],
   "source": [
    "es = get_portfolio_ES(0.2, n_issuer, 2000, TransMat, positions_adj, r, t, 1)\n",
    "es"
   ]
  },
  {
   "cell_type": "code",
   "execution_count": 8,
   "metadata": {},
   "outputs": [],
   "source": [
    "lossDistribution = mc_calculation(0.2, n_issuer, 20000, TransMat, positions_adj, r, t)\n",
    "test_df = pd.DataFrame(lossDistribution)\n",
    "Port_Var = -1*np.percentile(lossDistribution,1)"
   ]
  },
  {
   "cell_type": "code",
   "execution_count": 10,
   "metadata": {},
   "outputs": [
    {
     "data": {
      "text/html": [
       "<div>\n",
       "<style scoped>\n",
       "    .dataframe tbody tr th:only-of-type {\n",
       "        vertical-align: middle;\n",
       "    }\n",
       "\n",
       "    .dataframe tbody tr th {\n",
       "        vertical-align: top;\n",
       "    }\n",
       "\n",
       "    .dataframe thead th {\n",
       "        text-align: right;\n",
       "    }\n",
       "</style>\n",
       "<table border=\"1\" class=\"dataframe\">\n",
       "  <thead>\n",
       "    <tr style=\"text-align: right;\">\n",
       "      <th></th>\n",
       "      <th>Value</th>\n",
       "      <th>Count</th>\n",
       "    </tr>\n",
       "  </thead>\n",
       "  <tbody>\n",
       "    <tr>\n",
       "      <th>132</th>\n",
       "      <td>-1822.5</td>\n",
       "      <td>1</td>\n",
       "    </tr>\n",
       "    <tr>\n",
       "      <th>152</th>\n",
       "      <td>-1035.0</td>\n",
       "      <td>1</td>\n",
       "    </tr>\n",
       "    <tr>\n",
       "      <th>154</th>\n",
       "      <td>-967.5</td>\n",
       "      <td>1</td>\n",
       "    </tr>\n",
       "    <tr>\n",
       "      <th>157</th>\n",
       "      <td>-594.0</td>\n",
       "      <td>1</td>\n",
       "    </tr>\n",
       "    <tr>\n",
       "      <th>158</th>\n",
       "      <td>-553.5</td>\n",
       "      <td>1</td>\n",
       "    </tr>\n",
       "    <tr>\n",
       "      <th>...</th>\n",
       "      <td>...</td>\n",
       "      <td>...</td>\n",
       "    </tr>\n",
       "    <tr>\n",
       "      <th>207</th>\n",
       "      <td>-22.5</td>\n",
       "      <td>799</td>\n",
       "    </tr>\n",
       "    <tr>\n",
       "      <th>206</th>\n",
       "      <td>-45.0</td>\n",
       "      <td>848</td>\n",
       "    </tr>\n",
       "    <tr>\n",
       "      <th>191</th>\n",
       "      <td>-162.0</td>\n",
       "      <td>1135</td>\n",
       "    </tr>\n",
       "    <tr>\n",
       "      <th>205</th>\n",
       "      <td>-67.5</td>\n",
       "      <td>1674</td>\n",
       "    </tr>\n",
       "    <tr>\n",
       "      <th>208</th>\n",
       "      <td>0.0</td>\n",
       "      <td>9832</td>\n",
       "    </tr>\n",
       "  </tbody>\n",
       "</table>\n",
       "<p>266 rows × 2 columns</p>\n",
       "</div>"
      ],
      "text/plain": [
       "      Value  Count\n",
       "132 -1822.5      1\n",
       "152 -1035.0      1\n",
       "154  -967.5      1\n",
       "157  -594.0      1\n",
       "158  -553.5      1\n",
       "..      ...    ...\n",
       "207   -22.5    799\n",
       "206   -45.0    848\n",
       "191  -162.0   1135\n",
       "205   -67.5   1674\n",
       "208     0.0   9832\n",
       "\n",
       "[266 rows x 2 columns]"
      ]
     },
     "execution_count": 10,
     "metadata": {},
     "output_type": "execute_result"
    }
   ],
   "source": [
    "test_df = test_df.rename(columns={0: \"Value\"})\n",
    "test_df.groupby([\"Value\"]).size().reset_index(name='Count').sort_values(\"Count\")"
   ]
  },
  {
   "cell_type": "code",
   "execution_count": null,
   "metadata": {},
   "outputs": [],
   "source": [
    "px.histogram(test_df)"
   ]
  }
 ],
 "metadata": {
  "interpreter": {
   "hash": "6adee53c13be7cf8582dc470917a193e541c9e29837d59b0c484fc99790beedb"
  },
  "kernelspec": {
   "display_name": "Python 3.8.8 ('base')",
   "language": "python",
   "name": "python3"
  },
  "language_info": {
   "codemirror_mode": {
    "name": "ipython",
    "version": 3
   },
   "file_extension": ".py",
   "mimetype": "text/x-python",
   "name": "python",
   "nbconvert_exporter": "python",
   "pygments_lexer": "ipython3",
   "version": "3.8.8"
  },
  "orig_nbformat": 4
 },
 "nbformat": 4,
 "nbformat_minor": 2
}
