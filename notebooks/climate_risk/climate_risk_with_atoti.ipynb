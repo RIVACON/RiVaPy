{
 "cells": [
  {
   "attachments": {},
   "cell_type": "markdown",
   "metadata": {},
   "source": [
    "# Measure climate risk in the financial industry and aggregate risk figures with atoti"
   ]
  },
  {
   "attachments": {},
   "cell_type": "markdown",
   "metadata": {},
   "source": [
    "## Introduction"
   ]
  },
  {
   "attachments": {},
   "cell_type": "markdown",
   "metadata": {},
   "source": [
    "Climate risks have emerged as a critical concern in the financial sector, underscoring the need for a comprehensive understanding of their potential impact. The growing recognition of climate change as a global crisis has prompted increased attention from investors, regulators, and financial institutions alike. As the frequency and severity of extreme weather events, natural disasters, and shifts in climatic patterns intensify, the interconnectedness between climate change and the financial system becomes more apparent.\n",
    "\n",
    "Climate risks pose multifaceted challenges to the stability and resilience of financial markets, institutions, and portfolios. They encompass a wide range of factors, including physical risks arising from climate-related events, such as hurricanes, floods, and wildfires, as well as transition risks resulting from the shift towards a low-carbon economy. These transition risks stem from policy changes, technological advancements, market fluctuations, and evolving consumer preferences, among other factors.\n",
    "\n",
    "The financial sector is particularly vulnerable to climate risks due to its exposure to various industries and economic activities that contribute to greenhouse gas emissions. Investments in fossil fuel industries, for instance, face potential value degradation as the world moves towards cleaner and more sustainable energy sources. Additionally, climate risks can disrupt supply chains, impact asset valuations, increase insurance costs, and trigger market volatility, all of which have ripple effects throughout the global financial system.\n",
    "\n",
    "Recognizing the need to address climate risks, regulators and central banks worldwide have started implementing measures to ensure financial stability and resilience. These efforts involve stress testing financial institutions' exposure to climate risks, promoting disclosure and transparency of climate-related information, and developing frameworks for assessing and managing these risks. Investors are also increasingly incorporating environmental, social, and governance (ESG) factors into their decision-making processes, seeking sustainable investments that align with climate goals.\n",
    "\n",
    "Moreover, the growing demand for green finance and sustainable investment products presents new opportunities for financial institutions to play a crucial role in mitigating climate risks. By mobilizing capital towards climate-resilient and low-carbon initiatives, the financial sector can facilitate the transition to a more sustainable future while simultaneously managing its own exposure to climate risks."
   ]
  },
  {
   "attachments": {},
   "cell_type": "markdown",
   "metadata": {},
   "source": [
    "### Physical risks"
   ]
  },
  {
   "attachments": {},
   "cell_type": "markdown",
   "metadata": {},
   "source": [
    "Physical risks refer to the direct impacts of climate change on the physical environment and can have adverse effects on businesses and economies. These risks arise from extreme weather events such as hurricanes, floods, droughts, heatwaves, and wildfires, which can damage infrastructure, disrupt supply chains, and lead to property and asset losses. Rising sea levels pose a threat to coastal areas, increasing the likelihood of coastal erosion, inundation, and damage to coastal infrastructure. Changing precipitation patterns can affect agricultural productivity and water availability, impacting industries reliant on these resources. Overall, physical risks can result in financial losses, increased insurance costs, and decreased asset values."
   ]
  },
  {
   "attachments": {},
   "cell_type": "markdown",
   "metadata": {},
   "source": [
    "### Transition risks"
   ]
  },
  {
   "attachments": {},
   "cell_type": "markdown",
   "metadata": {},
   "source": [
    "Transition risks are associated with the shift towards a low-carbon economy and the policies, technologies, and market dynamics that drive this transition. As governments implement climate policies and regulations to reduce greenhouse gas emissions, businesses heavily dependent on fossil fuels may face stranded assets and reduced demand. Companies in high-emission sectors, such as coal, oil, and gas, may experience declining revenues and increased costs as carbon pricing mechanisms and stricter regulations are introduced. Technological advancements in renewable energy and energy efficiency can disrupt traditional industries, causing job losses and financial instability. Transition risks also include changes in consumer preferences and societal expectations, as growing awareness of climate change prompts shifts in demand towards sustainable products and services. These risks necessitate businesses and financial institutions to adapt their strategies and investment decisions to remain viable in a low-carbon economy."
   ]
  },
  {
   "attachments": {},
   "cell_type": "markdown",
   "metadata": {},
   "source": [
    "### Regulatory context"
   ]
  },
  {
   "attachments": {},
   "cell_type": "markdown",
   "metadata": {},
   "source": [
    "In recent years, there has been a growing recognition of the need to address climate risk in the financial industry. Europe has been at the forefront of efforts to integrate climate risk considerations into financial regulation. Several key regulatory initiatives have been undertaken to address climate risk in the European financial industry. Here are some important regulatory developments:\n",
    "\n",
    "1. **European Green Deal:** The European Green Deal is an ambitious plan by the European Union (EU) to make the region climate-neutral by 2050. It sets out a comprehensive framework for transitioning to a sustainable economy and includes measures to integrate climate risk considerations into financial regulation.\n",
    "\n",
    "2. **Sustainable Finance Disclosure Regulation (SFDR):** The SFDR is a regulation that came into effect in March 2021. It introduces disclosure requirements for financial market participants and financial advisors regarding the integration of sustainability factors, including climate-related risks, into their investment decision-making processes.\n",
    "\n",
    "3. **EU Taxonomy Regulation:** The EU Taxonomy Regulation establishes a classification system for environmentally sustainable economic activities. It provides a framework for determining whether an economic activity is environmentally sustainable and aims to facilitate sustainable investment by providing clarity and transparency to investors.\n",
    "\n",
    "4. **Non-Financial Reporting Directive (NFRD):** The NFRD requires large companies in the EU to disclose certain non-financial information, including environmental risks and impacts, in their annual reports. It provides a basis for companies to assess and disclose climate-related risks and impacts on their business operations.\n",
    "\n",
    "5. **European Central Bank (ECB) and Prudential Regulation Authority (PRA) Guidance:** The ECB and PRA have issued guidance to banks and financial institutions on incorporating climate-related and environmental risks into their risk management frameworks. This guidance encourages financial institutions to assess and disclose climate-related risks, develop stress testing scenarios, and enhance their risk management practices.\n",
    "\n",
    "6. **Network for Greening the Financial System (NGFS):** The NGFS is a network of central banks and supervisors that promotes the sharing of best practices and the development of common approaches to address climate-related risks. It aims to enhance the role of the financial sector in mobilizing capital for green and sustainable investments."
   ]
  },
  {
   "attachments": {},
   "cell_type": "markdown",
   "metadata": {},
   "source": [
    "### Objectives and impacts on different risk categories in measuring climate risks"
   ]
  },
  {
   "attachments": {},
   "cell_type": "markdown",
   "metadata": {},
   "source": [
    "### Unique Data Needs Inherent in Climate-Related Risks"
   ]
  },
  {
   "attachments": {},
   "cell_type": "markdown",
   "metadata": {},
   "source": [
    "#### Data describing physical and transition risk drivers\n",
    "Climate data and hazard event data belong to this data category. We can use these data as\n",
    "independent variables in order to alter existing economic relationships and influence economic\n",
    "outcomes. Government agencies and academic institutions usually provide this data type, while\n",
    "commercial third parties supply some.\n",
    "\n"
   ]
  },
  {
   "attachments": {},
   "cell_type": "markdown",
   "metadata": {},
   "source": [
    "#### Data describing the vulnerability of exposures"
   ]
  },
  {
   "attachments": {},
   "cell_type": "markdown",
   "metadata": {},
   "source": [
    "Banks and supervisors need information about the vulnerability of bank exposures to those risk factors. These data tend to include\n",
    "features specific to those exposures, such as geospatial data for corporates, location data for mortgage collateral, or data on the sensitivity of counterparties to energy prices. These data facilitate the translation of climate-adjusted economic risk factors into financial exposures. Counterparties'geospatial location primarily determines physical risk exposure. The vulnerability of bank exposures to transition risk depends, however, on the economic activity of counterparties within particular jurisdictions.\n",
    "\n",
    "Physical risks can result in the destruction of property and inventory, which can affect the economy. As a result, physical hazards should be sufficiently matched with the location of relevant physical touchpoints in order to assess the vulnerability of exposure to physical risks.\n",
    "It may also be necessary to collect information about interconnections between retail, corporate, and municipal borrowers in order to evaluate the impacts of deteriorating local\n",
    "economic conditions due to a severe or chronic weather event on the local economy. To assess the vulnerability of corporate counterparties' exposure to transition risk, data concerning their sectors and subsectors, as well as their carbon sensitivity, are often needed."
   ]
  },
  {
   "attachments": {},
   "cell_type": "markdown",
   "metadata": {},
   "source": [
    "#### Data to translate climate-adjusted economic risk factors into financial risk"
   ]
  },
  {
   "attachments": {},
   "cell_type": "markdown",
   "metadata": {},
   "source": [
    "tbd."
   ]
  },
  {
   "attachments": {},
   "cell_type": "markdown",
   "metadata": {},
   "source": [
    "### Potential methodologies to estimate climate-related financial risks"
   ]
  },
  {
   "attachments": {},
   "cell_type": "markdown",
   "metadata": {},
   "source": [
    "1. Integrated assessment models (IAM)\n",
    "2. Input-output models\n",
    "3. Computable general equilibrium (CGE)\n",
    "4. Dynamic stochastic general equilibrium (DSGE)\n",
    "5. Overlapping generation (OLG)\n",
    "6. Agent-based models (ABMs)\n",
    "7. Climate risk scores\n",
    "8. Scenario analysis\n",
    "9. Stress testing\n",
    "10. Sensitivity analysis\n",
    "11. Climate Value at Risk (VaR)"
   ]
  },
  {
   "attachments": {},
   "cell_type": "markdown",
   "metadata": {},
   "source": [
    "## Measure climate risks of a specific portfolio"
   ]
  },
  {
   "attachments": {},
   "cell_type": "markdown",
   "metadata": {},
   "source": [
    "### Target of this notebook"
   ]
  },
  {
   "attachments": {},
   "cell_type": "markdown",
   "metadata": {},
   "source": [
    "### Scenario design"
   ]
  },
  {
   "attachments": {},
   "cell_type": "markdown",
   "metadata": {},
   "source": [
    "### Translation of scenarios in financial impacts"
   ]
  },
  {
   "attachments": {},
   "cell_type": "markdown",
   "metadata": {},
   "source": []
  }
 ],
 "metadata": {
  "kernelspec": {
   "display_name": "base",
   "language": "python",
   "name": "python3"
  },
  "language_info": {
   "name": "python",
   "version": "3.8.8"
  },
  "orig_nbformat": 4
 },
 "nbformat": 4,
 "nbformat_minor": 2
}
