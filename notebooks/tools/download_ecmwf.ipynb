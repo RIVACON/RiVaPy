{
 "cells": [
  {
   "cell_type": "markdown",
   "metadata": {},
   "source": [
    "# Ensemble forecast ECMWF"
   ]
  },
  {
   "cell_type": "markdown",
   "metadata": {},
   "source": [
    "**Necessary installations**\n",
    "\n",
    "conda install -c conda-forge cfgrib\n",
    "\n",
    "conda install -c conda-forge eccodes\n",
    "\n",
    "python -m eccodes selfcheck\n",
    "\n",
    "pip install cfgrib\n",
    "\n",
    "pip install xarray>=0.10.9\n",
    "\n",
    "pip install ecmwf-opendata\n",
    "\n",
    "pip install ecmwf-data ecmwf-opendata magpye"
   ]
  },
  {
   "cell_type": "code",
   "execution_count": 1,
   "metadata": {},
   "outputs": [],
   "source": [
    "import ecmwf.data as ecdata\n",
    "from magpye import GeoMap\n",
    "from ecmwf.opendata import Client"
   ]
  },
  {
   "cell_type": "code",
   "execution_count": 8,
   "metadata": {},
   "outputs": [
    {
     "name": "stderr",
     "output_type": "stream",
     "text": [
      "                                                                                     \r"
     ]
    },
    {
     "name": "stdout",
     "output_type": "stream",
     "text": [
      "Too early for 20231211 6\n",
      "Too early for 20231211 12\n",
      "Too early for 20231211 18\n"
     ]
    }
   ],
   "source": [
    "import datetime as dt\n",
    "\n",
    "for date in [-3, -2, -1, 0]:\n",
    "    for time in [0,6,12,18]:   \n",
    "\n",
    "        forecast_date = (dt.datetime.now()+dt.timedelta(days=date)).strftime(\"%Y%m%d\")\n",
    "        client2 = Client(source=\"ecmwf\")\n",
    "\n",
    "        try:\n",
    "            client2.retrieve(date=date, time=time, \n",
    "                             stream=\"enfo\", type=['cf'], param=['u','v'],\n",
    "                             target='./data/'+str(forecast_date)+'_'+str(time)+'h_data.grib2')\n",
    "\n",
    "            if False: #convert to .nc file\n",
    "                import xarray\n",
    "                data = xarray.open_dataset('./data/'+str(forecast_date)+'_'+str(time)+'h_data.grib2', engine='cfgrib')\n",
    "                data.to_netcdf('./data/'+str(forecast_date)+'_'+str(time)+'h_data.nc')\n",
    "\n",
    "        except:\n",
    "            print(\"Too early for\", forecast_date, time)"
   ]
  }
 ],
 "metadata": {
  "kernelspec": {
   "display_name": "rivapy",
   "language": "python",
   "name": "python3"
  },
  "language_info": {
   "codemirror_mode": {
    "name": "ipython",
    "version": 3
   },
   "file_extension": ".py",
   "mimetype": "text/x-python",
   "name": "python",
   "nbconvert_exporter": "python",
   "pygments_lexer": "ipython3",
   "version": "3.8.18"
  }
 },
 "nbformat": 4,
 "nbformat_minor": 2
}
