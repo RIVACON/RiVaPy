{
 "cells": [
  {
   "cell_type": "markdown",
   "metadata": {},
   "source": [
    "# Ensemble forecast ECMWF"
   ]
  },
  {
   "cell_type": "markdown",
   "metadata": {},
   "source": [
    "**Necessary installations**\n",
    "\n",
    "conda install -c conda-forge cfgrib\n",
    "\n",
    "conda install -c conda-forge eccodes\n",
    "\n",
    "python -m eccodes selfcheck\n",
    "\n",
    "pip install cfgrib\n",
    "\n",
    "pip install xarray>=0.10.9\n",
    "\n",
    "pip install ecmwf-opendata\n",
    "\n",
    "pip install ecmwf-data ecmwf-opendata magpye"
   ]
  },
  {
   "cell_type": "code",
   "execution_count": 1,
   "metadata": {},
   "outputs": [
    {
     "name": "stderr",
     "output_type": "stream",
     "text": [
      "/home/doeltz/anaconda3/envs/wind/lib/python3.11/site-packages/gribapi/__init__.py:23: UserWarning: ecCodes 2.31.0 or higher is recommended. You are running version 2.30.0\n",
      "  warnings.warn(\n"
     ]
    }
   ],
   "source": [
    "import ecmwf.data as ecdata\n",
    "from magpye import GeoMap\n",
    "from ecmwf.opendata import Client"
   ]
  },
  {
   "cell_type": "code",
   "execution_count": null,
   "metadata": {},
   "outputs": [
    {
     "name": "stdout",
     "output_type": "stream",
     "text": [
      "Already downloaded: 20240210 0\n",
      "Already downloaded: 20240210 6\n",
      "Already downloaded: 20240210 12\n",
      "Already downloaded: 20240210 18\n",
      "Already downloaded: 20240211 0\n",
      "Already downloaded: 20240211 6\n",
      "Already downloaded: 20240211 12\n",
      "Already downloaded: 20240211 18\n",
      "Already downloaded: 20240212 0\n"
     ]
    },
    {
     "name": "stderr",
     "output_type": "stream",
     "text": [
      "                                                                                                                                                          \r"
     ]
    },
    {
     "name": "stdout",
     "output_type": "stream",
     "text": [
      "Download complete: 20240212 6\n"
     ]
    },
    {
     "name": "stderr",
     "output_type": "stream",
     "text": [
      "                                                                                                                                                          \r"
     ]
    },
    {
     "name": "stdout",
     "output_type": "stream",
     "text": [
      "Download complete: 20240212 12\n"
     ]
    },
    {
     "name": "stderr",
     "output_type": "stream",
     "text": [
      "                                                                                                                                                          \r"
     ]
    },
    {
     "name": "stdout",
     "output_type": "stream",
     "text": [
      "Download complete: 20240212 18\n"
     ]
    },
    {
     "name": "stderr",
     "output_type": "stream",
     "text": [
      "                                                                                                                                                          \r"
     ]
    },
    {
     "name": "stdout",
     "output_type": "stream",
     "text": [
      "Download complete: 20240213 0\n"
     ]
    },
    {
     "name": "stderr",
     "output_type": "stream",
     "text": [
      "                                                                                                                                                          \r"
     ]
    },
    {
     "name": "stdout",
     "output_type": "stream",
     "text": [
      "Download complete: 20240213 6\n"
     ]
    },
    {
     "name": "stderr",
     "output_type": "stream",
     "text": [
      "                                                                                                                                                          \r"
     ]
    },
    {
     "name": "stdout",
     "output_type": "stream",
     "text": [
      "Download complete: 20240213 12\n"
     ]
    },
    {
     "name": "stderr",
     "output_type": "stream",
     "text": [
      "                                                                                                                                                          \r"
     ]
    },
    {
     "name": "stdout",
     "output_type": "stream",
     "text": [
      "Download complete: 20240213 18\n"
     ]
    },
    {
     "name": "stderr",
     "output_type": "stream",
     "text": [
      "                                                                                                                                                          \r"
     ]
    },
    {
     "name": "stdout",
     "output_type": "stream",
     "text": [
      "Download complete: 20240214 0\n"
     ]
    },
    {
     "name": "stderr",
     "output_type": "stream",
     "text": [
      "                                                                                                                                                          \r"
     ]
    },
    {
     "name": "stdout",
     "output_type": "stream",
     "text": [
      "Download complete: 20240214 6\n"
     ]
    },
    {
     "name": "stderr",
     "output_type": "stream",
     "text": [
      "<multiple>:  42%|█████████████████████████████████████████▌                                                         | 1.20G/2.85G [01:54<1:46:55, 277kB/s]"
     ]
    }
   ],
   "source": [
    "import datetime as dt\n",
    "import os.path\n",
    "\n",
    "for date in [ -5, -4, -3, -2, -1, 0]:\n",
    "    for time in [0, 6, 12, 18]:\n",
    "\n",
    "        forecast_date = (dt.datetime.now()+dt.timedelta(days=date)).strftime(\"%Y%m%d\")\n",
    "        target = '/home/cf/data/weather/forecasts/'+str(forecast_date)+'_'+str(time)+'h_data.grib2' #TODO adapt to correct directory\n",
    "\n",
    "        if os.path.exists(target):\n",
    "            print('Already downloaded:', forecast_date, time)\n",
    "        else:\n",
    "            try:\n",
    "                client = Client(source=\"ecmwf\")\n",
    "                client.retrieve(date=date, time=time, \n",
    "                                stream=\"enfo\", type=['cf','pf'], \n",
    "                                param=['10u', '10v', 'u', 'v'], \n",
    "                                levelist=[850, 925, 1000],\n",
    "                                step=[0,3,6,9,12,15,18,21,24,27,30,33,36,39,42,45,48,51,54,57,60,63,66,69,72,75,78,81,84,87,90],\n",
    "                                target=target)\n",
    "                print('Download complete:', forecast_date, time)\n",
    "            except:\n",
    "                print('Not available:', forecast_date, time)"
   ]
  },
  {
   "cell_type": "code",
   "execution_count": null,
   "metadata": {},
   "outputs": [],
   "source": []
  }
 ],
 "metadata": {
  "kernelspec": {
   "display_name": "Python 3 (ipykernel)",
   "language": "python",
   "name": "python3"
  },
  "language_info": {
   "codemirror_mode": {
    "name": "ipython",
    "version": 3
   },
   "file_extension": ".py",
   "mimetype": "text/x-python",
   "name": "python",
   "nbconvert_exporter": "python",
   "pygments_lexer": "ipython3",
   "version": "3.11.5"
  }
 },
 "nbformat": 4,
 "nbformat_minor": 4
}
