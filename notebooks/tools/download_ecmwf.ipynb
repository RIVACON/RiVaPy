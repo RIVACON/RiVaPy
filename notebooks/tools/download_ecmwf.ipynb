{
 "cells": [
  {
   "cell_type": "markdown",
   "metadata": {},
   "source": [
    "# Ensemble forecast ECMWF"
   ]
  },
  {
   "cell_type": "markdown",
   "metadata": {},
   "source": [
    "**Necessary installations**\n",
    "\n",
    "conda install -c conda-forge cfgrib\n",
    "\n",
    "conda install -c conda-forge eccodes\n",
    "\n",
    "python -m eccodes selfcheck\n",
    "\n",
    "pip install cfgrib\n",
    "\n",
    "pip install xarray>=0.10.9\n",
    "\n",
    "pip install ecmwf-opendata\n",
    "\n",
    "pip install ecmwf-data ecmwf-opendata magpye"
   ]
  },
  {
   "cell_type": "code",
   "execution_count": 1,
   "metadata": {},
   "outputs": [],
   "source": [
    "import ecmwf.data as ecdata\n",
    "from magpye import GeoMap\n",
    "from ecmwf.opendata import Client"
   ]
  },
  {
   "cell_type": "code",
   "execution_count": 2,
   "metadata": {},
   "outputs": [
    {
     "name": "stdout",
     "output_type": "stream",
     "text": [
      "Already downloaded: 20231225 0\n",
      "Already downloaded: 20231225 6\n",
      "Already downloaded: 20231225 12\n",
      "Already downloaded: 20231225 18\n",
      "Already downloaded: 20231226 0\n",
      "Already downloaded: 20231226 6\n",
      "Already downloaded: 20231226 12\n",
      "Already downloaded: 20231226 18\n",
      "Already downloaded: 20231227 0\n",
      "Already downloaded: 20231227 6\n",
      "Already downloaded: 20231227 12\n",
      "Already downloaded: 20231227 18\n",
      "Already downloaded: 20231228 0\n",
      "Already downloaded: 20231228 6\n",
      "Not available: 20231228 12\n",
      "Not available: 20231228 18\n"
     ]
    }
   ],
   "source": [
    "import datetime as dt\n",
    "import os.path\n",
    "\n",
    "for date in [-3, -2, -1, 0]:\n",
    "    for time in [0, 6, 12, 18]:\n",
    "\n",
    "        forecast_date = (dt.datetime.now()+dt.timedelta(days=date)).strftime(\"%Y%m%d\")\n",
    "        target = './data/'+str(forecast_date)+'_'+str(time)+'h_data.grib2' #TODO adapt to correct directory\n",
    "\n",
    "        if os.path.exists(target):\n",
    "            print('Already downloaded:', forecast_date, time)\n",
    "        else:\n",
    "            try:\n",
    "                client = Client(source=\"ecmwf\")\n",
    "                client.retrieve(date=date, time=time, \n",
    "                                stream=\"enfo\", type=['cf','pf'], \n",
    "                                param=['10u', '10v', 'u', 'v'], \n",
    "                                levelist=[850, 925, 1000],\n",
    "                                step=[0,3,6,9,12,15,18,21,24,27,30,33,36,39,42,45,48,51,54,57,60,63,66,69,72,75,78,81,84,87,90],\n",
    "                                target=target)\n",
    "                print('Download complete:', forecast_date, time)\n",
    "            except:\n",
    "                print('Not available:', forecast_date, time)"
   ]
  }
 ],
 "metadata": {
  "kernelspec": {
   "display_name": "rivapy",
   "language": "python",
   "name": "python3"
  },
  "language_info": {
   "codemirror_mode": {
    "name": "ipython",
    "version": 3
   },
   "file_extension": ".py",
   "mimetype": "text/x-python",
   "name": "python",
   "nbconvert_exporter": "python",
   "pygments_lexer": "ipython3",
   "version": "3.8.18"
  }
 },
 "nbformat": 4,
 "nbformat_minor": 2
}
