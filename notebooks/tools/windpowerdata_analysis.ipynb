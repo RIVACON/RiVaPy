{
 "cells": [
  {
   "cell_type": "markdown",
   "metadata": {},
   "source": [
    "# Wind (Onshore) Power Data Analysis\n"
   ]
  },
  {
   "cell_type": "markdown",
   "metadata": {},
   "source": [
    "We use the \"EMHIRES dataset: wind and solar power generation data set\" (cf. https://setis.ec.europa.eu/emhires-dataset-part-i-wind-power-generation_en and  https://zenodo.org/records/8340501).\n",
    "The data set provides wind power time series (onshore) at hourly granularity and at a NUTS 2 (cf. the European Nomenclature of territorial  units for statistics (NUTS) defined by EUROSTAT,“EUROSTAT European Statistics,” [Online]. Available: http://ec.europa.eu/eurostat/web/nuts/history) aggregation level.\n",
    "\n",
    "Gonzalez-Aparicio, I., Zucker, A., Careri, F., Monforti, F., Huld, T., & Badger, J. (2021). EMHIRES dataset: wind and solar power generation [Data set]. Zenodo. https://doi.org/10.5281/zenodo.8340501\n",
    "\n",
    " "
   ]
  },
  {
   "cell_type": "code",
   "execution_count": null,
   "metadata": {},
   "outputs": [],
   "source": []
  },
  {
   "cell_type": "markdown",
   "metadata": {},
   "source": []
  }
 ],
 "metadata": {
  "language_info": {
   "name": "python"
  }
 },
 "nbformat": 4,
 "nbformat_minor": 2
}
