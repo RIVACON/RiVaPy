{
 "cells": [
  {
   "cell_type": "code",
   "execution_count": 1,
   "source": [
    "import rivapy\r\n",
    "import datetime as dt\r\n",
    "import math\r\n",
    "import datetime as dt\r\n",
    "import pandas as pd\r\n",
    "from datetime import timedelta\r\n",
    "import matplotlib.pyplot as plt\r\n",
    "import numpy as np\r\n",
    "import dateutil.relativedelta as relativedelta\r\n",
    "from rivapy import enums"
   ],
   "outputs": [],
   "metadata": {}
  },
  {
   "cell_type": "code",
   "execution_count": 42,
   "source": [
    "#Define yield curve\r\n",
    "object_id = \"CDS_interest_rate_boots\"\r\n",
    "refdate = dt.datetime(2020,1,1)\r\n",
    "days_to_maturity = [360, 720, 3*360, 4*360, 5*360, 7*360, 10*360,  15*360, 20*360,  30*360]\r\n",
    "dates = [refdate + timedelta(days=d) for d in days_to_maturity]\r\n",
    "rates = [0.002585,0.005034,0.008981,0.012954,0.016452,\r\n",
    "                   0.021811,0.027007,0.031718,0.033834,0.035056]\r\n",
    "#rates = [0,0,0,0,0,0,0,0,0,0]\r\n",
    "dsc_fac = [math.exp(-rates[i]*days_to_maturity[i]/360) for i in range(len(days_to_maturity))]\r\n",
    "\r\n",
    "        \r\n",
    "dc_new = rivapy.marketdata.DiscountCurve(object_id, refdate, dates, dsc_fac, enums.InterpolationType.LINEAR, enums.ExtrapolationType.LINEAR)"
   ],
   "outputs": [],
   "metadata": {}
  },
  {
   "cell_type": "code",
   "execution_count": 57,
   "source": [
    "mkt_par_spread=[0.0003,0.0009,0.0015,0.0021,0.0028,0.0043,0.0061,0.0063, 0.0068,0.0066]\r\n",
    "mkt_par_spread_rs=[0.6405,0.5956,0.5511,0.5144,0.4894,0.4511,0.4156,0.3815,0.3657,0.3506]\r\n",
    "\r\n",
    "refdate = dt.datetime(2020,1,1)\r\n",
    "trade_date = refdate\r\n",
    "RR=0.4\r\n",
    "RR_rs=0.4\r\n",
    "maturities_CDS_test = [12,24,36,48,60,7*12,10*12,15*12,20*12,30*12]"
   ],
   "outputs": [],
   "metadata": {}
  },
  {
   "cell_type": "code",
   "execution_count": 58,
   "source": [
    "test=rivapy.marketdata.BootstrapHazardCurve('Test Curve',refdate, refdate, dc_new, RR_rs, mkt_par_spread_rs, 12, maturities_CDS_test)"
   ],
   "outputs": [],
   "metadata": {}
  },
  {
   "cell_type": "code",
   "execution_count": 59,
   "source": [
    "print(test.get_hazard_rates())"
   ],
   "outputs": [
    {
     "output_type": "stream",
     "name": "stdout",
     "text": [
      "[0.0, 1.2124426519342533, 0.8164360280198707, 0.3414001594889408, 0.1410644576384167, 0.17832056536876528, 0.09087550604602303, 0.08301561167543746, 0.05202733984338602, 0.09225869616034076, 0.045221600172898384]\n"
     ]
    }
   ],
   "metadata": {
    "tags": []
   }
  },
  {
   "cell_type": "code",
   "execution_count": 60,
   "source": [
    "test.get_survival_curve().value(refdate,dt.datetime(2023,1,1))"
   ],
   "outputs": [
    {
     "output_type": "execute_result",
     "data": {
      "text/plain": [
       "0.09314474479303192"
      ]
     },
     "metadata": {},
     "execution_count": 60
    }
   ],
   "metadata": {}
  }
 ],
 "metadata": {
  "kernelspec": {
   "display_name": "Python 3",
   "language": "python",
   "name": "python3"
  },
  "language_info": {
   "codemirror_mode": {
    "name": "ipython",
    "version": 3
   },
   "file_extension": ".py",
   "mimetype": "text/x-python",
   "name": "python",
   "nbconvert_exporter": "python",
   "pygments_lexer": "ipython3",
   "version": "3.8.8"
  },
  "toc": {
   "base_numbering": 1,
   "nav_menu": {},
   "number_sections": true,
   "sideBar": true,
   "skip_h1_title": false,
   "title_cell": "Table of Contents",
   "title_sidebar": "Contents",
   "toc_cell": false,
   "toc_position": {},
   "toc_section_display": true,
   "toc_window_display": false
  }
 },
 "nbformat": 4,
 "nbformat_minor": 2
}