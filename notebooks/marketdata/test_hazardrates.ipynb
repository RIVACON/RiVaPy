{
 "cells": [
  {
   "cell_type": "code",
   "execution_count": 1,
   "metadata": {},
   "outputs": [],
   "source": [
    "import rivapy\n",
    "import datetime as dt\n",
    "import math\n",
    "import datetime as dt\n",
    "import pandas as pd\n",
    "from datetime import timedelta\n",
    "import matplotlib.pyplot as plt\n",
    "import numpy as np\n",
    "import dateutil.relativedelta as relativedelta\n",
    "from rivapy import enums"
   ]
  },
  {
   "cell_type": "code",
   "execution_count": 2,
   "metadata": {},
   "outputs": [],
   "source": [
    "#Define yield curve\n",
    "object_id = \"CDS_interest_rate_boots\"\n",
    "refdate = dt.datetime(2020,1,1)\n",
    "days_to_maturity = [360, 720, 3*360, 4*360, 5*360, 7*360, 10*360,  15*360, 20*360,  30*360]\n",
    "dates = [refdate + timedelta(days=d) for d in days_to_maturity]\n",
    "rates = [0.002585,0.005034,0.008981,0.012954,0.016452,\n",
    "                   0.021811,0.027007,0.031718,0.033834,0.035056]\n",
    "#rates = [0,0,0,0,0,0,0,0,0,0]\n",
    "dsc_fac = [math.exp(-rates[i]*days_to_maturity[i]/360) for i in range(len(days_to_maturity))]\n",
    "\n",
    "        \n",
    "dc_new = rivapy.marketdata.DiscountCurve(object_id, refdate, dates, dsc_fac, enums.InterpolationType.LINEAR, enums.ExtrapolationType.LINEAR)"
   ]
  },
  {
   "cell_type": "code",
   "execution_count": 3,
   "metadata": {},
   "outputs": [],
   "source": [
    "mkt_par_spread=[0.0003,0.0009,0.0015,0.0021,0.0028,0.0043,0.0061,0.0063, 0.0068,0.0066]\n",
    "mkt_par_spread_rs=[0.6405,0.5956,0.5511,0.5144,0.4894,0.4511,0.4156,0.3815,0.3657,0.3506]\n",
    "\n",
    "refdate = dt.datetime(2020,1,1)\n",
    "trade_date = refdate\n",
    "RR=0.4\n",
    "RR_rs=0.25\n",
    "maturities_CDS_test = [12,24,36,48,60,7*12,10*12,15*12,20*12,30*12]"
   ]
  },
  {
   "cell_type": "code",
   "execution_count": 4,
   "metadata": {},
   "outputs": [],
   "source": [
    "test=rivapy.marketdata.BootstrapHazardCurve('Test Curve',refdate, refdate, dc_new, RR_rs, mkt_par_spread_rs, 12, maturities_CDS_test)"
   ]
  },
  {
   "cell_type": "code",
   "execution_count": 5,
   "metadata": {
    "tags": []
   },
   "outputs": [
    {
     "name": "stdout",
     "output_type": "stream",
     "text": [
      "[0.0, 0.927353627798659, 0.6867006619873212, 0.3825896947226752, 0.20496466962910018, 0.1982690488484368, 0.11158696514886293, 0.08650469979165953, 0.05423744900966057, 0.08665115398868711, 0.04887312366309477]\n"
     ]
    }
   ],
   "source": [
    "print(test.get_hazard_rates())"
   ]
  },
  {
   "cell_type": "code",
   "execution_count": 7,
   "metadata": {},
   "outputs": [
    {
     "data": {
      "text/plain": [
       "0.016910026071670345"
      ]
     },
     "execution_count": 7,
     "metadata": {},
     "output_type": "execute_result"
    }
   ],
   "source": [
    "test.get_survival_curve().value(refdate,dt.datetime(2050,1,1))"
   ]
  },
  {
   "cell_type": "code",
   "execution_count": null,
   "metadata": {},
   "outputs": [],
   "source": [
    "?rivapy.marketdata.BootstrapHazardCurve"
   ]
  },
  {
   "cell_type": "code",
   "execution_count": null,
   "metadata": {},
   "outputs": [],
   "source": []
  }
 ],
 "metadata": {
  "kernelspec": {
   "display_name": "Python 3",
   "language": "python",
   "name": "python3"
  },
  "language_info": {
   "codemirror_mode": {
    "name": "ipython",
    "version": 3
   },
   "file_extension": ".py",
   "mimetype": "text/x-python",
   "name": "python",
   "nbconvert_exporter": "python",
   "pygments_lexer": "ipython3",
   "version": "3.8.8"
  },
  "toc": {
   "base_numbering": 1,
   "nav_menu": {},
   "number_sections": true,
   "sideBar": true,
   "skip_h1_title": false,
   "title_cell": "Table of Contents",
   "title_sidebar": "Contents",
   "toc_cell": false,
   "toc_position": {},
   "toc_section_display": true,
   "toc_window_display": false
  }
 },
 "nbformat": 4,
 "nbformat_minor": 2
}
