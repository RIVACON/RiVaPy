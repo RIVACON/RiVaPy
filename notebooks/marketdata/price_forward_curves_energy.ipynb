{
 "cells": [
  {
   "cell_type": "markdown",
   "metadata": {},
   "source": [
    "# Shifting of Price Forwad Curves (PFCs) for Energy Markets"
   ]
  },
  {
   "cell_type": "markdown",
   "metadata": {},
   "source": [
    "Toy model for the spot price for electricity:\n",
    "$$\n",
    "S(t) = S_0 + \n",
    "    \\begin{cases}\n",
    "    0 & ,0 \\leq h(t) < 8\\\\\n",
    "    P_p & ,8 \\leq h(t) < 11\\\\\n",
    "    -P_{pv} & ,11\\leq h(t) < 16\\\\\n",
    "    P_p & ,16 \\leq h(t) \\leq 20\\\\\n",
    "    0 & ,20 < h(t) \\leq 23\n",
    "    \\end{cases} +\n",
    "    \\begin{cases}\n",
    "        0 & ,1\\leq d(d) \\leq 5\\\\\n",
    "        -P_{we} & ,6\\leq d(t) \\leq 7\n",
    "    \\end{cases} +\n",
    "    \\begin{cases}\n",
    "        0 & ,m(t) \\in \\{4,5,6,7,8,9\\}\\\\\n",
    "        P_{W} & ,m(t) \\in \\{1,2,3,10,11,12\\}\n",
    "    \\end{cases} + \\varepsilon\n",
    "$$\n",
    "The parameters here are:\n",
    "$$\n",
    "\\begin{align*}\n",
    "S_0 &\\quad\\text{Spot price level}\\\\\n",
    "P_p & \\quad\\text{Peak price level}\\\\\n",
    "P_{pv} & \\quad\\text{Price level with regard to solar power}\\\\\n",
    "P_{we} & \\quad\\text{Price level for weekends}\\\\\n",
    "P_W & \\quad\\text{Price level for winter}\\\\\n",
    "h(t) & \\quad\\text{Hour of the time step $t$}\\\\\n",
    "d(t) & \\quad\\text{Week day of the time step $t$}\\\\\n",
    "m(t) & \\quad\\text{Month of the time step $t$}\\\\\n",
    "\\varepsilon&  \\sim \\mathcal{N}(\\mu, \\sigma^2)\n",
    "\\end{align*}\n",
    "$$"
   ]
  },
  {
   "cell_type": "code",
   "execution_count": 24,
   "metadata": {},
   "outputs": [
    {
     "name": "stdout",
     "output_type": "stream",
     "text": [
      "The autoreload extension is already loaded. To reload it, use:\n",
      "  %reload_ext autoreload\n"
     ]
    }
   ],
   "source": [
    "%load_ext autoreload\n",
    "%autoreload 2\n",
    "import pandas as pd\n",
    "import numpy as np\n",
    "import datetime as dt\n",
    "import matplotlib.pyplot as plt\n",
    "from rivapy.instruments.energy_futures_specifications import EnergyFutureSpecifications\n",
    "from rivapy.tools.scheduler import SimpleSchedule, PeakSchedule, OffPeakSchedule, GasSchedule\n",
    "from rivapy.marketdata_tools.pfc_shifter import PFCShifter\n",
    "from collections import defaultdict\n"
   ]
  },
  {
   "cell_type": "code",
   "execution_count": 14,
   "metadata": {},
   "outputs": [],
   "source": [
    "a = [dt.datetime(2023,1,5), dt.datetime(2023,12,7,0,0)]\n",
    "b = [dt.datetime(2023,1,5), dt.datetime(2023,12,7,0,0)]"
   ]
  },
  {
   "cell_type": "code",
   "execution_count": 15,
   "metadata": {},
   "outputs": [
    {
     "data": {
      "text/plain": [
       "[datetime.datetime(2023, 1, 5, 0, 0),\n",
       " datetime.datetime(2023, 12, 7, 0, 0),\n",
       " datetime.datetime(2023, 1, 5, 0, 0),\n",
       " datetime.datetime(2023, 12, 7, 0, 0)]"
      ]
     },
     "execution_count": 15,
     "metadata": {},
     "output_type": "execute_result"
    }
   ],
   "source": [
    "a + b\n"
   ]
  },
  {
   "cell_type": "code",
   "execution_count": 18,
   "metadata": {},
   "outputs": [],
   "source": [
    "from rivapy.tools.enums import EnergyTimeGridStructure as ets"
   ]
  },
  {
   "cell_type": "code",
   "execution_count": 27,
   "metadata": {},
   "outputs": [
    {
     "data": {
      "text/plain": [
       "<rivapy.tools.scheduler.GasSchedule at 0x214c508f7a0>"
      ]
     },
     "execution_count": 27,
     "metadata": {},
     "output_type": "execute_result"
    }
   ],
   "source": [
    "GasSchedule(dt.datetime(2023,1,5), dt.datetime(2023,12,7,0,0))"
   ]
  },
  {
   "cell_type": "code",
   "execution_count": null,
   "metadata": {},
   "outputs": [],
   "source": [
    "np.random.seed(42)\n",
    "def spot_price_model(timestamp: dt.datetime, spot_price_level: float, peak_price_level:float, solar_price_level: float,\n",
    "                     weekend_price_level:float, winter_price_level: float, epsilon_mean: float = 0, epsilon_var:float = 1):\n",
    "                    spot_price = spot_price_level\n",
    "                    if (timestamp.hour >= 8 and timestamp.hour < 11) or (timestamp.hour >= 16 and timestamp.hour <= 20):\n",
    "                            spot_price += peak_price_level\n",
    "                    elif timestamp.hour >= 11 and timestamp.hour < 16:\n",
    "                            spot_price -= solar_price_level\n",
    "                    \n",
    "                    if timestamp.weekday() >= 5:\n",
    "                            spot_price -= weekend_price_level\n",
    "\n",
    "                    if timestamp.month in {1,2,3,10,11,12}:\n",
    "                            spot_price += winter_price_level \n",
    "\n",
    "                    spot_price += np.random.normal(loc=epsilon_mean, scale=np.sqrt(epsilon_var))\n",
    "                    return spot_price"
   ]
  },
  {
   "cell_type": "code",
   "execution_count": null,
   "metadata": {},
   "outputs": [],
   "source": [
    "parameter_dict = {\n",
    "    'spot_price_level': 100,\n",
    "    'peak_price_level': 10,\n",
    "    'solar_price_level': 8,\n",
    "    'weekend_price_level': 10,\n",
    "    'winter_price_level': 20,\n",
    "    'epsilon_mean': 0,\n",
    "    'epsilon_var': 5\n",
    "}\n"
   ]
  },
  {
   "cell_type": "code",
   "execution_count": null,
   "metadata": {},
   "outputs": [],
   "source": [
    "date_range = pd.date_range(start='1/1/2023', end='1/1/2025', freq='H', inclusive='left')"
   ]
  },
  {
   "cell_type": "code",
   "execution_count": null,
   "metadata": {},
   "outputs": [],
   "source": [
    "spot_prices = list(map(lambda x: spot_price_model(x, **parameter_dict), date_range))"
   ]
  },
  {
   "cell_type": "code",
   "execution_count": null,
   "metadata": {},
   "outputs": [],
   "source": [
    "plt.plot(date_range, spot_prices)"
   ]
  },
  {
   "cell_type": "code",
   "execution_count": null,
   "metadata": {},
   "outputs": [],
   "source": [
    "# compute the shape \n",
    "df = pd.DataFrame(data=spot_prices, index=date_range, columns=['Spot'])\n",
    "df"
   ]
  },
  {
   "cell_type": "code",
   "execution_count": null,
   "metadata": {},
   "outputs": [],
   "source": [
    "base_y = df.resample('Y').mean()\n",
    "base_y.index = base_y.index.strftime('%Y')"
   ]
  },
  {
   "cell_type": "code",
   "execution_count": null,
   "metadata": {},
   "outputs": [],
   "source": [
    "df_spot = df.copy()\n",
    "df_spot.index = df_spot.index.strftime('%Y')\n",
    "df_spot"
   ]
  },
  {
   "cell_type": "code",
   "execution_count": null,
   "metadata": {},
   "outputs": [],
   "source": [
    "shape = df_spot.divide(base_y, axis='index')\n",
    "shape_df = pd.DataFrame(data=shape['Spot'].tolist(), index=date_range, columns=['shape'])\n",
    "shape_df"
   ]
  },
  {
   "cell_type": "code",
   "execution_count": null,
   "metadata": {},
   "outputs": [],
   "source": [
    "shape_df.plot()"
   ]
  },
  {
   "cell_type": "code",
   "execution_count": null,
   "metadata": {},
   "outputs": [],
   "source": [
    "contracts_schedules = {\n",
    "    'off_peak': {\n",
    "        'Cal23_OffPeak': SimpleSchedule(dt.datetime(2023,1,1), dt.datetime(2024,1,1), freq='1H', hours=[0,1,2,3,4,5,6,7,20,21,22,23], ignore_hours_for_weekdays=[5,6]),\n",
    "        # 'Cal24_OffPeak': SimpleSchedule(dt.datetime(2024,1,1), dt.datetime(2025,1,1), freq='1H', hours=[0,1,2,3,4,5,6,7,20,21,22,23], ignore_hours_for_weekdays=[5,6]),\n",
    "        # 'Q1/23_OffPeak': SimpleSchedule(dt.datetime(2023,1,1), dt.datetime(2023,4,1), freq='1H', hours=[0,1,2,3,4,5,6,7,20,21,22,23], ignore_hours_for_weekdays=[5,6]),\n",
    "        'Q2/23_OffPeak': SimpleSchedule(dt.datetime(2023,4,1), dt.datetime(2023,7,1), freq='1H', hours=[0,1,2,3,4,5,6,7,20,21,22,23], ignore_hours_for_weekdays=[5,6]),\n",
    "        # 'Q3/23_OffPeak': SimpleSchedule(dt.datetime(2023,7,1), dt.datetime(2023,10,1), freq='1H', hours=[0,1,2,3,4,5,6,7,20,21,22,23], ignore_hours_for_weekdays=[5,6]),\n",
    "        # 'Q4/23_OffPeak': SimpleSchedule(dt.datetime(2023,10,1), dt.datetime(2024,1,1), freq='1H', hours=[0,1,2,3,4,5,6,7,20,21,22,23], ignore_hours_for_weekdays=[5,6]),\n",
    "        # 'M1/23_OffPeak': SimpleSchedule(dt.datetime(2023,1,1), dt.datetime(2023,2,1), freq='1H', hours=[0,1,2,3,4,5,6,7,20,21,22,23], ignore_hours_for_weekdays=[5,6]),\n",
    "        # 'M2/23_OffPeak': SimpleSchedule(dt.datetime(2023,2,1), dt.datetime(2023,3,1), freq='1H', hours=[0,1,2,3,4,5,6,7,20,21,22,23], ignore_hours_for_weekdays=[5,6]),\n",
    "        # 'M3/23_OffPeak': SimpleSchedule(dt.datetime(2023,3,1), dt.datetime(2023,4,1), freq='1H', hours=[0,1,2,3,4,5,6,7,20,21,22,23], ignore_hours_for_weekdays=[5,6]),\n",
    "        # 'M5/23_OffPeak': SimpleSchedule(dt.datetime(2023,5,1), dt.datetime(2023,6,1), freq='1H', hours=[0,1,2,3,4,5,6,7,20,21,22,23], ignore_hours_for_weekdays=[5,6]),\n",
    "    },\n",
    "    'peak': {\n",
    "        'Cal23_Peak': SimpleSchedule(dt.datetime(2023,1,1), dt.datetime(2024,1,1), freq='1H', hours=[8,9,10,11,12,13,14,15,16,17,18,19], weekdays=[0,1,2,3,4]),\n",
    "        'Cal24_Peak': SimpleSchedule(dt.datetime(2024,1,1), dt.datetime(2025,1,1), freq='1H', hours=[8,9,10,11,12,13,14,15,16,17,18,19], weekdays=[0,1,2,3,4]),\n",
    "        'Q1/23_Peak': SimpleSchedule(dt.datetime(2023,1,1), dt.datetime(2023,4,1), freq='1H', hours=[8,9,10,11,12,13,14,15,16,17,18,19], weekdays=[0,1,2,3,4]),\n",
    "        'Q2/23_Peak': SimpleSchedule(dt.datetime(2023,4,1), dt.datetime(2023,7,1), freq='1H', hours=[8,9,10,11,12,13,14,15,16,17,18,19], weekdays=[0,1,2,3,4]),\n",
    "        'Q3/23_Peak': SimpleSchedule(dt.datetime(2023,7,1), dt.datetime(2023,10,1), freq='1H', hours=[8,9,10,11,12,13,14,15,16,17,18,19], weekdays=[0,1,2,3,4])\n",
    "    }\n",
    "}"
   ]
  },
  {
   "cell_type": "code",
   "execution_count": null,
   "metadata": {},
   "outputs": [],
   "source": [
    "contracts = defaultdict(dict)\n",
    "for contract_type, contracts_dict in contracts_schedules.items():\n",
    "    for contract_name, schedule in contracts_dict.items():\n",
    "        tg = schedule.get_schedule()\n",
    "        price = df.loc[tg,:].mean()[0]\n",
    "        contracts[contract_type][contract_name] = EnergyFutureSpecifications(schedule=schedule, price=price, name=contract_name)"
   ]
  },
  {
   "cell_type": "code",
   "execution_count": null,
   "metadata": {},
   "outputs": [],
   "source": [
    "dict(contracts)"
   ]
  },
  {
   "cell_type": "code",
   "execution_count": null,
   "metadata": {},
   "outputs": [],
   "source": [
    "plt.figure(figsize=(15,8))\n",
    "plt.plot(date_range, spot_prices)\n",
    "ax = plt.gca()\n",
    "for contract_type, contract_dict in contracts.items():\n",
    "    for name, contract in contract_dict.items():\n",
    "        y_value = contract.price  # The y-coordinate for the horizontal line\n",
    "        x_range = contract.schedule.get_schedule()  # List of datetime values\n",
    "        \n",
    "        # Extract the minimum and maximum dates from the x_range\n",
    "        xmin = min(x_range)\n",
    "        xmax = max(x_range)\n",
    "        \n",
    "        # Plot a horizontal line for the contract\n",
    "        color = next(ax._get_lines.prop_cycler)['color']\n",
    "        plt.hlines(y=y_value, xmin=xmin, xmax=xmax, linestyle='--', label=name, colors=color)\n",
    "\n",
    "plt.legend()\n",
    "plt.show()"
   ]
  },
  {
   "cell_type": "code",
   "execution_count": null,
   "metadata": {},
   "outputs": [],
   "source": [
    "shape_df"
   ]
  },
  {
   "cell_type": "code",
   "execution_count": null,
   "metadata": {},
   "outputs": [],
   "source": [
    "shape_df_off_peak = shape_df.loc[SimpleSchedule(dt.datetime(2023,1,1), dt.datetime(2024,1,1), freq='1H', hours=[0,1,2,3,4,5,6,7,20,21,22,23], ignore_hours_for_weekdays=[5,6]).get_schedule()]\n",
    "shape_df_peak = shape_df.loc[SimpleSchedule(dt.datetime(2023,1,1), dt.datetime(2025,1,1),freq='1H', hours=[8,9,10,11,12,13,14,15,16,17,18,19], weekdays=[0,1,2,3,4]).get_schedule()]"
   ]
  },
  {
   "cell_type": "code",
   "execution_count": null,
   "metadata": {},
   "outputs": [],
   "source": [
    "shape_df_off_peak"
   ]
  },
  {
   "cell_type": "code",
   "execution_count": null,
   "metadata": {},
   "outputs": [],
   "source": [
    "pfc_shifter = PFCShifter(shape=shape_df_off_peak, contracts=contracts['off_peak'])"
   ]
  },
  {
   "cell_type": "code",
   "execution_count": null,
   "metadata": {},
   "outputs": [],
   "source": [
    "pfc_shifter"
   ]
  },
  {
   "cell_type": "code",
   "execution_count": null,
   "metadata": {},
   "outputs": [],
   "source": [
    "pfc_shifter.shape"
   ]
  },
  {
   "cell_type": "code",
   "execution_count": null,
   "metadata": {},
   "outputs": [],
   "source": [
    "pfc_shifter._get_contract_start_end_dates()"
   ]
  },
  {
   "cell_type": "code",
   "execution_count": null,
   "metadata": {},
   "outputs": [],
   "source": [
    "transition_matrix=pfc_shifter.generate_transition_matrix()\n",
    "transition_matrix"
   ]
  },
  {
   "cell_type": "code",
   "execution_count": null,
   "metadata": {},
   "outputs": [],
   "source": [
    "transition_matrix = pfc_shifter.detect_redundant_contracts(transition_matrix=transition_matrix)\n",
    "transition_matrix"
   ]
  },
  {
   "cell_type": "code",
   "execution_count": null,
   "metadata": {},
   "outputs": [],
   "source": [
    "pfc_shifter._get_contract_start_end_dates()"
   ]
  },
  {
   "cell_type": "code",
   "execution_count": null,
   "metadata": {},
   "outputs": [],
   "source": [
    "transition_matrix = pfc_shifter.generate_synthetic_contracts(transition_matrix=transition_matrix)\n",
    "transition_matrix"
   ]
  },
  {
   "cell_type": "code",
   "execution_count": null,
   "metadata": {},
   "outputs": [],
   "source": [
    "shifted = pfc_shifter.shift(transition_matrix)\n",
    "shifted"
   ]
  },
  {
   "cell_type": "code",
   "execution_count": null,
   "metadata": {},
   "outputs": [],
   "source": [
    "# relative error\n",
    "rel_err = (df.loc[shifted.index, 'Spot'].values - shifted.iloc[:, 0].values)/df.loc[shifted.index, 'Spot'].values\n",
    "plt.plot(rel_err)\n",
    "plt.tight_layout()"
   ]
  },
  {
   "cell_type": "code",
   "execution_count": null,
   "metadata": {},
   "outputs": [],
   "source": []
  }
 ],
 "metadata": {
  "kernelspec": {
   "display_name": "rivapy_312",
   "language": "python",
   "name": "python3"
  },
  "language_info": {
   "codemirror_mode": {
    "name": "ipython",
    "version": 3
   },
   "file_extension": ".py",
   "mimetype": "text/x-python",
   "name": "python",
   "nbconvert_exporter": "python",
   "pygments_lexer": "ipython3",
   "version": "3.12.9"
  },
  "orig_nbformat": 4
 },
 "nbformat": 4,
 "nbformat_minor": 2
}
