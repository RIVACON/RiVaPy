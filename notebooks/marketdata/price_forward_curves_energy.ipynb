{
 "cells": [
  {
   "cell_type": "markdown",
   "metadata": {},
   "source": [
    "# Shifting of Price Forwad Curves (PFCs) for Energy Markets"
   ]
  },
  {
   "cell_type": "markdown",
   "metadata": {},
   "source": [
    "Toy model for the spot price for electricity:\n",
    "$$\n",
    "S(t) = S_0 + \n",
    "    \\begin{cases}\n",
    "    0 & ,0 \\leq h(t) < 8\\\\\n",
    "    P_p & ,8 \\leq h(t) < 11\\\\\n",
    "    -P_{pv} & ,11\\leq h(t) < 16\\\\\n",
    "    P_p & ,16 \\leq h(t) \\leq 20\\\\\n",
    "    0 & ,20 < h(t) \\leq 23\n",
    "    \\end{cases} +\n",
    "    \\begin{cases}\n",
    "        0 & ,1\\leq d(d) \\leq 5\\\\\n",
    "        -P_{we} & ,6\\leq d(t) \\leq 7\n",
    "    \\end{cases} +\n",
    "    \\begin{cases}\n",
    "        0 & ,m(t) \\in \\{4,5,6,7,8,9\\}\\\\\n",
    "        P_{W} & ,m(t) \\in \\{1,2,3,10,11,12\\}\n",
    "    \\end{cases} + \\varepsilon\n",
    "$$\n",
    "The parameters here are:\n",
    "$$\n",
    "\\begin{align*}\n",
    "S_0 &\\quad\\text{Spot price level}\\\\\n",
    "P_p & \\quad\\text{Peak price level}\\\\\n",
    "P_{pv} & \\quad\\text{Price level with regard to solar power}\\\\\n",
    "P_{we} & \\quad\\text{Price level for weekends}\\\\\n",
    "P_W & \\quad\\text{Price level for winter}\\\\\n",
    "h(t) & \\quad\\text{Hour of the time step $t$}\\\\\n",
    "d(t) & \\quad\\text{Week day of the time step $t$}\\\\\n",
    "m(t) & \\quad\\text{Month of the time step $t$}\\\\\n",
    "\\varepsilon&  \\sim \\mathcal{N}(\\mu, \\sigma^2)\n",
    "\\end{align*}\n",
    "$$"
   ]
  },
  {
   "cell_type": "code",
   "execution_count": 2,
   "metadata": {},
   "outputs": [],
   "source": [
    "import pandas as pd\n",
    "import numpy as np\n",
    "import datetime as dt\n",
    "import matplotlib.pyplot as plt"
   ]
  },
  {
   "cell_type": "code",
   "execution_count": 33,
   "metadata": {},
   "outputs": [],
   "source": [
    "def spot_price_model(timestamp: dt.datetime, spot_price_level: float, peak_price_level:float, solar_price_level: float,\n",
    "                     weekend_price_level:float, winter_price_level: float, epsilon_mean: float = 0, epsilon_var:float = 1):\n",
    "                    spot_price = spot_price_level\n",
    "                    if (timestamp.hour >= 8 and timestamp.hour < 11) or (timestamp.hour >= 16 and timestamp.hour <= 20):\n",
    "                            spot_price += peak_price_level\n",
    "                    elif timestamp.hour >= 11 and timestamp.hour < 16:\n",
    "                            spot_price -= solar_price_level\n",
    "                    \n",
    "                    if timestamp.weekday() >= 5:\n",
    "                            spot_price -= weekend_price_level\n",
    "\n",
    "                    if timestamp.month in {1,2,3,10,11,12}:\n",
    "                            spot_price += winter_price_level \n",
    "\n",
    "                    spot_price += np.random.normal(loc=epsilon_mean, scale=np.sqrt(epsilon_var))\n",
    "                    return spot_price"
   ]
  },
  {
   "cell_type": "code",
   "execution_count": 29,
   "metadata": {},
   "outputs": [],
   "source": [
    "parameter_dict = {\n",
    "    'spot_price_level': 100,\n",
    "    'peak_price_level': 10,\n",
    "    'solar_price_level': 8,\n",
    "    'weekend_price_level': 10,\n",
    "    'winter_price_level': 20,\n",
    "    'epsilon_mean': 0,\n",
    "    'epsilon_var': 2\n",
    "}\n"
   ]
  },
  {
   "cell_type": "code",
   "execution_count": 34,
   "metadata": {},
   "outputs": [],
   "source": [
    "date_range = pd.date_range(start='1/1/2020', end='1/1/2024', freq='H', inclusive='left')"
   ]
  },
  {
   "cell_type": "code",
   "execution_count": 35,
   "metadata": {},
   "outputs": [],
   "source": [
    "spot_prices = list(map(lambda x: spot_price_model(x, **parameter_dict), date_range))"
   ]
  },
  {
   "cell_type": "code",
   "execution_count": 39,
   "metadata": {},
   "outputs": [
    {
     "data": {
      "text/plain": [
       "[<matplotlib.lines.Line2D at 0x2570dca1c40>]"
      ]
     },
     "execution_count": 39,
     "metadata": {},
     "output_type": "execute_result"
    },
    {
     "data": {
      "image/png": "[encoded data removed]",
      "text/plain": [
       "<Figure size 640x480 with 1 Axes>"
      ]
     },
     "metadata": {},
     "output_type": "display_data"
    }
   ],
   "source": [
    "plt.plot(date_range, spot_prices)"
   ]
  },
  {
   "cell_type": "markdown",
   "metadata": {},
   "source": []
  }
 ],
 "metadata": {
  "kernelspec": {
   "display_name": "rivapy",
   "language": "python",
   "name": "python3"
  },
  "language_info": {
   "codemirror_mode": {
    "name": "ipython",
    "version": 3
   },
   "file_extension": ".py",
   "mimetype": "text/x-python",
   "name": "python",
   "nbconvert_exporter": "python",
   "pygments_lexer": "ipython3",
   "version": "3.8.15"
  },
  "orig_nbformat": 4
 },
 "nbformat": 4,
 "nbformat_minor": 2
}
