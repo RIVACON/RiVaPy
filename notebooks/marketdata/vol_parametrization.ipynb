{
 "cells": [
  {
   "cell_type": "code",
   "execution_count": 2,
   "metadata": {},
   "outputs": [
    {
     "name": "stdout",
     "output_type": "stream",
     "text": [
      "The autoreload extension is already loaded. To reload it, use:\n",
      "  %reload_ext autoreload\n"
     ]
    }
   ],
   "source": [
    "import numpy as np\n",
    "from scipy.optimize import brentq\n",
    "import matplotlib.pyplot as plt\n",
    "import rivapy.marketdata as mktdata\n",
    "import rivapy.models as models\n",
    "#reload modules \n",
    "%load_ext autoreload\n",
    "%autoreload 2\n",
    "\n",
    "%matplotlib inline"
   ]
  },
  {
   "cell_type": "code",
   "execution_count": 71,
   "metadata": {},
   "outputs": [],
   "source": [
    "ssvi = mktdata.VolatilityParametrizationSSVI(expiries=[1.0/365, 30/365, 0.5, 2.0], fwd_atm_vols=[0.1, 0.2, 0.3, 0.4], rho=-0.5, eta=0.1, gamma=0.5)\n",
    "svi = mktdata.VolatilityParametrizationSVI(expiries=np.array([1.0/365.0, 1.0]), svi_params=[\n",
    "        (0.0001, 0.1, -0.5, 0.0, 0.0001),\n",
    "        (0.0002, 0.1, -0.5, 0.0, 0.00004),\n",
    "])"
   ]
  },
  {
   "cell_type": "code",
   "execution_count": 74,
   "metadata": {},
   "outputs": [
    {
     "name": "stderr",
     "output_type": "stream",
     "text": [
      "/home/doeltz/doeltz/development/RiVaPy/rivapy/models/__init__.py:46: RuntimeWarning: divide by zero encountered in true_divide\n",
      "  p = log_x_strikes[1:-1] / tiv[:,1:-1]\n",
      "/home/doeltz/doeltz/development/RiVaPy/rivapy/models/__init__.py:47: RuntimeWarning: invalid value encountered in multiply\n",
      "  q = np.maximum(1 - p*dyw + 0.25*(-0.25 - 1.0 / tiv[:,1:-1] + p*p)*dyw*dyw + 0.5*dyyw, eps)\n",
      "/home/doeltz/doeltz/development/RiVaPy/rivapy/models/__init__.py:47: RuntimeWarning: divide by zero encountered in true_divide\n",
      "  q = np.maximum(1 - p*dyw + 0.25*(-0.25 - 1.0 / tiv[:,1:-1] + p*p)*dyw*dyw + 0.5*dyyw, eps)\n",
      "/home/doeltz/doeltz/development/RiVaPy/rivapy/models/__init__.py:47: RuntimeWarning: invalid value encountered in add\n",
      "  q = np.maximum(1 - p*dyw + 0.25*(-0.25 - 1.0 / tiv[:,1:-1] + p*p)*dyw*dyw + 0.5*dyyw, eps)\n"
     ]
    }
   ],
   "source": [
    "x_strikes = np.linspace(0.5, 1.5, 50)\n",
    "time_grid = np.linspace(0.0, 2.0, 160)\n",
    "lv_model = models.LocalVol(ssvi, x_strikes, time_grid, np.zeros(shape=time_grid.shape))"
   ]
  },
  {
   "cell_type": "code",
   "execution_count": 75,
   "metadata": {},
   "outputs": [
    {
     "data": {
      "text/plain": [
       "[<matplotlib.lines.Line2D at 0x7f26b83ee340>]"
      ]
     },
     "execution_count": 75,
     "metadata": {},
     "output_type": "execute_result"
    },
    {
     "data": {
      "image/png": "[encoded data removed]",
      "text/plain": [
       "<Figure size 432x288 with 1 Axes>"
      ]
     },
     "metadata": {
      "needs_background": "light"
     },
     "output_type": "display_data"
    }
   ],
   "source": [
    "plt.plot(lv_model._local_variance[150,:])"
   ]
  },
  {
   "cell_type": "code",
   "execution_count": 76,
   "metadata": {},
   "outputs": [],
   "source": [
    "n_sims = 100000\n",
    "\n",
    "def apply_mc_step(ln_x0, x0, t0, t1, rnd, model):\n",
    "    drift, vol = model.get_SDE_coeff(t0, x0)\n",
    "    #print(vol)\n",
    "    #ln_x0 += drift*(t1-t0) + vol*np.sqrt(t1-t0)*rnd\n",
    "    return ln_x0 + drift*(t1-t0) + vol*np.sqrt(t1-t0)*rnd\n",
    "\n",
    "def simulate_lv_model(x0, time_grid, lv_model, n_sims):\n",
    "    ln_x = np.log(x0)*np.ones(shape=(n_sims))\n",
    "    x = np.exp(ln_x)\n",
    "    for i in range(1,time_grid.shape[0]):\n",
    "        rnd = np.random.normal(size=(n_sims,))\n",
    "        ln_x = apply_mc_step(ln_x, x, time_grid[i-1], time_grid[i], rnd, lv_model)\n",
    "        x = np.exp(ln_x)\n",
    "    return ln_x, x\n",
    "\n",
    "ln_x, x = simulate_lv_model(1.0, time_grid, lv_model, n_sims)"
   ]
  },
  {
   "cell_type": "code",
   "execution_count": 77,
   "metadata": {},
   "outputs": [
    {
     "data": {
      "image/png": "[encoded data removed]",
      "text/plain": [
       "<Figure size 432x288 with 1 Axes>"
      ]
     },
     "metadata": {
      "needs_background": "light"
     },
     "output_type": "display_data"
    }
   ],
   "source": [
    "plt.hist(x, bins=100);"
   ]
  },
  {
   "cell_type": "code",
   "execution_count": 61,
   "metadata": {},
   "outputs": [],
   "source": [
    "import math\n",
    "from scipy.stats import norm\n",
    "def compute_call_price_Buehler(strike:float, maturity:float, volatility:float)->float:\n",
    "    \"\"\"Compute a call option price for the Buehler model (w.r.t. x-process), i.e. no dividends, rates etc.\n",
    "    Args:\n",
    "        strike (float): strike\n",
    "        maturity (float): maturity\n",
    "        volatility (float): volatility\n",
    "\n",
    "    Returns:\n",
    "        float: Black-Scholes call price\n",
    "    \"\"\"\n",
    "    sqrt_mat = math.sqrt(maturity)\n",
    "    d1 = ( math.log( 1.0 / strike ) + 0.5*volatility*volatility*maturity ) / ( volatility *  sqrt_mat)\n",
    "    d2 = d1 - volatility * sqrt_mat\n",
    "    price =  norm.cdf(d1) - strike * norm.cdf(d2)\n",
    "    return price"
   ]
  },
  {
   "cell_type": "code",
   "execution_count": 78,
   "metadata": {},
   "outputs": [
    {
     "data": {
      "text/plain": [
       "0.22270258921047842"
      ]
     },
     "execution_count": 78,
     "metadata": {},
     "output_type": "execute_result"
    },
    {
     "data": {
      "image/png": "[encoded data removed]",
      "text/plain": [
       "<Figure size 432x288 with 1 Axes>"
      ]
     },
     "metadata": {
      "needs_background": "light"
     },
     "output_type": "display_data"
    }
   ],
   "source": [
    "x_strikes = np.linspace(0.4,1.6,100)\n",
    "vols = [ssvi.calc_implied_vol(2.0, x) for x in x_strikes]\n",
    "plt.plot(x_strikes, vols);\n",
    "compute_call_price_Buehler(1.0, maturity=2.0, volatility=ssvi.calc_implied_vol(2.0, 1.0))\n"
   ]
  },
  {
   "cell_type": "code",
   "execution_count": 79,
   "metadata": {},
   "outputs": [
    {
     "data": {
      "text/plain": [
       "0.2235840244114227"
      ]
     },
     "execution_count": 79,
     "metadata": {},
     "output_type": "execute_result"
    }
   ],
   "source": [
    "np.mean(np.maximum(x-1.0,0))"
   ]
  },
  {
   "cell_type": "code",
   "execution_count": null,
   "metadata": {},
   "outputs": [],
   "source": []
  }
 ],
 "metadata": {
  "hide_input": false,
  "kernelspec": {
   "display_name": "pyvacon",
   "language": "python",
   "name": "pyvacon"
  },
  "language_info": {
   "codemirror_mode": {
    "name": "ipython",
    "version": 3
   },
   "file_extension": ".py",
   "mimetype": "text/x-python",
   "name": "python",
   "nbconvert_exporter": "python",
   "pygments_lexer": "ipython3",
   "version": "3.9.1"
  },
  "toc": {
   "base_numbering": 1,
   "nav_menu": {},
   "number_sections": false,
   "sideBar": false,
   "skip_h1_title": false,
   "title_cell": "Table of Contents",
   "title_sidebar": "Contents",
   "toc_cell": false,
   "toc_position": {},
   "toc_section_display": false,
   "toc_window_display": false
  },
  "varInspector": {
   "cols": {
    "lenName": 16,
    "lenType": 16,
    "lenVar": 40
   },
   "kernels_config": {
    "python": {
     "delete_cmd_postfix": "",
     "delete_cmd_prefix": "del ",
     "library": "var_list.py",
     "varRefreshCmd": "print(var_dic_list())"
    },
    "r": {
     "delete_cmd_postfix": ") ",
     "delete_cmd_prefix": "rm(",
     "library": "var_list.r",
     "varRefreshCmd": "cat(var_dic_list()) "
    }
   },
   "types_to_exclude": [
    "module",
    "function",
    "builtin_function_or_method",
    "instance",
    "_Feature"
   ],
   "window_display": false
  }
 },
 "nbformat": 4,
 "nbformat_minor": 2
}
