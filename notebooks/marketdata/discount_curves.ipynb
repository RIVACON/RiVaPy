{
 "cells": [
  {
   "cell_type": "markdown",
   "metadata": {},
   "source": [
    "![](../images/rivacon_frontmark_combined_header.png)"
   ]
  },
  {
   "cell_type": "markdown",
   "metadata": {},
   "source": [
    "# Discount Curves"
   ]
  },
  {
   "cell_type": "code",
   "execution_count": null,
   "metadata": {
    "ExecuteTime": {
     "end_time": "2020-05-03T11:48:52.071736Z",
     "start_time": "2020-05-03T11:48:44.755804Z"
    }
   },
   "outputs": [],
   "source": [
    "import datetime as dt\n",
    "from rivapy.marketdata.curves import DiscountCurve\n",
    "\n",
    "import math\n",
    "import pandas as pd\n",
    "%load_ext autoreload\n",
    "%autoreload 2\n",
    "#the next lin is a jupyter internal command to show the matplotlib graphs within the notebook\n",
    "%matplotlib inline"
   ]
  },
  {
   "cell_type": "code",
   "execution_count": null,
   "metadata": {},
   "outputs": [],
   "source": [
    "import pyvacon"
   ]
  },
  {
   "cell_type": "code",
   "execution_count": null,
   "metadata": {},
   "outputs": [],
   "source": [
    "pyvacon."
   ]
  },
  {
   "cell_type": "markdown",
   "metadata": {},
   "source": [
    "## Definition of Discount Curves\n",
    "A discount curve \n",
    "- stores discount factors for different maturities,\n",
    "- has an interpolation to compute discount factors for arbitrary maturities,\n",
    "- has an extrapolation to compute discount factors for arbitrary maturities after the latest given maturity,\n",
    "- has a day counter to convert dates to year fractions to apply the inter- and extrapolation.\n",
    "\n",
    "Under the assumption of continuous compounding, the discount factor $df$ for a cashflow at maturity $T$ based on a constant discount rate $r$ is defined as\n",
    "\n",
    "$$df(T) = e^{-rT}$$\n",
    "\n",
    "where $T$ is the time to maturity as year fraction."
   ]
  },
  {
   "cell_type": "markdown",
   "metadata": {},
   "source": [
    "\n",
    "## Creating Discount Curves\n",
    "### Setup the specification\n",
    "\n",
    "To setup a discount curve, we need the following information:\n",
    "\n",
    "\n",
    "\n",
    "**Object id**\n",
    "\n",
    "Nearly every structure in the analytics library has an object id. An object id allows for nice logging and exceptions (which object created the message/error) and is also used as identifier for retrieving objects from containers."
   ]
  },
  {
   "cell_type": "code",
   "execution_count": 7,
   "metadata": {
    "ExecuteTime": {
     "end_time": "2020-05-03T11:48:52.091271Z",
     "start_time": "2020-05-03T11:48:52.077862Z"
    }
   },
   "outputs": [],
   "source": [
    "object_id = \"Test_DC\""
   ]
  },
  {
   "cell_type": "markdown",
   "metadata": {},
   "source": [
    "**Reference date**\n",
    "\n",
    "A reference date is needed for all objects representing market data. Dates entering analytics objects must be analytics ptimes. \n",
    "\n",
    "Most of the functions provided by market data objects also get a calculation/valuation date and some logic is applied if this date is after the reference date. For a discount curve, if the valuation date is after the reference date, the forward discount factor is returned.\n",
    "\n",
    "The help function provides information about the function mentioned in its arguments (in parentheses). Uncomment the line to see the information about the analytics.ptime function."
   ]
  },
  {
   "cell_type": "code",
   "execution_count": 8,
   "metadata": {
    "ExecuteTime": {
     "end_time": "2020-05-03T11:48:52.123093Z",
     "start_time": "2020-05-03T11:48:52.097101Z"
    }
   },
   "outputs": [],
   "source": [
    "refdate = dt.datetime(2017,1,1,0,0,0)"
   ]
  },
  {
   "cell_type": "markdown",
   "metadata": {},
   "source": [
    "**Dates and corresponding discount factors**\n",
    "\n",
    "We need a list of dates and a list of discount factors. Here, we must use the analytics (C++ swigged) vectors to create the list of dates. We use a helper method which just gets a list of number of days and a reference date and returns the resulting dates from adding the number of days to the reference date. To view the created list of dates, uncomment the 4th and 5th line of the following code.\n",
    "\n",
    "To calculate the discount factors from a constant rate, we need to provide the constant rate and calculate the discount factors according to the desired compounding frequency."
   ]
  },
  {
   "cell_type": "code",
   "execution_count": 9,
   "metadata": {
    "ExecuteTime": {
     "end_time": "2020-05-03T11:48:52.146772Z",
     "start_time": "2020-05-03T11:48:52.125323Z"
    },
    "code_folding": []
   },
   "outputs": [],
   "source": [
    "days_to_maturity =  [1, 180, 365, 720, 3*365, 4*365, 10*365]\n",
    "dates = [refdate + dt.timedelta(days=i) for i in days_to_maturity]\n",
    "discount_rate = 0.03\n",
    "df = [math.exp(-d/365.0*discount_rate) for d in days_to_maturity]"
   ]
  },
  {
   "cell_type": "markdown",
   "metadata": {},
   "source": [
    "**Day count convention**\n",
    "\n",
    "Additionally, we need to provide the discount curve with a day count convention. The different options are provided in the enums module. Here, we apply the ACT365FIXED day count convention where the number of days between two dates is divided by 365. For other examples please refer to the [Roll conventions, day counters and schedule generation](daycounter_rollconventions_schedules.ipynb) notebook."
   ]
  },
  {
   "cell_type": "markdown",
   "metadata": {},
   "source": [
    "**Interpolation type and extrapolation type**\n",
    "\n",
    "The interpolation is necessary to compute discount factors for arbitrary maturities until the last maturity provided; the extrapolation is necessary to compute discount factors for arbitrary maturities after the last given maturity. Here, we use HAGAN_DF as interpolation type and use no extrapolation. For an overview of interpolation and extrapolation types please refer to the *enums* module.\n",
    "\n",
    "The main advantage of the The HAGAN_DF interpolation, also called the monotone convex method (unameliorated version), is that in contrast to the other methods, it ensures forward rates to be positive and is, hence, the probably most suitable interpolation method for financial problems. The method is described in depth in: Hagan, West, \"Methods for Constructing a Yield Curve\", 2008.\n",
    "\n",
    "The following diagrams show the differences between the linear and HAGAN_DF interpolation for a newly created discount curve."
   ]
  },
  {
   "cell_type": "code",
   "execution_count": 23,
   "metadata": {
    "ExecuteTime": {
     "end_time": "2020-05-03T11:48:52.570852Z",
     "start_time": "2020-05-03T11:48:52.152082Z"
    }
   },
   "outputs": [
    {
     "ename": "AttributeError",
     "evalue": "'DiscountCurve' object has no attribute 'plot'",
     "output_type": "error",
     "traceback": [
      "\u001b[0;31m---------------------------------------------------------------------------\u001b[0m",
      "\u001b[0;31mAttributeError\u001b[0m                            Traceback (most recent call last)",
      "\u001b[0;32m<ipython-input-23-c3881b020c89>\u001b[0m in \u001b[0;36m<module>\u001b[0;34m\u001b[0m\n\u001b[1;32m      9\u001b[0m \u001b[0;34m\u001b[0m\u001b[0m\n\u001b[1;32m     10\u001b[0m \u001b[0;34m\u001b[0m\u001b[0m\n\u001b[0;32m---> 11\u001b[0;31m \u001b[0mdc_linear\u001b[0m\u001b[0;34m.\u001b[0m\u001b[0mplot\u001b[0m\u001b[0;34m(\u001b[0m\u001b[0;34m)\u001b[0m\u001b[0;34m\u001b[0m\u001b[0;34m\u001b[0m\u001b[0m\n\u001b[0m\u001b[1;32m     12\u001b[0m \u001b[0mdc_hagan\u001b[0m\u001b[0;34m.\u001b[0m\u001b[0mplot\u001b[0m\u001b[0;34m(\u001b[0m\u001b[0;34m)\u001b[0m\u001b[0;34m\u001b[0m\u001b[0;34m\u001b[0m\u001b[0m\n\u001b[1;32m     13\u001b[0m \u001b[0mplt\u001b[0m\u001b[0;34m.\u001b[0m\u001b[0mlegend\u001b[0m\u001b[0;34m(\u001b[0m\u001b[0;34m)\u001b[0m\u001b[0;34m\u001b[0m\u001b[0;34m\u001b[0m\u001b[0m\n",
      "\u001b[0;31mAttributeError\u001b[0m: 'DiscountCurve' object has no attribute 'plot'"
     ]
    }
   ],
   "source": [
    "refdate = dt.datetime(2017,1,1,0,0,0)\n",
    "days_to_maturity =  [1, 180, 365, 720, 3*365, 4*365, 10*365]\n",
    "rates = [-0.0065, 0.0003, 0.0059, 0.0086, 0.0101, 0.012, 0.02]\n",
    "dates = [refdate + dt.timedelta(days=i) for i in days_to_maturity]\n",
    "dsc_fac = [math.exp(-rates[d]*days_to_maturity[d]/365) for d in range(len(rates))]\n",
    "        \n",
    "dc_linear = DiscountCurve('dc_linear', refdate, dates, dsc_fac, enums.InterpolationType.LINEAR)\n",
    "dc_hagan = DiscountCurve('dc_hagan', refdate, dates, dsc_fac, enums.InterpolationType.HAGAN_DF)\n",
    "\n",
    "\n",
    "dc_linear.plot()\n",
    "dc_hagan.plot()\n",
    "plt.legend()"
   ]
  },
  {
   "cell_type": "code",
   "execution_count": 15,
   "metadata": {},
   "outputs": [
    {
     "ename": "AttributeError",
     "evalue": "'DiscountCurve' object has no attribute 'plot'",
     "output_type": "error",
     "traceback": [
      "\u001b[0;31m---------------------------------------------------------------------------\u001b[0m",
      "\u001b[0;31mAttributeError\u001b[0m                            Traceback (most recent call last)",
      "\u001b[0;32m<ipython-input-15-bd937424891b>\u001b[0m in \u001b[0;36m<module>\u001b[0;34m\u001b[0m\n\u001b[0;32m----> 1\u001b[0;31m \u001b[0mdc_linear\u001b[0m\u001b[0;34m.\u001b[0m\u001b[0mplot\u001b[0m\u001b[0;34m(\u001b[0m\u001b[0;34m)\u001b[0m\u001b[0;34m\u001b[0m\u001b[0;34m\u001b[0m\u001b[0m\n\u001b[0m",
      "\u001b[0;31mAttributeError\u001b[0m: 'DiscountCurve' object has no attribute 'plot'"
     ]
    }
   ],
   "source": [
    "dc_linear.plot()"
   ]
  },
  {
   "cell_type": "markdown",
   "metadata": {},
   "source": [
    "### Setup the discount curve\n",
    "\n",
    "Our discount curve is given the name *dc* and is defined as an analytics.DiscountCurve object which we provide with the information described before. "
   ]
  },
  {
   "cell_type": "code",
   "execution_count": 7,
   "metadata": {
    "ExecuteTime": {
     "end_time": "2020-05-03T11:48:52.582771Z",
     "start_time": "2020-05-03T11:48:52.573837Z"
    }
   },
   "outputs": [],
   "source": [
    "dc = analytics.DiscountCurve(object_id, refdate,dates, df, enums.DayCounter.ACT365_FIXED, enums.InterpolationType.HAGAN_DF, enums.ExtrapolationType.NONE)\n",
    "#help(analytics.DiscountCurve)"
   ]
  },
  {
   "cell_type": "markdown",
   "metadata": {},
   "source": [
    "## Compute Discount Factors\n",
    "\n",
    "This section is only to manually derive some discount factors from the recently created discount curve.\n",
    "\n",
    "**a. Maturity in 180 days from the reference date**\n",
    "\n",
    "The value function returning a discount factor needs two arguments: the calculation date (here we use the current reference date) and the maturity for which the discount factor shall be computed. Hence, in a first step, the maturity in 180 days has to be converted into a date. Subsequently, the discount factor is computed using the value function. Finally, the print function gives us the computed discount factor of the value function."
   ]
  },
  {
   "cell_type": "code",
   "execution_count": 8,
   "metadata": {
    "ExecuteTime": {
     "end_time": "2020-05-03T11:48:52.605103Z",
     "start_time": "2020-05-03T11:48:52.586368Z"
    }
   },
   "outputs": [
    {
     "name": "stdout",
     "output_type": "stream",
     "text": [
      "DF for T=180 days:  0.9853143806656076\n"
     ]
    }
   ],
   "source": [
    "maturity = converter.getLTime(180, refdate)\n",
    "#help(converter.getLTime)\n",
    "#print(maturity.to_string())\n",
    "df1 = dc.value(refdate, maturity)\n",
    "#help(dc.value)\n",
    "print(\"DF for T=180 days: \", df1)"
   ]
  },
  {
   "cell_type": "markdown",
   "metadata": {},
   "source": [
    "**b. Forward discount factor for a maturity in 180 days in 90 days**\n",
    "\n",
    "If the valuation date given is in the future, the value function returns the forward discount factor. The following example gives us the forward discount factor for a maturity in 180 days in 90 days."
   ]
  },
  {
   "cell_type": "code",
   "execution_count": 9,
   "metadata": {
    "ExecuteTime": {
     "end_time": "2020-05-03T11:48:52.617713Z",
     "start_time": "2020-05-03T11:48:52.608407Z"
    }
   },
   "outputs": [
    {
     "name": "stdout",
     "output_type": "stream",
     "text": [
      "Fwd-DF for T=180 days in 90 days:  0.9926300321180352\n"
     ]
    }
   ],
   "source": [
    "fwd_df = dc.value(converter.getLTime(90, refdate), maturity)\n",
    "print(\"Fwd-DF for T=180 days in 90 days: \", fwd_df)"
   ]
  },
  {
   "cell_type": "markdown",
   "metadata": {},
   "source": [
    "A check proves that the result equally the forward discount curve."
   ]
  },
  {
   "cell_type": "code",
   "execution_count": 10,
   "metadata": {
    "ExecuteTime": {
     "end_time": "2020-05-03T11:48:52.640920Z",
     "start_time": "2020-05-03T11:48:52.622492Z"
    }
   },
   "outputs": [
    {
     "name": "stdout",
     "output_type": "stream",
     "text": [
      "Fwd-DF (manual calculation):  0.9926300321180352\n"
     ]
    }
   ],
   "source": [
    "df2 = dc.value(refdate, converter.getLTime(90, refdate))\n",
    "print(\"Fwd-DF (manual calculation): \", df1/df2)"
   ]
  },
  {
   "cell_type": "markdown",
   "metadata": {},
   "source": [
    "**c. Valuation dates before the reference date**\n",
    "\n",
    "Valuation dates before the curves reference date result in an exception (uncomment the following code to see the exception)."
   ]
  },
  {
   "cell_type": "code",
   "execution_count": 11,
   "metadata": {
    "ExecuteTime": {
     "end_time": "2020-05-03T11:48:52.663528Z",
     "start_time": "2020-05-03T11:48:52.642706Z"
    }
   },
   "outputs": [],
   "source": [
    "#dc.value(converter.getLTime(-90, refdate), maturity)"
   ]
  },
  {
   "cell_type": "markdown",
   "metadata": {},
   "source": [
    "**d. Vector of discount factors** \n",
    "\n",
    "There is also a version of the value function to compute a whole vector of discount factors which may be more efficient then looping over the method returning one value. For simplification we just use the dates vector from the construction."
   ]
  },
  {
   "cell_type": "code",
   "execution_count": 12,
   "metadata": {
    "ExecuteTime": {
     "end_time": "2020-05-03T11:48:52.698626Z",
     "start_time": "2020-05-03T11:48:52.666600Z"
    }
   },
   "outputs": [
    {
     "name": "stdout",
     "output_type": "stream",
     "text": [
      "Vector of DFs:\n",
      "0.9999178115998296\n",
      "0.9853143806656076\n",
      "0.9704455335514195\n",
      "0.9425389048195377\n",
      "0.91393118527397\n",
      "0.8869204367198182\n",
      "0.7408182206861628\n"
     ]
    }
   ],
   "source": [
    "dfs = analytics.vectorDouble()\n",
    "dc.value(dfs, refdate, dates)\n",
    "print(\"Vector of DFs:\")\n",
    "for df in dfs: print(df)"
   ]
  },
  {
   "cell_type": "markdown",
   "metadata": {},
   "source": [
    "To see the two versions of the value function and the arguments required uncomment the following code."
   ]
  },
  {
   "cell_type": "code",
   "execution_count": 13,
   "metadata": {
    "ExecuteTime": {
     "end_time": "2020-05-03T11:48:52.710459Z",
     "start_time": "2020-05-03T11:48:52.703567Z"
    },
    "code_folding": []
   },
   "outputs": [],
   "source": [
    "#help(analytics.DiscountCurve.value)"
   ]
  },
  {
   "cell_type": "markdown",
   "metadata": {},
   "source": [
    "## Plotting Discount Curves\n",
    "\n",
    "To plot a curve one needs to pass the dates (either as a vector or list of datetime/ptimes or as a list of days from the reference date), where the curve will be evaluated and the reference date.\n",
    "\n",
    "In addition, one can choose if the discount factors or continuously compounded rates will be plotted. To show the second option, we first create a new figure, otherwise the rate will be plotted in the same figure as the discount factors."
   ]
  },
  {
   "cell_type": "code",
   "execution_count": 14,
   "metadata": {
    "ExecuteTime": {
     "end_time": "2020-05-03T11:48:53.415055Z",
     "start_time": "2020-05-03T11:48:52.712661Z"
    },
    "code_folding": []
   },
   "outputs": [
    {
     "data": {
      "image/png": "[encoded data removed]",
      "text/plain": [
       "<Figure size 432x288 with 1 Axes>"
      ]
     },
     "metadata": {
      "needs_background": "light"
     },
     "output_type": "display_data"
    },
    {
     "data": {
      "image/png": "[encoded data removed]",
      "text/plain": [
       "<Figure size 432x288 with 1 Axes>"
      ]
     },
     "metadata": {
      "needs_background": "light"
     },
     "output_type": "display_data"
    }
   ],
   "source": [
    "#help(mkt_plot.curve)\n",
    "mkt_plot.curve(dc,range(1,10*365,30), refdate)\n",
    "mkt_plot.plt.figure()\n",
    "mkt_plot.curve(dc,range(1,10*365,30), refdate, True)"
   ]
  },
  {
   "cell_type": "markdown",
   "metadata": {},
   "source": [
    "## Exercises"
   ]
  },
  {
   "cell_type": "markdown",
   "metadata": {},
   "source": [
    "- Create a second discount curve with non-flat rate structure."
   ]
  },
  {
   "cell_type": "code",
   "execution_count": null,
   "metadata": {},
   "outputs": [],
   "source": []
  },
  {
   "cell_type": "markdown",
   "metadata": {},
   "source": [
    "- Plot the second discount curve and the first discount curve together in one figure."
   ]
  },
  {
   "cell_type": "code",
   "execution_count": null,
   "metadata": {},
   "outputs": [],
   "source": []
  },
  {
   "cell_type": "markdown",
   "metadata": {},
   "source": [
    "- Create a third discount curve exactly as the second but with interpolation LINEARLOG and compare the differences of results using different interpolation schemes (note that finding the correct ensemble of dates and discount factors, forward rates may not be smoothly interpolated with LINEARLOG)."
   ]
  },
  {
   "cell_type": "code",
   "execution_count": null,
   "metadata": {},
   "outputs": [],
   "source": []
  },
  {
   "cell_type": "markdown",
   "metadata": {},
   "source": [
    "- Write a function computing a simply (continuously) compounded rate for a given discount factor and year fraction."
   ]
  },
  {
   "cell_type": "code",
   "execution_count": null,
   "metadata": {},
   "outputs": [],
   "source": []
  },
  {
   "cell_type": "markdown",
   "metadata": {},
   "source": [
    "- Write a function computing an annually compounded rate for a given discount factor and year fraction."
   ]
  },
  {
   "cell_type": "code",
   "execution_count": null,
   "metadata": {},
   "outputs": [],
   "source": []
  },
  {
   "cell_type": "markdown",
   "metadata": {},
   "source": [
    "- Find and modify the plot function from above so that the user can additionally choose which compounding rate is used when plotting the rate."
   ]
  },
  {
   "cell_type": "code",
   "execution_count": null,
   "metadata": {},
   "outputs": [],
   "source": []
  },
  {
   "cell_type": "markdown",
   "metadata": {},
   "source": [
    "---"
   ]
  }
 ],
 "metadata": {
  "hide_input": false,
  "kernelspec": {
   "display_name": "pyvacon",
   "language": "python",
   "name": "pyvacon"
  },
  "language_info": {
   "codemirror_mode": {
    "name": "ipython",
    "version": 3
   },
   "file_extension": ".py",
   "mimetype": "text/x-python",
   "name": "python",
   "nbconvert_exporter": "python",
   "pygments_lexer": "ipython3",
   "version": "3.8.5"
  },
  "toc": {
   "base_numbering": 1,
   "nav_menu": {},
   "number_sections": true,
   "sideBar": true,
   "skip_h1_title": true,
   "title_cell": "Table of Contents",
   "title_sidebar": "Contents",
   "toc_cell": false,
   "toc_position": {},
   "toc_section_display": true,
   "toc_window_display": true
  },
  "varInspector": {
   "cols": {
    "lenName": 16,
    "lenType": 16,
    "lenVar": 40
   },
   "kernels_config": {
    "python": {
     "delete_cmd_postfix": "",
     "delete_cmd_prefix": "del ",
     "library": "var_list.py",
     "varRefreshCmd": "print(var_dic_list())"
    },
    "r": {
     "delete_cmd_postfix": ") ",
     "delete_cmd_prefix": "rm(",
     "library": "var_list.r",
     "varRefreshCmd": "cat(var_dic_list()) "
    }
   },
   "types_to_exclude": [
    "module",
    "function",
    "builtin_function_or_method",
    "instance",
    "_Feature"
   ],
   "window_display": false
  }
 },
 "nbformat": 4,
 "nbformat_minor": 2
}
