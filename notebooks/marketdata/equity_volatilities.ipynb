{
 "cells": [
  {
   "cell_type": "markdown",
   "metadata": {},
   "source": [
    "![](../images/rivacon_frontmark_combined_header.png)"
   ]
  },
  {
   "cell_type": "markdown",
   "metadata": {},
   "source": [
    "# Equity Volatility Surfaces"
   ]
  },
  {
   "cell_type": "code",
   "execution_count": 1,
   "metadata": {
    "ExecuteTime": {
     "end_time": "2021-05-11T13:30:55.845351Z",
     "start_time": "2021-05-11T13:30:51.456489Z"
    }
   },
   "outputs": [],
   "source": [
    "import matplotlib\n",
    "matplotlib.use('nbagg')\n",
    "import rivapy\n",
    "from rivapy import marketdata as mkt_data\n",
    "from rivapy import enums as enums\n",
    "import pyvacon\n",
    "import datetime as dt\n",
    "import math\n",
    "import numpy as np\n",
    "from mpl_toolkits.mplot3d import Axes3D\n",
    "from matplotlib import cm\n",
    "import plotly.graph_objects as go\n",
    "#the next lin is a jupyter internal command to show the matplotlib graphs within the notebook\n",
    "#%matplotlib inline"
   ]
  },
  {
   "cell_type": "markdown",
   "metadata": {},
   "source": [
    "## General Remarks\n",
    "An equity volatility surface is an object providing for arbitrary expiries and strikes implied volatilities. The volatility surfaces provided by the analytics library are parametrized w.r.t. the so-called X-strikes, i.e. one has to put in a strike w.r.t. the X-variable which is the driving process of the spot $S$, i.e.\n",
    "$$ S_t=(F_t-D_t)X_t+D_t$$\n",
    "where $F_t$ is the risky forward and $D_t$ the cash dividends, see [Buehler](https://papers.ssrn.com/sol3/papers.cfm?abstract_id=1141877) for a more detailed discussion. \n",
    "\n",
    "To create a volatility surface one needs two components:\n",
    "- A reference forward curve (typically the forward curve which was used to compute the implieds from quoted prices)\n",
    "- A volatility parametrization\n",
    "\n"
   ]
  },
  {
   "cell_type": "markdown",
   "metadata": {},
   "source": [
    "## Creating Forward Curve\n",
    "We create a dummy forward curve as shown in the  [forward_curve](equity_forwardcurve.ipynb) notebook which will be used in all subsequent volatility surface constructions."
   ]
  },
  {
   "cell_type": "code",
   "execution_count": 2,
   "metadata": {
    "ExecuteTime": {
     "end_time": "2021-05-11T13:30:57.195175Z",
     "start_time": "2021-05-11T13:30:57.172517Z"
    }
   },
   "outputs": [],
   "source": [
    "refdate = dt.datetime(2017,1,1)\n",
    "\n",
    "#dividend table neede fo forward curve\n",
    "object_id = \"TEST_DIV\" \n",
    "ex_dates = [dt.datetime(2018,3,29), dt.datetime(2019,3,29), dt.datetime(2020,3,29), dt.datetime(2021,3,29)]\n",
    "pay_dates = [dt.datetime(2018,4,1), dt.datetime(2019,4,1), dt.datetime(2020,4,1), dt.datetime(2021,4,1)]\n",
    "tax_factors = [1.0, 1.0, 1.0, 1.0]\n",
    "div_yield = [0, 0.005, 0.01, 0.01]\n",
    "div_cash = [3.0, 2.0, 1.0, 0.0]\n",
    "div_table=rivapy.marketdata.DividendTable(object_id, refdate, ex_dates, pay_dates, div_yield, div_cash, tax_factors)\n",
    "\n",
    "#discount- and borrowing curve needed for forward curve\n",
    "dates = [refdate + dt.timedelta(days=x) for x in [0,10]]\n",
    "df = [1.0,1.0]\n",
    "dc = mkt_data.DiscountCurve(object_id, refdate, dates, df, \n",
    "                             enums.InterpolationType.HAGAN_DF, enums.ExtrapolationType.NONE, enums.DayCounterType.Act365Fixed)\n",
    "bc = mkt_data.DiscountCurve(object_id, refdate, dates, df, \n",
    "                             enums.InterpolationType.HAGAN_DF, enums.ExtrapolationType.NONE, enums.DayCounterType.Act365Fixed)\n",
    "spot = 100.0\n",
    "\n",
    "#forward curve\n",
    "forward_curve = mkt_data.EquityForwardCurve(spot, dc, bc, div_table)"
   ]
  },
  {
   "cell_type": "markdown",
   "metadata": {},
   "source": [
    "## Volatility Parametrizations\n",
    "\n",
    "The volatility parametrization provides the method *calcImpliedVol* functionality to retrieve for each x-strike and time-to-maturity (in year fractions) the implied volatility. This method is used internally in the volatility surface in all methods where a implied volatility is computed.\n",
    "We will discuss the different available parametrizations in this subsection.\n",
    "\n",
    "### Flat volatility\n",
    "To setup a flat volatility, one may use the VolatilityParametrizationFlat"
   ]
  },
  {
   "cell_type": "code",
   "execution_count": 3,
   "metadata": {
    "ExecuteTime": {
     "end_time": "2021-05-11T13:30:57.739644Z",
     "start_time": "2021-05-11T13:30:57.722662Z"
    }
   },
   "outputs": [],
   "source": [
    "flat_param = rivapy.marketdata.VolatilityParametrizationFlat(0.3)"
   ]
  },
  {
   "cell_type": "markdown",
   "metadata": {},
   "source": [
    "### Term structure volatility\n",
    "To create a volatility which has only a term structure and no strike dependency one may use this parametrization type. This parametrization needs a vector of expiry times (given as year fractions which are interpreted as year fractions w.r.t. the day counter specified in th volatility surface) and forward at-the-money volatilities, i.e. X-strike=1.0."
   ]
  },
  {
   "cell_type": "code",
   "execution_count": 4,
   "metadata": {
    "ExecuteTime": {
     "end_time": "2021-05-11T13:30:58.196019Z",
     "start_time": "2021-05-11T13:30:58.179063Z"
    }
   },
   "outputs": [],
   "source": [
    "ttm = [1.0/12.0, 1.0, 2.0, 3.0]\n",
    "fwd_atm_vols =  [0.3, 0.28, 0.25, 0.24]\n",
    "term_param = mkt_data.VolatilityParametrizationTerm(ttm,fwd_atm_vols)"
   ]
  },
  {
   "cell_type": "markdown",
   "metadata": {},
   "source": [
    "### SSVI\n",
    "This parametrization is inspired by the volatility structure provided by stochastic volatility models. The total variance $w(k,t)$ for a strike log strike $k$ and time-to-maturity $t$ is given by\n",
    "$$ w(k,t) = \\frac{\\theta_t}{2}\\left( 1+\\rho\\phi(\\theta_t)k+\\sqrt{(\\phi(\\theta_t)k+\\rho)^2+(1-\\rho^2)}  \\right) $$ \n",
    "and \n",
    "$$ \\phi(\\theta_t) = \\frac{\\eta}{\\theta_t^\\gamma(1+\\theta_t)^{1-\\gamma}} $$\n",
    "for parameters $\\rho$, $\\eta$, $\\gamma$ and given atm implied total variances $\\theta_t:=\\sigma^2(t)t$. The term structure of implied total variances is internally approximated by interpolation from given atm volatilities. The nice property of this surface is that there are very simple conditions on the parameters to guarantee that the surface is free of arbitrage, see [gatheral_jacquier_svi](https://papers.ssrn.com/sol3/papers.cfm?abstract_id=2033323)."
   ]
  },
  {
   "cell_type": "code",
   "execution_count": 5,
   "metadata": {
    "ExecuteTime": {
     "end_time": "2021-05-11T13:30:58.761514Z",
     "start_time": "2021-05-11T13:30:58.749547Z"
    }
   },
   "outputs": [],
   "source": [
    "gamma = 0.5 # responsible for the \"rate of decay\"\n",
    "rho = -0.7 # responsible for the skewness of the vol_surface\n",
    "eta = 1.0 # responsible for the curvature\n",
    "ssvi_param = mkt_data.VolatilityParametrizationSSVI(ttm, fwd_atm_vols, rho, eta, gamma)"
   ]
  },
  {
   "cell_type": "markdown",
   "metadata": {},
   "source": [
    "## Volatility Surface\n",
    "The forward curve and the parametrization can now be combined into a VolatilitySurface"
   ]
  },
  {
   "cell_type": "code",
   "execution_count": 10,
   "metadata": {
    "ExecuteTime": {
     "end_time": "2021-05-11T13:31:31.750857Z",
     "start_time": "2021-05-11T13:31:31.732904Z"
    }
   },
   "outputs": [],
   "source": [
    "obj_id = 'TEST_SURFACE'\n",
    "vol_surf = mkt_data.VolatilitySurface(obj_id, refdate, forward_curve, enums.DayCounterType.Act365Fixed, ssvi_param)"
   ]
  },
  {
   "cell_type": "markdown",
   "metadata": {},
   "source": [
    "To compute an implied volatility, one may use the method *calcImpliedVol*. Note that this method applies a sticky-strike handling of volatilities, i.e. it assumes that the implied volatility given a certain strike is independent of current forward values which may differ from the forwards when the volatility surface was calibrated."
   ]
  },
  {
   "cell_type": "code",
   "execution_count": 11,
   "metadata": {
    "ExecuteTime": {
     "end_time": "2021-05-11T13:31:32.296940Z",
     "start_time": "2021-05-11T13:31:32.282979Z"
    }
   },
   "outputs": [
    {
     "name": "stdout",
     "output_type": "stream",
     "text": [
      "0.20807725621750114\n"
     ]
    }
   ],
   "source": [
    "vol = vol_surf.calcImpliedVol(refdate,refdate + dt.timedelta(days=180),120)\n",
    "print(vol)"
   ]
  },
  {
   "cell_type": "markdown",
   "metadata": {},
   "source": [
    "By executing the following command line, the volatility surface is plotted."
   ]
  },
  {
   "cell_type": "code",
   "execution_count": 64,
   "metadata": {
    "ExecuteTime": {
     "end_time": "2021-05-11T15:54:47.079548Z",
     "start_time": "2021-05-11T15:54:46.980693Z"
    },
    "code_folding": [
     0
    ],
    "tags": []
   },
   "outputs": [
    {
     "data": {
      "application/vnd.plotly.v1+json": {
       "config": {
        "plotlyServerURL": "https://plot.ly"
       },
       "data": [
        {
         "colorscale": [
          [
           0,
           "rgb(0, 147, 146)"
          ],
          [
           0.16666666666666666,
           "rgb(57, 177, 133)"
          ],
          [
           0.3333333333333333,
           "rgb(156, 203, 134)"
          ],
          [
           0.5,
           "rgb(233, 226, 156)"
          ],
          [
           0.6666666666666666,
           "rgb(238, 180, 121)"
          ],
          [
           0.8333333333333334,
           "rgb(232, 132, 113)"
          ],
          [
           1,
           "rgb(207, 89, 126)"
          ]
         ],
         "hovertemplate": "Strike:  %{y: .0f}<br>TTM: %{x: .0f}<br>Volatility: %{z: .2f}<extra></extra>",
         "type": "surface",
         "x": [
          0.08333333333333333,
          1,
          2,
          3
         ],
         "y": [
          80,
          80.4,
          80.80000000000001,
          81.20000000000002,
          81.60000000000002,
          82.00000000000003,
          82.40000000000003,
          82.80000000000004,
          83.20000000000005,
          83.60000000000005,
          84.00000000000006,
          84.40000000000006,
          84.80000000000007,
          85.20000000000007,
          85.60000000000008,
          86.00000000000009,
          86.40000000000009,
          86.8000000000001,
          87.2000000000001,
          87.60000000000011,
          88.00000000000011,
          88.40000000000012,
          88.80000000000013,
          89.20000000000013,
          89.60000000000014,
          90.00000000000014,
          90.40000000000015,
          90.80000000000015,
          91.20000000000016,
          91.60000000000016,
          92.00000000000017,
          92.40000000000018,
          92.80000000000018,
          93.20000000000019,
          93.6000000000002,
          94.0000000000002,
          94.4000000000002,
          94.80000000000021,
          95.20000000000022,
          95.60000000000022,
          96.00000000000023,
          96.40000000000023,
          96.80000000000024,
          97.20000000000024,
          97.60000000000025,
          98.00000000000026,
          98.40000000000026,
          98.80000000000027,
          99.20000000000027,
          99.60000000000028,
          100.00000000000028,
          100.40000000000029,
          100.8000000000003,
          101.2000000000003,
          101.6000000000003,
          102.00000000000031,
          102.40000000000032,
          102.80000000000032,
          103.20000000000033,
          103.60000000000034,
          104.00000000000034,
          104.40000000000035,
          104.80000000000035,
          105.20000000000036,
          105.60000000000036,
          106.00000000000037,
          106.40000000000038,
          106.80000000000038,
          107.20000000000039,
          107.60000000000039,
          108.0000000000004,
          108.4000000000004,
          108.80000000000041,
          109.20000000000041,
          109.60000000000042,
          110.00000000000043,
          110.40000000000043,
          110.80000000000044,
          111.20000000000044,
          111.60000000000045,
          112.00000000000045,
          112.40000000000046,
          112.80000000000047,
          113.20000000000047,
          113.60000000000048,
          114.00000000000048,
          114.40000000000049,
          114.8000000000005,
          115.2000000000005,
          115.6000000000005,
          116.00000000000051,
          116.40000000000052,
          116.80000000000052,
          117.20000000000053,
          117.60000000000053,
          118.00000000000054,
          118.40000000000055,
          118.80000000000055,
          119.20000000000056,
          119.60000000000056
         ],
         "z": [
          [
           0.5365790890342296,
           0.35738231058612047,
           0.2956253870388866,
           0.27114015287237214
          ],
          [
           0.532242089984758,
           0.35574667045738173,
           0.2944806721718511,
           0.27022595829399215
          ],
          [
           0.5278950035661529,
           0.3541143947347174,
           0.29333925575379693,
           0.26931489916645407
          ],
          [
           0.5235374004036668,
           0.35248546537618974,
           0.2922011335584626,
           0.2684069720981418
          ],
          [
           0.5191688450375731,
           0.35085986647511624,
           0.29106630265911326,
           0.2675021745315576
          ],
          [
           0.5147888958581367,
           0.34923758430531343,
           0.2899347614410279,
           0.26660050474372315
          ],
          [
           0.5103971050678394,
           0.34761860736889916,
           0.2888065096145505,
           0.265701961846701
          ],
          [
           0.5059930186758399,
           0.34600292644670494,
           0.2876815482286858,
           0.26480654578822055
          ],
          [
           0.5015761765304437,
           0.3443905346513489,
           0.286559879685223,
           0.2639142573523921
          ],
          [
           0.49714611239629164,
           0.3427814274830222,
           0.2854415077533646,
           0.2630250981604906
          ],
          [
           0.4927023540840468,
           0.3411756028880377,
           0.28432643758483933,
           0.2621390706717929
          ],
          [
           0.4882444236416177,
           0.33957306132019055,
           0.2832146757294755,
           0.26125617818444885
          ],
          [
           0.483771837617407,
           0.3379738058049775,
           0.28210623015120695,
           0.2603764248363675
          ],
          [
           0.47928410740777355,
           0.33637784200672105,
           0.2810011102444852,
           0.25949981560609975
          ],
          [
           0.4747807397028709,
           0.3347851782986392,
           0.2798993268510662,
           0.2586263563136952
          ],
          [
           0.47026123704732714,
           0.3331958258359004,
           0.27880089227713883,
           0.2577560536215146
          ],
          [
           0.4657250985349231,
           0.331609798631698,
           0.2777058203107598,
           0.2568889150349742
          ],
          [
           0.4611718206595658,
           0.3300271136363731,
           0.27661412623955584,
           0.2560249489032011
          ],
          [
           0.4566008983485256,
           0.32844779081961056,
           0.275525826868653,
           0.2551641644195754
          ],
          [
           0.45201182620820557,
           0.3268718532557232,
           0.2744409405387872,
           0.25430657162213605
          ],
          [
           0.4474041000177405,
           0.3252993272120352,
           0.27335948714454883,
           0.25345218139382547
          ],
          [
           0.44277721851161717,
           0.32373024224036245,
           0.27228148815271036,
           0.25260100546254727
          ],
          [
           0.4381306854994193,
           0.32216463127158124,
           0.271206966620581,
           0.2517530564010119
          ],
          [
           0.4334640123789004,
           0.32060253071326217,
           0.27013594721433093,
           0.25090834762634173
          ],
          [
           0.42877672110809567,
           0.31904398055033534,
           0.2690684562272202,
           0.25006689339940913
          ],
          [
           0.42406834771332963,
           0.3174890244487364,
           0.26800452159766713,
           0.2492287088238789
          ],
          [
           0.41933844642305934,
           0.31593770986196795,
           0.266944172927084,
           0.2483938098449246
          ],
          [
           0.4145865945328205,
           0.3143900881404925,
           0.2658874414974028,
           0.24756221324759042
          ],
          [
           0.409812398124511,
           0.31284621464385276,
           0.2648343602882118,
           0.2467339366547662
          ],
          [
           0.40501549878426096,
           0.3113061488553922,
           0.2637849639934164,
           0.24590899852474532
          ],
          [
           0.40019558148768947,
           0.3097699544994267,
           0.2627392890373336,
           0.24508741814833254
          ],
          [
           0.39535238384994914,
           0.3082376996606874,
           0.2616973735901237,
           0.24426921564546877
          ],
          [
           0.39048570697118296,
           0.30670945690583107,
           0.2606592575824587,
           0.24345441196133993
          ],
          [
           0.3855954281464195,
           0.30518530340677463,
           0.25962498271932033,
           0.24264302886193498
          ],
          [
           0.38068151575308795,
           0.30366532106558464,
           0.2585945924928151,
           0.24183508892901903
          ],
          [
           0.37574404667968486,
           0.3021495966406067,
           0.2575681321938894,
           0.24103061555448588
          ],
          [
           0.3707832267159708,
           0.3006382218734844,
           0.25654564892282095,
           0.24022963293405505
          ],
          [
           0.3657994143883444,
           0.2991312936166711,
           0.25552719159835763,
           0.2394321660602766
          ],
          [
           0.3607931487931194,
           0.29762891396099145,
           0.25451281096536893,
           0.23863824071480808
          ],
          [
           0.35576518205377883,
           0.2961311903627579,
           0.253502559600871,
           0.23784788345992727
          ],
          [
           0.35071651710299195,
           0.29463823576989706,
           0.252496491918279,
           0.23706112162924373
          ],
          [
           0.34564845156125695,
           0.29315016874647887,
           0.25149466416973615,
           0.23627798331757335
          ],
          [
           0.3405626285434742,
           0.2916671135949857,
           0.2504971344463649,
           0.23549849736993902
          ],
          [
           0.3354610952602524,
           0.2901892004755927,
           0.24950396267627817,
           0.23472269336966206
          ],
          [
           0.3303463702740515,
           0.28871656552166425,
           0.24851521062018733,
           0.23395060162550785
          ],
          [
           0.32522152019505657,
           0.28724935095060317,
           0.2475309418644371,
           0.23318225315785152
          ],
          [
           0.32009024642118117,
           0.2857877051691166,
           0.24655122181129516,
           0.2324176796838284
          ],
          [
           0.3149569821909822,
           0.28433178287188865,
           0.24557611766632048,
           0.23165691360143634
          ],
          [
           0.30982699966252314,
           0.28288174513257436,
           0.2446056984226326,
           0.2308999879725566
          ],
          [
           0.30470652587452324,
           0.2814377594859528,
           0.24364003484190175,
           0.23014693650486284
          ],
          [
           0.29960286519464785,
           0.27999999999999897,
           0.2426791994318785,
           0.22939779353258727
          ],
          [
           0.29452452411584473,
           0.27856864733655856,
           0.24172326642028205,
           0.22865259399611595
          ],
          [
           0.289481331943603,
           0.2771438887992323,
           0.2407723117248664,
           0.22791137342038678
          ],
          [
           0.2844845479951087,
           0.27572591836700494,
           0.23982641291948578,
           0.22717416789206493
          ],
          [
           0.2795469424838597,
           0.2743149367120826,
           0.23888564919598296,
           0.22644101403547395
          ],
          [
           0.27468283455485376,
           0.27291115120033854,
           0.23795010132172956,
           0.22571194898726152
          ],
          [
           0.26990806750680396,
           0.27151477587270695,
           0.23701985159265115,
           0.22498701036978358
          ],
          [
           0.2652398989816159,
           0.2701260314058176,
           0.23609498378157778,
           0.22426623626319125
          ],
          [
           0.2606967840690491,
           0.2687451450501192,
           0.23517558308176892,
           0.22354966517620964
          ],
          [
           0.25629803333696594,
           0.2673723505437152,
           0.2342617360454709,
           0.22283733601560024
          ],
          [
           0.2520633370804975,
           0.26600788800011754,
           0.23335353051737745,
           0.22212928805430257
          ],
          [
           0.24801216215546498,
           0.2646520037681286,
           0.2324510555628762,
           0.22142556089825388
          ],
          [
           0.24416304769346409,
           0.26330495026207945,
           0.23155440139097946,
           0.2207261944518906
          ],
          [
           0.24053284780941203,
           0.26196698576069516,
           0.23066365927185453,
           0.2200312288823388
          ],
          [
           0.23713598817474202,
           0.26063837417292035,
           0.22977892144888695,
           0.21934070458230562
          ],
          [
           0.23398381326008733,
           0.25931938476912947,
           0.22890028104523108,
           0.21865466213168827
          ],
          [
           0.23108409753846745,
           0.2580102918762611,
           0.22802783196482465,
           0.21797314225792228
          ],
          [
           0.22844077570962476,
           0.25671137453556425,
           0.22716166878786753,
           0.21729618579509485
          ],
          [
           0.22605391727114185,
           0.25542291612181994,
           0.2263018866607922,
           0.21662383364185578
          ],
          [
           0.22391993649211311,
           0.2541452039231152,
           0.22544858118078012,
           0.2159561267181621
          ],
          [
           0.22203199830745168,
           0.25287852868048594,
           0.22460184827490778,
           0.21529310592089956
          ],
          [
           0.22038056041740567,
           0.2516231840870295,
           0.2237617840740379,
           0.21463481207842824
          ],
          [
           0.2189539847888854,
           0.2503794662463938,
           0.22292848478160254,
           0.21398128590410653
          ],
          [
           0.21773915666654245,
           0.24914767309090133,
           0.22210204653745927,
           0.21333256794885241
          ],
          [
           0.21672206225779211,
           0.2479281037599401,
           0.22128256527703596,
           0.21268869855280656
          ],
          [
           0.21588829277421867,
           0.24672105793966267,
           0.22047013658601494,
           0.212049717796169
          ],
          [
           0.21522345853043393,
           0.2455268351654667,
           0.2196648555508433,
           0.2114156654492844
          ],
          [
           0.2147135098439534,
           0.2443457340891859,
           0.2188668166053933,
           0.21078658092205857
          ],
          [
           0.21434497057993016,
           0.24317805171339266,
           0.2180761133741313,
           0.2101625032127931
          ],
          [
           0.21410509548513598,
           0.24202408259569572,
           0.21729283851219133,
           0.20954347085653074
          ],
          [
           0.21398196469857403,
           0.24088411802640347,
           0.21651708354278365,
           0.2089295218730092
          ],
          [
           0.2139645289361448,
           0.23975844518340528,
           0.21574893869240272,
           0.20832069371432602
          ],
          [
           0.21404261767286986,
           0.23864734626859355,
           0.2149884927243322,
           0.20771702321242103
          ],
          [
           0.21420692084691179,
           0.23755109763059717,
           0.2142358327709751,
           0.20711854652648867
          ],
          [
           0.21444895263425187,
           0.23646996887901395,
           0.21349104416556594,
           0.20652529909043488
          ],
          [
           0.2147610039614323,
           0.23540422199570485,
           0.2127542102738476,
           0.2059373155604976
          ],
          [
           0.21513608877371027,
           0.23435411044904036,
           0.21202541232631927,
           0.20535462976315294
          ],
          [
           0.215567887707135,
           0.23331987831725268,
           0.21130472925168017,
           0.20477727464343215
          ],
          [
           0.21605069172334138,
           0.23230175942724685,
           0.2105922375121114,
           0.20420528221377546
          ],
          [
           0.21657934742638957,
           0.2312999765153447,
           0.2098880109410487,
           0.20363868350355216
          ],
          [
           0.21714920515224423,
           0.23031474041647487,
           0.20919212058410766,
           0.2030775085093764
          ],
          [
           0.21775607046266465,
           0.22934624928827393,
           0.20850463454382498,
           0.20252178614634897
          ],
          [
           0.2183961593490852,
           0.2283946878764246,
           0.20782561782887793,
           0.20197154420035507
          ],
          [
           0.21906605722675215,
           0.22746022682732658,
           0.20715513220843862,
           0.2014268092815483
          ],
          [
           0.21976268164913398,
           0.22654302205387195,
           0.20649323607230508,
           0.20088760677914824
          ],
          [
           0.22048324857711354,
           0.22564321415968802,
           0.20583998429743816,
           0.20035396081767884
          ],
          [
           0.22122524198111648,
           0.22476092792671368,
           0.20519542812150748,
           0.19982589421477123
          ],
          [
           0.22198638652539243,
           0.22389627187040537,
           0.2045596150240264,
           0.19930342844065083
          ],
          [
           0.22276462307348202,
           0.2230493378662287,
           0.20393258861562008,
           0.19878658357942686
          ],
          [
           0.22355808675614894,
           0.22222020085039557,
           0.2033143885359397,
           0.19827537829229525
          ]
         ]
        }
       ],
       "layout": {
        "autosize": false,
        "margin": {
         "b": 65,
         "l": 65,
         "r": 50,
         "t": 90
        },
        "scene": {
         "xaxis": {
          "categoryorder": "category descending",
          "title": {
           "text": "TTM"
          }
         },
         "yaxis": {
          "title": {
           "text": "Strike"
          }
         },
         "zaxis": {
          "title": {
           "text": "Volatility"
          }
         }
        },
        "template": {
         "data": {
          "bar": [
           {
            "error_x": {
             "color": "#2a3f5f"
            },
            "error_y": {
             "color": "#2a3f5f"
            },
            "marker": {
             "line": {
              "color": "#E5ECF6",
              "width": 0.5
             }
            },
            "type": "bar"
           }
          ],
          "barpolar": [
           {
            "marker": {
             "line": {
              "color": "#E5ECF6",
              "width": 0.5
             }
            },
            "type": "barpolar"
           }
          ],
          "carpet": [
           {
            "aaxis": {
             "endlinecolor": "#2a3f5f",
             "gridcolor": "white",
             "linecolor": "white",
             "minorgridcolor": "white",
             "startlinecolor": "#2a3f5f"
            },
            "baxis": {
             "endlinecolor": "#2a3f5f",
             "gridcolor": "white",
             "linecolor": "white",
             "minorgridcolor": "white",
             "startlinecolor": "#2a3f5f"
            },
            "type": "carpet"
           }
          ],
          "choropleth": [
           {
            "colorbar": {
             "outlinewidth": 0,
             "ticks": ""
            },
            "type": "choropleth"
           }
          ],
          "contour": [
           {
            "colorbar": {
             "outlinewidth": 0,
             "ticks": ""
            },
            "colorscale": [
             [
              0,
              "#0d0887"
             ],
             [
              0.1111111111111111,
              "#46039f"
             ],
             [
              0.2222222222222222,
              "#7201a8"
             ],
             [
              0.3333333333333333,
              "#9c179e"
             ],
             [
              0.4444444444444444,
              "#bd3786"
             ],
             [
              0.5555555555555556,
              "#d8576b"
             ],
             [
              0.6666666666666666,
              "#ed7953"
             ],
             [
              0.7777777777777778,
              "#fb9f3a"
             ],
             [
              0.8888888888888888,
              "#fdca26"
             ],
             [
              1,
              "#f0f921"
             ]
            ],
            "type": "contour"
           }
          ],
          "contourcarpet": [
           {
            "colorbar": {
             "outlinewidth": 0,
             "ticks": ""
            },
            "type": "contourcarpet"
           }
          ],
          "heatmap": [
           {
            "colorbar": {
             "outlinewidth": 0,
             "ticks": ""
            },
            "colorscale": [
             [
              0,
              "#0d0887"
             ],
             [
              0.1111111111111111,
              "#46039f"
             ],
             [
              0.2222222222222222,
              "#7201a8"
             ],
             [
              0.3333333333333333,
              "#9c179e"
             ],
             [
              0.4444444444444444,
              "#bd3786"
             ],
             [
              0.5555555555555556,
              "#d8576b"
             ],
             [
              0.6666666666666666,
              "#ed7953"
             ],
             [
              0.7777777777777778,
              "#fb9f3a"
             ],
             [
              0.8888888888888888,
              "#fdca26"
             ],
             [
              1,
              "#f0f921"
             ]
            ],
            "type": "heatmap"
           }
          ],
          "heatmapgl": [
           {
            "colorbar": {
             "outlinewidth": 0,
             "ticks": ""
            },
            "colorscale": [
             [
              0,
              "#0d0887"
             ],
             [
              0.1111111111111111,
              "#46039f"
             ],
             [
              0.2222222222222222,
              "#7201a8"
             ],
             [
              0.3333333333333333,
              "#9c179e"
             ],
             [
              0.4444444444444444,
              "#bd3786"
             ],
             [
              0.5555555555555556,
              "#d8576b"
             ],
             [
              0.6666666666666666,
              "#ed7953"
             ],
             [
              0.7777777777777778,
              "#fb9f3a"
             ],
             [
              0.8888888888888888,
              "#fdca26"
             ],
             [
              1,
              "#f0f921"
             ]
            ],
            "type": "heatmapgl"
           }
          ],
          "histogram": [
           {
            "marker": {
             "colorbar": {
              "outlinewidth": 0,
              "ticks": ""
             }
            },
            "type": "histogram"
           }
          ],
          "histogram2d": [
           {
            "colorbar": {
             "outlinewidth": 0,
             "ticks": ""
            },
            "colorscale": [
             [
              0,
              "#0d0887"
             ],
             [
              0.1111111111111111,
              "#46039f"
             ],
             [
              0.2222222222222222,
              "#7201a8"
             ],
             [
              0.3333333333333333,
              "#9c179e"
             ],
             [
              0.4444444444444444,
              "#bd3786"
             ],
             [
              0.5555555555555556,
              "#d8576b"
             ],
             [
              0.6666666666666666,
              "#ed7953"
             ],
             [
              0.7777777777777778,
              "#fb9f3a"
             ],
             [
              0.8888888888888888,
              "#fdca26"
             ],
             [
              1,
              "#f0f921"
             ]
            ],
            "type": "histogram2d"
           }
          ],
          "histogram2dcontour": [
           {
            "colorbar": {
             "outlinewidth": 0,
             "ticks": ""
            },
            "colorscale": [
             [
              0,
              "#0d0887"
             ],
             [
              0.1111111111111111,
              "#46039f"
             ],
             [
              0.2222222222222222,
              "#7201a8"
             ],
             [
              0.3333333333333333,
              "#9c179e"
             ],
             [
              0.4444444444444444,
              "#bd3786"
             ],
             [
              0.5555555555555556,
              "#d8576b"
             ],
             [
              0.6666666666666666,
              "#ed7953"
             ],
             [
              0.7777777777777778,
              "#fb9f3a"
             ],
             [
              0.8888888888888888,
              "#fdca26"
             ],
             [
              1,
              "#f0f921"
             ]
            ],
            "type": "histogram2dcontour"
           }
          ],
          "mesh3d": [
           {
            "colorbar": {
             "outlinewidth": 0,
             "ticks": ""
            },
            "type": "mesh3d"
           }
          ],
          "parcoords": [
           {
            "line": {
             "colorbar": {
              "outlinewidth": 0,
              "ticks": ""
             }
            },
            "type": "parcoords"
           }
          ],
          "pie": [
           {
            "automargin": true,
            "type": "pie"
           }
          ],
          "scatter": [
           {
            "marker": {
             "colorbar": {
              "outlinewidth": 0,
              "ticks": ""
             }
            },
            "type": "scatter"
           }
          ],
          "scatter3d": [
           {
            "line": {
             "colorbar": {
              "outlinewidth": 0,
              "ticks": ""
             }
            },
            "marker": {
             "colorbar": {
              "outlinewidth": 0,
              "ticks": ""
             }
            },
            "type": "scatter3d"
           }
          ],
          "scattercarpet": [
           {
            "marker": {
             "colorbar": {
              "outlinewidth": 0,
              "ticks": ""
             }
            },
            "type": "scattercarpet"
           }
          ],
          "scattergeo": [
           {
            "marker": {
             "colorbar": {
              "outlinewidth": 0,
              "ticks": ""
             }
            },
            "type": "scattergeo"
           }
          ],
          "scattergl": [
           {
            "marker": {
             "colorbar": {
              "outlinewidth": 0,
              "ticks": ""
             }
            },
            "type": "scattergl"
           }
          ],
          "scattermapbox": [
           {
            "marker": {
             "colorbar": {
              "outlinewidth": 0,
              "ticks": ""
             }
            },
            "type": "scattermapbox"
           }
          ],
          "scatterpolar": [
           {
            "marker": {
             "colorbar": {
              "outlinewidth": 0,
              "ticks": ""
             }
            },
            "type": "scatterpolar"
           }
          ],
          "scatterpolargl": [
           {
            "marker": {
             "colorbar": {
              "outlinewidth": 0,
              "ticks": ""
             }
            },
            "type": "scatterpolargl"
           }
          ],
          "scatterternary": [
           {
            "marker": {
             "colorbar": {
              "outlinewidth": 0,
              "ticks": ""
             }
            },
            "type": "scatterternary"
           }
          ],
          "surface": [
           {
            "colorbar": {
             "outlinewidth": 0,
             "ticks": ""
            },
            "colorscale": [
             [
              0,
              "#0d0887"
             ],
             [
              0.1111111111111111,
              "#46039f"
             ],
             [
              0.2222222222222222,
              "#7201a8"
             ],
             [
              0.3333333333333333,
              "#9c179e"
             ],
             [
              0.4444444444444444,
              "#bd3786"
             ],
             [
              0.5555555555555556,
              "#d8576b"
             ],
             [
              0.6666666666666666,
              "#ed7953"
             ],
             [
              0.7777777777777778,
              "#fb9f3a"
             ],
             [
              0.8888888888888888,
              "#fdca26"
             ],
             [
              1,
              "#f0f921"
             ]
            ],
            "type": "surface"
           }
          ],
          "table": [
           {
            "cells": {
             "fill": {
              "color": "#EBF0F8"
             },
             "line": {
              "color": "white"
             }
            },
            "header": {
             "fill": {
              "color": "#C8D4E3"
             },
             "line": {
              "color": "white"
             }
            },
            "type": "table"
           }
          ]
         },
         "layout": {
          "annotationdefaults": {
           "arrowcolor": "#2a3f5f",
           "arrowhead": 0,
           "arrowwidth": 1
          },
          "autotypenumbers": "strict",
          "coloraxis": {
           "colorbar": {
            "outlinewidth": 0,
            "ticks": ""
           }
          },
          "colorscale": {
           "diverging": [
            [
             0,
             "#8e0152"
            ],
            [
             0.1,
             "#c51b7d"
            ],
            [
             0.2,
             "#de77ae"
            ],
            [
             0.3,
             "#f1b6da"
            ],
            [
             0.4,
             "#fde0ef"
            ],
            [
             0.5,
             "#f7f7f7"
            ],
            [
             0.6,
             "#e6f5d0"
            ],
            [
             0.7,
             "#b8e186"
            ],
            [
             0.8,
             "#7fbc41"
            ],
            [
             0.9,
             "#4d9221"
            ],
            [
             1,
             "#276419"
            ]
           ],
           "sequential": [
            [
             0,
             "#0d0887"
            ],
            [
             0.1111111111111111,
             "#46039f"
            ],
            [
             0.2222222222222222,
             "#7201a8"
            ],
            [
             0.3333333333333333,
             "#9c179e"
            ],
            [
             0.4444444444444444,
             "#bd3786"
            ],
            [
             0.5555555555555556,
             "#d8576b"
            ],
            [
             0.6666666666666666,
             "#ed7953"
            ],
            [
             0.7777777777777778,
             "#fb9f3a"
            ],
            [
             0.8888888888888888,
             "#fdca26"
            ],
            [
             1,
             "#f0f921"
            ]
           ],
           "sequentialminus": [
            [
             0,
             "#0d0887"
            ],
            [
             0.1111111111111111,
             "#46039f"
            ],
            [
             0.2222222222222222,
             "#7201a8"
            ],
            [
             0.3333333333333333,
             "#9c179e"
            ],
            [
             0.4444444444444444,
             "#bd3786"
            ],
            [
             0.5555555555555556,
             "#d8576b"
            ],
            [
             0.6666666666666666,
             "#ed7953"
            ],
            [
             0.7777777777777778,
             "#fb9f3a"
            ],
            [
             0.8888888888888888,
             "#fdca26"
            ],
            [
             1,
             "#f0f921"
            ]
           ]
          },
          "colorway": [
           "#636efa",
           "#EF553B",
           "#00cc96",
           "#ab63fa",
           "#FFA15A",
           "#19d3f3",
           "#FF6692",
           "#B6E880",
           "#FF97FF",
           "#FECB52"
          ],
          "font": {
           "color": "#2a3f5f"
          },
          "geo": {
           "bgcolor": "white",
           "lakecolor": "white",
           "landcolor": "#E5ECF6",
           "showlakes": true,
           "showland": true,
           "subunitcolor": "white"
          },
          "hoverlabel": {
           "align": "left"
          },
          "hovermode": "closest",
          "mapbox": {
           "style": "light"
          },
          "paper_bgcolor": "white",
          "plot_bgcolor": "#E5ECF6",
          "polar": {
           "angularaxis": {
            "gridcolor": "white",
            "linecolor": "white",
            "ticks": ""
           },
           "bgcolor": "#E5ECF6",
           "radialaxis": {
            "gridcolor": "white",
            "linecolor": "white",
            "ticks": ""
           }
          },
          "scene": {
           "xaxis": {
            "backgroundcolor": "#E5ECF6",
            "gridcolor": "white",
            "gridwidth": 2,
            "linecolor": "white",
            "showbackground": true,
            "ticks": "",
            "zerolinecolor": "white"
           },
           "yaxis": {
            "backgroundcolor": "#E5ECF6",
            "gridcolor": "white",
            "gridwidth": 2,
            "linecolor": "white",
            "showbackground": true,
            "ticks": "",
            "zerolinecolor": "white"
           },
           "zaxis": {
            "backgroundcolor": "#E5ECF6",
            "gridcolor": "white",
            "gridwidth": 2,
            "linecolor": "white",
            "showbackground": true,
            "ticks": "",
            "zerolinecolor": "white"
           }
          },
          "shapedefaults": {
           "line": {
            "color": "#2a3f5f"
           }
          },
          "ternary": {
           "aaxis": {
            "gridcolor": "white",
            "linecolor": "white",
            "ticks": ""
           },
           "baxis": {
            "gridcolor": "white",
            "linecolor": "white",
            "ticks": ""
           },
           "bgcolor": "#E5ECF6",
           "caxis": {
            "gridcolor": "white",
            "linecolor": "white",
            "ticks": ""
           }
          },
          "title": {
           "x": 0.05
          },
          "xaxis": {
           "automargin": true,
           "gridcolor": "white",
           "linecolor": "white",
           "ticks": "",
           "title": {
            "standoff": 15
           },
           "zerolinecolor": "white",
           "zerolinewidth": 2
          },
          "yaxis": {
           "automargin": true,
           "gridcolor": "white",
           "linecolor": "white",
           "ticks": "",
           "title": {
            "standoff": 15
           },
           "zerolinecolor": "white",
           "zerolinewidth": 2
          }
         }
        },
        "title": {
         "text": "Volatility Surface"
        }
       }
      },
      "text/html": [
       "<div>                            <div id=\"1c554324-811b-4b81-b972-744cc168ec3a\" class=\"plotly-graph-div\" style=\"height:525px; width:100%;\"></div>            <script type=\"text/javascript\">                require([\"plotly\"], function(Plotly) {                    window.PLOTLYENV=window.PLOTLYENV || {};                                    if (document.getElementById(\"1c554324-811b-4b81-b972-744cc168ec3a\")) {                    Plotly.newPlot(                        \"1c554324-811b-4b81-b972-744cc168ec3a\",                        [{\"colorscale\": [[0.0, \"rgb(0, 147, 146)\"], [0.16666666666666666, \"rgb(57, 177, 133)\"], [0.3333333333333333, \"rgb(156, 203, 134)\"], [0.5, \"rgb(233, 226, 156)\"], [0.6666666666666666, \"rgb(238, 180, 121)\"], [0.8333333333333334, \"rgb(232, 132, 113)\"], [1.0, \"rgb(207, 89, 126)\"]], \"hovertemplate\": \"Strike:  %{y: .0f}<br>TTM: %{x: .0f}<br>Volatility: %{z: .2f}<extra></extra>\", \"type\": \"surface\", \"x\": [0.08333333333333333, 1.0, 2.0, 3.0], \"y\": [80, 80.4, 80.80000000000001, 81.20000000000002, 81.60000000000002, 82.00000000000003, 82.40000000000003, 82.80000000000004, 83.20000000000005, 83.60000000000005, 84.00000000000006, 84.40000000000006, 84.80000000000007, 85.20000000000007, 85.60000000000008, 86.00000000000009, 86.40000000000009, 86.8000000000001, 87.2000000000001, 87.60000000000011, 88.00000000000011, 88.40000000000012, 88.80000000000013, 89.20000000000013, 89.60000000000014, 90.00000000000014, 90.40000000000015, 90.80000000000015, 91.20000000000016, 91.60000000000016, 92.00000000000017, 92.40000000000018, 92.80000000000018, 93.20000000000019, 93.6000000000002, 94.0000000000002, 94.4000000000002, 94.80000000000021, 95.20000000000022, 95.60000000000022, 96.00000000000023, 96.40000000000023, 96.80000000000024, 97.20000000000024, 97.60000000000025, 98.00000000000026, 98.40000000000026, 98.80000000000027, 99.20000000000027, 99.60000000000028, 100.00000000000028, 100.40000000000029, 100.8000000000003, 101.2000000000003, 101.6000000000003, 102.00000000000031, 102.40000000000032, 102.80000000000032, 103.20000000000033, 103.60000000000034, 104.00000000000034, 104.40000000000035, 104.80000000000035, 105.20000000000036, 105.60000000000036, 106.00000000000037, 106.40000000000038, 106.80000000000038, 107.20000000000039, 107.60000000000039, 108.0000000000004, 108.4000000000004, 108.80000000000041, 109.20000000000041, 109.60000000000042, 110.00000000000043, 110.40000000000043, 110.80000000000044, 111.20000000000044, 111.60000000000045, 112.00000000000045, 112.40000000000046, 112.80000000000047, 113.20000000000047, 113.60000000000048, 114.00000000000048, 114.40000000000049, 114.8000000000005, 115.2000000000005, 115.6000000000005, 116.00000000000051, 116.40000000000052, 116.80000000000052, 117.20000000000053, 117.60000000000053, 118.00000000000054, 118.40000000000055, 118.80000000000055, 119.20000000000056, 119.60000000000056], \"z\": [[0.5365790890342296, 0.35738231058612047, 0.2956253870388866, 0.27114015287237214], [0.532242089984758, 0.35574667045738173, 0.2944806721718511, 0.27022595829399215], [0.5278950035661529, 0.3541143947347174, 0.29333925575379693, 0.26931489916645407], [0.5235374004036668, 0.35248546537618974, 0.2922011335584626, 0.2684069720981418], [0.5191688450375731, 0.35085986647511624, 0.29106630265911326, 0.2675021745315576], [0.5147888958581367, 0.34923758430531343, 0.2899347614410279, 0.26660050474372315], [0.5103971050678394, 0.34761860736889916, 0.2888065096145505, 0.265701961846701], [0.5059930186758399, 0.34600292644670494, 0.2876815482286858, 0.26480654578822055], [0.5015761765304437, 0.3443905346513489, 0.286559879685223, 0.2639142573523921], [0.49714611239629164, 0.3427814274830222, 0.2854415077533646, 0.2630250981604906], [0.4927023540840468, 0.3411756028880377, 0.28432643758483933, 0.2621390706717929], [0.4882444236416177, 0.33957306132019055, 0.2832146757294755, 0.26125617818444885], [0.483771837617407, 0.3379738058049775, 0.28210623015120695, 0.2603764248363675], [0.47928410740777355, 0.33637784200672105, 0.2810011102444852, 0.25949981560609975], [0.4747807397028709, 0.3347851782986392, 0.2798993268510662, 0.2586263563136952], [0.47026123704732714, 0.3331958258359004, 0.27880089227713883, 0.2577560536215146], [0.4657250985349231, 0.331609798631698, 0.2777058203107598, 0.2568889150349742], [0.4611718206595658, 0.3300271136363731, 0.27661412623955584, 0.2560249489032011], [0.4566008983485256, 0.32844779081961056, 0.275525826868653, 0.2551641644195754], [0.45201182620820557, 0.3268718532557232, 0.2744409405387872, 0.25430657162213605], [0.4474041000177405, 0.3252993272120352, 0.27335948714454883, 0.25345218139382547], [0.44277721851161717, 0.32373024224036245, 0.27228148815271036, 0.25260100546254727], [0.4381306854994193, 0.32216463127158124, 0.271206966620581, 0.2517530564010119], [0.4334640123789004, 0.32060253071326217, 0.27013594721433093, 0.25090834762634173], [0.42877672110809567, 0.31904398055033534, 0.2690684562272202, 0.25006689339940913], [0.42406834771332963, 0.3174890244487364, 0.26800452159766713, 0.2492287088238789], [0.41933844642305934, 0.31593770986196795, 0.266944172927084, 0.2483938098449246], [0.4145865945328205, 0.3143900881404925, 0.2658874414974028, 0.24756221324759042], [0.409812398124511, 0.31284621464385276, 0.2648343602882118, 0.2467339366547662], [0.40501549878426096, 0.3113061488553922, 0.2637849639934164, 0.24590899852474532], [0.40019558148768947, 0.3097699544994267, 0.2627392890373336, 0.24508741814833254], [0.39535238384994914, 0.3082376996606874, 0.2616973735901237, 0.24426921564546877], [0.39048570697118296, 0.30670945690583107, 0.2606592575824587, 0.24345441196133993], [0.3855954281464195, 0.30518530340677463, 0.25962498271932033, 0.24264302886193498], [0.38068151575308795, 0.30366532106558464, 0.2585945924928151, 0.24183508892901903], [0.37574404667968486, 0.3021495966406067, 0.2575681321938894, 0.24103061555448588], [0.3707832267159708, 0.3006382218734844, 0.25654564892282095, 0.24022963293405505], [0.3657994143883444, 0.2991312936166711, 0.25552719159835763, 0.2394321660602766], [0.3607931487931194, 0.29762891396099145, 0.25451281096536893, 0.23863824071480808], [0.35576518205377883, 0.2961311903627579, 0.253502559600871, 0.23784788345992727], [0.35071651710299195, 0.29463823576989706, 0.252496491918279, 0.23706112162924373], [0.34564845156125695, 0.29315016874647887, 0.25149466416973615, 0.23627798331757335], [0.3405626285434742, 0.2916671135949857, 0.2504971344463649, 0.23549849736993902], [0.3354610952602524, 0.2901892004755927, 0.24950396267627817, 0.23472269336966206], [0.3303463702740515, 0.28871656552166425, 0.24851521062018733, 0.23395060162550785], [0.32522152019505657, 0.28724935095060317, 0.2475309418644371, 0.23318225315785152], [0.32009024642118117, 0.2857877051691166, 0.24655122181129516, 0.2324176796838284], [0.3149569821909822, 0.28433178287188865, 0.24557611766632048, 0.23165691360143634], [0.30982699966252314, 0.28288174513257436, 0.2446056984226326, 0.2308999879725566], [0.30470652587452324, 0.2814377594859528, 0.24364003484190175, 0.23014693650486284], [0.29960286519464785, 0.27999999999999897, 0.2426791994318785, 0.22939779353258727], [0.29452452411584473, 0.27856864733655856, 0.24172326642028205, 0.22865259399611595], [0.289481331943603, 0.2771438887992323, 0.2407723117248664, 0.22791137342038678], [0.2844845479951087, 0.27572591836700494, 0.23982641291948578, 0.22717416789206493], [0.2795469424838597, 0.2743149367120826, 0.23888564919598296, 0.22644101403547395], [0.27468283455485376, 0.27291115120033854, 0.23795010132172956, 0.22571194898726152], [0.26990806750680396, 0.27151477587270695, 0.23701985159265115, 0.22498701036978358], [0.2652398989816159, 0.2701260314058176, 0.23609498378157778, 0.22426623626319125], [0.2606967840690491, 0.2687451450501192, 0.23517558308176892, 0.22354966517620964], [0.25629803333696594, 0.2673723505437152, 0.2342617360454709, 0.22283733601560024], [0.2520633370804975, 0.26600788800011754, 0.23335353051737745, 0.22212928805430257], [0.24801216215546498, 0.2646520037681286, 0.2324510555628762, 0.22142556089825388], [0.24416304769346409, 0.26330495026207945, 0.23155440139097946, 0.2207261944518906], [0.24053284780941203, 0.26196698576069516, 0.23066365927185453, 0.2200312288823388], [0.23713598817474202, 0.26063837417292035, 0.22977892144888695, 0.21934070458230562], [0.23398381326008733, 0.25931938476912947, 0.22890028104523108, 0.21865466213168827], [0.23108409753846745, 0.2580102918762611, 0.22802783196482465, 0.21797314225792228], [0.22844077570962476, 0.25671137453556425, 0.22716166878786753, 0.21729618579509485], [0.22605391727114185, 0.25542291612181994, 0.2263018866607922, 0.21662383364185578], [0.22391993649211311, 0.2541452039231152, 0.22544858118078012, 0.2159561267181621], [0.22203199830745168, 0.25287852868048594, 0.22460184827490778, 0.21529310592089956], [0.22038056041740567, 0.2516231840870295, 0.2237617840740379, 0.21463481207842824], [0.2189539847888854, 0.2503794662463938, 0.22292848478160254, 0.21398128590410653], [0.21773915666654245, 0.24914767309090133, 0.22210204653745927, 0.21333256794885241], [0.21672206225779211, 0.2479281037599401, 0.22128256527703596, 0.21268869855280656], [0.21588829277421867, 0.24672105793966267, 0.22047013658601494, 0.212049717796169], [0.21522345853043393, 0.2455268351654667, 0.2196648555508433, 0.2114156654492844], [0.2147135098439534, 0.2443457340891859, 0.2188668166053933, 0.21078658092205857], [0.21434497057993016, 0.24317805171339266, 0.2180761133741313, 0.2101625032127931], [0.21410509548513598, 0.24202408259569572, 0.21729283851219133, 0.20954347085653074], [0.21398196469857403, 0.24088411802640347, 0.21651708354278365, 0.2089295218730092], [0.2139645289361448, 0.23975844518340528, 0.21574893869240272, 0.20832069371432602], [0.21404261767286986, 0.23864734626859355, 0.2149884927243322, 0.20771702321242103], [0.21420692084691179, 0.23755109763059717, 0.2142358327709751, 0.20711854652648867], [0.21444895263425187, 0.23646996887901395, 0.21349104416556594, 0.20652529909043488], [0.2147610039614323, 0.23540422199570485, 0.2127542102738476, 0.2059373155604976], [0.21513608877371027, 0.23435411044904036, 0.21202541232631927, 0.20535462976315294], [0.215567887707135, 0.23331987831725268, 0.21130472925168017, 0.20477727464343215], [0.21605069172334138, 0.23230175942724685, 0.2105922375121114, 0.20420528221377546], [0.21657934742638957, 0.2312999765153447, 0.2098880109410487, 0.20363868350355216], [0.21714920515224423, 0.23031474041647487, 0.20919212058410766, 0.2030775085093764], [0.21775607046266465, 0.22934624928827393, 0.20850463454382498, 0.20252178614634897], [0.2183961593490852, 0.2283946878764246, 0.20782561782887793, 0.20197154420035507], [0.21906605722675215, 0.22746022682732658, 0.20715513220843862, 0.2014268092815483], [0.21976268164913398, 0.22654302205387195, 0.20649323607230508, 0.20088760677914824], [0.22048324857711354, 0.22564321415968802, 0.20583998429743816, 0.20035396081767884], [0.22122524198111648, 0.22476092792671368, 0.20519542812150748, 0.19982589421477123], [0.22198638652539243, 0.22389627187040537, 0.2045596150240264, 0.19930342844065083], [0.22276462307348202, 0.2230493378662287, 0.20393258861562008, 0.19878658357942686], [0.22355808675614894, 0.22222020085039557, 0.2033143885359397, 0.19827537829229525]]}],                        {\"autosize\": false, \"margin\": {\"b\": 65, \"l\": 65, \"r\": 50, \"t\": 90}, \"scene\": {\"xaxis\": {\"categoryorder\": \"category descending\", \"title\": {\"text\": \"TTM\"}}, \"yaxis\": {\"title\": {\"text\": \"Strike\"}}, \"zaxis\": {\"title\": {\"text\": \"Volatility\"}}}, \"template\": {\"data\": {\"bar\": [{\"error_x\": {\"color\": \"#2a3f5f\"}, \"error_y\": {\"color\": \"#2a3f5f\"}, \"marker\": {\"line\": {\"color\": \"#E5ECF6\", \"width\": 0.5}}, \"type\": \"bar\"}], \"barpolar\": [{\"marker\": {\"line\": {\"color\": \"#E5ECF6\", \"width\": 0.5}}, \"type\": \"barpolar\"}], \"carpet\": [{\"aaxis\": {\"endlinecolor\": \"#2a3f5f\", \"gridcolor\": \"white\", \"linecolor\": \"white\", \"minorgridcolor\": \"white\", \"startlinecolor\": \"#2a3f5f\"}, \"baxis\": {\"endlinecolor\": \"#2a3f5f\", \"gridcolor\": \"white\", \"linecolor\": \"white\", \"minorgridcolor\": \"white\", \"startlinecolor\": \"#2a3f5f\"}, \"type\": \"carpet\"}], \"choropleth\": [{\"colorbar\": {\"outlinewidth\": 0, \"ticks\": \"\"}, \"type\": \"choropleth\"}], \"contour\": [{\"colorbar\": {\"outlinewidth\": 0, \"ticks\": \"\"}, \"colorscale\": [[0.0, \"#0d0887\"], [0.1111111111111111, \"#46039f\"], [0.2222222222222222, \"#7201a8\"], [0.3333333333333333, \"#9c179e\"], [0.4444444444444444, \"#bd3786\"], [0.5555555555555556, \"#d8576b\"], [0.6666666666666666, \"#ed7953\"], [0.7777777777777778, \"#fb9f3a\"], [0.8888888888888888, \"#fdca26\"], [1.0, \"#f0f921\"]], \"type\": \"contour\"}], \"contourcarpet\": [{\"colorbar\": {\"outlinewidth\": 0, \"ticks\": \"\"}, \"type\": \"contourcarpet\"}], \"heatmap\": [{\"colorbar\": {\"outlinewidth\": 0, \"ticks\": \"\"}, \"colorscale\": [[0.0, \"#0d0887\"], [0.1111111111111111, \"#46039f\"], [0.2222222222222222, \"#7201a8\"], [0.3333333333333333, \"#9c179e\"], [0.4444444444444444, \"#bd3786\"], [0.5555555555555556, \"#d8576b\"], [0.6666666666666666, \"#ed7953\"], [0.7777777777777778, \"#fb9f3a\"], [0.8888888888888888, \"#fdca26\"], [1.0, \"#f0f921\"]], \"type\": \"heatmap\"}], \"heatmapgl\": [{\"colorbar\": {\"outlinewidth\": 0, \"ticks\": \"\"}, \"colorscale\": [[0.0, \"#0d0887\"], [0.1111111111111111, \"#46039f\"], [0.2222222222222222, \"#7201a8\"], [0.3333333333333333, \"#9c179e\"], [0.4444444444444444, \"#bd3786\"], [0.5555555555555556, \"#d8576b\"], [0.6666666666666666, \"#ed7953\"], [0.7777777777777778, \"#fb9f3a\"], [0.8888888888888888, \"#fdca26\"], [1.0, \"#f0f921\"]], \"type\": \"heatmapgl\"}], \"histogram\": [{\"marker\": {\"colorbar\": {\"outlinewidth\": 0, \"ticks\": \"\"}}, \"type\": \"histogram\"}], \"histogram2d\": [{\"colorbar\": {\"outlinewidth\": 0, \"ticks\": \"\"}, \"colorscale\": [[0.0, \"#0d0887\"], [0.1111111111111111, \"#46039f\"], [0.2222222222222222, \"#7201a8\"], [0.3333333333333333, \"#9c179e\"], [0.4444444444444444, \"#bd3786\"], [0.5555555555555556, \"#d8576b\"], [0.6666666666666666, \"#ed7953\"], [0.7777777777777778, \"#fb9f3a\"], [0.8888888888888888, \"#fdca26\"], [1.0, \"#f0f921\"]], \"type\": \"histogram2d\"}], \"histogram2dcontour\": [{\"colorbar\": {\"outlinewidth\": 0, \"ticks\": \"\"}, \"colorscale\": [[0.0, \"#0d0887\"], [0.1111111111111111, \"#46039f\"], [0.2222222222222222, \"#7201a8\"], [0.3333333333333333, \"#9c179e\"], [0.4444444444444444, \"#bd3786\"], [0.5555555555555556, \"#d8576b\"], [0.6666666666666666, \"#ed7953\"], [0.7777777777777778, \"#fb9f3a\"], [0.8888888888888888, \"#fdca26\"], [1.0, \"#f0f921\"]], \"type\": \"histogram2dcontour\"}], \"mesh3d\": [{\"colorbar\": {\"outlinewidth\": 0, \"ticks\": \"\"}, \"type\": \"mesh3d\"}], \"parcoords\": [{\"line\": {\"colorbar\": {\"outlinewidth\": 0, \"ticks\": \"\"}}, \"type\": \"parcoords\"}], \"pie\": [{\"automargin\": true, \"type\": \"pie\"}], \"scatter\": [{\"marker\": {\"colorbar\": {\"outlinewidth\": 0, \"ticks\": \"\"}}, \"type\": \"scatter\"}], \"scatter3d\": [{\"line\": {\"colorbar\": {\"outlinewidth\": 0, \"ticks\": \"\"}}, \"marker\": {\"colorbar\": {\"outlinewidth\": 0, \"ticks\": \"\"}}, \"type\": \"scatter3d\"}], \"scattercarpet\": [{\"marker\": {\"colorbar\": {\"outlinewidth\": 0, \"ticks\": \"\"}}, \"type\": \"scattercarpet\"}], \"scattergeo\": [{\"marker\": {\"colorbar\": {\"outlinewidth\": 0, \"ticks\": \"\"}}, \"type\": \"scattergeo\"}], \"scattergl\": [{\"marker\": {\"colorbar\": {\"outlinewidth\": 0, \"ticks\": \"\"}}, \"type\": \"scattergl\"}], \"scattermapbox\": [{\"marker\": {\"colorbar\": {\"outlinewidth\": 0, \"ticks\": \"\"}}, \"type\": \"scattermapbox\"}], \"scatterpolar\": [{\"marker\": {\"colorbar\": {\"outlinewidth\": 0, \"ticks\": \"\"}}, \"type\": \"scatterpolar\"}], \"scatterpolargl\": [{\"marker\": {\"colorbar\": {\"outlinewidth\": 0, \"ticks\": \"\"}}, \"type\": \"scatterpolargl\"}], \"scatterternary\": [{\"marker\": {\"colorbar\": {\"outlinewidth\": 0, \"ticks\": \"\"}}, \"type\": \"scatterternary\"}], \"surface\": [{\"colorbar\": {\"outlinewidth\": 0, \"ticks\": \"\"}, \"colorscale\": [[0.0, \"#0d0887\"], [0.1111111111111111, \"#46039f\"], [0.2222222222222222, \"#7201a8\"], [0.3333333333333333, \"#9c179e\"], [0.4444444444444444, \"#bd3786\"], [0.5555555555555556, \"#d8576b\"], [0.6666666666666666, \"#ed7953\"], [0.7777777777777778, \"#fb9f3a\"], [0.8888888888888888, \"#fdca26\"], [1.0, \"#f0f921\"]], \"type\": \"surface\"}], \"table\": [{\"cells\": {\"fill\": {\"color\": \"#EBF0F8\"}, \"line\": {\"color\": \"white\"}}, \"header\": {\"fill\": {\"color\": \"#C8D4E3\"}, \"line\": {\"color\": \"white\"}}, \"type\": \"table\"}]}, \"layout\": {\"annotationdefaults\": {\"arrowcolor\": \"#2a3f5f\", \"arrowhead\": 0, \"arrowwidth\": 1}, \"autotypenumbers\": \"strict\", \"coloraxis\": {\"colorbar\": {\"outlinewidth\": 0, \"ticks\": \"\"}}, \"colorscale\": {\"diverging\": [[0, \"#8e0152\"], [0.1, \"#c51b7d\"], [0.2, \"#de77ae\"], [0.3, \"#f1b6da\"], [0.4, \"#fde0ef\"], [0.5, \"#f7f7f7\"], [0.6, \"#e6f5d0\"], [0.7, \"#b8e186\"], [0.8, \"#7fbc41\"], [0.9, \"#4d9221\"], [1, \"#276419\"]], \"sequential\": [[0.0, \"#0d0887\"], [0.1111111111111111, \"#46039f\"], [0.2222222222222222, \"#7201a8\"], [0.3333333333333333, \"#9c179e\"], [0.4444444444444444, \"#bd3786\"], [0.5555555555555556, \"#d8576b\"], [0.6666666666666666, \"#ed7953\"], [0.7777777777777778, \"#fb9f3a\"], [0.8888888888888888, \"#fdca26\"], [1.0, \"#f0f921\"]], \"sequentialminus\": [[0.0, \"#0d0887\"], [0.1111111111111111, \"#46039f\"], [0.2222222222222222, \"#7201a8\"], [0.3333333333333333, \"#9c179e\"], [0.4444444444444444, \"#bd3786\"], [0.5555555555555556, \"#d8576b\"], [0.6666666666666666, \"#ed7953\"], [0.7777777777777778, \"#fb9f3a\"], [0.8888888888888888, \"#fdca26\"], [1.0, \"#f0f921\"]]}, \"colorway\": [\"#636efa\", \"#EF553B\", \"#00cc96\", \"#ab63fa\", \"#FFA15A\", \"#19d3f3\", \"#FF6692\", \"#B6E880\", \"#FF97FF\", \"#FECB52\"], \"font\": {\"color\": \"#2a3f5f\"}, \"geo\": {\"bgcolor\": \"white\", \"lakecolor\": \"white\", \"landcolor\": \"#E5ECF6\", \"showlakes\": true, \"showland\": true, \"subunitcolor\": \"white\"}, \"hoverlabel\": {\"align\": \"left\"}, \"hovermode\": \"closest\", \"mapbox\": {\"style\": \"light\"}, \"paper_bgcolor\": \"white\", \"plot_bgcolor\": \"#E5ECF6\", \"polar\": {\"angularaxis\": {\"gridcolor\": \"white\", \"linecolor\": \"white\", \"ticks\": \"\"}, \"bgcolor\": \"#E5ECF6\", \"radialaxis\": {\"gridcolor\": \"white\", \"linecolor\": \"white\", \"ticks\": \"\"}}, \"scene\": {\"xaxis\": {\"backgroundcolor\": \"#E5ECF6\", \"gridcolor\": \"white\", \"gridwidth\": 2, \"linecolor\": \"white\", \"showbackground\": true, \"ticks\": \"\", \"zerolinecolor\": \"white\"}, \"yaxis\": {\"backgroundcolor\": \"#E5ECF6\", \"gridcolor\": \"white\", \"gridwidth\": 2, \"linecolor\": \"white\", \"showbackground\": true, \"ticks\": \"\", \"zerolinecolor\": \"white\"}, \"zaxis\": {\"backgroundcolor\": \"#E5ECF6\", \"gridcolor\": \"white\", \"gridwidth\": 2, \"linecolor\": \"white\", \"showbackground\": true, \"ticks\": \"\", \"zerolinecolor\": \"white\"}}, \"shapedefaults\": {\"line\": {\"color\": \"#2a3f5f\"}}, \"ternary\": {\"aaxis\": {\"gridcolor\": \"white\", \"linecolor\": \"white\", \"ticks\": \"\"}, \"baxis\": {\"gridcolor\": \"white\", \"linecolor\": \"white\", \"ticks\": \"\"}, \"bgcolor\": \"#E5ECF6\", \"caxis\": {\"gridcolor\": \"white\", \"linecolor\": \"white\", \"ticks\": \"\"}}, \"title\": {\"x\": 0.05}, \"xaxis\": {\"automargin\": true, \"gridcolor\": \"white\", \"linecolor\": \"white\", \"ticks\": \"\", \"title\": {\"standoff\": 15}, \"zerolinecolor\": \"white\", \"zerolinewidth\": 2}, \"yaxis\": {\"automargin\": true, \"gridcolor\": \"white\", \"linecolor\": \"white\", \"ticks\": \"\", \"title\": {\"standoff\": 15}, \"zerolinecolor\": \"white\", \"zerolinewidth\": 2}}}, \"title\": {\"text\": \"Volatility Surface\"}},                        {\"responsive\": true}                    ).then(function(){\n",
       "                            \n",
       "var gd = document.getElementById('1c554324-811b-4b81-b972-744cc168ec3a');\n",
       "var x = new MutationObserver(function (mutations, observer) {{\n",
       "        var display = window.getComputedStyle(gd).display;\n",
       "        if (!display || display === 'none') {{\n",
       "            console.log([gd, 'removed!']);\n",
       "            Plotly.purge(gd);\n",
       "            observer.disconnect();\n",
       "        }}\n",
       "}});\n",
       "\n",
       "// Listen for the removal of the full notebook cells\n",
       "var notebookContainer = gd.closest('#notebook-container');\n",
       "if (notebookContainer) {{\n",
       "    x.observe(notebookContainer, {childList: true});\n",
       "}}\n",
       "\n",
       "// Listen for the clearing of the current output cell\n",
       "var outputEl = gd.closest('.output');\n",
       "if (outputEl) {{\n",
       "    x.observe(outputEl, {childList: true});\n",
       "}}\n",
       "\n",
       "                        })                };                });            </script>        </div>"
      ]
     },
     "metadata": {},
     "output_type": "display_data"
    }
   ],
   "source": [
    "# \n",
    "refdate = dt.datetime(2017,1,1,0,0,0)\n",
    "expiries = [dt.datetime(2017,2,1,0,0,0), dt.datetime(2018,1,1,0,0,0), dt.datetime(2019,1,1,0,0,0), dt.datetime(2020,1,1,0,0,0)]\n",
    "def s_range(x, y, count):\n",
    "  jump = (y-x)/count\n",
    "  while x <= y:\n",
    "    yield x\n",
    "    x += jump\n",
    "\n",
    "strikes = list(s_range(80, 120, 100))\n",
    "\n",
    "y = strikes\n",
    "x = ttm\n",
    "\n",
    "term_structure = []\n",
    "for i in strikes: \n",
    "    temp = []\n",
    "    for j in expiries:\n",
    "        temp.append(vol_surf.calcImpliedVol(refdate, j, i))\n",
    "    term_structure.append(temp)\n",
    "\n",
    "fig = go.Figure(data=[go.Surface(x=x, y=y,z=term_structure\n",
    "                      ,hovertemplate = \n",
    "                        'Strike:  %{y: .0f}' +\\\n",
    "                        '<br>TTM: %{x: .0f}' +\\\n",
    "                        '<br>Volatility: %{z: .2f}<extra></extra>'\n",
    "                     ,colorscale = 'temps')\n",
    "                     ])\n",
    "\n",
    "fig.update_layout(title='Volatility Surface'\n",
    "                ,autosize=False\n",
    "                # ,width=500\n",
    "                # ,height=500\n",
    "                  ,scene = dict(\n",
    "                    xaxis_title='TTM',\n",
    "                    yaxis_title='Strike',\n",
    "                    zaxis_title='Volatility',\n",
    "                ,margin=dict(l=65, r=50, b=65, t=90)\n",
    ")\n",
    "\n",
    "fig.show()"
   ]
  },
  {
   "cell_type": "code",
   "execution_count": 33,
   "metadata": {
    "ExecuteTime": {
     "end_time": "2021-05-11T15:20:48.730142Z",
     "start_time": "2021-05-11T15:20:48.587514Z"
    },
    "code_folding": [
     0
    ]
   },
   "outputs": [
    {
     "data": {
      "application/javascript": [
       "/* Put everything inside the global mpl namespace */\n",
       "/* global mpl */\n",
       "window.mpl = {};\n",
       "\n",
       "mpl.get_websocket_type = function () {\n",
       "    if (typeof WebSocket !== 'undefined') {\n",
       "        return WebSocket;\n",
       "    } else if (typeof MozWebSocket !== 'undefined') {\n",
       "        return MozWebSocket;\n",
       "    } else {\n",
       "        alert(\n",
       "            'Your browser does not have WebSocket support. ' +\n",
       "                'Please try Chrome, Safari or Firefox ≥ 6. ' +\n",
       "                'Firefox 4 and 5 are also supported but you ' +\n",
       "                'have to enable WebSockets in about:config.'\n",
       "        );\n",
       "    }\n",
       "};\n",
       "\n",
       "mpl.figure = function (figure_id, websocket, ondownload, parent_element) {\n",
       "    this.id = figure_id;\n",
       "\n",
       "    this.ws = websocket;\n",
       "\n",
       "    this.supports_binary = this.ws.binaryType !== undefined;\n",
       "\n",
       "    if (!this.supports_binary) {\n",
       "        var warnings = document.getElementById('mpl-warnings');\n",
       "        if (warnings) {\n",
       "            warnings.style.display = 'block';\n",
       "            warnings.textContent =\n",
       "                'This browser does not support binary websocket messages. ' +\n",
       "                'Performance may be slow.';\n",
       "        }\n",
       "    }\n",
       "\n",
       "    this.imageObj = new Image();\n",
       "\n",
       "    this.context = undefined;\n",
       "    this.message = undefined;\n",
       "    this.canvas = undefined;\n",
       "    this.rubberband_canvas = undefined;\n",
       "    this.rubberband_context = undefined;\n",
       "    this.format_dropdown = undefined;\n",
       "\n",
       "    this.image_mode = 'full';\n",
       "\n",
       "    this.root = document.createElement('div');\n",
       "    this.root.setAttribute('style', 'display: inline-block');\n",
       "    this._root_extra_style(this.root);\n",
       "\n",
       "    parent_element.appendChild(this.root);\n",
       "\n",
       "    this._init_header(this);\n",
       "    this._init_canvas(this);\n",
       "    this._init_toolbar(this);\n",
       "\n",
       "    var fig = this;\n",
       "\n",
       "    this.waiting = false;\n",
       "\n",
       "    this.ws.onopen = function () {\n",
       "        fig.send_message('supports_binary', { value: fig.supports_binary });\n",
       "        fig.send_message('send_image_mode', {});\n",
       "        if (fig.ratio !== 1) {\n",
       "            fig.send_message('set_dpi_ratio', { dpi_ratio: fig.ratio });\n",
       "        }\n",
       "        fig.send_message('refresh', {});\n",
       "    };\n",
       "\n",
       "    this.imageObj.onload = function () {\n",
       "        if (fig.image_mode === 'full') {\n",
       "            // Full images could contain transparency (where diff images\n",
       "            // almost always do), so we need to clear the canvas so that\n",
       "            // there is no ghosting.\n",
       "            fig.context.clearRect(0, 0, fig.canvas.width, fig.canvas.height);\n",
       "        }\n",
       "        fig.context.drawImage(fig.imageObj, 0, 0);\n",
       "    };\n",
       "\n",
       "    this.imageObj.onunload = function () {\n",
       "        fig.ws.close();\n",
       "    };\n",
       "\n",
       "    this.ws.onmessage = this._make_on_message_function(this);\n",
       "\n",
       "    this.ondownload = ondownload;\n",
       "};\n",
       "\n",
       "mpl.figure.prototype._init_header = function () {\n",
       "    var titlebar = document.createElement('div');\n",
       "    titlebar.classList =\n",
       "        'ui-dialog-titlebar ui-widget-header ui-corner-all ui-helper-clearfix';\n",
       "    var titletext = document.createElement('div');\n",
       "    titletext.classList = 'ui-dialog-title';\n",
       "    titletext.setAttribute(\n",
       "        'style',\n",
       "        'width: 100%; text-align: center; padding: 3px;'\n",
       "    );\n",
       "    titlebar.appendChild(titletext);\n",
       "    this.root.appendChild(titlebar);\n",
       "    this.header = titletext;\n",
       "};\n",
       "\n",
       "mpl.figure.prototype._canvas_extra_style = function (_canvas_div) {};\n",
       "\n",
       "mpl.figure.prototype._root_extra_style = function (_canvas_div) {};\n",
       "\n",
       "mpl.figure.prototype._init_canvas = function () {\n",
       "    var fig = this;\n",
       "\n",
       "    var canvas_div = (this.canvas_div = document.createElement('div'));\n",
       "    canvas_div.setAttribute(\n",
       "        'style',\n",
       "        'border: 1px solid #ddd;' +\n",
       "            'box-sizing: content-box;' +\n",
       "            'clear: both;' +\n",
       "            'min-height: 1px;' +\n",
       "            'min-width: 1px;' +\n",
       "            'outline: 0;' +\n",
       "            'overflow: hidden;' +\n",
       "            'position: relative;' +\n",
       "            'resize: both;'\n",
       "    );\n",
       "\n",
       "    function on_keyboard_event_closure(name) {\n",
       "        return function (event) {\n",
       "            return fig.key_event(event, name);\n",
       "        };\n",
       "    }\n",
       "\n",
       "    canvas_div.addEventListener(\n",
       "        'keydown',\n",
       "        on_keyboard_event_closure('key_press')\n",
       "    );\n",
       "    canvas_div.addEventListener(\n",
       "        'keyup',\n",
       "        on_keyboard_event_closure('key_release')\n",
       "    );\n",
       "\n",
       "    this._canvas_extra_style(canvas_div);\n",
       "    this.root.appendChild(canvas_div);\n",
       "\n",
       "    var canvas = (this.canvas = document.createElement('canvas'));\n",
       "    canvas.classList.add('mpl-canvas');\n",
       "    canvas.setAttribute('style', 'box-sizing: content-box;');\n",
       "\n",
       "    this.context = canvas.getContext('2d');\n",
       "\n",
       "    var backingStore =\n",
       "        this.context.backingStorePixelRatio ||\n",
       "        this.context.webkitBackingStorePixelRatio ||\n",
       "        this.context.mozBackingStorePixelRatio ||\n",
       "        this.context.msBackingStorePixelRatio ||\n",
       "        this.context.oBackingStorePixelRatio ||\n",
       "        this.context.backingStorePixelRatio ||\n",
       "        1;\n",
       "\n",
       "    this.ratio = (window.devicePixelRatio || 1) / backingStore;\n",
       "\n",
       "    var rubberband_canvas = (this.rubberband_canvas = document.createElement(\n",
       "        'canvas'\n",
       "    ));\n",
       "    rubberband_canvas.setAttribute(\n",
       "        'style',\n",
       "        'box-sizing: content-box; position: absolute; left: 0; top: 0; z-index: 1;'\n",
       "    );\n",
       "\n",
       "    // Apply a ponyfill if ResizeObserver is not implemented by browser.\n",
       "    if (this.ResizeObserver === undefined) {\n",
       "        if (window.ResizeObserver !== undefined) {\n",
       "            this.ResizeObserver = window.ResizeObserver;\n",
       "        } else {\n",
       "            var obs = _JSXTOOLS_RESIZE_OBSERVER({});\n",
       "            this.ResizeObserver = obs.ResizeObserver;\n",
       "        }\n",
       "    }\n",
       "\n",
       "    this.resizeObserverInstance = new this.ResizeObserver(function (entries) {\n",
       "        var nentries = entries.length;\n",
       "        for (var i = 0; i < nentries; i++) {\n",
       "            var entry = entries[i];\n",
       "            var width, height;\n",
       "            if (entry.contentBoxSize) {\n",
       "                if (entry.contentBoxSize instanceof Array) {\n",
       "                    // Chrome 84 implements new version of spec.\n",
       "                    width = entry.contentBoxSize[0].inlineSize;\n",
       "                    height = entry.contentBoxSize[0].blockSize;\n",
       "                } else {\n",
       "                    // Firefox implements old version of spec.\n",
       "                    width = entry.contentBoxSize.inlineSize;\n",
       "                    height = entry.contentBoxSize.blockSize;\n",
       "                }\n",
       "            } else {\n",
       "                // Chrome <84 implements even older version of spec.\n",
       "                width = entry.contentRect.width;\n",
       "                height = entry.contentRect.height;\n",
       "            }\n",
       "\n",
       "            // Keep the size of the canvas and rubber band canvas in sync with\n",
       "            // the canvas container.\n",
       "            if (entry.devicePixelContentBoxSize) {\n",
       "                // Chrome 84 implements new version of spec.\n",
       "                canvas.setAttribute(\n",
       "                    'width',\n",
       "                    entry.devicePixelContentBoxSize[0].inlineSize\n",
       "                );\n",
       "                canvas.setAttribute(\n",
       "                    'height',\n",
       "                    entry.devicePixelContentBoxSize[0].blockSize\n",
       "                );\n",
       "            } else {\n",
       "                canvas.setAttribute('width', width * fig.ratio);\n",
       "                canvas.setAttribute('height', height * fig.ratio);\n",
       "            }\n",
       "            canvas.setAttribute(\n",
       "                'style',\n",
       "                'width: ' + width + 'px; height: ' + height + 'px;'\n",
       "            );\n",
       "\n",
       "            rubberband_canvas.setAttribute('width', width);\n",
       "            rubberband_canvas.setAttribute('height', height);\n",
       "\n",
       "            // And update the size in Python. We ignore the initial 0/0 size\n",
       "            // that occurs as the element is placed into the DOM, which should\n",
       "            // otherwise not happen due to the minimum size styling.\n",
       "            if (fig.ws.readyState == 1 && width != 0 && height != 0) {\n",
       "                fig.request_resize(width, height);\n",
       "            }\n",
       "        }\n",
       "    });\n",
       "    this.resizeObserverInstance.observe(canvas_div);\n",
       "\n",
       "    function on_mouse_event_closure(name) {\n",
       "        return function (event) {\n",
       "            return fig.mouse_event(event, name);\n",
       "        };\n",
       "    }\n",
       "\n",
       "    rubberband_canvas.addEventListener(\n",
       "        'mousedown',\n",
       "        on_mouse_event_closure('button_press')\n",
       "    );\n",
       "    rubberband_canvas.addEventListener(\n",
       "        'mouseup',\n",
       "        on_mouse_event_closure('button_release')\n",
       "    );\n",
       "    // Throttle sequential mouse events to 1 every 20ms.\n",
       "    rubberband_canvas.addEventListener(\n",
       "        'mousemove',\n",
       "        on_mouse_event_closure('motion_notify')\n",
       "    );\n",
       "\n",
       "    rubberband_canvas.addEventListener(\n",
       "        'mouseenter',\n",
       "        on_mouse_event_closure('figure_enter')\n",
       "    );\n",
       "    rubberband_canvas.addEventListener(\n",
       "        'mouseleave',\n",
       "        on_mouse_event_closure('figure_leave')\n",
       "    );\n",
       "\n",
       "    canvas_div.addEventListener('wheel', function (event) {\n",
       "        if (event.deltaY < 0) {\n",
       "            event.step = 1;\n",
       "        } else {\n",
       "            event.step = -1;\n",
       "        }\n",
       "        on_mouse_event_closure('scroll')(event);\n",
       "    });\n",
       "\n",
       "    canvas_div.appendChild(canvas);\n",
       "    canvas_div.appendChild(rubberband_canvas);\n",
       "\n",
       "    this.rubberband_context = rubberband_canvas.getContext('2d');\n",
       "    this.rubberband_context.strokeStyle = '#000000';\n",
       "\n",
       "    this._resize_canvas = function (width, height, forward) {\n",
       "        if (forward) {\n",
       "            canvas_div.style.width = width + 'px';\n",
       "            canvas_div.style.height = height + 'px';\n",
       "        }\n",
       "    };\n",
       "\n",
       "    // Disable right mouse context menu.\n",
       "    this.rubberband_canvas.addEventListener('contextmenu', function (_e) {\n",
       "        event.preventDefault();\n",
       "        return false;\n",
       "    });\n",
       "\n",
       "    function set_focus() {\n",
       "        canvas.focus();\n",
       "        canvas_div.focus();\n",
       "    }\n",
       "\n",
       "    window.setTimeout(set_focus, 100);\n",
       "};\n",
       "\n",
       "mpl.figure.prototype._init_toolbar = function () {\n",
       "    var fig = this;\n",
       "\n",
       "    var toolbar = document.createElement('div');\n",
       "    toolbar.classList = 'mpl-toolbar';\n",
       "    this.root.appendChild(toolbar);\n",
       "\n",
       "    function on_click_closure(name) {\n",
       "        return function (_event) {\n",
       "            return fig.toolbar_button_onclick(name);\n",
       "        };\n",
       "    }\n",
       "\n",
       "    function on_mouseover_closure(tooltip) {\n",
       "        return function (event) {\n",
       "            if (!event.currentTarget.disabled) {\n",
       "                return fig.toolbar_button_onmouseover(tooltip);\n",
       "            }\n",
       "        };\n",
       "    }\n",
       "\n",
       "    fig.buttons = {};\n",
       "    var buttonGroup = document.createElement('div');\n",
       "    buttonGroup.classList = 'mpl-button-group';\n",
       "    for (var toolbar_ind in mpl.toolbar_items) {\n",
       "        var name = mpl.toolbar_items[toolbar_ind][0];\n",
       "        var tooltip = mpl.toolbar_items[toolbar_ind][1];\n",
       "        var image = mpl.toolbar_items[toolbar_ind][2];\n",
       "        var method_name = mpl.toolbar_items[toolbar_ind][3];\n",
       "\n",
       "        if (!name) {\n",
       "            /* Instead of a spacer, we start a new button group. */\n",
       "            if (buttonGroup.hasChildNodes()) {\n",
       "                toolbar.appendChild(buttonGroup);\n",
       "            }\n",
       "            buttonGroup = document.createElement('div');\n",
       "            buttonGroup.classList = 'mpl-button-group';\n",
       "            continue;\n",
       "        }\n",
       "\n",
       "        var button = (fig.buttons[name] = document.createElement('button'));\n",
       "        button.classList = 'mpl-widget';\n",
       "        button.setAttribute('role', 'button');\n",
       "        button.setAttribute('aria-disabled', 'false');\n",
       "        button.addEventListener('click', on_click_closure(method_name));\n",
       "        button.addEventListener('mouseover', on_mouseover_closure(tooltip));\n",
       "\n",
       "        var icon_img = document.createElement('img');\n",
       "        icon_img.src = '_images/' + image + '.png';\n",
       "        icon_img.srcset = '_images/' + image + '_large.png 2x';\n",
       "        icon_img.alt = tooltip;\n",
       "        button.appendChild(icon_img);\n",
       "\n",
       "        buttonGroup.appendChild(button);\n",
       "    }\n",
       "\n",
       "    if (buttonGroup.hasChildNodes()) {\n",
       "        toolbar.appendChild(buttonGroup);\n",
       "    }\n",
       "\n",
       "    var fmt_picker = document.createElement('select');\n",
       "    fmt_picker.classList = 'mpl-widget';\n",
       "    toolbar.appendChild(fmt_picker);\n",
       "    this.format_dropdown = fmt_picker;\n",
       "\n",
       "    for (var ind in mpl.extensions) {\n",
       "        var fmt = mpl.extensions[ind];\n",
       "        var option = document.createElement('option');\n",
       "        option.selected = fmt === mpl.default_extension;\n",
       "        option.innerHTML = fmt;\n",
       "        fmt_picker.appendChild(option);\n",
       "    }\n",
       "\n",
       "    var status_bar = document.createElement('span');\n",
       "    status_bar.classList = 'mpl-message';\n",
       "    toolbar.appendChild(status_bar);\n",
       "    this.message = status_bar;\n",
       "};\n",
       "\n",
       "mpl.figure.prototype.request_resize = function (x_pixels, y_pixels) {\n",
       "    // Request matplotlib to resize the figure. Matplotlib will then trigger a resize in the client,\n",
       "    // which will in turn request a refresh of the image.\n",
       "    this.send_message('resize', { width: x_pixels, height: y_pixels });\n",
       "};\n",
       "\n",
       "mpl.figure.prototype.send_message = function (type, properties) {\n",
       "    properties['type'] = type;\n",
       "    properties['figure_id'] = this.id;\n",
       "    this.ws.send(JSON.stringify(properties));\n",
       "};\n",
       "\n",
       "mpl.figure.prototype.send_draw_message = function () {\n",
       "    if (!this.waiting) {\n",
       "        this.waiting = true;\n",
       "        this.ws.send(JSON.stringify({ type: 'draw', figure_id: this.id }));\n",
       "    }\n",
       "};\n",
       "\n",
       "mpl.figure.prototype.handle_save = function (fig, _msg) {\n",
       "    var format_dropdown = fig.format_dropdown;\n",
       "    var format = format_dropdown.options[format_dropdown.selectedIndex].value;\n",
       "    fig.ondownload(fig, format);\n",
       "};\n",
       "\n",
       "mpl.figure.prototype.handle_resize = function (fig, msg) {\n",
       "    var size = msg['size'];\n",
       "    if (size[0] !== fig.canvas.width || size[1] !== fig.canvas.height) {\n",
       "        fig._resize_canvas(size[0], size[1], msg['forward']);\n",
       "        fig.send_message('refresh', {});\n",
       "    }\n",
       "};\n",
       "\n",
       "mpl.figure.prototype.handle_rubberband = function (fig, msg) {\n",
       "    var x0 = msg['x0'] / fig.ratio;\n",
       "    var y0 = (fig.canvas.height - msg['y0']) / fig.ratio;\n",
       "    var x1 = msg['x1'] / fig.ratio;\n",
       "    var y1 = (fig.canvas.height - msg['y1']) / fig.ratio;\n",
       "    x0 = Math.floor(x0) + 0.5;\n",
       "    y0 = Math.floor(y0) + 0.5;\n",
       "    x1 = Math.floor(x1) + 0.5;\n",
       "    y1 = Math.floor(y1) + 0.5;\n",
       "    var min_x = Math.min(x0, x1);\n",
       "    var min_y = Math.min(y0, y1);\n",
       "    var width = Math.abs(x1 - x0);\n",
       "    var height = Math.abs(y1 - y0);\n",
       "\n",
       "    fig.rubberband_context.clearRect(\n",
       "        0,\n",
       "        0,\n",
       "        fig.canvas.width / fig.ratio,\n",
       "        fig.canvas.height / fig.ratio\n",
       "    );\n",
       "\n",
       "    fig.rubberband_context.strokeRect(min_x, min_y, width, height);\n",
       "};\n",
       "\n",
       "mpl.figure.prototype.handle_figure_label = function (fig, msg) {\n",
       "    // Updates the figure title.\n",
       "    fig.header.textContent = msg['label'];\n",
       "};\n",
       "\n",
       "mpl.figure.prototype.handle_cursor = function (fig, msg) {\n",
       "    var cursor = msg['cursor'];\n",
       "    switch (cursor) {\n",
       "        case 0:\n",
       "            cursor = 'pointer';\n",
       "            break;\n",
       "        case 1:\n",
       "            cursor = 'default';\n",
       "            break;\n",
       "        case 2:\n",
       "            cursor = 'crosshair';\n",
       "            break;\n",
       "        case 3:\n",
       "            cursor = 'move';\n",
       "            break;\n",
       "    }\n",
       "    fig.rubberband_canvas.style.cursor = cursor;\n",
       "};\n",
       "\n",
       "mpl.figure.prototype.handle_message = function (fig, msg) {\n",
       "    fig.message.textContent = msg['message'];\n",
       "};\n",
       "\n",
       "mpl.figure.prototype.handle_draw = function (fig, _msg) {\n",
       "    // Request the server to send over a new figure.\n",
       "    fig.send_draw_message();\n",
       "};\n",
       "\n",
       "mpl.figure.prototype.handle_image_mode = function (fig, msg) {\n",
       "    fig.image_mode = msg['mode'];\n",
       "};\n",
       "\n",
       "mpl.figure.prototype.handle_history_buttons = function (fig, msg) {\n",
       "    for (var key in msg) {\n",
       "        if (!(key in fig.buttons)) {\n",
       "            continue;\n",
       "        }\n",
       "        fig.buttons[key].disabled = !msg[key];\n",
       "        fig.buttons[key].setAttribute('aria-disabled', !msg[key]);\n",
       "    }\n",
       "};\n",
       "\n",
       "mpl.figure.prototype.handle_navigate_mode = function (fig, msg) {\n",
       "    if (msg['mode'] === 'PAN') {\n",
       "        fig.buttons['Pan'].classList.add('active');\n",
       "        fig.buttons['Zoom'].classList.remove('active');\n",
       "    } else if (msg['mode'] === 'ZOOM') {\n",
       "        fig.buttons['Pan'].classList.remove('active');\n",
       "        fig.buttons['Zoom'].classList.add('active');\n",
       "    } else {\n",
       "        fig.buttons['Pan'].classList.remove('active');\n",
       "        fig.buttons['Zoom'].classList.remove('active');\n",
       "    }\n",
       "};\n",
       "\n",
       "mpl.figure.prototype.updated_canvas_event = function () {\n",
       "    // Called whenever the canvas gets updated.\n",
       "    this.send_message('ack', {});\n",
       "};\n",
       "\n",
       "// A function to construct a web socket function for onmessage handling.\n",
       "// Called in the figure constructor.\n",
       "mpl.figure.prototype._make_on_message_function = function (fig) {\n",
       "    return function socket_on_message(evt) {\n",
       "        if (evt.data instanceof Blob) {\n",
       "            /* FIXME: We get \"Resource interpreted as Image but\n",
       "             * transferred with MIME type text/plain:\" errors on\n",
       "             * Chrome.  But how to set the MIME type?  It doesn't seem\n",
       "             * to be part of the websocket stream */\n",
       "            evt.data.type = 'image/png';\n",
       "\n",
       "            /* Free the memory for the previous frames */\n",
       "            if (fig.imageObj.src) {\n",
       "                (window.URL || window.webkitURL).revokeObjectURL(\n",
       "                    fig.imageObj.src\n",
       "                );\n",
       "            }\n",
       "\n",
       "            fig.imageObj.src = (window.URL || window.webkitURL).createObjectURL(\n",
       "                evt.data\n",
       "            );\n",
       "            fig.updated_canvas_event();\n",
       "            fig.waiting = false;\n",
       "            return;\n",
       "        } else if (\n",
       "            typeof evt.data === 'string' &&\n",
       "            evt.data.slice(0, 21) === 'data:image/png;base64'\n",
       "        ) {\n",
       "            fig.imageObj.src = evt.data;\n",
       "            fig.updated_canvas_event();\n",
       "            fig.waiting = false;\n",
       "            return;\n",
       "        }\n",
       "\n",
       "        var msg = JSON.parse(evt.data);\n",
       "        var msg_type = msg['type'];\n",
       "\n",
       "        // Call the  \"handle_{type}\" callback, which takes\n",
       "        // the figure and JSON message as its only arguments.\n",
       "        try {\n",
       "            var callback = fig['handle_' + msg_type];\n",
       "        } catch (e) {\n",
       "            console.log(\n",
       "                \"No handler for the '\" + msg_type + \"' message type: \",\n",
       "                msg\n",
       "            );\n",
       "            return;\n",
       "        }\n",
       "\n",
       "        if (callback) {\n",
       "            try {\n",
       "                // console.log(\"Handling '\" + msg_type + \"' message: \", msg);\n",
       "                callback(fig, msg);\n",
       "            } catch (e) {\n",
       "                console.log(\n",
       "                    \"Exception inside the 'handler_\" + msg_type + \"' callback:\",\n",
       "                    e,\n",
       "                    e.stack,\n",
       "                    msg\n",
       "                );\n",
       "            }\n",
       "        }\n",
       "    };\n",
       "};\n",
       "\n",
       "// from http://stackoverflow.com/questions/1114465/getting-mouse-location-in-canvas\n",
       "mpl.findpos = function (e) {\n",
       "    //this section is from http://www.quirksmode.org/js/events_properties.html\n",
       "    var targ;\n",
       "    if (!e) {\n",
       "        e = window.event;\n",
       "    }\n",
       "    if (e.target) {\n",
       "        targ = e.target;\n",
       "    } else if (e.srcElement) {\n",
       "        targ = e.srcElement;\n",
       "    }\n",
       "    if (targ.nodeType === 3) {\n",
       "        // defeat Safari bug\n",
       "        targ = targ.parentNode;\n",
       "    }\n",
       "\n",
       "    // pageX,Y are the mouse positions relative to the document\n",
       "    var boundingRect = targ.getBoundingClientRect();\n",
       "    var x = e.pageX - (boundingRect.left + document.body.scrollLeft);\n",
       "    var y = e.pageY - (boundingRect.top + document.body.scrollTop);\n",
       "\n",
       "    return { x: x, y: y };\n",
       "};\n",
       "\n",
       "/*\n",
       " * return a copy of an object with only non-object keys\n",
       " * we need this to avoid circular references\n",
       " * http://stackoverflow.com/a/24161582/3208463\n",
       " */\n",
       "function simpleKeys(original) {\n",
       "    return Object.keys(original).reduce(function (obj, key) {\n",
       "        if (typeof original[key] !== 'object') {\n",
       "            obj[key] = original[key];\n",
       "        }\n",
       "        return obj;\n",
       "    }, {});\n",
       "}\n",
       "\n",
       "mpl.figure.prototype.mouse_event = function (event, name) {\n",
       "    var canvas_pos = mpl.findpos(event);\n",
       "\n",
       "    if (name === 'button_press') {\n",
       "        this.canvas.focus();\n",
       "        this.canvas_div.focus();\n",
       "    }\n",
       "\n",
       "    var x = canvas_pos.x * this.ratio;\n",
       "    var y = canvas_pos.y * this.ratio;\n",
       "\n",
       "    this.send_message(name, {\n",
       "        x: x,\n",
       "        y: y,\n",
       "        button: event.button,\n",
       "        step: event.step,\n",
       "        guiEvent: simpleKeys(event),\n",
       "    });\n",
       "\n",
       "    /* This prevents the web browser from automatically changing to\n",
       "     * the text insertion cursor when the button is pressed.  We want\n",
       "     * to control all of the cursor setting manually through the\n",
       "     * 'cursor' event from matplotlib */\n",
       "    event.preventDefault();\n",
       "    return false;\n",
       "};\n",
       "\n",
       "mpl.figure.prototype._key_event_extra = function (_event, _name) {\n",
       "    // Handle any extra behaviour associated with a key event\n",
       "};\n",
       "\n",
       "mpl.figure.prototype.key_event = function (event, name) {\n",
       "    // Prevent repeat events\n",
       "    if (name === 'key_press') {\n",
       "        if (event.which === this._key) {\n",
       "            return;\n",
       "        } else {\n",
       "            this._key = event.which;\n",
       "        }\n",
       "    }\n",
       "    if (name === 'key_release') {\n",
       "        this._key = null;\n",
       "    }\n",
       "\n",
       "    var value = '';\n",
       "    if (event.ctrlKey && event.which !== 17) {\n",
       "        value += 'ctrl+';\n",
       "    }\n",
       "    if (event.altKey && event.which !== 18) {\n",
       "        value += 'alt+';\n",
       "    }\n",
       "    if (event.shiftKey && event.which !== 16) {\n",
       "        value += 'shift+';\n",
       "    }\n",
       "\n",
       "    value += 'k';\n",
       "    value += event.which.toString();\n",
       "\n",
       "    this._key_event_extra(event, name);\n",
       "\n",
       "    this.send_message(name, { key: value, guiEvent: simpleKeys(event) });\n",
       "    return false;\n",
       "};\n",
       "\n",
       "mpl.figure.prototype.toolbar_button_onclick = function (name) {\n",
       "    if (name === 'download') {\n",
       "        this.handle_save(this, null);\n",
       "    } else {\n",
       "        this.send_message('toolbar_button', { name: name });\n",
       "    }\n",
       "};\n",
       "\n",
       "mpl.figure.prototype.toolbar_button_onmouseover = function (tooltip) {\n",
       "    this.message.textContent = tooltip;\n",
       "};\n",
       "\n",
       "///////////////// REMAINING CONTENT GENERATED BY embed_js.py /////////////////\n",
       "// prettier-ignore\n",
       "var _JSXTOOLS_RESIZE_OBSERVER=function(A){var t,i=new WeakMap,n=new WeakMap,a=new WeakMap,r=new WeakMap,o=new Set;function s(e){if(!(this instanceof s))throw new TypeError(\"Constructor requires 'new' operator\");i.set(this,e)}function h(){throw new TypeError(\"Function is not a constructor\")}function c(e,t,i,n){e=0 in arguments?Number(arguments[0]):0,t=1 in arguments?Number(arguments[1]):0,i=2 in arguments?Number(arguments[2]):0,n=3 in arguments?Number(arguments[3]):0,this.right=(this.x=this.left=e)+(this.width=i),this.bottom=(this.y=this.top=t)+(this.height=n),Object.freeze(this)}function d(){t=requestAnimationFrame(d);var s=new WeakMap,p=new Set;o.forEach((function(t){r.get(t).forEach((function(i){var r=t instanceof window.SVGElement,o=a.get(t),d=r?0:parseFloat(o.paddingTop),f=r?0:parseFloat(o.paddingRight),l=r?0:parseFloat(o.paddingBottom),u=r?0:parseFloat(o.paddingLeft),g=r?0:parseFloat(o.borderTopWidth),m=r?0:parseFloat(o.borderRightWidth),w=r?0:parseFloat(o.borderBottomWidth),b=u+f,F=d+l,v=(r?0:parseFloat(o.borderLeftWidth))+m,W=g+w,y=r?0:t.offsetHeight-W-t.clientHeight,E=r?0:t.offsetWidth-v-t.clientWidth,R=b+v,z=F+W,M=r?t.width:parseFloat(o.width)-R-E,O=r?t.height:parseFloat(o.height)-z-y;if(n.has(t)){var k=n.get(t);if(k[0]===M&&k[1]===O)return}n.set(t,[M,O]);var S=Object.create(h.prototype);S.target=t,S.contentRect=new c(u,d,M,O),s.has(i)||(s.set(i,[]),p.add(i)),s.get(i).push(S)}))})),p.forEach((function(e){i.get(e).call(e,s.get(e),e)}))}return s.prototype.observe=function(i){if(i instanceof window.Element){r.has(i)||(r.set(i,new Set),o.add(i),a.set(i,window.getComputedStyle(i)));var n=r.get(i);n.has(this)||n.add(this),cancelAnimationFrame(t),t=requestAnimationFrame(d)}},s.prototype.unobserve=function(i){if(i instanceof window.Element&&r.has(i)){var n=r.get(i);n.has(this)&&(n.delete(this),n.size||(r.delete(i),o.delete(i))),n.size||r.delete(i),o.size||cancelAnimationFrame(t)}},A.DOMRectReadOnly=c,A.ResizeObserver=s,A.ResizeObserverEntry=h,A}; // eslint-disable-line\n",
       "mpl.toolbar_items = [[\"Home\", \"Reset original view\", \"fa fa-home icon-home\", \"home\"], [\"Back\", \"Back to previous view\", \"fa fa-arrow-left icon-arrow-left\", \"back\"], [\"Forward\", \"Forward to next view\", \"fa fa-arrow-right icon-arrow-right\", \"forward\"], [\"\", \"\", \"\", \"\"], [\"Pan\", \"Left button pans, Right button zooms\\nx/y fixes axis, CTRL fixes aspect\", \"fa fa-arrows icon-move\", \"pan\"], [\"Zoom\", \"Zoom to rectangle\\nx/y fixes axis, CTRL fixes aspect\", \"fa fa-square-o icon-check-empty\", \"zoom\"], [\"\", \"\", \"\", \"\"], [\"Download\", \"Download plot\", \"fa fa-floppy-o icon-save\", \"download\"]];\n",
       "\n",
       "mpl.extensions = [\"eps\", \"jpeg\", \"pdf\", \"png\", \"ps\", \"raw\", \"svg\", \"tif\"];\n",
       "\n",
       "mpl.default_extension = \"png\";/* global mpl */\n",
       "\n",
       "var comm_websocket_adapter = function (comm) {\n",
       "    // Create a \"websocket\"-like object which calls the given IPython comm\n",
       "    // object with the appropriate methods. Currently this is a non binary\n",
       "    // socket, so there is still some room for performance tuning.\n",
       "    var ws = {};\n",
       "\n",
       "    ws.close = function () {\n",
       "        comm.close();\n",
       "    };\n",
       "    ws.send = function (m) {\n",
       "        //console.log('sending', m);\n",
       "        comm.send(m);\n",
       "    };\n",
       "    // Register the callback with on_msg.\n",
       "    comm.on_msg(function (msg) {\n",
       "        //console.log('receiving', msg['content']['data'], msg);\n",
       "        // Pass the mpl event to the overridden (by mpl) onmessage function.\n",
       "        ws.onmessage(msg['content']['data']);\n",
       "    });\n",
       "    return ws;\n",
       "};\n",
       "\n",
       "mpl.mpl_figure_comm = function (comm, msg) {\n",
       "    // This is the function which gets called when the mpl process\n",
       "    // starts-up an IPython Comm through the \"matplotlib\" channel.\n",
       "\n",
       "    var id = msg.content.data.id;\n",
       "    // Get hold of the div created by the display call when the Comm\n",
       "    // socket was opened in Python.\n",
       "    var element = document.getElementById(id);\n",
       "    var ws_proxy = comm_websocket_adapter(comm);\n",
       "\n",
       "    function ondownload(figure, _format) {\n",
       "        window.open(figure.canvas.toDataURL());\n",
       "    }\n",
       "\n",
       "    var fig = new mpl.figure(id, ws_proxy, ondownload, element);\n",
       "\n",
       "    // Call onopen now - mpl needs it, as it is assuming we've passed it a real\n",
       "    // web socket which is closed, not our websocket->open comm proxy.\n",
       "    ws_proxy.onopen();\n",
       "\n",
       "    fig.parent_element = element;\n",
       "    fig.cell_info = mpl.find_output_cell(\"<div id='\" + id + \"'></div>\");\n",
       "    if (!fig.cell_info) {\n",
       "        console.error('Failed to find cell for figure', id, fig);\n",
       "        return;\n",
       "    }\n",
       "    fig.cell_info[0].output_area.element.on(\n",
       "        'cleared',\n",
       "        { fig: fig },\n",
       "        fig._remove_fig_handler\n",
       "    );\n",
       "};\n",
       "\n",
       "mpl.figure.prototype.handle_close = function (fig, msg) {\n",
       "    var width = fig.canvas.width / fig.ratio;\n",
       "    fig.cell_info[0].output_area.element.off(\n",
       "        'cleared',\n",
       "        fig._remove_fig_handler\n",
       "    );\n",
       "    fig.resizeObserverInstance.unobserve(fig.canvas_div);\n",
       "\n",
       "    // Update the output cell to use the data from the current canvas.\n",
       "    fig.push_to_output();\n",
       "    var dataURL = fig.canvas.toDataURL();\n",
       "    // Re-enable the keyboard manager in IPython - without this line, in FF,\n",
       "    // the notebook keyboard shortcuts fail.\n",
       "    IPython.keyboard_manager.enable();\n",
       "    fig.parent_element.innerHTML =\n",
       "        '<img src=\"' + dataURL + '\" width=\"' + width + '\">';\n",
       "    fig.close_ws(fig, msg);\n",
       "};\n",
       "\n",
       "mpl.figure.prototype.close_ws = function (fig, msg) {\n",
       "    fig.send_message('closing', msg);\n",
       "    // fig.ws.close()\n",
       "};\n",
       "\n",
       "mpl.figure.prototype.push_to_output = function (_remove_interactive) {\n",
       "    // Turn the data on the canvas into data in the output cell.\n",
       "    var width = this.canvas.width / this.ratio;\n",
       "    var dataURL = this.canvas.toDataURL();\n",
       "    this.cell_info[1]['text/html'] =\n",
       "        '<img src=\"' + dataURL + '\" width=\"' + width + '\">';\n",
       "};\n",
       "\n",
       "mpl.figure.prototype.updated_canvas_event = function () {\n",
       "    // Tell IPython that the notebook contents must change.\n",
       "    IPython.notebook.set_dirty(true);\n",
       "    this.send_message('ack', {});\n",
       "    var fig = this;\n",
       "    // Wait a second, then push the new image to the DOM so\n",
       "    // that it is saved nicely (might be nice to debounce this).\n",
       "    setTimeout(function () {\n",
       "        fig.push_to_output();\n",
       "    }, 1000);\n",
       "};\n",
       "\n",
       "mpl.figure.prototype._init_toolbar = function () {\n",
       "    var fig = this;\n",
       "\n",
       "    var toolbar = document.createElement('div');\n",
       "    toolbar.classList = 'btn-toolbar';\n",
       "    this.root.appendChild(toolbar);\n",
       "\n",
       "    function on_click_closure(name) {\n",
       "        return function (_event) {\n",
       "            return fig.toolbar_button_onclick(name);\n",
       "        };\n",
       "    }\n",
       "\n",
       "    function on_mouseover_closure(tooltip) {\n",
       "        return function (event) {\n",
       "            if (!event.currentTarget.disabled) {\n",
       "                return fig.toolbar_button_onmouseover(tooltip);\n",
       "            }\n",
       "        };\n",
       "    }\n",
       "\n",
       "    fig.buttons = {};\n",
       "    var buttonGroup = document.createElement('div');\n",
       "    buttonGroup.classList = 'btn-group';\n",
       "    var button;\n",
       "    for (var toolbar_ind in mpl.toolbar_items) {\n",
       "        var name = mpl.toolbar_items[toolbar_ind][0];\n",
       "        var tooltip = mpl.toolbar_items[toolbar_ind][1];\n",
       "        var image = mpl.toolbar_items[toolbar_ind][2];\n",
       "        var method_name = mpl.toolbar_items[toolbar_ind][3];\n",
       "\n",
       "        if (!name) {\n",
       "            /* Instead of a spacer, we start a new button group. */\n",
       "            if (buttonGroup.hasChildNodes()) {\n",
       "                toolbar.appendChild(buttonGroup);\n",
       "            }\n",
       "            buttonGroup = document.createElement('div');\n",
       "            buttonGroup.classList = 'btn-group';\n",
       "            continue;\n",
       "        }\n",
       "\n",
       "        button = fig.buttons[name] = document.createElement('button');\n",
       "        button.classList = 'btn btn-default';\n",
       "        button.href = '#';\n",
       "        button.title = name;\n",
       "        button.innerHTML = '<i class=\"fa ' + image + ' fa-lg\"></i>';\n",
       "        button.addEventListener('click', on_click_closure(method_name));\n",
       "        button.addEventListener('mouseover', on_mouseover_closure(tooltip));\n",
       "        buttonGroup.appendChild(button);\n",
       "    }\n",
       "\n",
       "    if (buttonGroup.hasChildNodes()) {\n",
       "        toolbar.appendChild(buttonGroup);\n",
       "    }\n",
       "\n",
       "    // Add the status bar.\n",
       "    var status_bar = document.createElement('span');\n",
       "    status_bar.classList = 'mpl-message pull-right';\n",
       "    toolbar.appendChild(status_bar);\n",
       "    this.message = status_bar;\n",
       "\n",
       "    // Add the close button to the window.\n",
       "    var buttongrp = document.createElement('div');\n",
       "    buttongrp.classList = 'btn-group inline pull-right';\n",
       "    button = document.createElement('button');\n",
       "    button.classList = 'btn btn-mini btn-primary';\n",
       "    button.href = '#';\n",
       "    button.title = 'Stop Interaction';\n",
       "    button.innerHTML = '<i class=\"fa fa-power-off icon-remove icon-large\"></i>';\n",
       "    button.addEventListener('click', function (_evt) {\n",
       "        fig.handle_close(fig, {});\n",
       "    });\n",
       "    button.addEventListener(\n",
       "        'mouseover',\n",
       "        on_mouseover_closure('Stop Interaction')\n",
       "    );\n",
       "    buttongrp.appendChild(button);\n",
       "    var titlebar = this.root.querySelector('.ui-dialog-titlebar');\n",
       "    titlebar.insertBefore(buttongrp, titlebar.firstChild);\n",
       "};\n",
       "\n",
       "mpl.figure.prototype._remove_fig_handler = function (event) {\n",
       "    var fig = event.data.fig;\n",
       "    if (event.target !== this) {\n",
       "        // Ignore bubbled events from children.\n",
       "        return;\n",
       "    }\n",
       "    fig.close_ws(fig, {});\n",
       "};\n",
       "\n",
       "mpl.figure.prototype._root_extra_style = function (el) {\n",
       "    el.style.boxSizing = 'content-box'; // override notebook setting of border-box.\n",
       "};\n",
       "\n",
       "mpl.figure.prototype._canvas_extra_style = function (el) {\n",
       "    // this is important to make the div 'focusable\n",
       "    el.setAttribute('tabindex', 0);\n",
       "    // reach out to IPython and tell the keyboard manager to turn it's self\n",
       "    // off when our div gets focus\n",
       "\n",
       "    // location in version 3\n",
       "    if (IPython.notebook.keyboard_manager) {\n",
       "        IPython.notebook.keyboard_manager.register_events(el);\n",
       "    } else {\n",
       "        // location in version 2\n",
       "        IPython.keyboard_manager.register_events(el);\n",
       "    }\n",
       "};\n",
       "\n",
       "mpl.figure.prototype._key_event_extra = function (event, _name) {\n",
       "    var manager = IPython.notebook.keyboard_manager;\n",
       "    if (!manager) {\n",
       "        manager = IPython.keyboard_manager;\n",
       "    }\n",
       "\n",
       "    // Check for shift+enter\n",
       "    if (event.shiftKey && event.which === 13) {\n",
       "        this.canvas_div.blur();\n",
       "        // select the cell after this one\n",
       "        var index = IPython.notebook.find_cell_index(this.cell_info[0]);\n",
       "        IPython.notebook.select(index + 1);\n",
       "    }\n",
       "};\n",
       "\n",
       "mpl.figure.prototype.handle_save = function (fig, _msg) {\n",
       "    fig.ondownload(fig, null);\n",
       "};\n",
       "\n",
       "mpl.find_output_cell = function (html_output) {\n",
       "    // Return the cell and output element which can be found *uniquely* in the notebook.\n",
       "    // Note - this is a bit hacky, but it is done because the \"notebook_saving.Notebook\"\n",
       "    // IPython event is triggered only after the cells have been serialised, which for\n",
       "    // our purposes (turning an active figure into a static one), is too late.\n",
       "    var cells = IPython.notebook.get_cells();\n",
       "    var ncells = cells.length;\n",
       "    for (var i = 0; i < ncells; i++) {\n",
       "        var cell = cells[i];\n",
       "        if (cell.cell_type === 'code') {\n",
       "            for (var j = 0; j < cell.output_area.outputs.length; j++) {\n",
       "                var data = cell.output_area.outputs[j];\n",
       "                if (data.data) {\n",
       "                    // IPython >= 3 moved mimebundle to data attribute of output\n",
       "                    data = data.data;\n",
       "                }\n",
       "                if (data['text/html'] === html_output) {\n",
       "                    return [cell, data, j];\n",
       "                }\n",
       "            }\n",
       "        }\n",
       "    }\n",
       "};\n",
       "\n",
       "// Register the function which deals with the matplotlib target/channel.\n",
       "// The kernel may be null if the page has been refreshed.\n",
       "if (IPython.notebook.kernel !== null) {\n",
       "    IPython.notebook.kernel.comm_manager.register_target(\n",
       "        'matplotlib',\n",
       "        mpl.mpl_figure_comm\n",
       "    );\n",
       "}\n"
      ],
      "text/plain": [
       "<IPython.core.display.Javascript object>"
      ]
     },
     "metadata": {},
     "output_type": "display_data"
    },
    {
     "data": {
      "text/html": [
       "<img src=\"data:image/png;base64,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\" width=\"640\">"
      ],
      "text/plain": [
       "<IPython.core.display.HTML object>"
      ]
     },
     "metadata": {},
     "output_type": "display_data"
    }
   ],
   "source": [
    "# \n",
    "refdate = dt.datetime(2017,1,1,0,0,0)\n",
    "expiries = [dt.datetime(2017,2,1,0,0,0), dt.datetime(2018,1,1,0,0,0), dt.datetime(2019,1,1,0,0,0), dt.datetime(2020,1,1,0,0,0)]\n",
    "def s_range(x, y, count):\n",
    "  jump = (y-x)/count\n",
    "  while x <= y:\n",
    "    yield x\n",
    "    x += jump\n",
    "\n",
    "strikes = list(s_range(80, 120, 100))\n",
    "\n",
    "x = strikes\n",
    "y = ttm\n",
    "\n",
    "term_structure = []\n",
    "for i in strikes: \n",
    "    temp = []\n",
    "    for j in expiries:\n",
    "        temp.append(vol_surf.calcImpliedVol(refdate, j, i))\n",
    "    term_structure.append(temp)\n",
    "\n",
    "yv, xv = np.meshgrid(y, x)\n",
    "xv = np.array(xv)  #strikes 1x no. strikes\n",
    "yv = np.array(yv)  #ttm     1x no. ttms\n",
    "z = np.array(term_structure)           #vols    no. strikes x no. ttms\n",
    "\n",
    "# fig = mkt_plot.plt.figure()\n",
    "fig = matplotlib.pyplot.figure()\n",
    "ax4 = fig.add_subplot(111, projection='3d')\n",
    "ax4.set_title('Volatility Surface')\n",
    "ax4.set_xlabel('Strikes')\n",
    "ax4.set_ylabel('TTM')\n",
    "ax4.set_zlabel('Volatility')\n",
    "ax4.plot_surface(xv, yv, z, rstride=2, cstride=1, alpha=0.58, cmap=cm.coolwarm, linewidth=0, antialiased=False)\n",
    "# ax4.plot_surface(xv, yv, z, rstride=8, cstride=1, alpha=0.3)\n",
    "\n",
    "#ax4.contour(xv, yv, z, zdir='z', offset=ax4.get_zlim()[0], cmap=cm.coolwarm)\n",
    "ax4.contour(xv, yv, z, zdir='x', offset=ax4.get_xlim()[1]-0.08, cmap=cm.coolwarm)\n",
    "ax4.contour(xv, yv, z, zdir='y', offset=ax4.get_ylim()[1], cmap=cm.coolwarm)\n",
    "ax4.contour(xv, yv, z, zdir='y', offset=ax4.get_ylim()[1], cmap=cm.coolwarm, levels = [0,0.2,0.3,0.5,0.7,0.8])\n",
    "fig.show()"
   ]
  },
  {
   "cell_type": "markdown",
   "metadata": {},
   "source": [
    "### Stickiness assumptions"
   ]
  },
  {
   "cell_type": "code",
   "execution_count": 9,
   "metadata": {
    "ExecuteTime": {
     "end_time": "2021-04-18T08:22:41.476829Z",
     "start_time": "2021-04-18T08:22:41.464860Z"
    }
   },
   "outputs": [],
   "source": [
    "forward_curve_shifted = mkt_data.EquityForwardCurve(1.02*spot, dc, bc, div_table)\n",
    "vol_surf_shifted = pyvacon.finance.marketdata.VolatilitySurface.createVolatilitySurfaceShiftedFwd(vol_surf, forward_curve_shifted._get_pyvacon_obj())"
   ]
  },
  {
   "cell_type": "code",
   "execution_count": 13,
   "metadata": {
    "ExecuteTime": {
     "end_time": "2021-04-18T08:29:50.029388Z",
     "start_time": "2021-04-18T08:29:50.017420Z"
    }
   },
   "outputs": [
    {
     "name": "stdout",
     "output_type": "stream",
     "text": [
      "0.2819287824679105\n",
      "0.27165643311101073\n"
     ]
    }
   ],
   "source": [
    "pyvacon.finance.pricing.GlobalSettings.setVolatilitySurfaceFwdStickyness(pyvacon.finance.pricing.VolatilitySurfaceFwdStickyness.Type.StickyXStrike)\n",
    "print(vol_surf_shifted.calcImpliedVol(refdate,refdate + dt.timedelta(days=180), 1.0))\n",
    "pyvacon.finance.pricing.GlobalSettings.setVolatilitySurfaceFwdStickyness(pyvacon.finance.pricing.VolatilitySurfaceFwdStickyness.Type.StickyStrike)\n",
    "print(vol_surf_shifted.calcImpliedVol(refdate,refdate + dt.timedelta(days=180), 1.0))"
   ]
  },
  {
   "cell_type": "markdown",
   "metadata": {},
   "source": [
    "---"
   ]
  }
 ],
 "metadata": {
  "kernelspec": {
   "display_name": "python38",
   "language": "python",
   "name": "python38"
  },
  "language_info": {
   "codemirror_mode": {
    "name": "ipython",
    "version": 3
   },
   "file_extension": ".py",
   "mimetype": "text/x-python",
   "name": "python",
   "nbconvert_exporter": "python",
   "pygments_lexer": "ipython3",
   "version": "3.8.5"
  },
  "toc": {
   "base_numbering": 1,
   "nav_menu": {
    "height": "175px",
    "width": "252px"
   },
   "number_sections": true,
   "sideBar": true,
   "skip_h1_title": false,
   "title_cell": "Table of Contents",
   "title_sidebar": "Contents",
   "toc_cell": false,
   "toc_position": {
    "height": "calc(100% - 180px)",
    "left": "10px",
    "top": "150px",
    "width": "384px"
   },
   "toc_section_display": "block",
   "toc_window_display": true
  },
  "varInspector": {
   "cols": {
    "lenName": 16,
    "lenType": 16,
    "lenVar": 40
   },
   "kernels_config": {
    "python": {
     "delete_cmd_postfix": "",
     "delete_cmd_prefix": "del ",
     "library": "var_list.py",
     "varRefreshCmd": "print(var_dic_list())"
    },
    "r": {
     "delete_cmd_postfix": ") ",
     "delete_cmd_prefix": "rm(",
     "library": "var_list.r",
     "varRefreshCmd": "cat(var_dic_list()) "
    }
   },
   "types_to_exclude": [
    "module",
    "function",
    "builtin_function_or_method",
    "instance",
    "_Feature"
   ],
   "window_display": false
  }
 },
 "nbformat": 4,
 "nbformat_minor": 2
}