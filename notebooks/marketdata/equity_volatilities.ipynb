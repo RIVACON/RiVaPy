{
 "cells": [
  {
   "cell_type": "markdown",
   "metadata": {},
   "source": [
    "![](../images/rivacon_frontmark_combined_header.png)"
   ]
  },
  {
   "cell_type": "markdown",
   "metadata": {},
   "source": [
    "# Equity Volatility Surfaces"
   ]
  },
  {
   "cell_type": "code",
   "execution_count": 1,
   "metadata": {
    "ExecuteTime": {
     "end_time": "2021-09-14T11:33:48.808843Z",
     "start_time": "2021-09-14T11:33:42.286473Z"
    }
   },
   "outputs": [],
   "source": [
    "import matplotlib\n",
    "matplotlib.use('nbagg')\n",
    "import rivapy\n",
    "from rivapy import marketdata as mkt_data\n",
    "from rivapy import enums as enums\n",
    "# import pyvacon\n",
    "import datetime as dt\n",
    "import math\n",
    "import numpy as np\n",
    "from mpl_toolkits.mplot3d import Axes3D\n",
    "from matplotlib import cm\n",
    "import plotly.graph_objects as go\n",
    "#the next lin is a jupyter internal command to show the matplotlib graphs within the notebook\n",
    "#%matplotlib inline"
   ]
  },
  {
   "cell_type": "markdown",
   "metadata": {},
   "source": [
    "## General Remarks\n",
    "An equity volatility surface is an object providing for arbitrary expiries and strikes implied volatilities. The volatility surfaces provided by the analytics library are parametrized w.r.t. the so-called X-strikes, i.e. one has to put in a strike w.r.t. the X-variable which is the driving process of the spot $S$, i.e.\n",
    "$$ S_t=(F_t-D_t)X_t+D_t$$\n",
    "where $F_t$ is the risky forward and $D_t$ the cash dividends, see [Buehler](https://papers.ssrn.com/sol3/papers.cfm?abstract_id=1141877) for a more detailed discussion. \n",
    "\n",
    "To create a volatility surface one needs two components:\n",
    "- A reference forward curve (typically the forward curve which was used to compute the implieds from quoted prices)\n",
    "- A volatility parametrization\n",
    "\n"
   ]
  },
  {
   "cell_type": "markdown",
   "metadata": {},
   "source": [
    "## Creating Forward Curve\n",
    "We create a dummy forward curve as shown in the  [forward_curve](equity_forwardcurve.ipynb) notebook which will be used in all subsequent volatility surface constructions."
   ]
  },
  {
   "cell_type": "code",
   "execution_count": 2,
   "metadata": {
    "ExecuteTime": {
     "end_time": "2021-09-14T11:33:48.839762Z",
     "start_time": "2021-09-14T11:33:48.813832Z"
    }
   },
   "outputs": [],
   "source": [
    "refdate = dt.datetime(2017,1,1)\n",
    "\n",
    "#dividend table neede fo forward curve\n",
    "object_id = \"TEST_DIV\" \n",
    "ex_dates = [dt.datetime(2018,3,29), dt.datetime(2019,3,29), dt.datetime(2020,3,29), dt.datetime(2021,3,29)]\n",
    "pay_dates = [dt.datetime(2018,4,1), dt.datetime(2019,4,1), dt.datetime(2020,4,1), dt.datetime(2021,4,1)]\n",
    "tax_factors = [1.0, 1.0, 1.0, 1.0]\n",
    "div_yield = [0, 0.005, 0.01, 0.01]\n",
    "div_cash = [3.0, 2.0, 1.0, 0.0]\n",
    "div_table=rivapy.marketdata.DividendTable(object_id, refdate, ex_dates, pay_dates, div_yield, div_cash, tax_factors)\n",
    "\n",
    "#discount- and borrowing curve needed for forward curve\n",
    "dates = [refdate + dt.timedelta(days=x) for x in [0,10]]\n",
    "df = [1.0,1.0]\n",
    "dc = mkt_data.DiscountCurve(object_id, refdate, dates, df, \n",
    "                             enums.InterpolationType.HAGAN_DF, enums.ExtrapolationType.NONE, enums.DayCounterType.Act365Fixed)\n",
    "bc = mkt_data.DiscountCurve(object_id, refdate, dates, df, \n",
    "                             enums.InterpolationType.HAGAN_DF, enums.ExtrapolationType.NONE, enums.DayCounterType.Act365Fixed)\n",
    "spot = 100.0\n",
    "\n",
    "#forward curve\n",
    "forward_curve = mkt_data.EquityForwardCurve(spot, dc, bc, div_table)"
   ]
  },
  {
   "cell_type": "markdown",
   "metadata": {},
   "source": [
    "## Volatility Parametrizations\n",
    "\n",
    "The volatility parametrization provides the method *calcImpliedVol* functionality to retrieve for each x-strike and time-to-maturity (in year fractions) the implied volatility. This method is used internally in the volatility surface in all methods where a implied volatility is computed.\n",
    "We will discuss the different available parametrizations in this subsection.\n",
    "\n",
    "### Flat volatility\n",
    "To setup a flat volatility, one may use the VolatilityParametrizationFlat"
   ]
  },
  {
   "cell_type": "code",
   "execution_count": 3,
   "metadata": {
    "ExecuteTime": {
     "end_time": "2021-09-14T11:33:48.854722Z",
     "start_time": "2021-09-14T11:33:48.845746Z"
    }
   },
   "outputs": [],
   "source": [
    "flat_param = mkt_data.VolatilityParametrizationFlat(0.3)"
   ]
  },
  {
   "cell_type": "markdown",
   "metadata": {},
   "source": [
    "### Term structure volatility\n",
    "To create a volatility which has only a term structure and no strike dependency one may use this parametrization type. This parametrization needs a vector of expiry times (given as year fractions which are interpreted as year fractions w.r.t. the day counter specified in th volatility surface) and forward at-the-money volatilities, i.e. X-strike=1.0."
   ]
  },
  {
   "cell_type": "code",
   "execution_count": 4,
   "metadata": {
    "ExecuteTime": {
     "end_time": "2021-09-14T11:33:48.869690Z",
     "start_time": "2021-09-14T11:33:48.858712Z"
    }
   },
   "outputs": [],
   "source": [
    "ttm = [1.0/12.0, 1.0, 2.0, 3.0]\n",
    "fwd_atm_vols =  [0.3, 0.28, 0.25, 0.24]\n",
    "term_param = mkt_data.VolatilityParametrizationTerm(ttm,fwd_atm_vols)"
   ]
  },
  {
   "cell_type": "markdown",
   "metadata": {},
   "source": [
    "### SSVI\n",
    "This parametrization is inspired by the volatility structure provided by stochastic volatility models. The total variance $w(k,t)$ for a strike log strike $k$ and time-to-maturity $t$ is given by\n",
    "$$ w(k,t) = \\frac{\\theta_t}{2}\\left( 1+\\rho\\phi(\\theta_t)k+\\sqrt{(\\phi(\\theta_t)k+\\rho)^2+(1-\\rho^2)}  \\right) $$ \n",
    "and \n",
    "$$ \\phi(\\theta_t) = \\frac{\\eta}{\\theta_t^\\gamma(1+\\theta_t)^{1-\\gamma}} $$\n",
    "for parameters $\\rho$, $\\eta$, $\\gamma$ and given atm implied total variances $\\theta_t:=\\sigma^2(t)t$. The term structure of implied total variances is internally approximated by interpolation from given atm volatilities. The nice property of this surface is that there are very simple conditions on the parameters to guarantee that the surface is free of arbitrage, see [gatheral_jacquier_svi](https://papers.ssrn.com/sol3/papers.cfm?abstract_id=2033323)."
   ]
  },
  {
   "cell_type": "code",
   "execution_count": 5,
   "metadata": {
    "ExecuteTime": {
     "end_time": "2021-09-14T11:33:48.901597Z",
     "start_time": "2021-09-14T11:33:48.874672Z"
    }
   },
   "outputs": [],
   "source": [
    "gamma = 0.5 # responsible for the \"rate of decay\"\n",
    "rho = -0.7 # responsible for the skewness of the vol_surface\n",
    "eta = 1.0 # responsible for the curvature\n",
    "ssvi_param = mkt_data.VolatilityParametrizationSSVI(ttm, fwd_atm_vols, rho, eta, gamma)"
   ]
  },
  {
   "cell_type": "code",
   "execution_count": 6,
   "metadata": {
    "ExecuteTime": {
     "end_time": "2021-09-14T11:33:48.933512Z",
     "start_time": "2021-09-14T11:33:48.905586Z"
    }
   },
   "outputs": [
    {
     "data": {
      "text/plain": [
       "0.3151536735681129"
      ]
     },
     "execution_count": 6,
     "metadata": {},
     "output_type": "execute_result"
    }
   ],
   "source": [
    "ssvi_param.calc_implied_vol(1,.9)"
   ]
  },
  {
   "cell_type": "markdown",
   "metadata": {},
   "source": [
    "### SVI"
   ]
  },
  {
   "cell_type": "code",
   "execution_count": 7,
   "metadata": {
    "ExecuteTime": {
     "end_time": "2021-09-14T11:33:48.964431Z",
     "start_time": "2021-09-14T11:33:48.942488Z"
    }
   },
   "outputs": [],
   "source": [
    "svi_param = mkt_data.VolatilityParametrizationSVI(expiries=np.array([1.0/365.0, 1.0]), svi_params=[\n",
    "        (0.0001, 0.1, -0.5, 0.0, 0.0001),\n",
    "        (0.0002, 0.1, -0.5, 0.0, 0.00004),\n",
    "])"
   ]
  },
  {
   "cell_type": "markdown",
   "metadata": {},
   "source": [
    "### SABR"
   ]
  },
  {
   "cell_type": "code",
   "execution_count": 31,
   "metadata": {
    "ExecuteTime": {
     "end_time": "2021-09-14T11:55:16.520218Z",
     "start_time": "2021-09-14T11:55:16.504241Z"
    }
   },
   "outputs": [],
   "source": [
    "ttm = [1.0/12.0, 1.0, 2.0, 3.0]\n",
    "sabr_params = [[.1, 0.1, .9,-.8],\n",
    "               [.3, 0.1, .7, -.9],\n",
    "               [.5, .3, .9, -.75,],\n",
    "              [.5, .3, .9, -.75,]]"
   ]
  },
  {
   "cell_type": "code",
   "execution_count": 9,
   "metadata": {
    "ExecuteTime": {
     "end_time": "2021-09-14T11:33:49.011303Z",
     "start_time": "2021-09-14T11:33:48.999335Z"
    }
   },
   "outputs": [
    {
     "data": {
      "text/plain": [
       "0.48967013729911385"
      ]
     },
     "execution_count": 9,
     "metadata": {},
     "output_type": "execute_result"
    }
   ],
   "source": [
    "sabr_param = mkt_data.VolatilityParametrizationSABR(ttm, sabr_params)\n",
    "sabr_param.calc_implied_vol(2,.9)"
   ]
  },
  {
   "cell_type": "code",
   "execution_count": 15,
   "metadata": {
    "ExecuteTime": {
     "end_time": "2021-09-14T11:45:05.924590Z",
     "start_time": "2021-09-14T11:45:05.919602Z"
    }
   },
   "outputs": [
    {
     "data": {
      "text/plain": [
       "False"
      ]
     },
     "execution_count": 15,
     "metadata": {},
     "output_type": "execute_result"
    }
   ],
   "source": [
    "hasattr(mkt_data.VolatilityParametrizationSABR,'expiries')"
   ]
  },
  {
   "cell_type": "code",
   "execution_count": 42,
   "metadata": {
    "ExecuteTime": {
     "end_time": "2021-09-14T12:04:19.821677Z",
     "start_time": "2021-09-14T12:04:19.795542Z"
    }
   },
   "outputs": [
    {
     "data": {
      "text/plain": [
       "<__main__.bbb at 0x1de7f7e22b0>"
      ]
     },
     "execution_count": 42,
     "metadata": {},
     "output_type": "execute_result"
    }
   ],
   "source": [
    "expiries =[1]\n",
    "ttm =[1]\n",
    "class abx:\n",
    "    def __init__(self,expiries):\n",
    "    \n",
    "        self.expiries = [1,2]\n",
    "    \n",
    "    def de():\n",
    "        return 2\n",
    "    \n",
    "    a = 5\n",
    "\n",
    "ggg = abx(ttm)\n",
    "hasattr(abx,'expiries')\n",
    "\n",
    "class bbb():\n",
    "    @staticmethod\n",
    "    def _b(abx):\n",
    "        if hasattr(abx,'expiries'):\n",
    "            return abx.de()\n",
    "        else:\n",
    "            return 5\n",
    "        \n",
    "    def __init__(self,abx):\n",
    "        \n",
    "        self.abx = abx\n",
    "        \n",
    "bbb.mro"
   ]
  },
  {
   "cell_type": "code",
   "execution_count": 43,
   "metadata": {
    "ExecuteTime": {
     "end_time": "2021-09-14T12:04:52.690311Z",
     "start_time": "2021-09-14T12:04:52.673337Z"
    }
   },
   "outputs": [],
   "source": [
    "ggg = abx([1,2])"
   ]
  },
  {
   "cell_type": "code",
   "execution_count": 45,
   "metadata": {
    "ExecuteTime": {
     "end_time": "2021-09-14T12:05:52.883929Z",
     "start_time": "2021-09-14T12:05:52.866971Z"
    }
   },
   "outputs": [],
   "source": [
    "a = bbb(ggg)"
   ]
  },
  {
   "cell_type": "code",
   "execution_count": 46,
   "metadata": {
    "ExecuteTime": {
     "end_time": "2021-09-14T12:06:06.502766Z",
     "start_time": "2021-09-14T12:06:06.482822Z"
    }
   },
   "outputs": [
    {
     "data": {
      "text/plain": [
       "<__main__.abx at 0x1de7fec0220>"
      ]
     },
     "execution_count": 46,
     "metadata": {},
     "output_type": "execute_result"
    }
   ],
   "source": [
    "a.abx"
   ]
  },
  {
   "cell_type": "code",
   "execution_count": 34,
   "metadata": {
    "ExecuteTime": {
     "end_time": "2021-09-14T11:57:57.937528Z",
     "start_time": "2021-09-14T11:57:57.884451Z"
    }
   },
   "outputs": [],
   "source": [
    "import numpy as np\n",
    "from rivapy import enums\n",
    "from typing import List, Union, Tuple\n",
    "from rivapy.marketdata.curves import *\n",
    "\n",
    "import pyvacon.finance.marketdata as _mkt_data\n",
    "import pyvacon.finance.utils as _utils\n",
    "import pyvacon.finance.pricing as _pricing\n",
    "\n",
    "class VolatilityParametrizationSABR:\n",
    "    def __init__(self, expiries: List[float], sabr_params: List[Tuple]):\n",
    "        \n",
    "        self.expiries = np.array(expiries)\n",
    "        self._x = self._get_x(sabr_params)\n",
    "        \n",
    "    def get_params_at_expiry(self, expiry: int)->np.array:\n",
    "        return self._x[4*expiry:4*(expiry+1)]\n",
    "    \n",
    "    def calc_implied_vol(self, ttm, strike):\n",
    "        K = strike\n",
    "        alpha = self.get_params_at_expiry(ttm)[0] \n",
    "        ny = self.get_params_at_expiry(ttm)[1]\n",
    "        beta = self.get_params_at_expiry(ttm)[2]\n",
    "        rho = self.get_params_at_expiry(ttm)[3]\n",
    "        f = 1\n",
    "        \n",
    "        zeta = ny/alpha*(f*K)**((1-beta)/2)*np.log(f/K)\n",
    "        chi_zeta = np.log((np.sqrt(1-2*rho*zeta+zeta**2)+zeta-rho)/(1-rho))\n",
    "\n",
    "        if f == K:\n",
    "            sigma = alpha*(1+((1-beta)**2/24*alpha**2/f**(2-2*beta)+1/4*rho*beta*ny*alpha/f**(1-beta)+(2-3*rho**2)/24*ny**2)*ttm)/f**(1-beta)\n",
    "\n",
    "        else:\n",
    "            sigma = alpha*(1+((1-beta)**2/24*alpha**2/(f*K)**(1-beta)+1/4*rho*beta*ny*alpha/(f*K)**((1-beta)/2)+(2-3*rho**2)/24*ny**2)*ttm)/(f*K)**((1-beta)/2)*(1+(1-beta)**2/24*np.log(f/K)**2+(1-beta)**4/1920*np.log(f/K)**4)*zeta/chi_zeta\n",
    "\n",
    "        return sigma\n",
    "\n",
    "    def _get_x(self, sabr_params)->np.array:\n",
    "        x = np.empty(len(sabr_params)*4)\n",
    "        j = 0\n",
    "        for i in range(len(sabr_params)):\n",
    "            for k in range(4):\n",
    "                x[j] = sabr_params[i][k]\n",
    "                j += 1\n",
    "        return x\n",
    "    \n",
    "    def _set_param(self, x)->np.array:\n",
    "        self._x = x\n",
    "\n",
    "class VolatilityGridParametrization:\n",
    "    def __init__(self, expiries: np.array, strikes: np.ndarray, vols: np.ndarray):\n",
    "        \"\"\"Grid parametrization\n",
    "        This parametrization stores a set of strike-vol grids for a given list of expiries and computes a volatility by\n",
    "        - search for the neighboring expiries\n",
    "        - apply a splien interpolation in each expiry to get the respective volatility\n",
    "        - apply a linear interpolation (in total variance)\n",
    "\n",
    "        Args:\n",
    "            expiries (np.array): An array of the expiries.\n",
    "            strikes (np.ndarray): \n",
    "            vols (np.ndarray): Two dimensional array of volatilities where each row i contains the values for expiry i\n",
    "        \"\"\"\n",
    "        self.expiries = expiries\n",
    "        if len(strikes.shape)==1:\n",
    "            strikes = [strikes]*expiries.shape[0]\n",
    "        self.strikes = strikes\n",
    "        self.vols = vols\n",
    "        self._pyvacon_obj = None\n",
    "\n",
    "    def calc_implied_vol(self, ttm, strike):\n",
    "        return self._get_pyvacon_obj().calcImpliedVol(ttm, strike)\n",
    "\n",
    "    def _get_pyvacon_obj(self):\n",
    "        if self._pyvacon_obj is None:\n",
    "            vol_params = []\n",
    "            self._pyvacon_obj = _mkt_data.VolatilityParametrizationTimeSlice(self.expiries, self.strikes, self.vols)  \n",
    "        return self._pyvacon_obj\n",
    "    \n",
    "class VolatilitySurface:\n",
    "    @staticmethod\n",
    "    def _create_param_pyvacon_obj(vol_param):\n",
    "        if hasattr(vol_param, '_get_pyvacon_obj'):\n",
    "            print('pyvacon')\n",
    "            return vol_param._get_pyvacon_obj()\n",
    "            \n",
    "        if hasattr(vol_param, 'expiries'):\n",
    "            print('expiries')\n",
    "            expiries = vol_param.expiries\n",
    "        else:\n",
    "            expiries = np.linspace(0.0, 4.0, 13, endpoint=True)\n",
    "        strikes = np.linspace(0.4, 1.6, num=100)\n",
    "        vols = np.empty(expiries.shape[0], strikes.shape[0])\n",
    "        for i in range(expiries.shape[0]):\n",
    "            for j in range(expiries.shape[0]):\n",
    "                vols[i,j] = vol_param.calc_implied_vol(expiries[i], vols[j])\n",
    "        return VolatilityGridParametrization(expiries, strikes, vols)\n",
    "\n",
    "    def __init__(self, id: str, refdate: datetime, forward_curve, daycounter, vol_param):\n",
    "        \"\"\"Volatility surface\n",
    "\n",
    "        Args:\n",
    "            id (str): Identifier (name) of the volatility surface.\n",
    "            refdate (datetime): Valuation date.\n",
    "            forward_curve (rivapy.market_data.EquityForwardCurve): Forward curve.\n",
    "            daycounter (enums.DayCounterType): [description]\n",
    "            vol_param ([VolatilityParametrizationFlat,VolatilityParametrizationTerm,VolatilityParametrizationSSVI]): Volatility parametrization.\n",
    "        \"\"\"\n",
    "        self.id = id\n",
    "        self.refdate = refdate\n",
    "        self.forward_curve = forward_curve\n",
    "        self.daycounter = daycounter\n",
    "        self.vol_param = vol_param\n",
    "        self._pyvacon_obj = None  \n",
    "           \n",
    "    def _get_pyvacon_obj(self, fwd_curve=None):\n",
    "        if self._pyvacon_obj is None:\n",
    "            if fwd_curve is None:\n",
    "                fwd_curve = self.forward_curve\n",
    "            self._pyvacon_obj = _mkt_data.VolatilitySurface(self.id, self.refdate,\n",
    "                fwd_curve._get_pyvacon_obj(),self.daycounter.name, \n",
    "                VolatilitySurface._get_pyvacon_obj(self.vol_param))\n",
    "        return self._pyvacon_obj\n",
    "    \n",
    "    def calc_implied_vol(self,  expiry: datetime, strike: float, refdate: datetime = None, forward_curve=None)->float:\n",
    "        \"\"\"Calculate implied volatility\n",
    "\n",
    "        Args:\n",
    "            refdate (datetime): Valuation date.\n",
    "            expiry (datetime): Expiration date.\n",
    "            strike (float): Strike price.\n",
    "\n",
    "        Raises:\n",
    "            Exception: [description]\n",
    "\n",
    "        Returns:\n",
    "            float: Implied volatility.\n",
    "        \"\"\"\n",
    "        # convert strike into x_strike \n",
    "        if refdate is None:\n",
    "            refdate = self.forward_curve.refdate\n",
    "        if forward_curve is None and self.forward_curve is None:\n",
    "            raise Exception('Please specify a forward curve')\n",
    "        vol = self._get_pyvacon_obj()\n",
    "        if forward_curve is None:\n",
    "            forward_curve = self.forward_curve\n",
    "        elif self.forward_curve is not None:\n",
    "            vol = _mkt_data.VolatilitySurface.createVolatilitySurfaceShiftedFwd(vol, forward_curve._get_pyvacon_obj())\n",
    "        forward_curve_obj = forward_curve._get_pyvacon_obj() \n",
    "        x_strike = _utils.computeXStrike(strike, forward_curve_obj.value(refdate, expiry), forward_curve_obj.discountedFutureCashDivs(refdate, expiry))\n",
    "        if x_strike < 0:\n",
    "            raise Exception(f'The given strike value seems implausible compared to the discounted future cash dividends\\\n",
    "                ({forward_curve_obj.discountedFutureCashDivs(refdate, expiry)}).')\n",
    "        return vol.calcImpliedVol(refdate, expiry, x_strike)\n",
    "      \n",
    "    @staticmethod        \n",
    "    def set_stickyness(vol_stickyness: enums.VolatilityStickyness):\n",
    "        if vol_stickyness is enums.VolatilityStickyness.StickyXStrike:\n",
    "            _pricing.GlobalSettings.setVolatilitySurfaceFwdStickyness(_pricing.VolatilitySurfaceFwdStickyness.Type.StickyXStrike)\n",
    "        elif vol_stickyness is enums.VolatilityStickyness.StickyStrike:\n",
    "            _pricing.GlobalSettings.setVolatilitySurfaceFwdStickyness(vol_stickyness)\n",
    "        elif vol_stickyness is enums.VolatilityStickyness.StickyFwdMoneyness:\n",
    "            _pricing.GlobalSettings.setVolatilitySurfaceFwdStickyness(_pricing.VolatilitySurfaceFwdStickyness.Type.StickyFwdMoneyness)\n",
    "        elif vol_stickyness is enums.VolatilityStickyness.NONE:\n",
    "            _pricing.GlobalSettings.setVolatilitySurfaceFwdStickyness(_pricing.VolatilitySurfaceFwdStickyness.Type.NONE)\n",
    "        else:\n",
    "            raise Exception ('Error')\n"
   ]
  },
  {
   "cell_type": "code",
   "execution_count": 35,
   "metadata": {
    "ExecuteTime": {
     "end_time": "2021-09-14T11:57:59.244148Z",
     "start_time": "2021-09-14T11:57:59.226196Z"
    }
   },
   "outputs": [
    {
     "data": {
      "text/plain": [
       "True"
      ]
     },
     "execution_count": 35,
     "metadata": {},
     "output_type": "execute_result"
    }
   ],
   "source": [
    "sabr_param = VolatilityParametrizationSABR(ttm, sabr_params)\n",
    "sabr_param.calc_implied_vol(2,.9)\n",
    "hasattr(sabr_param,'expiries')"
   ]
  },
  {
   "cell_type": "code",
   "execution_count": 36,
   "metadata": {
    "ExecuteTime": {
     "end_time": "2021-09-14T11:58:30.661780Z",
     "start_time": "2021-09-14T11:58:30.656792Z"
    }
   },
   "outputs": [],
   "source": [
    "obj_id = 'TEST_SURFACE'\n",
    "vol_surf = VolatilitySurface(obj_id, refdate, forward_curve, enums.DayCounterType.Act365Fixed, sabr_param)"
   ]
  },
  {
   "cell_type": "markdown",
   "metadata": {},
   "source": [
    "## Volatility Surface\n",
    "The forward curve and the parametrization can now be combined into a VolatilitySurface"
   ]
  },
  {
   "cell_type": "code",
   "execution_count": 10,
   "metadata": {
    "ExecuteTime": {
     "end_time": "2021-09-14T11:33:49.027261Z",
     "start_time": "2021-09-14T11:33:49.017288Z"
    }
   },
   "outputs": [],
   "source": [
    "obj_id = 'TEST_SURFACE'\n",
    "vol_surf = mkt_data.VolatilitySurface(obj_id, refdate, forward_curve, enums.DayCounterType.Act365Fixed, svi_param)"
   ]
  },
  {
   "cell_type": "markdown",
   "metadata": {},
   "source": [
    "To compute an implied volatility, one may use the method *calcImpliedVol*. Note that this method applies a sticky-strike handling of volatilities, i.e. it assumes that the implied volatility given a certain strike is independent of current forward values which may differ from the forwards when the volatility surface was calibrated."
   ]
  },
  {
   "cell_type": "code",
   "execution_count": 11,
   "metadata": {
    "ExecuteTime": {
     "end_time": "2021-09-14T11:33:50.131049Z",
     "start_time": "2021-09-14T11:33:49.034242Z"
    }
   },
   "outputs": [
    {
     "ename": "AttributeError",
     "evalue": "'VolatilityParametrizationSVI' object has no attribute '_pyvacon_obj'",
     "output_type": "error",
     "traceback": [
      "\u001b[1;31m---------------------------------------------------------------------------\u001b[0m",
      "\u001b[1;31mAttributeError\u001b[0m                            Traceback (most recent call last)",
      "\u001b[1;32m<ipython-input-11-aa498bf0fb42>\u001b[0m in \u001b[0;36m<module>\u001b[1;34m\u001b[0m\n\u001b[0;32m      1\u001b[0m \u001b[1;31m# vol = vol_surf.calc_implied_vol(refdate,refdate + dt.timedelta(days=180),120)\u001b[0m\u001b[1;33m\u001b[0m\u001b[1;33m\u001b[0m\u001b[1;33m\u001b[0m\u001b[0m\n\u001b[1;32m----> 2\u001b[1;33m \u001b[0mvol\u001b[0m \u001b[1;33m=\u001b[0m \u001b[0mvol_surf\u001b[0m\u001b[1;33m.\u001b[0m\u001b[0mcalc_implied_vol\u001b[0m\u001b[1;33m(\u001b[0m\u001b[0mrefdate\u001b[0m \u001b[1;33m+\u001b[0m \u001b[0mdt\u001b[0m\u001b[1;33m.\u001b[0m\u001b[0mtimedelta\u001b[0m\u001b[1;33m(\u001b[0m\u001b[0mdays\u001b[0m\u001b[1;33m=\u001b[0m\u001b[1;36m180\u001b[0m\u001b[1;33m)\u001b[0m\u001b[1;33m,\u001b[0m\u001b[1;36m120\u001b[0m\u001b[1;33m,\u001b[0m\u001b[0mrefdate\u001b[0m\u001b[1;33m)\u001b[0m\u001b[1;33m\u001b[0m\u001b[1;33m\u001b[0m\u001b[0m\n\u001b[0m\u001b[0;32m      3\u001b[0m \u001b[0mprint\u001b[0m\u001b[1;33m(\u001b[0m\u001b[0mvol\u001b[0m\u001b[1;33m)\u001b[0m\u001b[1;33m\u001b[0m\u001b[1;33m\u001b[0m\u001b[0m\n",
      "\u001b[1;32m~\\OneDrive - RIVACON\\Dokumente\\Git\\RiVaPy\\rivapy\\marketdata\\__init__.py\u001b[0m in \u001b[0;36mcalc_implied_vol\u001b[1;34m(self, expiry, strike, refdate, forward_curve)\u001b[0m\n\u001b[0;32m    287\u001b[0m         \u001b[1;32mif\u001b[0m \u001b[0mforward_curve\u001b[0m \u001b[1;32mis\u001b[0m \u001b[1;32mNone\u001b[0m \u001b[1;32mand\u001b[0m \u001b[0mself\u001b[0m\u001b[1;33m.\u001b[0m\u001b[0mforward_curve\u001b[0m \u001b[1;32mis\u001b[0m \u001b[1;32mNone\u001b[0m\u001b[1;33m:\u001b[0m\u001b[1;33m\u001b[0m\u001b[1;33m\u001b[0m\u001b[0m\n\u001b[0;32m    288\u001b[0m             \u001b[1;32mraise\u001b[0m \u001b[0mException\u001b[0m\u001b[1;33m(\u001b[0m\u001b[1;34m'Please specify a forward curve'\u001b[0m\u001b[1;33m)\u001b[0m\u001b[1;33m\u001b[0m\u001b[1;33m\u001b[0m\u001b[0m\n\u001b[1;32m--> 289\u001b[1;33m         \u001b[0mvol\u001b[0m \u001b[1;33m=\u001b[0m \u001b[0mself\u001b[0m\u001b[1;33m.\u001b[0m\u001b[0m_get_pyvacon_obj\u001b[0m\u001b[1;33m(\u001b[0m\u001b[1;33m)\u001b[0m\u001b[1;33m\u001b[0m\u001b[1;33m\u001b[0m\u001b[0m\n\u001b[0m\u001b[0;32m    290\u001b[0m         \u001b[1;32mif\u001b[0m \u001b[0mforward_curve\u001b[0m \u001b[1;32mis\u001b[0m \u001b[1;32mNone\u001b[0m\u001b[1;33m:\u001b[0m\u001b[1;33m\u001b[0m\u001b[1;33m\u001b[0m\u001b[0m\n\u001b[0;32m    291\u001b[0m             \u001b[0mforward_curve\u001b[0m \u001b[1;33m=\u001b[0m \u001b[0mself\u001b[0m\u001b[1;33m.\u001b[0m\u001b[0mforward_curve\u001b[0m\u001b[1;33m\u001b[0m\u001b[1;33m\u001b[0m\u001b[0m\n",
      "\u001b[1;32m~\\OneDrive - RIVACON\\Dokumente\\Git\\RiVaPy\\rivapy\\marketdata\\__init__.py\u001b[0m in \u001b[0;36m_get_pyvacon_obj\u001b[1;34m(self, fwd_curve)\u001b[0m\n\u001b[0;32m    265\u001b[0m             self._pyvacon_obj = _mkt_data.VolatilitySurface(self.id, self.refdate,\n\u001b[0;32m    266\u001b[0m                 \u001b[0mfwd_curve\u001b[0m\u001b[1;33m.\u001b[0m\u001b[0m_get_pyvacon_obj\u001b[0m\u001b[1;33m(\u001b[0m\u001b[1;33m)\u001b[0m\u001b[1;33m,\u001b[0m\u001b[0mself\u001b[0m\u001b[1;33m.\u001b[0m\u001b[0mdaycounter\u001b[0m\u001b[1;33m.\u001b[0m\u001b[0mname\u001b[0m\u001b[1;33m,\u001b[0m\u001b[1;33m\u001b[0m\u001b[1;33m\u001b[0m\u001b[0m\n\u001b[1;32m--> 267\u001b[1;33m                 VolatilitySurface._get_pyvacon_obj(self.vol_param))\n\u001b[0m\u001b[0;32m    268\u001b[0m         \u001b[1;32mreturn\u001b[0m \u001b[0mself\u001b[0m\u001b[1;33m.\u001b[0m\u001b[0m_pyvacon_obj\u001b[0m\u001b[1;33m\u001b[0m\u001b[1;33m\u001b[0m\u001b[0m\n\u001b[0;32m    269\u001b[0m \u001b[1;33m\u001b[0m\u001b[0m\n",
      "\u001b[1;32m~\\OneDrive - RIVACON\\Dokumente\\Git\\RiVaPy\\rivapy\\marketdata\\__init__.py\u001b[0m in \u001b[0;36m_get_pyvacon_obj\u001b[1;34m(self, fwd_curve)\u001b[0m\n\u001b[0;32m    260\u001b[0m \u001b[1;33m\u001b[0m\u001b[0m\n\u001b[0;32m    261\u001b[0m     \u001b[1;32mdef\u001b[0m \u001b[0m_get_pyvacon_obj\u001b[0m\u001b[1;33m(\u001b[0m\u001b[0mself\u001b[0m\u001b[1;33m,\u001b[0m \u001b[0mfwd_curve\u001b[0m\u001b[1;33m=\u001b[0m\u001b[1;32mNone\u001b[0m\u001b[1;33m)\u001b[0m\u001b[1;33m:\u001b[0m\u001b[1;33m\u001b[0m\u001b[1;33m\u001b[0m\u001b[0m\n\u001b[1;32m--> 262\u001b[1;33m         \u001b[1;32mif\u001b[0m \u001b[0mself\u001b[0m\u001b[1;33m.\u001b[0m\u001b[0m_pyvacon_obj\u001b[0m \u001b[1;32mis\u001b[0m \u001b[1;32mNone\u001b[0m\u001b[1;33m:\u001b[0m\u001b[1;33m\u001b[0m\u001b[1;33m\u001b[0m\u001b[0m\n\u001b[0m\u001b[0;32m    263\u001b[0m             \u001b[1;32mif\u001b[0m \u001b[0mfwd_curve\u001b[0m \u001b[1;32mis\u001b[0m \u001b[1;32mNone\u001b[0m\u001b[1;33m:\u001b[0m\u001b[1;33m\u001b[0m\u001b[1;33m\u001b[0m\u001b[0m\n\u001b[0;32m    264\u001b[0m                 \u001b[0mfwd_curve\u001b[0m \u001b[1;33m=\u001b[0m \u001b[0mself\u001b[0m\u001b[1;33m.\u001b[0m\u001b[0mforward_curve\u001b[0m\u001b[1;33m\u001b[0m\u001b[1;33m\u001b[0m\u001b[0m\n",
      "\u001b[1;31mAttributeError\u001b[0m: 'VolatilityParametrizationSVI' object has no attribute '_pyvacon_obj'"
     ]
    }
   ],
   "source": [
    "# vol = vol_surf.calc_implied_vol(refdate,refdate + dt.timedelta(days=180),120)\n",
    "vol = vol_surf.calc_implied_vol(refdate + dt.timedelta(days=180),120,refdate)\n",
    "print(vol)"
   ]
  },
  {
   "cell_type": "code",
   "execution_count": null,
   "metadata": {
    "ExecuteTime": {
     "end_time": "2021-09-14T11:33:50.134042Z",
     "start_time": "2021-09-14T11:33:42.305Z"
    }
   },
   "outputs": [],
   "source": [
    "wir haben sabr nicht in pyvacon...."
   ]
  },
  {
   "cell_type": "markdown",
   "metadata": {},
   "source": [
    "By executing the following command line, the volatility surface is plotted."
   ]
  },
  {
   "cell_type": "code",
   "execution_count": null,
   "metadata": {
    "ExecuteTime": {
     "end_time": "2021-09-14T11:33:50.137033Z",
     "start_time": "2021-09-14T11:33:42.309Z"
    },
    "code_folding": [
     0
    ],
    "tags": []
   },
   "outputs": [],
   "source": [
    "# \n",
    "refdate = dt.datetime(2017,1,1,0,0,0)\n",
    "expiries = [dt.datetime(2017,2,1,0,0,0), dt.datetime(2018,1,1,0,0,0), dt.datetime(2019,1,1,0,0,0), dt.datetime(2020,1,1,0,0,0)]\n",
    "def s_range(x, y, count):\n",
    "  jump = (y-x)/count\n",
    "  while x <= y:\n",
    "    yield x\n",
    "    x += jump\n",
    "\n",
    "# strikes = list(s_range(80, 120, 100))\n",
    "moneyness = list(s_range(0.5, 1.5,100))\n",
    "\n",
    "y = moneyness\n",
    "x = ttm\n",
    "\n",
    "term_structure = []\n",
    "for i in moneyness: \n",
    "    temp = []\n",
    "    for j in expiries:\n",
    "      strike = i*forward_curve.value(refdate,j)\n",
    "      temp.append(vol_surf.calc_implied_vol(refdate, j, strike))\n",
    "    term_structure.append(temp)\n",
    "\n",
    "fig = go.Figure(data=[go.Surface(x=x, y=y,z=term_structure\n",
    "                      ,hovertemplate = \n",
    "                        'Moneyness:  %{y: .2%}' +\\\n",
    "                        '<br>Maturity (yrs): %{x: .1f}' +\\\n",
    "                        '<br>Volatility: %{z: .2f}<extra></extra>'\n",
    "                     ,colorscale = 'temps')\n",
    "                     ])\n",
    "\n",
    "fig.update_layout(title={\n",
    "                      'text': \"<b>Volatility Surface</b>\",\n",
    "                      'y':0.95,\n",
    "                      'x':0.5,\n",
    "                      'xanchor': 'center',\n",
    "                      'yanchor': 'top'\n",
    "                        }\n",
    "                # ,autosize=True\n",
    "                ,width=1000\n",
    "                ,height=500\n",
    "                ,scene = dict(\n",
    "                  xaxis_title='Maturity (yrs)'\n",
    "                  ,xaxis_tickformat = '.1f'\n",
    "                  ,xaxis_autorange = 'reversed'\n",
    "                  ,yaxis_title='Moneyness'\n",
    "                  ,yaxis_tickformat = '.2%'\n",
    "                  ,zaxis_title='Volatility'\n",
    "                  ,zaxis_tickformat = '.2%'\n",
    "                  )\n",
    "                ,font=dict(\n",
    "                  family=\"Courier New, monospace\"\n",
    "                  ,size=10\n",
    "                  )\n",
    "                ,margin=dict(l=65, r=50, b=65, t=90)\n",
    ")\n",
    "\n",
    "fig.show()"
   ]
  },
  {
   "cell_type": "code",
   "execution_count": null,
   "metadata": {
    "ExecuteTime": {
     "end_time": "2021-09-14T11:33:50.139027Z",
     "start_time": "2021-09-14T11:33:42.312Z"
    },
    "code_folding": [
     0
    ]
   },
   "outputs": [],
   "source": [
    "# \n",
    "refdate = dt.datetime(2017,1,1,0,0,0)\n",
    "expiries = [dt.datetime(2017,2,1,0,0,0), dt.datetime(2018,1,1,0,0,0), dt.datetime(2019,1,1,0,0,0), dt.datetime(2020,1,1,0,0,0)]\n",
    "def s_range(x, y, count):\n",
    "  jump = (y-x)/count\n",
    "  while x <= y:\n",
    "    yield x\n",
    "    x += jump\n",
    "\n",
    "moneyness = list(s_range(0.5, 1.5, 100))\n",
    "\n",
    "x = moneyness\n",
    "y = ttm\n",
    "\n",
    "term_structure = []\n",
    "for i in moneyness: \n",
    "    temp = []\n",
    "    for j in expiries:\n",
    "        strike = i*forward_curve.value(refdate,j)\n",
    "        temp.append(vol_surf.calc_implied_vol(refdate, j, strike))\n",
    "    term_structure.append(temp)\n",
    "\n",
    "yv, xv = np.meshgrid(y, x)\n",
    "xv = np.array(xv)  #strikes 1x no. strikes\n",
    "yv = np.array(yv)  #ttm     1x no. ttms\n",
    "z = np.array(term_structure)           #vols    no. strikes x no. ttms\n",
    "\n",
    "# fig = mkt_plot.plt.figure()\n",
    "fig = matplotlib.pyplot.figure()\n",
    "ax4 = fig.add_subplot(111, projection='3d')\n",
    "ax4.set_title('Volatility Surface')\n",
    "ax4.set_xlabel('Strikes')\n",
    "ax4.set_ylabel('TTM')\n",
    "ax4.set_zlabel('Volatility')\n",
    "ax4.plot_surface(xv, yv, z, rstride=2, cstride=1, alpha=0.58, cmap=cm.coolwarm, linewidth=0, antialiased=False)\n",
    "# ax4.plot_surface(xv, yv, z, rstride=8, cstride=1, alpha=0.3)\n",
    "\n",
    "#ax4.contour(xv, yv, z, zdir='z', offset=ax4.get_zlim()[0], cmap=cm.coolwarm)\n",
    "ax4.contour(xv, yv, z, zdir='x', offset=ax4.get_xlim()[1]-0.08, cmap=cm.coolwarm)\n",
    "ax4.contour(xv, yv, z, zdir='y', offset=ax4.get_ylim()[1], cmap=cm.coolwarm)\n",
    "ax4.contour(xv, yv, z, zdir='y', offset=ax4.get_ylim()[1], cmap=cm.coolwarm, levels = [0,0.2,0.3,0.5,0.7,0.8])\n",
    "fig.show()"
   ]
  },
  {
   "cell_type": "code",
   "execution_count": null,
   "metadata": {},
   "outputs": [],
   "source": []
  },
  {
   "cell_type": "code",
   "execution_count": null,
   "metadata": {},
   "outputs": [],
   "source": []
  },
  {
   "cell_type": "markdown",
   "metadata": {},
   "source": [
    "### Stickiness assumptions"
   ]
  },
  {
   "cell_type": "code",
   "execution_count": null,
   "metadata": {
    "ExecuteTime": {
     "end_time": "2021-09-14T11:33:50.142019Z",
     "start_time": "2021-09-14T11:33:42.322Z"
    }
   },
   "outputs": [],
   "source": [
    "obj_id_shifted = \"TEST_SURFACE_FWD_SHIFTED\"\n",
    "forward_curve_shifted = mkt_data.EquityForwardCurve(1.0*spot, dc, bc, div_table)\n",
    "shiftet_spot = 100\n",
    "# vol_surf_shifted = vol_surf.shift_fwd_curve(obj_id_shifted, forward_curve_shifted)\n",
    "vol_surf_shifted = vol_surf.shift_fwd_spot(obj_id_shifted, shiftet_spot)"
   ]
  },
  {
   "cell_type": "code",
   "execution_count": null,
   "metadata": {
    "ExecuteTime": {
     "end_time": "2021-09-14T11:33:50.145013Z",
     "start_time": "2021-09-14T11:33:42.325Z"
    },
    "scrolled": true
   },
   "outputs": [],
   "source": [
    "vol_surf_shifted.calc_implied_vol(refdate,refdate + dt.timedelta(days=180),120)"
   ]
  },
  {
   "cell_type": "code",
   "execution_count": null,
   "metadata": {
    "ExecuteTime": {
     "end_time": "2021-09-14T11:33:50.147008Z",
     "start_time": "2021-09-14T11:33:42.329Z"
    },
    "scrolled": true
   },
   "outputs": [],
   "source": [
    "pyvacon.finance.pricing.GlobalSettings.setVolatilitySurfaceFwdStickyness(pyvacon.finance.pricing.VolatilitySurfaceFwdStickyness.Type.StickyXStrike)\n",
    "print(vol_surf_shifted.calcImpliedVol(refdate,refdate + dt.timedelta(days=180), 1.0))\n",
    "pyvacon.finance.pricing.GlobalSettings.setVolatilitySurfaceFwdStickyness(pyvacon.finance.pricing.VolatilitySurfaceFwdStickyness.Type.StickyStrike)\n",
    "print(vol_surf_shifted.calcImpliedVol(refdate,refdate + dt.timedelta(days=180), 1.0))"
   ]
  },
  {
   "cell_type": "code",
   "execution_count": null,
   "metadata": {
    "ExecuteTime": {
     "end_time": "2021-09-14T11:33:50.151006Z",
     "start_time": "2021-09-14T11:33:42.333Z"
    }
   },
   "outputs": [],
   "source": [
    "# 0.29221908667483804"
   ]
  },
  {
   "cell_type": "code",
   "execution_count": null,
   "metadata": {
    "ExecuteTime": {
     "end_time": "2021-09-14T11:33:50.152989Z",
     "start_time": "2021-09-14T11:33:42.339Z"
    },
    "scrolled": true
   },
   "outputs": [],
   "source": [
    "mkt_data.VolatilitySurface.set_stickyness(rivapy.enums.VolatilityStickyness.StickyXStrike)\n",
    "print(vol_surf_shifted.calc_implied_vol(refdate,refdate + dt.timedelta(days=180), 120))"
   ]
  },
  {
   "cell_type": "code",
   "execution_count": null,
   "metadata": {
    "ExecuteTime": {
     "end_time": "2021-09-14T11:33:50.155984Z",
     "start_time": "2021-09-14T11:33:42.342Z"
    }
   },
   "outputs": [],
   "source": [
    "y = pyvacon.finance.marketdata.VolatilitySurface(\"y\", refdate, forward_curve._get_pyvacon_obj(), enums.DayCounterType.Act365Fixed.name, ssvi_param._get_pyvacon_obj())\n",
    "print(y.calcImpliedVol(refdate,refdate + dt.timedelta(days=180), 120))\n",
    "\n",
    "z = pyvacon.finance.marketdata.VolatilitySurface.createVolatilitySurfaceShiftedFwd(vol_surf._get_pyvacon_obj(), forward_curve._get_pyvacon_obj())\n",
    "z.calcImpliedVol(refdate,refdate + dt.timedelta(days=180), 120)"
   ]
  },
  {
   "cell_type": "code",
   "execution_count": null,
   "metadata": {
    "ExecuteTime": {
     "end_time": "2021-09-14T11:33:50.158974Z",
     "start_time": "2021-09-14T11:33:42.346Z"
    }
   },
   "outputs": [],
   "source": [
    "import pyvacon\n",
    "a = pyvacon.finance.marketdata.VolatilitySurface.createVolatilitySurfaceShiftedFwd(vol_surf._get_pyvacon_obj(), forward_curve_shifted._get_pyvacon_obj())"
   ]
  },
  {
   "cell_type": "code",
   "execution_count": null,
   "metadata": {
    "ExecuteTime": {
     "end_time": "2021-09-14T11:33:50.160975Z",
     "start_time": "2021-09-14T11:33:42.349Z"
    }
   },
   "outputs": [],
   "source": [
    "a.calcImpliedVol(refdate,refdate + dt.timedelta(days=180), 120)"
   ]
  },
  {
   "cell_type": "code",
   "execution_count": null,
   "metadata": {
    "ExecuteTime": {
     "end_time": "2021-09-14T11:33:50.163963Z",
     "start_time": "2021-09-14T11:33:42.352Z"
    }
   },
   "outputs": [],
   "source": [
    "b = vol_surf.shift_fwd_spot(obj_id_shifted, shiftet_spot)"
   ]
  },
  {
   "cell_type": "code",
   "execution_count": null,
   "metadata": {
    "ExecuteTime": {
     "end_time": "2021-09-14T11:33:50.165954Z",
     "start_time": "2021-09-14T11:33:42.356Z"
    }
   },
   "outputs": [],
   "source": [
    "b.calc_implied_vol(refdate,refdate + dt.timedelta(days=180), 120)"
   ]
  },
  {
   "cell_type": "code",
   "execution_count": null,
   "metadata": {
    "ExecuteTime": {
     "end_time": "2021-09-14T11:33:50.167950Z",
     "start_time": "2021-09-14T11:33:42.359Z"
    }
   },
   "outputs": [],
   "source": [
    "vol_surf.calc_implied_vol(refdate,refdate + dt.timedelta(days=180), 120)"
   ]
  },
  {
   "cell_type": "code",
   "execution_count": null,
   "metadata": {},
   "outputs": [],
   "source": []
  }
 ],
 "metadata": {
  "kernelspec": {
   "display_name": "Python 3",
   "language": "python",
   "name": "python3"
  },
  "language_info": {
   "codemirror_mode": {
    "name": "ipython",
    "version": 3
   },
   "file_extension": ".py",
   "mimetype": "text/x-python",
   "name": "python",
   "nbconvert_exporter": "python",
   "pygments_lexer": "ipython3",
   "version": "3.8.8"
  },
  "toc": {
   "base_numbering": 1,
   "nav_menu": {
    "height": "175px",
    "width": "252px"
   },
   "number_sections": true,
   "sideBar": true,
   "skip_h1_title": false,
   "title_cell": "Table of Contents",
   "title_sidebar": "Contents",
   "toc_cell": false,
   "toc_position": {
    "height": "calc(100% - 180px)",
    "left": "10px",
    "top": "150px",
    "width": "384px"
   },
   "toc_section_display": "block",
   "toc_window_display": true
  },
  "varInspector": {
   "cols": {
    "lenName": 16,
    "lenType": 16,
    "lenVar": 40
   },
   "kernels_config": {
    "python": {
     "delete_cmd_postfix": "",
     "delete_cmd_prefix": "del ",
     "library": "var_list.py",
     "varRefreshCmd": "print(var_dic_list())"
    },
    "r": {
     "delete_cmd_postfix": ") ",
     "delete_cmd_prefix": "rm(",
     "library": "var_list.r",
     "varRefreshCmd": "cat(var_dic_list()) "
    }
   },
   "types_to_exclude": [
    "module",
    "function",
    "builtin_function_or_method",
    "instance",
    "_Feature"
   ],
   "window_display": false
  }
 },
 "nbformat": 4,
 "nbformat_minor": 2
}
