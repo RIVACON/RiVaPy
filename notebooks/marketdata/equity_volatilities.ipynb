{
 "cells": [
  {
   "cell_type": "markdown",
   "metadata": {},
   "source": [
    "![](../images/rivacon_frontmark_combined_header.png)"
   ]
  },
  {
   "cell_type": "markdown",
   "metadata": {},
   "source": [
    "# Equity Volatility Surfaces"
   ]
  },
  {
   "cell_type": "code",
   "execution_count": null,
   "metadata": {
    "ExecuteTime": {
     "end_time": "2022-01-25T10:12:48.306233Z",
     "start_time": "2022-01-25T10:12:28.134628Z"
    },
    "code_folding": [
     0
    ]
   },
   "outputs": [],
   "source": [
    "# import libs\n",
    "import pyvacon\n",
    "import matplotlib\n",
    "matplotlib.use('nbagg')\n",
    "import pandas as pd\n",
    "import rivapy\n",
    "from rivapy import marketdata as mkt_data\n",
    "from rivapy import enums as enums\n",
    "# import pyvacon\n",
    "import datetime as dt\n",
    "from dateutil.relativedelta import relativedelta\n",
    "import math\n",
    "import numpy as np\n",
    "from mpl_toolkits.mplot3d import Axes3D\n",
    "from matplotlib import cm\n",
    "import plotly.graph_objects as go\n",
    "import ipywidgets as widgets\n",
    "from scipy.optimize import least_squares\n",
    "from jupyter_dash import JupyterDash\n",
    "from dash import dcc\n",
    "from dash import html\n",
    "from dash.dependencies import Input, Output\n",
    "import warnings\n",
    "warnings.filterwarnings('ignore')\n",
    "#the next lin is a jupyter internal command to show the matplotlib graphs within the notebook\n",
    "%matplotlib inline\n",
    "#reload modules\n",
    "%load_ext autoreload\n",
    "%autoreload 2"
   ]
  },
  {
   "cell_type": "markdown",
   "metadata": {},
   "source": [
    "## General Remarks\n",
    "An equity volatility surface is an object providing for arbitrary expiries and strikes implied volatilities. The volatility surfaces provided by the analytics library are parametrized w.r.t. the so-called X-strikes, i.e. one has to put in a strike w.r.t. the X-variable which is the driving process of the spot $S$, i.e.\n",
    "$$ S_t=(F_t-D_t)X_t+D_t$$\n",
    "where $F_t$ is the risky forward and $D_t$ the cash dividends, see [Buehler](https://papers.ssrn.com/sol3/papers.cfm?abstract_id=1141877) for a more detailed discussion. \n",
    "\n",
    "To create a volatility surface one needs two components:\n",
    "- A reference forward curve (typically the forward curve which was used to compute the implieds from quoted prices)\n",
    "- A volatility parametrization\n",
    "\n"
   ]
  },
  {
   "cell_type": "markdown",
   "metadata": {},
   "source": [
    "## Creating Forward Curve\n",
    "We create a dummy forward curve as shown in the  [forward_curve](equity_forwardcurve.ipynb) notebook which will be used in all subsequent volatility surface constructions."
   ]
  },
  {
   "cell_type": "code",
   "execution_count": null,
   "metadata": {
    "ExecuteTime": {
     "end_time": "2022-01-25T10:12:48.524601Z",
     "start_time": "2022-01-25T10:12:48.309456Z"
    }
   },
   "outputs": [],
   "source": [
    "refdate = dt.datetime(2021,10,8)\n",
    "\n",
    "#dividend table neede fo forward curve\n",
    "object_id = \"TEST_DIV\" \n",
    "ex_dates = [dt.datetime(2022,3,29), dt.datetime(2023,3,29), dt.datetime(2024,3,29), dt.datetime(2025,3,29)]\n",
    "pay_dates = [dt.datetime(2022,4,1), dt.datetime(2023,4,1), dt.datetime(2024,4,1), dt.datetime(2025,4,1)]\n",
    "tax_factors = [1.0, 1.0, 1.0, 1.0]\n",
    "div_yield = [0, 0.005, 0.01, 0.01]\n",
    "div_cash = [3.0, 2.0, 1.0, 0.0]\n",
    "div_table = rivapy.marketdata.DividendTable(object_id, refdate, ex_dates, pay_dates, div_yield, div_cash, tax_factors)\n",
    "\n",
    "#discount- and borrowing curve needed for forward curve\n",
    "dates = [refdate + dt.timedelta(days=x) for x in [0,10]]\n",
    "df = [1.0,1.0]\n",
    "dc = mkt_data.DiscountCurve(object_id, refdate, dates, df, \n",
    "                             enums.InterpolationType.HAGAN_DF, enums.ExtrapolationType.NONE, enums.DayCounterType.Act365Fixed)\n",
    "bc = mkt_data.DiscountCurve(object_id, refdate, dates, df, \n",
    "                             enums.InterpolationType.HAGAN_DF, enums.ExtrapolationType.NONE, enums.DayCounterType.Act365Fixed)\n",
    "spot = 100.0\n",
    "\n",
    "#forward curve\n",
    "forward_curve = mkt_data.EquityForwardCurve(spot, dc, bc, div_table)"
   ]
  },
  {
   "cell_type": "markdown",
   "metadata": {},
   "source": [
    "## Load Implied Vol Quotes"
   ]
  },
  {
   "cell_type": "code",
   "execution_count": null,
   "metadata": {
    "ExecuteTime": {
     "end_time": "2022-01-25T10:12:48.787733Z",
     "start_time": "2022-01-25T10:12:48.528603Z"
    }
   },
   "outputs": [],
   "source": [
    "# load sample equity option quote table\n",
    "df_quote_table = pd.read_csv('../../sample_data/vol_quotes.csv',index_col=0)\n",
    "df_quote_table"
   ]
  },
  {
   "cell_type": "markdown",
   "metadata": {},
   "source": [
    "## Volatility Parametrizations\n",
    "\n",
    "The volatility parametrization provides the method *calc_implied_vol* functionality to retrieve for each x-strike and time-to-maturity (in year fractions) the implied volatility. This method is used internally in the volatility surface in all methods where a implied volatility is computed.\n",
    "We will discuss the different available parametrizations in this subsection.\n",
    "\n",
    "### Flat Volatility\n",
    "To setup a flat volatility, one may use the VolatilityParametrizationFlat"
   ]
  },
  {
   "cell_type": "code",
   "execution_count": null,
   "metadata": {
    "ExecuteTime": {
     "end_time": "2022-01-25T10:12:49.020491Z",
     "start_time": "2022-01-25T10:12:48.791012Z"
    }
   },
   "outputs": [],
   "source": [
    "flat_param = mkt_data.VolatilityParametrizationFlat(0.3)"
   ]
  },
  {
   "cell_type": "markdown",
   "metadata": {},
   "source": [
    "### Term Structure Volatility\n",
    "To create a volatility which has only a term structure and no strike dependency one may use this parametrization type. This parametrization needs a vector of expiry times (given as year fractions which are interpreted as year fractions w.r.t. the day counter specified in th volatility surface) and forward at-the-money volatilities, i.e. X-strike=1.0."
   ]
  },
  {
   "cell_type": "code",
   "execution_count": null,
   "metadata": {
    "ExecuteTime": {
     "end_time": "2022-01-25T10:12:49.253919Z",
     "start_time": "2022-01-25T10:12:49.024480Z"
    }
   },
   "outputs": [],
   "source": [
    "ttm = [0.07,0.19,0.69,0.94,1.19,1.69]\n",
    "fwd_atm_vols =  [0.25,0.24,0.22, 0.21, 0.20, 0.19]\n",
    "term_param = mkt_data.VolatilityParametrizationTerm(ttm,fwd_atm_vols)"
   ]
  },
  {
   "cell_type": "markdown",
   "metadata": {},
   "source": [
    "### SSVI\n",
    "This parametrization is inspired by the volatility structure provided by stochastic volatility models. The total variance $w(k,t)$ for a strike log strike $k$ and time-to-maturity $t$ is given by\n",
    "$$ w(k,t) = \\frac{\\theta_t}{2}\\left( 1+\\rho\\phi(\\theta_t)k+\\sqrt{(\\phi(\\theta_t)k+\\rho)^2+(1-\\rho^2)}  \\right) $$ \n",
    "and \n",
    "$$ \\phi(\\theta_t) = \\frac{\\eta}{\\theta_t^\\gamma(1+\\theta_t)^{1-\\gamma}} $$\n",
    "for parameters $\\rho$, $\\eta$, $\\gamma$ and given atm implied total variances $\\theta_t:=\\sigma^2(t)t$. The term structure of implied total variances is internally approximated by interpolation from given atm volatilities. The nice property of this surface is that there are very simple conditions on the parameters to guarantee that the surface is free of arbitrage, see [gatheral_jacquier_svi](https://papers.ssrn.com/sol3/papers.cfm?abstract_id=2033323)."
   ]
  },
  {
   "cell_type": "code",
   "execution_count": null,
   "metadata": {
    "ExecuteTime": {
     "end_time": "2022-01-25T10:12:49.486699Z",
     "start_time": "2022-01-25T10:12:49.257402Z"
    }
   },
   "outputs": [],
   "source": [
    "rho = -0.7 # responsible for the skewness of the vol_surface\n",
    "eta = 0.7 # responsible for the curvature\n",
    "gamma = 0.6 # responsible for the \"rate of decay\"\n",
    "ssvi_param = mkt_data.VolatilityParametrizationSSVI(ttm, fwd_atm_vols, rho, eta, gamma)"
   ]
  },
  {
   "cell_type": "markdown",
   "metadata": {},
   "source": [
    "### SVI"
   ]
  },
  {
   "cell_type": "code",
   "execution_count": null,
   "metadata": {
    "ExecuteTime": {
     "end_time": "2022-01-25T10:12:49.738397Z",
     "start_time": "2022-01-25T10:12:49.492608Z"
    }
   },
   "outputs": [],
   "source": [
    "svi_param = mkt_data.VolatilityParametrizationSVI(\n",
    "                expiries=np.array([0.07,0.19,0.69,0.94,1.19,1.69]), \n",
    "                svi_params=[\n",
    "                            (0.01, 0.08, -0.42, 0.07, 0.05),\n",
    "                            (0.01, 0.09, -0.52, 0.08, 0.05),\n",
    "                            (0.01, 0.09, -0.72, 0.09, 0.09),\n",
    "                            (0.02, 0.08, -0.91, 0.10, 0.07),\n",
    "                            (0.01, 0.12, -0.70, 0.11, 0.19),\n",
    "                            (0.03, 0.09, -1.02, 0.13, 0.15)\n",
    "])"
   ]
  },
  {
   "cell_type": "code",
   "execution_count": null,
   "metadata": {
    "ExecuteTime": {
     "end_time": "2022-01-25T10:12:50.018701Z",
     "start_time": "2022-01-25T10:12:49.743308Z"
    }
   },
   "outputs": [],
   "source": [
    "svi_param.calc_implied_vol(1/12,1)"
   ]
  },
  {
   "cell_type": "markdown",
   "metadata": {},
   "source": [
    "### SABR"
   ]
  },
  {
   "cell_type": "markdown",
   "metadata": {},
   "source": [
    "The [SABR](https://bsic.it/sabr-stochastic-volatility-model-volatility-smile/) model assumes that the forward rate and the instantaneous volatility are driven by two correlated Brownian motions:\n",
    "\n",
    "$$df_t = \\alpha_t f_t^\\beta d W_t^1$$\n",
    "\n",
    "$$d\\alpha_t = \\nu\\alpha_t d W_t^2$$\n",
    "\n",
    "$$E\\bigl[d W_t^1 d W_T^2\\bigr] = \\rho d t$$\n",
    "\n",
    "The expression that the implied volatility must satisfy is\n",
    "\n",
    "$$\\sigma_B(K,f) = \\frac{\\alpha\\biggl\\{1+\\biggl[\\frac{(1-\\beta)^2}{24}\\frac{\\alpha^2}{(fK)^{1-\\beta}}+\\frac{1}{4}\\frac{\\rho\\beta\\nu\\alpha}{(FK)^{(1-\\beta)/2}}+\\frac{2-3\\rho^2}{24}\\nu^2\\biggr]T\\biggr\\}}{(fK)^{(1-\\beta)/2}\\biggl[1+\\frac{(1-\\beta)^2}{24}{ln}^2\\frac{f}{K}+\\frac{(1-\\beta)^4}{1920}{ln}^4\\frac{f}{K}\\biggr]}\\frac{z}{\\chi(z)}$$\n",
    "\n",
    "$$z=\\frac{\\nu}{\\alpha}(fK)^{(1-\\beta)/2}ln\\frac{f}{K}$$\n",
    "\n",
    "$$\\chi(z) = ln\\Biggl[\\frac{\\sqrt{1-2\\rho z+z^2}+z-\\rho}{1-\\rho}\\Biggr]$$\n",
    "\n",
    "When $f = K $ (for ATM options), the above formula for implied volatility simplifies to:\n",
    "\n",
    "$$\\sigma_{ATM} = \\sigma_B(f,f)=\\frac{\\alpha\\biggl\\{1+\\biggl[\\frac{(1-\\beta)^2}{24}\\frac{\\alpha^2}{f^{2-2\\beta}}+\\frac{1}{4}\\frac{\\rho\\beta\\nu\\alpha}{f^{1-\\beta}}\\frac{2-3\\rho^2}{24}\\nu^2\\biggr]T\\biggr\\}}{f^{1-\\beta}}$$\n",
    "\n",
    "where\n",
    "\n",
    "> $\\alpha$ is the instantaneous vol;\n",
    "\n",
    "> $\\nu$ is the vol of vol;\n",
    "\n",
    "> $\\rho$ is the correlation between the Brownian motions driving the forward rate and the instantaneous vol;\n",
    "\n",
    "> $\\beta$ is the CEV component for forward rate (determines shape of forward rates, leverage effect and backbone of ATM vol).\n",
    "\n",
    "For details please refer to the [SABR notebook](../models/sabr_volatility_model.ipynb). "
   ]
  },
  {
   "cell_type": "code",
   "execution_count": null,
   "metadata": {
    "ExecuteTime": {
     "end_time": "2022-01-25T10:12:50.281614Z",
     "start_time": "2022-01-25T10:12:50.024103Z"
    }
   },
   "outputs": [],
   "source": [
    "ttm = [0.07,0.19,0.69,0.94,1.19,1.69]\n",
    "\n",
    "sabr_params = np.array([[0.05, 0.90, 0.32, -0.82],\n",
    "                        [0.08, 0.01, 1.22, -0.49],\n",
    "                        [0.15, 0.20, 0.12, -0.79],\n",
    "                        [0.18, 0.84, 0.58, -0.72],\n",
    "                        [0.20, 0.62, 0.09, -0.58],\n",
    "                        [0.20, 0.62, 0.09, -0.58]])"
   ]
  },
  {
   "cell_type": "code",
   "execution_count": null,
   "metadata": {
    "ExecuteTime": {
     "end_time": "2022-01-25T10:12:50.531176Z",
     "start_time": "2022-01-25T10:12:50.284594Z"
    }
   },
   "outputs": [],
   "source": [
    "sabr_param = mkt_data.VolatilityParametrizationSABR(ttm, sabr_params)\n",
    "sabr_param.calc_implied_vol(1,1)"
   ]
  },
  {
   "cell_type": "code",
   "execution_count": null,
   "metadata": {
    "ExecuteTime": {
     "end_time": "2022-01-25T10:12:50.953980Z",
     "start_time": "2022-01-25T10:12:50.533750Z"
    },
    "code_folding": [
     0
    ]
   },
   "outputs": [],
   "source": [
    "# Plotting SABR Volatility Smile– Rivapy\n",
    "# click \"new plot\" to create new plot, click \"add trace\" to add a trace with the current parameters\n",
    "\n",
    "# create widgets\n",
    "style = {'description_width': 'initial'}\n",
    "\n",
    "FloatTextAlpha = widgets.FloatText(value = 0.15, step = 0.01, description = 'Alpha')\n",
    "\n",
    "FloatSliderNu = widgets.FloatSlider(value = 0.8, min = 0.0001, max = 5, step = 0.01, description = 'Nu',\n",
    "                                       continuous_update=False, orientation='horizontal', readout=True, readout_format='.1f')\n",
    "\n",
    "FloatSliderBeta = widgets.FloatSlider(value = 0.6, min = 0, max = 1, step = 0.01, description = 'Beta',\n",
    "                                       continuous_update=False, orientation='horizontal', readout=True, readout_format='.1f')\n",
    "\n",
    "FloatSliderRho = widgets.FloatSlider(value = -0.7, min = -0.999999, max = 0.999999, step = 0.01, description = 'Rho',\n",
    "                                       continuous_update=False, orientation='horizontal', readout=True, readout_format='.1f')\n",
    "\n",
    "FloatRangeSliderStrikes = widgets.FloatRangeSlider(value=[.4, 1.6], min=0, max=3.0, step=0.05, description='Strike Range:', \n",
    "                                                   disabled=False, continuous_update=False,orientation='horizontal',\n",
    "                                                   readout=True, readout_format='.1f',style=style)\n",
    "\n",
    "FloatSliderExpiries = widgets.FloatSlider(value=1, min=1/12, max=30.0, step=1/12, description='Expiry:', \n",
    "                                                   disabled=False, continuous_update=False,orientation='horizontal',\n",
    "                                                   readout=True, readout_format='.2f',style=style)\n",
    "\n",
    "ButtonNewPlot1 = widgets.Button(description=\"New Plot\")\n",
    "\n",
    "ButtonAddTrace1 = widgets.Button(description=\"Add Trace\")\n",
    "\n",
    "global OutputWidget\n",
    "OutputWidget = widgets.Output()\n",
    "\n",
    "def create_vol_grid(alpha, nu, beta, rho,strike_range, expiry):\n",
    "    F_0 = 1\n",
    "    strikes = np.linspace(strike_range[0], strike_range[1], num=100)\n",
    "    sabr_params = np.array([[alpha,nu,beta,rho]])\n",
    "    ttm = [expiry]\n",
    "    sabr_param = mkt_data.VolatilityParametrizationSABR(ttm, sabr_params)\n",
    "    vols = [sabr_param.calc_implied_vol(expiry,x) for x in strikes]\n",
    "\n",
    "    return strikes, vols\n",
    "\n",
    "def create_plot(strikes, vols,expiry,alpha, nu, beta, rho):    \n",
    "    fig1.add_trace(go.Scatter(x= strikes,y= vols \n",
    "                            ,mode = 'lines+markers'\n",
    "                          ,hovertemplate = \n",
    "                            'Moneyness:  %{x: .1%}' #+\\\n",
    "                            +'<br>Volatility: %{y: .1%}'\n",
    "                            +'<br>Expiry: {:,.0f} Yrs'.format(expiry)\n",
    "                            +'<br>Alpha: {:,.1%}'.format(alpha)\n",
    "                            +'<br>Nu: {:,.1f}'.format(nu)\n",
    "                            +'<br>Beta: {:,.1f}'.format(beta)\n",
    "                            +'<br>Rho: {:,.1f}'.format(rho)\n",
    "                            +'<extra></extra>',\n",
    "                            showlegend=False)\n",
    "                         )\n",
    "\n",
    "\n",
    "    fig1.update_layout(title={\n",
    "                          'text': \"<b>Volatility Smile</b>\",\n",
    "                          'y':0.95,\n",
    "                          'x':0.5,\n",
    "                          'xanchor': 'center',\n",
    "                          'yanchor': 'top'\n",
    "                            }\n",
    "                    ,width=1000\n",
    "                    ,height=500\n",
    "                    ,xaxis_title='Moneyness'\n",
    "                    ,xaxis_tickformat = '.1%'\n",
    "                    ,xaxis_range=[strikes.min(),strikes.max()]\n",
    "                    ,yaxis_title='Volatility'\n",
    "                    ,yaxis_tickformat = '.1%'\n",
    "                    ,yaxis_range=[0,1]\n",
    "                    ,font=dict(\n",
    "                      family=\"Courier New, monospace\"\n",
    "                      ,size=10\n",
    "                      )\n",
    "                    ,margin=dict(l=65, r=50, b=65, t=90)\n",
    "    )\n",
    "    fig1.show()\n",
    "\n",
    "def plot(alpha, nu, beta, rho,strike_range, expiry):\n",
    "#     function is called by eventhandler, i.e. if input parameter changes\n",
    "\n",
    "#     clear output\n",
    "    OutputWidget.clear_output()\n",
    "    \n",
    "#     1. create vol grid\n",
    "    strikes, vols = create_vol_grid(alpha, nu, beta, rho,strike_range, expiry)\n",
    "\n",
    "#     2. plot surface\n",
    "    create_plot(strikes, vols,expiry,alpha, nu, beta, rho)\n",
    "    \n",
    "\n",
    "def eventhandler(change):\n",
    "          \n",
    "    alpha = FloatTextAlpha.value\n",
    "    nu = FloatSliderNu.value\n",
    "    beta = FloatSliderBeta.value\n",
    "    rho = FloatSliderRho.value\n",
    "    strike_range = FloatRangeSliderStrikes.value\n",
    "    expiry = FloatSliderExpiries.value\n",
    "    \n",
    "#     call plot function\n",
    "    with OutputWidget:\n",
    "        plot(alpha, nu, beta, rho,strike_range, expiry)\n",
    "        \n",
    "def eventhandler2(change):\n",
    "    global fig1\n",
    "    \n",
    "    fig1 = go.Figure()\n",
    "    \n",
    "    alpha = FloatTextAlpha.value\n",
    "    nu = FloatSliderNu.value\n",
    "    beta = FloatSliderBeta.value\n",
    "    rho = FloatSliderRho.value\n",
    "    strike_range = FloatRangeSliderStrikes.value\n",
    "    expiry = FloatSliderExpiries.value\n",
    "    \n",
    "    with OutputWidget:\n",
    "        plot(alpha, nu, beta, rho,strike_range, expiry)\n",
    "\n",
    "# bind eventhandler to widgets\n",
    "ButtonAddTrace1.on_click(eventhandler)\n",
    "ButtonNewPlot1.on_click(eventhandler2)\n",
    "\n",
    "# widgets groups\n",
    "WidgetsGrpH1 = widgets.HBox(children=[widgets.Label('Set Chart Area:')])\n",
    "WidgetsGrpH2 = widgets.HBox(children=[FloatRangeSliderStrikes])\n",
    "WidgetsGrpH3 = widgets.HBox(children=[widgets.Label('Set Parameters:')])\n",
    "WidgetsGrpH4 = widgets.HBox(children=[FloatTextAlpha,FloatSliderExpiries])\n",
    "WidgetsGrpH5 = widgets.HBox(children=[FloatSliderNu,FloatSliderBeta,FloatSliderRho])\n",
    "WidgetsGrpH6 = widgets.HBox(children=[ButtonNewPlot1,ButtonAddTrace1])\n",
    "WidgetsGrpV1 = widgets.VBox(children=[WidgetsGrpH1,WidgetsGrpH2,WidgetsGrpH3,WidgetsGrpH4,WidgetsGrpH5,WidgetsGrpH6])\n",
    "\n",
    "display(WidgetsGrpV1)\n",
    "display(OutputWidget)"
   ]
  },
  {
   "cell_type": "code",
   "execution_count": null,
   "metadata": {
    "ExecuteTime": {
     "end_time": "2022-01-25T10:12:54.351376Z",
     "start_time": "2022-01-25T10:12:50.957708Z"
    },
    "code_folding": [
     0,
     11
    ]
   },
   "outputs": [],
   "source": [
    "# Build App\n",
    "# Figure shows quotes of closest expiry\n",
    "external_stylesheets = ['https://codepen.io/chriddyp/pen/bWLwgP.css']\n",
    "\n",
    "app = JupyterDash(__name__,external_stylesheets=external_stylesheets)\n",
    "# app = JupyterDash(__name__)\n",
    "\n",
    "app.layout = html.Div([\n",
    "    \n",
    "#     html.Div([html.H1('Volatility Smile', style={'text-align': 'center'})]),\n",
    "    \n",
    "    html.Div([\n",
    "    \n",
    "        html.Div([\n",
    "\n",
    "            html.Label(['Nu',        \n",
    "                dcc.Slider(id = 'nu_slider', value = 0.7, min = 0.0001, max = 5, step = 0.01,updatemode='drag',\n",
    "                          marks={i: '{:,.1f}'.format(i) for i in np.arange(0, 5.5, 0.5).tolist()},included=False)\n",
    "                       ]),\n",
    "            \n",
    "            html.Div(id='nu_slider_out',style={'margin-top':20}),\n",
    "            \n",
    "            html.Br(),\n",
    "\n",
    "            html.Label(['Beta',        \n",
    "                dcc.Slider(id = 'beta_slider', value = 0.6, min = 0, max = 1, step = 0.01,updatemode='drag',\n",
    "                              marks={i: '{:,.1f}'.format(i) for i in np.arange(0, 1.25, 0.25).tolist()},included=False)\n",
    "                       ]),\n",
    "            \n",
    "            html.Div(id='beta_slider_out',style={'margin-top':20}),\n",
    "            \n",
    "            html.Br(),\n",
    "\n",
    "            html.Label(['Rho',        \n",
    "                dcc.Slider(id = 'rho_slider', value = -0.7, min = -0.999999, max = 0.999999, step = 0.01,updatemode='drag',\n",
    "                              marks={i: '{:,.1f}'.format(i) for i in np.arange(-1, 1.25, 0.25).tolist()},included=False)\n",
    "                       ]),\n",
    "\n",
    "            html.Div(id='rho_slider_out',style={'margin-top':20}),\n",
    "\n",
    "        ],style={'width': '40%', 'height':'30%', 'display': 'inline-block', 'vertical-align': 'top','margin-left':20}),\n",
    "\n",
    "        html.Div([\n",
    "\n",
    "            html.Label(['Strike Range',        \n",
    "                dcc.RangeSlider(id = 'strike_range_slider', count=1, min = 0, max = 3.0, step = 0.05, value = [.4, 1.6],\n",
    "                              marks={i: '{}'.format(i) for i in np.arange(0, 3.5, 0.5).tolist()})\n",
    "                       ],),\n",
    "            \n",
    "            html.Div(id='strike_range_slider_out',style={'margin-top':20}),\n",
    "            \n",
    "            html.Br(),\n",
    "\n",
    "\n",
    "            html.Label(['Expiry (Yrs.)',        \n",
    "                dcc.Slider(id = 'expiry_slider', min = 0, max = 5.0, step = 0.01, value = .94, updatemode='drag',\n",
    "\n",
    "                              marks={i: '{:,.0f}'.format(i) for i in np.arange(0, 6, 1).tolist()},included=False)\n",
    "                          ]),\n",
    "            \n",
    "            html.Div(id='expiry_slider_out',style={'margin-top':20}),\n",
    "            \n",
    "            html.Br(),\n",
    "\n",
    "            html.Label(['Alpha',        \n",
    "                dcc.Input(id = 'alpha_input', min = 0.00000, value = .15, step = .01, type = 'number')\n",
    "                       ])\n",
    "\n",
    "        ],style={'width': '40%','height':'30%', 'display': 'inline-block', 'vertical-align': 'top','margin-left':20}),\n",
    "    \n",
    "    ],style={'font-family':'Courier New, monospace','font-size':15}),\n",
    "        \n",
    "#     html.Br(),\n",
    "    \n",
    "    html.Div([\n",
    "        dcc.Graph(id='vol_smile',figure = {}), \n",
    "            ],style={}),\n",
    "    \n",
    "    \n",
    "])\n",
    "\n",
    "# Define callback to update graph\n",
    "@app.callback(\n",
    "    [Output(component_id='nu_slider_out', component_property='children'),\n",
    "     Output(component_id='beta_slider_out', component_property='children'),\n",
    "     Output(component_id='rho_slider_out', component_property='children'),\n",
    "     Output(component_id='strike_range_slider_out', component_property='children'),\n",
    "     Output(component_id='expiry_slider_out', component_property='children'),\n",
    "    Output(component_id='vol_smile', component_property='figure')]\n",
    "    \n",
    "    ,\n",
    "    [\n",
    "    Input(component_id='strike_range_slider', component_property='value'),\n",
    "    Input(component_id='alpha_input', component_property='value'),\n",
    "    Input(component_id='nu_slider', component_property='value'),\n",
    "    Input(component_id='beta_slider', component_property='value'),\n",
    "    Input(component_id='rho_slider', component_property='value'),\n",
    "    Input(component_id='expiry_slider', component_property='value')\n",
    "    ]\n",
    ")\n",
    "\n",
    "\n",
    "def update_graph(strike_range,alpha,nu,beta,rho,expiry):#, sigma_0, alpha, beta, rho, expiry):\n",
    "   \n",
    "    df_quotes = df_quote_table.copy()\n",
    "    df_quotes['dif'] = (df_quotes['EXPIRY'] - expiry).abs()\n",
    "    df_quotes = df_quotes[df_quotes['dif'] == df_quotes['dif'].min()]\n",
    "\n",
    "    F_0 = 1\n",
    "    strikes = np.linspace(strike_range[0], strike_range[1], num=100)\n",
    "    sabr_params = np.array([[alpha,nu,beta,rho]])\n",
    "    ttm = [df_quotes['dif'].min()]\n",
    "    sabr_param = mkt_data.VolatilityParametrizationSABR(ttm, sabr_params)\n",
    "    vols = [sabr_param.calc_implied_vol(expiry,x) for x in strikes]\n",
    "    \n",
    "\n",
    "\n",
    "    fig = go.Figure(data=[go.Scatter(x= strikes,y= vols \n",
    "                            ,mode = 'lines+markers'\n",
    "                            ,name = 'SABR Vol'\n",
    "                          ,hovertemplate = \n",
    "                            'Moneyness:  %{x: .1%}' #+\\\n",
    "                            +'<br>Volatility: %{y: .1%}'\n",
    "                            +'<br>Expiry: {:,.0f} Yrs'.format(expiry)\n",
    "                            +'<br>Alpha: {:,.1%}'.format(alpha)\n",
    "                            +'<br>Nu: {:,.1f}'.format(nu)\n",
    "                            +'<br>Beta: {:,.1f}'.format(beta)\n",
    "                            +'<br>Rho: {:,.1f}'.format(rho)\n",
    "                            +'<extra></extra>',\n",
    "                            showlegend=True)\n",
    "#                             +'<br>Volatility: %{y: .1%}<extra></extra>')\n",
    "#                          ,colorscale = 'temps')\n",
    "                         ])\n",
    "    \n",
    "    \n",
    "    fig.add_trace(go.Scatter(x=df_quotes.STRIKE, \n",
    "                                   y= df_quotes.ASK_IV, \n",
    "                                   mode = 'markers',\n",
    "                                   marker_symbol=106,\n",
    "                                   marker_color='rgb(11, 83, 148)',\n",
    "                                   name = 'Ask Quotes',\n",
    "                                  hovertemplate = \n",
    "                                    '<br>Ask Quote'\n",
    "                                    +'<br>Moneyness:  %{x: .1%}' #+\\\n",
    "                                    +'<br>Volatility: %{y: .1%}'\n",
    "                                    +'<br>Expiry: {:,.2f} Yrs'.format(df_quotes.EXPIRY.values[0])\n",
    "                                    +'<extra></extra>',\n",
    "                                  showlegend=True)\n",
    "\n",
    "                       )\n",
    "\n",
    "    fig.add_trace(go.Scatter(x=df_quotes.STRIKE, \n",
    "                                   y= df_quotes.BID_IV, \n",
    "                                   mode = 'markers',\n",
    "                                   marker_symbol=105,\n",
    "                                   marker_color='rgb(204,0,0)',\n",
    "                                   name = 'Bid Quotes',\n",
    "                                  hovertemplate = \n",
    "                                    '<br>Bid Quote'\n",
    "                                    +'<br>Moneyness:  %{x: .1%}' #+\\\n",
    "                                    +'<br>Volatility: %{y: .1%}'\n",
    "                                    +'<br>Expiry: {:,.2f} Yrs'.format(df_quotes.EXPIRY.values[0])\n",
    "                                    +'<extra></extra>',\n",
    "                                  showlegend=True)\n",
    "\n",
    "                       )\n",
    "\n",
    "\n",
    "    fig.update_layout(title={\n",
    "                          'text': \"<b>Volatility Smile</b>\",\n",
    "                          'y':0.9,\n",
    "                          'x':0.5,\n",
    "                          'xanchor': 'center',\n",
    "                          'yanchor': 'top'\n",
    "                            }\n",
    "#                     ,autosize=True\n",
    "                    ,width=900\n",
    "                    ,height=500\n",
    "                    ,xaxis_title='Moneyness'\n",
    "                    ,xaxis_tickformat = '.1%'\n",
    "                    ,xaxis_range=[strikes.min(),strikes.max()]\n",
    "    #                     ,xaxis_autorange = 'reversed'\n",
    "                    ,yaxis_title='Volatility'\n",
    "                    ,yaxis_tickformat = '.1%'\n",
    "                    ,yaxis_range=[0,1]\n",
    "                    ,font=dict(\n",
    "                      family=\"Courier New, monospace\"\n",
    "                      ,size=10\n",
    "                      )\n",
    "                    ,margin=dict(l=65, r=50, b=65, t=90)\n",
    "    )\n",
    "\n",
    "    return 'Nu: {}'.format(nu),'Beta: {}'.format(beta),'Rho: {}'.format(rho),'Range: {}-{}'.format(strike_range[0],strike_range[1]), 'Expiry: {}'.format(expiry), fig\n",
    "\n",
    "# Run app and display result inline in the notebook\n",
    "# app.run_server(mode='inline')\n",
    "app.run_server()"
   ]
  },
  {
   "cell_type": "markdown",
   "metadata": {},
   "source": [
    "## Volatility Smile"
   ]
  },
  {
   "cell_type": "markdown",
   "metadata": {},
   "source": [
    "### Plot Parametrization"
   ]
  },
  {
   "cell_type": "code",
   "execution_count": null,
   "metadata": {
    "ExecuteTime": {
     "end_time": "2022-01-25T10:12:54.663582Z",
     "start_time": "2022-01-25T10:12:54.354367Z"
    }
   },
   "outputs": [],
   "source": [
    "# compare parametrizations\n",
    "vol_params_dict = {'Flat': flat_param\n",
    "                   ,'Term': term_param\n",
    "                   ,'SVI': svi_param\n",
    "                   ,'SSVI': ssvi_param\n",
    "                   ,'SABR': sabr_param\n",
    "                  }"
   ]
  },
  {
   "cell_type": "code",
   "execution_count": null,
   "metadata": {
    "ExecuteTime": {
     "end_time": "2022-01-25T10:12:55.348752Z",
     "start_time": "2022-01-25T10:12:54.665890Z"
    },
    "code_folding": [
     0
    ]
   },
   "outputs": [],
   "source": [
    "# Comparing Volatility Smiles – Rivapy\n",
    "# click \"new plot\" to create new plot, click \"add trace\" to add a trace with the current parameters\n",
    "\n",
    "# create widgets\n",
    "style = {'description_width': 'initial'}\n",
    "\n",
    "keys_list = list(vol_params_dict.keys())\n",
    "SelectMultipleParams = widgets.SelectMultiple(options=keys_list,value=[keys_list[0]],description='Parametrization',\n",
    "                                                disabled=False, continuous_update=False,readout=True,style=style)\n",
    "\n",
    "FloatRangeSliderStrikes = widgets.FloatRangeSlider(value=[.4, 1.6], min=0, max=3.0, step=0.05, description='Strike Range', \n",
    "                                                   disabled=False, continuous_update=False,orientation='horizontal',\n",
    "                                                   readout=True, readout_format='.1f',style=style)\n",
    "\n",
    "DatePickerRefDate = widgets.DatePicker(description='Ref Date',value = dt.date(2022,1,1), disabled=False, continuous_update=False,\n",
    "                                                   readout=True,style=style)\n",
    "\n",
    "DatePickerExpiryDate = widgets.DatePicker(description='Expiry Date',value = dt.date(2023,1,1), disabled=False, continuous_update=False,\n",
    "                                                   readout=True,style=style)\n",
    "\n",
    "\n",
    "ButtonNewPlot2 = widgets.Button(description=\"New Plot\")\n",
    "\n",
    "ButtonAddTrace2 = widgets.Button(description=\"Add Trace(s)\")\n",
    "\n",
    "global OutputWidget2\n",
    "OutputWidget2 = widgets.Output()\n",
    "\n",
    "\n",
    "def create_plot2(param_list,strike_range, ref_date, expiry_date):    \n",
    "    \n",
    "    moneyness = np.linspace(strike_range[0], strike_range[1], num=100)\n",
    "    strikes = np.array([i*forward_curve.value(ref_date,expiry_date) for i in moneyness])\n",
    "    expiry = (expiry_date-ref_date).days/365.25\n",
    "    \n",
    "    for p in param_list:\n",
    "        param = vol_params_dict[p]\n",
    "        vol_surf = mkt_data.VolatilitySurface(p+'_surf', ref_date, forward_curve, enums.DayCounterType.Act365Fixed, param)\n",
    "        vols = [vol_surf.calc_implied_vol(expiry_date,x,ref_date) for x in strikes]        \n",
    "    \n",
    "        fig2_smile.add_trace(go.Scatter(x= moneyness,y= vols \n",
    "                                ,mode = 'lines+markers'\n",
    "                              ,hovertemplate =\n",
    "                                '<br>Parametrization: {}'.format(p)\n",
    "                                +'<br>Moneyness:  %{x: .1%}' #+\\\n",
    "                                +'<br>Volatility: %{y: .1%}'\n",
    "                                +'<br>Expiry: {:,.2f} Yrs'.format(expiry)\n",
    "                                +'<extra></extra>',\n",
    "                                showlegend=False)\n",
    "                             )\n",
    "\n",
    "\n",
    "    fig2_smile.update_layout(title={\n",
    "                          'text': \"<b>Volatility Smile</b>\",\n",
    "                          'y':0.95,\n",
    "                          'x':0.5,\n",
    "                          'xanchor': 'center',\n",
    "                          'yanchor': 'top'\n",
    "                            }\n",
    "                    ,width=1000\n",
    "                    ,height=500\n",
    "                    ,xaxis_title='Moneyness'\n",
    "                    ,xaxis_tickformat = '.1%'\n",
    "                    ,xaxis_range=[moneyness.min(),moneyness.max()]\n",
    "                    ,yaxis_title='Volatility'\n",
    "                    ,yaxis_tickformat = '.1%'\n",
    "                    ,yaxis_range=[0,1]\n",
    "                    ,font=dict(\n",
    "                      family=\"Courier New, monospace\"\n",
    "                      ,size=10\n",
    "                      )\n",
    "                    ,margin=dict(l=65, r=50, b=65, t=90)\n",
    "    )\n",
    "    fig2_smile.show()\n",
    "\n",
    "def plot2(param_list,strike_range, ref_date, expiry_date):\n",
    "#     function is called by eventhandler, i.e. if input parameter changes\n",
    "\n",
    "#     clear output\n",
    "    OutputWidget2.clear_output()\n",
    "\n",
    "#     plot surface\n",
    "    create_plot2(param_list,strike_range, ref_date, expiry_date)\n",
    "    \n",
    "\n",
    "def eventhandler3(change):\n",
    "          \n",
    "    param_list = list(SelectMultipleParams.value)\n",
    "    strike_range = FloatRangeSliderStrikes.value\n",
    "    ref_date = dt.datetime.combine(DatePickerRefDate.value, dt.datetime.min.time())\n",
    "    expiry_date = dt.datetime.combine(DatePickerExpiryDate.value, dt.datetime.min.time())\n",
    "    \n",
    "#     call plot function\n",
    "    with OutputWidget2:\n",
    "        plot2(param_list,strike_range, ref_date, expiry_date)\n",
    "        \n",
    "def eventhandler4(change):\n",
    "    global fig2_smile\n",
    "    \n",
    "    fig2_smile = go.Figure()\n",
    "    \n",
    "    param_list = list(SelectMultipleParams.value)\n",
    "    strike_range = FloatRangeSliderStrikes.value\n",
    "    ref_date = dt.datetime.combine(DatePickerRefDate.value, dt.datetime.min.time())\n",
    "    expiry_date = dt.datetime.combine(DatePickerExpiryDate.value, dt.datetime.min.time())\n",
    "    \n",
    "    with OutputWidget2:\n",
    "        plot2(param_list,strike_range, ref_date, expiry_date)\n",
    "\n",
    "# bind eventhandler to widgets\n",
    "ButtonAddTrace2.on_click(eventhandler3)\n",
    "ButtonNewPlot2.on_click(eventhandler4)\n",
    "\n",
    "# widgets groups\n",
    "WidgetsGrpV1 = widgets.VBox(children=[widgets.Label('Set Chart Area:'),FloatRangeSliderStrikes])\n",
    "WidgetsGrpV2 = widgets.VBox(children=[widgets.Label('Set Reference and Expiry Date:'),DatePickerRefDate,DatePickerExpiryDate])\n",
    "WidgetsGrpV3 = widgets.VBox(children=[widgets.Label('Select Parametrization(s):'),SelectMultipleParams])\n",
    "WidgetsGrpH1 = widgets.HBox(children=[WidgetsGrpV1,WidgetsGrpV2,WidgetsGrpV3])\n",
    "WidgetsGrpH2 = widgets.HBox(children=[ButtonNewPlot2,ButtonAddTrace2])\n",
    "\n",
    "display(WidgetsGrpH1,WidgetsGrpH2)\n",
    "display(OutputWidget2)"
   ]
  },
  {
   "cell_type": "markdown",
   "metadata": {},
   "source": [
    "### Fitting Parametrizations"
   ]
  },
  {
   "cell_type": "markdown",
   "metadata": {},
   "source": [
    "To illustrate the fitting of the parameters of the different volatility parametrizations shown, a simple calibration function is set up below. It is also implemented as method for the SVI and SABR parametrizations in rivapy."
   ]
  },
  {
   "cell_type": "code",
   "execution_count": null,
   "metadata": {
    "ExecuteTime": {
     "end_time": "2022-01-25T10:12:55.737325Z",
     "start_time": "2022-01-25T10:12:55.352570Z"
    }
   },
   "outputs": [],
   "source": [
    "def calibrate(vol_param, quotes):\n",
    "    def cost_function(x):\n",
    "        vol_param._set_param(x)\n",
    "        quotes['VOLS'] = [vol_param.calc_implied_vol(expiry,strike) for expiry, strike in zip(quotes['EXPIRY'],quotes['STRIKE'])]\n",
    "        quotes['DIST_ASK']  = [max(vol-ask,0) for ask, vol in zip(quotes['ASK_IV'],quotes['VOLS'])]\n",
    "        quotes['DIST_BID']  = [max(bid-vol,0) for bid, vol in zip(quotes['BID_IV'],quotes['VOLS'])]\n",
    "        quotes['DIST_TOTAL'] = quotes['DIST_ASK']+quotes['DIST_BID']\n",
    "        return np.copy(quotes['DIST_TOTAL'].values)\n",
    "        \n",
    "    result = least_squares(cost_function,vol_param._x,method='lm',diff_step=1e-3)\n",
    "    \n",
    "    return result.x\n",
    "\n",
    "# calibrate(sabr_param,df_quote_table)"
   ]
  },
  {
   "cell_type": "code",
   "execution_count": null,
   "metadata": {
    "ExecuteTime": {
     "end_time": "2022-01-25T10:13:07.618398Z",
     "start_time": "2022-01-25T10:12:55.741485Z"
    }
   },
   "outputs": [],
   "source": [
    "# calibrate sabr parameters using rivapy\n",
    "sabr_param.calibrate_params(df_quote_table,method = 'lm')"
   ]
  },
  {
   "cell_type": "code",
   "execution_count": null,
   "metadata": {
    "ExecuteTime": {
     "end_time": "2022-01-25T10:13:21.840326Z",
     "start_time": "2022-01-25T10:13:07.620781Z"
    }
   },
   "outputs": [],
   "source": [
    "# calibrate svi parameters using rivapy\n",
    "svi_param.calibrate_params(df_quote_table,method = 'lm')"
   ]
  },
  {
   "cell_type": "code",
   "execution_count": null,
   "metadata": {
    "ExecuteTime": {
     "end_time": "2022-01-25T10:13:24.510859Z",
     "start_time": "2022-01-25T10:13:21.844509Z"
    }
   },
   "outputs": [],
   "source": [
    "# calibrate ssvi parameters using function given above\n",
    "ssvi_param._set_param(calibrate(ssvi_param,df_quote_table))"
   ]
  },
  {
   "cell_type": "code",
   "execution_count": null,
   "metadata": {
    "ExecuteTime": {
     "end_time": "2022-01-25T10:13:24.836420Z",
     "start_time": "2022-01-25T10:13:24.514200Z"
    },
    "code_folding": [
     0
    ]
   },
   "outputs": [],
   "source": [
    "# plot fitted parametrizations\n",
    "\n",
    "expiries = np.array([0.07,0.19,0.69,0.94,1.19,1.69])\n",
    "\n",
    "\n",
    "style = {'description_width': 'initial'}\n",
    "DropdownWidget = widgets.Dropdown(options = expiries, description = 'Select Expiry:',disabled = False,continuous_update=False,orientation='horizontal',\n",
    "                                                   readout=True, readout_format='.2f',style=style)\n",
    "\n",
    "ButtonNewPlot3 = widgets.Button(description=\"New Plot\")\n",
    "\n",
    "global OutputWidget3\n",
    "OutputWidget3 = widgets.Output()   \n",
    "\n",
    "def plot3(exp):\n",
    "    \n",
    "    ref_date = dt.datetime(2021,10,9)\n",
    "    moneyness = np.linspace(.5, 1.5, num=100)\n",
    "    expiries = np.array([0.07,0.19,0.69,0.94,1.19,1.69])\n",
    "    idx = list(expiries).index(exp)\n",
    "    \n",
    "    expiry_date = ref_date + dt.timedelta(days=expiries[idx]*365)\n",
    "    strikes = np.array([i*forward_curve.value(ref_date,expiry_date) for i in moneyness])\n",
    "    df_quotes = df_quote_table[df_quote_table.EXPIRY == df_quote_table.EXPIRY.unique()[idx]].copy()\n",
    "\n",
    "\n",
    "    vol_surf_sabr = mkt_data.VolatilitySurface('sabr_surf', ref_date, forward_curve, enums.DayCounterType.Act365Fixed, sabr_param)\n",
    "    vols_sabr = [vol_surf_sabr.calc_implied_vol(expiry_date,x,ref_date) for x in strikes] \n",
    "\n",
    "    vol_surf_svi = mkt_data.VolatilitySurface('sabr_surf', ref_date, forward_curve, enums.DayCounterType.Act365Fixed, svi_param)\n",
    "    vols_svi = [vol_surf_svi.calc_implied_vol(expiry_date,x,ref_date) for x in strikes]     \n",
    "\n",
    "    vol_surf_ssvi = mkt_data.VolatilitySurface('sabr_surf', ref_date, forward_curve, enums.DayCounterType.Act365Fixed, ssvi_param)\n",
    "    vols_ssvi = [vol_surf_ssvi.calc_implied_vol(expiry_date,x,ref_date) for x in strikes] \n",
    "    \n",
    "    \n",
    "    # Create Figure\n",
    "    fig_smile = go.Figure()\n",
    "\n",
    "    fig_smile.add_trace(go.Scatter(x= moneyness,y= vols_sabr \n",
    "                            ,mode = 'lines+markers'\n",
    "                            ,name = 'SABR'\n",
    "                          ,hovertemplate =\n",
    "                            '<br>Parametrization: SABR'\n",
    "                            +'<br>Moneyness:  %{x: .1%}' #+\\\n",
    "                            +'<br>Volatility: %{y: .1%}'\n",
    "                            +'<br>EXPIRY: {:,.2f} Yrs'.format(df_quotes.EXPIRY.values[0])\n",
    "                            +'<extra></extra>',\n",
    "                            showlegend=True,\n",
    "                            visible='legendonly')\n",
    "                         )\n",
    "\n",
    "    fig_smile.add_trace(go.Scatter(x= moneyness,y= vols_svi \n",
    "                            ,mode = 'lines+markers'\n",
    "                            ,name = 'SVI'\n",
    "                          ,hovertemplate =\n",
    "                            '<br>Parametrization: SVI'\n",
    "                            +'<br>Moneyness:  %{x: .1%}' #+\\\n",
    "                            +'<br>Volatility: %{y: .1%}'\n",
    "                            +'<br>EXPIRY: {:,.2f} Yrs'.format(df_quotes.EXPIRY.values[0])\n",
    "                            +'<extra></extra>',\n",
    "                            showlegend=True,\n",
    "                            visible='legendonly')\n",
    "                         )\n",
    "\n",
    "    fig_smile.add_trace(go.Scatter(x= moneyness,y= vols_ssvi \n",
    "                            ,mode = 'lines+markers'\n",
    "                            ,name = 'SSVI'\n",
    "                          ,hovertemplate =\n",
    "                            '<br>Parametrization: SSVI'\n",
    "                            +'<br>Moneyness:  %{x: .1%}' #+\\\n",
    "                            +'<br>Volatility: %{y: .1%}'\n",
    "                            +'<br>EXPIRY: {:,.2f} Yrs'.format(df_quotes.EXPIRY.values[0])\n",
    "                            +'<extra></extra>',\n",
    "                            showlegend=True,\n",
    "                            visible='legendonly')\n",
    "                         )\n",
    "\n",
    "    fig_smile.add_trace(go.Scatter(x=df_quotes.STRIKE, \n",
    "                                   y= df_quotes.ASK_IV, \n",
    "                                   mode = 'markers',\n",
    "                                   marker_symbol=106,\n",
    "                                   marker_color='rgb(11, 83, 148)',\n",
    "                                   name = 'Ask Quotes',\n",
    "                                  hovertemplate = \n",
    "                                    '<br>Ask Quote'\n",
    "                                    +'<br>Moneyness:  %{x: .1%}' #+\\\n",
    "                                    +'<br>Volatility: %{y: .1%}'\n",
    "                                    +'<br>EXPIRY: {:,.2f} Yrs'.format(df_quotes.EXPIRY.values[0])\n",
    "                                    +'<extra></extra>',\n",
    "                                  showlegend=True)\n",
    "\n",
    "                       )\n",
    "\n",
    "    fig_smile.add_trace(go.Scatter(x=df_quotes.STRIKE, \n",
    "                                   y= df_quotes.BID_IV, \n",
    "                                   mode = 'markers',\n",
    "                                   marker_symbol=105,\n",
    "                                   marker_color='rgb(204,0,0)',\n",
    "                                   name = 'Bid Quotes',\n",
    "                                  hovertemplate = \n",
    "                                    '<br>Bid Quote'\n",
    "                                    +'<br>Moneyness:  %{x: .1%}' #+\\\n",
    "                                    +'<br>Volatility: %{y: .1%}'\n",
    "                                    +'<br>EXPIRY: {:,.2f} Yrs'.format(df_quotes.EXPIRY.values[0])\n",
    "                                    +'<extra></extra>',\n",
    "                                  showlegend=True)\n",
    "\n",
    "                       )\n",
    "\n",
    "\n",
    "    fig_smile.update_layout(title={\n",
    "                          'text': \"<b>Volatility Smile</b>\",\n",
    "                          'y':0.95,\n",
    "                          'x':0.5,\n",
    "                          'xanchor': 'center',\n",
    "                          'yanchor': 'top'\n",
    "                            }\n",
    "                    ,width=1000\n",
    "                    ,height=500\n",
    "                    ,xaxis_title='Moneyness'\n",
    "                    ,xaxis_tickformat = '.1%'\n",
    "                    ,xaxis_range=[moneyness.min(),moneyness.max()]\n",
    "                    ,yaxis_title='Volatility'\n",
    "                    ,yaxis_tickformat = '.1%'\n",
    "                    ,yaxis_range=[.1,.4]\n",
    "                    ,font=dict(\n",
    "                      family=\"Courier New, monospace\"\n",
    "                      ,size=10\n",
    "                      )\n",
    "                    ,margin=dict(l=65, r=50, b=65, t=90)\n",
    "    )\n",
    "    fig_smile.show()\n",
    "\n",
    "def eventhandler5(change):\n",
    "    \n",
    "    OutputWidget3.clear_output()      \n",
    "        \n",
    "    exp = DropdownWidget.value\n",
    "    \n",
    "#     call plot function\n",
    "    with OutputWidget3:\n",
    "        plot3(exp)\n",
    "\n",
    "def eventhandler6(change):\n",
    "    \n",
    "    OutputWidget3.clear_output()      \n",
    "        \n",
    "    exp = DropdownWidget.value\n",
    "    \n",
    "#     call plot function\n",
    "    with OutputWidget3:\n",
    "        plot3(exp)\n",
    "\n",
    "ButtonNewPlot3.on_click(eventhandler6)        \n",
    "DropdownWidget.observe(eventhandler5, names='value')\n",
    "\n",
    "display(ButtonNewPlot3)\n",
    "display(DropdownWidget)\n",
    "display(OutputWidget3)"
   ]
  },
  {
   "cell_type": "markdown",
   "metadata": {},
   "source": [
    "## Volatility Surface\n",
    "The forward curve and the parametrization can now be combined into a VolatilitySurface"
   ]
  },
  {
   "cell_type": "code",
   "execution_count": null,
   "metadata": {
    "ExecuteTime": {
     "end_time": "2022-01-25T10:13:25.148807Z",
     "start_time": "2022-01-25T10:13:24.841386Z"
    }
   },
   "outputs": [],
   "source": [
    "obj_id = 'TEST_SURFACE'\n",
    "vol_surf = mkt_data.VolatilitySurface(obj_id, refdate, forward_curve, enums.DayCounterType.Act365Fixed, sabr_param)"
   ]
  },
  {
   "cell_type": "markdown",
   "metadata": {},
   "source": [
    "To compute an implied volatility, one may use the method *calcImpliedVol*. Note that this method applies a sticky-strike handling of volatilities, i.e. it assumes that the implied volatility given a certain strike is independent of current forward values which may differ from the forwards when the volatility surface was calibrated."
   ]
  },
  {
   "cell_type": "code",
   "execution_count": null,
   "metadata": {
    "ExecuteTime": {
     "end_time": "2022-01-25T10:13:25.552143Z",
     "start_time": "2022-01-25T10:13:25.151970Z"
    }
   },
   "outputs": [],
   "source": [
    "vol = vol_surf.calc_implied_vol(refdate + dt.timedelta(days=180),120,refdate)\n",
    "print(vol)"
   ]
  },
  {
   "cell_type": "markdown",
   "metadata": {},
   "source": [
    "By executing the following command line, the volatility surface is plotted."
   ]
  },
  {
   "cell_type": "code",
   "execution_count": null,
   "metadata": {
    "ExecuteTime": {
     "end_time": "2022-01-25T10:13:27.655634Z",
     "start_time": "2022-01-25T10:13:25.567171Z"
    },
    "code_folding": [
     0
    ],
    "tags": []
   },
   "outputs": [],
   "source": [
    "# plot surface\n",
    "refdate = dt.datetime(2021, 10, 9)\n",
    "expiries_surf = [refdate + dt.timedelta(days=expiries[0]*365),\n",
    "    refdate + dt.timedelta(days=expiries[1]*365),\n",
    "    refdate + dt.timedelta(days=expiries[2]*365),\n",
    "    refdate + dt.timedelta(days=expiries[3]*365),\n",
    "    refdate + dt.timedelta(days=expiries[4]*365),\n",
    "    refdate + dt.timedelta(days=expiries[5]*365),\n",
    "]\n",
    "\n",
    "# strikes = list(s_range(80, 120, 100))\n",
    "moneyness = np.linspace(0.5, 1.5, 100)\n",
    "\n",
    "y = moneyness\n",
    "x = ttm\n",
    "\n",
    "term_structure = []\n",
    "for i in moneyness:\n",
    "    temp = []\n",
    "    for j in expiries_surf:\n",
    "        strike = i * forward_curve.value(refdate, j)\n",
    "        temp.append(vol_surf.calc_implied_vol(j, strike, refdate))\n",
    "    term_structure.append(temp)\n",
    "\n",
    "fig_surf = go.Figure(data=[go.Surface(x=x, y=y,z=term_structure\n",
    "                        ,contours = {\"x\": {\"show\": True,\"size\": 0.1, \"color\":\"red\"},\n",
    "                                    \"y\": {\"show\": True,\"size\": 0.1, \"color\":\"red\"},}\n",
    "                        ,opacity = .75\n",
    "                        ,hovertemplate =\n",
    "                        'Moneyness:  %{y: .2%}' +\\\n",
    "                        '<br>Maturity (yrs): %{x: .1f}' +\\\n",
    "                        '<br>Volatility: %{z: .2f}<extra></extra>'\n",
    "                     ,colorscale = 'temps')\n",
    "                     ])\n",
    "\n",
    "fig_surf.update_layout(\n",
    "    title={\n",
    "        'text': \"<b>Volatility Surface</b>\",\n",
    "        'y': 0.95,\n",
    "        'x': 0.5,\n",
    "        'xanchor': 'center',\n",
    "        'yanchor': 'top'\n",
    "    }\n",
    "    # ,autosize=True\n",
    "    ,\n",
    "    width=1000,\n",
    "    height=500,\n",
    "    scene=dict(xaxis_title='Maturity (yrs)',\n",
    "               xaxis_tickformat='.1f',\n",
    "               xaxis_autorange='reversed',\n",
    "               yaxis_title='Moneyness',\n",
    "               yaxis_tickformat='.2%',\n",
    "               zaxis_title='Volatility',\n",
    "               zaxis_tickformat='.2%'),\n",
    "    font=dict(family=\"Courier New, monospace\", size=10),\n",
    "    margin=dict(l=65, r=50, b=65, t=90))\n",
    "\n",
    "fig_surf.show()"
   ]
  },
  {
   "cell_type": "markdown",
   "metadata": {},
   "source": [
    "---"
   ]
  }
 ],
 "metadata": {
  "kernelspec": {
   "display_name": "Python 3",
   "language": "python",
   "name": "python3"
  },
  "language_info": {
   "codemirror_mode": {
    "name": "ipython",
    "version": 3
   },
   "file_extension": ".py",
   "mimetype": "text/x-python",
   "name": "python",
   "nbconvert_exporter": "python",
   "pygments_lexer": "ipython3",
   "version": "3.8.8"
  },
  "toc": {
   "base_numbering": 1,
   "nav_menu": {
    "height": "175px",
    "width": "252px"
   },
   "number_sections": true,
   "sideBar": true,
   "skip_h1_title": true,
   "title_cell": "Table of Contents",
   "title_sidebar": "Contents",
   "toc_cell": false,
   "toc_position": {
    "height": "calc(100% - 180px)",
    "left": "10px",
    "top": "150px",
    "width": "383.991px"
   },
   "toc_section_display": "block",
   "toc_window_display": true
  },
  "varInspector": {
   "cols": {
    "lenName": 16,
    "lenType": 16,
    "lenVar": 40
   },
   "kernels_config": {
    "python": {
     "delete_cmd_postfix": "",
     "delete_cmd_prefix": "del ",
     "library": "var_list.py",
     "varRefreshCmd": "print(var_dic_list())"
    },
    "r": {
     "delete_cmd_postfix": ") ",
     "delete_cmd_prefix": "rm(",
     "library": "var_list.r",
     "varRefreshCmd": "cat(var_dic_list()) "
    }
   },
   "types_to_exclude": [
    "module",
    "function",
    "builtin_function_or_method",
    "instance",
    "_Feature"
   ],
   "window_display": false
  }
 },
 "nbformat": 4,
 "nbformat_minor": 2
}
