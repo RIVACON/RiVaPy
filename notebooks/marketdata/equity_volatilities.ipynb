{
 "cells": [
  {
   "cell_type": "markdown",
   "metadata": {},
   "source": [
    "![](../images/rivacon_frontmark_combined_header.png)"
   ]
  },
  {
   "cell_type": "markdown",
   "metadata": {},
   "source": [
    "# Equity Volatility Surfaces"
   ]
  },
  {
   "cell_type": "code",
   "execution_count": 1,
   "metadata": {
    "ExecuteTime": {
     "end_time": "2021-12-03T12:59:07.027324Z",
     "start_time": "2021-12-03T12:59:02.800690Z"
    },
    "code_folding": []
   },
   "outputs": [],
   "source": [
    "# import libs\n",
    "import matplotlib\n",
    "matplotlib.use('nbagg')\n",
    "import rivapy\n",
    "from rivapy import marketdata as mkt_data\n",
    "from rivapy import enums as enums\n",
    "# import pyvacon\n",
    "import datetime as dt\n",
    "from dateutil.relativedelta import relativedelta\n",
    "import math\n",
    "import numpy as np\n",
    "from mpl_toolkits.mplot3d import Axes3D\n",
    "from matplotlib import cm\n",
    "import plotly.graph_objects as go\n",
    "import ipywidgets as widgets\n",
    "from scipy.optimize import least_squares\n",
    "#the next lin is a jupyter internal command to show the matplotlib graphs within the notebook\n",
    "#%matplotlib inline\n",
    "#reload modules\n",
    "%load_ext autoreload\n",
    "%autoreload 2"
   ]
  },
  {
   "cell_type": "markdown",
   "metadata": {},
   "source": [
    "## General Remarks\n",
    "An equity volatility surface is an object providing for arbitrary expiries and strikes implied volatilities. The volatility surfaces provided by the analytics library are parametrized w.r.t. the so-called X-strikes, i.e. one has to put in a strike w.r.t. the X-variable which is the driving process of the spot $S$, i.e.\n",
    "$$ S_t=(F_t-D_t)X_t+D_t$$\n",
    "where $F_t$ is the risky forward and $D_t$ the cash dividends, see [Buehler](https://papers.ssrn.com/sol3/papers.cfm?abstract_id=1141877) for a more detailed discussion. \n",
    "\n",
    "To create a volatility surface one needs two components:\n",
    "- A reference forward curve (typically the forward curve which was used to compute the implieds from quoted prices)\n",
    "- A volatility parametrization\n",
    "\n"
   ]
  },
  {
   "cell_type": "markdown",
   "metadata": {},
   "source": [
    "## Creating Forward Curve\n",
    "We create a dummy forward curve as shown in the  [forward_curve](equity_forwardcurve.ipynb) notebook which will be used in all subsequent volatility surface constructions."
   ]
  },
  {
   "cell_type": "code",
   "execution_count": 8,
   "metadata": {
    "ExecuteTime": {
     "end_time": "2021-12-03T12:59:08.354473Z",
     "start_time": "2021-12-03T12:59:08.181932Z"
    }
   },
   "outputs": [],
   "source": [
    "refdate = dt.datetime(2017,1,1)\n",
    "\n",
    "#dividend table neede fo forward curve\n",
    "object_id = \"TEST_DIV\" \n",
    "ex_dates = [dt.datetime(2018,3,29), dt.datetime(2019,3,29), dt.datetime(2020,3,29), dt.datetime(2021,3,29)]\n",
    "pay_dates = [dt.datetime(2018,4,1), dt.datetime(2019,4,1), dt.datetime(2020,4,1), dt.datetime(2021,4,1)]\n",
    "tax_factors = [1.0, 1.0, 1.0, 1.0]\n",
    "div_yield = [0, 0.005, 0.01, 0.01]\n",
    "div_cash = [3.0, 2.0, 1.0, 0.0]\n",
    "div_table = rivapy.marketdata.DividendTable(object_id, refdate, ex_dates, pay_dates, div_yield, div_cash, tax_factors)\n",
    "\n",
    "#discount- and borrowing curve needed for forward curve\n",
    "dates = [refdate + dt.timedelta(days=x) for x in [0,10]]\n",
    "df = [1.0,1.0]\n",
    "dc = mkt_data.DiscountCurve(object_id, refdate, dates, df, \n",
    "                             enums.InterpolationType.HAGAN_DF, enums.ExtrapolationType.NONE, enums.DayCounterType.Act365Fixed)\n",
    "bc = mkt_data.DiscountCurve(object_id, refdate, dates, df, \n",
    "                             enums.InterpolationType.HAGAN_DF, enums.ExtrapolationType.NONE, enums.DayCounterType.Act365Fixed)\n",
    "spot = 100.0\n",
    "\n",
    "#forward curve\n",
    "forward_curve = mkt_data.EquityForwardCurve(spot, dc, bc, div_table)"
   ]
  },
  {
   "cell_type": "markdown",
   "metadata": {},
   "source": [
    "## Volatility Parametrizations\n",
    "\n",
    "The volatility parametrization provides the method *calc_implied_vol* functionality to retrieve for each x-strike and time-to-maturity (in year fractions) the implied volatility. This method is used internally in the volatility surface in all methods where a implied volatility is computed.\n",
    "We will discuss the different available parametrizations in this subsection.\n",
    "\n",
    "### Flat Volatility\n",
    "To setup a flat volatility, one may use the VolatilityParametrizationFlat"
   ]
  },
  {
   "cell_type": "code",
   "execution_count": 9,
   "metadata": {
    "ExecuteTime": {
     "end_time": "2021-12-03T12:59:08.526012Z",
     "start_time": "2021-12-03T12:59:08.357464Z"
    }
   },
   "outputs": [],
   "source": [
    "flat_param = mkt_data.VolatilityParametrizationFlat(0.3)"
   ]
  },
  {
   "cell_type": "markdown",
   "metadata": {},
   "source": [
    "### Term Structure Volatility\n",
    "To create a volatility which has only a term structure and no strike dependency one may use this parametrization type. This parametrization needs a vector of expiry times (given as year fractions which are interpreted as year fractions w.r.t. the day counter specified in th volatility surface) and forward at-the-money volatilities, i.e. X-strike=1.0."
   ]
  },
  {
   "cell_type": "code",
   "execution_count": 10,
   "metadata": {
    "ExecuteTime": {
     "end_time": "2021-12-03T12:59:08.700593Z",
     "start_time": "2021-12-03T12:59:08.528007Z"
    }
   },
   "outputs": [],
   "source": [
    "ttm = [1.0/12.0, 1.0, 2.0, 3.0]\n",
    "fwd_atm_vols =  [0.3, 0.28, 0.25, 0.24]\n",
    "term_param = mkt_data.VolatilityParametrizationTerm(ttm,fwd_atm_vols)"
   ]
  },
  {
   "cell_type": "markdown",
   "metadata": {},
   "source": [
    "### SSVI\n",
    "This parametrization is inspired by the volatility structure provided by stochastic volatility models. The total variance $w(k,t)$ for a strike log strike $k$ and time-to-maturity $t$ is given by\n",
    "$$ w(k,t) = \\frac{\\theta_t}{2}\\left( 1+\\rho\\phi(\\theta_t)k+\\sqrt{(\\phi(\\theta_t)k+\\rho)^2+(1-\\rho^2)}  \\right) $$ \n",
    "and \n",
    "$$ \\phi(\\theta_t) = \\frac{\\eta}{\\theta_t^\\gamma(1+\\theta_t)^{1-\\gamma}} $$\n",
    "for parameters $\\rho$, $\\eta$, $\\gamma$ and given atm implied total variances $\\theta_t:=\\sigma^2(t)t$. The term structure of implied total variances is internally approximated by interpolation from given atm volatilities. The nice property of this surface is that there are very simple conditions on the parameters to guarantee that the surface is free of arbitrage, see [gatheral_jacquier_svi](https://papers.ssrn.com/sol3/papers.cfm?abstract_id=2033323)."
   ]
  },
  {
   "cell_type": "code",
   "execution_count": 11,
   "metadata": {
    "ExecuteTime": {
     "end_time": "2021-12-03T12:59:08.874122Z",
     "start_time": "2021-12-03T12:59:08.702579Z"
    }
   },
   "outputs": [],
   "source": [
    "gamma = 0.5 # responsible for the \"rate of decay\"\n",
    "rho = -0.7 # responsible for the skewness of the vol_surface\n",
    "eta = 1.0 # responsible for the curvature\n",
    "ssvi_param = mkt_data.VolatilityParametrizationSSVI(ttm, fwd_atm_vols, rho, eta, gamma)"
   ]
  },
  {
   "cell_type": "code",
   "execution_count": 12,
   "metadata": {
    "ExecuteTime": {
     "end_time": "2021-12-03T12:59:09.049652Z",
     "start_time": "2021-12-03T12:59:08.876117Z"
    }
   },
   "outputs": [
    {
     "data": {
      "text/plain": [
       "0.3151536735681129"
      ]
     },
     "execution_count": 12,
     "metadata": {},
     "output_type": "execute_result"
    }
   ],
   "source": [
    "ssvi_param.calc_implied_vol(1,.9)"
   ]
  },
  {
   "cell_type": "markdown",
   "metadata": {},
   "source": [
    "### SVI"
   ]
  },
  {
   "cell_type": "code",
   "execution_count": 46,
   "metadata": {
    "ExecuteTime": {
     "end_time": "2021-12-03T13:03:14.767290Z",
     "start_time": "2021-12-03T13:03:14.655749Z"
    }
   },
   "outputs": [],
   "source": [
    "svi_param = mkt_data.VolatilityParametrizationSVI(expiries=np.array([1.0/365.0, 1.0]), svi_params=[\n",
    "        (0.0001, 0.1, -0.5, 0.0, 0.0001),\n",
    "        (0.0002, 0.1, -0.5, 0.0, 0.00004),\n",
    "])"
   ]
  },
  {
   "cell_type": "code",
   "execution_count": 47,
   "metadata": {
    "ExecuteTime": {
     "end_time": "2021-12-03T13:03:14.892955Z",
     "start_time": "2021-12-03T13:03:14.769285Z"
    }
   },
   "outputs": [
    {
     "data": {
      "text/plain": [
       "0.20037464909513877"
      ]
     },
     "execution_count": 47,
     "metadata": {},
     "output_type": "execute_result"
    }
   ],
   "source": [
    "svi_param.calc_implied_vol(1/365,1)"
   ]
  },
  {
   "cell_type": "markdown",
   "metadata": {},
   "source": [
    "### SABR"
   ]
  },
  {
   "cell_type": "markdown",
   "metadata": {},
   "source": [
    "The [SABR](https://bsic.it/sabr-stochastic-volatility-model-volatility-smile/) model assumes that the forward rate and the instantaneous volatility are driven by two correlated Brownian motions:\n",
    "\n",
    "$$df_t = \\alpha_t f_t^\\beta d W_t^1$$\n",
    "\n",
    "$$d\\alpha_t = \\nu\\alpha_t d W_t^2$$\n",
    "\n",
    "$$E\\bigl[d W_t^1 d W_T^2\\bigr] = \\rho d t$$\n",
    "\n",
    "The expression that the implied volatility must satisfy is\n",
    "\n",
    "$$\\sigma_B(K,f) = \\frac{\\alpha\\biggl\\{1+\\biggl[\\frac{(1-\\beta)^2}{24}\\frac{\\alpha^2}{(fK)^{1-\\beta}}+\\frac{1}{4}\\frac{\\rho\\beta\\nu\\alpha}{(FK)^{(1-\\beta)/2}}+\\frac{2-3\\rho^2}{24}\\nu^2\\biggr]T\\biggr\\}}{(fK)^{(1-\\beta)/2}\\biggl[1+\\frac{(1-\\beta)^2}{24}{ln}^2\\frac{f}{K}+\\frac{(1-\\beta)^4}{1920}{ln}^4\\frac{f}{K}\\biggr]}\\frac{z}{\\chi(z)}$$\n",
    "\n",
    "$$z=\\frac{\\nu}{\\alpha}(fK)^{(1-\\beta)/2}ln\\frac{f}{K}$$\n",
    "\n",
    "$$\\chi(z) = ln\\Biggl[\\frac{\\sqrt{1-2\\rho z+z^2}+z-\\rho}{1-\\rho}\\Biggr]$$\n",
    "\n",
    "When $f = K $ (for ATM options), the above formula for implied volatility simplifies to:\n",
    "\n",
    "$$\\sigma_{ATM} = \\sigma_B(f,f)=\\frac{\\alpha\\biggl\\{1+\\biggl[\\frac{(1-\\beta)^2}{24}\\frac{\\alpha^2}{f^{2-2\\beta}}+\\frac{1}{4}\\frac{\\rho\\beta\\nu\\alpha}{f^{1-\\beta}}\\frac{2-3\\rho^2}{24}\\nu^2\\biggr]T\\biggr\\}}{f^{1-\\beta}}$$\n",
    "\n",
    "where\n",
    "\n",
    "> $\\alpha$ is the instantaneous vol;\n",
    "\n",
    "> $\\nu$ is the vol of vol;\n",
    "\n",
    "> $\\rho$ is the correlation between the Brownian motions driving the forward rate and the instantaneous vol;\n",
    "\n",
    "> $\\beta$ is the CEV component for forward rate (determines shape of forward rates, leverage effect and backbond of ATM vol).\n",
    "\n",
    "For details please refer to the [SABR](../models/sabr_volatility_model.ipynb) notebook. "
   ]
  },
  {
   "cell_type": "code",
   "execution_count": 15,
   "metadata": {
    "ExecuteTime": {
     "end_time": "2021-12-03T12:59:11.196537Z",
     "start_time": "2021-12-03T12:59:10.977611Z"
    },
    "code_folding": [
     0
    ]
   },
   "outputs": [
    {
     "data": {
      "application/vnd.jupyter.widget-view+json": {
       "model_id": "df38fe340a624cc7a8a70f8ce084130d",
       "version_major": 2,
       "version_minor": 0
      },
      "text/plain": [
       "VBox(children=(HBox(children=(Label(value='Set Chart Area:'),)), HBox(children=(FloatRangeSlider(value=(0.4, 1…"
      ]
     },
     "metadata": {},
     "output_type": "display_data"
    },
    {
     "data": {
      "application/vnd.jupyter.widget-view+json": {
       "model_id": "90ae3c57f6b8431fae3e36a586785f7a",
       "version_major": 2,
       "version_minor": 0
      },
      "text/plain": [
       "Output()"
      ]
     },
     "metadata": {},
     "output_type": "display_data"
    }
   ],
   "source": [
    "# Plotting SABR Volatility Smile– Rivapy\n",
    "\n",
    "# create widgets\n",
    "style = {'description_width': 'initial'}\n",
    "\n",
    "FloatTextAlpha = widgets.FloatText(value = 0.3, step = 0.01, description = 'Alpha')\n",
    "\n",
    "FloatSliderNu = widgets.FloatSlider(value = 0.1, min = 0.0001, max = 5, step = 0.01, description = 'Nu',\n",
    "                                       continuous_update=False, orientation='horizontal', readout=True, readout_format='.1f')\n",
    "\n",
    "FloatSliderBeta = widgets.FloatSlider(value = 0.1, min = 0, max = 1, step = 0.01, description = 'Beta',\n",
    "                                       continuous_update=False, orientation='horizontal', readout=True, readout_format='.1f')\n",
    "\n",
    "FloatSliderRho = widgets.FloatSlider(value = 0.1, min = -0.999999, max = 0.999999, step = 0.01, description = 'Rho',\n",
    "                                       continuous_update=False, orientation='horizontal', readout=True, readout_format='.1f')\n",
    "\n",
    "FloatRangeSliderStrikes = widgets.FloatRangeSlider(value=[.4, 1.6], min=0, max=3.0, step=0.05, description='Strike Range:', \n",
    "                                                   disabled=False, continuous_update=False,orientation='horizontal',\n",
    "                                                   readout=True, readout_format='.1f',style=style)\n",
    "\n",
    "FloatSliderExpiries = widgets.FloatSlider(value=1, min=1/12, max=30.0, step=1/12, description='Expiry:', \n",
    "                                                   disabled=False, continuous_update=False,orientation='horizontal',\n",
    "                                                   readout=True, readout_format='.2f',style=style)\n",
    "\n",
    "ButtonNewPlot = widgets.Button(description=\"New Plot\")\n",
    "\n",
    "ButtonAddTrace = widgets.Button(description=\"Add Trace\")\n",
    "\n",
    "global OutputWidget\n",
    "OutputWidget = widgets.Output()\n",
    "\n",
    "def create_vol_grid(alpha, nu, beta, rho,strike_range, expiry):\n",
    "    F_0 = 1\n",
    "    strikes = np.linspace(strike_range[0], strike_range[1], num=100)\n",
    "    sabr_params = np.array([[alpha,nu,beta,rho]])\n",
    "    ttm = [expiry]\n",
    "    sabr_param = mkt_data.VolatilityParametrizationSABR(ttm, sabr_params)\n",
    "    vols = [sabr_param.calc_implied_vol(expiry,x) for x in strikes]\n",
    "\n",
    "    return strikes, vols\n",
    "\n",
    "def create_plot(strikes, vols,expiry,alpha, nu, beta, rho):    \n",
    "    fig.add_trace(go.Scatter(x= strikes,y= vols \n",
    "                            ,mode = 'lines+markers'\n",
    "                          ,hovertemplate = \n",
    "                            'Moneyness:  %{x: .1%}' #+\\\n",
    "                            +'<br>Volatility: %{y: .1%}'\n",
    "                            +'<br>Expiry: {:,.0f} Yrs'.format(expiry)\n",
    "                            +'<br>Alpha: {:,.1%}'.format(alpha)\n",
    "                            +'<br>Nu: {:,.1f}'.format(nu)\n",
    "                            +'<br>Beta: {:,.1f}'.format(beta)\n",
    "                            +'<br>Rho: {:,.1f}'.format(rho)\n",
    "                            +'<extra></extra>',\n",
    "                            showlegend=False)\n",
    "                         )\n",
    "\n",
    "\n",
    "    fig.update_layout(title={\n",
    "                          'text': \"<b>Volatility Smile</b>\",\n",
    "                          'y':0.95,\n",
    "                          'x':0.5,\n",
    "                          'xanchor': 'center',\n",
    "                          'yanchor': 'top'\n",
    "                            }\n",
    "                    ,width=1000\n",
    "                    ,height=500\n",
    "                    ,xaxis_title='Moneyness'\n",
    "                    ,xaxis_tickformat = '.1%'\n",
    "                    ,xaxis_range=[strikes.min(),strikes.max()]\n",
    "                    ,yaxis_title='Volatility'\n",
    "                    ,yaxis_tickformat = '.1%'\n",
    "                    ,yaxis_range=[0,1]\n",
    "                    ,font=dict(\n",
    "                      family=\"Courier New, monospace\"\n",
    "                      ,size=10\n",
    "                      )\n",
    "                    ,margin=dict(l=65, r=50, b=65, t=90)\n",
    "    )\n",
    "    fig.show()\n",
    "\n",
    "def plot(alpha, nu, beta, rho,strike_range, expiry):\n",
    "#     function is called by eventhandler, i.e. if input parameter changes\n",
    "\n",
    "#     clear output\n",
    "    OutputWidget.clear_output()\n",
    "    \n",
    "#     1. create vol grid\n",
    "    strikes, vols = create_vol_grid(alpha, nu, beta, rho,strike_range, expiry)\n",
    "\n",
    "#     2. plot surface\n",
    "    create_plot(strikes, vols,expiry,alpha, nu, beta, rho)\n",
    "    \n",
    "\n",
    "def eventhandler(change):\n",
    "          \n",
    "    alpha = FloatTextAlpha.value\n",
    "    nu = FloatSliderNu.value\n",
    "    beta = FloatSliderBeta.value\n",
    "    rho = FloatSliderRho.value\n",
    "    strike_range = FloatRangeSliderStrikes.value\n",
    "    expiry = FloatSliderExpiries.value\n",
    "    \n",
    "#     call plot function\n",
    "    with OutputWidget:\n",
    "        plot(alpha, nu, beta, rho,strike_range, expiry)\n",
    "        \n",
    "def eventhandler2(change):\n",
    "    global fig\n",
    "    \n",
    "    fig = go.Figure()\n",
    "    \n",
    "    alpha = FloatTextAlpha.value\n",
    "    nu = FloatSliderNu.value\n",
    "    beta = FloatSliderBeta.value\n",
    "    rho = FloatSliderRho.value\n",
    "    strike_range = FloatRangeSliderStrikes.value\n",
    "    expiry = FloatSliderExpiries.value\n",
    "    \n",
    "    with OutputWidget:\n",
    "        plot(alpha, nu, beta, rho,strike_range, expiry)\n",
    "\n",
    "# bind eventhandler to widgets\n",
    "ButtonAddTrace.on_click(eventhandler)\n",
    "ButtonNewPlot.on_click(eventhandler2)\n",
    "\n",
    "# widgets groups\n",
    "WidgetsGrpH1 = widgets.HBox(children=[widgets.Label('Set Chart Area:')])\n",
    "WidgetsGrpH2 = widgets.HBox(children=[FloatRangeSliderStrikes])\n",
    "WidgetsGrpH3 = widgets.HBox(children=[widgets.Label('Set Parameters:')])\n",
    "WidgetsGrpH4 = widgets.HBox(children=[FloatTextAlpha,FloatSliderExpiries])\n",
    "WidgetsGrpH5 = widgets.HBox(children=[FloatSliderNu,FloatSliderBeta,FloatSliderRho])\n",
    "WidgetsGrpH6 = widgets.HBox(children=[ButtonNewPlot,ButtonAddTrace])\n",
    "WidgetsGrpV1 = widgets.VBox(children=[WidgetsGrpH1,WidgetsGrpH2,WidgetsGrpH3,WidgetsGrpH4,WidgetsGrpH5,WidgetsGrpH6])\n",
    "\n",
    "display(WidgetsGrpV1)\n",
    "display(OutputWidget)"
   ]
  },
  {
   "cell_type": "code",
   "execution_count": 16,
   "metadata": {
    "ExecuteTime": {
     "end_time": "2021-12-03T12:59:11.322215Z",
     "start_time": "2021-12-03T12:59:11.198533Z"
    }
   },
   "outputs": [],
   "source": [
    "ttm = [1.0/12.0, 1.0, 2.0, 3.0]\n",
    "sabr_params = np.array([[.1, 0.1, .9,-.8],\n",
    "                        [.3, 0.1, .1, .1],\n",
    "                        [.5, .3, .9, -.75,],\n",
    "                        [.5, .3, .9, -.85,]])"
   ]
  },
  {
   "cell_type": "code",
   "execution_count": 17,
   "metadata": {
    "ExecuteTime": {
     "end_time": "2021-12-03T12:59:11.512038Z",
     "start_time": "2021-12-03T12:59:11.386081Z"
    }
   },
   "outputs": [
    {
     "data": {
      "text/plain": [
       "0.30118"
      ]
     },
     "execution_count": 17,
     "metadata": {},
     "output_type": "execute_result"
    }
   ],
   "source": [
    "sabr_param = mkt_data.VolatilityParametrizationSABR(ttm, sabr_params)\n",
    "sabr_param.calc_implied_vol(1,1)"
   ]
  },
  {
   "cell_type": "markdown",
   "metadata": {},
   "source": [
    "## Volatility Smile"
   ]
  },
  {
   "cell_type": "markdown",
   "metadata": {},
   "source": [
    "### Plot Parametrization"
   ]
  },
  {
   "cell_type": "code",
   "execution_count": 18,
   "metadata": {
    "ExecuteTime": {
     "end_time": "2021-12-03T12:59:14.244130Z",
     "start_time": "2021-12-03T12:59:14.137351Z"
    }
   },
   "outputs": [],
   "source": [
    "vol_params_dict = {'Flat': flat_param\n",
    "                   ,'Term': term_param\n",
    "                   ,'SVI': svi_param\n",
    "                   ,'SSVI': ssvi_param\n",
    "                   ,'SABR': sabr_param\n",
    "                  }"
   ]
  },
  {
   "cell_type": "code",
   "execution_count": 19,
   "metadata": {
    "ExecuteTime": {
     "end_time": "2021-12-03T12:59:14.874659Z",
     "start_time": "2021-12-03T12:59:14.673198Z"
    },
    "code_folding": [
     0
    ]
   },
   "outputs": [
    {
     "data": {
      "application/vnd.jupyter.widget-view+json": {
       "model_id": "826266beb4224a2593460c2299d862fe",
       "version_major": 2,
       "version_minor": 0
      },
      "text/plain": [
       "HBox(children=(VBox(children=(Label(value='Set Chart Area:'), FloatRangeSlider(value=(0.4, 1.6), continuous_up…"
      ]
     },
     "metadata": {},
     "output_type": "display_data"
    },
    {
     "data": {
      "application/vnd.jupyter.widget-view+json": {
       "model_id": "1c0b4014711c4d849f35b53c6e3e883b",
       "version_major": 2,
       "version_minor": 0
      },
      "text/plain": [
       "HBox(children=(Button(description='New Plot', style=ButtonStyle()), Button(description='Add Trace(s)', style=B…"
      ]
     },
     "metadata": {},
     "output_type": "display_data"
    },
    {
     "data": {
      "application/vnd.jupyter.widget-view+json": {
       "model_id": "0942f90eeb1a4bfbbb24f6e9f0697ff9",
       "version_major": 2,
       "version_minor": 0
      },
      "text/plain": [
       "Output()"
      ]
     },
     "metadata": {},
     "output_type": "display_data"
    }
   ],
   "source": [
    "# Comparing Volatility Smiles – Rivapy\n",
    "\n",
    "# create widgets\n",
    "style = {'description_width': 'initial'}\n",
    "\n",
    "keys_list = list(vol_params_dict.keys())\n",
    "SelectMultipleParams = widgets.SelectMultiple(options=keys_list,value=[keys_list[0]],description='Parametrization',\n",
    "                                                disabled=False, continuous_update=False,readout=True,style=style)\n",
    "\n",
    "FloatRangeSliderStrikes = widgets.FloatRangeSlider(value=[.4, 1.6], min=0, max=3.0, step=0.05, description='Strike Range', \n",
    "                                                   disabled=False, continuous_update=False,orientation='horizontal',\n",
    "                                                   readout=True, readout_format='.1f',style=style)\n",
    "\n",
    "DatePickerRefDate = widgets.DatePicker(description='Ref Date',value = dt.date(2017,1,1), disabled=False, continuous_update=False,\n",
    "                                                   readout=True,style=style)\n",
    "\n",
    "DatePickerExpiryDate = widgets.DatePicker(description='Expiry Date',value = dt.date(2018,1,1), disabled=False, continuous_update=False,\n",
    "                                                   readout=True,style=style)\n",
    "\n",
    "\n",
    "ButtonNewPlot = widgets.Button(description=\"New Plot\")\n",
    "\n",
    "ButtonAddTrace = widgets.Button(description=\"Add Trace(s)\")\n",
    "\n",
    "global OutputWidget\n",
    "OutputWidget = widgets.Output()\n",
    "\n",
    "\n",
    "def create_plot(param_list,strike_range, ref_date, expiry_date):    \n",
    "    \n",
    "    moneyness = np.linspace(strike_range[0], strike_range[1], num=100)\n",
    "    strikes = np.array([i*forward_curve.value(ref_date,expiry_date) for i in moneyness])\n",
    "    expiry = (expiry_date-ref_date).days/365.25\n",
    "    \n",
    "    for p in param_list:\n",
    "        param = vol_params_dict[p]\n",
    "        vol_surf = mkt_data.VolatilitySurface(p+'_surf', ref_date, forward_curve, enums.DayCounterType.Act365Fixed, param)\n",
    "        vols = [vol_surf.calc_implied_vol(expiry_date,x,ref_date) for x in strikes]        \n",
    "    \n",
    "        fig_smile.add_trace(go.Scatter(x= moneyness,y= vols \n",
    "                                ,mode = 'lines+markers'\n",
    "                              ,hovertemplate =\n",
    "                                '<br>Parametrization: {}'.format(p)\n",
    "                                +'<br>Moneyness:  %{x: .1%}' #+\\\n",
    "                                +'<br>Volatility: %{y: .1%}'\n",
    "                                +'<br>Expiry: {:,.2f} Yrs'.format(expiry)\n",
    "                                +'<extra></extra>',\n",
    "                                showlegend=False)\n",
    "                             )\n",
    "\n",
    "\n",
    "    fig_smile.update_layout(title={\n",
    "                          'text': \"<b>Volatility Smile</b>\",\n",
    "                          'y':0.95,\n",
    "                          'x':0.5,\n",
    "                          'xanchor': 'center',\n",
    "                          'yanchor': 'top'\n",
    "                            }\n",
    "                    ,width=1000\n",
    "                    ,height=500\n",
    "                    ,xaxis_title='Moneyness'\n",
    "                    ,xaxis_tickformat = '.1%'\n",
    "                    ,xaxis_range=[moneyness.min(),moneyness.max()]\n",
    "                    ,yaxis_title='Volatility'\n",
    "                    ,yaxis_tickformat = '.1%'\n",
    "                    ,yaxis_range=[0,1]\n",
    "                    ,font=dict(\n",
    "                      family=\"Courier New, monospace\"\n",
    "                      ,size=10\n",
    "                      )\n",
    "                    ,margin=dict(l=65, r=50, b=65, t=90)\n",
    "    )\n",
    "    fig_smile.show()\n",
    "\n",
    "def plot(param_list,strike_range, ref_date, expiry_date):\n",
    "#     function is called by eventhandler, i.e. if input parameter changes\n",
    "\n",
    "#     clear output\n",
    "    OutputWidget.clear_output()\n",
    "\n",
    "#     plot surface\n",
    "    create_plot(param_list,strike_range, ref_date, expiry_date)\n",
    "    \n",
    "\n",
    "def eventhandler(change):\n",
    "          \n",
    "    param_list = list(SelectMultipleParams.value)\n",
    "    strike_range = FloatRangeSliderStrikes.value\n",
    "    ref_date = dt.datetime.combine(DatePickerRefDate.value, dt.datetime.min.time())\n",
    "    expiry_date = dt.datetime.combine(DatePickerExpiryDate.value, dt.datetime.min.time())\n",
    "    \n",
    "#     call plot function\n",
    "    with OutputWidget:\n",
    "        plot(param_list,strike_range, ref_date, expiry_date)\n",
    "        \n",
    "def eventhandler2(change):\n",
    "    global fig_smile\n",
    "    \n",
    "    fig_smile = go.Figure()\n",
    "    \n",
    "    param_list = list(SelectMultipleParams.value)\n",
    "    strike_range = FloatRangeSliderStrikes.value\n",
    "    ref_date = dt.datetime.combine(DatePickerRefDate.value, dt.datetime.min.time())\n",
    "    expiry_date = dt.datetime.combine(DatePickerExpiryDate.value, dt.datetime.min.time())\n",
    "    \n",
    "    with OutputWidget:\n",
    "        plot(param_list,strike_range, ref_date, expiry_date)\n",
    "\n",
    "# bind eventhandler to widgets\n",
    "ButtonAddTrace.on_click(eventhandler)\n",
    "ButtonNewPlot.on_click(eventhandler2)\n",
    "\n",
    "# widgets groups\n",
    "WidgetsGrpV1 = widgets.VBox(children=[widgets.Label('Set Chart Area:'),FloatRangeSliderStrikes])\n",
    "WidgetsGrpV2 = widgets.VBox(children=[widgets.Label('Set Reference and Expiry Date:'),DatePickerRefDate,DatePickerExpiryDate])\n",
    "WidgetsGrpV3 = widgets.VBox(children=[widgets.Label('Select Parametrization(s):'),SelectMultipleParams])\n",
    "WidgetsGrpH1 = widgets.HBox(children=[WidgetsGrpV1,WidgetsGrpV2,WidgetsGrpV3])\n",
    "WidgetsGrpH2 = widgets.HBox(children=[ButtonNewPlot,ButtonAddTrace])\n",
    "\n",
    "display(WidgetsGrpH1,WidgetsGrpH2)\n",
    "display(OutputWidget)"
   ]
  },
  {
   "cell_type": "markdown",
   "metadata": {},
   "source": [
    "### Fitting Parametrizations"
   ]
  },
  {
   "cell_type": "code",
   "execution_count": 82,
   "metadata": {
    "ExecuteTime": {
     "end_time": "2021-12-03T13:39:25.075859Z",
     "start_time": "2021-12-03T13:39:24.819527Z"
    }
   },
   "outputs": [
    {
     "data": {
      "text/html": [
       "<div>\n",
       "<style scoped>\n",
       "    .dataframe tbody tr th:only-of-type {\n",
       "        vertical-align: middle;\n",
       "    }\n",
       "\n",
       "    .dataframe tbody tr th {\n",
       "        vertical-align: top;\n",
       "    }\n",
       "\n",
       "    .dataframe thead th {\n",
       "        text-align: right;\n",
       "    }\n",
       "</style>\n",
       "<table border=\"1\" class=\"dataframe\">\n",
       "  <thead>\n",
       "    <tr style=\"text-align: right;\">\n",
       "      <th></th>\n",
       "      <th>Expiry</th>\n",
       "      <th>Strike</th>\n",
       "      <th>Bid</th>\n",
       "      <th>Ask</th>\n",
       "    </tr>\n",
       "  </thead>\n",
       "  <tbody>\n",
       "    <tr>\n",
       "      <th>0</th>\n",
       "      <td>1.0</td>\n",
       "      <td>0.8</td>\n",
       "      <td>0.230</td>\n",
       "      <td>0.240</td>\n",
       "    </tr>\n",
       "    <tr>\n",
       "      <th>1</th>\n",
       "      <td>1.0</td>\n",
       "      <td>0.9</td>\n",
       "      <td>0.235</td>\n",
       "      <td>0.245</td>\n",
       "    </tr>\n",
       "    <tr>\n",
       "      <th>2</th>\n",
       "      <td>1.0</td>\n",
       "      <td>1.0</td>\n",
       "      <td>0.240</td>\n",
       "      <td>0.250</td>\n",
       "    </tr>\n",
       "    <tr>\n",
       "      <th>3</th>\n",
       "      <td>1.0</td>\n",
       "      <td>1.1</td>\n",
       "      <td>0.245</td>\n",
       "      <td>0.255</td>\n",
       "    </tr>\n",
       "    <tr>\n",
       "      <th>4</th>\n",
       "      <td>1.5</td>\n",
       "      <td>0.8</td>\n",
       "      <td>0.240</td>\n",
       "      <td>0.250</td>\n",
       "    </tr>\n",
       "    <tr>\n",
       "      <th>5</th>\n",
       "      <td>1.5</td>\n",
       "      <td>0.9</td>\n",
       "      <td>0.245</td>\n",
       "      <td>0.255</td>\n",
       "    </tr>\n",
       "    <tr>\n",
       "      <th>6</th>\n",
       "      <td>1.5</td>\n",
       "      <td>1.0</td>\n",
       "      <td>0.250</td>\n",
       "      <td>0.260</td>\n",
       "    </tr>\n",
       "    <tr>\n",
       "      <th>7</th>\n",
       "      <td>1.5</td>\n",
       "      <td>1.1</td>\n",
       "      <td>0.255</td>\n",
       "      <td>0.265</td>\n",
       "    </tr>\n",
       "  </tbody>\n",
       "</table>\n",
       "</div>"
      ],
      "text/plain": [
       "   Expiry  Strike    Bid    Ask\n",
       "0     1.0     0.8  0.230  0.240\n",
       "1     1.0     0.9  0.235  0.245\n",
       "2     1.0     1.0  0.240  0.250\n",
       "3     1.0     1.1  0.245  0.255\n",
       "4     1.5     0.8  0.240  0.250\n",
       "5     1.5     0.9  0.245  0.255\n",
       "6     1.5     1.0  0.250  0.260\n",
       "7     1.5     1.1  0.255  0.265"
      ]
     },
     "execution_count": 82,
     "metadata": {},
     "output_type": "execute_result"
    }
   ],
   "source": [
    "# custruct equity option quote table\n",
    "# data = {'Expiry': [1, 1, 1, 1],'Strike': [0.8, 0.9, 1.0, 1.1], 'Bid': [.23,.235,.24,.245], 'Ask': [.24,.245,.25,.255]}\n",
    "data = {'Expiry': [1, 1, 1, 1, 1.5, 1.5, 1.5, 1.5],\n",
    "        'Strike': [0.8, 0.9, 1.0, 1.1,0.8, 0.9, 1.0, 1.1], \n",
    "        'Bid': [.23,.235,.24,.245,.24,.245,.25,.255], \n",
    "        'Ask': [.24,.245,.25,.255,.25,.255,.26,.265]}\n",
    "df_quote_table = pd.DataFrame(data)\n",
    "df_quote_table"
   ]
  },
  {
   "cell_type": "code",
   "execution_count": 32,
   "metadata": {
    "ExecuteTime": {
     "end_time": "2021-12-03T13:00:52.883491Z",
     "start_time": "2021-12-03T13:00:52.729902Z"
    }
   },
   "outputs": [],
   "source": [
    "strikes = np.array([i*forward_curve.value(refdate,refdate+relativedelta(years=1)) for i in df_quote_table.Strike.tolist()])\n",
    "# ttm = [1]\n",
    "# sabr_params = np.array([[.1, 0.1, .9,-.8]])  \n",
    "ttm = [1, 1.5]\n",
    "sabr_params = np.array([[.1, 0.1, .9,-.8],[.3, 0.12, .7,-.7]])  \n",
    "sabr_param = mkt_data.VolatilityParametrizationSABR(ttm, sabr_params)"
   ]
  },
  {
   "cell_type": "code",
   "execution_count": 84,
   "metadata": {
    "ExecuteTime": {
     "end_time": "2021-12-03T13:39:40.649948Z",
     "start_time": "2021-12-03T13:39:40.404604Z"
    }
   },
   "outputs": [
    {
     "data": {
      "text/plain": [
       "array([ 0.24217437, -0.15138834,  0.9230154 , -0.3573693 ,  0.31364525,\n",
       "        0.19898683,  1.34362096,  0.14563797])"
      ]
     },
     "execution_count": 84,
     "metadata": {},
     "output_type": "execute_result"
    }
   ],
   "source": [
    "def calibrate(vol_param, quotes):\n",
    "    def cost_function(x):\n",
    "        vol_param._set_param(x)\n",
    "        quotes['Vols'] = [vol_param.calc_implied_vol(expiry,strike) for expiry, strike in zip(quotes['Expiry'],quotes['Strike'])]\n",
    "        quotes['Dist_Ask']  = [max(vol-ask,0) for ask, vol in zip(quotes['Ask'],quotes['Vols'])]\n",
    "        quotes['Dist_Bid']  = [max(bid-vol,0) for bid, vol in zip(quotes['Bid'],quotes['Vols'])]\n",
    "        quotes['Dist_Total'] = quotes['Dist_Ask']+quotes['Dist_Bid']\n",
    "        return np.copy(quotes['Dist_Total'].values)\n",
    "    \n",
    "    \n",
    "    result = least_squares(cost_function,vol_param._x,method='lm',diff_step=1e-3)\n",
    "    \n",
    "    return result.x\n",
    "\n",
    "calibrate(sabr_param,df_quote_table)"
   ]
  },
  {
   "cell_type": "code",
   "execution_count": 54,
   "metadata": {
    "ExecuteTime": {
     "end_time": "2021-12-03T13:05:35.921980Z",
     "start_time": "2021-12-03T13:05:35.675126Z"
    }
   },
   "outputs": [],
   "source": [
    "sabr_param._set_param(calibrate(sabr_param,df_quote_table))"
   ]
  },
  {
   "cell_type": "code",
   "execution_count": 76,
   "metadata": {
    "ExecuteTime": {
     "end_time": "2021-12-03T13:25:42.762607Z",
     "start_time": "2021-12-03T13:25:42.382115Z"
    },
    "code_folding": [
     0
    ]
   },
   "outputs": [
    {
     "data": {
      "application/vnd.plotly.v1+json": {
       "config": {
        "plotlyServerURL": "https://plot.ly"
       },
       "data": [
        {
         "hovertemplate": "<br>Parametrization: SABR<br>Moneyness:  %{x: .1%}<br>Volatility: %{y: .1%}<br>Expiry: 1.00 Yrs<extra></extra>",
         "mode": "lines+markers",
         "showlegend": false,
         "type": "scatter",
         "x": [
          0.5,
          0.51010101010101,
          0.5202020202020202,
          0.5303030303030303,
          0.5404040404040404,
          0.5505050505050505,
          0.5606060606060606,
          0.5707070707070707,
          0.5808080808080808,
          0.5909090909090909,
          0.601010101010101,
          0.6111111111111112,
          0.6212121212121212,
          0.6313131313131313,
          0.6414141414141414,
          0.6515151515151515,
          0.6616161616161617,
          0.6717171717171717,
          0.6818181818181819,
          0.6919191919191919,
          0.702020202020202,
          0.7121212121212122,
          0.7222222222222222,
          0.7323232323232324,
          0.7424242424242424,
          0.7525252525252526,
          0.7626262626262627,
          0.7727272727272727,
          0.7828282828282829,
          0.7929292929292929,
          0.803030303030303,
          0.8131313131313131,
          0.8232323232323233,
          0.8333333333333334,
          0.8434343434343434,
          0.8535353535353536,
          0.8636363636363636,
          0.8737373737373737,
          0.8838383838383839,
          0.893939393939394,
          0.9040404040404041,
          0.9141414141414141,
          0.9242424242424243,
          0.9343434343434344,
          0.9444444444444444,
          0.9545454545454546,
          0.9646464646464648,
          0.9747474747474748,
          0.9848484848484849,
          0.994949494949495,
          1.0050505050505052,
          1.0151515151515151,
          1.0252525252525253,
          1.0353535353535355,
          1.0454545454545454,
          1.0555555555555556,
          1.0656565656565657,
          1.0757575757575757,
          1.0858585858585859,
          1.095959595959596,
          1.106060606060606,
          1.1161616161616164,
          1.1262626262626263,
          1.1363636363636365,
          1.1464646464646466,
          1.1565656565656566,
          1.1666666666666667,
          1.176767676767677,
          1.1868686868686869,
          1.196969696969697,
          1.2070707070707072,
          1.2171717171717171,
          1.2272727272727273,
          1.2373737373737375,
          1.2474747474747474,
          1.2575757575757578,
          1.2676767676767677,
          1.2777777777777777,
          1.287878787878788,
          1.297979797979798,
          1.3080808080808082,
          1.3181818181818183,
          1.3282828282828283,
          1.3383838383838385,
          1.3484848484848486,
          1.3585858585858586,
          1.3686868686868687,
          1.378787878787879,
          1.3888888888888888,
          1.3989898989898992,
          1.4090909090909092,
          1.4191919191919191,
          1.4292929292929295,
          1.4393939393939394,
          1.4494949494949496,
          1.4595959595959598,
          1.4696969696969697,
          1.47979797979798,
          1.48989898989899,
          1.5
         ],
         "y": [
          0.23818932043362934,
          0.23810131781769328,
          0.2380292252233674,
          0.23797215802603594,
          0.23792928644322667,
          0.2378998305923098,
          0.23788305727262554,
          0.23787827652543755,
          0.23788483872201724,
          0.2379021317835641,
          0.23792957854843447,
          0.23796663444889496,
          0.23801278537817383,
          0.2380675457244384,
          0.23813045655579654,
          0.23820108397618836,
          0.2382790175890981,
          0.23836386898748915,
          0.23845527041429204,
          0.23855287352532167,
          0.2386563482381782,
          0.23876538166012062,
          0.23887967710440017,
          0.23899895318111958,
          0.23912294287948843,
          0.23925139274699186,
          0.23938406213035318,
          0.239520722464675,
          0.23966115660724632,
          0.2398051582196971,
          0.23995253120294752,
          0.24010308911795394,
          0.24025665466003654,
          0.24041305917432312,
          0.24057214219984085,
          0.24073375104034658,
          0.24089774036295789,
          0.24106397183331507,
          0.24123231374077247,
          0.241402640650602,
          0.24157483308553485,
          0.24174877722512544,
          0.24192436462179676,
          0.24210149193359873,
          0.24228006068153188,
          0.2424599770025754,
          0.24264115141396403,
          0.2428234985990934,
          0.24300693720498964,
          0.2431913896505016,
          0.24337678194493553,
          0.24356304352278704,
          0.24375010707855516,
          0.24393790840408874,
          0.24412638624192465,
          0.24431548214647167,
          0.24450514035224685,
          0.24469530764885675,
          0.24488593326629216,
          0.24507696876290766,
          0.24526836791169893,
          0.24546008659818344,
          0.24565208272384767,
          0.24584431611433355,
          0.2460367484321192,
          0.2462293430956532,
          0.24642206520235357,
          0.24661488144832674,
          0.24680776005620025,
          0.24700067070711598,
          0.24719358447595363,
          0.24738647376961814,
          0.24757931226933477,
          0.24777207487691708,
          0.24796473765774818,
          0.2481572777890715,
          0.24834967351155032,
          0.24854190408305937,
          0.24873394973459867,
          0.24892579162872927,
          0.24911741182144978,
          0.2493087932215725,
          0.2494999195531859,
          0.2496907753208038,
          0.24988134577607576,
          0.2500716168859824,
          0.25026157530266147,
          0.25045120833591933,
          0.2506405039242143,
          0.2508294506071043,
          0.25101803749993556,
          0.25120625426964677,
          0.25139409111161864,
          0.2515815387276178,
          0.2517685883057075,
          0.2519552314993073,
          0.2521414604074685,
          0.25232726755390944,
          0.2525126458764583,
          0.25269758869319403
         ]
        },
        {
         "hovertemplate": "<br>Ask Quote<br>Moneyness:  %{x: .1%}<br>Volatility: %{y: .1%}<br>Expiry: 1.00 Yrs<extra></extra>",
         "marker": {
          "color": "rgb(11, 83, 148)",
          "symbol": 106
         },
         "mode": "markers",
         "showlegend": false,
         "type": "scatter",
         "x": [
          0.8,
          0.9,
          1,
          1.1
         ],
         "y": [
          0.24,
          0.245,
          0.25,
          0.255
         ]
        },
        {
         "hovertemplate": "<br>Bid Quote<br>Moneyness:  %{x: .1%}<br>Volatility: %{y: .1%}<br>Expiry: 1.00 Yrs<extra></extra>",
         "marker": {
          "color": "rgb(204,0,0)",
          "symbol": 105
         },
         "mode": "markers",
         "showlegend": false,
         "type": "scatter",
         "x": [
          0.8,
          0.9,
          1,
          1.1
         ],
         "y": [
          0.23,
          0.235,
          0.24,
          0.245
         ]
        }
       ],
       "layout": {
        "font": {
         "family": "Courier New, monospace",
         "size": 10
        },
        "height": 500,
        "margin": {
         "b": 65,
         "l": 65,
         "r": 50,
         "t": 90
        },
        "template": {
         "data": {
          "bar": [
           {
            "error_x": {
             "color": "#2a3f5f"
            },
            "error_y": {
             "color": "#2a3f5f"
            },
            "marker": {
             "line": {
              "color": "#E5ECF6",
              "width": 0.5
             },
             "pattern": {
              "fillmode": "overlay",
              "size": 10,
              "solidity": 0.2
             }
            },
            "type": "bar"
           }
          ],
          "barpolar": [
           {
            "marker": {
             "line": {
              "color": "#E5ECF6",
              "width": 0.5
             },
             "pattern": {
              "fillmode": "overlay",
              "size": 10,
              "solidity": 0.2
             }
            },
            "type": "barpolar"
           }
          ],
          "carpet": [
           {
            "aaxis": {
             "endlinecolor": "#2a3f5f",
             "gridcolor": "white",
             "linecolor": "white",
             "minorgridcolor": "white",
             "startlinecolor": "#2a3f5f"
            },
            "baxis": {
             "endlinecolor": "#2a3f5f",
             "gridcolor": "white",
             "linecolor": "white",
             "minorgridcolor": "white",
             "startlinecolor": "#2a3f5f"
            },
            "type": "carpet"
           }
          ],
          "choropleth": [
           {
            "colorbar": {
             "outlinewidth": 0,
             "ticks": ""
            },
            "type": "choropleth"
           }
          ],
          "contour": [
           {
            "colorbar": {
             "outlinewidth": 0,
             "ticks": ""
            },
            "colorscale": [
             [
              0,
              "#0d0887"
             ],
             [
              0.1111111111111111,
              "#46039f"
             ],
             [
              0.2222222222222222,
              "#7201a8"
             ],
             [
              0.3333333333333333,
              "#9c179e"
             ],
             [
              0.4444444444444444,
              "#bd3786"
             ],
             [
              0.5555555555555556,
              "#d8576b"
             ],
             [
              0.6666666666666666,
              "#ed7953"
             ],
             [
              0.7777777777777778,
              "#fb9f3a"
             ],
             [
              0.8888888888888888,
              "#fdca26"
             ],
             [
              1,
              "#f0f921"
             ]
            ],
            "type": "contour"
           }
          ],
          "contourcarpet": [
           {
            "colorbar": {
             "outlinewidth": 0,
             "ticks": ""
            },
            "type": "contourcarpet"
           }
          ],
          "heatmap": [
           {
            "colorbar": {
             "outlinewidth": 0,
             "ticks": ""
            },
            "colorscale": [
             [
              0,
              "#0d0887"
             ],
             [
              0.1111111111111111,
              "#46039f"
             ],
             [
              0.2222222222222222,
              "#7201a8"
             ],
             [
              0.3333333333333333,
              "#9c179e"
             ],
             [
              0.4444444444444444,
              "#bd3786"
             ],
             [
              0.5555555555555556,
              "#d8576b"
             ],
             [
              0.6666666666666666,
              "#ed7953"
             ],
             [
              0.7777777777777778,
              "#fb9f3a"
             ],
             [
              0.8888888888888888,
              "#fdca26"
             ],
             [
              1,
              "#f0f921"
             ]
            ],
            "type": "heatmap"
           }
          ],
          "heatmapgl": [
           {
            "colorbar": {
             "outlinewidth": 0,
             "ticks": ""
            },
            "colorscale": [
             [
              0,
              "#0d0887"
             ],
             [
              0.1111111111111111,
              "#46039f"
             ],
             [
              0.2222222222222222,
              "#7201a8"
             ],
             [
              0.3333333333333333,
              "#9c179e"
             ],
             [
              0.4444444444444444,
              "#bd3786"
             ],
             [
              0.5555555555555556,
              "#d8576b"
             ],
             [
              0.6666666666666666,
              "#ed7953"
             ],
             [
              0.7777777777777778,
              "#fb9f3a"
             ],
             [
              0.8888888888888888,
              "#fdca26"
             ],
             [
              1,
              "#f0f921"
             ]
            ],
            "type": "heatmapgl"
           }
          ],
          "histogram": [
           {
            "marker": {
             "pattern": {
              "fillmode": "overlay",
              "size": 10,
              "solidity": 0.2
             }
            },
            "type": "histogram"
           }
          ],
          "histogram2d": [
           {
            "colorbar": {
             "outlinewidth": 0,
             "ticks": ""
            },
            "colorscale": [
             [
              0,
              "#0d0887"
             ],
             [
              0.1111111111111111,
              "#46039f"
             ],
             [
              0.2222222222222222,
              "#7201a8"
             ],
             [
              0.3333333333333333,
              "#9c179e"
             ],
             [
              0.4444444444444444,
              "#bd3786"
             ],
             [
              0.5555555555555556,
              "#d8576b"
             ],
             [
              0.6666666666666666,
              "#ed7953"
             ],
             [
              0.7777777777777778,
              "#fb9f3a"
             ],
             [
              0.8888888888888888,
              "#fdca26"
             ],
             [
              1,
              "#f0f921"
             ]
            ],
            "type": "histogram2d"
           }
          ],
          "histogram2dcontour": [
           {
            "colorbar": {
             "outlinewidth": 0,
             "ticks": ""
            },
            "colorscale": [
             [
              0,
              "#0d0887"
             ],
             [
              0.1111111111111111,
              "#46039f"
             ],
             [
              0.2222222222222222,
              "#7201a8"
             ],
             [
              0.3333333333333333,
              "#9c179e"
             ],
             [
              0.4444444444444444,
              "#bd3786"
             ],
             [
              0.5555555555555556,
              "#d8576b"
             ],
             [
              0.6666666666666666,
              "#ed7953"
             ],
             [
              0.7777777777777778,
              "#fb9f3a"
             ],
             [
              0.8888888888888888,
              "#fdca26"
             ],
             [
              1,
              "#f0f921"
             ]
            ],
            "type": "histogram2dcontour"
           }
          ],
          "mesh3d": [
           {
            "colorbar": {
             "outlinewidth": 0,
             "ticks": ""
            },
            "type": "mesh3d"
           }
          ],
          "parcoords": [
           {
            "line": {
             "colorbar": {
              "outlinewidth": 0,
              "ticks": ""
             }
            },
            "type": "parcoords"
           }
          ],
          "pie": [
           {
            "automargin": true,
            "type": "pie"
           }
          ],
          "scatter": [
           {
            "marker": {
             "colorbar": {
              "outlinewidth": 0,
              "ticks": ""
             }
            },
            "type": "scatter"
           }
          ],
          "scatter3d": [
           {
            "line": {
             "colorbar": {
              "outlinewidth": 0,
              "ticks": ""
             }
            },
            "marker": {
             "colorbar": {
              "outlinewidth": 0,
              "ticks": ""
             }
            },
            "type": "scatter3d"
           }
          ],
          "scattercarpet": [
           {
            "marker": {
             "colorbar": {
              "outlinewidth": 0,
              "ticks": ""
             }
            },
            "type": "scattercarpet"
           }
          ],
          "scattergeo": [
           {
            "marker": {
             "colorbar": {
              "outlinewidth": 0,
              "ticks": ""
             }
            },
            "type": "scattergeo"
           }
          ],
          "scattergl": [
           {
            "marker": {
             "colorbar": {
              "outlinewidth": 0,
              "ticks": ""
             }
            },
            "type": "scattergl"
           }
          ],
          "scattermapbox": [
           {
            "marker": {
             "colorbar": {
              "outlinewidth": 0,
              "ticks": ""
             }
            },
            "type": "scattermapbox"
           }
          ],
          "scatterpolar": [
           {
            "marker": {
             "colorbar": {
              "outlinewidth": 0,
              "ticks": ""
             }
            },
            "type": "scatterpolar"
           }
          ],
          "scatterpolargl": [
           {
            "marker": {
             "colorbar": {
              "outlinewidth": 0,
              "ticks": ""
             }
            },
            "type": "scatterpolargl"
           }
          ],
          "scatterternary": [
           {
            "marker": {
             "colorbar": {
              "outlinewidth": 0,
              "ticks": ""
             }
            },
            "type": "scatterternary"
           }
          ],
          "surface": [
           {
            "colorbar": {
             "outlinewidth": 0,
             "ticks": ""
            },
            "colorscale": [
             [
              0,
              "#0d0887"
             ],
             [
              0.1111111111111111,
              "#46039f"
             ],
             [
              0.2222222222222222,
              "#7201a8"
             ],
             [
              0.3333333333333333,
              "#9c179e"
             ],
             [
              0.4444444444444444,
              "#bd3786"
             ],
             [
              0.5555555555555556,
              "#d8576b"
             ],
             [
              0.6666666666666666,
              "#ed7953"
             ],
             [
              0.7777777777777778,
              "#fb9f3a"
             ],
             [
              0.8888888888888888,
              "#fdca26"
             ],
             [
              1,
              "#f0f921"
             ]
            ],
            "type": "surface"
           }
          ],
          "table": [
           {
            "cells": {
             "fill": {
              "color": "#EBF0F8"
             },
             "line": {
              "color": "white"
             }
            },
            "header": {
             "fill": {
              "color": "#C8D4E3"
             },
             "line": {
              "color": "white"
             }
            },
            "type": "table"
           }
          ]
         },
         "layout": {
          "annotationdefaults": {
           "arrowcolor": "#2a3f5f",
           "arrowhead": 0,
           "arrowwidth": 1
          },
          "autotypenumbers": "strict",
          "coloraxis": {
           "colorbar": {
            "outlinewidth": 0,
            "ticks": ""
           }
          },
          "colorscale": {
           "diverging": [
            [
             0,
             "#8e0152"
            ],
            [
             0.1,
             "#c51b7d"
            ],
            [
             0.2,
             "#de77ae"
            ],
            [
             0.3,
             "#f1b6da"
            ],
            [
             0.4,
             "#fde0ef"
            ],
            [
             0.5,
             "#f7f7f7"
            ],
            [
             0.6,
             "#e6f5d0"
            ],
            [
             0.7,
             "#b8e186"
            ],
            [
             0.8,
             "#7fbc41"
            ],
            [
             0.9,
             "#4d9221"
            ],
            [
             1,
             "#276419"
            ]
           ],
           "sequential": [
            [
             0,
             "#0d0887"
            ],
            [
             0.1111111111111111,
             "#46039f"
            ],
            [
             0.2222222222222222,
             "#7201a8"
            ],
            [
             0.3333333333333333,
             "#9c179e"
            ],
            [
             0.4444444444444444,
             "#bd3786"
            ],
            [
             0.5555555555555556,
             "#d8576b"
            ],
            [
             0.6666666666666666,
             "#ed7953"
            ],
            [
             0.7777777777777778,
             "#fb9f3a"
            ],
            [
             0.8888888888888888,
             "#fdca26"
            ],
            [
             1,
             "#f0f921"
            ]
           ],
           "sequentialminus": [
            [
             0,
             "#0d0887"
            ],
            [
             0.1111111111111111,
             "#46039f"
            ],
            [
             0.2222222222222222,
             "#7201a8"
            ],
            [
             0.3333333333333333,
             "#9c179e"
            ],
            [
             0.4444444444444444,
             "#bd3786"
            ],
            [
             0.5555555555555556,
             "#d8576b"
            ],
            [
             0.6666666666666666,
             "#ed7953"
            ],
            [
             0.7777777777777778,
             "#fb9f3a"
            ],
            [
             0.8888888888888888,
             "#fdca26"
            ],
            [
             1,
             "#f0f921"
            ]
           ]
          },
          "colorway": [
           "#636efa",
           "#EF553B",
           "#00cc96",
           "#ab63fa",
           "#FFA15A",
           "#19d3f3",
           "#FF6692",
           "#B6E880",
           "#FF97FF",
           "#FECB52"
          ],
          "font": {
           "color": "#2a3f5f"
          },
          "geo": {
           "bgcolor": "white",
           "lakecolor": "white",
           "landcolor": "#E5ECF6",
           "showlakes": true,
           "showland": true,
           "subunitcolor": "white"
          },
          "hoverlabel": {
           "align": "left"
          },
          "hovermode": "closest",
          "mapbox": {
           "style": "light"
          },
          "paper_bgcolor": "white",
          "plot_bgcolor": "#E5ECF6",
          "polar": {
           "angularaxis": {
            "gridcolor": "white",
            "linecolor": "white",
            "ticks": ""
           },
           "bgcolor": "#E5ECF6",
           "radialaxis": {
            "gridcolor": "white",
            "linecolor": "white",
            "ticks": ""
           }
          },
          "scene": {
           "xaxis": {
            "backgroundcolor": "#E5ECF6",
            "gridcolor": "white",
            "gridwidth": 2,
            "linecolor": "white",
            "showbackground": true,
            "ticks": "",
            "zerolinecolor": "white"
           },
           "yaxis": {
            "backgroundcolor": "#E5ECF6",
            "gridcolor": "white",
            "gridwidth": 2,
            "linecolor": "white",
            "showbackground": true,
            "ticks": "",
            "zerolinecolor": "white"
           },
           "zaxis": {
            "backgroundcolor": "#E5ECF6",
            "gridcolor": "white",
            "gridwidth": 2,
            "linecolor": "white",
            "showbackground": true,
            "ticks": "",
            "zerolinecolor": "white"
           }
          },
          "shapedefaults": {
           "line": {
            "color": "#2a3f5f"
           }
          },
          "ternary": {
           "aaxis": {
            "gridcolor": "white",
            "linecolor": "white",
            "ticks": ""
           },
           "baxis": {
            "gridcolor": "white",
            "linecolor": "white",
            "ticks": ""
           },
           "bgcolor": "#E5ECF6",
           "caxis": {
            "gridcolor": "white",
            "linecolor": "white",
            "ticks": ""
           }
          },
          "title": {
           "x": 0.05
          },
          "xaxis": {
           "automargin": true,
           "gridcolor": "white",
           "linecolor": "white",
           "ticks": "",
           "title": {
            "standoff": 15
           },
           "zerolinecolor": "white",
           "zerolinewidth": 2
          },
          "yaxis": {
           "automargin": true,
           "gridcolor": "white",
           "linecolor": "white",
           "ticks": "",
           "title": {
            "standoff": 15
           },
           "zerolinecolor": "white",
           "zerolinewidth": 2
          }
         }
        },
        "title": {
         "text": "<b>Volatility Smile</b>",
         "x": 0.5,
         "xanchor": "center",
         "y": 0.95,
         "yanchor": "top"
        },
        "width": 1000,
        "xaxis": {
         "range": [
          0.5,
          1.5
         ],
         "tickformat": ".1%",
         "title": {
          "text": "Moneyness"
         }
        },
        "yaxis": {
         "range": [
          0.2,
          0.3
         ],
         "tickformat": ".1%",
         "title": {
          "text": "Volatility"
         }
        }
       }
      },
      "text/html": [
       "<div>                            <div id=\"bf163fd6-2a7a-47d4-bed5-842650c3c42f\" class=\"plotly-graph-div\" style=\"height:500px; width:1000px;\"></div>            <script type=\"text/javascript\">                require([\"plotly\"], function(Plotly) {                    window.PLOTLYENV=window.PLOTLYENV || {};                                    if (document.getElementById(\"bf163fd6-2a7a-47d4-bed5-842650c3c42f\")) {                    Plotly.newPlot(                        \"bf163fd6-2a7a-47d4-bed5-842650c3c42f\",                        [{\"hovertemplate\":\"<br>Parametrization: SABR<br>Moneyness:  %{x: .1%}<br>Volatility: %{y: .1%}<br>Expiry: 1.00 Yrs<extra></extra>\",\"mode\":\"lines+markers\",\"showlegend\":false,\"type\":\"scatter\",\"x\":[0.5,0.51010101010101,0.5202020202020202,0.5303030303030303,0.5404040404040404,0.5505050505050505,0.5606060606060606,0.5707070707070707,0.5808080808080808,0.5909090909090909,0.601010101010101,0.6111111111111112,0.6212121212121212,0.6313131313131313,0.6414141414141414,0.6515151515151515,0.6616161616161617,0.6717171717171717,0.6818181818181819,0.6919191919191919,0.702020202020202,0.7121212121212122,0.7222222222222222,0.7323232323232324,0.7424242424242424,0.7525252525252526,0.7626262626262627,0.7727272727272727,0.7828282828282829,0.7929292929292929,0.803030303030303,0.8131313131313131,0.8232323232323233,0.8333333333333334,0.8434343434343434,0.8535353535353536,0.8636363636363636,0.8737373737373737,0.8838383838383839,0.893939393939394,0.9040404040404041,0.9141414141414141,0.9242424242424243,0.9343434343434344,0.9444444444444444,0.9545454545454546,0.9646464646464648,0.9747474747474748,0.9848484848484849,0.994949494949495,1.0050505050505052,1.0151515151515151,1.0252525252525253,1.0353535353535355,1.0454545454545454,1.0555555555555556,1.0656565656565657,1.0757575757575757,1.0858585858585859,1.095959595959596,1.106060606060606,1.1161616161616164,1.1262626262626263,1.1363636363636365,1.1464646464646466,1.1565656565656566,1.1666666666666667,1.176767676767677,1.1868686868686869,1.196969696969697,1.2070707070707072,1.2171717171717171,1.2272727272727273,1.2373737373737375,1.2474747474747474,1.2575757575757578,1.2676767676767677,1.2777777777777777,1.287878787878788,1.297979797979798,1.3080808080808082,1.3181818181818183,1.3282828282828283,1.3383838383838385,1.3484848484848486,1.3585858585858586,1.3686868686868687,1.378787878787879,1.3888888888888888,1.3989898989898992,1.4090909090909092,1.4191919191919191,1.4292929292929295,1.4393939393939394,1.4494949494949496,1.4595959595959598,1.4696969696969697,1.47979797979798,1.48989898989899,1.5],\"y\":[0.23818932043362934,0.23810131781769328,0.2380292252233674,0.23797215802603594,0.23792928644322667,0.2378998305923098,0.23788305727262554,0.23787827652543755,0.23788483872201724,0.2379021317835641,0.23792957854843447,0.23796663444889496,0.23801278537817383,0.2380675457244384,0.23813045655579654,0.23820108397618836,0.2382790175890981,0.23836386898748915,0.23845527041429204,0.23855287352532167,0.2386563482381782,0.23876538166012062,0.23887967710440017,0.23899895318111958,0.23912294287948843,0.23925139274699186,0.23938406213035318,0.239520722464675,0.23966115660724632,0.2398051582196971,0.23995253120294752,0.24010308911795394,0.24025665466003654,0.24041305917432312,0.24057214219984085,0.24073375104034658,0.24089774036295789,0.24106397183331507,0.24123231374077247,0.241402640650602,0.24157483308553485,0.24174877722512544,0.24192436462179676,0.24210149193359873,0.24228006068153188,0.2424599770025754,0.24264115141396403,0.2428234985990934,0.24300693720498964,0.2431913896505016,0.24337678194493553,0.24356304352278704,0.24375010707855516,0.24393790840408874,0.24412638624192465,0.24431548214647167,0.24450514035224685,0.24469530764885675,0.24488593326629216,0.24507696876290766,0.24526836791169893,0.24546008659818344,0.24565208272384767,0.24584431611433355,0.2460367484321192,0.2462293430956532,0.24642206520235357,0.24661488144832674,0.24680776005620025,0.24700067070711598,0.24719358447595363,0.24738647376961814,0.24757931226933477,0.24777207487691708,0.24796473765774818,0.2481572777890715,0.24834967351155032,0.24854190408305937,0.24873394973459867,0.24892579162872927,0.24911741182144978,0.2493087932215725,0.2494999195531859,0.2496907753208038,0.24988134577607576,0.2500716168859824,0.25026157530266147,0.25045120833591933,0.2506405039242143,0.2508294506071043,0.25101803749993556,0.25120625426964677,0.25139409111161864,0.2515815387276178,0.2517685883057075,0.2519552314993073,0.2521414604074685,0.25232726755390944,0.2525126458764583,0.25269758869319403]},{\"hovertemplate\":\"<br>Ask Quote<br>Moneyness:  %{x: .1%}<br>Volatility: %{y: .1%}<br>Expiry: 1.00 Yrs<extra></extra>\",\"marker\":{\"color\":\"rgb(11, 83, 148)\",\"symbol\":106},\"mode\":\"markers\",\"showlegend\":false,\"type\":\"scatter\",\"x\":[0.8,0.9,1.0,1.1],\"y\":[0.24,0.245,0.25,0.255]},{\"hovertemplate\":\"<br>Bid Quote<br>Moneyness:  %{x: .1%}<br>Volatility: %{y: .1%}<br>Expiry: 1.00 Yrs<extra></extra>\",\"marker\":{\"color\":\"rgb(204,0,0)\",\"symbol\":105},\"mode\":\"markers\",\"showlegend\":false,\"type\":\"scatter\",\"x\":[0.8,0.9,1.0,1.1],\"y\":[0.23,0.235,0.24,0.245]}],                        {\"font\":{\"family\":\"Courier New, monospace\",\"size\":10},\"height\":500,\"margin\":{\"b\":65,\"l\":65,\"r\":50,\"t\":90},\"template\":{\"data\":{\"bar\":[{\"error_x\":{\"color\":\"#2a3f5f\"},\"error_y\":{\"color\":\"#2a3f5f\"},\"marker\":{\"line\":{\"color\":\"#E5ECF6\",\"width\":0.5},\"pattern\":{\"fillmode\":\"overlay\",\"size\":10,\"solidity\":0.2}},\"type\":\"bar\"}],\"barpolar\":[{\"marker\":{\"line\":{\"color\":\"#E5ECF6\",\"width\":0.5},\"pattern\":{\"fillmode\":\"overlay\",\"size\":10,\"solidity\":0.2}},\"type\":\"barpolar\"}],\"carpet\":[{\"aaxis\":{\"endlinecolor\":\"#2a3f5f\",\"gridcolor\":\"white\",\"linecolor\":\"white\",\"minorgridcolor\":\"white\",\"startlinecolor\":\"#2a3f5f\"},\"baxis\":{\"endlinecolor\":\"#2a3f5f\",\"gridcolor\":\"white\",\"linecolor\":\"white\",\"minorgridcolor\":\"white\",\"startlinecolor\":\"#2a3f5f\"},\"type\":\"carpet\"}],\"choropleth\":[{\"colorbar\":{\"outlinewidth\":0,\"ticks\":\"\"},\"type\":\"choropleth\"}],\"contour\":[{\"colorbar\":{\"outlinewidth\":0,\"ticks\":\"\"},\"colorscale\":[[0.0,\"#0d0887\"],[0.1111111111111111,\"#46039f\"],[0.2222222222222222,\"#7201a8\"],[0.3333333333333333,\"#9c179e\"],[0.4444444444444444,\"#bd3786\"],[0.5555555555555556,\"#d8576b\"],[0.6666666666666666,\"#ed7953\"],[0.7777777777777778,\"#fb9f3a\"],[0.8888888888888888,\"#fdca26\"],[1.0,\"#f0f921\"]],\"type\":\"contour\"}],\"contourcarpet\":[{\"colorbar\":{\"outlinewidth\":0,\"ticks\":\"\"},\"type\":\"contourcarpet\"}],\"heatmap\":[{\"colorbar\":{\"outlinewidth\":0,\"ticks\":\"\"},\"colorscale\":[[0.0,\"#0d0887\"],[0.1111111111111111,\"#46039f\"],[0.2222222222222222,\"#7201a8\"],[0.3333333333333333,\"#9c179e\"],[0.4444444444444444,\"#bd3786\"],[0.5555555555555556,\"#d8576b\"],[0.6666666666666666,\"#ed7953\"],[0.7777777777777778,\"#fb9f3a\"],[0.8888888888888888,\"#fdca26\"],[1.0,\"#f0f921\"]],\"type\":\"heatmap\"}],\"heatmapgl\":[{\"colorbar\":{\"outlinewidth\":0,\"ticks\":\"\"},\"colorscale\":[[0.0,\"#0d0887\"],[0.1111111111111111,\"#46039f\"],[0.2222222222222222,\"#7201a8\"],[0.3333333333333333,\"#9c179e\"],[0.4444444444444444,\"#bd3786\"],[0.5555555555555556,\"#d8576b\"],[0.6666666666666666,\"#ed7953\"],[0.7777777777777778,\"#fb9f3a\"],[0.8888888888888888,\"#fdca26\"],[1.0,\"#f0f921\"]],\"type\":\"heatmapgl\"}],\"histogram\":[{\"marker\":{\"pattern\":{\"fillmode\":\"overlay\",\"size\":10,\"solidity\":0.2}},\"type\":\"histogram\"}],\"histogram2d\":[{\"colorbar\":{\"outlinewidth\":0,\"ticks\":\"\"},\"colorscale\":[[0.0,\"#0d0887\"],[0.1111111111111111,\"#46039f\"],[0.2222222222222222,\"#7201a8\"],[0.3333333333333333,\"#9c179e\"],[0.4444444444444444,\"#bd3786\"],[0.5555555555555556,\"#d8576b\"],[0.6666666666666666,\"#ed7953\"],[0.7777777777777778,\"#fb9f3a\"],[0.8888888888888888,\"#fdca26\"],[1.0,\"#f0f921\"]],\"type\":\"histogram2d\"}],\"histogram2dcontour\":[{\"colorbar\":{\"outlinewidth\":0,\"ticks\":\"\"},\"colorscale\":[[0.0,\"#0d0887\"],[0.1111111111111111,\"#46039f\"],[0.2222222222222222,\"#7201a8\"],[0.3333333333333333,\"#9c179e\"],[0.4444444444444444,\"#bd3786\"],[0.5555555555555556,\"#d8576b\"],[0.6666666666666666,\"#ed7953\"],[0.7777777777777778,\"#fb9f3a\"],[0.8888888888888888,\"#fdca26\"],[1.0,\"#f0f921\"]],\"type\":\"histogram2dcontour\"}],\"mesh3d\":[{\"colorbar\":{\"outlinewidth\":0,\"ticks\":\"\"},\"type\":\"mesh3d\"}],\"parcoords\":[{\"line\":{\"colorbar\":{\"outlinewidth\":0,\"ticks\":\"\"}},\"type\":\"parcoords\"}],\"pie\":[{\"automargin\":true,\"type\":\"pie\"}],\"scatter\":[{\"marker\":{\"colorbar\":{\"outlinewidth\":0,\"ticks\":\"\"}},\"type\":\"scatter\"}],\"scatter3d\":[{\"line\":{\"colorbar\":{\"outlinewidth\":0,\"ticks\":\"\"}},\"marker\":{\"colorbar\":{\"outlinewidth\":0,\"ticks\":\"\"}},\"type\":\"scatter3d\"}],\"scattercarpet\":[{\"marker\":{\"colorbar\":{\"outlinewidth\":0,\"ticks\":\"\"}},\"type\":\"scattercarpet\"}],\"scattergeo\":[{\"marker\":{\"colorbar\":{\"outlinewidth\":0,\"ticks\":\"\"}},\"type\":\"scattergeo\"}],\"scattergl\":[{\"marker\":{\"colorbar\":{\"outlinewidth\":0,\"ticks\":\"\"}},\"type\":\"scattergl\"}],\"scattermapbox\":[{\"marker\":{\"colorbar\":{\"outlinewidth\":0,\"ticks\":\"\"}},\"type\":\"scattermapbox\"}],\"scatterpolar\":[{\"marker\":{\"colorbar\":{\"outlinewidth\":0,\"ticks\":\"\"}},\"type\":\"scatterpolar\"}],\"scatterpolargl\":[{\"marker\":{\"colorbar\":{\"outlinewidth\":0,\"ticks\":\"\"}},\"type\":\"scatterpolargl\"}],\"scatterternary\":[{\"marker\":{\"colorbar\":{\"outlinewidth\":0,\"ticks\":\"\"}},\"type\":\"scatterternary\"}],\"surface\":[{\"colorbar\":{\"outlinewidth\":0,\"ticks\":\"\"},\"colorscale\":[[0.0,\"#0d0887\"],[0.1111111111111111,\"#46039f\"],[0.2222222222222222,\"#7201a8\"],[0.3333333333333333,\"#9c179e\"],[0.4444444444444444,\"#bd3786\"],[0.5555555555555556,\"#d8576b\"],[0.6666666666666666,\"#ed7953\"],[0.7777777777777778,\"#fb9f3a\"],[0.8888888888888888,\"#fdca26\"],[1.0,\"#f0f921\"]],\"type\":\"surface\"}],\"table\":[{\"cells\":{\"fill\":{\"color\":\"#EBF0F8\"},\"line\":{\"color\":\"white\"}},\"header\":{\"fill\":{\"color\":\"#C8D4E3\"},\"line\":{\"color\":\"white\"}},\"type\":\"table\"}]},\"layout\":{\"annotationdefaults\":{\"arrowcolor\":\"#2a3f5f\",\"arrowhead\":0,\"arrowwidth\":1},\"autotypenumbers\":\"strict\",\"coloraxis\":{\"colorbar\":{\"outlinewidth\":0,\"ticks\":\"\"}},\"colorscale\":{\"diverging\":[[0,\"#8e0152\"],[0.1,\"#c51b7d\"],[0.2,\"#de77ae\"],[0.3,\"#f1b6da\"],[0.4,\"#fde0ef\"],[0.5,\"#f7f7f7\"],[0.6,\"#e6f5d0\"],[0.7,\"#b8e186\"],[0.8,\"#7fbc41\"],[0.9,\"#4d9221\"],[1,\"#276419\"]],\"sequential\":[[0.0,\"#0d0887\"],[0.1111111111111111,\"#46039f\"],[0.2222222222222222,\"#7201a8\"],[0.3333333333333333,\"#9c179e\"],[0.4444444444444444,\"#bd3786\"],[0.5555555555555556,\"#d8576b\"],[0.6666666666666666,\"#ed7953\"],[0.7777777777777778,\"#fb9f3a\"],[0.8888888888888888,\"#fdca26\"],[1.0,\"#f0f921\"]],\"sequentialminus\":[[0.0,\"#0d0887\"],[0.1111111111111111,\"#46039f\"],[0.2222222222222222,\"#7201a8\"],[0.3333333333333333,\"#9c179e\"],[0.4444444444444444,\"#bd3786\"],[0.5555555555555556,\"#d8576b\"],[0.6666666666666666,\"#ed7953\"],[0.7777777777777778,\"#fb9f3a\"],[0.8888888888888888,\"#fdca26\"],[1.0,\"#f0f921\"]]},\"colorway\":[\"#636efa\",\"#EF553B\",\"#00cc96\",\"#ab63fa\",\"#FFA15A\",\"#19d3f3\",\"#FF6692\",\"#B6E880\",\"#FF97FF\",\"#FECB52\"],\"font\":{\"color\":\"#2a3f5f\"},\"geo\":{\"bgcolor\":\"white\",\"lakecolor\":\"white\",\"landcolor\":\"#E5ECF6\",\"showlakes\":true,\"showland\":true,\"subunitcolor\":\"white\"},\"hoverlabel\":{\"align\":\"left\"},\"hovermode\":\"closest\",\"mapbox\":{\"style\":\"light\"},\"paper_bgcolor\":\"white\",\"plot_bgcolor\":\"#E5ECF6\",\"polar\":{\"angularaxis\":{\"gridcolor\":\"white\",\"linecolor\":\"white\",\"ticks\":\"\"},\"bgcolor\":\"#E5ECF6\",\"radialaxis\":{\"gridcolor\":\"white\",\"linecolor\":\"white\",\"ticks\":\"\"}},\"scene\":{\"xaxis\":{\"backgroundcolor\":\"#E5ECF6\",\"gridcolor\":\"white\",\"gridwidth\":2,\"linecolor\":\"white\",\"showbackground\":true,\"ticks\":\"\",\"zerolinecolor\":\"white\"},\"yaxis\":{\"backgroundcolor\":\"#E5ECF6\",\"gridcolor\":\"white\",\"gridwidth\":2,\"linecolor\":\"white\",\"showbackground\":true,\"ticks\":\"\",\"zerolinecolor\":\"white\"},\"zaxis\":{\"backgroundcolor\":\"#E5ECF6\",\"gridcolor\":\"white\",\"gridwidth\":2,\"linecolor\":\"white\",\"showbackground\":true,\"ticks\":\"\",\"zerolinecolor\":\"white\"}},\"shapedefaults\":{\"line\":{\"color\":\"#2a3f5f\"}},\"ternary\":{\"aaxis\":{\"gridcolor\":\"white\",\"linecolor\":\"white\",\"ticks\":\"\"},\"baxis\":{\"gridcolor\":\"white\",\"linecolor\":\"white\",\"ticks\":\"\"},\"bgcolor\":\"#E5ECF6\",\"caxis\":{\"gridcolor\":\"white\",\"linecolor\":\"white\",\"ticks\":\"\"}},\"title\":{\"x\":0.05},\"xaxis\":{\"automargin\":true,\"gridcolor\":\"white\",\"linecolor\":\"white\",\"ticks\":\"\",\"title\":{\"standoff\":15},\"zerolinecolor\":\"white\",\"zerolinewidth\":2},\"yaxis\":{\"automargin\":true,\"gridcolor\":\"white\",\"linecolor\":\"white\",\"ticks\":\"\",\"title\":{\"standoff\":15},\"zerolinecolor\":\"white\",\"zerolinewidth\":2}}},\"title\":{\"text\":\"<b>Volatility Smile</b>\",\"x\":0.5,\"xanchor\":\"center\",\"y\":0.95,\"yanchor\":\"top\"},\"width\":1000,\"xaxis\":{\"range\":[0.5,1.5],\"tickformat\":\".1%\",\"title\":{\"text\":\"Moneyness\"}},\"yaxis\":{\"range\":[0.2,0.3],\"tickformat\":\".1%\",\"title\":{\"text\":\"Volatility\"}}},                        {\"responsive\": true}                    ).then(function(){\n",
       "                            \n",
       "var gd = document.getElementById('bf163fd6-2a7a-47d4-bed5-842650c3c42f');\n",
       "var x = new MutationObserver(function (mutations, observer) {{\n",
       "        var display = window.getComputedStyle(gd).display;\n",
       "        if (!display || display === 'none') {{\n",
       "            console.log([gd, 'removed!']);\n",
       "            Plotly.purge(gd);\n",
       "            observer.disconnect();\n",
       "        }}\n",
       "}});\n",
       "\n",
       "// Listen for the removal of the full notebook cells\n",
       "var notebookContainer = gd.closest('#notebook-container');\n",
       "if (notebookContainer) {{\n",
       "    x.observe(notebookContainer, {childList: true});\n",
       "}}\n",
       "\n",
       "// Listen for the clearing of the current output cell\n",
       "var outputEl = gd.closest('.output');\n",
       "if (outputEl) {{\n",
       "    x.observe(outputEl, {childList: true});\n",
       "}}\n",
       "\n",
       "                        })                };                });            </script>        </div>"
      ]
     },
     "metadata": {},
     "output_type": "display_data"
    }
   ],
   "source": [
    "# plot\n",
    "expiry = 1\n",
    "ref_date = dt.datetime(2018,1,1)\n",
    "expiry_date = ref_date + relativedelta(years=expiry)\n",
    "moneyness = np.linspace(.5, 1.5, num=100)\n",
    "strikes = np.array([i*forward_curve.value(ref_date,expiry_date) for i in moneyness])\n",
    "\n",
    "df_quotes = df_quote_table[df_quote_table.Expiry == expiry].copy()\n",
    "    \n",
    "fig_smile = go.Figure()\n",
    "sabr_param._set_param(calibrate(sabr_param,df_quote_table))\n",
    "vol_surf = mkt_data.VolatilitySurface('sabr_surf', ref_date, forward_curve, enums.DayCounterType.Act365Fixed, sabr_param)\n",
    "vols = [vol_surf.calc_implied_vol(expiry_date,x,ref_date) for x in strikes]        \n",
    "\n",
    "fig_smile.add_trace(go.Scatter(x= moneyness,y= vols \n",
    "                        ,mode = 'lines+markers'\n",
    "                      ,hovertemplate =\n",
    "                        '<br>Parametrization: {}'.format('SABR')\n",
    "                        +'<br>Moneyness:  %{x: .1%}' #+\\\n",
    "                        +'<br>Volatility: %{y: .1%}'\n",
    "                        +'<br>Expiry: {:,.2f} Yrs'.format(expiry)\n",
    "                        +'<extra></extra>',\n",
    "                        showlegend=False)\n",
    "                     )\n",
    "\n",
    "fig_smile.add_trace(go.Scatter(x=df_quotes.Strike, \n",
    "                               y= df_quotes.Ask, \n",
    "                               mode = 'markers',\n",
    "                               marker_symbol=106,\n",
    "                               marker_color='rgb(11, 83, 148)',\n",
    "                              hovertemplate = \n",
    "                                '<br>Ask Quote'\n",
    "                                +'<br>Moneyness:  %{x: .1%}' #+\\\n",
    "                                +'<br>Volatility: %{y: .1%}'\n",
    "                                +'<br>Expiry: {:,.2f} Yrs'.format(expiry)\n",
    "                                +'<extra></extra>',\n",
    "                              showlegend=False)\n",
    "                   \n",
    "                   )\n",
    "\n",
    "fig_smile.add_trace(go.Scatter(x=df_quotes.Strike, \n",
    "                               y= df_quotes.Bid, \n",
    "                               mode = 'markers',\n",
    "                               marker_symbol=105,\n",
    "                               marker_color='rgb(204,0,0)',\n",
    "                              hovertemplate = \n",
    "                                '<br>Bid Quote'\n",
    "                                +'<br>Moneyness:  %{x: .1%}' #+\\\n",
    "                                +'<br>Volatility: %{y: .1%}'\n",
    "                                +'<br>Expiry: {:,.2f} Yrs'.format(expiry)\n",
    "                                +'<extra></extra>',\n",
    "                              showlegend=False)\n",
    "                   \n",
    "                   )\n",
    "\n",
    "\n",
    "fig_smile.update_layout(title={\n",
    "                      'text': \"<b>Volatility Smile</b>\",\n",
    "                      'y':0.95,\n",
    "                      'x':0.5,\n",
    "                      'xanchor': 'center',\n",
    "                      'yanchor': 'top'\n",
    "                        }\n",
    "                ,width=1000\n",
    "                ,height=500\n",
    "                ,xaxis_title='Moneyness'\n",
    "                ,xaxis_tickformat = '.1%'\n",
    "                ,xaxis_range=[moneyness.min(),moneyness.max()]\n",
    "                ,yaxis_title='Volatility'\n",
    "                ,yaxis_tickformat = '.1%'\n",
    "                ,yaxis_range=[.2,.3]\n",
    "                ,font=dict(\n",
    "                  family=\"Courier New, monospace\"\n",
    "                  ,size=10\n",
    "                  )\n",
    "                ,margin=dict(l=65, r=50, b=65, t=90)\n",
    ")\n",
    "fig_smile.show()"
   ]
  },
  {
   "cell_type": "code",
   "execution_count": 77,
   "metadata": {
    "ExecuteTime": {
     "end_time": "2021-12-03T13:30:24.590963Z",
     "start_time": "2021-12-03T13:30:24.418914Z"
    }
   },
   "outputs": [
    {
     "ename": "ValueError",
     "evalue": "Method 'lm' doesn't work when the number of residuals is less than the number of variables.",
     "output_type": "error",
     "traceback": [
      "\u001b[1;31m---------------------------------------------------------------------------\u001b[0m",
      "\u001b[1;31mValueError\u001b[0m                                Traceback (most recent call last)",
      "\u001b[1;32m<ipython-input-77-fbce2627a506>\u001b[0m in \u001b[0;36m<module>\u001b[1;34m\u001b[0m\n\u001b[1;32m----> 1\u001b[1;33m \u001b[0msvi_param\u001b[0m\u001b[1;33m.\u001b[0m\u001b[0m_set_param\u001b[0m\u001b[1;33m(\u001b[0m\u001b[0mcalibrate\u001b[0m\u001b[1;33m(\u001b[0m\u001b[0msvi_param\u001b[0m\u001b[1;33m,\u001b[0m\u001b[0mdf_quote_table\u001b[0m\u001b[1;33m)\u001b[0m\u001b[1;33m)\u001b[0m\u001b[1;33m\u001b[0m\u001b[1;33m\u001b[0m\u001b[0m\n\u001b[0m",
      "\u001b[1;32m<ipython-input-33-250e0b59198b>\u001b[0m in \u001b[0;36mcalibrate\u001b[1;34m(vol_param, quotes)\u001b[0m\n\u001b[0;32m      9\u001b[0m \u001b[1;33m\u001b[0m\u001b[0m\n\u001b[0;32m     10\u001b[0m \u001b[1;33m\u001b[0m\u001b[0m\n\u001b[1;32m---> 11\u001b[1;33m     \u001b[0mresult\u001b[0m \u001b[1;33m=\u001b[0m \u001b[0mleast_squares\u001b[0m\u001b[1;33m(\u001b[0m\u001b[0mcost_function\u001b[0m\u001b[1;33m,\u001b[0m\u001b[0mvol_param\u001b[0m\u001b[1;33m.\u001b[0m\u001b[0m_x\u001b[0m\u001b[1;33m,\u001b[0m\u001b[0mmethod\u001b[0m\u001b[1;33m=\u001b[0m\u001b[1;34m'lm'\u001b[0m\u001b[1;33m,\u001b[0m\u001b[0mdiff_step\u001b[0m\u001b[1;33m=\u001b[0m\u001b[1;36m1e-3\u001b[0m\u001b[1;33m)\u001b[0m\u001b[1;33m\u001b[0m\u001b[1;33m\u001b[0m\u001b[0m\n\u001b[0m\u001b[0;32m     12\u001b[0m \u001b[1;33m\u001b[0m\u001b[0m\n\u001b[0;32m     13\u001b[0m     \u001b[1;32mreturn\u001b[0m \u001b[0mresult\u001b[0m\u001b[1;33m.\u001b[0m\u001b[0mx\u001b[0m\u001b[1;33m\u001b[0m\u001b[1;33m\u001b[0m\u001b[0m\n",
      "\u001b[1;32m~\\anaconda3\\lib\\site-packages\\scipy\\optimize\\_lsq\\least_squares.py\u001b[0m in \u001b[0;36mleast_squares\u001b[1;34m(fun, x0, jac, bounds, method, ftol, xtol, gtol, x_scale, loss, f_scale, diff_step, tr_solver, tr_options, jac_sparsity, max_nfev, verbose, args, kwargs)\u001b[0m\n\u001b[0;32m    828\u001b[0m \u001b[1;33m\u001b[0m\u001b[0m\n\u001b[0;32m    829\u001b[0m     \u001b[1;32mif\u001b[0m \u001b[0mmethod\u001b[0m \u001b[1;33m==\u001b[0m \u001b[1;34m'lm'\u001b[0m \u001b[1;32mand\u001b[0m \u001b[0mm\u001b[0m \u001b[1;33m<\u001b[0m \u001b[0mn\u001b[0m\u001b[1;33m:\u001b[0m\u001b[1;33m\u001b[0m\u001b[1;33m\u001b[0m\u001b[0m\n\u001b[1;32m--> 830\u001b[1;33m         raise ValueError(\"Method 'lm' doesn't work when the number of \"\n\u001b[0m\u001b[0;32m    831\u001b[0m                          \"residuals is less than the number of variables.\")\n\u001b[0;32m    832\u001b[0m \u001b[1;33m\u001b[0m\u001b[0m\n",
      "\u001b[1;31mValueError\u001b[0m: Method 'lm' doesn't work when the number of residuals is less than the number of variables."
     ]
    }
   ],
   "source": [
    "svi_param._set_param(calibrate(svi_param,df_quote_table))"
   ]
  },
  {
   "cell_type": "code",
   "execution_count": 81,
   "metadata": {
    "ExecuteTime": {
     "end_time": "2021-12-03T13:35:07.664527Z",
     "start_time": "2021-12-03T13:35:07.538163Z"
    }
   },
   "outputs": [
    {
     "ename": "AttributeError",
     "evalue": "'VolatilityParametrizationSSVI' object has no attribute '_set_param'",
     "output_type": "error",
     "traceback": [
      "\u001b[1;31m---------------------------------------------------------------------------\u001b[0m",
      "\u001b[1;31mAttributeError\u001b[0m                            Traceback (most recent call last)",
      "\u001b[1;32m<ipython-input-81-d751a6bb0d44>\u001b[0m in \u001b[0;36m<module>\u001b[1;34m\u001b[0m\n\u001b[1;32m----> 1\u001b[1;33m \u001b[0mssvi_param\u001b[0m\u001b[1;33m.\u001b[0m\u001b[0m_set_param\u001b[0m\u001b[1;33m(\u001b[0m\u001b[0mcalibrate\u001b[0m\u001b[1;33m(\u001b[0m\u001b[0mssvi_param\u001b[0m\u001b[1;33m,\u001b[0m\u001b[0mdf_quote_table\u001b[0m\u001b[1;33m)\u001b[0m\u001b[1;33m)\u001b[0m\u001b[1;33m\u001b[0m\u001b[1;33m\u001b[0m\u001b[0m\n\u001b[0m",
      "\u001b[1;31mAttributeError\u001b[0m: 'VolatilityParametrizationSSVI' object has no attribute '_set_param'"
     ]
    }
   ],
   "source": [
    "ssvi_param._set_param(calibrate(ssvi_param,df_quote_table))"
   ]
  },
  {
   "cell_type": "code",
   "execution_count": 52,
   "metadata": {
    "ExecuteTime": {
     "end_time": "2021-12-03T13:03:52.521983Z",
     "start_time": "2021-12-03T13:03:52.347447Z"
    }
   },
   "outputs": [],
   "source": [
    "vol_surf = mkt_data.VolatilitySurface('_surf', refdate, forward_curve, enums.DayCounterType.Act365Fixed, svi_param)\n",
    "vols = [vol_surf.calc_implied_vol(refdate+relativedelta(years=1),x,refdate) for x in strikes]"
   ]
  },
  {
   "cell_type": "code",
   "execution_count": 53,
   "metadata": {
    "ExecuteTime": {
     "end_time": "2021-12-03T13:03:54.125788Z",
     "start_time": "2021-12-03T13:03:53.970205Z"
    }
   },
   "outputs": [
    {
     "data": {
      "text/plain": [
       "[0.1899877287331567,\n",
       " 0.13067704706536457,\n",
       " 0.02519320525480939,\n",
       " 0.07249891132249006,\n",
       " 0.1899877287331567,\n",
       " 0.13067704706536457,\n",
       " 0.02519320525480939,\n",
       " 0.07249891132249006]"
      ]
     },
     "execution_count": 53,
     "metadata": {},
     "output_type": "execute_result"
    }
   ],
   "source": [
    "vols"
   ]
  },
  {
   "cell_type": "code",
   "execution_count": 29,
   "metadata": {
    "ExecuteTime": {
     "end_time": "2021-12-03T12:59:27.939366Z",
     "start_time": "2021-12-03T12:59:27.549323Z"
    },
    "code_folding": [
     0,
     6,
     9,
     13,
     16
    ]
   },
   "outputs": [
    {
     "data": {
      "application/vnd.jupyter.widget-view+json": {
       "model_id": "5f0ce37463c74f0bb5937ec6ab6ab972",
       "version_major": 2,
       "version_minor": 0
      },
      "text/plain": [
       "HBox(children=(VBox(children=(Label(value='Set Chart Area:'), FloatRangeSlider(value=(0.4, 1.6), continuous_up…"
      ]
     },
     "metadata": {},
     "output_type": "display_data"
    },
    {
     "data": {
      "application/vnd.jupyter.widget-view+json": {
       "model_id": "5f01776ea73643dfa884dc1bc640827a",
       "version_major": 2,
       "version_minor": 0
      },
      "text/plain": [
       "HBox(children=(Button(description='New Plot', style=ButtonStyle()), Button(description='Add Trace(s)', style=B…"
      ]
     },
     "metadata": {},
     "output_type": "display_data"
    },
    {
     "data": {
      "application/vnd.jupyter.widget-view+json": {
       "model_id": "5a858f0fe7da4139a18cbec772bdfc3a",
       "version_major": 2,
       "version_minor": 0
      },
      "text/plain": [
       "Output()"
      ]
     },
     "metadata": {},
     "output_type": "display_data"
    }
   ],
   "source": [
    "# Comparing Volatility Smiles – Rivapy\n",
    "\n",
    "# create widgets\n",
    "style = {'description_width': 'initial'}\n",
    "\n",
    "keys_list = list(vol_params_dict.keys())\n",
    "SelectMultipleParams = widgets.SelectMultiple(options=keys_list,value=[keys_list[0]],description='Parametrization',\n",
    "                                                disabled=False, continuous_update=False,readout=True,style=style)\n",
    "\n",
    "FloatRangeSliderStrikes = widgets.FloatRangeSlider(value=[.4, 1.6], min=0, max=3.0, step=0.05, description='Strike Range', \n",
    "                                                   disabled=False, continuous_update=False,orientation='horizontal',\n",
    "                                                   readout=True, readout_format='.1f',style=style)\n",
    "\n",
    "DatePickerRefDate = widgets.DatePicker(description='Ref Date',value = dt.date(2017,1,1), disabled=False, continuous_update=False,\n",
    "                                                   readout=True,style=style)\n",
    "\n",
    "DatePickerExpiryDate = widgets.DatePicker(description='Expiry Date',value = dt.date(2018,1,1), disabled=False, continuous_update=False,\n",
    "                                                   readout=True,style=style)\n",
    "\n",
    "\n",
    "ButtonNewPlot = widgets.Button(description=\"New Plot\")\n",
    "\n",
    "ButtonAddTrace = widgets.Button(description=\"Add Trace(s)\")\n",
    "\n",
    "global OutputWidget\n",
    "OutputWidget = widgets.Output()\n",
    "\n",
    "def calibrate(vol_param, quotes):\n",
    "    def cost_function(x):\n",
    "        vol_param._set_param(x)\n",
    "        quotes['Vols'] = [vol_param.calc_implied_vol(expiry,strike) for expiry, strike in zip(quotes['Expiry'],quotes['Strike'])]\n",
    "        quotes['Dist_Ask']  = [max(vol-ask,0) for ask, vol in zip(quotes['Ask'],quotes['Vols'])]\n",
    "        quotes['Dist_Bid']  = [max(bid-vol,0) for bid, vol in zip(quotes['Bid'],quotes['Vols'])]\n",
    "        quotes['Dist_Total'] = quotes['Dist_Ask']+quotes['Dist_Bid']\n",
    "        return np.copy(quotes['Dist_Total'].values)\n",
    "    \n",
    "    \n",
    "    result = least_squares(cost_function,vol_param._x,method='lm',diff_step=1e-3)\n",
    "    \n",
    "    return result.x\n",
    "\n",
    "def create_plot(param_list,strike_range, ref_date, expiry_date):    \n",
    "    \n",
    "    moneyness = np.linspace(strike_range[0], strike_range[1], num=100)\n",
    "    strikes = np.array([i*forward_curve.value(ref_date,expiry_date) for i in moneyness])\n",
    "    expiry = (expiry_date-ref_date).days/365.25\n",
    "    \n",
    "    for p in param_list:\n",
    "        param = vol_params_dict[p]\n",
    "        if p not in ['Flat','Term','SSVI']:#haben alle kein set param\n",
    "            param._set_param(calibrate(sabr_param,df_quote_table))\n",
    "        vol_surf = mkt_data.VolatilitySurface(p+'_surf', ref_date, forward_curve, enums.DayCounterType.Act365Fixed, param)\n",
    "        vols = [vol_surf.calc_implied_vol(expiry_date,x,ref_date) for x in strikes]        \n",
    "    \n",
    "        fig_smile.add_trace(go.Scatter(x= moneyness,y= vols \n",
    "                                ,mode = 'lines+markers'\n",
    "                              ,hovertemplate =\n",
    "                                '<br>Parametrization: {}'.format(p)\n",
    "                                +'<br>Moneyness:  %{x: .1%}' #+\\\n",
    "                                +'<br>Volatility: %{y: .1%}'\n",
    "                                +'<br>Expiry: {:,.2f} Yrs'.format(expiry)\n",
    "                                +'<extra></extra>',\n",
    "                                showlegend=False)\n",
    "                             )\n",
    "\n",
    "\n",
    "    fig_smile.update_layout(title={\n",
    "                          'text': \"<b>Volatility Smile</b>\",\n",
    "                          'y':0.95,\n",
    "                          'x':0.5,\n",
    "                          'xanchor': 'center',\n",
    "                          'yanchor': 'top'\n",
    "                            }\n",
    "                    ,width=1000\n",
    "                    ,height=500\n",
    "                    ,xaxis_title='Moneyness'\n",
    "                    ,xaxis_tickformat = '.1%'\n",
    "                    ,xaxis_range=[moneyness.min(),moneyness.max()]\n",
    "                    ,yaxis_title='Volatility'\n",
    "                    ,yaxis_tickformat = '.1%'\n",
    "                    ,yaxis_range=[0,1]\n",
    "                    ,font=dict(\n",
    "                      family=\"Courier New, monospace\"\n",
    "                      ,size=10\n",
    "                      )\n",
    "                    ,margin=dict(l=65, r=50, b=65, t=90)\n",
    "    )\n",
    "    fig_smile.show()\n",
    "\n",
    "def plot(param_list,strike_range, ref_date, expiry_date):\n",
    "#     function is called by eventhandler, i.e. if input parameter changes\n",
    "\n",
    "#     clear output\n",
    "    OutputWidget.clear_output()\n",
    "\n",
    "#     plot surface\n",
    "    create_plot(param_list,strike_range, ref_date, expiry_date)\n",
    "    \n",
    "\n",
    "def eventhandler(change):\n",
    "          \n",
    "    param_list = list(SelectMultipleParams.value)\n",
    "    strike_range = FloatRangeSliderStrikes.value\n",
    "    ref_date = dt.datetime.combine(DatePickerRefDate.value, dt.datetime.min.time())\n",
    "    expiry_date = dt.datetime.combine(DatePickerExpiryDate.value, dt.datetime.min.time())\n",
    "    \n",
    "#     call plot function\n",
    "    with OutputWidget:\n",
    "        plot(param_list,strike_range, ref_date, expiry_date)\n",
    "        \n",
    "def eventhandler2(change):\n",
    "    global fig_smile\n",
    "    \n",
    "    fig_smile = go.Figure()\n",
    "    \n",
    "    param_list = list(SelectMultipleParams.value)\n",
    "    strike_range = FloatRangeSliderStrikes.value\n",
    "    ref_date = dt.datetime.combine(DatePickerRefDate.value, dt.datetime.min.time())\n",
    "    expiry_date = dt.datetime.combine(DatePickerExpiryDate.value, dt.datetime.min.time())\n",
    "    \n",
    "    with OutputWidget:\n",
    "        plot(param_list,strike_range, ref_date, expiry_date)\n",
    "\n",
    "# bind eventhandler to widgets\n",
    "ButtonAddTrace.on_click(eventhandler)\n",
    "ButtonNewPlot.on_click(eventhandler2)\n",
    "\n",
    "# widgets groups\n",
    "WidgetsGrpV1 = widgets.VBox(children=[widgets.Label('Set Chart Area:'),FloatRangeSliderStrikes])\n",
    "WidgetsGrpV2 = widgets.VBox(children=[widgets.Label('Set Reference and Expiry Date:'),DatePickerRefDate,DatePickerExpiryDate])\n",
    "WidgetsGrpV3 = widgets.VBox(children=[widgets.Label('Select Parametrization(s):'),SelectMultipleParams])\n",
    "WidgetsGrpH1 = widgets.HBox(children=[WidgetsGrpV1,WidgetsGrpV2,WidgetsGrpV3])\n",
    "WidgetsGrpH2 = widgets.HBox(children=[ButtonNewPlot,ButtonAddTrace])\n",
    "\n",
    "display(WidgetsGrpH1,WidgetsGrpH2)\n",
    "display(OutputWidget)"
   ]
  },
  {
   "cell_type": "code",
   "execution_count": null,
   "metadata": {
    "ExecuteTime": {
     "end_time": "2021-12-03T12:58:24.689407Z",
     "start_time": "2021-12-03T12:58:23.820706Z"
    }
   },
   "outputs": [],
   "source": [
    "mkt_data.EquityOptionQuoteTable('Test',dt.datetime(2020,1,1,0,0,0),1.0,'Adidas','Adidas',enums.SecuritizationLevel.COLLATERALIZED,enums.Currency.EUR)"
   ]
  },
  {
   "cell_type": "markdown",
   "metadata": {},
   "source": [
    "## Volatility Surface\n",
    "The forward curve and the parametrization can now be combined into a VolatilitySurface"
   ]
  },
  {
   "cell_type": "code",
   "execution_count": null,
   "metadata": {
    "ExecuteTime": {
     "end_time": "2021-12-03T12:58:24.691402Z",
     "start_time": "2021-12-03T12:58:13.327Z"
    }
   },
   "outputs": [],
   "source": [
    "obj_id = 'TEST_SURFACE'\n",
    "vol_surf = mkt_data.VolatilitySurface(obj_id, refdate, forward_curve, enums.DayCounterType.Act365Fixed, sabr_param)"
   ]
  },
  {
   "cell_type": "markdown",
   "metadata": {},
   "source": [
    "To compute an implied volatility, one may use the method *calcImpliedVol*. Note that this method applies a sticky-strike handling of volatilities, i.e. it assumes that the implied volatility given a certain strike is independent of current forward values which may differ from the forwards when the volatility surface was calibrated."
   ]
  },
  {
   "cell_type": "code",
   "execution_count": null,
   "metadata": {
    "ExecuteTime": {
     "end_time": "2021-12-03T12:58:24.692397Z",
     "start_time": "2021-12-03T12:58:13.331Z"
    }
   },
   "outputs": [],
   "source": [
    "# vol = vol_surf.calc_implied_vol(refdate,refdate + dt.timedelta(days=180),120)\n",
    "vol = vol_surf.calc_implied_vol(refdate + dt.timedelta(days=180),120,refdate)\n",
    "print(vol)"
   ]
  },
  {
   "cell_type": "markdown",
   "metadata": {},
   "source": [
    "By executing the following command line, the volatility surface is plotted."
   ]
  },
  {
   "cell_type": "code",
   "execution_count": null,
   "metadata": {
    "ExecuteTime": {
     "end_time": "2021-12-03T12:58:24.693394Z",
     "start_time": "2021-12-03T12:58:13.334Z"
    },
    "code_folding": [
     0
    ],
    "tags": []
   },
   "outputs": [],
   "source": [
    "#\n",
    "refdate = dt.datetime(2017, 1, 1, 0, 0, 0)\n",
    "expiries = [\n",
    "    dt.datetime(2017, 2, 1, 0, 0, 0),\n",
    "    dt.datetime(2018, 1, 1, 0, 0, 0),\n",
    "    dt.datetime(2019, 1, 1, 0, 0, 0),\n",
    "    dt.datetime(2020, 1, 1, 0, 0, 0)\n",
    "]\n",
    "\n",
    "# strikes = list(s_range(80, 120, 100))\n",
    "moneyness = np.linspace(0.5, 1.5, 100)\n",
    "\n",
    "y = moneyness\n",
    "x = ttm\n",
    "\n",
    "term_structure = []\n",
    "for i in moneyness:\n",
    "    temp = []\n",
    "    for j in expiries:\n",
    "        strike = i * forward_curve.value(refdate, j)\n",
    "        temp.append(vol_surf.calc_implied_vol(j, strike, refdate))\n",
    "    term_structure.append(temp)\n",
    "\n",
    "fig = go.Figure(data=[go.Surface(x=x, y=y,z=term_structure\n",
    "                        ,contours = {\"x\": {\"show\": True,\"size\": 0.1, \"color\":\"red\"},\n",
    "                                    \"y\": {\"show\": True,\"size\": 0.1, \"color\":\"red\"},}\n",
    "                        ,opacity = .75\n",
    "                        ,hovertemplate =\n",
    "                        'Moneyness:  %{y: .2%}' +\\\n",
    "                        '<br>Maturity (yrs): %{x: .1f}' +\\\n",
    "                        '<br>Volatility: %{z: .2f}<extra></extra>'\n",
    "                     ,colorscale = 'temps')\n",
    "                     ])\n",
    "\n",
    "fig.update_layout(\n",
    "    title={\n",
    "        'text': \"<b>Volatility Surface</b>\",\n",
    "        'y': 0.95,\n",
    "        'x': 0.5,\n",
    "        'xanchor': 'center',\n",
    "        'yanchor': 'top'\n",
    "    }\n",
    "    # ,autosize=True\n",
    "    ,\n",
    "    width=1000,\n",
    "    height=500,\n",
    "    scene=dict(xaxis_title='Maturity (yrs)',\n",
    "               xaxis_tickformat='.1f',\n",
    "               xaxis_autorange='reversed',\n",
    "               yaxis_title='Moneyness',\n",
    "               yaxis_tickformat='.2%',\n",
    "               zaxis_title='Volatility',\n",
    "               zaxis_tickformat='.2%'),\n",
    "    font=dict(family=\"Courier New, monospace\", size=10),\n",
    "    margin=dict(l=65, r=50, b=65, t=90))\n",
    "\n",
    "fig.show()"
   ]
  },
  {
   "cell_type": "markdown",
   "metadata": {},
   "source": [
    "### Stickiness assumptions"
   ]
  },
  {
   "cell_type": "code",
   "execution_count": null,
   "metadata": {
    "ExecuteTime": {
     "end_time": "2021-12-03T12:58:24.694392Z",
     "start_time": "2021-12-03T12:58:13.339Z"
    }
   },
   "outputs": [],
   "source": [
    "obj_id_shifted = 'TEST_SURFACE_FWD_SHIFTED'\n",
    "forward_curve_shifted = mkt_data.EquityForwardCurve(1.2*spot,dc,bc,div_table)\n",
    "\n",
    "vol_surf = mkt_data.VolatilitySurface(obj_id, refdate, forward_curve, enums.DayCounterType.Act365Fixed, sabr_param)\n",
    "vol = vol_surf.calc_implied_vol(refdate + dt.timedelta(days=180),120,refdate)\n",
    "\n",
    "mkt_data.VolatilitySurface.set_stickyness(enums.VolatilityStickyness.StickyXStrike)\n",
    "vol_surf_shifted_stickyxstrike = mkt_data.VolatilitySurface(obj_id_shifted, refdate, forward_curve_shifted, enums.DayCounterType.Act365Fixed, sabr_param)\n",
    "vol_shifted_stickyxstrike = vol_surf_shifted_stickyxstrike.calc_implied_vol(refdate + dt.timedelta(days=180),120,refdate)\n",
    "\n",
    "mkt_data.VolatilitySurface.set_stickyness(enums.VolatilityStickyness.StickyStrike)\n",
    "vol_surf_shifted_stickystrike = mkt_data.VolatilitySurface(obj_id_shifted, refdate, forward_curve_shifted, enums.DayCounterType.Act365Fixed, sabr_param)\n",
    "vol_shifted_stickystrike = vol_surf_shifted_stickystrike.calc_implied_vol(refdate + dt.timedelta(days=180),120,refdate)\n",
    "\n",
    "mkt_data.VolatilitySurface.set_stickyness(enums.VolatilityStickyness.StickyFwdMoneyness)\n",
    "vol_surf_shifted_stickyfwdmoneyness = mkt_data.VolatilitySurface(obj_id_shifted, refdate, forward_curve_shifted, enums.DayCounterType.Act365Fixed, sabr_param)\n",
    "vol_surf_shifted_stickyfwdmoneyness = vol_surf_shifted_stickyfwdmoneyness.calc_implied_vol(refdate + dt.timedelta(days=180),120,refdate)\n",
    "\n",
    "mkt_data.VolatilitySurface.set_stickyness(enums.VolatilityStickyness.NONE)\n",
    "vol_surf_shifted_none = mkt_data.VolatilitySurface(obj_id_shifted, refdate, forward_curve_shifted, enums.DayCounterType.Act365Fixed, sabr_param)\n",
    "vol_surf_shifted_none = vol_surf_shifted_none.calc_implied_vol(refdate + dt.timedelta(days=180),120,refdate)\n",
    "\n",
    "print(vol)\n",
    "print(vol_shifted_stickyxstrike)\n",
    "print(vol_shifted_stickystrike)\n",
    "print(vol_surf_shifted_stickyfwdmoneyness)\n",
    "print(vol_surf_shifted_none)"
   ]
  },
  {
   "cell_type": "code",
   "execution_count": null,
   "metadata": {},
   "outputs": [],
   "source": []
  }
 ],
 "metadata": {
  "kernelspec": {
   "display_name": "Python 3",
   "language": "python",
   "name": "python3"
  },
  "language_info": {
   "codemirror_mode": {
    "name": "ipython",
    "version": 3
   },
   "file_extension": ".py",
   "mimetype": "text/x-python",
   "name": "python",
   "nbconvert_exporter": "python",
   "pygments_lexer": "ipython3",
   "version": "3.8.8"
  },
  "toc": {
   "base_numbering": 1,
   "nav_menu": {
    "height": "175px",
    "width": "252px"
   },
   "number_sections": true,
   "sideBar": true,
   "skip_h1_title": true,
   "title_cell": "Table of Contents",
   "title_sidebar": "Contents",
   "toc_cell": false,
   "toc_position": {
    "height": "calc(100% - 180px)",
    "left": "10px",
    "top": "150px",
    "width": "384px"
   },
   "toc_section_display": "block",
   "toc_window_display": true
  },
  "varInspector": {
   "cols": {
    "lenName": 16,
    "lenType": 16,
    "lenVar": 40
   },
   "kernels_config": {
    "python": {
     "delete_cmd_postfix": "",
     "delete_cmd_prefix": "del ",
     "library": "var_list.py",
     "varRefreshCmd": "print(var_dic_list())"
    },
    "r": {
     "delete_cmd_postfix": ") ",
     "delete_cmd_prefix": "rm(",
     "library": "var_list.r",
     "varRefreshCmd": "cat(var_dic_list()) "
    }
   },
   "types_to_exclude": [
    "module",
    "function",
    "builtin_function_or_method",
    "instance",
    "_Feature"
   ],
   "window_display": false
  }
 },
 "nbformat": 4,
 "nbformat_minor": 2
}
