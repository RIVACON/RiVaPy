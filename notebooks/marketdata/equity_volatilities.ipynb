{
 "cells": [
  {
   "cell_type": "markdown",
   "metadata": {},
   "source": [
    "![](../images/rivacon_frontmark_combined_header.png)"
   ]
  },
  {
   "cell_type": "markdown",
   "metadata": {},
   "source": [
    "# Equity Volatility Surfaces"
   ]
  },
  {
   "cell_type": "code",
   "execution_count": 126,
   "metadata": {
    "ExecuteTime": {
     "end_time": "2021-10-30T13:30:56.518361Z",
     "start_time": "2021-10-30T13:30:56.500409Z"
    },
    "code_folding": [
     0
    ]
   },
   "outputs": [],
   "source": [
    "# import libs\n",
    "import matplotlib\n",
    "matplotlib.use('nbagg')\n",
    "import rivapy\n",
    "from rivapy import marketdata as mkt_data\n",
    "from rivapy import enums as enums\n",
    "# import pyvacon\n",
    "import datetime as dt\n",
    "import math\n",
    "import numpy as np\n",
    "from mpl_toolkits.mplot3d import Axes3D\n",
    "from matplotlib import cm\n",
    "import plotly.graph_objects as go\n",
    "import ipywidgets as widgets\n",
    "#the next lin is a jupyter internal command to show the matplotlib graphs within the notebook\n",
    "#%matplotlib inline"
   ]
  },
  {
   "cell_type": "markdown",
   "metadata": {},
   "source": [
    "## General Remarks\n",
    "An equity volatility surface is an object providing for arbitrary expiries and strikes implied volatilities. The volatility surfaces provided by the analytics library are parametrized w.r.t. the so-called X-strikes, i.e. one has to put in a strike w.r.t. the X-variable which is the driving process of the spot $S$, i.e.\n",
    "$$ S_t=(F_t-D_t)X_t+D_t$$\n",
    "where $F_t$ is the risky forward and $D_t$ the cash dividends, see [Buehler](https://papers.ssrn.com/sol3/papers.cfm?abstract_id=1141877) for a more detailed discussion. \n",
    "\n",
    "To create a volatility surface one needs two components:\n",
    "- A reference forward curve (typically the forward curve which was used to compute the implieds from quoted prices)\n",
    "- A volatility parametrization\n",
    "\n"
   ]
  },
  {
   "cell_type": "markdown",
   "metadata": {},
   "source": [
    "## Creating Forward Curve\n",
    "We create a dummy forward curve as shown in the  [forward_curve](equity_forwardcurve.ipynb) notebook which will be used in all subsequent volatility surface constructions."
   ]
  },
  {
   "cell_type": "code",
   "execution_count": 109,
   "metadata": {
    "ExecuteTime": {
     "end_time": "2021-10-30T13:21:47.266359Z",
     "start_time": "2021-10-30T13:21:47.245415Z"
    }
   },
   "outputs": [],
   "source": [
    "refdate = dt.datetime(2017,1,1)\n",
    "\n",
    "#dividend table neede fo forward curve\n",
    "object_id = \"TEST_DIV\" \n",
    "ex_dates = [dt.datetime(2018,3,29), dt.datetime(2019,3,29), dt.datetime(2020,3,29), dt.datetime(2021,3,29)]\n",
    "pay_dates = [dt.datetime(2018,4,1), dt.datetime(2019,4,1), dt.datetime(2020,4,1), dt.datetime(2021,4,1)]\n",
    "tax_factors = [1.0, 1.0, 1.0, 1.0]\n",
    "div_yield = [0, 0.005, 0.01, 0.01]\n",
    "div_cash = [3.0, 2.0, 1.0, 0.0]\n",
    "div_table = rivapy.marketdata.DividendTable(object_id, refdate, ex_dates, pay_dates, div_yield, div_cash, tax_factors)\n",
    "\n",
    "#discount- and borrowing curve needed for forward curve\n",
    "dates = [refdate + dt.timedelta(days=x) for x in [0,10]]\n",
    "df = [1.0,1.0]\n",
    "dc = mkt_data.DiscountCurve(object_id, refdate, dates, df, \n",
    "                             enums.InterpolationType.HAGAN_DF, enums.ExtrapolationType.NONE, enums.DayCounterType.Act365Fixed)\n",
    "bc = mkt_data.DiscountCurve(object_id, refdate, dates, df, \n",
    "                             enums.InterpolationType.HAGAN_DF, enums.ExtrapolationType.NONE, enums.DayCounterType.Act365Fixed)\n",
    "spot = 100.0\n",
    "\n",
    "#forward curve\n",
    "forward_curve = mkt_data.EquityForwardCurve(spot, dc, bc, div_table)"
   ]
  },
  {
   "cell_type": "markdown",
   "metadata": {},
   "source": [
    "## Volatility Parametrizations\n",
    "\n",
    "The volatility parametrization provides the method *calc_implied_vol* functionality to retrieve for each x-strike and time-to-maturity (in year fractions) the implied volatility. This method is used internally in the volatility surface in all methods where a implied volatility is computed.\n",
    "We will discuss the different available parametrizations in this subsection.\n",
    "\n",
    "### Flat volatility\n",
    "To setup a flat volatility, one may use the VolatilityParametrizationFlat"
   ]
  },
  {
   "cell_type": "code",
   "execution_count": 3,
   "metadata": {
    "ExecuteTime": {
     "end_time": "2021-10-29T15:42:03.299569Z",
     "start_time": "2021-10-29T15:42:03.277627Z"
    }
   },
   "outputs": [],
   "source": [
    "flat_param = mkt_data.VolatilityParametrizationFlat(0.3)"
   ]
  },
  {
   "cell_type": "markdown",
   "metadata": {},
   "source": [
    "### Term structure volatility\n",
    "To create a volatility which has only a term structure and no strike dependency one may use this parametrization type. This parametrization needs a vector of expiry times (given as year fractions which are interpreted as year fractions w.r.t. the day counter specified in th volatility surface) and forward at-the-money volatilities, i.e. X-strike=1.0."
   ]
  },
  {
   "cell_type": "code",
   "execution_count": 4,
   "metadata": {
    "ExecuteTime": {
     "end_time": "2021-10-29T15:42:03.315527Z",
     "start_time": "2021-10-29T15:42:03.305554Z"
    }
   },
   "outputs": [],
   "source": [
    "ttm = [1.0/12.0, 1.0, 2.0, 3.0]\n",
    "fwd_atm_vols =  [0.3, 0.28, 0.25, 0.24]\n",
    "term_param = mkt_data.VolatilityParametrizationTerm(ttm,fwd_atm_vols)"
   ]
  },
  {
   "cell_type": "markdown",
   "metadata": {},
   "source": [
    "### SSVI\n",
    "This parametrization is inspired by the volatility structure provided by stochastic volatility models. The total variance $w(k,t)$ for a strike log strike $k$ and time-to-maturity $t$ is given by\n",
    "$$ w(k,t) = \\frac{\\theta_t}{2}\\left( 1+\\rho\\phi(\\theta_t)k+\\sqrt{(\\phi(\\theta_t)k+\\rho)^2+(1-\\rho^2)}  \\right) $$ \n",
    "and \n",
    "$$ \\phi(\\theta_t) = \\frac{\\eta}{\\theta_t^\\gamma(1+\\theta_t)^{1-\\gamma}} $$\n",
    "for parameters $\\rho$, $\\eta$, $\\gamma$ and given atm implied total variances $\\theta_t:=\\sigma^2(t)t$. The term structure of implied total variances is internally approximated by interpolation from given atm volatilities. The nice property of this surface is that there are very simple conditions on the parameters to guarantee that the surface is free of arbitrage, see [gatheral_jacquier_svi](https://papers.ssrn.com/sol3/papers.cfm?abstract_id=2033323)."
   ]
  },
  {
   "cell_type": "code",
   "execution_count": 5,
   "metadata": {
    "ExecuteTime": {
     "end_time": "2021-10-29T15:42:03.362404Z",
     "start_time": "2021-10-29T15:42:03.325502Z"
    }
   },
   "outputs": [],
   "source": [
    "gamma = 0.5 # responsible for the \"rate of decay\"\n",
    "rho = -0.7 # responsible for the skewness of the vol_surface\n",
    "eta = 1.0 # responsible for the curvature\n",
    "ssvi_param = mkt_data.VolatilityParametrizationSSVI(ttm, fwd_atm_vols, rho, eta, gamma)"
   ]
  },
  {
   "cell_type": "code",
   "execution_count": 6,
   "metadata": {
    "ExecuteTime": {
     "end_time": "2021-10-29T15:42:03.456150Z",
     "start_time": "2021-10-29T15:42:03.374368Z"
    }
   },
   "outputs": [
    {
     "data": {
      "text/plain": [
       "0.3151536735681129"
      ]
     },
     "execution_count": 6,
     "metadata": {},
     "output_type": "execute_result"
    }
   ],
   "source": [
    "ssvi_param.calc_implied_vol(1,.9)"
   ]
  },
  {
   "cell_type": "markdown",
   "metadata": {},
   "source": [
    "### SVI"
   ]
  },
  {
   "cell_type": "code",
   "execution_count": 7,
   "metadata": {
    "ExecuteTime": {
     "end_time": "2021-10-29T15:42:03.488065Z",
     "start_time": "2021-10-29T15:42:03.463132Z"
    }
   },
   "outputs": [],
   "source": [
    "svi_param = mkt_data.VolatilityParametrizationSVI(expiries=np.array([1.0/365.0, 1.0]), svi_params=[\n",
    "        (0.0001, 0.1, -0.5, 0.0, 0.0001),\n",
    "        (0.0002, 0.1, -0.5, 0.0, 0.00004),\n",
    "])"
   ]
  },
  {
   "cell_type": "code",
   "execution_count": 8,
   "metadata": {
    "ExecuteTime": {
     "end_time": "2021-10-29T15:42:03.518982Z",
     "start_time": "2021-10-29T15:42:03.494049Z"
    }
   },
   "outputs": [
    {
     "data": {
      "text/plain": [
       "0.20037464909513877"
      ]
     },
     "execution_count": 8,
     "metadata": {},
     "output_type": "execute_result"
    }
   ],
   "source": [
    "svi_param.calc_implied_vol(1/365,1)"
   ]
  },
  {
   "cell_type": "markdown",
   "metadata": {},
   "source": [
    "### SABR"
   ]
  },
  {
   "cell_type": "markdown",
   "metadata": {},
   "source": [
    "The [SABR](https://bsic.it/sabr-stochastic-volatility-model-volatility-smile/) model assumes that the forward rate and the instantaneous volatility are driven by two correlated Brownian motions:\n",
    "\n",
    "$$df_t = \\alpha_t f_t^\\beta d W_t^1$$\n",
    "\n",
    "$$d\\alpha_t = \\nu\\alpha_t d W_t^2$$\n",
    "\n",
    "$$E\\bigl[d W_t^1 d W_T^2\\bigr] = \\rho d t$$\n",
    "\n",
    "The expression that the implied volatility must satisfy is\n",
    "\n",
    "$$\\sigma_B(K,f) = \\frac{\\alpha\\biggl\\{1+\\biggl[\\frac{(1-\\beta)^2}{24}\\frac{\\alpha^2}{(fK)^{1-\\beta}}+\\frac{1}{4}\\frac{\\rho\\beta\\nu\\alpha}{(FK)^{(1-\\beta)/2}}+\\frac{2-3\\rho^2}{24}\\nu^2\\biggr]T\\biggr\\}}{(fK)^{(1-\\beta)/2}\\biggl[1+\\frac{(1-\\beta)^2}{24}{ln}^2\\frac{f}{K}+\\frac{(1-\\beta)^4}{1920}{ln}^4\\frac{f}{K}\\biggr]}\\frac{z}{\\chi(z)}$$\n",
    "\n",
    "$$z=\\frac{\\nu}{\\alpha}(fK)^{(1-\\beta)/2}ln\\frac{f}{K}$$\n",
    "\n",
    "$$\\chi(z) = ln\\Biggl[\\frac{\\sqrt{1-2\\rho z+z^2}+z-\\rho}{1-\\rho}\\Biggr]$$\n",
    "\n",
    "When $f = K $ (for ATM options), the above formula for implied volatility simplifies to:\n",
    "\n",
    "$$\\sigma_{ATM} = \\sigma_B(f,f)=\\frac{\\alpha\\biggl\\{1+\\biggl[\\frac{(1-\\beta)^2}{24}\\frac{\\alpha^2}{f^{2-2\\beta}}+\\frac{1}{4}\\frac{\\rho\\beta\\nu\\alpha}{f^{1-\\beta}}\\frac{2-3\\rho^2}{24}\\nu^2\\biggr]T\\biggr\\}}{f^{1-\\beta}}$$\n",
    "\n",
    "where\n",
    "\n",
    "> $\\alpha$ is the instantaneous vol;\n",
    "\n",
    "> $\\nu$ is the vol of vol;\n",
    "\n",
    "> $\\rho$ is the correlation between the Brownian motions driving the forward rate and the instantaneous vol;\n",
    "\n",
    "> $\\beta$ is the CEV component for forward rate (determines shape of forward rates, leverage effect and backbond of ATM vol).\n",
    "\n",
    "For details please refer to the [SABR](../models/sabr_volatility_model.ipynb) notebook. "
   ]
  },
  {
   "cell_type": "code",
   "execution_count": 127,
   "metadata": {
    "ExecuteTime": {
     "end_time": "2021-10-30T13:31:16.513258Z",
     "start_time": "2021-10-30T13:31:16.394558Z"
    },
    "code_folding": [
     0
    ]
   },
   "outputs": [
    {
     "data": {
      "application/vnd.jupyter.widget-view+json": {
       "model_id": "b69a2cf52bf64cbb98ba5f3310fee831",
       "version_major": 2,
       "version_minor": 0
      },
      "text/plain": [
       "VBox(children=(HBox(children=(Label(value='Set Chart Area:'),)), HBox(children=(FloatRangeSlider(value=(0.4, 1…"
      ]
     },
     "metadata": {},
     "output_type": "display_data"
    },
    {
     "data": {
      "application/vnd.jupyter.widget-view+json": {
       "model_id": "9998d75434524df3a1f08629c3baf416",
       "version_major": 2,
       "version_minor": 0
      },
      "text/plain": [
       "Output()"
      ]
     },
     "metadata": {},
     "output_type": "display_data"
    }
   ],
   "source": [
    "# Plotting SABR Volatility Smile– Rivapy\n",
    "\n",
    "# create widgets\n",
    "style = {'description_width': 'initial'}\n",
    "\n",
    "FloatTextAlpha = widgets.FloatText(value = 0.3, step = 0.01, description = 'Alpha')\n",
    "\n",
    "FloatSliderNu = widgets.FloatSlider(value = 0.1, min = 0.0001, max = 5, step = 0.01, description = 'Nu',\n",
    "                                       continuous_update=False, orientation='horizontal', readout=True, readout_format='.1f')\n",
    "\n",
    "FloatSliderBeta = widgets.FloatSlider(value = 0.1, min = 0, max = 1, step = 0.01, description = 'Beta',\n",
    "                                       continuous_update=False, orientation='horizontal', readout=True, readout_format='.1f')\n",
    "\n",
    "FloatSliderRho = widgets.FloatSlider(value = 0.1, min = -0.999999, max = 0.999999, step = 0.01, description = 'Rho',\n",
    "                                       continuous_update=False, orientation='horizontal', readout=True, readout_format='.1f')\n",
    "\n",
    "FloatRangeSliderStrikes = widgets.FloatRangeSlider(value=[.4, 1.6], min=0, max=3.0, step=0.05, description='Strike Range:', \n",
    "                                                   disabled=False, continuous_update=False,orientation='horizontal',\n",
    "                                                   readout=True, readout_format='.1f',style=style)\n",
    "\n",
    "FloatSliderExpiries = widgets.FloatSlider(value=1, min=1/12, max=30.0, step=1/12, description='Expiry:', \n",
    "                                                   disabled=False, continuous_update=False,orientation='horizontal',\n",
    "                                                   readout=True, readout_format='.2f',style=style)\n",
    "\n",
    "ButtonNewPlot = widgets.Button(description=\"New Plot\")\n",
    "\n",
    "ButtonAddTrace = widgets.Button(description=\"Add Trace\")\n",
    "\n",
    "global OutputWidget\n",
    "OutputWidget = widgets.Output()\n",
    "\n",
    "def create_vol_grid(alpha, nu, beta, rho,strike_range, expiry):\n",
    "    F_0 = 1\n",
    "    strikes = np.linspace(strike_range[0], strike_range[1], num=100)\n",
    "    sabr_params = np.array([[alpha,nu,beta,rho]])\n",
    "    ttm = [expiry]\n",
    "    sabr_param = mkt_data.VolatilityParametrizationSABR(ttm, sabr_params)\n",
    "    vols = [sabr_param.calc_implied_vol(expiry,x) for x in strikes]\n",
    "\n",
    "    return strikes, vols\n",
    "\n",
    "def create_plot(strikes, vols,expiry,alpha, nu, beta, rho):    \n",
    "    fig.add_trace(go.Scatter(x= strikes,y= vols \n",
    "                            ,mode = 'lines+markers'\n",
    "                          ,hovertemplate = \n",
    "                            'Moneyness:  %{x: .1%}' #+\\\n",
    "                            +'<br>Volatility: %{y: .1%}'\n",
    "                            +'<br>Expiry: {:,.0f} Yrs'.format(expiry)\n",
    "                            +'<br>Alpha: {:,.1%}'.format(alpha)\n",
    "                            +'<br>Nu: {:,.1f}'.format(nu)\n",
    "                            +'<br>Beta: {:,.1f}'.format(beta)\n",
    "                            +'<br>Rho: {:,.1f}'.format(rho)\n",
    "                            +'<extra></extra>',\n",
    "                            showlegend=False)\n",
    "                         )\n",
    "\n",
    "\n",
    "    fig.update_layout(title={\n",
    "                          'text': \"<b>Volatility Smile</b>\",\n",
    "                          'y':0.95,\n",
    "                          'x':0.5,\n",
    "                          'xanchor': 'center',\n",
    "                          'yanchor': 'top'\n",
    "                            }\n",
    "                    ,width=1000\n",
    "                    ,height=500\n",
    "                    ,xaxis_title='Moneyness'\n",
    "                    ,xaxis_tickformat = '.1%'\n",
    "                    ,xaxis_range=[strikes.min(),strikes.max()]\n",
    "                    ,yaxis_title='Volatility'\n",
    "                    ,yaxis_tickformat = '.1%'\n",
    "                    ,yaxis_range=[0,1]\n",
    "                    ,font=dict(\n",
    "                      family=\"Courier New, monospace\"\n",
    "                      ,size=10\n",
    "                      )\n",
    "                    ,margin=dict(l=65, r=50, b=65, t=90)\n",
    "    )\n",
    "    fig.show()\n",
    "\n",
    "def plot(alpha, nu, beta, rho,strike_range, expiry):\n",
    "#     function is called by eventhandler, i.e. if input parameter changes\n",
    "\n",
    "#     clear output\n",
    "    OutputWidget.clear_output()\n",
    "    \n",
    "#     1. create vol grid\n",
    "    strikes, vols = create_vol_grid(alpha, nu, beta, rho,strike_range, expiry)\n",
    "\n",
    "#     2. plot surface\n",
    "    create_plot(strikes, vols,expiry,alpha, nu, beta, rho)\n",
    "    \n",
    "\n",
    "def eventhandler(change):\n",
    "          \n",
    "    alpha = FloatTextAlpha.value\n",
    "    nu = FloatSliderNu.value\n",
    "    beta = FloatSliderBeta.value\n",
    "    rho = FloatSliderRho.value\n",
    "    strike_range = FloatRangeSliderStrikes.value\n",
    "    expiry = FloatSliderExpiries.value\n",
    "    \n",
    "#     call plot function\n",
    "    with OutputWidget:\n",
    "        plot(alpha, nu, beta, rho,strike_range, expiry)\n",
    "        \n",
    "def eventhandler2(change):\n",
    "    global fig\n",
    "    \n",
    "    fig = go.Figure()\n",
    "    \n",
    "    alpha = FloatTextAlpha.value\n",
    "    nu = FloatSliderNu.value\n",
    "    beta = FloatSliderBeta.value\n",
    "    rho = FloatSliderRho.value\n",
    "    strike_range = FloatRangeSliderStrikes.value\n",
    "    expiry = FloatSliderExpiries.value\n",
    "    \n",
    "    with OutputWidget:\n",
    "        plot(alpha, nu, beta, rho,strike_range, expiry)\n",
    "\n",
    "# bind eventhandler to widgets\n",
    "ButtonAddTrace.on_click(eventhandler)\n",
    "ButtonNewPlot.on_click(eventhandler2)\n",
    "\n",
    "# widgets groups\n",
    "WidgetsGrpH1 = widgets.HBox(children=[widgets.Label('Set Chart Area:')])\n",
    "WidgetsGrpH2 = widgets.HBox(children=[FloatRangeSliderStrikes])\n",
    "WidgetsGrpH3 = widgets.HBox(children=[widgets.Label('Set Parameters:')])\n",
    "WidgetsGrpH4 = widgets.HBox(children=[FloatTextAlpha,FloatSliderExpiries])\n",
    "WidgetsGrpH5 = widgets.HBox(children=[FloatSliderNu,FloatSliderBeta,FloatSliderRho])\n",
    "WidgetsGrpH6 = widgets.HBox(children=[ButtonNewPlot,ButtonAddTrace])\n",
    "WidgetsGrpV1 = widgets.VBox(children=[WidgetsGrpH1,WidgetsGrpH2,WidgetsGrpH3,WidgetsGrpH4,WidgetsGrpH5,WidgetsGrpH6])\n",
    "\n",
    "display(WidgetsGrpV1)\n",
    "display(OutputWidget)"
   ]
  },
  {
   "cell_type": "code",
   "execution_count": 128,
   "metadata": {
    "ExecuteTime": {
     "end_time": "2021-10-30T13:31:19.247046Z",
     "start_time": "2021-10-30T13:31:19.231090Z"
    }
   },
   "outputs": [],
   "source": [
    "ttm = [1.0/12.0, 1.0, 2.0, 3.0]\n",
    "sabr_params = np.array([[.1, 0.1, .9,-.8],\n",
    "                        [.3, 0.1, .1, .1],\n",
    "                        [.5, .3, .9, -.75,],\n",
    "                        [.5, .3, .9, -.85,]])"
   ]
  },
  {
   "cell_type": "code",
   "execution_count": 129,
   "metadata": {
    "ExecuteTime": {
     "end_time": "2021-10-30T13:31:19.654114Z",
     "start_time": "2021-10-30T13:31:19.638157Z"
    }
   },
   "outputs": [
    {
     "data": {
      "text/plain": [
       "0.30118"
      ]
     },
     "execution_count": 129,
     "metadata": {},
     "output_type": "execute_result"
    }
   ],
   "source": [
    "sabr_param = mkt_data.VolatilityParametrizationSABR(ttm, sabr_params)\n",
    "sabr_param.calc_implied_vol(1,1)"
   ]
  },
  {
   "cell_type": "markdown",
   "metadata": {},
   "source": [
    "## Volatility Smile"
   ]
  },
  {
   "cell_type": "code",
   "execution_count": 22,
   "metadata": {
    "ExecuteTime": {
     "end_time": "2021-10-30T10:53:48.926761Z",
     "start_time": "2021-10-30T10:53:48.913795Z"
    }
   },
   "outputs": [],
   "source": [
    "vol_params_dict = {'Flat': flat_param\n",
    "                   ,'Term': term_param\n",
    "                   ,'SVI': svi_param\n",
    "                   ,'SSVI': ssvi_param\n",
    "                   ,'SABR': sabr_param\n",
    "                  }"
   ]
  },
  {
   "cell_type": "code",
   "execution_count": 131,
   "metadata": {
    "ExecuteTime": {
     "end_time": "2021-10-30T13:32:51.174331Z",
     "start_time": "2021-10-30T13:32:51.078585Z"
    },
    "code_folding": [
     0
    ]
   },
   "outputs": [
    {
     "data": {
      "application/vnd.jupyter.widget-view+json": {
       "model_id": "ffbf8f27ae8a44d3af08b37c5380aedd",
       "version_major": 2,
       "version_minor": 0
      },
      "text/plain": [
       "HBox(children=(VBox(children=(Label(value='Set Chart Area:'), FloatRangeSlider(value=(0.4, 1.6), continuous_up…"
      ]
     },
     "metadata": {},
     "output_type": "display_data"
    },
    {
     "data": {
      "application/vnd.jupyter.widget-view+json": {
       "model_id": "deb617f563304a9a8f29f22d8bf4b3b7",
       "version_major": 2,
       "version_minor": 0
      },
      "text/plain": [
       "HBox(children=(Button(description='New Plot', style=ButtonStyle()), Button(description='Add Trace(s)', style=B…"
      ]
     },
     "metadata": {},
     "output_type": "display_data"
    },
    {
     "data": {
      "application/vnd.jupyter.widget-view+json": {
       "model_id": "afc41c8b8a204daa9d16c2906890006d",
       "version_major": 2,
       "version_minor": 0
      },
      "text/plain": [
       "Output()"
      ]
     },
     "metadata": {},
     "output_type": "display_data"
    }
   ],
   "source": [
    "# Comparing Volatility Smiles – Rivapy\n",
    "\n",
    "# create widgets\n",
    "style = {'description_width': 'initial'}\n",
    "\n",
    "keys_list = list(vol_params_dict.keys())\n",
    "SelectMultipleParams = widgets.SelectMultiple(options=keys_list,value=[keys_list[0]],description='Parametrization',\n",
    "                                                disabled=False, continuous_update=False,readout=True,style=style)\n",
    "\n",
    "FloatRangeSliderStrikes = widgets.FloatRangeSlider(value=[.4, 1.6], min=0, max=3.0, step=0.05, description='Strike Range', \n",
    "                                                   disabled=False, continuous_update=False,orientation='horizontal',\n",
    "                                                   readout=True, readout_format='.1f',style=style)\n",
    "\n",
    "DatePickerRefDate = widgets.DatePicker(description='Ref Date',value = dt.date(2017,1,1), disabled=False, continuous_update=False,\n",
    "                                                   readout=True,style=style)\n",
    "\n",
    "DatePickerExpiryDate = widgets.DatePicker(description='Expiry Date',value = dt.date(2018,1,1), disabled=False, continuous_update=False,\n",
    "                                                   readout=True,style=style)\n",
    "\n",
    "\n",
    "ButtonNewPlot = widgets.Button(description=\"New Plot\")\n",
    "\n",
    "ButtonAddTrace = widgets.Button(description=\"Add Trace(s)\")\n",
    "\n",
    "global OutputWidget\n",
    "OutputWidget = widgets.Output()\n",
    "\n",
    "\n",
    "def create_plot(param_list,strike_range, ref_date, expiry_date):    \n",
    "    \n",
    "    moneyness = np.linspace(strike_range[0], strike_range[1], num=100)\n",
    "    strikes = np.array([i*forward_curve.value(ref_date,expiry_date) for i in moneyness])\n",
    "    expiry = (expiry_date-ref_date).days/365.25\n",
    "    \n",
    "    for p in param_list:\n",
    "        param = vol_params_dict[p]\n",
    "        vol_surf = mkt_data.VolatilitySurface(p+'_surf', ref_date, forward_curve, enums.DayCounterType.Act365Fixed, param)\n",
    "        vols = [vol_surf.calc_implied_vol(expiry_date,x,ref_date) for x in strikes]\n",
    "        \n",
    "    \n",
    "        fig_smile.add_trace(go.Scatter(x= moneyness,y= vols \n",
    "                                ,mode = 'lines+markers'\n",
    "                              ,hovertemplate =\n",
    "                                '<br>Parametrization: {}'.format(p)\n",
    "                                +'<br>Moneyness:  %{x: .1%}' #+\\\n",
    "                                +'<br>Volatility: %{y: .1%}'\n",
    "                                +'<br>Expiry: {:,.2f} Yrs'.format(expiry)\n",
    "                                +'<extra></extra>',\n",
    "                                showlegend=False)\n",
    "                             )\n",
    "\n",
    "\n",
    "    fig_smile.update_layout(title={\n",
    "                          'text': \"<b>Volatility Smile</b>\",\n",
    "                          'y':0.95,\n",
    "                          'x':0.5,\n",
    "                          'xanchor': 'center',\n",
    "                          'yanchor': 'top'\n",
    "                            }\n",
    "                    ,width=1000\n",
    "                    ,height=500\n",
    "                    ,xaxis_title='Moneyness'\n",
    "                    ,xaxis_tickformat = '.1%'\n",
    "                    ,xaxis_range=[moneyness.min(),moneyness.max()]\n",
    "                    ,yaxis_title='Volatility'\n",
    "                    ,yaxis_tickformat = '.1%'\n",
    "                    ,yaxis_range=[0,1]\n",
    "                    ,font=dict(\n",
    "                      family=\"Courier New, monospace\"\n",
    "                      ,size=10\n",
    "                      )\n",
    "                    ,margin=dict(l=65, r=50, b=65, t=90)\n",
    "    )\n",
    "    fig_smile.show()\n",
    "\n",
    "def plot(param_list,strike_range, ref_date, expiry_date):\n",
    "#     function is called by eventhandler, i.e. if input parameter changes\n",
    "\n",
    "#     clear output\n",
    "    OutputWidget.clear_output()\n",
    "\n",
    "#     plot surface\n",
    "    create_plot(param_list,strike_range, ref_date, expiry_date)\n",
    "    \n",
    "\n",
    "def eventhandler(change):\n",
    "          \n",
    "    param_list = list(SelectMultipleParams.value)\n",
    "    strike_range = FloatRangeSliderStrikes.value\n",
    "    ref_date = dt.datetime.combine(DatePickerRefDate.value, dt.datetime.min.time())\n",
    "    expiry_date = dt.datetime.combine(DatePickerExpiryDate.value, dt.datetime.min.time())\n",
    "    \n",
    "#     call plot function\n",
    "    with OutputWidget:\n",
    "        plot(param_list,strike_range, ref_date, expiry_date)\n",
    "        \n",
    "def eventhandler2(change):\n",
    "    global fig_smile\n",
    "    \n",
    "    fig_smile = go.Figure()\n",
    "    \n",
    "    param_list = list(SelectMultipleParams.value)\n",
    "    strike_range = FloatRangeSliderStrikes.value\n",
    "    ref_date = dt.datetime.combine(DatePickerRefDate.value, dt.datetime.min.time())\n",
    "    expiry_date = dt.datetime.combine(DatePickerExpiryDate.value, dt.datetime.min.time())\n",
    "    \n",
    "    with OutputWidget:\n",
    "        plot(param_list,strike_range, ref_date, expiry_date)\n",
    "\n",
    "# bind eventhandler to widgets\n",
    "ButtonAddTrace.on_click(eventhandler)\n",
    "ButtonNewPlot.on_click(eventhandler2)\n",
    "\n",
    "# widgets groups\n",
    "WidgetsGrpV1 = widgets.VBox(children=[widgets.Label('Set Chart Area:'),FloatRangeSliderStrikes])\n",
    "WidgetsGrpV2 = widgets.VBox(children=[widgets.Label('Set Reference and Expiry Date:'),DatePickerRefDate,DatePickerExpiryDate])\n",
    "WidgetsGrpV3 = widgets.VBox(children=[widgets.Label('Select Parametrization(s):'),SelectMultipleParams])\n",
    "WidgetsGrpH1 = widgets.HBox(children=[WidgetsGrpV1,WidgetsGrpV2,WidgetsGrpV3])\n",
    "WidgetsGrpH2 = widgets.HBox(children=[ButtonNewPlot,ButtonAddTrace])\n",
    "\n",
    "display(WidgetsGrpH1,WidgetsGrpH2)\n",
    "display(OutputWidget)"
   ]
  },
  {
   "cell_type": "markdown",
   "metadata": {},
   "source": [
    "## Volatility Surface\n",
    "The forward curve and the parametrization can now be combined into a VolatilitySurface"
   ]
  },
  {
   "cell_type": "code",
   "execution_count": 12,
   "metadata": {
    "ExecuteTime": {
     "end_time": "2021-10-29T15:42:04.307930Z",
     "start_time": "2021-10-29T15:42:04.285990Z"
    }
   },
   "outputs": [],
   "source": [
    "obj_id = 'TEST_SURFACE'\n",
    "vol_surf = mkt_data.VolatilitySurface(obj_id, refdate, forward_curve, enums.DayCounterType.Act365Fixed, sabr_param)"
   ]
  },
  {
   "cell_type": "markdown",
   "metadata": {},
   "source": [
    "To compute an implied volatility, one may use the method *calcImpliedVol*. Note that this method applies a sticky-strike handling of volatilities, i.e. it assumes that the implied volatility given a certain strike is independent of current forward values which may differ from the forwards when the volatility surface was calibrated."
   ]
  },
  {
   "cell_type": "code",
   "execution_count": 13,
   "metadata": {
    "ExecuteTime": {
     "end_time": "2021-10-29T15:42:04.466544Z",
     "start_time": "2021-10-29T15:42:04.313913Z"
    }
   },
   "outputs": [
    {
     "name": "stdout",
     "output_type": "stream",
     "text": [
      "0.28140539477971765\n"
     ]
    }
   ],
   "source": [
    "# vol = vol_surf.calc_implied_vol(refdate,refdate + dt.timedelta(days=180),120)\n",
    "vol = vol_surf.calc_implied_vol(refdate + dt.timedelta(days=180),120,refdate)\n",
    "print(vol)"
   ]
  },
  {
   "cell_type": "markdown",
   "metadata": {},
   "source": [
    "By executing the following command line, the volatility surface is plotted."
   ]
  },
  {
   "cell_type": "code",
   "execution_count": 132,
   "metadata": {
    "ExecuteTime": {
     "end_time": "2021-10-30T13:33:05.900968Z",
     "start_time": "2021-10-30T13:33:05.830157Z"
    },
    "code_folding": [
     0
    ],
    "tags": []
   },
   "outputs": [
    {
     "data": {
      "application/vnd.plotly.v1+json": {
       "config": {
        "plotlyServerURL": "https://plot.ly"
       },
       "data": [
        {
         "colorscale": [
          [
           0,
           "rgb(0, 147, 146)"
          ],
          [
           0.16666666666666666,
           "rgb(57, 177, 133)"
          ],
          [
           0.3333333333333333,
           "rgb(156, 203, 134)"
          ],
          [
           0.5,
           "rgb(233, 226, 156)"
          ],
          [
           0.6666666666666666,
           "rgb(238, 180, 121)"
          ],
          [
           0.8333333333333334,
           "rgb(232, 132, 113)"
          ],
          [
           1,
           "rgb(207, 89, 126)"
          ]
         ],
         "contours": {
          "x": {
           "color": "red",
           "show": true,
           "size": 0.1
          },
          "y": {
           "color": "red",
           "show": true,
           "size": 0.1
          }
         },
         "hovertemplate": "Moneyness:  %{y: .2%}<br>Maturity (yrs): %{x: .1f}<br>Volatility: %{z: .2f}<extra></extra>",
         "opacity": 0.75,
         "type": "surface",
         "x": [
          0.08333333333333333,
          1,
          2,
          3
         ],
         "y": [
          0.5,
          0.51010101010101,
          0.5202020202020202,
          0.5303030303030303,
          0.5404040404040404,
          0.5505050505050505,
          0.5606060606060606,
          0.5707070707070707,
          0.5808080808080808,
          0.5909090909090909,
          0.601010101010101,
          0.6111111111111112,
          0.6212121212121212,
          0.6313131313131313,
          0.6414141414141414,
          0.6515151515151515,
          0.6616161616161617,
          0.6717171717171717,
          0.6818181818181819,
          0.6919191919191919,
          0.702020202020202,
          0.7121212121212122,
          0.7222222222222222,
          0.7323232323232324,
          0.7424242424242424,
          0.7525252525252526,
          0.7626262626262627,
          0.7727272727272727,
          0.7828282828282829,
          0.7929292929292929,
          0.803030303030303,
          0.8131313131313131,
          0.8232323232323233,
          0.8333333333333334,
          0.8434343434343434,
          0.8535353535353536,
          0.8636363636363636,
          0.8737373737373737,
          0.8838383838383839,
          0.893939393939394,
          0.9040404040404041,
          0.9141414141414141,
          0.9242424242424243,
          0.9343434343434344,
          0.9444444444444444,
          0.9545454545454546,
          0.9646464646464648,
          0.9747474747474748,
          0.9848484848484849,
          0.994949494949495,
          1.0050505050505052,
          1.0151515151515151,
          1.0252525252525253,
          1.0353535353535355,
          1.0454545454545454,
          1.0555555555555556,
          1.0656565656565657,
          1.0757575757575757,
          1.0858585858585859,
          1.095959595959596,
          1.106060606060606,
          1.1161616161616164,
          1.1262626262626263,
          1.1363636363636365,
          1.1464646464646466,
          1.1565656565656566,
          1.1666666666666667,
          1.176767676767677,
          1.1868686868686869,
          1.196969696969697,
          1.2070707070707072,
          1.2171717171717171,
          1.2272727272727273,
          1.2373737373737375,
          1.2474747474747474,
          1.2575757575757578,
          1.2676767676767677,
          1.2777777777777777,
          1.287878787878788,
          1.297979797979798,
          1.3080808080808082,
          1.3181818181818183,
          1.3282828282828283,
          1.3383838383838385,
          1.3484848484848486,
          1.3585858585858586,
          1.3686868686868687,
          1.378787878787879,
          1.3888888888888888,
          1.3989898989898992,
          1.4090909090909092,
          1.4191919191919191,
          1.4292929292929295,
          1.4393939393939394,
          1.4494949494949496,
          1.4595959595959598,
          1.4696969696969697,
          1.47979797979798,
          1.48989898989899,
          1.5
         ],
         "z": [
          [
           0.4627997473474606,
           0.43190563698299017,
           0.4039120726628932,
           0.3181881458592934
          ],
          [
           0.4593440499611189,
           0.4269614765904312,
           0.40192909354178735,
           0.3166247792585516
          ],
          [
           0.455961627450838,
           0.4221981719708083,
           0.39998712531390873,
           0.3150910963952644
          ],
          [
           0.4526493405020954,
           0.4176053948908161,
           0.3980845328774583,
           0.31358595911689385
          ],
          [
           0.4494042349471452,
           0.41317356615022666,
           0.3962197803753225,
           0.31210829401300605
          ],
          [
           0.44622355096845645,
           0.4088938515441701,
           0.39439142138389666,
           0.3106570882428635
          ],
          [
           0.4431047000920239,
           0.4047580718720171,
           0.3925980929327678,
           0.3092313848991728
          ],
          [
           0.4400452531049756,
           0.4007586470002306,
           0.3908385089374568,
           0.3078302791961835
          ],
          [
           0.4370429269940784,
           0.3968885398250086,
           0.38911145472379144,
           0.3064529145533619
          ],
          [
           0.43409557345379063,
           0.393141207172213,
           0.3874157818220588,
           0.30509847916044097
          ],
          [
           0.43120116863855357,
           0.3895105564726732,
           0.3857504030829672,
           0.303766202923933
          ],
          [
           0.42835780384132666,
           0.3859909068722778,
           0.3841142883877859,
           0.30245535466511747
          ],
          [
           0.4255636770509414,
           0.3825769543925583,
           0.3825064607340214,
           0.3011652395556746
          ],
          [
           0.4228170852648303,
           0.37926374058401735,
           0.38092599265059945,
           0.29989519686112753
          ],
          [
           0.4201164174877622,
           0.37604662429630714,
           0.37937200290941286,
           0.2986445977083093
          ],
          [
           0.4174601483572477,
           0.37292125625235545,
           0.37784365356276317,
           0.29741284297066034
          ],
          [
           0.41484683238276937,
           0.3698835562767364,
           0.376340147193307,
           0.296199361426646
          ],
          [
           0.4122750985067728,
           0.3669296921160477,
           0.37486072423362765,
           0.29500360806048065
          ],
          [
           0.4097436451569677,
           0.3640560603711076,
           0.37340466060062505,
           0.29382506248948076
          ],
          [
           0.40725123575053657,
           0.36125926933091135,
           0.3719712655235746,
           0.29266322755220947
          ],
          [
           0.40479669455876405,
           0.3585361233444658,
           0.3705598795350029,
           0.29151762799069375
          ],
          [
           0.4023789028979387,
           0.35588360857106327,
           0.3691698726101257,
           0.29038780909247786
          ],
          [
           0.3999967956161975,
           0.35329887996858217,
           0.36780064246910776,
           0.28927333551693735
          ],
          [
           0.39764935784919636,
           0.35077924939550176,
           0.3664516130166453,
           0.2881737902161996
          ],
          [
           0.395335622036197,
           0.3483221747645507,
           0.3651222327751247,
           0.28708877342952555
          ],
          [
           0.3930546651838313,
           0.3459252501732767,
           0.3638119734903541,
           0.2860179017577754
          ],
          [
           0.3908056062318962,
           0.34358619654445566,
           0.3625203288485055,
           0.28496080734139395
          ],
          [
           0.38858760365078976,
           0.34130285315505077,
           0.36124681327995173,
           0.28391713698092347
          ],
          [
           0.38639985322683845,
           0.33907316989183195,
           0.3599909608431046,
           0.28288655134622903
          ],
          [
           0.3842415860024628,
           0.33689520011355234,
           0.3587523241939188,
           0.2818687242646166
          ],
          [
           0.38211206635837597,
           0.3347670940647441,
           0.35753047364842006,
           0.2808633420536769
          ],
          [
           0.38001059022622946,
           0.33268709279180203,
           0.3563249962218397,
           0.27987010289759773
          ],
          [
           0.3779364834212364,
           0.33065352251711255,
           0.35513549476035877,
           0.27888871629624457
          ],
          [
           0.3758891001003864,
           0.3286647894733999,
           0.35396158714387843,
           0.27791890250012985
          ],
          [
           0.3738678213242928,
           0.3267193751226404,
           0.3528029055380246,
           0.2769603919530757
          ],
          [
           0.3718720536576314,
           0.32481583157159766,
           0.35165909569182074,
           0.27601292480572265
          ],
          [
           0.3699012278897678,
           0.3229527774045817,
           0.35052981628275776,
           0.27507625045882045
          ],
          [
           0.36795479784159124,
           0.32112889382690507,
           0.34941473832488623,
           0.2741501271329098
          ],
          [
           0.3660322392460825,
           0.3193429210766811,
           0.348313544557552,
           0.2732343214785724
          ],
          [
           0.3641330486971704,
           0.317593655083342,
           0.34722592887924797,
           0.2723286082095898
          ],
          [
           0.36225674266188596,
           0.31587994435320965,
           0.3461515958310746,
           0.2714327697038391
          ],
          [
           0.36040285655148147,
           0.3142006870648443,
           0.345090260109594,
           0.27054659565772887
          ],
          [
           0.3585709438606473,
           0.3125548283919119,
           0.34404164610703947,
           0.26966988276501924
          ],
          [
           0.3567605753475655,
           0.3109413579771317,
           0.34300548747900045,
           0.2688024344129139
          ],
          [
           0.3549713382341983,
           0.30935930750285523,
           0.34198152675436017,
           0.26794406039888174
          ],
          [
           0.35320283547220793,
           0.30780774847125225,
           0.3409695149346774,
           0.26709457668051917
          ],
          [
           0.3514546850516476,
           0.3062857901301305,
           0.33996921111074363,
           0.26625380509471225
          ],
          [
           0.3497265193475326,
           0.3047925775285459,
           0.33898038211578063,
           0.2654215731011717
          ],
          [
           0.3480179845017445,
           0.30332728969284556,
           0.33800280219713164,
           0.26459771355118694
          ],
          [
           0.3463287398379108,
           0.30188913791446453,
           0.33703625270501225,
           0.26378206446806834
          ],
          [
           0.3446584573076266,
           0.3004773641427947,
           0.33608052179793246,
           0.2629744688393038
          ],
          [
           0.3430068209766358,
           0.29909123950099636,
           0.3351354041759778,
           0.2621747744336512
          ],
          [
           0.3413735265233186,
           0.29773006285594034,
           0.33420070081154474,
           0.2613828336088834
          ],
          [
           0.33975828075198256,
           0.2963931594481138,
           0.33327621868145096,
           0.26059850311527644
          ],
          [
           0.33816080114279745,
           0.29507987963125476,
           0.33236177052677374,
           0.2598216439249311
          ],
          [
           0.3365808154242512,
           0.29378959768574736,
           0.3314571746250285,
           0.25905212106991915
          ],
          [
           0.3350180611661433,
           0.2925217106995047,
           0.3305622545733593,
           0.2582898034880754
          ],
          [
           0.3334722853918232,
           0.2912756375118592,
           0.32967683908231943,
           0.2575345638828291
          ],
          [
           0.3319432442084658,
           0.290050817716361,
           0.3288007617876303,
           0.25678627859146125
          ],
          [
           0.33043070245519357,
           0.2888467107207633,
           0.32793386106499595,
           0.25604482743450785
          ],
          [
           0.328934433375418,
           0.28766279487702984,
           0.32707597983833725,
           0.2553100935856943
          ],
          [
           0.327454218288986,
           0.2864985666255153,
           0.32622696540878665,
           0.25458196345049383
          ],
          [
           0.32598984627691213,
           0.2853535396819837,
           0.3253866692925711,
           0.25386032655008006
          ],
          [
           0.32454111388655277,
           0.2842272442836471,
           0.32455494706621957,
           0.25314507541235076
          ],
          [
           0.3231078248491545,
           0.28311922647510873,
           0.3237316582187355,
           0.2524361054767741
          ],
          [
           0.32168978980891283,
           0.282029047431502,
           0.32291666601519703,
           0.25173331498303725
          ],
          [
           0.32028682606283965,
           0.28095628281657714,
           0.32210983736655313,
           0.2510366048679466
          ],
          [
           0.3188987573107883,
           0.27990052217364736,
           0.3213110426897237,
           0.25034587867281743
          ],
          [
           0.31752541341633433,
           0.27886136835021,
           0.3205201557827668,
           0.24966104245478213
          ],
          [
           0.31616663018200053,
           0.27783843696307947,
           0.3197370537069425,
           0.24898200470211626
          ],
          [
           0.31482224911980006,
           0.2768313558627609,
           0.31896161667378925,
           0.2483086762602344
          ],
          [
           0.31349211723257575,
           0.275839764630065,
           0.31819372793696016,
           0.24764097025263196
          ],
          [
           0.3121760868065165,
           0.2748633141050208,
           0.31743327369117963,
           0.246978801997168
          ],
          [
           0.31087401521066804,
           0.2739016659386383,
           0.31668014297859703,
           0.24632208893401447
          ],
          [
           0.3095857647030167,
           0.272954492166216,
           0.31593422758535716,
           0.24567075055691365
          ],
          [
           0.30831120224275776,
           0.27202147480098654,
           0.3151954219483331,
           0.24502470834716517
          ],
          [
           0.3070501993083911,
           0.27110230544697533,
           0.31446362306766823,
           0.2443838857135354
          ],
          [
           0.3058026317228967,
           0.2701966849333994,
           0.31373873042281814,
           0.24374820793624258
          ],
          [
           0.30456837948656457,
           0.26930432297160073,
           0.3130206458919281,
           0.2431176020998259
          ],
          [
           0.3033473266049686,
           0.2684249378076496,
           0.3123092736756893,
           0.2424919970353952
          ],
          [
           0.30213936092563526,
           0.26755825589895105,
           0.3116045202282828,
           0.24187132326666397
          ],
          [
           0.3009443739807167,
           0.2667040116088941,
           0.3109062941802927,
           0.2412555129580188
          ],
          [
           0.2997622608337566,
           0.26586194691522835,
           0.3102145062675114,
           0.2406444998654794
          ],
          [
           0.2985929199303298,
           0.2650318111314459,
           0.30952906926496393,
           0.24003821929450436
          ],
          [
           0.2974362529523519,
           0.2642133606404937,
           0.3088498979234332,
           0.2394366080488127
          ],
          [
           0.2962921646758784,
           0.2634063586401966,
           0.30817690890837346,
           0.23883960438229623
          ],
          [
           0.29516056283388054,
           0.2626105749035665,
           0.30751002074170203,
           0.238247147956139
          ],
          [
           0.2940413579822506,
           0.2618257855501791,
           0.30684915374960625,
           0.2376591797974966
          ],
          [
           0.29293446336296075,
           0.26105177281439296,
           0.30619423000477,
           0.2370756422597938
          ],
          [
           0.2918397947736538,
           0.2602883248307016,
           0.3055451732710017,
           0.2364964789883002
          ],
          [
           0.29075727044054356,
           0.25953523542947016,
           0.30490190895269725,
           0.23592163488298273
          ],
          [
           0.2896868108942856,
           0.2587923039414487,
           0.30426436404610885,
           0.23535105605777132
          ],
          [
           0.2886283388474669,
           0.25805933500977596,
           0.3036324670924366,
           0.2347846898058383
          ],
          [
           0.28758177907688487,
           0.2573361384113301,
           0.3030061481327048,
           0.2342224845664344
          ],
          [
           0.286547058304102,
           0.25662252888264514,
           0.3023853386672971,
           0.2336643898926789
          ],
          [
           0.2855241050808074,
           0.25591832595741504,
           0.30176997161380115,
           0.23311035642236122
          ],
          [
           0.2845128497105472,
           0.2552233538324759,
           0.30115998125679283,
           0.2325603358518451
          ],
          [
           0.28351322394817857,
           0.2545374410791936,
           0.3005553032320711,
           0.23201428089759774
          ],
          [
           0.2825251616777919,
           0.25386042104110096,
           0.2999558744189435,
           0.2314721452852184
          ],
          [
           0.2815485959907127,
           0.2531921297430852,
           0.2993616330680001,
           0.2309338836699018
          ]
         ]
        }
       ],
       "layout": {
        "font": {
         "family": "Courier New, monospace",
         "size": 10
        },
        "height": 500,
        "margin": {
         "b": 65,
         "l": 65,
         "r": 50,
         "t": 90
        },
        "scene": {
         "xaxis": {
          "autorange": "reversed",
          "tickformat": ".1f",
          "title": {
           "text": "Maturity (yrs)"
          }
         },
         "yaxis": {
          "tickformat": ".2%",
          "title": {
           "text": "Moneyness"
          }
         },
         "zaxis": {
          "tickformat": ".2%",
          "title": {
           "text": "Volatility"
          }
         }
        },
        "template": {
         "data": {
          "bar": [
           {
            "error_x": {
             "color": "#2a3f5f"
            },
            "error_y": {
             "color": "#2a3f5f"
            },
            "marker": {
             "line": {
              "color": "#E5ECF6",
              "width": 0.5
             },
             "pattern": {
              "fillmode": "overlay",
              "size": 10,
              "solidity": 0.2
             }
            },
            "type": "bar"
           }
          ],
          "barpolar": [
           {
            "marker": {
             "line": {
              "color": "#E5ECF6",
              "width": 0.5
             },
             "pattern": {
              "fillmode": "overlay",
              "size": 10,
              "solidity": 0.2
             }
            },
            "type": "barpolar"
           }
          ],
          "carpet": [
           {
            "aaxis": {
             "endlinecolor": "#2a3f5f",
             "gridcolor": "white",
             "linecolor": "white",
             "minorgridcolor": "white",
             "startlinecolor": "#2a3f5f"
            },
            "baxis": {
             "endlinecolor": "#2a3f5f",
             "gridcolor": "white",
             "linecolor": "white",
             "minorgridcolor": "white",
             "startlinecolor": "#2a3f5f"
            },
            "type": "carpet"
           }
          ],
          "choropleth": [
           {
            "colorbar": {
             "outlinewidth": 0,
             "ticks": ""
            },
            "type": "choropleth"
           }
          ],
          "contour": [
           {
            "colorbar": {
             "outlinewidth": 0,
             "ticks": ""
            },
            "colorscale": [
             [
              0,
              "#0d0887"
             ],
             [
              0.1111111111111111,
              "#46039f"
             ],
             [
              0.2222222222222222,
              "#7201a8"
             ],
             [
              0.3333333333333333,
              "#9c179e"
             ],
             [
              0.4444444444444444,
              "#bd3786"
             ],
             [
              0.5555555555555556,
              "#d8576b"
             ],
             [
              0.6666666666666666,
              "#ed7953"
             ],
             [
              0.7777777777777778,
              "#fb9f3a"
             ],
             [
              0.8888888888888888,
              "#fdca26"
             ],
             [
              1,
              "#f0f921"
             ]
            ],
            "type": "contour"
           }
          ],
          "contourcarpet": [
           {
            "colorbar": {
             "outlinewidth": 0,
             "ticks": ""
            },
            "type": "contourcarpet"
           }
          ],
          "heatmap": [
           {
            "colorbar": {
             "outlinewidth": 0,
             "ticks": ""
            },
            "colorscale": [
             [
              0,
              "#0d0887"
             ],
             [
              0.1111111111111111,
              "#46039f"
             ],
             [
              0.2222222222222222,
              "#7201a8"
             ],
             [
              0.3333333333333333,
              "#9c179e"
             ],
             [
              0.4444444444444444,
              "#bd3786"
             ],
             [
              0.5555555555555556,
              "#d8576b"
             ],
             [
              0.6666666666666666,
              "#ed7953"
             ],
             [
              0.7777777777777778,
              "#fb9f3a"
             ],
             [
              0.8888888888888888,
              "#fdca26"
             ],
             [
              1,
              "#f0f921"
             ]
            ],
            "type": "heatmap"
           }
          ],
          "heatmapgl": [
           {
            "colorbar": {
             "outlinewidth": 0,
             "ticks": ""
            },
            "colorscale": [
             [
              0,
              "#0d0887"
             ],
             [
              0.1111111111111111,
              "#46039f"
             ],
             [
              0.2222222222222222,
              "#7201a8"
             ],
             [
              0.3333333333333333,
              "#9c179e"
             ],
             [
              0.4444444444444444,
              "#bd3786"
             ],
             [
              0.5555555555555556,
              "#d8576b"
             ],
             [
              0.6666666666666666,
              "#ed7953"
             ],
             [
              0.7777777777777778,
              "#fb9f3a"
             ],
             [
              0.8888888888888888,
              "#fdca26"
             ],
             [
              1,
              "#f0f921"
             ]
            ],
            "type": "heatmapgl"
           }
          ],
          "histogram": [
           {
            "marker": {
             "pattern": {
              "fillmode": "overlay",
              "size": 10,
              "solidity": 0.2
             }
            },
            "type": "histogram"
           }
          ],
          "histogram2d": [
           {
            "colorbar": {
             "outlinewidth": 0,
             "ticks": ""
            },
            "colorscale": [
             [
              0,
              "#0d0887"
             ],
             [
              0.1111111111111111,
              "#46039f"
             ],
             [
              0.2222222222222222,
              "#7201a8"
             ],
             [
              0.3333333333333333,
              "#9c179e"
             ],
             [
              0.4444444444444444,
              "#bd3786"
             ],
             [
              0.5555555555555556,
              "#d8576b"
             ],
             [
              0.6666666666666666,
              "#ed7953"
             ],
             [
              0.7777777777777778,
              "#fb9f3a"
             ],
             [
              0.8888888888888888,
              "#fdca26"
             ],
             [
              1,
              "#f0f921"
             ]
            ],
            "type": "histogram2d"
           }
          ],
          "histogram2dcontour": [
           {
            "colorbar": {
             "outlinewidth": 0,
             "ticks": ""
            },
            "colorscale": [
             [
              0,
              "#0d0887"
             ],
             [
              0.1111111111111111,
              "#46039f"
             ],
             [
              0.2222222222222222,
              "#7201a8"
             ],
             [
              0.3333333333333333,
              "#9c179e"
             ],
             [
              0.4444444444444444,
              "#bd3786"
             ],
             [
              0.5555555555555556,
              "#d8576b"
             ],
             [
              0.6666666666666666,
              "#ed7953"
             ],
             [
              0.7777777777777778,
              "#fb9f3a"
             ],
             [
              0.8888888888888888,
              "#fdca26"
             ],
             [
              1,
              "#f0f921"
             ]
            ],
            "type": "histogram2dcontour"
           }
          ],
          "mesh3d": [
           {
            "colorbar": {
             "outlinewidth": 0,
             "ticks": ""
            },
            "type": "mesh3d"
           }
          ],
          "parcoords": [
           {
            "line": {
             "colorbar": {
              "outlinewidth": 0,
              "ticks": ""
             }
            },
            "type": "parcoords"
           }
          ],
          "pie": [
           {
            "automargin": true,
            "type": "pie"
           }
          ],
          "scatter": [
           {
            "marker": {
             "colorbar": {
              "outlinewidth": 0,
              "ticks": ""
             }
            },
            "type": "scatter"
           }
          ],
          "scatter3d": [
           {
            "line": {
             "colorbar": {
              "outlinewidth": 0,
              "ticks": ""
             }
            },
            "marker": {
             "colorbar": {
              "outlinewidth": 0,
              "ticks": ""
             }
            },
            "type": "scatter3d"
           }
          ],
          "scattercarpet": [
           {
            "marker": {
             "colorbar": {
              "outlinewidth": 0,
              "ticks": ""
             }
            },
            "type": "scattercarpet"
           }
          ],
          "scattergeo": [
           {
            "marker": {
             "colorbar": {
              "outlinewidth": 0,
              "ticks": ""
             }
            },
            "type": "scattergeo"
           }
          ],
          "scattergl": [
           {
            "marker": {
             "colorbar": {
              "outlinewidth": 0,
              "ticks": ""
             }
            },
            "type": "scattergl"
           }
          ],
          "scattermapbox": [
           {
            "marker": {
             "colorbar": {
              "outlinewidth": 0,
              "ticks": ""
             }
            },
            "type": "scattermapbox"
           }
          ],
          "scatterpolar": [
           {
            "marker": {
             "colorbar": {
              "outlinewidth": 0,
              "ticks": ""
             }
            },
            "type": "scatterpolar"
           }
          ],
          "scatterpolargl": [
           {
            "marker": {
             "colorbar": {
              "outlinewidth": 0,
              "ticks": ""
             }
            },
            "type": "scatterpolargl"
           }
          ],
          "scatterternary": [
           {
            "marker": {
             "colorbar": {
              "outlinewidth": 0,
              "ticks": ""
             }
            },
            "type": "scatterternary"
           }
          ],
          "surface": [
           {
            "colorbar": {
             "outlinewidth": 0,
             "ticks": ""
            },
            "colorscale": [
             [
              0,
              "#0d0887"
             ],
             [
              0.1111111111111111,
              "#46039f"
             ],
             [
              0.2222222222222222,
              "#7201a8"
             ],
             [
              0.3333333333333333,
              "#9c179e"
             ],
             [
              0.4444444444444444,
              "#bd3786"
             ],
             [
              0.5555555555555556,
              "#d8576b"
             ],
             [
              0.6666666666666666,
              "#ed7953"
             ],
             [
              0.7777777777777778,
              "#fb9f3a"
             ],
             [
              0.8888888888888888,
              "#fdca26"
             ],
             [
              1,
              "#f0f921"
             ]
            ],
            "type": "surface"
           }
          ],
          "table": [
           {
            "cells": {
             "fill": {
              "color": "#EBF0F8"
             },
             "line": {
              "color": "white"
             }
            },
            "header": {
             "fill": {
              "color": "#C8D4E3"
             },
             "line": {
              "color": "white"
             }
            },
            "type": "table"
           }
          ]
         },
         "layout": {
          "annotationdefaults": {
           "arrowcolor": "#2a3f5f",
           "arrowhead": 0,
           "arrowwidth": 1
          },
          "autotypenumbers": "strict",
          "coloraxis": {
           "colorbar": {
            "outlinewidth": 0,
            "ticks": ""
           }
          },
          "colorscale": {
           "diverging": [
            [
             0,
             "#8e0152"
            ],
            [
             0.1,
             "#c51b7d"
            ],
            [
             0.2,
             "#de77ae"
            ],
            [
             0.3,
             "#f1b6da"
            ],
            [
             0.4,
             "#fde0ef"
            ],
            [
             0.5,
             "#f7f7f7"
            ],
            [
             0.6,
             "#e6f5d0"
            ],
            [
             0.7,
             "#b8e186"
            ],
            [
             0.8,
             "#7fbc41"
            ],
            [
             0.9,
             "#4d9221"
            ],
            [
             1,
             "#276419"
            ]
           ],
           "sequential": [
            [
             0,
             "#0d0887"
            ],
            [
             0.1111111111111111,
             "#46039f"
            ],
            [
             0.2222222222222222,
             "#7201a8"
            ],
            [
             0.3333333333333333,
             "#9c179e"
            ],
            [
             0.4444444444444444,
             "#bd3786"
            ],
            [
             0.5555555555555556,
             "#d8576b"
            ],
            [
             0.6666666666666666,
             "#ed7953"
            ],
            [
             0.7777777777777778,
             "#fb9f3a"
            ],
            [
             0.8888888888888888,
             "#fdca26"
            ],
            [
             1,
             "#f0f921"
            ]
           ],
           "sequentialminus": [
            [
             0,
             "#0d0887"
            ],
            [
             0.1111111111111111,
             "#46039f"
            ],
            [
             0.2222222222222222,
             "#7201a8"
            ],
            [
             0.3333333333333333,
             "#9c179e"
            ],
            [
             0.4444444444444444,
             "#bd3786"
            ],
            [
             0.5555555555555556,
             "#d8576b"
            ],
            [
             0.6666666666666666,
             "#ed7953"
            ],
            [
             0.7777777777777778,
             "#fb9f3a"
            ],
            [
             0.8888888888888888,
             "#fdca26"
            ],
            [
             1,
             "#f0f921"
            ]
           ]
          },
          "colorway": [
           "#636efa",
           "#EF553B",
           "#00cc96",
           "#ab63fa",
           "#FFA15A",
           "#19d3f3",
           "#FF6692",
           "#B6E880",
           "#FF97FF",
           "#FECB52"
          ],
          "font": {
           "color": "#2a3f5f"
          },
          "geo": {
           "bgcolor": "white",
           "lakecolor": "white",
           "landcolor": "#E5ECF6",
           "showlakes": true,
           "showland": true,
           "subunitcolor": "white"
          },
          "hoverlabel": {
           "align": "left"
          },
          "hovermode": "closest",
          "mapbox": {
           "style": "light"
          },
          "paper_bgcolor": "white",
          "plot_bgcolor": "#E5ECF6",
          "polar": {
           "angularaxis": {
            "gridcolor": "white",
            "linecolor": "white",
            "ticks": ""
           },
           "bgcolor": "#E5ECF6",
           "radialaxis": {
            "gridcolor": "white",
            "linecolor": "white",
            "ticks": ""
           }
          },
          "scene": {
           "xaxis": {
            "backgroundcolor": "#E5ECF6",
            "gridcolor": "white",
            "gridwidth": 2,
            "linecolor": "white",
            "showbackground": true,
            "ticks": "",
            "zerolinecolor": "white"
           },
           "yaxis": {
            "backgroundcolor": "#E5ECF6",
            "gridcolor": "white",
            "gridwidth": 2,
            "linecolor": "white",
            "showbackground": true,
            "ticks": "",
            "zerolinecolor": "white"
           },
           "zaxis": {
            "backgroundcolor": "#E5ECF6",
            "gridcolor": "white",
            "gridwidth": 2,
            "linecolor": "white",
            "showbackground": true,
            "ticks": "",
            "zerolinecolor": "white"
           }
          },
          "shapedefaults": {
           "line": {
            "color": "#2a3f5f"
           }
          },
          "ternary": {
           "aaxis": {
            "gridcolor": "white",
            "linecolor": "white",
            "ticks": ""
           },
           "baxis": {
            "gridcolor": "white",
            "linecolor": "white",
            "ticks": ""
           },
           "bgcolor": "#E5ECF6",
           "caxis": {
            "gridcolor": "white",
            "linecolor": "white",
            "ticks": ""
           }
          },
          "title": {
           "x": 0.05
          },
          "xaxis": {
           "automargin": true,
           "gridcolor": "white",
           "linecolor": "white",
           "ticks": "",
           "title": {
            "standoff": 15
           },
           "zerolinecolor": "white",
           "zerolinewidth": 2
          },
          "yaxis": {
           "automargin": true,
           "gridcolor": "white",
           "linecolor": "white",
           "ticks": "",
           "title": {
            "standoff": 15
           },
           "zerolinecolor": "white",
           "zerolinewidth": 2
          }
         }
        },
        "title": {
         "text": "<b>Volatility Surface</b>",
         "x": 0.5,
         "xanchor": "center",
         "y": 0.95,
         "yanchor": "top"
        },
        "width": 1000
       }
      },
      "text/html": [
       "<div>                            <div id=\"6af9f07b-3f16-441d-9bb2-da4c01b03252\" class=\"plotly-graph-div\" style=\"height:500px; width:1000px;\"></div>            <script type=\"text/javascript\">                require([\"plotly\"], function(Plotly) {                    window.PLOTLYENV=window.PLOTLYENV || {};                                    if (document.getElementById(\"6af9f07b-3f16-441d-9bb2-da4c01b03252\")) {                    Plotly.newPlot(                        \"6af9f07b-3f16-441d-9bb2-da4c01b03252\",                        [{\"colorscale\":[[0.0,\"rgb(0, 147, 146)\"],[0.16666666666666666,\"rgb(57, 177, 133)\"],[0.3333333333333333,\"rgb(156, 203, 134)\"],[0.5,\"rgb(233, 226, 156)\"],[0.6666666666666666,\"rgb(238, 180, 121)\"],[0.8333333333333334,\"rgb(232, 132, 113)\"],[1.0,\"rgb(207, 89, 126)\"]],\"contours\":{\"x\":{\"color\":\"red\",\"show\":true,\"size\":0.1},\"y\":{\"color\":\"red\",\"show\":true,\"size\":0.1}},\"hovertemplate\":\"Moneyness:  %{y: .2%}<br>Maturity (yrs): %{x: .1f}<br>Volatility: %{z: .2f}<extra></extra>\",\"opacity\":0.75,\"type\":\"surface\",\"x\":[0.08333333333333333,1.0,2.0,3.0],\"y\":[0.5,0.51010101010101,0.5202020202020202,0.5303030303030303,0.5404040404040404,0.5505050505050505,0.5606060606060606,0.5707070707070707,0.5808080808080808,0.5909090909090909,0.601010101010101,0.6111111111111112,0.6212121212121212,0.6313131313131313,0.6414141414141414,0.6515151515151515,0.6616161616161617,0.6717171717171717,0.6818181818181819,0.6919191919191919,0.702020202020202,0.7121212121212122,0.7222222222222222,0.7323232323232324,0.7424242424242424,0.7525252525252526,0.7626262626262627,0.7727272727272727,0.7828282828282829,0.7929292929292929,0.803030303030303,0.8131313131313131,0.8232323232323233,0.8333333333333334,0.8434343434343434,0.8535353535353536,0.8636363636363636,0.8737373737373737,0.8838383838383839,0.893939393939394,0.9040404040404041,0.9141414141414141,0.9242424242424243,0.9343434343434344,0.9444444444444444,0.9545454545454546,0.9646464646464648,0.9747474747474748,0.9848484848484849,0.994949494949495,1.0050505050505052,1.0151515151515151,1.0252525252525253,1.0353535353535355,1.0454545454545454,1.0555555555555556,1.0656565656565657,1.0757575757575757,1.0858585858585859,1.095959595959596,1.106060606060606,1.1161616161616164,1.1262626262626263,1.1363636363636365,1.1464646464646466,1.1565656565656566,1.1666666666666667,1.176767676767677,1.1868686868686869,1.196969696969697,1.2070707070707072,1.2171717171717171,1.2272727272727273,1.2373737373737375,1.2474747474747474,1.2575757575757578,1.2676767676767677,1.2777777777777777,1.287878787878788,1.297979797979798,1.3080808080808082,1.3181818181818183,1.3282828282828283,1.3383838383838385,1.3484848484848486,1.3585858585858586,1.3686868686868687,1.378787878787879,1.3888888888888888,1.3989898989898992,1.4090909090909092,1.4191919191919191,1.4292929292929295,1.4393939393939394,1.4494949494949496,1.4595959595959598,1.4696969696969697,1.47979797979798,1.48989898989899,1.5],\"z\":[[0.4627997473474606,0.43190563698299017,0.4039120726628932,0.3181881458592934],[0.4593440499611189,0.4269614765904312,0.40192909354178735,0.3166247792585516],[0.455961627450838,0.4221981719708083,0.39998712531390873,0.3150910963952644],[0.4526493405020954,0.4176053948908161,0.3980845328774583,0.31358595911689385],[0.4494042349471452,0.41317356615022666,0.3962197803753225,0.31210829401300605],[0.44622355096845645,0.4088938515441701,0.39439142138389666,0.3106570882428635],[0.4431047000920239,0.4047580718720171,0.3925980929327678,0.3092313848991728],[0.4400452531049756,0.4007586470002306,0.3908385089374568,0.3078302791961835],[0.4370429269940784,0.3968885398250086,0.38911145472379144,0.3064529145533619],[0.43409557345379063,0.393141207172213,0.3874157818220588,0.30509847916044097],[0.43120116863855357,0.3895105564726732,0.3857504030829672,0.303766202923933],[0.42835780384132666,0.3859909068722778,0.3841142883877859,0.30245535466511747],[0.4255636770509414,0.3825769543925583,0.3825064607340214,0.3011652395556746],[0.4228170852648303,0.37926374058401735,0.38092599265059945,0.29989519686112753],[0.4201164174877622,0.37604662429630714,0.37937200290941286,0.2986445977083093],[0.4174601483572477,0.37292125625235545,0.37784365356276317,0.29741284297066034],[0.41484683238276937,0.3698835562767364,0.376340147193307,0.296199361426646],[0.4122750985067728,0.3669296921160477,0.37486072423362765,0.29500360806048065],[0.4097436451569677,0.3640560603711076,0.37340466060062505,0.29382506248948076],[0.40725123575053657,0.36125926933091135,0.3719712655235746,0.29266322755220947],[0.40479669455876405,0.3585361233444658,0.3705598795350029,0.29151762799069375],[0.4023789028979387,0.35588360857106327,0.3691698726101257,0.29038780909247786],[0.3999967956161975,0.35329887996858217,0.36780064246910776,0.28927333551693735],[0.39764935784919636,0.35077924939550176,0.3664516130166453,0.2881737902161996],[0.395335622036197,0.3483221747645507,0.3651222327751247,0.28708877342952555],[0.3930546651838313,0.3459252501732767,0.3638119734903541,0.2860179017577754],[0.3908056062318962,0.34358619654445566,0.3625203288485055,0.28496080734139395],[0.38858760365078976,0.34130285315505077,0.36124681327995173,0.28391713698092347],[0.38639985322683845,0.33907316989183195,0.3599909608431046,0.28288655134622903],[0.3842415860024628,0.33689520011355234,0.3587523241939188,0.2818687242646166],[0.38211206635837597,0.3347670940647441,0.35753047364842006,0.2808633420536769],[0.38001059022622946,0.33268709279180203,0.3563249962218397,0.27987010289759773],[0.3779364834212364,0.33065352251711255,0.35513549476035877,0.27888871629624457],[0.3758891001003864,0.3286647894733999,0.35396158714387843,0.27791890250012985],[0.3738678213242928,0.3267193751226404,0.3528029055380246,0.2769603919530757],[0.3718720536576314,0.32481583157159766,0.35165909569182074,0.27601292480572265],[0.3699012278897678,0.3229527774045817,0.35052981628275776,0.27507625045882045],[0.36795479784159124,0.32112889382690507,0.34941473832488623,0.2741501271329098],[0.3660322392460825,0.3193429210766811,0.348313544557552,0.2732343214785724],[0.3641330486971704,0.317593655083342,0.34722592887924797,0.2723286082095898],[0.36225674266188596,0.31587994435320965,0.3461515958310746,0.2714327697038391],[0.36040285655148147,0.3142006870648443,0.345090260109594,0.27054659565772887],[0.3585709438606473,0.3125548283919119,0.34404164610703947,0.26966988276501924],[0.3567605753475655,0.3109413579771317,0.34300548747900045,0.2688024344129139],[0.3549713382341983,0.30935930750285523,0.34198152675436017,0.26794406039888174],[0.35320283547220793,0.30780774847125225,0.3409695149346774,0.26709457668051917],[0.3514546850516476,0.3062857901301305,0.33996921111074363,0.26625380509471225],[0.3497265193475326,0.3047925775285459,0.33898038211578063,0.2654215731011717],[0.3480179845017445,0.30332728969284556,0.33800280219713164,0.26459771355118694],[0.3463287398379108,0.30188913791446453,0.33703625270501225,0.26378206446806834],[0.3446584573076266,0.3004773641427947,0.33608052179793246,0.2629744688393038],[0.3430068209766358,0.29909123950099636,0.3351354041759778,0.2621747744336512],[0.3413735265233186,0.29773006285594034,0.33420070081154474,0.2613828336088834],[0.33975828075198256,0.2963931594481138,0.33327621868145096,0.26059850311527644],[0.33816080114279745,0.29507987963125476,0.33236177052677374,0.2598216439249311],[0.3365808154242512,0.29378959768574736,0.3314571746250285,0.25905212106991915],[0.3350180611661433,0.2925217106995047,0.3305622545733593,0.2582898034880754],[0.3334722853918232,0.2912756375118592,0.32967683908231943,0.2575345638828291],[0.3319432442084658,0.290050817716361,0.3288007617876303,0.25678627859146125],[0.33043070245519357,0.2888467107207633,0.32793386106499595,0.25604482743450785],[0.328934433375418,0.28766279487702984,0.32707597983833725,0.2553100935856943],[0.327454218288986,0.2864985666255153,0.32622696540878665,0.25458196345049383],[0.32598984627691213,0.2853535396819837,0.3253866692925711,0.25386032655008006],[0.32454111388655277,0.2842272442836471,0.32455494706621957,0.25314507541235076],[0.3231078248491545,0.28311922647510873,0.3237316582187355,0.2524361054767741],[0.32168978980891283,0.282029047431502,0.32291666601519703,0.25173331498303725],[0.32028682606283965,0.28095628281657714,0.32210983736655313,0.2510366048679466],[0.3188987573107883,0.27990052217364736,0.3213110426897237,0.25034587867281743],[0.31752541341633433,0.27886136835021,0.3205201557827668,0.24966104245478213],[0.31616663018200053,0.27783843696307947,0.3197370537069425,0.24898200470211626],[0.31482224911980006,0.2768313558627609,0.31896161667378925,0.2483086762602344],[0.31349211723257575,0.275839764630065,0.31819372793696016,0.24764097025263196],[0.3121760868065165,0.2748633141050208,0.31743327369117963,0.246978801997168],[0.31087401521066804,0.2739016659386383,0.31668014297859703,0.24632208893401447],[0.3095857647030167,0.272954492166216,0.31593422758535716,0.24567075055691365],[0.30831120224275776,0.27202147480098654,0.3151954219483331,0.24502470834716517],[0.3070501993083911,0.27110230544697533,0.31446362306766823,0.2443838857135354],[0.3058026317228967,0.2701966849333994,0.31373873042281814,0.24374820793624258],[0.30456837948656457,0.26930432297160073,0.3130206458919281,0.2431176020998259],[0.3033473266049686,0.2684249378076496,0.3123092736756893,0.2424919970353952],[0.30213936092563526,0.26755825589895105,0.3116045202282828,0.24187132326666397],[0.3009443739807167,0.2667040116088941,0.3109062941802927,0.2412555129580188],[0.2997622608337566,0.26586194691522835,0.3102145062675114,0.2406444998654794],[0.2985929199303298,0.2650318111314459,0.30952906926496393,0.24003821929450436],[0.2974362529523519,0.2642133606404937,0.3088498979234332,0.2394366080488127],[0.2962921646758784,0.2634063586401966,0.30817690890837346,0.23883960438229623],[0.29516056283388054,0.2626105749035665,0.30751002074170203,0.238247147956139],[0.2940413579822506,0.2618257855501791,0.30684915374960625,0.2376591797974966],[0.29293446336296075,0.26105177281439296,0.30619423000477,0.2370756422597938],[0.2918397947736538,0.2602883248307016,0.3055451732710017,0.2364964789883002],[0.29075727044054356,0.25953523542947016,0.30490190895269725,0.23592163488298273],[0.2896868108942856,0.2587923039414487,0.30426436404610885,0.23535105605777132],[0.2886283388474669,0.25805933500977596,0.3036324670924366,0.2347846898058383],[0.28758177907688487,0.2573361384113301,0.3030061481327048,0.2342224845664344],[0.286547058304102,0.25662252888264514,0.3023853386672971,0.2336643898926789],[0.2855241050808074,0.25591832595741504,0.30176997161380115,0.23311035642236122],[0.2845128497105472,0.2552233538324759,0.30115998125679283,0.2325603358518451],[0.28351322394817857,0.2545374410791936,0.3005553032320711,0.23201428089759774],[0.2825251616777919,0.25386042104110096,0.2999558744189435,0.2314721452852184],[0.2815485959907127,0.2531921297430852,0.2993616330680001,0.2309338836699018]]}],                        {\"font\":{\"family\":\"Courier New, monospace\",\"size\":10},\"height\":500,\"margin\":{\"b\":65,\"l\":65,\"r\":50,\"t\":90},\"scene\":{\"xaxis\":{\"autorange\":\"reversed\",\"tickformat\":\".1f\",\"title\":{\"text\":\"Maturity (yrs)\"}},\"yaxis\":{\"tickformat\":\".2%\",\"title\":{\"text\":\"Moneyness\"}},\"zaxis\":{\"tickformat\":\".2%\",\"title\":{\"text\":\"Volatility\"}}},\"template\":{\"data\":{\"bar\":[{\"error_x\":{\"color\":\"#2a3f5f\"},\"error_y\":{\"color\":\"#2a3f5f\"},\"marker\":{\"line\":{\"color\":\"#E5ECF6\",\"width\":0.5},\"pattern\":{\"fillmode\":\"overlay\",\"size\":10,\"solidity\":0.2}},\"type\":\"bar\"}],\"barpolar\":[{\"marker\":{\"line\":{\"color\":\"#E5ECF6\",\"width\":0.5},\"pattern\":{\"fillmode\":\"overlay\",\"size\":10,\"solidity\":0.2}},\"type\":\"barpolar\"}],\"carpet\":[{\"aaxis\":{\"endlinecolor\":\"#2a3f5f\",\"gridcolor\":\"white\",\"linecolor\":\"white\",\"minorgridcolor\":\"white\",\"startlinecolor\":\"#2a3f5f\"},\"baxis\":{\"endlinecolor\":\"#2a3f5f\",\"gridcolor\":\"white\",\"linecolor\":\"white\",\"minorgridcolor\":\"white\",\"startlinecolor\":\"#2a3f5f\"},\"type\":\"carpet\"}],\"choropleth\":[{\"colorbar\":{\"outlinewidth\":0,\"ticks\":\"\"},\"type\":\"choropleth\"}],\"contour\":[{\"colorbar\":{\"outlinewidth\":0,\"ticks\":\"\"},\"colorscale\":[[0.0,\"#0d0887\"],[0.1111111111111111,\"#46039f\"],[0.2222222222222222,\"#7201a8\"],[0.3333333333333333,\"#9c179e\"],[0.4444444444444444,\"#bd3786\"],[0.5555555555555556,\"#d8576b\"],[0.6666666666666666,\"#ed7953\"],[0.7777777777777778,\"#fb9f3a\"],[0.8888888888888888,\"#fdca26\"],[1.0,\"#f0f921\"]],\"type\":\"contour\"}],\"contourcarpet\":[{\"colorbar\":{\"outlinewidth\":0,\"ticks\":\"\"},\"type\":\"contourcarpet\"}],\"heatmap\":[{\"colorbar\":{\"outlinewidth\":0,\"ticks\":\"\"},\"colorscale\":[[0.0,\"#0d0887\"],[0.1111111111111111,\"#46039f\"],[0.2222222222222222,\"#7201a8\"],[0.3333333333333333,\"#9c179e\"],[0.4444444444444444,\"#bd3786\"],[0.5555555555555556,\"#d8576b\"],[0.6666666666666666,\"#ed7953\"],[0.7777777777777778,\"#fb9f3a\"],[0.8888888888888888,\"#fdca26\"],[1.0,\"#f0f921\"]],\"type\":\"heatmap\"}],\"heatmapgl\":[{\"colorbar\":{\"outlinewidth\":0,\"ticks\":\"\"},\"colorscale\":[[0.0,\"#0d0887\"],[0.1111111111111111,\"#46039f\"],[0.2222222222222222,\"#7201a8\"],[0.3333333333333333,\"#9c179e\"],[0.4444444444444444,\"#bd3786\"],[0.5555555555555556,\"#d8576b\"],[0.6666666666666666,\"#ed7953\"],[0.7777777777777778,\"#fb9f3a\"],[0.8888888888888888,\"#fdca26\"],[1.0,\"#f0f921\"]],\"type\":\"heatmapgl\"}],\"histogram\":[{\"marker\":{\"pattern\":{\"fillmode\":\"overlay\",\"size\":10,\"solidity\":0.2}},\"type\":\"histogram\"}],\"histogram2d\":[{\"colorbar\":{\"outlinewidth\":0,\"ticks\":\"\"},\"colorscale\":[[0.0,\"#0d0887\"],[0.1111111111111111,\"#46039f\"],[0.2222222222222222,\"#7201a8\"],[0.3333333333333333,\"#9c179e\"],[0.4444444444444444,\"#bd3786\"],[0.5555555555555556,\"#d8576b\"],[0.6666666666666666,\"#ed7953\"],[0.7777777777777778,\"#fb9f3a\"],[0.8888888888888888,\"#fdca26\"],[1.0,\"#f0f921\"]],\"type\":\"histogram2d\"}],\"histogram2dcontour\":[{\"colorbar\":{\"outlinewidth\":0,\"ticks\":\"\"},\"colorscale\":[[0.0,\"#0d0887\"],[0.1111111111111111,\"#46039f\"],[0.2222222222222222,\"#7201a8\"],[0.3333333333333333,\"#9c179e\"],[0.4444444444444444,\"#bd3786\"],[0.5555555555555556,\"#d8576b\"],[0.6666666666666666,\"#ed7953\"],[0.7777777777777778,\"#fb9f3a\"],[0.8888888888888888,\"#fdca26\"],[1.0,\"#f0f921\"]],\"type\":\"histogram2dcontour\"}],\"mesh3d\":[{\"colorbar\":{\"outlinewidth\":0,\"ticks\":\"\"},\"type\":\"mesh3d\"}],\"parcoords\":[{\"line\":{\"colorbar\":{\"outlinewidth\":0,\"ticks\":\"\"}},\"type\":\"parcoords\"}],\"pie\":[{\"automargin\":true,\"type\":\"pie\"}],\"scatter\":[{\"marker\":{\"colorbar\":{\"outlinewidth\":0,\"ticks\":\"\"}},\"type\":\"scatter\"}],\"scatter3d\":[{\"line\":{\"colorbar\":{\"outlinewidth\":0,\"ticks\":\"\"}},\"marker\":{\"colorbar\":{\"outlinewidth\":0,\"ticks\":\"\"}},\"type\":\"scatter3d\"}],\"scattercarpet\":[{\"marker\":{\"colorbar\":{\"outlinewidth\":0,\"ticks\":\"\"}},\"type\":\"scattercarpet\"}],\"scattergeo\":[{\"marker\":{\"colorbar\":{\"outlinewidth\":0,\"ticks\":\"\"}},\"type\":\"scattergeo\"}],\"scattergl\":[{\"marker\":{\"colorbar\":{\"outlinewidth\":0,\"ticks\":\"\"}},\"type\":\"scattergl\"}],\"scattermapbox\":[{\"marker\":{\"colorbar\":{\"outlinewidth\":0,\"ticks\":\"\"}},\"type\":\"scattermapbox\"}],\"scatterpolar\":[{\"marker\":{\"colorbar\":{\"outlinewidth\":0,\"ticks\":\"\"}},\"type\":\"scatterpolar\"}],\"scatterpolargl\":[{\"marker\":{\"colorbar\":{\"outlinewidth\":0,\"ticks\":\"\"}},\"type\":\"scatterpolargl\"}],\"scatterternary\":[{\"marker\":{\"colorbar\":{\"outlinewidth\":0,\"ticks\":\"\"}},\"type\":\"scatterternary\"}],\"surface\":[{\"colorbar\":{\"outlinewidth\":0,\"ticks\":\"\"},\"colorscale\":[[0.0,\"#0d0887\"],[0.1111111111111111,\"#46039f\"],[0.2222222222222222,\"#7201a8\"],[0.3333333333333333,\"#9c179e\"],[0.4444444444444444,\"#bd3786\"],[0.5555555555555556,\"#d8576b\"],[0.6666666666666666,\"#ed7953\"],[0.7777777777777778,\"#fb9f3a\"],[0.8888888888888888,\"#fdca26\"],[1.0,\"#f0f921\"]],\"type\":\"surface\"}],\"table\":[{\"cells\":{\"fill\":{\"color\":\"#EBF0F8\"},\"line\":{\"color\":\"white\"}},\"header\":{\"fill\":{\"color\":\"#C8D4E3\"},\"line\":{\"color\":\"white\"}},\"type\":\"table\"}]},\"layout\":{\"annotationdefaults\":{\"arrowcolor\":\"#2a3f5f\",\"arrowhead\":0,\"arrowwidth\":1},\"autotypenumbers\":\"strict\",\"coloraxis\":{\"colorbar\":{\"outlinewidth\":0,\"ticks\":\"\"}},\"colorscale\":{\"diverging\":[[0,\"#8e0152\"],[0.1,\"#c51b7d\"],[0.2,\"#de77ae\"],[0.3,\"#f1b6da\"],[0.4,\"#fde0ef\"],[0.5,\"#f7f7f7\"],[0.6,\"#e6f5d0\"],[0.7,\"#b8e186\"],[0.8,\"#7fbc41\"],[0.9,\"#4d9221\"],[1,\"#276419\"]],\"sequential\":[[0.0,\"#0d0887\"],[0.1111111111111111,\"#46039f\"],[0.2222222222222222,\"#7201a8\"],[0.3333333333333333,\"#9c179e\"],[0.4444444444444444,\"#bd3786\"],[0.5555555555555556,\"#d8576b\"],[0.6666666666666666,\"#ed7953\"],[0.7777777777777778,\"#fb9f3a\"],[0.8888888888888888,\"#fdca26\"],[1.0,\"#f0f921\"]],\"sequentialminus\":[[0.0,\"#0d0887\"],[0.1111111111111111,\"#46039f\"],[0.2222222222222222,\"#7201a8\"],[0.3333333333333333,\"#9c179e\"],[0.4444444444444444,\"#bd3786\"],[0.5555555555555556,\"#d8576b\"],[0.6666666666666666,\"#ed7953\"],[0.7777777777777778,\"#fb9f3a\"],[0.8888888888888888,\"#fdca26\"],[1.0,\"#f0f921\"]]},\"colorway\":[\"#636efa\",\"#EF553B\",\"#00cc96\",\"#ab63fa\",\"#FFA15A\",\"#19d3f3\",\"#FF6692\",\"#B6E880\",\"#FF97FF\",\"#FECB52\"],\"font\":{\"color\":\"#2a3f5f\"},\"geo\":{\"bgcolor\":\"white\",\"lakecolor\":\"white\",\"landcolor\":\"#E5ECF6\",\"showlakes\":true,\"showland\":true,\"subunitcolor\":\"white\"},\"hoverlabel\":{\"align\":\"left\"},\"hovermode\":\"closest\",\"mapbox\":{\"style\":\"light\"},\"paper_bgcolor\":\"white\",\"plot_bgcolor\":\"#E5ECF6\",\"polar\":{\"angularaxis\":{\"gridcolor\":\"white\",\"linecolor\":\"white\",\"ticks\":\"\"},\"bgcolor\":\"#E5ECF6\",\"radialaxis\":{\"gridcolor\":\"white\",\"linecolor\":\"white\",\"ticks\":\"\"}},\"scene\":{\"xaxis\":{\"backgroundcolor\":\"#E5ECF6\",\"gridcolor\":\"white\",\"gridwidth\":2,\"linecolor\":\"white\",\"showbackground\":true,\"ticks\":\"\",\"zerolinecolor\":\"white\"},\"yaxis\":{\"backgroundcolor\":\"#E5ECF6\",\"gridcolor\":\"white\",\"gridwidth\":2,\"linecolor\":\"white\",\"showbackground\":true,\"ticks\":\"\",\"zerolinecolor\":\"white\"},\"zaxis\":{\"backgroundcolor\":\"#E5ECF6\",\"gridcolor\":\"white\",\"gridwidth\":2,\"linecolor\":\"white\",\"showbackground\":true,\"ticks\":\"\",\"zerolinecolor\":\"white\"}},\"shapedefaults\":{\"line\":{\"color\":\"#2a3f5f\"}},\"ternary\":{\"aaxis\":{\"gridcolor\":\"white\",\"linecolor\":\"white\",\"ticks\":\"\"},\"baxis\":{\"gridcolor\":\"white\",\"linecolor\":\"white\",\"ticks\":\"\"},\"bgcolor\":\"#E5ECF6\",\"caxis\":{\"gridcolor\":\"white\",\"linecolor\":\"white\",\"ticks\":\"\"}},\"title\":{\"x\":0.05},\"xaxis\":{\"automargin\":true,\"gridcolor\":\"white\",\"linecolor\":\"white\",\"ticks\":\"\",\"title\":{\"standoff\":15},\"zerolinecolor\":\"white\",\"zerolinewidth\":2},\"yaxis\":{\"automargin\":true,\"gridcolor\":\"white\",\"linecolor\":\"white\",\"ticks\":\"\",\"title\":{\"standoff\":15},\"zerolinecolor\":\"white\",\"zerolinewidth\":2}}},\"title\":{\"text\":\"<b>Volatility Surface</b>\",\"x\":0.5,\"xanchor\":\"center\",\"y\":0.95,\"yanchor\":\"top\"},\"width\":1000},                        {\"responsive\": true}                    ).then(function(){\n",
       "                            \n",
       "var gd = document.getElementById('6af9f07b-3f16-441d-9bb2-da4c01b03252');\n",
       "var x = new MutationObserver(function (mutations, observer) {{\n",
       "        var display = window.getComputedStyle(gd).display;\n",
       "        if (!display || display === 'none') {{\n",
       "            console.log([gd, 'removed!']);\n",
       "            Plotly.purge(gd);\n",
       "            observer.disconnect();\n",
       "        }}\n",
       "}});\n",
       "\n",
       "// Listen for the removal of the full notebook cells\n",
       "var notebookContainer = gd.closest('#notebook-container');\n",
       "if (notebookContainer) {{\n",
       "    x.observe(notebookContainer, {childList: true});\n",
       "}}\n",
       "\n",
       "// Listen for the clearing of the current output cell\n",
       "var outputEl = gd.closest('.output');\n",
       "if (outputEl) {{\n",
       "    x.observe(outputEl, {childList: true});\n",
       "}}\n",
       "\n",
       "                        })                };                });            </script>        </div>"
      ]
     },
     "metadata": {},
     "output_type": "display_data"
    }
   ],
   "source": [
    "#\n",
    "refdate = dt.datetime(2017, 1, 1, 0, 0, 0)\n",
    "expiries = [\n",
    "    dt.datetime(2017, 2, 1, 0, 0, 0),\n",
    "    dt.datetime(2018, 1, 1, 0, 0, 0),\n",
    "    dt.datetime(2019, 1, 1, 0, 0, 0),\n",
    "    dt.datetime(2020, 1, 1, 0, 0, 0)\n",
    "]\n",
    "\n",
    "# strikes = list(s_range(80, 120, 100))\n",
    "moneyness = np.linspace(0.5, 1.5, 100)\n",
    "\n",
    "y = moneyness\n",
    "x = ttm\n",
    "\n",
    "term_structure = []\n",
    "for i in moneyness:\n",
    "    temp = []\n",
    "    for j in expiries:\n",
    "        strike = i * forward_curve.value(refdate, j)\n",
    "        temp.append(vol_surf.calc_implied_vol(j, strike, refdate))\n",
    "    term_structure.append(temp)\n",
    "\n",
    "fig = go.Figure(data=[go.Surface(x=x, y=y,z=term_structure\n",
    "                        ,contours = {\"x\": {\"show\": True,\"size\": 0.1, \"color\":\"red\"},\n",
    "                                    \"y\": {\"show\": True,\"size\": 0.1, \"color\":\"red\"},}\n",
    "                        ,opacity = .75\n",
    "                        ,hovertemplate =\n",
    "                        'Moneyness:  %{y: .2%}' +\\\n",
    "                        '<br>Maturity (yrs): %{x: .1f}' +\\\n",
    "                        '<br>Volatility: %{z: .2f}<extra></extra>'\n",
    "                     ,colorscale = 'temps')\n",
    "                     ])\n",
    "\n",
    "fig.update_layout(\n",
    "    title={\n",
    "        'text': \"<b>Volatility Surface</b>\",\n",
    "        'y': 0.95,\n",
    "        'x': 0.5,\n",
    "        'xanchor': 'center',\n",
    "        'yanchor': 'top'\n",
    "    }\n",
    "    # ,autosize=True\n",
    "    ,\n",
    "    width=1000,\n",
    "    height=500,\n",
    "    scene=dict(xaxis_title='Maturity (yrs)',\n",
    "               xaxis_tickformat='.1f',\n",
    "               xaxis_autorange='reversed',\n",
    "               yaxis_title='Moneyness',\n",
    "               yaxis_tickformat='.2%',\n",
    "               zaxis_title='Volatility',\n",
    "               zaxis_tickformat='.2%'),\n",
    "    font=dict(family=\"Courier New, monospace\", size=10),\n",
    "    margin=dict(l=65, r=50, b=65, t=90))\n",
    "\n",
    "fig.show()"
   ]
  },
  {
   "cell_type": "markdown",
   "metadata": {},
   "source": [
    "### Stickiness assumptions"
   ]
  },
  {
   "cell_type": "code",
   "execution_count": 16,
   "metadata": {
    "ExecuteTime": {
     "end_time": "2021-10-29T15:42:07.170441Z",
     "start_time": "2021-10-29T15:42:06.812385Z"
    }
   },
   "outputs": [
    {
     "name": "stdout",
     "output_type": "stream",
     "text": [
      "0.28140539477971765\n",
      "0.3056842287438742\n",
      "0.3056842287438742\n",
      "0.3056842287438742\n",
      "0.3056842287438742\n"
     ]
    }
   ],
   "source": [
    "obj_id_shifted = 'TEST_SURFACE_FWD_SHIFTED'\n",
    "forward_curve_shifted = mkt_data.EquityForwardCurve(1.2*spot,dc,bc,div_table)\n",
    "\n",
    "vol_surf = mkt_data.VolatilitySurface(obj_id, refdate, forward_curve, enums.DayCounterType.Act365Fixed, sabr_param)\n",
    "vol = vol_surf.calc_implied_vol(refdate + dt.timedelta(days=180),120,refdate)\n",
    "\n",
    "mkt_data.VolatilitySurface.set_stickyness(enums.VolatilityStickyness.StickyXStrike)\n",
    "vol_surf_shifted_stickyxstrike = mkt_data.VolatilitySurface(obj_id_shifted, refdate, forward_curve_shifted, enums.DayCounterType.Act365Fixed, sabr_param)\n",
    "vol_shifted_stickyxstrike = vol_surf_shifted_stickyxstrike.calc_implied_vol(refdate + dt.timedelta(days=180),120,refdate)\n",
    "\n",
    "mkt_data.VolatilitySurface.set_stickyness(enums.VolatilityStickyness.StickyStrike)\n",
    "vol_surf_shifted_stickystrike = mkt_data.VolatilitySurface(obj_id_shifted, refdate, forward_curve_shifted, enums.DayCounterType.Act365Fixed, sabr_param)\n",
    "vol_shifted_stickystrike = vol_surf_shifted_stickystrike.calc_implied_vol(refdate + dt.timedelta(days=180),120,refdate)\n",
    "\n",
    "mkt_data.VolatilitySurface.set_stickyness(enums.VolatilityStickyness.StickyFwdMoneyness)\n",
    "vol_surf_shifted_stickyfwdmoneyness = mkt_data.VolatilitySurface(obj_id_shifted, refdate, forward_curve_shifted, enums.DayCounterType.Act365Fixed, sabr_param)\n",
    "vol_surf_shifted_stickyfwdmoneyness = vol_surf_shifted_stickyfwdmoneyness.calc_implied_vol(refdate + dt.timedelta(days=180),120,refdate)\n",
    "\n",
    "mkt_data.VolatilitySurface.set_stickyness(enums.VolatilityStickyness.NONE)\n",
    "vol_surf_shifted_none = mkt_data.VolatilitySurface(obj_id_shifted, refdate, forward_curve_shifted, enums.DayCounterType.Act365Fixed, sabr_param)\n",
    "vol_surf_shifted_none = vol_surf_shifted_none.calc_implied_vol(refdate + dt.timedelta(days=180),120,refdate)\n",
    "\n",
    "print(vol)\n",
    "print(vol_shifted_stickyxstrike)\n",
    "print(vol_shifted_stickystrike)\n",
    "print(vol_surf_shifted_stickyfwdmoneyness)\n",
    "print(vol_surf_shifted_none)"
   ]
  },
  {
   "cell_type": "code",
   "execution_count": null,
   "metadata": {},
   "outputs": [],
   "source": []
  }
 ],
 "metadata": {
  "kernelspec": {
   "display_name": "Python 3",
   "language": "python",
   "name": "python3"
  },
  "language_info": {
   "codemirror_mode": {
    "name": "ipython",
    "version": 3
   },
   "file_extension": ".py",
   "mimetype": "text/x-python",
   "name": "python",
   "nbconvert_exporter": "python",
   "pygments_lexer": "ipython3",
   "version": "3.8.8"
  },
  "toc": {
   "base_numbering": 1,
   "nav_menu": {
    "height": "175px",
    "width": "252px"
   },
   "number_sections": true,
   "sideBar": true,
   "skip_h1_title": true,
   "title_cell": "Table of Contents",
   "title_sidebar": "Contents",
   "toc_cell": false,
   "toc_position": {
    "height": "calc(100% - 180px)",
    "left": "10px",
    "top": "150px",
    "width": "384px"
   },
   "toc_section_display": "block",
   "toc_window_display": true
  },
  "varInspector": {
   "cols": {
    "lenName": 16,
    "lenType": 16,
    "lenVar": 40
   },
   "kernels_config": {
    "python": {
     "delete_cmd_postfix": "",
     "delete_cmd_prefix": "del ",
     "library": "var_list.py",
     "varRefreshCmd": "print(var_dic_list())"
    },
    "r": {
     "delete_cmd_postfix": ") ",
     "delete_cmd_prefix": "rm(",
     "library": "var_list.r",
     "varRefreshCmd": "cat(var_dic_list()) "
    }
   },
   "types_to_exclude": [
    "module",
    "function",
    "builtin_function_or_method",
    "instance",
    "_Feature"
   ],
   "window_display": false
  }
 },
 "nbformat": 4,
 "nbformat_minor": 2
}
