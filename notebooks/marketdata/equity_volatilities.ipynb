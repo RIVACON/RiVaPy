{
 "cells": [
  {
   "cell_type": "markdown",
   "metadata": {},
   "source": [
    "![](../images/rivacon_frontmark_combined_header.png)"
   ]
  },
  {
   "cell_type": "markdown",
   "metadata": {},
   "source": [
    "# Equity Volatility Surfaces"
   ]
  },
  {
   "cell_type": "code",
   "execution_count": 1,
   "metadata": {
    "ExecuteTime": {
     "end_time": "2021-09-17T13:49:51.187672Z",
     "start_time": "2021-09-17T13:49:40.307349Z"
    }
   },
   "outputs": [],
   "source": [
    "import matplotlib\n",
    "matplotlib.use('nbagg')\n",
    "import rivapy\n",
    "from rivapy import marketdata as mkt_data\n",
    "from rivapy import enums as enums\n",
    "# import pyvacon\n",
    "import datetime as dt\n",
    "import math\n",
    "import numpy as np\n",
    "from mpl_toolkits.mplot3d import Axes3D\n",
    "from matplotlib import cm\n",
    "import plotly.graph_objects as go\n",
    "#the next lin is a jupyter internal command to show the matplotlib graphs within the notebook\n",
    "#%matplotlib inline"
   ]
  },
  {
   "cell_type": "markdown",
   "metadata": {},
   "source": [
    "## General Remarks\n",
    "An equity volatility surface is an object providing for arbitrary expiries and strikes implied volatilities. The volatility surfaces provided by the analytics library are parametrized w.r.t. the so-called X-strikes, i.e. one has to put in a strike w.r.t. the X-variable which is the driving process of the spot $S$, i.e.\n",
    "$$ S_t=(F_t-D_t)X_t+D_t$$\n",
    "where $F_t$ is the risky forward and $D_t$ the cash dividends, see [Buehler](https://papers.ssrn.com/sol3/papers.cfm?abstract_id=1141877) for a more detailed discussion. \n",
    "\n",
    "To create a volatility surface one needs two components:\n",
    "- A reference forward curve (typically the forward curve which was used to compute the implieds from quoted prices)\n",
    "- A volatility parametrization\n",
    "\n"
   ]
  },
  {
   "cell_type": "markdown",
   "metadata": {},
   "source": [
    "## Creating Forward Curve\n",
    "We create a dummy forward curve as shown in the  [forward_curve](equity_forwardcurve.ipynb) notebook which will be used in all subsequent volatility surface constructions."
   ]
  },
  {
   "cell_type": "code",
   "execution_count": 2,
   "metadata": {
    "ExecuteTime": {
     "end_time": "2021-09-17T13:49:51.219586Z",
     "start_time": "2021-09-17T13:49:51.193656Z"
    }
   },
   "outputs": [],
   "source": [
    "refdate = dt.datetime(2017,1,1)\n",
    "\n",
    "#dividend table neede fo forward curve\n",
    "object_id = \"TEST_DIV\" \n",
    "ex_dates = [dt.datetime(2018,3,29), dt.datetime(2019,3,29), dt.datetime(2020,3,29), dt.datetime(2021,3,29)]\n",
    "pay_dates = [dt.datetime(2018,4,1), dt.datetime(2019,4,1), dt.datetime(2020,4,1), dt.datetime(2021,4,1)]\n",
    "tax_factors = [1.0, 1.0, 1.0, 1.0]\n",
    "div_yield = [0, 0.005, 0.01, 0.01]\n",
    "div_cash = [3.0, 2.0, 1.0, 0.0]\n",
    "div_table=rivapy.marketdata.DividendTable(object_id, refdate, ex_dates, pay_dates, div_yield, div_cash, tax_factors)\n",
    "\n",
    "#discount- and borrowing curve needed for forward curve\n",
    "dates = [refdate + dt.timedelta(days=x) for x in [0,10]]\n",
    "df = [1.0,1.0]\n",
    "dc = mkt_data.DiscountCurve(object_id, refdate, dates, df, \n",
    "                             enums.InterpolationType.HAGAN_DF, enums.ExtrapolationType.NONE, enums.DayCounterType.Act365Fixed)\n",
    "bc = mkt_data.DiscountCurve(object_id, refdate, dates, df, \n",
    "                             enums.InterpolationType.HAGAN_DF, enums.ExtrapolationType.NONE, enums.DayCounterType.Act365Fixed)\n",
    "spot = 100.0\n",
    "\n",
    "#forward curve\n",
    "forward_curve = mkt_data.EquityForwardCurve(spot, dc, bc, div_table)"
   ]
  },
  {
   "cell_type": "markdown",
   "metadata": {},
   "source": [
    "## Volatility Parametrizations\n",
    "\n",
    "The volatility parametrization provides the method *calcImpliedVol* functionality to retrieve for each x-strike and time-to-maturity (in year fractions) the implied volatility. This method is used internally in the volatility surface in all methods where a implied volatility is computed.\n",
    "We will discuss the different available parametrizations in this subsection.\n",
    "\n",
    "### Flat volatility\n",
    "To setup a flat volatility, one may use the VolatilityParametrizationFlat"
   ]
  },
  {
   "cell_type": "code",
   "execution_count": 3,
   "metadata": {
    "ExecuteTime": {
     "end_time": "2021-09-17T13:49:51.235545Z",
     "start_time": "2021-09-17T13:49:51.224574Z"
    }
   },
   "outputs": [],
   "source": [
    "flat_param = mkt_data.VolatilityParametrizationFlat(0.3)"
   ]
  },
  {
   "cell_type": "markdown",
   "metadata": {},
   "source": [
    "### Term structure volatility\n",
    "To create a volatility which has only a term structure and no strike dependency one may use this parametrization type. This parametrization needs a vector of expiry times (given as year fractions which are interpreted as year fractions w.r.t. the day counter specified in th volatility surface) and forward at-the-money volatilities, i.e. X-strike=1.0."
   ]
  },
  {
   "cell_type": "code",
   "execution_count": 4,
   "metadata": {
    "ExecuteTime": {
     "end_time": "2021-09-17T13:49:51.267460Z",
     "start_time": "2021-09-17T13:49:51.240532Z"
    }
   },
   "outputs": [],
   "source": [
    "ttm = [1.0/12.0, 1.0, 2.0, 3.0]\n",
    "fwd_atm_vols =  [0.3, 0.28, 0.25, 0.24]\n",
    "term_param = mkt_data.VolatilityParametrizationTerm(ttm,fwd_atm_vols)"
   ]
  },
  {
   "cell_type": "markdown",
   "metadata": {},
   "source": [
    "### SSVI\n",
    "This parametrization is inspired by the volatility structure provided by stochastic volatility models. The total variance $w(k,t)$ for a strike log strike $k$ and time-to-maturity $t$ is given by\n",
    "$$ w(k,t) = \\frac{\\theta_t}{2}\\left( 1+\\rho\\phi(\\theta_t)k+\\sqrt{(\\phi(\\theta_t)k+\\rho)^2+(1-\\rho^2)}  \\right) $$ \n",
    "and \n",
    "$$ \\phi(\\theta_t) = \\frac{\\eta}{\\theta_t^\\gamma(1+\\theta_t)^{1-\\gamma}} $$\n",
    "for parameters $\\rho$, $\\eta$, $\\gamma$ and given atm implied total variances $\\theta_t:=\\sigma^2(t)t$. The term structure of implied total variances is internally approximated by interpolation from given atm volatilities. The nice property of this surface is that there are very simple conditions on the parameters to guarantee that the surface is free of arbitrage, see [gatheral_jacquier_svi](https://papers.ssrn.com/sol3/papers.cfm?abstract_id=2033323)."
   ]
  },
  {
   "cell_type": "code",
   "execution_count": 5,
   "metadata": {
    "ExecuteTime": {
     "end_time": "2021-09-17T13:49:51.283419Z",
     "start_time": "2021-09-17T13:49:51.273446Z"
    }
   },
   "outputs": [],
   "source": [
    "gamma = 0.5 # responsible for the \"rate of decay\"\n",
    "rho = -0.7 # responsible for the skewness of the vol_surface\n",
    "eta = 1.0 # responsible for the curvature\n",
    "ssvi_param = mkt_data.VolatilityParametrizationSSVI(ttm, fwd_atm_vols, rho, eta, gamma)"
   ]
  },
  {
   "cell_type": "code",
   "execution_count": 6,
   "metadata": {
    "ExecuteTime": {
     "end_time": "2021-09-17T13:49:51.331288Z",
     "start_time": "2021-09-17T13:49:51.289400Z"
    }
   },
   "outputs": [
    {
     "data": {
      "text/plain": [
       "0.3151536735681129"
      ]
     },
     "execution_count": 6,
     "metadata": {},
     "output_type": "execute_result"
    }
   ],
   "source": [
    "ssvi_param.calc_implied_vol(1,.9)"
   ]
  },
  {
   "cell_type": "markdown",
   "metadata": {},
   "source": [
    "### SVI"
   ]
  },
  {
   "cell_type": "code",
   "execution_count": 7,
   "metadata": {
    "ExecuteTime": {
     "end_time": "2021-09-17T13:49:51.363204Z",
     "start_time": "2021-09-17T13:49:51.342264Z"
    }
   },
   "outputs": [],
   "source": [
    "svi_param = mkt_data.VolatilityParametrizationSVI(expiries=np.array([1.0/365.0, 1.0]), svi_params=[\n",
    "        (0.0001, 0.1, -0.5, 0.0, 0.0001),\n",
    "        (0.0002, 0.1, -0.5, 0.0, 0.00004),\n",
    "])"
   ]
  },
  {
   "cell_type": "code",
   "execution_count": 8,
   "metadata": {
    "ExecuteTime": {
     "end_time": "2021-09-17T13:49:51.395118Z",
     "start_time": "2021-09-17T13:49:51.373177Z"
    }
   },
   "outputs": [
    {
     "data": {
      "text/plain": [
       "0.20037464909513877"
      ]
     },
     "execution_count": 8,
     "metadata": {},
     "output_type": "execute_result"
    }
   ],
   "source": [
    "svi_param.calc_implied_vol(1/365,1)"
   ]
  },
  {
   "cell_type": "markdown",
   "metadata": {},
   "source": [
    "### SABR"
   ]
  },
  {
   "cell_type": "code",
   "execution_count": 9,
   "metadata": {
    "ExecuteTime": {
     "end_time": "2021-09-17T13:49:51.411075Z",
     "start_time": "2021-09-17T13:49:51.401102Z"
    }
   },
   "outputs": [],
   "source": [
    "ttm = [1.0/12.0, 1.0, 2.0, 3.0]\n",
    "sabr_params = np.array([[.1, 0.1, .9,-.8],\n",
    "               [.3, 0.1, .1, .1],\n",
    "               [.5, .3, .9, -.75,],\n",
    "              [.5, .3, .9, -.85,]])"
   ]
  },
  {
   "cell_type": "code",
   "execution_count": 10,
   "metadata": {
    "ExecuteTime": {
     "end_time": "2021-09-17T13:49:51.442991Z",
     "start_time": "2021-09-17T13:49:51.415064Z"
    }
   },
   "outputs": [
    {
     "data": {
      "text/plain": [
       "0.30118"
      ]
     },
     "execution_count": 10,
     "metadata": {},
     "output_type": "execute_result"
    }
   ],
   "source": [
    "sabr_param = mkt_data.VolatilityParametrizationSABR(ttm, sabr_params)\n",
    "sabr_param.calc_implied_vol(1,1)"
   ]
  },
  {
   "cell_type": "markdown",
   "metadata": {},
   "source": [
    "## Volatility Surface\n",
    "The forward curve and the parametrization can now be combined into a VolatilitySurface"
   ]
  },
  {
   "cell_type": "code",
   "execution_count": 12,
   "metadata": {
    "ExecuteTime": {
     "end_time": "2021-09-17T13:49:51.599572Z",
     "start_time": "2021-09-17T13:49:51.576634Z"
    }
   },
   "outputs": [],
   "source": [
    "obj_id = 'TEST_SURFACE'\n",
    "vol_surf = mkt_data.VolatilitySurface(obj_id, refdate, forward_curve, enums.DayCounterType.Act365Fixed, svi_param)"
   ]
  },
  {
   "cell_type": "markdown",
   "metadata": {},
   "source": [
    "To compute an implied volatility, one may use the method *calcImpliedVol*. Note that this method applies a sticky-strike handling of volatilities, i.e. it assumes that the implied volatility given a certain strike is independent of current forward values which may differ from the forwards when the volatility surface was calibrated."
   ]
  },
  {
   "cell_type": "code",
   "execution_count": 13,
   "metadata": {
    "ExecuteTime": {
     "end_time": "2021-09-17T13:49:51.659411Z",
     "start_time": "2021-09-17T13:49:51.608549Z"
    }
   },
   "outputs": [
    {
     "name": "stdout",
     "output_type": "stream",
     "text": [
      "0.16623709190496166\n"
     ]
    }
   ],
   "source": [
    "# vol = vol_surf.calc_implied_vol(refdate,refdate + dt.timedelta(days=180),120)\n",
    "vol = vol_surf.calc_implied_vol(refdate + dt.timedelta(days=180),120,refdate)\n",
    "print(vol)"
   ]
  },
  {
   "cell_type": "markdown",
   "metadata": {},
   "source": [
    "By executing the following command line, the volatility surface is plotted."
   ]
  },
  {
   "cell_type": "code",
   "execution_count": 14,
   "metadata": {
    "ExecuteTime": {
     "end_time": "2021-09-17T13:49:53.424242Z",
     "start_time": "2021-09-17T13:49:51.665396Z"
    },
    "code_folding": [],
    "tags": []
   },
   "outputs": [
    {
     "ename": "TypeError",
     "evalue": "Wrong number or type of arguments for overloaded function 'ForwardCurve_value'.\n  Possible C/C++ prototypes are:\n    ForwardCurve::value(ptime const &,ptime const &) const\n    ForwardCurve::value(std::vector< double,std::allocator< double > > &,ptime const &,std::vector< ptime,std::allocator< ptime > > const &) const\n",
     "output_type": "error",
     "traceback": [
      "\u001b[1;31m---------------------------------------------------------------------------\u001b[0m",
      "\u001b[1;31mTypeError\u001b[0m                                 Traceback (most recent call last)",
      "\u001b[1;32m<ipython-input-14-571d4b33fe3a>\u001b[0m in \u001b[0;36m<module>\u001b[1;34m\u001b[0m\n\u001b[0;32m     19\u001b[0m     \u001b[1;32mfor\u001b[0m \u001b[0mj\u001b[0m \u001b[1;32min\u001b[0m \u001b[0mexpiries\u001b[0m\u001b[1;33m:\u001b[0m\u001b[1;33m\u001b[0m\u001b[1;33m\u001b[0m\u001b[0m\n\u001b[0;32m     20\u001b[0m       \u001b[0mstrike\u001b[0m \u001b[1;33m=\u001b[0m \u001b[0mi\u001b[0m\u001b[1;33m*\u001b[0m\u001b[0mforward_curve\u001b[0m\u001b[1;33m.\u001b[0m\u001b[0mvalue\u001b[0m\u001b[1;33m(\u001b[0m\u001b[0mrefdate\u001b[0m\u001b[1;33m,\u001b[0m\u001b[0mj\u001b[0m\u001b[1;33m)\u001b[0m\u001b[1;33m\u001b[0m\u001b[1;33m\u001b[0m\u001b[0m\n\u001b[1;32m---> 21\u001b[1;33m       \u001b[0mtemp\u001b[0m\u001b[1;33m.\u001b[0m\u001b[0mappend\u001b[0m\u001b[1;33m(\u001b[0m\u001b[0mvol_surf\u001b[0m\u001b[1;33m.\u001b[0m\u001b[0mcalc_implied_vol\u001b[0m\u001b[1;33m(\u001b[0m\u001b[0mrefdate\u001b[0m\u001b[1;33m,\u001b[0m \u001b[0mj\u001b[0m\u001b[1;33m,\u001b[0m \u001b[0mstrike\u001b[0m\u001b[1;33m)\u001b[0m\u001b[1;33m)\u001b[0m\u001b[1;33m\u001b[0m\u001b[1;33m\u001b[0m\u001b[0m\n\u001b[0m\u001b[0;32m     22\u001b[0m     \u001b[0mterm_structure\u001b[0m\u001b[1;33m.\u001b[0m\u001b[0mappend\u001b[0m\u001b[1;33m(\u001b[0m\u001b[0mtemp\u001b[0m\u001b[1;33m)\u001b[0m\u001b[1;33m\u001b[0m\u001b[1;33m\u001b[0m\u001b[0m\n\u001b[0;32m     23\u001b[0m \u001b[1;33m\u001b[0m\u001b[0m\n",
      "\u001b[1;32m~\\OneDrive - RIVACON\\Dokumente\\Git\\RiVaPy\\rivapy\\marketdata\\__init__.py\u001b[0m in \u001b[0;36mcalc_implied_vol\u001b[1;34m(self, expiry, strike, refdate, forward_curve)\u001b[0m\n\u001b[0;32m    308\u001b[0m             \u001b[0mvol\u001b[0m \u001b[1;33m=\u001b[0m \u001b[0m_mkt_data\u001b[0m\u001b[1;33m.\u001b[0m\u001b[0mVolatilitySurface\u001b[0m\u001b[1;33m.\u001b[0m\u001b[0mcreateVolatilitySurfaceShiftedFwd\u001b[0m\u001b[1;33m(\u001b[0m\u001b[0mvol\u001b[0m\u001b[1;33m,\u001b[0m \u001b[0mforward_curve\u001b[0m\u001b[1;33m.\u001b[0m\u001b[0m_get_pyvacon_obj\u001b[0m\u001b[1;33m(\u001b[0m\u001b[1;33m)\u001b[0m\u001b[1;33m)\u001b[0m\u001b[1;33m\u001b[0m\u001b[1;33m\u001b[0m\u001b[0m\n\u001b[0;32m    309\u001b[0m         \u001b[0mforward_curve_obj\u001b[0m \u001b[1;33m=\u001b[0m \u001b[0mforward_curve\u001b[0m\u001b[1;33m.\u001b[0m\u001b[0m_get_pyvacon_obj\u001b[0m\u001b[1;33m(\u001b[0m\u001b[1;33m)\u001b[0m\u001b[1;33m\u001b[0m\u001b[1;33m\u001b[0m\u001b[0m\n\u001b[1;32m--> 310\u001b[1;33m         \u001b[0mx_strike\u001b[0m \u001b[1;33m=\u001b[0m \u001b[0m_utils\u001b[0m\u001b[1;33m.\u001b[0m\u001b[0mcomputeXStrike\u001b[0m\u001b[1;33m(\u001b[0m\u001b[0mstrike\u001b[0m\u001b[1;33m,\u001b[0m \u001b[0mforward_curve_obj\u001b[0m\u001b[1;33m.\u001b[0m\u001b[0mvalue\u001b[0m\u001b[1;33m(\u001b[0m\u001b[0mrefdate\u001b[0m\u001b[1;33m,\u001b[0m \u001b[0mexpiry\u001b[0m\u001b[1;33m)\u001b[0m\u001b[1;33m,\u001b[0m \u001b[0mforward_curve_obj\u001b[0m\u001b[1;33m.\u001b[0m\u001b[0mdiscountedFutureCashDivs\u001b[0m\u001b[1;33m(\u001b[0m\u001b[0mrefdate\u001b[0m\u001b[1;33m,\u001b[0m \u001b[0mexpiry\u001b[0m\u001b[1;33m)\u001b[0m\u001b[1;33m)\u001b[0m\u001b[1;33m\u001b[0m\u001b[1;33m\u001b[0m\u001b[0m\n\u001b[0m\u001b[0;32m    311\u001b[0m         \u001b[1;32mif\u001b[0m \u001b[0mx_strike\u001b[0m \u001b[1;33m<\u001b[0m \u001b[1;36m0\u001b[0m\u001b[1;33m:\u001b[0m\u001b[1;33m\u001b[0m\u001b[1;33m\u001b[0m\u001b[0m\n\u001b[0;32m    312\u001b[0m             raise Exception(f'The given strike value seems implausible compared to the discounted future cash dividends\\\n",
      "\u001b[1;32m~\\anaconda3\\lib\\site-packages\\pyvacon\\_converter.py\u001b[0m in \u001b[0;36mwrapper\u001b[1;34m(*args, **kwargs)\u001b[0m\n\u001b[0;32m     74\u001b[0m     \u001b[1;32mdef\u001b[0m \u001b[0mwrapper\u001b[0m\u001b[1;33m(\u001b[0m\u001b[1;33m*\u001b[0m\u001b[0margs\u001b[0m\u001b[1;33m,\u001b[0m \u001b[1;33m**\u001b[0m\u001b[0mkwargs\u001b[0m\u001b[1;33m)\u001b[0m\u001b[1;33m:\u001b[0m\u001b[1;33m\u001b[0m\u001b[1;33m\u001b[0m\u001b[0m\n\u001b[0;32m     75\u001b[0m         \u001b[0mnew_args\u001b[0m \u001b[1;33m=\u001b[0m \u001b[1;33m[\u001b[0m\u001b[0m_convert\u001b[0m\u001b[1;33m(\u001b[0m\u001b[0mx\u001b[0m\u001b[1;33m)\u001b[0m \u001b[1;32mfor\u001b[0m \u001b[0mx\u001b[0m \u001b[1;32min\u001b[0m \u001b[0margs\u001b[0m\u001b[1;33m]\u001b[0m\u001b[1;33m\u001b[0m\u001b[1;33m\u001b[0m\u001b[0m\n\u001b[1;32m---> 76\u001b[1;33m         \u001b[0mresult\u001b[0m \u001b[1;33m=\u001b[0m \u001b[0mf\u001b[0m\u001b[1;33m(\u001b[0m\u001b[1;33m*\u001b[0m\u001b[0mnew_args\u001b[0m\u001b[1;33m,\u001b[0m \u001b[1;33m**\u001b[0m\u001b[0mkwargs\u001b[0m\u001b[1;33m)\u001b[0m\u001b[1;33m\u001b[0m\u001b[1;33m\u001b[0m\u001b[0m\n\u001b[0m\u001b[0;32m     77\u001b[0m         \u001b[1;32mreturn\u001b[0m \u001b[0mresult\u001b[0m\u001b[1;33m\u001b[0m\u001b[1;33m\u001b[0m\u001b[0m\n\u001b[0;32m     78\u001b[0m     \u001b[1;32mreturn\u001b[0m \u001b[0mwrapper\u001b[0m\u001b[1;33m\u001b[0m\u001b[1;33m\u001b[0m\u001b[0m\n",
      "\u001b[1;32m~\\anaconda3\\lib\\site-packages\\pyvacon\\_converter.py\u001b[0m in \u001b[0;36mwrapper\u001b[1;34m(*args, **kwargs)\u001b[0m\n\u001b[0;32m     74\u001b[0m     \u001b[1;32mdef\u001b[0m \u001b[0mwrapper\u001b[0m\u001b[1;33m(\u001b[0m\u001b[1;33m*\u001b[0m\u001b[0margs\u001b[0m\u001b[1;33m,\u001b[0m \u001b[1;33m**\u001b[0m\u001b[0mkwargs\u001b[0m\u001b[1;33m)\u001b[0m\u001b[1;33m:\u001b[0m\u001b[1;33m\u001b[0m\u001b[1;33m\u001b[0m\u001b[0m\n\u001b[0;32m     75\u001b[0m         \u001b[0mnew_args\u001b[0m \u001b[1;33m=\u001b[0m \u001b[1;33m[\u001b[0m\u001b[0m_convert\u001b[0m\u001b[1;33m(\u001b[0m\u001b[0mx\u001b[0m\u001b[1;33m)\u001b[0m \u001b[1;32mfor\u001b[0m \u001b[0mx\u001b[0m \u001b[1;32min\u001b[0m \u001b[0margs\u001b[0m\u001b[1;33m]\u001b[0m\u001b[1;33m\u001b[0m\u001b[1;33m\u001b[0m\u001b[0m\n\u001b[1;32m---> 76\u001b[1;33m         \u001b[0mresult\u001b[0m \u001b[1;33m=\u001b[0m \u001b[0mf\u001b[0m\u001b[1;33m(\u001b[0m\u001b[1;33m*\u001b[0m\u001b[0mnew_args\u001b[0m\u001b[1;33m,\u001b[0m \u001b[1;33m**\u001b[0m\u001b[0mkwargs\u001b[0m\u001b[1;33m)\u001b[0m\u001b[1;33m\u001b[0m\u001b[1;33m\u001b[0m\u001b[0m\n\u001b[0m\u001b[0;32m     77\u001b[0m         \u001b[1;32mreturn\u001b[0m \u001b[0mresult\u001b[0m\u001b[1;33m\u001b[0m\u001b[1;33m\u001b[0m\u001b[0m\n\u001b[0;32m     78\u001b[0m     \u001b[1;32mreturn\u001b[0m \u001b[0mwrapper\u001b[0m\u001b[1;33m\u001b[0m\u001b[1;33m\u001b[0m\u001b[0m\n",
      "\u001b[1;32m~\\anaconda3\\lib\\site-packages\\pyvacon\\pyvacon_swig.py\u001b[0m in \u001b[0;36mvalue\u001b[1;34m(self, *args)\u001b[0m\n\u001b[0;32m   3110\u001b[0m         \u001b[0mvalue\u001b[0m\u001b[1;33m(\u001b[0m\u001b[0mForwardCurve\u001b[0m \u001b[0mself\u001b[0m\u001b[1;33m,\u001b[0m \u001b[0mvectorDouble\u001b[0m \u001b[0mresult\u001b[0m\u001b[1;33m,\u001b[0m \u001b[0mptime\u001b[0m \u001b[0mcalcDate\u001b[0m\u001b[1;33m,\u001b[0m \u001b[0mvectorPTime\u001b[0m \u001b[0mdates\u001b[0m\u001b[1;33m)\u001b[0m\u001b[1;33m\u001b[0m\u001b[1;33m\u001b[0m\u001b[0m\n\u001b[0;32m   3111\u001b[0m         \"\"\"\n\u001b[1;32m-> 3112\u001b[1;33m         \u001b[1;32mreturn\u001b[0m \u001b[0m_pyvacon_swig\u001b[0m\u001b[1;33m.\u001b[0m\u001b[0mForwardCurve_value\u001b[0m\u001b[1;33m(\u001b[0m\u001b[0mself\u001b[0m\u001b[1;33m,\u001b[0m \u001b[1;33m*\u001b[0m\u001b[0margs\u001b[0m\u001b[1;33m)\u001b[0m\u001b[1;33m\u001b[0m\u001b[1;33m\u001b[0m\u001b[0m\n\u001b[0m\u001b[0;32m   3113\u001b[0m \u001b[1;33m\u001b[0m\u001b[0m\n\u001b[0;32m   3114\u001b[0m     \u001b[1;32mdef\u001b[0m \u001b[0mSV\u001b[0m\u001b[1;33m(\u001b[0m\u001b[0mself\u001b[0m\u001b[1;33m,\u001b[0m \u001b[0mcalcDate\u001b[0m\u001b[1;33m,\u001b[0m \u001b[0md\u001b[0m\u001b[1;33m)\u001b[0m\u001b[1;33m:\u001b[0m\u001b[1;33m\u001b[0m\u001b[1;33m\u001b[0m\u001b[0m\n",
      "\u001b[1;31mTypeError\u001b[0m: Wrong number or type of arguments for overloaded function 'ForwardCurve_value'.\n  Possible C/C++ prototypes are:\n    ForwardCurve::value(ptime const &,ptime const &) const\n    ForwardCurve::value(std::vector< double,std::allocator< double > > &,ptime const &,std::vector< ptime,std::allocator< ptime > > const &) const\n"
     ]
    }
   ],
   "source": [
    "# \n",
    "refdate = dt.datetime(2017,1,1,0,0,0)\n",
    "expiries = [dt.datetime(2017,2,1,0,0,0), dt.datetime(2018,1,1,0,0,0), dt.datetime(2019,1,1,0,0,0), dt.datetime(2020,1,1,0,0,0)]\n",
    "def s_range(x, y, count):\n",
    "  jump = (y-x)/count\n",
    "  while x <= y:\n",
    "    yield x\n",
    "    x += jump\n",
    "\n",
    "# strikes = list(s_range(80, 120, 100))\n",
    "moneyness = list(s_range(0.5, 1.5,100))\n",
    "\n",
    "y = moneyness\n",
    "x = ttm\n",
    "\n",
    "term_structure = []\n",
    "for i in moneyness: \n",
    "    temp = []\n",
    "    for j in expiries:\n",
    "      strike = i*forward_curve.value(refdate,j)\n",
    "      temp.append(vol_surf.calc_implied_vol(refdate, j, strike))\n",
    "    term_structure.append(temp)\n",
    "\n",
    "fig = go.Figure(data=[go.Surface(x=x, y=y,z=term_structure\n",
    "                      ,hovertemplate = \n",
    "                        'Moneyness:  %{y: .2%}' +\\\n",
    "                        '<br>Maturity (yrs): %{x: .1f}' +\\\n",
    "                        '<br>Volatility: %{z: .2f}<extra></extra>'\n",
    "                     ,colorscale = 'temps')\n",
    "                     ])\n",
    "\n",
    "fig.update_layout(title={\n",
    "                      'text': \"<b>Volatility Surface</b>\",\n",
    "                      'y':0.95,\n",
    "                      'x':0.5,\n",
    "                      'xanchor': 'center',\n",
    "                      'yanchor': 'top'\n",
    "                        }\n",
    "                # ,autosize=True\n",
    "                ,width=1000\n",
    "                ,height=500\n",
    "                ,scene = dict(\n",
    "                  xaxis_title='Maturity (yrs)'\n",
    "                  ,xaxis_tickformat = '.1f'\n",
    "                  ,xaxis_autorange = 'reversed'\n",
    "                  ,yaxis_title='Moneyness'\n",
    "                  ,yaxis_tickformat = '.2%'\n",
    "                  ,zaxis_title='Volatility'\n",
    "                  ,zaxis_tickformat = '.2%'\n",
    "                  )\n",
    "                ,font=dict(\n",
    "                  family=\"Courier New, monospace\"\n",
    "                  ,size=10\n",
    "                  )\n",
    "                ,margin=dict(l=65, r=50, b=65, t=90)\n",
    ")\n",
    "\n",
    "fig.show()"
   ]
  },
  {
   "cell_type": "code",
   "execution_count": null,
   "metadata": {
    "ExecuteTime": {
     "end_time": "2021-09-17T13:49:53.429234Z",
     "start_time": "2021-09-17T13:49:40.342Z"
    },
    "code_folding": [
     0
    ]
   },
   "outputs": [],
   "source": [
    "# \n",
    "refdate = dt.datetime(2017,1,1,0,0,0)\n",
    "expiries = [dt.datetime(2017,2,1,0,0,0), dt.datetime(2018,1,1,0,0,0), dt.datetime(2019,1,1,0,0,0), dt.datetime(2020,1,1,0,0,0)]\n",
    "def s_range(x, y, count):\n",
    "  jump = (y-x)/count\n",
    "  while x <= y:\n",
    "    yield x\n",
    "    x += jump\n",
    "\n",
    "moneyness = list(s_range(0.5, 1.5, 100))\n",
    "\n",
    "x = moneyness\n",
    "y = ttm\n",
    "\n",
    "term_structure = []\n",
    "for i in moneyness: \n",
    "    temp = []\n",
    "    for j in expiries:\n",
    "        strike = i*forward_curve.value(refdate,j)\n",
    "        temp.append(vol_surf.calc_implied_vol(refdate, j, strike))\n",
    "    term_structure.append(temp)\n",
    "\n",
    "yv, xv = np.meshgrid(y, x)\n",
    "xv = np.array(xv)  #strikes 1x no. strikes\n",
    "yv = np.array(yv)  #ttm     1x no. ttms\n",
    "z = np.array(term_structure)           #vols    no. strikes x no. ttms\n",
    "\n",
    "# fig = mkt_plot.plt.figure()\n",
    "fig = matplotlib.pyplot.figure()\n",
    "ax4 = fig.add_subplot(111, projection='3d')\n",
    "ax4.set_title('Volatility Surface')\n",
    "ax4.set_xlabel('Strikes')\n",
    "ax4.set_ylabel('TTM')\n",
    "ax4.set_zlabel('Volatility')\n",
    "ax4.plot_surface(xv, yv, z, rstride=2, cstride=1, alpha=0.58, cmap=cm.coolwarm, linewidth=0, antialiased=False)\n",
    "# ax4.plot_surface(xv, yv, z, rstride=8, cstride=1, alpha=0.3)\n",
    "\n",
    "#ax4.contour(xv, yv, z, zdir='z', offset=ax4.get_zlim()[0], cmap=cm.coolwarm)\n",
    "ax4.contour(xv, yv, z, zdir='x', offset=ax4.get_xlim()[1]-0.08, cmap=cm.coolwarm)\n",
    "ax4.contour(xv, yv, z, zdir='y', offset=ax4.get_ylim()[1], cmap=cm.coolwarm)\n",
    "ax4.contour(xv, yv, z, zdir='y', offset=ax4.get_ylim()[1], cmap=cm.coolwarm, levels = [0,0.2,0.3,0.5,0.7,0.8])\n",
    "fig.show()"
   ]
  },
  {
   "cell_type": "code",
   "execution_count": null,
   "metadata": {},
   "outputs": [],
   "source": []
  },
  {
   "cell_type": "code",
   "execution_count": null,
   "metadata": {},
   "outputs": [],
   "source": []
  },
  {
   "cell_type": "markdown",
   "metadata": {},
   "source": [
    "### Stickiness assumptions"
   ]
  },
  {
   "cell_type": "code",
   "execution_count": null,
   "metadata": {
    "ExecuteTime": {
     "end_time": "2021-09-17T13:49:53.432221Z",
     "start_time": "2021-09-17T13:49:40.350Z"
    }
   },
   "outputs": [],
   "source": [
    "obj_id_shifted = \"TEST_SURFACE_FWD_SHIFTED\"\n",
    "forward_curve_shifted = mkt_data.EquityForwardCurve(1.0*spot, dc, bc, div_table)\n",
    "shiftet_spot = 100\n",
    "# vol_surf_shifted = vol_surf.shift_fwd_curve(obj_id_shifted, forward_curve_shifted)\n",
    "vol_surf_shifted = vol_surf.shift_fwd_spot(obj_id_shifted, shiftet_spot)"
   ]
  },
  {
   "cell_type": "code",
   "execution_count": null,
   "metadata": {
    "ExecuteTime": {
     "end_time": "2021-09-17T13:49:53.435213Z",
     "start_time": "2021-09-17T13:49:40.356Z"
    },
    "scrolled": true
   },
   "outputs": [],
   "source": [
    "vol_surf_shifted.calc_implied_vol(refdate,refdate + dt.timedelta(days=180),120)"
   ]
  },
  {
   "cell_type": "code",
   "execution_count": null,
   "metadata": {
    "ExecuteTime": {
     "end_time": "2021-09-17T13:49:53.438207Z",
     "start_time": "2021-09-17T13:49:40.359Z"
    },
    "scrolled": true
   },
   "outputs": [],
   "source": [
    "pyvacon.finance.pricing.GlobalSettings.setVolatilitySurfaceFwdStickyness(pyvacon.finance.pricing.VolatilitySurfaceFwdStickyness.Type.StickyXStrike)\n",
    "print(vol_surf_shifted.calcImpliedVol(refdate,refdate + dt.timedelta(days=180), 1.0))\n",
    "pyvacon.finance.pricing.GlobalSettings.setVolatilitySurfaceFwdStickyness(pyvacon.finance.pricing.VolatilitySurfaceFwdStickyness.Type.StickyStrike)\n",
    "print(vol_surf_shifted.calcImpliedVol(refdate,refdate + dt.timedelta(days=180), 1.0))"
   ]
  },
  {
   "cell_type": "code",
   "execution_count": null,
   "metadata": {
    "ExecuteTime": {
     "end_time": "2021-09-17T13:49:53.441197Z",
     "start_time": "2021-09-17T13:49:40.363Z"
    }
   },
   "outputs": [],
   "source": [
    "# 0.29221908667483804"
   ]
  },
  {
   "cell_type": "code",
   "execution_count": null,
   "metadata": {
    "ExecuteTime": {
     "end_time": "2021-09-17T13:49:53.444189Z",
     "start_time": "2021-09-17T13:49:40.366Z"
    },
    "scrolled": true
   },
   "outputs": [],
   "source": [
    "mkt_data.VolatilitySurface.set_stickyness(rivapy.enums.VolatilityStickyness.StickyXStrike)\n",
    "print(vol_surf_shifted.calc_implied_vol(refdate,refdate + dt.timedelta(days=180), 120))"
   ]
  },
  {
   "cell_type": "code",
   "execution_count": null,
   "metadata": {
    "ExecuteTime": {
     "end_time": "2021-09-17T13:49:53.447181Z",
     "start_time": "2021-09-17T13:49:40.369Z"
    }
   },
   "outputs": [],
   "source": [
    "y = pyvacon.finance.marketdata.VolatilitySurface(\"y\", refdate, forward_curve._get_pyvacon_obj(), enums.DayCounterType.Act365Fixed.name, ssvi_param._get_pyvacon_obj())\n",
    "print(y.calcImpliedVol(refdate,refdate + dt.timedelta(days=180), 120))\n",
    "\n",
    "z = pyvacon.finance.marketdata.VolatilitySurface.createVolatilitySurfaceShiftedFwd(vol_surf._get_pyvacon_obj(), forward_curve._get_pyvacon_obj())\n",
    "z.calcImpliedVol(refdate,refdate + dt.timedelta(days=180), 120)"
   ]
  },
  {
   "cell_type": "code",
   "execution_count": null,
   "metadata": {
    "ExecuteTime": {
     "end_time": "2021-09-17T13:49:53.451170Z",
     "start_time": "2021-09-17T13:49:40.371Z"
    }
   },
   "outputs": [],
   "source": [
    "import pyvacon\n",
    "a = pyvacon.finance.marketdata.VolatilitySurface.createVolatilitySurfaceShiftedFwd(vol_surf._get_pyvacon_obj(), forward_curve_shifted._get_pyvacon_obj())"
   ]
  },
  {
   "cell_type": "code",
   "execution_count": null,
   "metadata": {
    "ExecuteTime": {
     "end_time": "2021-09-17T13:49:53.454162Z",
     "start_time": "2021-09-17T13:49:40.374Z"
    }
   },
   "outputs": [],
   "source": [
    "a.calcImpliedVol(refdate,refdate + dt.timedelta(days=180), 120)"
   ]
  },
  {
   "cell_type": "code",
   "execution_count": null,
   "metadata": {
    "ExecuteTime": {
     "end_time": "2021-09-17T13:49:53.457154Z",
     "start_time": "2021-09-17T13:49:40.379Z"
    }
   },
   "outputs": [],
   "source": [
    "b = vol_surf.shift_fwd_spot(obj_id_shifted, shiftet_spot)"
   ]
  },
  {
   "cell_type": "code",
   "execution_count": null,
   "metadata": {
    "ExecuteTime": {
     "end_time": "2021-09-17T13:49:53.460146Z",
     "start_time": "2021-09-17T13:49:40.382Z"
    }
   },
   "outputs": [],
   "source": [
    "b.calc_implied_vol(refdate,refdate + dt.timedelta(days=180), 120)"
   ]
  },
  {
   "cell_type": "code",
   "execution_count": null,
   "metadata": {
    "ExecuteTime": {
     "end_time": "2021-09-17T13:49:53.468124Z",
     "start_time": "2021-09-17T13:49:40.386Z"
    }
   },
   "outputs": [],
   "source": [
    "vol_surf.calc_implied_vol(refdate,refdate + dt.timedelta(days=180), 120)"
   ]
  },
  {
   "cell_type": "code",
   "execution_count": null,
   "metadata": {},
   "outputs": [],
   "source": []
  }
 ],
 "metadata": {
  "kernelspec": {
   "display_name": "Python 3",
   "language": "python",
   "name": "python3"
  },
  "language_info": {
   "codemirror_mode": {
    "name": "ipython",
    "version": 3
   },
   "file_extension": ".py",
   "mimetype": "text/x-python",
   "name": "python",
   "nbconvert_exporter": "python",
   "pygments_lexer": "ipython3",
   "version": "3.8.8"
  },
  "toc": {
   "base_numbering": 1,
   "nav_menu": {
    "height": "175px",
    "width": "252px"
   },
   "number_sections": true,
   "sideBar": true,
   "skip_h1_title": false,
   "title_cell": "Table of Contents",
   "title_sidebar": "Contents",
   "toc_cell": false,
   "toc_position": {
    "height": "calc(100% - 180px)",
    "left": "10px",
    "top": "150px",
    "width": "384px"
   },
   "toc_section_display": "block",
   "toc_window_display": true
  },
  "varInspector": {
   "cols": {
    "lenName": 16,
    "lenType": 16,
    "lenVar": 40
   },
   "kernels_config": {
    "python": {
     "delete_cmd_postfix": "",
     "delete_cmd_prefix": "del ",
     "library": "var_list.py",
     "varRefreshCmd": "print(var_dic_list())"
    },
    "r": {
     "delete_cmd_postfix": ") ",
     "delete_cmd_prefix": "rm(",
     "library": "var_list.r",
     "varRefreshCmd": "cat(var_dic_list()) "
    }
   },
   "types_to_exclude": [
    "module",
    "function",
    "builtin_function_or_method",
    "instance",
    "_Feature"
   ],
   "window_display": false
  }
 },
 "nbformat": 4,
 "nbformat_minor": 2
}
