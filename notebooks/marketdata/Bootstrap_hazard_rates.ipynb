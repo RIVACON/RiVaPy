{
 "metadata": {
  "language_info": {
   "codemirror_mode": {
    "name": "ipython",
    "version": 3
   },
   "file_extension": ".py",
   "mimetype": "text/x-python",
   "name": "python",
   "nbconvert_exporter": "python",
   "pygments_lexer": "ipython3",
   "version": "3.8.8-final"
  },
  "orig_nbformat": 2,
  "kernelspec": {
   "name": "python3",
   "display_name": "Python 3.8.8 64-bit ('python38': conda)",
   "metadata": {
    "interpreter": {
     "hash": "41d363f20674200adae6e9caa093844f75878029f15813f9ba4f5801c8512b87"
    }
   }
  }
 },
 "nbformat": 4,
 "nbformat_minor": 2,
 "cells": [
  {
   "source": [
    "# Bootstrapping Hazard Rates"
   ],
   "cell_type": "markdown",
   "metadata": {}
  },
  {
   "source": [
    "## Import Libraries\n"
   ],
   "cell_type": "markdown",
   "metadata": {}
  },
  {
   "cell_type": "code",
   "execution_count": 19,
   "metadata": {},
   "outputs": [],
   "source": [
    "#Libraries\n",
    "import math\n",
    "import datetime as dt\n",
    "import pandas as pd\n",
    "from datetime import timedelta\n",
    "import matplotlib.pyplot as plt\n",
    "import numpy as np\n",
    "import dateutil.relativedelta as relativedelta\n",
    "from typing import List\n",
    "import scipy.optimize\n",
    "import plotly.graph_objects as go\n",
    "from plotly.subplots import make_subplots\n",
    "#Import RiVaPy\n",
    "import rivapy\n",
    "from rivapy.marketdata import DiscountCurve, DatedCurve, SurvivalCurve\n",
    "from rivapy import enums"
   ]
  },
  {
   "source": [
    "## Credit Curve Bootstrapping Methodology\n"
   ],
   "cell_type": "markdown",
   "metadata": {}
  },
  {
   "source": [
    "O'Kane and Turnbull describing the calibration of hazard rates to CDS. Therefore one need to define a standard Credit Defaul Swap. In this CDS one side pays a premium to receive protection for the underlying asset (premium leg). The premium is payed with a certain frequency until the CDS matures or a default occurs. The other side in the CDS exchanges the recovery value in case a default occurs (protection leg).\n",
    "\n",
    "The valuation and derivation of the premium leg and the protection leg are described in detail in the Credit Defaul Swap valuation Notebook. (Link zu anderem Notebook) In order to valuate both legs a Survival Curve is needed.  "
   ],
   "cell_type": "markdown",
   "metadata": {}
  },
  {
   "source": [
    "The reduced-form model that we use here is based on the work of Jarrow and Turnbull (1995), who characterize a credit event as the first event of a Poisson counting process which occurs at some time t with a probability defined as :\n",
    "\n",
    "Pr[τ<t+dt|τ≥t]=λ(t)dt \n",
    "\n",
    "the probability of a default occurring within the time interval [t,t+dt) conditional on surviving to time t, is proportional to some time dependent function λ(t), known as the hazard rate, and the length of the time interval dt. We make the simplifying assumption that the hazard rate process is deterministic. By extension, this assumption also implies that the hazard rate is independent of interest rates and recovery rates. From this definition, we can calculate the continuous time survival probability to the time T conditional on surviving to the valuation time tV by considering the limit →0. It can be shown that the survival probability is given by:\n",
    "\n",
    "Q(tV,T)=exp(−∫TtVλ(s)ds)\n",
    "\n",
    "Finally, we assume that the hazard rate function is a step-wise constant function. In the below example, the hazard rate between time 0 and 1Y is h0,1=1% and the hazard rate between between 1Y and 3Y is h1,3=2.5%. Therefore we have the 1Y survival probability Q0,1=exp(−h0,1×1)=99% and the 3Y survival probability Q1,3=Q0,1∗exp(−h1,3×2)=91.9%.\n",
    "\n"
   ],
   "cell_type": "markdown",
   "metadata": {}
  },
  {
   "cell_type": "code",
   "execution_count": 41,
   "metadata": {},
   "outputs": [
    {
     "output_type": "stream",
     "name": "stdout",
     "text": [
      "0.9900498337491681 0.9185122844014574 0.7905708496287356 0.5975005946182375\n"
     ]
    }
   ],
   "source": [
    "h_0_1=0.01\n",
    "h_0_2=0.025\n",
    "h_0_3=0.03\n",
    "h_0_4=0.04\n",
    "\n",
    "q_0_1=math.exp(-h_0_1*1)\n",
    "q_1_3=q_0_1*math.exp(-h_0_2*3)\n",
    "q_1_5=q_1_3*math.exp(-h_0_3*5)\n",
    "q_1_7=q_1_5*math.exp(-h_0_4*7)\n",
    "\n",
    "print(q_0_1,q_1_3,q_1_5,q_1_7)\n"
   ]
  },
  {
   "cell_type": "code",
   "execution_count": 56,
   "metadata": {},
   "outputs": [
    {
     "output_type": "stream",
     "name": "stdout",
     "text": [
      "0.9995001249687578\n"
     ]
    }
   ],
   "source": [
    "RR=0.4\n",
    "sp_1=0.0003\n",
    "sp_2=0.0009\n",
    "sp_3=0.0015\n",
    "df1=1\n",
    "df2=1\n",
    "df3=1\n",
    "q_t0=1\n",
    "q_t1=(q_t0*((1-RR)-sp_1*df1*0.5))/(sp_1*df1*0.5+(1-RR))\n",
    "print(q_t1)"
   ]
  },
  {
   "cell_type": "code",
   "execution_count": 57,
   "metadata": {},
   "outputs": [
    {
     "output_type": "stream",
     "name": "stdout",
     "text": [
      "0.9970029975643735\n"
     ]
    }
   ],
   "source": [
    "q_t2=((1-RR)*(q_t0-q_t1)-sp_2*df1*(q_t0+q_t1)*0.5-sp_2*df2*0.5*q_t1+(1-RR)*q_t1)/(sp_2*df2*0.5+(1-RR))\n",
    "print(q_t2)"
   ]
  },
  {
   "cell_type": "code",
   "execution_count": 61,
   "metadata": {},
   "outputs": [
    {
     "output_type": "stream",
     "name": "stdout",
     "text": [
      "0.9925180945754479\n"
     ]
    }
   ],
   "source": [
    "q_t3=((1-RR)*(q_t0-q_t1)+(1-RR)*(q_t1-q_t2)+(1-RR)*q_t2-sp_3*df3*0.5*(q_t0+q_t1)-sp_3*df3*0.5*(q_t1+q_t2)-sp_3*df3*0.5*q_t2)/(sp_3*df3*0.5+(1-RR))\n",
    "print(q_t3)"
   ]
  },
  {
   "source": [
    "### Calibration of the Credit Curve"
   ],
   "cell_type": "markdown",
   "metadata": {}
  },
  {
   "source": [
    "Calibration of the model imply finding an hazard rate (non-cumulative hazard rate) function that matches the market CDS spreads. We make the following assumptions:\n",
    "\n",
    "- Swap premium payments are made quarterly following a business day calendar\n",
    "- Hazard rate is a piece-wise constant function of time (i.e. hazard rates are independent from interest rates)\n",
    "- Recovery rate is constant\n",
    "\n",
    "The construction of the hazard rate term structure is done by an iterative process called bootstrapping. Let’s assume we have quotes for 1Y, 3Y, 5Y and 7Y for a given issuer. From the 1Y CDS spread s1Y, we will find the hazard rate λ0,1 which equates the present value of the premium leg and of the protection leg. From the 3Y spread s3Y, we will find the hazard rate λ1,3 which equates the present value of the premium leg to the present value of the protection leg. By iterating this process, we obtain the hazard rates: λ0,1,λ1,3,λ3,5,λ5,7. We can also easily calculate the survival probabilities from this hazard rate term structure (as we have seen earlier)."
   ],
   "cell_type": "markdown",
   "metadata": {}
  },
  {
   "cell_type": "code",
   "execution_count": 42,
   "metadata": {},
   "outputs": [],
   "source": [
    "# Beispiel Rechnung"
   ]
  },
  {
   "source": [
    "## Calculate Hazard Rates for specific Market Data"
   ],
   "cell_type": "markdown",
   "metadata": {}
  },
  {
   "source": [
    "### Define Functions"
   ],
   "cell_type": "markdown",
   "metadata": {}
  },
  {
   "cell_type": "code",
   "execution_count": 7,
   "metadata": {},
   "outputs": [],
   "source": [
    "def par_spread(ref_date, trade_date, dc_survival, payment_dates, maturity_date, dc, RR):\n",
    "    integration_step= relativedelta.relativedelta(days=365)\n",
    "    premium_period_start = ref_date\n",
    "    prev_date=ref_date\n",
    "    current_date=min(prev_date+integration_step, maturity_date)\n",
    "    dc_valuation_date=dc.value(ref_date, maturity_date)\n",
    "    risk_adj_factor_protection=0\n",
    "    risk_adj_factor_premium=0\n",
    "    risk_adj_factor_accrued=0\n",
    "    #RR=0.4\n",
    "\n",
    "    while current_date <= maturity_date:\n",
    "        default_prob = dc_survival.value(ref_date, prev_date)-dc_survival.value(ref_date, current_date)\n",
    "        #print(\"default_prob:\",default_prob)\n",
    "        risk_adj_factor_protection += dc.value(ref_date, current_date) * default_prob\n",
    "        #print(\"risk_adj_factor_protection:\",risk_adj_factor_protection)\n",
    "        prev_date = current_date\n",
    "        current_date += integration_step\n",
    "    \n",
    "    if prev_date < maturity_date and current_date > maturity_date:\n",
    "        default_prob = dc_survival.value(ref_date, prev_date)-dc_survival.value(ref_date, maturity_date)\n",
    "        #print(\"default_prob:\",default_prob)\n",
    "        risk_adj_factor_protection += dc.value(ref_date, maturity_date)  * default_prob\n",
    "        #print(\"risk_adj_factor_protection:\",risk_adj_factor_protection)\n",
    "\n",
    "\n",
    "    for premium_payment in payment_dates:\n",
    "        if premium_payment >= ref_date:\n",
    "            period_length = ((premium_payment-premium_period_start).days)/360\n",
    "            #survival_prob = (dc_survival.value(ref_date, premium_period_start)+dc_survival.value(ref_date, premium_payment))/2\n",
    "            survival_prob = dc_survival.value(ref_date, premium_period_start)\n",
    "            #print(\"survival_prob:\",survival_prob)\n",
    "            df = dc.value(ref_date, premium_payment)\n",
    "            risk_adj_factor_premium += period_length*survival_prob*df\n",
    "            #print(\"risk_adj_factor_premium:\",risk_adj_factor_premium)\n",
    "            default_prob = dc_survival.value(ref_date, premium_period_start)-dc_survival.value(ref_date, premium_payment)\n",
    "            #print(\"default_prob_accrued:\",default_prob)\n",
    "            risk_adj_factor_accrued += period_length*default_prob*df\n",
    "            #print(\"risk_adj_factor_accrued:\",risk_adj_factor_accrued)\n",
    "            premium_period_start = premium_payment\n",
    "\n",
    "\n",
    "\n",
    "    PV_accrued=((1/2)*risk_adj_factor_accrued)\n",
    "    #print(\"PV_accrued: \",PV_accrued)\n",
    "    PV_premium=(1)*risk_adj_factor_premium\n",
    "    #print(\"PV_premium: \",PV_premium)\n",
    "    PV_protection=(((1-RR))*risk_adj_factor_protection)\n",
    "    #print(\"PV_protection: \",PV_protection)\n",
    "    \n",
    "    par_spread_i=(PV_protection)/((PV_premium+PV_accrued))\n",
    "    #print(\"par_spread_i: \",par_spread_i)\n",
    "    return par_spread_i"
   ]
  },
  {
   "cell_type": "code",
   "execution_count": 8,
   "metadata": {},
   "outputs": [],
   "source": [
    "#Function to Rollout payment_dates\n",
    "def payment_dates(trade_date,maturity_date,payment_cycle):\n",
    "    date=maturity_date-relativedelta.relativedelta(months=+payment_cycle)\n",
    "    payment_dates=[maturity_date]\n",
    "    if maturity_date<date:\n",
    "       payment_dates.append(maturity_date)\n",
    "    while date>=trade_date:\n",
    "        payment_dates.append(date)\n",
    "        date=date-relativedelta.relativedelta(months=+payment_cycle)\n",
    "    return sorted(payment_dates)\n",
    "#payment_dates_ins=payment_dates(trade_date,maturity_date,payment_cycle)"
   ]
  },
  {
   "cell_type": "code",
   "execution_count": 9,
   "metadata": {},
   "outputs": [],
   "source": [
    "#Bootstrapping Functionality\n",
    "def create_survival(refdate, dates: List[dt.datetime], hazard_rates: List[float]):\n",
    "    return SurvivalCurve('survival_curve', refdate, dates, hazard_rates)\n",
    "    \n",
    "def calibration_error(x, mkt_par_spread, ref_date, trade_date, payment_dates, dc_new, dates, hazard_rates, RR):\n",
    "    hazard_rates[-1] = x\n",
    "    maturity_date = dates[-1]\n",
    "    dc_surv = create_survival(ref_date, dates, hazard_rates)\n",
    "    #print(x)\n",
    "    #print(\"Market Spread=\",mkt_par_spread,\"-\",\"Par-Spread=\",par_spread(ref_date, trade_date, dc_surv, payment_dates,maturity_date, dc_new),\"=\",\n",
    "    #      mkt_par_spread - par_spread(ref_date, trade_date, dc_surv, payment_dates,maturity_date, dc_new))\n",
    "    return  mkt_par_spread - par_spread(ref_date, trade_date, dc_surv, payment_dates, maturity_date, dc_new, RR)\n",
    "\n",
    "\n",
    "def calibrate_hazard_rate(payment_dates_bootstrapp, ref_date,mkt_par_spread, trade_date, dc_new, RR):\n",
    "    #sort payment_dates by [-1]\n",
    "    sc_dates=[ref_date]\n",
    "    hazard_rates=[0.0]\n",
    "    for i in range(len(payment_dates_bootstrapp)):\n",
    "        payment_dates_iter = payment_dates_bootstrapp[i]\n",
    "        #print(payment_dates_iter)\n",
    "        mkt_par_spread_iter = mkt_par_spread[i]\n",
    "        #print(mkt_par_spread_iter)\n",
    "        sc_dates.append(payment_dates_iter[-1])\n",
    "        hazard_rates.append(hazard_rates[-1])\n",
    "        sol=scipy.optimize.root_scalar(calibration_error,args=(mkt_par_spread_iter, ref_date, trade_date, \n",
    "                         payment_dates_iter, dc_new, sc_dates, hazard_rates, RR),method='brentq',bracket=[0,3],xtol=1e-8,rtol=1e-8)\n",
    "        hazard_rates[-1] = sol.root\n",
    "        #print(numpy.exp(-sol.root*((payment_dates_iter[-1]-ref_date).days/365)))\n",
    "    return create_survival(ref_date, sc_dates, hazard_rates), hazard_rates\n",
    "\n"
   ]
  },
  {
   "source": [
    "### Define market data"
   ],
   "cell_type": "markdown",
   "metadata": {}
  },
  {
   "cell_type": "code",
   "execution_count": 34,
   "metadata": {},
   "outputs": [],
   "source": [
    "#Define new yield curve\n",
    "#yield curve\n",
    "object_id = \"CDS_interest_rate_boots\"\n",
    "refdate = dt.datetime(2020,1,1)\n",
    "days_to_maturity = [360, 720, 3*360, 4*360, 5*360, 7*360, 10*360,  15*360, 20*360,  30*360]\n",
    "dates = [refdate + timedelta(days=d) for d in days_to_maturity]\n",
    "rates = [0.002585,0.005034,0.008981,0.012954,0.016452,\n",
    "                   0.021811,0.027007,0.031718,0.033834,0.035056]\n",
    "#rates = [0,0,0,0,0,0,0,0,0,0]\n",
    "dsc_fac = [math.exp(-rates[i]*days_to_maturity[i]/360) for i in range(len(days_to_maturity))]\n",
    "\n",
    "        \n",
    "dc_new = DiscountCurve(object_id, refdate, dates, dsc_fac, enums.InterpolationType.LINEAR, enums.ExtrapolationType.LINEAR)"
   ]
  },
  {
   "cell_type": "code",
   "execution_count": 35,
   "metadata": {},
   "outputs": [],
   "source": [
    "#Market Spreads\n",
    "#Pfizer\n",
    "mkt_par_spread=[0.0003,0.0009,0.0015,0.0021,0.0028,0.0043,0.0061,0.0063, 0.0068,0.0066]\n",
    "\n",
    "#Radioshack\n",
    "#mkt_par_spread=[0.6405,0.5956,0.5511,0.5144,0.4894,0.4511,0.4156,0.3815,0.3657,0.3506]"
   ]
  },
  {
   "source": [
    "### Define Instrument data"
   ],
   "cell_type": "markdown",
   "metadata": {}
  },
  {
   "cell_type": "code",
   "execution_count": 36,
   "metadata": {},
   "outputs": [],
   "source": [
    "#Instrument data\n",
    "refdate = dt.datetime(2020,1,1)\n",
    "trade_date = refdate\n",
    "RR=0.4\n",
    "maturities_CDS_test = [12,24,36,48,60,7*12,10*12,15*12,20*12,30*12]\n",
    "\n",
    "#Maturities and Payment Dates\n",
    "#ref_date=dt.datetime(2020,1,1)\n",
    "maturity_dates=[]\n",
    "date=refdate\n",
    "for i in range (len(maturities_CDS_test)):\n",
    "    if maturities_CDS_test[i]>=12:\n",
    "        date=refdate+relativedelta.relativedelta(years=(maturities_CDS_test[i]/12))\n",
    "        maturity_dates.append(date)\n",
    "    elif maturities_CDS_test[i]<12:\n",
    "        date=refdate+relativedelta.relativedelta(month=maturities_CDS_test[i])\n",
    "        maturity_dates.append(date)\n",
    "    \n",
    "maturity_dates_sorted=sorted(maturity_dates)\n",
    "\n",
    "#Rollout instrument payment dates for different maturities\n",
    "payment_dates_bootstrapp=[]\n",
    "for i  in range(len(maturity_dates_sorted)):\n",
    "    payment_dates_bootstrapp.append(payment_dates(refdate,maturity_dates_sorted[i],3))\n",
    "payment_dates_bootstrapp=sorted(payment_dates_bootstrapp, key=lambda x: x[-1])\n"
   ]
  },
  {
   "source": [
    "### Bootstrapp Survival Curve"
   ],
   "cell_type": "markdown",
   "metadata": {}
  },
  {
   "cell_type": "code",
   "execution_count": 37,
   "metadata": {},
   "outputs": [
    {
     "output_type": "stream",
     "name": "stdout",
     "text": [
      "[0.9994912093001219, 0.9969419228330689, 0.9923236473576058, 0.9856001331543911, 0.9758396345714148, 0.9475631162999186, 0.8933873221849499, 0.841921965002223, 0.7764472038292964, 0.7038634891826675]\n"
     ]
    }
   ],
   "source": [
    "#Create Survival Curve based on Bootstrapping alogirthm\n",
    "survival_curve=calibrate_hazard_rate(payment_dates_bootstrapp, refdate,mkt_par_spread, trade_date, dc_new, RR)\n",
    "survival_curve=survival_curve[0]\n",
    "survival_curve_bootstrap=[survival_curve.value(refdate,refdate)]\n",
    "\n",
    "for i in range(len(payment_dates_bootstrapp)):\n",
    "    survival_curve_bootstrap.append(survival_curve.value(refdate,payment_dates_bootstrapp[i][-1]))\n",
    "del survival_curve_bootstrap[0]\n",
    "print(survival_curve_bootstrap)"
   ]
  },
  {
   "source": [
    "### Get Data for Plots"
   ],
   "cell_type": "markdown",
   "metadata": {}
  },
  {
   "cell_type": "code",
   "execution_count": 28,
   "metadata": {},
   "outputs": [],
   "source": [
    "#Hazard Rates for plot\n",
    "hazard_rates=calibrate_hazard_rate(payment_dates_bootstrapp, refdate,mkt_par_spread, trade_date, dc_new, RR)[1]\n",
    "del hazard_rates[0]\n",
    "hazard_rates=[rate*100 for rate in hazard_rates]\n",
    "#print(hazard_rates)\n",
    "#Survival Rates for plot\n",
    "survival_rates=survival_curve_bootstrap\n",
    "survival_rates=[rate*100 for rate in survival_rates]\n",
    "#print(survival_rates)"
   ]
  },
  {
   "source": [
    "### Plot Data"
   ],
   "cell_type": "markdown",
   "metadata": {}
  },
  {
   "cell_type": "code",
   "execution_count": 27,
   "metadata": {},
   "outputs": [
    {
     "output_type": "display_data",
     "data": {
      "application/vnd.plotly.v1+json": {
       "config": {
        "plotlyServerURL": "https://plot.ly"
       },
       "data": [
        {
         "name": "Survival Rate (in percentage)",
         "type": "bar",
         "x": [
          12,
          24,
          36,
          48,
          60,
          84,
          120,
          180,
          240,
          360
         ],
         "xaxis": "x",
         "y": [
          99.94912093001219,
          99.69419228330689,
          99.23236473576058,
          98.56001331543911,
          97.58396345714148,
          94.75631162999186,
          89.33873221849498,
          84.19219650022231,
          77.64472038292965,
          70.38634891826675
         ],
         "yaxis": "y"
        },
        {
         "name": "Hazard Rate (in percentage)",
         "type": "scatter",
         "x": [
          12,
          24,
          36,
          48,
          60,
          84,
          120,
          180,
          240,
          360
         ],
         "xaxis": "x",
         "y": [
          0.0507529685497198,
          0.25538424619207956,
          0.46432048509937224,
          0.679858361236151,
          0.992527128285968,
          1.4702357912501687,
          1.9606537804301536,
          1.186007862468119,
          1.6182869477963366,
          0.9806361760605549
         ],
         "yaxis": "y2"
        }
       ],
       "layout": {
        "template": {
         "data": {
          "bar": [
           {
            "error_x": {
             "color": "#2a3f5f"
            },
            "error_y": {
             "color": "#2a3f5f"
            },
            "marker": {
             "line": {
              "color": "#E5ECF6",
              "width": 0.5
             }
            },
            "type": "bar"
           }
          ],
          "barpolar": [
           {
            "marker": {
             "line": {
              "color": "#E5ECF6",
              "width": 0.5
             }
            },
            "type": "barpolar"
           }
          ],
          "carpet": [
           {
            "aaxis": {
             "endlinecolor": "#2a3f5f",
             "gridcolor": "white",
             "linecolor": "white",
             "minorgridcolor": "white",
             "startlinecolor": "#2a3f5f"
            },
            "baxis": {
             "endlinecolor": "#2a3f5f",
             "gridcolor": "white",
             "linecolor": "white",
             "minorgridcolor": "white",
             "startlinecolor": "#2a3f5f"
            },
            "type": "carpet"
           }
          ],
          "choropleth": [
           {
            "colorbar": {
             "outlinewidth": 0,
             "ticks": ""
            },
            "type": "choropleth"
           }
          ],
          "contour": [
           {
            "colorbar": {
             "outlinewidth": 0,
             "ticks": ""
            },
            "colorscale": [
             [
              0,
              "#0d0887"
             ],
             [
              0.1111111111111111,
              "#46039f"
             ],
             [
              0.2222222222222222,
              "#7201a8"
             ],
             [
              0.3333333333333333,
              "#9c179e"
             ],
             [
              0.4444444444444444,
              "#bd3786"
             ],
             [
              0.5555555555555556,
              "#d8576b"
             ],
             [
              0.6666666666666666,
              "#ed7953"
             ],
             [
              0.7777777777777778,
              "#fb9f3a"
             ],
             [
              0.8888888888888888,
              "#fdca26"
             ],
             [
              1,
              "#f0f921"
             ]
            ],
            "type": "contour"
           }
          ],
          "contourcarpet": [
           {
            "colorbar": {
             "outlinewidth": 0,
             "ticks": ""
            },
            "type": "contourcarpet"
           }
          ],
          "heatmap": [
           {
            "colorbar": {
             "outlinewidth": 0,
             "ticks": ""
            },
            "colorscale": [
             [
              0,
              "#0d0887"
             ],
             [
              0.1111111111111111,
              "#46039f"
             ],
             [
              0.2222222222222222,
              "#7201a8"
             ],
             [
              0.3333333333333333,
              "#9c179e"
             ],
             [
              0.4444444444444444,
              "#bd3786"
             ],
             [
              0.5555555555555556,
              "#d8576b"
             ],
             [
              0.6666666666666666,
              "#ed7953"
             ],
             [
              0.7777777777777778,
              "#fb9f3a"
             ],
             [
              0.8888888888888888,
              "#fdca26"
             ],
             [
              1,
              "#f0f921"
             ]
            ],
            "type": "heatmap"
           }
          ],
          "heatmapgl": [
           {
            "colorbar": {
             "outlinewidth": 0,
             "ticks": ""
            },
            "colorscale": [
             [
              0,
              "#0d0887"
             ],
             [
              0.1111111111111111,
              "#46039f"
             ],
             [
              0.2222222222222222,
              "#7201a8"
             ],
             [
              0.3333333333333333,
              "#9c179e"
             ],
             [
              0.4444444444444444,
              "#bd3786"
             ],
             [
              0.5555555555555556,
              "#d8576b"
             ],
             [
              0.6666666666666666,
              "#ed7953"
             ],
             [
              0.7777777777777778,
              "#fb9f3a"
             ],
             [
              0.8888888888888888,
              "#fdca26"
             ],
             [
              1,
              "#f0f921"
             ]
            ],
            "type": "heatmapgl"
           }
          ],
          "histogram": [
           {
            "marker": {
             "colorbar": {
              "outlinewidth": 0,
              "ticks": ""
             }
            },
            "type": "histogram"
           }
          ],
          "histogram2d": [
           {
            "colorbar": {
             "outlinewidth": 0,
             "ticks": ""
            },
            "colorscale": [
             [
              0,
              "#0d0887"
             ],
             [
              0.1111111111111111,
              "#46039f"
             ],
             [
              0.2222222222222222,
              "#7201a8"
             ],
             [
              0.3333333333333333,
              "#9c179e"
             ],
             [
              0.4444444444444444,
              "#bd3786"
             ],
             [
              0.5555555555555556,
              "#d8576b"
             ],
             [
              0.6666666666666666,
              "#ed7953"
             ],
             [
              0.7777777777777778,
              "#fb9f3a"
             ],
             [
              0.8888888888888888,
              "#fdca26"
             ],
             [
              1,
              "#f0f921"
             ]
            ],
            "type": "histogram2d"
           }
          ],
          "histogram2dcontour": [
           {
            "colorbar": {
             "outlinewidth": 0,
             "ticks": ""
            },
            "colorscale": [
             [
              0,
              "#0d0887"
             ],
             [
              0.1111111111111111,
              "#46039f"
             ],
             [
              0.2222222222222222,
              "#7201a8"
             ],
             [
              0.3333333333333333,
              "#9c179e"
             ],
             [
              0.4444444444444444,
              "#bd3786"
             ],
             [
              0.5555555555555556,
              "#d8576b"
             ],
             [
              0.6666666666666666,
              "#ed7953"
             ],
             [
              0.7777777777777778,
              "#fb9f3a"
             ],
             [
              0.8888888888888888,
              "#fdca26"
             ],
             [
              1,
              "#f0f921"
             ]
            ],
            "type": "histogram2dcontour"
           }
          ],
          "mesh3d": [
           {
            "colorbar": {
             "outlinewidth": 0,
             "ticks": ""
            },
            "type": "mesh3d"
           }
          ],
          "parcoords": [
           {
            "line": {
             "colorbar": {
              "outlinewidth": 0,
              "ticks": ""
             }
            },
            "type": "parcoords"
           }
          ],
          "pie": [
           {
            "automargin": true,
            "type": "pie"
           }
          ],
          "scatter": [
           {
            "marker": {
             "colorbar": {
              "outlinewidth": 0,
              "ticks": ""
             }
            },
            "type": "scatter"
           }
          ],
          "scatter3d": [
           {
            "line": {
             "colorbar": {
              "outlinewidth": 0,
              "ticks": ""
             }
            },
            "marker": {
             "colorbar": {
              "outlinewidth": 0,
              "ticks": ""
             }
            },
            "type": "scatter3d"
           }
          ],
          "scattercarpet": [
           {
            "marker": {
             "colorbar": {
              "outlinewidth": 0,
              "ticks": ""
             }
            },
            "type": "scattercarpet"
           }
          ],
          "scattergeo": [
           {
            "marker": {
             "colorbar": {
              "outlinewidth": 0,
              "ticks": ""
             }
            },
            "type": "scattergeo"
           }
          ],
          "scattergl": [
           {
            "marker": {
             "colorbar": {
              "outlinewidth": 0,
              "ticks": ""
             }
            },
            "type": "scattergl"
           }
          ],
          "scattermapbox": [
           {
            "marker": {
             "colorbar": {
              "outlinewidth": 0,
              "ticks": ""
             }
            },
            "type": "scattermapbox"
           }
          ],
          "scatterpolar": [
           {
            "marker": {
             "colorbar": {
              "outlinewidth": 0,
              "ticks": ""
             }
            },
            "type": "scatterpolar"
           }
          ],
          "scatterpolargl": [
           {
            "marker": {
             "colorbar": {
              "outlinewidth": 0,
              "ticks": ""
             }
            },
            "type": "scatterpolargl"
           }
          ],
          "scatterternary": [
           {
            "marker": {
             "colorbar": {
              "outlinewidth": 0,
              "ticks": ""
             }
            },
            "type": "scatterternary"
           }
          ],
          "surface": [
           {
            "colorbar": {
             "outlinewidth": 0,
             "ticks": ""
            },
            "colorscale": [
             [
              0,
              "#0d0887"
             ],
             [
              0.1111111111111111,
              "#46039f"
             ],
             [
              0.2222222222222222,
              "#7201a8"
             ],
             [
              0.3333333333333333,
              "#9c179e"
             ],
             [
              0.4444444444444444,
              "#bd3786"
             ],
             [
              0.5555555555555556,
              "#d8576b"
             ],
             [
              0.6666666666666666,
              "#ed7953"
             ],
             [
              0.7777777777777778,
              "#fb9f3a"
             ],
             [
              0.8888888888888888,
              "#fdca26"
             ],
             [
              1,
              "#f0f921"
             ]
            ],
            "type": "surface"
           }
          ],
          "table": [
           {
            "cells": {
             "fill": {
              "color": "#EBF0F8"
             },
             "line": {
              "color": "white"
             }
            },
            "header": {
             "fill": {
              "color": "#C8D4E3"
             },
             "line": {
              "color": "white"
             }
            },
            "type": "table"
           }
          ]
         },
         "layout": {
          "annotationdefaults": {
           "arrowcolor": "#2a3f5f",
           "arrowhead": 0,
           "arrowwidth": 1
          },
          "autotypenumbers": "strict",
          "coloraxis": {
           "colorbar": {
            "outlinewidth": 0,
            "ticks": ""
           }
          },
          "colorscale": {
           "diverging": [
            [
             0,
             "#8e0152"
            ],
            [
             0.1,
             "#c51b7d"
            ],
            [
             0.2,
             "#de77ae"
            ],
            [
             0.3,
             "#f1b6da"
            ],
            [
             0.4,
             "#fde0ef"
            ],
            [
             0.5,
             "#f7f7f7"
            ],
            [
             0.6,
             "#e6f5d0"
            ],
            [
             0.7,
             "#b8e186"
            ],
            [
             0.8,
             "#7fbc41"
            ],
            [
             0.9,
             "#4d9221"
            ],
            [
             1,
             "#276419"
            ]
           ],
           "sequential": [
            [
             0,
             "#0d0887"
            ],
            [
             0.1111111111111111,
             "#46039f"
            ],
            [
             0.2222222222222222,
             "#7201a8"
            ],
            [
             0.3333333333333333,
             "#9c179e"
            ],
            [
             0.4444444444444444,
             "#bd3786"
            ],
            [
             0.5555555555555556,
             "#d8576b"
            ],
            [
             0.6666666666666666,
             "#ed7953"
            ],
            [
             0.7777777777777778,
             "#fb9f3a"
            ],
            [
             0.8888888888888888,
             "#fdca26"
            ],
            [
             1,
             "#f0f921"
            ]
           ],
           "sequentialminus": [
            [
             0,
             "#0d0887"
            ],
            [
             0.1111111111111111,
             "#46039f"
            ],
            [
             0.2222222222222222,
             "#7201a8"
            ],
            [
             0.3333333333333333,
             "#9c179e"
            ],
            [
             0.4444444444444444,
             "#bd3786"
            ],
            [
             0.5555555555555556,
             "#d8576b"
            ],
            [
             0.6666666666666666,
             "#ed7953"
            ],
            [
             0.7777777777777778,
             "#fb9f3a"
            ],
            [
             0.8888888888888888,
             "#fdca26"
            ],
            [
             1,
             "#f0f921"
            ]
           ]
          },
          "colorway": [
           "#636efa",
           "#EF553B",
           "#00cc96",
           "#ab63fa",
           "#FFA15A",
           "#19d3f3",
           "#FF6692",
           "#B6E880",
           "#FF97FF",
           "#FECB52"
          ],
          "font": {
           "color": "#2a3f5f"
          },
          "geo": {
           "bgcolor": "white",
           "lakecolor": "white",
           "landcolor": "#E5ECF6",
           "showlakes": true,
           "showland": true,
           "subunitcolor": "white"
          },
          "hoverlabel": {
           "align": "left"
          },
          "hovermode": "closest",
          "mapbox": {
           "style": "light"
          },
          "paper_bgcolor": "white",
          "plot_bgcolor": "#E5ECF6",
          "polar": {
           "angularaxis": {
            "gridcolor": "white",
            "linecolor": "white",
            "ticks": ""
           },
           "bgcolor": "#E5ECF6",
           "radialaxis": {
            "gridcolor": "white",
            "linecolor": "white",
            "ticks": ""
           }
          },
          "scene": {
           "xaxis": {
            "backgroundcolor": "#E5ECF6",
            "gridcolor": "white",
            "gridwidth": 2,
            "linecolor": "white",
            "showbackground": true,
            "ticks": "",
            "zerolinecolor": "white"
           },
           "yaxis": {
            "backgroundcolor": "#E5ECF6",
            "gridcolor": "white",
            "gridwidth": 2,
            "linecolor": "white",
            "showbackground": true,
            "ticks": "",
            "zerolinecolor": "white"
           },
           "zaxis": {
            "backgroundcolor": "#E5ECF6",
            "gridcolor": "white",
            "gridwidth": 2,
            "linecolor": "white",
            "showbackground": true,
            "ticks": "",
            "zerolinecolor": "white"
           }
          },
          "shapedefaults": {
           "line": {
            "color": "#2a3f5f"
           }
          },
          "ternary": {
           "aaxis": {
            "gridcolor": "white",
            "linecolor": "white",
            "ticks": ""
           },
           "baxis": {
            "gridcolor": "white",
            "linecolor": "white",
            "ticks": ""
           },
           "bgcolor": "#E5ECF6",
           "caxis": {
            "gridcolor": "white",
            "linecolor": "white",
            "ticks": ""
           }
          },
          "title": {
           "x": 0.05
          },
          "xaxis": {
           "automargin": true,
           "gridcolor": "white",
           "linecolor": "white",
           "ticks": "",
           "title": {
            "standoff": 15
           },
           "zerolinecolor": "white",
           "zerolinewidth": 2
          },
          "yaxis": {
           "automargin": true,
           "gridcolor": "white",
           "linecolor": "white",
           "ticks": "",
           "title": {
            "standoff": 15
           },
           "zerolinecolor": "white",
           "zerolinewidth": 2
          }
         }
        },
        "title": {
         "text": "Hazard Rates Bootstrapped"
        },
        "xaxis": {
         "anchor": "y",
         "domain": [
          0,
          0.94
         ],
         "title": {
          "text": "Maturity (in months)"
         }
        },
        "yaxis": {
         "anchor": "x",
         "domain": [
          0,
          1
         ],
         "title": {
          "text": "Survival Rate (in %)"
         }
        },
        "yaxis2": {
         "anchor": "x",
         "overlaying": "y",
         "side": "right",
         "title": {
          "text": "Hazard Rate (in %)"
         }
        }
       }
      }
     },
     "metadata": {}
    }
   ],
   "source": [
    "#Plotting Hazard Rates for different maturities\n",
    "fig = make_subplots(specs=[[{\"secondary_y\": True}]])\n",
    "\n",
    "# Add traces\n",
    "fig.add_trace(\n",
    "    go.Bar(x=x, y=survival_rates, name=\"Survival Rate (in percentage)\"),\n",
    "    secondary_y=False,\n",
    ")\n",
    "\n",
    "fig.add_trace(\n",
    "    go.Scatter(x=x, y=hazard_rates, name=\"Hazard Rate (in percentage)\"),\n",
    "    secondary_y=True,\n",
    ")\n",
    "\n",
    "# Add figure title\n",
    "fig.update_layout(\n",
    "    title_text=\"Hazard Rates Bootstrapped\"\n",
    ")\n",
    "\n",
    "# Set x-axis title\n",
    "fig.update_xaxes(title_text=\"Maturity (in months)\")\n",
    "\n",
    "# Set y-axes titles\n",
    "fig.update_yaxes(title_text=\"Survival Rate (in %)\", secondary_y=False)\n",
    "fig.update_yaxes(title_text=\"Hazard Rate (in %)\", secondary_y=True)\n",
    "\n",
    "fig.show()"
   ]
  },
  {
   "cell_type": "code",
   "execution_count": null,
   "metadata": {},
   "outputs": [],
   "source": []
  }
 ]
}