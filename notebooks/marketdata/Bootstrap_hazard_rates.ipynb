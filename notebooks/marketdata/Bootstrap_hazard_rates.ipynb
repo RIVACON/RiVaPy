{
 "cells": [
  {
   "cell_type": "markdown",
   "metadata": {},
   "source": [
    "# Bootstrapping Hazard Rates"
   ]
  },
  {
   "cell_type": "markdown",
   "metadata": {},
   "source": [
    "## Import Libraries\n"
   ]
  },
  {
   "cell_type": "code",
   "execution_count": null,
   "metadata": {
    "code_folding": [
     0
    ]
   },
   "outputs": [],
   "source": [
    "#Libraries\n",
    "import math\n",
    "import datetime as dt\n",
    "import pandas as pd\n",
    "from datetime import timedelta\n",
    "import matplotlib.pyplot as plt\n",
    "import numpy as np\n",
    "import dateutil.relativedelta as relativedelta\n",
    "from typing import List\n",
    "import scipy.optimize\n",
    "import plotly.graph_objects as go\n",
    "from plotly.subplots import make_subplots\n",
    "#Import RiVaPy\n",
    "import rivapy\n",
    "from rivapy.marketdata import DiscountCurve, DatedCurve, SurvivalCurve\n",
    "from rivapy import enums\n",
    "import numpy"
   ]
  },
  {
   "cell_type": "markdown",
   "metadata": {},
   "source": [
    "## Introduction"
   ]
  },
  {
   "cell_type": "markdown",
   "metadata": {},
   "source": [
    "In this Notebook we introduce the basic principles of hazard-rates bootstrapping. \n",
    "\n",
    "In order to receive hazard rates from the market, one can use a bootstrap methodolody as an iterative approach. By starting with the CDS with the shortest maturity and adding the CDS with the next shortest maturity, all swaps and their hazard rates can be added to the term structure. "
   ]
  },
  {
   "cell_type": "markdown",
   "metadata": {},
   "source": [
    "## Credit Curve Bootstrapping Methodology\n"
   ]
  },
  {
   "cell_type": "markdown",
   "metadata": {},
   "source": [
    "O'Kane and Turnbull describing the calibration of hazard rates to CDS. Therefore one need to define a standard Credit Default Swap. In this CDS one side pays a premium to receive protection for the underlying asset (premium leg). The premium is payed with a certain frequency until the CDS matures or a default occurs. The other side in the CDS exchanges the recovery value in case a default occurs (protection leg).\n",
    "\n",
    "The valuation and derivation of the premium leg and the protection leg are described in detail in the Credit Default Swap valuation Notebook. (Link zu anderem Notebook) In order to valuate both legs a Survival Curve is needed.\n",
    "\n",
    "One can use in the Par-Spread-Formulathe market given parameter and the fair value of CDS with different maturities in order to find the survival rate/hazard rates which is included in the market spreads."
   ]
  },
  {
   "cell_type": "markdown",
   "metadata": {},
   "source": [
    "**Par Spread:**\n",
    "\n",
    "The par spread is the spread that makes the value of a credit default swap with same maturity (and of course with all other details except the coupon identical) zero at present. Therefore the par spread discribes the coupon which would make the two legs of the CDS (protection und premium leg) equal.\n",
    "\n",
    "The par spread can be approximated by the following formula:\n",
    "\n",
    "$$S_p(T)=\\frac{PV_{Protection Leg}}{PV_{Premium Leg}+PV_{accrued interest}}$$\n",
    "\n",
    "With the relevant variables:\n",
    "\n",
    "$$S_p(T)=\\frac{(1-RR)*\\sum_{i=0}^TP(t_i)(Q(t_{i-1})-Q(t_i))}{\\sum_{i=0}^T\\Delta_iP(t_i)\\frac{Q(t_{i-1}+Q(t_i)}{2}}$$"
   ]
  },
  {
   "cell_type": "markdown",
   "metadata": {},
   "source": [
    "**Notation:**\n",
    "\n",
    "$RR=$ Recovery rate of the reference instrument\n",
    "\n",
    "$P(t)=$ Price of a zero-coupon bond (Risk-free curve)\n",
    "\n",
    "$t_i=$ specific payment times \n",
    "\n",
    "$Q(t)=$ Probabilty of surviving derived by the hazard rates, which can be bootstrapped from the traded credit spreads\n",
    "\n",
    "$M=$ remaining payments \n",
    "\n",
    "$\\Delta_i=$ year fractions (between payment dates)\n"
   ]
  },
  {
   "cell_type": "markdown",
   "metadata": {},
   "source": [
    "### Calibration of the credit curve"
   ]
  },
  {
   "cell_type": "markdown",
   "metadata": {},
   "source": [
    "#### Market spreads"
   ]
  },
  {
   "cell_type": "markdown",
   "metadata": {},
   "source": [
    "In order to understand the bootstrapping methodolody in the following section some examples are shown. Therefore the recover rate (RR) is constant. For CDS with the maturities 1y, 2y and 3y market spreads are given. The coupon is paid yearly, therefore the year fraction (df) is always one."
   ]
  },
  {
   "cell_type": "code",
   "execution_count": null,
   "metadata": {
    "code_folding": [
     0
    ]
   },
   "outputs": [],
   "source": [
    "#Instrument and market data\n",
    "RR=0.4\n",
    "ref_date=dt.datetime(2021,4,30)\n",
    "#market spreads\n",
    "sp_1=0.0003\n",
    "sp_2=0.0009\n",
    "sp_3=0.0015\n",
    "\n",
    "#year fraction\n",
    "df1=1\n",
    "df2=1\n",
    "df3=1\n",
    "\n",
    "\n",
    "marketdata = {\"Tenor\": [0,1,2,3],\n",
    "           \"Spread\": [0,0.0003,0.0009,0.0015]\n",
    "}\n",
    "\n",
    "marketdata=pd.DataFrame(marketdata)\n",
    "\n",
    "print(marketdata)\n"
   ]
  },
  {
   "cell_type": "markdown",
   "metadata": {},
   "source": [
    "In this context, the basis points indicated represent the insurance premium that the policyholder has to pay in order to insure himself against a default of the debt securities of the respective company. These premiums can provide even more timely and accurate information about a company's creditworthiness than some ratings. As a general rule, a low CDS - i.e. a low risk premium - indicates a high credit rating, and vice versa."
   ]
  },
  {
   "cell_type": "markdown",
   "metadata": {},
   "source": [
    "#### Sample calculation"
   ]
  },
  {
   "cell_type": "markdown",
   "metadata": {},
   "source": [
    "##### T = 0"
   ]
  },
  {
   "cell_type": "markdown",
   "metadata": {},
   "source": [
    "We know that the surival probability at T0 is eqaul to 1, because the underlying is not in default at the beginning."
   ]
  },
  {
   "cell_type": "code",
   "execution_count": null,
   "metadata": {
    "code_folding": [
     0
    ]
   },
   "outputs": [],
   "source": [
    "#survival value at t=0\n",
    "q_t0=1\n",
    "duedate=dt.datetime(2021,4,30)\n",
    "h_t0=0\n",
    "print(\"The hazard rate at t=0:\",round(h_t0,4),\"%\")\n",
    "print(\"The survival rate at t=0:\", round(q_t0*100,4),\"%\")"
   ]
  },
  {
   "cell_type": "code",
   "execution_count": null,
   "metadata": {
    "code_folding": [
     0
    ]
   },
   "outputs": [],
   "source": [
    "#plot\n",
    "example = {\"tenor\": [0,1,2,3,5,7,10,15,20],\n",
    "       \"SurvivalRate\": [q_t0*100,'','','','','','','',''],\n",
    "       \"HazardRates\": [h_t0,'','','','','','','',''],\n",
    "           \"Spread\": [0,'','','','','','','','']\n",
    "}\n",
    "\n",
    "example=pd.DataFrame(example)\n",
    "\n",
    "fig = make_subplots(specs=[[{\"secondary_y\": True}]])\n",
    "\n",
    "# Add traces\n",
    "fig.add_trace(\n",
    "    go.Bar(x=example.tenor, y=example.SurvivalRate, name=\"Survival Rate (in percentage)\",marker_color='rgb(158,202,225)', \n",
    "        opacity=0.7),\n",
    "    secondary_y=False,\n",
    ")\n",
    "\n",
    "fig.add_trace(\n",
    "    go.Scatter(x=example.tenor, y=example.HazardRates, name=\"Hazard Rate (in percentage)\"),\n",
    "    secondary_y=True,\n",
    ")\n",
    "\n",
    "fig.add_trace(\n",
    "    go.Scatter(x=example.tenor, y=example.Spread, name=\"Spread (in percentage)\", marker_color='blue'),\n",
    "    secondary_y=True,\n",
    ")\n",
    "\n",
    "# Add figure title\n",
    "fig.update_layout(\n",
    "    title_text=\"Hazard Rates Bootstrapped T0\"\n",
    ")\n",
    "\n",
    "# Set x-axis title\n",
    "fig.update_xaxes(title_text=\"Maturity (in years)\")\n",
    "\n",
    "# Set y-axes titles\n",
    "fig.update_yaxes(title_text=\"Survival Rate (in %)\", secondary_y=False)\n",
    "fig.update_yaxes(title_text=\"Hazard Rate (in %)\", secondary_y=True, range=[0, 0.8])\n",
    "\n",
    "fig.show()"
   ]
  },
  {
   "cell_type": "markdown",
   "metadata": {},
   "source": [
    "##### T = 1"
   ]
  },
  {
   "cell_type": "markdown",
   "metadata": {},
   "source": [
    "By using the survival probality at T0 and the given market spreads one can derive the Survival rate at **T1**. One has to find $Q(t_1)$ in the par spread formula which equals the left and right side. By rearranging the formula one can derive the value of $Q(t_1)$ with the following formula:"
   ]
  },
  {
   "cell_type": "markdown",
   "metadata": {},
   "source": [
    "Formula:\n",
    "\n",
    "$$S_p(1)=\\frac{(1-RR)*P(t_1)(Q(t_{0})-Q(t_1))}{\\Delta_1P(t_1)\\frac{Q((t_0)+Q(t_1)}{2}}$$\n",
    "\n",
    "We're looking for $Q(t_1)$. "
   ]
  },
  {
   "cell_type": "code",
   "execution_count": null,
   "metadata": {
    "code_folding": [
     0
    ]
   },
   "outputs": [],
   "source": [
    "#Calculate survival rate at t=1 based on market spreads and survival rate at t=0\n",
    "duedate_1=dt.datetime(2022,4,30)\n",
    "q_t1=(q_t0*((1-RR)-sp_1*df1*0.5))/(sp_1*df1*0.5+(1-RR))\n",
    "h_t1=-numpy.log(q_t1*((duedate_1-ref_date).days/365))*100\n",
    "print(\"The hazard rate at t=1:\",round(h_t1,2), \"%\")\n",
    "print(\"The survival rate at t=1:\", round(q_t1*100,2),\"%\")"
   ]
  },
  {
   "cell_type": "code",
   "execution_count": null,
   "metadata": {
    "code_folding": [
     0
    ]
   },
   "outputs": [],
   "source": [
    "#plot\n",
    "example = {\"tenor\": [0,1,2,3,5,7,10,15,20],\n",
    "       \"SurvivalRate\": [q_t0*100,q_t1*100,'','','','','','',''],\n",
    "       \"HazardRates\": [h_t0,h_t1,'','','','','','',''],\n",
    "           \"Spread\": [0,sp_1*100,'','','','','','','']\n",
    "}\n",
    "\n",
    "example=pd.DataFrame(example)\n",
    "\n",
    "fig = make_subplots(specs=[[{\"secondary_y\": True}]])\n",
    "\n",
    "# Add traces\n",
    "fig.add_trace(\n",
    "    go.Bar(x=example.tenor, y=example.SurvivalRate, name=\"Survival Rate (in percentage)\", marker_color='rgb(158,202,225)', \n",
    "        opacity=0.7),\n",
    "    secondary_y=False,\n",
    ")\n",
    "\n",
    "fig.add_trace(\n",
    "    go.Scatter(x=example.tenor, y=example.HazardRates, name=\"Hazard Rate (in percentage)\"),\n",
    "    secondary_y=True,\n",
    ")\n",
    "\n",
    "fig.add_trace(\n",
    "    go.Scatter(x=example.tenor, y=example.Spread, name=\"Spread (in percentage)\", marker_color='blue'),\n",
    "    secondary_y=True,\n",
    ")\n",
    "\n",
    "# Add figure title\n",
    "fig.update_layout(\n",
    "    title_text=\"Hazard Rates Bootstrapped T1\"\n",
    ")\n",
    "\n",
    "# Set x-axis title\n",
    "fig.update_xaxes(title_text=\"Maturity (in years)\")\n",
    "\n",
    "# Set y-axes titles\n",
    "fig.update_yaxes(title_text=\"Survival Rate (in %)\", secondary_y=False)\n",
    "fig.update_yaxes(title_text=\"Hazard Rate (in %)\", secondary_y=True, range=[0, 0.8])\n",
    "\n",
    "fig.show()"
   ]
  },
  {
   "cell_type": "markdown",
   "metadata": {},
   "source": [
    "##### T = 2"
   ]
  },
  {
   "cell_type": "markdown",
   "metadata": {},
   "source": [
    "By using the survival probality at T0 and T1 and the given market spreads one can derive the survival rate at **T2**. One has to find $Q(t_2)$ in the par spread formula which equals the left and right side:"
   ]
  },
  {
   "cell_type": "markdown",
   "metadata": {},
   "source": [
    "Formula:\n",
    "\n",
    "$$S_p(2)=\\frac{(1-RR)*[P(t_1)h(t_1)+P(t_2)(Q(t_{1})-Q(t_2))]}{Delta_1P(t_1)\\frac{Q(t_0)+Q(t_1)}{2}+Delta_2P(t_2)\\frac{Q(t_1)+Q(t_2)}{2}}$$\n",
    "\n",
    "We're looking for $Q(t_2)$. "
   ]
  },
  {
   "cell_type": "code",
   "execution_count": null,
   "metadata": {
    "code_folding": [
     0
    ]
   },
   "outputs": [],
   "source": [
    "#Calculate survival rate at t=2 based on market spreads and survival rate at t=1\n",
    "duedate_2=dt.datetime(2023,4,30)\n",
    "q_t2=((1-RR)*(q_t0-q_t1)-sp_2*df1*(q_t0+q_t1)*0.5-sp_2*df2*0.5*q_t1+(1-RR)*q_t1)/(sp_2*df2*0.5+(1-RR))\n",
    "h_t2=-numpy.log(q_t2/q_t1*((duedate_1-ref_date).days/365))*100\n",
    "print(\"The hazard rate at t=2:\",round(h_t2,2), \"%\")\n",
    "print(\"The survival rate at t=2:\", round(q_t2*100,2), \"%\")"
   ]
  },
  {
   "cell_type": "code",
   "execution_count": null,
   "metadata": {
    "code_folding": [
     0
    ]
   },
   "outputs": [],
   "source": [
    "#plot\n",
    "example = {\"tenor\": [0,1,2,3,5,7,10,15,20],\n",
    "       \"SurvivalRate\": [q_t0*100,q_t1*100,q_t2*100,'','','','','',''],\n",
    "       \"HazardRates\": [h_t0,h_t1,h_t2,'','','','','',''],\n",
    "           \"Spread\": [0,sp_1*100,sp_2*100,'','','','','','']\n",
    "}\n",
    "\n",
    "example=pd.DataFrame(example)\n",
    "\n",
    "fig = make_subplots(specs=[[{\"secondary_y\": True}]])\n",
    "\n",
    "# Add traces\n",
    "fig.add_trace(\n",
    "    go.Bar(x=example.tenor, y=example.SurvivalRate, name=\"Survival Rate (in percentage)\",marker_color='rgb(158,202,225)', \n",
    "        opacity=0.7),\n",
    "    secondary_y=False,\n",
    ")\n",
    "\n",
    "fig.add_trace(\n",
    "    go.Scatter(x=example.tenor, y=example.HazardRates, name=\"Hazard Rate (in percentage)\"),\n",
    "    secondary_y=True,\n",
    ")\n",
    "\n",
    "fig.add_trace(\n",
    "    go.Scatter(x=example.tenor, y=example.Spread, name=\"Spread (in percentage)\", marker_color='blue'),\n",
    "    secondary_y=True,\n",
    ")\n",
    "\n",
    "# Add figure title\n",
    "fig.update_layout(\n",
    "    title_text=\"Hazard Rates Bootstrapped T2\"\n",
    ")\n",
    "\n",
    "# Set x-axis title\n",
    "fig.update_xaxes(title_text=\"Maturity (in years)\")\n",
    "\n",
    "\n",
    "# Set y-axes titles\n",
    "fig.update_yaxes(title_text=\"Survival Rate (in %)\", secondary_y=False)\n",
    "fig.update_yaxes(title_text=\"Hazard Rate (in %)\", secondary_y=True, range=[0, 0.8])\n",
    "\n",
    "fig.show()"
   ]
  },
  {
   "cell_type": "markdown",
   "metadata": {},
   "source": [
    "##### T = 3"
   ]
  },
  {
   "cell_type": "markdown",
   "metadata": {},
   "source": [
    "By using the survival probality at T0, T1 and T2 and the given market spreads one can derive the survival rate at **T3**. One has to find $Q(t_3)$ in the par spread formula which equals the left and right side:"
   ]
  },
  {
   "cell_type": "markdown",
   "metadata": {},
   "source": [
    "Formula:\n",
    "\n",
    "$$S_p(2)=\\frac{(1-RR)*[P(t_1)h(t_1)+P(t_2)h(t_2)+P(t_3)(Q(t_{2})-Q(t_3))]}{Delta_1P(t_1)\\frac{Q(t_0)+Q(t_1)}{2}+Delta_2P(t_2)\\frac{Q(t_1)+Q(t_2)}{2}+Delta_3P(t_3)\\frac{Q(t_2)+Q(t_3)}{2}}$$\n",
    "\n",
    "We're looking for $Q(t_3)$. "
   ]
  },
  {
   "cell_type": "code",
   "execution_count": null,
   "metadata": {
    "code_folding": [
     0
    ]
   },
   "outputs": [],
   "source": [
    "#Calculate survival rate at t=3 based on market spreads and survival rate at t=2\n",
    "duedate_3=dt.datetime(2024,4,30)\n",
    "q_t3=((1-RR)*(q_t0-q_t1)+(1-RR)*(q_t1-q_t2)+(1-RR)*q_t2-sp_3*df3*0.5*(q_t0+q_t1)-sp_3*df3*0.5*(q_t1+q_t2)-sp_3*df3*0.5*q_t2)/(sp_3*df3*0.5+(1-RR))\n",
    "h_t3=-numpy.log(q_t3/q_t2*((duedate_1-ref_date).days/365))*100\n",
    "print(\"The hazard rate at t=3:\",round(h_t3,2), \"%\")\n",
    "print(\"The survival rate at t=3:\", round(q_t3*100,2), \"%\")"
   ]
  },
  {
   "cell_type": "code",
   "execution_count": null,
   "metadata": {
    "code_folding": [
     0
    ]
   },
   "outputs": [],
   "source": [
    "#plot\n",
    "example = {\"tenor\": [0,1,2,3,5,7,10,15,20],\n",
    "       \"SurvivalRate\": [q_t0*100,q_t1*100,q_t2*100,q_t3*100,'','','','',''],\n",
    "       \"HazardRates\": [h_t0,h_t1,h_t2,h_t3,'','','','',''],\n",
    "           \"Spread\": [0,sp_1*100,sp_2*100,sp_3*100,'','','','','']\n",
    "}\n",
    "\n",
    "example=pd.DataFrame(example)\n",
    "\n",
    "fig = make_subplots(specs=[[{\"secondary_y\": True}]])\n",
    "\n",
    "# Add traces\n",
    "fig.add_trace(\n",
    "    go.Bar(x=example.tenor, y=example.SurvivalRate, name=\"Survival Rate (in percentage)\",marker_color='rgb(158,202,225)', \n",
    "        opacity=0.7),\n",
    "    secondary_y=False,\n",
    ")\n",
    "\n",
    "fig.add_trace(\n",
    "    go.Scatter(x=example.tenor, y=example.HazardRates, name=\"Hazard Rate (in percentage)\"),\n",
    "    secondary_y=True,\n",
    ")\n",
    "\n",
    "fig.add_trace(\n",
    "    go.Scatter(x=example.tenor, y=example.Spread, name=\"Spread (in percentage)\", marker_color='blue'),\n",
    "    secondary_y=True,\n",
    ")\n",
    "\n",
    "# Add figure title\n",
    "fig.update_layout(\n",
    "    title_text=\"Hazard Rates Bootstrapped T3\"\n",
    ")\n",
    "\n",
    "# Set x-axis title\n",
    "fig.update_xaxes(title_text=\"Maturity (in years)\")\n",
    "\n",
    "# Set y-axes titles\n",
    "fig.update_yaxes(title_text=\"Survival Rate (in %)\", secondary_y=False)\n",
    "fig.update_yaxes(title_text=\"Hazard Rate (in %)\", secondary_y=True, range=[0, 0.8])\n",
    "\n",
    "fig.show()"
   ]
  },
  {
   "cell_type": "markdown",
   "metadata": {},
   "source": [
    "## Calculate Hazard Rates for specific Market Data"
   ]
  },
  {
   "cell_type": "markdown",
   "metadata": {},
   "source": [
    "### Define Functions"
   ]
  },
  {
   "cell_type": "code",
   "execution_count": null,
   "metadata": {
    "code_folding": [
     0
    ]
   },
   "outputs": [],
   "source": [
    "#function to calculate par spread based on instrument and market data\n",
    "def par_spread(ref_date, trade_date, dc_survival, payment_dates, maturity_date, dc, RR):\n",
    "    integration_step= relativedelta.relativedelta(days=365)\n",
    "    premium_period_start = ref_date\n",
    "    prev_date=ref_date\n",
    "    current_date=min(prev_date+integration_step, maturity_date)\n",
    "    dc_valuation_date=dc.value(ref_date, maturity_date)\n",
    "    risk_adj_factor_protection=0\n",
    "    risk_adj_factor_premium=0\n",
    "    risk_adj_factor_accrued=0\n",
    "    #RR=0.4\n",
    "\n",
    "    while current_date <= maturity_date:\n",
    "        default_prob = dc_survival.value(ref_date, prev_date)-dc_survival.value(ref_date, current_date)\n",
    "        #print(\"default_prob:\",default_prob)\n",
    "        risk_adj_factor_protection += dc.value(ref_date, current_date) * default_prob\n",
    "        #print(\"risk_adj_factor_protection:\",risk_adj_factor_protection)\n",
    "        prev_date = current_date\n",
    "        current_date += integration_step\n",
    "    \n",
    "    if prev_date < maturity_date and current_date > maturity_date:\n",
    "        default_prob = dc_survival.value(ref_date, prev_date)-dc_survival.value(ref_date, maturity_date)\n",
    "        #print(\"default_prob:\",default_prob)\n",
    "        risk_adj_factor_protection += dc.value(ref_date, maturity_date)  * default_prob\n",
    "        #print(\"risk_adj_factor_protection:\",risk_adj_factor_protection)\n",
    "\n",
    "\n",
    "    for premium_payment in payment_dates:\n",
    "        if premium_payment >= ref_date:\n",
    "            period_length = ((premium_payment-premium_period_start).days)/360\n",
    "            #survival_prob = (dc_survival.value(ref_date, premium_period_start)+dc_survival.value(ref_date, premium_payment))/2\n",
    "            survival_prob = dc_survival.value(ref_date, premium_period_start)\n",
    "            #print(\"survival_prob:\",survival_prob)\n",
    "            df = dc.value(ref_date, premium_payment)\n",
    "            risk_adj_factor_premium += period_length*survival_prob*df\n",
    "            #print(\"risk_adj_factor_premium:\",risk_adj_factor_premium)\n",
    "            default_prob = dc_survival.value(ref_date, premium_period_start)-dc_survival.value(ref_date, premium_payment)\n",
    "            #print(\"default_prob_accrued:\",default_prob)\n",
    "            risk_adj_factor_accrued += period_length*default_prob*df\n",
    "            #print(\"risk_adj_factor_accrued:\",risk_adj_factor_accrued)\n",
    "            premium_period_start = premium_payment\n",
    "\n",
    "\n",
    "\n",
    "    PV_accrued=((1/2)*risk_adj_factor_accrued)\n",
    "    #print(\"PV_accrued: \",PV_accrued)\n",
    "    PV_premium=(1)*risk_adj_factor_premium\n",
    "    #print(\"PV_premium: \",PV_premium)\n",
    "    PV_protection=(((1-RR))*risk_adj_factor_protection)\n",
    "    #print(\"PV_protection: \",PV_protection)\n",
    "    \n",
    "    par_spread_i=(PV_protection)/((PV_premium+PV_accrued))\n",
    "    #print(\"par_spread_i: \",par_spread_i)\n",
    "    return par_spread_i"
   ]
  },
  {
   "cell_type": "code",
   "execution_count": null,
   "metadata": {
    "code_folding": [
     0
    ]
   },
   "outputs": [],
   "source": [
    "#Function to Rollout payment_dates\n",
    "def payment_dates(trade_date,maturity_date,payment_cycle):\n",
    "    date=maturity_date-relativedelta.relativedelta(months=+payment_cycle)\n",
    "    payment_dates=[maturity_date]\n",
    "    if maturity_date<date:\n",
    "       payment_dates.append(maturity_date)\n",
    "    while date>=trade_date:\n",
    "        payment_dates.append(date)\n",
    "        date=date-relativedelta.relativedelta(months=+payment_cycle)\n",
    "    return sorted(payment_dates)\n",
    "#payment_dates_ins=payment_dates(trade_date,maturity_date,payment_cycle)"
   ]
  },
  {
   "cell_type": "code",
   "execution_count": null,
   "metadata": {
    "code_folding": [
     0
    ]
   },
   "outputs": [],
   "source": [
    "#Bootstrapping Functionality\n",
    "def create_survival(refdate, dates: List[dt.datetime], hazard_rates: List[float]):\n",
    "    return SurvivalCurve('survival_curve', refdate, dates, hazard_rates)\n",
    "    \n",
    "def calibration_error(x, mkt_par_spread, ref_date, trade_date, payment_dates, dc_new, dates, hazard_rates, RR):\n",
    "    hazard_rates[-1] = x\n",
    "    maturity_date = dates[-1]\n",
    "    dc_surv = create_survival(ref_date, dates, hazard_rates)\n",
    "    #print(x)\n",
    "    #print(\"Market Spread=\",mkt_par_spread,\"-\",\"Par-Spread=\",par_spread(ref_date, trade_date, dc_surv, payment_dates,maturity_date, dc_new),\"=\",\n",
    "    #      mkt_par_spread - par_spread(ref_date, trade_date, dc_surv, payment_dates,maturity_date, dc_new))\n",
    "    return  mkt_par_spread - par_spread(ref_date, trade_date, dc_surv, payment_dates, maturity_date, dc_new, RR)\n",
    "\n",
    "\n",
    "def calibrate_hazard_rate(payment_dates_bootstrapp, ref_date,mkt_par_spread, trade_date, dc_new, RR):\n",
    "    #sort payment_dates by [-1]\n",
    "    sc_dates=[ref_date]\n",
    "    hazard_rates=[0.0]\n",
    "    for i in range(len(payment_dates_bootstrapp)):\n",
    "        payment_dates_iter = payment_dates_bootstrapp[i]\n",
    "        #print(payment_dates_iter)\n",
    "        mkt_par_spread_iter = mkt_par_spread[i]\n",
    "        #print(mkt_par_spread_iter)\n",
    "        sc_dates.append(payment_dates_iter[-1])\n",
    "        hazard_rates.append(hazard_rates[-1])\n",
    "        sol=scipy.optimize.root_scalar(calibration_error,args=(mkt_par_spread_iter, ref_date, trade_date, \n",
    "                         payment_dates_iter, dc_new, sc_dates, hazard_rates, RR),method='brentq',bracket=[0,3],xtol=1e-8,rtol=1e-8)\n",
    "        hazard_rates[-1] = sol.root\n",
    "        #print(numpy.exp(-sol.root*((payment_dates_iter[-1]-ref_date).days/365)))\n",
    "    return create_survival(ref_date, sc_dates, hazard_rates), hazard_rates\n",
    "\n"
   ]
  },
  {
   "cell_type": "markdown",
   "metadata": {},
   "source": [
    "### Define market data"
   ]
  },
  {
   "cell_type": "code",
   "execution_count": null,
   "metadata": {
    "code_folding": [
     0
    ]
   },
   "outputs": [],
   "source": [
    "#Define yield curve\n",
    "object_id = \"CDS_interest_rate_boots\"\n",
    "refdate = dt.datetime(2020,1,1)\n",
    "days_to_maturity = [360, 720, 3*360, 4*360, 5*360, 7*360, 10*360,  15*360, 20*360,  30*360]\n",
    "dates = [refdate + timedelta(days=d) for d in days_to_maturity]\n",
    "rates = [0.002585,0.005034,0.008981,0.012954,0.016452,\n",
    "                   0.021811,0.027007,0.031718,0.033834,0.035056]\n",
    "#rates = [0,0,0,0,0,0,0,0,0,0]\n",
    "dsc_fac = [math.exp(-rates[i]*days_to_maturity[i]/360) for i in range(len(days_to_maturity))]\n",
    "\n",
    "        \n",
    "dc_new = DiscountCurve(object_id, refdate, dates, dsc_fac, enums.InterpolationType.LINEAR, enums.ExtrapolationType.LINEAR)"
   ]
  },
  {
   "cell_type": "code",
   "execution_count": null,
   "metadata": {
    "code_folding": [
     0
    ]
   },
   "outputs": [],
   "source": [
    "#Market Spreads\n",
    "#Pfizer\n",
    "mkt_par_spread=[0.0003,0.0009,0.0015,0.0021,0.0028,0.0043,0.0061,0.0063, 0.0068,0.0066]\n",
    "\n",
    "#Radioshack\n",
    "mkt_par_spread_rs=[0.6405,0.5956,0.5511,0.5144,0.4894,0.4511,0.4156,0.3815,0.3657,0.3506]\n",
    "\n"
   ]
  },
  {
   "cell_type": "code",
   "execution_count": null,
   "metadata": {
    "code_folding": [
     0
    ]
   },
   "outputs": [],
   "source": [
    "#dataframe\n",
    "marketdata_test = {\"Tenor\": [1,2,3,4,5,7,10,15,20,30],\n",
    "           \"Spread Pfizer\": mkt_par_spread,\n",
    "                   \"Spread Radioshack\" : mkt_par_spread_rs\n",
    "}\n",
    "\n",
    "marketdata_test=pd.DataFrame(marketdata_test)\n",
    "\n",
    "print(marketdata_test)"
   ]
  },
  {
   "cell_type": "markdown",
   "metadata": {},
   "source": [
    "### Define Instrument data"
   ]
  },
  {
   "cell_type": "code",
   "execution_count": null,
   "metadata": {
    "code_folding": [
     0
    ]
   },
   "outputs": [],
   "source": [
    "#Instrument data\n",
    "refdate = dt.datetime(2020,1,1)\n",
    "trade_date = refdate\n",
    "RR=0.4\n",
    "RR_rs=0.25\n",
    "maturities_CDS_test = [12,24,36,48,60,7*12,10*12,15*12,20*12,30*12]\n",
    "\n",
    "#Maturities and Payment Dates\n",
    "#ref_date=dt.datetime(2020,1,1)\n",
    "maturity_dates=[]\n",
    "date=refdate\n",
    "for i in range (len(maturities_CDS_test)):\n",
    "    if maturities_CDS_test[i]>=12:\n",
    "        date=refdate+relativedelta.relativedelta(years=(maturities_CDS_test[i]/12))\n",
    "        maturity_dates.append(date)\n",
    "    elif maturities_CDS_test[i]<12:\n",
    "        date=refdate+relativedelta.relativedelta(month=maturities_CDS_test[i])\n",
    "        maturity_dates.append(date)\n",
    "    \n",
    "maturity_dates_sorted=sorted(maturity_dates)\n",
    "\n",
    "#Rollout instrument payment dates for different maturities\n",
    "payment_dates_bootstrapp=[]\n",
    "for i  in range(len(maturity_dates_sorted)):\n",
    "    payment_dates_bootstrapp.append(payment_dates(refdate,maturity_dates_sorted[i],3))\n",
    "payment_dates_bootstrapp=sorted(payment_dates_bootstrapp, key=lambda x: x[-1])\n"
   ]
  },
  {
   "cell_type": "markdown",
   "metadata": {},
   "source": [
    "### Bootstrapp Survival Curve"
   ]
  },
  {
   "cell_type": "markdown",
   "metadata": {},
   "source": [
    "#### Pfizer"
   ]
  },
  {
   "cell_type": "code",
   "execution_count": null,
   "metadata": {
    "code_folding": [
     0
    ]
   },
   "outputs": [],
   "source": [
    "#Create Survival Curve based on Bootstrapping alogirthm for Pfizer\n",
    "survival_curve=calibrate_hazard_rate(payment_dates_bootstrapp, refdate,mkt_par_spread, trade_date, dc_new, RR)\n",
    "survival_curve=survival_curve[0]\n",
    "survival_curve_bootstrap=[survival_curve.value(refdate,refdate)]\n",
    "\n",
    "for i in range(len(payment_dates_bootstrapp)):\n",
    "    survival_curve_bootstrap.append(survival_curve.value(refdate,payment_dates_bootstrapp[i][-1]))\n",
    "del survival_curve_bootstrap[0]\n",
    "#print(survival_curve_bootstrap)"
   ]
  },
  {
   "cell_type": "markdown",
   "metadata": {},
   "source": [
    "##### Get Data for Plots"
   ]
  },
  {
   "cell_type": "code",
   "execution_count": null,
   "metadata": {
    "code_folding": [
     0
    ]
   },
   "outputs": [],
   "source": [
    "#Hazard Rates and survival rates for plot\n",
    "hazard_rates=calibrate_hazard_rate(payment_dates_bootstrapp, refdate,mkt_par_spread, trade_date, dc_new, RR)[1]\n",
    "del hazard_rates[0]\n",
    "hazard_rates=[rate*100 for rate in hazard_rates]\n",
    "#print(hazard_rates)\n",
    "#Survival Rates for plot\n",
    "survival_rates=survival_curve_bootstrap\n",
    "survival_rates=[rate*100 for rate in survival_rates]\n",
    "x=[maturities/12 for maturities in maturities_CDS_test]\n",
    "#print(survival_rates)"
   ]
  },
  {
   "cell_type": "code",
   "execution_count": null,
   "metadata": {
    "code_folding": [
     0
    ]
   },
   "outputs": [],
   "source": [
    "#Reference Data\n",
    "test= {\"tenor\": [1,2,3,4,5,7,10,15,20,30],\n",
    "       \"SurvivalRate\": [99.95, 99.70, 99.25, 98.59, 97.65, 94.92, 89.69, 84.71, 78.37, 71.27],\n",
    "       \"HazardRates\": [0.05, 0.25, 0.45, 0.66, 0.96, 1.42, 1.89, 1.14, 1.56, 0.95]\n",
    "}\n",
    "refDataPfizer=pd.DataFrame(test)\n",
    "#print(refDataPfizer)"
   ]
  },
  {
   "cell_type": "markdown",
   "metadata": {},
   "source": [
    "##### Plot"
   ]
  },
  {
   "cell_type": "code",
   "execution_count": null,
   "metadata": {
    "code_folding": [
     0
    ]
   },
   "outputs": [],
   "source": [
    "#Plotting Hazard Rates for different maturities\n",
    "fig = make_subplots(specs=[[{\"secondary_y\": True}]])\n",
    "\n",
    "# Add traces\n",
    "fig.add_trace(\n",
    "    go.Bar(x=x, y=survival_rates, name=\"Survival Rate (in percentage)\",marker_color='blue', \n",
    "        opacity=0.5),\n",
    "    secondary_y=False,\n",
    ")\n",
    "\n",
    "fig.add_trace(\n",
    "    go.Bar(x=x, y=refDataPfizer.SurvivalRate, name=\"Survival Rate Reference (in percentage)\",marker_color='green', \n",
    "        opacity=0.5),\n",
    "    secondary_y=False,\n",
    ")\n",
    "fig.add_trace(\n",
    "    go.Scatter(x=x, y=hazard_rates, name=\"Hazard Rate (in percentage)\", marker_color='brown'),\n",
    "    secondary_y=True,\n",
    ")\n",
    "\n",
    "\n",
    "\n",
    "fig.add_trace(\n",
    "    go.Scatter(x=x, y=refDataPfizer.HazardRates, name=\"Hazard Rate (in percentage)\", marker_color='black'),\n",
    "    secondary_y=True,\n",
    ")\n",
    "\n",
    "\n",
    "# Add figure title\n",
    "fig.update_layout(\n",
    "    title_text=\"Hazard and Survival Rates Bootstrapped (Pfizer)\"\n",
    ")\n",
    "\n",
    "# Set x-axis title\n",
    "fig.update_xaxes(title_text=\"Maturity (in years)\")\n",
    "\n",
    "# Set y-axes titles\n",
    "fig.update_yaxes(title_text=\"Survival Rate (in %)\", secondary_y=False)\n",
    "fig.update_yaxes(title_text=\"Hazard Rate (in %)\", secondary_y=True)\n",
    "\n",
    "fig.show()"
   ]
  },
  {
   "cell_type": "markdown",
   "metadata": {},
   "source": [
    "#### Radioshack"
   ]
  },
  {
   "cell_type": "code",
   "execution_count": null,
   "metadata": {
    "code_folding": [
     0
    ]
   },
   "outputs": [],
   "source": [
    "#Create Survival Curve based on Bootstrapping alogirthm for Pfizer\n",
    "survival_curve_rs=calibrate_hazard_rate(payment_dates_bootstrapp, refdate, mkt_par_spread_rs, trade_date, dc_new, RR_rs)\n",
    "survival_curve_rs=survival_curve_rs[0]\n",
    "survival_curve_bootstrap_rs=[survival_curve_rs.value(refdate,refdate)]\n",
    "\n",
    "for i in range(len(payment_dates_bootstrapp)):\n",
    "    survival_curve_bootstrap_rs.append(survival_curve_rs.value(refdate,payment_dates_bootstrapp[i][-1]))\n",
    "del survival_curve_bootstrap_rs[0]\n",
    "#print(survival_curve_bootstrap_rs)"
   ]
  },
  {
   "cell_type": "markdown",
   "metadata": {},
   "source": [
    "##### Get Data for Plots"
   ]
  },
  {
   "cell_type": "code",
   "execution_count": null,
   "metadata": {
    "code_folding": [
     0
    ]
   },
   "outputs": [],
   "source": [
    "#Hazard Rates and survival rates for plot\n",
    "hazard_rates_rs=calibrate_hazard_rate(payment_dates_bootstrapp, refdate, mkt_par_spread_rs, trade_date, dc_new, RR_rs)[1]\n",
    "del hazard_rates_rs[0]\n",
    "hazard_rates_rs=[rate*100 for rate in hazard_rates_rs]\n",
    "#print(hazard_rates)\n",
    "#Survival Rates for plot\n",
    "survival_rates_rs=survival_curve_bootstrap_rs\n",
    "survival_rates_rs=[rate*100 for rate in survival_rates_rs]\n",
    "x=[maturities/12 for maturities in maturities_CDS_test]\n",
    "#print(survival_rates)"
   ]
  },
  {
   "cell_type": "code",
   "execution_count": null,
   "metadata": {
    "code_folding": [
     0
    ]
   },
   "outputs": [],
   "source": [
    "#Reference Data\n",
    "test= {\"tenor\": [1,2,3,4,5,7,10,15,20,30],\n",
    "       \"SurvivalRate\": [34.18, 15.38, 10.22, 8.45, 6.95, 5.66, 4.39, 3.37, 2.13, 1.36],\n",
    "       \"HazardRates\": [107.37, 79.84, 40.91, 18.95, 19.61, 10.22, 8.51, 5.29, 9.16, 4.48]\n",
    "}\n",
    "refDataRS=pd.DataFrame(test)\n",
    "#print(refDataRS)"
   ]
  },
  {
   "cell_type": "markdown",
   "metadata": {},
   "source": [
    "##### Plot"
   ]
  },
  {
   "cell_type": "code",
   "execution_count": null,
   "metadata": {
    "code_folding": [
     0
    ]
   },
   "outputs": [],
   "source": [
    "#Plotting Hazard Rates for different maturities\n",
    "fig = make_subplots(specs=[[{\"secondary_y\": True}]])\n",
    "\n",
    "# Add traces\n",
    "fig.add_trace(\n",
    "    go.Bar(x=x, y=survival_rates_rs, name=\"Survival Rate (in percentage)\",marker_color='blue', \n",
    "        opacity=0.5),\n",
    "    secondary_y=False,\n",
    ")\n",
    "\n",
    "fig.add_trace(\n",
    "    go.Bar(x=x, y=refDataRS.SurvivalRate, name=\"Survival Rate Reference (in percentage)\",marker_color='green', \n",
    "        opacity=0.5),\n",
    "    secondary_y=False,\n",
    ")\n",
    "fig.add_trace(\n",
    "    go.Scatter(x=x, y=hazard_rates_rs, name=\"Hazard Rate (in percentage)\", marker_color='brown'),\n",
    "    secondary_y=True,\n",
    ")\n",
    "\n",
    "\n",
    "fig.add_trace(\n",
    "    go.Scatter(x=x, y=refDataRS.HazardRates, name=\"Hazard Rate (in percentage)\", marker_color='black'),\n",
    "    secondary_y=True,\n",
    ")\n",
    "\n",
    "# Add figure title\n",
    "fig.update_layout(\n",
    "    title_text=\"Hazard and Survival Rates Bootstrapped (Radioshack)\"\n",
    ")\n",
    "\n",
    "# Set x-axis title\n",
    "fig.update_xaxes(title_text=\"Maturity (in years)\")\n",
    "\n",
    "# Set y-axes titles\n",
    "fig.update_yaxes(title_text=\"Survival Rate (in %)\", secondary_y=False)\n",
    "fig.update_yaxes(title_text=\"Hazard Rate (in %)\", secondary_y=True)\n",
    "\n",
    "fig.show()"
   ]
  },
  {
   "cell_type": "code",
   "execution_count": null,
   "metadata": {},
   "outputs": [],
   "source": []
  }
 ],
 "metadata": {
  "kernelspec": {
   "display_name": "Python 3",
   "language": "python",
   "name": "python3"
  },
  "language_info": {
   "codemirror_mode": {
    "name": "ipython",
    "version": 3
   },
   "file_extension": ".py",
   "mimetype": "text/x-python",
   "name": "python",
   "nbconvert_exporter": "python",
   "pygments_lexer": "ipython3",
   "version": "3.8.8"
  },
  "toc": {
   "base_numbering": 1,
   "nav_menu": {},
   "number_sections": true,
   "sideBar": true,
   "skip_h1_title": false,
   "title_cell": "Table of Contents",
   "title_sidebar": "Contents",
   "toc_cell": false,
   "toc_position": {},
   "toc_section_display": true,
   "toc_window_display": false
  }
 },
 "nbformat": 4,
 "nbformat_minor": 2
}
