{
 "cells": [
  {
   "cell_type": "markdown",
   "id": "cc09e2d2",
   "metadata": {},
   "source": [
    "# SABR Volatility Model"
   ]
  },
  {
   "cell_type": "markdown",
   "id": "c5a4b3a2",
   "metadata": {},
   "source": [
    "This notebook gives an overview about the SABR volatillity model. For an overview about various volatility models, please refer to [this](../marketdata/equity_volatilities.ipynb) notebook."
   ]
  },
  {
   "cell_type": "markdown",
   "id": "0cf851d2",
   "metadata": {},
   "source": [
    "## Import Libaries"
   ]
  },
  {
   "cell_type": "code",
   "execution_count": null,
   "id": "aec28b77",
   "metadata": {
    "ExecuteTime": {
     "end_time": "2022-01-21T17:57:03.547857Z",
     "start_time": "2022-01-21T17:56:58.413366Z"
    },
    "code_folding": [
     0
    ]
   },
   "outputs": [],
   "source": [
    "# Import libraries\n",
    "import numpy as np\n",
    "import datetime as dt\n",
    "from dateutil.relativedelta import relativedelta\n",
    "import pandas as pd\n",
    "import plotly.graph_objects as go\n",
    "import ipywidgets as widgets\n",
    "import matplotlib\n",
    "import matplotlib.pyplot as plt\n",
    "from matplotlib import cm\n",
    "from mpl_toolkits.mplot3d import axes3d\n",
    "matplotlib.use('nbagg')\n",
    "# %matplotlib inline\n",
    "import random\n",
    "import scipy as sp\n",
    "import scipy.interpolate\n",
    "from scipy.optimize import least_squares\n",
    "from jupyter_dash import JupyterDash\n",
    "from dash import dcc\n",
    "from dash import html\n",
    "from dash.dependencies import Input, Output\n",
    "import rivapy\n",
    "from rivapy import marketdata as mkt_data\n",
    "from rivapy import enums as enums\n",
    "#reload modules\n",
    "%load_ext autoreload\n",
    "%autoreload 2"
   ]
  },
  {
   "cell_type": "markdown",
   "id": "c299c9a9",
   "metadata": {},
   "source": [
    "## Define SABR Function"
   ]
  },
  {
   "cell_type": "markdown",
   "id": "c6f614ee",
   "metadata": {},
   "source": [
    "The SABR model assumes that the forward rate and the instantaneous volatility are driven by two correlated Brownian motions:\n",
    "\n",
    "$$df_t = \\alpha_t f_t^\\beta d W_t^1$$\n",
    "\n",
    "$$d\\alpha_t = \\nu\\alpha_t d W_t^2$$\n",
    "\n",
    "$$E\\bigl[d W_t^1 d W_T^2\\bigr] = \\rho d t$$\n",
    "\n",
    "The expression that the implied volatility must satisfy is\n",
    "\n",
    "$$\\sigma_B(K,f) = \\frac{\\alpha\\biggl\\{1+\\biggl[\\frac{(1-\\beta)^2}{24}\\frac{\\alpha^2}{(fK)^{1-\\beta}}+\\frac{1}{4}\\frac{\\rho\\beta\\nu\\alpha}{(FK)^{(1-\\beta)/2}}+\\frac{2-3\\rho^2}{24}\\nu^2\\biggr]T\\biggr\\}}{(fK)^{(1-\\beta)/2}\\biggl[1+\\frac{(1-\\beta)^2}{24}{ln}^2\\frac{f}{K}+\\frac{(1-\\beta)^4}{1920}{ln}^4\\frac{f}{K}\\biggr]}\\frac{z}{\\chi(z)}$$\n",
    "\n",
    "$$z=\\frac{\\nu}{\\alpha}(fK)^{(1-\\beta)/2}ln\\frac{f}{K}$$\n",
    "\n",
    "$$\\chi(z) = ln\\Biggl[\\frac{\\sqrt{1-2\\rho z+z^2}+z-\\rho}{1-\\rho}\\Biggr]$$\n",
    "\n",
    "When $f = K $ (for ATM options), the above formula for implied volatility simplifies to:\n",
    "\n",
    "$$\\sigma_{ATM} = \\sigma_B(f,f)=\\frac{\\alpha\\biggl\\{1+\\biggl[\\frac{(1-\\beta)^2}{24}\\frac{\\alpha^2}{f^{2-2\\beta}}+\\frac{1}{4}\\frac{\\rho\\beta\\nu\\alpha}{f^{1-\\beta}}\\frac{2-3\\rho^2}{24}\\nu^2\\biggr]T\\biggr\\}}{f^{1-\\beta}}$$\n",
    "\n",
    "where\n",
    "\n",
    "> $\\alpha$ is the instantaneous vol;\n",
    "\n",
    "> $\\nu$ is the vol of vol;\n",
    "\n",
    "> $\\rho$ is the correlation between the Brownian motions driving the forward rate and the instantaneous vol;\n",
    "\n",
    "> $\\beta$ is the CEV component for forward rate (determines shape of forward rates, leverage effect and backbone of ATM vol).\n",
    "\n",
    "Source: https://bsic.it/sabr-stochastic-volatility-model-volatility-smile/"
   ]
  },
  {
   "cell_type": "code",
   "execution_count": null,
   "id": "3296467a",
   "metadata": {
    "ExecuteTime": {
     "end_time": "2022-01-21T17:41:11.105856Z",
     "start_time": "2022-01-21T17:41:10.823552Z"
    },
    "code_folding": []
   },
   "outputs": [],
   "source": [
    "# Define SABR function\n",
    "# https://bsic.it/sabr-stochastic-volatility-model-volatility-smile/\n",
    "def SABR(f,K,T,alpha,nu,beta, rho):\n",
    "    \n",
    "    zeta = nu/alpha*(f*K)**((1-beta)/2)*np.log(f/K)\n",
    "    chi_zeta = np.log((np.sqrt(1-2*rho*zeta+zeta**2)+zeta-rho)/(1-rho))\n",
    "    \n",
    "    if f == K:\n",
    "        sigma = alpha*(1+((1-beta)**2/24*alpha**2/f**(2-2*beta)+1/4*rho*beta*nu*alpha/f**(1-beta)+(2-3*rho**2)/24*nu**2)*T)/f**(1-beta)\n",
    "        \n",
    "    else:\n",
    "        sigma = alpha*(1+((1-beta)**2/24*alpha**2/(f*K)**(1-beta)+1/4*rho*beta*nu*alpha/(f*K)**((1-beta)/2)+(2-3*rho**2)/24*nu**2)*T)/(f*K)**((1-beta)/2)*(1+(1-beta)**2/24*np.log(f/K)**2+(1-beta)**4/1920*np.log(f/K)**4)*zeta/chi_zeta\n",
    "    \n",
    "    return sigma"
   ]
  },
  {
   "cell_type": "markdown",
   "id": "1be51a13",
   "metadata": {},
   "source": [
    "## Volatility Smile"
   ]
  },
  {
   "cell_type": "code",
   "execution_count": null,
   "id": "4a6c1547",
   "metadata": {
    "ExecuteTime": {
     "end_time": "2022-01-21T17:51:22.116064Z",
     "start_time": "2022-01-21T17:51:21.826630Z"
    },
    "code_folding": [
     0
    ]
   },
   "outputs": [],
   "source": [
    "# Plotting SABR Volatility Surface\n",
    "\n",
    "# create widgets\n",
    "style = {'description_width': 'initial'}\n",
    "\n",
    "FloatTextAlpha = widgets.FloatText(value = 0.3, step = 0.01, description = 'Alpha')\n",
    "\n",
    "FloatSliderNu = widgets.FloatSlider(value = 0.1, min = 0.0001, max = 5, step = 0.01, description = 'Nu',\n",
    "                                       continuous_update=False, orientation='horizontal', readout=True, readout_format='.1f')\n",
    "\n",
    "FloatSliderBeta = widgets.FloatSlider(value = 0.1, min = 0, max = 1, step = 0.01, description = 'Beta',\n",
    "                                       continuous_update=False, orientation='horizontal', readout=True, readout_format='.1f')\n",
    "\n",
    "FloatSliderRho = widgets.FloatSlider(value = 0.1, min = -0.999999, max = 0.999999, step = 0.01, description = 'Rho',\n",
    "                                       continuous_update=False, orientation='horizontal', readout=True, readout_format='.1f')\n",
    "\n",
    "FloatRangeSliderStrikes = widgets.FloatRangeSlider(value=[.4, 1.6], min=0, max=3.0, step=0.05, description='Strike Range:', \n",
    "                                                   disabled=False, continuous_update=False,orientation='horizontal',\n",
    "                                                   readout=True, readout_format='.1f',style=style)\n",
    "\n",
    "FloatSliderExpiries = widgets.FloatSlider(value=0, min=0, max=30.0, step=.25, description='Expiry:', \n",
    "                                                   disabled=False, continuous_update=False,orientation='horizontal',\n",
    "                                                   readout=True, readout_format='.0f',style=style)\n",
    "\n",
    "ButtonNewPlot = widgets.Button(description=\"New Plot\")\n",
    "\n",
    "ButtonAddTrace = widgets.Button(description=\"Add Trace\")\n",
    "\n",
    "global OutputWidget\n",
    "OutputWidget = widgets.Output()\n",
    "\n",
    "def create_vol_grid(alpha, nu, beta, rho,strike_range, expiry):\n",
    "    F_0 = 1\n",
    "    strikes = np.linspace(strike_range[0], strike_range[1], num=100)\n",
    "    vols = [SABR(F_0,x,expiry,alpha,nu,beta,rho) for x in strikes]\n",
    "\n",
    "    return strikes, vols\n",
    "\n",
    "def create_plot(strikes, vols,expiry,alpha, nu, beta, rho):\n",
    "    \n",
    "    fig.add_trace(go.Scatter(x= strikes,y= vols \n",
    "                            ,mode = 'lines+markers'\n",
    "                          ,hovertemplate = \n",
    "                            'Moneyness:  %{x: .1%}' #+\\\n",
    "                            +'<br>Volatility: %{y: .1%}'\n",
    "                            +'<br>Expiry: {:,.0f} Yrs'.format(expiry)\n",
    "                            +'<br>Alpha: {:,.1%}'.format(alpha)\n",
    "                            +'<br>Nu: {:,.1f}'.format(nu)\n",
    "                            +'<br>Beta: {:,.1f}'.format(beta)\n",
    "                            +'<br>Rho: {:,.1f}'.format(rho)\n",
    "                            +'<extra></extra>',\n",
    "                            showlegend=False)\n",
    "                         )\n",
    "\n",
    "\n",
    "    fig.update_layout(title={\n",
    "                          'text': \"<b>Volatility Smile</b>\",\n",
    "                          'y':0.95,\n",
    "                          'x':0.5,\n",
    "                          'xanchor': 'center',\n",
    "                          'yanchor': 'top'\n",
    "                            }\n",
    "                    ,width=1000\n",
    "                    ,height=500\n",
    "                    ,xaxis_title='Moneyness'\n",
    "                    ,xaxis_tickformat = '.1%'\n",
    "                    ,xaxis_range=[strikes.min(),strikes.max()]\n",
    "                    ,yaxis_title='Volatility'\n",
    "                    ,yaxis_tickformat = '.1%'\n",
    "                    ,yaxis_range=[0,1]\n",
    "                    ,font=dict(\n",
    "                      family=\"Courier New, monospace\"\n",
    "                      ,size=10\n",
    "                      )\n",
    "                    ,margin=dict(l=65, r=50, b=65, t=90)\n",
    "    )\n",
    "    fig.show()\n",
    "\n",
    "def plot(alpha, nu, beta, rho,strike_range, expiry):\n",
    "#     function is called by eventhandler, i.e. if input parameter changes\n",
    "\n",
    "#     clear output\n",
    "    OutputWidget.clear_output()\n",
    "    \n",
    "#     1. create vol grid\n",
    "    strikes, vols = create_vol_grid(alpha, nu, beta, rho,strike_range, expiry)\n",
    "\n",
    "#     2. plot surface\n",
    "    create_plot(strikes, vols,expiry,alpha, nu, beta, rho)\n",
    "    \n",
    "\n",
    "def eventhandler(change):\n",
    "          \n",
    "    alpha = FloatTextAlpha.value\n",
    "    nu = FloatSliderNu.value\n",
    "    beta = FloatSliderBeta.value\n",
    "    rho = FloatSliderRho.value\n",
    "    strike_range = FloatRangeSliderStrikes.value\n",
    "    expiry = FloatSliderExpiries.value\n",
    "    \n",
    "#     call plot function\n",
    "    with OutputWidget:\n",
    "        plot(alpha, nu, beta, rho,strike_range, expiry)\n",
    "        \n",
    "def eventhandler2(change):\n",
    "    global fig\n",
    "    \n",
    "    fig = go.Figure()\n",
    "    \n",
    "    alpha = FloatTextAlpha.value\n",
    "    nu = FloatSliderNu.value\n",
    "    beta = FloatSliderBeta.value\n",
    "    rho = FloatSliderRho.value\n",
    "    strike_range = FloatRangeSliderStrikes.value\n",
    "    expiry = FloatSliderExpiries.value\n",
    "    \n",
    "    with OutputWidget:\n",
    "        plot(alpha, nu, beta, rho,strike_range, expiry)\n",
    "\n",
    "# bind eventhandler to widgets\n",
    "ButtonAddTrace.on_click(eventhandler)\n",
    "ButtonNewPlot.on_click(eventhandler2)\n",
    "\n",
    "# widgets groups\n",
    "WidgetsGrpH1 = widgets.HBox(children=[widgets.Label('Set Chart Area:')])\n",
    "WidgetsGrpH2 = widgets.HBox(children=[FloatRangeSliderStrikes])\n",
    "WidgetsGrpH3 = widgets.HBox(children=[widgets.Label('Set Parameters:')])\n",
    "WidgetsGrpH4 = widgets.HBox(children=[FloatTextAlpha,FloatSliderExpiries])\n",
    "WidgetsGrpH5 = widgets.HBox(children=[FloatSliderNu,FloatSliderBeta,FloatSliderRho])\n",
    "WidgetsGrpH6 = widgets.HBox(children=[ButtonNewPlot,ButtonAddTrace])\n",
    "WidgetsGrpV1 = widgets.VBox(children=[WidgetsGrpH1,WidgetsGrpH2,WidgetsGrpH3,WidgetsGrpH4,WidgetsGrpH5,WidgetsGrpH6])\n",
    "\n",
    "display(WidgetsGrpV1)\n",
    "display(OutputWidget)"
   ]
  },
  {
   "cell_type": "markdown",
   "id": "814b9161",
   "metadata": {},
   "source": [
    "## Volatility Surface"
   ]
  },
  {
   "cell_type": "markdown",
   "id": "75b6e3df",
   "metadata": {},
   "source": [
    "### Single Parameter Set"
   ]
  },
  {
   "cell_type": "code",
   "execution_count": null,
   "id": "3ee9d14d",
   "metadata": {
    "ExecuteTime": {
     "end_time": "2022-01-21T17:51:34.897239Z",
     "start_time": "2022-01-21T17:51:34.624247Z"
    },
    "code_folding": [
     0
    ]
   },
   "outputs": [],
   "source": [
    "# Plotting SABR Volatility Surface\n",
    "\n",
    "# strikes = np.linspace(0.4, 1.6, num=100)\n",
    "# expiries = np.linspace(0.0, 5.0, (5*4+1), endpoint=True)\n",
    "\n",
    "# Create Widgets\n",
    "\n",
    "style = {'description_width': 'initial'}\n",
    "\n",
    "FloatTextAlpha = widgets.FloatText(value = 0.3, step = 0.01, description = 'Alpha')\n",
    "\n",
    "FloatSliderNu = widgets.FloatSlider(value = 0.1, min = 0.0001, max = 5, step = 0.01, description = 'Nu',\n",
    "                                       continuous_update=False, orientation='horizontal', readout=True, readout_format='.1f')\n",
    "\n",
    "FloatSliderBeta = widgets.FloatSlider(value = 0.1, min = 0, max = 1, step = 0.01, description = 'Beta',\n",
    "                                       continuous_update=False, orientation='horizontal', readout=True, readout_format='.1f')\n",
    "\n",
    "FloatSliderRho = widgets.FloatSlider(value = 0.1, min = -0.999999, max = 0.999999, step = 0.01, description = 'Rho',\n",
    "                                       continuous_update=False, orientation='horizontal', readout=True, readout_format='.1f')\n",
    "\n",
    "FloatRangeSliderStrikes = widgets.FloatRangeSlider(value=[.4, 1.6], min=0, max=3.0, step=0.05, description='Strike Range:', \n",
    "                                                   disabled=False, continuous_update=False,orientation='horizontal',\n",
    "                                                   readout=True, readout_format='.1f',style=style)\n",
    "\n",
    "FloatRangeSliderExpiries = widgets.FloatRangeSlider(value=[0, 3], min=0, max=30.0, step=1, description='Expiries Range:', \n",
    "                                                   disabled=False, continuous_update=False,orientation='horizontal',\n",
    "                                                   readout=True, readout_format='.0f',style=style)\n",
    "\n",
    "ButtonCreatePlot = widgets.Button(description=\"Create Plot\")\n",
    "\n",
    "global OutputWidget2\n",
    "OutputWidget2 = widgets.Output()\n",
    "\n",
    "def create_vol_grid2(alpha, nu, beta, rho,strike_range, expiry_range):\n",
    "    F_0 = 1\n",
    "    strikes = np.linspace(strike_range[0], strike_range[1], num=100)\n",
    "    expiries = np.linspace(expiry_range[0], expiry_range[1], int(expiry_range[1]*4+1), endpoint=True)\n",
    "#     print(strikes)\n",
    "    vols = np.empty(shape=(strikes.shape[0], expiries.shape[0]))\n",
    "    for i in range(strikes.shape[0]):\n",
    "        for j in range(expiries.shape[0]):\n",
    "            vols[i,j] = SABR(F_0,strikes[i],expiries[j],alpha,nu,beta,rho)\n",
    "#     print(vols)\n",
    "    return strikes, expiries, vols\n",
    "\n",
    "def create_plot2(strikes, expiries, vols):\n",
    "    fig1 = go.Figure(data=[go.Surface(x= expiries,y= strikes,z= vols   \n",
    "                    ,contours = {\"x\": {\"show\": True,\"size\": 0.1, \"color\":\"red\"},\n",
    "                                \"y\": {\"show\": True,\"size\": 0.1, \"color\":\"red\"},\n",
    "                                }\n",
    "                          ,hovertemplate = \n",
    "                            'Moneyness:  %{y: .1%}' +\\\n",
    "                            '<br>Maturity (yrs): %{x: .2f}' +\\\n",
    "                            '<br>Volatility: %{z: .1%}<extra></extra>'\n",
    "                         ,colorscale = 'temps')\n",
    "                         ])\n",
    "\n",
    "\n",
    "\n",
    "    fig1.update_layout(title={\n",
    "                          'text': \"<b>Volatility Surface</b>\",\n",
    "                          'y':0.95,\n",
    "                          'x':0.5,\n",
    "                          'xanchor': 'center',\n",
    "                          'yanchor': 'top'\n",
    "                            }\n",
    "#                     ,autosize=True\n",
    "                    ,width=1000\n",
    "                    ,height=500\n",
    "                    ,scene = dict(\n",
    "                      xaxis_title='Maturity (yrs)'\n",
    "                      ,xaxis_tickformat = '.2f'\n",
    "                      ,xaxis_autorange = 'reversed'\n",
    "                      ,yaxis_title='Moneyness'\n",
    "                      ,yaxis_tickformat = '.1%'\n",
    "                      ,zaxis_title='Volatility'\n",
    "                      ,zaxis_tickformat = '.1%'\n",
    "                      )\n",
    "                    ,font=dict(\n",
    "                      family=\"Courier New, monospace\"\n",
    "                      ,size=10\n",
    "                      )\n",
    "                    ,margin=dict(l=65, r=50, b=65, t=90)\n",
    "    )\n",
    "    fig1.show()\n",
    "\n",
    "def plot2(alpha, nu, beta, rho,strike_range, expiry_range):\n",
    "#     function is valled by eventhandler, i.e. if input parameter changes\n",
    "#     clear output\n",
    "    OutputWidget2.clear_output()\n",
    "    \n",
    "#     1. Create vol grid\n",
    "    strikes, expiries, vols = create_vol_grid2(alpha, nu, beta, rho,strike_range, expiry_range)\n",
    "\n",
    "#     2. plot surface\n",
    "    create_plot2(strikes, expiries, vols)\n",
    "    \n",
    "\n",
    "def eventhandler3(change):\n",
    "    \n",
    "    alpha = FloatTextAlpha.value\n",
    "    nu = FloatSliderNu.value\n",
    "    beta = FloatSliderBeta.value\n",
    "    rho = FloatSliderRho.value\n",
    "    strike_range = FloatRangeSliderStrikes.value\n",
    "    expiry_range = FloatRangeSliderExpiries.value\n",
    "    \n",
    "#     call plot function\n",
    "    with OutputWidget2:\n",
    "        plot2(alpha, nu, beta, rho,strike_range, expiry_range)\n",
    "        \n",
    "# observe parameter changes\n",
    "FloatTextAlpha.observe(eventhandler3, names='value')\n",
    "FloatSliderNu.observe(eventhandler3, names='value')\n",
    "FloatSliderBeta.observe(eventhandler3, names='value')\n",
    "FloatSliderRho.observe(eventhandler3, names='value')\n",
    "FloatRangeSliderStrikes.observe(eventhandler3, names='value')\n",
    "FloatRangeSliderExpiries.observe(eventhandler3, names='value')\n",
    "\n",
    "# bind eventhandler to widgets\n",
    "ButtonCreatePlot.on_click(eventhandler3)\n",
    "\n",
    "# Widgets groups\n",
    "WidgetsGrpH1 = widgets.HBox(children=[widgets.Label('Set Chart Area:')])\n",
    "WidgetsGrpH2 = widgets.HBox(children=[FloatRangeSliderStrikes,FloatRangeSliderExpiries])\n",
    "WidgetsGrpH3 = widgets.HBox(children=[widgets.Label('Set Parameters:')])\n",
    "WidgetsGrpH4 = widgets.HBox(children=[FloatTextAlpha])\n",
    "WidgetsGrpH5 = widgets.HBox(children=[FloatSliderNu,FloatSliderBeta,FloatSliderRho])\n",
    "WidgetsGrpH6 = widgets.HBox(children=[ButtonCreatePlot])\n",
    "WidgetsGrpV1 = widgets.VBox(children=[WidgetsGrpH1,WidgetsGrpH2,WidgetsGrpH3,WidgetsGrpH4,WidgetsGrpH5,WidgetsGrpH6])\n",
    "\n",
    "\n",
    "display(WidgetsGrpV1)\n",
    "display(OutputWidget2)"
   ]
  },
  {
   "cell_type": "markdown",
   "id": "16b9bad2",
   "metadata": {},
   "source": [
    "### Expiry Dependent Parameters "
   ]
  },
  {
   "cell_type": "code",
   "execution_count": null,
   "id": "243c5443",
   "metadata": {
    "ExecuteTime": {
     "end_time": "2022-01-21T17:52:05.333572Z",
     "start_time": "2022-01-21T17:52:05.182850Z"
    }
   },
   "outputs": [],
   "source": [
    "# Define moneyness – time-to-maturity grid\n",
    "strikes = np.linspace(0.4, 1.6, num=100)\n",
    "expiries = np.linspace(0.0, 3.0, (3*4+1), endpoint=True)"
   ]
  },
  {
   "cell_type": "code",
   "execution_count": null,
   "id": "5aa4f8d6",
   "metadata": {
    "ExecuteTime": {
     "end_time": "2022-01-21T17:52:05.710086Z",
     "start_time": "2022-01-21T17:52:05.534284Z"
    }
   },
   "outputs": [],
   "source": [
    "# Define parameters\n",
    "F_0 = 1\n",
    "array_alpha = np.random.uniform(low=.1, high=.2,size=(expiries.size,))\n",
    "array_nu = np.random.uniform(low=.0001, high=1,size=(expiries.size,))\n",
    "array_beta = np.random.uniform(low=0, high=1,size=(expiries.size,))\n",
    "array_rho = np.random.uniform(low=-.999999, high=.999999,size=(expiries.size,))"
   ]
  },
  {
   "cell_type": "code",
   "execution_count": null,
   "id": "24abbc42",
   "metadata": {
    "ExecuteTime": {
     "end_time": "2022-01-21T17:52:06.051602Z",
     "start_time": "2022-01-21T17:52:05.814961Z"
    },
    "code_folding": []
   },
   "outputs": [],
   "source": [
    "# Create vol grid\n",
    "vols = np.empty(shape=(strikes.size, expiries.size))\n",
    "for i in range(strikes.size):\n",
    "    for j in range(expiries.size):\n",
    "        vols[i,j] = SABR(F_0,strikes[i],expiries[j],array_alpha[j],array_nu[j],array_beta[j],array_rho[j])"
   ]
  },
  {
   "cell_type": "code",
   "execution_count": null,
   "id": "6edd5e9c",
   "metadata": {
    "ExecuteTime": {
     "end_time": "2022-01-21T17:52:06.794247Z",
     "start_time": "2022-01-21T17:52:06.604827Z"
    },
    "code_folding": [
     0
    ]
   },
   "outputs": [],
   "source": [
    "# plot\n",
    "fig2 = go.Figure(data=[go.Surface(x= expiries,y= strikes,z= vols                   \n",
    "                    ,hidesurface =True\n",
    "                    ,contours = {\"x\": {\"show\": True,\"size\": 0.1, \"color\":\"red\"},\n",
    "#                                 \"y\": {\"show\": True,\"size\": 0.1, \"color\":\"red\"},\n",
    "                                }\n",
    "                    ,hovertemplate = \n",
    "                        'Moneyness:  %{y: .2%}' +\\\n",
    "                        '<br>Maturity (yrs): %{x: .1f}' +\\\n",
    "                        '<br>Volatility: %{z: .2f}<extra></extra>'\n",
    "                     ,colorscale = 'temps')\n",
    "\n",
    "                     ])\n",
    "\n",
    "\n",
    "\n",
    "fig2.update_layout(title={\n",
    "                      'text': \"<b>Volatility Surface</b>\",\n",
    "                      'y':0.95,\n",
    "                      'x':0.5,\n",
    "                      'xanchor': 'center',\n",
    "                      'yanchor': 'top'\n",
    "                        }\n",
    "                # ,autosize=True\n",
    "                ,width=1000\n",
    "                ,height=500\n",
    "                ,scene = dict(\n",
    "                  xaxis_title='Maturity (yrs)'\n",
    "                  ,xaxis_tickformat = '.1f'\n",
    "                  ,xaxis_autorange = 'reversed'\n",
    "                  ,yaxis_title='Moneyness'\n",
    "                  ,yaxis_tickformat = '.2%'\n",
    "                  ,zaxis_title='Volatility'\n",
    "                  ,zaxis_tickformat = '.2%'\n",
    "                  )\n",
    "                ,font=dict(\n",
    "                  family=\"Courier New, monospace\"\n",
    "                  ,size=10\n",
    "                  )\n",
    "                ,margin=dict(l=65, r=50, b=65, t=90)\n",
    ")\n",
    "fig2.show()"
   ]
  },
  {
   "cell_type": "markdown",
   "id": "6049825d",
   "metadata": {
    "ExecuteTime": {
     "end_time": "2021-09-24T11:45:53.491367Z",
     "start_time": "2021-09-24T11:45:53.474389Z"
    }
   },
   "source": [
    "### Rivapy"
   ]
  },
  {
   "cell_type": "markdown",
   "id": "d104c9ab",
   "metadata": {
    "ExecuteTime": {
     "end_time": "2021-09-24T11:57:22.676277Z",
     "start_time": "2021-09-24T11:57:22.664755Z"
    }
   },
   "source": [
    "#### Creating Forward Curve\n",
    "We create a dummy forward curve as shown in the  [forward_curve](equity_forwardcurve.ipynb) notebook which will be used in all subsequent volatility surface constructions."
   ]
  },
  {
   "cell_type": "code",
   "execution_count": null,
   "id": "20e2e256",
   "metadata": {
    "ExecuteTime": {
     "end_time": "2022-01-21T17:52:45.894155Z",
     "start_time": "2022-01-21T17:52:45.538198Z"
    }
   },
   "outputs": [],
   "source": [
    "refdate = dt.datetime(2017,1,1)\n",
    "\n",
    "#dividend table neede fo forward curve\n",
    "object_id = \"TEST_DIV\" \n",
    "ex_dates = [dt.datetime(2018,3,29), dt.datetime(2019,3,29), dt.datetime(2020,3,29), dt.datetime(2021,3,29)]\n",
    "pay_dates = [dt.datetime(2018,4,1), dt.datetime(2019,4,1), dt.datetime(2020,4,1), dt.datetime(2021,4,1)]\n",
    "tax_factors = [1.0, 1.0, 1.0, 1.0]\n",
    "div_yield = [0, 0.005, 0.01, 0.01]\n",
    "div_cash = [3.0, 2.0, 1.0, 0.0]\n",
    "div_table=rivapy.marketdata.DividendTable(object_id, refdate, ex_dates, pay_dates, div_yield, div_cash, tax_factors)\n",
    "\n",
    "#discount- and borrowing curve needed for forward curve\n",
    "dates = [refdate + dt.timedelta(days=x) for x in [0,10]]\n",
    "df = [1.0,1.0]\n",
    "dc = mkt_data.DiscountCurve(object_id, refdate, dates, df, \n",
    "                             enums.InterpolationType.HAGAN_DF, enums.ExtrapolationType.NONE, enums.DayCounterType.Act365Fixed)\n",
    "bc = mkt_data.DiscountCurve(object_id, refdate, dates, df, \n",
    "                             enums.InterpolationType.HAGAN_DF, enums.ExtrapolationType.NONE, enums.DayCounterType.Act365Fixed)\n",
    "spot = 100.0\n",
    "\n",
    "#forward curve\n",
    "forward_curve = mkt_data.EquityForwardCurve(spot, dc, bc, div_table)"
   ]
  },
  {
   "cell_type": "markdown",
   "id": "1bfebba7",
   "metadata": {},
   "source": [
    "#### SABR Parametrization"
   ]
  },
  {
   "cell_type": "code",
   "execution_count": null,
   "id": "047a8037",
   "metadata": {
    "ExecuteTime": {
     "end_time": "2022-01-21T17:52:46.520106Z",
     "start_time": "2022-01-21T17:52:46.230895Z"
    }
   },
   "outputs": [],
   "source": [
    "ttm = [1.0/12.0, 1.0, 2.0, 3.0]\n",
    "sabr_params = np.array([[.2, 0.1, .9,-.8],\n",
    "                        [.23, 0.1, .1, .1],\n",
    "                        [.28, .3, .9, -.75,],\n",
    "                        [.30, .3, .9, -.85,]])"
   ]
  },
  {
   "cell_type": "code",
   "execution_count": null,
   "id": "62319448",
   "metadata": {
    "ExecuteTime": {
     "end_time": "2022-01-21T17:52:46.847713Z",
     "start_time": "2022-01-21T17:52:46.535671Z"
    }
   },
   "outputs": [],
   "source": [
    "sabr_param = mkt_data.VolatilityParametrizationSABR(ttm, sabr_params)\n",
    "sabr_param.calc_implied_vol(1,1)"
   ]
  },
  {
   "cell_type": "markdown",
   "id": "975364f3",
   "metadata": {},
   "source": [
    "#### Volatility Surface"
   ]
  },
  {
   "cell_type": "code",
   "execution_count": null,
   "id": "fa45ec27",
   "metadata": {
    "ExecuteTime": {
     "end_time": "2022-01-21T17:53:19.630991Z",
     "start_time": "2022-01-21T17:53:19.492860Z"
    }
   },
   "outputs": [],
   "source": [
    "obj_id = 'TEST_SURFACE'\n",
    "refdate = dt.datetime(2017,1,1)\n",
    "vol_surf = mkt_data.VolatilitySurface(obj_id, refdate, forward_curve, enums.DayCounterType.Act365Fixed, sabr_param)\n",
    "# vol_surface = mkt_data.VolatilitySurface(obj_id, refdate, vol_surf.getForwardCurve(), enums.DayCounterType.Act365Fixed, sabr_param)"
   ]
  },
  {
   "cell_type": "code",
   "execution_count": null,
   "id": "565a3ad4",
   "metadata": {
    "ExecuteTime": {
     "end_time": "2022-01-21T17:53:20.209748Z",
     "start_time": "2022-01-21T17:53:20.045004Z"
    }
   },
   "outputs": [],
   "source": [
    "vol = vol_surf.calc_implied_vol(refdate + dt.timedelta(days=365),100,refdate)\n",
    "print(vol)"
   ]
  },
  {
   "cell_type": "code",
   "execution_count": null,
   "id": "69f38153",
   "metadata": {
    "ExecuteTime": {
     "end_time": "2022-01-21T17:53:20.663433Z",
     "start_time": "2022-01-21T17:53:20.422315Z"
    },
    "code_folding": [
     0
    ]
   },
   "outputs": [],
   "source": [
    "# \n",
    "refdate = dt.datetime(2017,1,1,0,0,0)\n",
    "expiries = [dt.datetime(2017,2,1,0,0,0), dt.datetime(2018,1,1,0,0,0), dt.datetime(2019,1,1,0,0,0), dt.datetime(2020,1,1,0,0,0)]\n",
    "\n",
    "# strikes = list(s_range(80, 120, 100))\n",
    "moneyness = np.linspace(0.5, 1.5,100)\n",
    "\n",
    "y = moneyness\n",
    "x = ttm\n",
    "\n",
    "term_structure = []\n",
    "for i in moneyness: \n",
    "    temp = []\n",
    "    for j in expiries:\n",
    "      strike = i*forward_curve.value(refdate,j)\n",
    "      temp.append(vol_surf.calc_implied_vol(j, strike,refdate))\n",
    "    term_structure.append(temp)\n",
    "\n",
    "fig3 = go.Figure(data=[go.Surface(x=x, y=y,z=term_structure\n",
    "                      ,contours = {\"x\": {\"show\": True,\"size\": 0.1, \"color\":\"red\"},\n",
    "                                   \"y\": {\"show\": True,\"size\": 0.1, \"color\":\"red\"},}\n",
    "                      ,hovertemplate = \n",
    "                        'Moneyness:  %{y: .2%}' +\\\n",
    "                        '<br>Maturity (yrs): %{x: .1f}' +\\\n",
    "                        '<br>Volatility: %{z: .2f}<extra></extra>'\n",
    "                     ,colorscale = 'temps')\n",
    "                     ])\n",
    "\n",
    "fig3.update_layout(title={\n",
    "                      'text': \"<b>Volatility Surface</b>\",\n",
    "                      'y':0.95,\n",
    "                      'x':0.5,\n",
    "                      'xanchor': 'center',\n",
    "                      'yanchor': 'top'\n",
    "                        }\n",
    "                # ,autosize=True\n",
    "                ,width=1000\n",
    "                ,height=500\n",
    "                ,scene = dict(\n",
    "                  xaxis_title='Maturity (yrs)'\n",
    "                  ,xaxis_tickformat = '.1f'\n",
    "                  ,xaxis_autorange = 'reversed'\n",
    "                  ,yaxis_title='Moneyness'\n",
    "                  ,yaxis_tickformat = '.2%'\n",
    "                  ,zaxis_title='Volatility'\n",
    "                  ,zaxis_tickformat = '.2%'\n",
    "                  )\n",
    "                ,font=dict(\n",
    "                  family=\"Courier New, monospace\"\n",
    "                  ,size=10\n",
    "                  )\n",
    "                ,margin=dict(l=65, r=50, b=65, t=90)\n",
    ")\n",
    "\n",
    "fig3.show()"
   ]
  },
  {
   "cell_type": "markdown",
   "id": "2556a65c",
   "metadata": {},
   "source": [
    "---"
   ]
  }
 ],
 "metadata": {
  "kernelspec": {
   "display_name": "Python 3",
   "language": "python",
   "name": "python3"
  },
  "language_info": {
   "codemirror_mode": {
    "name": "ipython",
    "version": 3
   },
   "file_extension": ".py",
   "mimetype": "text/x-python",
   "name": "python",
   "nbconvert_exporter": "python",
   "pygments_lexer": "ipython3",
   "version": "3.8.8"
  },
  "toc": {
   "base_numbering": 1,
   "nav_menu": {},
   "number_sections": true,
   "sideBar": true,
   "skip_h1_title": true,
   "title_cell": "Table of Contents",
   "title_sidebar": "Contents",
   "toc_cell": false,
   "toc_position": {
    "height": "calc(100% - 180px)",
    "left": "10px",
    "top": "150px",
    "width": "165px"
   },
   "toc_section_display": true,
   "toc_window_display": true
  }
 },
 "nbformat": 4,
 "nbformat_minor": 5
}
