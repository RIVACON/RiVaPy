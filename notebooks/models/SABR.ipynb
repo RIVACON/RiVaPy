{
 "cells": [
  {
   "cell_type": "markdown",
   "id": "cc09e2d2",
   "metadata": {},
   "source": [
    "# SABR Volatility Model"
   ]
  },
  {
   "cell_type": "markdown",
   "id": "7b0e9850",
   "metadata": {},
   "source": [
    "This notebook gives an overview about the SABR volatillity model. For an overview about various volatility models, please refer to [this](../marketdata/equity_volatilities.ipynb) notebook."
   ]
  },
  {
   "cell_type": "markdown",
   "id": "0cf851d2",
   "metadata": {},
   "source": [
    "## Import Libaries"
   ]
  },
  {
   "cell_type": "code",
   "execution_count": 1,
   "id": "aec28b77",
   "metadata": {
    "ExecuteTime": {
     "end_time": "2021-10-28T08:59:16.869859Z",
     "start_time": "2021-10-28T08:58:33.913194Z"
    },
    "code_folding": []
   },
   "outputs": [],
   "source": [
    "# Import libraries\n",
    "import numpy as np\n",
    "import datetime as dt\n",
    "import pandas as pd\n",
    "import plotly.graph_objects as go\n",
    "import ipywidgets as widgets\n",
    "import matplotlib\n",
    "import matplotlib.pyplot as plt\n",
    "from matplotlib import cm\n",
    "from mpl_toolkits.mplot3d import axes3d\n",
    "matplotlib.use('nbagg')\n",
    "# %matplotlib inline\n",
    "import random\n",
    "import scipy as sp\n",
    "import scipy.interpolate\n",
    "from jupyter_dash import JupyterDash\n",
    "from dash import dcc\n",
    "from dash import html\n",
    "from dash.dependencies import Input, Output\n",
    "import rivapy\n",
    "from rivapy import marketdata as mkt_data\n",
    "from rivapy import enums as enums"
   ]
  },
  {
   "cell_type": "markdown",
   "id": "c299c9a9",
   "metadata": {},
   "source": [
    "## Define SABR Function"
   ]
  },
  {
   "cell_type": "markdown",
   "id": "c6f614ee",
   "metadata": {},
   "source": [
    "The SABR model assumes that the forward rate and the instantaneous volatility are driven by two correlated Brownian motions:\n",
    "\n",
    "$$df_t = \\alpha_t f_t^\\beta d W_t^1$$\n",
    "\n",
    "$$d\\alpha_t = \\nu\\alpha_t d W_t^2$$\n",
    "\n",
    "$$E\\bigl[d W_t^1 d W_T^2\\bigr] = \\rho d t$$\n",
    "\n",
    "The expression that the implied volatility must satisfy is\n",
    "\n",
    "$$\\sigma_B(K,f) = \\frac{\\alpha\\biggl\\{1+\\biggl[\\frac{(1-\\beta)^2}{24}\\frac{\\alpha^2}{(fK)^{1-\\beta}}+\\frac{1}{4}\\frac{\\rho\\beta\\nu\\alpha}{(FK)^{(1-\\beta)/2}}+\\frac{2-3\\rho^2}{24}\\nu^2\\biggr]T\\biggr\\}}{(fK)^{(1-\\beta)/2}\\biggl[1+\\frac{(1-\\beta)^2}{24}{ln}^2\\frac{f}{K}+\\frac{(1-\\beta)^4}{1920}{ln}^4\\frac{f}{K}\\biggr]}\\frac{z}{\\chi(z)}$$\n",
    "\n",
    "$$z=\\frac{\\nu}{\\alpha}(fK)^{(1-\\beta)/2}ln\\frac{f}{K}$$\n",
    "\n",
    "$$\\chi(z) = ln\\Biggl[\\frac{\\sqrt{1-2\\rho z+z^2}+z-\\rho}{1-\\rho}\\Biggr]$$\n",
    "\n",
    "When $f = K $ (for ATM options), the above formula for implied volatility simplifies to:\n",
    "\n",
    "$$\\sigma_{ATM} = \\sigma_B(f,f)=\\frac{\\alpha\\biggl\\{1+\\biggl[\\frac{(1-\\beta)^2}{24}\\frac{\\alpha^2}{f^{2-2\\beta}}+\\frac{1}{4}\\frac{\\rho\\beta\\nu\\alpha}{f^{1-\\beta}}\\frac{2-3\\rho^2}{24}\\nu^2\\biggr]T\\biggr\\}}{f^{1-\\beta}}$$\n",
    "\n",
    "where\n",
    "\n",
    "> $\\alpha$ is the instantaneous vol;\n",
    "\n",
    "> $\\nu$ is the vol of vol;\n",
    "\n",
    "> $\\rho$ is the correlation between the Brownian motions driving the forward rate and the instantaneous vol;\n",
    "\n",
    "> $\\beta$ is the CEV component for forward rate (determines shape of forward rates, leverage effect and backbond of ATM vol).\n",
    "\n",
    "Source: https://bsic.it/sabr-stochastic-volatility-model-volatility-smile/"
   ]
  },
  {
   "cell_type": "code",
   "execution_count": 2,
   "id": "3296467a",
   "metadata": {
    "ExecuteTime": {
     "end_time": "2021-10-28T08:59:16.916728Z",
     "start_time": "2021-10-28T08:59:16.875838Z"
    },
    "code_folding": [
     0
    ]
   },
   "outputs": [],
   "source": [
    "# Define SABR function\n",
    "# https://bsic.it/sabr-stochastic-volatility-model-volatility-smile/\n",
    "def SABR(f,K,T,alpha,nu,beta, rho):\n",
    "    \n",
    "    zeta = nu/alpha*(f*K)**((1-beta)/2)*np.log(f/K)\n",
    "    chi_zeta = np.log((np.sqrt(1-2*rho*zeta+zeta**2)+zeta-rho)/(1-rho))\n",
    "    \n",
    "    if f == K:\n",
    "        sigma = alpha*(1+((1-beta)**2/24*alpha**2/f**(2-2*beta)+1/4*rho*beta*nu*alpha/f**(1-beta)+(2-3*rho**2)/24*nu**2)*T)/f**(1-beta)\n",
    "        \n",
    "    else:\n",
    "        sigma = alpha*(1+((1-beta)**2/24*alpha**2/(f*K)**(1-beta)+1/4*rho*beta*nu*alpha/(f*K)**((1-beta)/2)+(2-3*rho**2)/24*nu**2)*T)/(f*K)**((1-beta)/2)*(1+(1-beta)**2/24*np.log(f/K)**2+(1-beta)**4/1920*np.log(f/K)**4)*zeta/chi_zeta\n",
    "    \n",
    "    return sigma"
   ]
  },
  {
   "cell_type": "markdown",
   "id": "1be51a13",
   "metadata": {},
   "source": [
    "## Volatility Smile"
   ]
  },
  {
   "cell_type": "code",
   "execution_count": 38,
   "id": "4a6c1547",
   "metadata": {
    "ExecuteTime": {
     "end_time": "2021-10-29T14:29:16.705921Z",
     "start_time": "2021-10-29T14:29:16.565298Z"
    },
    "code_folding": [
     0
    ]
   },
   "outputs": [
    {
     "data": {
      "application/vnd.jupyter.widget-view+json": {
       "model_id": "8cbd7050973c49eaac40a24cb2b1a2f3",
       "version_major": 2,
       "version_minor": 0
      },
      "text/plain": [
       "VBox(children=(HBox(children=(Label(value='Set Chart Area:'),)), HBox(children=(FloatRangeSlider(value=(0.4, 1…"
      ]
     },
     "metadata": {},
     "output_type": "display_data"
    },
    {
     "data": {
      "application/vnd.jupyter.widget-view+json": {
       "model_id": "5fbb045746cf4e5193edea7f4864031d",
       "version_major": 2,
       "version_minor": 0
      },
      "text/plain": [
       "Output()"
      ]
     },
     "metadata": {},
     "output_type": "display_data"
    }
   ],
   "source": [
    "# Plotting SABR Volatility Surface\n",
    "\n",
    "# create widgets\n",
    "style = {'description_width': 'initial'}\n",
    "\n",
    "FloatTextAlpha = widgets.FloatText(value = 0.3, step = 0.01, description = 'Alpha')\n",
    "\n",
    "FloatSliderNu = widgets.FloatSlider(value = 0.1, min = 0.0001, max = 5, step = 0.01, description = 'Nu',\n",
    "                                       continuous_update=False, orientation='horizontal', readout=True, readout_format='.1f')\n",
    "\n",
    "FloatSliderBeta = widgets.FloatSlider(value = 0.1, min = 0, max = 1, step = 0.01, description = 'Beta',\n",
    "                                       continuous_update=False, orientation='horizontal', readout=True, readout_format='.1f')\n",
    "\n",
    "FloatSliderRho = widgets.FloatSlider(value = 0.1, min = -0.999999, max = 0.999999, step = 0.01, description = 'Rho',\n",
    "                                       continuous_update=False, orientation='horizontal', readout=True, readout_format='.1f')\n",
    "\n",
    "FloatRangeSliderStrikes = widgets.FloatRangeSlider(value=[.4, 1.6], min=0, max=3.0, step=0.05, description='Strike Range:', \n",
    "                                                   disabled=False, continuous_update=False,orientation='horizontal',\n",
    "                                                   readout=True, readout_format='.1f',style=style)\n",
    "\n",
    "FloatSliderExpiries = widgets.FloatSlider(value=0, min=0, max=30.0, step=.25, description='Expiry:', \n",
    "                                                   disabled=False, continuous_update=False,orientation='horizontal',\n",
    "                                                   readout=True, readout_format='.0f',style=style)\n",
    "\n",
    "ButtonNewPlot = widgets.Button(description=\"New Plot\")\n",
    "\n",
    "ButtonAddTrace = widgets.Button(description=\"Add Trace\")\n",
    "\n",
    "global OutputWidget\n",
    "OutputWidget = widgets.Output()\n",
    "\n",
    "def create_vol_grid(alpha, nu, beta, rho,strike_range, expiry):\n",
    "    F_0 = 1\n",
    "    strikes = np.linspace(strike_range[0], strike_range[1], num=100)\n",
    "    vols = [SABR(F_0,x,expiry,alpha,nu,beta,rho) for x in strikes]\n",
    "\n",
    "    return strikes, vols\n",
    "\n",
    "def create_plot(strikes, vols,expiry,alpha, nu, beta, rho):\n",
    "    \n",
    "    fig.add_trace(go.Scatter(x= strikes,y= vols \n",
    "                            ,mode = 'lines+markers'\n",
    "                          ,hovertemplate = \n",
    "                            'Moneyness:  %{x: .1%}' #+\\\n",
    "                            +'<br>Volatility: %{y: .1%}'\n",
    "                            +'<br>Expiry: {:,.0f} Yrs'.format(expiry)\n",
    "                            +'<br>Alpha: {:,.1%}'.format(alpha)\n",
    "                            +'<br>Nu: {:,.1f}'.format(nu)\n",
    "                            +'<br>Beta: {:,.1f}'.format(beta)\n",
    "                            +'<br>Rho: {:,.1f}'.format(rho)\n",
    "                            +'<extra></extra>',\n",
    "                            showlegend=False)\n",
    "                         )\n",
    "\n",
    "\n",
    "    fig.update_layout(title={\n",
    "                          'text': \"<b>Volatility Smile</b>\",\n",
    "                          'y':0.95,\n",
    "                          'x':0.5,\n",
    "                          'xanchor': 'center',\n",
    "                          'yanchor': 'top'\n",
    "                            }\n",
    "                    ,width=1000\n",
    "                    ,height=500\n",
    "                    ,xaxis_title='Moneyness'\n",
    "                    ,xaxis_tickformat = '.1%'\n",
    "                    ,xaxis_range=[strikes.min(),strikes.max()]\n",
    "                    ,yaxis_title='Volatility'\n",
    "                    ,yaxis_tickformat = '.1%'\n",
    "                    ,yaxis_range=[0,1]\n",
    "                    ,font=dict(\n",
    "                      family=\"Courier New, monospace\"\n",
    "                      ,size=10\n",
    "                      )\n",
    "                    ,margin=dict(l=65, r=50, b=65, t=90)\n",
    "    )\n",
    "    fig.show()\n",
    "\n",
    "def plot(alpha, nu, beta, rho,strike_range, expiry):\n",
    "#     function is called by eventhandler, i.e. if input parameter changes\n",
    "\n",
    "#     clear output\n",
    "    OutputWidget.clear_output()\n",
    "    \n",
    "#     1. create vol grid\n",
    "    strikes, vols = create_vol_grid(alpha, nu, beta, rho,strike_range, expiry)\n",
    "\n",
    "#     2. plot surface\n",
    "    create_plot(strikes, vols,expiry,alpha, nu, beta, rho)\n",
    "    \n",
    "\n",
    "def eventhandler(change):\n",
    "          \n",
    "    alpha = FloatTextAlpha.value\n",
    "    nu = FloatSliderNu.value\n",
    "    beta = FloatSliderBeta.value\n",
    "    rho = FloatSliderRho.value\n",
    "    strike_range = FloatRangeSliderStrikes.value\n",
    "    expiry = FloatSliderExpiries.value\n",
    "    \n",
    "#     call plot function\n",
    "    with OutputWidget:\n",
    "        plot(alpha, nu, beta, rho,strike_range, expiry)\n",
    "        \n",
    "def eventhandler2(change):\n",
    "    global fig\n",
    "    \n",
    "    fig = go.Figure()\n",
    "    \n",
    "    alpha = FloatTextAlpha.value\n",
    "    nu = FloatSliderNu.value\n",
    "    beta = FloatSliderBeta.value\n",
    "    rho = FloatSliderRho.value\n",
    "    strike_range = FloatRangeSliderStrikes.value\n",
    "    expiry = FloatSliderExpiries.value\n",
    "    \n",
    "    with OutputWidget:\n",
    "        plot(alpha, nu, beta, rho,strike_range, expiry)\n",
    "\n",
    "# bind eventhandler to widgets\n",
    "ButtonAddTrace.on_click(eventhandler)\n",
    "ButtonNewPlot.on_click(eventhandler2)\n",
    "\n",
    "# widgets groups\n",
    "WidgetsGrpH1 = widgets.HBox(children=[widgets.Label('Set Chart Area:')])\n",
    "WidgetsGrpH2 = widgets.HBox(children=[FloatRangeSliderStrikes])\n",
    "WidgetsGrpH3 = widgets.HBox(children=[widgets.Label('Set Parameters:')])\n",
    "WidgetsGrpH4 = widgets.HBox(children=[FloatTextAlpha,FloatSliderExpiries])\n",
    "WidgetsGrpH5 = widgets.HBox(children=[FloatSliderNu,FloatSliderBeta,FloatSliderRho])\n",
    "WidgetsGrpH6 = widgets.HBox(children=[ButtonNewPlot,ButtonAddTrace])\n",
    "WidgetsGrpV1 = widgets.VBox(children=[WidgetsGrpH1,WidgetsGrpH2,WidgetsGrpH3,WidgetsGrpH4,WidgetsGrpH5,WidgetsGrpH6])\n",
    "\n",
    "display(WidgetsGrpV1)\n",
    "display(OutputWidget)"
   ]
  },
  {
   "cell_type": "markdown",
   "id": "814b9161",
   "metadata": {},
   "source": [
    "## Volatility Surface"
   ]
  },
  {
   "cell_type": "markdown",
   "id": "75b6e3df",
   "metadata": {},
   "source": [
    "### Single Parameter Set"
   ]
  },
  {
   "cell_type": "code",
   "execution_count": 101,
   "id": "3ee9d14d",
   "metadata": {
    "ExecuteTime": {
     "end_time": "2021-10-29T15:15:06.700218Z",
     "start_time": "2021-10-29T15:15:06.561589Z"
    },
    "code_folding": [
     0
    ]
   },
   "outputs": [
    {
     "data": {
      "application/vnd.jupyter.widget-view+json": {
       "model_id": "e3788116e5684d7cb1fbbbd1a40edf71",
       "version_major": 2,
       "version_minor": 0
      },
      "text/plain": [
       "VBox(children=(HBox(children=(Label(value='Set Chart Area:'),)), HBox(children=(FloatRangeSlider(value=(0.4, 1…"
      ]
     },
     "metadata": {},
     "output_type": "display_data"
    },
    {
     "data": {
      "application/vnd.jupyter.widget-view+json": {
       "model_id": "4231023a3bf94bd89f6dfa2e0b6a69a4",
       "version_major": 2,
       "version_minor": 0
      },
      "text/plain": [
       "Output()"
      ]
     },
     "metadata": {},
     "output_type": "display_data"
    }
   ],
   "source": [
    "# Plotting SABR Volatility Surface\n",
    "\n",
    "# strikes = np.linspace(0.4, 1.6, num=100)\n",
    "# expiries = np.linspace(0.0, 5.0, (5*4+1), endpoint=True)\n",
    "\n",
    "# Create Widgets\n",
    "\n",
    "style = {'description_width': 'initial'}\n",
    "\n",
    "FloatTextAlpha = widgets.FloatText(value = 0.3, step = 0.01, description = 'Alpha')\n",
    "\n",
    "FloatSlidernu = widgets.FloatSlider(value = 0.1, min = 0.0001, max = 5, step = 0.01, description = 'Nu',\n",
    "                                       continuous_update=False, orientation='horizontal', readout=True, readout_format='.1f')\n",
    "\n",
    "FloatSliderBeta = widgets.FloatSlider(value = 0.1, min = 0, max = 1, step = 0.01, description = 'Beta',\n",
    "                                       continuous_update=False, orientation='horizontal', readout=True, readout_format='.1f')\n",
    "\n",
    "FloatSliderRho = widgets.FloatSlider(value = 0.1, min = -0.999999, max = 0.999999, step = 0.01, description = 'Rho',\n",
    "                                       continuous_update=False, orientation='horizontal', readout=True, readout_format='.1f')\n",
    "\n",
    "FloatRangeSliderStrikes = widgets.FloatRangeSlider(value=[.4, 1.6], min=0, max=3.0, step=0.05, description='Strike Range:', \n",
    "                                                   disabled=False, continuous_update=False,orientation='horizontal',\n",
    "                                                   readout=True, readout_format='.1f',style=style)\n",
    "\n",
    "FloatRangeSliderExpiries = widgets.FloatRangeSlider(value=[0, 3], min=0, max=30.0, step=1, description='Expiries Range:', \n",
    "                                                   disabled=False, continuous_update=False,orientation='horizontal',\n",
    "                                                   readout=True, readout_format='.0f',style=style)\n",
    "\n",
    "ButtonCreatePlot = widgets.Button(description=\"Create Plot\")\n",
    "\n",
    "global OutputWidget\n",
    "OutputWidget = widgets.Output()\n",
    "\n",
    "def create_vol_grid(alpha, nu, beta, rho,strike_range, expiry_range):\n",
    "    F_0 = 1\n",
    "    strikes = np.linspace(strike_range[0], strike_range[1], num=100)\n",
    "    expiries = np.linspace(expiry_range[0], expiry_range[1], int(expiry_range[1]*4+1), endpoint=True)\n",
    "#     print(strikes)\n",
    "    vols = np.empty(shape=(strikes.shape[0], expiries.shape[0]))\n",
    "    for i in range(strikes.shape[0]):\n",
    "        for j in range(expiries.shape[0]):\n",
    "            vols[i,j] = SABR(F_0,strikes[i],expiries[j],alpha,nu,beta,rho)\n",
    "#     print(vols)\n",
    "    return strikes, expiries, vols\n",
    "\n",
    "def create_plot(strikes, expiries, vols):\n",
    "    fig1 = go.Figure(data=[go.Surface(x= expiries,y= strikes,z= vols   \n",
    "                    ,contours = {\"x\": {\"show\": True,\"size\": 0.1, \"color\":\"red\"},\n",
    "                                \"y\": {\"show\": True,\"size\": 0.1, \"color\":\"red\"},\n",
    "                                }\n",
    "                          ,hovertemplate = \n",
    "                            'Moneyness:  %{y: .1%}' +\\\n",
    "                            '<br>Maturity (yrs): %{x: .2f}' +\\\n",
    "                            '<br>Volatility: %{z: .1%}<extra></extra>'\n",
    "                         ,colorscale = 'temps')\n",
    "                         ])\n",
    "\n",
    "\n",
    "\n",
    "    fig1.update_layout(title={\n",
    "                          'text': \"<b>Volatility Surface</b>\",\n",
    "                          'y':0.95,\n",
    "                          'x':0.5,\n",
    "                          'xanchor': 'center',\n",
    "                          'yanchor': 'top'\n",
    "                            }\n",
    "#                     ,autosize=True\n",
    "                    ,width=1000\n",
    "                    ,height=500\n",
    "                    ,scene = dict(\n",
    "                      xaxis_title='Maturity (yrs)'\n",
    "                      ,xaxis_tickformat = '.2f'\n",
    "                      ,xaxis_autorange = 'reversed'\n",
    "                      ,yaxis_title='Moneyness'\n",
    "                      ,yaxis_tickformat = '.1%'\n",
    "                      ,zaxis_title='Volatility'\n",
    "                      ,zaxis_tickformat = '.1%'\n",
    "                      )\n",
    "                    ,font=dict(\n",
    "                      family=\"Courier New, monospace\"\n",
    "                      ,size=10\n",
    "                      )\n",
    "                    ,margin=dict(l=65, r=50, b=65, t=90)\n",
    "    )\n",
    "    fig1.show()\n",
    "\n",
    "def plot(alpha, nu, beta, rho,strike_range, expiry_range):\n",
    "#     function is valled by eventhandler, i.e. if input parameter changes\n",
    "#     clear output\n",
    "    OutputWidget.clear_output()\n",
    "    \n",
    "#     1. Create vol grid\n",
    "    strikes, expiries, vols = create_vol_grid(alpha, nu, beta, rho,strike_range, expiry_range)\n",
    "\n",
    "#     2. plot surface\n",
    "    create_plot(strikes, expiries, vols)\n",
    "    \n",
    "\n",
    "def eventhandler(change):\n",
    "    \n",
    "    alpha = FloatTextAlpha.value\n",
    "    nu = FloatSlidernu.value\n",
    "    beta = FloatSliderBeta.value\n",
    "    rho = FloatSliderRho.value\n",
    "    strike_range = FloatRangeSliderStrikes.value\n",
    "    expiry_range = FloatRangeSliderExpiries.value\n",
    "    \n",
    "#     call plot function\n",
    "    with OutputWidget:\n",
    "        plot(alpha, nu, beta, rho,strike_range, expiry_range)\n",
    "        \n",
    "# observe parameter changes\n",
    "FloatTextAlpha.observe(eventhandler, names='value')\n",
    "FloatSlidernu.observe(eventhandler, names='value')\n",
    "FloatSliderBeta.observe(eventhandler, names='value')\n",
    "FloatSliderRho.observe(eventhandler, names='value')\n",
    "FloatRangeSliderStrikes.observe(eventhandler, names='value')\n",
    "FloatRangeSliderExpiries.observe(eventhandler, names='value')\n",
    "\n",
    "# bind eventhandler to widgets\n",
    "ButtonCreatePlot.on_click(eventhandler)\n",
    "\n",
    "# Widgets groups\n",
    "WidgetsGrpH1 = widgets.HBox(children=[widgets.Label('Set Chart Area:')])\n",
    "WidgetsGrpH2 = widgets.HBox(children=[FloatRangeSliderStrikes,FloatRangeSliderExpiries])\n",
    "WidgetsGrpH3 = widgets.HBox(children=[widgets.Label('Set Parameters:')])\n",
    "WidgetsGrpH4 = widgets.HBox(children=[FloatTextAlpha])\n",
    "WidgetsGrpH5 = widgets.HBox(children=[FloatSlidernu,FloatSliderBeta,FloatSliderRho])\n",
    "WidgetsGrpH6 = widgets.HBox(children=[ButtonCreatePlot])\n",
    "WidgetsGrpV1 = widgets.VBox(children=[WidgetsGrpH1,WidgetsGrpH2,WidgetsGrpH3,WidgetsGrpH4,WidgetsGrpH5,WidgetsGrpH6])\n",
    "\n",
    "\n",
    "display(WidgetsGrpV1)\n",
    "display(OutputWidget)"
   ]
  },
  {
   "cell_type": "markdown",
   "id": "16b9bad2",
   "metadata": {},
   "source": [
    "### Expiry Dependent Parameters "
   ]
  },
  {
   "cell_type": "code",
   "execution_count": 91,
   "id": "243c5443",
   "metadata": {
    "ExecuteTime": {
     "end_time": "2021-10-29T15:12:54.640275Z",
     "start_time": "2021-10-29T15:12:54.622303Z"
    }
   },
   "outputs": [],
   "source": [
    "# Define moneyness – time-to-maturity grid\n",
    "strikes = np.linspace(0.4, 1.6, num=100)\n",
    "expiries = np.linspace(0.0, 3.0, (3*4+1), endpoint=True)"
   ]
  },
  {
   "cell_type": "code",
   "execution_count": 92,
   "id": "5aa4f8d6",
   "metadata": {
    "ExecuteTime": {
     "end_time": "2021-10-29T15:12:54.829009Z",
     "start_time": "2021-10-29T15:12:54.823025Z"
    }
   },
   "outputs": [],
   "source": [
    "# Define parameters\n",
    "F_0 = 1\n",
    "array_alpha = np.random.uniform(low=.1, high=.2,size=(expiries.size,))\n",
    "array_nu = np.random.uniform(low=.0001, high=1,size=(expiries.size,))\n",
    "array_beta = np.random.uniform(low=0, high=1,size=(expiries.size,))\n",
    "array_rho = np.random.uniform(low=-.999999, high=.999999,size=(expiries.size,))"
   ]
  },
  {
   "cell_type": "code",
   "execution_count": 93,
   "id": "24abbc42",
   "metadata": {
    "ExecuteTime": {
     "end_time": "2021-10-29T15:12:55.030813Z",
     "start_time": "2021-10-29T15:12:54.991918Z"
    },
    "code_folding": []
   },
   "outputs": [],
   "source": [
    "# Create vol grid\n",
    "vols = np.empty(shape=(strikes.size, expiries.size))\n",
    "for i in range(strikes.size):\n",
    "    for j in range(expiries.size):\n",
    "        vols[i,j] = SABR(F_0,strikes[i],expiries[j],array_alpha[j],array_nu[j],array_beta[j],array_rho[j])"
   ]
  },
  {
   "cell_type": "code",
   "execution_count": 96,
   "id": "6edd5e9c",
   "metadata": {
    "ExecuteTime": {
     "end_time": "2021-10-29T15:13:11.087151Z",
     "start_time": "2021-10-29T15:13:11.047224Z"
    },
    "code_folding": [
     0
    ]
   },
   "outputs": [
    {
     "data": {
      "application/vnd.plotly.v1+json": {
       "config": {
        "plotlyServerURL": "https://plot.ly"
       },
       "data": [
        {
         "colorscale": [
          [
           0,
           "rgb(0, 147, 146)"
          ],
          [
           0.16666666666666666,
           "rgb(57, 177, 133)"
          ],
          [
           0.3333333333333333,
           "rgb(156, 203, 134)"
          ],
          [
           0.5,
           "rgb(233, 226, 156)"
          ],
          [
           0.6666666666666666,
           "rgb(238, 180, 121)"
          ],
          [
           0.8333333333333334,
           "rgb(232, 132, 113)"
          ],
          [
           1,
           "rgb(207, 89, 126)"
          ]
         ],
         "contours": {
          "x": {
           "color": "red",
           "show": true,
           "size": 0.1
          }
         },
         "hidesurface": true,
         "hovertemplate": "Moneyness:  %{y: .2%}<br>Maturity (yrs): %{x: .1f}<br>Volatility: %{z: .2f}<extra></extra>",
         "type": "surface",
         "x": [
          0,
          0.25,
          0.5,
          0.75,
          1,
          1.25,
          1.5,
          1.75,
          2,
          2.25,
          2.5,
          2.75,
          3
         ],
         "y": [
          0.4,
          0.41212121212121217,
          0.42424242424242425,
          0.4363636363636364,
          0.4484848484848485,
          0.46060606060606063,
          0.4727272727272728,
          0.48484848484848486,
          0.496969696969697,
          0.5090909090909091,
          0.5212121212121212,
          0.5333333333333334,
          0.5454545454545455,
          0.5575757575757576,
          0.5696969696969698,
          0.5818181818181819,
          0.593939393939394,
          0.6060606060606061,
          0.6181818181818182,
          0.6303030303030304,
          0.6424242424242425,
          0.6545454545454545,
          0.6666666666666667,
          0.6787878787878788,
          0.6909090909090909,
          0.7030303030303031,
          0.7151515151515152,
          0.7272727272727273,
          0.7393939393939395,
          0.7515151515151516,
          0.7636363636363637,
          0.7757575757575759,
          0.787878787878788,
          0.8,
          0.8121212121212122,
          0.8242424242424243,
          0.8363636363636364,
          0.8484848484848486,
          0.8606060606060607,
          0.8727272727272728,
          0.884848484848485,
          0.8969696969696971,
          0.9090909090909092,
          0.9212121212121213,
          0.9333333333333335,
          0.9454545454545455,
          0.9575757575757576,
          0.9696969696969698,
          0.9818181818181819,
          0.993939393939394,
          1.0060606060606063,
          1.0181818181818183,
          1.0303030303030303,
          1.0424242424242425,
          1.0545454545454547,
          1.0666666666666669,
          1.078787878787879,
          1.090909090909091,
          1.103030303030303,
          1.1151515151515152,
          1.1272727272727274,
          1.1393939393939396,
          1.1515151515151516,
          1.1636363636363638,
          1.1757575757575758,
          1.187878787878788,
          1.2000000000000002,
          1.2121212121212124,
          1.2242424242424244,
          1.2363636363636366,
          1.2484848484848485,
          1.2606060606060607,
          1.272727272727273,
          1.2848484848484851,
          1.296969696969697,
          1.309090909090909,
          1.3212121212121213,
          1.3333333333333335,
          1.3454545454545457,
          1.3575757575757579,
          1.3696969696969699,
          1.3818181818181818,
          1.393939393939394,
          1.4060606060606062,
          1.4181818181818184,
          1.4303030303030306,
          1.4424242424242424,
          1.4545454545454546,
          1.4666666666666668,
          1.478787878787879,
          1.4909090909090912,
          1.5030303030303034,
          1.5151515151515151,
          1.5272727272727273,
          1.5393939393939395,
          1.5515151515151517,
          1.563636363636364,
          1.5757575757575761,
          1.587878787878788,
          1.6
         ],
         "z": [
          [
           0.1436630316426581,
           0.2223735760141957,
           0.25680578224727524,
           0.21550627906209016,
           0.25145185251501,
           0.26154025405284004,
           0.47571750830812404,
           0.30397139728630496,
           0.20106470332579038,
           0.3150397302437705,
           0.3469978680013829,
           0.48826366877777894,
           0.3193164467952868
          ],
          [
           0.1431130966706969,
           0.21820467944018346,
           0.25088801208272915,
           0.2113527182407833,
           0.24581204562213366,
           0.25728369195927997,
           0.4663257569863325,
           0.2988788225141878,
           0.19736531268314056,
           0.30925758714131996,
           0.34139658573625437,
           0.47745960114951536,
           0.31278756065288144
          ],
          [
           0.14264861571743814,
           0.21419603567185794,
           0.24521794600644425,
           0.2073396093554151,
           0.24040792159907234,
           0.2532633029240302,
           0.4572094894899412,
           0.2940088972378643,
           0.1937806401331692,
           0.3036241662877764,
           0.33595679499260167,
           0.46703183460689146,
           0.3064506036644014
          ],
          [
           0.14226658506948586,
           0.2103370234553097,
           0.23977814093892336,
           0.20346076925183518,
           0.23522206849803362,
           0.24946235200909003,
           0.44835154457185716,
           0.28934604346619575,
           0.19030420484425623,
           0.29813183935594256,
           0.33066881112328406,
           0.45695485173097955,
           0.3002942044889333
          ],
          [
           0.1419640226354149,
           0.2066180343538531,
           0.23455290143405988,
           0.19971076325147022,
           0.23023879637286102,
           0.24586577293893372,
           0.4397362576074591,
           0.28487620262826113,
           0.18693012455710045,
           0.2927736698355571,
           0.32552378342971866,
           0.44720551370277783,
           0.29430800909467386
          ],
          [
           0.14173794171242998,
           0.20303035362041405,
           0.22952806817882995,
           0.1960848483982899,
           0.22544392460626417,
           0.24245995544295065,
           0.431349293920417,
           0.280586650879999,
           0.18365305254323042,
           0.2875433481722267,
           0.32051360359210024,
           0.4377627810852851,
           0.28848257199452065
          ],
          [
           0.14158533167264822,
           0.19956605795493587,
           0.22469083746958146,
           0.19257892723076137,
           0.22082460033733214,
           0.23923256422536532,
           0.42317750474151805,
           0.2764658410921642,
           0.1804681233281802,
           0.2824351362683709,
           0.3156308263697545,
           0.42860747403912375,
           0.2828092625841812
          ],
          [
           0.1415031452535918,
           0.1962179273918271,
           0.22002960650178896,
           0.1891895107551056,
           0.21636914276664188,
           0.23617238420482184,
           0.415208802261026,
           0.2725032670839015,
           0.17737090583525256,
           0.27744382005823515,
           0.31086860066579053,
           0.41972206557286645,
           0.2772801842867972
          ],
          [
           0.14148829204936755,
           0.1929793690689769,
           0.21553384028003178,
           0.18591368953688786,
           0.2120669091004624,
           0.233269187688691,
           0.40743205086727563,
           0.26868934649505316,
           0.1743573628454433,
           0.2725646691074367,
           0.30622060938695184,
           0.4110905026049046,
           0.27188810462372337
          ],
          [
           0.14153763768798197,
           0.1898443510332332,
           0.21119395672366303,
           0.18274911200988742,
           0.2079081786750509,
           0.23051361995437997,
           0.39983697217167247,
           0.26501531934800854,
           0.171423815861413,
           0.26779340238213456,
           0.30168101680018783,
           0.402698050550928,
           0.26662639466607757
          ],
          [
           0.14164800806321515,
           0.18680734456038559,
           0.20700122715659824,
           0.17969396923091957,
           0.2038840524232164,
           0.22789710035087704,
           0.39241406183010435,
           0.26147315987502806,
           0.16856691461850193,
           0.26312615949314977,
           0.2972444223062235,
           0.3945311579028001,
           0.26148897659353987
          ],
          [
           0.1418161978824239,
           0.18386327372805228,
           0.20294768986116796,
           0.1767469853897745,
           0.1999863653432465,
           0.22541173654561233,
           0.3851545165036964,
           0.25805549960864776,
           0.16578361061145044,
           0.25855947685340985,
           0.292905819728205,
           0.3865773378711071,
           0.25647027830915087
          ],
          [
           0.14203898270819051,
           0.18100747119074723,
           0.1990260747722007,
           0.17390741341422258,
           0.19620761003160953,
           0.22305024995272224,
           0.37805016957388204,
           0.25475556007327954,
           0.16307113410764756,
           0.2540902682984851,
           0.2886605613587758,
           0.3788250646557477,
           0.2515651942419283
          ],
          [
           0.142313133621906,
           0.17823563927807823,
           0.19522973770845772,
           0.17117503498748277,
           0.19254086966602632,
           0.2208059107105345,
           0.37109343445027804,
           0.2515670936924956,
           0.16042697420097504,
           0.24971580981393135,
           0.2845043261282292,
           0.3712636823104091,
           0.24676905162109253
          ],
          [
           0.14263543362676798,
           0.1755438156774579,
           0.1915526027996758,
           0.16855016421293634,
           0.18897975909030523,
           0.218672480845179,
           0.3642772544945964,
           0.24848433175195445,
           0.15784886152817404,
           0.24543372809282094,
           0.28043309135480826,
           0.36388332449610516,
           0.2420775816328873
          ],
          [
           0.14300269493727402,
           0.17292834307809934,
           0.18798911198077997,
           0.16603365400859865,
           0.18551837286900688,
           0.21664416447652982,
           0.35759505873737885,
           0.2455019384427149,
           0.1553347533248773,
           0.241241992714505,
           0.2764431076198109,
           0.35667484369055485,
           0.2374868949783497
          ],
          [
           0.14341177636877422,
           0.1703858422482942,
           0.18453418059962956,
           0.16362690408000807,
           0.18215123935809943,
           0.21471556410225742,
           0.35104072269279263,
           0.24261497016184114,
           0.1528828205431208,
           0.23713891179279903,
           0.2725308763780742,
           0.34962974864538,
           0.23299346144182337
          ],
          [
           0.14385960013731983,
           0.16791318809687314,
           0.18118315832829826,
           0.16133186899156185,
           0.1788732799847939,
           0.2128816421434588,
           0.3446085336848641,
           0.23981883937302328,
           0.15049143678787966,
           0.23312313098917142,
           0.2686931299712082,
           0.3427401490708924,
           0.22859409315855517
          ],
          [
           0.14434316749802115,
           0.16550748833537443,
           0.17793179468608952,
           0.1591510644206127,
           0.17567977305163757,
           0.21113768705735972,
           0.3382931601902178,
           0.2371092824344145,
           0.1481591688581882,
           0.22919363582413077,
           0.26492681375861543,
           0.335998706685729,
           0.224285931337723
          ],
          [
           0.14485957277960054,
           0.1631660644122212,
           0.17477620857982334,
           0.1570875691281476,
           0.17256632148138673,
           0.20947928342385358,
           0.332089624780799,
           0.23448233088798973,
           0.1458847686995851,
           0.22534975724702216,
           0.2612290701215262,
           0.3293985919015233,
           0.220066436256446
          ],
          [
           0.14540601550433338,
           0.16088643443608755,
           0.17171286134697547,
           0.15514501951757098,
           0.16952882400393932,
           0.20790228549706757,
           0.3259932803176779,
           0.2319342857776136,
           0.14366716658962084,
           0.22159118043905965,
           0.25759722412927344,
           0.3229334455257547,
           0.21593338039197083
          ],
          [
           0.14597981040785077,
           0.15866629784417013,
           0.16873853285288087,
           0.15332759290163842,
           0.16656344935767728,
           0.20640279378385976,
           0.319999789106024,
           0.2294616946242394,
           0.14150546538740413,
           0.21791795682371767,
           0.25402877068591634,
           0.31659734496265607,
           0.21188484460397508
          ],
          [
           0.14657839528597144,
           0.15650352160355396,
           0.16585030024669986,
           0.15163997481164634,
           0.1636666131373726,
           0.20497713427065276,
           0.3141051047734036,
           0.2270613307382457,
           0.13939893568192865,
           0.21433051923829657,
           0.25052136299993183,
           0.310384774475623,
           0.2079192173169697
          ],
          [
           0.14719933669153007,
           0.15439612776129313,
           0.16304551902401795,
           0.15008730496453326,
           0.16083495697130443,
           0.20362183997032723,
           0.3083054566801727,
           0.2247301745925682,
           0.13734701167236046,
           0.21082970017458216,
           0.24707280224076217,
           0.30429059914748835,
           0.20403519668365075
          ],
          [
           0.14784033358089516,
           0.1523422821820534,
           0.16032180607828161,
           0.1486750960174492,
           0.15806532975299697,
           0.20233363450365466,
           0.3025973367131703,
           0.22246539701730722,
           0.13534928760668558,
           0.20741675291716236,
           0.24368102826407215,
           0.2983100422393798,
           0.2002317957325905
          ],
          [
           0.14849921906710395,
           0.1503402843318883,
           0.1576770244499782,
           0.1474091192238808,
           0.15535477068932926,
           0.20110941746626176,
           0.2969774883532106,
           0.22026434400799885,
           0.1334055145931894,
           0.20409337528492927,
           0.2403441113031527,
           0.29243866570643967,
           0.19650835051584842
          ],
          [
           0.14917396047531684,
           0.14838855798349454,
           0.1551092695025543,
           0.1462952518680435,
           0.1527004939577188,
           0.1999462513634574,
           0.29144289794399797,
           0.2181245229666438,
           0.131515597582321,
           0.20086173550200356,
           0.23706024453734587,
           0.2866723536809088,
           0.1928645312707792
          ],
          [
           0.14986265791864126,
           0.14648564273260026,
           0.15261685626844007,
           0.14533928323870754,
           0.15009987479154738,
           0.19884134992228597,
           0.28599078812582734,
           0.21604359021761527,
           0.1296795922948682,
           0.19772449947379098,
           0.23382773746002491,
           0.28100729878122177,
           0.18930035659106287
          ],
          [
           0.15056354162085328,
           0.1446301862273702,
           0.1501983077180126,
           0.14454667921349207,
           0.1475504368356534,
           0.19779206761359194,
           0.28061861343253763,
           0.214019339660341,
           0.1278977018465934,
           0.1946848584053468,
           0.2306450099787803,
           0.275439991150896,
           0.18581621055858594
          ],
          [
           0.1512749682100297,
           0.14282093702319962,
           0.147852343709739,
           0.1439223103953147,
           0.14504984063319257,
           0.1967958902372723,
           0.27532405808525806,
           0.21204969243767668,
           0.12617027279049445,
           0.19174655525558693,
           0.22751058718925987,
           0.2699672101739983,
           0.18241286271209267
          ],
          [
           0.15199541619629267,
           0.1410567379842859,
           0.14557787038194173,
           0.14347015497424154,
           0.14259587312192656,
           0.19585042644171258,
           0.27010503605203323,
           0.21013268751357286,
           0.12449779026714271,
           0.1889139079574537,
           0.22442309477177733,
           0.2645860188555486,
           0.1790914906098929
          ],
          [
           0.1527234808303662,
           0.13933652016116962,
           0.14337396974664587,
           0.14319299438668856,
           0.14018643803246628,
           0.19495340006404602,
           0.2649596934788339,
           0.20826647306635665,
           0.12288087192331579,
           0.1861918266435548,
           0.22138125496646355,
           0.25929376089593287,
           0.17585370456922955
          ],
          [
           0.1534578685195788,
           0.13765929708021643,
           0.14123988924495107,
           0.14309212615931333,
           0.13781954709350785,
           0.19410264319161813,
           0.25988641363490356,
           0.2064492986149653,
           0.12132026023246402,
           0.18358582130654388,
           0.21838388308852458,
           0.2540880605285053,
           0.172701573918435
          ],
          [
           0.1541973909561423,
           0.13602415938696477,
           0.13917503102273293,
           0.14316712238678939,
           0.13549331195993364,
           0.1932960898571924,
           0.2548838245538215,
           0.2046795078050572,
           0.11981681283152888,
           0.1811019954269479,
           0.21542988455015283,
           0.24896682522913574,
           0.16963765376213064
          ],
          [
           0.15494095909036634,
           0.13443026979054268,
           0.13717894068686526,
           0.14341566241018028,
           0.13320593678905873,
           0.19253177029115062,
           0.24995080959057853,
           0.20295553179028197,
           0.11837149048245994,
           0.17874702019179478,
           0.21251825235991112,
           0.2439282514450815,
           0.16666501081641633
          ],
          [
           0.15568757705997135,
           0.13287685826111031,
           0.1352512953075185,
           0.14383346332936328,
           0.13095571139847986,
           0.19180780566343594,
           0.2450865211533521,
           0.20127588315126818,
           0.11698534227966284,
           0.17652808313530863,
           0.20964806507397507,
           0.23897083352734122,
           0.1637872463049881
          ],
          [
           0.1564363361665257,
           0.13136321743664567,
           0.13339189044362473,
           0.1444143220730432,
           0.12874100494609636,
           0.19112240325639612,
           0.2402903979046721,
           0.1996391503012859,
           0.1156594877635315,
           0.17445280455947648,
           0.20681848517654614,
           0.2340933760838736,
           0.16100851321125553
          ],
          [
           0.15718640897171055,
           0.129888698199466,
           0.13160062598870292,
           0.14515026939490544,
           0.12656026007907284,
           0.1904738520171212,
           0.2355621857572424,
           0.1980439923331247,
           0.11439509567236224,
           0.17252911521581804,
           0.2040287578689969,
           0.22929500999797553,
           0.1583335243652625
          ],
          [
           0.15793704356983207,
           0.12845270538679923,
           0.12987749066536486,
           0.14603182207496954,
           0.12441198750391118,
           0.18986051844445648,
           0.23090196301014895,
           0.19648913426664635,
           0.11319335917682283,
           0.170765089790952,
           0.2012782102488935,
           0.22457521237244135,
           0.15576754694580905
          ],
          [
           0.15868755807881857,
           0.12705469360355454,
           0.12822254504126684,
           0.14704830785994202,
           0.12229476093451179,
           0.1892808427716969,
           0.22631016997448417,
           0.19497336266078885,
           0.11205546759734596,
           0.16916873309112604,
           0.19856625086090893,
           0.21993383065955724,
           0.15331637808040693
          ],
          [
           0.15943733537983412,
           0.12569416310930598,
           0.1266359029988819,
           0.14818823070597417,
           0.12020721237919947,
           0.18873333541108595,
           0.22178764341337578,
           0.19349552155763397,
           0.1109825748063977,
           0.16774771973461539,
           0.19589236960173076,
           0.21537111121045052,
           0.1509862954733429
          ],
          [
           0.16018581812547047,
           0.1243706557554539,
           0.12511771166725216,
           0.1494396427167611,
           0.1181480277312627,
           0.18821657363077612,
           0.21733565605558564,
           0.19205450872948546,
           0.10997576476036855,
           0.16650909367797104,
           0.1932561379603123,
           0.21088773241212666,
           0.14878397660621595
          ],
          [
           0.16093250402811282,
           0.12308375095264079,
           0.1236681299155804,
           0.15079049324613858,
           0.11611594263064956,
           0.18772919843887761,
           0.21295596131431502,
           0.1906492722029081,
           0.10903601487886974,
           0.16545894067103872,
           0.19065720957311058,
           0.20648484245937043,
           0.14671638033548895
          ],
          [
           0.16167694143326633,
           0.12183306165280408,
           0.12228730561416859,
           0.15222893324248096,
           0.11410973856714801,
           0.18726991165266477,
           0.20865084312694862,
           0.18927880703632055,
           0.10816415827370081,
           0.16460205388433774,
           0.1880953210711705,
           0.20216410160866016,
           0.14479058601257655
          ],
          [
           0.162418725177262,
           0.12061823033479749,
           0.12097535198375178,
           0.1537435619060358,
           0.11212823919768314,
           0.1868374731340903,
           0.20442317049250097,
           0.18794215233003927,
           0.10736084609929304,
           0.16394161909078703,
           0.1855702931919156,
           0.19792772845296833,
           0.1430135879190412
          ],
          [
           0.16315749272455987,
           0.1194389249872858,
           0.11973232347335616,
           0.1553236112182905,
           0.11017030685234534,
           0.18643069817532879,
           0.2002764557784917,
           0.18663838844979885,
           0.10662651151868384,
           0.1634789492226884,
           0.18308203212315705,
           0.19377854930391342,
           0.14139204706184355
          ],
          [
           0.16389292057668797,
           0.11829483508762349,
           0.1185581917208639,
           0.15695907065212997,
           0.10823483920542984,
           0.18604845502041806,
           0.19621491514758388,
           0.185366634446591,
           0.10596133691943217,
           0.16321329732995513,
           0.18063053103990326,
           0.18972004913000512,
           0.13993200814342466
          ],
          [
           0.16462472094256664,
           0.11718566758060249,
           0.11745282224913817,
           0.15864075888644633,
           0.10632076608917577,
           0.1856896625109684,
           0.19224352846331103,
           0.18412604565731913,
           0.1053652260406169,
           0.16314177114051034,
           0.17821587178596038,
           0.18575642163418618,
           0.1386385962875184
          ],
          [
           0.1653526386582922,
           0.11611114286624377,
           0.11641595262256303,
           0.16036035171543034,
           0.10442704642903101,
           0.18535328784566427,
           0.1883680947268924,
           0.18291581147222852,
           0.10483778256256493,
           0.16325936198961466,
           0.1758382266418051,
           0.18189261492509295,
           0.1375157147971328
          ],
          [
           0.16607644834349183,
           0.11507099081107577,
           0.11544717282329434,
           0.16211037598680927,
           0.10255266528020197,
           0.18503834444466247,
           0.18459527745107338,
           0.181735153256413,
           0.10437829645755728,
           0.16355908758794202,
           0.1734978601077179,
           0.17813436783101888,
           0.13656577031501624
          ],
          [
           0.1667959517806761,
           0.11406494680254747,
           0.11454590859435881,
           0.16388417886687734,
           0.10069663094592798,
           0.18474388991128024,
           0.18093263242297303,
           0.18058332241377476,
           0.10398573901371912,
           0.1640322346067444,
           0.17119513061656405,
           0.1744882302561405,
           0.13578945357997974
          ],
          [
           0.16751097550386362,
           0.11309274787105035,
           0.11371140843251262,
           0.1656758805194001,
           0.09885797215847275,
           0.1844690240843693,
           0.1773886081722411,
           0.1794595985830902,
           0.10365876695650883,
           0.16466867615748243,
           0.1689304920739261,
           0.17096155919791894,
           0.13518560125710347
          ],
          [
           0.16822136858268533,
           0.11215412890851038,
           0.11294273479691032,
           0.16748031679629558,
           0.0970357353040917,
           0.18421288717564657,
           0.1739725074181184,
           0.1783632879563349,
           0.103395735550204,
           0.1654572329623896,
           0.16670449510458535,
           0.16756248036735163,
           0.13475115677767474
          ],
          [
           0.16892700058868912,
           0.11124881901629018,
           0.11223875993516161,
           0.1692929770380644,
           0.09522898167348302,
           0.18397465798708873,
           0.17069439629492267,
           0.17729372171082897,
           0.10319472002236646,
           0.16638604606643248,
           0.16451778786406798,
           0.16429980417772408,
           0.13448123678450427
          ],
          [
           0.1696277597305915,
           0.11037653801810852,
           0.11159816652723403,
           0.17110994072697047,
           0.09343678471920122,
           0.1837535522038893,
           0.16756494795510563,
           0.17625025454701052,
           0.1030535441751274,
           0.1674429326908165,
           0.16237111625243214,
           0.16118288477192647,
           0.13436929684886229
          ],
          [
           0.17032355114609926,
           0.10953699317566686,
           0.1110194531252832,
           0.17292781559734208,
           0.09165822730149065,
           0.1835488207592853,
           0.16459520911494924,
           0.17523226332461372,
           0.10296981467653371,
           0.16861570370274956,
           0.16026532334572496,
           0.15822141246957094,
           0.13440737836026773
          ],
          [
           0.17101429533838247,
           0.10872987614548436,
           0.11050094414253642,
           0.17474367890102527,
           0.08989239890385792,
           0.18335974826772572,
           0.16179628315768002,
           0.1742391457905104,
           0.10294095929524509,
           0.169892429299617,
           0.158201347839644,
           0.15542513427356267,
           0.1345864102992612
          ],
          [
           0.17169992674586776,
           0.10795486021496294,
           0.1100408039358709,
           0.17655502283646657,
           0.08813839279958875,
           0.18318565152338084,
           0.15917893215639234,
           0.17327031939205922,
           0.10296426726419962,
           0.1712616472503408,
           0.156180221281611,
           0.15280350437757287,
           0.13489653630922604
          ],
          [
           0.17238039243484515,
           0.10721159785387907,
           0.10963705435201643,
           0.17835970464600034,
           0.08639530315041583,
           0.1830258780611595,
           0.1567531124654921,
           0.17232522017027327,
           0.10303693002499137,
           0.17271251433449508,
           0.15420306385377774,
           0.15036527684320353,
           0.13532743904094538
          ],
          [
           0.1730556509049062,
           0.10649971861427925,
           0.10928759497949778,
           0.18015590153256655,
           0.08466222201877667,
           0.18287980477773305,
           0.1545274729488329,
           0.1714033017275616,
           0.10315608078987556,
           0.17423490601466793,
           0.15227107846305,
           0.14811806466249586,
           0.13586863897834595
          ],
          [
           0.17372567099802616,
           0.10581882740721171,
           0.10899022527516183,
           0.18194207031027354,
           0.08293823627580796,
           0.1827468366101838,
           0.15250885861507973,
           0.1705040342651945,
           0.10331883162761678,
           0.17581947190051675,
           0.1503855428980256,
           0.14606790102457964,
           0.1365097521296314
          ],
          [
           0.17439043090267137,
           0.1051685031789562,
           0.10874266771689824,
           0.18371691155371617,
           0.08122242438869266,
           0.18262640527009577,
           0.15070187152007178,
           0.16962690368599193,
           0.10352230709444495,
           0.17745765553793424,
           0.1485477998301371,
           0.14421884662869658,
           0.13724069838812936
          ],
          [
           0.1750499172449842,
           0.10454829800259759,
           0.1085425911687989,
           0.18547933792457505,
           0.07951385307369782,
           0.18251796803102802,
           0.14910854147281483,
           0.16877141075806015,
           0.10376367375630421,
           0.179141686921207,
           0.14675924447059754,
           0.14257268818474572,
           0.13805185878460388
          ],
          [
           0.17570412425971502,
           0.10395773659316442,
           0.10838763372284835,
           0.1872284463119697,
           0.07781157380589125,
           0.18242100656739352,
           0.14772814924955172,
           0.16793707033568567,
           0.10404016525412887,
           0.18086455530517068,
           0.1450213097490495,
           0.1411287659200087,
           0.13893418461383325
          ],
          [
           0.176353053034098,
           0.10339631624641536,
           0.10827542439074503,
           0.18896349341099136,
           0.07611461918415288,
           0.1823350258428993,
           0.14655722561015183,
           0.167123410633757,
           0.10434910282954576,
           0.1826199687345647,
           0.14333544895635383,
           0.1398839524210465,
           0.13987926439393927
          ],
          [
           0.1769967108184469,
           0.10286350719300257,
           0.10820360314801006,
           0.1906838743713158,
           0.07442199916224194,
           0.18225955304672528,
           0.14558972457412406,
           0.16632997255232917,
           0.10468791144267324,
           0.18440230545628078,
           0.14170311589360693,
           0.13883278457064172,
           0.14087935602836496
          ],
          [
           0.17763511039772806,
           0.1023587533515275,
           0.10816983896801573,
           0.19238910416717994,
           0.07273269717567404,
           0.18219413657573053,
           0.1448173452311266,
           0.1655563090481456,
           0.10505413177289076,
           0.18620656119203727,
           0.14012574269108063,
           0.13796772953533876,
           0.14192739177358937
          ],
          [
           0.17826826951886124,
           0.10188147345623821,
           0.10817184561551299,
           0.19407880136611017,
           0.0710456662234932,
           0.182138345060991,
           0.1442299585984706,
           0.16480198455014228,
           0.10544542849998506,
           0.18802829520675932,
           0.13860471560056564,
           0.13727954959983157,
           0.1430169630806018
          ],
          [
           0.17889621036890255,
           0.1014310625281089,
           0.10820739508963052,
           0.19575267400291715,
           0.06935982500900599,
           0.18209176643704636,
           0.14381608808933008,
           0.16406657441613307,
           0.10585959532325183,
           0.1898635772434524,
           0.13714134921574547,
           0.13675772232580863,
           0.14414229142642873
          ],
          [
           0.1795189590997122,
           0.1010068936520472,
           0.10827432870978823,
           0.1974105072952978,
           0.0676740543122289,
           0.18205400705226898,
           0.14356339417940217,
           0.16334966442803256,
           0.10629455719837114,
           0.19170893670887643,
           0.13573685972778718,
           0.13639087266044186,
           0.14529819014463644
          ],
          [
           0.1801365453950462,
           0.10060832001819395,
           0.10837056592169744,
           0.19905215296641987,
           0.06598719387156231,
           0.18202469081880204,
           0.1434591233453313,
           0.1626508503231352,
           0.10674837026515326,
           0.19356131496881787,
           0.13439233796461017,
           0.13616718053975285,
           0.14648002117127323
          ],
          [
           0.1807490020763805,
           0.10023467718184688,
           0.10849411096394075,
           0.2006775199671788,
           0.06429804021206889,
           0.18200345840056412,
           0.14349049454599597,
           0.16196973735909664,
           0.10721921991208208,
           0.19541802122271995,
           0.13310872307779809,
           0.136074738262882,
           0.14768364964138922
          ],
          [
           0.1813563647440944,
           0.09988528549452136,
           0.1086430575795533,
           0.20228656641593612,
           0.062605346102233,
           0.18198996643784526,
           0.14364500989899098,
           0.16130593991039996,
           0.10770541738336799,
           0.197276692148853,
           0.13188677781610098,
           0.13610184343248313,
           0.14890539844372838
          ],
          [
           0.18195867145090922,
           0.09955945265804697,
           0.10881559198365792,
           0.20387929259633364,
           0.06090782269621717,
           0.18198388680706346,
           0.14391068735880558,
           0.16065908109420673,
           0.10820539528698017,
           0.1991352553189035,
           0.13072706634590017,
           0.13623722332251167,
           0.15014200417559223
          ],
          [
           0.18255596240477562,
           0.0992564763543228,
           0.10900999431029866,
           0.20545573487409774,
           0.059204145996477685,
           0.18198490591427613,
           0.144276221049766,
           0.1600287924236011,
           0.10871770231244983,
           0.20099189625397385,
           0.1296299355376951,
           0.13647019398321156,
           0.15139057542474563
          ],
          [
           0.18314827969863226,
           0.09897564690528649,
           0.10922463876211691,
           0.20701596041182302,
           0.05749297016530081,
           0.18199272402108949,
           0.14473107942933675,
           0.15941471348634906,
           0.10924099741841858,
           0.20284502891537162,
           0.12859550053020044,
           0.13679076200245957,
           0.15264855391986584
          ],
          [
           0.18373566706468597,
           0.09871624992062737,
           0.10945799267832351,
           0.2085600625765881,
           0.05577295160093893,
           0.1820070546016392,
           0.14526555325931792,
           0.15881649164738187,
           0.10977404370411631,
           0.20469326937971202,
           0.12762363521366074,
           0.1371896789977843,
           0.15391367881194432
          ],
          [
           0.184318169651064,
           0.09847756889459325,
           0.10970861472213847,
           0.21008815694917699,
           0.05404278985151657,
           0.18202762372934592,
           0.14587076526551634,
           0.15823378177331957,
           0.11031570213749099,
           0.20653541242831466,
           0.1267139680524306,
           0.1376584592637541,
           0.15518395415372327
          ],
          [
           0.18489583381889563,
           0.0982588877176896,
           0.1099751523707495,
           0.21160037785582145,
           0.052301294792915135,
           0.18205416949220243,
           0.14653865214649123,
           0.15766624597742646,
           0.11086492527620043,
           0.20837041077786203,
           0.12586588341107274,
           0.13818937021164004,
           0.15645761951292236
          ],
          [
           0.18546870695802706,
           0.09805949307393588,
           0.11025633887068373,
           0.21309687535392233,
           0.05054749467634709,
           0.18208644143536895,
           0.14726192785459757,
           0.15711355338348773,
           0.11142075108625298,
           0.21019735668702455,
           0.12507852827985436,
           0.138775403863556,
           0.1577331235712634
          ],
          [
           0.1860368373197458,
           0.0978786766994186,
           0.11055098980071275,
           0.21457781261237835,
           0.04878080752865436,
           0.1821242000299038,
           0.14803403522706898,
           0.15657537990716716,
           0.11198229693658622,
           0.21201546568814478,
           0.12435082403777045,
           0.13941023609449024,
           0.15900910051205755
          ],
          [
           0.18660027386503036,
           0.09771573748297785,
           0.11085799936403476,
           0.21604336363508178,
           0.04700130997710015,
           0.18216721616648285,
           0.14884909133086485,
           0.1560514080534911,
           0.11254875382592296,
           0.21382406221115674,
           0.12368148266568438,
           0.14008817879731303,
           0.1602843489742487
          ],
          [
           0.187159066126972,
           0.09756998339481758,
           0.11117633651222598,
           0.21749371128300135,
           0.04521015347604115,
           0.18221527067301455,
           0.1497018304171384,
           0.15554132672917453,
           0.11311938088036214,
           0.21562256688671314,
           0.12306902664611356,
           0.14080412880705798,
           0.16155781334267533
          ],
          [
           0.18771326408612707,
           0.09744073323351413,
           0.11150504098575811,
           0.218929045556218,
           0.04341019651312493,
           0.18226815385507403,
           0.15058754719317113,
           0.1550448310685809,
           0.11369350014584698,
           0.21741048533563867,
           0.12251181167054226,
           0.14155351631171376,
           0.1628285671472775
          ],
          [
           0.18826291805767853,
           0.09732731818619608,
           0.11184321933999535,
           0.22034956210240308,
           0.041606933933238756,
           0.18232566505814107,
           0.15150204219887237,
           0.15456162227217216,
           0.1142704916883674,
           0.21918739827146227,
           0.12200805122374164,
           0.14233225459970253,
           0.16409579835395421
          ],
          [
           0.18880807858937543,
           0.09722908320052079,
           0.11219004101158998,
           0.22175546092266543,
           0.03980978432890178,
           0.18238761225063907,
           0.15244157038663897,
           0.15409140745637903,
           0.11484978900603617,
           0.22095295276135718,
           0.12155584212440541,
           0.1431366923262139,
           0.16535879634386522
          ],
          [
           0.18934879636930796,
           0.09714538817043203,
           0.11254473446808654,
           0.2231469452495179,
           0.03803368124036934,
           0.18245381162683424,
           0.1534027935053998,
           0.15363389951388137,
           0.11543087475056799,
           0.22270685450806132,
           0.12115319016392515,
           0.14396356898828067,
           0.16661694039416247
          ],
          [
           0.1898851221426663,
           0.09707560894051873,
           0.11290658347320365,
           0.22452422057504562,
           0.0363005994720695,
           0.18252408722866909,
           0.15438273654097995,
           0.15318881698335282,
           0.11601327675081559,
           0.22444886103110467,
           0.12079803508807085,
           0.1448099739469776,
           0.1678696894900751
          ],
          [
           0.1904171066367005,
           0.09701913813612945,
           0.11327492349157782,
           0.2258874938101839,
           0.03464006886105771,
           0.18259827058565495,
           0.15537874822944894,
           0.15275588392778813,
           0.11659656432753185,
           0.22617877563991748,
           0.12048827429580448,
           0.14567330909237827,
           0.16911657331502522
          ],
          [
           0.19094480049315993,
           0.09697538582822948,
           0.11364913824953833,
           0.22723697255853645,
           0.0330871557078918,
           0.18267620037197296,
           0.15638846550814214,
           0.1523348298205831,
           0.11718034488614687,
           0.22789644210416482,
           0.12022178477170757,
           0.14655125508575498,
           0.17035718428153548
          ],
          [
           0.19146825420756935,
           0.09694378004336637,
           0.11402865646257924,
           0.22857286449026767,
           0.03167678785270628,
           0.18275772207998095,
           0.15740978167710853,
           0.15192538943860193,
           0.11776426077284669,
           0.2296017399380348,
           0.11999644291145035,
           0.14744174101199872,
           0.17159117048067524
          ],
          [
           0.19198751807474124,
           0.09692376713006344,
           0.11441294873542647,
           0.2298953768034925,
           0.03043562424436897,
           0.18284268770933837,
           0.1584408179939096,
           0.15152730276151444,
           0.11834798637839827,
           0.23129458022529678,
           0.11981014203377664,
           0.14834291721631218,
           0.17281822944162378
          ],
          [
           0.1925026421399793,
           0.09691481199355173,
           0.11480152463680168,
           0.23120471576216145,
           0.029375547822589346,
           0.1829309554710146,
           0.15947989840361776,
           0.1511403148767417,
           0.11893122547385412,
           0.23297490192086154,
           0.11966080749090904,
           0.14925313106991617,
           0.1740381026054425
          ],
          [
           0.19301367615547746,
           0.09691639821101242,
           0.11519392994802173,
           0.23250108630088182,
           0.02849257587915815,
           0.18302238950546265,
           0.16052552710379658,
           0.15076417588939917,
           0.11951370876232287,
           0.23464266857241683,
           0.11954640938818946,
           0.15017090540025324,
           0.17525057042845188
          ],
          [
           0.19352066954146166,
           0.09692802803949616,
           0.11558974408228853,
           0.23378469168827265,
           0.02777099674082703,
           0.18311685961427893,
           0.16157636865422242,
           0.15039864083667126,
           0.12009519163134096,
           0.23629786541261555,
           0.119464973001684,
           0.15109491932499938,
           0.17645544804066488
          ],
          [
           0.19402367135165827,
           0.09694922232846104,
           0.11598857766982675,
           0.2350557332415545,
           0.02718936006197863,
           0.18321424100470107,
           0.16263123035825827,
           0.1500434696061023,
           0.12067545209092029,
           0.23794049677834916,
           0.11941458703984068,
           0.15202399124115054,
           0.17765258139370596
          ],
          [
           0.19452273024270392,
           0.09697952034846058,
           0.116390070302787,
           0.23631441008596377,
           0.0267253321856902,
           0.18331441404631751,
           0.1636890466637359,
           0.14969842685732804,
           0.12125428888301988,
           0.2395705838189301,
           0.11939340993386917,
           0.15295706373709145,
           0.17884184384055354
          ],
          [
           0.19501789444715958,
           0.09701847954697704,
           0.11679388843298229,
           0.237560918953371,
           0.026358463896747744,
           0.18341726403939862,
           0.1647488653537148,
           0.14936328194681786,
           0.12183151974895379,
           0.24118816245966646,
           0.11939967436388192,
           0.1538931902144837,
           0.18002313309644546
          ],
          [
           0.195509211749806,
           0.09706567524175237,
           0.11719972341497677,
           0.23879545401521984,
           0.026071271974824447,
           0.18352268099428423,
           0.1658098353200878,
           0.1490378088552347,
           0.12240697984205094,
           0.24279328159137042,
           0.11943169023693262,
           0.15483152302647837,
           0.181196368536431
          ],
          [
           0.19599672946692934,
           0.09712070026126512,
           0.11760728968674017,
           0.2400182067454418,
           0.02584934750395395,
           0.18363055942128395,
           0.1668711957347891,
           0.14872178611705764,
           0.12298052027371136,
           0.24438600145989398,
           0.11948784633185808,
           0.15577130295812966,
           0.18236148879046538
          ]
         ]
        }
       ],
       "layout": {
        "font": {
         "family": "Courier New, monospace",
         "size": 10
        },
        "height": 500,
        "margin": {
         "b": 65,
         "l": 65,
         "r": 50,
         "t": 90
        },
        "scene": {
         "xaxis": {
          "autorange": "reversed",
          "tickformat": ".1f",
          "title": {
           "text": "Maturity (yrs)"
          }
         },
         "yaxis": {
          "tickformat": ".2%",
          "title": {
           "text": "Moneyness"
          }
         },
         "zaxis": {
          "tickformat": ".2%",
          "title": {
           "text": "Volatility"
          }
         }
        },
        "template": {
         "data": {
          "bar": [
           {
            "error_x": {
             "color": "#2a3f5f"
            },
            "error_y": {
             "color": "#2a3f5f"
            },
            "marker": {
             "line": {
              "color": "#E5ECF6",
              "width": 0.5
             },
             "pattern": {
              "fillmode": "overlay",
              "size": 10,
              "solidity": 0.2
             }
            },
            "type": "bar"
           }
          ],
          "barpolar": [
           {
            "marker": {
             "line": {
              "color": "#E5ECF6",
              "width": 0.5
             },
             "pattern": {
              "fillmode": "overlay",
              "size": 10,
              "solidity": 0.2
             }
            },
            "type": "barpolar"
           }
          ],
          "carpet": [
           {
            "aaxis": {
             "endlinecolor": "#2a3f5f",
             "gridcolor": "white",
             "linecolor": "white",
             "minorgridcolor": "white",
             "startlinecolor": "#2a3f5f"
            },
            "baxis": {
             "endlinecolor": "#2a3f5f",
             "gridcolor": "white",
             "linecolor": "white",
             "minorgridcolor": "white",
             "startlinecolor": "#2a3f5f"
            },
            "type": "carpet"
           }
          ],
          "choropleth": [
           {
            "colorbar": {
             "outlinewidth": 0,
             "ticks": ""
            },
            "type": "choropleth"
           }
          ],
          "contour": [
           {
            "colorbar": {
             "outlinewidth": 0,
             "ticks": ""
            },
            "colorscale": [
             [
              0,
              "#0d0887"
             ],
             [
              0.1111111111111111,
              "#46039f"
             ],
             [
              0.2222222222222222,
              "#7201a8"
             ],
             [
              0.3333333333333333,
              "#9c179e"
             ],
             [
              0.4444444444444444,
              "#bd3786"
             ],
             [
              0.5555555555555556,
              "#d8576b"
             ],
             [
              0.6666666666666666,
              "#ed7953"
             ],
             [
              0.7777777777777778,
              "#fb9f3a"
             ],
             [
              0.8888888888888888,
              "#fdca26"
             ],
             [
              1,
              "#f0f921"
             ]
            ],
            "type": "contour"
           }
          ],
          "contourcarpet": [
           {
            "colorbar": {
             "outlinewidth": 0,
             "ticks": ""
            },
            "type": "contourcarpet"
           }
          ],
          "heatmap": [
           {
            "colorbar": {
             "outlinewidth": 0,
             "ticks": ""
            },
            "colorscale": [
             [
              0,
              "#0d0887"
             ],
             [
              0.1111111111111111,
              "#46039f"
             ],
             [
              0.2222222222222222,
              "#7201a8"
             ],
             [
              0.3333333333333333,
              "#9c179e"
             ],
             [
              0.4444444444444444,
              "#bd3786"
             ],
             [
              0.5555555555555556,
              "#d8576b"
             ],
             [
              0.6666666666666666,
              "#ed7953"
             ],
             [
              0.7777777777777778,
              "#fb9f3a"
             ],
             [
              0.8888888888888888,
              "#fdca26"
             ],
             [
              1,
              "#f0f921"
             ]
            ],
            "type": "heatmap"
           }
          ],
          "heatmapgl": [
           {
            "colorbar": {
             "outlinewidth": 0,
             "ticks": ""
            },
            "colorscale": [
             [
              0,
              "#0d0887"
             ],
             [
              0.1111111111111111,
              "#46039f"
             ],
             [
              0.2222222222222222,
              "#7201a8"
             ],
             [
              0.3333333333333333,
              "#9c179e"
             ],
             [
              0.4444444444444444,
              "#bd3786"
             ],
             [
              0.5555555555555556,
              "#d8576b"
             ],
             [
              0.6666666666666666,
              "#ed7953"
             ],
             [
              0.7777777777777778,
              "#fb9f3a"
             ],
             [
              0.8888888888888888,
              "#fdca26"
             ],
             [
              1,
              "#f0f921"
             ]
            ],
            "type": "heatmapgl"
           }
          ],
          "histogram": [
           {
            "marker": {
             "pattern": {
              "fillmode": "overlay",
              "size": 10,
              "solidity": 0.2
             }
            },
            "type": "histogram"
           }
          ],
          "histogram2d": [
           {
            "colorbar": {
             "outlinewidth": 0,
             "ticks": ""
            },
            "colorscale": [
             [
              0,
              "#0d0887"
             ],
             [
              0.1111111111111111,
              "#46039f"
             ],
             [
              0.2222222222222222,
              "#7201a8"
             ],
             [
              0.3333333333333333,
              "#9c179e"
             ],
             [
              0.4444444444444444,
              "#bd3786"
             ],
             [
              0.5555555555555556,
              "#d8576b"
             ],
             [
              0.6666666666666666,
              "#ed7953"
             ],
             [
              0.7777777777777778,
              "#fb9f3a"
             ],
             [
              0.8888888888888888,
              "#fdca26"
             ],
             [
              1,
              "#f0f921"
             ]
            ],
            "type": "histogram2d"
           }
          ],
          "histogram2dcontour": [
           {
            "colorbar": {
             "outlinewidth": 0,
             "ticks": ""
            },
            "colorscale": [
             [
              0,
              "#0d0887"
             ],
             [
              0.1111111111111111,
              "#46039f"
             ],
             [
              0.2222222222222222,
              "#7201a8"
             ],
             [
              0.3333333333333333,
              "#9c179e"
             ],
             [
              0.4444444444444444,
              "#bd3786"
             ],
             [
              0.5555555555555556,
              "#d8576b"
             ],
             [
              0.6666666666666666,
              "#ed7953"
             ],
             [
              0.7777777777777778,
              "#fb9f3a"
             ],
             [
              0.8888888888888888,
              "#fdca26"
             ],
             [
              1,
              "#f0f921"
             ]
            ],
            "type": "histogram2dcontour"
           }
          ],
          "mesh3d": [
           {
            "colorbar": {
             "outlinewidth": 0,
             "ticks": ""
            },
            "type": "mesh3d"
           }
          ],
          "parcoords": [
           {
            "line": {
             "colorbar": {
              "outlinewidth": 0,
              "ticks": ""
             }
            },
            "type": "parcoords"
           }
          ],
          "pie": [
           {
            "automargin": true,
            "type": "pie"
           }
          ],
          "scatter": [
           {
            "marker": {
             "colorbar": {
              "outlinewidth": 0,
              "ticks": ""
             }
            },
            "type": "scatter"
           }
          ],
          "scatter3d": [
           {
            "line": {
             "colorbar": {
              "outlinewidth": 0,
              "ticks": ""
             }
            },
            "marker": {
             "colorbar": {
              "outlinewidth": 0,
              "ticks": ""
             }
            },
            "type": "scatter3d"
           }
          ],
          "scattercarpet": [
           {
            "marker": {
             "colorbar": {
              "outlinewidth": 0,
              "ticks": ""
             }
            },
            "type": "scattercarpet"
           }
          ],
          "scattergeo": [
           {
            "marker": {
             "colorbar": {
              "outlinewidth": 0,
              "ticks": ""
             }
            },
            "type": "scattergeo"
           }
          ],
          "scattergl": [
           {
            "marker": {
             "colorbar": {
              "outlinewidth": 0,
              "ticks": ""
             }
            },
            "type": "scattergl"
           }
          ],
          "scattermapbox": [
           {
            "marker": {
             "colorbar": {
              "outlinewidth": 0,
              "ticks": ""
             }
            },
            "type": "scattermapbox"
           }
          ],
          "scatterpolar": [
           {
            "marker": {
             "colorbar": {
              "outlinewidth": 0,
              "ticks": ""
             }
            },
            "type": "scatterpolar"
           }
          ],
          "scatterpolargl": [
           {
            "marker": {
             "colorbar": {
              "outlinewidth": 0,
              "ticks": ""
             }
            },
            "type": "scatterpolargl"
           }
          ],
          "scatterternary": [
           {
            "marker": {
             "colorbar": {
              "outlinewidth": 0,
              "ticks": ""
             }
            },
            "type": "scatterternary"
           }
          ],
          "surface": [
           {
            "colorbar": {
             "outlinewidth": 0,
             "ticks": ""
            },
            "colorscale": [
             [
              0,
              "#0d0887"
             ],
             [
              0.1111111111111111,
              "#46039f"
             ],
             [
              0.2222222222222222,
              "#7201a8"
             ],
             [
              0.3333333333333333,
              "#9c179e"
             ],
             [
              0.4444444444444444,
              "#bd3786"
             ],
             [
              0.5555555555555556,
              "#d8576b"
             ],
             [
              0.6666666666666666,
              "#ed7953"
             ],
             [
              0.7777777777777778,
              "#fb9f3a"
             ],
             [
              0.8888888888888888,
              "#fdca26"
             ],
             [
              1,
              "#f0f921"
             ]
            ],
            "type": "surface"
           }
          ],
          "table": [
           {
            "cells": {
             "fill": {
              "color": "#EBF0F8"
             },
             "line": {
              "color": "white"
             }
            },
            "header": {
             "fill": {
              "color": "#C8D4E3"
             },
             "line": {
              "color": "white"
             }
            },
            "type": "table"
           }
          ]
         },
         "layout": {
          "annotationdefaults": {
           "arrowcolor": "#2a3f5f",
           "arrowhead": 0,
           "arrowwidth": 1
          },
          "autotypenumbers": "strict",
          "coloraxis": {
           "colorbar": {
            "outlinewidth": 0,
            "ticks": ""
           }
          },
          "colorscale": {
           "diverging": [
            [
             0,
             "#8e0152"
            ],
            [
             0.1,
             "#c51b7d"
            ],
            [
             0.2,
             "#de77ae"
            ],
            [
             0.3,
             "#f1b6da"
            ],
            [
             0.4,
             "#fde0ef"
            ],
            [
             0.5,
             "#f7f7f7"
            ],
            [
             0.6,
             "#e6f5d0"
            ],
            [
             0.7,
             "#b8e186"
            ],
            [
             0.8,
             "#7fbc41"
            ],
            [
             0.9,
             "#4d9221"
            ],
            [
             1,
             "#276419"
            ]
           ],
           "sequential": [
            [
             0,
             "#0d0887"
            ],
            [
             0.1111111111111111,
             "#46039f"
            ],
            [
             0.2222222222222222,
             "#7201a8"
            ],
            [
             0.3333333333333333,
             "#9c179e"
            ],
            [
             0.4444444444444444,
             "#bd3786"
            ],
            [
             0.5555555555555556,
             "#d8576b"
            ],
            [
             0.6666666666666666,
             "#ed7953"
            ],
            [
             0.7777777777777778,
             "#fb9f3a"
            ],
            [
             0.8888888888888888,
             "#fdca26"
            ],
            [
             1,
             "#f0f921"
            ]
           ],
           "sequentialminus": [
            [
             0,
             "#0d0887"
            ],
            [
             0.1111111111111111,
             "#46039f"
            ],
            [
             0.2222222222222222,
             "#7201a8"
            ],
            [
             0.3333333333333333,
             "#9c179e"
            ],
            [
             0.4444444444444444,
             "#bd3786"
            ],
            [
             0.5555555555555556,
             "#d8576b"
            ],
            [
             0.6666666666666666,
             "#ed7953"
            ],
            [
             0.7777777777777778,
             "#fb9f3a"
            ],
            [
             0.8888888888888888,
             "#fdca26"
            ],
            [
             1,
             "#f0f921"
            ]
           ]
          },
          "colorway": [
           "#636efa",
           "#EF553B",
           "#00cc96",
           "#ab63fa",
           "#FFA15A",
           "#19d3f3",
           "#FF6692",
           "#B6E880",
           "#FF97FF",
           "#FECB52"
          ],
          "font": {
           "color": "#2a3f5f"
          },
          "geo": {
           "bgcolor": "white",
           "lakecolor": "white",
           "landcolor": "#E5ECF6",
           "showlakes": true,
           "showland": true,
           "subunitcolor": "white"
          },
          "hoverlabel": {
           "align": "left"
          },
          "hovermode": "closest",
          "mapbox": {
           "style": "light"
          },
          "paper_bgcolor": "white",
          "plot_bgcolor": "#E5ECF6",
          "polar": {
           "angularaxis": {
            "gridcolor": "white",
            "linecolor": "white",
            "ticks": ""
           },
           "bgcolor": "#E5ECF6",
           "radialaxis": {
            "gridcolor": "white",
            "linecolor": "white",
            "ticks": ""
           }
          },
          "scene": {
           "xaxis": {
            "backgroundcolor": "#E5ECF6",
            "gridcolor": "white",
            "gridwidth": 2,
            "linecolor": "white",
            "showbackground": true,
            "ticks": "",
            "zerolinecolor": "white"
           },
           "yaxis": {
            "backgroundcolor": "#E5ECF6",
            "gridcolor": "white",
            "gridwidth": 2,
            "linecolor": "white",
            "showbackground": true,
            "ticks": "",
            "zerolinecolor": "white"
           },
           "zaxis": {
            "backgroundcolor": "#E5ECF6",
            "gridcolor": "white",
            "gridwidth": 2,
            "linecolor": "white",
            "showbackground": true,
            "ticks": "",
            "zerolinecolor": "white"
           }
          },
          "shapedefaults": {
           "line": {
            "color": "#2a3f5f"
           }
          },
          "ternary": {
           "aaxis": {
            "gridcolor": "white",
            "linecolor": "white",
            "ticks": ""
           },
           "baxis": {
            "gridcolor": "white",
            "linecolor": "white",
            "ticks": ""
           },
           "bgcolor": "#E5ECF6",
           "caxis": {
            "gridcolor": "white",
            "linecolor": "white",
            "ticks": ""
           }
          },
          "title": {
           "x": 0.05
          },
          "xaxis": {
           "automargin": true,
           "gridcolor": "white",
           "linecolor": "white",
           "ticks": "",
           "title": {
            "standoff": 15
           },
           "zerolinecolor": "white",
           "zerolinewidth": 2
          },
          "yaxis": {
           "automargin": true,
           "gridcolor": "white",
           "linecolor": "white",
           "ticks": "",
           "title": {
            "standoff": 15
           },
           "zerolinecolor": "white",
           "zerolinewidth": 2
          }
         }
        },
        "title": {
         "text": "<b>Volatility Surface</b>",
         "x": 0.5,
         "xanchor": "center",
         "y": 0.95,
         "yanchor": "top"
        },
        "width": 1000
       }
      },
      "text/html": [
       "<div>                            <div id=\"018b21eb-9b06-4b57-a962-9f1bb383aaf8\" class=\"plotly-graph-div\" style=\"height:500px; width:1000px;\"></div>            <script type=\"text/javascript\">                require([\"plotly\"], function(Plotly) {                    window.PLOTLYENV=window.PLOTLYENV || {};                                    if (document.getElementById(\"018b21eb-9b06-4b57-a962-9f1bb383aaf8\")) {                    Plotly.newPlot(                        \"018b21eb-9b06-4b57-a962-9f1bb383aaf8\",                        [{\"colorscale\":[[0.0,\"rgb(0, 147, 146)\"],[0.16666666666666666,\"rgb(57, 177, 133)\"],[0.3333333333333333,\"rgb(156, 203, 134)\"],[0.5,\"rgb(233, 226, 156)\"],[0.6666666666666666,\"rgb(238, 180, 121)\"],[0.8333333333333334,\"rgb(232, 132, 113)\"],[1.0,\"rgb(207, 89, 126)\"]],\"contours\":{\"x\":{\"color\":\"red\",\"show\":true,\"size\":0.1}},\"hidesurface\":true,\"hovertemplate\":\"Moneyness:  %{y: .2%}<br>Maturity (yrs): %{x: .1f}<br>Volatility: %{z: .2f}<extra></extra>\",\"type\":\"surface\",\"x\":[0.0,0.25,0.5,0.75,1.0,1.25,1.5,1.75,2.0,2.25,2.5,2.75,3.0],\"y\":[0.4,0.41212121212121217,0.42424242424242425,0.4363636363636364,0.4484848484848485,0.46060606060606063,0.4727272727272728,0.48484848484848486,0.496969696969697,0.5090909090909091,0.5212121212121212,0.5333333333333334,0.5454545454545455,0.5575757575757576,0.5696969696969698,0.5818181818181819,0.593939393939394,0.6060606060606061,0.6181818181818182,0.6303030303030304,0.6424242424242425,0.6545454545454545,0.6666666666666667,0.6787878787878788,0.6909090909090909,0.7030303030303031,0.7151515151515152,0.7272727272727273,0.7393939393939395,0.7515151515151516,0.7636363636363637,0.7757575757575759,0.787878787878788,0.8,0.8121212121212122,0.8242424242424243,0.8363636363636364,0.8484848484848486,0.8606060606060607,0.8727272727272728,0.884848484848485,0.8969696969696971,0.9090909090909092,0.9212121212121213,0.9333333333333335,0.9454545454545455,0.9575757575757576,0.9696969696969698,0.9818181818181819,0.993939393939394,1.0060606060606063,1.0181818181818183,1.0303030303030303,1.0424242424242425,1.0545454545454547,1.0666666666666669,1.078787878787879,1.090909090909091,1.103030303030303,1.1151515151515152,1.1272727272727274,1.1393939393939396,1.1515151515151516,1.1636363636363638,1.1757575757575758,1.187878787878788,1.2000000000000002,1.2121212121212124,1.2242424242424244,1.2363636363636366,1.2484848484848485,1.2606060606060607,1.272727272727273,1.2848484848484851,1.296969696969697,1.309090909090909,1.3212121212121213,1.3333333333333335,1.3454545454545457,1.3575757575757579,1.3696969696969699,1.3818181818181818,1.393939393939394,1.4060606060606062,1.4181818181818184,1.4303030303030306,1.4424242424242424,1.4545454545454546,1.4666666666666668,1.478787878787879,1.4909090909090912,1.5030303030303034,1.5151515151515151,1.5272727272727273,1.5393939393939395,1.5515151515151517,1.563636363636364,1.5757575757575761,1.587878787878788,1.6],\"z\":[[0.1436630316426581,0.2223735760141957,0.25680578224727524,0.21550627906209016,0.25145185251501,0.26154025405284004,0.47571750830812404,0.30397139728630496,0.20106470332579038,0.3150397302437705,0.3469978680013829,0.48826366877777894,0.3193164467952868],[0.1431130966706969,0.21820467944018346,0.25088801208272915,0.2113527182407833,0.24581204562213366,0.25728369195927997,0.4663257569863325,0.2988788225141878,0.19736531268314056,0.30925758714131996,0.34139658573625437,0.47745960114951536,0.31278756065288144],[0.14264861571743814,0.21419603567185794,0.24521794600644425,0.2073396093554151,0.24040792159907234,0.2532633029240302,0.4572094894899412,0.2940088972378643,0.1937806401331692,0.3036241662877764,0.33595679499260167,0.46703183460689146,0.3064506036644014],[0.14226658506948586,0.2103370234553097,0.23977814093892336,0.20346076925183518,0.23522206849803362,0.24946235200909003,0.44835154457185716,0.28934604346619575,0.19030420484425623,0.29813183935594256,0.33066881112328406,0.45695485173097955,0.3002942044889333],[0.1419640226354149,0.2066180343538531,0.23455290143405988,0.19971076325147022,0.23023879637286102,0.24586577293893372,0.4397362576074591,0.28487620262826113,0.18693012455710045,0.2927736698355571,0.32552378342971866,0.44720551370277783,0.29430800909467386],[0.14173794171242998,0.20303035362041405,0.22952806817882995,0.1960848483982899,0.22544392460626417,0.24245995544295065,0.431349293920417,0.280586650879999,0.18365305254323042,0.2875433481722267,0.32051360359210024,0.4377627810852851,0.28848257199452065],[0.14158533167264822,0.19956605795493587,0.22469083746958146,0.19257892723076137,0.22082460033733214,0.23923256422536532,0.42317750474151805,0.2764658410921642,0.1804681233281802,0.2824351362683709,0.3156308263697545,0.42860747403912375,0.2828092625841812],[0.1415031452535918,0.1962179273918271,0.22002960650178896,0.1891895107551056,0.21636914276664188,0.23617238420482184,0.415208802261026,0.2725032670839015,0.17737090583525256,0.27744382005823515,0.31086860066579053,0.41972206557286645,0.2772801842867972],[0.14148829204936755,0.1929793690689769,0.21553384028003178,0.18591368953688786,0.2120669091004624,0.233269187688691,0.40743205086727563,0.26868934649505316,0.1743573628454433,0.2725646691074367,0.30622060938695184,0.4110905026049046,0.27188810462372337],[0.14153763768798197,0.1898443510332332,0.21119395672366303,0.18274911200988742,0.2079081786750509,0.23051361995437997,0.39983697217167247,0.26501531934800854,0.171423815861413,0.26779340238213456,0.30168101680018783,0.402698050550928,0.26662639466607757],[0.14164800806321515,0.18680734456038559,0.20700122715659824,0.17969396923091957,0.2038840524232164,0.22789710035087704,0.39241406183010435,0.26147315987502806,0.16856691461850193,0.26312615949314977,0.2972444223062235,0.3945311579028001,0.26148897659353987],[0.1418161978824239,0.18386327372805228,0.20294768986116796,0.1767469853897745,0.1999863653432465,0.22541173654561233,0.3851545165036964,0.25805549960864776,0.16578361061145044,0.25855947685340985,0.292905819728205,0.3865773378711071,0.25647027830915087],[0.14203898270819051,0.18100747119074723,0.1990260747722007,0.17390741341422258,0.19620761003160953,0.22305024995272224,0.37805016957388204,0.25475556007327954,0.16307113410764756,0.2540902682984851,0.2886605613587758,0.3788250646557477,0.2515651942419283],[0.142313133621906,0.17823563927807823,0.19522973770845772,0.17117503498748277,0.19254086966602632,0.2208059107105345,0.37109343445027804,0.2515670936924956,0.16042697420097504,0.24971580981393135,0.2845043261282292,0.3712636823104091,0.24676905162109253],[0.14263543362676798,0.1755438156774579,0.1915526027996758,0.16855016421293634,0.18897975909030523,0.218672480845179,0.3642772544945964,0.24848433175195445,0.15784886152817404,0.24543372809282094,0.28043309135480826,0.36388332449610516,0.2420775816328873],[0.14300269493727402,0.17292834307809934,0.18798911198077997,0.16603365400859865,0.18551837286900688,0.21664416447652982,0.35759505873737885,0.2455019384427149,0.1553347533248773,0.241241992714505,0.2764431076198109,0.35667484369055485,0.2374868949783497],[0.14341177636877422,0.1703858422482942,0.18453418059962956,0.16362690408000807,0.18215123935809943,0.21471556410225742,0.35104072269279263,0.24261497016184114,0.1528828205431208,0.23713891179279903,0.2725308763780742,0.34962974864538,0.23299346144182337],[0.14385960013731983,0.16791318809687314,0.18118315832829826,0.16133186899156185,0.1788732799847939,0.2128816421434588,0.3446085336848641,0.23981883937302328,0.15049143678787966,0.23312313098917142,0.2686931299712082,0.3427401490708924,0.22859409315855517],[0.14434316749802115,0.16550748833537443,0.17793179468608952,0.1591510644206127,0.17567977305163757,0.21113768705735972,0.3382931601902178,0.2371092824344145,0.1481591688581882,0.22919363582413077,0.26492681375861543,0.335998706685729,0.224285931337723],[0.14485957277960054,0.1631660644122212,0.17477620857982334,0.1570875691281476,0.17256632148138673,0.20947928342385358,0.332089624780799,0.23448233088798973,0.1458847686995851,0.22534975724702216,0.2612290701215262,0.3293985919015233,0.220066436256446],[0.14540601550433338,0.16088643443608755,0.17171286134697547,0.15514501951757098,0.16952882400393932,0.20790228549706757,0.3259932803176779,0.2319342857776136,0.14366716658962084,0.22159118043905965,0.25759722412927344,0.3229334455257547,0.21593338039197083],[0.14597981040785077,0.15866629784417013,0.16873853285288087,0.15332759290163842,0.16656344935767728,0.20640279378385976,0.319999789106024,0.2294616946242394,0.14150546538740413,0.21791795682371767,0.25402877068591634,0.31659734496265607,0.21188484460397508],[0.14657839528597144,0.15650352160355396,0.16585030024669986,0.15163997481164634,0.1636666131373726,0.20497713427065276,0.3141051047734036,0.2270613307382457,0.13939893568192865,0.21433051923829657,0.25052136299993183,0.310384774475623,0.2079192173169697],[0.14719933669153007,0.15439612776129313,0.16304551902401795,0.15008730496453326,0.16083495697130443,0.20362183997032723,0.3083054566801727,0.2247301745925682,0.13734701167236046,0.21082970017458216,0.24707280224076217,0.30429059914748835,0.20403519668365075],[0.14784033358089516,0.1523422821820534,0.16032180607828161,0.1486750960174492,0.15806532975299697,0.20233363450365466,0.3025973367131703,0.22246539701730722,0.13534928760668558,0.20741675291716236,0.24368102826407215,0.2983100422393798,0.2002317957325905],[0.14849921906710395,0.1503402843318883,0.1576770244499782,0.1474091192238808,0.15535477068932926,0.20110941746626176,0.2969774883532106,0.22026434400799885,0.1334055145931894,0.20409337528492927,0.2403441113031527,0.29243866570643967,0.19650835051584842],[0.14917396047531684,0.14838855798349454,0.1551092695025543,0.1462952518680435,0.1527004939577188,0.1999462513634574,0.29144289794399797,0.2181245229666438,0.131515597582321,0.20086173550200356,0.23706024453734587,0.2866723536809088,0.1928645312707792],[0.14986265791864126,0.14648564273260026,0.15261685626844007,0.14533928323870754,0.15009987479154738,0.19884134992228597,0.28599078812582734,0.21604359021761527,0.1296795922948682,0.19772449947379098,0.23382773746002491,0.28100729878122177,0.18930035659106287],[0.15056354162085328,0.1446301862273702,0.1501983077180126,0.14454667921349207,0.1475504368356534,0.19779206761359194,0.28061861343253763,0.214019339660341,0.1278977018465934,0.1946848584053468,0.2306450099787803,0.275439991150896,0.18581621055858594],[0.1512749682100297,0.14282093702319962,0.147852343709739,0.1439223103953147,0.14504984063319257,0.1967958902372723,0.27532405808525806,0.21204969243767668,0.12617027279049445,0.19174655525558693,0.22751058718925987,0.2699672101739983,0.18241286271209267],[0.15199541619629267,0.1410567379842859,0.14557787038194173,0.14347015497424154,0.14259587312192656,0.19585042644171258,0.27010503605203323,0.21013268751357286,0.12449779026714271,0.1889139079574537,0.22442309477177733,0.2645860188555486,0.1790914906098929],[0.1527234808303662,0.13933652016116962,0.14337396974664587,0.14319299438668856,0.14018643803246628,0.19495340006404602,0.2649596934788339,0.20826647306635665,0.12288087192331579,0.1861918266435548,0.22138125496646355,0.25929376089593287,0.17585370456922955],[0.1534578685195788,0.13765929708021643,0.14123988924495107,0.14309212615931333,0.13781954709350785,0.19410264319161813,0.25988641363490356,0.2064492986149653,0.12132026023246402,0.18358582130654388,0.21838388308852458,0.2540880605285053,0.172701573918435],[0.1541973909561423,0.13602415938696477,0.13917503102273293,0.14316712238678939,0.13549331195993364,0.1932960898571924,0.2548838245538215,0.2046795078050572,0.11981681283152888,0.1811019954269479,0.21542988455015283,0.24896682522913574,0.16963765376213064],[0.15494095909036634,0.13443026979054268,0.13717894068686526,0.14341566241018028,0.13320593678905873,0.19253177029115062,0.24995080959057853,0.20295553179028197,0.11837149048245994,0.17874702019179478,0.21251825235991112,0.2439282514450815,0.16666501081641633],[0.15568757705997135,0.13287685826111031,0.1352512953075185,0.14383346332936328,0.13095571139847986,0.19180780566343594,0.2450865211533521,0.20127588315126818,0.11698534227966284,0.17652808313530863,0.20964806507397507,0.23897083352734122,0.1637872463049881],[0.1564363361665257,0.13136321743664567,0.13339189044362473,0.1444143220730432,0.12874100494609636,0.19112240325639612,0.2402903979046721,0.1996391503012859,0.1156594877635315,0.17445280455947648,0.20681848517654614,0.2340933760838736,0.16100851321125553],[0.15718640897171055,0.129888698199466,0.13160062598870292,0.14515026939490544,0.12656026007907284,0.1904738520171212,0.2355621857572424,0.1980439923331247,0.11439509567236224,0.17252911521581804,0.2040287578689969,0.22929500999797553,0.1583335243652625],[0.15793704356983207,0.12845270538679923,0.12987749066536486,0.14603182207496954,0.12441198750391118,0.18986051844445648,0.23090196301014895,0.19648913426664635,0.11319335917682283,0.170765089790952,0.2012782102488935,0.22457521237244135,0.15576754694580905],[0.15868755807881857,0.12705469360355454,0.12822254504126684,0.14704830785994202,0.12229476093451179,0.1892808427716969,0.22631016997448417,0.19497336266078885,0.11205546759734596,0.16916873309112604,0.19856625086090893,0.21993383065955724,0.15331637808040693],[0.15943733537983412,0.12569416310930598,0.1266359029988819,0.14818823070597417,0.12020721237919947,0.18873333541108595,0.22178764341337578,0.19349552155763397,0.1109825748063977,0.16774771973461539,0.19589236960173076,0.21537111121045052,0.1509862954733429],[0.16018581812547047,0.1243706557554539,0.12511771166725216,0.1494396427167611,0.1181480277312627,0.18821657363077612,0.21733565605558564,0.19205450872948546,0.10997576476036855,0.16650909367797104,0.1932561379603123,0.21088773241212666,0.14878397660621595],[0.16093250402811282,0.12308375095264079,0.1236681299155804,0.15079049324613858,0.11611594263064956,0.18772919843887761,0.21295596131431502,0.1906492722029081,0.10903601487886974,0.16545894067103872,0.19065720957311058,0.20648484245937043,0.14671638033548895],[0.16167694143326633,0.12183306165280408,0.12228730561416859,0.15222893324248096,0.11410973856714801,0.18726991165266477,0.20865084312694862,0.18927880703632055,0.10816415827370081,0.16460205388433774,0.1880953210711705,0.20216410160866016,0.14479058601257655],[0.162418725177262,0.12061823033479749,0.12097535198375178,0.1537435619060358,0.11212823919768314,0.1868374731340903,0.20442317049250097,0.18794215233003927,0.10736084609929304,0.16394161909078703,0.1855702931919156,0.19792772845296833,0.1430135879190412],[0.16315749272455987,0.1194389249872858,0.11973232347335616,0.1553236112182905,0.11017030685234534,0.18643069817532879,0.2002764557784917,0.18663838844979885,0.10662651151868384,0.1634789492226884,0.18308203212315705,0.19377854930391342,0.14139204706184355],[0.16389292057668797,0.11829483508762349,0.1185581917208639,0.15695907065212997,0.10823483920542984,0.18604845502041806,0.19621491514758388,0.185366634446591,0.10596133691943217,0.16321329732995513,0.18063053103990326,0.18972004913000512,0.13993200814342466],[0.16462472094256664,0.11718566758060249,0.11745282224913817,0.15864075888644633,0.10632076608917577,0.1856896625109684,0.19224352846331103,0.18412604565731913,0.1053652260406169,0.16314177114051034,0.17821587178596038,0.18575642163418618,0.1386385962875184],[0.1653526386582922,0.11611114286624377,0.11641595262256303,0.16036035171543034,0.10442704642903101,0.18535328784566427,0.1883680947268924,0.18291581147222852,0.10483778256256493,0.16325936198961466,0.1758382266418051,0.18189261492509295,0.1375157147971328],[0.16607644834349183,0.11507099081107577,0.11544717282329434,0.16211037598680927,0.10255266528020197,0.18503834444466247,0.18459527745107338,0.181735153256413,0.10437829645755728,0.16355908758794202,0.1734978601077179,0.17813436783101888,0.13656577031501624],[0.1667959517806761,0.11406494680254747,0.11454590859435881,0.16388417886687734,0.10069663094592798,0.18474388991128024,0.18093263242297303,0.18058332241377476,0.10398573901371912,0.1640322346067444,0.17119513061656405,0.1744882302561405,0.13578945357997974],[0.16751097550386362,0.11309274787105035,0.11371140843251262,0.1656758805194001,0.09885797215847275,0.1844690240843693,0.1773886081722411,0.1794595985830902,0.10365876695650883,0.16466867615748243,0.1689304920739261,0.17096155919791894,0.13518560125710347],[0.16822136858268533,0.11215412890851038,0.11294273479691032,0.16748031679629558,0.0970357353040917,0.18421288717564657,0.1739725074181184,0.1783632879563349,0.103395735550204,0.1654572329623896,0.16670449510458535,0.16756248036735163,0.13475115677767474],[0.16892700058868912,0.11124881901629018,0.11223875993516161,0.1692929770380644,0.09522898167348302,0.18397465798708873,0.17069439629492267,0.17729372171082897,0.10319472002236646,0.16638604606643248,0.16451778786406798,0.16429980417772408,0.13448123678450427],[0.1696277597305915,0.11037653801810852,0.11159816652723403,0.17110994072697047,0.09343678471920122,0.1837535522038893,0.16756494795510563,0.17625025454701052,0.1030535441751274,0.1674429326908165,0.16237111625243214,0.16118288477192647,0.13436929684886229],[0.17032355114609926,0.10953699317566686,0.1110194531252832,0.17292781559734208,0.09165822730149065,0.1835488207592853,0.16459520911494924,0.17523226332461372,0.10296981467653371,0.16861570370274956,0.16026532334572496,0.15822141246957094,0.13440737836026773],[0.17101429533838247,0.10872987614548436,0.11050094414253642,0.17474367890102527,0.08989239890385792,0.18335974826772572,0.16179628315768002,0.1742391457905104,0.10294095929524509,0.169892429299617,0.158201347839644,0.15542513427356267,0.1345864102992612],[0.17169992674586776,0.10795486021496294,0.1100408039358709,0.17655502283646657,0.08813839279958875,0.18318565152338084,0.15917893215639234,0.17327031939205922,0.10296426726419962,0.1712616472503408,0.156180221281611,0.15280350437757287,0.13489653630922604],[0.17238039243484515,0.10721159785387907,0.10963705435201643,0.17835970464600034,0.08639530315041583,0.1830258780611595,0.1567531124654921,0.17232522017027327,0.10303693002499137,0.17271251433449508,0.15420306385377774,0.15036527684320353,0.13532743904094538],[0.1730556509049062,0.10649971861427925,0.10928759497949778,0.18015590153256655,0.08466222201877667,0.18287980477773305,0.1545274729488329,0.1714033017275616,0.10315608078987556,0.17423490601466793,0.15227107846305,0.14811806466249586,0.13586863897834595],[0.17372567099802616,0.10581882740721171,0.10899022527516183,0.18194207031027354,0.08293823627580796,0.1827468366101838,0.15250885861507973,0.1705040342651945,0.10331883162761678,0.17581947190051675,0.1503855428980256,0.14606790102457964,0.1365097521296314],[0.17439043090267137,0.1051685031789562,0.10874266771689824,0.18371691155371617,0.08122242438869266,0.18262640527009577,0.15070187152007178,0.16962690368599193,0.10352230709444495,0.17745765553793424,0.1485477998301371,0.14421884662869658,0.13724069838812936],[0.1750499172449842,0.10454829800259759,0.1085425911687989,0.18547933792457505,0.07951385307369782,0.18251796803102802,0.14910854147281483,0.16877141075806015,0.10376367375630421,0.179141686921207,0.14675924447059754,0.14257268818474572,0.13805185878460388],[0.17570412425971502,0.10395773659316442,0.10838763372284835,0.1872284463119697,0.07781157380589125,0.18242100656739352,0.14772814924955172,0.16793707033568567,0.10404016525412887,0.18086455530517068,0.1450213097490495,0.1411287659200087,0.13893418461383325],[0.176353053034098,0.10339631624641536,0.10827542439074503,0.18896349341099136,0.07611461918415288,0.1823350258428993,0.14655722561015183,0.167123410633757,0.10434910282954576,0.1826199687345647,0.14333544895635383,0.1398839524210465,0.13987926439393927],[0.1769967108184469,0.10286350719300257,0.10820360314801006,0.1906838743713158,0.07442199916224194,0.18225955304672528,0.14558972457412406,0.16632997255232917,0.10468791144267324,0.18440230545628078,0.14170311589360693,0.13883278457064172,0.14087935602836496],[0.17763511039772806,0.1023587533515275,0.10816983896801573,0.19238910416717994,0.07273269717567404,0.18219413657573053,0.1448173452311266,0.1655563090481456,0.10505413177289076,0.18620656119203727,0.14012574269108063,0.13796772953533876,0.14192739177358937],[0.17826826951886124,0.10188147345623821,0.10817184561551299,0.19407880136611017,0.0710456662234932,0.182138345060991,0.1442299585984706,0.16480198455014228,0.10544542849998506,0.18802829520675932,0.13860471560056564,0.13727954959983157,0.1430169630806018],[0.17889621036890255,0.1014310625281089,0.10820739508963052,0.19575267400291715,0.06935982500900599,0.18209176643704636,0.14381608808933008,0.16406657441613307,0.10585959532325183,0.1898635772434524,0.13714134921574547,0.13675772232580863,0.14414229142642873],[0.1795189590997122,0.1010068936520472,0.10827432870978823,0.1974105072952978,0.0676740543122289,0.18205400705226898,0.14356339417940217,0.16334966442803256,0.10629455719837114,0.19170893670887643,0.13573685972778718,0.13639087266044186,0.14529819014463644],[0.1801365453950462,0.10060832001819395,0.10837056592169744,0.19905215296641987,0.06598719387156231,0.18202469081880204,0.1434591233453313,0.1626508503231352,0.10674837026515326,0.19356131496881787,0.13439233796461017,0.13616718053975285,0.14648002117127323],[0.1807490020763805,0.10023467718184688,0.10849411096394075,0.2006775199671788,0.06429804021206889,0.18200345840056412,0.14349049454599597,0.16196973735909664,0.10721921991208208,0.19541802122271995,0.13310872307779809,0.136074738262882,0.14768364964138922],[0.1813563647440944,0.09988528549452136,0.1086430575795533,0.20228656641593612,0.062605346102233,0.18198996643784526,0.14364500989899098,0.16130593991039996,0.10770541738336799,0.197276692148853,0.13188677781610098,0.13610184343248313,0.14890539844372838],[0.18195867145090922,0.09955945265804697,0.10881559198365792,0.20387929259633364,0.06090782269621717,0.18198388680706346,0.14391068735880558,0.16065908109420673,0.10820539528698017,0.1991352553189035,0.13072706634590017,0.13623722332251167,0.15014200417559223],[0.18255596240477562,0.0992564763543228,0.10900999431029866,0.20545573487409774,0.059204145996477685,0.18198490591427613,0.144276221049766,0.1600287924236011,0.10871770231244983,0.20099189625397385,0.1296299355376951,0.13647019398321156,0.15139057542474563],[0.18314827969863226,0.09897564690528649,0.10922463876211691,0.20701596041182302,0.05749297016530081,0.18199272402108949,0.14473107942933675,0.15941471348634906,0.10924099741841858,0.20284502891537162,0.12859550053020044,0.13679076200245957,0.15264855391986584],[0.18373566706468597,0.09871624992062737,0.10945799267832351,0.2085600625765881,0.05577295160093893,0.1820070546016392,0.14526555325931792,0.15881649164738187,0.10977404370411631,0.20469326937971202,0.12762363521366074,0.1371896789977843,0.15391367881194432],[0.184318169651064,0.09847756889459325,0.10970861472213847,0.21008815694917699,0.05404278985151657,0.18202762372934592,0.14587076526551634,0.15823378177331957,0.11031570213749099,0.20653541242831466,0.1267139680524306,0.1376584592637541,0.15518395415372327],[0.18489583381889563,0.0982588877176896,0.1099751523707495,0.21160037785582145,0.052301294792915135,0.18205416949220243,0.14653865214649123,0.15766624597742646,0.11086492527620043,0.20837041077786203,0.12586588341107274,0.13818937021164004,0.15645761951292236],[0.18546870695802706,0.09805949307393588,0.11025633887068373,0.21309687535392233,0.05054749467634709,0.18208644143536895,0.14726192785459757,0.15711355338348773,0.11142075108625298,0.21019735668702455,0.12507852827985436,0.138775403863556,0.1577331235712634],[0.1860368373197458,0.0978786766994186,0.11055098980071275,0.21457781261237835,0.04878080752865436,0.1821242000299038,0.14803403522706898,0.15657537990716716,0.11198229693658622,0.21201546568814478,0.12435082403777045,0.13941023609449024,0.15900910051205755],[0.18660027386503036,0.09771573748297785,0.11085799936403476,0.21604336363508178,0.04700130997710015,0.18216721616648285,0.14884909133086485,0.1560514080534911,0.11254875382592296,0.21382406221115674,0.12368148266568438,0.14008817879731303,0.1602843489742487],[0.187159066126972,0.09756998339481758,0.11117633651222598,0.21749371128300135,0.04521015347604115,0.18221527067301455,0.1497018304171384,0.15554132672917453,0.11311938088036214,0.21562256688671314,0.12306902664611356,0.14080412880705798,0.16155781334267533],[0.18771326408612707,0.09744073323351413,0.11150504098575811,0.218929045556218,0.04341019651312493,0.18226815385507403,0.15058754719317113,0.1550448310685809,0.11369350014584698,0.21741048533563867,0.12251181167054226,0.14155351631171376,0.1628285671472775],[0.18826291805767853,0.09732731818619608,0.11184321933999535,0.22034956210240308,0.041606933933238756,0.18232566505814107,0.15150204219887237,0.15456162227217216,0.1142704916883674,0.21918739827146227,0.12200805122374164,0.14233225459970253,0.16409579835395421],[0.18880807858937543,0.09722908320052079,0.11219004101158998,0.22175546092266543,0.03980978432890178,0.18238761225063907,0.15244157038663897,0.15409140745637903,0.11484978900603617,0.22095295276135718,0.12155584212440541,0.1431366923262139,0.16535879634386522],[0.18934879636930796,0.09714538817043203,0.11254473446808654,0.2231469452495179,0.03803368124036934,0.18245381162683424,0.1534027935053998,0.15363389951388137,0.11543087475056799,0.22270685450806132,0.12115319016392515,0.14396356898828067,0.16661694039416247],[0.1898851221426663,0.09707560894051873,0.11290658347320365,0.22452422057504562,0.0363005994720695,0.18252408722866909,0.15438273654097995,0.15318881698335282,0.11601327675081559,0.22444886103110467,0.12079803508807085,0.1448099739469776,0.1678696894900751],[0.1904171066367005,0.09701913813612945,0.11327492349157782,0.2258874938101839,0.03464006886105771,0.18259827058565495,0.15537874822944894,0.15275588392778813,0.11659656432753185,0.22617877563991748,0.12048827429580448,0.14567330909237827,0.16911657331502522],[0.19094480049315993,0.09697538582822948,0.11364913824953833,0.22723697255853645,0.0330871557078918,0.18267620037197296,0.15638846550814214,0.1523348298205831,0.11718034488614687,0.22789644210416482,0.12022178477170757,0.14655125508575498,0.17035718428153548],[0.19146825420756935,0.09694378004336637,0.11402865646257924,0.22857286449026767,0.03167678785270628,0.18275772207998095,0.15740978167710853,0.15192538943860193,0.11776426077284669,0.2296017399380348,0.11999644291145035,0.14744174101199872,0.17159117048067524],[0.19198751807474124,0.09692376713006344,0.11441294873542647,0.2298953768034925,0.03043562424436897,0.18284268770933837,0.1584408179939096,0.15152730276151444,0.11834798637839827,0.23129458022529678,0.11981014203377664,0.14834291721631218,0.17281822944162378],[0.1925026421399793,0.09691481199355173,0.11480152463680168,0.23120471576216145,0.029375547822589346,0.1829309554710146,0.15947989840361776,0.1511403148767417,0.11893122547385412,0.23297490192086154,0.11966080749090904,0.14925313106991617,0.1740381026054425],[0.19301367615547746,0.09691639821101242,0.11519392994802173,0.23250108630088182,0.02849257587915815,0.18302238950546265,0.16052552710379658,0.15076417588939917,0.11951370876232287,0.23464266857241683,0.11954640938818946,0.15017090540025324,0.17525057042845188],[0.19352066954146166,0.09692802803949616,0.11558974408228853,0.23378469168827265,0.02777099674082703,0.18311685961427893,0.16157636865422242,0.15039864083667126,0.12009519163134096,0.23629786541261555,0.119464973001684,0.15109491932499938,0.17645544804066488],[0.19402367135165827,0.09694922232846104,0.11598857766982675,0.2350557332415545,0.02718936006197863,0.18321424100470107,0.16263123035825827,0.1500434696061023,0.12067545209092029,0.23794049677834916,0.11941458703984068,0.15202399124115054,0.17765258139370596],[0.19452273024270392,0.09697952034846058,0.116390070302787,0.23631441008596377,0.0267253321856902,0.18331441404631751,0.1636890466637359,0.14969842685732804,0.12125428888301988,0.2395705838189301,0.11939340993386917,0.15295706373709145,0.17884184384055354],[0.19501789444715958,0.09701847954697704,0.11679388843298229,0.237560918953371,0.026358463896747744,0.18341726403939862,0.1647488653537148,0.14936328194681786,0.12183151974895379,0.24118816245966646,0.11939967436388192,0.1538931902144837,0.18002313309644546],[0.195509211749806,0.09706567524175237,0.11719972341497677,0.23879545401521984,0.026071271974824447,0.18352268099428423,0.1658098353200878,0.1490378088552347,0.12240697984205094,0.24279328159137042,0.11943169023693262,0.15483152302647837,0.181196368536431],[0.19599672946692934,0.09712070026126512,0.11760728968674017,0.2400182067454418,0.02584934750395395,0.18363055942128395,0.1668711957347891,0.14872178611705764,0.12298052027371136,0.24438600145989398,0.11948784633185808,0.15577130295812966,0.18236148879046538]]}],                        {\"font\":{\"family\":\"Courier New, monospace\",\"size\":10},\"height\":500,\"margin\":{\"b\":65,\"l\":65,\"r\":50,\"t\":90},\"scene\":{\"xaxis\":{\"autorange\":\"reversed\",\"tickformat\":\".1f\",\"title\":{\"text\":\"Maturity (yrs)\"}},\"yaxis\":{\"tickformat\":\".2%\",\"title\":{\"text\":\"Moneyness\"}},\"zaxis\":{\"tickformat\":\".2%\",\"title\":{\"text\":\"Volatility\"}}},\"template\":{\"data\":{\"bar\":[{\"error_x\":{\"color\":\"#2a3f5f\"},\"error_y\":{\"color\":\"#2a3f5f\"},\"marker\":{\"line\":{\"color\":\"#E5ECF6\",\"width\":0.5},\"pattern\":{\"fillmode\":\"overlay\",\"size\":10,\"solidity\":0.2}},\"type\":\"bar\"}],\"barpolar\":[{\"marker\":{\"line\":{\"color\":\"#E5ECF6\",\"width\":0.5},\"pattern\":{\"fillmode\":\"overlay\",\"size\":10,\"solidity\":0.2}},\"type\":\"barpolar\"}],\"carpet\":[{\"aaxis\":{\"endlinecolor\":\"#2a3f5f\",\"gridcolor\":\"white\",\"linecolor\":\"white\",\"minorgridcolor\":\"white\",\"startlinecolor\":\"#2a3f5f\"},\"baxis\":{\"endlinecolor\":\"#2a3f5f\",\"gridcolor\":\"white\",\"linecolor\":\"white\",\"minorgridcolor\":\"white\",\"startlinecolor\":\"#2a3f5f\"},\"type\":\"carpet\"}],\"choropleth\":[{\"colorbar\":{\"outlinewidth\":0,\"ticks\":\"\"},\"type\":\"choropleth\"}],\"contour\":[{\"colorbar\":{\"outlinewidth\":0,\"ticks\":\"\"},\"colorscale\":[[0.0,\"#0d0887\"],[0.1111111111111111,\"#46039f\"],[0.2222222222222222,\"#7201a8\"],[0.3333333333333333,\"#9c179e\"],[0.4444444444444444,\"#bd3786\"],[0.5555555555555556,\"#d8576b\"],[0.6666666666666666,\"#ed7953\"],[0.7777777777777778,\"#fb9f3a\"],[0.8888888888888888,\"#fdca26\"],[1.0,\"#f0f921\"]],\"type\":\"contour\"}],\"contourcarpet\":[{\"colorbar\":{\"outlinewidth\":0,\"ticks\":\"\"},\"type\":\"contourcarpet\"}],\"heatmap\":[{\"colorbar\":{\"outlinewidth\":0,\"ticks\":\"\"},\"colorscale\":[[0.0,\"#0d0887\"],[0.1111111111111111,\"#46039f\"],[0.2222222222222222,\"#7201a8\"],[0.3333333333333333,\"#9c179e\"],[0.4444444444444444,\"#bd3786\"],[0.5555555555555556,\"#d8576b\"],[0.6666666666666666,\"#ed7953\"],[0.7777777777777778,\"#fb9f3a\"],[0.8888888888888888,\"#fdca26\"],[1.0,\"#f0f921\"]],\"type\":\"heatmap\"}],\"heatmapgl\":[{\"colorbar\":{\"outlinewidth\":0,\"ticks\":\"\"},\"colorscale\":[[0.0,\"#0d0887\"],[0.1111111111111111,\"#46039f\"],[0.2222222222222222,\"#7201a8\"],[0.3333333333333333,\"#9c179e\"],[0.4444444444444444,\"#bd3786\"],[0.5555555555555556,\"#d8576b\"],[0.6666666666666666,\"#ed7953\"],[0.7777777777777778,\"#fb9f3a\"],[0.8888888888888888,\"#fdca26\"],[1.0,\"#f0f921\"]],\"type\":\"heatmapgl\"}],\"histogram\":[{\"marker\":{\"pattern\":{\"fillmode\":\"overlay\",\"size\":10,\"solidity\":0.2}},\"type\":\"histogram\"}],\"histogram2d\":[{\"colorbar\":{\"outlinewidth\":0,\"ticks\":\"\"},\"colorscale\":[[0.0,\"#0d0887\"],[0.1111111111111111,\"#46039f\"],[0.2222222222222222,\"#7201a8\"],[0.3333333333333333,\"#9c179e\"],[0.4444444444444444,\"#bd3786\"],[0.5555555555555556,\"#d8576b\"],[0.6666666666666666,\"#ed7953\"],[0.7777777777777778,\"#fb9f3a\"],[0.8888888888888888,\"#fdca26\"],[1.0,\"#f0f921\"]],\"type\":\"histogram2d\"}],\"histogram2dcontour\":[{\"colorbar\":{\"outlinewidth\":0,\"ticks\":\"\"},\"colorscale\":[[0.0,\"#0d0887\"],[0.1111111111111111,\"#46039f\"],[0.2222222222222222,\"#7201a8\"],[0.3333333333333333,\"#9c179e\"],[0.4444444444444444,\"#bd3786\"],[0.5555555555555556,\"#d8576b\"],[0.6666666666666666,\"#ed7953\"],[0.7777777777777778,\"#fb9f3a\"],[0.8888888888888888,\"#fdca26\"],[1.0,\"#f0f921\"]],\"type\":\"histogram2dcontour\"}],\"mesh3d\":[{\"colorbar\":{\"outlinewidth\":0,\"ticks\":\"\"},\"type\":\"mesh3d\"}],\"parcoords\":[{\"line\":{\"colorbar\":{\"outlinewidth\":0,\"ticks\":\"\"}},\"type\":\"parcoords\"}],\"pie\":[{\"automargin\":true,\"type\":\"pie\"}],\"scatter\":[{\"marker\":{\"colorbar\":{\"outlinewidth\":0,\"ticks\":\"\"}},\"type\":\"scatter\"}],\"scatter3d\":[{\"line\":{\"colorbar\":{\"outlinewidth\":0,\"ticks\":\"\"}},\"marker\":{\"colorbar\":{\"outlinewidth\":0,\"ticks\":\"\"}},\"type\":\"scatter3d\"}],\"scattercarpet\":[{\"marker\":{\"colorbar\":{\"outlinewidth\":0,\"ticks\":\"\"}},\"type\":\"scattercarpet\"}],\"scattergeo\":[{\"marker\":{\"colorbar\":{\"outlinewidth\":0,\"ticks\":\"\"}},\"type\":\"scattergeo\"}],\"scattergl\":[{\"marker\":{\"colorbar\":{\"outlinewidth\":0,\"ticks\":\"\"}},\"type\":\"scattergl\"}],\"scattermapbox\":[{\"marker\":{\"colorbar\":{\"outlinewidth\":0,\"ticks\":\"\"}},\"type\":\"scattermapbox\"}],\"scatterpolar\":[{\"marker\":{\"colorbar\":{\"outlinewidth\":0,\"ticks\":\"\"}},\"type\":\"scatterpolar\"}],\"scatterpolargl\":[{\"marker\":{\"colorbar\":{\"outlinewidth\":0,\"ticks\":\"\"}},\"type\":\"scatterpolargl\"}],\"scatterternary\":[{\"marker\":{\"colorbar\":{\"outlinewidth\":0,\"ticks\":\"\"}},\"type\":\"scatterternary\"}],\"surface\":[{\"colorbar\":{\"outlinewidth\":0,\"ticks\":\"\"},\"colorscale\":[[0.0,\"#0d0887\"],[0.1111111111111111,\"#46039f\"],[0.2222222222222222,\"#7201a8\"],[0.3333333333333333,\"#9c179e\"],[0.4444444444444444,\"#bd3786\"],[0.5555555555555556,\"#d8576b\"],[0.6666666666666666,\"#ed7953\"],[0.7777777777777778,\"#fb9f3a\"],[0.8888888888888888,\"#fdca26\"],[1.0,\"#f0f921\"]],\"type\":\"surface\"}],\"table\":[{\"cells\":{\"fill\":{\"color\":\"#EBF0F8\"},\"line\":{\"color\":\"white\"}},\"header\":{\"fill\":{\"color\":\"#C8D4E3\"},\"line\":{\"color\":\"white\"}},\"type\":\"table\"}]},\"layout\":{\"annotationdefaults\":{\"arrowcolor\":\"#2a3f5f\",\"arrowhead\":0,\"arrowwidth\":1},\"autotypenumbers\":\"strict\",\"coloraxis\":{\"colorbar\":{\"outlinewidth\":0,\"ticks\":\"\"}},\"colorscale\":{\"diverging\":[[0,\"#8e0152\"],[0.1,\"#c51b7d\"],[0.2,\"#de77ae\"],[0.3,\"#f1b6da\"],[0.4,\"#fde0ef\"],[0.5,\"#f7f7f7\"],[0.6,\"#e6f5d0\"],[0.7,\"#b8e186\"],[0.8,\"#7fbc41\"],[0.9,\"#4d9221\"],[1,\"#276419\"]],\"sequential\":[[0.0,\"#0d0887\"],[0.1111111111111111,\"#46039f\"],[0.2222222222222222,\"#7201a8\"],[0.3333333333333333,\"#9c179e\"],[0.4444444444444444,\"#bd3786\"],[0.5555555555555556,\"#d8576b\"],[0.6666666666666666,\"#ed7953\"],[0.7777777777777778,\"#fb9f3a\"],[0.8888888888888888,\"#fdca26\"],[1.0,\"#f0f921\"]],\"sequentialminus\":[[0.0,\"#0d0887\"],[0.1111111111111111,\"#46039f\"],[0.2222222222222222,\"#7201a8\"],[0.3333333333333333,\"#9c179e\"],[0.4444444444444444,\"#bd3786\"],[0.5555555555555556,\"#d8576b\"],[0.6666666666666666,\"#ed7953\"],[0.7777777777777778,\"#fb9f3a\"],[0.8888888888888888,\"#fdca26\"],[1.0,\"#f0f921\"]]},\"colorway\":[\"#636efa\",\"#EF553B\",\"#00cc96\",\"#ab63fa\",\"#FFA15A\",\"#19d3f3\",\"#FF6692\",\"#B6E880\",\"#FF97FF\",\"#FECB52\"],\"font\":{\"color\":\"#2a3f5f\"},\"geo\":{\"bgcolor\":\"white\",\"lakecolor\":\"white\",\"landcolor\":\"#E5ECF6\",\"showlakes\":true,\"showland\":true,\"subunitcolor\":\"white\"},\"hoverlabel\":{\"align\":\"left\"},\"hovermode\":\"closest\",\"mapbox\":{\"style\":\"light\"},\"paper_bgcolor\":\"white\",\"plot_bgcolor\":\"#E5ECF6\",\"polar\":{\"angularaxis\":{\"gridcolor\":\"white\",\"linecolor\":\"white\",\"ticks\":\"\"},\"bgcolor\":\"#E5ECF6\",\"radialaxis\":{\"gridcolor\":\"white\",\"linecolor\":\"white\",\"ticks\":\"\"}},\"scene\":{\"xaxis\":{\"backgroundcolor\":\"#E5ECF6\",\"gridcolor\":\"white\",\"gridwidth\":2,\"linecolor\":\"white\",\"showbackground\":true,\"ticks\":\"\",\"zerolinecolor\":\"white\"},\"yaxis\":{\"backgroundcolor\":\"#E5ECF6\",\"gridcolor\":\"white\",\"gridwidth\":2,\"linecolor\":\"white\",\"showbackground\":true,\"ticks\":\"\",\"zerolinecolor\":\"white\"},\"zaxis\":{\"backgroundcolor\":\"#E5ECF6\",\"gridcolor\":\"white\",\"gridwidth\":2,\"linecolor\":\"white\",\"showbackground\":true,\"ticks\":\"\",\"zerolinecolor\":\"white\"}},\"shapedefaults\":{\"line\":{\"color\":\"#2a3f5f\"}},\"ternary\":{\"aaxis\":{\"gridcolor\":\"white\",\"linecolor\":\"white\",\"ticks\":\"\"},\"baxis\":{\"gridcolor\":\"white\",\"linecolor\":\"white\",\"ticks\":\"\"},\"bgcolor\":\"#E5ECF6\",\"caxis\":{\"gridcolor\":\"white\",\"linecolor\":\"white\",\"ticks\":\"\"}},\"title\":{\"x\":0.05},\"xaxis\":{\"automargin\":true,\"gridcolor\":\"white\",\"linecolor\":\"white\",\"ticks\":\"\",\"title\":{\"standoff\":15},\"zerolinecolor\":\"white\",\"zerolinewidth\":2},\"yaxis\":{\"automargin\":true,\"gridcolor\":\"white\",\"linecolor\":\"white\",\"ticks\":\"\",\"title\":{\"standoff\":15},\"zerolinecolor\":\"white\",\"zerolinewidth\":2}}},\"title\":{\"text\":\"<b>Volatility Surface</b>\",\"x\":0.5,\"xanchor\":\"center\",\"y\":0.95,\"yanchor\":\"top\"},\"width\":1000},                        {\"responsive\": true}                    ).then(function(){\n",
       "                            \n",
       "var gd = document.getElementById('018b21eb-9b06-4b57-a962-9f1bb383aaf8');\n",
       "var x = new MutationObserver(function (mutations, observer) {{\n",
       "        var display = window.getComputedStyle(gd).display;\n",
       "        if (!display || display === 'none') {{\n",
       "            console.log([gd, 'removed!']);\n",
       "            Plotly.purge(gd);\n",
       "            observer.disconnect();\n",
       "        }}\n",
       "}});\n",
       "\n",
       "// Listen for the removal of the full notebook cells\n",
       "var notebookContainer = gd.closest('#notebook-container');\n",
       "if (notebookContainer) {{\n",
       "    x.observe(notebookContainer, {childList: true});\n",
       "}}\n",
       "\n",
       "// Listen for the clearing of the current output cell\n",
       "var outputEl = gd.closest('.output');\n",
       "if (outputEl) {{\n",
       "    x.observe(outputEl, {childList: true});\n",
       "}}\n",
       "\n",
       "                        })                };                });            </script>        </div>"
      ]
     },
     "metadata": {},
     "output_type": "display_data"
    }
   ],
   "source": [
    "# plot\n",
    "fig2 = go.Figure(data=[go.Surface(x= expiries,y= strikes,z= vols                   \n",
    "                    ,hidesurface =True\n",
    "                    ,contours = {\"x\": {\"show\": True,\"size\": 0.1, \"color\":\"red\"},\n",
    "#                                 \"y\": {\"show\": True,\"size\": 0.1, \"color\":\"red\"},\n",
    "                                }\n",
    "                    ,hovertemplate = \n",
    "                        'Moneyness:  %{y: .2%}' +\\\n",
    "                        '<br>Maturity (yrs): %{x: .1f}' +\\\n",
    "                        '<br>Volatility: %{z: .2f}<extra></extra>'\n",
    "                     ,colorscale = 'temps')\n",
    "\n",
    "                     ])\n",
    "\n",
    "\n",
    "\n",
    "fig2.update_layout(title={\n",
    "                      'text': \"<b>Volatility Surface</b>\",\n",
    "                      'y':0.95,\n",
    "                      'x':0.5,\n",
    "                      'xanchor': 'center',\n",
    "                      'yanchor': 'top'\n",
    "                        }\n",
    "                # ,autosize=True\n",
    "                ,width=1000\n",
    "                ,height=500\n",
    "                ,scene = dict(\n",
    "                  xaxis_title='Maturity (yrs)'\n",
    "                  ,xaxis_tickformat = '.1f'\n",
    "                  ,xaxis_autorange = 'reversed'\n",
    "                  ,yaxis_title='Moneyness'\n",
    "                  ,yaxis_tickformat = '.2%'\n",
    "                  ,zaxis_title='Volatility'\n",
    "                  ,zaxis_tickformat = '.2%'\n",
    "                  )\n",
    "                ,font=dict(\n",
    "                  family=\"Courier New, monospace\"\n",
    "                  ,size=10\n",
    "                  )\n",
    "                ,margin=dict(l=65, r=50, b=65, t=90)\n",
    ")\n",
    "fig2.show()"
   ]
  },
  {
   "cell_type": "markdown",
   "id": "6049825d",
   "metadata": {
    "ExecuteTime": {
     "end_time": "2021-09-24T11:45:53.491367Z",
     "start_time": "2021-09-24T11:45:53.474389Z"
    }
   },
   "source": [
    "### Rivapy"
   ]
  },
  {
   "cell_type": "markdown",
   "id": "d104c9ab",
   "metadata": {
    "ExecuteTime": {
     "end_time": "2021-09-24T11:57:22.676277Z",
     "start_time": "2021-09-24T11:57:22.664755Z"
    }
   },
   "source": [
    "#### Creating Forward Curve\n",
    "We create a dummy forward curve as shown in the  [forward_curve](equity_forwardcurve.ipynb) notebook which will be used in all subsequent volatility surface constructions."
   ]
  },
  {
   "cell_type": "code",
   "execution_count": 16,
   "id": "20e2e256",
   "metadata": {
    "ExecuteTime": {
     "end_time": "2021-10-28T08:59:27.871913Z",
     "start_time": "2021-10-28T08:59:27.831022Z"
    }
   },
   "outputs": [],
   "source": [
    "refdate = dt.datetime(2017,1,1)\n",
    "\n",
    "#dividend table neede fo forward curve\n",
    "object_id = \"TEST_DIV\" \n",
    "ex_dates = [dt.datetime(2018,3,29), dt.datetime(2019,3,29), dt.datetime(2020,3,29), dt.datetime(2021,3,29)]\n",
    "pay_dates = [dt.datetime(2018,4,1), dt.datetime(2019,4,1), dt.datetime(2020,4,1), dt.datetime(2021,4,1)]\n",
    "tax_factors = [1.0, 1.0, 1.0, 1.0]\n",
    "div_yield = [0, 0.005, 0.01, 0.01]\n",
    "div_cash = [3.0, 2.0, 1.0, 0.0]\n",
    "div_table=rivapy.marketdata.DividendTable(object_id, refdate, ex_dates, pay_dates, div_yield, div_cash, tax_factors)\n",
    "\n",
    "#discount- and borrowing curve needed for forward curve\n",
    "dates = [refdate + dt.timedelta(days=x) for x in [0,10]]\n",
    "df = [1.0,1.0]\n",
    "dc = mkt_data.DiscountCurve(object_id, refdate, dates, df, \n",
    "                             enums.InterpolationType.HAGAN_DF, enums.ExtrapolationType.NONE, enums.DayCounterType.Act365Fixed)\n",
    "bc = mkt_data.DiscountCurve(object_id, refdate, dates, df, \n",
    "                             enums.InterpolationType.HAGAN_DF, enums.ExtrapolationType.NONE, enums.DayCounterType.Act365Fixed)\n",
    "spot = 100.0\n",
    "\n",
    "#forward curve\n",
    "forward_curve = mkt_data.EquityForwardCurve(spot, dc, bc, div_table)"
   ]
  },
  {
   "cell_type": "markdown",
   "id": "1bfebba7",
   "metadata": {},
   "source": [
    "#### SABR Parametrization"
   ]
  },
  {
   "cell_type": "code",
   "execution_count": 17,
   "id": "047a8037",
   "metadata": {
    "ExecuteTime": {
     "end_time": "2021-10-28T08:59:27.932751Z",
     "start_time": "2021-10-28T08:59:27.876899Z"
    }
   },
   "outputs": [],
   "source": [
    "ttm = [1.0/12.0, 1.0, 2.0, 3.0]\n",
    "sabr_params = np.array([[.1, 0.1, .9,-.8],\n",
    "                        [.3, 0.1, .1, .1],\n",
    "                        [.5, .3, .9, -.75,],\n",
    "                        [.5, .3, .9, -.85,]])"
   ]
  },
  {
   "cell_type": "code",
   "execution_count": 18,
   "id": "62319448",
   "metadata": {
    "ExecuteTime": {
     "end_time": "2021-10-28T08:59:27.962670Z",
     "start_time": "2021-10-28T08:59:27.938734Z"
    }
   },
   "outputs": [
    {
     "data": {
      "text/plain": [
       "0.30118"
      ]
     },
     "execution_count": 18,
     "metadata": {},
     "output_type": "execute_result"
    }
   ],
   "source": [
    "sabr_param = mkt_data.VolatilityParametrizationSABR(ttm, sabr_params)\n",
    "sabr_param.calc_implied_vol(1,1)"
   ]
  },
  {
   "cell_type": "markdown",
   "id": "975364f3",
   "metadata": {},
   "source": [
    "#### Volatility Surface"
   ]
  },
  {
   "cell_type": "code",
   "execution_count": 79,
   "id": "fa45ec27",
   "metadata": {
    "ExecuteTime": {
     "end_time": "2021-10-29T15:06:29.081816Z",
     "start_time": "2021-10-29T15:06:29.072839Z"
    }
   },
   "outputs": [],
   "source": [
    "obj_id = 'TEST_SURFACE'\n",
    "vol_surf = mkt_data.VolatilitySurface(obj_id, refdate, forward_curve, enums.DayCounterType.Act365Fixed, sabr_param)"
   ]
  },
  {
   "cell_type": "code",
   "execution_count": 80,
   "id": "565a3ad4",
   "metadata": {
    "ExecuteTime": {
     "end_time": "2021-10-29T15:06:29.931586Z",
     "start_time": "2021-10-29T15:06:29.862749Z"
    }
   },
   "outputs": [
    {
     "name": "stdout",
     "output_type": "stream",
     "text": [
      "0.3011799998804471\n"
     ]
    }
   ],
   "source": [
    "vol = vol_surf.calc_implied_vol(refdate + dt.timedelta(days=365),100,refdate)\n",
    "print(vol)"
   ]
  },
  {
   "cell_type": "code",
   "execution_count": 97,
   "id": "69f38153",
   "metadata": {
    "ExecuteTime": {
     "end_time": "2021-10-29T15:13:50.912970Z",
     "start_time": "2021-10-29T15:13:50.824209Z"
    },
    "code_folding": [
     0
    ]
   },
   "outputs": [
    {
     "data": {
      "application/vnd.plotly.v1+json": {
       "config": {
        "plotlyServerURL": "https://plot.ly"
       },
       "data": [
        {
         "colorscale": [
          [
           0,
           "rgb(0, 147, 146)"
          ],
          [
           0.16666666666666666,
           "rgb(57, 177, 133)"
          ],
          [
           0.3333333333333333,
           "rgb(156, 203, 134)"
          ],
          [
           0.5,
           "rgb(233, 226, 156)"
          ],
          [
           0.6666666666666666,
           "rgb(238, 180, 121)"
          ],
          [
           0.8333333333333334,
           "rgb(232, 132, 113)"
          ],
          [
           1,
           "rgb(207, 89, 126)"
          ]
         ],
         "contours": {
          "x": {
           "color": "red",
           "show": true,
           "size": 0.1
          },
          "y": {
           "color": "red",
           "show": true,
           "size": 0.1
          }
         },
         "hovertemplate": "Moneyness:  %{y: .2%}<br>Maturity (yrs): %{x: .1f}<br>Volatility: %{z: .2f}<extra></extra>",
         "type": "surface",
         "x": [
          0.08333333333333333,
          1,
          2,
          3
         ],
         "y": [
          0.5,
          0.51010101010101,
          0.5202020202020202,
          0.5303030303030303,
          0.5404040404040404,
          0.5505050505050505,
          0.5606060606060606,
          0.5707070707070707,
          0.5808080808080808,
          0.5909090909090909,
          0.601010101010101,
          0.6111111111111112,
          0.6212121212121212,
          0.6313131313131313,
          0.6414141414141414,
          0.6515151515151515,
          0.6616161616161617,
          0.6717171717171717,
          0.6818181818181819,
          0.6919191919191919,
          0.702020202020202,
          0.7121212121212122,
          0.7222222222222222,
          0.7323232323232324,
          0.7424242424242424,
          0.7525252525252526,
          0.7626262626262627,
          0.7727272727272727,
          0.7828282828282829,
          0.7929292929292929,
          0.803030303030303,
          0.8131313131313131,
          0.8232323232323233,
          0.8333333333333334,
          0.8434343434343434,
          0.8535353535353536,
          0.8636363636363636,
          0.8737373737373737,
          0.8838383838383839,
          0.893939393939394,
          0.9040404040404041,
          0.9141414141414141,
          0.9242424242424243,
          0.9343434343434344,
          0.9444444444444444,
          0.9545454545454546,
          0.9646464646464648,
          0.9747474747474748,
          0.9848484848484849,
          0.994949494949495,
          1.0050505050505052,
          1.0151515151515151,
          1.0252525252525253,
          1.0353535353535355,
          1.0454545454545454,
          1.0555555555555556,
          1.0656565656565657,
          1.0757575757575757,
          1.0858585858585859,
          1.095959595959596,
          1.106060606060606,
          1.1161616161616164,
          1.1262626262626263,
          1.1363636363636365,
          1.1464646464646466,
          1.1565656565656566,
          1.1666666666666667,
          1.176767676767677,
          1.1868686868686869,
          1.196969696969697,
          1.2070707070707072,
          1.2171717171717171,
          1.2272727272727273,
          1.2373737373737375,
          1.2474747474747474,
          1.2575757575757578,
          1.2676767676767677,
          1.2777777777777777,
          1.287878787878788,
          1.297979797979798,
          1.3080808080808082,
          1.3181818181818183,
          1.3282828282828283,
          1.3383838383838385,
          1.3484848484848486,
          1.3585858585858586,
          1.3686868686868687,
          1.378787878787879,
          1.3888888888888888,
          1.3989898989898992,
          1.4090909090909092,
          1.4191919191919191,
          1.4292929292929295,
          1.4393939393939394,
          1.4494949494949496,
          1.4595959595959598,
          1.4696969696969697,
          1.47979797979798,
          1.48989898989899,
          1.5
         ],
         "z": [
          [
           0.4627997473474606,
           0.43190563698299017,
           0.4039120726628932,
           0.3181881458592934
          ],
          [
           0.4593440499611189,
           0.4269614765904312,
           0.40192909354178735,
           0.3166247792585516
          ],
          [
           0.455961627450838,
           0.4221981719708083,
           0.39998712531390873,
           0.3150910963952644
          ],
          [
           0.4526493405020954,
           0.4176053948908161,
           0.3980845328774583,
           0.31358595911689385
          ],
          [
           0.4494042349471452,
           0.41317356615022666,
           0.3962197803753225,
           0.31210829401300605
          ],
          [
           0.44622355096845645,
           0.4088938515441701,
           0.39439142138389666,
           0.3106570882428635
          ],
          [
           0.4431047000920239,
           0.4047580718720171,
           0.3925980929327678,
           0.3092313848991728
          ],
          [
           0.4400452531049756,
           0.4007586470002306,
           0.3908385089374568,
           0.3078302791961835
          ],
          [
           0.4370429269940784,
           0.3968885398250086,
           0.38911145472379144,
           0.3064529145533619
          ],
          [
           0.43409557345379063,
           0.393141207172213,
           0.3874157818220588,
           0.30509847916044097
          ],
          [
           0.43120116863855357,
           0.3895105564726732,
           0.3857504030829672,
           0.303766202923933
          ],
          [
           0.42835780384132666,
           0.3859909068722778,
           0.3841142883877859,
           0.30245535466511747
          ],
          [
           0.4255636770509414,
           0.3825769543925583,
           0.3825064607340214,
           0.3011652395556746
          ],
          [
           0.4228170852648303,
           0.37926374058401735,
           0.38092599265059945,
           0.29989519686112753
          ],
          [
           0.4201164174877622,
           0.37604662429630714,
           0.37937200290941286,
           0.2986445977083093
          ],
          [
           0.4174601483572477,
           0.37292125625235545,
           0.37784365356276317,
           0.29741284297066034
          ],
          [
           0.41484683238276937,
           0.3698835562767364,
           0.376340147193307,
           0.296199361426646
          ],
          [
           0.4122750985067728,
           0.3669296921160477,
           0.37486072423362765,
           0.29500360806048065
          ],
          [
           0.4097436451569677,
           0.3640560603711076,
           0.37340466060062505,
           0.29382506248948076
          ],
          [
           0.40725123575053657,
           0.36125926933091135,
           0.3719712655235746,
           0.29266322755220947
          ],
          [
           0.40479669455876405,
           0.3585361233444658,
           0.3705598795350029,
           0.29151762799069375
          ],
          [
           0.4023789028979387,
           0.35588360857106327,
           0.3691698726101257,
           0.29038780909247786
          ],
          [
           0.3999967956161975,
           0.35329887996858217,
           0.36780064246910776,
           0.28927333551693735
          ],
          [
           0.39764935784919636,
           0.35077924939550176,
           0.3664516130166453,
           0.2881737902161996
          ],
          [
           0.395335622036197,
           0.3483221747645507,
           0.3651222327751247,
           0.28708877342952555
          ],
          [
           0.3930546651838313,
           0.3459252501732767,
           0.3638119734903541,
           0.2860179017577754
          ],
          [
           0.3908056062318962,
           0.34358619654445566,
           0.3625203288485055,
           0.28496080734139395
          ],
          [
           0.38858760365078976,
           0.34130285315505077,
           0.36124681327995173,
           0.28391713698092347
          ],
          [
           0.38639985322683845,
           0.33907316989183195,
           0.3599909608431046,
           0.28288655134622903
          ],
          [
           0.3842415860024628,
           0.33689520011355234,
           0.3587523241939188,
           0.2818687242646166
          ],
          [
           0.38211206635837597,
           0.3347670940647441,
           0.35753047364842006,
           0.2808633420536769
          ],
          [
           0.38001059022622946,
           0.33268709279180203,
           0.3563249962218397,
           0.27987010289759773
          ],
          [
           0.3779364834212364,
           0.33065352251711255,
           0.35513549476035877,
           0.27888871629624457
          ],
          [
           0.3758891001003864,
           0.3286647894733999,
           0.35396158714387843,
           0.27791890250012985
          ],
          [
           0.3738678213242928,
           0.3267193751226404,
           0.3528029055380246,
           0.2769603919530757
          ],
          [
           0.3718720536576314,
           0.32481583157159766,
           0.35165909569182074,
           0.27601292480572265
          ],
          [
           0.3699012278897678,
           0.3229527774045817,
           0.35052981628275776,
           0.27507625045882045
          ],
          [
           0.36795479784159124,
           0.32112889382690507,
           0.34941473832488623,
           0.2741501271329098
          ],
          [
           0.3660322392460825,
           0.3193429210766811,
           0.348313544557552,
           0.2732343214785724
          ],
          [
           0.3641330486971704,
           0.317593655083342,
           0.34722592887924797,
           0.2723286082095898
          ],
          [
           0.36225674266188596,
           0.31587994435320965,
           0.3461515958310746,
           0.2714327697038391
          ],
          [
           0.36040285655148147,
           0.3142006870648443,
           0.345090260109594,
           0.27054659565772887
          ],
          [
           0.3585709438606473,
           0.3125548283919119,
           0.34404164610703947,
           0.26966988276501924
          ],
          [
           0.3567605753475655,
           0.3109413579771317,
           0.34300548747900045,
           0.2688024344129139
          ],
          [
           0.3549713382341983,
           0.30935930750285523,
           0.34198152675436017,
           0.26794406039888174
          ],
          [
           0.35320283547220793,
           0.30780774847125225,
           0.3409695149346774,
           0.26709457668051917
          ],
          [
           0.3514546850516476,
           0.3062857901301305,
           0.33996921111074363,
           0.26625380509471225
          ],
          [
           0.3497265193475326,
           0.3047925775285459,
           0.33898038211578063,
           0.2654215731011717
          ],
          [
           0.3480179845017445,
           0.30332728969284556,
           0.33800280219713164,
           0.26459771355118694
          ],
          [
           0.3463287398379108,
           0.30188913791446453,
           0.33703625270501225,
           0.26378206446806834
          ],
          [
           0.3446584573076266,
           0.3004773641427947,
           0.33608052179793246,
           0.2629744688393038
          ],
          [
           0.3430068209766358,
           0.29909123950099636,
           0.3351354041759778,
           0.2621747744336512
          ],
          [
           0.3413735265233186,
           0.29773006285594034,
           0.33420070081154474,
           0.2613828336088834
          ],
          [
           0.33975828075198256,
           0.2963931594481138,
           0.33327621868145096,
           0.26059850311527644
          ],
          [
           0.33816080114279745,
           0.29507987963125476,
           0.33236177052677374,
           0.2598216439249311
          ],
          [
           0.3365808154242512,
           0.29378959768574736,
           0.3314571746250285,
           0.25905212106991915
          ],
          [
           0.3350180611661433,
           0.2925217106995047,
           0.3305622545733593,
           0.2582898034880754
          ],
          [
           0.3334722853918232,
           0.2912756375118592,
           0.32967683908231943,
           0.2575345638828291
          ],
          [
           0.3319432442084658,
           0.290050817716361,
           0.3288007617876303,
           0.25678627859146125
          ],
          [
           0.33043070245519357,
           0.2888467107207633,
           0.32793386106499595,
           0.25604482743450785
          ],
          [
           0.328934433375418,
           0.28766279487702984,
           0.32707597983833725,
           0.2553100935856943
          ],
          [
           0.327454218288986,
           0.2864985666255153,
           0.32622696540878665,
           0.25458196345049383
          ],
          [
           0.32598984627691213,
           0.2853535396819837,
           0.3253866692925711,
           0.25386032655008006
          ],
          [
           0.32454111388655277,
           0.2842272442836471,
           0.32455494706621957,
           0.25314507541235076
          ],
          [
           0.3231078248491545,
           0.28311922647510873,
           0.3237316582187355,
           0.2524361054767741
          ],
          [
           0.32168978980891283,
           0.282029047431502,
           0.32291666601519703,
           0.25173331498303725
          ],
          [
           0.32028682606283965,
           0.28095628281657714,
           0.32210983736655313,
           0.2510366048679466
          ],
          [
           0.3188987573107883,
           0.27990052217364736,
           0.3213110426897237,
           0.25034587867281743
          ],
          [
           0.31752541341633433,
           0.27886136835021,
           0.3205201557827668,
           0.24966104245478213
          ],
          [
           0.31616663018200053,
           0.27783843696307947,
           0.3197370537069425,
           0.24898200470211626
          ],
          [
           0.31482224911980006,
           0.2768313558627609,
           0.31896161667378925,
           0.2483086762602344
          ],
          [
           0.31349211723257575,
           0.275839764630065,
           0.31819372793696016,
           0.24764097025263196
          ],
          [
           0.3121760868065165,
           0.2748633141050208,
           0.31743327369117963,
           0.246978801997168
          ],
          [
           0.31087401521066804,
           0.2739016659386383,
           0.31668014297859703,
           0.24632208893401447
          ],
          [
           0.3095857647030167,
           0.272954492166216,
           0.31593422758535716,
           0.24567075055691365
          ],
          [
           0.30831120224275776,
           0.27202147480098654,
           0.3151954219483331,
           0.24502470834716517
          ],
          [
           0.3070501993083911,
           0.27110230544697533,
           0.31446362306766823,
           0.2443838857135354
          ],
          [
           0.3058026317228967,
           0.2701966849333994,
           0.31373873042281814,
           0.24374820793624258
          ],
          [
           0.30456837948656457,
           0.26930432297160073,
           0.3130206458919281,
           0.2431176020998259
          ],
          [
           0.3033473266049686,
           0.2684249378076496,
           0.3123092736756893,
           0.2424919970353952
          ],
          [
           0.30213936092563526,
           0.26755825589895105,
           0.3116045202282828,
           0.24187132326666397
          ],
          [
           0.3009443739807167,
           0.2667040116088941,
           0.3109062941802927,
           0.2412555129580188
          ],
          [
           0.2997622608337566,
           0.26586194691522835,
           0.3102145062675114,
           0.2406444998654794
          ],
          [
           0.2985929199303298,
           0.2650318111314459,
           0.30952906926496393,
           0.24003821929450436
          ],
          [
           0.2974362529523519,
           0.2642133606404937,
           0.3088498979234332,
           0.2394366080488127
          ],
          [
           0.2962921646758784,
           0.2634063586401966,
           0.30817690890837346,
           0.23883960438229623
          ],
          [
           0.29516056283388054,
           0.2626105749035665,
           0.30751002074170203,
           0.238247147956139
          ],
          [
           0.2940413579822506,
           0.2618257855501791,
           0.30684915374960625,
           0.2376591797974966
          ],
          [
           0.29293446336296075,
           0.26105177281439296,
           0.30619423000477,
           0.2370756422597938
          ],
          [
           0.2918397947736538,
           0.2602883248307016,
           0.3055451732710017,
           0.2364964789883002
          ],
          [
           0.29075727044054356,
           0.25953523542947016,
           0.30490190895269725,
           0.23592163488298273
          ],
          [
           0.2896868108942856,
           0.2587923039414487,
           0.30426436404610885,
           0.23535105605777132
          ],
          [
           0.2886283388474669,
           0.25805933500977596,
           0.3036324670924366,
           0.2347846898058383
          ],
          [
           0.28758177907688487,
           0.2573361384113301,
           0.3030061481327048,
           0.2342224845664344
          ],
          [
           0.286547058304102,
           0.25662252888264514,
           0.3023853386672971,
           0.2336643898926789
          ],
          [
           0.2855241050808074,
           0.25591832595741504,
           0.30176997161380115,
           0.23311035642236122
          ],
          [
           0.2845128497105472,
           0.2552233538324759,
           0.30115998125679283,
           0.2325603358518451
          ],
          [
           0.28351322394817857,
           0.2545374410791936,
           0.3005553032320711,
           0.23201428089759774
          ],
          [
           0.2825251616777919,
           0.25386042104110096,
           0.2999558744189435,
           0.2314721452852184
          ],
          [
           0.2815485959907127,
           0.2531921297430852,
           0.2993616330680001,
           0.2309338836699018
          ]
         ]
        }
       ],
       "layout": {
        "font": {
         "family": "Courier New, monospace",
         "size": 10
        },
        "height": 500,
        "margin": {
         "b": 65,
         "l": 65,
         "r": 50,
         "t": 90
        },
        "scene": {
         "xaxis": {
          "autorange": "reversed",
          "tickformat": ".1f",
          "title": {
           "text": "Maturity (yrs)"
          }
         },
         "yaxis": {
          "tickformat": ".2%",
          "title": {
           "text": "Moneyness"
          }
         },
         "zaxis": {
          "tickformat": ".2%",
          "title": {
           "text": "Volatility"
          }
         }
        },
        "template": {
         "data": {
          "bar": [
           {
            "error_x": {
             "color": "#2a3f5f"
            },
            "error_y": {
             "color": "#2a3f5f"
            },
            "marker": {
             "line": {
              "color": "#E5ECF6",
              "width": 0.5
             },
             "pattern": {
              "fillmode": "overlay",
              "size": 10,
              "solidity": 0.2
             }
            },
            "type": "bar"
           }
          ],
          "barpolar": [
           {
            "marker": {
             "line": {
              "color": "#E5ECF6",
              "width": 0.5
             },
             "pattern": {
              "fillmode": "overlay",
              "size": 10,
              "solidity": 0.2
             }
            },
            "type": "barpolar"
           }
          ],
          "carpet": [
           {
            "aaxis": {
             "endlinecolor": "#2a3f5f",
             "gridcolor": "white",
             "linecolor": "white",
             "minorgridcolor": "white",
             "startlinecolor": "#2a3f5f"
            },
            "baxis": {
             "endlinecolor": "#2a3f5f",
             "gridcolor": "white",
             "linecolor": "white",
             "minorgridcolor": "white",
             "startlinecolor": "#2a3f5f"
            },
            "type": "carpet"
           }
          ],
          "choropleth": [
           {
            "colorbar": {
             "outlinewidth": 0,
             "ticks": ""
            },
            "type": "choropleth"
           }
          ],
          "contour": [
           {
            "colorbar": {
             "outlinewidth": 0,
             "ticks": ""
            },
            "colorscale": [
             [
              0,
              "#0d0887"
             ],
             [
              0.1111111111111111,
              "#46039f"
             ],
             [
              0.2222222222222222,
              "#7201a8"
             ],
             [
              0.3333333333333333,
              "#9c179e"
             ],
             [
              0.4444444444444444,
              "#bd3786"
             ],
             [
              0.5555555555555556,
              "#d8576b"
             ],
             [
              0.6666666666666666,
              "#ed7953"
             ],
             [
              0.7777777777777778,
              "#fb9f3a"
             ],
             [
              0.8888888888888888,
              "#fdca26"
             ],
             [
              1,
              "#f0f921"
             ]
            ],
            "type": "contour"
           }
          ],
          "contourcarpet": [
           {
            "colorbar": {
             "outlinewidth": 0,
             "ticks": ""
            },
            "type": "contourcarpet"
           }
          ],
          "heatmap": [
           {
            "colorbar": {
             "outlinewidth": 0,
             "ticks": ""
            },
            "colorscale": [
             [
              0,
              "#0d0887"
             ],
             [
              0.1111111111111111,
              "#46039f"
             ],
             [
              0.2222222222222222,
              "#7201a8"
             ],
             [
              0.3333333333333333,
              "#9c179e"
             ],
             [
              0.4444444444444444,
              "#bd3786"
             ],
             [
              0.5555555555555556,
              "#d8576b"
             ],
             [
              0.6666666666666666,
              "#ed7953"
             ],
             [
              0.7777777777777778,
              "#fb9f3a"
             ],
             [
              0.8888888888888888,
              "#fdca26"
             ],
             [
              1,
              "#f0f921"
             ]
            ],
            "type": "heatmap"
           }
          ],
          "heatmapgl": [
           {
            "colorbar": {
             "outlinewidth": 0,
             "ticks": ""
            },
            "colorscale": [
             [
              0,
              "#0d0887"
             ],
             [
              0.1111111111111111,
              "#46039f"
             ],
             [
              0.2222222222222222,
              "#7201a8"
             ],
             [
              0.3333333333333333,
              "#9c179e"
             ],
             [
              0.4444444444444444,
              "#bd3786"
             ],
             [
              0.5555555555555556,
              "#d8576b"
             ],
             [
              0.6666666666666666,
              "#ed7953"
             ],
             [
              0.7777777777777778,
              "#fb9f3a"
             ],
             [
              0.8888888888888888,
              "#fdca26"
             ],
             [
              1,
              "#f0f921"
             ]
            ],
            "type": "heatmapgl"
           }
          ],
          "histogram": [
           {
            "marker": {
             "pattern": {
              "fillmode": "overlay",
              "size": 10,
              "solidity": 0.2
             }
            },
            "type": "histogram"
           }
          ],
          "histogram2d": [
           {
            "colorbar": {
             "outlinewidth": 0,
             "ticks": ""
            },
            "colorscale": [
             [
              0,
              "#0d0887"
             ],
             [
              0.1111111111111111,
              "#46039f"
             ],
             [
              0.2222222222222222,
              "#7201a8"
             ],
             [
              0.3333333333333333,
              "#9c179e"
             ],
             [
              0.4444444444444444,
              "#bd3786"
             ],
             [
              0.5555555555555556,
              "#d8576b"
             ],
             [
              0.6666666666666666,
              "#ed7953"
             ],
             [
              0.7777777777777778,
              "#fb9f3a"
             ],
             [
              0.8888888888888888,
              "#fdca26"
             ],
             [
              1,
              "#f0f921"
             ]
            ],
            "type": "histogram2d"
           }
          ],
          "histogram2dcontour": [
           {
            "colorbar": {
             "outlinewidth": 0,
             "ticks": ""
            },
            "colorscale": [
             [
              0,
              "#0d0887"
             ],
             [
              0.1111111111111111,
              "#46039f"
             ],
             [
              0.2222222222222222,
              "#7201a8"
             ],
             [
              0.3333333333333333,
              "#9c179e"
             ],
             [
              0.4444444444444444,
              "#bd3786"
             ],
             [
              0.5555555555555556,
              "#d8576b"
             ],
             [
              0.6666666666666666,
              "#ed7953"
             ],
             [
              0.7777777777777778,
              "#fb9f3a"
             ],
             [
              0.8888888888888888,
              "#fdca26"
             ],
             [
              1,
              "#f0f921"
             ]
            ],
            "type": "histogram2dcontour"
           }
          ],
          "mesh3d": [
           {
            "colorbar": {
             "outlinewidth": 0,
             "ticks": ""
            },
            "type": "mesh3d"
           }
          ],
          "parcoords": [
           {
            "line": {
             "colorbar": {
              "outlinewidth": 0,
              "ticks": ""
             }
            },
            "type": "parcoords"
           }
          ],
          "pie": [
           {
            "automargin": true,
            "type": "pie"
           }
          ],
          "scatter": [
           {
            "marker": {
             "colorbar": {
              "outlinewidth": 0,
              "ticks": ""
             }
            },
            "type": "scatter"
           }
          ],
          "scatter3d": [
           {
            "line": {
             "colorbar": {
              "outlinewidth": 0,
              "ticks": ""
             }
            },
            "marker": {
             "colorbar": {
              "outlinewidth": 0,
              "ticks": ""
             }
            },
            "type": "scatter3d"
           }
          ],
          "scattercarpet": [
           {
            "marker": {
             "colorbar": {
              "outlinewidth": 0,
              "ticks": ""
             }
            },
            "type": "scattercarpet"
           }
          ],
          "scattergeo": [
           {
            "marker": {
             "colorbar": {
              "outlinewidth": 0,
              "ticks": ""
             }
            },
            "type": "scattergeo"
           }
          ],
          "scattergl": [
           {
            "marker": {
             "colorbar": {
              "outlinewidth": 0,
              "ticks": ""
             }
            },
            "type": "scattergl"
           }
          ],
          "scattermapbox": [
           {
            "marker": {
             "colorbar": {
              "outlinewidth": 0,
              "ticks": ""
             }
            },
            "type": "scattermapbox"
           }
          ],
          "scatterpolar": [
           {
            "marker": {
             "colorbar": {
              "outlinewidth": 0,
              "ticks": ""
             }
            },
            "type": "scatterpolar"
           }
          ],
          "scatterpolargl": [
           {
            "marker": {
             "colorbar": {
              "outlinewidth": 0,
              "ticks": ""
             }
            },
            "type": "scatterpolargl"
           }
          ],
          "scatterternary": [
           {
            "marker": {
             "colorbar": {
              "outlinewidth": 0,
              "ticks": ""
             }
            },
            "type": "scatterternary"
           }
          ],
          "surface": [
           {
            "colorbar": {
             "outlinewidth": 0,
             "ticks": ""
            },
            "colorscale": [
             [
              0,
              "#0d0887"
             ],
             [
              0.1111111111111111,
              "#46039f"
             ],
             [
              0.2222222222222222,
              "#7201a8"
             ],
             [
              0.3333333333333333,
              "#9c179e"
             ],
             [
              0.4444444444444444,
              "#bd3786"
             ],
             [
              0.5555555555555556,
              "#d8576b"
             ],
             [
              0.6666666666666666,
              "#ed7953"
             ],
             [
              0.7777777777777778,
              "#fb9f3a"
             ],
             [
              0.8888888888888888,
              "#fdca26"
             ],
             [
              1,
              "#f0f921"
             ]
            ],
            "type": "surface"
           }
          ],
          "table": [
           {
            "cells": {
             "fill": {
              "color": "#EBF0F8"
             },
             "line": {
              "color": "white"
             }
            },
            "header": {
             "fill": {
              "color": "#C8D4E3"
             },
             "line": {
              "color": "white"
             }
            },
            "type": "table"
           }
          ]
         },
         "layout": {
          "annotationdefaults": {
           "arrowcolor": "#2a3f5f",
           "arrowhead": 0,
           "arrowwidth": 1
          },
          "autotypenumbers": "strict",
          "coloraxis": {
           "colorbar": {
            "outlinewidth": 0,
            "ticks": ""
           }
          },
          "colorscale": {
           "diverging": [
            [
             0,
             "#8e0152"
            ],
            [
             0.1,
             "#c51b7d"
            ],
            [
             0.2,
             "#de77ae"
            ],
            [
             0.3,
             "#f1b6da"
            ],
            [
             0.4,
             "#fde0ef"
            ],
            [
             0.5,
             "#f7f7f7"
            ],
            [
             0.6,
             "#e6f5d0"
            ],
            [
             0.7,
             "#b8e186"
            ],
            [
             0.8,
             "#7fbc41"
            ],
            [
             0.9,
             "#4d9221"
            ],
            [
             1,
             "#276419"
            ]
           ],
           "sequential": [
            [
             0,
             "#0d0887"
            ],
            [
             0.1111111111111111,
             "#46039f"
            ],
            [
             0.2222222222222222,
             "#7201a8"
            ],
            [
             0.3333333333333333,
             "#9c179e"
            ],
            [
             0.4444444444444444,
             "#bd3786"
            ],
            [
             0.5555555555555556,
             "#d8576b"
            ],
            [
             0.6666666666666666,
             "#ed7953"
            ],
            [
             0.7777777777777778,
             "#fb9f3a"
            ],
            [
             0.8888888888888888,
             "#fdca26"
            ],
            [
             1,
             "#f0f921"
            ]
           ],
           "sequentialminus": [
            [
             0,
             "#0d0887"
            ],
            [
             0.1111111111111111,
             "#46039f"
            ],
            [
             0.2222222222222222,
             "#7201a8"
            ],
            [
             0.3333333333333333,
             "#9c179e"
            ],
            [
             0.4444444444444444,
             "#bd3786"
            ],
            [
             0.5555555555555556,
             "#d8576b"
            ],
            [
             0.6666666666666666,
             "#ed7953"
            ],
            [
             0.7777777777777778,
             "#fb9f3a"
            ],
            [
             0.8888888888888888,
             "#fdca26"
            ],
            [
             1,
             "#f0f921"
            ]
           ]
          },
          "colorway": [
           "#636efa",
           "#EF553B",
           "#00cc96",
           "#ab63fa",
           "#FFA15A",
           "#19d3f3",
           "#FF6692",
           "#B6E880",
           "#FF97FF",
           "#FECB52"
          ],
          "font": {
           "color": "#2a3f5f"
          },
          "geo": {
           "bgcolor": "white",
           "lakecolor": "white",
           "landcolor": "#E5ECF6",
           "showlakes": true,
           "showland": true,
           "subunitcolor": "white"
          },
          "hoverlabel": {
           "align": "left"
          },
          "hovermode": "closest",
          "mapbox": {
           "style": "light"
          },
          "paper_bgcolor": "white",
          "plot_bgcolor": "#E5ECF6",
          "polar": {
           "angularaxis": {
            "gridcolor": "white",
            "linecolor": "white",
            "ticks": ""
           },
           "bgcolor": "#E5ECF6",
           "radialaxis": {
            "gridcolor": "white",
            "linecolor": "white",
            "ticks": ""
           }
          },
          "scene": {
           "xaxis": {
            "backgroundcolor": "#E5ECF6",
            "gridcolor": "white",
            "gridwidth": 2,
            "linecolor": "white",
            "showbackground": true,
            "ticks": "",
            "zerolinecolor": "white"
           },
           "yaxis": {
            "backgroundcolor": "#E5ECF6",
            "gridcolor": "white",
            "gridwidth": 2,
            "linecolor": "white",
            "showbackground": true,
            "ticks": "",
            "zerolinecolor": "white"
           },
           "zaxis": {
            "backgroundcolor": "#E5ECF6",
            "gridcolor": "white",
            "gridwidth": 2,
            "linecolor": "white",
            "showbackground": true,
            "ticks": "",
            "zerolinecolor": "white"
           }
          },
          "shapedefaults": {
           "line": {
            "color": "#2a3f5f"
           }
          },
          "ternary": {
           "aaxis": {
            "gridcolor": "white",
            "linecolor": "white",
            "ticks": ""
           },
           "baxis": {
            "gridcolor": "white",
            "linecolor": "white",
            "ticks": ""
           },
           "bgcolor": "#E5ECF6",
           "caxis": {
            "gridcolor": "white",
            "linecolor": "white",
            "ticks": ""
           }
          },
          "title": {
           "x": 0.05
          },
          "xaxis": {
           "automargin": true,
           "gridcolor": "white",
           "linecolor": "white",
           "ticks": "",
           "title": {
            "standoff": 15
           },
           "zerolinecolor": "white",
           "zerolinewidth": 2
          },
          "yaxis": {
           "automargin": true,
           "gridcolor": "white",
           "linecolor": "white",
           "ticks": "",
           "title": {
            "standoff": 15
           },
           "zerolinecolor": "white",
           "zerolinewidth": 2
          }
         }
        },
        "title": {
         "text": "<b>Volatility Surface</b>",
         "x": 0.5,
         "xanchor": "center",
         "y": 0.95,
         "yanchor": "top"
        },
        "width": 1000
       }
      },
      "text/html": [
       "<div>                            <div id=\"554b4fdf-a6aa-446d-9bdb-5777726e7971\" class=\"plotly-graph-div\" style=\"height:500px; width:1000px;\"></div>            <script type=\"text/javascript\">                require([\"plotly\"], function(Plotly) {                    window.PLOTLYENV=window.PLOTLYENV || {};                                    if (document.getElementById(\"554b4fdf-a6aa-446d-9bdb-5777726e7971\")) {                    Plotly.newPlot(                        \"554b4fdf-a6aa-446d-9bdb-5777726e7971\",                        [{\"colorscale\":[[0.0,\"rgb(0, 147, 146)\"],[0.16666666666666666,\"rgb(57, 177, 133)\"],[0.3333333333333333,\"rgb(156, 203, 134)\"],[0.5,\"rgb(233, 226, 156)\"],[0.6666666666666666,\"rgb(238, 180, 121)\"],[0.8333333333333334,\"rgb(232, 132, 113)\"],[1.0,\"rgb(207, 89, 126)\"]],\"contours\":{\"x\":{\"color\":\"red\",\"show\":true,\"size\":0.1},\"y\":{\"color\":\"red\",\"show\":true,\"size\":0.1}},\"hovertemplate\":\"Moneyness:  %{y: .2%}<br>Maturity (yrs): %{x: .1f}<br>Volatility: %{z: .2f}<extra></extra>\",\"type\":\"surface\",\"x\":[0.08333333333333333,1.0,2.0,3.0],\"y\":[0.5,0.51010101010101,0.5202020202020202,0.5303030303030303,0.5404040404040404,0.5505050505050505,0.5606060606060606,0.5707070707070707,0.5808080808080808,0.5909090909090909,0.601010101010101,0.6111111111111112,0.6212121212121212,0.6313131313131313,0.6414141414141414,0.6515151515151515,0.6616161616161617,0.6717171717171717,0.6818181818181819,0.6919191919191919,0.702020202020202,0.7121212121212122,0.7222222222222222,0.7323232323232324,0.7424242424242424,0.7525252525252526,0.7626262626262627,0.7727272727272727,0.7828282828282829,0.7929292929292929,0.803030303030303,0.8131313131313131,0.8232323232323233,0.8333333333333334,0.8434343434343434,0.8535353535353536,0.8636363636363636,0.8737373737373737,0.8838383838383839,0.893939393939394,0.9040404040404041,0.9141414141414141,0.9242424242424243,0.9343434343434344,0.9444444444444444,0.9545454545454546,0.9646464646464648,0.9747474747474748,0.9848484848484849,0.994949494949495,1.0050505050505052,1.0151515151515151,1.0252525252525253,1.0353535353535355,1.0454545454545454,1.0555555555555556,1.0656565656565657,1.0757575757575757,1.0858585858585859,1.095959595959596,1.106060606060606,1.1161616161616164,1.1262626262626263,1.1363636363636365,1.1464646464646466,1.1565656565656566,1.1666666666666667,1.176767676767677,1.1868686868686869,1.196969696969697,1.2070707070707072,1.2171717171717171,1.2272727272727273,1.2373737373737375,1.2474747474747474,1.2575757575757578,1.2676767676767677,1.2777777777777777,1.287878787878788,1.297979797979798,1.3080808080808082,1.3181818181818183,1.3282828282828283,1.3383838383838385,1.3484848484848486,1.3585858585858586,1.3686868686868687,1.378787878787879,1.3888888888888888,1.3989898989898992,1.4090909090909092,1.4191919191919191,1.4292929292929295,1.4393939393939394,1.4494949494949496,1.4595959595959598,1.4696969696969697,1.47979797979798,1.48989898989899,1.5],\"z\":[[0.4627997473474606,0.43190563698299017,0.4039120726628932,0.3181881458592934],[0.4593440499611189,0.4269614765904312,0.40192909354178735,0.3166247792585516],[0.455961627450838,0.4221981719708083,0.39998712531390873,0.3150910963952644],[0.4526493405020954,0.4176053948908161,0.3980845328774583,0.31358595911689385],[0.4494042349471452,0.41317356615022666,0.3962197803753225,0.31210829401300605],[0.44622355096845645,0.4088938515441701,0.39439142138389666,0.3106570882428635],[0.4431047000920239,0.4047580718720171,0.3925980929327678,0.3092313848991728],[0.4400452531049756,0.4007586470002306,0.3908385089374568,0.3078302791961835],[0.4370429269940784,0.3968885398250086,0.38911145472379144,0.3064529145533619],[0.43409557345379063,0.393141207172213,0.3874157818220588,0.30509847916044097],[0.43120116863855357,0.3895105564726732,0.3857504030829672,0.303766202923933],[0.42835780384132666,0.3859909068722778,0.3841142883877859,0.30245535466511747],[0.4255636770509414,0.3825769543925583,0.3825064607340214,0.3011652395556746],[0.4228170852648303,0.37926374058401735,0.38092599265059945,0.29989519686112753],[0.4201164174877622,0.37604662429630714,0.37937200290941286,0.2986445977083093],[0.4174601483572477,0.37292125625235545,0.37784365356276317,0.29741284297066034],[0.41484683238276937,0.3698835562767364,0.376340147193307,0.296199361426646],[0.4122750985067728,0.3669296921160477,0.37486072423362765,0.29500360806048065],[0.4097436451569677,0.3640560603711076,0.37340466060062505,0.29382506248948076],[0.40725123575053657,0.36125926933091135,0.3719712655235746,0.29266322755220947],[0.40479669455876405,0.3585361233444658,0.3705598795350029,0.29151762799069375],[0.4023789028979387,0.35588360857106327,0.3691698726101257,0.29038780909247786],[0.3999967956161975,0.35329887996858217,0.36780064246910776,0.28927333551693735],[0.39764935784919636,0.35077924939550176,0.3664516130166453,0.2881737902161996],[0.395335622036197,0.3483221747645507,0.3651222327751247,0.28708877342952555],[0.3930546651838313,0.3459252501732767,0.3638119734903541,0.2860179017577754],[0.3908056062318962,0.34358619654445566,0.3625203288485055,0.28496080734139395],[0.38858760365078976,0.34130285315505077,0.36124681327995173,0.28391713698092347],[0.38639985322683845,0.33907316989183195,0.3599909608431046,0.28288655134622903],[0.3842415860024628,0.33689520011355234,0.3587523241939188,0.2818687242646166],[0.38211206635837597,0.3347670940647441,0.35753047364842006,0.2808633420536769],[0.38001059022622946,0.33268709279180203,0.3563249962218397,0.27987010289759773],[0.3779364834212364,0.33065352251711255,0.35513549476035877,0.27888871629624457],[0.3758891001003864,0.3286647894733999,0.35396158714387843,0.27791890250012985],[0.3738678213242928,0.3267193751226404,0.3528029055380246,0.2769603919530757],[0.3718720536576314,0.32481583157159766,0.35165909569182074,0.27601292480572265],[0.3699012278897678,0.3229527774045817,0.35052981628275776,0.27507625045882045],[0.36795479784159124,0.32112889382690507,0.34941473832488623,0.2741501271329098],[0.3660322392460825,0.3193429210766811,0.348313544557552,0.2732343214785724],[0.3641330486971704,0.317593655083342,0.34722592887924797,0.2723286082095898],[0.36225674266188596,0.31587994435320965,0.3461515958310746,0.2714327697038391],[0.36040285655148147,0.3142006870648443,0.345090260109594,0.27054659565772887],[0.3585709438606473,0.3125548283919119,0.34404164610703947,0.26966988276501924],[0.3567605753475655,0.3109413579771317,0.34300548747900045,0.2688024344129139],[0.3549713382341983,0.30935930750285523,0.34198152675436017,0.26794406039888174],[0.35320283547220793,0.30780774847125225,0.3409695149346774,0.26709457668051917],[0.3514546850516476,0.3062857901301305,0.33996921111074363,0.26625380509471225],[0.3497265193475326,0.3047925775285459,0.33898038211578063,0.2654215731011717],[0.3480179845017445,0.30332728969284556,0.33800280219713164,0.26459771355118694],[0.3463287398379108,0.30188913791446453,0.33703625270501225,0.26378206446806834],[0.3446584573076266,0.3004773641427947,0.33608052179793246,0.2629744688393038],[0.3430068209766358,0.29909123950099636,0.3351354041759778,0.2621747744336512],[0.3413735265233186,0.29773006285594034,0.33420070081154474,0.2613828336088834],[0.33975828075198256,0.2963931594481138,0.33327621868145096,0.26059850311527644],[0.33816080114279745,0.29507987963125476,0.33236177052677374,0.2598216439249311],[0.3365808154242512,0.29378959768574736,0.3314571746250285,0.25905212106991915],[0.3350180611661433,0.2925217106995047,0.3305622545733593,0.2582898034880754],[0.3334722853918232,0.2912756375118592,0.32967683908231943,0.2575345638828291],[0.3319432442084658,0.290050817716361,0.3288007617876303,0.25678627859146125],[0.33043070245519357,0.2888467107207633,0.32793386106499595,0.25604482743450785],[0.328934433375418,0.28766279487702984,0.32707597983833725,0.2553100935856943],[0.327454218288986,0.2864985666255153,0.32622696540878665,0.25458196345049383],[0.32598984627691213,0.2853535396819837,0.3253866692925711,0.25386032655008006],[0.32454111388655277,0.2842272442836471,0.32455494706621957,0.25314507541235076],[0.3231078248491545,0.28311922647510873,0.3237316582187355,0.2524361054767741],[0.32168978980891283,0.282029047431502,0.32291666601519703,0.25173331498303725],[0.32028682606283965,0.28095628281657714,0.32210983736655313,0.2510366048679466],[0.3188987573107883,0.27990052217364736,0.3213110426897237,0.25034587867281743],[0.31752541341633433,0.27886136835021,0.3205201557827668,0.24966104245478213],[0.31616663018200053,0.27783843696307947,0.3197370537069425,0.24898200470211626],[0.31482224911980006,0.2768313558627609,0.31896161667378925,0.2483086762602344],[0.31349211723257575,0.275839764630065,0.31819372793696016,0.24764097025263196],[0.3121760868065165,0.2748633141050208,0.31743327369117963,0.246978801997168],[0.31087401521066804,0.2739016659386383,0.31668014297859703,0.24632208893401447],[0.3095857647030167,0.272954492166216,0.31593422758535716,0.24567075055691365],[0.30831120224275776,0.27202147480098654,0.3151954219483331,0.24502470834716517],[0.3070501993083911,0.27110230544697533,0.31446362306766823,0.2443838857135354],[0.3058026317228967,0.2701966849333994,0.31373873042281814,0.24374820793624258],[0.30456837948656457,0.26930432297160073,0.3130206458919281,0.2431176020998259],[0.3033473266049686,0.2684249378076496,0.3123092736756893,0.2424919970353952],[0.30213936092563526,0.26755825589895105,0.3116045202282828,0.24187132326666397],[0.3009443739807167,0.2667040116088941,0.3109062941802927,0.2412555129580188],[0.2997622608337566,0.26586194691522835,0.3102145062675114,0.2406444998654794],[0.2985929199303298,0.2650318111314459,0.30952906926496393,0.24003821929450436],[0.2974362529523519,0.2642133606404937,0.3088498979234332,0.2394366080488127],[0.2962921646758784,0.2634063586401966,0.30817690890837346,0.23883960438229623],[0.29516056283388054,0.2626105749035665,0.30751002074170203,0.238247147956139],[0.2940413579822506,0.2618257855501791,0.30684915374960625,0.2376591797974966],[0.29293446336296075,0.26105177281439296,0.30619423000477,0.2370756422597938],[0.2918397947736538,0.2602883248307016,0.3055451732710017,0.2364964789883002],[0.29075727044054356,0.25953523542947016,0.30490190895269725,0.23592163488298273],[0.2896868108942856,0.2587923039414487,0.30426436404610885,0.23535105605777132],[0.2886283388474669,0.25805933500977596,0.3036324670924366,0.2347846898058383],[0.28758177907688487,0.2573361384113301,0.3030061481327048,0.2342224845664344],[0.286547058304102,0.25662252888264514,0.3023853386672971,0.2336643898926789],[0.2855241050808074,0.25591832595741504,0.30176997161380115,0.23311035642236122],[0.2845128497105472,0.2552233538324759,0.30115998125679283,0.2325603358518451],[0.28351322394817857,0.2545374410791936,0.3005553032320711,0.23201428089759774],[0.2825251616777919,0.25386042104110096,0.2999558744189435,0.2314721452852184],[0.2815485959907127,0.2531921297430852,0.2993616330680001,0.2309338836699018]]}],                        {\"font\":{\"family\":\"Courier New, monospace\",\"size\":10},\"height\":500,\"margin\":{\"b\":65,\"l\":65,\"r\":50,\"t\":90},\"scene\":{\"xaxis\":{\"autorange\":\"reversed\",\"tickformat\":\".1f\",\"title\":{\"text\":\"Maturity (yrs)\"}},\"yaxis\":{\"tickformat\":\".2%\",\"title\":{\"text\":\"Moneyness\"}},\"zaxis\":{\"tickformat\":\".2%\",\"title\":{\"text\":\"Volatility\"}}},\"template\":{\"data\":{\"bar\":[{\"error_x\":{\"color\":\"#2a3f5f\"},\"error_y\":{\"color\":\"#2a3f5f\"},\"marker\":{\"line\":{\"color\":\"#E5ECF6\",\"width\":0.5},\"pattern\":{\"fillmode\":\"overlay\",\"size\":10,\"solidity\":0.2}},\"type\":\"bar\"}],\"barpolar\":[{\"marker\":{\"line\":{\"color\":\"#E5ECF6\",\"width\":0.5},\"pattern\":{\"fillmode\":\"overlay\",\"size\":10,\"solidity\":0.2}},\"type\":\"barpolar\"}],\"carpet\":[{\"aaxis\":{\"endlinecolor\":\"#2a3f5f\",\"gridcolor\":\"white\",\"linecolor\":\"white\",\"minorgridcolor\":\"white\",\"startlinecolor\":\"#2a3f5f\"},\"baxis\":{\"endlinecolor\":\"#2a3f5f\",\"gridcolor\":\"white\",\"linecolor\":\"white\",\"minorgridcolor\":\"white\",\"startlinecolor\":\"#2a3f5f\"},\"type\":\"carpet\"}],\"choropleth\":[{\"colorbar\":{\"outlinewidth\":0,\"ticks\":\"\"},\"type\":\"choropleth\"}],\"contour\":[{\"colorbar\":{\"outlinewidth\":0,\"ticks\":\"\"},\"colorscale\":[[0.0,\"#0d0887\"],[0.1111111111111111,\"#46039f\"],[0.2222222222222222,\"#7201a8\"],[0.3333333333333333,\"#9c179e\"],[0.4444444444444444,\"#bd3786\"],[0.5555555555555556,\"#d8576b\"],[0.6666666666666666,\"#ed7953\"],[0.7777777777777778,\"#fb9f3a\"],[0.8888888888888888,\"#fdca26\"],[1.0,\"#f0f921\"]],\"type\":\"contour\"}],\"contourcarpet\":[{\"colorbar\":{\"outlinewidth\":0,\"ticks\":\"\"},\"type\":\"contourcarpet\"}],\"heatmap\":[{\"colorbar\":{\"outlinewidth\":0,\"ticks\":\"\"},\"colorscale\":[[0.0,\"#0d0887\"],[0.1111111111111111,\"#46039f\"],[0.2222222222222222,\"#7201a8\"],[0.3333333333333333,\"#9c179e\"],[0.4444444444444444,\"#bd3786\"],[0.5555555555555556,\"#d8576b\"],[0.6666666666666666,\"#ed7953\"],[0.7777777777777778,\"#fb9f3a\"],[0.8888888888888888,\"#fdca26\"],[1.0,\"#f0f921\"]],\"type\":\"heatmap\"}],\"heatmapgl\":[{\"colorbar\":{\"outlinewidth\":0,\"ticks\":\"\"},\"colorscale\":[[0.0,\"#0d0887\"],[0.1111111111111111,\"#46039f\"],[0.2222222222222222,\"#7201a8\"],[0.3333333333333333,\"#9c179e\"],[0.4444444444444444,\"#bd3786\"],[0.5555555555555556,\"#d8576b\"],[0.6666666666666666,\"#ed7953\"],[0.7777777777777778,\"#fb9f3a\"],[0.8888888888888888,\"#fdca26\"],[1.0,\"#f0f921\"]],\"type\":\"heatmapgl\"}],\"histogram\":[{\"marker\":{\"pattern\":{\"fillmode\":\"overlay\",\"size\":10,\"solidity\":0.2}},\"type\":\"histogram\"}],\"histogram2d\":[{\"colorbar\":{\"outlinewidth\":0,\"ticks\":\"\"},\"colorscale\":[[0.0,\"#0d0887\"],[0.1111111111111111,\"#46039f\"],[0.2222222222222222,\"#7201a8\"],[0.3333333333333333,\"#9c179e\"],[0.4444444444444444,\"#bd3786\"],[0.5555555555555556,\"#d8576b\"],[0.6666666666666666,\"#ed7953\"],[0.7777777777777778,\"#fb9f3a\"],[0.8888888888888888,\"#fdca26\"],[1.0,\"#f0f921\"]],\"type\":\"histogram2d\"}],\"histogram2dcontour\":[{\"colorbar\":{\"outlinewidth\":0,\"ticks\":\"\"},\"colorscale\":[[0.0,\"#0d0887\"],[0.1111111111111111,\"#46039f\"],[0.2222222222222222,\"#7201a8\"],[0.3333333333333333,\"#9c179e\"],[0.4444444444444444,\"#bd3786\"],[0.5555555555555556,\"#d8576b\"],[0.6666666666666666,\"#ed7953\"],[0.7777777777777778,\"#fb9f3a\"],[0.8888888888888888,\"#fdca26\"],[1.0,\"#f0f921\"]],\"type\":\"histogram2dcontour\"}],\"mesh3d\":[{\"colorbar\":{\"outlinewidth\":0,\"ticks\":\"\"},\"type\":\"mesh3d\"}],\"parcoords\":[{\"line\":{\"colorbar\":{\"outlinewidth\":0,\"ticks\":\"\"}},\"type\":\"parcoords\"}],\"pie\":[{\"automargin\":true,\"type\":\"pie\"}],\"scatter\":[{\"marker\":{\"colorbar\":{\"outlinewidth\":0,\"ticks\":\"\"}},\"type\":\"scatter\"}],\"scatter3d\":[{\"line\":{\"colorbar\":{\"outlinewidth\":0,\"ticks\":\"\"}},\"marker\":{\"colorbar\":{\"outlinewidth\":0,\"ticks\":\"\"}},\"type\":\"scatter3d\"}],\"scattercarpet\":[{\"marker\":{\"colorbar\":{\"outlinewidth\":0,\"ticks\":\"\"}},\"type\":\"scattercarpet\"}],\"scattergeo\":[{\"marker\":{\"colorbar\":{\"outlinewidth\":0,\"ticks\":\"\"}},\"type\":\"scattergeo\"}],\"scattergl\":[{\"marker\":{\"colorbar\":{\"outlinewidth\":0,\"ticks\":\"\"}},\"type\":\"scattergl\"}],\"scattermapbox\":[{\"marker\":{\"colorbar\":{\"outlinewidth\":0,\"ticks\":\"\"}},\"type\":\"scattermapbox\"}],\"scatterpolar\":[{\"marker\":{\"colorbar\":{\"outlinewidth\":0,\"ticks\":\"\"}},\"type\":\"scatterpolar\"}],\"scatterpolargl\":[{\"marker\":{\"colorbar\":{\"outlinewidth\":0,\"ticks\":\"\"}},\"type\":\"scatterpolargl\"}],\"scatterternary\":[{\"marker\":{\"colorbar\":{\"outlinewidth\":0,\"ticks\":\"\"}},\"type\":\"scatterternary\"}],\"surface\":[{\"colorbar\":{\"outlinewidth\":0,\"ticks\":\"\"},\"colorscale\":[[0.0,\"#0d0887\"],[0.1111111111111111,\"#46039f\"],[0.2222222222222222,\"#7201a8\"],[0.3333333333333333,\"#9c179e\"],[0.4444444444444444,\"#bd3786\"],[0.5555555555555556,\"#d8576b\"],[0.6666666666666666,\"#ed7953\"],[0.7777777777777778,\"#fb9f3a\"],[0.8888888888888888,\"#fdca26\"],[1.0,\"#f0f921\"]],\"type\":\"surface\"}],\"table\":[{\"cells\":{\"fill\":{\"color\":\"#EBF0F8\"},\"line\":{\"color\":\"white\"}},\"header\":{\"fill\":{\"color\":\"#C8D4E3\"},\"line\":{\"color\":\"white\"}},\"type\":\"table\"}]},\"layout\":{\"annotationdefaults\":{\"arrowcolor\":\"#2a3f5f\",\"arrowhead\":0,\"arrowwidth\":1},\"autotypenumbers\":\"strict\",\"coloraxis\":{\"colorbar\":{\"outlinewidth\":0,\"ticks\":\"\"}},\"colorscale\":{\"diverging\":[[0,\"#8e0152\"],[0.1,\"#c51b7d\"],[0.2,\"#de77ae\"],[0.3,\"#f1b6da\"],[0.4,\"#fde0ef\"],[0.5,\"#f7f7f7\"],[0.6,\"#e6f5d0\"],[0.7,\"#b8e186\"],[0.8,\"#7fbc41\"],[0.9,\"#4d9221\"],[1,\"#276419\"]],\"sequential\":[[0.0,\"#0d0887\"],[0.1111111111111111,\"#46039f\"],[0.2222222222222222,\"#7201a8\"],[0.3333333333333333,\"#9c179e\"],[0.4444444444444444,\"#bd3786\"],[0.5555555555555556,\"#d8576b\"],[0.6666666666666666,\"#ed7953\"],[0.7777777777777778,\"#fb9f3a\"],[0.8888888888888888,\"#fdca26\"],[1.0,\"#f0f921\"]],\"sequentialminus\":[[0.0,\"#0d0887\"],[0.1111111111111111,\"#46039f\"],[0.2222222222222222,\"#7201a8\"],[0.3333333333333333,\"#9c179e\"],[0.4444444444444444,\"#bd3786\"],[0.5555555555555556,\"#d8576b\"],[0.6666666666666666,\"#ed7953\"],[0.7777777777777778,\"#fb9f3a\"],[0.8888888888888888,\"#fdca26\"],[1.0,\"#f0f921\"]]},\"colorway\":[\"#636efa\",\"#EF553B\",\"#00cc96\",\"#ab63fa\",\"#FFA15A\",\"#19d3f3\",\"#FF6692\",\"#B6E880\",\"#FF97FF\",\"#FECB52\"],\"font\":{\"color\":\"#2a3f5f\"},\"geo\":{\"bgcolor\":\"white\",\"lakecolor\":\"white\",\"landcolor\":\"#E5ECF6\",\"showlakes\":true,\"showland\":true,\"subunitcolor\":\"white\"},\"hoverlabel\":{\"align\":\"left\"},\"hovermode\":\"closest\",\"mapbox\":{\"style\":\"light\"},\"paper_bgcolor\":\"white\",\"plot_bgcolor\":\"#E5ECF6\",\"polar\":{\"angularaxis\":{\"gridcolor\":\"white\",\"linecolor\":\"white\",\"ticks\":\"\"},\"bgcolor\":\"#E5ECF6\",\"radialaxis\":{\"gridcolor\":\"white\",\"linecolor\":\"white\",\"ticks\":\"\"}},\"scene\":{\"xaxis\":{\"backgroundcolor\":\"#E5ECF6\",\"gridcolor\":\"white\",\"gridwidth\":2,\"linecolor\":\"white\",\"showbackground\":true,\"ticks\":\"\",\"zerolinecolor\":\"white\"},\"yaxis\":{\"backgroundcolor\":\"#E5ECF6\",\"gridcolor\":\"white\",\"gridwidth\":2,\"linecolor\":\"white\",\"showbackground\":true,\"ticks\":\"\",\"zerolinecolor\":\"white\"},\"zaxis\":{\"backgroundcolor\":\"#E5ECF6\",\"gridcolor\":\"white\",\"gridwidth\":2,\"linecolor\":\"white\",\"showbackground\":true,\"ticks\":\"\",\"zerolinecolor\":\"white\"}},\"shapedefaults\":{\"line\":{\"color\":\"#2a3f5f\"}},\"ternary\":{\"aaxis\":{\"gridcolor\":\"white\",\"linecolor\":\"white\",\"ticks\":\"\"},\"baxis\":{\"gridcolor\":\"white\",\"linecolor\":\"white\",\"ticks\":\"\"},\"bgcolor\":\"#E5ECF6\",\"caxis\":{\"gridcolor\":\"white\",\"linecolor\":\"white\",\"ticks\":\"\"}},\"title\":{\"x\":0.05},\"xaxis\":{\"automargin\":true,\"gridcolor\":\"white\",\"linecolor\":\"white\",\"ticks\":\"\",\"title\":{\"standoff\":15},\"zerolinecolor\":\"white\",\"zerolinewidth\":2},\"yaxis\":{\"automargin\":true,\"gridcolor\":\"white\",\"linecolor\":\"white\",\"ticks\":\"\",\"title\":{\"standoff\":15},\"zerolinecolor\":\"white\",\"zerolinewidth\":2}}},\"title\":{\"text\":\"<b>Volatility Surface</b>\",\"x\":0.5,\"xanchor\":\"center\",\"y\":0.95,\"yanchor\":\"top\"},\"width\":1000},                        {\"responsive\": true}                    ).then(function(){\n",
       "                            \n",
       "var gd = document.getElementById('554b4fdf-a6aa-446d-9bdb-5777726e7971');\n",
       "var x = new MutationObserver(function (mutations, observer) {{\n",
       "        var display = window.getComputedStyle(gd).display;\n",
       "        if (!display || display === 'none') {{\n",
       "            console.log([gd, 'removed!']);\n",
       "            Plotly.purge(gd);\n",
       "            observer.disconnect();\n",
       "        }}\n",
       "}});\n",
       "\n",
       "// Listen for the removal of the full notebook cells\n",
       "var notebookContainer = gd.closest('#notebook-container');\n",
       "if (notebookContainer) {{\n",
       "    x.observe(notebookContainer, {childList: true});\n",
       "}}\n",
       "\n",
       "// Listen for the clearing of the current output cell\n",
       "var outputEl = gd.closest('.output');\n",
       "if (outputEl) {{\n",
       "    x.observe(outputEl, {childList: true});\n",
       "}}\n",
       "\n",
       "                        })                };                });            </script>        </div>"
      ]
     },
     "metadata": {},
     "output_type": "display_data"
    }
   ],
   "source": [
    "# \n",
    "refdate = dt.datetime(2017,1,1,0,0,0)\n",
    "expiries = [dt.datetime(2017,2,1,0,0,0), dt.datetime(2018,1,1,0,0,0), dt.datetime(2019,1,1,0,0,0), dt.datetime(2020,1,1,0,0,0)]\n",
    "\n",
    "# strikes = list(s_range(80, 120, 100))\n",
    "moneyness = np.linspace(0.5, 1.5,100)\n",
    "\n",
    "y = moneyness\n",
    "x = ttm\n",
    "\n",
    "term_structure = []\n",
    "for i in moneyness: \n",
    "    temp = []\n",
    "    for j in expiries:\n",
    "      strike = i*forward_curve.value(refdate,j)\n",
    "      temp.append(vol_surf.calc_implied_vol(j, strike,refdate))\n",
    "    term_structure.append(temp)\n",
    "\n",
    "fig3 = go.Figure(data=[go.Surface(x=x, y=y,z=term_structure\n",
    "                      ,contours = {\"x\": {\"show\": True,\"size\": 0.1, \"color\":\"red\"},\n",
    "                                   \"y\": {\"show\": True,\"size\": 0.1, \"color\":\"red\"},}\n",
    "                      ,hovertemplate = \n",
    "                        'Moneyness:  %{y: .2%}' +\\\n",
    "                        '<br>Maturity (yrs): %{x: .1f}' +\\\n",
    "                        '<br>Volatility: %{z: .2f}<extra></extra>'\n",
    "                     ,colorscale = 'temps')\n",
    "                     ])\n",
    "\n",
    "fig3.update_layout(title={\n",
    "                      'text': \"<b>Volatility Surface</b>\",\n",
    "                      'y':0.95,\n",
    "                      'x':0.5,\n",
    "                      'xanchor': 'center',\n",
    "                      'yanchor': 'top'\n",
    "                        }\n",
    "                # ,autosize=True\n",
    "                ,width=1000\n",
    "                ,height=500\n",
    "                ,scene = dict(\n",
    "                  xaxis_title='Maturity (yrs)'\n",
    "                  ,xaxis_tickformat = '.1f'\n",
    "                  ,xaxis_autorange = 'reversed'\n",
    "                  ,yaxis_title='Moneyness'\n",
    "                  ,yaxis_tickformat = '.2%'\n",
    "                  ,zaxis_title='Volatility'\n",
    "                  ,zaxis_tickformat = '.2%'\n",
    "                  )\n",
    "                ,font=dict(\n",
    "                  family=\"Courier New, monospace\"\n",
    "                  ,size=10\n",
    "                  )\n",
    "                ,margin=dict(l=65, r=50, b=65, t=90)\n",
    ")\n",
    "\n",
    "fig3.show()"
   ]
  },
  {
   "cell_type": "markdown",
   "id": "2556a65c",
   "metadata": {},
   "source": [
    "---"
   ]
  }
 ],
 "metadata": {
  "kernelspec": {
   "display_name": "Python 3",
   "language": "python",
   "name": "python3"
  },
  "language_info": {
   "codemirror_mode": {
    "name": "ipython",
    "version": 3
   },
   "file_extension": ".py",
   "mimetype": "text/x-python",
   "name": "python",
   "nbconvert_exporter": "python",
   "pygments_lexer": "ipython3",
   "version": "3.8.8"
  },
  "toc": {
   "base_numbering": 1,
   "nav_menu": {},
   "number_sections": true,
   "sideBar": true,
   "skip_h1_title": true,
   "title_cell": "Table of Contents",
   "title_sidebar": "Contents",
   "toc_cell": false,
   "toc_position": {
    "height": "calc(100% - 180px)",
    "left": "10px",
    "top": "150px",
    "width": "165px"
   },
   "toc_section_display": true,
   "toc_window_display": true
  }
 },
 "nbformat": 4,
 "nbformat_minor": 5
}
