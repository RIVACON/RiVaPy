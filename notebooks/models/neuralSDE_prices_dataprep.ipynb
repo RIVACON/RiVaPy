{
 "cells": [
  {
   "cell_type": "code",
   "execution_count": 38,
   "metadata": {},
   "outputs": [],
   "source": [
    "import numpy as np\n",
    "import xarray as xr\n",
    "import matplotlib.pyplot as plt\n",
    "import matplotlib.gridspec as gridspec\n",
    "import pandas as pd\n",
    "\n",
    "import xarray as xr\n",
    "\n",
    "from typing import Sequence, Optional, Union\n",
    "\n",
    "import torch\n",
    "import tqdm\n",
    "from torch import nn\n",
    "from torch import optim\n",
    "from torch.distributions import Normal\n",
    "\n",
    "from collections import namedtuple\n",
    "\n",
    "import torchsde\n",
    "\n",
    "#for plotting\n",
    "import os\n",
    "os.environ[\"KMP_DUPLICATE_LIB_OK\"]=\"TRUE\"\n",
    "\n",
    "\n",
    "import numpy as np\n",
    "import scipy as scp\n",
    "import scipy.stats as ss\n",
    "from scipy.optimize import minimize\n",
    "import matplotlib.pyplot as plt\n",
    "from scipy import sparse\n",
    "from scipy.sparse.linalg import spsolve\n",
    "from mpl_toolkits import mplot3d\n",
    "from matplotlib import cm\n",
    "import scipy.special as scsp\n",
    "from scipy.integrate import quad\n",
    "from scipy.interpolate import RegularGridInterpolator\n",
    "\n",
    "\n",
    "from datetime import date\n",
    "import holidays\n",
    "\n",
    "\n",
    "from sys import exit"
   ]
  },
  {
   "cell_type": "code",
   "execution_count": 96,
   "metadata": {},
   "outputs": [],
   "source": [
    "spot_data = pd.read_pickle('spot.pickle')\n"
   ]
  },
  {
   "cell_type": "code",
   "execution_count": 97,
   "metadata": {},
   "outputs": [
    {
     "data": {
      "text/plain": [
       "[<matplotlib.lines.Line2D at 0x264c3d62cd0>,\n",
       " <matplotlib.lines.Line2D at 0x264c63e8b50>,\n",
       " <matplotlib.lines.Line2D at 0x264c646ef70>,\n",
       " <matplotlib.lines.Line2D at 0x264c646e850>,\n",
       " <matplotlib.lines.Line2D at 0x264c646e2b0>,\n",
       " <matplotlib.lines.Line2D at 0x264c646e040>]"
      ]
     },
     "execution_count": 97,
     "metadata": {},
     "output_type": "execute_result"
    },
    {
     "data": {
      "image/png": "[encoded data removed]",
      "text/plain": [
       "<Figure size 1500x300 with 1 Axes>"
      ]
     },
     "metadata": {},
     "output_type": "display_data"
    }
   ],
   "source": [
    "plt.figure(figsize=(15,3))\n",
    "plt.plot(spot_data)"
   ]
  },
  {
   "cell_type": "code",
   "execution_count": 98,
   "metadata": {},
   "outputs": [],
   "source": [
    "spot_data['Datetime'] = spot_data.index\n",
    "spot_data['Day_of_week'] = spot_data['Datetime'].dt.dayofweek # get day of week\n",
    "spot_data['Month'] = spot_data['Datetime'].dt.month # get hour of day\n",
    "spot_data['Date'] = spot_data['Datetime'].dt.date\n",
    "spot_data['Hour_of_day'] = spot_data['Datetime'].dt.hour # get hour of day\n",
    "de_hldys = holidays.country_holidays('DE')\n",
    "spot_data['isHoliday?'] = spot_data['Datetime'].apply(lambda x: x in de_hldys) # get holiday or not"
   ]
  },
  {
   "cell_type": "code",
   "execution_count": 99,
   "metadata": {},
   "outputs": [
    {
     "name": "stdout",
     "output_type": "stream",
     "text": [
      "                            Spot                  Datetime  Day_of_week  \\\n",
      "2018-10-01 00:00:00+00:00  59.53 2018-10-01 00:00:00+00:00            0   \n",
      "2018-10-01 01:00:00+00:00  56.10 2018-10-01 01:00:00+00:00            0   \n",
      "2018-10-01 02:00:00+00:00  51.41 2018-10-01 02:00:00+00:00            0   \n",
      "2018-10-01 03:00:00+00:00  47.38 2018-10-01 03:00:00+00:00            0   \n",
      "2018-10-01 04:00:00+00:00  47.59 2018-10-01 04:00:00+00:00            0   \n",
      "...                          ...                       ...          ...   \n",
      "2024-02-01 20:00:00+00:00  89.97 2024-02-01 20:00:00+00:00            3   \n",
      "2024-02-01 21:00:00+00:00  83.29 2024-02-01 21:00:00+00:00            3   \n",
      "2024-02-01 22:00:00+00:00  81.88 2024-02-01 22:00:00+00:00            3   \n",
      "2024-02-01 23:00:00+00:00  73.38 2024-02-01 23:00:00+00:00            3   \n",
      "2024-02-02 00:00:00+00:00  64.27 2024-02-02 00:00:00+00:00            4   \n",
      "\n",
      "                           Hour_of_day  isHoliday?  Month        Date  \n",
      "2018-10-01 00:00:00+00:00            0       False     10  2018-10-01  \n",
      "2018-10-01 01:00:00+00:00            1       False     10  2018-10-01  \n",
      "2018-10-01 02:00:00+00:00            2       False     10  2018-10-01  \n",
      "2018-10-01 03:00:00+00:00            3       False     10  2018-10-01  \n",
      "2018-10-01 04:00:00+00:00            4       False     10  2018-10-01  \n",
      "...                                ...         ...    ...         ...  \n",
      "2024-02-01 20:00:00+00:00           20       False      2  2024-02-01  \n",
      "2024-02-01 21:00:00+00:00           21       False      2  2024-02-01  \n",
      "2024-02-01 22:00:00+00:00           22       False      2  2024-02-01  \n",
      "2024-02-01 23:00:00+00:00           23       False      2  2024-02-01  \n",
      "2024-02-02 00:00:00+00:00            0       False      2  2024-02-02  \n",
      "\n",
      "[46802 rows x 7 columns]\n"
     ]
    }
   ],
   "source": [
    "print(spot_data)"
   ]
  },
  {
   "cell_type": "code",
   "execution_count": 100,
   "metadata": {},
   "outputs": [
    {
     "name": "stdout",
     "output_type": "stream",
     "text": [
      "                            Spot                  Datetime  Day_of_week  \\\n",
      "2018-12-24 23:00:00+00:00  31.88 2018-12-24 23:00:00+00:00            0   \n",
      "2018-12-25 00:00:00+00:00  23.79 2018-12-25 00:00:00+00:00            1   \n",
      "\n",
      "                           Hour_of_day  isHoliday?  Month        Date  \n",
      "2018-12-24 23:00:00+00:00           23       False     12  2018-12-24  \n",
      "2018-12-25 00:00:00+00:00            0        True     12  2018-12-25  \n"
     ]
    }
   ],
   "source": [
    "print(spot_data[24*85:24*85+2])"
   ]
  },
  {
   "cell_type": "code",
   "execution_count": 124,
   "metadata": {},
   "outputs": [],
   "source": [
    "spot_data['GWL'] = 0."
   ]
  },
  {
   "cell_type": "code",
   "execution_count": 125,
   "metadata": {},
   "outputs": [
    {
     "name": "stdout",
     "output_type": "stream",
     "text": [
      "Index(['Spot', 'Datetime', 'Day_of_week', 'Hour_of_day', 'isHoliday?', 'Month',\n",
      "       'Date', 'GWL'],\n",
      "      dtype='object')\n"
     ]
    }
   ],
   "source": [
    "print(spot_data.columns)"
   ]
  },
  {
   "cell_type": "code",
   "execution_count": 131,
   "metadata": {},
   "outputs": [],
   "source": [
    "GWL = pd.read_excel('GWL.xlsx')"
   ]
  },
  {
   "cell_type": "code",
   "execution_count": 132,
   "metadata": {},
   "outputs": [
    {
     "name": "stdout",
     "output_type": "stream",
     "text": [
      "          Date  value Unnamed: 2 GWL12 Unnamed: 4 GWL24 Unnamed: 6 GWL36  \\\n",
      "0     20181001     15      NWAZT    15      NWAZT     5      NWAAT     5   \n",
      "1     20181002      5      NWAAT     5      NWAAT     5      NWAAT     5   \n",
      "2     20181003      5      NWAAT     5      NWAAT     5      NWAAT     4   \n",
      "3     20181004      5      NWAAT     5      NWAAT     4      SWAAT    24   \n",
      "4     20181005      4      SWAAT    24      SWZAT    29      SWZAF    29   \n",
      "...        ...    ...        ...   ...        ...   ...        ...   ...   \n",
      "1945  20240128      5      NWAAT     4      SWAAT    24      SWZAT     9   \n",
      "1946  20240129     24      SWZAT     9      SWAAF    29      SWZAF    20   \n",
      "1947  20240130     29      SWZAF    20      NWAZF     5      NWAAT    10   \n",
      "1948  20240131      5      NWAAT    10      NWAAF     5      NWAAT    10   \n",
      "1949  20240201      5      NWAAT    10      NWAAF    10      NWAAF    10   \n",
      "\n",
      "     Unnamed: 8 GWL48  ... GWL72 Unnamed: 14 GWL96 Unnamed: 16 GWL120  \\\n",
      "0         NWAAT     5  ...     5       NWAAT     4       SWAAT     29   \n",
      "1         NWAAT     5  ...     4       SWAAT    29       SWZAF     26   \n",
      "2         SWAAT     4  ...    29       SWZAF     6       XXAAF     21   \n",
      "3         SWZAT    29  ...     5       NWAAT    10       NWAAF      4   \n",
      "4         SWZAF     6  ...     6       XXAAF     9       SWAAF     29   \n",
      "...         ...   ...  ...   ...         ...   ...         ...    ...   \n",
      "1945      SWAAF    29  ...     5       NWAAT    10       NWAAF     10   \n",
      "1946      NWAZF     5  ...    10       NWAAF    10       NWAAF     10   \n",
      "1947      NWAAF     5  ...    10       NWAAF    10       NWAAF     10   \n",
      "1948      NWAAF    10  ...    10       NWAAF    10       NWAAF     10   \n",
      "1949      NWAAF    10  ...    10       NWAAF    10       NWAAF     10   \n",
      "\n",
      "     Unnamed: 18 GWL144 Unnamed: 20 GWL168 Unnamed: 22  \n",
      "0          SWZAF     31       XXZZT      2       NOAAT  \n",
      "1          XXZAF     26       XXZAF     28       SOZAF  \n",
      "2          XXZAT      9       SWAAF     23       SOZAT  \n",
      "3          SWAAT     24       SWZAT     29       SWZAF  \n",
      "4          SWZAF     29       SWZAF     16       XXAZF  \n",
      "...          ...    ...         ...    ...         ...  \n",
      "1945       NWAAF     10       NWAAF      9       SWAAF  \n",
      "1946       NWAAF     10       NWAAF     10       NWAAF  \n",
      "1947       NWAAF     10       NWAAF     10       NWAAF  \n",
      "1948       NWAAF     10       NWAAF     10       NWAAF  \n",
      "1949       NWAAF      9       SWAAF      9       SWAAF  \n",
      "\n",
      "[1950 rows x 23 columns]\n"
     ]
    }
   ],
   "source": [
    "print(GWL)"
   ]
  },
  {
   "cell_type": "code",
   "execution_count": 133,
   "metadata": {},
   "outputs": [],
   "source": [
    "GWL['Date'] = GWL['Date'].apply(lambda x: pd.to_datetime(str(x), format='%Y%m%d'))"
   ]
  },
  {
   "cell_type": "code",
   "execution_count": 134,
   "metadata": {},
   "outputs": [
    {
     "name": "stdout",
     "output_type": "stream",
     "text": [
      "0      2018-10-01\n",
      "1      2018-10-02\n",
      "2      2018-10-03\n",
      "3      2018-10-04\n",
      "4      2018-10-05\n",
      "          ...    \n",
      "1945   2024-01-28\n",
      "1946   2024-01-29\n",
      "1947   2024-01-30\n",
      "1948   2024-01-31\n",
      "1949   2024-02-01\n",
      "Name: Date, Length: 1950, dtype: datetime64[ns]\n"
     ]
    }
   ],
   "source": [
    "print(GWL['Date'])"
   ]
  },
  {
   "cell_type": "code",
   "execution_count": 143,
   "metadata": {},
   "outputs": [],
   "source": [
    "mapping = dict(GWL[['Date', 'value']].values)\n",
    "spot_data['GWL'] = spot_data['Date'].map(mapping)"
   ]
  },
  {
   "cell_type": "code",
   "execution_count": 145,
   "metadata": {},
   "outputs": [
    {
     "name": "stdout",
     "output_type": "stream",
     "text": [
      "Index(['Spot', 'Datetime', 'Day_of_week', 'Hour_of_day', 'isHoliday?', 'Month',\n",
      "       'Date', 'GWL'],\n",
      "      dtype='object')\n",
      "2018-10-01 00:00:00+00:00    2018-10-01\n",
      "2018-10-01 01:00:00+00:00    2018-10-01\n",
      "2018-10-01 02:00:00+00:00    2018-10-01\n",
      "2018-10-01 03:00:00+00:00    2018-10-01\n",
      "2018-10-01 04:00:00+00:00    2018-10-01\n",
      "                                ...    \n",
      "2024-02-01 20:00:00+00:00    2024-02-01\n",
      "2024-02-01 21:00:00+00:00    2024-02-01\n",
      "2024-02-01 22:00:00+00:00    2024-02-01\n",
      "2024-02-01 23:00:00+00:00    2024-02-01\n",
      "2024-02-02 00:00:00+00:00    2024-02-02\n",
      "Name: Date, Length: 46802, dtype: object\n"
     ]
    }
   ],
   "source": [
    "print(spot_data.columns)\n",
    "print(spot_data['GWL'])"
   ]
  },
  {
   "cell_type": "code",
   "execution_count": 85,
   "metadata": {},
   "outputs": [],
   "source": [
    "spot_data.to_pickle('df.pickle')"
   ]
  },
  {
   "cell_type": "code",
   "execution_count": 105,
   "metadata": {},
   "outputs": [],
   "source": [
    "sel = df[(df['Month'] == 5) & (df['Day_of_week'] == 3)]"
   ]
  },
  {
   "cell_type": "code",
   "execution_count": 106,
   "metadata": {},
   "outputs": [
    {
     "name": "stdout",
     "output_type": "stream",
     "text": [
      "2019-05-02 00:00:00+00:00   NaN\n",
      "2019-05-02 01:00:00+00:00   NaN\n",
      "2019-05-02 02:00:00+00:00   NaN\n",
      "2019-05-02 03:00:00+00:00   NaN\n",
      "2019-05-02 04:00:00+00:00   NaN\n",
      "                             ..\n",
      "2023-05-25 19:00:00+00:00   NaN\n",
      "2023-05-25 20:00:00+00:00   NaN\n",
      "2023-05-25 21:00:00+00:00   NaN\n",
      "2023-05-25 22:00:00+00:00   NaN\n",
      "2023-05-25 23:00:00+00:00   NaN\n",
      "Name: GWL, Length: 504, dtype: float64\n"
     ]
    }
   ],
   "source": [
    "print(sel['GWL'])"
   ]
  }
 ],
 "metadata": {
  "kernelspec": {
   "display_name": "rivapy",
   "language": "python",
   "name": "python3"
  },
  "language_info": {
   "codemirror_mode": {
    "name": "ipython",
    "version": 3
   },
   "file_extension": ".py",
   "mimetype": "text/x-python",
   "name": "python",
   "nbconvert_exporter": "python",
   "pygments_lexer": "ipython3",
   "version": "3.8.18"
  }
 },
 "nbformat": 4,
 "nbformat_minor": 2
}
