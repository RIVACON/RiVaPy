{
 "cells": [
  {
   "cell_type": "markdown",
   "metadata": {},
   "source": [
    "### An Introduction to Value At Risk\n",
    "\n",
    "#### Introduction\n",
    "\n",
    "Let $X$ be a random variable describing our financial position,\n",
    "so that higher values of $X$ represents outcomes convenient to us \n",
    "(for instance the value of a stock we own).\n",
    "We are interested in modeling the *risk* associated to $X$.\n",
    "Traditionally, a quick way to describe this uncertainty is given by\n",
    "the standard variation $\\sigma(X)$, because it determines how likely it is\n",
    "to have outcomes far from the expected value (Chebyshev inequality).\n",
    "But when dealing with risk, this notion is not enough: we are indeed far more\n",
    "interested in unexpected losses, unfavorable outcomes, while the variance\n",
    "is intrinsecally symmetric (essentially due to its squared difference\n",
    "in the definition).\n",
    "Therefore the need of developing further mathematical methods.\n",
    "\n",
    "\n"
   ]
  },
  {
   "cell_type": "markdown",
   "metadata": {},
   "source": [
    "#### Monetary Risk Measures\n",
    "\n",
    "Let now $\\rho :  \\mathbb{R} \\to \\mathbb{R}$ be a generic function.\n",
    "We want to define it in a way that $\\rho(X)$ is capable of capturing\n",
    "the notion of \"risk of the position $X$\", conventionally in a way that\n",
    "lower values are preferred (\"risk minimization\").\n",
    "The literature is vast and extends to dozens of alternative definitions,\n",
    "each with pros and cons, as for instance extensively described in the\n",
    "book *Stochastic Finance* by Follmer.\n",
    "To analyze them would go far beyond our purposes, instead we will focus on some\n",
    "key mathematical propereties before moving to the simplest\n",
    "\"realistic\" case in the next section (*Value at Risk*).\n",
    "\n",
    "Independently on the specific choice of $\\rho$, the following property\n",
    "is established as a requirement:\n",
    " - *cash-invariance*: $\\rho(X + m) = \\rho(X) - m$ for each $m \\in \\mathbb{R}$;\n",
    "\n",
    "Cash invariance is interpreted as the fact that if we had more money $m$ at\n",
    "disposal when getting a position $X$, the overall risk would reduce since it\n",
    "can be used as a way to countereffect possible negative outcomes, leading to\n",
    "better overall final position (e.g. avoiding bankrupt).\n",
    "\n",
    "Any position $Y$ is called *acceptable* if and only if $\\rho(Y) \\leq 0$.\n",
    "Observing that $\\rho(Y + \\rho(Y)) = 0$ we deduce that\n",
    "any monetary risk measure $\\rho(X)$ can be *interpreted* as the minimal amount \n",
    "of money needed to make a position $X$ acceptable.\n",
    "\n",
    "The concrete definition of $\\rho$ would change from case to case,\n",
    "but the overall philosophy remains the same.\n"
   ]
  },
  {
   "cell_type": "markdown",
   "metadata": {},
   "source": [
    "#### Quantiles\n",
    "Let $X$ be a real random variable.\n",
    "The comulative distribution function of $X$ is defined as:\n",
    "$F: \\mathbb{R} \\to [0,1]$, such that $F(t) = P[X \\leq t ]$.\n",
    "The function $F$ is always increasing, but for simplicity we assume to\n",
    "be continuous and strictly monotonic increasing.\n",
    "These assumptions allow to quickly define\n",
    "the *quantile* function $Q: [0,1] \\to \\mathbb{R}$ simply as $F^{-1}$\n",
    "without any further remarks: $Q(\\lambda) = t$ \n",
    "where $t$ is the only value such that\n",
    "$P[X \\leq t] = \\lambda$.\n",
    "\n",
    "In case of discontinuous or not strictly increasing cdf (happening for instance\n",
    "when working with discrete random variables), quantiles can still be\n",
    "defined, but the mathematical details need to check\n",
    "each property go beyond the purpose of this notebook.\n",
    "\n",
    "Quantile represents a very strong tool to study probability distribution,\n",
    "and for instance there are statistical tests based on them (Q-Q plots,...).\n",
    "\n",
    "\n",
    "ADD REMARKS ON COMPUTING QUANTILES AS WELL AS CODE EXAMPLE\n",
    "\n",
    "\n",
    "\n"
   ]
  },
  {
   "cell_type": "markdown",
   "metadata": {},
   "source": [
    "#### Value At Risk\n",
    "\n",
    "Given a financial position $X$ and a *confidence level* $\\lambda \\in [0, 1]$,\n",
    "the Value At Risk is defined on the base of quantiles:\n",
    "$VaR_{\\lambda}(V) = Q_{1 - \\lambda} (-V)$\n",
    "\n",
    "The following proposition helps in interpreting the definition:\n",
    "\n",
    "Proposition: $VaR_{\\lambda}(V) = m$ such that $P[V + m < 0] \\leq \\lambda $\n",
    "\n",
    "\n",
    "Therefore the VaR can be interpreted as the amount of money that, when added\n",
    "to the position $X$, make the probability of an overall loss lower than a\n",
    "selected safety level. Note that in this notation, we want $\\lambda$ to be\n",
    "\"small enough\". Other resources uses the letter $c = 1 - \\lambda$ calling it\n",
    "the \"confidence level\". We hope that the context would clarify the chosen\n",
    "definitions in order to avoid any ambiguity.\n",
    "\n",
    "Finally by setting $\\rho(X) = VaR(X)$ the cash-inavriance property can be\n",
    "proved making the Value At Risk a monetary risk measure.\n",
    "\n",
    "Just to clarify, one wants to:\n",
    " - choose lambda very small, to stay \"safer\";\n",
    " - minimize the values at risk\n",
    "\n",
    "\n",
    "HERE SOME CODE TO COMPUTE THE VAR BASED ON THE QUANTILE INTERPRETATION"
   ]
  },
  {
   "cell_type": "markdown",
   "metadata": {},
   "source": []
  }
 ],
 "metadata": {
  "kernelspec": {
   "display_name": "Python 3 (ipykernel)",
   "language": "python",
   "name": "python3"
  },
  "language_info": {
   "codemirror_mode": {
    "name": "ipython",
    "version": 3
   },
   "file_extension": ".py",
   "mimetype": "text/x-python",
   "name": "python",
   "nbconvert_exporter": "python",
   "pygments_lexer": "ipython3",
   "version": "3.8.19"
  }
 },
 "nbformat": 4,
 "nbformat_minor": 4
}
