{
 "cells": [
  {
   "cell_type": "code",
   "execution_count": 6,
   "metadata": {},
   "outputs": [],
   "source": [
    "from importlib import reload\n",
    "\n",
    "import pandas as pd"
   ]
  },
  {
   "cell_type": "code",
   "execution_count": 9,
   "metadata": {},
   "outputs": [],
   "source": [
    "import os\n",
    "os.chdir('c:\\\\Users\\\\Andrian\\\\Documents\\\\GitHub\\\\RiVaPy')"
   ]
  },
  {
   "cell_type": "code",
   "execution_count": 10,
   "metadata": {},
   "outputs": [],
   "source": [
    "from sandbox.var import \\\n",
    "    portfolio as pf, \\\n",
    "    value_at_risk as var\n",
    "\n",
    "pf = reload(pf)\n",
    "var = reload(var)"
   ]
  },
  {
   "cell_type": "code",
   "execution_count": null,
   "metadata": {},
   "outputs": [],
   "source": [
    "\n",
    "tickers = {\"S&P500\": \"^GSPC\",\n",
    "           \"DowJones\": \"^DJI\",\n",
    "           \"EuroStoxx50\": \"FEZ\",\n",
    "           \"DAX\": \"^GDAXI\"}\n",
    "\n",
    "stockdata = pd.DataFrame.from_dict(\n",
    "    \n",
    ")\n",
    "\n",
    "hist_sim = var.VaRHistSim(\n",
    "\n",
    ")"
   ]
  },
  {
   "cell_type": "code",
   "execution_count": null,
   "metadata": {},
   "outputs": [],
   "source": []
  }
 ],
 "metadata": {
  "kernelspec": {
   "display_name": "rivapy",
   "language": "python",
   "name": "python3"
  },
  "language_info": {
   "codemirror_mode": {
    "name": "ipython",
    "version": 3
   },
   "file_extension": ".py",
   "mimetype": "text/x-python",
   "name": "python",
   "nbconvert_exporter": "python",
   "pygments_lexer": "ipython3",
   "version": "3.8.18"
  }
 },
 "nbformat": 4,
 "nbformat_minor": 2
}
