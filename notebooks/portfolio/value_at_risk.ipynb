{
 "cells": [
  {
   "cell_type": "markdown",
   "id": "1cc71828-9300-45f0-9a55-a91944952d6c",
   "metadata": {},
   "source": [
    "## <center> &#x1F985; An introduction to Value At Risk &#x1F985; </center>"
   ]
  },
  {
   "cell_type": "markdown",
   "id": "c6f6cb70-984b-486e-bfdc-a9bbc058e9d6",
   "metadata": {},
   "source": [
    "The goal of this notebook is to introduce the notion of *Value At Risk* in a self-contained and compact way. \n",
    "The chosen approach is more oriented to applications, reducing the mathematical machinery to the minimum.\n",
    "The intuitive meaning of the involved operations is pointed out and examples with commented code offered at the end. \n",
    "We recommend the book *[Stochastic Finance](https://www.degruyter.com/document/doi/10.1515/9783110212075/html?lang=de)* to extend the content here provided."
   ]
  },
  {
   "cell_type": "markdown",
   "id": "8e904103-1d4c-4953-9696-de33ef22b19d",
   "metadata": {},
   "source": [
    "### &#x1F331; Motivation\n",
    "\n",
    "Let $X$ be a random variable describing our financial position,\n",
    "so that **higher values** of $X$ represent **convenient** outcomes.\n",
    "When modeling the *risk associated to* $X$,\n",
    "a quick description is generally offered by the standard variation $\\sigma(X)$, \n",
    "since it determines how far the samples can differ from their average ([Chebyshev inequality](https://en.wikipedia.org/wiki/Chebyshev%27s_inequality)).\n",
    "\n",
    "When we focus on *financial* risk, this notion reveals its limitations:\n",
    " we have indeed a greater interest in avoiding relevant *losses*, \n",
    "*unfavorable* outcomes, while the variance does not differentiate\n",
    "between \"positive\" or \"negative\" events\n",
    "(due to its squared difference in the definition)."
   ]
  },
  {
   "cell_type": "markdown",
   "id": "25c909bb-3866-4f4a-bda5-86127ea1f3f9",
   "metadata": {},
   "source": [
    "### &#x1F333; Monetary Risk Measures: the general theory\n",
    "\n",
    "When investigating the risk associated to a financial position $X$,\n",
    "it is not possible to find an \"universal\" answer,\n",
    "but rather multiple strategies with different advantages and disadvantages.\n",
    "A possible approach is given by relying on *monetary risk measures*,\n",
    "family of functions characterized by the idea of quantifying risk in terms of\n",
    "amount of **money needed to balance** unfavorable events.\n",
    "\n",
    "From a mathematical perspective, a monetary risk measure is a map\n",
    "$\\rho :  \\mathbb{R} \\to \\mathbb{R}$ satisfying the following three properties:\n",
    "\n",
    "- *risk minimization*: lower values of $\\rho(X)$ indicate\n",
    "        more \"convenient\" scenarios;\n",
    " - *monotonicity*: for two random variables $X$ and $Y$, if $X \\leq Y$ a.s., then $\\rho(Y) \\leq \\rho(X)$;\n",
    " - *cash-invariance*: for each $m \\in \\mathbb{R}$, we have \n",
    "        $\\rho(X + m) = \\rho(X) - m$;\n",
    "\n",
    "If the financial position $Y$ always ensures\n",
    "a better gain than $X$, then the risk of $Y$ must be lower (monotonicity).\n",
    "If we keep some additional money $m$ at\n",
    "disposal when getting a position $X$, the overall risk would reduce since that\n",
    "capital could be used as a form of protection against negative outcomes (cash-invariance).\n",
    "\n",
    "A position $X$ is defined to be (mathematically) **acceptable** if and only if $\\rho(X) \\leq 0$, **interpreting**\n",
    "then the risk $\\rho(X)$ as the smallest amount of money that,\n",
    "when added to the position $X$, makes this position acceptable.\n",
    "\n",
    "The Value At Risk (introduced below) it is one of the simplest possible monetary risk measure.\n",
    "Since it is based on the idea of quantile, we start by quickly revising this notion."
   ]
  },
  {
   "cell_type": "markdown",
   "id": "40187550-deb4-4955-b4aa-5eb89ef8f461",
   "metadata": {},
   "source": [
    "### &#x1F334; Quantiles of a random variable"
   ]
  },
  {
   "cell_type": "markdown",
   "id": "0bf23d12-fe19-4794-ab11-7b3c4b9548df",
   "metadata": {},
   "source": [
    "Let $X$ be a real random variable.\n",
    "The cumulative distribution function \n",
    "$F_X: \\mathbb{R} \\to [0,1]$\n",
    "of $X$ is defined as $F_X(k) = P[X \\leq k ]$.\n",
    "The map above is always non-decreasing \n",
    "and continuous from the right,\n",
    "but for simplicity we assume strict monotonicity and full continuity.\n",
    "This allows us to define the **quantile function** simply as the inverse map\n",
    "$Q_X: [0,1] \\to \\mathbb{R}$, with $Q_X(p) = F^{-1}(p) = k$, \n",
    "being $k$ the only value such that $P[X \\leq k] = p$.\n",
    "\n",
    "The picture below can help in enforcing the intuition beyond the notion of quantile:\n",
    "if we look at the density of the distribution $X$ (informally, the plot associating to\n",
    "each value $k \\in \\mathbb{R}$ the probability $P[X = k]$),\n",
    "the number $Q_X(0.6)$ is the value on the x-axis such that the blue area on the left covers $60\\%$ of the probability:\n",
    "\n",
    "![title](quantile.png)\n",
    "\n",
    "It is important to remark the following properties:\n",
    " - $P[X \\leq Q_X(p)] = p$ for each $p \\in [0,1]$;\n",
    " - for every $m \\in \\mathbb{R}$ and\n",
    "      $p \\in [0,1]$, we have $Q_{X+m}(p) = Q_{X}(p) + m$;\n",
    " - if $X \\leq Y$, then $Q_X \\leq Q_Y$.\n",
    "\n",
    "When the cumulative function is not continuous (e.g. for discrete variables),\n",
    "the quantile can be defined in a similar way and the properties above still hold."
   ]
  },
  {
   "cell_type": "markdown",
   "id": "120e5abc-9bf4-4d45-af69-80c95c36460e",
   "metadata": {},
   "source": [
    "### &#x1F34E; Value At Risk"
   ]
  },
  {
   "cell_type": "markdown",
   "id": "27891de3-6f64-4ab9-96d1-1ee28f23249c",
   "metadata": {},
   "source": [
    "For a financial position $X$, the *Value At Risk* is the map\n",
    "$V_@R(X): [0, 1] \\to \\mathbb{R}$\n",
    "defined as:\n",
    "\n",
    "<center> $V_@R_\\lambda(X) = - Q_X(\\lambda)$, for a level of tolerance $\\lambda \\in [0,1]$ </center>"
   ]
  },
  {
   "cell_type": "markdown",
   "id": "825b6e11-e38a-4c7c-90a4-c8b1c1619353",
   "metadata": {},
   "source": [
    "#### &#x1F34E;&#x1F34E; Interpretation\n",
    "The choice of the quantity $\\lambda$ is of extreme importance: the smaller,\n",
    "the safer we choose to be, at the expense of the need of having more money at disposal\n",
    "to cover emergency situations.\n",
    "A common value is $\\lambda = 0.05$, meaning that **we bet to stay in the** realm of events\n",
    "happening with statistical **probability of $95\\%$**:\n",
    "we have enough money to cover all possible losses here, but if an event happens\n",
    "outside this range, we may face a relevant loss.\n",
    "This interpretation follows by the definition, since:\n",
    "$P [ X + V_@R_\\lambda(X) \\leq 0] =\n",
    "P [ X \\leq Q_X(\\lambda) ] = \\lambda$.\n",
    "\n",
    "\n",
    "In other words, if we invest in $X$ and have $V_@R_\\lambda(X)$ money\n",
    "at disposal to cover possible failures, the probability of facing anyway a loss (i.e. getting negative values\n",
    "despite adding this extra deposit of money) is given by $\\lambda$.\n",
    "\n",
    "In conclusion, for a fixed probability $\\lambda$, the lower the Value At Risk is, the less money we need to cover unexpected situations,\n",
    "the \"safer\" we are."
   ]
  },
  {
   "cell_type": "markdown",
   "id": "f0cf093e-2459-4ca6-aa23-9dbde25aedb5",
   "metadata": {},
   "source": [
    "#### &#x1F34E;&#x1F34E; Monotonicity and Cash-Invariance\n",
    "\n",
    "The Value At Risk is a monetary risk measure:\n",
    "if $X \\leq Y$ we have $Q(X) \\leq Q(Y)$ and therefore $V_@R(X) \\geq V_@R(Y)$.\n",
    "The cash-invariance property follows from the quantile translational invariance:\n",
    "$V_@R_\\lambda(X + k) =\n",
    "        - Q_{(X + k)}(\\lambda) = \n",
    "        - Q_X(\\lambda) - k =\n",
    "        V_@R_\\lambda(X) - k\n",
    "$."
   ]
  },
  {
   "cell_type": "markdown",
   "id": "bb4e6180-1a26-4334-9e49-5a89c1ae4aef",
   "metadata": {},
   "source": [
    "#### &#x1F34E;&#x1F34E; Computation"
   ]
  },
  {
   "cell_type": "markdown",
   "id": "6f7260f7-f03b-4485-9095-82ca1b5c3b8f",
   "metadata": {},
   "source": [
    "When working with stock values in time $X_n$ a common idea is to convert them into \n",
    "*fractional returns* $F_n$ defined as the unique number satisfying the equation\n",
    "$X_n = X_{n-1} + F_n X_{n-1}$.\n",
    "For instance, a value of $0.10$ would for mean that the current price is $10\\%$ higher than the previous.\n",
    "This procedure is a form of data preprocessing and does not generally bring any disadvantage.\n",
    "\n",
    "On the other hand, a common **assumption** is to see the whole historical series $F_n$\n",
    "as a set of samples always coming from the same **fixed** random variable $F$. If on the one hand\n",
    "this is of course something naive and unrealistic,\n",
    "on the other hand it can be useful to perform some simple first estimation.\n",
    "This is the approach chosen in the code below, where we compute the Value At Risk from the\n",
    "historical returns of the DAX index."
   ]
  },
  {
   "cell_type": "code",
   "execution_count": 8,
   "id": "20eab4ea-8f42-4a10-9044-3173a99726f8",
   "metadata": {},
   "outputs": [
    {
     "name": "stderr",
     "output_type": "stream",
     "text": [
      "[*********************100%%**********************]  1 of 1 completed\n"
     ]
    }
   ],
   "source": [
    "import numpy as np\n",
    "import pandas as pd\n",
    "import yfinance as yf\n",
    "from math import floor\n",
    "import matplotlib.pyplot as plt\n",
    "\n",
    "#### STEP 1: get historical data using the yahoo finance interface\n",
    "stock_data = yf.download(\"DAX\", start=\"2020-01-01\", end=\"2024-07-01\")"
   ]
  },
  {
   "cell_type": "code",
   "execution_count": 9,
   "id": "11f77ebe-e392-4b00-9dbc-44df5d09b309",
   "metadata": {},
   "outputs": [],
   "source": [
    "#### STEP 2:\n",
    "# choose the adjusted closed value for each day,\n",
    "# transform the series into fractional returns\n",
    "# (this is done when using .pct_change())\n",
    "stock_data[\"Daily_Return\"] = stock_data[\"Adj Close\"].pct_change()"
   ]
  },
  {
   "cell_type": "code",
   "execution_count": 10,
   "id": "1c027030-8b56-4b7c-91d7-a3bb87b33018",
   "metadata": {},
   "outputs": [],
   "source": [
    "#### STEP 3:\n",
    "# define your set of return samples by removing invalid values\n",
    "# Remember: we are *assuming* them to be come from the same fixed random variable\n",
    "samples = stock_data[\"Daily_Return\"].dropna()"
   ]
  },
  {
   "cell_type": "code",
   "execution_count": 11,
   "id": "27a5c9ea-c633-438f-8e4a-4372f0fedc9a",
   "metadata": {},
   "outputs": [
    {
     "name": "stdout",
     "output_type": "stream",
     "text": [
      "V@R: 0.02\n",
      "(the lower, the better)\n"
     ]
    }
   ],
   "source": [
    "#### STEP 4:\n",
    "# Compute the Value At Risk by looking at the samples quantile.\n",
    "# Here is where the assumption of having samples froming from the same\n",
    "# random variable F comes into play.\n",
    "# Otherwise, this computation would be meaningless.\n",
    "lambda_level_in_percent = 5\n",
    "var = - np.percentile(samples, lambda_level_in_percent)\n",
    "print(f\"V@R: {var:.2f}\")\n",
    "print(\"(the lower, the better)\")"
   ]
  },
  {
   "cell_type": "code",
   "execution_count": 13,
   "id": "7db985da-634e-43dc-9408-6d780487f430",
   "metadata": {},
   "outputs": [
    {
     "data": {
      "image/png": "[encoded data removed]",
      "text/plain": [
       "<Figure size 400x400 with 1 Axes>"
      ]
     },
     "metadata": {},
     "output_type": "display_data"
    }
   ],
   "source": [
    "#### STEP 5: plotting the results\n",
    "fig, ax = plt.subplots(facecolor='lightblue', figsize=(4,4))\n",
    "ax.plot(samples, color = \"orange\")\n",
    "ax.grid()\n",
    "plt.title(f\"[DAX] Fractional Returns. VaR: {var:.3f}\")\n",
    "fig.autofmt_xdate()\n",
    "plt.show()"
   ]
  },
  {
   "cell_type": "markdown",
   "id": "8bc812e8-9ff8-4773-b492-1b7a837cffec",
   "metadata": {},
   "source": [
    "The previous example shows a Value At Risk equals to $0.028$. Since the analysis has been conducted on daily data,\n",
    "the interpretation is the following: if we invest today $100$ € in DAX index, it is recommended to leave \n",
    "some extra $2.20$ € in deposit: with $95\\%$ of probability they will be enough to cover possible losses."
   ]
  },
  {
   "cell_type": "markdown",
   "id": "ce43a23d-e815-4c27-8584-de4a2ab598bf",
   "metadata": {},
   "source": [
    "### &#x1F34A; Conclusions"
   ]
  },
  {
   "cell_type": "markdown",
   "id": "e8b08f0d-1484-4842-adfc-8231b08b44a1",
   "metadata": {},
   "source": [
    "*Values At Risk* represents a way to estimate the risk of financial positions on the base of\n",
    "their quantiles. To compute quantiles, the choice of a model for the financial position is needed,\n",
    "which is in itself a challenging task.\n",
    "One common strategy is to simply use historical values as they were identically distributed:\n",
    "despite being a conceptual mistake, it can be useful for a first analysis and to acquire familiarity with data.\n",
    "\n",
    "*Values At Risk* belongs to the mathematical family of Monetary Risk Measures,\n",
    "and more general (and sophisticated) variants are available in the literature."
   ]
  },
  {
   "cell_type": "code",
   "execution_count": null,
   "id": "475431af",
   "metadata": {},
   "outputs": [],
   "source": []
  }
 ],
 "metadata": {
  "kernelspec": {
   "display_name": "Python 3 (ipykernel)",
   "language": "python",
   "name": "python3"
  },
  "language_info": {
   "codemirror_mode": {
    "name": "ipython",
    "version": 3
   },
   "file_extension": ".py",
   "mimetype": "text/x-python",
   "name": "python",
   "nbconvert_exporter": "python",
   "pygments_lexer": "ipython3",
   "version": "3.8.19"
  }
 },
 "nbformat": 4,
 "nbformat_minor": 5
}
