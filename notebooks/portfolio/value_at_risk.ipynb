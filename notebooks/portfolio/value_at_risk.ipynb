{
 "cells": [
  {
   "cell_type": "code",
   "execution_count": 3,
   "metadata": {},
   "outputs": [],
   "source": [
    "from importlib import reload\n",
    "from datetime import datetime\n",
    "\n",
    "import numpy as np\n",
    "import pandas as pd"
   ]
  },
  {
   "cell_type": "code",
   "execution_count": 152,
   "metadata": {},
   "outputs": [],
   "source": [
    "from rivapy.portfolio import \\\n",
    "    portfolio as pf, \\\n",
    "    value_at_risk as var\n",
    "from rivapy.marketdata import api_handler as api\n",
    "\n",
    "pf = reload(pf)\n",
    "var = reload(var)\n",
    "api = reload(api)"
   ]
  },
  {
   "cell_type": "code",
   "execution_count": 157,
   "metadata": {},
   "outputs": [
    {
     "name": "stderr",
     "output_type": "stream",
     "text": [
      "[*********************100%%**********************]  1 of 1 completed\n",
      "[*********************100%%**********************]  1 of 1 completed"
     ]
    },
    {
     "name": "stderr",
     "output_type": "stream",
     "text": [
      "\n",
      "[*********************100%%**********************]  1 of 1 completed\n",
      "[*********************100%%**********************]  1 of 1 completed\n"
     ]
    },
    {
     "data": {
      "text/plain": [
       "{'^GSPC': array([1277.06005859, 1277.30004883, 1281.06005859, ..., 4793.06005859,\n",
       "        4778.72998047, 4766.18017578]),\n",
       " '^DJI': array([12397.37988281, 12418.41992188, 12415.70019531, ...,\n",
       "        36488.62890625, 36398.078125  , 36338.30078125]),\n",
       " 'FEZ': array([21.11973   , 20.71185303, 20.19336319, ..., 43.76402664,\n",
       "        43.6889801 , 43.77340698]),\n",
       " '^GDAXI': array([ 6075.52001953,  6166.56982422,  6111.54980469, ...,\n",
       "        15963.70019531, 15852.25      , 15884.86035156])}"
      ]
     },
     "execution_count": 157,
     "metadata": {},
     "output_type": "execute_result"
    }
   ],
   "source": [
    "\n",
    "start = datetime.strptime('2012-01-01', '%Y-%m-%d')\n",
    "end = datetime.strptime('2022-01-01', '%Y-%m-%d')\n",
    "\n",
    "tickers = {\n",
    "    \"S&P500\": \"^GSPC\",\n",
    "    \"DowJones\": \"^DJI\",\n",
    "    \"EuroStoxx50\": \"FEZ\",\n",
    "    \"DAX\": \"^GDAXI\"\n",
    "}\n",
    "\n",
    "yf = api.YahooFinance.load(\n",
    "    list(tickers.values()),\n",
    "    start,\n",
    "    end\n",
    ")\n",
    "\n",
    "yf\n"
   ]
  },
  {
   "cell_type": "code",
   "execution_count": 158,
   "metadata": {},
   "outputs": [],
   "source": [
    "my_portfolio = pf.Portfolio(\n",
    "    [pf.StockSpecification(\"^GDAXI\", 2), \n",
    "     pf.StockSpecification(\"^GSPC\", 3)]\n",
    ")"
   ]
  },
  {
   "cell_type": "code",
   "execution_count": 161,
   "metadata": {},
   "outputs": [
    {
     "data": {
      "text/plain": [
       "-707.8900146484375"
      ]
     },
     "execution_count": 161,
     "metadata": {},
     "output_type": "execute_result"
    }
   ],
   "source": [
    "my_histsim = var.VaRHistSim(\n",
    "    10,\n",
    "    250,\n",
    "    0.95\n",
    ")\n",
    "\n",
    "my_histsim_var = my_histsim.value_at_risk(\n",
    "    yf,\n",
    "    my_portfolio\n",
    ")\n",
    "\n",
    "my_histsim_var"
   ]
  },
  {
   "cell_type": "code",
   "execution_count": null,
   "metadata": {},
   "outputs": [],
   "source": []
  }
 ],
 "metadata": {
  "kernelspec": {
   "display_name": "rivapy",
   "language": "python",
   "name": "python3"
  },
  "language_info": {
   "codemirror_mode": {
    "name": "ipython",
    "version": 3
   },
   "file_extension": ".py",
   "mimetype": "text/x-python",
   "name": "python",
   "nbconvert_exporter": "python",
   "pygments_lexer": "ipython3",
   "version": "3.8.19"
  }
 },
 "nbformat": 4,
 "nbformat_minor": 2
}
