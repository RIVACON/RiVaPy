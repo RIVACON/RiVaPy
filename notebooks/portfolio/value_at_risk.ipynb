{
 "cells": [
  {
   "cell_type": "code",
   "execution_count": 5,
   "metadata": {},
   "outputs": [],
   "source": [
    "from importlib import reload\n",
    "from datetime import datetime\n",
    "\n",
    "import pandas as pd"
   ]
  },
  {
   "cell_type": "code",
   "execution_count": 18,
   "metadata": {},
   "outputs": [],
   "source": [
    "from rivapy.portfolio import \\\n",
    "    portfolio as pf, \\\n",
    "    value_at_risk as var\n",
    "from rivapy.marketdata import api_handler as api\n",
    "\n",
    "pf = reload(pf)\n",
    "var = reload(var)\n",
    "api = reload(api)"
   ]
  },
  {
   "cell_type": "code",
   "execution_count": 23,
   "metadata": {},
   "outputs": [
    {
     "name": "stderr",
     "output_type": "stream",
     "text": [
      "[*********************100%%**********************]  1 of 1 completed\n",
      "[*********************100%%**********************]  1 of 1 completed\n",
      "[*********************100%%**********************]  1 of 1 completed\n",
      "[*********************100%%**********************]  1 of 1 completed\n"
     ]
    }
   ],
   "source": [
    "\n",
    "start = datetime.strptime('2012-01-01', '%Y-%m-%d')\n",
    "end = datetime.strptime('2022-01-01', '%Y-%m-%d')\n",
    "\n",
    "tickers = {\n",
    "    \"S&P500\": \"^GSPC\",\n",
    "    \"DowJones\": \"^DJI\",\n",
    "    \"EuroStoxx50\": \"FEZ\",\n",
    "    \"DAX\": \"^GDAXI\"\n",
    "}\n",
    "\n",
    "yf = api.YahooFinance.load(\n",
    "    tickers,\n",
    "    start,\n",
    "    end\n",
    ")"
   ]
  },
  {
   "cell_type": "code",
   "execution_count": 26,
   "metadata": {},
   "outputs": [],
   "source": [
    "n = 2000\n",
    "yf = { k: v[:n] for k, v in yf.items() }"
   ]
  },
  {
   "cell_type": "code",
   "execution_count": 27,
   "metadata": {},
   "outputs": [
    {
     "data": {
      "text/html": [
       "<div>\n",
       "<style scoped>\n",
       "    .dataframe tbody tr th:only-of-type {\n",
       "        vertical-align: middle;\n",
       "    }\n",
       "\n",
       "    .dataframe tbody tr th {\n",
       "        vertical-align: top;\n",
       "    }\n",
       "\n",
       "    .dataframe thead th {\n",
       "        text-align: right;\n",
       "    }\n",
       "</style>\n",
       "<table border=\"1\" class=\"dataframe\">\n",
       "  <thead>\n",
       "    <tr style=\"text-align: right;\">\n",
       "      <th></th>\n",
       "      <th>S&amp;P500</th>\n",
       "      <th>DowJones</th>\n",
       "      <th>EuroStoxx50</th>\n",
       "      <th>DAX</th>\n",
       "    </tr>\n",
       "  </thead>\n",
       "  <tbody>\n",
       "    <tr>\n",
       "      <th>0</th>\n",
       "      <td>1258.859985</td>\n",
       "      <td>12221.190430</td>\n",
       "      <td>30.340000</td>\n",
       "      <td>5900.180176</td>\n",
       "    </tr>\n",
       "    <tr>\n",
       "      <th>1</th>\n",
       "      <td>1277.030029</td>\n",
       "      <td>12392.459961</td>\n",
       "      <td>29.980000</td>\n",
       "      <td>6124.109863</td>\n",
       "    </tr>\n",
       "    <tr>\n",
       "      <th>2</th>\n",
       "      <td>1277.300049</td>\n",
       "      <td>12418.419922</td>\n",
       "      <td>29.219999</td>\n",
       "      <td>6141.259766</td>\n",
       "    </tr>\n",
       "    <tr>\n",
       "      <th>3</th>\n",
       "      <td>1280.930054</td>\n",
       "      <td>12407.450195</td>\n",
       "      <td>29.120001</td>\n",
       "      <td>6121.339844</td>\n",
       "    </tr>\n",
       "    <tr>\n",
       "      <th>4</th>\n",
       "      <td>1277.829956</td>\n",
       "      <td>12359.309570</td>\n",
       "      <td>28.850000</td>\n",
       "      <td>6114.640137</td>\n",
       "    </tr>\n",
       "    <tr>\n",
       "      <th>...</th>\n",
       "      <td>...</td>\n",
       "      <td>...</td>\n",
       "      <td>...</td>\n",
       "      <td>...</td>\n",
       "    </tr>\n",
       "    <tr>\n",
       "      <th>1995</th>\n",
       "      <td>3134.620117</td>\n",
       "      <td>27839.679688</td>\n",
       "      <td>39.830002</td>\n",
       "      <td>13145.769531</td>\n",
       "    </tr>\n",
       "    <tr>\n",
       "      <th>1996</th>\n",
       "      <td>3141.860107</td>\n",
       "      <td>27987.050781</td>\n",
       "      <td>39.689999</td>\n",
       "      <td>13247.509766</td>\n",
       "    </tr>\n",
       "    <tr>\n",
       "      <th>1997</th>\n",
       "      <td>3135.360107</td>\n",
       "      <td>27900.650391</td>\n",
       "      <td>39.500000</td>\n",
       "      <td>13256.400391</td>\n",
       "    </tr>\n",
       "    <tr>\n",
       "      <th>1998</th>\n",
       "      <td>3135.750000</td>\n",
       "      <td>27867.310547</td>\n",
       "      <td>39.689999</td>\n",
       "      <td>13291.089844</td>\n",
       "    </tr>\n",
       "    <tr>\n",
       "      <th>1999</th>\n",
       "      <td>3141.229980</td>\n",
       "      <td>27898.339844</td>\n",
       "      <td>39.950001</td>\n",
       "      <td>13247.610352</td>\n",
       "    </tr>\n",
       "  </tbody>\n",
       "</table>\n",
       "<p>2000 rows × 4 columns</p>\n",
       "</div>"
      ],
      "text/plain": [
       "           S&P500      DowJones  EuroStoxx50           DAX\n",
       "0     1258.859985  12221.190430    30.340000   5900.180176\n",
       "1     1277.030029  12392.459961    29.980000   6124.109863\n",
       "2     1277.300049  12418.419922    29.219999   6141.259766\n",
       "3     1280.930054  12407.450195    29.120001   6121.339844\n",
       "4     1277.829956  12359.309570    28.850000   6114.640137\n",
       "...           ...           ...          ...           ...\n",
       "1995  3134.620117  27839.679688    39.830002  13145.769531\n",
       "1996  3141.860107  27987.050781    39.689999  13247.509766\n",
       "1997  3135.360107  27900.650391    39.500000  13256.400391\n",
       "1998  3135.750000  27867.310547    39.689999  13291.089844\n",
       "1999  3141.229980  27898.339844    39.950001  13247.610352\n",
       "\n",
       "[2000 rows x 4 columns]"
      ]
     },
     "execution_count": 27,
     "metadata": {},
     "output_type": "execute_result"
    }
   ],
   "source": [
    "\n",
    "stockdata = pd.DataFrame.from_dict(\n",
    "    yf\n",
    ")\n",
    "stockdata\n"
   ]
  },
  {
   "cell_type": "code",
   "execution_count": null,
   "metadata": {},
   "outputs": [],
   "source": []
  }
 ],
 "metadata": {
  "kernelspec": {
   "display_name": "rivapy",
   "language": "python",
   "name": "python3"
  },
  "language_info": {
   "codemirror_mode": {
    "name": "ipython",
    "version": 3
   },
   "file_extension": ".py",
   "mimetype": "text/x-python",
   "name": "python",
   "nbconvert_exporter": "python",
   "pygments_lexer": "ipython3",
   "version": "3.8.19"
  }
 },
 "nbformat": 4,
 "nbformat_minor": 2
}
