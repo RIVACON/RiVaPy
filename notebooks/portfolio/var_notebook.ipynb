{
 "cells": [
  {
   "cell_type": "markdown",
   "id": "1cc71828-9300-45f0-9a55-a91944952d6c",
   "metadata": {},
   "source": [
    "## <center>Value At Risk </center>"
   ]
  },
  {
   "cell_type": "markdown",
   "id": "8e904103-1d4c-4953-9696-de33ef22b19d",
   "metadata": {},
   "source": [
    "### Introduction\n",
    "\n",
    "Let $X$ be a random variable describing our financial position,\n",
    "so that **higher values** of $X$ represent **convenient** outcomes.\n",
    "When modeling the *risk* of $X$,\n",
    "a quick description is generally offered by the standard variation $\\sigma(X)$, \n",
    "since it determines how far the samples can differ from their average (Chebyshev inequality).\n",
    "\n",
    "With *Financial* risk, this notion reveals its limitations:\n",
    "there is indeed a greater interest in predicting unexpected losses, \n",
    "*unfavorable* outcomes, while the variance does not differentiate\n",
    "between \"positive\" or \"negative\" events\n",
    "(due to its squared difference in the definition),\n",
    "motivating the search for other definitions."
   ]
  },
  {
   "cell_type": "markdown",
   "id": "25c909bb-3866-4f4a-bda5-86127ea1f3f9",
   "metadata": {},
   "source": [
    "### Monetary Risk Measures\n",
    "A possible approach is given by the family of *monetary risk measures*,\n",
    "functions $\\rho :  \\mathbb{R} \\to \\mathbb{R}$ satisfying the following three properties:\n",
    "\n",
    "- *risk minimization*: lower values of $\\rho(X)$ indicate\n",
    "        more \"convenient\" scenarios;\n",
    " - *monotonicity*: if $X \\leq Y$, then $\\rho(Y) \\leq \\rho(X)$;\n",
    " - *cash-invariance*: for each $m \\in \\mathbb{R}$, we have \n",
    "        $\\rho(X + m) = \\rho(X) - m$;\n",
    "\n",
    "In other words, if the financial position $Y$ always ensures\n",
    "a better gain than $X$, then the risk of $Y$ is lower (monotonicity).\n",
    "Cash-invariance is interpreted as follows: if we had more money $m$ at\n",
    "disposal when getting a position $X$, the overall risk would reduce since that\n",
    "capital could be used to countereffect negative outcomes.\n",
    "Any position $X$ is called *acceptable* if and only if $\\rho(X) \\leq 0$, leading to the interpretation:\n",
    "**the quantity $\\rho(X)$ is the smallest amount of money that,\n",
    "when added to the position $X$, makes that position acceptable.**\n",
    "In other words, *monetary risk measures* are mathematical methods to \"measure the risk directly in terms of money\", as their name suggest."
   ]
  },
  {
   "cell_type": "markdown",
   "id": "120e5abc-9bf4-4d45-af69-80c95c36460e",
   "metadata": {},
   "source": [
    "### Value At Risk (To rewrite)"
   ]
  },
  {
   "cell_type": "markdown",
   "id": "27891de3-6f64-4ab9-96d1-1ee28f23249c",
   "metadata": {},
   "source": [
    "The most common monetary risk measure is the Value At Risk.\n",
    "\n",
    "WRITE HERE THE NOTION OF QUANTILE, THEN VAR\n",
    "\n",
    "We now introduce a monetary risk measure based on the notion of quantile.\n",
    "\n",
    "For a financial position $X$, the *Value At Risk* is the map\n",
    "$V_@R(X): [0, 1] \\to \\mathbb{R}$\n",
    "defined as:\n",
    "\n",
    "$V_@R_\\lambda(X) = - Q_X(\\lambda)$, for $\\lambda \\in [0,1]$\n",
    "\n",
    "Proposition: The Value At Risk is a monetary risk measure.\n",
    "\n",
    "Proof:\n",
    "This is a direct consequence of the properties shown in the section above.\n",
    "For $X \\leq Y$ we have $Q_X \\leq Q_Y$ and therefore\n",
    "$V_@R(X) \\geq V_@R(Y)$.\n",
    "The cash-invariance property follows from the quantile translational invariance:\n",
    "\n",
    "$V_@R_\\lambda(X + k) =\n",
    "        - Q_{(X + k)}(\\lambda) = \n",
    "        - Q_X(\\lambda) - k =\n",
    "        V_@R_\\lambda(X) - k\n",
    "$\n",
    "\n",
    "//\n",
    "\n",
    "The next goal is to develop more intuition about how to interpret the\n",
    "value at risk. Directly by its definition we have:\n",
    "\n",
    "$P [ X + V_@R_\\lambda(X) \\leq 0] = \\lambda$\n",
    "\n",
    "Therefore $V_@R$ can here be read as an amount of money that, if added to\n",
    "$X$, would make negative or zero outcomes stay controlled under a probabiility\n",
    "$\\lambda$ (chosen usually very small, for instance around $0.05$).\n",
    "\n",
    "Note that if the financial position $X$ is acceptable, \n",
    "i.e. $\\rho(X) = V_@R(X) \\leq 0$,\n",
    "then there is no need to add any further capital:\n",
    "the random events already distributes the desired probability treshold.\n",
    "\n",
    "On the other hand, if $X$ is not acceptable,\n",
    "since $V_@R$ is a monetary risk measure,\n",
    "the quantity $V_@R(X)$ would actually represent the *minimal* amount of money \n",
    "needed to be added to\n",
    "$X$ to make it acceptable, i.e. to control the overall probability of loss\n",
    "by the probability $\\lambda$.\n",
    "\n",
    "There is no further remark on the computational aspect of this risk indicator,\n",
    "since it would be enough to use the algorithm proposed for the quantile\n",
    "in the section before."
   ]
  },
  {
   "cell_type": "markdown",
   "id": "b28aa17c-cb4f-4a3e-bb05-fef8f9004893",
   "metadata": {},
   "source": [
    "### Examples"
   ]
  },
  {
   "cell_type": "markdown",
   "id": "91c32bf1-5e8e-469a-bd6f-8203400a95dc",
   "metadata": {},
   "source": [
    "Write here EXAMPLES for the computation of Value At Risk according to iid statistica method and Gaussian method."
   ]
  },
  {
   "cell_type": "code",
   "execution_count": null,
   "id": "24c25024-69ab-4614-a8f3-99c8378483c3",
   "metadata": {},
   "outputs": [],
   "source": []
  }
 ],
 "metadata": {
  "kernelspec": {
   "display_name": "Python 3 (ipykernel)",
   "language": "python",
   "name": "python3"
  },
  "language_info": {
   "codemirror_mode": {
    "name": "ipython",
    "version": 3
   },
   "file_extension": ".py",
   "mimetype": "text/x-python",
   "name": "python",
   "nbconvert_exporter": "python",
   "pygments_lexer": "ipython3",
   "version": "3.8.19"
  }
 },
 "nbformat": 4,
 "nbformat_minor": 5
}
