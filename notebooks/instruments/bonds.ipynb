{
 "cells": [
  {
   "cell_type": "code",
   "execution_count": 66,
   "metadata": {},
   "outputs": [
    {
     "data": {
      "text/html": [
       "<style>.container { width:80% !important; }</style>"
      ],
      "text/plain": [
       "<IPython.core.display.HTML object>"
      ]
     },
     "metadata": {},
     "output_type": "display_data"
    },
    {
     "name": "stdout",
     "output_type": "stream",
     "text": [
      "The autoreload extension is already loaded. To reload it, use:\n",
      "  %reload_ext autoreload\n"
     ]
    }
   ],
   "source": [
    "import sys\n",
    "import datetime as dt\n",
    "sys.path.insert(0,'../..')\n",
    "import matplotlib.pyplot as plt\n",
    "from rivapy.instruments import ZeroCouponBond, FixedRateBond\n",
    "from rivapy.instruments.factory import create\n",
    "from rivapy.tools.enums import DayCounterType, RollConvention, SecuritizationLevel, Currency\n",
    "\n",
    "from IPython.display import display, HTML\n",
    "display(HTML(\"<style>.container { width:80% !important; }</style>\"))\n",
    "\n",
    "%load_ext autoreload\n",
    "%autoreload 2\n",
    "\n",
    "%matplotlib inline"
   ]
  },
  {
   "cell_type": "code",
   "execution_count": 73,
   "metadata": {},
   "outputs": [],
   "source": [
    "import datetime as dt\n",
    "import pandas as pd\n",
    "import rivapy.tools.interfaces as interfaces\n",
    "from rivapy.instruments.factory import create as _create\n",
    "\n",
    "class InstrumentMemoryStorage:\n",
    "    def __init__(self):\n",
    "        self._store = {}\n",
    "        \n",
    "    def add(self, instrument: interfaces.FactoryObject):\n",
    "        if instrument.obj_id in self._store.keys():\n",
    "            tmp = self._store[instrument.obj_id][-1]\n",
    "            ins_dict = instrument.to_dict()\n",
    "            if interfaces.FactoryObject.hash_for_dict(tmp) != interfaces.FactoryObject.hash_for_dict(ins_dict):\n",
    "                self._store[instrument.obj_id].append(ins_dict)\n",
    "        else:\n",
    "            self._store[instrument.obj_id] = [instrument.to_dict()]\n",
    "            \n",
    "    def get_by_id(self, obj_id: str):\n",
    "        if obj_id in self._store.keys():\n",
    "            return _create(self._store[obj_id][-1])\n",
    "        else:\n",
    "            raise Exception('No instrument with id ' + obj_id + ' exists in storage.')\n",
    "        \n",
    "    def _append_values(self, results: dict, keys: list):\n",
    "        for k,v in self._store.items():\n",
    "            obj = v[-1]\n",
    "            for r in results.keys():\n",
    "                if r == 'num_version':\n",
    "                    results[r].append(len(v))\n",
    "                else:\n",
    "                    results[r].append(obj.get(r))\n",
    "        \n",
    "    def get_instrument_list(self, keys=['obj_id', 'cls', 'expiry', 'issue_date' ]):\n",
    "        num_version = []\n",
    "        tmp ={k:[] for k in keys}\n",
    "        tmp['num_version'] = []\n",
    "        self._append_values(tmp, keys)\n",
    "        return pd.DataFrame(tmp)"
   ]
  },
  {
   "cell_type": "code",
   "execution_count": 74,
   "metadata": {
    "collapsed": true
   },
   "outputs": [],
   "source": [
    "store = InstrumentMemoryStorage()"
   ]
  },
  {
   "cell_type": "code",
   "execution_count": 78,
   "metadata": {},
   "outputs": [],
   "source": [
    "for days in range (30,90, 30):\n",
    "    bond = ZeroCouponBond('BOND_'+str(days), issue_date = dt.datetime(2023,1,1), maturity_date=dt.datetime(2023,1,1) + dt.timedelta(days=days), \n",
    "                          currency=Currency.EUR, notional=1.0, issuer='Depp2', securitisation_level=SecuritizationLevel.SUBORDINATED)\n",
    "    store.add(bond)\n",
    "    \n",
    "store.add(FixedRateBond('FIXED_BOND_'+str(days), issue_date = dt.datetime(2023,1,1), maturity_date=dt.datetime(2024,1,1), \n",
    "                          currency=Currency.EUR, notional=1.0, issuer='Depp', securitisation_level=SecuritizationLevel.SUBORDINATED, \n",
    "                        coupon_payment_dates=[dt.datetime(2024,1,1)], coupons=[0.01]))"
   ]
  },
  {
   "cell_type": "code",
   "execution_count": 82,
   "metadata": {},
   "outputs": [
    {
     "data": {
      "text/html": [
       "<div>\n",
       "<style scoped>\n",
       "    .dataframe tbody tr th:only-of-type {\n",
       "        vertical-align: middle;\n",
       "    }\n",
       "\n",
       "    .dataframe tbody tr th {\n",
       "        vertical-align: top;\n",
       "    }\n",
       "\n",
       "    .dataframe thead th {\n",
       "        text-align: right;\n",
       "    }\n",
       "</style>\n",
       "<table border=\"1\" class=\"dataframe\">\n",
       "  <thead>\n",
       "    <tr style=\"text-align: right;\">\n",
       "      <th></th>\n",
       "      <th>obj_id</th>\n",
       "      <th>cls</th>\n",
       "      <th>maturity_date</th>\n",
       "      <th>issue_date</th>\n",
       "      <th>issuer</th>\n",
       "      <th>securitisation_level</th>\n",
       "      <th>num_version</th>\n",
       "    </tr>\n",
       "  </thead>\n",
       "  <tbody>\n",
       "    <tr>\n",
       "      <th>0</th>\n",
       "      <td>BOND_30</td>\n",
       "      <td>ZeroCouponBond</td>\n",
       "      <td>2023-01-31</td>\n",
       "      <td>2023-01-01</td>\n",
       "      <td>Depp2</td>\n",
       "      <td>SUBORDINATED</td>\n",
       "      <td>1</td>\n",
       "    </tr>\n",
       "    <tr>\n",
       "      <th>1</th>\n",
       "      <td>BOND_60</td>\n",
       "      <td>ZeroCouponBond</td>\n",
       "      <td>2023-03-02</td>\n",
       "      <td>2023-01-01</td>\n",
       "      <td>Depp2</td>\n",
       "      <td>SUBORDINATED</td>\n",
       "      <td>1</td>\n",
       "    </tr>\n",
       "    <tr>\n",
       "      <th>2</th>\n",
       "      <td>FIXED_BOND_60</td>\n",
       "      <td>FixedRateBond</td>\n",
       "      <td>2024-01-01</td>\n",
       "      <td>2023-01-01</td>\n",
       "      <td>Depp</td>\n",
       "      <td>SUBORDINATED</td>\n",
       "      <td>2</td>\n",
       "    </tr>\n",
       "  </tbody>\n",
       "</table>\n",
       "</div>"
      ],
      "text/plain": [
       "          obj_id             cls maturity_date  issue_date issuer  \\\n",
       "0        BOND_30  ZeroCouponBond    2023-01-31  2023-01-01  Depp2   \n",
       "1        BOND_60  ZeroCouponBond    2023-03-02  2023-01-01  Depp2   \n",
       "2  FIXED_BOND_60   FixedRateBond    2024-01-01  2023-01-01   Depp   \n",
       "\n",
       "  securitisation_level  num_version  \n",
       "0         SUBORDINATED            1  \n",
       "1         SUBORDINATED            1  \n",
       "2         SUBORDINATED            2  "
      ]
     },
     "execution_count": 82,
     "metadata": {},
     "output_type": "execute_result"
    }
   ],
   "source": [
    "store.get_instrument_list(keys=['obj_id', 'cls', 'maturity_date', 'issue_date', 'issuer', 'securitisation_level' ])"
   ]
  },
  {
   "cell_type": "code",
   "execution_count": null,
   "metadata": {
    "collapsed": true
   },
   "outputs": [],
   "source": []
  }
 ],
 "metadata": {
  "hide_input": false,
  "kernelspec": {
   "display_name": "Python 3",
   "language": "python",
   "name": "python3"
  },
  "language_info": {
   "codemirror_mode": {
    "name": "ipython",
    "version": 3
   },
   "file_extension": ".py",
   "mimetype": "text/x-python",
   "name": "python",
   "nbconvert_exporter": "python",
   "pygments_lexer": "ipython3",
   "version": "3.6.1"
  },
  "toc": {
   "base_numbering": 1,
   "colors": {
    "hover_highlight": "#DAA520",
    "navigate_num": "#000000",
    "navigate_text": "#333333",
    "running_highlight": "#FF0000",
    "selected_highlight": "#FFD700",
    "sidebar_border": "#EEEEEE",
    "wrapper_background": "#FFFFFF"
   },
   "moveMenuLeft": true,
   "nav_menu": {},
   "navigate_menu": true,
   "number_sections": false,
   "sideBar": false,
   "skip_h1_title": false,
   "threshold": 4,
   "title_cell": "Table of Contents",
   "title_sidebar": "Contents",
   "toc_cell": false,
   "toc_position": {},
   "toc_section_display": false,
   "toc_window_display": false,
   "widenNotebook": false
  },
  "varInspector": {
   "cols": {
    "lenName": 16,
    "lenType": 16,
    "lenVar": 40
   },
   "kernels_config": {
    "python": {
     "delete_cmd_postfix": "",
     "delete_cmd_prefix": "del ",
     "library": "var_list.py",
     "varRefreshCmd": "print(var_dic_list())"
    },
    "r": {
     "delete_cmd_postfix": ") ",
     "delete_cmd_prefix": "rm(",
     "library": "var_list.r",
     "varRefreshCmd": "cat(var_dic_list()) "
    }
   },
   "types_to_exclude": [
    "module",
    "function",
    "builtin_function_or_method",
    "instance",
    "_Feature"
   ],
   "window_display": false
  }
 },
 "nbformat": 4,
 "nbformat_minor": 2
}
