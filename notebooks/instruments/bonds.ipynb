{
 "cells": [
  {
   "cell_type": "code",
   "execution_count": 1,
   "metadata": {},
   "outputs": [
    {
     "name": "stderr",
     "output_type": "stream",
     "text": [
      "C:\\Users\\doeltz\\development\\RiVaPy\\notebooks\\instruments\\../..\\rivapy\\__init__.py:8: UserWarning: The pyvacon module is not available. You may not use all functionality without this module. Consider installing pyvacon.\n",
      "  warnings.warn('The pyvacon module is not available. You may not use all functionality without this module. Consider installing pyvacon.')\n"
     ]
    },
    {
     "data": {
      "text/html": [
       "<style>.container { width:80% !important; }</style>"
      ],
      "text/plain": [
       "<IPython.core.display.HTML object>"
      ]
     },
     "metadata": {},
     "output_type": "display_data"
    }
   ],
   "source": [
    "import sys\n",
    "import datetime as dt\n",
    "sys.path.insert(0,'../..')\n",
    "import matplotlib.pyplot as plt\n",
    "from rivapy.instruments import ZeroCouponBondSpecification, FixedRateBond, PlainVanillaCouponBond\n",
    "from rivapy.instruments.factory import create\n",
    "from rivapy.tools.enums import DayCounterType, RollConvention, SecuritizationLevel, Currency\n",
    "\n",
    "from IPython.display import display, HTML\n",
    "display(HTML(\"<style>.container { width:80% !important; }</style>\"))\n",
    "\n",
    "%load_ext autoreload\n",
    "%autoreload 2\n",
    "\n",
    "%matplotlib inline"
   ]
  },
  {
   "cell_type": "code",
   "execution_count": 2,
   "metadata": {},
   "outputs": [],
   "source": [
    "from collections.abc import Callable\n",
    "import datetime as dt\n",
    "import pandas as pd\n",
    "import rivapy.tools.interfaces as interfaces\n",
    "from rivapy.instruments.factory import create as _instrument_create\n",
    "from rivapy.marketdata.factory import create as _marketdata_create\n",
    "\n",
    "class MemoryStorage:\n",
    "    def __init__(self, create: Callable[[dict], object]):\n",
    "        self._store = {}\n",
    "        self.create = create\n",
    "        \n",
    "    def add(self, instrument: interfaces.FactoryObject):\n",
    "        if instrument.obj_id in self._store.keys():\n",
    "            tmp = self._store[instrument.obj_id][-1]\n",
    "            ins_dict = instrument.to_dict()\n",
    "            if interfaces.FactoryObject.hash_for_dict(tmp) != interfaces.FactoryObject.hash_for_dict(ins_dict):\n",
    "                self._store[instrument.obj_id].append(ins_dict)\n",
    "        else:\n",
    "            self._store[instrument.obj_id] = [instrument.to_dict()]\n",
    "            \n",
    "    def get_by_id(self, obj_id: str):\n",
    "        if obj_id in self._store.keys():\n",
    "            return self.create(self._store[obj_id][-1])\n",
    "        else:\n",
    "            raise Exception('No instrument with id ' + obj_id + ' exists in storage.')\n",
    "        \n",
    "    def _append_values(self, results: dict, keys: list):\n",
    "        for k,v in self._store.items():\n",
    "            obj = v[-1]\n",
    "            for r in results.keys():\n",
    "                if r == 'num_version':\n",
    "                    results[r].append(len(v))\n",
    "                else:\n",
    "                    results[r].append(obj.get(r))\n",
    "        \n",
    "    def get_object_list(self, keys=['obj_id', 'cls', 'expiry', 'issue_date' ]):\n",
    "        num_version = []\n",
    "        tmp ={k:[] for k in keys}\n",
    "        tmp['num_version'] = []\n",
    "        self._append_values(tmp, keys)\n",
    "        return pd.DataFrame(tmp)"
   ]
  },
  {
   "cell_type": "code",
   "execution_count": 14,
   "metadata": {},
   "outputs": [],
   "source": [
    "ins_store = MemoryStorage(_instrument_create)\n",
    "mkt_store = MemoryStorage(_marketdata_create)"
   ]
  },
  {
   "cell_type": "code",
   "execution_count": 29,
   "metadata": {},
   "outputs": [],
   "source": [
    "for days in range (30,90, 30):\n",
    "    bond = ZeroCouponBondSpecification('BOND_'+str(days), issue_date = dt.datetime(2023,1,1), maturity_date=dt.datetime(2023,1,1) + dt.timedelta(days=days), \n",
    "                              currency=Currency.EUR, notional=10.0, issuer='Depp2', \n",
    "                            securitization_level=SecuritizationLevel.SUBORDINATED)\n",
    "    ins_store.add(bond)\n",
    "    \n",
    "ins_store.add(PlainVanillaCouponBond('PV_BOND_'+str(days), \n",
    "                                     issue_date = dt.datetime(2023,1,1),\n",
    "                                     maturity_date=dt.datetime(2025,1,2), \n",
    "                                    currency=Currency.EUR, notional=1.0, issuer='Depp', \n",
    "                                    securitization_level=SecuritizationLevel.SUBORDINATED, \n",
    "                                    coupon = 0.05, coupon_freq='Y', first_coupondate = dt.datetime(2023,2,1)))"
   ]
  },
  {
   "cell_type": "code",
   "execution_count": 30,
   "metadata": {},
   "outputs": [],
   "source": [
    "pv_bond = ins_store.get_by_id('PV_BOND_60')"
   ]
  },
  {
   "cell_type": "code",
   "execution_count": 32,
   "metadata": {},
   "outputs": [
    {
     "ename": "TypeError",
     "evalue": "'years' is an invalid keyword argument for __new__()",
     "output_type": "error",
     "traceback": [
      "\u001b[1;31m---------------------------------------------------------------------------\u001b[0m",
      "\u001b[1;31mTypeError\u001b[0m                                 Traceback (most recent call last)",
      "Input \u001b[1;32mIn [32]\u001b[0m, in \u001b[0;36m<cell line: 3>\u001b[1;34m()\u001b[0m\n\u001b[0;32m      1\u001b[0m pv_bond\u001b[38;5;241m.\u001b[39mexpected_cashflows()\n\u001b[0;32m      2\u001b[0m \u001b[38;5;28;01mfrom\u001b[39;00m \u001b[38;5;21;01mdatetime\u001b[39;00m \u001b[38;5;28;01mimport\u001b[39;00m timedelta\n\u001b[1;32m----> 3\u001b[0m \u001b[43mtimedelta\u001b[49m\u001b[43m(\u001b[49m\u001b[43myears\u001b[49m\u001b[38;5;241;43m=\u001b[39;49m\u001b[38;5;241;43m1\u001b[39;49m\u001b[43m)\u001b[49m\n",
      "\u001b[1;31mTypeError\u001b[0m: 'years' is an invalid keyword argument for __new__()"
     ]
    }
   ],
   "source": [
    "pv_bond.expected_cashflows()\n",
    "from datetime import timedelta\n",
    "timedelta(years=1)"
   ]
  },
  {
   "cell_type": "code",
   "execution_count": 20,
   "metadata": {},
   "outputs": [
    {
     "data": {
      "text/html": [
       "<div>\n",
       "<style scoped>\n",
       "    .dataframe tbody tr th:only-of-type {\n",
       "        vertical-align: middle;\n",
       "    }\n",
       "\n",
       "    .dataframe tbody tr th {\n",
       "        vertical-align: top;\n",
       "    }\n",
       "\n",
       "    .dataframe thead th {\n",
       "        text-align: right;\n",
       "    }\n",
       "</style>\n",
       "<table border=\"1\" class=\"dataframe\">\n",
       "  <thead>\n",
       "    <tr style=\"text-align: right;\">\n",
       "      <th></th>\n",
       "      <th>obj_id</th>\n",
       "      <th>cls</th>\n",
       "      <th>maturity_date</th>\n",
       "      <th>issue_date</th>\n",
       "      <th>issuer</th>\n",
       "      <th>securitisation_level</th>\n",
       "      <th>num_version</th>\n",
       "    </tr>\n",
       "  </thead>\n",
       "  <tbody>\n",
       "    <tr>\n",
       "      <th>0</th>\n",
       "      <td>BOND_30</td>\n",
       "      <td>ZeroCouponBondSpecification</td>\n",
       "      <td>2023-01-31</td>\n",
       "      <td>2023-01-01</td>\n",
       "      <td>Depp2</td>\n",
       "      <td>None</td>\n",
       "      <td>1</td>\n",
       "    </tr>\n",
       "    <tr>\n",
       "      <th>1</th>\n",
       "      <td>BOND_60</td>\n",
       "      <td>ZeroCouponBondSpecification</td>\n",
       "      <td>2023-03-02</td>\n",
       "      <td>2023-01-01</td>\n",
       "      <td>Depp2</td>\n",
       "      <td>None</td>\n",
       "      <td>1</td>\n",
       "    </tr>\n",
       "    <tr>\n",
       "      <th>2</th>\n",
       "      <td>PV_BOND_60</td>\n",
       "      <td>PlainVanillaCouponBond</td>\n",
       "      <td>2025-01-02</td>\n",
       "      <td>2023-01-01</td>\n",
       "      <td>Depp</td>\n",
       "      <td>None</td>\n",
       "      <td>2</td>\n",
       "    </tr>\n",
       "  </tbody>\n",
       "</table>\n",
       "</div>"
      ],
      "text/plain": [
       "       obj_id                          cls maturity_date  issue_date issuer  \\\n",
       "0     BOND_30  ZeroCouponBondSpecification    2023-01-31  2023-01-01  Depp2   \n",
       "1     BOND_60  ZeroCouponBondSpecification    2023-03-02  2023-01-01  Depp2   \n",
       "2  PV_BOND_60       PlainVanillaCouponBond    2025-01-02  2023-01-01   Depp   \n",
       "\n",
       "  securitisation_level  num_version  \n",
       "0                 None            1  \n",
       "1                 None            1  \n",
       "2                 None            2  "
      ]
     },
     "execution_count": 20,
     "metadata": {},
     "output_type": "execute_result"
    }
   ],
   "source": [
    "ins_store.get_object_list(keys=['obj_id', 'cls', 'maturity_date', 'issue_date', 'issuer', 'securitisation_level' ])"
   ]
  },
  {
   "cell_type": "code",
   "execution_count": 7,
   "metadata": {},
   "outputs": [],
   "source": [
    "from rivapy.marketdata.curves import NelsonSiegel, DiscountCurveParametrized\n",
    "\n",
    "ns = NelsonSiegel(beta0=0.05, beta1 = 0.1, beta2=0.1, tau=1.0)\n",
    "dc = DiscountCurveParametrized('DC',  refdate = dt.datetime(2023,1,1), rate_parametrization=ns, \n",
    "                               daycounter = DayCounterType.Act365Fixed)\n",
    "mkt_store.add(dc)"
   ]
  },
  {
   "cell_type": "code",
   "execution_count": 8,
   "metadata": {},
   "outputs": [
    {
     "data": {
      "text/plain": [
       "[0.14999999983334436,\n",
       " 0.14989192352864789,\n",
       " 0.1495848897631583,\n",
       " 0.1491028504118529,\n",
       " 0.148467474410205,\n",
       " 0.14769834878999621,\n",
       " 0.14681316252613708,\n",
       " 0.14582787477386266,\n",
       " 0.1447568687932631,\n",
       " 0.143613092751767,\n",
       " 0.1424081884974984,\n",
       " 0.14115260930667128,\n",
       " 0.13985572752573716,\n",
       " 0.13852593295326338,\n",
       " 0.13717072273695116,\n",
       " 0.1357967834973068,\n",
       " 0.13441006633079175,\n",
       " 0.13301585529138243,\n",
       " 0.13161882989997564,\n",
       " 0.1302231221856234,\n",
       " 0.12883236872085,\n",
       " 0.12744975807498168,\n",
       " 0.1260780740742416,\n",
       " 0.12471973522506187,\n",
       " 0.1233768306274171,\n",
       " 0.1220511526777656,\n",
       " 0.12074422683620559,\n",
       " 0.11945733870952498,\n",
       " 0.11819155868078277,\n",
       " 0.11694776429675176]"
      ]
     },
     "execution_count": 8,
     "metadata": {},
     "output_type": "execute_result"
    }
   ],
   "source": [
    "mkt_store.get_by_id('DC')\n",
    "dates = [dt.datetime(2023,1,1) + dt.timedelta(days=30*days) for days in range(30)]\n",
    "[dc.value(refdate = dt.datetime(2023,1,1),d=d) for d in dates]"
   ]
  },
  {
   "cell_type": "code",
   "execution_count": null,
   "metadata": {},
   "outputs": [],
   "source": []
  }
 ],
 "metadata": {
  "hide_input": false,
  "kernelspec": {
   "display_name": "Python 3 (ipykernel)",
   "language": "python",
   "name": "python3"
  },
  "language_info": {
   "codemirror_mode": {
    "name": "ipython",
    "version": 3
   },
   "file_extension": ".py",
   "mimetype": "text/x-python",
   "name": "python",
   "nbconvert_exporter": "python",
   "pygments_lexer": "ipython3",
   "version": "3.9.12"
  },
  "toc": {
   "base_numbering": 1,
   "nav_menu": {},
   "number_sections": false,
   "sideBar": false,
   "skip_h1_title": false,
   "title_cell": "Table of Contents",
   "title_sidebar": "Contents",
   "toc_cell": false,
   "toc_position": {},
   "toc_section_display": false,
   "toc_window_display": false
  },
  "varInspector": {
   "cols": {
    "lenName": 16,
    "lenType": 16,
    "lenVar": 40
   },
   "kernels_config": {
    "python": {
     "delete_cmd_postfix": "",
     "delete_cmd_prefix": "del ",
     "library": "var_list.py",
     "varRefreshCmd": "print(var_dic_list())"
    },
    "r": {
     "delete_cmd_postfix": ") ",
     "delete_cmd_prefix": "rm(",
     "library": "var_list.r",
     "varRefreshCmd": "cat(var_dic_list()) "
    }
   },
   "types_to_exclude": [
    "module",
    "function",
    "builtin_function_or_method",
    "instance",
    "_Feature"
   ],
   "window_display": false
  }
 },
 "nbformat": 4,
 "nbformat_minor": 2
}
