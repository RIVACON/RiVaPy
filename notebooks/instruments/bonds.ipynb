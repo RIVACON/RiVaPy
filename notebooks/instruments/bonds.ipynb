{
 "cells": [
  {
   "cell_type": "code",
   "execution_count": 1,
   "metadata": {
    "ExecuteTime": {
     "end_time": "2023-01-02T16:10:57.488619Z",
     "start_time": "2023-01-02T16:10:56.462244Z"
    }
   },
   "outputs": [
    {
     "data": {
      "text/html": [
       "<style>.container { width:80% !important; }</style>"
      ],
      "text/plain": [
       "<IPython.core.display.HTML object>"
      ]
     },
     "metadata": {},
     "output_type": "display_data"
    }
   ],
   "source": [
    "import sys\n",
    "import datetime as dt\n",
    "sys.path.insert(0,'../..')\n",
    "import matplotlib.pyplot as plt\n",
    "from rivapy.instruments import ZeroCouponBondSpecification, FixedRateBondSpecification, PlainVanillaCouponBondSpecification\n",
    "from rivapy.instruments.factory import create\n",
    "from rivapy.tools.enums import DayCounterType, RollConvention, SecuritizationLevel, Currency\n",
    "from rivapy.pricing import bond_pricing\n",
    "from IPython.display import display, HTML\n",
    "display(HTML(\"<style>.container { width:80% !important; }</style>\"))\n",
    "\n",
    "%load_ext autoreload\n",
    "%autoreload 2\n",
    "\n",
    "%matplotlib inline"
   ]
  },
  {
   "cell_type": "code",
   "execution_count": 2,
   "metadata": {
    "ExecuteTime": {
     "end_time": "2023-01-02T16:11:00.655810Z",
     "start_time": "2023-01-02T16:11:00.632700Z"
    },
    "code_folding": [
     7
    ]
   },
   "outputs": [],
   "source": [
    "from typing import Callable\n",
    "import datetime as dt\n",
    "import pandas as pd\n",
    "import rivapy.tools.interfaces as interfaces\n",
    "from rivapy.instruments.factory import create as _instrument_create\n",
    "from rivapy.marketdata.factory import create as _marketdata_create\n",
    "\n",
    "class MemoryStorage:\n",
    "    def __init__(self, create: Callable[[dict], object]):\n",
    "        self._store = {}\n",
    "        self.create = create\n",
    "        \n",
    "    def add(self, instrument: interfaces.FactoryObject):\n",
    "        if instrument.obj_id in self._store.keys():\n",
    "            tmp = self._store[instrument.obj_id][-1]\n",
    "            ins_dict = instrument.to_dict()\n",
    "            if interfaces.FactoryObject.hash_for_dict(tmp) != interfaces.FactoryObject.hash_for_dict(ins_dict):\n",
    "                self._store[instrument.obj_id].append(ins_dict)\n",
    "        else:\n",
    "            self._store[instrument.obj_id] = [instrument.to_dict()]\n",
    "            \n",
    "    def get_by_id(self, obj_id: str):\n",
    "        if obj_id in self._store.keys():\n",
    "            return self.create(self._store[obj_id][-1])\n",
    "        else:\n",
    "            raise Exception('No instrument with id ' + obj_id + ' exists in storage.')\n",
    "        \n",
    "    def _append_values(self, results: dict, keys: list):\n",
    "        for k,v in self._store.items():\n",
    "            obj = v[-1]\n",
    "            for r in results.keys():\n",
    "                if r == 'num_version':\n",
    "                    results[r].append(len(v))\n",
    "                else:\n",
    "                    results[r].append(obj.get(r))\n",
    "        \n",
    "    def get_object_list(self, keys=['obj_id', 'cls', 'expiry', 'issue_date' ]):\n",
    "        num_version = []\n",
    "        tmp ={k:[] for k in keys}\n",
    "        tmp['num_version'] = []\n",
    "        self._append_values(tmp, keys)\n",
    "        return pd.DataFrame(tmp)"
   ]
  },
  {
   "cell_type": "code",
   "execution_count": 3,
   "metadata": {
    "ExecuteTime": {
     "end_time": "2023-01-02T16:11:01.547734Z",
     "start_time": "2023-01-02T16:11:01.510921Z"
    }
   },
   "outputs": [],
   "source": [
    "ins_store = MemoryStorage(_instrument_create)\n",
    "mkt_store = MemoryStorage(_marketdata_create)"
   ]
  },
  {
   "cell_type": "code",
   "execution_count": 4,
   "metadata": {
    "ExecuteTime": {
     "end_time": "2023-01-02T16:11:02.079127Z",
     "start_time": "2023-01-02T16:11:02.061390Z"
    }
   },
   "outputs": [],
   "source": [
    "for days in range (30,90, 30):\n",
    "    bond = ZeroCouponBondSpecification('BOND_'+str(days), issue_date = dt.datetime(2023,1,1), maturity_date=dt.datetime(2023,1,1) + dt.timedelta(days=days), \n",
    "                              currency=Currency.EUR, notional=10.0, issuer='Depp2', \n",
    "                            securitization_level=SecuritizationLevel.SUBORDINATED)\n",
    "    ins_store.add(bond)\n",
    "    \n",
    "ins_store.add(PlainVanillaCouponBondSpecification('PV_BOND_'+str(days), \n",
    "                                     issue_date = dt.datetime(2023,1,1),\n",
    "                                     maturity_date=dt.datetime(2025,1,2), \n",
    "                                    currency=Currency.EUR, notional=100.0, \n",
    "                                     issuer='Depp', \n",
    "                                    securitization_level=SecuritizationLevel.SUBORDINATED, \n",
    "                                    coupon = 0.05, coupon_freq='1Y', accrual_start = dt.datetime(2023,2,10)))"
   ]
  },
  {
   "cell_type": "code",
   "execution_count": 5,
   "metadata": {
    "ExecuteTime": {
     "end_time": "2023-01-02T16:22:12.206544Z",
     "start_time": "2023-01-02T16:22:11.864067Z"
    }
   },
   "outputs": [
    {
     "data": {
      "text/plain": [
       "[(datetime.datetime(2023, 2, 10, 0, 0), 0.0),\n",
       " (datetime.datetime(2024, 1, 2, 0, 0), 5.0),\n",
       " (datetime.datetime(2025, 1, 2, 0, 0), 5.0),\n",
       " (datetime.datetime(2025, 1, 2, 0, 0), 100.0)]"
      ]
     },
     "execution_count": 5,
     "metadata": {},
     "output_type": "execute_result"
    }
   ],
   "source": [
    "bond_spec = PlainVanillaCouponBondSpecification('PV_BOND_'+str(days), \n",
    "                                     issue_date = dt.datetime(2023,1,1),\n",
    "                                     maturity_date=dt.datetime(2025,1,2), \n",
    "                                    currency=Currency.EUR, notional=100.0, \n",
    "                                     issuer='Depp', \n",
    "                                    securitization_level=SecuritizationLevel.SUBORDINATED, \n",
    "                                    coupon = 0.05, coupon_freq='1Y', accrual_start = dt.datetime(2023,2,10))\n",
    "bond_spec.expected_cashflows()"
   ]
  },
  {
   "cell_type": "code",
   "execution_count": 6,
   "metadata": {
    "ExecuteTime": {
     "end_time": "2023-01-02T16:13:48.117406Z",
     "start_time": "2023-01-02T16:13:48.071152Z"
    }
   },
   "outputs": [
    {
     "data": {
      "text/plain": [
       "0.058478433061839336"
      ]
     },
     "execution_count": 6,
     "metadata": {},
     "output_type": "execute_result"
    }
   ],
   "source": [
    "bond_pricing.SimpleCashflowPricer.compute_yield(target_dirty_price=100.0, val_date = dt.datetime(2023,5,1), specification=bond_spec)"
   ]
  },
  {
   "cell_type": "code",
   "execution_count": 7,
   "metadata": {
    "ExecuteTime": {
     "end_time": "2023-01-02T13:10:43.785721Z",
     "start_time": "2023-01-02T13:10:43.774242Z"
    }
   },
   "outputs": [
    {
     "data": {
      "text/plain": [
       "[(datetime.datetime(2023, 2, 10, 0, 0), 0.0),\n",
       " (datetime.datetime(2024, 1, 2, 0, 0), 5.0),\n",
       " (datetime.datetime(2025, 1, 2, 0, 0), 5.0),\n",
       " (datetime.datetime(2025, 1, 2, 0, 0), 100.0)]"
      ]
     },
     "execution_count": 7,
     "metadata": {},
     "output_type": "execute_result"
    }
   ],
   "source": [
    "bond_spec.expected_cashflows()"
   ]
  },
  {
   "cell_type": "code",
   "execution_count": 8,
   "metadata": {
    "ExecuteTime": {
     "end_time": "2023-01-02T13:10:43.797286Z",
     "start_time": "2023-01-02T13:10:43.786584Z"
    }
   },
   "outputs": [
    {
     "data": {
      "text/plain": [
       "{'accrual_start': datetime.datetime(2023, 2, 10, 0, 0),\n",
       " 'coupon_freq': '1Y',\n",
       " 'coupon': 0.05,\n",
       " 'obj_id': 'PV_BOND_60',\n",
       " 'issuer': 'Depp',\n",
       " 'securitization_level': 'SUBORDINATED',\n",
       " 'issue_date': datetime.datetime(2023, 1, 1, 0, 0),\n",
       " 'maturity_date': datetime.datetime(2025, 1, 2, 0, 0),\n",
       " 'currency': 'EUR',\n",
       " 'notional': 100.0,\n",
       " 'rating': 'NONE',\n",
       " 'cls': 'PlainVanillaCouponBondSpecification'}"
      ]
     },
     "execution_count": 8,
     "metadata": {},
     "output_type": "execute_result"
    }
   ],
   "source": [
    "bond_spec.to_dict()"
   ]
  },
  {
   "cell_type": "code",
   "execution_count": 9,
   "metadata": {
    "ExecuteTime": {
     "end_time": "2023-01-02T13:10:43.814756Z",
     "start_time": "2023-01-02T13:10:43.798212Z"
    }
   },
   "outputs": [
    {
     "data": {
      "text/html": [
       "<div>\n",
       "<style scoped>\n",
       "    .dataframe tbody tr th:only-of-type {\n",
       "        vertical-align: middle;\n",
       "    }\n",
       "\n",
       "    .dataframe tbody tr th {\n",
       "        vertical-align: top;\n",
       "    }\n",
       "\n",
       "    .dataframe thead th {\n",
       "        text-align: right;\n",
       "    }\n",
       "</style>\n",
       "<table border=\"1\" class=\"dataframe\">\n",
       "  <thead>\n",
       "    <tr style=\"text-align: right;\">\n",
       "      <th></th>\n",
       "      <th>obj_id</th>\n",
       "      <th>cls</th>\n",
       "      <th>maturity_date</th>\n",
       "      <th>issue_date</th>\n",
       "      <th>issuer</th>\n",
       "      <th>securitisation_level</th>\n",
       "      <th>num_version</th>\n",
       "    </tr>\n",
       "  </thead>\n",
       "  <tbody>\n",
       "    <tr>\n",
       "      <th>0</th>\n",
       "      <td>BOND_30</td>\n",
       "      <td>ZeroCouponBondSpecification</td>\n",
       "      <td>2023-01-31</td>\n",
       "      <td>2023-01-01</td>\n",
       "      <td>Depp2</td>\n",
       "      <td>None</td>\n",
       "      <td>1</td>\n",
       "    </tr>\n",
       "    <tr>\n",
       "      <th>1</th>\n",
       "      <td>BOND_60</td>\n",
       "      <td>ZeroCouponBondSpecification</td>\n",
       "      <td>2023-03-02</td>\n",
       "      <td>2023-01-01</td>\n",
       "      <td>Depp2</td>\n",
       "      <td>None</td>\n",
       "      <td>1</td>\n",
       "    </tr>\n",
       "    <tr>\n",
       "      <th>2</th>\n",
       "      <td>PV_BOND_60</td>\n",
       "      <td>PlainVanillaCouponBondSpecification</td>\n",
       "      <td>2025-01-02</td>\n",
       "      <td>2023-01-01</td>\n",
       "      <td>Depp</td>\n",
       "      <td>None</td>\n",
       "      <td>1</td>\n",
       "    </tr>\n",
       "  </tbody>\n",
       "</table>\n",
       "</div>"
      ],
      "text/plain": [
       "       obj_id                                  cls maturity_date issue_date  \\\n",
       "0     BOND_30          ZeroCouponBondSpecification    2023-01-31 2023-01-01   \n",
       "1     BOND_60          ZeroCouponBondSpecification    2023-03-02 2023-01-01   \n",
       "2  PV_BOND_60  PlainVanillaCouponBondSpecification    2025-01-02 2023-01-01   \n",
       "\n",
       "  issuer securitisation_level  num_version  \n",
       "0  Depp2                 None            1  \n",
       "1  Depp2                 None            1  \n",
       "2   Depp                 None            1  "
      ]
     },
     "execution_count": 9,
     "metadata": {},
     "output_type": "execute_result"
    }
   ],
   "source": [
    "ins_store.get_object_list(keys=['obj_id', 'cls', 'maturity_date', 'issue_date', 'issuer', 'securitisation_level' ])"
   ]
  },
  {
   "cell_type": "code",
   "execution_count": 10,
   "metadata": {
    "ExecuteTime": {
     "end_time": "2023-01-02T14:12:35.707284Z",
     "start_time": "2023-01-02T14:12:35.376476Z"
    }
   },
   "outputs": [],
   "source": [
    "from rivapy.marketdata.curves import NelsonSiegel, DiscountCurveParametrized\n",
    "\n",
    "ns = NelsonSiegel(beta0=0.001, beta1 = -0.2, beta2=-0.06, tau=1)\n",
    "dc = DiscountCurveParametrized('DC',  refdate = dt.datetime(2023,1,1), rate_parametrization=ns, \n",
    "                               daycounter = DayCounterType.Act365Fixed)\n",
    "mkt_store.add(dc)"
   ]
  },
  {
   "cell_type": "code",
   "execution_count": 11,
   "metadata": {
    "ExecuteTime": {
     "end_time": "2023-01-02T14:12:40.910826Z",
     "start_time": "2023-01-02T14:12:40.799160Z"
    }
   },
   "outputs": [
    {
     "data": {
      "image/png": "[encoded data removed]",
      "text/plain": [
       "<Figure size 640x480 with 1 Axes>"
      ]
     },
     "metadata": {},
     "output_type": "display_data"
    }
   ],
   "source": [
    "mkt_store.get_by_id('DC')\n",
    "dates = [dt.datetime(2023,1,1) + dt.timedelta(days=30*days) for days in range(120)]\n",
    "values = [dc.value(refdate = dt.datetime(2023,1,1),d=d) for d in dates]\n",
    "plt.plot(dates, values)\n",
    "plt.show()"
   ]
  }
 ],
 "metadata": {
  "hide_input": false,
  "kernelspec": {
   "display_name": "Python 3 (ipykernel)",
   "language": "python",
   "name": "python3"
  },
  "language_info": {
   "codemirror_mode": {
    "name": "ipython",
    "version": 3
   },
   "file_extension": ".py",
   "mimetype": "text/x-python",
   "name": "python",
   "nbconvert_exporter": "python",
   "pygments_lexer": "ipython3",
   "version": "3.8.15"
  },
  "toc": {
   "base_numbering": 1,
   "nav_menu": {},
   "number_sections": false,
   "sideBar": false,
   "skip_h1_title": false,
   "title_cell": "Table of Contents",
   "title_sidebar": "Contents",
   "toc_cell": false,
   "toc_position": {},
   "toc_section_display": false,
   "toc_window_display": false
  },
  "varInspector": {
   "cols": {
    "lenName": 16,
    "lenType": 16,
    "lenVar": 40
   },
   "kernels_config": {
    "python": {
     "delete_cmd_postfix": "",
     "delete_cmd_prefix": "del ",
     "library": "var_list.py",
     "varRefreshCmd": "print(var_dic_list())"
    },
    "r": {
     "delete_cmd_postfix": ") ",
     "delete_cmd_prefix": "rm(",
     "library": "var_list.r",
     "varRefreshCmd": "cat(var_dic_list()) "
    }
   },
   "types_to_exclude": [
    "module",
    "function",
    "builtin_function_or_method",
    "instance",
    "_Feature"
   ],
   "window_display": false
  }
 },
 "nbformat": 4,
 "nbformat_minor": 2
}
