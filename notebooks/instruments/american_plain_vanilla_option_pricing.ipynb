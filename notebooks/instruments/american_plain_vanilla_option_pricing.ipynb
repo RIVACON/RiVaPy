{
 "cells": [
  {
   "cell_type": "markdown",
   "metadata": {},
   "source": [
    "# Option Pricing Using *rivapy* American Vanilla Specification"
   ]
  },
  {
   "cell_type": "code",
   "execution_count": 1,
   "metadata": {
    "ExecuteTime": {
     "end_time": "2022-03-01T14:00:28.859229Z",
     "start_time": "2022-03-01T14:00:24.650558Z"
    }
   },
   "outputs": [],
   "source": [
    "from rivapy import marketdata as mkt_data\n",
    "from rivapy import enums as enums\n",
    "import datetime as dt\n",
    "import rivapy\n",
    "import math\n",
    "import matplotlib.pyplot as plt\n",
    "# from scipy.stats import norm\n",
    "# import random\n",
    "import pandas as pd\n",
    "\n",
    "# %load_ext autoreload\n",
    "# %autoreload 2\n",
    "# #the next line is a jupyter internal command to show the matplotlib graphs within the notebook\n",
    "# %matplotlib inline"
   ]
  },
  {
   "cell_type": "markdown",
   "metadata": {},
   "source": [
    "## Create the necessary market data\n",
    "\n",
    "As a first step, we need to create the market data necessary to conduct the valuation. Therefore, we need to construct a *discount-*, *funding-* and *borrowing curve*, as well as a *forward-curve* and *volatility surface*.\n",
    "\n",
    "### Create a discount-, funding-, and borrowing curve"
   ]
  },
  {
   "cell_type": "code",
   "execution_count": 2,
   "metadata": {
    "ExecuteTime": {
     "end_time": "2022-03-01T14:00:28.874187Z",
     "start_time": "2022-03-01T14:00:28.863217Z"
    }
   },
   "outputs": [],
   "source": [
    "refdate = dt.datetime(2021,1,1,0,0,0)\n",
    "days_to_maturity = [1, 180, 365, 720, 3*365, 4*365, 10*365]\n",
    "dates = [refdate + dt.timedelta(days=d) for d in days_to_maturity]\n",
    "# discount factors from constant rate\n",
    "disc_rate = 0.05\n",
    "dc = mkt_data.DiscountCurve(\"DC\", refdate, dates, \n",
    "                                            [math.exp(-d/365.0*disc_rate) for d in days_to_maturity])\n",
    "borrow_rate = 0.02\n",
    "bc = mkt_data.DiscountCurve(\"BC\", refdate, dates, \n",
    "                                            [math.exp(-d/365.0*borrow_rate) for d in days_to_maturity])\n",
    "\n",
    "funding_rate = 0.05\n",
    "fc = mkt_data.DiscountCurve(\"FC\", refdate, dates, \n",
    "                                            [math.exp(-d/365.0*funding_rate) for d in days_to_maturity])"
   ]
  },
  {
   "cell_type": "markdown",
   "metadata": {},
   "source": [
    "### Create a dividend table"
   ]
  },
  {
   "cell_type": "code",
   "execution_count": 3,
   "metadata": {
    "ExecuteTime": {
     "end_time": "2022-03-01T14:00:28.890145Z",
     "start_time": "2022-03-01T14:00:28.879178Z"
    }
   },
   "outputs": [],
   "source": [
    "refdate = dt.datetime(2021,1,1,0,0,0)\n",
    "ex_dates =  [refdate + dt.timedelta(days=i) for i in [365, 2*365, 3*365, 4*365]]\n",
    "pay_dates = [d + dt.timedelta(days=2) for d in ex_dates]\n",
    "tax_factors = [1.0, 1.0, 1.0, 1.0]\n",
    "div_yield = [0, 0.0, 0.02, 0.02]\n",
    "div_cash = [2.5, 2.5, 1.5, 1.5]\n",
    "div_table = mkt_data.DividendTable('DIV', refdate, ex_dates, pay_dates, div_yield, div_cash, tax_factors)"
   ]
  },
  {
   "cell_type": "markdown",
   "metadata": {},
   "source": [
    "### Create a forward curve"
   ]
  },
  {
   "cell_type": "code",
   "execution_count": 4,
   "metadata": {
    "ExecuteTime": {
     "end_time": "2022-03-01T14:00:29.289617Z",
     "start_time": "2022-03-01T14:00:28.894237Z"
    }
   },
   "outputs": [
    {
     "data": {
      "image/png": "[encoded data removed]",
      "text/plain": [
       "<Figure size 432x288 with 1 Axes>"
      ]
     },
     "metadata": {
      "needs_background": "light"
     },
     "output_type": "display_data"
    }
   ],
   "source": [
    "# Creation of a Forward curve\n",
    "spot = 50.0\n",
    "forward_curve = mkt_data.EquityForwardCurve(spot, fc, bc, div_table)\n",
    "forward_curve.plot(days_end=5*365)"
   ]
  },
  {
   "cell_type": "markdown",
   "metadata": {},
   "source": [
    "### Create a volatility surface"
   ]
  },
  {
   "cell_type": "code",
   "execution_count": 5,
   "metadata": {
    "ExecuteTime": {
     "end_time": "2022-03-01T14:00:29.304578Z",
     "start_time": "2022-03-01T14:00:29.292610Z"
    }
   },
   "outputs": [],
   "source": [
    "vol_param = mkt_data.VolatilityParametrizationFlat(0.3)\n",
    "vol_surf = mkt_data.VolatilitySurface('TEST_SURFACE', refdate, forward_curve, enums.DayCounterType.Act365Fixed, vol_param)"
   ]
  },
  {
   "cell_type": "markdown",
   "metadata": {},
   "source": [
    "### Setup the specification\n",
    "\n",
    "The rivapy American Vanilla Specification requires the following mandatory arguments:\n",
    ">- object id (str)\n",
    ">- type ('CALL','PUT')\n",
    ">- expiry (datetime)\n",
    ">- strike (float)\n",
    "\n",
    "The following arguments must only be set when a market data manager is used to retrieve pricing data automatically from a database:\n",
    ">- issuer (str)\n",
    ">- securitization level (str)\n",
    ">- currency (str)\n",
    ">- underlying id (str)\n",
    "\n",
    "The *share ratio* argument is optional and describes the ratio of covered shares of the underlying by a single option contract. The default value is set to 1.0. The argument distinguishing the European Plain Vanilla Option from the American Plain Vanilla Option is the *exercise before ex date* argument, which indicates if option can be exercised within two days before dividend ex-date. The default value is False."
   ]
  },
  {
   "cell_type": "code",
   "execution_count": 14,
   "metadata": {
    "ExecuteTime": {
     "end_time": "2022-03-01T14:03:52.217759Z",
     "start_time": "2022-03-01T14:03:52.212788Z"
    }
   },
   "outputs": [],
   "source": [
    "issuer = 'DBK'\n",
    "seclevel = 'COLLATERALIZED'\n",
    "currency = 'EUR'\n",
    "tpe = 'CALL' # Change to 'PUT' if you want to calculate the price of an european put option.\n",
    "expiry = refdate + dt.timedelta(days=365)\n",
    "strike = 60\n",
    "spec = rivapy.instruments.AmericanVanillaSpecification('Test_call', tpe, expiry, strike, \n",
    "                                                       issuer = issuer, sec_lvl = seclevel, curr='EUR',udl_id='ADS',\n",
    "                                                       share_ratio = 1,exercise_before_ex_date = False)"
   ]
  },
  {
   "cell_type": "markdown",
   "metadata": {},
   "source": [
    "Referring to the Black-76 model, we consequently provided the model already with the the *option type*, the *expiry* $T$ and the *strike price* $K$. Thus, $F_0$, $r$ and $\\sigma$ have not been set yet. This data has been defined in the previous steps by creating the necessary market data. The underlying's forward price $F_0$ is provided through the forward curve which is contained in the volatility surface which, of course, also contains the volatility $\\sigma$. $r$ is contained in the provided discount curve. "
   ]
  },
  {
   "cell_type": "markdown",
   "metadata": {},
   "source": [
    "## Setup the pricing data"
   ]
  },
  {
   "cell_type": "markdown",
   "metadata": {},
   "source": [
    "In order to price the American Plain Vanilla Option, the *rivapy.pricing.AmericanPdePricingData* must be provided which requires the following arguments:\n",
    ">- valuation date (datetime)\n",
    ">- specification\n",
    ">- discount curve\n",
    ">- volatility surface\n",
    ">- pricing request\n",
    "\n",
    "The following arguments are optional:\n",
    ">- time steps per year (int) (default = 60)\n",
    ">- spot steps (int) (default = 200)"
   ]
  },
  {
   "cell_type": "code",
   "execution_count": 15,
   "metadata": {
    "ExecuteTime": {
     "end_time": "2022-03-01T14:03:54.075424Z",
     "start_time": "2022-03-01T14:03:54.060680Z"
    }
   },
   "outputs": [],
   "source": [
    "prdata = rivapy.pricing.AmericanPdePricingData(val_date = refdate, \n",
    "                                           spec = spec, \n",
    "                                           discount_curve = dc, \n",
    "                                           vol_surface = vol_surf, \n",
    "                                           pricing_request=(rivapy.pricing.ResultType.DELTA, \n",
    "                                                            rivapy.pricing.ResultType.GAMMA))"
   ]
  },
  {
   "cell_type": "markdown",
   "metadata": {},
   "source": [
    "## Calculation of an option price using the pyvacon American Vanilla Specification\n",
    "\n",
    "After all necessary information has been set, the price of the option can be calculated using the *rivapy.pricing.price* function."
   ]
  },
  {
   "cell_type": "code",
   "execution_count": 16,
   "metadata": {
    "ExecuteTime": {
     "end_time": "2022-03-01T14:03:54.725002Z",
     "start_time": "2022-03-01T14:03:54.700089Z"
    }
   },
   "outputs": [
    {
     "data": {
      "text/plain": [
       "2.3180994822206444"
      ]
     },
     "execution_count": 16,
     "metadata": {},
     "output_type": "execute_result"
    }
   ],
   "source": [
    "price = rivapy.pricing.price(prdata)\n",
    "price.getPrice()"
   ]
  },
  {
   "cell_type": "markdown",
   "metadata": {
    "ExecuteTime": {
     "end_time": "2021-03-10T18:47:45.246999Z",
     "start_time": "2021-03-10T18:47:45.214451Z"
    }
   },
   "source": [
    " ## Plotting the price"
   ]
  },
  {
   "cell_type": "markdown",
   "metadata": {},
   "source": [
    "## General Remarks\n",
    "\n",
    "### Implied volatility\n",
    "\n",
    "Since the volatility in the option pricing formulas cannot be directly observed, one usually works with implied volatilities. Implied volatilities are the volatilities implied by option prices observed in the market. As it is not possible to invert the Black-Scholes-Merton or Black-76 formulas so that the volatility is expressed as a function of the other parameters, one needs to use an interactive search procedure."
   ]
  },
  {
   "cell_type": "markdown",
   "metadata": {},
   "source": [
    "---"
   ]
  }
 ],
 "metadata": {
  "hide_input": false,
  "kernelspec": {
   "display_name": "Python 3",
   "language": "python",
   "name": "python3"
  },
  "language_info": {
   "codemirror_mode": {
    "name": "ipython",
    "version": 3
   },
   "file_extension": ".py",
   "mimetype": "text/x-python",
   "name": "python",
   "nbconvert_exporter": "python",
   "pygments_lexer": "ipython3",
   "version": "3.8.8"
  },
  "toc": {
   "base_numbering": 1,
   "nav_menu": {},
   "number_sections": true,
   "sideBar": true,
   "skip_h1_title": true,
   "title_cell": "Table of Contents",
   "title_sidebar": "Contents",
   "toc_cell": false,
   "toc_position": {
    "height": "calc(100% - 180px)",
    "left": "10px",
    "top": "150px",
    "width": "466.406px"
   },
   "toc_section_display": true,
   "toc_window_display": true
  },
  "varInspector": {
   "cols": {
    "lenName": 16,
    "lenType": 16,
    "lenVar": 40
   },
   "kernels_config": {
    "python": {
     "delete_cmd_postfix": "",
     "delete_cmd_prefix": "del ",
     "library": "var_list.py",
     "varRefreshCmd": "print(var_dic_list())"
    },
    "r": {
     "delete_cmd_postfix": ") ",
     "delete_cmd_prefix": "rm(",
     "library": "var_list.r",
     "varRefreshCmd": "cat(var_dic_list()) "
    }
   },
   "types_to_exclude": [
    "module",
    "function",
    "builtin_function_or_method",
    "instance",
    "_Feature"
   ],
   "window_display": false
  }
 },
 "nbformat": 4,
 "nbformat_minor": 2
}
