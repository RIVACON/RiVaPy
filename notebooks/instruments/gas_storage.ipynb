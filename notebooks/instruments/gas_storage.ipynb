{
 "cells": [
  {
   "cell_type": "markdown",
   "metadata": {},
   "source": [
    "# Gas Storage"
   ]
  },
  {
   "cell_type": "code",
   "execution_count": null,
   "metadata": {},
   "outputs": [],
   "source": [
    "import matplotlib.pyplot as plt\n",
    "import numpy as np\n",
    "import datetime as dt\n",
    "\n",
    "import sys\n",
    "if '../..' not in sys.path:\n",
    "    sys.path.append('../..')\n",
    "    \n",
    "from rivapy.instruments.gasstorage_specification import GasStorageSpecification\n",
    "from rivapy.pricing.gas_storage_pricer import PricingParameter, pricing_lsmc"
   ]
  },
  {
   "cell_type": "code",
   "execution_count": null,
   "metadata": {},
   "outputs": [],
   "source": [
    "%load_ext autoreload\n",
    "%autoreload 2\n",
    "%matplotlib inline"
   ]
  },
  {
   "cell_type": "markdown",
   "metadata": {},
   "source": [
    "## Introduction to Gas Storage Valuation"
   ]
  },
  {
   "cell_type": "markdown",
   "metadata": {},
   "source": [
    "Least Squares Monte Carlo valuation method to adjust storage trading decisions to price conditions given a seasonal demand.\n",
    "The task is to find the optimal operation (injection and withdrawal) of the storage, depending on current and expected gas prices, based on predictable price movements (seasonality) and unpredictable price fluctuations\n",
    "(volatility).\n",
    "\n",
    "[1] Gas Storage Valuation Using a Monte Carlo Method (Boogert and De Jong)\n",
    "\n",
    "[2] Valuing American Options by Simulation: A Simple Least-Squares Approach(Longstaff and Schwartz)"
   ]
  },
  {
   "cell_type": "markdown",
   "metadata": {},
   "source": [
    "The storage contract from the perspective of the contract holder\n",
    "\n",
    "signed at $t=0$ and settled at $t=T+1$\n",
    "\n",
    "The contract allows the holder to take a desired action at any discrete date $t = 1, ..., T$ after the spot price $S(t)$ is revealed.\n",
    "Every day the holder of a storage contract can choose to inject gas, do nothing, or withdraw gas, within certain volumetric limitations.\n",
    "\n",
    "An injection at day $t$ is a positive volume change $\\Delta v(t)$ and represents costs, while a withdrawal is a negative volume change $\\Delta v(t)$ and represents profits. Note that at time $t = 0$ the holder cannot take an action, and $\\Delta v(0) = 0$.\n",
    "\n",
    "We denote the (accumulated) volume in storage at the start of day $t$ by $v(t)$ and with $\\Delta v(t) = v(t+1) - v(t)$, the volume at day $t$ is \n",
    "$$v(t) = v(0) + \\sum_{i=1}^t \\Delta v(i-1) $$\n",
    "\n",
    "The payoff at day $t=0, ..., T$ is \n",
    "$$ h(S(t), \\Delta v(t)) = \\begin{cases}\n",
    "-c(S(t)) \\Delta v(t)  &\\text{inject at day } t \\newline\n",
    "0  &\\text{do nothing at day } t \\newline\n",
    "-p(S(t)) \\Delta v(t)  &\\text{withdraw at day } t\n",
    "\\end{cases} $$\n",
    "\n",
    "where $c(S(t))$ and $p(S(t))$ represent the cost of injection and profit of withdrawal, respectively.\n",
    "\n",
    "$$ c(S(t)) = (1+a_1)S(t) + b_1 \\ge 0$$\n",
    "$$ p(S(t)) = (1-a_2)S(t) - b_2 \\ge 0$$\n",
    "\n",
    "with transaction costs $a$ and bid-ask spreads $b$.\n",
    "\n",
    "We denote the interest rate by $\\delta$.\n",
    "At settlement the holder receives a potential penalty, denoted by $q(S{T + 1),v(T+ 1))$.\n",
    "\n",
    "The volume in storage must stay between a minimum level and a maximum level for $t=1,...,T+1$:\n",
    "$$0 \\le v^{min}(t) \\le v(t) \\le v^{max}(t)$$ \n",
    "\n",
    "The injection and withdrawal is limited per day:\n",
    "$$ i^{min}(t, v(t)) \\le \\Delta v(t) \\le i^{max}(t, v(t))$$"
   ]
  },
  {
   "cell_type": "markdown",
   "metadata": {},
   "source": [
    "The value of a storage contract is the expected value of the accumulated future payoffs $h(S(t), Av(t))$ \n",
    "under the most optimal strategy $\\pi$."
   ]
  },
  {
   "cell_type": "code",
   "execution_count": null,
   "metadata": {
    "code_folding": [
     0
    ]
   },
   "outputs": [],
   "source": [
    "def create_contract_dates(startdate: dt.datetime, enddate: dt.datetime, datestep:dt.timedelta)->list:\n",
    "    dates=[startdate]\n",
    "    while dates[-1] <= enddate-datestep:\n",
    "        dates.append(dates[-1]+datestep)\n",
    "\n",
    "    #dates=[startdate]*n #nb_timesteps \n",
    "    #for i in range(1,n):\n",
    "    #    dates[i] = dates[i-1] + dateStep\n",
    "\n",
    "    return dates"
   ]
  },
  {
   "cell_type": "code",
   "execution_count": null,
   "metadata": {
    "code_folding": [
     0
    ]
   },
   "outputs": [],
   "source": [
    "class GeometricBrownianMotionSimulator:\n",
    "    \"\"\"Simulate a 1D Geometric Brownian Motion for a datetime timegrid\"\"\"\n",
    "\n",
    "    def __init__(self, timegrid: list, mu: float, sigma: float):\n",
    "\n",
    "        self.timegrid = timegrid\n",
    "        self.mu = mu\n",
    "        self.sigma = sigma\n",
    "\n",
    "    def create_gbm(self, X0: float, seed=None) -> np.array:\n",
    "\n",
    "        if seed is not None:\n",
    "            np.random.seed(seed)\n",
    "\n",
    "        dtt = []\n",
    "        for i in range(len(self.timegrid)-1):\n",
    "            dti = self.timegrid[i+1] - self.timegrid[i]\n",
    "            dtt.append(dti.days/365.0)\n",
    "        dt = np.array(dtt)\n",
    "        rnd = np.random.normal(size=(len(self.timegrid)-1))\n",
    "        Y = np.exp((self.mu - self.sigma**2 / 2) * dt + self.sigma * np.sqrt(dt) * rnd)\n",
    "        R = X0 * np.cumprod(Y) \n",
    "        return np.insert(R, 0, X0) #add start value X0"
   ]
  },
  {
   "cell_type": "code",
   "execution_count": null,
   "metadata": {},
   "outputs": [],
   "source": [
    "## Setting the parameters\n",
    "nomination = 1 #daily nomination\n",
    "M = 20 #number of independent price paths simulated\n",
    "S0 = 1.0 #starting value\n",
    "sigma = 0.00945\n",
    "mu = 0.2\n",
    "\n",
    "n_vol_levels = 11 #101\n",
    "min_volume = 0.0\n",
    "max_volume = 10.0 #1_000\n",
    "start_volume = 0.0 #100_000\n",
    "end_volume = 0.0 #100_000\n",
    "max_withdrawal = -1.0 #-7500\n",
    "max_injection = 1.0 #2500\n",
    "\n",
    "startdate = dt.datetime.fromisoformat('2021-01-01')\n",
    "enddate = dt.datetime.fromisoformat('2021-12-31')\n",
    "dateStep = dt.timedelta(days=nomination)\n",
    "contractdates = create_contract_dates(startdate, enddate, dateStep)\n",
    "#fwd_times = [(date - contractdates)/n for date in contractDates]"
   ]
  },
  {
   "cell_type": "code",
   "execution_count": null,
   "metadata": {},
   "outputs": [],
   "source": [
    "# Simulate M independent price paths S^b(1), S^b(T+1) for b = 1...M starting at S(0)\n",
    "gbm_sim = GeometricBrownianMotionSimulator(contractdates, mu, sigma)\n",
    "gbm = np.empty((len(contractdates), M))\n",
    "for i in range(M):\n",
    "    gbm[:,i] = gbm_sim.create_gbm(S0, seed=i) "
   ]
  },
  {
   "cell_type": "code",
   "execution_count": null,
   "metadata": {},
   "outputs": [],
   "source": [
    "params = PricingParameter(n_time_steps = 0, n_actions = 0, n_vol_levels = n_vol_levels)#, regression = _PolynomialRegressionFunction)\n",
    "store = GasStorageSpecification(contractdates, max_volume, max_withdrawal, max_injection)  \n",
    "gas_cashflows, vol_levels = pricing_lsmc(store, params, gbm, M)#, _penalty_func)\n",
    "#avg_gas_cashflow = np.average(gas_cashflows, axis=2)"
   ]
  },
  {
   "cell_type": "code",
   "execution_count": null,
   "metadata": {},
   "outputs": [],
   "source": [
    "plt.figure()\n",
    "plt.plot(gbm)\n",
    "plt.show()"
   ]
  },
  {
   "cell_type": "code",
   "execution_count": null,
   "metadata": {},
   "outputs": [],
   "source": [
    "plt.figure(figsize=(12,8))\n",
    "plt.plot(vol_levels)\n",
    "plt.show()"
   ]
  },
  {
   "cell_type": "code",
   "execution_count": null,
   "metadata": {
    "scrolled": false
   },
   "outputs": [],
   "source": [
    "for i in range(n_vol_levels):\n",
    "    plt.figure(figsize=(12,8))\n",
    "    plt.plot(gas_cashflows[:-10,i,:])\n",
    "    plt.title(\"volume_level=\"+str(i))\n",
    "    plt.show()"
   ]
  }
 ],
 "metadata": {
  "hide_input": false,
  "kernelspec": {
   "display_name": "Python 3",
   "language": "python",
   "name": "python3"
  },
  "language_info": {
   "codemirror_mode": {
    "name": "ipython",
    "version": 3
   },
   "file_extension": ".py",
   "mimetype": "text/x-python",
   "name": "python",
   "nbconvert_exporter": "python",
   "pygments_lexer": "ipython3",
   "version": "3.7.3"
  },
  "toc": {
   "base_numbering": 1,
   "nav_menu": {},
   "number_sections": true,
   "sideBar": true,
   "skip_h1_title": false,
   "title_cell": "Table of Contents",
   "title_sidebar": "Contents",
   "toc_cell": false,
   "toc_position": {},
   "toc_section_display": true,
   "toc_window_display": false
  }
 },
 "nbformat": 4,
 "nbformat_minor": 5
}
