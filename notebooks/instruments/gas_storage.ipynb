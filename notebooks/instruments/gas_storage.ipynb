{
 "cells": [
  {
   "cell_type": "markdown",
   "metadata": {},
   "source": [
    "# Gas Storage"
   ]
  },
  {
   "cell_type": "code",
   "execution_count": null,
   "metadata": {
    "ExecuteTime": {
     "end_time": "2023-01-06T08:28:45.743524Z",
     "start_time": "2023-01-06T08:28:44.506970Z"
    }
   },
   "outputs": [],
   "source": [
    "import matplotlib.pyplot as plt\n",
    "import numpy as np\n",
    "import datetime as dt\n",
    "\n",
    "import sys\n",
    "if '../..' not in sys.path:\n",
    "    sys.path.append('../..')\n",
    "\n",
    "from rivapy.models.ornstein_uhlenbeck import OrnsteinUhlenbeck\n",
    "from rivapy.models.gbm import GeometricBrownianMotion\n",
    "from rivapy.instruments.gasstorage_specification import GasStorageSpecification\n",
    "from rivapy.pricing.gas_storage_pricer import PricingParameter, pricing_lsmc"
   ]
  },
  {
   "cell_type": "code",
   "execution_count": null,
   "metadata": {
    "ExecuteTime": {
     "end_time": "2023-01-06T08:28:45.758219Z",
     "start_time": "2023-01-06T08:28:45.744523Z"
    }
   },
   "outputs": [],
   "source": [
    "%load_ext autoreload\n",
    "%autoreload 2\n",
    "%matplotlib inline"
   ]
  },
  {
   "attachments": {},
   "cell_type": "markdown",
   "metadata": {},
   "source": [
    "## Gas Storage Valuation Using a Monte Carlo Method "
   ]
  },
  {
   "attachments": {},
   "cell_type": "markdown",
   "id": "329f1418",
   "metadata": {},
   "source": [
    "### Literature\n",
    "\n",
    "[1] Gas Storage Valuation Using a Monte Carlo Method (Boogert and De Jong)\n",
    "\n",
    "[2] Valuing American Options by Simulation: A Simple Least-Squares Approach (Longstaff and Schwartz)"
   ]
  },
  {
   "attachments": {},
   "cell_type": "markdown",
   "id": "feaa8912",
   "metadata": {},
   "source": [
    "A Least Squares Monte Carlo (LSMC) valuation method is used to adjust storage trading decisions to price conditions.\n",
    "\n",
    "The task is to find the optimal operation (injection and withdrawal) of the storage, depending on current and expected gas prices, based on predictable price movements (seasonality) and unpredictable price fluctuations (volatility).\n",
    "The storage value thus depends on operational constraints such as working volume (effective capacity) and injection and withdrawal rates (flexibility) as well as the dynamics of market prices, which include spot price volatility, mean reversion(!) and seasonality.\n",
    "\n",
    "For the intrinsic value approach, calculate the optimal position given the available forward curve and take this position on the forward market.\n",
    "Additional value (extrinsic value) can be created by reacting to the price fluctuations on the spot market.\n",
    "The storage operator must thus choose between operating on the forward market (forward-based valuation) and operating on the spot market (spot-based valuation), or a combination of these."
   ]
  },
  {
   "attachments": {},
   "cell_type": "markdown",
   "id": "488eef17",
   "metadata": {},
   "source": [
    "**The storage contract** \n",
    "\n",
    "Consider a storage contract from the perspective of the contract holder. It is signed at $t=0$ and settled at $t=T+1$.\n",
    "The contract allows the holder to take a desired action at any discrete date $t = 1, ..., T$ after the spot price $S(t)$ is revealed.\n",
    "Every day the holder of a storage contract can choose to inject gas, do nothing, or withdraw gas, within certain volumetric limitations.\n",
    "\n",
    "An injection at day $t$ is a positive volume change $\\Delta v(t)$ and represents costs, while a withdrawal is a negative volume change $\\Delta v(t)$ and represents profits. Note that at time $t = 0$ the holder cannot take an action, and $\\Delta v(0) = 0$.\n",
    "We assume that the market has incorporated all knowledge about the optimal usage of storage into the prevailing forward curve and that the market will not be influenced by our trades.\n",
    "\n",
    "We denote the (accumulated) volume in storage at the start of day $t$ by $v(t)$ and the volume change with $\\Delta v(t) = v(t+1) - v(t)$, the volume at day $t$ is \n",
    "$$v(t) = v(0) + \\sum_{i=1}^t \\Delta v(i-1) $$\n",
    "\n",
    "The payoff at day $t=0, ..., T$ is \n",
    "$$ h(S(t), \\Delta v(t)) = \\begin{cases}\n",
    "-c(S(t)) \\Delta v(t)  &\\text{inject at day } t \\newline\n",
    "0  &\\text{do nothing at day } t \\newline\n",
    "-p(S(t)) \\Delta v(t)  &\\text{withdraw at day } t\n",
    "\\end{cases} $$\n",
    "\n",
    "where $c(S(t)) \\geq 0$ and $p(S(t)) \\geq 0$ represent the cost of injection and profit of withdrawal, respectively, \n",
    "\n",
    "$$ c(S(t)) = (1+a_1)S(t) + b_1 \\ge 0$$\n",
    "$$ p(S(t)) = (1-a_2)S(t) - b_2 \\ge 0$$\n",
    "\n",
    "with transaction costs $a$ and bid-ask spreads $b$.\n",
    "\n",
    "We denote the interest rate by $\\delta$.\n",
    "At settlement $T+1$ the holder receives a potential penalty, denoted by $q(S(T + 1),v(T+ 1))$, depending on the remaining gas in the storage, current price level, ...\n",
    "\n",
    "The volume in storage must stay between a minimum level and a maximum level for $t=1,...,T+1$:\n",
    "$$0 \\le v^{min}(t) \\le v(t) \\le v^{max}(t)$$ \n",
    "\n",
    "The injection and withdrawal is limited per day:\n",
    "$$ i^{min}(t, v(t)) \\le \\Delta v(t) \\le i^{max}(t, v(t))$$"
   ]
  },
  {
   "attachments": {},
   "cell_type": "markdown",
   "metadata": {},
   "source": [
    "**Valuation of a Storage Contract**\n",
    "\n",
    "The value of a storage contract is the expected value of the accumulated future payoffs $h(S(t), Av(t))$ under the most optimal strategy $\\pi = \\{\\pi(t, S(t), v(t))\\}_{t=1}^T $, which is dependent on the volume.\n",
    "\n",
    "The set of allowed volume levels at day $t$ is denoted by \n",
    "\n",
    "$$\\mathcal{V}(t) = \\{ v | v^{min} (t) \\leq v \\leq v^{max} (t)\\}$$\n",
    "\n",
    "and the set of all allowed actions on day $t$ being at volume $v(t)$ by\n",
    "\n",
    "$$\\mathcal{D}(t, v(t)) = \\{ \\Delta v | v^{min} (t+1) \\leq v(t) -\\Delta v \\leq v^{max} (t+1),  i^{min} (t, v(t)) \\leq \\Delta v \\leq i^{max} (t, v(t))\\} $$\n",
    "\n",
    "The value of a storage contract starting on day $t$ at volume level $v(t)$ is denoted by $U(t, S(t), v(t))$ and the continuation value, which is the value attached to the contract after taking an allowed action $\\Delta v \\in \\mathcal{D}(t, v(t))$, is defined as\n",
    "\n",
    "$$ C(t, S(t), v(t), \\Delta v) = E [e^{-\\delta} U(t+1, S(t+1), v(t)+\\Delta v)] $$\n",
    "\n",
    "Hence, $U(t, S(t), v(t))$ satisfies the following dynamic program:\n",
    "\n",
    "$$ U(T, S(T+1), v(T+1)) = q(S(T+1), v(T+1))$$\n",
    "$$ U(t, S(t), v(t)) = \\max_{\\Delta v \\in \\mathcal{D}(t,v(t))} \\{ h(S(t), \\Delta v) + C(t, S(t), v(t), \\Delta v)\\} \\quad \\forall t$$\n",
    "\n",
    "The holder of the contract weighs different actions against one another on the basis of their direct payoff plus expected future payoff and thus needs to calculate the continuation values for all $t$ for all possible actions for allowed volume levels to make a decision as the dynamic program is solved backward in time.\n",
    "\n",
    "To find an approximate solution, a regression-based method like Least Squares Monte Carlo may be used."
   ]
  },
  {
   "attachments": {},
   "cell_type": "markdown",
   "id": "85b1d3a0",
   "metadata": {},
   "source": [
    "**Pricing Algorithm**\n",
    "\n",
    "1. Simulate $M$ independent price paths $S^b(1), ..., S^b(T+1)$ for $b=1, ..., M$ starting at a given $S(0)$.\n",
    "\n",
    "2. Assign a value to the contract at maturity according to \n",
    "\n",
    "    $$Y^b(T+1,S^b(T+1), v(T+1)) = q(S^b(T+1),v(T+1))$$ \n",
    "\n",
    "    (The continuation values are unknown and approximated for all $M$ independent paths from the simulation by\n",
    "    \n",
    "    $$ C^b(t, S^b(t), v(t+1,n)) \\approx e^{-\\delta} Y^b(t+1, S(t+1), v(t+1,n)) $$\n",
    "    \n",
    "    where $Y^b(t+1, S(t+1), v(t+1,n))$ is the accumulated value of future realized cash flows in path $b=1, ..., M$ following optimal decisions starting at time $t+1$ being at volume level $v(t+1)$ and price $S^b (t+1)$. \n",
    "    \n",
    "    At day $T+1$, the continuation value is equal to the penalty function.)\n",
    "\n",
    "3. Apply backward induction for $t=T, ..., 1$ (the decision rule for all points in the time-volume grid is determined by stepping backwards).\n",
    "\n",
    "    For each $t$, step over $N$ allowed volume levels $v(t,n) \\in \\mathcal{V}(t)$:\n",
    "\n",
    "- Run an OLS regression to find an approximation of the continuation value $C^b(t, S^b(t), v(t+1,n))$ according to \n",
    "\n",
    "    $$ C(t, S(t), v(t), \\Delta v) \\approx \\sum_{q=1}^Q \\phi _q (t,S(t),\\mathcal{V}(t), \\Delta (v)) \\beta _{q,t} $$\n",
    "    \n",
    "    (The best regression coefficients $\\hat{\\beta}$ may be estimated by an ordinary least squares regression and the continuation values can be approximated by a finite linear combination of known basis functions $\\phi _q(S(t))$.)\n",
    "\n",
    "- Combine the different continuation values $\\hat{C}$ into a decision rule $\\hat{\\pi}^b (t, S^b(t), v(t))$, according to \n",
    "\n",
    "    $$ \\hat{\\pi}^b (t, S^b(t), v(t)) = \\arg \\max_{\\Delta v \\in \\mathcal{D}(t,v(t))} \\{ h(S^b(t), \\Delta v) + \\hat{C}^b(t, S^b(t), v(t) + \\Delta v)\\} $$\n",
    "\n",
    "    (The decision for all allowed volume levels that is expected to have the highest accumulated payoff. This is checked against the given constraints to find achievable actions.)\n",
    "\n",
    "- Implement the decision rule to calculate the accumulated future cash flows $Y^b(t, S^b(t), v(t))$ according to \n",
    "\n",
    "    $$ \\hat{Y}^b(t+1,S^b(t+1), v(t+1)) = h(S^b(t+1), \\hat{\\pi}^b(t+1,S^b(t+1),v(t+1))) + e^{-\\delta} Y^b(t+2, S^b(t+2), v(t+2) + \\hat{\\pi}^b(t+1,S^b(t+1),v(t+1))) $$\n",
    "   \n",
    "4. Storage value is the average accumulated future cash flow over all price paths according to \n",
    "\n",
    "    $$ \\hat{U}(0, S(0), v(0)) = \\frac{1}{M} \\sum_{b=1}^M Y^b(1,S^b(1),v(0)) $$\n",
    "\n",
    "    (at the valuation date $t=0$, the value of the storage contract is set equal to the average value of the future accumulated cash flows)"
   ]
  },
  {
   "attachments": {},
   "cell_type": "markdown",
   "id": "82ae9261",
   "metadata": {},
   "source": [
    "### Code"
   ]
  },
  {
   "cell_type": "code",
   "execution_count": null,
   "metadata": {
    "ExecuteTime": {
     "end_time": "2023-01-06T08:29:08.819641Z",
     "start_time": "2023-01-06T08:29:08.805644Z"
    },
    "code_folding": [
     0
    ]
   },
   "outputs": [],
   "source": [
    "def create_contract_dates(startdate: dt.datetime, enddate: dt.datetime, datestep:dt.timedelta)->list:\n",
    "    dates=[startdate]\n",
    "    while dates[-1] <= enddate-datestep:\n",
    "        dates.append(dates[-1]+datestep)\n",
    "\n",
    "    #dates=[startdate]*n #nb_timesteps \n",
    "    #for i in range(1,n):\n",
    "    #    dates[i] = dates[i-1] + dateStep\n",
    "\n",
    "    return dates"
   ]
  },
  {
   "cell_type": "code",
   "execution_count": null,
   "metadata": {
    "ExecuteTime": {
     "end_time": "2023-01-06T10:02:26.730152Z",
     "start_time": "2023-01-06T10:02:26.168359Z"
    }
   },
   "outputs": [],
   "source": [
    "## Setting the parameters\n",
    "num_sims = 1000 #number of independent price paths simulated\n",
    "S0 = 1.0 #starting value\n",
    "\n",
    "n_vol_levels = 101 #101\n",
    "storage_capacity = 1.0 #1_000\n",
    "max_withdrawal = -0.1 #-7500\n",
    "max_injection = 0.1 #2500"
   ]
  },
  {
   "cell_type": "code",
   "execution_count": null,
   "metadata": {},
   "outputs": [],
   "source": [
    "startdate = dt.datetime.fromisoformat('2022-01-01')\n",
    "enddate = dt.datetime.fromisoformat('2022-12-31')\n",
    "dateStep = dt.timedelta(days=1) #daily nomination\n",
    "contractdates = create_contract_dates(startdate, enddate, dateStep)\n",
    "timegrid = np.array([(contractdates[i] - contractdates[0]).days/365.0 for i in range(len(contractdates))])\n",
    "rnd = np.random.normal(size=(timegrid.shape[0], num_sims))"
   ]
  },
  {
   "cell_type": "code",
   "execution_count": null,
   "metadata": {
    "ExecuteTime": {
     "end_time": "2023-01-06T10:02:26.864452Z",
     "start_time": "2023-01-06T10:02:26.731123Z"
    }
   },
   "outputs": [],
   "source": [
    "# Simulate M independent price paths S^b(1), S^b(T+1) for b = 1...M starting at S(0)\n",
    "gbm_sim = GeometricBrownianMotion(drift=0.2, volatility=0.01)\n",
    "gbm = gbm_sim.simulate(timegrid, S0, rnd) \n",
    "ou_sim = OrnsteinUhlenbeck(speed_of_mean_reversion=0.1, volatility=0.1, mean_reversion_level=2.0)\n",
    "ou = ou_sim.simulate(timegrid=timegrid, start_value=S0, rnd=rnd)"
   ]
  },
  {
   "cell_type": "code",
   "execution_count": null,
   "metadata": {
    "ExecuteTime": {
     "end_time": "2023-01-06T10:03:47.871789Z",
     "start_time": "2023-01-06T10:03:42.033367Z"
    },
    "scrolled": true
   },
   "outputs": [],
   "source": [
    "path = ou\n",
    "params = PricingParameter(n_time_steps = None, n_actions = None, n_vol_levels = n_vol_levels)\n",
    "store = GasStorageSpecification(storage_capacity, max_withdrawal, max_injection)  "
   ]
  },
  {
   "cell_type": "code",
   "execution_count": null,
   "id": "ecf8daf7",
   "metadata": {},
   "outputs": [],
   "source": [
    "cashflow, vol_levels = pricing_lsmc(store, params, path, num_sims)"
   ]
  },
  {
   "cell_type": "code",
   "execution_count": null,
   "metadata": {
    "ExecuteTime": {
     "end_time": "2023-01-06T10:00:59.300033Z",
     "start_time": "2023-01-06T10:00:59.281717Z"
    }
   },
   "outputs": [],
   "source": [
    "price = cashflow[0,0,0]\n",
    "dispatch = np.mean(vol_levels, axis=1)    # 'mean timetable' of facility\n",
    "print(price)"
   ]
  },
  {
   "cell_type": "code",
   "execution_count": null,
   "metadata": {
    "ExecuteTime": {
     "end_time": "2023-01-06T10:03:49.586877Z",
     "start_time": "2023-01-06T10:03:48.752600Z"
    }
   },
   "outputs": [],
   "source": [
    "plt.figure(figsize=(12,8))\n",
    "#plt.plot(vol_levels, 'tab:blue', alpha=0.1)\n",
    "plt.plot(dispatch, 'r')"
   ]
  },
  {
   "cell_type": "code",
   "execution_count": null,
   "metadata": {
    "ExecuteTime": {
     "end_time": "2023-01-06T09:50:14.532361Z",
     "start_time": "2023-01-06T09:50:13.222396Z"
    }
   },
   "outputs": [],
   "source": [
    "plt.figure(figsize=(12,8))\n",
    "plt.plot(path, 'tab:blue', alpha=0.1)\n",
    "plt.plot(np.mean(path, axis=1), 'r')"
   ]
  },
  {
   "attachments": {},
   "cell_type": "markdown",
   "id": "758817a9",
   "metadata": {},
   "source": [
    "**Valuation of a Storage Contract**\n",
    "\n",
    "The value of a storage contract is the expected value of the accumulated future payoffs $h(S(t), Av(t))$ under the most optimal strategy $\\pi = \\{\\pi(t, S(t), v(t))\\}_{t=1}^T $, which is dependent on the volume.\n",
    "\n",
    "The pricing problem thus reads\n",
    "\n",
    "$$ \\sup_\\pi E \\left[ \\sum_{i=0}^T e^{-\\delta t} h(S(t), \\Delta v(t)) + e^{-\\delta (T+1)} q(S(T+1), v(T+1))\\right] $$\n",
    "\n",
    "under a risk-neutral pricing measure (for a unique arbitrage-free price, assume some level of market completeness / a risk premium to compensate for residual risk).\n",
    "\n",
    "The dynamic program is solved backward in time, hence a decision rule for every time $t$ and all possible volume levels has to be found.\n",
    "\n",
    "The set of allowed volumes levels at day $t$ is denoted by \n",
    "\n",
    "$$\\mathcal{V}(t) = \\{ v | v^{min} (t) \\leq v \\leq v^{max} (t)\\}$$\n",
    "\n",
    "and the set of all allowed actions on day $t$ being at volume $v(t)$ by\n",
    "\n",
    "$$\\mathcal{D}(t, v(t)) = \\{ \\Delta v | v^{min} (t+1) \\leq v(t) -\\Delta v \\leq v^{max} (t+1),  i^{min} (t, v(t)) \\leq \\Delta v \\leq i^{max} (t, v(t))\\} $$\n",
    "\n",
    "The value of a storage contract starting on day $t$ at volume level $v(t)$ is denoted by $U(t, S(t), v(t))$ and the continuation value, which is the value attached to the contract after taking an allowed action $\\Delta v \\in \\mathcal{D}(t, v(t))$, is defined as\n",
    "\n",
    "$$ C(t, S(t), v(t), \\Delta v) = E [e^{-\\delta} U(t+1, S(t+1), v(t)+\\Delta v)] $$\n",
    "\n",
    "Hence, $U(t, S(t), v(t))$ satisfies the following dynamic program:\n",
    "\n",
    "$$ U(T, S(T+1), v(T+1)) = q(S(T+1), v(T+1))$$\n",
    "$$ U(t, S(t), v(t)) = \\max_{\\Delta v \\in \\mathcal{D}(t,v(t))} \\{ h(S(t), \\Delta v) + C(t, S(t), v(t), \\Delta v)\\} \\quad \\forall t$$\n",
    "\n",
    "The holder of the contract weighs different actions against one another on the basis of their direct payoff plus expected future payoff and thus needs to calculate the continuation values for all $t$ for all possible actions for allowed volume levels to make a decision.\n",
    "\n",
    "To find an approximate solution, a regression-based method like Least Squares Monte Carlo may be used."
   ]
  },
  {
   "attachments": {},
   "cell_type": "markdown",
   "id": "9133b93b",
   "metadata": {},
   "source": [
    "**Least Squares Monte Carlo**\n",
    "\n",
    "The continuation values may be approximated by a finite linear combination of known basis functions $\\phi _q(t,S(t),\\mathcal{V}(t), \\Delta (v))$ of the current state:\n",
    "\n",
    "$$ C(t, S(t), v(t), \\Delta v) \\approx \\sum_{q=1}^Q \\phi _q (t,S(t),\\mathcal{V}(t), \\Delta (v)) \\beta _{q,t} $$\n",
    "\n",
    "for certain constants $\\beta _{q,t} \\in \\mathbb{R}$ and $Q \\in \\mathbb{N}$.\n",
    "\n",
    "First, the coefficients are estimated by a least-squares regression of known continuation values on the current state variables and then a continuation values is approximated by substituting the regression coefficients and a decision rule can be determined.\n",
    "However, in practice, the continuation values are unknown and need to be approximated. They are dependent on four parameters, but this may be reduced so that the basis functions has dimension one and may be denoted as $\\phi(S(t))$, by running separate regressions per volume level and for each time unit.\n",
    "\n",
    "Thus, the continuation values are approximated for all $M$ independent paths from the simulation by\n",
    "\n",
    "$$ C^b(t, S^b(t), v(t+1,n)) \\approx e^{-\\delta} Y^b(t+1, S(t+1), v(t+1,n)) $$\n",
    "\n",
    "where $Y^b(t+1, S(t+1), v(t+1,n))$ is the accumulated value of future realized cash flows in path $b=1, ..., M$ following optimal decisions starting at time $t+1$ being at volume level $v(t+1)$ and price $S^b (t+1)$. \n",
    "Then, the best regression coefficients $\\hat{\\beta}$ may be estimated by an ordinary least squares regression and the continuation values can be approximated.\n",
    "\n",
    "With the approximation of the continuation values, a decision for all allowed volume levels can be determined\n",
    "\n",
    "$$ \\hat{\\pi}^b (t, S^b(t), v(t)) = \\arg \\max_{\\Delta v \\in \\mathcal{D}(t,v(t))} \\{ h(S^b(t), \\Delta v) + \\hat{C}^b(t, S^b(t), v(t) + \\Delta v)\\} $$\n",
    "\n",
    "that is expected to have the highest accumulated payoff.\n",
    "\n",
    "The value of future accumulated cash flows is approximated\n",
    "\n",
    "$$\\hat{Y}^b(t+1,S^b(t+1), v(t+1)) = h(S^b(t+1), \\hat{\\pi}^b(t+1,S^b(t+1),v(t+1))) + e^{-\\delta} Y^b(t+2, S^b(t+2), v(t+2) + \\hat{\\pi}^b(t+1,S^b(t+1),v(t+1)))\n",
    "$$\n",
    "\n",
    "Starting at day $T+1$, the continuation value is equal to the penalty function \n",
    "\n",
    "$$Y^b(T+1,S^b(T+1), v(T+1)) = q(S^b(T+1),v(T+1))$$\n",
    "\n",
    "and then the decision rule for all points in the time-volume grid is determined by stepping backwards.\n",
    "\n",
    "At the valuation date $t=0$, the value of the storage contract is set equal to the average value of the future accumulated cash flows\n",
    "\n",
    "$$\\hat{U}(0, S(0), v(0)) = \\frac{1}{M} \\sum_{b=1}^M Y^b(1,S^b(1),v(0)) $$"
   ]
  }
 ],
 "metadata": {
  "hide_input": false,
  "kernelspec": {
   "display_name": "base",
   "language": "python",
   "name": "python3"
  },
  "language_info": {
   "codemirror_mode": {
    "name": "ipython",
    "version": 3
   },
   "file_extension": ".py",
   "mimetype": "text/x-python",
   "name": "python",
   "nbconvert_exporter": "python",
   "pygments_lexer": "ipython3",
   "version": "3.9.7"
  },
  "toc": {
   "base_numbering": 1,
   "nav_menu": {},
   "number_sections": true,
   "sideBar": true,
   "skip_h1_title": false,
   "title_cell": "Table of Contents",
   "title_sidebar": "Contents",
   "toc_cell": false,
   "toc_position": {},
   "toc_section_display": true,
   "toc_window_display": false
  },
  "vscode": {
   "interpreter": {
    "hash": "c1ee1d4870ca2ddb5e130e83d9b950baef3ebe6a9548038667aef1d54169ce94"
   }
  }
 },
 "nbformat": 4,
 "nbformat_minor": 5
}
