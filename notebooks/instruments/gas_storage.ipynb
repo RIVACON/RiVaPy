{
 "cells": [
  {
   "cell_type": "markdown",
   "metadata": {},
   "source": [
    "# Gas Storage"
   ]
  },
  {
   "cell_type": "code",
   "execution_count": null,
   "metadata": {
    "ExecuteTime": {
     "end_time": "2023-01-06T08:28:45.743524Z",
     "start_time": "2023-01-06T08:28:44.506970Z"
    }
   },
   "outputs": [],
   "source": [
    "import matplotlib.pyplot as plt\n",
    "import numpy as np\n",
    "import datetime as dt\n",
    "\n",
    "import sys\n",
    "if '../..' not in sys.path:\n",
    "    sys.path.append('../..')\n",
    "\n",
    "from rivapy.models.ornstein_uhlenbeck import OrnsteinUhlenbeck\n",
    "from rivapy.models.gbm import GeometricBrownianMotion\n",
    "from rivapy.instruments.gasstorage_specification import GasStorageSpecification\n",
    "from rivapy.pricing.gas_storage_pricer import PricingParameter, pricing_lsmc"
   ]
  },
  {
   "cell_type": "code",
   "execution_count": null,
   "metadata": {
    "ExecuteTime": {
     "end_time": "2023-01-06T08:28:45.758219Z",
     "start_time": "2023-01-06T08:28:45.744523Z"
    }
   },
   "outputs": [],
   "source": [
    "%load_ext autoreload\n",
    "%autoreload 2\n",
    "%matplotlib inline"
   ]
  },
  {
   "cell_type": "markdown",
   "metadata": {},
   "source": [
    "## Introduction to Gas Storage Valuation"
   ]
  },
  {
   "cell_type": "markdown",
   "metadata": {},
   "source": [
    "Least Squares Monte Carlo valuation method to adjust storage trading decisions to price conditions given a seasonal demand.\n",
    "The task is to find the optimal operation (injection and withdrawal) of the storage, depending on current and expected gas prices, based on predictable price movements (seasonality) and unpredictable price fluctuations\n",
    "(volatility).\n",
    "\n",
    "[1] Gas Storage Valuation Using a Monte Carlo Method (Boogert and De Jong)\n",
    "\n",
    "[2] Valuing American Options by Simulation: A Simple Least-Squares Approach(Longstaff and Schwartz)"
   ]
  },
  {
   "cell_type": "markdown",
   "metadata": {},
   "source": [
    "The storage contract from the perspective of the contract holder\n",
    "\n",
    "signed at $t=0$ and settled at $t=T+1$\n",
    "\n",
    "The contract allows the holder to take a desired action at any discrete date $t = 1, ..., T$ after the spot price $S(t)$ is revealed.\n",
    "Every day the holder of a storage contract can choose to inject gas, do nothing, or withdraw gas, within certain volumetric limitations.\n",
    "\n",
    "An injection at day $t$ is a positive volume change $\\Delta v(t)$ and represents costs, while a withdrawal is a negative volume change $\\Delta v(t)$ and represents profits. Note that at time $t = 0$ the holder cannot take an action, and $\\Delta v(0) = 0$.\n",
    "\n",
    "We denote the (accumulated) volume in storage at the start of day $t$ by $v(t)$ and with $\\Delta v(t) = v(t+1) - v(t)$, the volume at day $t$ is \n",
    "$$v(t) = v(0) + \\sum_{i=1}^t \\Delta v(i-1) $$\n",
    "\n",
    "The payoff at day $t=0, ..., T$ is \n",
    "$$ h(S(t), \\Delta v(t)) = \\begin{cases}\n",
    "-c(S(t)) \\Delta v(t)  &\\text{inject at day } t \\newline\n",
    "0  &\\text{do nothing at day } t \\newline\n",
    "-p(S(t)) \\Delta v(t)  &\\text{withdraw at day } t\n",
    "\\end{cases} $$\n",
    "\n",
    "where $c(S(t))$ and $p(S(t))$ represent the cost of injection and profit of withdrawal, respectively.\n",
    "\n",
    "$$ c(S(t)) = (1+a_1)S(t) + b_1 \\ge 0$$\n",
    "$$ p(S(t)) = (1-a_2)S(t) - b_2 \\ge 0$$\n",
    "\n",
    "with transaction costs $a$ and bid-ask spreads $b$.\n",
    "\n",
    "We denote the interest rate by $\\delta$.\n",
    "At settlement the holder receives a potential penalty, denoted by $q(S(T + 1),v(T+ 1))$.\n",
    "\n",
    "The volume in storage must stay between a minimum level and a maximum level for $t=1,...,T+1$:\n",
    "$$0 \\le v^{min}(t) \\le v(t) \\le v^{max}(t)$$ \n",
    "\n",
    "The injection and withdrawal is limited per day:\n",
    "$$ i^{min}(t, v(t)) \\le \\Delta v(t) \\le i^{max}(t, v(t))$$"
   ]
  },
  {
   "cell_type": "markdown",
   "metadata": {},
   "source": [
    "The value of a storage contract is the expected value of the accumulated future payoffs $h(S(t), Av(t))$ \n",
    "under the most optimal strategy $\\pi$."
   ]
  },
  {
   "cell_type": "code",
   "execution_count": null,
   "metadata": {
    "ExecuteTime": {
     "end_time": "2023-01-06T08:29:08.819641Z",
     "start_time": "2023-01-06T08:29:08.805644Z"
    },
    "code_folding": [
     0
    ]
   },
   "outputs": [],
   "source": [
    "def create_contract_dates(startdate: dt.datetime, enddate: dt.datetime, datestep:dt.timedelta)->list:\n",
    "    dates=[startdate]\n",
    "    while dates[-1] <= enddate-datestep:\n",
    "        dates.append(dates[-1]+datestep)\n",
    "\n",
    "    #dates=[startdate]*n #nb_timesteps \n",
    "    #for i in range(1,n):\n",
    "    #    dates[i] = dates[i-1] + dateStep\n",
    "\n",
    "    return dates"
   ]
  },
  {
   "cell_type": "code",
   "execution_count": null,
   "metadata": {
    "ExecuteTime": {
     "end_time": "2023-01-06T10:02:26.730152Z",
     "start_time": "2023-01-06T10:02:26.168359Z"
    }
   },
   "outputs": [],
   "source": [
    "## Setting the parameters\n",
    "num_sims = 4000 #number of independent price paths simulated\n",
    "S0 = 1.0 #starting value\n",
    "\n",
    "n_vol_levels = 11 #101\n",
    "min_level = 0.0\n",
    "storage_capacity = 10.0 #1_000\n",
    "start_level = 0.0 #100_000\n",
    "end_level = 0.0 #100_000\n",
    "max_withdrawal = -1.0 #-7500\n",
    "max_injection = 1.0 #2500"
   ]
  },
  {
   "cell_type": "code",
   "execution_count": null,
   "metadata": {},
   "outputs": [],
   "source": [
    "startdate = dt.datetime.fromisoformat('2021-01-01')\n",
    "enddate = dt.datetime.fromisoformat('2021-12-31')\n",
    "dateStep = dt.timedelta(days=1) #daily nomination\n",
    "contractdates = create_contract_dates(startdate, enddate, dateStep)\n",
    "timegrid = np.array([(contractdates[i] - contractdates[0]).days/365.0 for i in range(len(contractdates))])\n",
    "rnd = np.random.normal(size=(timegrid.shape[0], num_sims))"
   ]
  },
  {
   "cell_type": "code",
   "execution_count": null,
   "metadata": {
    "ExecuteTime": {
     "end_time": "2023-01-06T10:02:26.864452Z",
     "start_time": "2023-01-06T10:02:26.731123Z"
    }
   },
   "outputs": [],
   "source": [
    "# Simulate M independent price paths S^b(1), S^b(T+1) for b = 1...M starting at S(0)\n",
    "gbm_sim = GeometricBrownianMotion(drift=0.2, volatility=0.01)\n",
    "gbm = gbm_sim.simulate(timegrid, S0, rnd) \n",
    "ou_sim = OrnsteinUhlenbeck(speed_of_mean_reversion=0.1, volatility=0.1, mean_reversion_level=2.0)\n",
    "ou = ou_sim.simulate(timegrid=timegrid, start_value=S0, rnd=rnd)"
   ]
  },
  {
   "cell_type": "code",
   "execution_count": null,
   "metadata": {
    "ExecuteTime": {
     "end_time": "2023-01-06T10:03:47.871789Z",
     "start_time": "2023-01-06T10:03:42.033367Z"
    },
    "scrolled": true
   },
   "outputs": [],
   "source": [
    "path = ou\n",
    "params = PricingParameter(n_time_steps = 0, n_actions = 0, n_vol_levels = n_vol_levels)\n",
    "store = GasStorageSpecification(contractdates, storage_capacity, max_withdrawal, max_injection, \n",
    "                                end_level=end_level, min_level=min_level, start_level=start_level)  \n",
    "cashflow, vol_levels = pricing_lsmc(store, params, path, num_sims)"
   ]
  },
  {
   "cell_type": "code",
   "execution_count": null,
   "metadata": {
    "ExecuteTime": {
     "end_time": "2023-01-06T10:00:59.300033Z",
     "start_time": "2023-01-06T10:00:59.281717Z"
    }
   },
   "outputs": [],
   "source": [
    "price = cashflow[0,0,0]\n",
    "dispatch = np.mean(vol_levels, axis=1)    # 'mean timetable' of facility\n",
    "print(price)"
   ]
  },
  {
   "cell_type": "code",
   "execution_count": null,
   "metadata": {
    "ExecuteTime": {
     "end_time": "2023-01-06T10:03:49.586877Z",
     "start_time": "2023-01-06T10:03:48.752600Z"
    }
   },
   "outputs": [],
   "source": [
    "plt.figure(figsize=(12,8))\n",
    "#plt.plot(vol_levels, 'tab:blue', alpha=0.1)\n",
    "plt.plot(dispatch, 'r')\n",
    "plt.show() "
   ]
  },
  {
   "cell_type": "code",
   "execution_count": null,
   "metadata": {
    "ExecuteTime": {
     "end_time": "2023-01-06T09:50:14.532361Z",
     "start_time": "2023-01-06T09:50:13.222396Z"
    }
   },
   "outputs": [],
   "source": [
    "plt.figure(figsize=(12,8))\n",
    "plt.plot(ou, 'tab:blue', alpha=0.1)\n",
    "plt.plot(np.mean(ou, axis=1), 'r');\n",
    "plt.show() "
   ]
  }
 ],
 "metadata": {
  "hide_input": false,
  "kernelspec": {
   "display_name": "Python 3",
   "language": "python",
   "name": "python3"
  },
  "language_info": {
   "codemirror_mode": {
    "name": "ipython",
    "version": 3
   },
   "file_extension": ".py",
   "mimetype": "text/x-python",
   "name": "python",
   "nbconvert_exporter": "python",
   "pygments_lexer": "ipython3",
   "version": "3.7.3"
  },
  "toc": {
   "base_numbering": 1,
   "nav_menu": {},
   "number_sections": true,
   "sideBar": true,
   "skip_h1_title": false,
   "title_cell": "Table of Contents",
   "title_sidebar": "Contents",
   "toc_cell": false,
   "toc_position": {},
   "toc_section_display": true,
   "toc_window_display": false
  },
  "vscode": {
   "interpreter": {
    "hash": "220d6aa5d6da2c58293c2b7f17adcd64131add35e6e0676228044612b873f5a9"
   }
  }
 },
 "nbformat": 4,
 "nbformat_minor": 5
}
