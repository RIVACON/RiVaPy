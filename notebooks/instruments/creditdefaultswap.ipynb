{
 "metadata": {
  "language_info": {
   "codemirror_mode": {
    "name": "ipython",
    "version": 3
   },
   "file_extension": ".py",
   "mimetype": "text/x-python",
   "name": "python",
   "nbconvert_exporter": "python",
   "pygments_lexer": "ipython3",
   "version": "3.8.8-final"
  },
  "orig_nbformat": 2,
  "kernelspec": {
   "name": "python3",
   "display_name": "Python 3.8.8 64-bit ('python38': conda)",
   "metadata": {
    "interpreter": {
     "hash": "41d363f20674200adae6e9caa093844f75878029f15813f9ba4f5801c8512b87"
    }
   }
  }
 },
 "nbformat": 4,
 "nbformat_minor": 2,
 "cells": [
  {
   "cell_type": "code",
   "execution_count": 16,
   "metadata": {},
   "outputs": [],
   "source": [
    "import math\n",
    "from dateutil import relativedelta\n",
    "from datetime import datetime, timedelta\n",
    "\n",
    "import rivapy\n",
    "from rivapy.marketdata import DiscountCurve, DatedCurve, SurvivalCurve\n",
    "from rivapy import enums\n",
    "\n",
    "\n",
    "refdate = datetime(2020,1,1)\n",
    "#yield curve\n",
    "days_to_maturity = [1, 180, 360, 720, 3*360, 4*360, 5*360, 10*360]\n",
    "rates = [-0.0065, 0.0003, 0.0059, 0.0086, 0.0101, 0.012, 0.016, 0.02]\n",
    "dates = [refdate + timedelta(days=d) for d in days_to_maturity]\n",
    "dsc_fac = [math.exp(-rates[i]*days_to_maturity[i]/360) for i in range(len(days_to_maturity))]\n",
    "dc = DiscountCurve('CDS_interest_rate', refdate, \n",
    "                                    dates, \n",
    "                                    dsc_fac,\n",
    "                                    enums.InterpolationType.LINEAR)\n",
    "hazard_rates = [0, 0.001, 0.0015, 0.002, 0.0025, 0.003, 0.0035, 0.005]\n",
    "sc = SurvivalCurve('Survival', refdate, dates, hazard_rates)\n",
    "\n",
    "recoveries = [0.6, 0.6, 0.6, 0.6, 0.6, 0.6, 0.6, 0.6]\n",
    "recovery = DatedCurve('Recovery', refdate, dates, recoveries,\n",
    "                                        enums.DayCounterType.Act365Fixed.name,\n",
    "                                        enums.InterpolationType.LINEAR.name)\n",
    "\n",
    "payment_dates = [refdate + relativedelta.relativedelta(years=i) for i in range(10)]\n",
    "spec = rivapy.instruments.CDSSpecification(premium = 0.0012, protection_start=refdate, premium_pay_dates = payment_dates, notional = 1000000.0)\n",
    "\n",
    "cds_pricing_data = rivapy.pricing.CDSPricingData(spec=spec, val_date=refdate, discount_curve=dc, survival_curve=sc, recovery_curve=recovery)\n",
    "\n",
    "pr = rivapy.pricing.price(cds_pricing_data)\n",
    "\n",
    "\n"
   ]
  },
  {
   "cell_type": "code",
   "execution_count": 17,
   "metadata": {},
   "outputs": [
    {
     "output_type": "stream",
     "name": "stdout",
     "text": [
      "Expected PV: 1807.3975359561114\nExpected PV protection leg: 11647.702645148813\nExpected PV premium leg: 9822.995285850662\nExpected PV accrued interest: 17.309823342039067\n"
     ]
    }
   ],
   "source": [
    "print(\"Expected PV:\", pr._price)\n",
    "print(\"Expected PV protection leg:\",pr.pv_protection)\n",
    "print(\"Expected PV premium leg:\",pr.premium_leg)\n",
    "print(\"Expected PV accrued interest:\", pr.accrued)"
   ]
  },
  {
   "cell_type": "code",
   "execution_count": null,
   "metadata": {},
   "outputs": [],
   "source": []
  }
 ]
}