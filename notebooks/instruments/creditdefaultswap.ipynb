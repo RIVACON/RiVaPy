{
 "cells": [
  {
   "cell_type": "code",
   "execution_count": 1,
   "metadata": {},
   "outputs": [],
   "source": [
    "import math\n",
    "from dateutil import relativedelta\n",
    "from datetime import datetime, timedelta\n",
    "\n",
    "import rivapy\n",
    "from rivapy.marketdata import DiscountCurve, DatedCurve, SurvivalCurve\n",
    "from rivapy import enums"
   ]
  },
  {
   "cell_type": "code",
   "execution_count": 2,
   "metadata": {},
   "outputs": [],
   "source": [
    "#Specs\n",
    "refdate = datetime(2020,1,1)\n",
    "premium_payment = 0.0012\n",
    "notional_amount=1000000\n",
    "\n",
    "#yield curve\n",
    "days_to_maturity = [1, 180, 360, 720, 3*360, 4*360, 5*360, 10*360]\n",
    "rates = [-0.0065, 0.0003, 0.0059, 0.0086, 0.0101, 0.012, 0.016, 0.02]\n",
    "dates = [refdate + timedelta(days=d) for d in days_to_maturity]\n",
    "dsc_fac = [math.exp(-rates[i]*days_to_maturity[i]/360) for i in range(len(days_to_maturity))]\n",
    "dc = DiscountCurve('CDS_interest_rate', refdate, \n",
    "                                    dates, \n",
    "                                    dsc_fac,\n",
    "                                    enums.InterpolationType.LINEAR)\n",
    "hazard_rates = [0, 0.001, 0.0015, 0.002, 0.0025, 0.003, 0.0035, 0.005]\n",
    "\n",
    "#SurvivalCurve\n",
    "sc = SurvivalCurve('Survival', refdate, dates, hazard_rates)\n",
    "\n",
    "#RecoverCurve\n",
    "recoveries = [0.6, 0.6, 0.6, 0.6, 0.6, 0.6, 0.6, 0.6]\n",
    "recovery = DatedCurve('Recovery', refdate, dates, recoveries,\n",
    "                                        enums.DayCounterType.Act365Fixed.name,\n",
    "                                        enums.InterpolationType.LINEAR.name)\n",
    "\n",
    "#Coupon Payment Dates\n",
    "payment_dates = [refdate + relativedelta.relativedelta(years=i) for i in range(10)]\n",
    "\n",
    "#RiVaPy Spec\n",
    "spec = rivapy.instruments.CDSSpecification(premium = premium_payment, protection_start=refdate, premium_pay_dates = payment_dates, notional = notional_amount)\n",
    "\n",
    "#Pricind Data\n",
    "cds_pricing_data = rivapy.pricing.CDSPricingData(spec=spec, val_date=refdate, discount_curve=dc, survival_curve=sc, recovery_curve=recovery)\n",
    "\n",
    "#Price\n",
    "pr = rivapy.pricing.price(cds_pricing_data)\n",
    "\n",
    "\n"
   ]
  },
  {
   "cell_type": "code",
   "execution_count": 3,
   "metadata": {},
   "outputs": [
    {
     "output_type": "stream",
     "name": "stdout",
     "text": [
      "Expected PV: 1807.3975359561114\nExpected PV protection leg: 11647.702645148813\nExpected PV premium leg: 9822.995285850662\nExpected PV accrued interest: 17.309823342039067\n"
     ]
    }
   ],
   "source": [
    "print(\"Expected PV:\", pr._price)\n",
    "print(\"Expected PV protection leg:\",pr.pv_protection)\n",
    "print(\"Expected PV premium leg:\",pr.premium_leg)\n",
    "print(\"Expected PV accrued interest:\", pr.accrued)"
   ]
  },
  {
   "cell_type": "code",
   "execution_count": 4,
   "metadata": {},
   "outputs": [
    {
     "output_type": "execute_result",
     "data": {
      "text/plain": [
       "0.0005681629997883375"
      ]
     },
     "metadata": {},
     "execution_count": 4
    }
   ],
   "source": [
    "pr.par_spread"
   ]
  },
  {
   "cell_type": "code",
   "execution_count": 14,
   "metadata": {},
   "outputs": [],
   "source": []
  },
  {
   "cell_type": "code",
   "execution_count": null,
   "metadata": {},
   "outputs": [],
   "source": []
  }
 ],
 "metadata": {
  "kernelspec": {
   "display_name": "Python 3",
   "language": "python",
   "name": "python3"
  },
  "language_info": {
   "codemirror_mode": {
    "name": "ipython",
    "version": 3
   },
   "file_extension": ".py",
   "mimetype": "text/x-python",
   "name": "python",
   "nbconvert_exporter": "python",
   "pygments_lexer": "ipython3",
   "version": "3.8.8"
  },
  "toc": {
   "base_numbering": 1,
   "nav_menu": {},
   "number_sections": true,
   "sideBar": true,
   "skip_h1_title": false,
   "title_cell": "Table of Contents",
   "title_sidebar": "Contents",
   "toc_cell": false,
   "toc_position": {},
   "toc_section_display": true,
   "toc_window_display": false
  }
 },
 "nbformat": 4,
 "nbformat_minor": 2
}