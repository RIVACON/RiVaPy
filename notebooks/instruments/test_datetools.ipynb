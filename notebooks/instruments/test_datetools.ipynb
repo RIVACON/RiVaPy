{
 "cells": [
  {
   "cell_type": "code",
   "execution_count": 2,
   "metadata": {
    "ExecuteTime": {
     "end_time": "2020-09-24T07:33:30.843929Z",
     "start_time": "2020-09-24T07:33:27.999215Z"
    }
   },
   "outputs": [],
   "source": [
    "from rivapy.tools.datetools import roll_day\n",
    "from rivapy.tools.enums import RollConvention\n",
    "from datetime import date\n",
    "from dateutil.relativedelta import relativedelta\n",
    "import holidays"
   ]
  },
  {
   "cell_type": "markdown",
   "metadata": {},
   "source": [
    "# External Tests\n",
    "These tests are shall reproduce the results given in [Chapter 4](https://usermanual.wiki/Document/interestrateinstrumentsandmarketconventionsguide.1425400940/view)  of Interest Rate Instruments and Market Conventions Guide by OpenGamma"
   ]
  },
  {
   "cell_type": "code",
   "execution_count": 3,
   "metadata": {
    "ExecuteTime": {
     "end_time": "2020-09-24T07:33:30.858888Z",
     "start_time": "2020-09-24T07:33:30.846919Z"
    }
   },
   "outputs": [],
   "source": [
    "holidays_target2 = holidays.ECB(years=[2011, 2012])"
   ]
  },
  {
   "cell_type": "code",
   "execution_count": 4,
   "metadata": {
    "ExecuteTime": {
     "end_time": "2020-09-24T07:33:30.889807Z",
     "start_time": "2020-09-24T07:33:30.863874Z"
    }
   },
   "outputs": [
    {
     "data": {
      "text/plain": [
       "datetime.datetime(2011, 9, 19, 0, 0)"
      ]
     },
     "execution_count": 4,
     "metadata": {},
     "output_type": "execute_result"
    }
   ],
   "source": [
    "start_date = date(2011, 8, 18)\n",
    "end_date = start_date + relativedelta(months=1)\n",
    "roll_day(end_date, holidays_target2, RollConvention.FOLLOWING)"
   ]
  },
  {
   "cell_type": "code",
   "execution_count": 5,
   "metadata": {
    "ExecuteTime": {
     "end_time": "2020-09-24T07:33:30.904766Z",
     "start_time": "2020-09-24T07:33:30.893806Z"
    }
   },
   "outputs": [
    {
     "data": {
      "text/plain": [
       "datetime.datetime(2011, 9, 16, 0, 0)"
      ]
     },
     "execution_count": 5,
     "metadata": {},
     "output_type": "execute_result"
    }
   ],
   "source": [
    "start_date = date(2011, 8, 18)\n",
    "end_date = start_date + relativedelta(months=1)\n",
    "roll_day(end_date, holidays_target2, RollConvention.PRECEDING)"
   ]
  },
  {
   "cell_type": "code",
   "execution_count": 6,
   "metadata": {
    "ExecuteTime": {
     "end_time": "2020-09-24T07:33:30.920723Z",
     "start_time": "2020-09-24T07:33:30.907756Z"
    }
   },
   "outputs": [
    {
     "data": {
      "text/plain": [
       "datetime.datetime(2011, 7, 29, 0, 0)"
      ]
     },
     "execution_count": 6,
     "metadata": {},
     "output_type": "execute_result"
    }
   ],
   "source": [
    "start_date = date(2011, 6, 30)\n",
    "end_date = start_date + relativedelta(months=1)\n",
    "roll_day(end_date, holidays_target2, RollConvention.MODIFIED_FOLLOWING)"
   ]
  },
  {
   "cell_type": "code",
   "execution_count": 7,
   "metadata": {
    "ExecuteTime": {
     "end_time": "2020-09-24T07:33:30.936681Z",
     "start_time": "2020-09-24T07:33:30.924711Z"
    }
   },
   "outputs": [
    {
     "data": {
      "text/plain": [
       "datetime.datetime(2011, 8, 1, 0, 0)"
      ]
     },
     "execution_count": 7,
     "metadata": {},
     "output_type": "execute_result"
    }
   ],
   "source": [
    "start_date = date(2011, 6, 30)\n",
    "end_date = start_date + relativedelta(months=1)\n",
    "roll_day(end_date, holidays_target2, RollConvention.FOLLOWING)"
   ]
  },
  {
   "cell_type": "code",
   "execution_count": 8,
   "metadata": {
    "ExecuteTime": {
     "end_time": "2020-09-24T07:33:30.967598Z",
     "start_time": "2020-09-24T07:33:30.940668Z"
    }
   },
   "outputs": [
    {
     "data": {
      "text/plain": [
       "datetime.datetime(2011, 7, 29, 0, 0)"
      ]
     },
     "execution_count": 8,
     "metadata": {},
     "output_type": "execute_result"
    }
   ],
   "source": [
    "start_date = date(2011, 6, 30)\n",
    "end_date = start_date + relativedelta(months=1)\n",
    "roll_day(end_date, holidays_target2, RollConvention.MODIFIED_FOLLOWING_BIMONTHLY)"
   ]
  },
  {
   "cell_type": "code",
   "execution_count": 9,
   "metadata": {
    "ExecuteTime": {
     "end_time": "2020-09-24T07:33:30.982557Z",
     "start_time": "2020-09-24T07:33:30.972582Z"
    }
   },
   "outputs": [
    {
     "data": {
      "text/plain": [
       "datetime.datetime(2011, 10, 14, 0, 0)"
      ]
     },
     "execution_count": 9,
     "metadata": {},
     "output_type": "execute_result"
    }
   ],
   "source": [
    "start_date = date(2011, 9, 15)\n",
    "end_date = start_date + relativedelta(months=1)\n",
    "roll_day(end_date, holidays_target2, RollConvention.MODIFIED_FOLLOWING_BIMONTHLY)"
   ]
  },
  {
   "cell_type": "code",
   "execution_count": 10,
   "metadata": {
    "ExecuteTime": {
     "end_time": "2020-09-24T07:33:31.013473Z",
     "start_time": "2020-09-24T07:33:30.987549Z"
    }
   },
   "outputs": [
    {
     "data": {
      "text/plain": [
       "datetime.datetime(2011, 10, 17, 0, 0)"
      ]
     },
     "execution_count": 10,
     "metadata": {},
     "output_type": "execute_result"
    }
   ],
   "source": [
    "start_date = date(2011, 9, 15)\n",
    "end_date = start_date + relativedelta(months=1)\n",
    "roll_day(end_date, holidays_target2, RollConvention.FOLLOWING)"
   ]
  },
  {
   "cell_type": "code",
   "execution_count": 11,
   "metadata": {
    "ExecuteTime": {
     "end_time": "2020-09-24T07:33:31.029430Z",
     "start_time": "2020-09-24T07:33:31.015469Z"
    }
   },
   "outputs": [
    {
     "data": {
      "text/plain": [
       "datetime.datetime(2011, 3, 28, 0, 0)"
      ]
     },
     "execution_count": 11,
     "metadata": {},
     "output_type": "execute_result"
    }
   ],
   "source": [
    "start_date = date(2011, 2, 28)\n",
    "end_date = start_date + relativedelta(months=1)\n",
    "roll_day(end_date, holidays_target2, RollConvention.MODIFIED_FOLLOWING_EOM, start_date)"
   ]
  },
  {
   "cell_type": "code",
   "execution_count": 12,
   "metadata": {
    "ExecuteTime": {
     "end_time": "2020-09-24T07:33:31.044393Z",
     "start_time": "2020-09-24T07:33:31.033420Z"
    }
   },
   "outputs": [
    {
     "data": {
      "text/plain": [
       "datetime.datetime(2011, 5, 30, 0, 0)"
      ]
     },
     "execution_count": 12,
     "metadata": {},
     "output_type": "execute_result"
    }
   ],
   "source": [
    "start_date = date(2011, 4, 29)\n",
    "end_date = start_date + relativedelta(months=1)\n",
    "roll_day(end_date, holidays_target2, RollConvention.MODIFIED_FOLLOWING_EOM, start_date)"
   ]
  },
  {
   "cell_type": "code",
   "execution_count": 13,
   "metadata": {
    "ExecuteTime": {
     "end_time": "2020-09-24T07:33:31.059352Z",
     "start_time": "2020-09-24T07:33:31.048380Z"
    }
   },
   "outputs": [
    {
     "data": {
      "text/plain": [
       "datetime.datetime(2012, 3, 28, 0, 0)"
      ]
     },
     "execution_count": 13,
     "metadata": {},
     "output_type": "execute_result"
    }
   ],
   "source": [
    "start_date = date(2012, 2, 28)\n",
    "end_date = start_date + relativedelta(months=1)\n",
    "roll_day(end_date, holidays_target2, RollConvention.MODIFIED_FOLLOWING_EOM, start_date)"
   ]
  },
  {
   "cell_type": "markdown",
   "metadata": {
    "ExecuteTime": {
     "end_time": "2020-09-19T20:58:12.580622Z",
     "start_time": "2020-09-19T20:58:12.562419Z"
    }
   },
   "source": [
    "# Own Tests\n",
    "These test were created to provide a more extensive coverage."
   ]
  },
  {
   "cell_type": "code",
   "execution_count": 14,
   "metadata": {
    "ExecuteTime": {
     "end_time": "2020-09-24T07:33:31.075308Z",
     "start_time": "2020-09-24T07:33:31.062344Z"
    }
   },
   "outputs": [],
   "source": [
    "holidays_de = holidays.DE(years=1997)\n",
    "def weekday(n):\n",
    "    name = {\n",
    "        1: 'Monday',\n",
    "        2: 'Tuesday',\n",
    "        3: 'Wednesday',\n",
    "        4: 'Thursday',\n",
    "        5: 'Friday',\n",
    "        6: 'Saturday',\n",
    "        7: 'Sunday'\n",
    "    }\n",
    "    return name.get(n, 'weekday(' + str(n) + ') is an invalid day of the week!')"
   ]
  },
  {
   "cell_type": "code",
   "execution_count": 15,
   "metadata": {
    "ExecuteTime": {
     "end_time": "2020-09-24T07:33:31.106227Z",
     "start_time": "2020-09-24T07:33:31.078301Z"
    }
   },
   "outputs": [
    {
     "name": "stdout",
     "output_type": "stream",
     "text": [
      "Wednesday 1997-01-01 Neujahr\n",
      "Friday    1997-03-28 Karfreitag\n",
      "Monday    1997-03-31 Ostermontag\n",
      "Thursday  1997-05-01 Erster Mai\n",
      "Thursday  1997-05-08 Christi Himmelfahrt\n",
      "Monday    1997-05-19 Pfingstmontag\n",
      "Friday    1997-10-03 Tag der Deutschen Einheit\n",
      "Thursday  1997-12-25 Erster Weihnachtstag\n",
      "Friday    1997-12-26 Zweiter Weihnachtstag\n"
     ]
    }
   ],
   "source": [
    "for holiday_date, holiday_name in sorted(holidays_de.items()):\n",
    "    print('{:9s} {} {}'.format(weekday(holiday_date.isoweekday()), holiday_date, holiday_name))"
   ]
  },
  {
   "cell_type": "code",
   "execution_count": 16,
   "metadata": {
    "ExecuteTime": {
     "end_time": "2020-09-24T07:33:31.122184Z",
     "start_time": "2020-09-24T07:33:31.109217Z"
    }
   },
   "outputs": [],
   "source": [
    "roll_conventions = [roll_convention.value for roll_convention in RollConvention]\n",
    "roll_conventions.pop(2)  # remove MODIFIED_FOLLOWING_EOM as it needs a start date\n",
    "new_order = [6, 0, 1, 2, 5, 3, 4]\n",
    "roll_conventions = [roll_conventions[i] for i in new_order]"
   ]
  },
  {
   "cell_type": "code",
   "execution_count": 17,
   "metadata": {
    "ExecuteTime": {
     "end_time": "2020-09-24T07:33:31.152104Z",
     "start_time": "2020-09-24T07:33:31.126172Z"
    }
   },
   "outputs": [
    {
     "name": "stdout",
     "output_type": "stream",
     "text": [
      "Wednesday 1997-05-07 kein Feiertag\n",
      "Unadjusted                  : 1997-05-07 => 1997-05-07 00:00:00\n",
      "Following                   : 1997-05-07 => 1997-05-07 00:00:00\n",
      "ModifiedFollowing           : 1997-05-07 => 1997-05-07 00:00:00\n",
      "ModifiedFollowingBimonthly  : 1997-05-07 => 1997-05-07 00:00:00\n",
      "Nearest                     : 1997-05-07 => 1997-05-07 00:00:00\n",
      "Preceding                   : 1997-05-07 => 1997-05-07 00:00:00\n",
      "ModifiedPreceding           : 1997-05-07 => 1997-05-07 00:00:00\n",
      "Thursday  1997-05-08 Feiertag!\n",
      "Unadjusted                  : 1997-05-08 => 1997-05-08 00:00:00\n",
      "Following                   : 1997-05-08 => 1997-05-09 00:00:00\n",
      "ModifiedFollowing           : 1997-05-08 => 1997-05-09 00:00:00\n",
      "ModifiedFollowingBimonthly  : 1997-05-08 => 1997-05-09 00:00:00\n",
      "Nearest                     : 1997-05-08 => 1997-05-09 00:00:00\n",
      "Preceding                   : 1997-05-08 => 1997-05-07 00:00:00\n",
      "ModifiedPreceding           : 1997-05-08 => 1997-05-07 00:00:00\n",
      "Friday    1997-05-09 kein Feiertag\n",
      "Unadjusted                  : 1997-05-09 => 1997-05-09 00:00:00\n",
      "Following                   : 1997-05-09 => 1997-05-09 00:00:00\n",
      "ModifiedFollowing           : 1997-05-09 => 1997-05-09 00:00:00\n",
      "ModifiedFollowingBimonthly  : 1997-05-09 => 1997-05-09 00:00:00\n",
      "Nearest                     : 1997-05-09 => 1997-05-09 00:00:00\n",
      "Preceding                   : 1997-05-09 => 1997-05-09 00:00:00\n",
      "ModifiedPreceding           : 1997-05-09 => 1997-05-09 00:00:00\n"
     ]
    }
   ],
   "source": [
    "test_dates = [date(1997, 5, 8) + relativedelta(days=n) for n in range(-1, 2)]\n",
    "for test_date in test_dates:\n",
    "    if test_date in holidays_de:\n",
    "        is_holiday = 'Feiertag!'\n",
    "    else:\n",
    "        is_holiday = 'kein Feiertag'\n",
    "    print('{:9s} {} {}'.format(weekday(test_date.isoweekday()), test_date, is_holiday))\n",
    "    for roll_convention in roll_conventions:\n",
    "        print('{:28s}: {} => {}'.format(roll_convention, test_date, roll_day(test_date, holidays_de, roll_convention)))"
   ]
  },
  {
   "cell_type": "code",
   "execution_count": 18,
   "metadata": {
    "ExecuteTime": {
     "end_time": "2020-09-24T07:33:31.168060Z",
     "start_time": "2020-09-24T07:33:31.155096Z"
    }
   },
   "outputs": [
    {
     "name": "stdout",
     "output_type": "stream",
     "text": [
      "Wednesday 1997-04-30 kein Feiertag\n",
      "Unadjusted                  : 1997-04-30 => 1997-04-30 00:00:00\n",
      "Following                   : 1997-04-30 => 1997-04-30 00:00:00\n",
      "ModifiedFollowing           : 1997-04-30 => 1997-04-30 00:00:00\n",
      "ModifiedFollowingBimonthly  : 1997-04-30 => 1997-04-30 00:00:00\n",
      "Nearest                     : 1997-04-30 => 1997-04-30 00:00:00\n",
      "Preceding                   : 1997-04-30 => 1997-04-30 00:00:00\n",
      "ModifiedPreceding           : 1997-04-30 => 1997-04-30 00:00:00\n",
      "Thursday  1997-05-01 Feiertag!\n",
      "Unadjusted                  : 1997-05-01 => 1997-05-01 00:00:00\n",
      "Following                   : 1997-05-01 => 1997-05-02 00:00:00\n",
      "ModifiedFollowing           : 1997-05-01 => 1997-05-02 00:00:00\n",
      "ModifiedFollowingBimonthly  : 1997-05-01 => 1997-05-02 00:00:00\n",
      "Nearest                     : 1997-05-01 => 1997-05-02 00:00:00\n",
      "Preceding                   : 1997-05-01 => 1997-04-30 00:00:00\n",
      "ModifiedPreceding           : 1997-05-01 => 1997-05-02 00:00:00\n",
      "Friday    1997-05-02 kein Feiertag\n",
      "Unadjusted                  : 1997-05-02 => 1997-05-02 00:00:00\n",
      "Following                   : 1997-05-02 => 1997-05-02 00:00:00\n",
      "ModifiedFollowing           : 1997-05-02 => 1997-05-02 00:00:00\n",
      "ModifiedFollowingBimonthly  : 1997-05-02 => 1997-05-02 00:00:00\n",
      "Nearest                     : 1997-05-02 => 1997-05-02 00:00:00\n",
      "Preceding                   : 1997-05-02 => 1997-05-02 00:00:00\n",
      "ModifiedPreceding           : 1997-05-02 => 1997-05-02 00:00:00\n"
     ]
    }
   ],
   "source": [
    "test_dates = [date(1997, 5, 1) + relativedelta(days=n) for n in range(-1, 2)]\n",
    "for test_date in test_dates:\n",
    "    if test_date in holidays_de:\n",
    "        is_holiday = 'Feiertag!'\n",
    "    else:\n",
    "        is_holiday = 'kein Feiertag'\n",
    "    print('{:9s} {} {}'.format(weekday(test_date.isoweekday()), test_date, is_holiday))\n",
    "    for roll_convention in roll_conventions:\n",
    "        print('{:28s}: {} => {}'.format(roll_convention, test_date, roll_day(test_date, holidays_de, roll_convention)))"
   ]
  },
  {
   "cell_type": "code",
   "execution_count": 19,
   "metadata": {
    "ExecuteTime": {
     "end_time": "2020-09-24T07:33:31.184017Z",
     "start_time": "2020-09-24T07:33:31.171054Z"
    }
   },
   "outputs": [
    {
     "name": "stdout",
     "output_type": "stream",
     "text": [
      "Friday    1997-07-04 kein Feiertag\n",
      "Unadjusted                  : 1997-07-04 => 1997-07-04 00:00:00\n",
      "Following                   : 1997-07-04 => 1997-07-04 00:00:00\n",
      "ModifiedFollowing           : 1997-07-04 => 1997-07-04 00:00:00\n",
      "ModifiedFollowingBimonthly  : 1997-07-04 => 1997-07-04 00:00:00\n",
      "Nearest                     : 1997-07-04 => 1997-07-04 00:00:00\n",
      "Preceding                   : 1997-07-04 => 1997-07-04 00:00:00\n",
      "ModifiedPreceding           : 1997-07-04 => 1997-07-04 00:00:00\n",
      "Saturday  1997-07-05 kein Feiertag\n",
      "Unadjusted                  : 1997-07-05 => 1997-07-05 00:00:00\n",
      "Following                   : 1997-07-05 => 1997-07-07 00:00:00\n",
      "ModifiedFollowing           : 1997-07-05 => 1997-07-07 00:00:00\n",
      "ModifiedFollowingBimonthly  : 1997-07-05 => 1997-07-07 00:00:00\n",
      "Nearest                     : 1997-07-05 => 1997-07-04 00:00:00\n",
      "Preceding                   : 1997-07-05 => 1997-07-04 00:00:00\n",
      "ModifiedPreceding           : 1997-07-05 => 1997-07-04 00:00:00\n",
      "Sunday    1997-07-06 kein Feiertag\n",
      "Unadjusted                  : 1997-07-06 => 1997-07-06 00:00:00\n",
      "Following                   : 1997-07-06 => 1997-07-07 00:00:00\n",
      "ModifiedFollowing           : 1997-07-06 => 1997-07-07 00:00:00\n",
      "ModifiedFollowingBimonthly  : 1997-07-06 => 1997-07-07 00:00:00\n",
      "Nearest                     : 1997-07-06 => 1997-07-07 00:00:00\n",
      "Preceding                   : 1997-07-06 => 1997-07-04 00:00:00\n",
      "ModifiedPreceding           : 1997-07-06 => 1997-07-04 00:00:00\n",
      "Monday    1997-07-07 kein Feiertag\n",
      "Unadjusted                  : 1997-07-07 => 1997-07-07 00:00:00\n",
      "Following                   : 1997-07-07 => 1997-07-07 00:00:00\n",
      "ModifiedFollowing           : 1997-07-07 => 1997-07-07 00:00:00\n",
      "ModifiedFollowingBimonthly  : 1997-07-07 => 1997-07-07 00:00:00\n",
      "Nearest                     : 1997-07-07 => 1997-07-07 00:00:00\n",
      "Preceding                   : 1997-07-07 => 1997-07-07 00:00:00\n",
      "ModifiedPreceding           : 1997-07-07 => 1997-07-07 00:00:00\n"
     ]
    }
   ],
   "source": [
    "test_dates = [date(1997, 7, 5) + relativedelta(days=n) for n in range(-1, 3)]\n",
    "for test_date in test_dates:\n",
    "    if test_date in holidays_de:\n",
    "        is_holiday = 'Feiertag!'\n",
    "    else:\n",
    "        is_holiday = 'kein Feiertag'\n",
    "    print('{:9s} {} {}'.format(weekday(test_date.isoweekday()), test_date, is_holiday))\n",
    "    for roll_convention in roll_conventions:\n",
    "        print('{:28s}: {} => {}'.format(roll_convention, test_date, roll_day(test_date, holidays_de, roll_convention)))"
   ]
  },
  {
   "cell_type": "code",
   "execution_count": 20,
   "metadata": {
    "ExecuteTime": {
     "end_time": "2020-09-24T07:33:31.214934Z",
     "start_time": "2020-09-24T07:33:31.188006Z"
    }
   },
   "outputs": [
    {
     "name": "stdout",
     "output_type": "stream",
     "text": [
      "Friday    1997-02-14 kein Feiertag\n",
      "Unadjusted                  : 1997-02-14 => 1997-02-14 00:00:00\n",
      "Following                   : 1997-02-14 => 1997-02-14 00:00:00\n",
      "ModifiedFollowing           : 1997-02-14 => 1997-02-14 00:00:00\n",
      "ModifiedFollowingBimonthly  : 1997-02-14 => 1997-02-14 00:00:00\n",
      "Nearest                     : 1997-02-14 => 1997-02-14 00:00:00\n",
      "Preceding                   : 1997-02-14 => 1997-02-14 00:00:00\n",
      "ModifiedPreceding           : 1997-02-14 => 1997-02-14 00:00:00\n",
      "Saturday  1997-02-15 kein Feiertag\n",
      "Unadjusted                  : 1997-02-15 => 1997-02-15 00:00:00\n",
      "Following                   : 1997-02-15 => 1997-02-17 00:00:00\n",
      "ModifiedFollowing           : 1997-02-15 => 1997-02-17 00:00:00\n",
      "ModifiedFollowingBimonthly  : 1997-02-15 => 1997-02-14 00:00:00\n",
      "Nearest                     : 1997-02-15 => 1997-02-14 00:00:00\n",
      "Preceding                   : 1997-02-15 => 1997-02-14 00:00:00\n",
      "ModifiedPreceding           : 1997-02-15 => 1997-02-14 00:00:00\n",
      "Sunday    1997-02-16 kein Feiertag\n",
      "Unadjusted                  : 1997-02-16 => 1997-02-16 00:00:00\n",
      "Following                   : 1997-02-16 => 1997-02-17 00:00:00\n",
      "ModifiedFollowing           : 1997-02-16 => 1997-02-17 00:00:00\n",
      "ModifiedFollowingBimonthly  : 1997-02-16 => 1997-02-17 00:00:00\n",
      "Nearest                     : 1997-02-16 => 1997-02-17 00:00:00\n",
      "Preceding                   : 1997-02-16 => 1997-02-14 00:00:00\n",
      "ModifiedPreceding           : 1997-02-16 => 1997-02-14 00:00:00\n",
      "Monday    1997-02-17 kein Feiertag\n",
      "Unadjusted                  : 1997-02-17 => 1997-02-17 00:00:00\n",
      "Following                   : 1997-02-17 => 1997-02-17 00:00:00\n",
      "ModifiedFollowing           : 1997-02-17 => 1997-02-17 00:00:00\n",
      "ModifiedFollowingBimonthly  : 1997-02-17 => 1997-02-17 00:00:00\n",
      "Nearest                     : 1997-02-17 => 1997-02-17 00:00:00\n",
      "Preceding                   : 1997-02-17 => 1997-02-17 00:00:00\n",
      "ModifiedPreceding           : 1997-02-17 => 1997-02-17 00:00:00\n"
     ]
    }
   ],
   "source": [
    "test_dates = [date(1997, 2, 15) + relativedelta(days=n) for n in range(-1, 3)]\n",
    "for test_date in test_dates:\n",
    "    if test_date in holidays_de:\n",
    "        is_holiday = 'Feiertag!'\n",
    "    else:\n",
    "        is_holiday = 'kein Feiertag'\n",
    "    print('{:9s} {} {}'.format(weekday(test_date.isoweekday()), test_date, is_holiday))\n",
    "    for roll_convention in roll_conventions:\n",
    "        print('{:28s}: {} => {}'.format(roll_convention, test_date, roll_day(test_date, holidays_de, roll_convention)))"
   ]
  },
  {
   "cell_type": "code",
   "execution_count": 21,
   "metadata": {
    "ExecuteTime": {
     "end_time": "2020-09-24T07:33:31.229902Z",
     "start_time": "2020-09-24T07:33:31.218926Z"
    }
   },
   "outputs": [
    {
     "name": "stdout",
     "output_type": "stream",
     "text": [
      "Friday    1997-05-16 kein Feiertag\n",
      "Unadjusted                  : 1997-05-16 => 1997-05-16 00:00:00\n",
      "Following                   : 1997-05-16 => 1997-05-16 00:00:00\n",
      "ModifiedFollowing           : 1997-05-16 => 1997-05-16 00:00:00\n",
      "ModifiedFollowingBimonthly  : 1997-05-16 => 1997-05-16 00:00:00\n",
      "Nearest                     : 1997-05-16 => 1997-05-16 00:00:00\n",
      "Preceding                   : 1997-05-16 => 1997-05-16 00:00:00\n",
      "ModifiedPreceding           : 1997-05-16 => 1997-05-16 00:00:00\n",
      "Saturday  1997-05-17 kein Feiertag\n",
      "Unadjusted                  : 1997-05-17 => 1997-05-17 00:00:00\n",
      "Following                   : 1997-05-17 => 1997-05-20 00:00:00\n",
      "ModifiedFollowing           : 1997-05-17 => 1997-05-20 00:00:00\n",
      "ModifiedFollowingBimonthly  : 1997-05-17 => 1997-05-20 00:00:00\n",
      "Nearest                     : 1997-05-17 => 1997-05-16 00:00:00\n",
      "Preceding                   : 1997-05-17 => 1997-05-16 00:00:00\n",
      "ModifiedPreceding           : 1997-05-17 => 1997-05-16 00:00:00\n",
      "Sunday    1997-05-18 kein Feiertag\n",
      "Unadjusted                  : 1997-05-18 => 1997-05-18 00:00:00\n",
      "Following                   : 1997-05-18 => 1997-05-20 00:00:00\n",
      "ModifiedFollowing           : 1997-05-18 => 1997-05-20 00:00:00\n",
      "ModifiedFollowingBimonthly  : 1997-05-18 => 1997-05-20 00:00:00\n",
      "Nearest                     : 1997-05-18 => 1997-05-20 00:00:00\n",
      "Preceding                   : 1997-05-18 => 1997-05-16 00:00:00\n",
      "ModifiedPreceding           : 1997-05-18 => 1997-05-16 00:00:00\n",
      "Monday    1997-05-19 Feiertag!\n",
      "Unadjusted                  : 1997-05-19 => 1997-05-19 00:00:00\n",
      "Following                   : 1997-05-19 => 1997-05-20 00:00:00\n",
      "ModifiedFollowing           : 1997-05-19 => 1997-05-20 00:00:00\n",
      "ModifiedFollowingBimonthly  : 1997-05-19 => 1997-05-20 00:00:00\n",
      "Nearest                     : 1997-05-19 => 1997-05-20 00:00:00\n",
      "Preceding                   : 1997-05-19 => 1997-05-16 00:00:00\n",
      "ModifiedPreceding           : 1997-05-19 => 1997-05-16 00:00:00\n",
      "Tuesday   1997-05-20 kein Feiertag\n",
      "Unadjusted                  : 1997-05-20 => 1997-05-20 00:00:00\n",
      "Following                   : 1997-05-20 => 1997-05-20 00:00:00\n",
      "ModifiedFollowing           : 1997-05-20 => 1997-05-20 00:00:00\n",
      "ModifiedFollowingBimonthly  : 1997-05-20 => 1997-05-20 00:00:00\n",
      "Nearest                     : 1997-05-20 => 1997-05-20 00:00:00\n",
      "Preceding                   : 1997-05-20 => 1997-05-20 00:00:00\n",
      "ModifiedPreceding           : 1997-05-20 => 1997-05-20 00:00:00\n"
     ]
    }
   ],
   "source": [
    "test_dates = [date(1997, 5, 17) + relativedelta(days=n) for n in range(-1, 4)]\n",
    "for test_date in test_dates:\n",
    "    if test_date in holidays_de:\n",
    "        is_holiday = 'Feiertag!'\n",
    "    else:\n",
    "        is_holiday = 'kein Feiertag'\n",
    "    print('{:9s} {} {}'.format(weekday(test_date.isoweekday()), test_date, is_holiday))\n",
    "    for roll_convention in roll_conventions:\n",
    "        print('{:28s}: {} => {}'.format(roll_convention, test_date, roll_day(test_date, holidays_de, roll_convention)))"
   ]
  },
  {
   "cell_type": "code",
   "execution_count": 22,
   "metadata": {
    "ExecuteTime": {
     "end_time": "2020-09-24T07:33:31.260831Z",
     "start_time": "2020-09-24T07:33:31.234881Z"
    }
   },
   "outputs": [
    {
     "name": "stdout",
     "output_type": "stream",
     "text": [
      "Wednesday 1997-12-24 kein Feiertag\n",
      "Unadjusted                  : 1997-12-24 => 1997-12-24 00:00:00\n",
      "Following                   : 1997-12-24 => 1997-12-24 00:00:00\n",
      "ModifiedFollowing           : 1997-12-24 => 1997-12-24 00:00:00\n",
      "ModifiedFollowingBimonthly  : 1997-12-24 => 1997-12-24 00:00:00\n",
      "Nearest                     : 1997-12-24 => 1997-12-24 00:00:00\n",
      "Preceding                   : 1997-12-24 => 1997-12-24 00:00:00\n",
      "ModifiedPreceding           : 1997-12-24 => 1997-12-24 00:00:00\n",
      "Thursday  1997-12-25 Feiertag!\n",
      "Unadjusted                  : 1997-12-25 => 1997-12-25 00:00:00\n",
      "Following                   : 1997-12-25 => 1997-12-29 00:00:00\n",
      "ModifiedFollowing           : 1997-12-25 => 1997-12-29 00:00:00\n",
      "ModifiedFollowingBimonthly  : 1997-12-25 => 1997-12-29 00:00:00\n",
      "Nearest                     : 1997-12-25 => 1997-12-24 00:00:00\n",
      "Preceding                   : 1997-12-25 => 1997-12-24 00:00:00\n",
      "ModifiedPreceding           : 1997-12-25 => 1997-12-24 00:00:00\n",
      "Friday    1997-12-26 Feiertag!\n",
      "Unadjusted                  : 1997-12-26 => 1997-12-26 00:00:00\n",
      "Following                   : 1997-12-26 => 1997-12-29 00:00:00\n",
      "ModifiedFollowing           : 1997-12-26 => 1997-12-29 00:00:00\n",
      "ModifiedFollowingBimonthly  : 1997-12-26 => 1997-12-29 00:00:00\n",
      "Nearest                     : 1997-12-26 => 1997-12-24 00:00:00\n",
      "Preceding                   : 1997-12-26 => 1997-12-24 00:00:00\n",
      "ModifiedPreceding           : 1997-12-26 => 1997-12-24 00:00:00\n",
      "Saturday  1997-12-27 kein Feiertag\n",
      "Unadjusted                  : 1997-12-27 => 1997-12-27 00:00:00\n",
      "Following                   : 1997-12-27 => 1997-12-29 00:00:00\n",
      "ModifiedFollowing           : 1997-12-27 => 1997-12-29 00:00:00\n",
      "ModifiedFollowingBimonthly  : 1997-12-27 => 1997-12-29 00:00:00\n",
      "Nearest                     : 1997-12-27 => 1997-12-29 00:00:00\n",
      "Preceding                   : 1997-12-27 => 1997-12-24 00:00:00\n",
      "ModifiedPreceding           : 1997-12-27 => 1997-12-24 00:00:00\n",
      "Sunday    1997-12-28 kein Feiertag\n",
      "Unadjusted                  : 1997-12-28 => 1997-12-28 00:00:00\n",
      "Following                   : 1997-12-28 => 1997-12-29 00:00:00\n",
      "ModifiedFollowing           : 1997-12-28 => 1997-12-29 00:00:00\n",
      "ModifiedFollowingBimonthly  : 1997-12-28 => 1997-12-29 00:00:00\n",
      "Nearest                     : 1997-12-28 => 1997-12-29 00:00:00\n",
      "Preceding                   : 1997-12-28 => 1997-12-24 00:00:00\n",
      "ModifiedPreceding           : 1997-12-28 => 1997-12-24 00:00:00\n",
      "Monday    1997-12-29 kein Feiertag\n",
      "Unadjusted                  : 1997-12-29 => 1997-12-29 00:00:00\n",
      "Following                   : 1997-12-29 => 1997-12-29 00:00:00\n",
      "ModifiedFollowing           : 1997-12-29 => 1997-12-29 00:00:00\n",
      "ModifiedFollowingBimonthly  : 1997-12-29 => 1997-12-29 00:00:00\n",
      "Nearest                     : 1997-12-29 => 1997-12-29 00:00:00\n",
      "Preceding                   : 1997-12-29 => 1997-12-29 00:00:00\n",
      "ModifiedPreceding           : 1997-12-29 => 1997-12-29 00:00:00\n"
     ]
    }
   ],
   "source": [
    "test_dates = [date(1997, 12, 25) + relativedelta(days=n) for n in range(-1, 5)]\n",
    "for test_date in test_dates:\n",
    "    if test_date in holidays_de:\n",
    "        is_holiday = 'Feiertag!'\n",
    "    else:\n",
    "        is_holiday = 'kein Feiertag'\n",
    "    print('{:9s} {} {}'.format(weekday(test_date.isoweekday()), test_date, is_holiday))\n",
    "    for roll_convention in roll_conventions:\n",
    "        print('{:28s}: {} => {}'.format(roll_convention, test_date, roll_day(test_date, holidays_de, roll_convention)))"
   ]
  },
  {
   "cell_type": "code",
   "execution_count": 23,
   "metadata": {
    "ExecuteTime": {
     "end_time": "2020-09-24T07:33:31.291729Z",
     "start_time": "2020-09-24T07:33:31.266795Z"
    }
   },
   "outputs": [
    {
     "name": "stdout",
     "output_type": "stream",
     "text": [
      "Thursday  1997-03-27 kein Feiertag\n",
      "Unadjusted                  : 1997-03-27 => 1997-03-27 00:00:00\n",
      "Following                   : 1997-03-27 => 1997-03-27 00:00:00\n",
      "ModifiedFollowing           : 1997-03-27 => 1997-03-27 00:00:00\n",
      "ModifiedFollowingBimonthly  : 1997-03-27 => 1997-03-27 00:00:00\n",
      "Nearest                     : 1997-03-27 => 1997-03-27 00:00:00\n",
      "Preceding                   : 1997-03-27 => 1997-03-27 00:00:00\n",
      "ModifiedPreceding           : 1997-03-27 => 1997-03-27 00:00:00\n",
      "Friday    1997-03-28 Feiertag!\n",
      "Unadjusted                  : 1997-03-28 => 1997-03-28 00:00:00\n",
      "Following                   : 1997-03-28 => 1997-04-01 00:00:00\n",
      "ModifiedFollowing           : 1997-03-28 => 1997-03-27 00:00:00\n",
      "ModifiedFollowingBimonthly  : 1997-03-28 => 1997-03-27 00:00:00\n",
      "Nearest                     : 1997-03-28 => 1997-03-27 00:00:00\n",
      "Preceding                   : 1997-03-28 => 1997-03-27 00:00:00\n",
      "ModifiedPreceding           : 1997-03-28 => 1997-03-27 00:00:00\n",
      "Saturday  1997-03-29 kein Feiertag\n",
      "Unadjusted                  : 1997-03-29 => 1997-03-29 00:00:00\n",
      "Following                   : 1997-03-29 => 1997-04-01 00:00:00\n",
      "ModifiedFollowing           : 1997-03-29 => 1997-03-27 00:00:00\n",
      "ModifiedFollowingBimonthly  : 1997-03-29 => 1997-03-27 00:00:00\n",
      "Nearest                     : 1997-03-29 => 1997-03-27 00:00:00\n",
      "Preceding                   : 1997-03-29 => 1997-03-27 00:00:00\n",
      "ModifiedPreceding           : 1997-03-29 => 1997-03-27 00:00:00\n",
      "Sunday    1997-03-30 kein Feiertag\n",
      "Unadjusted                  : 1997-03-30 => 1997-03-30 00:00:00\n",
      "Following                   : 1997-03-30 => 1997-04-01 00:00:00\n",
      "ModifiedFollowing           : 1997-03-30 => 1997-03-27 00:00:00\n",
      "ModifiedFollowingBimonthly  : 1997-03-30 => 1997-03-27 00:00:00\n",
      "Nearest                     : 1997-03-30 => 1997-04-01 00:00:00\n",
      "Preceding                   : 1997-03-30 => 1997-03-27 00:00:00\n",
      "ModifiedPreceding           : 1997-03-30 => 1997-03-27 00:00:00\n",
      "Monday    1997-03-31 Feiertag!\n",
      "Unadjusted                  : 1997-03-31 => 1997-03-31 00:00:00\n",
      "Following                   : 1997-03-31 => 1997-04-01 00:00:00\n",
      "ModifiedFollowing           : 1997-03-31 => 1997-03-27 00:00:00\n",
      "ModifiedFollowingBimonthly  : 1997-03-31 => 1997-03-27 00:00:00\n",
      "Nearest                     : 1997-03-31 => 1997-04-01 00:00:00\n",
      "Preceding                   : 1997-03-31 => 1997-03-27 00:00:00\n",
      "ModifiedPreceding           : 1997-03-31 => 1997-03-27 00:00:00\n",
      "Tuesday   1997-04-01 kein Feiertag\n",
      "Unadjusted                  : 1997-04-01 => 1997-04-01 00:00:00\n",
      "Following                   : 1997-04-01 => 1997-04-01 00:00:00\n",
      "ModifiedFollowing           : 1997-04-01 => 1997-04-01 00:00:00\n",
      "ModifiedFollowingBimonthly  : 1997-04-01 => 1997-04-01 00:00:00\n",
      "Nearest                     : 1997-04-01 => 1997-04-01 00:00:00\n",
      "Preceding                   : 1997-04-01 => 1997-04-01 00:00:00\n",
      "ModifiedPreceding           : 1997-04-01 => 1997-04-01 00:00:00\n"
     ]
    }
   ],
   "source": [
    "test_dates = [date(1997, 3, 28) + relativedelta(days=n) for n in range(-1, 5)]\n",
    "for test_date in test_dates:\n",
    "    if test_date in holidays_de:\n",
    "        is_holiday = 'Feiertag!'\n",
    "    else:\n",
    "        is_holiday = 'kein Feiertag'\n",
    "    print('{:9s} {} {}'.format(weekday(test_date.isoweekday()), test_date, is_holiday))\n",
    "    for roll_convention in roll_conventions:\n",
    "        print('{:28s}: {} => {}'.format(roll_convention, test_date, roll_day(test_date, holidays_de, roll_convention)))"
   ]
  },
  {
   "cell_type": "code",
   "execution_count": 24,
   "metadata": {
    "ExecuteTime": {
     "end_time": "2020-09-24T07:33:31.322646Z",
     "start_time": "2020-09-24T07:33:31.301703Z"
    }
   },
   "outputs": [
    {
     "name": "stdout",
     "output_type": "stream",
     "text": [
      "Thursday  1997-01-30 - Friday    1997-02-28 00:00:00\n",
      "Friday    1997-01-31 - Friday    1997-02-28 00:00:00\n",
      "Thursday  1997-02-27 - Thursday  1997-03-27 00:00:00\n",
      "Friday    1997-02-28 - Thursday  1997-03-27 00:00:00\n",
      "Wednesday 1997-03-26 - Monday    1997-04-28 00:00:00\n",
      "Thursday  1997-03-27 - Monday    1997-04-28 00:00:00\n",
      "Tuesday   1997-04-29 - Thursday  1997-05-29 00:00:00\n",
      "Wednesday 1997-04-30 - Friday    1997-05-30 00:00:00\n",
      "Thursday  1997-05-29 - Monday    1997-06-30 00:00:00\n",
      "Friday    1997-05-30 - Monday    1997-06-30 00:00:00\n",
      "Sunday    1997-06-29 - Tuesday   1997-07-29 00:00:00\n",
      "Monday    1997-06-30 - Wednesday 1997-07-30 00:00:00\n",
      "Wednesday 1997-07-30 - Friday    1997-08-29 00:00:00\n",
      "Thursday  1997-07-31 - Friday    1997-08-29 00:00:00\n",
      "Thursday  1997-08-28 - Monday    1997-09-29 00:00:00\n",
      "Friday    1997-08-29 - Monday    1997-09-29 00:00:00\n",
      "Monday    1997-09-29 - Wednesday 1997-10-29 00:00:00\n",
      "Tuesday   1997-09-30 - Thursday  1997-10-30 00:00:00\n",
      "Thursday  1997-10-30 - Friday    1997-11-28 00:00:00\n",
      "Friday    1997-10-31 - Friday    1997-11-28 00:00:00\n",
      "Thursday  1997-11-27 - Monday    1997-12-29 00:00:00\n",
      "Friday    1997-11-28 - Monday    1997-12-29 00:00:00\n"
     ]
    }
   ],
   "source": [
    "start_dates = [date(1997, 1, 30), date(1997, 1, 31), date(1997, 2, 27), date(1997, 2, 28), date(1997, 3, 26), date(1997, 3, 27),\n",
    "               date(1997, 4, 29), date(1997, 4, 30), date(1997, 5, 29), date(1997, 5, 30), date(1997, 6, 29), date(1997, 6, 30),\n",
    "               date(1997, 7, 30), date(1997, 7, 31), date(1997, 8, 28), date(1997, 8, 29), date(1997, 9, 29), date(1997, 9, 30),\n",
    "               date(1997, 10, 30), date(1997, 10, 31), date(1997, 11, 27), date(1997, 11, 28)]\n",
    "for start_date in start_dates:\n",
    "    end_date = start_date + relativedelta(months=1)\n",
    "    end_date = roll_day(end_date, holidays_de, 'ModifiedFollowingEOM', start_date)\n",
    "    print('{:9s} {} - {:9s} {}'.format(weekday(start_date.isoweekday()), start_date, weekday(end_date.isoweekday()),\n",
    "                                       end_date))"
   ]
  }
 ],
 "metadata": {
  "kernelspec": {
   "display_name": "Python 3 (ipykernel)",
   "language": "python",
   "name": "python3"
  },
  "language_info": {
   "codemirror_mode": {
    "name": "ipython",
    "version": 3
   },
   "file_extension": ".py",
   "mimetype": "text/x-python",
   "name": "python",
   "nbconvert_exporter": "python",
   "pygments_lexer": "ipython3",
   "version": "3.10.10"
  },
  "toc": {
   "base_numbering": 1,
   "nav_menu": {},
   "number_sections": true,
   "sideBar": true,
   "skip_h1_title": false,
   "title_cell": "Table of Contents",
   "title_sidebar": "Contents",
   "toc_cell": false,
   "toc_position": {},
   "toc_section_display": true,
   "toc_window_display": false
  },
  "varInspector": {
   "cols": {
    "lenName": 16,
    "lenType": 16,
    "lenVar": 40
   },
   "kernels_config": {
    "python": {
     "delete_cmd_postfix": "",
     "delete_cmd_prefix": "del ",
     "library": "var_list.py",
     "varRefreshCmd": "print(var_dic_list())"
    },
    "r": {
     "delete_cmd_postfix": ") ",
     "delete_cmd_prefix": "rm(",
     "library": "var_list.r",
     "varRefreshCmd": "cat(var_dic_list()) "
    }
   },
   "types_to_exclude": [
    "module",
    "function",
    "builtin_function_or_method",
    "instance",
    "_Feature"
   ],
   "window_display": false
  }
 },
 "nbformat": 4,
 "nbformat_minor": 4
}
