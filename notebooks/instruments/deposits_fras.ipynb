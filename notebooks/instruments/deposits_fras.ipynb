{
 "cells": [
  {
   "cell_type": "markdown",
   "metadata": {},
   "source": [
    "![](../images/rivacon_frontmark_combined_header.png)"
   ]
  },
  {
   "cell_type": "markdown",
   "metadata": {},
   "source": [
    "# Deposits and FRAs "
   ]
  },
  {
   "cell_type": "code",
   "execution_count": null,
   "metadata": {
    "ExecuteTime": {
     "end_time": "2020-05-03T11:41:34.601266Z",
     "start_time": "2020-05-03T11:41:28.386153Z"
    }
   },
   "outputs": [],
   "source": [
    "import pyvacon\n",
    "import datetime as dt\n",
    "from rivapy.marketdata.curves import DiscountCurve\n",
    "from rivapy.instruments import DepositSpecification, ForwardRateAgreementSpecification\n",
    "from rivapy.pricing import price\n",
    "from pyvacon.finance.pricing import DepositPricer, ForwardRateAgreementPricer, ForwardRateAgreementPricingData, PricingRequest\n",
    "import math\n",
    "%matplotlib inline"
   ]
  },
  {
   "cell_type": "markdown",
   "metadata": {},
   "source": [
    "## Definition of a deposit\n",
    "\n",
    "A deposit is simply a short-term zero-coupon bond where at the start date the lender pays the nominal amount $N$ to the borrower, and at maturity the borrower pays back the nominal amount plus the accrued interest. Interest is usually expressed using simple compounding, i.e. the amount paid back at maturity is $N \\cdot (1 + r \\cdot \\tau)$ where $r$ is the interest rate and $\\tau$ is the year fraction between start and end dates.\n"
   ]
  },
  {
   "cell_type": "code",
   "execution_count": null,
   "metadata": {},
   "outputs": [],
   "source": [
    "# Set up deposit specification\n",
    "\n",
    "ccy = 'EUR'\n",
    "ref_date = dt.datetime(2023, 10, 26)\n",
    "start_date = ref_date\n",
    "end_date = dt.datetime(2024, 1, 26)\n",
    "dcc = 'Act360'\n",
    "rate = .03\n",
    "notional = 100.\n",
    "deposit_spec = DepositSpecification('dummy_id', 'dummy_issuer', 'NONE', ccy, ref_date, start_date, end_date, notional, rate, dcc)\n"
   ]
  },
  {
   "cell_type": "code",
   "execution_count": null,
   "metadata": {},
   "outputs": [],
   "source": [
    "# Set up (flat) curve\n",
    "object_id = \"TEST_CURVE\"\n",
    "flat_rate = 0.025\n",
    "\n",
    "days_to_maturity = [1, 180, 365, 720, 3 * 365, 4 * 365, 10 * 365]\n",
    "dates = [ref_date + dt.timedelta(days=d) for d in days_to_maturity]\n",
    "\n",
    "df = [math.exp(-d / 365.0 * flat_rate) for d in days_to_maturity]\n",
    "dc = DiscountCurve(id=object_id, refdate=ref_date, dates=dates, df=df)"
   ]
  },
  {
   "cell_type": "code",
   "execution_count": null,
   "metadata": {},
   "outputs": [],
   "source": [
    "# Determine fair rate\n",
    "fair_rate = DepositPricer.impliedSimplyCompoundedRate(\n",
    "    ref_date, dc._get_pyvacon_obj(), None, deposit_spec)\n",
    "print(fair_rate)"
   ]
  },
  {
   "cell_type": "code",
   "execution_count": null,
   "metadata": {},
   "outputs": [],
   "source": [
    "# Check fair rate\n",
    "# discount factor from curve\n",
    "df_curve = dc.value(ref_date, end_date)\n",
    "# discount factor implied by fair rate (simple compounding, Act/360)\n",
    "df_implied = 1. / (1. + (end_date - start_date).total_seconds() / (360. * 86400) * fair_rate)\n",
    "print(df_curve)\n",
    "print(df_implied)"
   ]
  },
  {
   "cell_type": "markdown",
   "metadata": {
    "ExecuteTime": {
     "end_time": "2020-05-03T11:41:34.650886Z",
     "start_time": "2020-05-03T11:41:34.605224Z"
    }
   },
   "source": [
    "## Definition of a forward rate agreement (FRA)\n",
    "\n",
    "A forward rate agreement is in principle a forward-starting deposit for a time period $[T_1, T_2]$ in the future (which is concluded at a start date $T_0$). However, rather than actually entering into a deposit at time $T_1$, an FRA is \"cash-settled\" at $T_1$ by exchanging the present value of the agreement (using the fixing of the underlying index to discount the cash flows from $T_2$ to $T_1$):\n",
    "$$PV(T_1) = N \\tau \\frac {r - K} {1 + r\\cdot \\tau}$$\n",
    "where\n",
    "- $N$ is the nominal amount\n",
    "- $\\tau$ is the year fraction between $T_1$ and $T_2$\n",
    "- $r$ is the index fixing at $T_1$ for the period $[T_1, T_2]$\n",
    "- $K$ is the forward rate agreed upon at $T_0$"
   ]
  },
  {
   "cell_type": "code",
   "execution_count": null,
   "metadata": {},
   "outputs": [],
   "source": [
    "# Set up FRA\n",
    "ccy = 'EUR'\n",
    "fra_rate = .04\n",
    "ref_date = dt.datetime(2023, 10, 26)\n",
    "start_date = dt.datetime(2024, 1, 26)\n",
    "end_date = dt.datetime(2024, 4, 26)\n",
    "\n",
    "fra = ForwardRateAgreementSpecification(\n",
    "    'dummy_id', 'dummy_issuer', 'NONE', ccy, notional,end_date, fra_rate, 'dummy_udl', True,\n",
    "    start_date, end_date, start_date, end_date, 'Act360', 'Act360', ''\n",
    ")\n"
   ]
  },
  {
   "cell_type": "code",
   "execution_count": null,
   "metadata": {},
   "outputs": [],
   "source": [
    "# Set up curves for pricing\n",
    "# Discount curve\n",
    "object_id = \"TEST_DC\"\n",
    "dsc_rate = 0.01\n",
    "df = [math.exp(-d / 365.0 * dsc_rate) for d in days_to_maturity]\n",
    "dc = DiscountCurve(id=object_id, refdate=ref_date, dates=dates, df=df)\n",
    "\n",
    "# Fixing curve\n",
    "object_id = \"TEST_fwd\"\n",
    "fwd_rate = 0.05\n",
    "fwd_df = [math.exp(-d / 365.0 * fwd_rate) for d in days_to_maturity]\n",
    "fwd_dc = DiscountCurve(id=object_id, refdate=ref_date, dates=dates, df=fwd_df)"
   ]
  },
  {
   "cell_type": "code",
   "execution_count": null,
   "metadata": {},
   "outputs": [],
   "source": [
    "# Price FRA\n",
    "fra_pricing_data = ForwardRateAgreementPricingData()\n",
    "fra_pricing_data.pricer = 'ForwardRateAgreementPricer'\n",
    "fra_pricing_data.valDate = ref_date\n",
    "fra_pricing_data.pricingRequest = PricingRequest()\n",
    "fra_pricing_data.discountCurve = dc._get_pyvacon_obj()\n",
    "fra_pricing_data.forwardCurve = fwd_dc._get_pyvacon_obj()\n",
    "fra_pricing_data.spec = fra\n",
    "\n",
    "fra_price = price(fra_pricing_data).getPrice()\n",
    "print(f'Price: {fra_price}')"
   ]
  },
  {
   "cell_type": "code",
   "execution_count": null,
   "metadata": {},
   "outputs": [],
   "source": [
    "# Calculate fair FRA rate (from froward curve)\n",
    "fair_rate = ForwardRateAgreementPricer.computeFairRate(ref_date, fra, fwd_dc._get_pyvacon_obj())\n",
    "print(fair_rate)"
   ]
  },
  {
   "cell_type": "code",
   "execution_count": null,
   "metadata": {},
   "outputs": [],
   "source": [
    "# Check that \"fair\" FRA has indeed price 0\n",
    "fair_fra = ForwardRateAgreementSpecification(\n",
    "    'dummy_id', 'dummy_issuer', 'NONE', ccy, notional,end_date, fair_rate, 'dummy_udl', True,\n",
    "    start_date, end_date, start_date, end_date, 'Act360', 'Act360', ''\n",
    ")\n",
    "fra_pricing_data = ForwardRateAgreementPricingData()\n",
    "fra_pricing_data.pricer = 'ForwardRateAgreementPricer'\n",
    "fra_pricing_data.valDate = ref_date\n",
    "fra_pricing_data.pricingRequest = PricingRequest()\n",
    "fra_pricing_data.discountCurve = dc._get_pyvacon_obj()\n",
    "fra_pricing_data.forwardCurve = fwd_dc._get_pyvacon_obj()\n",
    "fra_pricing_data.spec = fair_fra\n",
    "\n",
    "fra_price = price(fra_pricing_data).getPrice()\n",
    "print(f'Price: {fra_price}')"
   ]
  }
 ],
 "metadata": {
  "kernelspec": {
   "display_name": "Python 3 (ipykernel)",
   "language": "python",
   "name": "python3"
  },
  "language_info": {
   "codemirror_mode": {
    "name": "ipython",
    "version": 3
   },
   "file_extension": ".py",
   "mimetype": "text/x-python",
   "name": "python",
   "nbconvert_exporter": "python",
   "pygments_lexer": "ipython3",
   "version": "3.8.17"
  },
  "toc": {
   "base_numbering": 1,
   "nav_menu": {},
   "number_sections": true,
   "sideBar": true,
   "skip_h1_title": true,
   "title_cell": "Table of Contents",
   "title_sidebar": "Contents",
   "toc_cell": false,
   "toc_position": {
    "height": "calc(100% - 180px)",
    "left": "10px",
    "top": "150px",
    "width": "292px"
   },
   "toc_section_display": true,
   "toc_window_display": true
  },
  "varInspector": {
   "cols": {
    "lenName": 16,
    "lenType": 16,
    "lenVar": 40
   },
   "kernels_config": {
    "python": {
     "delete_cmd_postfix": "",
     "delete_cmd_prefix": "del ",
     "library": "var_list.py",
     "varRefreshCmd": "print(var_dic_list())"
    },
    "r": {
     "delete_cmd_postfix": ") ",
     "delete_cmd_prefix": "rm(",
     "library": "var_list.r",
     "varRefreshCmd": "cat(var_dic_list()) "
    }
   },
   "types_to_exclude": [
    "module",
    "function",
    "builtin_function_or_method",
    "instance",
    "_Feature"
   ],
   "window_display": false
  }
 },
 "nbformat": 4,
 "nbformat_minor": 2
}
