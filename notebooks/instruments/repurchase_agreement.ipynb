{
 "cells": [
  {
   "attachments": {},
   "cell_type": "markdown",
   "metadata": {},
   "source": [
    "# Repurchase Agreements"
   ]
  },
  {
   "attachments": {},
   "cell_type": "markdown",
   "metadata": {},
   "source": [
    "## Basic Idea\n",
    "\n",
    "Repurchase Agreements (repos) can be viewed as a collateralized loan. Generally, the borrower (in repo terms called *seller*) agrees to sell an asset to the lender (in repo terms called *buyer*) for a specific amount of cash. The seller also agrees to buy the sold asset back at expiry of the contract for a larger amount of cash. The price for which the asset is sold is called the *purchase price*, while the price at which the asset is bought back is called *repurchase price*. Effectively, the seller borrowed collateralized cash from the buyer. The interest rate (repo rate) paid for the borrowed cash is implicit in the repurchase price and is quoted as a percentage per annum rate. \n",
    "\n",
    "From the perspective of the buyer, the transaction described above is called a *reverse repo*. \n",
    "\n",
    "The following image ([1]) illustrates the basic life cycle of a (reverse) repo transaction.\n",
    "\n",
    "![Repo schema](../images/repo_schema.png)\n",
    "\n",
    "## The Repo Market\n",
    "\n",
    "### Economic Functions\n",
    "The repo market plays a key role in facilitating the flow of cash and securities in the financial system. Additionally, repos and reverse repos are often carried out by central banks in order to temporarily provide liquidity to (or remove liquidity from) the financial system to support implementation of monetary policy and to promote financial stability.\n",
    "\n",
    "--------------------------------------------------------\n",
    "1. ~~Erklärung was Repos für Möglichkeiten bieten~~ \n",
    "2. ~~Marktgröße und ICMA survey aufgreifen~~\n",
    "3. ~~Auf das Collateral eingehen und Special/GC, HQLA etc.~~\n",
    "4. Haircut, Initial Margin, Risiken (wrong-way risk), Liquidity Coverage Ratio, Credit Risk, Liquidity Risk\n",
    "5. Unterschiedliche Arten von Repos, Repos vs Sec Lending\n",
    "6. Best practices, (GMRA), manufactured payment \n",
    "7. Curves used as a reference rate for the repo rate \n",
    "8. Conclusion -> more liquid asset = smaller spread etc.\n",
    "9. Sources\n",
    "--------------------------------------------------------\n",
    "\n",
    "A few economic functions of the repo market are ([1,2]):\n",
    "\n",
    "1. **Providing a low-risk option for cash investment & an efficient source of short term funding:**\\\n",
    "Due to the capacity of high-quality liquid assets (HQLAs) collateralised (reverse) repos to lower credit and liquidity risk. Repos are used by different market participants such as money market funds, banks or other financial institutions as secure and liquid investment. Institutional inverstors also use repo contracts to meet temporary liquidity requirements without having to liquidate strategic long-term investments.\n",
    "\n",
    "2. **Facilitating central bank operations:**\\\n",
    "As shortly mentioned at the begining of this section, repos are a widely-used instrument for central bank open market operations. Due to the collateralization the central banks credit risk is reduced. The repo market enables central banks to implement monetary policies more efficiently under normal market conditions. \n",
    "***Some further Info about the repo rate (Investopedia)***\n",
    "\n",
    "3. **Financing leverage investors and covering short positions:**\\\n",
    "Institutional investors, like hedge funds, borrow cash via the repo market to fund leveraged investment strategies and also borrow securities which allow them to cover short positions. These funds play an important role in feeding market liquidity and price efficiency of underlying cash markets through trading and exploitation of pricing discrepancies (arbitrage). \n",
    "\n",
    "### The Size of the European Repo Market\n",
    "The International Capital Market Accociation (ICMA) conducted a European repo market surveys in June of 2022 [3]. In this survey the ICMA asked financial institutions operating in Europe for the value of the cash side of (reverse) repos that were still outstanding at close of business on June 8th 2022. In their suvery only (reverse) repos and buy/sell-backs (more on that later) are considered. According to the ICMA survey, the total value of the repo contracts outstanding on the books of the 56 participated institutions was at 9,680 Billion EUR. The ICMA conducted prior a similar survey with 59 participants one year earlier, where the total value of outstanding repo transactions was at 8,726 Billion EUR [4]. \n",
    "\n",
    "## Different Types of Collateral\n",
    "The quality of the underlying collateral of a repo is a key parameter for determination of the repo rate in a repo contract. Hence, repos collateralised by HQLAs will have a lower repo rate than repos collateralised by non HQLAs. The most commonly used type of collateral are government bonds, but equities and coporate/covered bonds are also used very frequently.  \n",
    "Generally, assets provided as collateral in a repo contract can be classified as general collateral (GC) or special/specific collateral (SC). Both of these classes represent the two drivers for repo transactions: *cash-driven* and *security-driven* [1,6].\n",
    "\n",
    "### General Collateral\n",
    "General collateral is set or basekt of securities which trade in the repo market at the same or a very similar repo rate (GC repo rate). This means that GC securities can be substituted for one another. Hence, the buyer in a GC repo is indifferent to which security is given as collateral. Due to the fact that securities can be substituted for one another, the driver of the GC repo rate is not the supply and demand of particular issues of securities, but of cash. Furthermore, a buyer in a repo may grant the seller permission to substitute some or all collateral during the term of the transaction [5]. General collateral repos are *cash-driven* repos as the underlying collateral plays a subordinate role. Cash-driven repos are primarily used for funding [1,6]. \n",
    "\n",
    "### Special Collateral\n",
    "While in GC repos the specific asset demanded as collateral is not important, as long as it comes from a specific GC basket, the specification of a certain asset privoded as collateral in SC repos is very much so. A special is an issue of securities that is subject to exceptional demand in the repo and cash markets compared to similar issues. A security is said to be *on special* (a special collateral) if the repo rate for that collateral is distinctly lower than the GC repo rate. The demand for some specials can become so large, that the special repo rate becomes negative [1,7]. The repo spread, which is the difference between the GC repo rate and the SC repo rate, can be seen as an implicit borrowing fee for the security on special. Thus, the lower repo rate for specials can be understood as the GC repo rate paid for the cash reduced by the borrowing fee for the security in high demand. Since the main intention of special repos is the 'borrowing' of sought after securities, these repos are security-driven repos. One of the most common reasons for an security to go special is when that security becomes the *cheapest-to-deliver* in the futures market.            \n",
    "\n",
    "## Risks\n",
    "There are primarily two sources of risk in repos.  \n",
    "\n",
    "\n",
    "**For later** \n",
    "Moreover, the haircut depends on the credit and liquidity characteristics of the collateral asset [8].\n",
    "## Sources:\n",
    "[[1] Repo-FAQs-January-2019](https://www.icmagroup.org/assets/documents/Regulatory/Repo/Repo-FAQs-January-2019.pdf)\\\n",
    "[[2] Repo market functioning](https://www.bis.org/publ/cgfs59.pdf)\\\n",
    "[[3] European Repo Market Survey June 2022](https://www.icmagroup.org/assets/9789-ICMA-Repo-Survey-June-2022.pdf)\\\n",
    "[[4] European Repo Market Survey June 2021](https://www.icmagroup.org/News/news-in-brief/the-european-repo-market-in-2021-icma-publishes-survey-showing-outstandings-of-eur-8726-billion-at-half-year/)\\\n",
    "[[5] A Guide to Best Practive in the European Repo Market](https://www.icmagroup.org/assets/ERCC-Guide-to-Best-Practice-March-2022.pdf)\\\n",
    "[[6] The EU Repo Markets: The Need For Full Integration](https://www.ceps.eu/wp-content/uploads/2015/03/RRinFBRepoMarkets.pdf)\\\n",
    "[[7] Special Repo Rates: An Introduction](https://www.atlantafed.org/-/media/documents/research/publications/economic-review/2002/vol87no2_fisher.pdf)\\\n",
    "[[8] Market Instruments for Collateral Management](https://www.iasonltd.com/doc/rps/2019/2019_Market_Instruments_for_Collateral_Management%20(Rev).pdf)\\\n",
    "[[X] ICMA European Repo Coincol (ERC) Repo Margining Best Practices 2012](https://www.icmagroup.org/assets/documents/Regulatory/Repo/ICMA-ERC-Repo-Margining-Best-Practices-2012-(amended-7-Nov-2013)2.pdf)\\\n",
    "[[X] Global Master Repurchase Agreement](https://www.icmagroup.org/assets/documents/Legal/GMRA-2011_2011.04.20_formular_copy-incl-annexes-and-buy-sell-back-annex.pdf)\\\n",
    "[[X] Repurchase Agreement (Repo): Definition, Examples, and Riskts](https://www.investopedia.com/terms/r/repurchaseagreement.asp)\\\n",
    "[[X] nature of repo](https://www.treasury.gov.ph/wp-content/uploads/2018/01/2-repo-risk-management-HO.pdf)\\\n",
    "[[X] What drives repo haircuts? Evidence from the UK market](https://www.bankofengland.co.uk/-/media/boe/files/working-paper/2022/what-drives-repo-haircuts-evidence-from-the-uk-market.pdf)"
   ]
  },
  {
   "cell_type": "markdown",
   "metadata": {},
   "source": []
  }
 ],
 "metadata": {
  "kernelspec": {
   "display_name": "rivapy",
   "language": "python",
   "name": "python3"
  },
  "language_info": {
   "name": "python",
   "version": "3.8.15 (default, Nov 24 2022, 14:38:14) [MSC v.1916 64 bit (AMD64)]"
  },
  "orig_nbformat": 4,
  "vscode": {
   "interpreter": {
    "hash": "c3ef7e83e7d00d94485cec6eac6abd4fc0f17748c735992b33fda68ac69a4bb7"
   }
  }
 },
 "nbformat": 4,
 "nbformat_minor": 2
}
