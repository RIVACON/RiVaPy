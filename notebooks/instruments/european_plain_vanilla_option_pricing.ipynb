{
 "cells": [
  {
   "cell_type": "markdown",
   "metadata": {},
   "source": [
    "![](../../images/rivacon_frontmark_combined_header.png)"
   ]
  },
  {
   "cell_type": "markdown",
   "metadata": {},
   "source": [
    "# Option Pricing Using *rivapy* European Vanilla Specification"
   ]
  },
  {
   "cell_type": "code",
   "execution_count": 1,
   "metadata": {
    "ExecuteTime": {
     "end_time": "2021-03-10T19:30:22.706735Z",
     "start_time": "2021-03-10T19:30:12.752764Z"
    }
   },
   "outputs": [],
   "source": [
    "import rivapy\n",
    "import datetime as dt\n",
    "import math\n",
    "import matplotlib.pyplot as plt\n",
    "from scipy.stats import norm\n",
    "import random\n",
    "import pandas as pd\n",
    "\n",
    "%load_ext autoreload\n",
    "%autoreload 2\n",
    "#the next line is a jupyter internal command to show the matplotlib graphs within the notebook\n",
    "%matplotlib inline"
   ]
  },
  {
   "cell_type": "markdown",
   "metadata": {},
   "source": [
    "## Create the necessary market data\n",
    "\n",
    "As a first step, we need to create the market data necessary to conduct the valuation. Therefore, we need to construct a *discount-*, *funding-* and *borrowing curve*, as well as a *forward-curve* and *volatility surface*.\n",
    "\n",
    "### Create a discount-, funding-, and borrowing curve"
   ]
  },
  {
   "cell_type": "code",
   "execution_count": 2,
   "metadata": {
    "ExecuteTime": {
     "end_time": "2021-03-10T19:30:23.438802Z",
     "start_time": "2021-03-10T19:30:22.710746Z"
    }
   },
   "outputs": [],
   "source": [
    "refdate = dt.datetime(2021,1,1,0,0,0)\n",
    "days_to_maturity = [1, 180, 365, 720, 3*365, 4*365, 10*365]\n",
    "dates = [refdate + dt.timedelta(days=d) for d in days_to_maturity]\n",
    "# discount factors from constant rate\n",
    "disc_rate = 0.05\n",
    "dc = rivapy.marketdata.DiscountCurve(\"DC\", refdate, dates, \n",
    "                                            [math.exp(-d/365.0*disc_rate) for d in days_to_maturity])\n",
    "borrow_rate = 0.02\n",
    "bc = rivapy.marketdata.DiscountCurve(\"BC\", refdate, dates, \n",
    "                                            [math.exp(-d/365.0*borrow_rate) for d in days_to_maturity])\n",
    "\n",
    "funding_rate = 0.05\n",
    "fc = rivapy.marketdata.DiscountCurve(\"FC\", refdate, dates, \n",
    "                                            [math.exp(-d/365.0*funding_rate) for d in days_to_maturity])"
   ]
  },
  {
   "cell_type": "markdown",
   "metadata": {},
   "source": [
    "### Create a dividend table"
   ]
  },
  {
   "cell_type": "code",
   "execution_count": 3,
   "metadata": {
    "ExecuteTime": {
     "end_time": "2021-03-10T19:30:24.248651Z",
     "start_time": "2021-03-10T19:30:23.445779Z"
    }
   },
   "outputs": [],
   "source": [
    "refdate = dt.datetime(2021,1,1,0,0,0)\n",
    "ex_dates =  [refdate + dt.timedelta(days=i) for i in [365, 2*365, 3*365, 4*365]]\n",
    "pay_dates = [d + dt.timedelta(days=2) for d in ex_dates]\n",
    "tax_factors = [1.0, 1.0, 1.0, 1.0]\n",
    "div_yield = [0, 0.0, 0.02, 0.02]\n",
    "div_cash = [2.5, 2.5, 1.5, 1.5]\n",
    "div_table = rivapy.marketdata.DividendTable('DIV', refdate, ex_dates, pay_dates, div_yield, div_cash, tax_factors)"
   ]
  },
  {
   "cell_type": "markdown",
   "metadata": {},
   "source": [
    "### Create a forward curve"
   ]
  },
  {
   "cell_type": "code",
   "execution_count": 4,
   "metadata": {
    "ExecuteTime": {
     "end_time": "2021-03-10T19:30:25.331641Z",
     "start_time": "2021-03-10T19:30:24.252615Z"
    }
   },
   "outputs": [
    {
     "data": {
      "image/png": "[encoded data removed]",
      "text/plain": [
       "<Figure size 432x288 with 1 Axes>"
      ]
     },
     "metadata": {
      "needs_background": "light"
     },
     "output_type": "display_data"
    }
   ],
   "source": [
    "# Creation of a Forward curve\n",
    "spot = 50.0\n",
    "forward_curve = rivapy.marketdata.EquityForwardCurve(spot, fc, bc, div_table)\n",
    "forward_curve.plot(days_end=5*365)"
   ]
  },
  {
   "cell_type": "markdown",
   "metadata": {},
   "source": [
    "### Create a volatility surface"
   ]
  },
  {
   "cell_type": "code",
   "execution_count": 5,
   "metadata": {
    "ExecuteTime": {
     "end_time": "2021-03-10T19:30:26.001050Z",
     "start_time": "2021-03-10T19:30:25.335568Z"
    }
   },
   "outputs": [],
   "source": [
    "vol_surf = rivapy.marketdata.VolatilitySurfaceFlat('TEST_SURFACE', refdate, forward_curve, 0.3)"
   ]
  },
  {
   "cell_type": "markdown",
   "metadata": {},
   "source": [
    "### Setup the specification\n",
    "\n",
    "The rivapy European Vanilla Specification requires the following mandatory arguments:\n",
    ">- object id (str)\n",
    ">- type ('CALL','PUT')\n",
    ">- expiry (datetime)\n",
    ">- strike (float)\n",
    "\n",
    "The following arguments must only be set when a market data manager is used to retrieve pricing data automatically from a database:\n",
    ">- issuer (str)\n",
    ">- securitization level (str)\n",
    ">- currency (str)\n",
    ">- underlying id (str)\n",
    "\n",
    "The *share ratio* argument is optional and describes the ratio of covered shares of the underlying by a single option contract. The default value is set to 1.0."
   ]
  },
  {
   "cell_type": "code",
   "execution_count": 6,
   "metadata": {
    "ExecuteTime": {
     "end_time": "2021-03-10T19:30:26.678063Z",
     "start_time": "2021-03-10T19:30:26.003976Z"
    }
   },
   "outputs": [],
   "source": [
    "issuer = 'DBK'\n",
    "seclevel = 'COLLATERALIZED'\n",
    "currency = 'EUR'\n",
    "tpe = 'CALL' # Change to 'PUT' if you want to calculate the price of an european put option.\n",
    "expiry = refdate + dt.timedelta(days=365)\n",
    "strike = 60\n",
    "spec = rivapy.instruments.EuropeanVanillaSpecification('Test_call', tpe, expiry, strike, \n",
    "                                                       issuer = issuer, sec_lvl = seclevel, curr='EUR',udl_id='ADS',share_ratio = 1)"
   ]
  },
  {
   "cell_type": "markdown",
   "metadata": {},
   "source": [
    "Referring to the Black-76 model, we consequently provided the model already with the the *option type*, the *expiry* $T$ and the *strike price* $K$. Thus, $F_0$, $r$ and $\\sigma$ have not been set yet. This data has been defined in the previous steps by creating the necessary market data. The underlying's forward price $F_0$ is provided through the forward curve which is contained in the volatility surface which, of course, also contains the volatility $\\sigma$. $r$ is contained in the provided discount curve. "
   ]
  },
  {
   "cell_type": "markdown",
   "metadata": {},
   "source": [
    "## Setup the pricing data"
   ]
  },
  {
   "cell_type": "markdown",
   "metadata": {},
   "source": [
    "The *rivapy.pricing.Back76PricingData* requires the following arguments:\n",
    "\n",
    ">- valuation date (datetime)\n",
    ">- specification\n",
    ">- discount curve\n",
    ">- volatility surface\n",
    ">- pricing request"
   ]
  },
  {
   "cell_type": "code",
   "execution_count": 7,
   "metadata": {
    "ExecuteTime": {
     "end_time": "2021-03-10T19:30:27.384532Z",
     "start_time": "2021-03-10T19:30:26.684881Z"
    }
   },
   "outputs": [],
   "source": [
    "prdata = rivapy.pricing.Black76PricingData(val_date = refdate, \n",
    "                                           spec = spec, \n",
    "                                           discount_curve = dc, \n",
    "                                           vol_surface = vol_surf, \n",
    "                                           pricing_request=(rivapy.pricing.ResultType.DELTA, \n",
    "                                                            rivapy.pricing.ResultType.GAMMA))"
   ]
  },
  {
   "cell_type": "markdown",
   "metadata": {},
   "source": [
    "## Calculation of an option price using the pyvacon European Vanilla Specification\n",
    "\n",
    "After all necessary information has been set, the price of the option can be calculated using the *rivapy.pricing.price* function."
   ]
  },
  {
   "cell_type": "code",
   "execution_count": 8,
   "metadata": {
    "ExecuteTime": {
     "end_time": "2021-03-10T19:30:28.088651Z",
     "start_time": "2021-03-10T19:30:27.387527Z"
    }
   },
   "outputs": [
    {
     "data": {
      "text/plain": [
       "1.8299776737016251"
      ]
     },
     "execution_count": 8,
     "metadata": {},
     "output_type": "execute_result"
    }
   ],
   "source": [
    "price = rivapy.pricing.price(prdata)\n",
    "price.getPrice()"
   ]
  },
  {
   "cell_type": "markdown",
   "metadata": {},
   "source": [
    "## Plotting the price"
   ]
  },
  {
   "cell_type": "code",
   "execution_count": 9,
   "metadata": {
    "ExecuteTime": {
     "end_time": "2021-03-10T19:30:30.430526Z",
     "start_time": "2021-03-10T19:30:28.092642Z"
    },
    "code_folding": [
     0,
     9,
     12,
     16,
     23,
     34,
     41,
     47,
     57,
     58,
     62,
     67,
     72
    ]
   },
   "outputs": [],
   "source": [
    "# \n",
    "refdate = dt.datetime(2021,1,1,0,0,0)\n",
    "spot = 50.0\n",
    "issuer = 'DBK'\n",
    "seclevel = 'COLLATERALIZED'\n",
    "currency = 'EUR'\n",
    "expiry = refdate + dt.timedelta(days=365)\n",
    "strike = 60\n",
    "\n",
    "spec_call = rivapy.instruments.EuropeanVanillaSpecification('Test_call', 'CALL', expiry, strike, \n",
    "                                                       issuer = issuer, sec_lvl = seclevel, curr='EUR',udl_id='ADS',share_ratio = 1)\n",
    "\n",
    "spec_put = rivapy.instruments.EuropeanVanillaSpecification('Test_put', 'PUT', expiry, strike, \n",
    "                                                       issuer = issuer, sec_lvl = seclevel, curr='EUR',udl_id='ADS',share_ratio = 1)\n",
    "\n",
    "\n",
    "c = rivapy.pricing.price(rivapy.pricing.Black76PricingData(val_date = refdate, \n",
    "                                           spec = spec_call, \n",
    "                                           discount_curve = dc, \n",
    "                                           vol_surface = rivapy.marketdata.VolatilitySurfaceFlat('TEST_SURFACE', refdate, rivapy.marketdata.EquityForwardCurve(spot, fc, bc, div_table), 0.3), \n",
    "                                           pricing_request=(rivapy.pricing.ResultType.DELTA, \n",
    "                                                            rivapy.pricing.ResultType.GAMMA))).getPrice()\n",
    "\n",
    "p = rivapy.pricing.price(rivapy.pricing.Black76PricingData(val_date = refdate, \n",
    "                                           spec = spec_put, \n",
    "                                           discount_curve = dc, \n",
    "                                           vol_surface = rivapy.marketdata.VolatilitySurfaceFlat('TEST_SURFACE', refdate, rivapy.marketdata.EquityForwardCurve(spot, fc, bc, div_table), 0.3), \n",
    "                                           pricing_request=(rivapy.pricing.ResultType.DELTA, \n",
    "                                                            rivapy.pricing.ResultType.GAMMA))).getPrice() \n",
    "\n",
    "\n",
    "fwd_curves = []\n",
    "spots = []\n",
    "spot_prices=strike-20\n",
    "while spot_prices<=strike+20:\n",
    "#     print(n)\n",
    "    spots.append(spot_prices)\n",
    "    fwd_curves.append(rivapy.marketdata.EquityForwardCurve(spot_prices, fc, bc, div_table))\n",
    "    spot_prices=spot_prices+0.01\n",
    "\n",
    "vol_surfaces = []\n",
    "for i in range(len(fwd_curves)):\n",
    "    vol_surf = rivapy.marketdata.VolatilitySurfaceFlat('TEST_SURFACE', refdate, fwd_curves[i], 0.3)\n",
    "    vol_surfaces.append(vol_surf)\n",
    "\n",
    "    \n",
    "call_prices = []\n",
    "for i in range(len(vol_surfaces)):\n",
    "    prdata = rivapy.pricing.Black76PricingData(val_date = refdate, \n",
    "                                           spec = spec_call, \n",
    "                                           discount_curve = dc, \n",
    "                                           vol_surface = vol_surfaces[i], \n",
    "                                           pricing_request=(rivapy.pricing.ResultType.DELTA, \n",
    "                                                            rivapy.pricing.ResultType.GAMMA))\n",
    "    call_prices.append(rivapy.pricing.price(prdata).getPrice())\n",
    "    \n",
    "put_prices = []\n",
    "for i in range(len(vol_surfaces)):\n",
    "    prdata = rivapy.pricing.Black76PricingData(val_date = refdate, \n",
    "                                           spec = spec_put, \n",
    "                                           discount_curve = dc, \n",
    "                                           vol_surface = vol_surfaces[i], \n",
    "                                           pricing_request=(rivapy.pricing.ResultType.DELTA, \n",
    "                                                            rivapy.pricing.ResultType.GAMMA))\n",
    "    put_prices.append(rivapy.pricing.price(prdata).getPrice())\n",
    "    \n",
    "payoff_put = []\n",
    "for i in range(len(spots)):\n",
    "    payoff = max(strike-spots[i],0)-p\n",
    "    payoff_put.append(payoff)\n",
    "\n",
    "payoff_call = []\n",
    "for i in range(len(spots)):\n",
    "    payoff = max(spots[i]-strike,0)-c\n",
    "    payoff_call.append(payoff)"
   ]
  },
  {
   "cell_type": "code",
   "execution_count": 10,
   "metadata": {
    "ExecuteTime": {
     "end_time": "2021-03-10T19:30:31.794398Z",
     "start_time": "2021-03-10T19:30:30.433150Z"
    },
    "code_folding": [
     0
    ]
   },
   "outputs": [
    {
     "data": {
      "image/png": "[encoded data removed]",
      "text/plain": [
       "<Figure size 1440x720 with 1 Axes>"
      ]
     },
     "metadata": {
      "needs_background": "light"
     },
     "output_type": "display_data"
    }
   ],
   "source": [
    "# create data frame\n",
    "prices_list = {'Spots': spots, \n",
    "              'Call Prices': call_prices,\n",
    "              'Put Prices': put_prices,\n",
    "              'Call Payoff': payoff_call,\n",
    "              'Put Payoff': payoff_put}\n",
    "\n",
    "prices = pd.DataFrame(prices_list, index = spots)    \n",
    "\n",
    "# plot the prices\n",
    "fig, ax = plt.subplots(figsize=(20,10))\n",
    "ax.plot(prices['Spots'],prices['Call Prices'],label='Call Prices')\n",
    "ax.plot(prices['Spots'],prices['Put Prices'],label = 'Put Prices')\n",
    "# ax.plot(prices['Spots'],prices['Call Payoff'],label='Call Payoff')\n",
    "# ax.plot(prices['Spots'],prices['Put Payoff'],label = 'Put Payoff')\n",
    "ax.tick_params(axis=\"x\", labelsize=12)\n",
    "ax.tick_params(axis=\"y\", labelsize=12)\n",
    "ax.axvline(x=strike, label='Strike', ls= '--', c='g')\n",
    "ax.set_title('European Plain Vanilla Option',fontsize=30,y=1.02)\n",
    "ax.set_xlabel('Spot',fontsize=20)\n",
    "ax.set_ylabel('Price',fontsize=20)\n",
    "legend = ax.legend(loc='best', shadow=True, fontsize='15')"
   ]
  },
  {
   "cell_type": "markdown",
   "metadata": {},
   "source": [
    "## Exercises - rivapy European Vanilla Specification"
   ]
  },
  {
   "cell_type": "markdown",
   "metadata": {},
   "source": [
    "- Calculate the price of an European put option using the rivapy European Vanilla Specification."
   ]
  },
  {
   "cell_type": "code",
   "execution_count": null,
   "metadata": {},
   "outputs": [],
   "source": []
  },
  {
   "cell_type": "markdown",
   "metadata": {},
   "source": [
    "- Modify the dividend table to see how dividends impact the option price."
   ]
  },
  {
   "cell_type": "code",
   "execution_count": null,
   "metadata": {},
   "outputs": [],
   "source": []
  },
  {
   "cell_type": "markdown",
   "metadata": {},
   "source": [
    "- Calculate the price of an European call option using a discount curve with a non-constant discount rate."
   ]
  },
  {
   "cell_type": "code",
   "execution_count": null,
   "metadata": {},
   "outputs": [],
   "source": []
  },
  {
   "cell_type": "markdown",
   "metadata": {},
   "source": [
    "- Use a different volatility model."
   ]
  },
  {
   "cell_type": "code",
   "execution_count": null,
   "metadata": {},
   "outputs": [],
   "source": []
  },
  {
   "cell_type": "markdown",
   "metadata": {},
   "source": [
    "## General Remarks\n",
    "\n",
    "### Implied volatility\n",
    "\n",
    "Since the volatility in the option pricing formulas cannot be directly observed, one usually works with implied volatilities. Implied volatilities are the volatilities implied by option prices observed in the market. As it is not possible to invert the Black-Scholes-Merton or Black-76 formulas so that the volatility is expressed as a function of the other parameters, one needs to use an interactive search procedure."
   ]
  },
  {
   "cell_type": "markdown",
   "metadata": {},
   "source": [
    "---"
   ]
  }
 ],
 "metadata": {
  "hide_input": false,
  "kernelspec": {
   "display_name": "Python 3",
   "language": "python",
   "name": "python3"
  },
  "language_info": {
   "codemirror_mode": {
    "name": "ipython",
    "version": 3
   },
   "file_extension": ".py",
   "mimetype": "text/x-python",
   "name": "python",
   "nbconvert_exporter": "python",
   "pygments_lexer": "ipython3",
   "version": "3.8.5"
  },
  "toc": {
   "base_numbering": 1,
   "nav_menu": {},
   "number_sections": true,
   "sideBar": true,
   "skip_h1_title": true,
   "title_cell": "Table of Contents",
   "title_sidebar": "Contents",
   "toc_cell": false,
   "toc_position": {
    "height": "calc(100% - 180px)",
    "left": "10px",
    "top": "150px",
    "width": "466.406px"
   },
   "toc_section_display": true,
   "toc_window_display": true
  },
  "varInspector": {
   "cols": {
    "lenName": 16,
    "lenType": 16,
    "lenVar": 40
   },
   "kernels_config": {
    "python": {
     "delete_cmd_postfix": "",
     "delete_cmd_prefix": "del ",
     "library": "var_list.py",
     "varRefreshCmd": "print(var_dic_list())"
    },
    "r": {
     "delete_cmd_postfix": ") ",
     "delete_cmd_prefix": "rm(",
     "library": "var_list.r",
     "varRefreshCmd": "cat(var_dic_list()) "
    }
   },
   "types_to_exclude": [
    "module",
    "function",
    "builtin_function_or_method",
    "instance",
    "_Feature"
   ],
   "window_display": false
  }
 },
 "nbformat": 4,
 "nbformat_minor": 2
}
