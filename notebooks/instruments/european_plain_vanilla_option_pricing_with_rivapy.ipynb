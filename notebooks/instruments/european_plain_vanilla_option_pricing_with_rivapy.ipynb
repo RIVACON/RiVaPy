{
 "cells": [
  {
   "cell_type": "markdown",
   "metadata": {},
   "source": [
    "![](../images/rivacon_frontmark_combined_header.png)"
   ]
  },
  {
   "cell_type": "markdown",
   "metadata": {},
   "source": [
    "# European Plain Vanilla Option"
   ]
  },
  {
   "cell_type": "code",
   "execution_count": 1,
   "metadata": {
    "ExecuteTime": {
     "end_time": "2021-03-05T09:24:46.965196Z",
     "start_time": "2021-03-05T09:24:38.760851Z"
    }
   },
   "outputs": [],
   "source": [
    "import rivapy\n",
    "import datetime as dt\n",
    "import math\n",
    "import matplotlib.pyplot as plt\n",
    "from scipy.stats import norm\n",
    "import random\n",
    "import pandas as pd\n",
    "\n",
    "%load_ext autoreload\n",
    "%autoreload 2\n",
    "#the next line is a jupyter internal command to show the matplotlib graphs within the notebook\n",
    "%matplotlib inline"
   ]
  },
  {
   "cell_type": "markdown",
   "metadata": {},
   "source": [
    "## Option Pricing Using *rivapy* European Vanilla Specification"
   ]
  },
  {
   "cell_type": "markdown",
   "metadata": {},
   "source": [
    "### Create the necessary market data\n",
    "\n",
    "As a first step, we need to create the market data necessary to conduct the valuation. Therefore, we need to construct a *discount-*, *funding-* and *borrowing curve*, a *forward-curve* as well as a *volatility surface*.\n",
    "\n",
    "#### Create a discount-, funding-, and borrowing curve"
   ]
  },
  {
   "cell_type": "code",
   "execution_count": 2,
   "metadata": {
    "ExecuteTime": {
     "end_time": "2021-03-05T09:24:47.406151Z",
     "start_time": "2021-03-05T09:24:46.968196Z"
    }
   },
   "outputs": [],
   "source": [
    "refdate = dt.datetime(2021,1,1,0,0,0)\n",
    "days_to_maturity = [1, 180, 365, 720, 3*365, 4*365, 10*365]\n",
    "dates = [refdate + dt.timedelta(days=d) for d in days_to_maturity]\n",
    "# discount factors from constant rate\n",
    "disc_rate = 0.05\n",
    "dc = rivapy.marketdata.DiscountCurve(\"DC\", refdate, dates, \n",
    "                                            [math.exp(-d/365.0*disc_rate) for d in days_to_maturity])\n",
    "borrow_rate = 0.02\n",
    "bc = rivapy.marketdata.DiscountCurve(\"BC\", refdate, dates, \n",
    "                                            [math.exp(-d/365.0*borrow_rate) for d in days_to_maturity])\n",
    "\n",
    "funding_rate = 0.05\n",
    "fc = rivapy.marketdata.DiscountCurve(\"FC\", refdate, dates, \n",
    "                                            [math.exp(-d/365.0*funding_rate) for d in days_to_maturity])"
   ]
  },
  {
   "cell_type": "markdown",
   "metadata": {},
   "source": [
    "#### Create a dividend table"
   ]
  },
  {
   "cell_type": "code",
   "execution_count": 3,
   "metadata": {
    "ExecuteTime": {
     "end_time": "2021-03-05T09:24:47.831966Z",
     "start_time": "2021-03-05T09:24:47.409115Z"
    }
   },
   "outputs": [],
   "source": [
    "refdate = dt.datetime(2021,1,1,0,0,0)\n",
    "ex_dates =  [refdate + dt.timedelta(days=i) for i in [365, 2*365, 3*365, 4*365]]\n",
    "pay_dates = [d + dt.timedelta(days=2) for d in ex_dates]\n",
    "tax_factors = [1.0, 1.0, 1.0, 1.0]\n",
    "div_yield = [0, 0.0, 0.02, 0.02]\n",
    "div_cash = [2.5, 2.5, 1.5, 1.5]\n",
    "div_table = rivapy.marketdata.DividendTable('DIV', refdate, ex_dates, pay_dates, div_yield, div_cash, tax_factors)"
   ]
  },
  {
   "cell_type": "markdown",
   "metadata": {},
   "source": [
    "#### Create a forward curve\n",
    "\n",
    "To ensure comparability with the results from the Black-Scholes-Merton model, we assume a non dividend paying stock."
   ]
  },
  {
   "cell_type": "code",
   "execution_count": 4,
   "metadata": {
    "ExecuteTime": {
     "end_time": "2021-03-05T09:24:48.656529Z",
     "start_time": "2021-03-05T09:24:47.834763Z"
    }
   },
   "outputs": [
    {
     "data": {
      "image/png": "[encoded data removed]",
      "text/plain": [
       "<Figure size 432x288 with 1 Axes>"
      ]
     },
     "metadata": {
      "needs_background": "light"
     },
     "output_type": "display_data"
    }
   ],
   "source": [
    "# Creation of a Forward curve\n",
    "spot = 50.0\n",
    "forward_curve = rivapy.marketdata.EquityForwardCurve(spot, fc, bc, div_table)\n",
    "forward_curve.plot(days_end=5*365)"
   ]
  },
  {
   "cell_type": "markdown",
   "metadata": {},
   "source": [
    "#### Create a volatility surface\n",
    "\n",
    "In order to compare the results with the Black-Scholes-Merton model above, we use a flat volatillity surface."
   ]
  },
  {
   "cell_type": "code",
   "execution_count": 5,
   "metadata": {
    "ExecuteTime": {
     "end_time": "2021-03-05T09:24:49.253991Z",
     "start_time": "2021-03-05T09:24:48.660514Z"
    }
   },
   "outputs": [],
   "source": [
    "vol_surf = rivapy.marketdata.VolatilitySurfaceFlat('TEST_SURFACE', refdate, forward_curve, 0.3)"
   ]
  },
  {
   "cell_type": "markdown",
   "metadata": {},
   "source": [
    "### Setup the specification\n",
    "\n",
    "The rivapy European Vanilla Specification requires the following mandatory arguments:\n",
    "- object id (str)\n",
    "- type ('CALL','PUT')\n",
    "- expiry (datetime)\n",
    "- strike (float)\n",
    "\n",
    "The following arguments must only be set when...??\n",
    "- issuer\n",
    "- securitization level\n",
    "- currency\n",
    "- underlying id\n",
    "- share ratio\n",
    "- ex settle\n",
    "- trade settle\n",
    "\n",
    "[Beschreibung warum relevant]Although the arguments *object id*, *issuer*, *securitization level* and the *underlying id* are not relevant for the pricing process, they nevertheless have to be set. Hence, we have to input valid strings for these arguments. Optional arguments are the *share ratio*, *holidays*, *ex settle* and *trade settle*.\n",
    "\n",
    "Referring to the Black-Scholes-Merton model, we consequently provided the model already with the the *option type*, the *expiry* $T$ and the *strike price* $K$. Thus, $S_0$, $r$ and $\\sigma$ have not been set yet. This data has been defined in the previous steps by creating the necessary market data.\n",
    "\n",
    "The *Back76PricingData* requires a discount curve, pricing parameter, a pricing specification and a volatility surface. Furthermore, we need to provide a valuation date and set the pricing request. The underlying's spot price $S_0$ is provided through the forward curve which is contained in the volatility surface which, of course, also contains the volatility $\\sigma$. $r$ is contained in the provided discount curve. "
   ]
  },
  {
   "cell_type": "code",
   "execution_count": 6,
   "metadata": {
    "ExecuteTime": {
     "end_time": "2021-03-05T09:24:49.725110Z",
     "start_time": "2021-03-05T09:24:49.256956Z"
    }
   },
   "outputs": [],
   "source": [
    "issuer = 'DBK'\n",
    "seclevel = 'COLLATERALIZED'\n",
    "currency = 'EUR'\n",
    "tpe = 'CALL' # Change to 'PUT' if you want to calculate the price of an european put option.\n",
    "expiry = refdate + dt.timedelta(days=365)\n",
    "strike = 50\n",
    "spec = rivapy.instruments.EuropeanVanillaSpecification('Test_call', tpe, expiry, strike, \n",
    "                                                       issuer = issuer, sec_lvl = seclevel, curr='EUR',udl_id='ADS',share_ratio = 1)"
   ]
  },
  {
   "cell_type": "markdown",
   "metadata": {},
   "source": [
    "### Setup the pricing data"
   ]
  },
  {
   "cell_type": "code",
   "execution_count": 7,
   "metadata": {
    "ExecuteTime": {
     "end_time": "2021-03-05T09:24:50.194175Z",
     "start_time": "2021-03-05T09:24:49.728110Z"
    }
   },
   "outputs": [],
   "source": [
    "prdata = rivapy.pricing.Black76PricingData(val_date = refdate, \n",
    "                                           spec = spec, \n",
    "                                           discount_curve = dc, \n",
    "                                           vol_surface = vol_surf, \n",
    "                                           pricing_request=(rivapy.pricing.ResultType.DELTA, \n",
    "                                                            rivapy.pricing.ResultType.GAMMA))"
   ]
  },
  {
   "cell_type": "code",
   "execution_count": 8,
   "metadata": {
    "ExecuteTime": {
     "end_time": "2021-03-05T09:24:50.617531Z",
     "start_time": "2021-03-05T09:24:50.201163Z"
    }
   },
   "outputs": [],
   "source": [
    "prdata1 = rivapy.pricing.Black76PricingData(val_date = refdate, \n",
    "                                           spec = spec, \n",
    "                                           discount_curve = dc, \n",
    "                                           vol_surface = vol_surf, \n",
    "                                           pricing_request=(rivapy.pricing.ResultType.PRICE))"
   ]
  },
  {
   "cell_type": "markdown",
   "metadata": {},
   "source": [
    "### Calculation of an option price using the pyvacon European Vanilla Specification\n",
    "\n",
    "After all necessary information has been set, the price of the option can be calculated using the *rivapy.pricing.price* function."
   ]
  },
  {
   "cell_type": "code",
   "execution_count": 9,
   "metadata": {
    "ExecuteTime": {
     "end_time": "2021-03-05T09:24:51.042169Z",
     "start_time": "2021-03-05T09:24:50.621354Z"
    }
   },
   "outputs": [
    {
     "data": {
      "text/plain": [
       "4.564237182376621"
      ]
     },
     "execution_count": 9,
     "metadata": {},
     "output_type": "execute_result"
    }
   ],
   "source": [
    "price = rivapy.pricing.price(prdata)\n",
    "price.getPrice()\n",
    "# delta = price.getDeltas()\n",
    "# price.getDelta1D()"
   ]
  },
  {
   "cell_type": "code",
   "execution_count": 10,
   "metadata": {
    "ExecuteTime": {
     "end_time": "2021-03-05T09:24:53.058930Z",
     "start_time": "2021-03-05T09:24:51.046163Z"
    }
   },
   "outputs": [
    {
     "ename": "NameError",
     "evalue": "name 'delta' is not defined",
     "output_type": "error",
     "traceback": [
      "\u001b[1;31m---------------------------------------------------------------------------\u001b[0m",
      "\u001b[1;31mNameError\u001b[0m                                 Traceback (most recent call last)",
      "\u001b[1;32m<ipython-input-10-7163b1c2bac3>\u001b[0m in \u001b[0;36m<module>\u001b[1;34m\u001b[0m\n\u001b[1;32m----> 1\u001b[1;33m \u001b[0mdelta\u001b[0m\u001b[1;33m.\u001b[0m\u001b[0mvalues\u001b[0m\u001b[1;33m(\u001b[0m\u001b[1;33m)\u001b[0m\u001b[1;33m\u001b[0m\u001b[1;33m\u001b[0m\u001b[0m\n\u001b[0m",
      "\u001b[1;31mNameError\u001b[0m: name 'delta' is not defined"
     ]
    }
   ],
   "source": [
    "delta.values()"
   ]
  },
  {
   "cell_type": "markdown",
   "metadata": {},
   "source": [
    "### Exercises - rivapy European Vanilla Specification"
   ]
  },
  {
   "cell_type": "markdown",
   "metadata": {},
   "source": [
    "- Calculate the price of an European put option using the rivapy European Vanilla Specification."
   ]
  },
  {
   "cell_type": "code",
   "execution_count": null,
   "metadata": {},
   "outputs": [],
   "source": []
  },
  {
   "cell_type": "markdown",
   "metadata": {},
   "source": [
    "- Modify the dividend table to see how dividends impact the option price."
   ]
  },
  {
   "cell_type": "code",
   "execution_count": null,
   "metadata": {},
   "outputs": [],
   "source": []
  },
  {
   "cell_type": "markdown",
   "metadata": {},
   "source": [
    "- Calculate the price of an European call option using a discount curve with a non-constant discount rate."
   ]
  },
  {
   "cell_type": "code",
   "execution_count": null,
   "metadata": {},
   "outputs": [],
   "source": []
  },
  {
   "cell_type": "markdown",
   "metadata": {},
   "source": [
    "- Use a different volatility model."
   ]
  },
  {
   "cell_type": "code",
   "execution_count": null,
   "metadata": {},
   "outputs": [],
   "source": []
  },
  {
   "cell_type": "markdown",
   "metadata": {},
   "source": [
    "## General Remarks\n",
    "\n",
    "### Implied volatility\n",
    "\n",
    "Since the volatility in the option pricing formulas cannot be directly observed, one usually works with implied volatilities. Implied volatilities are the volatilities implied by option prices observed in the market. As it is not possible to invert the Black-Scholes-Merton or Black-76 formulas so that the volatility is expressed as a function of the other parameters, one needs to use an interactive search procedure."
   ]
  },
  {
   "cell_type": "code",
   "execution_count": null,
   "metadata": {},
   "outputs": [],
   "source": []
  }
 ],
 "metadata": {
  "hide_input": false,
  "kernelspec": {
   "display_name": "Python 3",
   "language": "python",
   "name": "python3"
  },
  "language_info": {
   "codemirror_mode": {
    "name": "ipython",
    "version": 3
   },
   "file_extension": ".py",
   "mimetype": "text/x-python",
   "name": "python",
   "nbconvert_exporter": "python",
   "pygments_lexer": "ipython3",
   "version": "3.8.5"
  },
  "toc": {
   "base_numbering": 1,
   "nav_menu": {},
   "number_sections": true,
   "sideBar": true,
   "skip_h1_title": true,
   "title_cell": "Table of Contents",
   "title_sidebar": "Contents",
   "toc_cell": false,
   "toc_position": {
    "height": "calc(100% - 180px)",
    "left": "10px",
    "top": "150px",
    "width": "466.406px"
   },
   "toc_section_display": true,
   "toc_window_display": true
  },
  "varInspector": {
   "cols": {
    "lenName": 16,
    "lenType": 16,
    "lenVar": 40
   },
   "kernels_config": {
    "python": {
     "delete_cmd_postfix": "",
     "delete_cmd_prefix": "del ",
     "library": "var_list.py",
     "varRefreshCmd": "print(var_dic_list())"
    },
    "r": {
     "delete_cmd_postfix": ") ",
     "delete_cmd_prefix": "rm(",
     "library": "var_list.r",
     "varRefreshCmd": "cat(var_dic_list()) "
    }
   },
   "types_to_exclude": [
    "module",
    "function",
    "builtin_function_or_method",
    "instance",
    "_Feature"
   ],
   "window_display": false
  }
 },
 "nbformat": 4,
 "nbformat_minor": 2
}
