{
 "cells": [
  {
   "cell_type": "markdown",
   "metadata": {},
   "source": [
    "![](../images/rivacon_frontmark_combined_header.png)"
   ]
  },
  {
   "cell_type": "markdown",
   "metadata": {},
   "source": [
    "# Introduction to Discount Certificates"
   ]
  },
  {
   "cell_type": "code",
   "execution_count": 1,
   "metadata": {
    "ExecuteTime": {
     "end_time": "2022-03-01T14:04:33.788877Z",
     "start_time": "2022-03-01T14:04:30.653240Z"
    }
   },
   "outputs": [],
   "source": [
    "import datetime as dt\n",
    "import math\n",
    "import matplotlib.pyplot as plt\n",
    "from scipy.stats import norm\n",
    "import plotly.graph_objects as go\n",
    "from plotly.subplots import make_subplots\n",
    "import random\n",
    "import pandas as pd\n",
    "import numpy as np\n",
    "import rivapy\n",
    "from rivapy import enums as enums\n",
    "from rivapy import marketdata as mkt_data\n",
    "\n",
    "\n",
    "%load_ext autoreload\n",
    "%autoreload 2\n",
    "#the next line is a jupyter internal command to show the matplotlib graphs within the notebook\n",
    "%matplotlib inline"
   ]
  },
  {
   "cell_type": "markdown",
   "metadata": {},
   "source": [
    "## Definition of a Discount Certificate\n",
    "\n",
    "[Deutsche Börse](https://www.boerse-frankfurt.de/en/know-how/glossary/discount-certificates) provides the following definition for the discount certificate:\n",
    "\n",
    "    **Certificate with a reduced entry price in return for a limited payout.**\n",
    "    The investor gets the certificate at a price that is below the current price of the underlying security or index. This is called a discount. In return, the potential profit is capped.\n",
    "\n",
    "    At the end of the certificate’s maturity, a cash check occurs: If the price of the underlying when the maturity is up is higher than the maximal payout or identical to it, the issuer pays the maximum amount.\n",
    "\n",
    "    If the price of the underlying is less than the cap, the issuer pays either the current price of the certificate in cash or he gives the investor the underlying, for example a share, at its current price. The issuer can choose. The cash payout is obligatory in the case of discount certificates on indices, currencies or interest.\n",
    "\n",
    "    The maximum profit that an investor can reach with a discount certificate is calculated by taking the difference between the purchase price and the cap on the underlying. Losses, in contrast, are lessened by the discount. The investor suffers a loss only when the price of the underlying at the end of the maturity has fallen so far that the discount is depleted. The discount thus works as a buffer against risk.\n",
    "\n",
    "    Discount certificates are ideal for conservative investors that want to guard against market fluctuations and who expect in the medium term sideways-moving prices. Because the buyer of a discount certificate does not profit from price gains that are higher than the cap, this form of investment is best suited for a medium-term oriented engagement. If the certificate reaches its cap before the maturity, the investor should take the profits."
   ]
  },
  {
   "cell_type": "markdown",
   "metadata": {},
   "source": [
    "## Construction of a Discount Certificate\n",
    "\n",
    "A discount certificate is constructed by combining a long zero-strike-call (or security less discounted dividends) and a short call with a strike price equal to the cap. While the price for the long zero-strike-call increases with the price of the underlying security or index, gains beyond the cap are compensated by the short call.\n",
    "\n",
    "The relative size of the discount primarily depends on the volatility of the underlying and the time-to-maturity. Since the option premium of the short call increases with higher volatility, a higher discount can be offered to the investor. Likewise, longer maturities influence the discount positively.\n",
    "\n",
    "The absolute size of the discount is mainly determined by the position of the cap in relation to the current underlying price. If the cap and the current price of the underlying are on a similar level, the short call premium is higher (since it is at the money) and hence, the discount is higher. If the cap is higher than the current price of the underlying (i.e. the short call is out of the money), a smaller discount can be offered to the investor."
   ]
  },
  {
   "cell_type": "markdown",
   "metadata": {},
   "source": [
    "**Example**\n",
    "\n",
    "The current price of the underlying is $S_0$ = 70, the cap at 77 and the short call pays an option premium of 5."
   ]
  },
  {
   "cell_type": "code",
   "execution_count": 18,
   "metadata": {},
   "outputs": [
    {
     "data": {
      "application/vnd.plotly.v1+json": {
       "config": {
        "plotlyServerURL": "https://plot.ly"
       },
       "data": [
        {
         "mode": "lines",
         "name": "Payoff Zero-Strike-Call",
         "type": "scatter",
         "visible": "legendonly",
         "x": [
          50,
          51,
          52,
          53,
          54,
          55,
          56,
          57,
          58,
          59,
          60,
          61,
          62,
          63,
          64,
          65,
          66,
          67,
          68,
          69,
          70,
          71,
          72,
          73,
          74,
          75,
          76,
          77,
          78,
          79,
          80,
          81,
          82,
          83,
          84,
          85,
          86,
          87,
          88,
          89,
          90
         ],
         "xaxis": "x",
         "y": [
          50,
          51,
          52,
          53,
          54,
          55,
          56,
          57,
          58,
          59,
          60,
          61,
          62,
          63,
          64,
          65,
          66,
          67,
          68,
          69,
          70,
          71,
          72,
          73,
          74,
          75,
          76,
          77,
          78,
          79,
          80,
          81,
          82,
          83,
          84,
          85,
          86,
          87,
          88,
          89,
          90
         ],
         "yaxis": "y2"
        },
        {
         "mode": "markers",
         "name": "Payoff Certificate",
         "type": "scatter",
         "visible": "legendonly",
         "x": [
          50,
          51,
          52,
          53,
          54,
          55,
          56,
          57,
          58,
          59,
          60,
          61,
          62,
          63,
          64,
          65,
          66,
          67,
          68,
          69,
          70,
          71,
          72,
          73,
          74,
          75,
          76,
          77,
          78,
          79,
          80,
          81,
          82,
          83,
          84,
          85,
          86,
          87,
          88,
          89,
          90
         ],
         "xaxis": "x",
         "y": [
          50,
          51,
          52,
          53,
          54,
          55,
          56,
          57,
          58,
          59,
          60,
          61,
          62,
          63,
          64,
          65,
          66,
          67,
          68,
          69,
          70,
          71,
          72,
          73,
          74,
          75,
          76,
          77,
          77,
          77,
          77,
          77,
          77,
          77,
          77,
          77,
          77,
          77,
          77,
          77,
          77
         ],
         "yaxis": "y2"
        },
        {
         "mode": "lines",
         "name": "PnL Zero-Strike-Call",
         "type": "scatter",
         "visible": true,
         "x": [
          50,
          51,
          52,
          53,
          54,
          55,
          56,
          57,
          58,
          59,
          60,
          61,
          62,
          63,
          64,
          65,
          66,
          67,
          68,
          69,
          70,
          71,
          72,
          73,
          74,
          75,
          76,
          77,
          78,
          79,
          80,
          81,
          82,
          83,
          84,
          85,
          86,
          87,
          88,
          89,
          90
         ],
         "y": [
          -20,
          -19,
          -18,
          -17,
          -16,
          -15,
          -14,
          -13,
          -12,
          -11,
          -10,
          -9,
          -8,
          -7,
          -6,
          -5,
          -4,
          -3,
          -2,
          -1,
          0,
          1,
          2,
          3,
          4,
          5,
          6,
          7,
          8,
          9,
          10,
          11,
          12,
          13,
          14,
          15,
          16,
          17,
          18,
          19,
          20
         ]
        },
        {
         "mode": "markers",
         "name": "PnL Discount Certificate",
         "type": "scatter",
         "visible": "legendonly",
         "x": [
          50,
          51,
          52,
          53,
          54,
          55,
          56,
          57,
          58,
          59,
          60,
          61,
          62,
          63,
          64,
          65,
          66,
          67,
          68,
          69,
          70,
          71,
          72,
          73,
          74,
          75,
          76,
          77,
          78,
          79,
          80,
          81,
          82,
          83,
          84,
          85,
          86,
          87,
          88,
          89,
          90
         ],
         "y": [
          -15,
          -14,
          -13,
          -12,
          -11,
          -10,
          -9,
          -8,
          -7,
          -6,
          -5,
          -4,
          -3,
          -2,
          -1,
          0,
          1,
          2,
          3,
          4,
          5,
          6,
          7,
          8,
          9,
          10,
          11,
          12,
          12,
          12,
          12,
          12,
          12,
          12,
          12,
          12,
          12,
          12,
          12,
          12,
          12
         ]
        },
        {
         "mode": "lines+markers",
         "name": "PnL Embedded Short Call",
         "type": "scatter",
         "visible": "legendonly",
         "x": [
          50,
          51,
          52,
          53,
          54,
          55,
          56,
          57,
          58,
          59,
          60,
          61,
          62,
          63,
          64,
          65,
          66,
          67,
          68,
          69,
          70,
          71,
          72,
          73,
          74,
          75,
          76,
          77,
          78,
          79,
          80,
          81,
          82,
          83,
          84,
          85,
          86,
          87,
          88,
          89,
          90
         ],
         "y": [
          5,
          5,
          5,
          5,
          5,
          5,
          5,
          5,
          5,
          5,
          5,
          5,
          5,
          5,
          5,
          5,
          5,
          5,
          5,
          5,
          5,
          5,
          5,
          5,
          5,
          5,
          5,
          5,
          4,
          3,
          2,
          1,
          0,
          -1,
          -2,
          -3,
          -4,
          -5,
          -6,
          -7,
          -8
         ]
        }
       ],
       "layout": {
        "annotations": [
         {
          "showarrow": false,
          "text": "S0",
          "x": 70,
          "xanchor": "left",
          "xref": "x",
          "y": 1,
          "yanchor": "top",
          "yref": "y domain"
         },
         {
          "showarrow": false,
          "text": "Cap",
          "x": 77,
          "xanchor": "left",
          "xref": "x",
          "y": 1,
          "yanchor": "top",
          "yref": "y domain"
         }
        ],
        "shapes": [
         {
          "line": {
           "color": "black",
           "dash": "dash"
          },
          "type": "line",
          "x0": 70,
          "x1": 70,
          "xref": "x",
          "y0": 0,
          "y1": 1,
          "yref": "y domain"
         },
         {
          "line": {
           "color": "black",
           "dash": "dash"
          },
          "type": "line",
          "x0": 77,
          "x1": 77,
          "xref": "x",
          "y0": 0,
          "y1": 1,
          "yref": "y domain"
         }
        ],
        "template": {
         "data": {
          "bar": [
           {
            "error_x": {
             "color": "#2a3f5f"
            },
            "error_y": {
             "color": "#2a3f5f"
            },
            "marker": {
             "line": {
              "color": "#E5ECF6",
              "width": 0.5
             },
             "pattern": {
              "fillmode": "overlay",
              "size": 10,
              "solidity": 0.2
             }
            },
            "type": "bar"
           }
          ],
          "barpolar": [
           {
            "marker": {
             "line": {
              "color": "#E5ECF6",
              "width": 0.5
             },
             "pattern": {
              "fillmode": "overlay",
              "size": 10,
              "solidity": 0.2
             }
            },
            "type": "barpolar"
           }
          ],
          "carpet": [
           {
            "aaxis": {
             "endlinecolor": "#2a3f5f",
             "gridcolor": "white",
             "linecolor": "white",
             "minorgridcolor": "white",
             "startlinecolor": "#2a3f5f"
            },
            "baxis": {
             "endlinecolor": "#2a3f5f",
             "gridcolor": "white",
             "linecolor": "white",
             "minorgridcolor": "white",
             "startlinecolor": "#2a3f5f"
            },
            "type": "carpet"
           }
          ],
          "choropleth": [
           {
            "colorbar": {
             "outlinewidth": 0,
             "ticks": ""
            },
            "type": "choropleth"
           }
          ],
          "contour": [
           {
            "colorbar": {
             "outlinewidth": 0,
             "ticks": ""
            },
            "colorscale": [
             [
              0,
              "#0d0887"
             ],
             [
              0.1111111111111111,
              "#46039f"
             ],
             [
              0.2222222222222222,
              "#7201a8"
             ],
             [
              0.3333333333333333,
              "#9c179e"
             ],
             [
              0.4444444444444444,
              "#bd3786"
             ],
             [
              0.5555555555555556,
              "#d8576b"
             ],
             [
              0.6666666666666666,
              "#ed7953"
             ],
             [
              0.7777777777777778,
              "#fb9f3a"
             ],
             [
              0.8888888888888888,
              "#fdca26"
             ],
             [
              1,
              "#f0f921"
             ]
            ],
            "type": "contour"
           }
          ],
          "contourcarpet": [
           {
            "colorbar": {
             "outlinewidth": 0,
             "ticks": ""
            },
            "type": "contourcarpet"
           }
          ],
          "heatmap": [
           {
            "colorbar": {
             "outlinewidth": 0,
             "ticks": ""
            },
            "colorscale": [
             [
              0,
              "#0d0887"
             ],
             [
              0.1111111111111111,
              "#46039f"
             ],
             [
              0.2222222222222222,
              "#7201a8"
             ],
             [
              0.3333333333333333,
              "#9c179e"
             ],
             [
              0.4444444444444444,
              "#bd3786"
             ],
             [
              0.5555555555555556,
              "#d8576b"
             ],
             [
              0.6666666666666666,
              "#ed7953"
             ],
             [
              0.7777777777777778,
              "#fb9f3a"
             ],
             [
              0.8888888888888888,
              "#fdca26"
             ],
             [
              1,
              "#f0f921"
             ]
            ],
            "type": "heatmap"
           }
          ],
          "heatmapgl": [
           {
            "colorbar": {
             "outlinewidth": 0,
             "ticks": ""
            },
            "colorscale": [
             [
              0,
              "#0d0887"
             ],
             [
              0.1111111111111111,
              "#46039f"
             ],
             [
              0.2222222222222222,
              "#7201a8"
             ],
             [
              0.3333333333333333,
              "#9c179e"
             ],
             [
              0.4444444444444444,
              "#bd3786"
             ],
             [
              0.5555555555555556,
              "#d8576b"
             ],
             [
              0.6666666666666666,
              "#ed7953"
             ],
             [
              0.7777777777777778,
              "#fb9f3a"
             ],
             [
              0.8888888888888888,
              "#fdca26"
             ],
             [
              1,
              "#f0f921"
             ]
            ],
            "type": "heatmapgl"
           }
          ],
          "histogram": [
           {
            "marker": {
             "pattern": {
              "fillmode": "overlay",
              "size": 10,
              "solidity": 0.2
             }
            },
            "type": "histogram"
           }
          ],
          "histogram2d": [
           {
            "colorbar": {
             "outlinewidth": 0,
             "ticks": ""
            },
            "colorscale": [
             [
              0,
              "#0d0887"
             ],
             [
              0.1111111111111111,
              "#46039f"
             ],
             [
              0.2222222222222222,
              "#7201a8"
             ],
             [
              0.3333333333333333,
              "#9c179e"
             ],
             [
              0.4444444444444444,
              "#bd3786"
             ],
             [
              0.5555555555555556,
              "#d8576b"
             ],
             [
              0.6666666666666666,
              "#ed7953"
             ],
             [
              0.7777777777777778,
              "#fb9f3a"
             ],
             [
              0.8888888888888888,
              "#fdca26"
             ],
             [
              1,
              "#f0f921"
             ]
            ],
            "type": "histogram2d"
           }
          ],
          "histogram2dcontour": [
           {
            "colorbar": {
             "outlinewidth": 0,
             "ticks": ""
            },
            "colorscale": [
             [
              0,
              "#0d0887"
             ],
             [
              0.1111111111111111,
              "#46039f"
             ],
             [
              0.2222222222222222,
              "#7201a8"
             ],
             [
              0.3333333333333333,
              "#9c179e"
             ],
             [
              0.4444444444444444,
              "#bd3786"
             ],
             [
              0.5555555555555556,
              "#d8576b"
             ],
             [
              0.6666666666666666,
              "#ed7953"
             ],
             [
              0.7777777777777778,
              "#fb9f3a"
             ],
             [
              0.8888888888888888,
              "#fdca26"
             ],
             [
              1,
              "#f0f921"
             ]
            ],
            "type": "histogram2dcontour"
           }
          ],
          "mesh3d": [
           {
            "colorbar": {
             "outlinewidth": 0,
             "ticks": ""
            },
            "type": "mesh3d"
           }
          ],
          "parcoords": [
           {
            "line": {
             "colorbar": {
              "outlinewidth": 0,
              "ticks": ""
             }
            },
            "type": "parcoords"
           }
          ],
          "pie": [
           {
            "automargin": true,
            "type": "pie"
           }
          ],
          "scatter": [
           {
            "marker": {
             "colorbar": {
              "outlinewidth": 0,
              "ticks": ""
             }
            },
            "type": "scatter"
           }
          ],
          "scatter3d": [
           {
            "line": {
             "colorbar": {
              "outlinewidth": 0,
              "ticks": ""
             }
            },
            "marker": {
             "colorbar": {
              "outlinewidth": 0,
              "ticks": ""
             }
            },
            "type": "scatter3d"
           }
          ],
          "scattercarpet": [
           {
            "marker": {
             "colorbar": {
              "outlinewidth": 0,
              "ticks": ""
             }
            },
            "type": "scattercarpet"
           }
          ],
          "scattergeo": [
           {
            "marker": {
             "colorbar": {
              "outlinewidth": 0,
              "ticks": ""
             }
            },
            "type": "scattergeo"
           }
          ],
          "scattergl": [
           {
            "marker": {
             "colorbar": {
              "outlinewidth": 0,
              "ticks": ""
             }
            },
            "type": "scattergl"
           }
          ],
          "scattermapbox": [
           {
            "marker": {
             "colorbar": {
              "outlinewidth": 0,
              "ticks": ""
             }
            },
            "type": "scattermapbox"
           }
          ],
          "scatterpolar": [
           {
            "marker": {
             "colorbar": {
              "outlinewidth": 0,
              "ticks": ""
             }
            },
            "type": "scatterpolar"
           }
          ],
          "scatterpolargl": [
           {
            "marker": {
             "colorbar": {
              "outlinewidth": 0,
              "ticks": ""
             }
            },
            "type": "scatterpolargl"
           }
          ],
          "scatterternary": [
           {
            "marker": {
             "colorbar": {
              "outlinewidth": 0,
              "ticks": ""
             }
            },
            "type": "scatterternary"
           }
          ],
          "surface": [
           {
            "colorbar": {
             "outlinewidth": 0,
             "ticks": ""
            },
            "colorscale": [
             [
              0,
              "#0d0887"
             ],
             [
              0.1111111111111111,
              "#46039f"
             ],
             [
              0.2222222222222222,
              "#7201a8"
             ],
             [
              0.3333333333333333,
              "#9c179e"
             ],
             [
              0.4444444444444444,
              "#bd3786"
             ],
             [
              0.5555555555555556,
              "#d8576b"
             ],
             [
              0.6666666666666666,
              "#ed7953"
             ],
             [
              0.7777777777777778,
              "#fb9f3a"
             ],
             [
              0.8888888888888888,
              "#fdca26"
             ],
             [
              1,
              "#f0f921"
             ]
            ],
            "type": "surface"
           }
          ],
          "table": [
           {
            "cells": {
             "fill": {
              "color": "#EBF0F8"
             },
             "line": {
              "color": "white"
             }
            },
            "header": {
             "fill": {
              "color": "#C8D4E3"
             },
             "line": {
              "color": "white"
             }
            },
            "type": "table"
           }
          ]
         },
         "layout": {
          "annotationdefaults": {
           "arrowcolor": "#2a3f5f",
           "arrowhead": 0,
           "arrowwidth": 1
          },
          "autotypenumbers": "strict",
          "coloraxis": {
           "colorbar": {
            "outlinewidth": 0,
            "ticks": ""
           }
          },
          "colorscale": {
           "diverging": [
            [
             0,
             "#8e0152"
            ],
            [
             0.1,
             "#c51b7d"
            ],
            [
             0.2,
             "#de77ae"
            ],
            [
             0.3,
             "#f1b6da"
            ],
            [
             0.4,
             "#fde0ef"
            ],
            [
             0.5,
             "#f7f7f7"
            ],
            [
             0.6,
             "#e6f5d0"
            ],
            [
             0.7,
             "#b8e186"
            ],
            [
             0.8,
             "#7fbc41"
            ],
            [
             0.9,
             "#4d9221"
            ],
            [
             1,
             "#276419"
            ]
           ],
           "sequential": [
            [
             0,
             "#0d0887"
            ],
            [
             0.1111111111111111,
             "#46039f"
            ],
            [
             0.2222222222222222,
             "#7201a8"
            ],
            [
             0.3333333333333333,
             "#9c179e"
            ],
            [
             0.4444444444444444,
             "#bd3786"
            ],
            [
             0.5555555555555556,
             "#d8576b"
            ],
            [
             0.6666666666666666,
             "#ed7953"
            ],
            [
             0.7777777777777778,
             "#fb9f3a"
            ],
            [
             0.8888888888888888,
             "#fdca26"
            ],
            [
             1,
             "#f0f921"
            ]
           ],
           "sequentialminus": [
            [
             0,
             "#0d0887"
            ],
            [
             0.1111111111111111,
             "#46039f"
            ],
            [
             0.2222222222222222,
             "#7201a8"
            ],
            [
             0.3333333333333333,
             "#9c179e"
            ],
            [
             0.4444444444444444,
             "#bd3786"
            ],
            [
             0.5555555555555556,
             "#d8576b"
            ],
            [
             0.6666666666666666,
             "#ed7953"
            ],
            [
             0.7777777777777778,
             "#fb9f3a"
            ],
            [
             0.8888888888888888,
             "#fdca26"
            ],
            [
             1,
             "#f0f921"
            ]
           ]
          },
          "colorway": [
           "#636efa",
           "#EF553B",
           "#00cc96",
           "#ab63fa",
           "#FFA15A",
           "#19d3f3",
           "#FF6692",
           "#B6E880",
           "#FF97FF",
           "#FECB52"
          ],
          "font": {
           "color": "#2a3f5f"
          },
          "geo": {
           "bgcolor": "white",
           "lakecolor": "white",
           "landcolor": "#E5ECF6",
           "showlakes": true,
           "showland": true,
           "subunitcolor": "white"
          },
          "hoverlabel": {
           "align": "left"
          },
          "hovermode": "closest",
          "mapbox": {
           "style": "light"
          },
          "paper_bgcolor": "white",
          "plot_bgcolor": "#E5ECF6",
          "polar": {
           "angularaxis": {
            "gridcolor": "white",
            "linecolor": "white",
            "ticks": ""
           },
           "bgcolor": "#E5ECF6",
           "radialaxis": {
            "gridcolor": "white",
            "linecolor": "white",
            "ticks": ""
           }
          },
          "scene": {
           "xaxis": {
            "backgroundcolor": "#E5ECF6",
            "gridcolor": "white",
            "gridwidth": 2,
            "linecolor": "white",
            "showbackground": true,
            "ticks": "",
            "zerolinecolor": "white"
           },
           "yaxis": {
            "backgroundcolor": "#E5ECF6",
            "gridcolor": "white",
            "gridwidth": 2,
            "linecolor": "white",
            "showbackground": true,
            "ticks": "",
            "zerolinecolor": "white"
           },
           "zaxis": {
            "backgroundcolor": "#E5ECF6",
            "gridcolor": "white",
            "gridwidth": 2,
            "linecolor": "white",
            "showbackground": true,
            "ticks": "",
            "zerolinecolor": "white"
           }
          },
          "shapedefaults": {
           "line": {
            "color": "#2a3f5f"
           }
          },
          "ternary": {
           "aaxis": {
            "gridcolor": "white",
            "linecolor": "white",
            "ticks": ""
           },
           "baxis": {
            "gridcolor": "white",
            "linecolor": "white",
            "ticks": ""
           },
           "bgcolor": "#E5ECF6",
           "caxis": {
            "gridcolor": "white",
            "linecolor": "white",
            "ticks": ""
           }
          },
          "title": {
           "x": 0.05
          },
          "xaxis": {
           "automargin": true,
           "gridcolor": "white",
           "linecolor": "white",
           "ticks": "",
           "title": {
            "standoff": 15
           },
           "zerolinecolor": "white",
           "zerolinewidth": 2
          },
          "yaxis": {
           "automargin": true,
           "gridcolor": "white",
           "linecolor": "white",
           "ticks": "",
           "title": {
            "standoff": 15
           },
           "zerolinecolor": "white",
           "zerolinewidth": 2
          }
         }
        },
        "title": {
         "text": "Discount Certificate"
        },
        "xaxis": {
         "anchor": "y",
         "domain": [
          0,
          0.94
         ],
         "title": {
          "text": "Underlying at Maturity"
         }
        },
        "yaxis": {
         "anchor": "x",
         "domain": [
          0,
          1
         ],
         "title": {
          "text": "PnL"
         }
        },
        "yaxis2": {
         "anchor": "x",
         "overlaying": "y",
         "side": "right",
         "title": {
          "text": "Payoff"
         }
        }
       }
      }
     },
     "metadata": {},
     "output_type": "display_data"
    }
   ],
   "source": [
    "# \n",
    "S0 = 70\n",
    "cap = 77\n",
    "short_call_premium = 5\n",
    "S_t = np.linspace(50, 90, 41)\n",
    "\n",
    "pnl_dc =  [-S0 + short_call_premium + np.min([s, cap]) for s in S_t]\n",
    "payoff_short_call = [short_call_premium - np.max([s - cap, 0]) for s in S_t]\n",
    "\n",
    "fig = make_subplots(specs=[[{\"secondary_y\": True}]])\n",
    "\n",
    "# Add traces\n",
    "fig.add_trace(go.Scatter(x=S_t,y=S_t,mode='lines',name='Payoff Zero-Strike-Call',visible = \"legendonly\"),secondary_y=True)\n",
    "fig.add_trace(go.Scatter(x=S_t,y=[S0 - short_call_premium + dc_pnl for dc_pnl in pnl_dc],mode='markers',name='Payoff Certificate',visible = \"legendonly\"),secondary_y=True)\n",
    "\n",
    "fig.add_trace(go.Scatter(x=S_t,y=S_t - S0,mode='lines',name='PnL Zero-Strike-Call',visible = True))\n",
    "fig.add_trace(go.Scatter(x=S_t,y=pnl_dc,mode='markers',name='PnL Discount Certificate',visible = \"legendonly\"))\n",
    "fig.add_trace(go.Scatter(x=S_t,y=payoff_short_call,mode='lines+markers',name='PnL Embedded Short Call',visible = \"legendonly\"))\n",
    "\n",
    "fig.add_vline(x=S0, annotation_text='S0', line_dash='dash', line_color='black')\n",
    "fig.add_vline(x=cap,annotation_text='Cap',line_dash='dash',line_color='black')\n",
    "\n",
    "# Add figure title\n",
    "fig.update_layout(title_text='Discount Certificate')\n",
    "\n",
    "# Set x-axis title\n",
    "fig.update_xaxes(title_text='Underlying at Maturity')\n",
    "\n",
    "# Set y-axis titles\n",
    "fig.update_yaxes(title_text='PnL', secondary_y=False)\n",
    "fig.update_yaxes(title_text='Payoff', secondary_y=True)\n",
    "\n",
    "fig.show()"
   ]
  },
  {
   "cell_type": "markdown",
   "metadata": {},
   "source": [
    "---"
   ]
  },
  {
   "cell_type": "markdown",
   "metadata": {},
   "source": [
    "## Pricing a Discount Certificate"
   ]
  },
  {
   "cell_type": "code",
   "execution_count": 25,
   "metadata": {},
   "outputs": [
    {
     "name": "stdout",
     "output_type": "stream",
     "text": [
      "Call price =  3.4578261574740665\n"
     ]
    }
   ],
   "source": [
    "# define option pricer\n",
    "def B76OptionPricer(Type,F, K, r_dsc, sigma, T, t=0):\n",
    "    d1 = (math.log(F/K)+(sigma**2/2)*(T-t))/(sigma*math.sqrt(T-t))\n",
    "    d2 = d1-sigma*math.sqrt(T-t)\n",
    "    if Type=='c':\n",
    "        cp = 1\n",
    "    if Type =='p':\n",
    "        cp = -1\n",
    "    return cp*math.exp(-r_dsc*(T-t))*(F*norm.cdf(cp*d1)-K*norm.cdf(cp*d2))\n",
    "\n",
    "# Definition of the input parameters\n",
    "K = cap # 50 # Strike price\n",
    "r_dsc = 0.0 # Discount rate\n",
    "r_f = 0.0 # Funding rate\n",
    "r_b = 0.0 # Borrowing rate\n",
    "sigma = 0.30 # Volatility of the underlying\n",
    "t = 0.0 # Time to valuation date\n",
    "T = 1.0 # Time to maturity\n",
    "F0 = S0*math.exp((r_f-r_b)*(T-t)) # Forward value is calculated assuming a funding-rate different from the discount rate minus the borrowing rate\n",
    "\n",
    "# Calculation of the call price\n",
    "c = B76OptionPricer('c', F0, K, r_dsc, sigma, T, t)\n",
    "print('Call price = ', c)\n",
    "\n",
    "# #Calculation of the put price\n",
    "# p = B76OptionPricer('p', F0, K, r_dsc, sigma, T, t)\n",
    "# print('Put price = ', p)"
   ]
  },
  {
   "cell_type": "code",
   "execution_count": 7,
   "metadata": {},
   "outputs": [],
   "source": [
    "# Prototype for pricing a discount certificate\n",
    "\n",
    "class DiscountCertificatePricingData:\n",
    "    def __init__(self,\n",
    "                 val_date: dt,\n",
    "                 spec,\n",
    "                 discount_curve,\n",
    "                 vol_surface,\n",
    "                 pricing_request\n",
    "                 ):   \n",
    "        self.val_date = val_date\n",
    "        self.spec = spec\n",
    "        self.discount_curve = discount_curve\n",
    "        self.vol_surface = vol_surface\n",
    "        self.pricing_request = pricing_request\n",
    "        self.embedded_spec = rivapy.instruments.EuropeanVanillaSpecification(\n",
    "            id='embeddedOption', type='CALL',\n",
    "            expiry = self.spec.expiry,\n",
    "            strike = self.spec.cap,\n",
    "            issuer = '',\n",
    "            sec_lvl = 'COLLATERALIZED',\n",
    "            curr = 'EUR',\n",
    "            udl_id = '',\n",
    "            share_ratio = 1.0)\n",
    "        \n",
    "def DiscountCertificatePricer(prdata):\n",
    "    embeddedOption_PricingData = rivapy.pricing.Black76PricingData(val_date = prdata.val_date, \n",
    "                                                                    spec = prdata.embedded_spec, \n",
    "                                                                    discount_curve = prdata.discount_curve, \n",
    "                                                                    vol_surface = prdata.vol_surface,\n",
    "                                                                    pricing_request=prdata.pricing_request)\n",
    "    embeddedOptionPrice = rivapy.pricing.price(embeddedOption_PricingData).getPrice()\n",
    "    return prdata.vol_surface.forward_curve.spot - embeddedOptionPrice\n",
    "    \n",
    "class DiscountCertificateSpecification:\n",
    "    def __init__(self, \n",
    "                 id: str,\n",
    "                 expiry: dt,\n",
    "                 cap: float,\n",
    "                ):\n",
    "        \"\"\"Constructor for discount certificates\n",
    "        Args:\n",
    "        \"\"\"\n",
    "        self.id = id\n",
    "        self.expiry = expiry\n",
    "        self.cap = cap"
   ]
  },
  {
   "cell_type": "code",
   "execution_count": 8,
   "metadata": {},
   "outputs": [
    {
     "data": {
      "image/png": "[encoded data removed]",
      "text/plain": [
       "<Figure size 432x288 with 1 Axes>"
      ]
     },
     "metadata": {
      "needs_background": "light"
     },
     "output_type": "display_data"
    }
   ],
   "source": [
    "# Example \n",
    "\n",
    "refdate = dt.datetime(2021,1,1,0,0,0)\n",
    "days_to_maturity = [1, 180, 365, 720, 3*365, 4*365, 10*365]\n",
    "dates = [refdate + dt.timedelta(days=d) for d in days_to_maturity]\n",
    "# discount factors from constant rate\n",
    "disc_rate = 0.005\n",
    "dc = rivapy.marketdata.DiscountCurve(\"DC\", refdate, dates, \n",
    "                                            [math.exp(-d/365.0*disc_rate) for d in days_to_maturity])\n",
    "borrow_rate = 0.002\n",
    "bc = rivapy.marketdata.DiscountCurve(\"BC\", refdate, dates, \n",
    "                                            [math.exp(-d/365.0*borrow_rate) for d in days_to_maturity])\n",
    "\n",
    "funding_rate = 0.005\n",
    "fc = rivapy.marketdata.DiscountCurve(\"FC\", refdate, dates, \n",
    "                                            [math.exp(-d/365.0*funding_rate) for d in days_to_maturity])\n",
    "\n",
    "ex_dates =  [refdate + dt.timedelta(days=i) for i in [365, 2*365, 3*365, 4*365]]\n",
    "pay_dates = [d + dt.timedelta(days=2) for d in ex_dates]\n",
    "tax_factors = [1.0, 1.0, 1.0, 1.0]\n",
    "div_yield = [0, 0.0, 0.0, 0.0]\n",
    "div_cash = [0, 0, 0, 0]\n",
    "div_table = rivapy.marketdata.DividendTable('DIV', refdate, ex_dates, pay_dates, div_yield, div_cash, tax_factors)\n",
    "\n",
    "\n",
    "spot = 70.0\n",
    "forward_curve = rivapy.marketdata.EquityForwardCurve(spot, fc, bc, div_table)\n",
    "forward_curve.plot(days_end=5*365)\n",
    "\n",
    "# vol surfaces\n",
    "# flat\n",
    "vol_param_flat = rivapy.marketdata.VolatilityParametrizationFlat(0.3)\n",
    "\n",
    "# term\n",
    "ttm = [0.07,0.19,0.69,0.94,1.19,1.69]\n",
    "fwd_atm_vols =  [0.25,0.24,0.22, 0.21, 0.20, 0.19]\n",
    "term_param = mkt_data.VolatilityParametrizationTerm(ttm,fwd_atm_vols)\n",
    "\n",
    "# ssvi\n",
    "rho = -0.7 # responsible for the skewness of the vol_surface\n",
    "eta = 0.7 # responsible for the curvature\n",
    "gamma = 0.6 # responsible for the \"rate of decay\"\n",
    "ssvi_param = mkt_data.VolatilityParametrizationSSVI(ttm, fwd_atm_vols, rho, eta, gamma)\n",
    "\n",
    "# svi\n",
    "svi_param = mkt_data.VolatilityParametrizationSVI(\n",
    "                expiries=np.array([0.07,0.19,0.69,0.94,1.19,1.69]), \n",
    "                svi_params=[\n",
    "                            (0.01, 0.08, -0.42, 0.07, 0.05),\n",
    "                            (0.01, 0.09, -0.52, 0.08, 0.05),\n",
    "                            (0.01, 0.09, -0.72, 0.09, 0.09),\n",
    "                            (0.02, 0.08, -0.91, 0.10, 0.07),\n",
    "                            (0.01, 0.12, -0.70, 0.11, 0.19),\n",
    "                            (0.03, 0.09, -1.02, 0.13, 0.15)\n",
    "])\n",
    "\n",
    "# sabr\n",
    "ttm = [0.07,0.19,0.69,0.94,1.19,1.69]\n",
    "sabr_params = np.array([[0.05, 0.90, 0.32, -0.82],\n",
    "                        [0.08, 0.01, 1.22, -0.49],\n",
    "                        [0.15, 0.20, 0.12, -0.79],\n",
    "                        [0.18, 0.84, 0.58, -0.72],\n",
    "                        [0.20, 0.62, 0.09, -0.58],\n",
    "                        [0.20, 0.62, 0.09, -0.58]])\n",
    "\n",
    "vol_surf_flat = rivapy.marketdata.VolatilitySurface('TEST_SURFACE', refdate, forward_curve, enums.DayCounterType.Act365Fixed, vol_param_flat)\n",
    "vol_surf_term = rivapy.marketdata.VolatilitySurface('TEST_SURFACE', refdate, forward_curve, enums.DayCounterType.Act365Fixed, term_param)\n",
    "vol_surf_ssvi = rivapy.marketdata.VolatilitySurface('TEST_SURFACE', refdate, forward_curve, enums.DayCounterType.Act365Fixed, ssvi_param)\n",
    "vol_surf_svi = rivapy.marketdata.VolatilitySurface('TEST_SURFACE', refdate, forward_curve, enums.DayCounterType.Act365Fixed, svi_param)\n",
    "vol_surf_sabr = rivapy.marketdata.VolatilitySurface('TEST_SURFACE', refdate, forward_curve, enums.DayCounterType.Act365Fixed, sabr_params)"
   ]
  },
  {
   "cell_type": "code",
   "execution_count": 9,
   "metadata": {},
   "outputs": [
    {
     "data": {
      "text/plain": [
       "65.87954431361497"
      ]
     },
     "execution_count": 9,
     "metadata": {},
     "output_type": "execute_result"
    }
   ],
   "source": [
    "myCert_spec = DiscountCertificateSpecification('test_id', dt.datetime(2022,12,31), 77)\n",
    "\n",
    "\n",
    "prdata_flat = DiscountCertificatePricingData(val_date = refdate, \n",
    "                                           spec = myCert_spec, \n",
    "                                           discount_curve = dc, \n",
    "                                           vol_surface = vol_surf_flat, \n",
    "                                           pricing_request=(rivapy.pricing.ResultType.DELTA, \n",
    "                                                            rivapy.pricing.ResultType.GAMMA))\n",
    "\n",
    "prdata_term = DiscountCertificatePricingData(val_date = refdate, \n",
    "                                           spec = myCert_spec, \n",
    "                                           discount_curve = dc, \n",
    "                                           vol_surface = vol_surf_term, \n",
    "                                           pricing_request=(rivapy.pricing.ResultType.DELTA, \n",
    "                                                            rivapy.pricing.ResultType.GAMMA))\n",
    "\n",
    "prdata_ssvi = DiscountCertificatePricingData(val_date = refdate, \n",
    "                                           spec = myCert_spec, \n",
    "                                           discount_curve = dc, \n",
    "                                           vol_surface = vol_surf_ssvi, \n",
    "                                           pricing_request=(rivapy.pricing.ResultType.DELTA, \n",
    "                                                            rivapy.pricing.ResultType.GAMMA))\n",
    "\n",
    "prdata_svi = DiscountCertificatePricingData(val_date = refdate, \n",
    "                                           spec = myCert_spec, \n",
    "                                           discount_curve = dc, \n",
    "                                           vol_surface = vol_surf_svi, \n",
    "                                           pricing_request=(rivapy.pricing.ResultType.DELTA, \n",
    "                                                            rivapy.pricing.ResultType.GAMMA))\n",
    "\n",
    "# prdata_sabr = DiscountCertificatePricingData(val_date = refdate, \n",
    "#                                            spec = myCert_spec, \n",
    "#                                            discount_curve = dc, \n",
    "#                                            vol_surface = vol_surf_sabr, \n",
    "#                                            pricing_request=(rivapy.pricing.ResultType.DELTA, \n",
    "#                                                             rivapy.pricing.ResultType.GAMMA))\n",
    "DiscountCertificatePricer(prdata_svi)"
   ]
  },
  {
   "cell_type": "code",
   "execution_count": 10,
   "metadata": {},
   "outputs": [
    {
     "data": {
      "application/vnd.plotly.v1+json": {
       "config": {
        "plotlyServerURL": "https://plot.ly"
       },
       "data": [
        {
         "colorscale": [
          [
           0,
           "rgb(0, 147, 146)"
          ],
          [
           0.16666666666666666,
           "rgb(57, 177, 133)"
          ],
          [
           0.3333333333333333,
           "rgb(156, 203, 134)"
          ],
          [
           0.5,
           "rgb(233, 226, 156)"
          ],
          [
           0.6666666666666666,
           "rgb(238, 180, 121)"
          ],
          [
           0.8333333333333334,
           "rgb(232, 132, 113)"
          ],
          [
           1,
           "rgb(207, 89, 126)"
          ]
         ],
         "contours": {
          "x": {
           "color": "red",
           "show": true,
           "size": 0.1
          }
         },
         "hovertemplate": "Underlying:  %{y: .1f}<br>Maturity (yrs): %{x:.0}<br>Price: %{z:.1f}<extra></extra>",
         "opacity": 0.75,
         "type": "surface",
         "x": [
          0.9,
          0.8551369863013698,
          0.8102739726027397,
          0.7654109589041096,
          0.7205479452054795,
          0.6756849315068493,
          0.6308219178082192,
          0.5859589041095891,
          0.5410958904109588,
          0.49623287671232874,
          0.45136986301369864,
          0.4065068493150684,
          0.3616438356164383,
          0.3167808219178082,
          0.2719178082191781,
          0.2270547945205479,
          0.18219178082191778,
          0.13732876712328768,
          0.09246575342465746,
          0.047602739726027354,
          0.002739726027397249
         ],
         "y": [
          56,
          56.35,
          56.7,
          57.05,
          57.4,
          57.75,
          58.1,
          58.45,
          58.8,
          59.15,
          59.5,
          59.85,
          60.2,
          60.55,
          60.9,
          61.25,
          61.6,
          61.95,
          62.3,
          62.65,
          63,
          63.35,
          63.7,
          64.05,
          64.4,
          64.75,
          65.1,
          65.45,
          65.8,
          66.15,
          66.5,
          66.85,
          67.2,
          67.55,
          67.9,
          68.25,
          68.6,
          68.95,
          69.3,
          69.65,
          70,
          70.35,
          70.7,
          71.05,
          71.4,
          71.75,
          72.1,
          72.45,
          72.8,
          73.15,
          73.5,
          73.85,
          74.2,
          74.55,
          74.9,
          75.25,
          75.6,
          75.95,
          76.3,
          76.65,
          77,
          77.35,
          77.7,
          78.05,
          78.4,
          78.75,
          79.1,
          79.45,
          79.8,
          80.15,
          80.5,
          80.85,
          81.2,
          81.55,
          81.9,
          82.25,
          82.6,
          82.95,
          83.3,
          83.65,
          84,
          84.35,
          84.7,
          85.05,
          85.4,
          85.75,
          86.1,
          86.45,
          86.8,
          87.15,
          87.5,
          87.85,
          88.19999999999999,
          88.55,
          88.9,
          89.25,
          89.6,
          89.94999999999999,
          90.3,
          90.65,
          91
         ],
         "z": [
          [
           50.520001558936826,
           51.74361228617495,
           52.546403348871,
           53.20196821058681,
           53.702676304620404,
           54.1039607378648,
           54.43641220944397,
           54.71814853089444,
           54.960479534339235,
           55.170675100796046,
           55.35342776189591,
           55.51167261310933,
           55.64707258360524,
           55.76033338565379,
           55.85513424377553,
           55.92476649038599,
           55.969533885660724,
           55.99232114829158,
           55.999364315886375,
           55.99999909161079,
           56
          ],
          [
           50.83105138171309,
           52.05209116596451,
           52.85426213270392,
           53.51084463211106,
           54.013148477736785,
           54.41643238853995,
           54.75119968564566,
           55.035519383902496,
           55.28067131153014,
           55.493903578284666,
           55.67988800610558,
           55.841533457757635,
           55.98046320784176,
           56.09731883250306,
           56.19585818969273,
           56.268942001024634,
           56.316573947103656,
           56.34132486313028,
           56.34924017116546,
           56.34999872577908,
           56.35
          ],
          [
           51.14228958548839,
           52.36049726544845,
           53.16186679258941,
           53.81933130904488,
           54.32312587496977,
           54.72832654786919,
           55.065344948001965,
           55.35219912759342,
           55.60013812180187,
           55.81638850253849,
           56.00560248539942,
           56.17066461400355,
           56.31316117894322,
           56.43367286771682,
           56.53604663711486,
           56.61270703968154,
           56.663349463914685,
           56.690208232216335,
           56.69909313055097,
           56.69999821834983,
           56.7
          ],
          [
           51.453724569232996,
           52.668834007819754,
           53.469217016964976,
           54.12742486108172,
           54.63260233978838,
           55.03963444095454,
           55.378836681405446,
           55.6681739368327,
           55.91886363605991,
           56.13811104655334,
           56.330549912071916,
           56.49904244848136,
           56.64514078541907,
           56.769368243460804,
           56.8756719852966,
           56.95603559267391,
           57.00983895074045,
           57.03895786162181,
           57.04891923480982,
           57.049997516819374,
           57.05
          ],
          [
           51.76536496276184,
           52.97710487503312,
           53.776312441336785,
           54.43512177758844,
           54.94157152103684,
           55.35034704011936,
           55.69166326104678,
           55.98342961694128,
           56.23683108885834,
           56.45905186884513,
           56.654708389552866,
           56.82664260276536,
           56.97637544703723,
           57.1043766681096,
           57.21470538343083,
           57.29890019555069,
           57.35601937010699,
           57.387559007168626,
           57.39871388955526,
           57.399996550111375,
           57.4
          ],
          [
           52.077219634707625,
           53.28531340694218,
           54.08315264224781,
           54.742418408446206,
           55.250026861510044,
           55.66045505174803,
           56.00381273783433,
           56.29795158784468,
           56.554023261266714,
           56.7791910948282,
           56.978055391814486,
           57.153439969891394,
           57.3068376868432,
           57.43866877099502,
           57.55311668281572,
           57.64127186538912,
           57.701866037107116,
           57.73599545500643,
           57.7484717723141,
           57.749995222343635,
           57.75
          ],
          [
           52.38929770068075,
           53.59346320007491,
           54.38973713061384,
           55.04931095412734,
           55.55796158568972,
           55.96994890224523,
           56.31527282291409,
           56.61172486731759,
           56.87042246283737,
           57.09850829730552,
           57.3005677419037,
           57.479408670011644,
           57.636499102295915,
           57.77221406618089,
           57.89087438770798,
           57.98312003088026,
           58.04735251973486,
           58.08424939358976,
           58.098186727568,
           58.09999340462536,
           58.1
          ],
          [
           52.7016085315999,
           53.901557905992135,
           54.69606534435812,
           55.355795454935596,
           55.865368686569155,
           56.27881872304518,
           56.62603087122421,
           56.92473405326294,
           57.18601051261779,
           57.416982476021275,
           57.622221589557945,
           57.804522025149765,
           57.96533033549808,
           58.104980915256995,
           58.22794560486978,
           58.3244124602151,
           58.392450534817016,
           58.432301276672014,
           58.447851648482406,
           58.44999092430536,
           58.45
          ],
          [
           53.01416176217184,
           54.20960122916658,
           55.00213664026769,
           55.66186777932949,
           56.17224091148687,
           56.58705433459487,
           56.936073864013004,
           57.23696330496016,
           57.50076871914901,
           57.73459203622444,
           57.94299238786081,
           58.1287525330223,
           58.293301042499955,
           58.43693648914754,
           58.56429599182241,
           58.66511518679463,
           58.73712983951122,
           58.78012967694959,
           58.79745834394573,
           58.79998755093586,
           58.8
          ],
          [
           53.32696729949336,
           54.51759692431085,
           55.30795028498527,
           55.9675236112399,
           56.478570746882795,
           56.89464522922901,
           57.24538839024375,
           57.54839632321254,
           57.81467785938717,
           58.05131476618805,
           58.262854868891935,
           58.45207183989244,
           58.62037986165645,
           58.76804672893268,
           58.899889703826865,
           59.00519243279956,
           59.08135811836167,
           59.127711130010816,
           59.1469973894529,
           59.149982978023296,
           59.15
          ],
          [
           53.64003533174093,
           54.82554879307237,
           55.61350544503992,
           56.27275843628345,
           56.784350401880936,
           57.20158055284622,
           57.55396062680288,
           57.859016329317846,
           58.127718156481,
           58.36712781362673,
           58.58178301832367,
           58.774450712420574,
           58.94653438101819,
           59.09827630568516,
           59.23468933961837,
           59.34460653066979,
           59.42510086592899,
           59.475019968273166,
           59.49645796028286,
           59.49997679939975,
           59.5
          ],
          [
           53.953376336904824,
           55.13346068000175,
           55.91880117580871,
           56.577567526762635,
           57.08957179059386,
           57.5078490852884,
           57.86177631742144,
           58.1688060427812,
           58.439869256333914,
           58.6820076609511,
           58.8997500489154,
           59.095859008477,
           59.271731104739295,
           59.427588579328855,
           59.56865588593097,
           59.683317842559646,
           59.768321265039475,
           59.822028144628966,
           59.84582764534261,
           59.84996847875806,
           59.85
          ],
          [
           54.267001091514416,
           55.44133646768731,
           56.22383640928743,
           56.88194592533131,
           57.39422651303322,
           57.81343921931591,
           58.16882075021202,
           58.47774765768284,
           58.75111020287399,
           58.99593009929475,
           59.216728372854284,
           59.41626564688089,
           59.59593541848632,
           59.75594555653016,
           59.901748660857365,
           60.02128467785266,
           60.110980060731784,
           60.168705045565375,
           60.19509223998348,
           60.19995731054061,
           60.2
          ],
          [
           54.58092067928882,
           55.749180070933036,
           56.52860994053441,
           57.18588842719118,
           57.69830583449901,
           58.118338938061044,
           58.47507873371527,
           58.78582281760668,
           59.061419411950965,
           59.3088702012459,
           59.53268957288937,
           59.73563857603028,
           59.91911155383489,
           60.08330784763909,
           60.23392525609973,
           60.35846320883968,
           60.453035430016,
           60.5150172935803,
           60.54423551604209,
           60.549942369946535,
           60.55
          ],
          [
           54.89514649963233,
           56.05699542983881,
           56.83312041263374,
           57.48938956066951,
           58.001800663307506,
           58.42253579083189,
           58.78053457134087,
           59.093012589028675,
           59.37077464377322,
           59.620802292212325,
           59.847604372204586,
           60.053944741388165,
           60.24122255164396,
           60.40963462270349,
           60.56514147817964,
           60.69480738468617,
           60.79444284760193,
           60.86092853878293,
           60.89323896732394,
           60.899922449313685,
           60.9
          ],
          [
           55.20969027587651,
           56.36478650162167,
           57.137366300005525,
           57.79244356601128,
           58.30470152670281,
           58.7260168671261,
           59.085172034078326,
           59.39929743305628,
           59.6791529737926,
           59.93169992034433,
           60.16144260297425,
           60.37115005178981,
           60.56223022440045,
           60.73488356658636,
           60.89535128868786,
           61.03026884383922,
           61.13515494779996,
           61.2063992396472,
           61.242081528735156,
           61.24989597752888,
           61.25
          ],
          [
           55.5245640631497,
           56.672557250992035,
           57.441345889868344,
           58.095044372200405,
           58.60699854478158,
           59.02876876870121,
           59.38897433134239,
           59.704657175402104,
           59.98653076193882,
           60.241535824937145,
           60.47417317354315,
           60.68721934453843,
           60.88209511753148,
           61.05901083322525,
           61.22450674367033,
           61.364796825051954,
           61.475121382850304,
           61.551386432979655,
           61.590739267285294,
           61.59986091841233,
           61.6
          ],
          [
           55.839780255729366,
           56.98031163887139,
           57.74505726163475,
           58.397185571602876,
           58.90868140224214,
           59.33077757953337,
           59.691924079805965,
           60.00907097446583,
           60.292883620099005,
           60.5502819032299,
           60.78576403417254,
           61.00211634925677,
           61.200776469685984,
           61.38197099908131,
           61.552557932262545,
           61.6983380772335,
           61.81428867799442,
           61.89584349327184,
           61.939185043234865,
           61.94981464319886,
           61.95
          ],
          [
           56.155351593703045,
           57.28805360920572,
           58.048498263991725,
           58.6988603922008,
           59.209739317749545,
           59.63202883348063,
           59.99400327006121,
           60.312517287389596,
           60.59818637773115,
           60.857909175515005,
           61.096182141291415,
           61.315803650465014,
           61.51823217199324,
           61.703717015836816,
           61.879452914703535,
           62.03083676836549,
           62.15260008366693,
           62.239719881731865,
           62.28738813975468,
           62.29975377129246,
           62.3
          ],
          [
           56.47129116872658,
           57.595787073591,
           58.351666489386076,
           59.00006166715903,
           59.51016101068603,
           59.93250747944883,
           60.29519323093572,
           60.61497383394123,
           60.90241304549395,
           61.164387748467504,
           61.40539342019299,
           61.62824264885758,
           61.834418726312435,
           62.02420016241119,
           62.20513765988087,
           62.3622343937634,
           62.489995425257845,
           62.582960885433174,
           62.63531385960652,
           62.649673972395945,
           62.65
          ],
          [
           56.78761242862589,
           57.90351589338408,
           58.65455924559754,
           59.300781801435996,
           59.80993466503154,
           60.23219784383916,
           60.59547459127567,
           60.91641755806936,
           61.205536776767495,
           61.4696867766007,
           61.7133627261147,
           61.93939352125475,
           62.14929120249478,
           62.34336999637958,
           62.52955598258072,
           62.69246968400085,
           62.82641095097304,
           62.92550734718015,
           62.98292308755407,
           62.999569721914064,
           63
          ],
          [
           57.10432918053621,
           58.211243858920966,
           58.95717352404025,
           59.60101273511523,
           60.10904789009176,
           60.531083590034854,
           60.89482723899221,
           61.21682458696304,
           61.50752982693303,
           61.77377442175071,
           62.02005380364148,
           62.24921517920954,
           62.462803194689215,
           62.661174304893116,
           62.85264948064274,
           63.02147851285978,
           63.161779178407976,
           63.26729538687347,
           63.33017181748006,
           63.349434000202784,
           63.35
          ],
          [
           57.42145559221022,
           58.51897466540592,
           59.259505964385035,
           59.90074590309593,
           60.407487677760294,
           60.829147674661144,
           61.19323027714924,
           61.51617018743604,
           61.80836351027136,
           62.07661781048906,
           62.32542924437196,
           62.5576652262555,
           62.77490677673248,
           62.97755905521665,
           63.17435747224687,
           63.3491938057177,
           63.4960287405435,
           63.608256115363076,
           63.67701064352691,
           63.69925792480468,
           63.7
          ],
          [
           57.739006191051246,
           58.82671188496523,
           59.56155281503955,
           60.19997219073633,
           60.7052403559677,
           61.126372300326565,
           61.49066197685269,
           61.81442871944299,
           62.10800815433255,
           62.378182989359885,
           62.629450442789576,
           62.86469991378696,
           63.08555245667638,
           63.29246834501963,
           63.49461693359025,
           63.67554544883651,
           63.829084231976175,
           63.94831534200487,
           64.02338421500662,
           64.04903030329783,
           64.05
          ],
          [
           58.05699586033758,
           59.134458934279095,
           59.863309888959954,
           60.49868188499471,
           61.002291537932095,
           61.42273886452564,
           61.7870997266802,
           62.1115735865215,
           62.406433051621434,
           62.67843487783547,
           62.93207755028269,
           63.17027409557171,
           63.39468913051934,
           63.60584435257668,
           63.813362437246916,
           64.00046020007537,
           64.16086605630757,
           64.28739327739056,
           64.36923065534855,
           64.39873709283589,
           64.4
          ],
          [
           58.3754398319944,
           59.44221903711036,
           60.16477251419508,
           60.796864620556086,
           61.29862606678347,
           61.71822790435153,
           62.08251997836889,
           62.4075771829394,
           62.70360640843565,
           62.97733721888208,
           63.23326942726147,
           63.474341180905114,
           63.70226403522402,
           63.91762728705902,
           64.13052609153948,
           64.32386160161289,
           64.49129027573869,
           64.62540423299828,
           64.71448094598327,
           64.74836075092932,
           64.75
          ],
          [
           58.694353675138004,
           59.749995180938186,
           60.46593547848063,
           61.094509320370065,
           61.59422795508719,
           62.01281903663343,
           62.376898188454916,
           62.702410837311724,
           62.99949529068588,
           63.274852527026994,
           63.53298359332467,
           63.77685308642548,
           64.00822270112225,
           64.22775533912449,
           64.44603748129471,
           64.64566989533324,
           64.82026846404705,
           64.9622563198169,
           65.05905827680542,
           65.0978794605977,
           65.1
          ],
          [
           59.0137532794573,
           60.05779006677409,
           60.76679296710472,
           61.39160412995264,
           61.889080318739055,
           62.30649089307593,
           62.67020875553332,
           62.99604475243672,
           63.294065566519805,
           63.5709420338177,
           63.83117617543554,
           64.07776018662454,
           64.31250890382783,
           64.53616463204452,
           64.75982361039885,
           64.96580194160408,
           65.14770756426518,
           65.29785114832812,
           65.40287736572682,
           65.44726621181454,
           65.45
          ],
          [
           59.33365483230365,
           60.36560605108524,
           61.06733849315572,
           61.68813634472433,
           62.18316530464625,
           62.59922104993673,
           62.96242495277983,
           63.288447941083746,
           63.58728184556554,
           63.86556563056486,
           64.1278018540746,
           64.37701126310142,
           64.61506461580223,
           64.84278917363953,
           65.0718088466197,
           65.28417114225559,
           65.47350975253046,
           65.63208353258926,
           65.74584375083401,
           65.79648772031152,
           65.8
          ],
          [
           59.654074788125314,
           60.67344507856943,
           61.367564819136405,
           61.984092329564945,
           62.4764640115436,
           62.890985951735004,
           63.25351885534773,
           63.579588157450864,
           63.87910741460402,
           64.15868180826433,
           64.4228138073482,
           64.67455345262822,
           64.91582995774502,
           65.14756080933239,
           65.38191486921578,
           65.60068736865568,
           65.79757230973851,
           65.96484120154469,
           66.08785305980349,
           66.14550316447263,
           66.15
          ],
          [
           59.97502982859592,
           60.98130860431287,
           61.667463868781454,
           62.27945742966122,
           62.768956403221935,
           63.181760828433895,
           63.543461262222294,
           63.86943182399244,
           64.16950416947478,
           64.45024759459757,
           64.71616365304429,
           64.97033219411546,
           65.21474315001092,
           65.45040917667019,
           65.69006061991342,
           65.91525689586993,
           66.11978750280231,
           66.29600452110346,
           66.42879026251184,
           66.49426272143455,
           66.5
          ],
          [
           60.296536811437235,
           61.28919750361186,
           61.96702662774714,
           62.57421587160649,
           63.06062121336607,
           63.471519605488574,
           63.83222161208437,
           64.15794395330283,
           64.45843254301693,
           64.7402184879172,
           65.00780138864388,
           65.2642911745924,
           65.51174046429063,
           65.75126166171228,
           65.99616225789703,
           66.22778234399448,
           66.44004247750193,
           66.62544623095576,
           66.76852891420438,
           66.84270588485124,
           66.85
          ],
          [
           60.618612705510074,
           61.59711196744141,
           62.26624303164701,
           62.8683506535785,
           63.351435841110856,
           63.76023480609484,
           64.11976789270089,
           64.44508806472575,
           64.7458514288457,
           65.02854838813505,
           65.29767532931643,
           65.55637227434508,
           65.80675617583157,
           66.05004335773238,
           66.30013311952825,
           66.53816262785631,
           66.7582191650981,
           66.9530312005551,
           67.106930398154,
           67.19075954933902,
           67.2
          ],
          [
           60.9412745092238,
           61.90505138120285,
           62.565101839683166,
           63.16184342327206,
           63.64137623632645,
           64.04787744491252,
           64.40606654332738,
           64.73082609534615,
           65.03171810076603,
           65.31518952444287,
           65.58573204395175,
           65.84651551139052,
           66.09972251651902,
           66.34667702674007,
           66.60188368358699,
           66.84629291638828,
           67.07419420508198,
           67.27861620916626,
           67.44384317844255,
           67.5383358506818,
           67.55
          ],
          [
           61.26453914867439,
           62.213014183965605,
           62.86359049186456,
           63.45467434209427,
           63.93041677353686,
           64.33441691247359,
           64.69108234957251,
           65.01511830500903,
           65.31598812763038,
           65.60009237981531,
           65.87191628931026,
           66.13465898550407,
           66.39056962918885,
           66.64108306438965,
           66.90132154290922,
           67.15206460310644,
           67.38783888663826,
           67.60204975536523,
           67.77910207531859,
           67.88532975673921,
           67.9
          ],
          [
           61.58842335113131,
           62.52099770492344,
           63.16169494750491,
           63.74682193394003,
           64.21853011325726,
           64.61982084941633,
           64.9747783301413,
           65.29792317500036,
           65.5986152834561,
           65.88320561226641,
           66.15617094240855,
           66.42073882206306,
           66.67922552359823,
           66.93317946891241,
           67.1983513833864,
           67.4553652892422,
           67.69901911160835,
           67.92317190186897,
           68.11252757750579,
           68.2316164119568,
           68.25
          ],
          [
           61.9129434885225,
           62.8289979731995,
           63.45939950235105,
           64.03826291665291,
           64.50568704940888,
           64.90405500961612,
           65.25711561484147,
           65.57919730002052,
           65.87955145263308,
           66.16447597286245,
           66.43843693129892,
           66.70468911602208,
           66.96561603454586,
           67.22288181478498,
           67.49287497138695,
           67.75607878121387,
           68.00759538195496,
           68.2418141620662,
           68.44392520782893,
           68.57704824869616,
           68.6
          ],
          [
           62.2381153843654,
           63.13700949643596,
           63.75668658129696,
           64.32897201403755,
           64.79185634133009,
           65.18708311120879,
           65.53805331320632,
           65.85889527307987,
           66.15874653007297,
           66.4438482205288,
           66.7186531644514,
           66.98644187639658,
           67.24966478270241,
           67.51010323192855,
           67.78479115076254,
           68.05408510425914,
           68.3134228149421,
           68.55779943510183,
           68.77308496055167,
           68.92145189149213,
           68.95
          ],
          [
           62.563954076107876,
           63.44502500277649,
           64.05353650318682,
           64.61892174602485,
           65.07700452875427,
           65.46886667442911,
           65.81754837306272,
           66.1369695629536,
           66.43614831618078,
           66.72126503373627,
           66.99675645900449,
           67.26592697169946,
           67.53129313879275,
           67.79475439132459,
           68.07399585071136,
           68.34926053418987,
           68.61635118945703,
           68.87094199682973,
           69.09978083083438,
           69.26462489593246,
           69.3
          ],
          [
           62.89047352300122,
           63.75303513986516,
           64.34992721369184,
           64.9080821942965,
           65.3610957279664,
           65.74936484511218,
           66.0955554283525,
           66.41337038384789,
           66.71170240656986,
           66.99666691920737,
           67.27268146822121,
           67.54307207685561,
           67.81042019185955,
           68.07674349803074,
           68.36038210588606,
           68.64147764937559,
           68.91622502710433,
           69.1810475543763,
           69.42377045866473,
           69.6063323821324,
           69.65
          ],
          [
           63.21768624734197,
           64.06102812331629,
           64.64583398165362,
           65.1964207403521,
           65.64409140718413,
           66.02853420263604,
           66.37202663550464,
           66.68804555695738,
           66.985352076492,
           67.26999211785227,
           67.5463606085659,
           67.81780262220892,
           68.08696272243564,
           68.35597629268719,
           68.64384009025522,
           68.93060540520557,
           69.21288371189591,
           69.48791337243595,
           69.74479491141555,
           69.94630364356107,
           70
          ],
          [
           63.54560289407681,
           64.36898932572424,
           64.94122905361556,
           65.48390177264855,
           65.92595013903929,
           66.30632855102061,
           66.64691149765866,
           66.96094036363506,
           67.25703816002255,
           67.54117650822737,
           67.81772398691348,
           68.09004174533861,
           68.36083518156298,
           68.63235606271903,
           68.92425716635431,
           69.21650923342435,
           69.50616165253697,
           69.79132847973112,
           70.06257863076472,
           70.2842288348636,
           70.34999999999998
          ],
          [
           63.874231690225805,
           64.67690079564018,
           65.23608126050308,
           65.77048635906095,
           66.20662732786371,
           66.58269869184689,
           66.92015667605673,
           67.23199738995625,
           67.52669892412418,
           67.81015350790904,
           68.0866993285104,
           68.35971024651818,
           68.63194967671458,
           68.90578366456249,
           69.20151795169352,
           69.49905116887506,
           69.79588849145938,
           70.0910739642952,
           70.37682957097275,
           70.6197558666309,
           70.69999999999975
          ],
          [
           64.20357778117176,
           64.98474069400665,
           65.53035556956345,
           66.05613188050968,
           66.48607490931971,
           66.85759217762762,
           67.19170578796488,
           67.50115636254134,
           67.7942699378208,
           68.07685397329558,
           68.35321190643548,
           68.62672654878014,
           68.90021596580937,
           69.1761575583751,
           69.47550440422422,
           69.7780900063191,
           70.0818893648752,
           70.38692336635157,
           70.6872395563503,
           70.95248765980972,
           71.04999999999683
          ],
          [
           64.53364241537088,
           65.2924826332627,
           65.82401257373006,
           66.34079162117865,
           66.76424101976534,
           67.13095304425524,
           67.4614991905536,
           67.76835397561348,
           68.05968393684468,
           68.34120609849256,
           68.61718447345392,
           68.89100666369762,
           69.1655414606537,
           69.4433738568287,
           69.7460959289017,
           70.0534814901233,
           70.36398521820304,
           70.67864317754362,
           70.99348488604292,
           71.2819799362804,
           71.39999999996492
          ],
          [
           64.86442194220251,
           65.60009490167042,
           66.11700790954285,
           66.62441431032607,
           67.04106963262387,
           67.40272152118358,
           67.72947375027721,
           68.0335237094142,
           68.32287068428397,
           68.60313531410588,
           68.87853719732726,
           69.15246416415707,
           69.42783124130054,
           69.70732638972957,
           70.01316950751718,
           70.3250785397126,
           70.64199318124844,
           70.96599345508957,
           71.29522721388425,
           71.60773974336735,
           71.74999999965097
          ],
          [
           65.195906579178,
           65.90753955232678,
           66.40929159364617,
           66.90694361028265,
           67.31650015895183,
           67.67283371808466,
           67.99556259744934,
           68.29659564028915,
           68.58375682795753,
           68.86256418696638,
           69.1371876008339,
           69.41101016558017,
           69.68698808298733,
           69.96790678636259,
           70.27659985410388,
           70.59273151377356,
           70.91572700748713,
           71.24872855906409,
           71.59211472989486,
           71.92922492665829,
           72.09999999688202
          ],
          [
           65.52807889420089,
           66.21477133278358,
           66.7008072667245,
           67.18831754487017,
           67.59046700939409,
           67.94122128687354,
           68.2596948659308,
           68.55749624299835,
           68.84226575548578,
           69.11941232204236,
           69.39305050797465,
           69.66655331725445,
           69.94291249749557,
           70.22500457761083,
           70.53625959834625,
           70.8562885162516,
           71.18499758169148,
           71.52659802041401,
           71.88378366789034,
           72.24584477516959,
           72.4499999750405
          ],
          [
           65.86091193559673,
           66.52173642720109,
           66.99149133257387,
           67.4684678621993,
           67.86289911481082,
           68.20781105824078,
           68.52179541814318,
           68.81614818610842,
           69.09831744831999,
           69.37359626806916,
           69.6460379980862,
           69.91899980565591,
           70.19550279096897,
           70.47850732006037,
           70.79201949953463,
           71.11559574720924,
           71.44961349994225,
           71.7993475464666,
           72.16986016048435,
           72.5569620630987,
           72.79999982133687
          ],
          [
           66.1943669267678,
           66.82837097854645,
           67.28127197891479,
           67.74731932567775,
           68.13371940310005,
           68.47252465219704,
           68.7817845560146,
           69.07247012170502,
           69.35182833634023,
           69.62502942873985,
           69.89605936986442,
           70.16825337188872,
           70.44465514043063,
           70.72830074445508,
           71.04374869370446,
           71.37049790159172,
           71.7093817257664,
           72.06672016955237,
           72.44996245840406,
           72.86189670058634,
           73.14999885875685
          ],
          [
           66.5283904231664,
           67.13459935363444,
           67.57006806564982,
           68.02478892716056,
           68.40284423017505,
           68.73527806265544,
           69.03957771897471,
           69.32637647113026,
           69.60271115504956,
           69.87362198166346,
           70.14302111761184,
           70.41421534563128,
           70.69026369145153,
           70.9742689310169,
           71.29131497667194,
           71.62083861887146,
           71.96410832571732,
           72.32845754290958,
           72.72370352537644,
           73.1599311796656,
           73.4999935074005
          ],
          [
           66.86291080654973,
           67.44033210903544,
           67.85778786573339,
           68.30078501661689,
           68.67018276375924,
           68.99598121679648,
           69.29508517077248,
           69.57777720902328,
           69.8508748078807,
           70.11928080771261,
           70.38682692237053,
           70.6567846982594,
           70.9322206796391,
           71.21629451428723,
           71.53458512572136,
           71.8664609864044,
           72.213599287152,
           72.5843013862347,
           72.99069401281685,
           73.45031795889103,
           73.84996716195212
          ],
          [
           67.19783396525452,
           67.74546361147743,
           68.14432764390352,
           68.57520634361994,
           68.93563631971652,
           69.25453751092707,
           69.54821167771897,
           69.82657764863494,
           70.09622423670552,
           70.36190943385171,
           70.62737766098101,
           70.895858118116,
           71.17041657883081,
           71.45425892026765,
           71.77342526270246,
           72.10720809911263,
           72.45766142024215,
           72.83399508106581,
           73.25054561011841,
           73.73228886970168,
           74.19985257321582
          ],
          [
           67.53303798029796,
           68.04986926307592,
           68.4295700595969,
           68.8479410075893,
           69.19909765215453,
           69.51084332582269,
           69.79885618199404,
           70.07267823221977,
           70.33866030430187,
           70.60140799306588,
           70.86457143652193,
           71.13133011120748,
           71.40474027908954,
           71.68804263873744,
           72.00770126125016,
           72.34292367780091,
           72.69610334536357,
           73.07728541361617,
           73.50287475651592,
           74.0050665490691,
           74.54941321149511
          ],
          [
           67.86836660758922,
           68.35340228070336,
           68.71338238293097,
           69.11886531628238,
           69.46045020065226,
           69.764787526196,
           70.04691147493565,
           70.31597433129662,
           70.57807969329696,
           70.83767320559758,
           71.09830363402865,
           71.36309313092602,
           71.63507929779514,
           71.91752553369004,
           72.23727920073212,
           72.57345274800028,
           72.9287365659259,
           73.31392445969996,
           73.74730668935348,
           74.26787780742796,
           74.8979310100851
          ],
          [
           68.20362132088547,
           68.6558899818611,
           68.99561451738337,
           69.38784255586691,
           69.71956730082843,
           70.01625095104602,
           70.29226387678938,
           70.55635606272973,
           70.81437482697196,
           71.07059838634257,
           71.32846700585624,
           71.59103774071357,
           71.86132002730182,
           72.14258719485068,
           72.46202586934729,
           72.79864238069794,
           73.15537662541618,
           73.5436716030124,
           73.98347979126898,
           74.5199687309026,
           75.2435383421131
          ],
          [
           68.53855166676873,
           68.9571295392187,
           69.27609683064131,
           69.6547216814097,
           69.97631136826796,
           70.26510590429217,
           70.53479293127347,
           70.79370812792897,
           71.04743381828641,
           71.30007348395384,
           71.55495179153681,
           71.81505281389015,
           72.08334802277219,
           72.3631073332008,
           72.68180931852956,
           73.01834249564209,
           73.37584434592218,
           73.76629567425445,
           74.21105018555838,
           74.76062119684912,
           75.58211293825838
          ],
          [
           68.87284369661745,
           69.25688318639186,
           69.55463780720055,
           69.91933594425593,
           70.23053307075335,
           70.51121565836945,
           70.77437112553906,
           71.02790968400717,
           71.27714045455193,
           71.52598515794156,
           71.77764587746805,
           72.03502577514887,
           72.30104833388971,
           72.57896622332385,
           72.89649947043517,
           73.23240672708852,
           73.58996714366708,
           73.98157719446053,
           74.42969651512027,
           74.98917035802346,
           75.9060336661193
          ],
          [
           69.20610630573631,
           69.55487289385357,
           69.83102155410224,
           70.18150148308573,
           70.48207051001846,
           70.75443398743155,
           71.01086364870056,
           71.25883425746385,
           71.50337422634723,
           71.7482169008224,
           71.99643500224302,
           72.25084288845866,
           72.51430588417622,
           72.79004519518938,
           73.10596877979785,
           73.44069335086755,
           73.79758041512173,
           74.18931070144532,
           74.63912482634186,
           75.20502253133137,
           76.20373420228468
          ],
          [
           69.53785546460128,
           69.85077459308224,
           70.10500521636938,
           70.44101591897225,
           70.73074844203441,
           70.99460475153145,
           71.24412820507948,
           71.48634971287052,
           71.72601041049333,
           71.96664921314031,
           72.2112030138666,
           72.46238959628742,
           72.7230059015791,
           72.9962271776846,
           73.31009295080167,
           73.64306627048433,
           73.99852898506938,
           74.38930713361019,
           74.83907346559741,
           75.40767282162633,
           76.46132005652399
          ],
          [
           69.86749662693342,
           70.14421211761363,
           70.37631639299514,
           70.69765701204182,
           70.97637757429263,
           71.23156155863558,
           71.47401490161938,
           71.71031829107775,
           71.9449202181642,
           72.18115983991646,
           72.42183218547154,
           72.66955091513779,
           72.92703440381825,
           73.19739729576801,
           73.50875170883356,
           73.83939605861055,
           74.19266860559358,
           74.58139624053979,
           75.02931788331854,
           75.59672172979431,
           76.66666371074524
          ],
          [
           70.19430611658694,
           70.43475116072034,
           70.64465068929584,
           70.95118145868511,
           71.21875398968541,
           71.46512753752589,
           71.70036623252395,
           71.93059673358468,
           72.15997102044042,
           72.39162407774529,
           72.62820359640757,
           72.87221189234484,
           73.12627874167332,
           73.39344352253603,
           73.70182962601697,
           74.0295610487789,
           74.379867492367,
           74.76542898500904,
           75.20967522957474,
           75.77188994786542,
           76.8143579666494
          ],
          [
           70.51741310931432,
           70.72189372861925,
           70.90966959788038,
           71.20132393365873,
           71.45765875923783,
           71.69511526139001,
           71.9230171879135,
           72.14703651180795,
           72.37102666474169,
           72.59791516227502,
           72.83019758568457,
           73.0702581288772,
           73.32062820291276,
           73.58425738673787,
           73.8892169982845,
           74.21344847035246,
           74.56000788187743,
           74.94127989636712,
           75.38000861654618,
           75.93303054163562,
           76.90840275120462
          ],
          [
           70.83578498966287,
           71.00507379725872,
           71.17099896761891,
           71.44779651016555,
           71.69285781964811,
           71.9213268688894,
           72.14179551698177,
           72.35948418191556,
           72.57794789649942,
           72.7999047461193,
           73.02769428464762,
           73.2635763724738,
           73.50997467889064,
           73.76973473532809,
           74.07081077040668,
           74.39095561791825,
           74.73298759038819,
           75.10884933096237,
           75.54023091798435,
           76.080137770662,
           76.96054764434484
          ],
          [
           71.14822033432506,
           71.2836551487919,
           71.42822839418778,
           71.6902886214045,
           71.92410220545993,
           72.14355443622186,
           72.3565221794575,
           72.56778188745497,
           72.78059290101842,
           72.99746347725207,
           73.22057423538475,
           73.45205518478794,
           73.6942133949322,
           73.94977654948838,
           74.24651550385482,
           74.56199104416845,
           74.89872155256882,
           75.26806559153809,
           75.69030797453536,
           76.21335190059753,
           76.98536793539627
          ],
          [
           71.45335529418392,
           71.55693263673436,
           71.68091193898867,
           71.92846775597675,
           72.15112873825959,
           72.36158065940522,
           72.56701202170817,
           72.77176803294736,
           72.97881798056444,
           73.19046168752939,
           73.40871910064257,
           73.6355856852501,
           73.87324370446231,
           74.12428981116877,
           74.41624438063727,
           74.72647576311175,
           75.05714331493569,
           75.41888685460727,
           75.83026107737285,
           76.33295952334983,
           76.99538547272815
          ],
          [
           71.7496901093089,
           71.8241383383494,
           71.92857064144751,
           72.1619811019012,
           72.37366128442403,
           72.57517990966525,
           72.77307471501516,
           72.97127815162432,
           73.17247838111078,
           73.37877020004163,
           73.59201246987527,
           73.81406237305517,
           74.0469699453781,
           74.29318841558157,
           74.5799202343261,
           74.8843444481513,
           75.20820645662334,
           75.56130285296688,
           75.96016861156195,
           76.43938911100793,
           76.99877670879675
          ],
          [
           72.0356418809667,
           72.08445409012755,
           72.17069731184492,
           72.39045836270317,
           72.59141269575399,
           72.78411972508086,
           72.97451599271767,
           73.16614598917364,
           73.36142928166214,
           73.56226126239581,
           73.77034076439804,
           73.9873840269783,
           74.21530235540561,
           74.45639412323293,
           74.73747659740582,
           75.03554660722986,
           75.3518859076949,
           75.69533626000465,
           76.08016675536427,
           76.53320177890606,
           76.99973029600797
          ],
          [
           72.30962636431414,
           72.3370316262282,
           72.40676405061339,
           72.61351595507224,
           72.80408754026463,
           72.98816279693739,
           73.17113921928934,
           73.35620482232815,
           73.54552695642252,
           73.74080961062835,
           73.94359424238634,
           74.15545468059707,
           74.37815804110078,
           74.61383754300746,
           74.88885875186942,
           75.18004771496345,
           75.48817913334096,
           75.82104372354681,
           76.1904491524522,
           76.61507750540693,
           76.99995103460728
          ],
          [
           72.57016482623935,
           72.58102081391627,
           72.63623280584778,
           72.83076275097471,
           73.01138570957981,
           73.18706949785599,
           73.3627473171557,
           73.54128902595139,
           73.72463011605772,
           73.91429366513809,
           74.11166810159526,
           74.31818466791731,
           74.5354619927634,
           74.76545913555884,
           75.03402476771447,
           75.31783027955223,
           75.61710715107316,
           75.93851649992996,
           76.29126550056189,
           76.6857973305813,
           76.99999274761602
          ],
          [
           72.81600298911715,
           72.81560524506159,
           72.85856903012595,
           73.04180743895961,
           73.21300695115713,
           73.38060097909846,
           73.5491450654225,
           73.72123589457561,
           73.89860142873903,
           74.08259685571468,
           74.27446367413711,
           74.47549173137105,
           74.68714813485266,
           74.91121022385134,
           75.1729465117273,
           75.44889482039291,
           75.73871534755955,
           76.0478806439499,
           76.38291903193272,
           76.74622230999887,
           76.99999913141241
          ],
          [
           73.04622109618596,
           73.04004281063564,
           73.07325812610733,
           73.246267445081,
           73.40865631558516,
           73.56852283535457,
           73.73014176812222,
           73.89588771386974,
           74.06730921442491,
           74.24560906738111,
           74.43188970345278,
           74.62730218070683,
           74.83316039857603,
           75.05105399521142,
           75.30561060678572,
           75.57326073084869,
           75.85307406224615,
           76.14929671747387,
           76.46576289700758,
           76.79727021011297,
           76.99999991659217
          ],
          [
           73.26031176270558,
           73.25370720463347,
           73.27982390658181,
           73.44377917694908,
           73.59805043156206,
           73.75060929658494,
           73.9055542679535,
           74.06509406420358,
           74.23062929694436,
           74.40322819240652,
           74.58386368879708,
           74.77355208749191,
           74.97345380024854,
           75.18496647677637,
           75.43201931996953,
           75.69096699970473,
           75.9602789065224,
           76.24295898884006,
           76.54019550193385,
           76.83989107737389,
           76.99999999363033
          ],
          [
           73.45820838880937,
           73.4561251229641,
           73.47784781022727,
           73.63400915037172,
           73.78092442784293,
           73.92664785934024,
           74.0752102552691,
           74.22871432258245,
           74.38844698806069,
           74.55536176661215,
           74.73031327725624,
           74.91418849591156,
           75.10799550590303,
           75.31293746388603,
           75.55219135618194,
           75.80207276460223,
           76.06045079005636,
           76.32909410664182,
           76.60665489066102,
           76.87504287841746,
           76.99999999961618
          ],
          [
           73.64025990087846,
           73.64700380071912,
           73.66698721917481,
           73.81666535574311,
           73.95703922115337,
           74.09644421749347,
           74.23895179255521,
           74.38662031139924,
           74.54065916619919,
           74.70192866025222,
           74.87117767772199,
           75.04917062644718,
           75.23676585961996,
           75.43497137889446,
           75.6661625328992,
           75.90665767134787,
           76.15373563015014,
           76.40795924490152,
           76.66561230180538,
           76.90366838494988,
           76.99999999998188
          ],
          [
           73.80716169879918,
           73.82624475117858,
           73.84699104225263,
           73.99150806056144,
           74.12618879533119,
           74.2598272996539,
           74.3966389440742,
           74.5386990237976,
           74.68717640054331,
           74.84286078570187,
           75.00640906564888,
           75.17847104506345,
           75.35975935032506,
           75.55108803624054,
           75.77398631123381,
           76.00482201457731,
           76.24030372559696,
           76.47983973163943,
           76.71756506667194,
           76.92667436466185,
           76.99999999999933
          ],
          [
           73.95986173799727,
           73.99394191916188,
           74.0177108538733,
           74.15835916808868,
           74.28820702666567,
           74.41665417464263,
           74.54815337185562,
           74.6848553375394,
           74.82792505962314,
           74.97810477647076,
           75.13597394218897,
           75.30207676700937,
           75.47698548958671,
           75.66132328858643,
           75.87573415887763,
           76.096686637922,
           76.32034878353849,
           76.545046188943,
           76.76302904555013,
           76.9449139483722,
           76.99999999999999
          ],
          [
           74.09946198467352,
           74.15036525474466,
           74.17910633565722,
           74.31710929404277,
           74.44297358073749,
           74.5668145552593,
           74.6934017366334,
           74.82501461408009,
           74.96284933343487,
           75.10762358535348,
           75.25985440687053,
           75.41999026154718,
           75.58846957146383,
           75.7657295285883,
           75.97149572181868,
           76.18239257566177,
           76.39408659612526,
           76.60391122920865,
           76.80253082242048,
           76.95917279189906,
           77
          ],
          [
           74.22713067255371,
           74.29593309064612,
           74.33124448242253,
           74.46772189527474,
           74.59041843022399,
           74.71023462173525,
           74.83231872964953,
           74.95912506925208,
           75.09191309077458,
           75.23139794457447,
           75.37804929985175,
           75.53223032220421,
           75.694253284951,
           75.86437602157338,
           76.06137878412005,
           76.26210042286134,
           76.46175337317959,
           76.65678576850385,
           76.83659989162608,
           76.97015936369426,
           77
          ],
          [
           74.34403359392223,
           74.43117802757885,
           74.4742928506908,
           74.61023406851783,
           74.73052462596198,
           74.84687990520135,
           74.96486956200317,
           75.08715979861896,
           75.21510149009112,
           75.34942762835638,
           75.49057516843223,
           75.63883276682246,
           75.79439515025962,
           75.95734904620674,
           76.14550899857777,
           76.33598942713996,
           76.52360374725906,
           76.70403503313881,
           76.86576107249077,
           76.97849939437144,
           77
          ],
          [
           74.45128627903765,
           74.55671112214857,
           74.60850786005264,
           74.7447539864892,
           74.86332908864352,
           74.97675701985435,
           75.09105175467167,
           75.20911834584521,
           75.33242226383108,
           75.46173245912132,
           75.59746701338464,
           75.73985093304884,
           75.8889707522467,
           76.04475182323799,
           76.22402937574846,
           76.40425630238433,
           76.57990847813045,
           76.74603434865617,
           76.89052737860669,
           76.98473425015699,
           77
          ],
          [
           74.54992482754977,
           74.67318829772577,
           74.73421965275526,
           74.87145528853128,
           74.98892135818994,
           75.09991410706576,
           75.21089610477094,
           75.32502771716362,
           75.44390660367984,
           75.56835300303075,
           75.698778774116,
           75.83535593817803,
           75.97807274787645,
           76.1267042166616,
           76.29709952460561,
           76.46711377267616,
           76.63095189422103,
           76.78316481068597,
           76.91139354767742,
           76.98932276357047,
           77
          ],
          [
           74.6408913465352,
           74.78128154645327,
           74.85181520230017,
           74.99056902999939,
           75.10744041651463,
           75.21643994735855,
           75.32446674999173,
           75.43494276894853,
           75.54960958746591,
           75.669350908998,
           75.79458351784214,
           75.92543667752165,
           76.06181062969512,
           76.2033421970628,
           76.36489464479271,
           76.52478886317408,
           76.67702911857668,
           76.81580894369483,
           76.92883040636772,
           76.9926458892068,
           77
          ],
          [
           74.72502972562098,
           74.88165612227593,
           74.96172125596063,
           75.10237397343403,
           75.21906985944429,
           75.32646179527168,
           75.43186030909146,
           75.53894592701045,
           75.64961010730079,
           75.76480885751053,
           75.88497330679623,
           76.01019954267372,
           76.14031023383782,
           76.27481706342228,
           76.42760427787789,
           76.57752096329013,
           76.71844313566285,
           76.84434645597977,
           76.94328020439282,
           76.99501345965164,
           77
          ],
          [
           74.80308807837272,
           74.97495383489105,
           75.06438838346469,
           75.20718605845249,
           75.32403181193953,
           75.43014208455855,
           75.53320413575841,
           75.63714623284366,
           75.74401028158411,
           75.85483010100717,
           75.97005872867297,
           76.08976784994454,
           76.2137129888504,
           76.34129442698583,
           76.48543083285736,
           76.62555969580768,
           76.75550176242908,
           76.86915019693633,
           76.95515300562373,
           76.99667229645036,
           77
          ],
          [
           74.87572505070817,
           75.06178184849304,
           75.16027699437954,
           75.30534782808724,
           75.42258004388952,
           75.52767422514003,
           75.62865377930503,
           75.72967775018115,
           75.83293435902047,
           75.93953759519678,
           76.04996808844518,
           76.16428097943111,
           76.28217491026753,
           76.40295296865456,
           76.53858790903422,
           76.66916263313117,
           76.78851459191912,
           76.89058241557944,
           76.96482417435138,
           76.99781497548591,
           77
          ],
          [
           74.94351803702148,
           75.14270603817644,
           75.2498457779936,
           75.39721844890832,
           75.51499274962981,
           75.61927776055634,
           75.7183897921813,
           75.81669740100288,
           75.91652714856835,
           76.01907273929088,
           76.12484627357273,
           76.23389323611823,
           76.34586535499261,
           76.45998298931387,
           76.58729844687869,
           76.70859290817351,
           76.81778997993439,
           76.9089914077339,
           76.97263294536583,
           76.99858864060074,
           77
          ],
          [
           75.00697202776801,
           75.21824786852315,
           75.33354267722223,
           75.48316478047659,
           75.60156541115543,
           75.7051931720467,
           75.80261405649225,
           75.89838233004103,
           75.99495203295366,
           76.09359376117914,
           76.19485331848173,
           76.29877245537516,
           76.40496555854345,
           76.51258478014817,
           76.6317927441178,
           76.74411677204623,
           76.84363214458368,
           76.92470862378758,
           76.9788820204336,
           76.9991033857589,
           77
          ],
          [
           75.06652831525051,
           75.2888838314777,
           75.41179826162963,
           75.56355376308886,
           75.68260408761515,
           75.78567660449612,
           75.88154581712404,
           75.97492691807706,
           76.06838864291507,
           76.16327379962833,
           76.2601627070044,
           76.35909838548842,
           76.45966698659566,
           76.56096684681994,
           76.67230637967589,
           76.77600115336739,
           76.86633844489222,
           76.93804629025463,
           76.98383809401527,
           76.99943986579692,
           77
          ],
          [
           75.12257262989542,
           75.35504663116748,
           75.4850212149602,
           75.63874622801234,
           75.75841937913447,
           75.86099475591308,
           75.95541760779207,
           76.04653957538825,
           76.13703028309008,
           76.22829874833701,
           76.32095946226538,
           76.41506088872892,
           76.51016953941404,
           76.60534402697739,
           76.70907809182425,
           76.80451127440371,
           76.88619689810204,
           76.94929557770466,
           76.98773317994191,
           76.99965593214716,
           77
          ],
          [
           75.17544250372605,
           75.41712747579771,
           75.55359558366125,
           75.70909210602193,
           75.82932121680417,
           75.93142012362601,
           76.0244712405667,
           76.11343944736994,
           76.20108120747729,
           76.28886493517507,
           76.37743808148481,
           76.46685800926502,
           76.5566796532259,
           76.64593554452468,
           76.74234765872198,
           76.82990837732034,
           76.90348398618828,
           76.95872532611018,
           76.99076658972771,
           76.99979220998074,
           77
          ],
          [
           75.22543379591514,
           75.47547899913633,
           75.61787942240969,
           75.77492692204726,
           75.89561454432496,
           75.99722674523781,
           76.08895400295435,
           76.17585315568307,
           76.26075384259788,
           76.34517671368604,
           76.42980037780603,
           76.51469396053947,
           76.5994083459865,
           76.68296304616355,
           76.77235382928872,
           76.85244760958147,
           76.9184627909329,
           76.96658131762439,
           76.99310740278138,
           76.99987662894563,
           77
          ],
          [
           75.27280639533551,
           75.53041847173992,
           75.67820449889442,
           75.83656941276035,
           75.9575958871039,
           76.05868651774796,
           76.14911517381017,
           76.23401168221974,
           76.31626605042452,
           76.39744404291757,
           76.47825329232909,
           76.55877708627315,
           76.6385692561059,
           76.71664866575719,
           76.79933235003051,
           76.8723761112488,
           76.9313814842788,
           76.97308606744733,
           76.99489726860705,
           76.99992798781346,
           77
          ],
          [
           75.31778915754398,
           75.58223107102668,
           75.73487676545997,
           75.89432008274994,
           76.01555075402541,
           76.11606612946267,
           76.20520293451565,
           76.28814748224656,
           76.36783851203508,
           76.44588012632812,
           76.52300673715104,
           76.59931784803132,
           76.67437672151189,
           76.74721316007977,
           76.8235141291783,
           76.88993133892393,
           76.94247218736889,
           76.9784390868224,
           76.9962533899813,
           76.99995867471853,
           77
          ],
          [
           75.36058415290069,
           75.63117306135618,
           75.78817735720818,
           75.94846051514493,
           76.06975178489859,
           76.16962459953193,
           76.25746171853913,
           76.33849188985576,
           76.41569229831525,
           76.49069917170398,
           76.56427152478616,
           76.63652688849575,
           76.70704394305928,
           76.77487415565334,
           76.8451235735628,
           76.90533965185324,
           76.95195019842714,
           76.98281755913158,
           76.99727155224943,
           76.9999766830057,
           77
          ],
          [
           75.40137030800543,
           75.6774747946391,
           75.83836392695801,
           75.99925326639226,
           76.12045753999409,
           76.21961139039485,
           76.30613001326425,
           76.38527285566245,
           76.46004667752538,
           76.53211432275181,
           76.60225743149984,
           76.67061321364064,
           76.73678127106646,
           76.79984454091934,
           76.86437712642417,
           76.9188151758086,
           76.96001357719426,
           76.98637736102245,
           76.99802908513968,
           76.99998706332259,
           77
          ],
          [
           75.44030652039302,
           75.72134348344802,
           75.88567217284299,
           76.04694219607839,
           76.16791182354989,
           76.26626503879258,
           76.35143860429342,
           76.4287130353646,
           76.50111719270735,
           76.57033580042523,
           76.6371714326079,
           76.70178252945492,
           76.7637946470911,
           76.82233103133231,
           76.88148202629219,
           76.93055895035377,
           76.96684306263995,
           76.98925435566653,
           76.99858766756115,
           76.99999294122644,
           77
          ],
          [
           75.47753432023899,
           75.76296572653987,
           75.93031745252844,
           76.09175310662773,
           76.21234343704204,
           76.30981224006985,
           76.39360923481675,
           76.46902822956966,
           76.53911402602475,
           76.60556927916599,
           76.66921613748534,
           76.73023576030907,
           76.78828422544846,
           76.84253292754646,
           76.896635298668,
           76.94075835555259,
           76.97260229163666,
           76.99156588446358,
           76.9989959105799,
           76.99999621146888,
           77
          ],
          [
           75.51318014495403,
           75.80250978480794,
           75.97249640881637,
           76.13389459140551,
           76.25396626720605,
           76.35046731650155,
           76.43285364085497,
           76.50642616083192,
           76.57424065313809,
           76.6380145109995,
           76.69858844165907,
           76.7561677671598,
           76.81044319095537,
           76.86064107915885,
           76.91002298397022,
           76.9495868055606,
           76.97743827952964,
           76.99341238633565,
           76.99929167731484,
           76.99999799948573,
           77
          ],
          [
           75.54735728429839,
           75.8401276168398,
           76.01238855538658,
           76.17355901143479,
           76.29297962574411,
           76.38843200152124,
           76.46937291652641,
           76.54110556328672,
           76.60669277919278,
           76.66786419950843,
           76.72547840358718,
           76.7797662750905,
           76.83045678144649,
           76.87683705892529,
           76.92181959751238,
           76.95720368924623,
           76.98148211921918,
           76.99487907956414,
           76.9995041194671,
           76.99999896043832,
           77
          ],
          [
           75.58016754573468,
           75.87595668963272,
           76.05015778956145,
           76.21092353975448,
           76.32956877052527,
           76.42389547630798,
           76.5033571609931,
           76.57325555336749,
           76.63665753916756,
           76.69530311656499,
           76.75006834504755,
           76.80121101168224,
           76.84850151619393,
           76.89129254536672,
           76.93218781050778,
           76.96375453227239,
           76.98484985344919,
           76.99603764913972,
           76.99965542768165,
           76.99999946823593,
           77
          ]
         ]
        }
       ],
       "layout": {
        "font": {
         "family": "Courier New, monospace",
         "size": 10
        },
        "height": 1000,
        "margin": {
         "b": 65,
         "l": 65,
         "r": 50,
         "t": 90
        },
        "scene": {
         "xaxis": {
          "tickformat": ".1f",
          "title": {
           "text": "Time to Maturity (yrs)"
          }
         },
         "yaxis": {
          "tickformat": ".f",
          "title": {
           "text": "Underlying"
          }
         },
         "zaxis": {
          "tickformat": ".f",
          "title": {
           "text": "Discount Certificate Price"
          }
         }
        },
        "template": {
         "data": {
          "bar": [
           {
            "error_x": {
             "color": "#2a3f5f"
            },
            "error_y": {
             "color": "#2a3f5f"
            },
            "marker": {
             "line": {
              "color": "#E5ECF6",
              "width": 0.5
             },
             "pattern": {
              "fillmode": "overlay",
              "size": 10,
              "solidity": 0.2
             }
            },
            "type": "bar"
           }
          ],
          "barpolar": [
           {
            "marker": {
             "line": {
              "color": "#E5ECF6",
              "width": 0.5
             },
             "pattern": {
              "fillmode": "overlay",
              "size": 10,
              "solidity": 0.2
             }
            },
            "type": "barpolar"
           }
          ],
          "carpet": [
           {
            "aaxis": {
             "endlinecolor": "#2a3f5f",
             "gridcolor": "white",
             "linecolor": "white",
             "minorgridcolor": "white",
             "startlinecolor": "#2a3f5f"
            },
            "baxis": {
             "endlinecolor": "#2a3f5f",
             "gridcolor": "white",
             "linecolor": "white",
             "minorgridcolor": "white",
             "startlinecolor": "#2a3f5f"
            },
            "type": "carpet"
           }
          ],
          "choropleth": [
           {
            "colorbar": {
             "outlinewidth": 0,
             "ticks": ""
            },
            "type": "choropleth"
           }
          ],
          "contour": [
           {
            "colorbar": {
             "outlinewidth": 0,
             "ticks": ""
            },
            "colorscale": [
             [
              0,
              "#0d0887"
             ],
             [
              0.1111111111111111,
              "#46039f"
             ],
             [
              0.2222222222222222,
              "#7201a8"
             ],
             [
              0.3333333333333333,
              "#9c179e"
             ],
             [
              0.4444444444444444,
              "#bd3786"
             ],
             [
              0.5555555555555556,
              "#d8576b"
             ],
             [
              0.6666666666666666,
              "#ed7953"
             ],
             [
              0.7777777777777778,
              "#fb9f3a"
             ],
             [
              0.8888888888888888,
              "#fdca26"
             ],
             [
              1,
              "#f0f921"
             ]
            ],
            "type": "contour"
           }
          ],
          "contourcarpet": [
           {
            "colorbar": {
             "outlinewidth": 0,
             "ticks": ""
            },
            "type": "contourcarpet"
           }
          ],
          "heatmap": [
           {
            "colorbar": {
             "outlinewidth": 0,
             "ticks": ""
            },
            "colorscale": [
             [
              0,
              "#0d0887"
             ],
             [
              0.1111111111111111,
              "#46039f"
             ],
             [
              0.2222222222222222,
              "#7201a8"
             ],
             [
              0.3333333333333333,
              "#9c179e"
             ],
             [
              0.4444444444444444,
              "#bd3786"
             ],
             [
              0.5555555555555556,
              "#d8576b"
             ],
             [
              0.6666666666666666,
              "#ed7953"
             ],
             [
              0.7777777777777778,
              "#fb9f3a"
             ],
             [
              0.8888888888888888,
              "#fdca26"
             ],
             [
              1,
              "#f0f921"
             ]
            ],
            "type": "heatmap"
           }
          ],
          "heatmapgl": [
           {
            "colorbar": {
             "outlinewidth": 0,
             "ticks": ""
            },
            "colorscale": [
             [
              0,
              "#0d0887"
             ],
             [
              0.1111111111111111,
              "#46039f"
             ],
             [
              0.2222222222222222,
              "#7201a8"
             ],
             [
              0.3333333333333333,
              "#9c179e"
             ],
             [
              0.4444444444444444,
              "#bd3786"
             ],
             [
              0.5555555555555556,
              "#d8576b"
             ],
             [
              0.6666666666666666,
              "#ed7953"
             ],
             [
              0.7777777777777778,
              "#fb9f3a"
             ],
             [
              0.8888888888888888,
              "#fdca26"
             ],
             [
              1,
              "#f0f921"
             ]
            ],
            "type": "heatmapgl"
           }
          ],
          "histogram": [
           {
            "marker": {
             "pattern": {
              "fillmode": "overlay",
              "size": 10,
              "solidity": 0.2
             }
            },
            "type": "histogram"
           }
          ],
          "histogram2d": [
           {
            "colorbar": {
             "outlinewidth": 0,
             "ticks": ""
            },
            "colorscale": [
             [
              0,
              "#0d0887"
             ],
             [
              0.1111111111111111,
              "#46039f"
             ],
             [
              0.2222222222222222,
              "#7201a8"
             ],
             [
              0.3333333333333333,
              "#9c179e"
             ],
             [
              0.4444444444444444,
              "#bd3786"
             ],
             [
              0.5555555555555556,
              "#d8576b"
             ],
             [
              0.6666666666666666,
              "#ed7953"
             ],
             [
              0.7777777777777778,
              "#fb9f3a"
             ],
             [
              0.8888888888888888,
              "#fdca26"
             ],
             [
              1,
              "#f0f921"
             ]
            ],
            "type": "histogram2d"
           }
          ],
          "histogram2dcontour": [
           {
            "colorbar": {
             "outlinewidth": 0,
             "ticks": ""
            },
            "colorscale": [
             [
              0,
              "#0d0887"
             ],
             [
              0.1111111111111111,
              "#46039f"
             ],
             [
              0.2222222222222222,
              "#7201a8"
             ],
             [
              0.3333333333333333,
              "#9c179e"
             ],
             [
              0.4444444444444444,
              "#bd3786"
             ],
             [
              0.5555555555555556,
              "#d8576b"
             ],
             [
              0.6666666666666666,
              "#ed7953"
             ],
             [
              0.7777777777777778,
              "#fb9f3a"
             ],
             [
              0.8888888888888888,
              "#fdca26"
             ],
             [
              1,
              "#f0f921"
             ]
            ],
            "type": "histogram2dcontour"
           }
          ],
          "mesh3d": [
           {
            "colorbar": {
             "outlinewidth": 0,
             "ticks": ""
            },
            "type": "mesh3d"
           }
          ],
          "parcoords": [
           {
            "line": {
             "colorbar": {
              "outlinewidth": 0,
              "ticks": ""
             }
            },
            "type": "parcoords"
           }
          ],
          "pie": [
           {
            "automargin": true,
            "type": "pie"
           }
          ],
          "scatter": [
           {
            "marker": {
             "colorbar": {
              "outlinewidth": 0,
              "ticks": ""
             }
            },
            "type": "scatter"
           }
          ],
          "scatter3d": [
           {
            "line": {
             "colorbar": {
              "outlinewidth": 0,
              "ticks": ""
             }
            },
            "marker": {
             "colorbar": {
              "outlinewidth": 0,
              "ticks": ""
             }
            },
            "type": "scatter3d"
           }
          ],
          "scattercarpet": [
           {
            "marker": {
             "colorbar": {
              "outlinewidth": 0,
              "ticks": ""
             }
            },
            "type": "scattercarpet"
           }
          ],
          "scattergeo": [
           {
            "marker": {
             "colorbar": {
              "outlinewidth": 0,
              "ticks": ""
             }
            },
            "type": "scattergeo"
           }
          ],
          "scattergl": [
           {
            "marker": {
             "colorbar": {
              "outlinewidth": 0,
              "ticks": ""
             }
            },
            "type": "scattergl"
           }
          ],
          "scattermapbox": [
           {
            "marker": {
             "colorbar": {
              "outlinewidth": 0,
              "ticks": ""
             }
            },
            "type": "scattermapbox"
           }
          ],
          "scatterpolar": [
           {
            "marker": {
             "colorbar": {
              "outlinewidth": 0,
              "ticks": ""
             }
            },
            "type": "scatterpolar"
           }
          ],
          "scatterpolargl": [
           {
            "marker": {
             "colorbar": {
              "outlinewidth": 0,
              "ticks": ""
             }
            },
            "type": "scatterpolargl"
           }
          ],
          "scatterternary": [
           {
            "marker": {
             "colorbar": {
              "outlinewidth": 0,
              "ticks": ""
             }
            },
            "type": "scatterternary"
           }
          ],
          "surface": [
           {
            "colorbar": {
             "outlinewidth": 0,
             "ticks": ""
            },
            "colorscale": [
             [
              0,
              "#0d0887"
             ],
             [
              0.1111111111111111,
              "#46039f"
             ],
             [
              0.2222222222222222,
              "#7201a8"
             ],
             [
              0.3333333333333333,
              "#9c179e"
             ],
             [
              0.4444444444444444,
              "#bd3786"
             ],
             [
              0.5555555555555556,
              "#d8576b"
             ],
             [
              0.6666666666666666,
              "#ed7953"
             ],
             [
              0.7777777777777778,
              "#fb9f3a"
             ],
             [
              0.8888888888888888,
              "#fdca26"
             ],
             [
              1,
              "#f0f921"
             ]
            ],
            "type": "surface"
           }
          ],
          "table": [
           {
            "cells": {
             "fill": {
              "color": "#EBF0F8"
             },
             "line": {
              "color": "white"
             }
            },
            "header": {
             "fill": {
              "color": "#C8D4E3"
             },
             "line": {
              "color": "white"
             }
            },
            "type": "table"
           }
          ]
         },
         "layout": {
          "annotationdefaults": {
           "arrowcolor": "#2a3f5f",
           "arrowhead": 0,
           "arrowwidth": 1
          },
          "autotypenumbers": "strict",
          "coloraxis": {
           "colorbar": {
            "outlinewidth": 0,
            "ticks": ""
           }
          },
          "colorscale": {
           "diverging": [
            [
             0,
             "#8e0152"
            ],
            [
             0.1,
             "#c51b7d"
            ],
            [
             0.2,
             "#de77ae"
            ],
            [
             0.3,
             "#f1b6da"
            ],
            [
             0.4,
             "#fde0ef"
            ],
            [
             0.5,
             "#f7f7f7"
            ],
            [
             0.6,
             "#e6f5d0"
            ],
            [
             0.7,
             "#b8e186"
            ],
            [
             0.8,
             "#7fbc41"
            ],
            [
             0.9,
             "#4d9221"
            ],
            [
             1,
             "#276419"
            ]
           ],
           "sequential": [
            [
             0,
             "#0d0887"
            ],
            [
             0.1111111111111111,
             "#46039f"
            ],
            [
             0.2222222222222222,
             "#7201a8"
            ],
            [
             0.3333333333333333,
             "#9c179e"
            ],
            [
             0.4444444444444444,
             "#bd3786"
            ],
            [
             0.5555555555555556,
             "#d8576b"
            ],
            [
             0.6666666666666666,
             "#ed7953"
            ],
            [
             0.7777777777777778,
             "#fb9f3a"
            ],
            [
             0.8888888888888888,
             "#fdca26"
            ],
            [
             1,
             "#f0f921"
            ]
           ],
           "sequentialminus": [
            [
             0,
             "#0d0887"
            ],
            [
             0.1111111111111111,
             "#46039f"
            ],
            [
             0.2222222222222222,
             "#7201a8"
            ],
            [
             0.3333333333333333,
             "#9c179e"
            ],
            [
             0.4444444444444444,
             "#bd3786"
            ],
            [
             0.5555555555555556,
             "#d8576b"
            ],
            [
             0.6666666666666666,
             "#ed7953"
            ],
            [
             0.7777777777777778,
             "#fb9f3a"
            ],
            [
             0.8888888888888888,
             "#fdca26"
            ],
            [
             1,
             "#f0f921"
            ]
           ]
          },
          "colorway": [
           "#636efa",
           "#EF553B",
           "#00cc96",
           "#ab63fa",
           "#FFA15A",
           "#19d3f3",
           "#FF6692",
           "#B6E880",
           "#FF97FF",
           "#FECB52"
          ],
          "font": {
           "color": "#2a3f5f"
          },
          "geo": {
           "bgcolor": "white",
           "lakecolor": "white",
           "landcolor": "#E5ECF6",
           "showlakes": true,
           "showland": true,
           "subunitcolor": "white"
          },
          "hoverlabel": {
           "align": "left"
          },
          "hovermode": "closest",
          "mapbox": {
           "style": "light"
          },
          "paper_bgcolor": "white",
          "plot_bgcolor": "#E5ECF6",
          "polar": {
           "angularaxis": {
            "gridcolor": "white",
            "linecolor": "white",
            "ticks": ""
           },
           "bgcolor": "#E5ECF6",
           "radialaxis": {
            "gridcolor": "white",
            "linecolor": "white",
            "ticks": ""
           }
          },
          "scene": {
           "xaxis": {
            "backgroundcolor": "#E5ECF6",
            "gridcolor": "white",
            "gridwidth": 2,
            "linecolor": "white",
            "showbackground": true,
            "ticks": "",
            "zerolinecolor": "white"
           },
           "yaxis": {
            "backgroundcolor": "#E5ECF6",
            "gridcolor": "white",
            "gridwidth": 2,
            "linecolor": "white",
            "showbackground": true,
            "ticks": "",
            "zerolinecolor": "white"
           },
           "zaxis": {
            "backgroundcolor": "#E5ECF6",
            "gridcolor": "white",
            "gridwidth": 2,
            "linecolor": "white",
            "showbackground": true,
            "ticks": "",
            "zerolinecolor": "white"
           }
          },
          "shapedefaults": {
           "line": {
            "color": "#2a3f5f"
           }
          },
          "ternary": {
           "aaxis": {
            "gridcolor": "white",
            "linecolor": "white",
            "ticks": ""
           },
           "baxis": {
            "gridcolor": "white",
            "linecolor": "white",
            "ticks": ""
           },
           "bgcolor": "#E5ECF6",
           "caxis": {
            "gridcolor": "white",
            "linecolor": "white",
            "ticks": ""
           }
          },
          "title": {
           "x": 0.05
          },
          "xaxis": {
           "automargin": true,
           "gridcolor": "white",
           "linecolor": "white",
           "ticks": "",
           "title": {
            "standoff": 15
           },
           "zerolinecolor": "white",
           "zerolinewidth": 2
          },
          "yaxis": {
           "automargin": true,
           "gridcolor": "white",
           "linecolor": "white",
           "ticks": "",
           "title": {
            "standoff": 15
           },
           "zerolinecolor": "white",
           "zerolinewidth": 2
          }
         }
        },
        "title": {
         "text": "<b>Dicount Certificate price (Cap = 77)</b>",
         "x": 0.5,
         "xanchor": "center",
         "y": 0.95,
         "yanchor": "top"
        },
        "width": 1000
       }
      }
     },
     "metadata": {},
     "output_type": "display_data"
    }
   ],
   "source": [
    "## surface plot:\n",
    "\n",
    "fwd_spots = np.linspace(S0*0.8, S0*1.3, 101)\n",
    "ttm = np.linspace(0.1, 1-1/365, 21)\n",
    "# ttm[0] = 0.001\n",
    "    \n",
    "dc_prices = []\n",
    "for i in range(len(fwd_spots)):\n",
    "    scp_per_mat = []\n",
    "    for j in range(len(ttm)):\n",
    "        scp_per_mat.append(B76OptionPricer('c', fwd_spots[i], K, r_dsc, ssvi_param.calc_implied_vol(ttm[j],fwd_spots[i]/cap ), T, ttm[j]))\n",
    "    dc_prices.append(fwd_spots[i]-scp_per_mat)\n",
    "\n",
    "\n",
    "fig_surf = go.Figure(data=[go.Surface(x=T-ttm, y=fwd_spots,z=dc_prices\n",
    "                        ,contours = {\"x\": {\"show\": True,\"size\": 0.1, \"color\":\"red\"},\n",
    "                                    #\"y\": {\"show\": True,\"size\": 0.1, \"color\":\"red\"},\n",
    "                                    }\n",
    "                        ,opacity = .75\n",
    "                        ,hovertemplate =\n",
    "                        'Underlying:  %{y: .1f}' +\n",
    "                        '<br>Maturity (yrs): %{x:.0}' +\n",
    "                        '<br>Price: %{z:.1f}<extra></extra>'\n",
    "                     ,colorscale = 'temps')\n",
    "                     ])\n",
    "\n",
    "fig_surf.update_layout(\n",
    "    title={\n",
    "        'text': \"<b>Dicount Certificate price (Cap = 77)</b>\",\n",
    "        'y': 0.95,\n",
    "        'x': 0.5,\n",
    "        'xanchor': 'center',\n",
    "        'yanchor': 'top'\n",
    "    }\n",
    "    # ,autosize=True\n",
    "    ,\n",
    "    width=1000,\n",
    "    height=1000,\n",
    "    scene=dict(xaxis_title='Time to Maturity (yrs)',\n",
    "               xaxis_tickformat='.1f',\n",
    "               # xaxis_autorange='reversed',\n",
    "               yaxis_title='Underlying',\n",
    "               yaxis_tickformat='.f', #'.2%'\n",
    "               zaxis_title='Discount Certificate Price',\n",
    "               zaxis_tickformat='.f'),\n",
    "    font=dict(family=\"Courier New, monospace\", size=10),\n",
    "    margin=dict(l=65, r=50, b=65, t=90))\n",
    "\n",
    "fig_surf.show()"
   ]
  },
  {
   "cell_type": "markdown",
   "metadata": {},
   "source": [
    "---"
   ]
  },
  {
   "cell_type": "markdown",
   "metadata": {},
   "source": [
    "# Discount Certificate Pro"
   ]
  },
  {
   "cell_type": "markdown",
   "metadata": {},
   "source": [
    "https://derinet.vontobel.ch/api/kid?isin=DE000VP2ERZ4&language=de"
   ]
  },
  {
   "cell_type": "code",
   "execution_count": 26,
   "metadata": {},
   "outputs": [
    {
     "data": {
      "application/vnd.plotly.v1+json": {
       "config": {
        "plotlyServerURL": "https://plot.ly"
       },
       "data": [
        {
         "mode": "lines",
         "name": "Payoff Underlying",
         "type": "scatter",
         "visible": "legendonly",
         "x": [
          15,
          16,
          17,
          18,
          19,
          20,
          21,
          22,
          23,
          24,
          25,
          26,
          27,
          28,
          29,
          30,
          31,
          32,
          33,
          34,
          35,
          36,
          37,
          38,
          39,
          40,
          41,
          42,
          43,
          44,
          45,
          46,
          47,
          48,
          49,
          50
         ],
         "xaxis": "x",
         "y": [
          15,
          16,
          17,
          18,
          19,
          20,
          21,
          22,
          23,
          24,
          25,
          26,
          27,
          28,
          29,
          30,
          31,
          32,
          33,
          34,
          35,
          36,
          37,
          38,
          39,
          40,
          41,
          42,
          43,
          44,
          45,
          46,
          47,
          48,
          49,
          50
         ],
         "yaxis": "y2"
        },
        {
         "mode": "markers",
         "name": "Payoff Certificate Protect",
         "type": "scatter",
         "visible": "legendonly",
         "x": [
          15,
          16,
          17,
          18,
          19,
          20,
          21,
          22,
          23,
          24,
          25,
          26,
          27,
          28,
          29,
          30,
          31,
          32,
          33,
          34,
          35,
          36,
          37,
          38,
          39,
          40,
          41,
          42,
          43,
          44,
          45,
          46,
          47,
          48,
          49,
          50
         ],
         "xaxis": "x",
         "y": [
          6,
          7,
          8,
          9,
          10,
          11,
          12,
          13,
          14,
          15,
          16,
          17,
          18,
          19,
          20,
          45,
          45,
          45,
          45,
          45,
          45,
          45,
          45,
          45,
          45,
          45,
          45,
          45,
          45,
          45,
          45,
          45,
          45,
          45,
          45,
          45
         ],
         "yaxis": "y2"
        },
        {
         "mode": "lines",
         "name": "PnL Underlying",
         "type": "scatter",
         "x": [
          15,
          16,
          17,
          18,
          19,
          20,
          21,
          22,
          23,
          24,
          25,
          26,
          27,
          28,
          29,
          30,
          31,
          32,
          33,
          34,
          35,
          36,
          37,
          38,
          39,
          40,
          41,
          42,
          43,
          44,
          45,
          46,
          47,
          48,
          49,
          50
         ],
         "y": [
          -14,
          -13,
          -12,
          -11,
          -10,
          -9,
          -8,
          -7,
          -6,
          -5,
          -4,
          -3,
          -2,
          -1,
          0,
          1,
          2,
          3,
          4,
          5,
          6,
          7,
          8,
          9,
          10,
          11,
          12,
          13,
          14,
          15,
          16,
          17,
          18,
          19,
          20,
          21
         ]
        },
        {
         "mode": "markers",
         "name": "PnL Discount Certificate Protect",
         "type": "scatter",
         "visible": "legendonly",
         "x": [
          15,
          16,
          17,
          18,
          19,
          20,
          21,
          22,
          23,
          24,
          25,
          26,
          27,
          28,
          29,
          30,
          31,
          32,
          33,
          34,
          35,
          36,
          37,
          38,
          39,
          40,
          41,
          42,
          43,
          44,
          45,
          46,
          47,
          48,
          49,
          50
         ],
         "y": [
          -23,
          -22,
          -21,
          -20,
          -19,
          -18,
          -17,
          -16,
          -15,
          -14,
          -13,
          -12,
          -11,
          -10,
          -9,
          16,
          16,
          16,
          16,
          16,
          16,
          16,
          16,
          16,
          16,
          16,
          16,
          16,
          16,
          16,
          16,
          16,
          16,
          16,
          16,
          16
         ]
        },
        {
         "mode": "lines+markers",
         "name": "PnL Embedded Short Call",
         "type": "scatter",
         "visible": "legendonly",
         "x": [
          15,
          16,
          17,
          18,
          19,
          20,
          21,
          22,
          23,
          24,
          25,
          26,
          27,
          28,
          29,
          30,
          31,
          32,
          33,
          34,
          35,
          36,
          37,
          38,
          39,
          40,
          41,
          42,
          43,
          44,
          45,
          46,
          47,
          48,
          49,
          50
         ],
         "y": [
          3.5,
          3.5,
          3.5,
          3.5,
          3.5,
          3.5,
          3.5,
          3.5,
          3.5,
          3.5,
          3.5,
          3.5,
          3.5,
          3.5,
          3.5,
          2.5,
          1.5,
          0.5,
          -0.5,
          -1.5,
          -2.5,
          -3.5,
          -4.5,
          -5.5,
          -6.5,
          -7.5,
          -8.5,
          -9.5,
          -10.5,
          -11.5,
          -12.5,
          -13.5,
          -14.5,
          -15.5,
          -16.5,
          -17.5
         ]
        },
        {
         "mode": "lines+markers",
         "name": "PnL Embedded Digital Long Call",
         "type": "scatter",
         "visible": "legendonly",
         "x": [
          15,
          16,
          17,
          18,
          19,
          20,
          21,
          22,
          23,
          24,
          25,
          26,
          27,
          28,
          29,
          30,
          31,
          32,
          33,
          34,
          35,
          36,
          37,
          38,
          39,
          40,
          41,
          42,
          43,
          44,
          45,
          46,
          47,
          48,
          49,
          50
         ],
         "y": [
          -12.5,
          -12.5,
          -12.5,
          -12.5,
          -12.5,
          -12.5,
          -12.5,
          -12.5,
          -12.5,
          -12.5,
          -12.5,
          -12.5,
          -12.5,
          -12.5,
          -12.5,
          12.5,
          12.5,
          12.5,
          12.5,
          12.5,
          12.5,
          12.5,
          12.5,
          12.5,
          12.5,
          12.5,
          12.5,
          12.5,
          12.5,
          12.5,
          12.5,
          12.5,
          12.5,
          12.5,
          12.5,
          12.5
         ]
        }
       ],
       "layout": {
        "annotations": [
         {
          "showarrow": false,
          "text": "S0",
          "x": 29,
          "xanchor": "left",
          "xref": "x",
          "y": 1,
          "yanchor": "top",
          "yref": "y domain"
         },
         {
          "showarrow": false,
          "text": "Kaufpreis DC",
          "x": 38,
          "xanchor": "left",
          "xref": "x",
          "y": 1,
          "yanchor": "top",
          "yref": "y domain"
         },
         {
          "showarrow": false,
          "text": "Barrier",
          "x": 29,
          "xanchor": "left",
          "xref": "x",
          "y": 1,
          "yanchor": "top",
          "yref": "y domain"
         }
        ],
        "shapes": [
         {
          "line": {
           "color": "black",
           "dash": "dash"
          },
          "type": "line",
          "x0": 29,
          "x1": 29,
          "xref": "x",
          "y0": 0,
          "y1": 1,
          "yref": "y domain"
         },
         {
          "line": {
           "color": "black",
           "dash": "dash"
          },
          "type": "line",
          "x0": 38,
          "x1": 38,
          "xref": "x",
          "y0": 0,
          "y1": 1,
          "yref": "y domain"
         },
         {
          "line": {
           "color": "black",
           "dash": "dash"
          },
          "type": "line",
          "x0": 29,
          "x1": 29,
          "xref": "x",
          "y0": 0,
          "y1": 1,
          "yref": "y domain"
         }
        ],
        "template": {
         "data": {
          "bar": [
           {
            "error_x": {
             "color": "#2a3f5f"
            },
            "error_y": {
             "color": "#2a3f5f"
            },
            "marker": {
             "line": {
              "color": "#E5ECF6",
              "width": 0.5
             },
             "pattern": {
              "fillmode": "overlay",
              "size": 10,
              "solidity": 0.2
             }
            },
            "type": "bar"
           }
          ],
          "barpolar": [
           {
            "marker": {
             "line": {
              "color": "#E5ECF6",
              "width": 0.5
             },
             "pattern": {
              "fillmode": "overlay",
              "size": 10,
              "solidity": 0.2
             }
            },
            "type": "barpolar"
           }
          ],
          "carpet": [
           {
            "aaxis": {
             "endlinecolor": "#2a3f5f",
             "gridcolor": "white",
             "linecolor": "white",
             "minorgridcolor": "white",
             "startlinecolor": "#2a3f5f"
            },
            "baxis": {
             "endlinecolor": "#2a3f5f",
             "gridcolor": "white",
             "linecolor": "white",
             "minorgridcolor": "white",
             "startlinecolor": "#2a3f5f"
            },
            "type": "carpet"
           }
          ],
          "choropleth": [
           {
            "colorbar": {
             "outlinewidth": 0,
             "ticks": ""
            },
            "type": "choropleth"
           }
          ],
          "contour": [
           {
            "colorbar": {
             "outlinewidth": 0,
             "ticks": ""
            },
            "colorscale": [
             [
              0,
              "#0d0887"
             ],
             [
              0.1111111111111111,
              "#46039f"
             ],
             [
              0.2222222222222222,
              "#7201a8"
             ],
             [
              0.3333333333333333,
              "#9c179e"
             ],
             [
              0.4444444444444444,
              "#bd3786"
             ],
             [
              0.5555555555555556,
              "#d8576b"
             ],
             [
              0.6666666666666666,
              "#ed7953"
             ],
             [
              0.7777777777777778,
              "#fb9f3a"
             ],
             [
              0.8888888888888888,
              "#fdca26"
             ],
             [
              1,
              "#f0f921"
             ]
            ],
            "type": "contour"
           }
          ],
          "contourcarpet": [
           {
            "colorbar": {
             "outlinewidth": 0,
             "ticks": ""
            },
            "type": "contourcarpet"
           }
          ],
          "heatmap": [
           {
            "colorbar": {
             "outlinewidth": 0,
             "ticks": ""
            },
            "colorscale": [
             [
              0,
              "#0d0887"
             ],
             [
              0.1111111111111111,
              "#46039f"
             ],
             [
              0.2222222222222222,
              "#7201a8"
             ],
             [
              0.3333333333333333,
              "#9c179e"
             ],
             [
              0.4444444444444444,
              "#bd3786"
             ],
             [
              0.5555555555555556,
              "#d8576b"
             ],
             [
              0.6666666666666666,
              "#ed7953"
             ],
             [
              0.7777777777777778,
              "#fb9f3a"
             ],
             [
              0.8888888888888888,
              "#fdca26"
             ],
             [
              1,
              "#f0f921"
             ]
            ],
            "type": "heatmap"
           }
          ],
          "heatmapgl": [
           {
            "colorbar": {
             "outlinewidth": 0,
             "ticks": ""
            },
            "colorscale": [
             [
              0,
              "#0d0887"
             ],
             [
              0.1111111111111111,
              "#46039f"
             ],
             [
              0.2222222222222222,
              "#7201a8"
             ],
             [
              0.3333333333333333,
              "#9c179e"
             ],
             [
              0.4444444444444444,
              "#bd3786"
             ],
             [
              0.5555555555555556,
              "#d8576b"
             ],
             [
              0.6666666666666666,
              "#ed7953"
             ],
             [
              0.7777777777777778,
              "#fb9f3a"
             ],
             [
              0.8888888888888888,
              "#fdca26"
             ],
             [
              1,
              "#f0f921"
             ]
            ],
            "type": "heatmapgl"
           }
          ],
          "histogram": [
           {
            "marker": {
             "pattern": {
              "fillmode": "overlay",
              "size": 10,
              "solidity": 0.2
             }
            },
            "type": "histogram"
           }
          ],
          "histogram2d": [
           {
            "colorbar": {
             "outlinewidth": 0,
             "ticks": ""
            },
            "colorscale": [
             [
              0,
              "#0d0887"
             ],
             [
              0.1111111111111111,
              "#46039f"
             ],
             [
              0.2222222222222222,
              "#7201a8"
             ],
             [
              0.3333333333333333,
              "#9c179e"
             ],
             [
              0.4444444444444444,
              "#bd3786"
             ],
             [
              0.5555555555555556,
              "#d8576b"
             ],
             [
              0.6666666666666666,
              "#ed7953"
             ],
             [
              0.7777777777777778,
              "#fb9f3a"
             ],
             [
              0.8888888888888888,
              "#fdca26"
             ],
             [
              1,
              "#f0f921"
             ]
            ],
            "type": "histogram2d"
           }
          ],
          "histogram2dcontour": [
           {
            "colorbar": {
             "outlinewidth": 0,
             "ticks": ""
            },
            "colorscale": [
             [
              0,
              "#0d0887"
             ],
             [
              0.1111111111111111,
              "#46039f"
             ],
             [
              0.2222222222222222,
              "#7201a8"
             ],
             [
              0.3333333333333333,
              "#9c179e"
             ],
             [
              0.4444444444444444,
              "#bd3786"
             ],
             [
              0.5555555555555556,
              "#d8576b"
             ],
             [
              0.6666666666666666,
              "#ed7953"
             ],
             [
              0.7777777777777778,
              "#fb9f3a"
             ],
             [
              0.8888888888888888,
              "#fdca26"
             ],
             [
              1,
              "#f0f921"
             ]
            ],
            "type": "histogram2dcontour"
           }
          ],
          "mesh3d": [
           {
            "colorbar": {
             "outlinewidth": 0,
             "ticks": ""
            },
            "type": "mesh3d"
           }
          ],
          "parcoords": [
           {
            "line": {
             "colorbar": {
              "outlinewidth": 0,
              "ticks": ""
             }
            },
            "type": "parcoords"
           }
          ],
          "pie": [
           {
            "automargin": true,
            "type": "pie"
           }
          ],
          "scatter": [
           {
            "marker": {
             "colorbar": {
              "outlinewidth": 0,
              "ticks": ""
             }
            },
            "type": "scatter"
           }
          ],
          "scatter3d": [
           {
            "line": {
             "colorbar": {
              "outlinewidth": 0,
              "ticks": ""
             }
            },
            "marker": {
             "colorbar": {
              "outlinewidth": 0,
              "ticks": ""
             }
            },
            "type": "scatter3d"
           }
          ],
          "scattercarpet": [
           {
            "marker": {
             "colorbar": {
              "outlinewidth": 0,
              "ticks": ""
             }
            },
            "type": "scattercarpet"
           }
          ],
          "scattergeo": [
           {
            "marker": {
             "colorbar": {
              "outlinewidth": 0,
              "ticks": ""
             }
            },
            "type": "scattergeo"
           }
          ],
          "scattergl": [
           {
            "marker": {
             "colorbar": {
              "outlinewidth": 0,
              "ticks": ""
             }
            },
            "type": "scattergl"
           }
          ],
          "scattermapbox": [
           {
            "marker": {
             "colorbar": {
              "outlinewidth": 0,
              "ticks": ""
             }
            },
            "type": "scattermapbox"
           }
          ],
          "scatterpolar": [
           {
            "marker": {
             "colorbar": {
              "outlinewidth": 0,
              "ticks": ""
             }
            },
            "type": "scatterpolar"
           }
          ],
          "scatterpolargl": [
           {
            "marker": {
             "colorbar": {
              "outlinewidth": 0,
              "ticks": ""
             }
            },
            "type": "scatterpolargl"
           }
          ],
          "scatterternary": [
           {
            "marker": {
             "colorbar": {
              "outlinewidth": 0,
              "ticks": ""
             }
            },
            "type": "scatterternary"
           }
          ],
          "surface": [
           {
            "colorbar": {
             "outlinewidth": 0,
             "ticks": ""
            },
            "colorscale": [
             [
              0,
              "#0d0887"
             ],
             [
              0.1111111111111111,
              "#46039f"
             ],
             [
              0.2222222222222222,
              "#7201a8"
             ],
             [
              0.3333333333333333,
              "#9c179e"
             ],
             [
              0.4444444444444444,
              "#bd3786"
             ],
             [
              0.5555555555555556,
              "#d8576b"
             ],
             [
              0.6666666666666666,
              "#ed7953"
             ],
             [
              0.7777777777777778,
              "#fb9f3a"
             ],
             [
              0.8888888888888888,
              "#fdca26"
             ],
             [
              1,
              "#f0f921"
             ]
            ],
            "type": "surface"
           }
          ],
          "table": [
           {
            "cells": {
             "fill": {
              "color": "#EBF0F8"
             },
             "line": {
              "color": "white"
             }
            },
            "header": {
             "fill": {
              "color": "#C8D4E3"
             },
             "line": {
              "color": "white"
             }
            },
            "type": "table"
           }
          ]
         },
         "layout": {
          "annotationdefaults": {
           "arrowcolor": "#2a3f5f",
           "arrowhead": 0,
           "arrowwidth": 1
          },
          "autotypenumbers": "strict",
          "coloraxis": {
           "colorbar": {
            "outlinewidth": 0,
            "ticks": ""
           }
          },
          "colorscale": {
           "diverging": [
            [
             0,
             "#8e0152"
            ],
            [
             0.1,
             "#c51b7d"
            ],
            [
             0.2,
             "#de77ae"
            ],
            [
             0.3,
             "#f1b6da"
            ],
            [
             0.4,
             "#fde0ef"
            ],
            [
             0.5,
             "#f7f7f7"
            ],
            [
             0.6,
             "#e6f5d0"
            ],
            [
             0.7,
             "#b8e186"
            ],
            [
             0.8,
             "#7fbc41"
            ],
            [
             0.9,
             "#4d9221"
            ],
            [
             1,
             "#276419"
            ]
           ],
           "sequential": [
            [
             0,
             "#0d0887"
            ],
            [
             0.1111111111111111,
             "#46039f"
            ],
            [
             0.2222222222222222,
             "#7201a8"
            ],
            [
             0.3333333333333333,
             "#9c179e"
            ],
            [
             0.4444444444444444,
             "#bd3786"
            ],
            [
             0.5555555555555556,
             "#d8576b"
            ],
            [
             0.6666666666666666,
             "#ed7953"
            ],
            [
             0.7777777777777778,
             "#fb9f3a"
            ],
            [
             0.8888888888888888,
             "#fdca26"
            ],
            [
             1,
             "#f0f921"
            ]
           ],
           "sequentialminus": [
            [
             0,
             "#0d0887"
            ],
            [
             0.1111111111111111,
             "#46039f"
            ],
            [
             0.2222222222222222,
             "#7201a8"
            ],
            [
             0.3333333333333333,
             "#9c179e"
            ],
            [
             0.4444444444444444,
             "#bd3786"
            ],
            [
             0.5555555555555556,
             "#d8576b"
            ],
            [
             0.6666666666666666,
             "#ed7953"
            ],
            [
             0.7777777777777778,
             "#fb9f3a"
            ],
            [
             0.8888888888888888,
             "#fdca26"
            ],
            [
             1,
             "#f0f921"
            ]
           ]
          },
          "colorway": [
           "#636efa",
           "#EF553B",
           "#00cc96",
           "#ab63fa",
           "#FFA15A",
           "#19d3f3",
           "#FF6692",
           "#B6E880",
           "#FF97FF",
           "#FECB52"
          ],
          "font": {
           "color": "#2a3f5f"
          },
          "geo": {
           "bgcolor": "white",
           "lakecolor": "white",
           "landcolor": "#E5ECF6",
           "showlakes": true,
           "showland": true,
           "subunitcolor": "white"
          },
          "hoverlabel": {
           "align": "left"
          },
          "hovermode": "closest",
          "mapbox": {
           "style": "light"
          },
          "paper_bgcolor": "white",
          "plot_bgcolor": "#E5ECF6",
          "polar": {
           "angularaxis": {
            "gridcolor": "white",
            "linecolor": "white",
            "ticks": ""
           },
           "bgcolor": "#E5ECF6",
           "radialaxis": {
            "gridcolor": "white",
            "linecolor": "white",
            "ticks": ""
           }
          },
          "scene": {
           "xaxis": {
            "backgroundcolor": "#E5ECF6",
            "gridcolor": "white",
            "gridwidth": 2,
            "linecolor": "white",
            "showbackground": true,
            "ticks": "",
            "zerolinecolor": "white"
           },
           "yaxis": {
            "backgroundcolor": "#E5ECF6",
            "gridcolor": "white",
            "gridwidth": 2,
            "linecolor": "white",
            "showbackground": true,
            "ticks": "",
            "zerolinecolor": "white"
           },
           "zaxis": {
            "backgroundcolor": "#E5ECF6",
            "gridcolor": "white",
            "gridwidth": 2,
            "linecolor": "white",
            "showbackground": true,
            "ticks": "",
            "zerolinecolor": "white"
           }
          },
          "shapedefaults": {
           "line": {
            "color": "#2a3f5f"
           }
          },
          "ternary": {
           "aaxis": {
            "gridcolor": "white",
            "linecolor": "white",
            "ticks": ""
           },
           "baxis": {
            "gridcolor": "white",
            "linecolor": "white",
            "ticks": ""
           },
           "bgcolor": "#E5ECF6",
           "caxis": {
            "gridcolor": "white",
            "linecolor": "white",
            "ticks": ""
           }
          },
          "title": {
           "x": 0.05
          },
          "xaxis": {
           "automargin": true,
           "gridcolor": "white",
           "linecolor": "white",
           "ticks": "",
           "title": {
            "standoff": 15
           },
           "zerolinecolor": "white",
           "zerolinewidth": 2
          },
          "yaxis": {
           "automargin": true,
           "gridcolor": "white",
           "linecolor": "white",
           "ticks": "",
           "title": {
            "standoff": 15
           },
           "zerolinecolor": "white",
           "zerolinewidth": 2
          }
         }
        },
        "title": {
         "text": "Discount Certificate Protect"
        },
        "xaxis": {
         "anchor": "y",
         "domain": [
          0,
          0.94
         ],
         "title": {
          "text": "Underlying at Maturity"
         }
        },
        "yaxis": {
         "anchor": "x",
         "domain": [
          0,
          1
         ],
         "title": {
          "text": "PnL"
         }
        },
        "yaxis2": {
         "anchor": "x",
         "overlaying": "y",
         "side": "right",
         "title": {
          "text": "Payoff"
         }
        }
       }
      }
     },
     "metadata": {},
     "output_type": "display_data"
    }
   ],
   "source": [
    "premium_short_call = 3.5\n",
    "premium_long_digital = -12.5\n",
    "cap = 45\n",
    "barrier = 29\n",
    "strike_shortCall = barrier\n",
    "S0 = 29\n",
    "St = np.linspace(15, 50, 36)\n",
    "\n",
    "pnl_short_call = [premium_short_call - np.max([S - strike_shortCall, 0]) for S in St]\n",
    "pnl_digital = [premium_long_digital + 0 if S <= barrier else premium_long_digital + 2*12.5 for S in St]\n",
    "PnL_DC =  St-S0 + pnl_short_call + pnl_digital\n",
    "#         \n",
    "\n",
    "fig = make_subplots(specs=[[{\"secondary_y\": True}]])\n",
    "\n",
    "# Add trades\n",
    "fig.add_trace(go.Scatter(x=St,y=St,mode='lines',name='Payoff Underlying',visible = \"legendonly\"),secondary_y=True,)\n",
    "fig.add_trace(go.Scatter(x=St,y=St + pnl_short_call + pnl_digital,mode='markers',name='Payoff Certificate Protect',visible = \"legendonly\"),secondary_y=True)\n",
    "\n",
    "fig.add_trace(go.Scatter(x=St,y=St - S0,mode='lines',name='PnL Underlying'))\n",
    "fig.add_trace(go.Scatter(x=St,y=PnL_DC,mode='markers',name='PnL Discount Certificate Protect',visible = \"legendonly\"))\n",
    "fig.add_trace(go.Scatter(x=St,y=pnl_short_call,mode='lines+markers',name='PnL Embedded Short Call',visible = \"legendonly\"))\n",
    "fig.add_trace(go.Scatter(x=St,y=pnl_digital,mode='lines+markers',name='PnL Embedded Digital Long Call',visible = \"legendonly\"))\n",
    "\n",
    "fig.add_vline(x=S0,annotation_text='S0',line_dash='dash',line_color='black')\n",
    "fig.add_vline(x=S0-premium_short_call-premium_long_digital,annotation_text='Kaufpreis DC',line_dash='dash',line_color='black')\n",
    "#fig.add_hline(y=20,annotation_text='Cap',line_dash='dash',line_color='black')\n",
    "fig.add_vline(x=barrier,annotation_text='Barrier',line_dash='dash',line_color='black')\n",
    "\n",
    "# Add figure title\n",
    "fig.update_layout(title_text='Discount Certificate Protect')\n",
    "\n",
    "# Set x-axis title\n",
    "fig.update_xaxes(title_text='Underlying at Maturity')\n",
    "\n",
    "# Set y-axis titles\n",
    "fig.update_yaxes(title_text='PnL', secondary_y=False)\n",
    "fig.update_yaxes(title_text='Payoff', secondary_y=True)\n",
    "\n",
    "fig.show()\n",
    "\n",
    "## 38 DCP = Underlying (29)  - ShortCallPremium (5) + LongDigiPremium (14)\n"
   ]
  },
  {
   "cell_type": "code",
   "execution_count": null,
   "metadata": {},
   "outputs": [],
   "source": []
  }
 ],
 "metadata": {
  "hide_input": false,
  "interpreter": {
   "hash": "32327b42938fe5e22dc73ab7a80c479097b170a045e7b23954e6cd14985000c9"
  },
  "kernelspec": {
   "display_name": "Python 3.8.5 ('base')",
   "language": "python",
   "name": "python3"
  },
  "language_info": {
   "codemirror_mode": {
    "name": "ipython",
    "version": 3
   },
   "file_extension": ".py",
   "mimetype": "text/x-python",
   "name": "python",
   "nbconvert_exporter": "python",
   "pygments_lexer": "ipython3",
   "version": "3.8.8"
  },
  "toc": {
   "base_numbering": 1,
   "nav_menu": {},
   "number_sections": true,
   "sideBar": true,
   "skip_h1_title": true,
   "title_cell": "Table of Contents",
   "title_sidebar": "Contents",
   "toc_cell": false,
   "toc_position": {
    "height": "calc(100% - 180px)",
    "left": "10px",
    "top": "150px",
    "width": "466.375px"
   },
   "toc_section_display": true,
   "toc_window_display": true
  },
  "varInspector": {
   "cols": {
    "lenName": 16,
    "lenType": 16,
    "lenVar": 40
   },
   "kernels_config": {
    "python": {
     "delete_cmd_postfix": "",
     "delete_cmd_prefix": "del ",
     "library": "var_list.py",
     "varRefreshCmd": "print(var_dic_list())"
    },
    "r": {
     "delete_cmd_postfix": ") ",
     "delete_cmd_prefix": "rm(",
     "library": "var_list.r",
     "varRefreshCmd": "cat(var_dic_list()) "
    }
   },
   "types_to_exclude": [
    "module",
    "function",
    "builtin_function_or_method",
    "instance",
    "_Feature"
   ],
   "window_display": false
  }
 },
 "nbformat": 4,
 "nbformat_minor": 2
}
