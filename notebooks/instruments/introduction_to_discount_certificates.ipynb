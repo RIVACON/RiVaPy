{
 "cells": [
  {
   "cell_type": "markdown",
   "metadata": {},
   "source": [
    "![](../images/rivacon_frontmark_combined_header.png)"
   ]
  },
  {
   "cell_type": "markdown",
   "metadata": {},
   "source": [
    "# Introduction to Discount Certificates"
   ]
  },
  {
   "cell_type": "code",
   "execution_count": 13,
   "metadata": {
    "ExecuteTime": {
     "end_time": "2022-03-01T14:04:33.788877Z",
     "start_time": "2022-03-01T14:04:30.653240Z"
    }
   },
   "outputs": [
    {
     "name": "stdout",
     "output_type": "stream",
     "text": [
      "The autoreload extension is already loaded. To reload it, use:\n",
      "  %reload_ext autoreload\n"
     ]
    }
   ],
   "source": [
    "import datetime as dt\n",
    "import math\n",
    "import matplotlib.pyplot as plt\n",
    "from scipy.stats import norm\n",
    "import plotly.graph_objects as go\n",
    "from plotly.subplots import make_subplots\n",
    "import random\n",
    "import pandas as pd\n",
    "import numpy as np\n",
    "import rivapy\n",
    "from rivapy import enums as enums\n",
    "from rivapy import marketdata as mkt_data\n",
    "\n",
    "\n",
    "%load_ext autoreload\n",
    "%autoreload 2\n",
    "#the next line is a jupyter internal command to show the matplotlib graphs within the notebook\n",
    "%matplotlib inline"
   ]
  },
  {
   "cell_type": "markdown",
   "metadata": {},
   "source": [
    "## Definition of a Discount Certificate\n",
    "\n",
    "Certificate with a reduced entry price in return for a limited payout.\n",
    "The investor gets the certificate at a price that is below the current price of the underlying security or index. This is called a discount. In return, the potential profit is capped.\n",
    "\n",
    "At the end of the certificate’s maturity, a cash check occurs: If the price of the underlying when the maturity is up is higher than the maximal payout or identical to it, the issuer pays the maximum amount.\n",
    "\n",
    "If the price of the underlying is less than the cap, the issuer pays either the current price of the certificate in cash or he gives the investor the underlying, for example a share, at its current price. The issuer can choose. The cash payout is obligatory in the case of discount certificates on indices, currencies or interest.\n",
    "\n",
    "The maximum profit that an investor can reach with a discount certificate is calculated by taking the difference between the purchase price and the cap on the underlying. Losses, in contrast, are lessened by the discount. The investor suffers a loss only when the price of the underlying at the end of the maturity has fallen so far that the discount is depleted. The discount thus works as a buffer against risk.\n",
    "\n",
    "Discount certificates are ideal for conservative investors that want to guard against market fluctuations and who expect in the medium term sideways-moving prices. Because the buyer of a discount certificate does not profit from price gains that are higher than the cap, this form of investment is best suited for a medium-term oriented engagement. If the certificate reaches its cap before the maturity, the investor should take the profits.\n",
    "\n",
    "https://www.boerse-frankfurt.de/en/know-how/glossary/discount-certificates\n",
    "\n"
   ]
  },
  {
   "cell_type": "code",
   "execution_count": 2,
   "metadata": {},
   "outputs": [
    {
     "data": {
      "application/vnd.plotly.v1+json": {
       "config": {
        "plotlyServerURL": "https://plot.ly"
       },
       "data": [
        {
         "mode": "lines",
         "name": "Payoff Underlying",
         "type": "scatter",
         "visible": "legendonly",
         "x": [
          56,
          56.35,
          56.7,
          57.05,
          57.4,
          57.75,
          58.1,
          58.45,
          58.8,
          59.15,
          59.5,
          59.85,
          60.2,
          60.55,
          60.9,
          61.25,
          61.6,
          61.95,
          62.3,
          62.65,
          63,
          63.35,
          63.7,
          64.05,
          64.4,
          64.75,
          65.1,
          65.45,
          65.8,
          66.15,
          66.5,
          66.85,
          67.2,
          67.55,
          67.9,
          68.25,
          68.6,
          68.95,
          69.3,
          69.65,
          70,
          70.35,
          70.7,
          71.05,
          71.4,
          71.75,
          72.1,
          72.45,
          72.8,
          73.15,
          73.5,
          73.85,
          74.2,
          74.55,
          74.9,
          75.25,
          75.6,
          75.95,
          76.3,
          76.65,
          77,
          77.35,
          77.7,
          78.05,
          78.4,
          78.75,
          79.1,
          79.45,
          79.8,
          80.15,
          80.5,
          80.85,
          81.2,
          81.55,
          81.9,
          82.25,
          82.6,
          82.95,
          83.3,
          83.65,
          84,
          84.35,
          84.7,
          85.05,
          85.4,
          85.75,
          86.1,
          86.45,
          86.8,
          87.15,
          87.5,
          87.85,
          88.19999999999999,
          88.55,
          88.9,
          89.25,
          89.6,
          89.94999999999999,
          90.3,
          90.65,
          91
         ],
         "xaxis": "x",
         "y": [
          56,
          56.35,
          56.7,
          57.05,
          57.4,
          57.75,
          58.1,
          58.45,
          58.8,
          59.15,
          59.5,
          59.85,
          60.2,
          60.55,
          60.9,
          61.25,
          61.6,
          61.95,
          62.3,
          62.65,
          63,
          63.35,
          63.7,
          64.05,
          64.4,
          64.75,
          65.1,
          65.45,
          65.8,
          66.15,
          66.5,
          66.85,
          67.2,
          67.55,
          67.9,
          68.25,
          68.6,
          68.95,
          69.3,
          69.65,
          70,
          70.35,
          70.7,
          71.05,
          71.4,
          71.75,
          72.1,
          72.45,
          72.8,
          73.15,
          73.5,
          73.85,
          74.2,
          74.55,
          74.9,
          75.25,
          75.6,
          75.95,
          76.3,
          76.65,
          77,
          77.35,
          77.7,
          78.05,
          78.4,
          78.75,
          79.1,
          79.45,
          79.8,
          80.15,
          80.5,
          80.85,
          81.2,
          81.55,
          81.9,
          82.25,
          82.6,
          82.95,
          83.3,
          83.65,
          84,
          84.35,
          84.7,
          85.05,
          85.4,
          85.75,
          86.1,
          86.45,
          86.8,
          87.15,
          87.5,
          87.85,
          88.19999999999999,
          88.55,
          88.9,
          89.25,
          89.6,
          89.94999999999999,
          90.3,
          90.65,
          91
         ],
         "yaxis": "y2"
        },
        {
         "mode": "markers",
         "name": "Payoff Certificate",
         "type": "scatter",
         "visible": "legendonly",
         "x": [
          56,
          56.35,
          56.7,
          57.05,
          57.4,
          57.75,
          58.1,
          58.45,
          58.8,
          59.15,
          59.5,
          59.85,
          60.2,
          60.55,
          60.9,
          61.25,
          61.6,
          61.95,
          62.3,
          62.65,
          63,
          63.35,
          63.7,
          64.05,
          64.4,
          64.75,
          65.1,
          65.45,
          65.8,
          66.15,
          66.5,
          66.85,
          67.2,
          67.55,
          67.9,
          68.25,
          68.6,
          68.95,
          69.3,
          69.65,
          70,
          70.35,
          70.7,
          71.05,
          71.4,
          71.75,
          72.1,
          72.45,
          72.8,
          73.15,
          73.5,
          73.85,
          74.2,
          74.55,
          74.9,
          75.25,
          75.6,
          75.95,
          76.3,
          76.65,
          77,
          77.35,
          77.7,
          78.05,
          78.4,
          78.75,
          79.1,
          79.45,
          79.8,
          80.15,
          80.5,
          80.85,
          81.2,
          81.55,
          81.9,
          82.25,
          82.6,
          82.95,
          83.3,
          83.65,
          84,
          84.35,
          84.7,
          85.05,
          85.4,
          85.75,
          86.1,
          86.45,
          86.8,
          87.15,
          87.5,
          87.85,
          88.19999999999999,
          88.55,
          88.9,
          89.25,
          89.6,
          89.94999999999999,
          90.3,
          90.65,
          91
         ],
         "xaxis": "x",
         "y": [
          56,
          56.35,
          56.7,
          57.05,
          57.4,
          57.75,
          58.1,
          58.45,
          58.8,
          59.15,
          59.5,
          59.85,
          60.2,
          60.55,
          60.9,
          61.25,
          61.6,
          61.95,
          62.3,
          62.65,
          63,
          63.35,
          63.7,
          64.05,
          64.4,
          64.75,
          65.1,
          65.45,
          65.8,
          66.15,
          66.5,
          66.85,
          67.2,
          67.55,
          67.9,
          68.25,
          68.6,
          68.95,
          69.3,
          69.65,
          70,
          70.35,
          70.7,
          71.05,
          71.4,
          71.75,
          72.1,
          72.45,
          72.8,
          73.15,
          73.5,
          73.85,
          74.2,
          74.55,
          74.9,
          75.25,
          75.6,
          75.95,
          76.3,
          76.65,
          77,
          77,
          77,
          77,
          77,
          77,
          77,
          77,
          77,
          77,
          77,
          77,
          77,
          77,
          77,
          77,
          77,
          77,
          77,
          77,
          77,
          77,
          77,
          77,
          77,
          77,
          77,
          77,
          77,
          77,
          77,
          77,
          77,
          77,
          77,
          77,
          77,
          77,
          77,
          77,
          77
         ],
         "yaxis": "y2"
        },
        {
         "mode": "lines",
         "name": "PnL Underlying",
         "type": "scatter",
         "x": [
          56,
          56.35,
          56.7,
          57.05,
          57.4,
          57.75,
          58.1,
          58.45,
          58.8,
          59.15,
          59.5,
          59.85,
          60.2,
          60.55,
          60.9,
          61.25,
          61.6,
          61.95,
          62.3,
          62.65,
          63,
          63.35,
          63.7,
          64.05,
          64.4,
          64.75,
          65.1,
          65.45,
          65.8,
          66.15,
          66.5,
          66.85,
          67.2,
          67.55,
          67.9,
          68.25,
          68.6,
          68.95,
          69.3,
          69.65,
          70,
          70.35,
          70.7,
          71.05,
          71.4,
          71.75,
          72.1,
          72.45,
          72.8,
          73.15,
          73.5,
          73.85,
          74.2,
          74.55,
          74.9,
          75.25,
          75.6,
          75.95,
          76.3,
          76.65,
          77,
          77.35,
          77.7,
          78.05,
          78.4,
          78.75,
          79.1,
          79.45,
          79.8,
          80.15,
          80.5,
          80.85,
          81.2,
          81.55,
          81.9,
          82.25,
          82.6,
          82.95,
          83.3,
          83.65,
          84,
          84.35,
          84.7,
          85.05,
          85.4,
          85.75,
          86.1,
          86.45,
          86.8,
          87.15,
          87.5,
          87.85,
          88.19999999999999,
          88.55,
          88.9,
          89.25,
          89.6,
          89.94999999999999,
          90.3,
          90.65,
          91
         ],
         "y": [
          -14,
          -13.649999999999999,
          -13.299999999999997,
          -12.950000000000003,
          -12.600000000000001,
          -12.25,
          -11.899999999999999,
          -11.549999999999997,
          -11.200000000000003,
          -10.850000000000001,
          -10.5,
          -10.149999999999999,
          -9.799999999999997,
          -9.450000000000003,
          -9.100000000000001,
          -8.75,
          -8.399999999999999,
          -8.049999999999997,
          -7.700000000000003,
          -7.350000000000001,
          -7,
          -6.649999999999999,
          -6.299999999999997,
          -5.950000000000003,
          -5.599999999999994,
          -5.25,
          -4.900000000000006,
          -4.549999999999997,
          -4.200000000000003,
          -3.8499999999999943,
          -3.5,
          -3.1500000000000057,
          -2.799999999999997,
          -2.450000000000003,
          -2.0999999999999943,
          -1.75,
          -1.4000000000000057,
          -1.0499999999999972,
          -0.7000000000000028,
          -0.3499999999999943,
          0,
          0.3499999999999943,
          0.7000000000000028,
          1.0499999999999972,
          1.4000000000000057,
          1.75,
          2.0999999999999943,
          2.450000000000003,
          2.799999999999997,
          3.1500000000000057,
          3.5,
          3.8499999999999943,
          4.200000000000003,
          4.549999999999997,
          4.900000000000006,
          5.25,
          5.599999999999994,
          5.950000000000003,
          6.299999999999997,
          6.650000000000006,
          7,
          7.349999999999994,
          7.700000000000003,
          8.049999999999997,
          8.400000000000006,
          8.75,
          9.099999999999994,
          9.450000000000003,
          9.799999999999997,
          10.150000000000006,
          10.5,
          10.849999999999994,
          11.200000000000003,
          11.549999999999997,
          11.900000000000006,
          12.25,
          12.599999999999994,
          12.950000000000003,
          13.299999999999997,
          13.650000000000006,
          14,
          14.349999999999994,
          14.700000000000003,
          15.049999999999997,
          15.400000000000006,
          15.75,
          16.099999999999994,
          16.450000000000003,
          16.799999999999997,
          17.150000000000006,
          17.5,
          17.849999999999994,
          18.19999999999999,
          18.549999999999997,
          18.900000000000006,
          19.25,
          19.599999999999994,
          19.94999999999999,
          20.299999999999997,
          20.650000000000006,
          21
         ]
        },
        {
         "mode": "markers",
         "name": "PnL Discount Certificate",
         "type": "scatter",
         "x": [
          56,
          56.35,
          56.7,
          57.05,
          57.4,
          57.75,
          58.1,
          58.45,
          58.8,
          59.15,
          59.5,
          59.85,
          60.2,
          60.55,
          60.9,
          61.25,
          61.6,
          61.95,
          62.3,
          62.65,
          63,
          63.35,
          63.7,
          64.05,
          64.4,
          64.75,
          65.1,
          65.45,
          65.8,
          66.15,
          66.5,
          66.85,
          67.2,
          67.55,
          67.9,
          68.25,
          68.6,
          68.95,
          69.3,
          69.65,
          70,
          70.35,
          70.7,
          71.05,
          71.4,
          71.75,
          72.1,
          72.45,
          72.8,
          73.15,
          73.5,
          73.85,
          74.2,
          74.55,
          74.9,
          75.25,
          75.6,
          75.95,
          76.3,
          76.65,
          77,
          77.35,
          77.7,
          78.05,
          78.4,
          78.75,
          79.1,
          79.45,
          79.8,
          80.15,
          80.5,
          80.85,
          81.2,
          81.55,
          81.9,
          82.25,
          82.6,
          82.95,
          83.3,
          83.65,
          84,
          84.35,
          84.7,
          85.05,
          85.4,
          85.75,
          86.1,
          86.45,
          86.8,
          87.15,
          87.5,
          87.85,
          88.19999999999999,
          88.55,
          88.9,
          89.25,
          89.6,
          89.94999999999999,
          90.3,
          90.65,
          91
         ],
         "y": [
          -9,
          -8.649999999999999,
          -8.299999999999997,
          -7.950000000000003,
          -7.600000000000001,
          -7.25,
          -6.899999999999999,
          -6.549999999999997,
          -6.200000000000003,
          -5.850000000000001,
          -5.5,
          -5.149999999999999,
          -4.799999999999997,
          -4.450000000000003,
          -4.100000000000001,
          -3.75,
          -3.3999999999999986,
          -3.049999999999997,
          -2.700000000000003,
          -2.3500000000000014,
          -2,
          -1.6499999999999986,
          -1.2999999999999972,
          -0.9500000000000028,
          -0.5999999999999943,
          -0.25,
          0.09999999999999432,
          0.45000000000000284,
          0.7999999999999972,
          1.1500000000000057,
          1.5,
          1.8499999999999943,
          2.200000000000003,
          2.549999999999997,
          2.9000000000000057,
          3.25,
          3.5999999999999943,
          3.950000000000003,
          4.299999999999997,
          4.650000000000006,
          5,
          5.349999999999994,
          5.700000000000003,
          6.049999999999997,
          6.400000000000006,
          6.75,
          7.099999999999994,
          7.450000000000003,
          7.799999999999997,
          8.150000000000006,
          8.5,
          8.849999999999994,
          9.200000000000003,
          9.549999999999997,
          9.900000000000006,
          10.25,
          10.599999999999994,
          10.950000000000003,
          11.299999999999997,
          11.650000000000006,
          12,
          12,
          12,
          12,
          12,
          12,
          12,
          12,
          12,
          12,
          12,
          12,
          12,
          12,
          12,
          12,
          12,
          12,
          12,
          12,
          12,
          12,
          12,
          12,
          12,
          12,
          12,
          12,
          12,
          12,
          12,
          12,
          12,
          12,
          12,
          12,
          12,
          12,
          12,
          12,
          12
         ]
        },
        {
         "mode": "lines+markers",
         "name": "PnL Embedded Short Call",
         "type": "scatter",
         "x": [
          56,
          56.35,
          56.7,
          57.05,
          57.4,
          57.75,
          58.1,
          58.45,
          58.8,
          59.15,
          59.5,
          59.85,
          60.2,
          60.55,
          60.9,
          61.25,
          61.6,
          61.95,
          62.3,
          62.65,
          63,
          63.35,
          63.7,
          64.05,
          64.4,
          64.75,
          65.1,
          65.45,
          65.8,
          66.15,
          66.5,
          66.85,
          67.2,
          67.55,
          67.9,
          68.25,
          68.6,
          68.95,
          69.3,
          69.65,
          70,
          70.35,
          70.7,
          71.05,
          71.4,
          71.75,
          72.1,
          72.45,
          72.8,
          73.15,
          73.5,
          73.85,
          74.2,
          74.55,
          74.9,
          75.25,
          75.6,
          75.95,
          76.3,
          76.65,
          77,
          77.35,
          77.7,
          78.05,
          78.4,
          78.75,
          79.1,
          79.45,
          79.8,
          80.15,
          80.5,
          80.85,
          81.2,
          81.55,
          81.9,
          82.25,
          82.6,
          82.95,
          83.3,
          83.65,
          84,
          84.35,
          84.7,
          85.05,
          85.4,
          85.75,
          86.1,
          86.45,
          86.8,
          87.15,
          87.5,
          87.85,
          88.19999999999999,
          88.55,
          88.9,
          89.25,
          89.6,
          89.94999999999999,
          90.3,
          90.65,
          91
         ],
         "y": [
          5,
          5,
          5,
          5,
          5,
          5,
          5,
          5,
          5,
          5,
          5,
          5,
          5,
          5,
          5,
          5,
          5,
          5,
          5,
          5,
          5,
          5,
          5,
          5,
          5,
          5,
          5,
          5,
          5,
          5,
          5,
          5,
          5,
          5,
          5,
          5,
          5,
          5,
          5,
          5,
          5,
          5,
          5,
          5,
          5,
          5,
          5,
          5,
          5,
          5,
          5,
          5,
          5,
          5,
          5,
          5,
          5,
          5,
          5,
          5,
          5,
          4.650000000000006,
          4.299999999999997,
          3.950000000000003,
          3.5999999999999943,
          3.25,
          2.9000000000000057,
          2.549999999999997,
          2.200000000000003,
          1.8499999999999943,
          1.5,
          1.1500000000000057,
          0.7999999999999972,
          0.45000000000000284,
          0.09999999999999432,
          -0.25,
          -0.5999999999999943,
          -0.9500000000000028,
          -1.2999999999999972,
          -1.6500000000000057,
          -2,
          -2.3499999999999943,
          -2.700000000000003,
          -3.049999999999997,
          -3.4000000000000057,
          -3.75,
          -4.099999999999994,
          -4.450000000000003,
          -4.799999999999997,
          -5.150000000000006,
          -5.5,
          -5.849999999999994,
          -6.199999999999989,
          -6.549999999999997,
          -6.900000000000006,
          -7.25,
          -7.599999999999994,
          -7.949999999999989,
          -8.299999999999997,
          -8.650000000000006,
          -9
         ]
        }
       ],
       "layout": {
        "annotations": [
         {
          "showarrow": false,
          "text": "S0",
          "x": 70,
          "xanchor": "left",
          "xref": "x",
          "y": 1,
          "yanchor": "top",
          "yref": "y domain"
         },
         {
          "showarrow": false,
          "text": "Cap",
          "x": 77,
          "xanchor": "left",
          "xref": "x",
          "y": 1,
          "yanchor": "top",
          "yref": "y domain"
         }
        ],
        "shapes": [
         {
          "line": {
           "color": "black",
           "dash": "dash"
          },
          "type": "line",
          "x0": 70,
          "x1": 70,
          "xref": "x",
          "y0": 0,
          "y1": 1,
          "yref": "y domain"
         },
         {
          "line": {
           "color": "black",
           "dash": "dash"
          },
          "type": "line",
          "x0": 77,
          "x1": 77,
          "xref": "x",
          "y0": 0,
          "y1": 1,
          "yref": "y domain"
         }
        ],
        "template": {
         "data": {
          "bar": [
           {
            "error_x": {
             "color": "#2a3f5f"
            },
            "error_y": {
             "color": "#2a3f5f"
            },
            "marker": {
             "line": {
              "color": "#E5ECF6",
              "width": 0.5
             },
             "pattern": {
              "fillmode": "overlay",
              "size": 10,
              "solidity": 0.2
             }
            },
            "type": "bar"
           }
          ],
          "barpolar": [
           {
            "marker": {
             "line": {
              "color": "#E5ECF6",
              "width": 0.5
             },
             "pattern": {
              "fillmode": "overlay",
              "size": 10,
              "solidity": 0.2
             }
            },
            "type": "barpolar"
           }
          ],
          "carpet": [
           {
            "aaxis": {
             "endlinecolor": "#2a3f5f",
             "gridcolor": "white",
             "linecolor": "white",
             "minorgridcolor": "white",
             "startlinecolor": "#2a3f5f"
            },
            "baxis": {
             "endlinecolor": "#2a3f5f",
             "gridcolor": "white",
             "linecolor": "white",
             "minorgridcolor": "white",
             "startlinecolor": "#2a3f5f"
            },
            "type": "carpet"
           }
          ],
          "choropleth": [
           {
            "colorbar": {
             "outlinewidth": 0,
             "ticks": ""
            },
            "type": "choropleth"
           }
          ],
          "contour": [
           {
            "colorbar": {
             "outlinewidth": 0,
             "ticks": ""
            },
            "colorscale": [
             [
              0,
              "#0d0887"
             ],
             [
              0.1111111111111111,
              "#46039f"
             ],
             [
              0.2222222222222222,
              "#7201a8"
             ],
             [
              0.3333333333333333,
              "#9c179e"
             ],
             [
              0.4444444444444444,
              "#bd3786"
             ],
             [
              0.5555555555555556,
              "#d8576b"
             ],
             [
              0.6666666666666666,
              "#ed7953"
             ],
             [
              0.7777777777777778,
              "#fb9f3a"
             ],
             [
              0.8888888888888888,
              "#fdca26"
             ],
             [
              1,
              "#f0f921"
             ]
            ],
            "type": "contour"
           }
          ],
          "contourcarpet": [
           {
            "colorbar": {
             "outlinewidth": 0,
             "ticks": ""
            },
            "type": "contourcarpet"
           }
          ],
          "heatmap": [
           {
            "colorbar": {
             "outlinewidth": 0,
             "ticks": ""
            },
            "colorscale": [
             [
              0,
              "#0d0887"
             ],
             [
              0.1111111111111111,
              "#46039f"
             ],
             [
              0.2222222222222222,
              "#7201a8"
             ],
             [
              0.3333333333333333,
              "#9c179e"
             ],
             [
              0.4444444444444444,
              "#bd3786"
             ],
             [
              0.5555555555555556,
              "#d8576b"
             ],
             [
              0.6666666666666666,
              "#ed7953"
             ],
             [
              0.7777777777777778,
              "#fb9f3a"
             ],
             [
              0.8888888888888888,
              "#fdca26"
             ],
             [
              1,
              "#f0f921"
             ]
            ],
            "type": "heatmap"
           }
          ],
          "heatmapgl": [
           {
            "colorbar": {
             "outlinewidth": 0,
             "ticks": ""
            },
            "colorscale": [
             [
              0,
              "#0d0887"
             ],
             [
              0.1111111111111111,
              "#46039f"
             ],
             [
              0.2222222222222222,
              "#7201a8"
             ],
             [
              0.3333333333333333,
              "#9c179e"
             ],
             [
              0.4444444444444444,
              "#bd3786"
             ],
             [
              0.5555555555555556,
              "#d8576b"
             ],
             [
              0.6666666666666666,
              "#ed7953"
             ],
             [
              0.7777777777777778,
              "#fb9f3a"
             ],
             [
              0.8888888888888888,
              "#fdca26"
             ],
             [
              1,
              "#f0f921"
             ]
            ],
            "type": "heatmapgl"
           }
          ],
          "histogram": [
           {
            "marker": {
             "pattern": {
              "fillmode": "overlay",
              "size": 10,
              "solidity": 0.2
             }
            },
            "type": "histogram"
           }
          ],
          "histogram2d": [
           {
            "colorbar": {
             "outlinewidth": 0,
             "ticks": ""
            },
            "colorscale": [
             [
              0,
              "#0d0887"
             ],
             [
              0.1111111111111111,
              "#46039f"
             ],
             [
              0.2222222222222222,
              "#7201a8"
             ],
             [
              0.3333333333333333,
              "#9c179e"
             ],
             [
              0.4444444444444444,
              "#bd3786"
             ],
             [
              0.5555555555555556,
              "#d8576b"
             ],
             [
              0.6666666666666666,
              "#ed7953"
             ],
             [
              0.7777777777777778,
              "#fb9f3a"
             ],
             [
              0.8888888888888888,
              "#fdca26"
             ],
             [
              1,
              "#f0f921"
             ]
            ],
            "type": "histogram2d"
           }
          ],
          "histogram2dcontour": [
           {
            "colorbar": {
             "outlinewidth": 0,
             "ticks": ""
            },
            "colorscale": [
             [
              0,
              "#0d0887"
             ],
             [
              0.1111111111111111,
              "#46039f"
             ],
             [
              0.2222222222222222,
              "#7201a8"
             ],
             [
              0.3333333333333333,
              "#9c179e"
             ],
             [
              0.4444444444444444,
              "#bd3786"
             ],
             [
              0.5555555555555556,
              "#d8576b"
             ],
             [
              0.6666666666666666,
              "#ed7953"
             ],
             [
              0.7777777777777778,
              "#fb9f3a"
             ],
             [
              0.8888888888888888,
              "#fdca26"
             ],
             [
              1,
              "#f0f921"
             ]
            ],
            "type": "histogram2dcontour"
           }
          ],
          "mesh3d": [
           {
            "colorbar": {
             "outlinewidth": 0,
             "ticks": ""
            },
            "type": "mesh3d"
           }
          ],
          "parcoords": [
           {
            "line": {
             "colorbar": {
              "outlinewidth": 0,
              "ticks": ""
             }
            },
            "type": "parcoords"
           }
          ],
          "pie": [
           {
            "automargin": true,
            "type": "pie"
           }
          ],
          "scatter": [
           {
            "marker": {
             "colorbar": {
              "outlinewidth": 0,
              "ticks": ""
             }
            },
            "type": "scatter"
           }
          ],
          "scatter3d": [
           {
            "line": {
             "colorbar": {
              "outlinewidth": 0,
              "ticks": ""
             }
            },
            "marker": {
             "colorbar": {
              "outlinewidth": 0,
              "ticks": ""
             }
            },
            "type": "scatter3d"
           }
          ],
          "scattercarpet": [
           {
            "marker": {
             "colorbar": {
              "outlinewidth": 0,
              "ticks": ""
             }
            },
            "type": "scattercarpet"
           }
          ],
          "scattergeo": [
           {
            "marker": {
             "colorbar": {
              "outlinewidth": 0,
              "ticks": ""
             }
            },
            "type": "scattergeo"
           }
          ],
          "scattergl": [
           {
            "marker": {
             "colorbar": {
              "outlinewidth": 0,
              "ticks": ""
             }
            },
            "type": "scattergl"
           }
          ],
          "scattermapbox": [
           {
            "marker": {
             "colorbar": {
              "outlinewidth": 0,
              "ticks": ""
             }
            },
            "type": "scattermapbox"
           }
          ],
          "scatterpolar": [
           {
            "marker": {
             "colorbar": {
              "outlinewidth": 0,
              "ticks": ""
             }
            },
            "type": "scatterpolar"
           }
          ],
          "scatterpolargl": [
           {
            "marker": {
             "colorbar": {
              "outlinewidth": 0,
              "ticks": ""
             }
            },
            "type": "scatterpolargl"
           }
          ],
          "scatterternary": [
           {
            "marker": {
             "colorbar": {
              "outlinewidth": 0,
              "ticks": ""
             }
            },
            "type": "scatterternary"
           }
          ],
          "surface": [
           {
            "colorbar": {
             "outlinewidth": 0,
             "ticks": ""
            },
            "colorscale": [
             [
              0,
              "#0d0887"
             ],
             [
              0.1111111111111111,
              "#46039f"
             ],
             [
              0.2222222222222222,
              "#7201a8"
             ],
             [
              0.3333333333333333,
              "#9c179e"
             ],
             [
              0.4444444444444444,
              "#bd3786"
             ],
             [
              0.5555555555555556,
              "#d8576b"
             ],
             [
              0.6666666666666666,
              "#ed7953"
             ],
             [
              0.7777777777777778,
              "#fb9f3a"
             ],
             [
              0.8888888888888888,
              "#fdca26"
             ],
             [
              1,
              "#f0f921"
             ]
            ],
            "type": "surface"
           }
          ],
          "table": [
           {
            "cells": {
             "fill": {
              "color": "#EBF0F8"
             },
             "line": {
              "color": "white"
             }
            },
            "header": {
             "fill": {
              "color": "#C8D4E3"
             },
             "line": {
              "color": "white"
             }
            },
            "type": "table"
           }
          ]
         },
         "layout": {
          "annotationdefaults": {
           "arrowcolor": "#2a3f5f",
           "arrowhead": 0,
           "arrowwidth": 1
          },
          "autotypenumbers": "strict",
          "coloraxis": {
           "colorbar": {
            "outlinewidth": 0,
            "ticks": ""
           }
          },
          "colorscale": {
           "diverging": [
            [
             0,
             "#8e0152"
            ],
            [
             0.1,
             "#c51b7d"
            ],
            [
             0.2,
             "#de77ae"
            ],
            [
             0.3,
             "#f1b6da"
            ],
            [
             0.4,
             "#fde0ef"
            ],
            [
             0.5,
             "#f7f7f7"
            ],
            [
             0.6,
             "#e6f5d0"
            ],
            [
             0.7,
             "#b8e186"
            ],
            [
             0.8,
             "#7fbc41"
            ],
            [
             0.9,
             "#4d9221"
            ],
            [
             1,
             "#276419"
            ]
           ],
           "sequential": [
            [
             0,
             "#0d0887"
            ],
            [
             0.1111111111111111,
             "#46039f"
            ],
            [
             0.2222222222222222,
             "#7201a8"
            ],
            [
             0.3333333333333333,
             "#9c179e"
            ],
            [
             0.4444444444444444,
             "#bd3786"
            ],
            [
             0.5555555555555556,
             "#d8576b"
            ],
            [
             0.6666666666666666,
             "#ed7953"
            ],
            [
             0.7777777777777778,
             "#fb9f3a"
            ],
            [
             0.8888888888888888,
             "#fdca26"
            ],
            [
             1,
             "#f0f921"
            ]
           ],
           "sequentialminus": [
            [
             0,
             "#0d0887"
            ],
            [
             0.1111111111111111,
             "#46039f"
            ],
            [
             0.2222222222222222,
             "#7201a8"
            ],
            [
             0.3333333333333333,
             "#9c179e"
            ],
            [
             0.4444444444444444,
             "#bd3786"
            ],
            [
             0.5555555555555556,
             "#d8576b"
            ],
            [
             0.6666666666666666,
             "#ed7953"
            ],
            [
             0.7777777777777778,
             "#fb9f3a"
            ],
            [
             0.8888888888888888,
             "#fdca26"
            ],
            [
             1,
             "#f0f921"
            ]
           ]
          },
          "colorway": [
           "#636efa",
           "#EF553B",
           "#00cc96",
           "#ab63fa",
           "#FFA15A",
           "#19d3f3",
           "#FF6692",
           "#B6E880",
           "#FF97FF",
           "#FECB52"
          ],
          "font": {
           "color": "#2a3f5f"
          },
          "geo": {
           "bgcolor": "white",
           "lakecolor": "white",
           "landcolor": "#E5ECF6",
           "showlakes": true,
           "showland": true,
           "subunitcolor": "white"
          },
          "hoverlabel": {
           "align": "left"
          },
          "hovermode": "closest",
          "mapbox": {
           "style": "light"
          },
          "paper_bgcolor": "white",
          "plot_bgcolor": "#E5ECF6",
          "polar": {
           "angularaxis": {
            "gridcolor": "white",
            "linecolor": "white",
            "ticks": ""
           },
           "bgcolor": "#E5ECF6",
           "radialaxis": {
            "gridcolor": "white",
            "linecolor": "white",
            "ticks": ""
           }
          },
          "scene": {
           "xaxis": {
            "backgroundcolor": "#E5ECF6",
            "gridcolor": "white",
            "gridwidth": 2,
            "linecolor": "white",
            "showbackground": true,
            "ticks": "",
            "zerolinecolor": "white"
           },
           "yaxis": {
            "backgroundcolor": "#E5ECF6",
            "gridcolor": "white",
            "gridwidth": 2,
            "linecolor": "white",
            "showbackground": true,
            "ticks": "",
            "zerolinecolor": "white"
           },
           "zaxis": {
            "backgroundcolor": "#E5ECF6",
            "gridcolor": "white",
            "gridwidth": 2,
            "linecolor": "white",
            "showbackground": true,
            "ticks": "",
            "zerolinecolor": "white"
           }
          },
          "shapedefaults": {
           "line": {
            "color": "#2a3f5f"
           }
          },
          "ternary": {
           "aaxis": {
            "gridcolor": "white",
            "linecolor": "white",
            "ticks": ""
           },
           "baxis": {
            "gridcolor": "white",
            "linecolor": "white",
            "ticks": ""
           },
           "bgcolor": "#E5ECF6",
           "caxis": {
            "gridcolor": "white",
            "linecolor": "white",
            "ticks": ""
           }
          },
          "title": {
           "x": 0.05
          },
          "xaxis": {
           "automargin": true,
           "gridcolor": "white",
           "linecolor": "white",
           "ticks": "",
           "title": {
            "standoff": 15
           },
           "zerolinecolor": "white",
           "zerolinewidth": 2
          },
          "yaxis": {
           "automargin": true,
           "gridcolor": "white",
           "linecolor": "white",
           "ticks": "",
           "title": {
            "standoff": 15
           },
           "zerolinecolor": "white",
           "zerolinewidth": 2
          }
         }
        },
        "title": {
         "text": "Discount Certificate"
        },
        "xaxis": {
         "anchor": "y",
         "domain": [
          0,
          0.94
         ],
         "title": {
          "text": "Underlying at Maturity"
         }
        },
        "yaxis": {
         "anchor": "x",
         "domain": [
          0,
          1
         ],
         "title": {
          "text": "PnL"
         }
        },
        "yaxis2": {
         "anchor": "x",
         "overlaying": "y",
         "side": "right",
         "title": {
          "text": "Payoff"
         }
        }
       }
      }
     },
     "metadata": {},
     "output_type": "display_data"
    }
   ],
   "source": [
    "S0 = 70\n",
    "St = np.linspace(S0*0.8, S0*1.3, 101)\n",
    "\n",
    "premium = 5\n",
    "cap = 77\n",
    "PnL_DC =  [np.min([S, cap]) - S0 + premium  for S in St]\n",
    "Payoff_Opt = [premium - np.max([S - cap, 0]) for S in St]\n",
    "\n",
    "fig = make_subplots(specs=[[{\"secondary_y\": True}]])\n",
    "\n",
    "# Add trades\n",
    "fig.add_trace(go.Scatter(x=St,y=St,mode='lines',name='Payoff Underlying',visible = \"legendonly\"),secondary_y=True,)\n",
    "fig.add_trace(go.Scatter(x=St,y=[S0 - premium + DC_pnl for DC_pnl in PnL_DC],mode='markers',name='Payoff Certificate',visible = \"legendonly\"),secondary_y=True)\n",
    "\n",
    "fig.add_trace(go.Scatter(x=St,y=St - S0,mode='lines',name='PnL Underlying'))\n",
    "fig.add_trace(go.Scatter(x=St,y=PnL_DC,mode='markers',name='PnL Discount Certificate'))\n",
    "fig.add_trace(go.Scatter(x=St,y=Payoff_Opt,mode='lines+markers',name='PnL Embedded Short Call'))\n",
    "\n",
    "fig.add_vline(x=S0,annotation_text='S0',line_dash='dash',line_color='black')\n",
    "fig.add_vline(x=cap,annotation_text='Cap',line_dash='dash',line_color='black')\n",
    "\n",
    "# Add figure title\n",
    "fig.update_layout(title_text='Discount Certificate')\n",
    "\n",
    "# Set x-axis title\n",
    "fig.update_xaxes(title_text='Underlying at Maturity')\n",
    "\n",
    "# Set y-axis titles\n",
    "fig.update_yaxes(title_text='PnL', secondary_y=False)\n",
    "fig.update_yaxes(title_text='Payoff', secondary_y=True)\n",
    "\n",
    "fig.show()"
   ]
  },
  {
   "cell_type": "markdown",
   "metadata": {},
   "source": [
    "https://www.boerse-stuttgart.de/de-de/produkte/anlageprodukte/discount-zertifikate/stuttgart/dv06rg#Daten-&-Zahlen"
   ]
  },
  {
   "cell_type": "markdown",
   "metadata": {},
   "source": [
    "---"
   ]
  },
  {
   "cell_type": "code",
   "execution_count": 4,
   "metadata": {},
   "outputs": [],
   "source": [
    "def B76OptionPricer(Type,F, K, r_dsc, sigma, T, t=0):\n",
    "    d1 = (math.log(F/K)+(sigma**2/2)*(T-t))/(sigma*math.sqrt(T-t))\n",
    "    d2 = d1-sigma*math.sqrt(T-t)\n",
    "    if Type=='c':\n",
    "        cp = 1\n",
    "    if Type =='p':\n",
    "        cp = -1\n",
    "    return cp*math.exp(-r_dsc*(T-t))*(F*norm.cdf(cp*d1)-K*norm.cdf(cp*d2))"
   ]
  },
  {
   "cell_type": "code",
   "execution_count": 5,
   "metadata": {},
   "outputs": [
    {
     "name": "stdout",
     "output_type": "stream",
     "text": [
      "Call price =  0.6677631743000596\n"
     ]
    }
   ],
   "source": [
    "# Definition of the input parameters\n",
    "#S0 = 90 # Current spot price\n",
    "K = cap # 50 # Strike price\n",
    "r_dsc = 0.0 # Discount rate\n",
    "r_f = 0.0 # Funding rate\n",
    "r_b = 0.00 # Borrowing rate\n",
    "sigma = 0.10 # Volatility of the underlying\n",
    "t = 0.0 # Time to valuation date\n",
    "T = 1.0 # Time to maturity\n",
    "F0 = S0*math.exp((r_f-r_b)*(T-t)) # Forward value is calculated assuming a funding-rate different from the discount rate minus the borrowing rate\n",
    "\n",
    "# Calculation of the call price\n",
    "c = B76OptionPricer('c', F0, K, r_dsc, sigma, T, t)\n",
    "print('Call price = ', c)\n",
    "\n",
    "# #Calculation of the put price\n",
    "# p = B76OptionPricer('p', F0, K, r_dsc, sigma, T, t)\n",
    "# print('Put price = ', p)"
   ]
  },
  {
   "cell_type": "code",
   "execution_count": 6,
   "metadata": {},
   "outputs": [],
   "source": [
    "fwd_spots = np.linspace(S0*0.8, S0*1.3, 101)\n",
    "    \n",
    "short_call_prices = []\n",
    "for i in range(len(fwd_spots)):\n",
    "    short_call_prices.append(B76OptionPricer('c', fwd_spots[i], K, r_dsc, sigma, T, t))"
   ]
  },
  {
   "cell_type": "code",
   "execution_count": 7,
   "metadata": {},
   "outputs": [
    {
     "data": {
      "text/plain": [
       "28.00238696829446"
      ]
     },
     "execution_count": 7,
     "metadata": {},
     "output_type": "execute_result"
    }
   ],
   "source": [
    "B76OptionPricer('c', 105, K, r_dsc, sigma, T, t)"
   ]
  },
  {
   "cell_type": "code",
   "execution_count": 8,
   "metadata": {},
   "outputs": [
    {
     "data": {
      "text/plain": [
       "0.20881569492068763"
      ]
     },
     "execution_count": 8,
     "metadata": {},
     "output_type": "execute_result"
    }
   ],
   "source": [
    "B76OptionPricer('c', 100, 100, r_dsc, sigma, T, 1-1/365) #underlying/fwd + strike"
   ]
  },
  {
   "cell_type": "code",
   "execution_count": 9,
   "metadata": {},
   "outputs": [
    {
     "data": {
      "application/vnd.plotly.v1+json": {
       "config": {
        "plotlyServerURL": "https://plot.ly"
       },
       "data": [
        {
         "colorscale": [
          [
           0,
           "rgb(0, 147, 146)"
          ],
          [
           0.16666666666666666,
           "rgb(57, 177, 133)"
          ],
          [
           0.3333333333333333,
           "rgb(156, 203, 134)"
          ],
          [
           0.5,
           "rgb(233, 226, 156)"
          ],
          [
           0.6666666666666666,
           "rgb(238, 180, 121)"
          ],
          [
           0.8333333333333334,
           "rgb(232, 132, 113)"
          ],
          [
           1,
           "rgb(207, 89, 126)"
          ]
         ],
         "contours": {
          "x": {
           "color": "red",
           "show": true,
           "size": 0.1
          },
          "y": {
           "color": "red",
           "show": true,
           "size": 0.1
          }
         },
         "hovertemplate": "Underlying:  %{y: .2%}<br>Maturity (yrs): %{x: .1f}<br>Payoff: %{z: .2f}<extra></extra>",
         "opacity": 0.75,
         "type": "surface",
         "x": [
          0,
          0.04986301369863014,
          0.09972602739726028,
          0.1495890410958904,
          0.19945205479452055,
          0.2493150684931507,
          0.2991780821917808,
          0.349041095890411,
          0.3989041095890411,
          0.4487671232876712,
          0.4986301369863014,
          0.5484931506849315,
          0.5983561643835617,
          0.6482191780821918,
          0.698082191780822,
          0.7479452054794521,
          0.7978082191780822,
          0.8476712328767123,
          0.8975342465753424,
          0.9473972602739726,
          0.9972602739726028
         ],
         "y": [
          56,
          56.35,
          56.7,
          57.05,
          57.4,
          57.75,
          58.1,
          58.45,
          58.8,
          59.15,
          59.5,
          59.85,
          60.2,
          60.55,
          60.9,
          61.25,
          61.6,
          61.95,
          62.3,
          62.65,
          63,
          63.35,
          63.7,
          64.05,
          64.4,
          64.75,
          65.1,
          65.45,
          65.8,
          66.15,
          66.5,
          66.85,
          67.2,
          67.55,
          67.9,
          68.25,
          68.6,
          68.95,
          69.3,
          69.65,
          70,
          70.35,
          70.7,
          71.05,
          71.4,
          71.75,
          72.1,
          72.45,
          72.8,
          73.15,
          73.5,
          73.85,
          74.2,
          74.55,
          74.9,
          75.25,
          75.6,
          75.95,
          76.3,
          76.65,
          77,
          77.35,
          77.7,
          78.05,
          78.4,
          78.75,
          79.1,
          79.45,
          79.8,
          80.15,
          80.5,
          80.85,
          81.2,
          81.55,
          81.9,
          82.25,
          82.6,
          82.95,
          83.3,
          83.65,
          84,
          84.35,
          84.7,
          85.05,
          85.4,
          85.75,
          86.1,
          86.45,
          86.8,
          87.15,
          87.5,
          87.85,
          88.19999999999999,
          88.55,
          88.9,
          89.25,
          89.6,
          89.94999999999999,
          90.3,
          90.65,
          91
         ],
         "z": [
          [
           0.001286701644448704,
           0.0009218891389059514,
           0.0006387795486449376,
           0.00042563863929492504,
           0.0002708302181930293,
           0.00016310739587650086,
           0.00009192899323617713,
           0.000047779025474717785,
           0.000022456782923249794,
           0.00000929579897755023,
           0.000003266317124169622,
           9.240723867637312e-7,
           1.945509679010689e-7,
           2.6959252566487917e-8,
           2.007174848424459e-9,
           5.5915501371130615e-11,
           2.85059648288902e-13,
           5.1410837529710896e-17,
           2.6525739873287897e-24,
           4.199551116094204e-45,
           0
          ],
          [
           0.0016221179110208206,
           0.0011745457074291005,
           0.0008234331185539984,
           0.0005558932251619533,
           0.00035893564207986617,
           0.0002197842533086837,
           0.00012623816863277515,
           0.00006705549153036882,
           0.00003232628274708752,
           0.000013787281969523273,
           0.000005021042284372311,
           0.0000014838557358826663,
           3.2986994135312224e-7,
           4.901165944656585e-8,
           4.003258386248608e-9,
           1.2689835763799546e-10,
           7.844051935364296e-13,
           1.94539049965636e-16,
           1.8811612657088573e-23,
           1.83468491214385e-43,
           0
          ],
          [
           0.002035093829981849,
           0.001488834700091042,
           0.0010557625827743583,
           0.0007218762474222422,
           0.00047282439733917214,
           0.00029424218440884074,
           0.00017215126042834962,
           0.00009340647618323941,
           0.000046156643966323296,
           0.00002026819658814175,
           0.00000764333252301953,
           0.000002356960569551271,
           5.524956214232669e-7,
           8.786150372741013e-8,
           7.85461470333483e-9,
           2.823774768964435e-10,
           2.105974291071644e-12,
           7.123885739442493e-16,
           1.270367687155241e-22,
           7.283449113033205e-42,
           0
          ],
          [
           0.0025411094879424084,
           0.0018778024977423868,
           0.001346507057879004,
           0.0009321837708651734,
           0.0006191505220548878,
           0.0003914274085251683,
           0.0002331670924955176,
           0.0001291592890804577,
           0.0000653805100432627,
           0.000029537062165608217,
           0.000011523997739359927,
           0.0000037040307006404793,
           9.143004083580727e-7,
           1.553517839495209e-7,
           1.5165181452196253e-8,
           6.163222718202715e-10,
           5.519046206742345e-12,
           2.526018776539769e-15,
           8.1761529953955625e-22,
           2.6317634664834753e-40,
           0
          ],
          [
           0.0031581876288924587,
           0.0023567902142069136,
           0.0017084347469302902,
           0.001197162780686975,
           0.0008060351211581426,
           0.0005174720866805947,
           0.00031370174133796454,
           0.00017731259645179312,
           0.00009188870457443182,
           0.000042678098587102444,
           0.000017212017602600974,
           0.0000057602780779770395,
           0.0000014952654443161029,
           2.709947078506159e-7,
           2.8820923390758562e-8,
           1.3198965299789144e-9,
           1.4124075923824678e-11,
           8.677848346812792e-15,
           5.019360859286121e-21,
           8.669477846538842e-39,
           0
          ],
          [
           0.003907203383471253,
           0.0029437399526798386,
           0.002156640092941281,
           0.00152919314362511,
           0.0010433268647424762,
           0.0006799273199822181,
           0.00041928879048518455,
           0.00024170016267218743,
           0.00012815589403114645,
           0.00006115006160853018,
           0.000025470871456081652,
           0.000008866297273403111,
           0.0000024171883427227933,
           4.6648619861769435e-7,
           5.392987111629854e-8,
           2.774429300704998e-9,
           3.531214754326471e-11,
           2.8899136877155935e-14,
           2.941602522206859e-20,
           2.6077318806299215e-37,
           0
          ],
          [
           0.004812213006848559,
           0.0036595240523858708,
           0.002708867618625002,
           0.0019429994193047168,
           0.0013428946825509713,
           0.0008880295664163221,
           0.0005568128133432992,
           0.0003271860069983083,
           0.00017739417751452824,
           0.00008689804393113756,
           0.000037351926249516894,
           0.000013509922833642384,
           0.000003863289223164515,
           7.926010811162246e-7,
           9.938786943936636e-8,
           5.726033551710141e-9,
           8.628509267844387e-11,
           9.334515089646368e-14,
           1.64704288058194e-19,
           7.173486364000749e-36,
           0
          ],
          [
           0.005900799788557232,
           0.004528296053373321,
           0.0033858618798815326,
           0.002455992774062804,
           0.0017189538292001066,
           0.0011530026186299044,
           0.0007347791602168238,
           0.00043989483924760514,
           0.00024373897927984327,
           0.00012249272597409256,
           0.00005428899071875269,
           0.00002038240521370395,
           0.000006105883280635709,
           0.0000013295689958933032,
           1.8044252552752873e-7,
           1.1607067872407656e-8,
           2.0614414700953441e-10,
           2.9259363616591736e-13,
           8.817662015374682e-19,
           1.8074016421511032e-34,
           0
          ],
          [
           0.007204434754897016,
           0.005577861525756012,
           0.004211742363185583,
           0.0030886426691067864,
           0.0021884259737320055,
           0.001488396874888484,
           0.0009636228808029626,
           0.0005874816108106737,
           0.000332471842117453,
           0.0001713020283103904,
           0.00007821879934989066,
           0.000030452905516746478,
           0.00000954492806919875,
           0.0000022024600739130253,
           3.228217076841762e-7,
           2.3116329429838816e-8,
           4.817287563102227e-10,
           8.904958925442091e-13,
           4.517157144490605e-18,
           4.177173488108246e-33,
           0
          ],
          [
           0.00875884922592468,
           0.006840066292827712,
           0.005214401501926702,
           0.003864877332345723,
           0.0027713333401270107,
           0.0019104670991315909,
           0.0012560592321879394,
           0.000779443857027301,
           0.00045028483357383714,
           0.00023770052543207673,
           0.00011173285226345232,
           0.00004506611285165713,
           0.00001476102237324482,
           0.0000036036691081975858,
           5.692716312484059e-7,
           4.5245946885187146e-8,
           1.1015392424287977e-9,
           2.632790508291775e-12,
           2.2159974776279396e-17,
           8.868440739218821e-32,
           0
          ],
          [
           0.010604415726310545,
           0.008351198936686954,
           0.006425923283912116,
           0.0048125112858369845,
           0.003491226194993091,
           0.0024385891995775816,
           0.001627477691248519,
           0.0010274801910505338,
           0.0006055912513710272,
           0.00032732229252081455,
           0.00015826667537929134,
           0.00006606865327510834,
           0.00002258733559977336,
           0.000005825301946975824,
           9.89741824178176e-7,
           8.706411750432823e-8,
           2.4656397433573895e-9,
           7.5654937345366e-12,
           1.0418098615608026e-16,
           1.732087703607191e-30,
           0
          ],
          [
           0.012786533195396965,
           0.010152403823775469,
           0.007883019184482976,
           0.005963697399136492,
           0.004375642151149273,
           0.0030957157584880074,
           0.002096380700059172,
           0.0013458978175031125,
           0.0008088871176872292,
           0.00044736303365912333,
           0.00022233313938141604,
           0.00009597085838074833,
           0.0000342059785687107,
           0.000009305161245179677,
           0.0000016969946177470825,
           1.647514703500889e-7,
           5.404492566907794e-9,
           2.1140247640031243e-11,
           4.697205543240984e-16,
           3.1164426227164476e-29,
           0
          ],
          [
           0.015356011910578227,
           0.01229010024103605,
           0.009627477402185725,
           0.007355400086870967,
           0.00545659484188496,
           0.003908869122995318,
           0.002684867518762249,
           0.0017520712497027247,
           0.0010731675537225746,
           0.0006069373389687889,
           0.00030980693867716305,
           0.00013815135556693482,
           0.0000512754739249951,
           0.000014691119311555914,
           0.0000028701449238893273,
           3.0667580731951605e-7,
           1.1604766028529077e-8,
           5.747064057299025e-11,
           2.0325135647328883e-15,
           5.17263765542807e-28,
           0
          ],
          [
           0.018369453044100092,
           0.014816402607602697,
           0.011706620614172991,
           0.009029885383817826,
           0.006771088535215991,
           0.004909669828118274,
           0.0034191625433388495,
           0.00226695352524299,
           0.001414401498623749,
           0.0008174966958791954,
           0.000428267628518636,
           0.00019711277953228176,
           0.00007609721871871655,
           0.000022929964155183084,
           0.000004789595074340225,
           5.617164792068863e-7,
           2.4419216637066573e-8,
           1.5207323395655871e-10,
           8.446471962706704e-15,
           7.93074992164674e-27,
           0
          ],
          [
           0.021889617331262157,
           0.01778953613928913,
           0.014173766725743664,
           0.011035222732809769,
           0.008361654219674663,
           0.006134896983488236,
           0.004330186273205694,
           0.0029156401159393386,
           0.0018520673576792601,
           0.0010933133935477832,
           0.000587408690359191,
           0.00027879762193891086,
           0.00011183010787614144,
           0.00003538830874997515,
           0.000007888062979747993,
           0.0000010126687153036543,
           5.037278392382456e-8,
           3.9186302782369606e-10,
           3.373377782269392e-14,
           1.124709333829282e-25,
           0
          ],
          [
           0.025985776952310413,
           0.021274241811360617,
           0.017088686383283314,
           0.013425792432713912,
           0.010276901626251167,
           0.0076270760358100875,
           0.005454165799941402,
           0.0037279844219947345,
           0.002409751017951975,
           0.00145203467046158,
           0.0007995198802277434,
           0.00039097375826547057,
           0.00016276374129997433,
           0.00005401484277956555,
           0.000012823949149699506,
           0.0000017974353212180615,
           1.0190171123138292e-7,
           9.837643164548128e-10,
           1.2956771893941458e-13,
           1.4772502394862725e-24,
           0
          ],
          [
           0.030734044434818752,
           0.025342164006733836,
           0.02051805037380927,
           0.016262791840243596,
           0.012572080581931988,
           0.009435088046000795,
           0.006833280255562402,
           0.004739262237975467,
           0.0031158062484031024,
           0.0019153103310684816,
           0.0010800495506972999,
           0.0005436994329048803,
           0.0002346617850173746,
           0.00008155503702610839,
           0.000020585177768138148,
           0.0000031419253624211997,
           2.0222656508378094e-7,
           2.407244794153092e-9,
           4.789169434131911e-13,
           1.7993229143482514e-23,
           0
          ],
          [
           0.03621767218091021,
           0.030072213868934883,
           0.024535859468958088,
           0.01961473262669544,
           0.01530964404857138,
           0.011614793324786266,
           0.008516335135762276,
           0.005990880900687029,
           0.004004075810095986,
           0.002509495575169829,
           0.001448252666394395,
           0.0007498773544569806,
           0.0003351879938909251,
           0.00012183131081932447,
           0.00003263388848646562,
           0.000005410212245544996,
           3.938343873337698e-7,
           5.7440178483618465e-9,
           1.7046671818384328e-12,
           2.0349277031136505e-22,
           0
          ],
          [
           0.04252731612539917,
           0.03555090111764536,
           0.029223848807700792,
           0.023557920685485456,
           0.018559804218741482,
           0.014229660989078796,
           0.010559457836890607,
           0.007531127007328664,
           0.005114669656732462,
           0.0032664289336162,
           0.0019279288070106204,
           0.0010259069599532974,
           0.00047442800742236724,
           0.00018010353738542179,
           0.00005110492922799463,
           0.00000917964452297438,
           7.529271215611183e-7,
           1.3371140633924195e-8,
           5.846752930663205e-12,
           2.1394769402756572e-21,
           0
          ],
          [
           0.049761257046238905,
           0.04187262694362803,
           0.03467185857023192,
           0.028176909695166286,
           0.022401072150893375,
           0.017351394773122863,
           0.013026805157960508,
           0.009415944667402809,
           0.006494794436511908,
           0.004224282990918732,
           0.002548252534802148,
           0.0013924427602898526,
           0.0006655201642620998,
           0.0002635264499574949,
           0.00007907394636862391,
           0.00001535133096868522,
           0.000001413510646648984,
           3.037848597900867e-8,
           1.9335741469790455e-11,
           2.0936766695820233e-20,
           0
          ],
          [
           0.058025573184516954,
           0.0491399305911866,
           0.04097816249342823,
           0.03356491889064861,
           0.026920770663246385,
           0.021060544294910666,
           0.015991271969122645,
           0.011709734274428785,
           0.008199626157293805,
           0.005428483022874853,
           0.003344696077916598,
           0.001875264900862636,
           0.0009254081001534853,
           0.00038172184723216096,
           0.00012091387636372838,
           0.000025309792895817848,
           0.000002606710998988304,
           6.738973956588464e-8,
           6.169482336042702e-11,
           1.909284605830336e-19,
           0
          ],
          [
           0.06743425809210812,
           0.0574636823692547,
           0.04824974573132712,
           0.03982420530598829,
           0.032215509601773995,
           0.02544708998244105,
           0.019535188788304958,
           0.014486159812742372,
           0.010293215406408374,
           0.006932685827919727,
           0.004360041351425509,
           0.0025062656007571182,
           0.0012757266534605682,
           0.0005474842724208714,
           0.00018276164067194609,
           0.000041149604274216475,
           0.000004723600117416253,
           1.4602717352074586e-7,
           1.9004004620723204e-10,
           1.6244182225691843e-18,
           1.718159068581691e-306
          ],
          [
           0.07810927801260337,
           0.06696321611281064,
           0.056602523684691874,
           0.047066380645537365,
           0.038391612182898216,
           0.030610989048496462,
           0.023750994693174876,
           0.017828950816773936,
           0.01284941199559414,
           0.008799807947796945,
           0.005645474935775718,
           0.00332455193609818,
           0.0017438304683297934,
           0.0007776388236627602,
           0.0002731195947751966,
           0.00006599147035427511,
           0.00000841349877859208,
           3.0921851660002393e-7,
           5.65474168093203e-10,
           1.2908921860047875e-17,
           1.1553908219467886e-289
          ],
          [
           0.09018056361403604,
           0.07776639454733392,
           0.06616149371997948,
           0.05541266303306158,
           0.04556548091317403,
           0.036662669306792184,
           0.02874187088174429,
           0.021832683346324266,
           0.01595279341343525,
           0.011103089239634323,
           0.007261755817778159,
           0.004377661506872299,
           0.002363971547325955,
           0.0010940687006000677,
           0.0004036184743616937,
           0.00010441528203307404,
           0.00001473460129366392,
           6.401273816700252e-7,
           1.6263372440337877e-9,
           9.592635319037185e-17,
           2.097285267045163e-273
          ],
          [
           0.10378593152556403,
           0.09000960158944116,
           0.07706081217490457,
           0.06499405419253357,
           0.05386389162879368,
           0.043723457283485034,
           0.03462231933597515,
           0.02660352280526701,
           0.019699579104500153,
           0.013927174480004356,
           0.009280441563114916,
           0.005722882910185356,
           0.003178627788995997,
           0.0015249277624351798,
           0.0005899698459330069,
           0.0001630429617618858,
           0.00002537999789528362,
           0.000001296018650455335,
           4.523702177104133e-9,
           6.673060976446768e-16,
           1.0487710029224554e-257
          ],
          [
           0.1190709318776979,
           0.10383765634193765,
           0.08944378970421907,
           0.07595143313650565,
           0.06342420449441244,
           0.05192592702731447,
           0.041518670488777554,
           0.032259910186059004,
           0.024198510454511157,
           0.017369192470645722,
           0.011785154253031838,
           0.007428667720004112,
           0.004239979227162266,
           0.002106049551823058,
           0.000853135984374559,
           0.00025130898367782886,
           0.00004300983059324099,
           0.0000025672764780264312,
           1.2176288606977909e-8,
           4.350384189808474e-15,
           1.4738779633600004e-242
          ],
          [
           0.13618861889601197,
           0.11940364440293649,
           0.1034627988512904,
           0.0884355581794618,
           0.07439448136411064,
           0.06141415628392832,
           0.04956950359028789,
           0.038933172438630814,
           0.02957167454489551,
           0.021539809106733587,
           0.01487286313114089,
           0.0095761149754931,
           0.005611522305960404,
           0.002882558760343129,
           0.0012207432200510432,
           0.00038246075087115805,
           0.00007172932811136921,
           0.000004977612514990093,
           3.173380633672278e-8,
           2.6608159321568366e-14,
           5.936072972544088e-228
          ],
          [
           0.15529924253894034,
           0.13686866309410428,
           0.1192790887281947,
           0.10260697004956398,
           0.08693349974094478,
           0.07234387729180725,
           0.05892596365045577,
           0.046768037203004154,
           0.03595524834699759,
           0.026564228200987694,
           0.0186551566433123,
           0.012260503186661276,
           0.007369805188371936,
           0.003910683883118382,
           0.0017287606849691606,
           0.0005748338429274538,
           0.00011776252072284374,
           0.000009449854482469289,
           8.012378989882233e-8,
           1.528444437633487e-13,
           6.98446866827831e-214
          ],
          [
           0.17656986018549237,
           0.15640147830720252,
           0.1370625028357657,
           0.11863579003204938,
           0.1012106546714251,
           0.08488251038650807,
           0.0697519594279381,
           0.055923032164505226,
           0.04350013914841022,
           0.0325831116717934,
           0.023259472607214726,
           0.015592838802112707,
           0.009606258995663253,
           0.005259760839448402,
           0.0024234596554993104,
           0.0008534476783445891,
           0.00019038193044573423,
           0.000017573223859634283,
           1.9609922118059774e-7,
           8.254465090847472e-13,
           2.4465172013805532e-200
          ],
          [
           0.200173868450924,
           0.17817809185208144,
           0.15699109733617078,
           0.1367014084243099,
           0.11740574126574321,
           0.09920906986430644,
           0.08222422795501272,
           0.06657074983014555,
           0.05237249672321731,
           0.03975338913770865,
           0.028830251821425623,
           0.019701384212975737,
           0.012429091281106364,
           0.007014406751005342,
           0.0033636590539753153,
           0.0012519644620785642,
           0.0003031644947977981,
           0.00003202322212166259,
           4.6548504014258865e-7,
           4.195501513227109e-12,
           2.5988262894368066e-187
          ],
          [
           0.22629045631847866,
           0.20238121944198273,
           0.17925065848211208,
           0.15699206009440392,
           0.1357086121239246,
           0.1155139331438284,
           0.09653225253616116,
           0.07889795961123003,
           0.06275407314047676,
           0.04824892613964393,
           0.03552997772219402,
           0.024733122982488753,
           0.015965199300898347,
           0.009276831134066632,
           0.0046232500041831215,
           0.0018150474964132163,
           0.0004756520401315856,
           0.00005720437941781047,
           0.0000010722328313170172,
           2.00900256578498e-11,
           8.525244782641879e-175
          ],
          [
           0.2551039819023675,
           0.22919968074994923,
           0.20403411938238225,
           0.1797042855835853,
           0.15631870574571494,
           0.13399846615187716,
           0.11287802302278926,
           0.09310555074010418,
           0.07484240719838553,
           0.058261020243095984,
           0.043540062914769306,
           0.030855115401438482,
           0.02036205217285736,
           0.012169238887143385,
           0.0062939767136855895,
           0.0026011432051055716,
           0.0007354990095508537,
           0.00010020886512951584,
           0.000002398070158638095,
           9.072353981260009e-11,
           8.791866577056082e-163
          ],
          [
           0.2868032762805388,
           0.25882770428838064,
           0.23154087781471855,
           0.20504227794782537,
           0.17944444397388626,
           0.15487450001539216,
           0.13147562942241375,
           0.10940829173955713,
           0.08885081229938896,
           0.06999869523868751,
           0.0530615427218335,
           0.03825569398588846,
           0.02578948327451669,
           0.01583626619222267,
           0.008488432706160842,
           0.003685693949413593,
           0.001121188792061606,
           0.00017220916470548145,
           0.000005210244021593038,
           3.867579867426748e-10,
           2.9007186855199698e-151
          ],
          [
           0.3215808789331449,
           0.2914641511765028,
           0.26197601835279016,
           0.23321711735716733,
           0.20530249862733463,
           0.17836365652308572,
           0.15255068250847703,
           0.12803439487369195,
           0.10500814914332457,
           0.08368876561228156,
           0.06431553645005605,
           0.047145446449001094,
           0.03244132772097097,
           0.020447377476223272,
           0.011343211155200317,
           0.005164765633165924,
           0.0016853906570744037,
           0.0002904284042619318,
           0.000011002970488345259,
           1.5580145904945312e-9,
           3.1149567633759807e-140
          ],
          [
           0.35963221037402615,
           0.3273116631412334,
           0.29554944362330904,
           0.26444589732768,
           0.23411692967700315,
           0.204696522378649,
           0.1763395580049787,
           0.14922487719263433,
           0.12355836788392782,
           0.0995756464131694,
           0.07754343898182015,
           0.05775793325259171,
           0.04053683497500282,
           0.02619913967888432,
           0.01502212667033731,
           0.007159045399941444,
           0.0024990098175976805,
           0.0004808538007317967,
           0.000022596876853700053,
           5.936719337771668e-9,
           1.1072920086435303e-129
          ],
          [
           0.4011546885464874,
           0.3665757413203634,
           0.33247492101818565,
           0.29895074830786594,
           0.2661181995563169,
           0.23411167494489504,
           0.203088464064769,
           0.1732327133750431,
           0.14475980831410862,
           0.11792088758952657,
           0.09300680860937094,
           0.0703500882833552,
           0.050321784044805806,
           0.03331728008436996,
           0.019719404520078365,
           0.009818131185385326,
           0.0036559517734031655,
           0.0007818720390111722,
           0.000045154723332671044,
           2.1418616552142766e-8,
           1.3248068575302297e-119
          ],
          [
           0.446346796452735,
           0.4094637635780458,
           0.3729690526253009,
           0.336957766139828,
           0.3015420704277503,
           0.2668545649140954,
           0.2330523350689626,
           0.20032177949115848,
           0.16888425113606598,
           0.13900241672339497,
           0.11098692174316005,
           0.08520225464182651,
           0.06206922872427034,
           0.04205842674657401,
           0.02566271333434078,
           0.013324997903304436,
           0.005278577840656051,
           0.001249003781063851,
           0.00008784216932254153,
           7.323711804299853e-8,
           5.422742936926462e-110
          ],
          [
           0.4954071092816985,
           0.45618394907813276,
           0.41725017747739557,
           0.3786958546254926,
           0.3406283933966474,
           0.3031762640681581,
           0.2664935581670669,
           0.23076559095942173,
           0.1962157183287685,
           0.16311347978317947,
           0.13178397118555463,
           0.10261781303569961,
           0.07607980324099684,
           0.0527114268751423,
           0.03311590035083878,
           0.017900486662584703,
           0.007523771828668924,
           0.0019608909193959134,
           0.00016644708526245,
           2.3756890377964684e-7,
           7.716873349661981e-101
          ],
          [
           0.5485332899767172,
           0.5069442797707264,
           0.46553721642515633,
           0.42439549301113644,
           0.38361980072287416,
           0.34333208894719824,
           0.30368054236760234,
           0.26484584224539987,
           0.22704902592045073,
           0.19056127588225902,
           0.15571589194590718,
           0.1229223677975364,
           0.09268152469135371,
           0.06559813914339552,
           0.042381275849047384,
           0.023807626267095205,
           0.010589469838401144,
           0.003026637712475244,
           0.00030736219315531665,
           7.317947816534579e-7,
           3.878722014128004e-92
          ],
          [
           0.6059210627304754,
           0.561951389212334,
           0.5180484709909585,
           0.4742874406243853,
           0.4307603139802154,
           0.3875801137610235,
           0.344886143290438,
           0.30285076013899115,
           0.2616880979648579,
           0.22166528891787163,
           0.18311680690334686,
           0.14646246496782034,
           0.11222903780919857,
           0.08107360125369256,
           0.05380128707625742,
           0.031355563428123734,
           0.014721429506696526,
           0.004594520171208538,
           0.0005534184103001827,
           0.0000021426600531974363,
           6.993982713989259e-84
          ],
          [
           0.6677631743000596,
           0.6214094297465351,
           0.5750003884326684,
           0.5286013921247079,
           0.4822938828092216,
           0.43617958819173275,
           0.3903859598174595,
           0.34507328662686376,
           0.30044405605086766,
           0.2567553261671218,
           0.21433509376793225,
           0.17360382796879748,
           0.13510225982572965,
           0.0995254845482898,
           0.06775942303833737,
           0.040902852946338,
           0.020219936846347153,
           0.00686195460057426,
           0.0009721062322701063,
           0.000005969050362618139,
           4.5942377581918226e-76
          ],
          [
           0.7342483532933173,
           0.6855189295071344,
           0.6366063059246834,
           0.5875645978343087,
           0.5384628703602026,
           0.4893892777894422,
           0.4404565217449452,
           0.39180911133552243,
           0.34363310408439496,
           0.29616928121928865,
           0.24973108447022696,
           0.20472910882217477,
           0.16170439815641569,
           0.12137276301516753,
           0.08468020099848417,
           0.052859844894211694,
           0.027446074866186665,
           0.010086458206002846,
           0.0016667078432810456,
           0.000015836921391617492,
           1.1161620454589987e-68
          ],
          [
           0.8055602776833197,
           0.7544756509633199,
           0.7030751872310717,
           0.6514004643795737,
           0.5995065026960429,
           0.5474657464049351,
           0.4953733900719772,
           0.44335457714270454,
           0.3915742332068195,
           0.34025064579616604,
           0.2896744180109412,
           0.2402351662347737,
           0.1924593309596725,
           0.14706354444265912,
           0.10502810394657658,
           0.06768990549941378,
           0.036827116288849826,
           0.014597150168049744,
           0.00279074684376196,
           0.0000400569753019964,
           1.0180121145116527e-61
          ],
          [
           0.8818765607629366,
           0.8284694628006335,
           0.7746103654965282,
           0.7203271513765284,
           0.6656593002917788,
           0.6106616014899302,
           0.5554091936864385,
           0.5000044857376427,
           0.4445867763985163,
           0.38934580182358935,
           0.3345410775919113,
           0.2805298957264082,
           0.22780835966526336,
           0.17707203615573075,
           0.12930536567346795,
           0.08590922426847802,
           0.04886056129007699,
           0.02080614509054568,
           0.00456591130838363,
           0.00009668511490699624,
           3.537543490033904e-55
          ],
          [
           0.9633677655554749,
           0.9076832368243934,
           0.8514083058092474,
           0.7945561801289305,
           0.7371495103098447,
           0.6792237240919494,
           0.6208316278770134,
           0.5620498325623124,
           0.5029878464154223,
           0.4438011313421466,
           0.38471015218304494,
           0.32602865079700294,
           0.26820636265840747,
           0.21189464585888373,
           0.1580485358108561,
           0.10808499318892117,
           0.06411632823988933,
           0.029219002949113726,
           0.007303197434760933,
           0.000222921736757975,
           4.752476359651209e-49
          ],
          [
           1.0501964573568117,
           0.9922917812849938,
           0.9336574009974683,
           0.8742910702692868,
           0.8141975585354828,
           0.7533915059542018,
           0.6919014412600912,
           0.6297755026083287,
           0.5670896940910364,
           0.5039599872744471,
           0.44056037122369496,
           0.3771503073966578,
           0.3141173996290352,
           0.25204524849941734,
           0.19182380006771993,
           0.1348317946687727,
           0.08323662752038974,
           0.040443246030227975,
           0.011426457454118744,
           0.0004914735739122156,
           2.5043889821069088e-43
          ],
          [
           1.1425163036075041,
           1.0824608215673166,
           1.0215368137140466,
           0.9597260199647408,
           0.8970145397226581,
           0.8333951162862405,
           0.7688704383368439,
           0.7034579599196,
           0.6371970266017968,
           0.5701595725157187,
           0.5024664685952143,
           0.43431303615147954,
           0.3660098358016963,
           0.29804968142894595,
           0.23122107912094947,
           0.16680610189280554,
           0.10693310983811433,
           0.055193861291460866,
           0.01749685361794917,
           0.0010371802912157169,
           5.251775383819873e-38
          ],
          [
           1.2404712296888718,
           1.1783460385668043,
           1.1152153772508626,
           1.0510446447394592,
           0.9858007646311542,
           0.9194538204974521,
           0.8519795249692557,
           0.7833629643201796,
           0.7136043269574834,
           0.6427277781305136,
           0.570795438059351,
           0.49792985741620477,
           0.4243510734940905,
           0.3504395610290949,
           0.27684698091940163,
           0.20469887575547752,
           0.135980982024539,
           0.07429470184252196,
           0.026235997600687178,
           0.002097371323889652,
           4.44608396186024e-33
          ],
          [
           1.344194638519017,
           1.2800921743087166,
           1.2148505667218146,
           1.1484187891477866,
           1.0807443812444184,
           1.011774372490958,
           0.9414568235870746,
           0.8697433488294948,
           0.7965932166889083,
           0.7219800335073145,
           0.6459027468029106,
           0.5684040628345102,
           0.4896019943904708,
           0.4097455428789871,
           0.3293167329002866,
           0.2492263324137074,
           0.1712099223139809,
           0.09867480366429504,
           0.03854490778806019,
           0.004068505791077759,
           1.5416097015950088e-28
          ],
          [
           1.4538087010067606,
           1.3878322134696361,
           1.320587551277196,
           1.2520074244870223,
           1.1820200865644637,
           1.1105495010188058,
           1.0375158839220404,
           0.9628368904491573,
           0.886429903440348,
           0.8082162220700937,
           0.7281285763937326,
           0.6461245933258581,
           0.5622112288263423,
           0.4764901730170692,
           0.38924526995840836,
           0.301119049649353,
           0.21349179670593976,
           0.12935885300217986,
           0.05551548749551838,
           0.007579093717933971,
           2.22129086724394e-24
          ],
          [
           1.569423723518689,
           1.501686648449251,
           1.4325583368851191,
           1.3619556444892886,
           1.2897879440115645,
           1.2159565091301126,
           1.1403540135424208,
           1.0628643055265563,
           0.9833627539412539,
           0.9017177155462051,
           0.8177941612297204,
           0.7314614670160786,
           0.6426093776516559,
           0.5511804985604876,
           0.45723769811917414,
           0.3611096727736882,
           0.2637253677493341,
           0.1674513725104596,
           0.07843115891786656,
           0.013574409942610055,
           1.3498393498680172e-20
          ],
          [
           1.6911375975454028,
           1.6217628345376554,
           1.550881007960097,
           1.4783937695069866,
           1.4041923198460395,
           1.3281560039385063,
           1.2501507504689613,
           1.1700273987662584,
           1.0876200306691892,
           1.0027445778587065,
           0.9151982934159264,
           0.824761351423767,
           0.731203317417009,
           0.6343006207745425,
           0.5338793901023564,
           0.42991956559708555,
           0.3228183834415823,
           0.2141146215980001,
           0.10875369482919606,
           0.023402427091657962,
           3.512298447098901e-17
          ],
          [
           1.819035335733048,
           1.7481544405473848,
           1.6756590747615725,
           1.6014365681361653,
           1.5253609502131908,
           1.4472907718391035,
           1.3670664977471958,
           1.2845073922297132,
           1.1994078274891855,
           1.1115329865113708,
           1.0206140599691622,
           0.9263433721564489,
           0.8283707204411677,
           0.7263043818004604,
           0.6197259950696044,
           0.5082448230917471,
           0.3916676215971293,
           0.2705406953763134,
           0.14809422485017087,
           0.03888393164617243,
           3.975597069798825e-14
          ],
          [
           1.9531886973947437,
           1.8809409990544914,
           1.8069809320516974,
           1.7311826035400237,
           1.6534041484319921,
           1.5734848119687044,
           1.4912413370921627,
           1.4064634574137287,
           1.3189082357540727,
           1.2282929149687547,
           1.134285873428201,
           1.0364952455262078,
           0.9344549176918697,
           0.8276083771530374,
           0.715293659114284,
           0.5967421145715512,
           0.4711376283033353,
           0.3379188121714538,
           0.1981678196324097,
           0.06234502629285821,
           1.9907870898556797e-11
          ],
          [
           2.0936559055503885,
           2.0201875591393197,
           1.9449194330207895,
           1.8677137099751562,
           1.7884141600473633,
           1.7068425381804637,
           1.622794035680073,
           1.5360314698165034,
           1.4462777678882581,
           1.3532061141401854,
           1.2564268505052318,
           1.1554698150381988,
           1.0497602244709654,
           0.9385854796595936,
           0.8210497544416597,
           0.6960148554403567,
           0.5620390134300415,
           0.41739924981499144,
           0.2607328400145619,
           0.09658962902739177,
           4.4921475954244725e-9
          ],
          [
           2.240481456479994,
           2.165944443257313,
           2.089531580986055,
           2.01109460322035,
           1.9304646709871172,
           1.847448157153785,
           1.7618212569111762,
           1.673323001385306,
           1.5816460604817202,
           1.4864244248255147,
           1.3872165855720233,
           1.2834820619166116,
           1.1745478369529074,
           1.0595590469652016,
           0.9374044034127493,
           0.8066002092751354,
           0.665107239789922,
           0.5100557733825255,
           0.33751815569552335,
           0.14479512327577382,
           4.6639800941857337e-7
          ],
          [
           2.3936960217315857,
           2.318247108624977,
           2.240858339873217,
           2.1613726267968403,
           2.0796104719554336,
           1.9953652275402938,
           1.9083969825881653,
           1.81842456199562,
           1.7251148735338653,
           1.62806844606391,
           1.526799356796829,
           1.4207066480730113,
           1.309032392171467,
           1.1907979646758378,
           1.064703059170622,
           0.9289573994174134,
           0.7809828576490574,
           0.6168486455755371,
           0.43014310849509485,
           0.21032643685394348,
           0.000022839974694821574
          ],
          [
           2.5533164415152996,
           2.4771161122939276,
           2.398924563024927,
           2.318577634081933,
           2.235887279996035,
           2.150636402314248,
           2.0625721505207935,
           1.9713970967437149,
           1.8767573968540532,
           1.7782265769528536,
           1.675282792932581,
           1.5672760366250138,
           1.453379265713643,
           1.3325126515607728,
           1.2032203686489709,
           1.0634577613712004,
           0.9101940899198055,
           0.7385903922313481,
           0.540036429072213,
           0.2964807425117115,
           0.0005441949582083994
          ],
          [
           2.719345807454495,
           2.6425571779265766,
           2.563739038469407,
           2.482722004686771,
           2.399311716012747,
           2.3132833538080106,
           2.2243745081584905,
           2.1322757414507834,
           2.0366178688986594,
           1.936954441888794,
           1.83273701842203,
           1.7232792207177212,
           1.6077026609059288,
           1.4848521231648917,
           1.353155498246558,
           1.2103768969171114,
           1.0531425678279724,
           0.875916393895654,
           0.6683609698424959,
           0.40619272248392946,
           0.006573629775413092
          ],
          [
           2.89177363176546,
           2.81456136119634,
           2.7352946474485975,
           2.65380079182232,
           2.56988143498139,
           2.483306878321386,
           2.393808679539127,
           2.3010698344764506,
           2.2047115076484474,
           2.104274701538465,
           1.9991942839552337,
           1.888761076491953,
           1.7720645214792725,
           1.6479021770520461,
           1.514629049714948,
           1.3698892022316116,
           1.210092859471807,
           1.029262094636131,
           0.8159509445166293,
           0.541743810812072,
           0.04262428971562393
          ],
          [
           3.07057609910936,
           2.99310530972663,
           2.913568631765841,
           2.8317919958400495,
           2.747575403658402,
           2.6606871747459593,
           2.570856439691539,
           2.4777631788204957,
           2.3810247476444175,
           2.280177244388014,
           2.1746490792077964,
           2.0637223410889476,
           1.9464742774171597,
           1.8216847281846071,
           1.6876816365840028,
           1.542064940890036,
           1.38116623614561,
           1.1988481859232252,
           0.9832673500018245,
           0.7045234520737225,
           0.1607880850889316
          ],
          [
           3.2557163966146234,
           3.1781516125699483,
           3.09852296438617,
           3.016656957728358,
           2.932354318820508,
           2.8453842893843344,
           2.755477187702212,
           2.6623145446383063,
           2.565515772131846,
           2.4646197466291966,
           2.3590587145069364,
           2.2481202020708437,
           2.130889411760492,
           2.006158288138735,
           1.872274132636953,
           1.726869924599029,
           1.5663388984136901,
           1.3846745780091396,
           1.1703755109967986,
           0.8948839147679308,
           0.3931255607680484
          ],
          [
           3.4471451169095175,
           3.369649233419892,
           3.2901048167191718,
           3.208340865090669,
           3.1241611574793637,
           3.0373387171049444,
           2.9476086070022163,
           2.8546583987837906,
           2.7581153245240486,
           2.6575285815985836,
           2.552344348888134,
           2.4418694710204036,
           2.325216815341385,
           2.2012195484024986,
           2.068289546426705,
           1.9241677562525723,
           1.7654446522305776,
           1.586523366998442,
           1.3769464707654535,
           1.1121136116617052,
           0.7068970914213395
          ],
          [
           3.6448007284408064,
           3.5675340210523245,
           3.488247115147381,
           3.4067733620391536,
           3.3229218491274395,
           3.236472147185161,
           3.1471674990936975,
           3.0547058448860582,
           2.9587277791823325,
           2.858800054136367,
           2.754392433656456,
           2.644844301757402,
           2.529314877447405,
           2.4067059972151554,
           2.2755364222823786,
           2.1337244876037573,
           1.9781818015932657,
           1.8039704008447472,
           1.6022815667766963,
           1.354531382912775,
           1.0506178456813728
          ],
          [
           3.848610106887776,
           3.7717292899124217,
           3.69286917863775,
           3.611869253522528,
           3.5285460589003534,
           3.442688340680249,
           3.3540507749460033,
           3.2623457548103687,
           3.167232447893568,
           3.0683019301920282,
           2.965056533344601,
           2.8568804029035206,
           2.7429962438625424,
           2.6223994724062507,
           2.4937536210295974,
           2.3552154529812412,
           2.204123823592589,
           2.036404497740257,
           1.8453573077069692,
           1.6196817328516815,
           1.4000298591015934
          ],
          [
           4.058489121111677,
           3.9821464633042822,
           3.903877428694358,
           3.8235292938697327,
           3.740928069596329,
           3.6558741249282036,
           3.568136586672914,
           3.4774460701859553,
           3.3834850954641382,
           3.2858752278634213,
           3.184159480011239,
           3.0777776856898456,
           2.9660311600493046,
           2.8480305303635305,
           2.7226162946092813,
           2.58823396551454,
           2.442733226953891,
           2.2830529230422982,
           2.104885898366291,
           1.90459428725309,
           1.7500007624052358
          ],
          [
           4.2743432668124655,
           4.198685771300404,
           4.121166162479618,
           4.041641048779951,
           3.959947749779687,
           3.8759004898678384,
           3.789285580868473,
           3.699855251021603,
           3.60731963557339,
           3.511336232869766,
           3.4114958122431176,
           3.3073032811046374,
           3.198151306741032,
           3.0832834942194722,
           2.961742839251748,
           2.8323015064446295,
           2.6933778752748054,
           2.54301141965842,
           2.37938564340606,
           2.206063412893897,
           2.1000000101774816
          ],
          [
           4.496068340890723,
           4.421236995265765,
           4.344618379645169,
           4.26607981961827,
           4.185471594712048,
           4.102623770209995,
           4.017342254128167,
           3.929403847282515,
           3.8385499764534714,
           3.7444786992507986,
           3.6468344470583176,
           3.5451948558062725,
           3.439054028069606,
           3.327802032934038,
           3.2107025925770856,
           3.0868790030507967,
           2.955348986102557,
           2.815276928931837,
           2.6672550867956915,
           2.520906672954723,
           2.4500000000707303
          ],
          [
           4.723551149434627,
           4.649680250785572,
           4.574106653270043,
           4.496709618684555,
           4.417353826596191,
           4.335886897154786,
           4.252136390813071,
           4.165906168660811,
           4.076971985078565,
           3.9850761948498175,
           3.8899215311535613,
           3.791164153684015,
           3.6884068485871637,
           3.581195117227111,
           3.469024031101064,
           3.351378776864628,
           3.2278799974633543,
           3.0987811348661722,
           2.9668450820961,
           2.846171422632139,
           2.8000000000002387
          ],
          [
           4.956670242261879,
           4.883886800787053,
           4.809494035295536,
           4.733384184099265,
           4.655437540575257,
           4.575520703277654,
           4.493484563009076,
           4.409162027619139,
           4.322365538331475,
           4.232884550843643,
           4.140483417550023,
           4.044900689470005,
           3.9458521750377287,
           3.843043198084928,
           3.7362032257293833,
           3.6251767501874212,
           3.510165521295086,
           3.392423099064743,
           3.276523909547322,
           3.179273500110156,
           3.1500000000000057
          ],
          [
           5.195296667040267,
           5.123719890751495,
           5.050634986964788,
           4.975948023087106,
           4.899555883089128,
           4.821345264399675,
           4.7411916728711105,
           4.658958531093141,
           4.574496630028172,
           4.487644375170149,
           4.398229714582044,
           4.306075522251071,
           4.21101208127088,
           4.11290445840919,
           4.011712323051327,
           3.9076245233620597,
           3.801379672043879,
           3.695099500179353,
           3.594731865636959,
           3.5180664957254066,
           3.5
          ],
          [
           5.439294736182106,
           5.36903559811217,
           5.29737632501142,
           5.224237472722834,
           5.149533249537662,
           5.073171262689932,
           4.995052518095562,
           4.915071896966062,
           4.833119503668904,
           4.749083591097033,
           4.662856356226207,
           4.574345039913688,
           4.483493079938306,
           4.390320997692285,
           4.29500783834704,
           4.198060974783225,
           4.100693159723491,
           4.0057313155665355,
           3.920023229791994,
           3.860851317520684,
           3.8499999999999943
          ],
          [
           5.68852279994794,
           5.619683688218615,
           5.54955817468344,
           5.47808176761918,
           5.405186488713859,
           5.330801355896611,
           5.254853362100036,
           5.177269272531433,
           5.097978782282503,
           5.016919964279126,
           4.93404864583713,
           4.849354690242059,
           4.76289079217689,
           4.674824822644233,
           4.585538570674544,
           4.495823086685235,
           4.407288659904637,
           4.3232861469853106,
           4.251094954870425,
           4.206342162972817,
           4.200000000000003
          ],
          [
           5.942834019498093,
           5.875508469608789,
           5.807014921123873,
           5.737304104570583,
           5.666326102133553,
           5.594031538441776,
           5.520373491570751,
           5.445310533589073,
           5.368811568668129,
           5.290863584359101,
           5.211484229279499,
           5.130742600319678,
           5.048794435907695,
           4.965943532638832,
           4.882752979523346,
           4.800255758462214,
           4.720374107941055,
           4.6467957608186055,
           4.586802669225548,
           4.553606605278134,
           4.549999999999997
          ],
          [
           6.2020771339864496,
           6.1363496417569365,
           6.069576151146059,
           6.001722694798751,
           5.93275742717632,
           5.862652481113329,
           5.791386745327792,
           5.718950044519737,
           5.6453494916376314,
           5.570619270366571,
           5.494835958049919,
           5.418143032773912,
           5.340791064193503,
           5.263205606816314,
           5.186105894580521,
           5.110720431802349,
           5.039193701319036,
           4.975368755770177,
           4.926165513094787,
           4.901995474563051,
           4.900000000000006
          ],
          [
           6.466097216192395,
           6.402043128945536,
           6.337067578024147,
           6.2711517951627656,
           6.204281793844274,
           6.136450837217069,
           6.067662999913736,
           5.997938361599282,
           5.927320676442434,
           5.855888872742462,
           5.78377460808472,
           5.71118963497031,
           5.6384694968161995,
           5.5661452188154925,
           5.495064463471323,
           5.426602414649636,
           5.363036523653747,
           5.308198563990743,
           5.268361918015046,
           5.25107418225069,
           5.25
          ],
          [
           6.734736411624688,
           6.672421894435338,
           6.6093119425568005,
           6.545402710478392,
           6.4806976459192995,
           6.415210504282328,
           6.348969598893802,
           6.282023863889393,
           6.214451620353245,
           6.146373448645953,
           6.077971425379701,
           6.009518445224231,
           5.9414239003970835,
           5.8743065245931945,
           5.809113275371459,
           5.7473168507981995,
           5.691242819612626,
           5.644567220347227,
           5.612718686808236,
           5.6005626098693,
           5.599999999999994
          ],
          [
           7.007834656496733,
           6.947316729665687,
           6.886129884338757,
           6.8242847599212695,
           6.76180161833107,
           6.698713831716191,
           6.635072714525037,
           6.5709542982217215,
           6.506468957268893,
           6.44177529117637,
           6.377100475128117,
           6.312770628191359,
           6.249256984552986,
           6.18724738788093,
           6.127758629797583,
           6.072313336216226,
           6.0232080470124885,
           5.983845492740784,
           5.9586956956432005,
           5.950286722220682,
           5.950000000000003
          ],
          [
           7.285230370458869,
           7.226557013800097,
           7.1673407778796445,
           7.107606201352084,
           7.047389563617649,
           6.986742766146541,
           6.92573863216991,
           6.864478227025927,
           6.803101098191817,
           6.741799797155338,
           6.680840776665846,
           6.620594919582572,
           6.561582793380509,
           6.504542525894692,
           6.45053194857725,
           6.401079230093018,
           6.358384907668338,
           6.325490055160884,
           6.305868293961083,
           6.300142193227714,
           6.299999999999997
          ],
          [
           7.566761120471384,
           7.50997143952705,
           7.452763528929765,
           7.395175108280526,
           7.3372575214484215,
           7.279079927556161,
           7.22073494956085,
           7.162346369988967,
           7.104079737352336,
           7.046157162071211,
           6.988878211948119,
           6.932649768011899,
           6.878029082657804,
           6.825786074433651,
           6.7769923541545865,
           6.733141746903101,
           6.6962836113746675,
           6.669038411548385,
           6.653909104328378,
           6.650068629258115,
           6.650000000000006
          ],
          [
           7.852264252704153,
           7.79738870162663,
           7.742217327094778,
           7.686800195065885,
           7.631202626262741,
           7.575509610662451,
           7.519831684733475,
           7.464312832730499,
           7.409141216632122,
           7.354563894601412,
           7.300907200455754,
           7.24860516895113,
           7.198239283286867,
           7.150593586088675,
           7.106728458459756,
           7.06806894492648,
           7.0364706584414165,
           7.014102253503381,
           7.002570497679045,
           7.000032241169592,
           7
          ],
          [
           8.141577489849936,
           8.088638145409831,
           8.035522351539,
           7.982291586821631,
           7.929023949145176,
           7.875818707321969,
           7.822802288109656,
           7.7701362177978694,
           7.718027743677112,
           7.666744146727709,
           7.616632138236085,
           7.568144192288216,
           7.521874060472257,
           7.478603487669062,
           7.439359423276372,
           7.405469746692816,
           7.378566437570868,
           7.360359871416534,
           7.351668600102528,
           7.350014745157239,
           7.349999999999994
          ],
          [
           8.434539491730057,
           8.383550372721196,
           8.332500427275946,
           8.281461531337186,
           8.23052327109015,
           8.17979754701092,
           8.129424555799204,
           8.079580615289558,
           8.030488461655949,
           7.982430858783829,
           7.935768603144723,
           7.890964210765688,
           7.848612485808303,
           7.809478033003117,
           7.7745353653421745,
           7.744993138240972,
           7.722241930530984,
           7.7075481500606315,
           7.701069316855495,
           7.700006565955405,
           7.700000000000003
          ],
          [
           8.730990377549858,
           8.681957803762145,
           8.632975630219846,
           8.58412505114157,
           8.535505785793546,
           8.48724065364054,
           8.439481442683118,
           8.39241647228377,
           8.346280370976885,
           8.30136672178071,
           8.258044332213132,
           8.216777841537393,
           8.178152845758987,
           8.14290379494932,
           8.111937187475263,
           8.086326697796935,
           8.067214796557863,
           8.055454578383944,
           8.050676560683414,
           8.05000284731095,
           8.049999999999997
          ],
          [
           9.030772208620505,
           8.983695193533734,
           8.936774839815484,
           8.890100534602851,
           8.84378073103619,
           8.797947418092022,
           8.75276177522079,
           8.7084213419527,
           8.665169105398704,
           8.623304962006856,
           8.583199980386354,
           8.545313617193784,
           8.51021311494496,
           8.47859174583023,
           8.451275921162761,
           8.4291946016141,
           8.413245081352557,
           8.403909599606877,
           8.400422652229295,
           8.400001202662665,
           8.400000000000006
          ],
          [
           9.33372943080002,
           9.288600102208349,
           9.243728238666435,
           9.199210265674836,
           9.155161948582489,
           9.111722686890175,
           9.069060865177775,
           9.027380514771323,
           8.986929566836707,
           8.948009955182144,
           8.910989672634216,
           8.876316405860024,
           8.844531126235665,
           8.816276978721802,
           8.792291666726683,
           8.77335524657282,
           8.760130761440976,
           8.75277952975408,
           8.750260716169663,
           8.750000494894323,
           8.75
          ],
          [
           9.639709276316765,
           9.596513319220435,
           9.55366975914471,
           9.511280892565068,
           9.4694683733035,
           9.428377268371491,
           9.388181026589805,
           9.349087535569822,
           9.311346424769624,
           9.2752576793429,
           9.241181363641957,
           9.209547602390614,
           9.180864471955772,
           9.155718123298541,
           9.13475221492547,
           9.11859861702672,
           9.107703297686811,
           9.1019601859511,
           9.100158816523376,
           9.100000198441364,
           9.099999999999994
          ],
          [
           9.94856212501847,
           9.90727924130465,
           9.866437477477277,
           9.826143836198824,
           9.786524452938124,
           9.747728358530807,
           9.709931999255218,
           9.673344611325689,
           9.638214487485627,
           9.60483601715785,
           9.573557020944492,
           9.544785114309832,
           9.518990171660917,
           9.496696509499955,
           9.478451429223043,
           9.464743508585372,
           9.455823334534315,
           9.45137129332555,
           9.450095543858012,
           9.450000077552772,
           9.450000000000003
          ],
          [
           10.260141825439618,
           10.22074620511495,
           10.181873956270522,
           10.14363563989177,
           10.106160500530379,
           10.069599889454025,
           10.034131282881816,
           9.999962915544842,
           9.967338953477437,
           9.93654491952789,
           9.907912648510234,
           9.881823167042398,
           9.858704142048381,
           9.839015130419511,
           9.823207461538203,
           9.811634705209983,
           9.804376646178895,
           9.800951682338479,
           9.80005677111184,
           9.80000002954641,
           9.799999999999997
          ],
          [
           10.574305976395905,
           10.536766775416666,
           10.49982653684549,
           10.463598262115909,
           10.428212982119646,
           10.393822803857603,
           10.36060438670549,
           10.328762795844938,
           10.298535552109328,
           10.270196443129237,
           10.244058168444752,
           10.220471953217228,
           10.199820503788288,
           10.182497452806913,
           10.168860866620122,
           10.159140189182935,
           10.153270398803699,
           10.15065524644794,
           10.150033320325065,
           10.150000010976257,
           10.150000000000006
          ],
          [
           10.89091617009663,
           10.855197990164015,
           10.820147583118015,
           10.78587931465023,
           10.752524742716275,
           10.720235259760656,
           10.689184999947756,
           10.65957389193396,
           10.631630583250242,
           10.605614675040513,
           10.581817178716364,
           10.560557150490638,
           10.542170758542554,
           10.52698611969717,
           10.515272671789248,
           10.507148447028683,
           10.502429770210767,
           10.500447601732262,
           10.500019319204668,
           10.500000003976908,
           10.5
          ],
          [
           11.20983819801478,
           11.17590156405278,
           11.14269467906692,
           11.110332248749089,
           11.07894517397014,
           11.04868276971844,
           11.01971508889865,
           10.992235171585094,
           10.966460865913888,
           10.942635557783504,
           10.921026604655239,
           10.90191933151452,
           10.885602867337028,
           10.872341585202605,
           10.862322450077059,
           10.855565918960679,
           10.851794945073323,
           10.850303373398361,
           10.850011066481542,
           10.850000001405661,
           10.849999999999994
          ],
          [
           11.530942220967503,
           11.498744052372828,
           11.46733078208959,
           11.436816492239387,
           11.407330327233069,
           11.379018279347164,
           11.352044926700898,
           11.326594892454267,
           11.30287360608719,
           11.281106628033541,
           11.261536261499614,
           11.24441328845667,
           11.229980258911908,
           11.218440716664716,
           11.209906436166364,
           11.204314625366763,
           11.201318485697925,
           11.200204026636698,
           11.200006263445488,
           11.200000000484792,
           11.199999999999989
          ],
          [
           11.854102905041628,
           11.823596977181353,
           11.793924334754578,
           11.765197540675686,
           11.73754297593672,
           11.711102190079188,
           11.686033062086835,
           11.662510497688643,
           11.64072619388665,
           11.620886681957217,
           11.603208344513021,
           11.587907292953474,
           11.575180793837944,
           11.565175394378869,
           11.557935716275068,
           11.553329991517643,
           11.550963064378607,
           11.550136158738908,
           11.550003503034517,
           11.55000000016318,
           11.549999999999997
          ],
          [
           12.179199525146288,
           12.150336917972652,
           12.122349337619355,
           12.095347005841347,
           12.069452631356484,
           12.044802331209453,
           12.021546233386601,
           11.999848453241484,
           11.97988593998042,
           11.961845379643819,
           11.945916862226412,
           11.932282310622497,
           11.921095707175127,
           11.912451134155205,
           11.906334515466028,
           11.902558881232892,
           11.900699533706842,
           11.900090173653453,
           11.900001936188303,
           11.900000000053637,
           11.900000000000006
          ],
          [
           12.506116038092244,
           12.478845569140233,
           12.452485385899465,
           12.427142624990665,
           12.402935515915061,
           12.379993886336592,
           12.358459234098163,
           12.338484034664347,
           12.320229760875634,
           12.303862800451725,
           12.289547027224145,
           12.277431187360833,
           12.267628549377434,
           12.260185753210564,
           12.255038598958478,
           12.251957841688906,
           12.250505305005888,
           12.250059267421491,
           12.250001057713618,
           12.25000000001721,
           12.25
          ],
          [
           12.83474112718541,
           12.809009766610359,
           12.7842176728484,
           12.760468234282342,
           12.737874498204661,
           12.716559279274307,
           12.696654736197786,
           12.678301070902151,
           12.66164382222054,
           12.646828960322352,
           12.633994617639743,
           12.623257822672045,
           12.614694142105918,
           12.608308095414927,
           12.603993797959134,
           12.601491554831313,
           12.600363001771555,
           12.600038661774988,
           12.600000571152037,
           12.60000000000538,
           12.599999999999994
          ],
          [
           13.164968220381667,
           13.140721486077581,
           13.117436962744051,
           13.095213709865746,
           13.074158993876992,
           13.05438802441779,
           13.036023077184211,
           13.019191652290104,
           13.004023148730639,
           12.990643301256497,
           12.979165321200682,
           12.969676343264425,
           12.962217562679086,
           12.956756827822375,
           12.953154665362746,
           12.951131485815793,
           12.95025935400271,
           12.95002503251466,
           12.950000304891063,
           12.950000000001637,
           12.949999999999989
          ],
          [
           13.496695484084952,
           13.473877815294543,
           13.452039536379303,
           13.43127488005247,
           13.411684836475018,
           13.39337654640525,
           13.376462016605046,
           13.361055809558337,
           13.347271208739485,
           13.335214162229576,
           13.324974072301856,
           13.316610288192194,
           13.31013316812546,
           13.30547931675683,
           13.302483262390453,
           13.300854715361055,
           13.300184300022508,
           13.300016088367286,
           13.300000160913868,
           13.300000000000495,
           13.299999999999997
          ],
          [
           13.829825794681454,
           13.80838090286285,
           13.787927111923466,
           13.768553411938498,
           13.750354122162719,
           13.733427973724886,
           13.717876467518153,
           13.703801170205224,
           13.691299480719735,
           13.680458239869836,
           13.67134439122907,
           13.663991814915718,
           13.658383667253418,
           13.654430588523937,
           13.651948073801748,
           13.650642940642896,
           13.650130264309567,
           13.650010264372568,
           13.650000083974035,
           13.650000000000148,
           13.650000000000006
          ],
          [
           14.16426668989223,
           14.144137885941234,
           14.125006743964434,
           14.10695667574808,
           14.090075032159135,
           14.074451910689362,
           14.060178208006704,
           14.047342598118462,
           14.036027008433038,
           14.02630004626161,
           14.01820773332453,
           14.01176093386809,
           14.00691924684594,
           14.003572377091743,
           14.00152304667101,
           14.000481628169013,
           14.000091582547853,
           14.000006501209285,
           14.000000043335689,
           14.000000000000043,
           14
          ]
         ]
        }
       ],
       "layout": {
        "font": {
         "family": "Courier New, monospace",
         "size": 10
        },
        "height": 1000,
        "margin": {
         "b": 65,
         "l": 65,
         "r": 50,
         "t": 90
        },
        "scene": {
         "xaxis": {
          "autorange": "reversed",
          "tickformat": ".1f",
          "title": {
           "text": "Maturity (yrs)"
          }
         },
         "yaxis": {
          "tickformat": ".f",
          "title": {
           "text": "Strike"
          }
         },
         "zaxis": {
          "tickformat": ".f",
          "title": {
           "text": "Premium"
          }
         }
        },
        "template": {
         "data": {
          "bar": [
           {
            "error_x": {
             "color": "#2a3f5f"
            },
            "error_y": {
             "color": "#2a3f5f"
            },
            "marker": {
             "line": {
              "color": "#E5ECF6",
              "width": 0.5
             },
             "pattern": {
              "fillmode": "overlay",
              "size": 10,
              "solidity": 0.2
             }
            },
            "type": "bar"
           }
          ],
          "barpolar": [
           {
            "marker": {
             "line": {
              "color": "#E5ECF6",
              "width": 0.5
             },
             "pattern": {
              "fillmode": "overlay",
              "size": 10,
              "solidity": 0.2
             }
            },
            "type": "barpolar"
           }
          ],
          "carpet": [
           {
            "aaxis": {
             "endlinecolor": "#2a3f5f",
             "gridcolor": "white",
             "linecolor": "white",
             "minorgridcolor": "white",
             "startlinecolor": "#2a3f5f"
            },
            "baxis": {
             "endlinecolor": "#2a3f5f",
             "gridcolor": "white",
             "linecolor": "white",
             "minorgridcolor": "white",
             "startlinecolor": "#2a3f5f"
            },
            "type": "carpet"
           }
          ],
          "choropleth": [
           {
            "colorbar": {
             "outlinewidth": 0,
             "ticks": ""
            },
            "type": "choropleth"
           }
          ],
          "contour": [
           {
            "colorbar": {
             "outlinewidth": 0,
             "ticks": ""
            },
            "colorscale": [
             [
              0,
              "#0d0887"
             ],
             [
              0.1111111111111111,
              "#46039f"
             ],
             [
              0.2222222222222222,
              "#7201a8"
             ],
             [
              0.3333333333333333,
              "#9c179e"
             ],
             [
              0.4444444444444444,
              "#bd3786"
             ],
             [
              0.5555555555555556,
              "#d8576b"
             ],
             [
              0.6666666666666666,
              "#ed7953"
             ],
             [
              0.7777777777777778,
              "#fb9f3a"
             ],
             [
              0.8888888888888888,
              "#fdca26"
             ],
             [
              1,
              "#f0f921"
             ]
            ],
            "type": "contour"
           }
          ],
          "contourcarpet": [
           {
            "colorbar": {
             "outlinewidth": 0,
             "ticks": ""
            },
            "type": "contourcarpet"
           }
          ],
          "heatmap": [
           {
            "colorbar": {
             "outlinewidth": 0,
             "ticks": ""
            },
            "colorscale": [
             [
              0,
              "#0d0887"
             ],
             [
              0.1111111111111111,
              "#46039f"
             ],
             [
              0.2222222222222222,
              "#7201a8"
             ],
             [
              0.3333333333333333,
              "#9c179e"
             ],
             [
              0.4444444444444444,
              "#bd3786"
             ],
             [
              0.5555555555555556,
              "#d8576b"
             ],
             [
              0.6666666666666666,
              "#ed7953"
             ],
             [
              0.7777777777777778,
              "#fb9f3a"
             ],
             [
              0.8888888888888888,
              "#fdca26"
             ],
             [
              1,
              "#f0f921"
             ]
            ],
            "type": "heatmap"
           }
          ],
          "heatmapgl": [
           {
            "colorbar": {
             "outlinewidth": 0,
             "ticks": ""
            },
            "colorscale": [
             [
              0,
              "#0d0887"
             ],
             [
              0.1111111111111111,
              "#46039f"
             ],
             [
              0.2222222222222222,
              "#7201a8"
             ],
             [
              0.3333333333333333,
              "#9c179e"
             ],
             [
              0.4444444444444444,
              "#bd3786"
             ],
             [
              0.5555555555555556,
              "#d8576b"
             ],
             [
              0.6666666666666666,
              "#ed7953"
             ],
             [
              0.7777777777777778,
              "#fb9f3a"
             ],
             [
              0.8888888888888888,
              "#fdca26"
             ],
             [
              1,
              "#f0f921"
             ]
            ],
            "type": "heatmapgl"
           }
          ],
          "histogram": [
           {
            "marker": {
             "pattern": {
              "fillmode": "overlay",
              "size": 10,
              "solidity": 0.2
             }
            },
            "type": "histogram"
           }
          ],
          "histogram2d": [
           {
            "colorbar": {
             "outlinewidth": 0,
             "ticks": ""
            },
            "colorscale": [
             [
              0,
              "#0d0887"
             ],
             [
              0.1111111111111111,
              "#46039f"
             ],
             [
              0.2222222222222222,
              "#7201a8"
             ],
             [
              0.3333333333333333,
              "#9c179e"
             ],
             [
              0.4444444444444444,
              "#bd3786"
             ],
             [
              0.5555555555555556,
              "#d8576b"
             ],
             [
              0.6666666666666666,
              "#ed7953"
             ],
             [
              0.7777777777777778,
              "#fb9f3a"
             ],
             [
              0.8888888888888888,
              "#fdca26"
             ],
             [
              1,
              "#f0f921"
             ]
            ],
            "type": "histogram2d"
           }
          ],
          "histogram2dcontour": [
           {
            "colorbar": {
             "outlinewidth": 0,
             "ticks": ""
            },
            "colorscale": [
             [
              0,
              "#0d0887"
             ],
             [
              0.1111111111111111,
              "#46039f"
             ],
             [
              0.2222222222222222,
              "#7201a8"
             ],
             [
              0.3333333333333333,
              "#9c179e"
             ],
             [
              0.4444444444444444,
              "#bd3786"
             ],
             [
              0.5555555555555556,
              "#d8576b"
             ],
             [
              0.6666666666666666,
              "#ed7953"
             ],
             [
              0.7777777777777778,
              "#fb9f3a"
             ],
             [
              0.8888888888888888,
              "#fdca26"
             ],
             [
              1,
              "#f0f921"
             ]
            ],
            "type": "histogram2dcontour"
           }
          ],
          "mesh3d": [
           {
            "colorbar": {
             "outlinewidth": 0,
             "ticks": ""
            },
            "type": "mesh3d"
           }
          ],
          "parcoords": [
           {
            "line": {
             "colorbar": {
              "outlinewidth": 0,
              "ticks": ""
             }
            },
            "type": "parcoords"
           }
          ],
          "pie": [
           {
            "automargin": true,
            "type": "pie"
           }
          ],
          "scatter": [
           {
            "marker": {
             "colorbar": {
              "outlinewidth": 0,
              "ticks": ""
             }
            },
            "type": "scatter"
           }
          ],
          "scatter3d": [
           {
            "line": {
             "colorbar": {
              "outlinewidth": 0,
              "ticks": ""
             }
            },
            "marker": {
             "colorbar": {
              "outlinewidth": 0,
              "ticks": ""
             }
            },
            "type": "scatter3d"
           }
          ],
          "scattercarpet": [
           {
            "marker": {
             "colorbar": {
              "outlinewidth": 0,
              "ticks": ""
             }
            },
            "type": "scattercarpet"
           }
          ],
          "scattergeo": [
           {
            "marker": {
             "colorbar": {
              "outlinewidth": 0,
              "ticks": ""
             }
            },
            "type": "scattergeo"
           }
          ],
          "scattergl": [
           {
            "marker": {
             "colorbar": {
              "outlinewidth": 0,
              "ticks": ""
             }
            },
            "type": "scattergl"
           }
          ],
          "scattermapbox": [
           {
            "marker": {
             "colorbar": {
              "outlinewidth": 0,
              "ticks": ""
             }
            },
            "type": "scattermapbox"
           }
          ],
          "scatterpolar": [
           {
            "marker": {
             "colorbar": {
              "outlinewidth": 0,
              "ticks": ""
             }
            },
            "type": "scatterpolar"
           }
          ],
          "scatterpolargl": [
           {
            "marker": {
             "colorbar": {
              "outlinewidth": 0,
              "ticks": ""
             }
            },
            "type": "scatterpolargl"
           }
          ],
          "scatterternary": [
           {
            "marker": {
             "colorbar": {
              "outlinewidth": 0,
              "ticks": ""
             }
            },
            "type": "scatterternary"
           }
          ],
          "surface": [
           {
            "colorbar": {
             "outlinewidth": 0,
             "ticks": ""
            },
            "colorscale": [
             [
              0,
              "#0d0887"
             ],
             [
              0.1111111111111111,
              "#46039f"
             ],
             [
              0.2222222222222222,
              "#7201a8"
             ],
             [
              0.3333333333333333,
              "#9c179e"
             ],
             [
              0.4444444444444444,
              "#bd3786"
             ],
             [
              0.5555555555555556,
              "#d8576b"
             ],
             [
              0.6666666666666666,
              "#ed7953"
             ],
             [
              0.7777777777777778,
              "#fb9f3a"
             ],
             [
              0.8888888888888888,
              "#fdca26"
             ],
             [
              1,
              "#f0f921"
             ]
            ],
            "type": "surface"
           }
          ],
          "table": [
           {
            "cells": {
             "fill": {
              "color": "#EBF0F8"
             },
             "line": {
              "color": "white"
             }
            },
            "header": {
             "fill": {
              "color": "#C8D4E3"
             },
             "line": {
              "color": "white"
             }
            },
            "type": "table"
           }
          ]
         },
         "layout": {
          "annotationdefaults": {
           "arrowcolor": "#2a3f5f",
           "arrowhead": 0,
           "arrowwidth": 1
          },
          "autotypenumbers": "strict",
          "coloraxis": {
           "colorbar": {
            "outlinewidth": 0,
            "ticks": ""
           }
          },
          "colorscale": {
           "diverging": [
            [
             0,
             "#8e0152"
            ],
            [
             0.1,
             "#c51b7d"
            ],
            [
             0.2,
             "#de77ae"
            ],
            [
             0.3,
             "#f1b6da"
            ],
            [
             0.4,
             "#fde0ef"
            ],
            [
             0.5,
             "#f7f7f7"
            ],
            [
             0.6,
             "#e6f5d0"
            ],
            [
             0.7,
             "#b8e186"
            ],
            [
             0.8,
             "#7fbc41"
            ],
            [
             0.9,
             "#4d9221"
            ],
            [
             1,
             "#276419"
            ]
           ],
           "sequential": [
            [
             0,
             "#0d0887"
            ],
            [
             0.1111111111111111,
             "#46039f"
            ],
            [
             0.2222222222222222,
             "#7201a8"
            ],
            [
             0.3333333333333333,
             "#9c179e"
            ],
            [
             0.4444444444444444,
             "#bd3786"
            ],
            [
             0.5555555555555556,
             "#d8576b"
            ],
            [
             0.6666666666666666,
             "#ed7953"
            ],
            [
             0.7777777777777778,
             "#fb9f3a"
            ],
            [
             0.8888888888888888,
             "#fdca26"
            ],
            [
             1,
             "#f0f921"
            ]
           ],
           "sequentialminus": [
            [
             0,
             "#0d0887"
            ],
            [
             0.1111111111111111,
             "#46039f"
            ],
            [
             0.2222222222222222,
             "#7201a8"
            ],
            [
             0.3333333333333333,
             "#9c179e"
            ],
            [
             0.4444444444444444,
             "#bd3786"
            ],
            [
             0.5555555555555556,
             "#d8576b"
            ],
            [
             0.6666666666666666,
             "#ed7953"
            ],
            [
             0.7777777777777778,
             "#fb9f3a"
            ],
            [
             0.8888888888888888,
             "#fdca26"
            ],
            [
             1,
             "#f0f921"
            ]
           ]
          },
          "colorway": [
           "#636efa",
           "#EF553B",
           "#00cc96",
           "#ab63fa",
           "#FFA15A",
           "#19d3f3",
           "#FF6692",
           "#B6E880",
           "#FF97FF",
           "#FECB52"
          ],
          "font": {
           "color": "#2a3f5f"
          },
          "geo": {
           "bgcolor": "white",
           "lakecolor": "white",
           "landcolor": "#E5ECF6",
           "showlakes": true,
           "showland": true,
           "subunitcolor": "white"
          },
          "hoverlabel": {
           "align": "left"
          },
          "hovermode": "closest",
          "mapbox": {
           "style": "light"
          },
          "paper_bgcolor": "white",
          "plot_bgcolor": "#E5ECF6",
          "polar": {
           "angularaxis": {
            "gridcolor": "white",
            "linecolor": "white",
            "ticks": ""
           },
           "bgcolor": "#E5ECF6",
           "radialaxis": {
            "gridcolor": "white",
            "linecolor": "white",
            "ticks": ""
           }
          },
          "scene": {
           "xaxis": {
            "backgroundcolor": "#E5ECF6",
            "gridcolor": "white",
            "gridwidth": 2,
            "linecolor": "white",
            "showbackground": true,
            "ticks": "",
            "zerolinecolor": "white"
           },
           "yaxis": {
            "backgroundcolor": "#E5ECF6",
            "gridcolor": "white",
            "gridwidth": 2,
            "linecolor": "white",
            "showbackground": true,
            "ticks": "",
            "zerolinecolor": "white"
           },
           "zaxis": {
            "backgroundcolor": "#E5ECF6",
            "gridcolor": "white",
            "gridwidth": 2,
            "linecolor": "white",
            "showbackground": true,
            "ticks": "",
            "zerolinecolor": "white"
           }
          },
          "shapedefaults": {
           "line": {
            "color": "#2a3f5f"
           }
          },
          "ternary": {
           "aaxis": {
            "gridcolor": "white",
            "linecolor": "white",
            "ticks": ""
           },
           "baxis": {
            "gridcolor": "white",
            "linecolor": "white",
            "ticks": ""
           },
           "bgcolor": "#E5ECF6",
           "caxis": {
            "gridcolor": "white",
            "linecolor": "white",
            "ticks": ""
           }
          },
          "title": {
           "x": 0.05
          },
          "xaxis": {
           "automargin": true,
           "gridcolor": "white",
           "linecolor": "white",
           "ticks": "",
           "title": {
            "standoff": 15
           },
           "zerolinecolor": "white",
           "zerolinewidth": 2
          },
          "yaxis": {
           "automargin": true,
           "gridcolor": "white",
           "linecolor": "white",
           "ticks": "",
           "title": {
            "standoff": 15
           },
           "zerolinecolor": "white",
           "zerolinewidth": 2
          }
         }
        },
        "title": {
         "text": "<b>Volatility Surface</b>",
         "x": 0.5,
         "xanchor": "center",
         "y": 0.95,
         "yanchor": "top"
        },
        "width": 1000
       }
      }
     },
     "metadata": {},
     "output_type": "display_data"
    }
   ],
   "source": [
    "## surface plot:\n",
    "\n",
    "fwd_spots = np.linspace(S0*0.8, S0*1.3, 101)\n",
    "ttm = np.linspace(0, 1-1/365, 21)\n",
    "# ttm[0] = 0.001\n",
    "    \n",
    "short_call_prices = []\n",
    "for i in range(len(fwd_spots)):\n",
    "    scp_per_mat = []\n",
    "    for j in range(len(ttm)):\n",
    "        scp_per_mat.append(B76OptionPricer('c', fwd_spots[i], K, r_dsc, sigma, T, ttm[j]))\n",
    "    short_call_prices.append(scp_per_mat)\n",
    "\n",
    "\n",
    "fig_surf = go.Figure(data=[go.Surface(x=ttm, y=fwd_spots,z=short_call_prices\n",
    "                        ,contours = {\"x\": {\"show\": True,\"size\": 0.1, \"color\":\"red\"},\n",
    "                                    \"y\": {\"show\": True,\"size\": 0.1, \"color\":\"red\"},}\n",
    "                        ,opacity = .75\n",
    "                        ,hovertemplate =\n",
    "                        'Underlying:  %{y: .2%}' +\\\n",
    "                        '<br>Maturity (yrs): %{x: .1f}' +\\\n",
    "                        '<br>Payoff: %{z: .2f}<extra></extra>'\n",
    "                     ,colorscale = 'temps')\n",
    "                     ])\n",
    "\n",
    "fig_surf.update_layout(\n",
    "    title={\n",
    "        'text': \"<b>Volatility Surface</b>\",\n",
    "        'y': 0.95,\n",
    "        'x': 0.5,\n",
    "        'xanchor': 'center',\n",
    "        'yanchor': 'top'\n",
    "    }\n",
    "    # ,autosize=True\n",
    "    ,\n",
    "    width=1000,\n",
    "    height=1000,\n",
    "    scene=dict(xaxis_title='Maturity (yrs)',\n",
    "               xaxis_tickformat='.1f',\n",
    "               xaxis_autorange='reversed',\n",
    "               yaxis_title='Strike',\n",
    "               yaxis_tickformat='.f', #'.2%'\n",
    "               zaxis_title='Premium',\n",
    "               zaxis_tickformat='.f'),\n",
    "    font=dict(family=\"Courier New, monospace\", size=10),\n",
    "    margin=dict(l=65, r=50, b=65, t=90))\n",
    "\n",
    "fig_surf.show()"
   ]
  },
  {
   "cell_type": "code",
   "execution_count": 10,
   "metadata": {},
   "outputs": [],
   "source": [
    "class DiscountCertificatePricingData:\n",
    "    def __init__(self,\n",
    "                 val_date: dt,\n",
    "                 spec,\n",
    "                 discount_curve,\n",
    "                 vol_surface,\n",
    "                 pricing_request\n",
    "                 ):\n",
    "        \n",
    "        self.val_date = val_date\n",
    "        self.spec = spec\n",
    "        self.discount_curve = discount_curve\n",
    "        self.vol_surface = vol_surface\n",
    "        self.pricing_request = pricing_request\n",
    "        self.embedded_spec = rivapy.instruments.EuropeanVanillaSpecification(\n",
    "            id='embeddedOption', type='CALL',\n",
    "            expiry = self.spec.expiry,\n",
    "            strike = self.spec.cap,\n",
    "            issuer = '',\n",
    "            sec_lvl = 'COLLATERALIZED',\n",
    "            curr = 'EUR',\n",
    "            udl_id = '',\n",
    "            share_ratio = 1.0)\n",
    "        \n",
    "def DiscountCertificatePricer(prdata):\n",
    "    embeddedOption_PricingData = rivapy.pricing.Black76PricingData(val_date = prdata.val_date, \n",
    "                                                                    spec = prdata.embedded_spec, \n",
    "                                                                    discount_curve = prdata.discount_curve, \n",
    "                                                                    vol_surface = prdata.vol_surface,\n",
    "                                                                    pricing_request=prdata.pricing_request)\n",
    "    embeddedOptionPrice = rivapy.pricing.price(embeddedOption_PricingData).getPrice()\n",
    "    return prdata.vol_surface.forward_curve.spot - embeddedOptionPrice\n",
    "    \n",
    "\n",
    "    \n",
    "\n",
    "\n",
    "class DiscountCertificateSpecification:\n",
    "    def __init__(self, \n",
    "                 id: str,\n",
    "                 expiry: dt,\n",
    "                 cap: float,\n",
    "                ):\n",
    "        \n",
    "        \"\"\"Constructor for discount certificates\n",
    "\n",
    "        Args:\n",
    "\n",
    "        \"\"\"\n",
    "        \n",
    "        self.id = id\n",
    "        self.expiry = expiry\n",
    "        self.cap = cap"
   ]
  },
  {
   "cell_type": "code",
   "execution_count": 14,
   "metadata": {},
   "outputs": [
    {
     "data": {
      "image/png": "[encoded data removed]",
      "text/plain": [
       "<Figure size 432x288 with 1 Axes>"
      ]
     },
     "metadata": {
      "needs_background": "light"
     },
     "output_type": "display_data"
    }
   ],
   "source": [
    "refdate = dt.datetime(2021,1,1,0,0,0)\n",
    "days_to_maturity = [1, 180, 365, 720, 3*365, 4*365, 10*365]\n",
    "dates = [refdate + dt.timedelta(days=d) for d in days_to_maturity]\n",
    "# discount factors from constant rate\n",
    "disc_rate = 0.005\n",
    "dc = rivapy.marketdata.DiscountCurve(\"DC\", refdate, dates, \n",
    "                                            [math.exp(-d/365.0*disc_rate) for d in days_to_maturity])\n",
    "borrow_rate = 0.002\n",
    "bc = rivapy.marketdata.DiscountCurve(\"BC\", refdate, dates, \n",
    "                                            [math.exp(-d/365.0*borrow_rate) for d in days_to_maturity])\n",
    "\n",
    "funding_rate = 0.005\n",
    "fc = rivapy.marketdata.DiscountCurve(\"FC\", refdate, dates, \n",
    "                                            [math.exp(-d/365.0*funding_rate) for d in days_to_maturity])\n",
    "\n",
    "ex_dates =  [refdate + dt.timedelta(days=i) for i in [365, 2*365, 3*365, 4*365]]\n",
    "pay_dates = [d + dt.timedelta(days=2) for d in ex_dates]\n",
    "tax_factors = [1.0, 1.0, 1.0, 1.0]\n",
    "div_yield = [0, 0.0, 0.0, 0.0]\n",
    "div_cash = [0, 0, 0, 0]\n",
    "div_table = rivapy.marketdata.DividendTable('DIV', refdate, ex_dates, pay_dates, div_yield, div_cash, tax_factors)\n",
    "\n",
    "\n",
    "spot = 70.0\n",
    "forward_curve = rivapy.marketdata.EquityForwardCurve(spot, fc, bc, div_table)\n",
    "forward_curve.plot(days_end=5*365)\n",
    "\n",
    "\n",
    "vol_param_flat = rivapy.marketdata.VolatilityParametrizationFlat(0.3)\n",
    "\n",
    "ttm = [0.07,0.19,0.69,0.94,1.19,1.69]\n",
    "fwd_atm_vols =  [0.25,0.24,0.22, 0.21, 0.20, 0.19]\n",
    "term_param = mkt_data.VolatilityParametrizationTerm(ttm,fwd_atm_vols)\n",
    "\n",
    "rho = -0.7 # responsible for the skewness of the vol_surface\n",
    "eta = 0.7 # responsible for the curvature\n",
    "gamma = 0.6 # responsible for the \"rate of decay\"\n",
    "ssvi_param = mkt_data.VolatilityParametrizationSSVI(ttm, fwd_atm_vols, rho, eta, gamma)\n",
    "\n",
    "svi_param = mkt_data.VolatilityParametrizationSVI(\n",
    "                expiries=np.array([0.07,0.19,0.69,0.94,1.19,1.69]), \n",
    "                svi_params=[\n",
    "                            (0.01, 0.08, -0.42, 0.07, 0.05),\n",
    "                            (0.01, 0.09, -0.52, 0.08, 0.05),\n",
    "                            (0.01, 0.09, -0.72, 0.09, 0.09),\n",
    "                            (0.02, 0.08, -0.91, 0.10, 0.07),\n",
    "                            (0.01, 0.12, -0.70, 0.11, 0.19),\n",
    "                            (0.03, 0.09, -1.02, 0.13, 0.15)\n",
    "])\n",
    "\n",
    "ttm = [0.07,0.19,0.69,0.94,1.19,1.69]\n",
    "\n",
    "sabr_params = np.array([[0.05, 0.90, 0.32, -0.82],\n",
    "                        [0.08, 0.01, 1.22, -0.49],\n",
    "                        [0.15, 0.20, 0.12, -0.79],\n",
    "                        [0.18, 0.84, 0.58, -0.72],\n",
    "                        [0.20, 0.62, 0.09, -0.58],\n",
    "                        [0.20, 0.62, 0.09, -0.58]])\n",
    "\n",
    "vol_surf_flat = rivapy.marketdata.VolatilitySurface('TEST_SURFACE', refdate, forward_curve, enums.DayCounterType.Act365Fixed, vol_param_flat)\n",
    "vol_surf_term = rivapy.marketdata.VolatilitySurface('TEST_SURFACE', refdate, forward_curve, enums.DayCounterType.Act365Fixed, term_param)\n",
    "vol_surf_ssvi = rivapy.marketdata.VolatilitySurface('TEST_SURFACE', refdate, forward_curve, enums.DayCounterType.Act365Fixed, ssvi_param)\n",
    "vol_surf_svi = rivapy.marketdata.VolatilitySurface('TEST_SURFACE', refdate, forward_curve, enums.DayCounterType.Act365Fixed, svi_param)\n",
    "vol_surf_sabr = rivapy.marketdata.VolatilitySurface('TEST_SURFACE', refdate, forward_curve, enums.DayCounterType.Act365Fixed, sabr_params)\n",
    "\n"
   ]
  },
  {
   "cell_type": "code",
   "execution_count": 20,
   "metadata": {},
   "outputs": [
    {
     "data": {
      "text/plain": [
       "65.87954431361497"
      ]
     },
     "execution_count": 20,
     "metadata": {},
     "output_type": "execute_result"
    }
   ],
   "source": [
    "myCert_spec = DiscountCertificateSpecification('test_id', dt.datetime(2022,12,31), 77)\n",
    "\n",
    "\n",
    "\n",
    "\n",
    "prdata_flat = DiscountCertificatePricingData(val_date = refdate, \n",
    "                                           spec = myCert_spec, \n",
    "                                           discount_curve = dc, \n",
    "                                           vol_surface = vol_surf_flat, \n",
    "                                           pricing_request=(rivapy.pricing.ResultType.DELTA, \n",
    "                                                            rivapy.pricing.ResultType.GAMMA))\n",
    "\n",
    "prdata_term = DiscountCertificatePricingData(val_date = refdate, \n",
    "                                           spec = myCert_spec, \n",
    "                                           discount_curve = dc, \n",
    "                                           vol_surface = vol_surf_term, \n",
    "                                           pricing_request=(rivapy.pricing.ResultType.DELTA, \n",
    "                                                            rivapy.pricing.ResultType.GAMMA))\n",
    "\n",
    "prdata_ssvi = DiscountCertificatePricingData(val_date = refdate, \n",
    "                                           spec = myCert_spec, \n",
    "                                           discount_curve = dc, \n",
    "                                           vol_surface = vol_surf_ssvi, \n",
    "                                           pricing_request=(rivapy.pricing.ResultType.DELTA, \n",
    "                                                            rivapy.pricing.ResultType.GAMMA))\n",
    "\n",
    "prdata_svi = DiscountCertificatePricingData(val_date = refdate, \n",
    "                                           spec = myCert_spec, \n",
    "                                           discount_curve = dc, \n",
    "                                           vol_surface = vol_surf_svi, \n",
    "                                           pricing_request=(rivapy.pricing.ResultType.DELTA, \n",
    "                                                            rivapy.pricing.ResultType.GAMMA))\n",
    "\n",
    "# prdata_sabr = DiscountCertificatePricingData(val_date = refdate, \n",
    "#                                            spec = myCert_spec, \n",
    "#                                            discount_curve = dc, \n",
    "#                                            vol_surface = vol_surf_sabr, \n",
    "#                                            pricing_request=(rivapy.pricing.ResultType.DELTA, \n",
    "#                                                             rivapy.pricing.ResultType.GAMMA))\n",
    "DiscountCertificatePricer(prdata_svi)"
   ]
  },
  {
   "cell_type": "code",
   "execution_count": 26,
   "metadata": {},
   "outputs": [
    {
     "data": {
      "application/vnd.plotly.v1+json": {
       "config": {
        "plotlyServerURL": "https://plot.ly"
       },
       "data": [
        {
         "colorscale": [
          [
           0,
           "rgb(0, 147, 146)"
          ],
          [
           0.16666666666666666,
           "rgb(57, 177, 133)"
          ],
          [
           0.3333333333333333,
           "rgb(156, 203, 134)"
          ],
          [
           0.5,
           "rgb(233, 226, 156)"
          ],
          [
           0.6666666666666666,
           "rgb(238, 180, 121)"
          ],
          [
           0.8333333333333334,
           "rgb(232, 132, 113)"
          ],
          [
           1,
           "rgb(207, 89, 126)"
          ]
         ],
         "contours": {
          "x": {
           "color": "red",
           "show": true,
           "size": 0.1
          },
          "y": {
           "color": "red",
           "show": true,
           "size": 0.1
          }
         },
         "hovertemplate": "Underlying:  %{y: .2%}<br>Maturity (yrs): %{x: .1f}<br>Payoff: %{z: .2f}<extra></extra>",
         "opacity": 0.75,
         "type": "surface",
         "x": [
          0,
          0.04986301369863014,
          0.09972602739726028,
          0.1495890410958904,
          0.19945205479452055,
          0.2493150684931507,
          0.2991780821917808,
          0.349041095890411,
          0.3989041095890411,
          0.4487671232876712,
          0.4986301369863014,
          0.5484931506849315,
          0.5983561643835617,
          0.6482191780821918,
          0.698082191780822,
          0.7479452054794521,
          0.7978082191780822,
          0.8476712328767123,
          0.8975342465753424,
          0.9473972602739726,
          0.9972602739726028
         ],
         "y": [
          56,
          56.35,
          56.7,
          57.05,
          57.4,
          57.75,
          58.1,
          58.45,
          58.8,
          59.15,
          59.5,
          59.85,
          60.2,
          60.55,
          60.9,
          61.25,
          61.6,
          61.95,
          62.3,
          62.65,
          63,
          63.35,
          63.7,
          64.05,
          64.4,
          64.75,
          65.1,
          65.45,
          65.8,
          66.15,
          66.5,
          66.85,
          67.2,
          67.55,
          67.9,
          68.25,
          68.6,
          68.95,
          69.3,
          69.65,
          70,
          70.35,
          70.7,
          71.05,
          71.4,
          71.75,
          72.1,
          72.45,
          72.8,
          73.15,
          73.5,
          73.85,
          74.2,
          74.55,
          74.9,
          75.25,
          75.6,
          75.95,
          76.3,
          76.65,
          77,
          77.35,
          77.7,
          78.05,
          78.4,
          78.75,
          79.1,
          79.45,
          79.8,
          80.15,
          80.5,
          80.85,
          81.2,
          81.55,
          81.9,
          82.25,
          82.6,
          82.95,
          83.3,
          83.65,
          84,
          84.35,
          84.7,
          85.05,
          85.4,
          85.75,
          86.1,
          86.45,
          86.8,
          87.15,
          87.5,
          87.85,
          88.19999999999999,
          88.55,
          88.9,
          89.25,
          89.6,
          89.94999999999999,
          90.3,
          90.65,
          91
         ],
         "z": [
          [
           23.65362677132068,
           55.81132612695378,
           55.88437485583611,
           55.90619398976126,
           55.918490647711934,
           55.93561931178778,
           55.94846964595647,
           55.95919595600016,
           55.96852978277652,
           55.97666832037154,
           55.98360490257954,
           55.98927467911679,
           55.993631623438674,
           55.9966975790385,
           55.998627747128104,
           55.99963469281905,
           55.99994504298866,
           55.99999728320532,
           55.99999999083324,
           56,
           56
          ],
          [
           23.734381244786725,
           56.143973509997096,
           56.222165791898504,
           56.24572208592764,
           56.259054637814074,
           56.277711284721704,
           56.291788961393394,
           56.30360847949992,
           56.313959739386775,
           56.3230523758312,
           56.33087046674289,
           56.33732922043968,
           56.342358446346836,
           56.34595727359001,
           56.348273537024596,
           56.34952053596295,
           56.34992323023903,
           56.34999579713851,
           56.349999982683386,
           56.349999999999994,
           56.35
          ],
          [
           23.814772742087015,
           56.475357255248056,
           56.55891457803817,
           56.58429778691613,
           56.5987242963519,
           56.61900183087121,
           56.634388844497934,
           56.647381289089395,
           56.65883106510359,
           56.66896134595586,
           56.67774644950715,
           56.68507984151219,
           56.690864113102464,
           56.69507139986516,
           56.69783828046003,
           56.69937436368011,
           56.69989354807824,
           56.6999935624994,
           56.69999996777493,
           56.69999999999999,
           56.7
          ],
          [
           23.894804410976008,
           56.8054139560153,
           56.89455683329372,
           56.9218573061804,
           56.93743653212003,
           56.95942949842181,
           56.97620985654731,
           56.99045744947853,
           57.00308997267942,
           57.01434539357605,
           57.02418790714772,
           57.032487529874956,
           57.03911657197371,
           57.04401569307525,
           57.04730598842921,
           57.04918828550653,
           57.0498534544647,
           57.04999023543595,
           57.04999994090826,
           57.049999999999955,
           57.05
          ],
          [
           23.974479356883542,
           57.1340790530617,
           57.22902624490781,
           57.25833461009126,
           57.275125806235486,
           57.29893007685253,
           57.317189541230675,
           57.33277677698509,
           57.346679221696476,
           57.35915106197854,
           57.37014617345276,
           57.37950954900379,
           57.387080197180964,
           57.39276267236968,
           57.39665808120188,
           57.398952759333746,
           57.39979968853102,
           57.399985330014495,
           57.3999998931985,
           57.39999999999987,
           57.4
          ],
          [
           24.053800643698025,
           57.46128693487488,
           57.5622546535513,
           57.5936614899908,
           57.61172419322203,
           57.63743663613083,
           57.657262439736755,
           57.67427582651903,
           57.68953807190907,
           57.70332118795243,
           57.71556872549858,
           57.726099251097935,
           57.7347155472384,
           57.74128135269663,
           57.745873078521974,
           57.748656316260735,
           57.74972809923835,
           57.749978166460494,
           57.74999980969102,
           57.74999999999961,
           57.75
          ],
          [
           24.13277129453124,
           57.786971043221975,
           57.89417214802332,
           57.927767645455674,
           57.9471614543863,
           57.97487957979191,
           57.99636012089031,
           58.01488789440305,
           58.03160225270412,
           58.04679483044278,
           58.06039906327037,
           58.072205900061405,
           58.08197912719345,
           58.08953695105397,
           58.094926271627166,
           58.09828525466461,
           58.099633442111724,
           58.09996780331354,
           58.09999966558635,
           58.09999999999886,
           58.1
          ],
          [
           24.211394292464966,
           58.1110639835969,
           58.224707169150385,
           58.260580778610276,
           58.281365123428635,
           58.3111867120594,
           58.33441122674066,
           58.3545430377281,
           58.372803949738426,
           58.389507216302185,
           58.40457660511078,
           58.4177745071595,
           58.4288231576205,
           58.43749058996423,
           58.44378937902398,
           58.44782330292316,
           58.44950914033417,
           58.44995294949263,
           58.44999942035669,
           58.44999999999675,
           58.45
          ],
          [
           24.289672581280307,
           58.433497640142406,
           58.55378662254772,
           58.59202669925395,
           58.61426060414587,
           58.6462833190643,
           58.671341533895,
           58.69316811082711,
           58.71307180969994,
           58.73138970453741,
           58.748036600927016,
           58.76274568185846,
           58.775195353378706,
           58.785099001342644,
           58.79243018848666,
           58.79725125078768,
           58.79934700655235,
           58.799931851592206,
           58.79999900871831,
           58.799999999991016,
           58.8
          ],
          [
           24.367609066169628,
           58.754203294606285,
           58.881335999848424,
           58.922029440492615,
           58.945771279997544,
           58.98009226411595,
           59.00707403077349,
           59.03068681932644,
           59.05233096401497,
           59.07236977033477,
           59.0907100650079,
           59.107055500348444,
           59.12103871526205,
           59.13231423423754,
           59.140812188292855,
           59.14654655005999,
           59.14913692195678,
           59.14990215103497,
           59.149998326991664,
           59.149999999975854,
           59.15
          ],
          [
           24.445206614432422,
           59.07311174887099,
           59.207279507950915,
           59.25051138449238,
           59.27581863522289,
           59.31253409687554,
           59.34152901084386,
           59.36701979210266,
           59.39050307218564,
           59.4123710100155,
           59.432523730196905,
           59.450635394207524,
           59.46629133774802,
           59.479083370198374,
           59.488894191254836,
           59.49568288596772,
           59.49886646956525,
           59.49986070502406,
           59.49999721280508,
           59.49999999993672,
           59.5
          ],
          [
           24.522468056154814,
           59.39015345057927,
           59.53154020578402,
           59.57739339790362,
           59.604322387113974,
           59.64352717617949,
           59.674624181771854,
           59.70208467133547,
           59.72750638529351,
           59.751313167922994,
           59.77340002503512,
           59.79341206158614,
           59.810886236086404,
           59.825348250262586,
           59.836629955638976,
           59.8446297214485,
           59.848520519178486,
           59.84980336460358,
           59.84999541534767,
           59.84999999983834,
           59.85
          ],
          [
           24.59939618487347,
           59.705258621364386,
           59.854040148041626,
           59.90259497643779,
           59.93120062897084,
           59.97298780615786,
           60.006274790300935,
           60.035796220705286,
           60.06325583004741,
           60.08911218607718,
           60.113257075331255,
           60.135307403177016,
           60.15475119595799,
           60.171045217737905,
           60.18396780757336,
           60.193351817431335,
           60.19808076220468,
           60.19972470259993,
           60.19999255242065,
           60.19999999959715,
           60.2
          ],
          [
           24.675993758224557,
           60.01835738718326,
           60.17470053529498,
           60.22603439801737,
           60.25636998318922,
           60.300830385193485,
           60.33639376255243,
           60.36806645163952,
           60.39766311358838,
           60.425680277252035,
           60.45200873143537,
           60.47623848508572,
           60.49780864887232,
           60.516104881086854,
           60.53085027001209,
           60.541808733128065,
           60.547525195474705,
           60.54961768383166,
           60.54998804934628,
           60.54999999902045,
           60.55
          ],
          [
           24.752263498577697,
           60.32937991024352,
           60.493441869852255,
           60.547628883861684,
           60.57974576385974,
           60.62696756717136,
           60.66489185931647,
           60.698804767365814,
           60.73063684909391,
           60.760926021939575,
           60.78956462229114,
           60.816117530532445,
           60.83997557636372,
           60.86045190128734,
           60.87721370373871,
           60.88995431129731,
           60.89682755429408,
           60.8994732698036,
           60.89998105334941,
           60.89999999767481,
           60.9
          ],
          [
           24.828208093655768,
           60.63825652201101,
           60.810184116700604,
           60.86729476681916,
           60.90124214819152,
           60.9513104343753,
           60.9916778457861,
           61.02791812438492,
           61.06208270204919,
           61.09475448946199,
           61.12583023711982,
           61.154851942098034,
           61.18116344588327,
           61.20400480804289,
           61.22298796623735,
           61.237736154395435,
           61.24595669629598,
           61.24927995020771,
           61.24997031532074,
           61.24999999460966,
           61.25
          ],
          [
           24.903830197140685,
           60.9449178567838,
           61.12484686883665,
           61.18494766620911,
           61.2207723560118,
           61.27376868130256,
           61.31665867507314,
           61.355311210832575,
           61.391903556877544,
           61.42706738328441,
           61.46070703535147,
           61.49234435597937,
           61.52127818107412,
           61.54667584914466,
           61.56809609452604,
           61.585095098458325,
           61.59487593915789,
           61.59902319400389,
           61.599954028917104,
           61.599999987790966,
           61.6
          ],
          [
           24.979132429265633,
           61.249294985320354,
           61.43734951626738,
           61.50050266839515,
           61.538248836538536,
           61.59425080858572,
           61.63973968473546,
           61.680886641059885,
           61.71999970344679,
           61.757763210366335,
           61.79409258516695,
           61.82849272944305,
           61.860220168857744,
           61.88837087714101,
           61.912454018219,
           61.9319646924355,
           61.943542356899584,
           61.94868481371231,
           61.94992961479077,
           61.94999997297101,
           61.95
          ],
          [
           25.054117377394164,
           61.55131954801464,
           61.74761141794413,
           61.81387451227669,
           61.85358346157446,
           61.91266432613701,
           61.96082480544351,
           62.00454516562716,
           62.04626904279564,
           62.08673747417403,
           62.12588073075232,
           62.163190462366174,
           62.197884305454096,
           62.22898927724992,
           62.25597030915404,
           62.27827069149725,
           62.291906041259196,
           62.29824223787123,
           62.29989343544346,
           62.29999994148916,
           62.3
          ],
          [
           25.12878759658637,
           61.850923887119045,
           62.0555520758791,
           62.12497777885592,
           62.166687724228915,
           62.2289159645635,
           62.27981678081854,
           62.32618589577807,
           62.37060731125628,
           62.41388289075997,
           62.45596178809753,
           62.49632655343208,
           62.53416008311071,
           62.56842394015376,
           62.598545973879304,
           62.62393057352559,
           62.639909336505596,
           62.64766768844316,
           62.64984042388553,
           62.6499998760999,
           62.65
          ],
          [
           25.20314561015266,
           62.14804117752611,
           62.361091310684785,
           62.43372708401483,
           62.47747294223951,
           62.542911893841996,
           62.59661739738846,
           62.64570654134073,
           62.69290832198758,
           62.73908962710302,
           62.78422276889849,
           62.82778579121171,
           62.86893171893038,
           62.90656128294772,
           62.940074295133144,
           62.96885308855366,
           62.98748605793766,
           62.99692726231481,
           62.99976360710858,
           62.99999974325335,
           63
          ],
          [
           25.27719391019545,
           62.44260555563352,
           62.664149437773986,
           62.740037273620636,
           62.785850464937845,
           62.85455794819244,
           62.91112772352959,
           62.96300366089182,
           63.01306422278057,
           63.0622455606963,
           63.11054763184851,
           63.15744898001283,
           63.20207832676831,
           63.24328132107683,
           63.280440728169644,
           63.31293785130966,
           63.334560706186835,
           63.345979918935775,
           63.349653503560546,
           63.34999947916287,
           63.35
          ],
          [
           25.350934958138836,
           62.73455224583227,
           62.964647443459576,
           63.04382362006755,
           63.09173188288321,
           63.16375985604612,
           63.22324835619468,
           63.27797292291863,
           63.33096576885424,
           63.38323655917089,
           63.43481756033528,
           63.485193200022984,
           63.53347413272401,
           63.578457793595206,
           63.61952285737806,
           63.65607498722571,
           63.68104769121375,
           63.69477637955366,
           63.69949737259785,
           63.699998965269955,
           63.7
          ],
          [
           25.424371185246905,
           63.02381768417561,
           63.262507160199995,
           63.34500201935985,
           63.395029239175514,
           63.47042347397188,
           63.532879674169685,
           63.59050937662505,
           63.64650260922871,
           63.701946778555715,
           63.75691126529705,
           63.81089210091518,
           63.862988734286404,
           63.911958343524546,
           63.95719041812052,
           63.99814484227048,
           64.0268505815047,
           64.0432579473773,
           64.04927829357251,
           64.04999798608178,
           64.05
          ],
          [
           25.497504993130896,
           63.3103396388062,
           63.55765144024839,
           63.643489187843365,
           63.69565524145308,
           63.77445502340011,
           63.8399220965549,
           63.900507730949954,
           63.959563585144,
           64.01825897859912,
           64.07670531173956,
           64.13441622773031,
           64.19048740271049,
           64.24364475448212,
           64.2933053880721,
           64.33901776674136,
           64.3718613953601,
           64.39135526224757,
           64.39897405310519,
           64.39999615845612,
           64.4
          ],
          [
           25.57033875424532,
           63.5940573267404,
           63.850004326978876,
           63.939202857701666,
           63.99352347358244,
           64.07576132896857,
           64.14427634513005,
           64.20786264030183,
           64.2700370388883,
           64.332054853417,
           64.39407446717644,
           64.45563337750403,
           64.51583142771666,
           64.57337324410267,
           64.62772215160001,
           64.67855398269647,
           64.71595995225525,
           64.73898700789867,
           64.74855582151402,
           64.7499928158318,
           64.75
          ],
          [
           25.64287481237354,
           63.874911526632275,
           64.13949122318479,
           64.23206197034784,
           64.2885486060562,
           64.37425005730947,
           64.44584370923815,
           64.51246899546213,
           64.57781113131125,
           64.64321537558973,
           64.7088920700345,
           64.77440898477253,
           64.83887850311756,
           64.90099481410319,
           64.96028773987429,
           65.0166035440168,
           65.05901330298146,
           65.08605859450282,
           65.09798660360592,
           65.0999868232129,
           65.1
          ],
          [
           25.715115483103048,
           64.15284468716415,
           64.4260390556675,
           64.52198686686296,
           64.58064660413052,
           64.66982995509964,
           64.74452631180914,
           64.81422221807239,
           64.88277416622341,
           64.95162115170397,
           65.02103041586233,
           65.0906065337755,
           65.15948315149869,
           65.22635565614515,
           65.29084214847288,
           65.35300639716414,
           65.40087525758234,
           65.43246084372717,
           65.4472194553257,
           65.44997628851608,
           65.45
          ],
          [
           25.78706305429055,
           64.42780103073667,
           64.70957643546345,
           64.80889947465803,
           64.86973493275546,
           64.96241108520827,
           65.04022737514174,
           65.11301855709516,
           65.18481491982786,
           65.25715278723067,
           65.33036115900029,
           65.40408799488043,
           65.47749718561673,
           65.54929761194735,
           65.61921873324737,
           65.68759254955206,
           65.74138602994209,
           65.7780687077971,
           65.79619546624457,
           65.79995812293362,
           65.8
          ],
          [
           25.858719786517362,
           64.69972665215869,
           64.99003381308854,
           65.09272348956705,
           65.15573275738036,
           65.25190505979688,
           65.3328514850708,
           65.40875538562966,
           65.48382297328963,
           65.559691258545,
           65.63675572721424,
           65.71471428248505,
           65.79277020373854,
           65.86965868540616,
           65.94524468416667,
           66.02018235108972,
           66.08037201722139,
           66.1227400578379,
           66.14484151857283,
           66.14992738728856,
           66.15
          ],
          [
           25.93008791353519,
           64.96856961206429,
           65.26734362821378,
           65.37338455261371,
           65.43856113974937,
           65.53822526925529,
           65.62230485216583,
           65.70133149646517,
           65.77968904652658,
           65.85911828983033,
           65.94008574666306,
           66.02234573141507,
           66.10515011573278,
           66.18727360379819,
           66.26874157577437,
           66.35058689291188,
           66.41764573115391,
           66.46631457983915,
           66.49306784616354,
           66.49987634346586,
           66.5
          ],
          [
           26.001169642702628,
           65.2342800248136,
           65.54144045322457,
           65.65081042073376,
           65.71814322784277,
           65.82128710589308,
           65.90849556863611,
           65.99064739477241,
           66.0723053312997,
           66.1553167325662,
           66.24022347446841,
           66.32684258862929,
           66.41448369635027,
           66.50197442448861,
           66.5895259918022,
           66.67860852560487,
           66.7530058965069,
           66.80861281874175,
           66.8407654315195,
           66.84979311105351,
           66.85
          ],
          [
           26.071967155412537,
           65.49681014066218,
           65.81226113015485,
           65.9249311307785,
           65.99440443916293,
           66.10100818134978,
           66.19133385965661,
           66.27660558636224,
           66.36156582169298,
           66.44817094528008,
           66.53704223607781,
           66.62806551687197,
           66.7206171617934,
           66.81359118295293,
           66.90741022039595,
           67.00404149740453,
           67.08623772978677,
           67.14943541218891,
           67.18780329461073,
           67.19965981130103,
           67.2
          ],
          [
           26.14248260751058,
           65.75611442201321,
           66.07974490053084,
           66.19567915617112,
           66.26727263661277,
           66.37730853673717,
           66.47073232787683,
           66.55911085998271,
           66.64736664009993,
           66.73756717124432,
           66.83041686456667,
           66.92587610677992,
           67.02339676538617,
           67.12195257735561,
           67.22220301535246,
           67.32667271092036,
           67.41711340856553,
           67.48856255524646,
           67.53402574365317,
           67.54945006630767,
           67.55
          ],
          [
           26.21271812970525,
           66.01214961359597,
           66.34383352770193,
           66.46298955563675,
           66.53667829626744,
           66.65011084458268,
           66.74660618993177,
           66.83807056217898,
           66.92960635687889,
           67.02339391182285,
           67.12022413900644,
           67.22013739385498,
           67.32266940791581,
           67.42688668442148,
           67.53371041775898,
           67.64628259496884,
           67.7453927386663,
           67.82575373575975,
           67.87924967401224,
           67.89912571480784,
           67.9
          ],
          [
           26.2826758279693,
           66.26487480644258,
           66.60447141128178,
           66.72680011347973,
           66.80255466639485,
           66.91934060170445,
           67.01887350383765,
           67.1133948633042,
           67.20818630189643,
           67.30554229321503,
           67.40634321903643,
           67.51071437665662,
           67.61828325803026,
           67.72822170089574,
           67.84173663148339,
           67.96264608611921,
           68.07082402293868,
           68.1607477768976,
           68.22326201606208,
           68.24863261155133,
           68.25
          ],
          [
           26.352357783933144,
           66.51425149556444,
           66.86160569336894,
           66.98705147093425,
           67.06483791714037,
           67.18492631221474,
           67.28745538622744,
           67.38499701334452,
           67.4830108662522,
           67.58390642440881,
           67.68865607281603,
           67.79747453255379,
           67.9100883779436,
           68.02578670452198,
           68.14608494511202,
           68.27553371261503,
           68.39314513156081,
           68.4932632188268,
           68.5658174450556,
           68.59789539990756,
           68.6
          ],
          [
           26.421766055270176,
           66.7602436312573,
           67.11518635626268,
           67.24368724817049,
           67.3234672803513,
           67.44679965991804,
           67.55227621845721,
           67.65279358630325,
           67.75398779256369,
           67.85838374423645,
           67.96704789559955,
           68.08028832739629,
           68.19793734962644,
           68.3194124281803,
           68.44655869217713,
           68.58471277147312,
           68.7120847698137,
           68.82299906540509,
           68.90663647472681,
           68.94681119141694,
           68.95
          ],
          [
           26.49090267607434,
           67.00281766399229,
           67.36516631143668,
           67.49665415659447,
           67.57838517907918,
           67.70489566944364,
           67.81326384069844,
           67.91670471198131,
           68.0210284522871,
           68.1288753555264,
           68.24140751626729,
           68.35902971552756,
           68.48168589663914,
           68.60893204062364,
           68.74296224088157,
           68.88994858782465,
           69.02736393518927,
           69.14963591439407,
           69.24540406040936,
           69.29524215482887,
           69.3
          ],
          [
           26.559769657230092,
           67.24194258287655,
           67.61150147958037,
           67.74590210113652,
           67.82953734636294,
           67.95915285552874,
           68.07034973321763,
           68.17665429408864,
           68.284048108659,
           68.39528634446064,
           68.51162778926269,
           68.63357662665885,
           68.7611934968042,
           68.8941819271336,
           69.03510200401954,
           69.19100584398767,
           69.33869755162375,
           69.47283748115025,
           69.58176883601958,
           69.64300711177793,
           69.65
          ],
          [
           26.628368986774873,
           67.47758994769372,
           67.85415086156402,
           67.99138427228006,
           68.07687293295879,
           68.20951335994506,
           68.32346918413513,
           68.43257021372509,
           68.54296616396024,
           68.65752608337623,
           68.77760596952291,
           68.90381143625648,
           69.03632398100713,
           69.17500246338535,
           69.32278745942158,
           69.48764996438413,
           69.6457962647022,
           69.79225251628715,
           69.91534310165603,
           69.9898723546111,
           70
          ],
          [
           26.696702630254542,
           67.70973391455925,
           68.0930766002294,
           68.23305722764013,
           68.32034460374925,
           68.45592307564219,
           68.5725614430494,
           68.68438451737828,
           68.7977063899299,
           68.91550851539341,
           69.03924406814929,
           69.16962141626044,
           69.3069461135609,
           69.45123877586904,
           69.60583217102382,
           69.77964854126725,
           69.94836837797016,
           70.1075171077052,
           70.24570366446704,
           70.33554203807577,
           70.35
          ],
          [
           26.76477253107153,
           67.93835125524986,
           68.32824403295281,
           68.47088096295579,
           68.5599086226264,
           68.69833175775916,
           68.81756986000649,
           68.9320335886976,
           69.04819714028753,
           69.16915241940578,
           69.29644918673993,
           69.4308991631471,
           69.57293414976576,
           69.72274148235502,
           69.88405480057976,
           70.06677278533365,
           70.24612190711544,
           70.41825734698095,
           70.57239361484746,
           70.67964864050238,
           70.7
          ],
          [
           26.83258061082624,
           68.163421370289,
           68.55962173497105,
           68.70481897241665,
           68.79552492570967,
           68.93669312123633,
           69.05844200939221,
           69.17545830341876,
           69.29437154445972,
           69.41838165413036,
           69.54913382849949,
           69.68754300057155,
           69.83416836653845,
           69.9893674061134,
           70.1572801000982,
           70.34879898467804,
           70.53876672584546,
           70.72409232975184,
           70.89492509337533,
           71.0217441277155,
           71.05
          ],
          [
           26.900128769651687,
           68.38492629589257,
           68.7871815535029,
           68.93483829829728,
           69.02715718281983,
           69.17096492483788,
           69.29512979841948,
           69.41460416692938,
           69.53616768174675,
           69.66312538008583,
           69.79721618444606,
           69.93945735407085,
           70.09053556227045,
           70.25098025789816,
           70.42533987529994,
           70.6255099552191,
           70.82601677486576,
           71.02463744978996,
           71.2127830720206,
           71.36129256714595,
           71.4
          ],
          [
           26.9674188865416,
           68.60285070489829,
           69.01089863273921,
           69.16090956992511,
           69.25477284719207,
           69.4011090414732,
           69.52758955997909,
           69.64942143408217,
           69.77352873530748,
           69.90331825854139,
           70.04062039325075,
           70.18655309557538,
           70.34192952239695,
           70.50745128007546,
           70.68807391073298,
           70.89669646569006,
           71.10759230353148,
           71.31950793728898,
           71.52543013727379,
           71.6976650121318,
           71.75
          ],
          [
           27.03445281967211,
           68.81718190182244,
           69.23075142981385,
           69.38300703205792,
           69.47834319347032,
           69.6270915147806,
           69.75578212971675,
           69.8798652109791,
           70.00640312548413,
           70.13890062665752,
           70.27927677346973,
           70.42874785575793,
           70.58825144751405,
           70.75865984771154,
           70.94533084766573,
           71.16215862054506,
           71.38322211255024,
           71.60832258383542,
           71.83231222451144,
           72.0301374897617,
           72.09999999999994
          ],
          [
           27.10123240671721,
           69.02790981220454,
           69.44672172190369,
           69.6011085627945,
           69.69784334408104,
           69.84888260201112,
           69.97967290729076,
           70.10589553856337,
           70.23474462213089,
           70.36981864821897,
           70.51312202715705,
           70.66596630254527,
           70.82941034126361,
           71.00449402192544,
           71.19696900647594,
           71.42170718467557,
           71.65264576559147,
           71.8907075898999,
           72.13286521393873,
           72.35789286592926,
           72.44999999999753
          ],
          [
           27.167759465158,
           69.23502696641665,
           69.65879460464132,
           69.81519568118813,
           69.91325228413916,
           70.06645680331992,
           70.19923190185395,
           70.32747745796814,
           70.45851243575127,
           70.59602443954016,
           70.74209941407842,
           70.89814038442063,
           71.06532335560937,
           71.24485105135153,
           71.44285714596118,
           71.675164834645,
           71.91561573782239,
           72.16630046572311,
           72.42652226078323,
           72.68002722071728,
           72.79999999992285
          ],
          [
           27.23403579258624,
           69.4385284781296,
           69.86695848205557,
           70.0252535447751,
           70.1245528650899,
           70.27979287764136,
           70.41443376188984,
           70.54458105767992,
           70.677671287387,
           70.81747617030034,
           70.96615889597825,
           71.12520953745528,
           71.29591609154745,
           71.47963781813475,
           71.682875152799,
           71.9223673222156,
           72.17189947023388,
           72.43475391337688,
           72.71272169803164,
           72.99556114620269,
           73.14999999816786
          ],
          [
           27.300063167001753,
           69.63841201764029,
           70.07120504828531,
           70.23127093727004,
           70.3317317973382,
           70.48887384538665,
           70.62525778961444,
           70.75718150267798,
           70.89219145733462,
           71.03413813923933,
           71.18525725058177,
           71.34712085531712,
           71.52112285372414,
           71.70877122548902,
           71.91691465526596,
           72.16316453723314,
           72.42128130011984,
           72.69573961667807,
           72.99091532077806,
           73.30345608709061,
           73.49999996670103
          ],
          [
           27.365843347104367,
           69.8346777802779,
           70.27152926133958,
           70.4332402467184,
           70.53477963216254,
           70.6936869782645,
           70.83168794023365,
           70.96525904581176,
           71.10204881289505,
           71.24598082481333,
           71.39935815523978,
           71.5638292218138,
           71.74088685786776,
           71.9321785244784,
           72.14487955626973,
           72.39742145842423,
           72.66356424018487,
           72.94895186657116,
           73.26057683884088,
           73.60263550157443,
           73.84999953407997
          ],
          [
           27.431378072580323,
           70.02732845011538,
           70.46792930920145,
           70.63115743442859,
           70.73369073325132,
           70.89422377658003,
           71.03371280641791,
           71.16879902177148,
           71.30722481548351,
           71.45298091107252,
           71.60843224034193,
           71.7752974058306,
           71.95516039037517,
           72.14979757832002,
           72.36668648173847,
           72.62501898231258,
           72.89857158142036,
           73.19411095254804,
           73.52121027001701,
           73.89201025301566,
           74.19999494905838
          ],
          [
           27.496669064383077,
           70.21636915922304,
           70.66040656859616,
           70.8250219950391,
           70.92846323823741,
           71.09047993441972,
           71.23132558842516,
           71.36779182409624,
           71.50770650754293,
           71.65512128917614,
           71.81245711283545,
           71.98149611881789,
           72.16390491981926,
           72.36157706314944,
           72.58226514143217,
           72.84585462224217,
           73.12614829803454,
           73.43096625554051,
           73.77235804107487,
           74.17050728562204,
           74.54995728097856
          ],
          [
           27.56171802500897,
           70.40180744270772,
           70.84896555676346,
           71.01483690810238,
           71.11909901064138,
           71.28245529317714,
           71.42452405036433,
           71.56223286574549,
           71.70348647981282,
           71.85239103510644,
           72.01141735038583,
           72.18240403526758,
           72.36709116056036,
           72.56747660482452,
           72.7915586002724,
           73.05984307136586,
           73.3461622362629,
           73.65929898433345,
           74.01360856774969,
           74.43710032449894,
           74.89971595728899
          ],
          [
           27.626526638767686,
           70.58365318978758,
           71.03361387659156,
           71.20060858159246,
           71.30560358266388,
           71.47015378391693,
           71.61331046314899,
           71.75212252383446,
           71.89456281960463,
           72.0447853642784,
           72.20530446690466,
           72.37800777688607,
           72.56469908904367,
           72.7674668519636,
           72.9945234593144,
           73.26691662538337,
           73.5585050727294,
           73.87892450567452,
           74.24460309849808,
           74.69084110538184,
           75.24850235945019
          ],
          [
           27.691096572047684,
           70.76191859115738,
           71.21436215548502,
           71.38234678776476,
           71.48798608929471,
           71.65358335911225,
           71.79769153474227,
           71.93746606920335,
           72.08093904082733,
           72.23230556386753,
           72.39411685034534,
           72.56830186142552,
           72.75671791374526,
           72.96152948601112,
           73.19112994649461,
           73.46702546275235,
           73.76309303207942,
           74.08969422762183,
           74.46504162899785,
           74.93088950891924,
           75.59367590626387
          ],
          [
           27.755429473576555,
           70.93661808290261,
           71.39122397835081,
           71.56006459181421,
           71.66625919422903,
           71.83275591432427,
           71.97767832833836,
           72.11827358154972,
           72.26262399658845,
           72.41495890379177,
           72.57785967382767,
           72.75328861737026,
           72.94314600008546,
           73.14965716969135,
           73.38136191825808,
           73.66013778201568,
           73.95986735775955,
           74.29149700595872,
           74.67468772428,
           75.15654096572182,
           75.92836369588358
          ],
          [
           27.819526974676677,
           71.10776828722295,
           71.56421581509733,
           71.73377827379363,
           71.84043900810079,
           72.00768720042068,
           72.15328616916631,
           72.29455985090794,
           72.43963177527002,
           72.59275852738571,
           72.7565447812998,
           72.9329780658895,
           73.1239907519588,
           73.33185343574304,
           73.56521677409768,
           73.84623979775249,
           74.14879453398157,
           74.48426005437406,
           74.87337212150736,
           75.36724961659942,
           76.23920059674819
          ],
          [
           27.88339068951619,
           71.27538795022724,
           71.73335694304781,
           71.90350724426551,
           72.01054499955907,
           72.17839672695379,
           72.32453454063449,
           72.46634426630555,
           72.61198158104233,
           72.7657233228957,
           72.93019054907438,
           73.107387771663,
           73.29926845182999,
           73.50813251831708,
           73.74270528690118,
           74.02533559843792,
           74.3298662609815,
           74.66794935021439,
           75.06099502702386,
           75.56264594961391,
           76.5073811082785
          ],
          [
           27.947022215355233,
           71.43949787706131,
           71.89866936467573,
           72.06927395416999,
           72.1765998997252,
           72.34490765733817,
           72.4914469705619,
           72.63365069246456,
           72.77969759983301,
           72.93387777700202,
           73.09882172469116,
           73.2765426643563,
           73.46900406161502,
           73.67851912986495,
           73.91385135279823,
           74.19744687115822,
           74.50309918958013,
           74.84256953861137,
           75.23752706445813,
           75.7425479717924,
           76.71538745402336
          ],
          [
           28.010423132787707,
           71.60012086462945,
           72.06017772107177,
           72.23110379939772,
           72.33862960057763,
           72.5072466964819,
           72.65405090826413,
           72.7965073354477,
           72.94280885181436,
           73.09725181164063,
           73.26246924465491,
           73.44047483267252,
           73.63323098680316,
           73.84304818674043,
           74.07869166491622,
           74.36261249965105,
           74.66853442469133,
           75.00816334835817,
           75.40300887438104,
           75.90696537876606,
           76.85623409696451
          ],
          [
           28.07359500597876,
           71.757281632168,
           72.21790920155368,
           72.3890250205594,
           72.49666304781658,
           72.66544397153636,
           72.81237759327799,
           72.95494659817378,
           73.10134903150704,
           73.25588060544862,
           73.42117003267822,
           73.59922329303214,
           73.79199080647754,
           74.00176448708027,
           74.23727531608475,
           74.5208880435018,
           74.82623681073738,
           75.16481054274858,
           75.55754940833836,
           76.05609662408472,
           76.93760176551156
          ],
          [
           28.136539382897652,
           71.91100674992676,
           72.3718934498288,
           72.54306859844476,
           72.65073212876322,
           72.81953290643463,
           72.96646191651942,
           73.10900492674278,
           73.2553563366257,
           73.40980440120101,
           73.57496678012313,
           73.75283373503504,
           73.9453329720609,
           74.15472234481958,
           74.38966333606984,
           74.6723451075134,
           74.97629401485969,
           75.31262643745401,
           75.7013229992159,
           76.1903192232073,
           76.97704979412602
          ],
          [
           28.199257795546863,
           72.06132456620891,
           72.52216246711612,
           72.69326814566195,
           72.80087155584698,
           72.96955009089129,
           73.11634227467479,
           73.25872264852273,
           73.40487328680932,
           73.55906830063378,
           73.72390771038334,
           73.90135824593709,
           74.09331447774545,
           74.30198518393247,
           74.53592816936616,
           74.81707061126374,
           75.11881542631372,
           75.45176002518092,
           75.83456532430236,
           76.31017401895271,
           76.99292141673904
          ],
          [
           28.261751760186627,
           72.208265133017,
           72.66875051262983,
           72.83965979494361,
           72.94711874623154,
           73.11553514453371,
           73.26206041862588,
           73.40414380295348,
           73.5499465333886,
           73.70372204806715,
           73.86804632898065,
           74.04485501643086,
           74.23599950566583,
           74.44362509716859,
           74.67615309992735,
           74.95516596966715,
           75.2539308924779,
           75.58239175317067,
           75.95756840586643,
           76.41634445514282,
           76.99818300142442
          ],
          [
           28.324022777555655,
           72.35186013054536,
           72.81169400182034,
           72.98228208460026,
           73.08951369812328,
           73.25753057683018,
           73.40366129670505,
           73.54531596602095,
           73.69062666134397,
           73.84381980424963,
           74.007441161166,
           74.183388030053,
           74.37345904893911,
           74.57972237368372,
           74.81043162947245,
           75.0867461959599,
           75.38178931346837,
           75.7047310044687,
           76.07067481570402,
           76.50963213158735,
           76.9996138789936
          ],
          [
           28.386072333088023,
           72.49214279075409,
           72.95103140276004,
           73.12117584159213,
           73.22809886429735,
           73.3955816434703,
           73.54119289356747,
           73.68229006934658,
           73.82696798460123,
           73.97941991183993,
           74.14215547881822,
           74.31702673855395,
           74.50577051572952,
           74.71036500003574,
           74.93886681617013,
           75.21193893893572,
           75.50255711842993,
           75.8190133372504,
           76.17427126445926,
           76.59093003505646,
           76.99993230652994
          ],
          [
           28.447901897125917,
           72.62914782025257,
           73.08680313105235,
           73.25638406268112,
           73.36291902336559,
           73.52973619984188,
           73.67470606545558,
           73.81512021482405,
           73.95902833579795,
           74.11058465393035,
           74.27225701842087,
           74.445845725559,
           74.63301731749763,
           74.83564813904192,
           75.0615705805765,
           75.33088346647087,
           75.61641664717496,
           75.92549753834969,
           76.26878176348993,
           76.6611948566568,
           76.99999022959997
          ],
          [
           28.509512925128774,
           72.762911322713,
           73.21905144363197,
           73.38795179411177,
           73.49402114929742,
           73.66004455223322,
           73.80425437261306,
           73.94386348571646,
           74.0868688516338,
           74.23738000699335,
           74.39781769187408,
           74.56992436082237,
           74.75528844456747,
           74.95567359096957,
           75.17866298569096,
           75.44372960740783,
           75.72356446098462,
           76.02446254754005,
           76.35466054689584,
           76.72141972490569,
           76.99999884027575
          ],
          [
           28.570906857878875,
           72.89347072102629,
           73.34782033181172,
           73.5159260102567,
           73.6214542796892,
           73.7865593073715,
           73.929893909586,
           74.06857975510368,
           74.21055375489061,
           74.35987538960086,
           74.51891329186125,
           74.68934644733295,
           74.87267803209099,
           75.07054924146362,
           75.29027149790221,
           75.55063666372207,
           75.82420960609596,
           76.116204308161,
           76.4323849346323,
           76.77260852234635,
           76.99999988682673
          ],
          [
           28.63208512168287,
           73.02086467940535,
           73.47315541391961,
           73.64035549164687,
           73.74526938326123,
           73.90933522088928,
           74.05168313412577,
           74.18933149254306,
           74.33015013417648,
           74.4781434082289,
           74.63562319344331,
           74.80419986347047,
           74.9852849194106,
           75.18038850050588,
           75.39653023543077,
           75.6517723045936,
           75.91857185271306,
           76.20103259749047,
           76.5024483052152,
           76.81575273350089,
           76.99999999091759
          ],
          [
           28.69304912857035,
           73.14513302563023,
           73.59510382785521,
           73.76129070279036,
           73.86551922704322,
           74.02842904528742,
           74.16968269538128,
           74.306183569775,
           74.44572772241074,
           74.59225960141308,
           74.74803005349554,
           74.91457620233597,
           75.09321220571977,
           75.28530973655421,
           75.49757921064126,
           75.74731145355659,
           76.00687993133872,
           76.27926788699155,
           76.56535332940378,
           76.851811517422,
           76.99999999940016
          ],
          [
           28.753800276488505,
           73.26631667362258,
           73.71371412388062,
           73.87878367016648,
           73.9822582436888,
           74.14389937794014,
           74.28395526204012,
           74.41920306627082,
           74.55735867502459,
           74.70230218346933,
           74.85621950953697,
           75.02057041029359,
           75.19656680479932,
           75.38543570983086,
           75.59356357230547,
           75.83743517932737,
           76.08936978687632,
           76.35123827838564,
           76.62160559554661,
           76.8816954329101,
           76.99999999996736
          ],
          [
           28.814339949493572,
           73.38445754652625,
           73.82903615794547,
           73.99288786076306,
           74.09554239933954,
           74.25580650966154,
           74.39456535104722,
           74.52845907538305,
           74.6651173488072,
           74.80835178893773,
           74.96027987942739,
           75.12228042666172,
           75.29545900147014,
           75.48089300852075,
           75.68463285355334,
           75.92232960022764,
           76.1662828693465,
           76.41727655661052,
           76.67170773416694,
           76.90625398989249,
           76.99999999999854
          ],
          [
           28.87466951793901,
           73.49959850046184,
           73.94112098583064,
           74.10365806150617,
           74.20542906243674,
           74.36421227432602,
           74.50157915749679,
           74.63402251181876,
           74.76908008227748,
           74.91049121884434,
           75.06030186332777,
           75.21980682638332,
           75.39000201224678,
           75.57181149140865,
           75.77094023086164,
           76.0021848113477,
           76.23786447825464,
           76.47771739530295,
           76.71615412500132,
           76.92626697363885,
           76.99999999999996
          ],
          [
           28.934790338660335,
           73.61178324911342,
           74.05002075837848,
           74.21115025991132,
           74.31197687385675,
           74.46917990000776,
           74.60506438625953,
           74.73596592111438,
           74.86932497841079,
           75.00880518981154,
           75.15637824923414,
           75.3132524673886,
           75.48031155251284,
           75.65832374023105,
           75.8526417990077,
           76.07719384275225,
           76.30436217568297,
           76.53289474469138,
           76.75542624516444,
           76.9424393014427,
           77
          ],
          [
           28.99470375515679,
           73.72105628929589,
           74.15578861806158,
           74.31542152626554,
           74.41524561872268,
           74.57077386207435,
           74.7050900858711,
           74.83436329174816,
           74.96593169049521,
           75.10338008697835,
           75.24860362330419,
           75.40272214424068,
           75.56650541236053,
           75.74056452475028,
           75.92989586646624,
           76.14755165613511,
           76.36602428112093,
           76.5831394258768,
           76.78998869335815,
           76.9553990308246,
           77.00000000000001
          ],
          [
           29.05441109777003,
           73.82746282764187,
           74.25847859712488,
           74.41652989762864,
           74.51529610022128,
           74.66905973864132,
           74.80172648517278,
           74.92928987048022,
           75.05898121183739,
           75.194303721621,
           75.33707408610334,
           75.48832224952672,
           75.64870304305522,
           75.81867028327844,
           76.00286227525794,
           76.21345418640176,
           76.42309845893013,
           76.62877694958344,
           76.82028590287973,
           76.96569804591482,
           77
          ],
          [
           29.113913683859515,
           73.93104870853682,
           74.35814551752003,
           74.51453426392156,
           74.6121900157305,
           74.76410406876356,
           74.89504483315696,
           75.0208219814669,
           75.14855566997997,
           75.28166509429201,
           75.42188697580083,
           75.57016044432586,
           75.7270251558962,
           75.89277862109103,
           76.07170174877871,
           76.27509743371205,
           76.47583040722219,
           76.6701255717313,
           76.84673953625453,
           76.9738149019612,
           77
          ],
          [
           29.17321281797522,
           74.03186034342181,
           74.45484489283334,
           74.609494256349,
           74.70598983553893,
           74.85597421370954,
           74.98511724243426,
           75.10903684964825,
           75.23473812603665,
           75.36555416422216,
           75.50314059924926,
           75.64834533895234,
           75.80159333505316,
           75.96302782887761,
           76.13657527065183,
           76.33267661056871,
           76.52446265483924,
           76.70749459274148,
           76.86974653708009,
           76.98015930122968,
           77
          ],
          [
           29.23230979202721,
           74.12994464157376,
           74.54863283239249,
           74.70147013838223,
           74.79675868441433,
           74.94473822163474,
           75.07201653670091,
           75.19401242886283,
           75.31761237969195,
           75.44606162565537,
           75.58093397178318,
           75.72298618503751,
           75.8725296657665,
           76.02955642308572,
           76.19764349716334,
           76.38638534760555,
           76.5692334711138,
           76.74118290244617,
           76.8896778004075,
           76.98507769927261,
           77
          ],
          [
           29.29120588545237,
           74.22534894246309,
           74.63956594772043,
           74.79052269950807,
           74.88456022625468,
           75.03046469593957,
           75.15581610254866,
           75.27582723509758,
           75.39726278035627,
           75.52327869171384,
           75.65536656647521,
           75.79419257988212,
           75.93995637910784,
           76.09250270972389,
           76.25506620536373,
           76.43641496082255,
           76.61037589117242,
           76.77147776791587,
           76.90687741182164,
           76.98885959007221,
           77
          ],
          [
           29.349902365378426,
           74.3181209497797,
           74.72770126148858,
           74.87671315192874,
           74.96945855203195,
           75.11322266756805,
           75.23658974592155,
           75.35456018523499,
           75.47377404490894,
           75.59729688631637,
           75.72653807349184,
           75.86207418387741,
           76.00399551430898,
           76.15200437290692,
           76.30900177845771,
           76.48295378214691,
           76.6481168577647,
           76.79865385750097,
           76.92166239728782,
           76.99174408339613,
           77
          ],
          [
           29.408400486785233,
           74.40830866720884,
           74.81309611910547,
           74.96010303037846,
           75.05151807121501,
           75.19308147147427,
           75.3144115534898,
           75.43029044161543,
           75.54723108240694,
           75.66820784460262,
           75.79454817009629,
           75.92674045166532,
           76.06476859948447,
           76.2081980891508,
           76.35960672965847,
           76.52618655438013,
           76.68267647896771,
           76.82297249094758,
           76.93432292065962,
           76.99392646006767,
           77
          ],
          [
           29.466701492663233,
           74.49596033602974,
           74.89580810306093,
           75.04075409520132,
           75.13080340683575,
           75.2701106274543,
           75.38935575917304,
           75.50309726268893,
           75.61771882608136,
           75.73610312224437,
           75.85949630175367,
           75.9883003775827,
           76.12239635139454,
           76.26121916816052,
           76.40703526526023,
           76.56629389082609,
           76.71426739964716,
           76.84468110260728,
           76.94512286324658,
           76.99556446422886,
           77
          ],
          [
           29.524806614169357,
           74.5811243746006,
           74.97589495013126,
           75.11872823881768,
           75.2073792943406,
           75.3443797255141,
           75.46149661601312,
           75.57305985998707,
           75.68532207289067,
           75.80107401395834,
           75.92148147470473,
           76.04686225581298,
           76.17699839472559,
           76.31120122060221,
           76.45143888728596,
           76.60345179919297,
           76.74309428326569,
           76.86401290251533,
           76.95430071970185,
           76.99678416103121,
           77
          ],
          [
           29.582717070780447,
           74.66384931978574,
           75.05341447153492,
           75.19408739568621,
           75.28131048434743,
           75.41595831591641,
           75.53090827356138,
           75.64025726160594,
           75.75012533084899,
           75.86321138146842,
           75.98060206028887,
           76.10253345555392,
           76.22869300120257,
           76.35827585311388,
           76.49296603569684,
           76.63783126872664,
           76.76935339951751,
           76.88118671844221,
           76.9620707463505,
           76.99768525003532,
           77
          ],
          [
           29.640434070443987,
           74.74418377037188,
           75.12842447611487,
           75.26689345585145,
           75.35266164940782,
           75.48491580402336,
           75.59766466091418,
           75.7047681823501,
           75.81221267429683,
           75.92260549110304,
           76.03695561121432,
           76.15542021139905,
           76.27759684869513,
           76.40257239058695,
           76.53176176981142,
           76.66959791896639,
           76.79323231233904,
           76.89640700089988,
           76.96862430155394,
           76.99834577688128,
           77
          ],
          [
           29.697958809726472,
           74.82217633251308,
           75.20098269660917,
           75.33720818214945,
           75.4214972948542,
           75.55132135002654,
           75.66183937549931,
           75.76667090065052,
           75.87166760723613,
           75.97934586115315,
           76.09063868989725,
           76.20562742902777,
           76.32382480033597,
           76.44421762554697,
           76.56796748827429,
           76.69891170801944,
           76.81490966209626,
           76.90986397246287,
           76.97413132241383,
           76.99882622768138,
           77
          ],
          [
           29.755292473959173,
           74.89787556723587,
           75.27114671905842,
           75.4050931311271,
           75.4878816737924,
           75.61524377363261,
           75.72350557768596,
           75.82604314233237,
           75.92857293480502,
           76.03352111906004,
           76.14174670891651,
           76.25325850620138,
           76.36748970353766,
           76.48333559427299,
           76.60172068663894,
           76.7259266978267,
           76.83455503517258,
           76.92173390259651,
           76.9787418876928,
           76.99917302222113,
           77
          ],
          [
           29.81243623738186,
           74.97132994002912,
           75.33897391538565,
           75.47060957771515,
           75.55187870628174,
           75.67675146374863,
           75.78273589126346,
           75.88296197127494,
           75.98301064292626,
           76.08521886844821,
           76.19037378356458,
           76.29841516897233,
           76.40870220867154,
           76.5200473791272,
           76.6331547513864,
           76.75079087353936,
           76.8523289137686,
           76.93217948941329,
           76.98258782293233,
           76.99942144426402,
           77
          ],
          [
           29.869391263283852,
           75.04258777253608,
           75.40452137917218,
           75.53381844367959,
           75.61355190272774,
           75.73591229319042,
           75.83960230980722,
           75.93750368697343,
           76.03506178612375,
           76.13452556597008,
           76.23661259640927,
           76.34119732293138,
           76.44757060706247,
           76.5544709364143,
           76.6623987889921,
           76.77364601384089,
           76.86838269846552,
           76.94135033034657,
           76.98578431008353,
           76.99959806129951,
           77
          ],
          [
           29.926158704142907,
           75.11169719635927,
           75.46784586464179,
           75.59478022986225,
           75.67296429149584,
           75.79279353841676,
           75.89417610892511,
           75.98974372898167,
           76.08480638346299,
           76.18152640788125,
           76.28055427372455,
           76.38170291924126,
           76.484200687853,
           76.58672094895711,
           76.68957748847554,
           76.7946276088299,
           76.8828587959847,
           76.94938346457842,
           76.98843147028072,
           76.99972269341717,
           77
          ],
          [
           29.982739701761915,
           75.1787061089827,
           75.52900372885387,
           75.6535549522074,
           75.7301783507391,
           75.84746180427234,
           75.94652776435487,
           76.03975658818723,
           76.13232332253897,
           76.22630522622451,
           76.32228827359354,
           76.42002783513786,
           76.51869561320187,
           76.61690870246046,
           76.7148110157198,
           76.81386482192174,
           76.89589076458242,
           76.9564039711282,
           76.9906158944745,
           76.99980999313811,
           77
          ],
          [
           30.039135387403398,
           75.24366213181017,
           75.58805087709695,
           75.71020208155858,
           75.78525594441841,
           75.8999829537054,
           75.99672687586084,
           76.08761572484401,
           76.17769027140115,
           76.26894439446016,
           76.36190228543992,
           76.45626576851805,
           76.55115581120525,
           76.64514198463698,
           76.73821493773364,
           76.83148049212703,
           76.90760350963478,
           76.96252560774309,
           76.99241210234293,
           76.9998706963951,
           77
          ],
          [
           30.095346881921692,
           75.3066125703123,
           75.6450427114635,
           75.76478048719892,
           75.83825826248028,
           75.95042204240835,
           76.04484209685866,
           76.13339349326338,
           76.22098359827842,
           76.30952474234638,
           76.39948214069905,
           76.4905081461803,
           76.58167888586112,
           76.67152500598823,
           76.75990017493864,
           76.84759117301846,
           76.9181135221826,
           76.9678514770834,
           76.99388391510139,
           76.99991260066516,
           77
          ],
          [
           30.151375295893253,
           75.36760437627008,
           75.70003408257826,
           75.81734838409562,
           75.88924576514502,
           75.99884325831533,
           76.09094106967798,
           76.17716107304278,
           76.26227829893872,
           76.34812547984066,
           76.4351117343034,
           76.5228440452371,
           76.61035954334207,
           76.69615834107022,
           76.77997297950401,
           76.862307204698,
           76.9275291534969,
           76.97247470811234,
           76.99508573245917,
           76.99994132054995,
           77
          ],
          [
           30.20722172974471,
           75.42668411209743,
           75.7530792444447,
           75.86796328380096,
           75.93827813124604,
           76.04530986587594,
           76.13509036635658,
           76.21898840669172,
           76.3016479314961,
           76.38482412976637,
           76.46887295662205,
           76.55336012717854,
           76.6372895337952,
           76.71913888902307,
           76.7985349377149,
           76.87573281512105,
           76.9359509190862,
           76.97647914204506,
           76.99606370798897,
           76.99996086467618,
           77
          ],
          [
           30.262887273879024,
           75.48389791722114,
           75.80423181236506,
           75.91668194895104,
           75.98541421055062,
           76.08988415501129,
           76.1773554348444,
           76.25894414349614,
           76.33916455845602,
           76.41969646896285,
           76.50084563546574,
           76.58214058403274,
           76.66255760785079,
           76.74055985211018,
           76.81568299434632,
           76.8879662472151,
           76.94347182597568,
           76.97994001364658,
           76.99685682057174,
           76.99997407124535,
           77
          ],
          [
           30.318373008799483,
           75.53929147649181,
           75.85354472388383,
           75.96356035129668,
           76.0307119799838,
           76.1326273946484,
           76.21780055048193,
           76.29709558944761,
           76.37489869577209,
           76.45281647761732,
           76.5311074877451,
           76.6092670960427,
           76.68624948699507,
           76.76051073099147,
           76.83150949702203,
           76.89909990834386,
           76.95017771753723,
           76.98292462006371,
           76.99749784237397,
           76.99998293331093,
           77
          ]
         ]
        }
       ],
       "layout": {
        "font": {
         "family": "Courier New, monospace",
         "size": 10
        },
        "height": 1000,
        "margin": {
         "b": 65,
         "l": 65,
         "r": 50,
         "t": 90
        },
        "scene": {
         "xaxis": {
          "autorange": "reversed",
          "tickformat": ".1f",
          "title": {
           "text": "Maturity (yrs)"
          }
         },
         "yaxis": {
          "tickformat": ".f",
          "title": {
           "text": "Strike"
          }
         },
         "zaxis": {
          "tickformat": ".f",
          "title": {
           "text": "Premium"
          }
         }
        },
        "template": {
         "data": {
          "bar": [
           {
            "error_x": {
             "color": "#2a3f5f"
            },
            "error_y": {
             "color": "#2a3f5f"
            },
            "marker": {
             "line": {
              "color": "#E5ECF6",
              "width": 0.5
             },
             "pattern": {
              "fillmode": "overlay",
              "size": 10,
              "solidity": 0.2
             }
            },
            "type": "bar"
           }
          ],
          "barpolar": [
           {
            "marker": {
             "line": {
              "color": "#E5ECF6",
              "width": 0.5
             },
             "pattern": {
              "fillmode": "overlay",
              "size": 10,
              "solidity": 0.2
             }
            },
            "type": "barpolar"
           }
          ],
          "carpet": [
           {
            "aaxis": {
             "endlinecolor": "#2a3f5f",
             "gridcolor": "white",
             "linecolor": "white",
             "minorgridcolor": "white",
             "startlinecolor": "#2a3f5f"
            },
            "baxis": {
             "endlinecolor": "#2a3f5f",
             "gridcolor": "white",
             "linecolor": "white",
             "minorgridcolor": "white",
             "startlinecolor": "#2a3f5f"
            },
            "type": "carpet"
           }
          ],
          "choropleth": [
           {
            "colorbar": {
             "outlinewidth": 0,
             "ticks": ""
            },
            "type": "choropleth"
           }
          ],
          "contour": [
           {
            "colorbar": {
             "outlinewidth": 0,
             "ticks": ""
            },
            "colorscale": [
             [
              0,
              "#0d0887"
             ],
             [
              0.1111111111111111,
              "#46039f"
             ],
             [
              0.2222222222222222,
              "#7201a8"
             ],
             [
              0.3333333333333333,
              "#9c179e"
             ],
             [
              0.4444444444444444,
              "#bd3786"
             ],
             [
              0.5555555555555556,
              "#d8576b"
             ],
             [
              0.6666666666666666,
              "#ed7953"
             ],
             [
              0.7777777777777778,
              "#fb9f3a"
             ],
             [
              0.8888888888888888,
              "#fdca26"
             ],
             [
              1,
              "#f0f921"
             ]
            ],
            "type": "contour"
           }
          ],
          "contourcarpet": [
           {
            "colorbar": {
             "outlinewidth": 0,
             "ticks": ""
            },
            "type": "contourcarpet"
           }
          ],
          "heatmap": [
           {
            "colorbar": {
             "outlinewidth": 0,
             "ticks": ""
            },
            "colorscale": [
             [
              0,
              "#0d0887"
             ],
             [
              0.1111111111111111,
              "#46039f"
             ],
             [
              0.2222222222222222,
              "#7201a8"
             ],
             [
              0.3333333333333333,
              "#9c179e"
             ],
             [
              0.4444444444444444,
              "#bd3786"
             ],
             [
              0.5555555555555556,
              "#d8576b"
             ],
             [
              0.6666666666666666,
              "#ed7953"
             ],
             [
              0.7777777777777778,
              "#fb9f3a"
             ],
             [
              0.8888888888888888,
              "#fdca26"
             ],
             [
              1,
              "#f0f921"
             ]
            ],
            "type": "heatmap"
           }
          ],
          "heatmapgl": [
           {
            "colorbar": {
             "outlinewidth": 0,
             "ticks": ""
            },
            "colorscale": [
             [
              0,
              "#0d0887"
             ],
             [
              0.1111111111111111,
              "#46039f"
             ],
             [
              0.2222222222222222,
              "#7201a8"
             ],
             [
              0.3333333333333333,
              "#9c179e"
             ],
             [
              0.4444444444444444,
              "#bd3786"
             ],
             [
              0.5555555555555556,
              "#d8576b"
             ],
             [
              0.6666666666666666,
              "#ed7953"
             ],
             [
              0.7777777777777778,
              "#fb9f3a"
             ],
             [
              0.8888888888888888,
              "#fdca26"
             ],
             [
              1,
              "#f0f921"
             ]
            ],
            "type": "heatmapgl"
           }
          ],
          "histogram": [
           {
            "marker": {
             "pattern": {
              "fillmode": "overlay",
              "size": 10,
              "solidity": 0.2
             }
            },
            "type": "histogram"
           }
          ],
          "histogram2d": [
           {
            "colorbar": {
             "outlinewidth": 0,
             "ticks": ""
            },
            "colorscale": [
             [
              0,
              "#0d0887"
             ],
             [
              0.1111111111111111,
              "#46039f"
             ],
             [
              0.2222222222222222,
              "#7201a8"
             ],
             [
              0.3333333333333333,
              "#9c179e"
             ],
             [
              0.4444444444444444,
              "#bd3786"
             ],
             [
              0.5555555555555556,
              "#d8576b"
             ],
             [
              0.6666666666666666,
              "#ed7953"
             ],
             [
              0.7777777777777778,
              "#fb9f3a"
             ],
             [
              0.8888888888888888,
              "#fdca26"
             ],
             [
              1,
              "#f0f921"
             ]
            ],
            "type": "histogram2d"
           }
          ],
          "histogram2dcontour": [
           {
            "colorbar": {
             "outlinewidth": 0,
             "ticks": ""
            },
            "colorscale": [
             [
              0,
              "#0d0887"
             ],
             [
              0.1111111111111111,
              "#46039f"
             ],
             [
              0.2222222222222222,
              "#7201a8"
             ],
             [
              0.3333333333333333,
              "#9c179e"
             ],
             [
              0.4444444444444444,
              "#bd3786"
             ],
             [
              0.5555555555555556,
              "#d8576b"
             ],
             [
              0.6666666666666666,
              "#ed7953"
             ],
             [
              0.7777777777777778,
              "#fb9f3a"
             ],
             [
              0.8888888888888888,
              "#fdca26"
             ],
             [
              1,
              "#f0f921"
             ]
            ],
            "type": "histogram2dcontour"
           }
          ],
          "mesh3d": [
           {
            "colorbar": {
             "outlinewidth": 0,
             "ticks": ""
            },
            "type": "mesh3d"
           }
          ],
          "parcoords": [
           {
            "line": {
             "colorbar": {
              "outlinewidth": 0,
              "ticks": ""
             }
            },
            "type": "parcoords"
           }
          ],
          "pie": [
           {
            "automargin": true,
            "type": "pie"
           }
          ],
          "scatter": [
           {
            "marker": {
             "colorbar": {
              "outlinewidth": 0,
              "ticks": ""
             }
            },
            "type": "scatter"
           }
          ],
          "scatter3d": [
           {
            "line": {
             "colorbar": {
              "outlinewidth": 0,
              "ticks": ""
             }
            },
            "marker": {
             "colorbar": {
              "outlinewidth": 0,
              "ticks": ""
             }
            },
            "type": "scatter3d"
           }
          ],
          "scattercarpet": [
           {
            "marker": {
             "colorbar": {
              "outlinewidth": 0,
              "ticks": ""
             }
            },
            "type": "scattercarpet"
           }
          ],
          "scattergeo": [
           {
            "marker": {
             "colorbar": {
              "outlinewidth": 0,
              "ticks": ""
             }
            },
            "type": "scattergeo"
           }
          ],
          "scattergl": [
           {
            "marker": {
             "colorbar": {
              "outlinewidth": 0,
              "ticks": ""
             }
            },
            "type": "scattergl"
           }
          ],
          "scattermapbox": [
           {
            "marker": {
             "colorbar": {
              "outlinewidth": 0,
              "ticks": ""
             }
            },
            "type": "scattermapbox"
           }
          ],
          "scatterpolar": [
           {
            "marker": {
             "colorbar": {
              "outlinewidth": 0,
              "ticks": ""
             }
            },
            "type": "scatterpolar"
           }
          ],
          "scatterpolargl": [
           {
            "marker": {
             "colorbar": {
              "outlinewidth": 0,
              "ticks": ""
             }
            },
            "type": "scatterpolargl"
           }
          ],
          "scatterternary": [
           {
            "marker": {
             "colorbar": {
              "outlinewidth": 0,
              "ticks": ""
             }
            },
            "type": "scatterternary"
           }
          ],
          "surface": [
           {
            "colorbar": {
             "outlinewidth": 0,
             "ticks": ""
            },
            "colorscale": [
             [
              0,
              "#0d0887"
             ],
             [
              0.1111111111111111,
              "#46039f"
             ],
             [
              0.2222222222222222,
              "#7201a8"
             ],
             [
              0.3333333333333333,
              "#9c179e"
             ],
             [
              0.4444444444444444,
              "#bd3786"
             ],
             [
              0.5555555555555556,
              "#d8576b"
             ],
             [
              0.6666666666666666,
              "#ed7953"
             ],
             [
              0.7777777777777778,
              "#fb9f3a"
             ],
             [
              0.8888888888888888,
              "#fdca26"
             ],
             [
              1,
              "#f0f921"
             ]
            ],
            "type": "surface"
           }
          ],
          "table": [
           {
            "cells": {
             "fill": {
              "color": "#EBF0F8"
             },
             "line": {
              "color": "white"
             }
            },
            "header": {
             "fill": {
              "color": "#C8D4E3"
             },
             "line": {
              "color": "white"
             }
            },
            "type": "table"
           }
          ]
         },
         "layout": {
          "annotationdefaults": {
           "arrowcolor": "#2a3f5f",
           "arrowhead": 0,
           "arrowwidth": 1
          },
          "autotypenumbers": "strict",
          "coloraxis": {
           "colorbar": {
            "outlinewidth": 0,
            "ticks": ""
           }
          },
          "colorscale": {
           "diverging": [
            [
             0,
             "#8e0152"
            ],
            [
             0.1,
             "#c51b7d"
            ],
            [
             0.2,
             "#de77ae"
            ],
            [
             0.3,
             "#f1b6da"
            ],
            [
             0.4,
             "#fde0ef"
            ],
            [
             0.5,
             "#f7f7f7"
            ],
            [
             0.6,
             "#e6f5d0"
            ],
            [
             0.7,
             "#b8e186"
            ],
            [
             0.8,
             "#7fbc41"
            ],
            [
             0.9,
             "#4d9221"
            ],
            [
             1,
             "#276419"
            ]
           ],
           "sequential": [
            [
             0,
             "#0d0887"
            ],
            [
             0.1111111111111111,
             "#46039f"
            ],
            [
             0.2222222222222222,
             "#7201a8"
            ],
            [
             0.3333333333333333,
             "#9c179e"
            ],
            [
             0.4444444444444444,
             "#bd3786"
            ],
            [
             0.5555555555555556,
             "#d8576b"
            ],
            [
             0.6666666666666666,
             "#ed7953"
            ],
            [
             0.7777777777777778,
             "#fb9f3a"
            ],
            [
             0.8888888888888888,
             "#fdca26"
            ],
            [
             1,
             "#f0f921"
            ]
           ],
           "sequentialminus": [
            [
             0,
             "#0d0887"
            ],
            [
             0.1111111111111111,
             "#46039f"
            ],
            [
             0.2222222222222222,
             "#7201a8"
            ],
            [
             0.3333333333333333,
             "#9c179e"
            ],
            [
             0.4444444444444444,
             "#bd3786"
            ],
            [
             0.5555555555555556,
             "#d8576b"
            ],
            [
             0.6666666666666666,
             "#ed7953"
            ],
            [
             0.7777777777777778,
             "#fb9f3a"
            ],
            [
             0.8888888888888888,
             "#fdca26"
            ],
            [
             1,
             "#f0f921"
            ]
           ]
          },
          "colorway": [
           "#636efa",
           "#EF553B",
           "#00cc96",
           "#ab63fa",
           "#FFA15A",
           "#19d3f3",
           "#FF6692",
           "#B6E880",
           "#FF97FF",
           "#FECB52"
          ],
          "font": {
           "color": "#2a3f5f"
          },
          "geo": {
           "bgcolor": "white",
           "lakecolor": "white",
           "landcolor": "#E5ECF6",
           "showlakes": true,
           "showland": true,
           "subunitcolor": "white"
          },
          "hoverlabel": {
           "align": "left"
          },
          "hovermode": "closest",
          "mapbox": {
           "style": "light"
          },
          "paper_bgcolor": "white",
          "plot_bgcolor": "#E5ECF6",
          "polar": {
           "angularaxis": {
            "gridcolor": "white",
            "linecolor": "white",
            "ticks": ""
           },
           "bgcolor": "#E5ECF6",
           "radialaxis": {
            "gridcolor": "white",
            "linecolor": "white",
            "ticks": ""
           }
          },
          "scene": {
           "xaxis": {
            "backgroundcolor": "#E5ECF6",
            "gridcolor": "white",
            "gridwidth": 2,
            "linecolor": "white",
            "showbackground": true,
            "ticks": "",
            "zerolinecolor": "white"
           },
           "yaxis": {
            "backgroundcolor": "#E5ECF6",
            "gridcolor": "white",
            "gridwidth": 2,
            "linecolor": "white",
            "showbackground": true,
            "ticks": "",
            "zerolinecolor": "white"
           },
           "zaxis": {
            "backgroundcolor": "#E5ECF6",
            "gridcolor": "white",
            "gridwidth": 2,
            "linecolor": "white",
            "showbackground": true,
            "ticks": "",
            "zerolinecolor": "white"
           }
          },
          "shapedefaults": {
           "line": {
            "color": "#2a3f5f"
           }
          },
          "ternary": {
           "aaxis": {
            "gridcolor": "white",
            "linecolor": "white",
            "ticks": ""
           },
           "baxis": {
            "gridcolor": "white",
            "linecolor": "white",
            "ticks": ""
           },
           "bgcolor": "#E5ECF6",
           "caxis": {
            "gridcolor": "white",
            "linecolor": "white",
            "ticks": ""
           }
          },
          "title": {
           "x": 0.05
          },
          "xaxis": {
           "automargin": true,
           "gridcolor": "white",
           "linecolor": "white",
           "ticks": "",
           "title": {
            "standoff": 15
           },
           "zerolinecolor": "white",
           "zerolinewidth": 2
          },
          "yaxis": {
           "automargin": true,
           "gridcolor": "white",
           "linecolor": "white",
           "ticks": "",
           "title": {
            "standoff": 15
           },
           "zerolinecolor": "white",
           "zerolinewidth": 2
          }
         }
        },
        "title": {
         "text": "<b>Volatility Surface</b>",
         "x": 0.5,
         "xanchor": "center",
         "y": 0.95,
         "yanchor": "top"
        },
        "width": 1000
       }
      }
     },
     "metadata": {},
     "output_type": "display_data"
    }
   ],
   "source": [
    "## surface plot:\n",
    "\n",
    "fwd_spots = np.linspace(S0*0.8, S0*1.3, 101)\n",
    "ttm = np.linspace(0, 1-1/365, 21)\n",
    "# ttm[0] = 0.001\n",
    "    \n",
    "dc_prices = []\n",
    "for i in range(len(fwd_spots)):\n",
    "    scp_per_mat = []\n",
    "    for j in range(len(ttm)):\n",
    "        scp_per_mat.append(B76OptionPricer('c', fwd_spots[i], K, r_dsc, ssvi_param.calc_implied_vol(ttm[j],1.1), T, ttm[j]))\n",
    "    dc_prices.append(fwd_spots[i]-scp_per_mat)\n",
    "\n",
    "\n",
    "fig_surf = go.Figure(data=[go.Surface(x=ttm, y=fwd_spots,z=dc_prices\n",
    "                        ,contours = {\"x\": {\"show\": True,\"size\": 0.1, \"color\":\"red\"},\n",
    "                                    \"y\": {\"show\": True,\"size\": 0.1, \"color\":\"red\"},}\n",
    "                        ,opacity = .75\n",
    "                        ,hovertemplate =\n",
    "                        'Underlying:  %{y: .2%}' +\\\n",
    "                        '<br>Maturity (yrs): %{x: .1f}' +\\\n",
    "                        '<br>Payoff: %{z: .2f}<extra></extra>'\n",
    "                     ,colorscale = 'temps')\n",
    "                     ])\n",
    "\n",
    "fig_surf.update_layout(\n",
    "    title={\n",
    "        'text': \"<b>Volatility Surface</b>\",\n",
    "        'y': 0.95,\n",
    "        'x': 0.5,\n",
    "        'xanchor': 'center',\n",
    "        'yanchor': 'top'\n",
    "    }\n",
    "    # ,autosize=True\n",
    "    ,\n",
    "    width=1000,\n",
    "    height=1000,\n",
    "    scene=dict(xaxis_title='Maturity (yrs)',\n",
    "               xaxis_tickformat='.1f',\n",
    "               xaxis_autorange='reversed',\n",
    "               yaxis_title='Strike',\n",
    "               yaxis_tickformat='.f', #'.2%'\n",
    "               zaxis_title='Premium',\n",
    "               zaxis_tickformat='.f'),\n",
    "    font=dict(family=\"Courier New, monospace\", size=10),\n",
    "    margin=dict(l=65, r=50, b=65, t=90))\n",
    "\n",
    "fig_surf.show()"
   ]
  },
  {
   "cell_type": "code",
   "execution_count": 24,
   "metadata": {},
   "outputs": [
    {
     "data": {
      "text/plain": [
       "0.4623666480975142"
      ]
     },
     "execution_count": 24,
     "metadata": {},
     "output_type": "execute_result"
    }
   ],
   "source": [
    "ssvi_param.calc_implied_vol(.5,77)"
   ]
  }
 ],
 "metadata": {
  "hide_input": false,
  "interpreter": {
   "hash": "32327b42938fe5e22dc73ab7a80c479097b170a045e7b23954e6cd14985000c9"
  },
  "kernelspec": {
   "display_name": "Python 3.8.5 ('base')",
   "language": "python",
   "name": "python3"
  },
  "language_info": {
   "codemirror_mode": {
    "name": "ipython",
    "version": 3
   },
   "file_extension": ".py",
   "mimetype": "text/x-python",
   "name": "python",
   "nbconvert_exporter": "python",
   "pygments_lexer": "ipython3",
   "version": "3.8.8"
  },
  "toc": {
   "base_numbering": 1,
   "nav_menu": {},
   "number_sections": true,
   "sideBar": true,
   "skip_h1_title": true,
   "title_cell": "Table of Contents",
   "title_sidebar": "Contents",
   "toc_cell": false,
   "toc_position": {
    "height": "calc(100% - 180px)",
    "left": "10px",
    "top": "150px",
    "width": "466.375px"
   },
   "toc_section_display": true,
   "toc_window_display": true
  },
  "varInspector": {
   "cols": {
    "lenName": 16,
    "lenType": 16,
    "lenVar": 40
   },
   "kernels_config": {
    "python": {
     "delete_cmd_postfix": "",
     "delete_cmd_prefix": "del ",
     "library": "var_list.py",
     "varRefreshCmd": "print(var_dic_list())"
    },
    "r": {
     "delete_cmd_postfix": ") ",
     "delete_cmd_prefix": "rm(",
     "library": "var_list.r",
     "varRefreshCmd": "cat(var_dic_list()) "
    }
   },
   "types_to_exclude": [
    "module",
    "function",
    "builtin_function_or_method",
    "instance",
    "_Feature"
   ],
   "window_display": false
  }
 },
 "nbformat": 4,
 "nbformat_minor": 2
}
