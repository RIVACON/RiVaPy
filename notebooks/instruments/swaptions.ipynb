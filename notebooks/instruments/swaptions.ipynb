{
 "cells": [
  {
   "cell_type": "markdown",
   "metadata": {},
   "source": [
    "![](../images/rivacon_frontmark_combined_header.png)"
   ]
  },
  {
   "cell_type": "markdown",
   "metadata": {},
   "source": [
    "# Interest Rate Swap "
   ]
  },
  {
   "cell_type": "code",
   "execution_count": null,
   "metadata": {
    "ExecuteTime": {
     "end_time": "2020-05-03T11:41:34.601266Z",
     "start_time": "2020-05-03T11:41:28.386153Z"
    }
   },
   "outputs": [],
   "source": [
    "import datetime as dt\n",
    "import math\n",
    "\n",
    "from rivapy.marketdata.curves import DiscountCurve\n",
    "from rivapy.instruments import SwaptionSpecification\n",
    "from rivapy.pricing import price\n",
    "from pyvacon.finance.pricing import AnalyticSwaptionPricingData, PricingRequest\n",
    "from pyvacon.finance.marketdata import LiborCurve, SwapCurve, SwaptionVolatilityCube\n",
    "from pyvacon.finance.configuration import LiborIndex, SwapIndex\n",
    "from pyvacon.finance.definition import SimpleHolidayCalendar"
   ]
  },
  {
   "cell_type": "markdown",
   "metadata": {},
   "source": [
    "## Definition of an Interest Rate Swaption\n",
    "\n",
    "A swaption is an instrument which gives the holder the right to enter into a swap at a pre-determined time. The most important attributes of a swaption are:\n",
    "- Exercise style: If exercise into a swap is possible at only one fixed time, the swaption is called \"European\". If exercise is possible anytime, the swaption is called \"American\" (this is uncommon for swaptions). If exercise is possible at a discrete set of times, the swaption is called \"Bermudan\"\n",
    "- Settlement: \n",
    "    - Physical settlement means that upon exercise the two counterparties enter into a swap\n",
    "    - Cash settlement means that upon exercise the counterparty with the short position pays the present value of the (hypothetical) swap to the counterparty with the long position. In this case the swaption contract must specify how exactly the present value shall be calculated\n",
    "- The attributes of the underlying swap (maturity, payment frequencies, reference index, fixed leg rate ...)\n"
   ]
  },
  {
   "cell_type": "markdown",
   "metadata": {},
   "source": [
    "## Valuation of Interest Rate Swaptions\n",
    "\n",
    "European swaptions are traded so frequently that quotes for them are readily available for a wide range of exercise dates, swap maturities and strikes. Prices are usually quoted as implied volatilities (either log-normal or normal). From these volatilities, prices are then obtained through the Black formula (for lognormal quotes) or Bachelier formula (for normal quotes). So pricing a European swaption boils down to interpolating the appropriate volatility from a volatility cube and then applying the Black/Bachelier formula.\n",
    "Pricing Bermudan (or American) swaptions is more difficult; for that purpose, one needs a model for interest rates."
   ]
  },
  {
   "cell_type": "code",
   "execution_count": null,
   "metadata": {
    "ExecuteTime": {
     "end_time": "2020-05-03T11:41:34.650886Z",
     "start_time": "2020-05-03T11:41:34.605224Z"
    }
   },
   "outputs": [],
   "source": [
    "# Setting up market data\n",
    "\n",
    "ref_date = dt.datetime(2023, 12, 1)\n",
    "\n",
    "# A (trivial) holiday calendar, with only weekends as holidays\n",
    "cal = SimpleHolidayCalendar(\"cal\")\n",
    "cal.setWeekdayAsHoliday(6)  # Saturday\n",
    "cal.setWeekdayAsHoliday(0)  # Sunday\n",
    "\n",
    "# Discount curve\n",
    "# (a flat curve with rate 1%)\n",
    "object_id = \"TEST_DC\"\n",
    "dsc_rate = 0.01\n",
    "days_to_maturity = [1, 180, 365, 720, 3 * 365, 4 * 365, 10 * 365]\n",
    "dates = [ref_date + dt.timedelta(days=d) for d in days_to_maturity]\n",
    "df = [math.exp(-d / 365.0 * dsc_rate) for d in days_to_maturity]\n",
    "dc = DiscountCurve(id=object_id, refdate=ref_date, dates=dates, df=df)\n",
    "\n",
    "# Forward curve\n",
    "# (a flat curve with rate 2%)\n",
    "object_id = \"TEST_6M\"\n",
    "fwd_rate = 0.02\n",
    "days_to_maturity = [1, 180, 365, 720, 3 * 365, 4 * 365, 10 * 365]\n",
    "dates = [ref_date + dt.timedelta(days=d) for d in days_to_maturity]\n",
    "fwd_df = [math.exp(-d / 365.0 * fwd_rate) for d in days_to_maturity]\n",
    "fwd_curve_6m = DiscountCurve(id=object_id, refdate=ref_date, dates=dates, df=fwd_df)\n",
    "\n",
    "# The static data describing the underlying swap\n",
    "euribor_6m_index = LiborIndex('eid', '6M', 'Act360', 'ModifiedFollowing', 2, cal)\n",
    "euribor_6m_curve = LiborCurve(\"ec\", ref_date, fwd_curve_6m._get_pyvacon_obj(), euribor_6m_index)\n",
    "swap_index = SwapIndex('sid', euribor_6m_index,\n",
    "                       '1Y', '30U360', 'ModifiedFollowing',\n",
    "                       '6M', 'Act360', 'ModifiedFollowing',\n",
    "                       cal)\n",
    "swap_curve = SwapCurve(\"sc\", ref_date, euribor_6m_curve, dc._get_pyvacon_obj(), swap_index)\n",
    "\n",
    "# The vola cube (flat vola 20% lognormal)\n",
    "vola_cube = SwaptionVolatilityCube.createFlatVolatilityCube(\"vola\", ref_date, \"LOGNORMAL\", swap_curve, .2)\n"
   ]
  },
  {
   "cell_type": "code",
   "execution_count": null,
   "metadata": {
    "ExecuteTime": {
     "end_time": "2020-05-03T11:41:34.676710Z",
     "start_time": "2020-05-03T11:41:34.653879Z"
    }
   },
   "outputs": [],
   "source": [
    "# Setting up the swaption\n",
    "\n",
    "\n",
    "ccy = 'EUR'\n",
    "ex_date = dt.datetime(2025, 6, 1)\n",
    "swap_mat = '5Y'\n",
    "notional = 1.\n",
    "strike = .02\n",
    "settlement = 'PHYSICAL'\n",
    "fix_dcc = '30U360'\n",
    "fix_freq = '1Y'\n",
    "fix_roll='ModifiedFollowing'\n",
    "float_freq = '6M'\n",
    "float_dcc = 'Act360'\n",
    "float_roll='ModifiedFollowing'\n",
    "float_rate_freq = '6M'\n",
    "float_rate_dcc = 'Act360'\n",
    "float_rate_roll='ModifiedFollowing'\n",
    "swo = SwaptionSpecification.makeEuropeanSwaption(\n",
    "    'id',\n",
    "    'issuer',\n",
    "    'COLLATERALIZED',\n",
    "    ccy,\n",
    "    ex_date,\n",
    "    settlement,\n",
    "    0.,  # forward premium\n",
    "    0,  # spot days\n",
    "    swap_mat,\n",
    "    notional,\n",
    "    strike,\n",
    "    '', '', '', '',  # udl ids\n",
    "    cal,\n",
    "    cal,\n",
    "    fix_freq,\n",
    "    fix_dcc,\n",
    "    fix_roll,\n",
    "    'FLOAT',\n",
    "    float_freq,\n",
    "    float_dcc,\n",
    "    float_roll,\n",
    "    float_rate_freq,\n",
    "    float_rate_dcc,\n",
    "    float_rate_roll,\n",
    "    0,\n",
    "    0,\n",
    "    True, # Payer swaption (=exercise into payer swap)\n",
    "    True  # long position\n",
    ")\n",
    "\n"
   ]
  },
  {
   "cell_type": "code",
   "execution_count": null,
   "metadata": {
    "ExecuteTime": {
     "end_time": "2020-05-03T11:41:34.715601Z",
     "start_time": "2020-05-03T11:41:34.679859Z"
    }
   },
   "outputs": [],
   "source": [
    "pricing_data = AnalyticSwaptionPricingData()\n",
    "pricing_data.pricer = 'AnalyticSwaptionPricer'\n",
    "pricing_data.pricingRequest = PricingRequest()\n",
    "pricing_data.valDate = ref_date\n",
    "pricing_data.spec = swo\n",
    "pricing_data.discountCurve = dc._get_pyvacon_obj()\n",
    "pricing_data.volCube = vola_cube\n",
    "\n",
    "\n",
    "p = price(pricing_data)\n",
    "p.getPrice()\n"
   ]
  }
 ],
 "metadata": {
  "kernelspec": {
   "display_name": "Python 3 (ipykernel)",
   "language": "python",
   "name": "python3"
  },
  "language_info": {
   "codemirror_mode": {
    "name": "ipython",
    "version": 3
   },
   "file_extension": ".py",
   "mimetype": "text/x-python",
   "name": "python",
   "nbconvert_exporter": "python",
   "pygments_lexer": "ipython3",
   "version": "3.8.17"
  },
  "toc": {
   "base_numbering": 1,
   "nav_menu": {},
   "number_sections": true,
   "sideBar": true,
   "skip_h1_title": true,
   "title_cell": "Table of Contents",
   "title_sidebar": "Contents",
   "toc_cell": false,
   "toc_position": {
    "height": "calc(100% - 180px)",
    "left": "10px",
    "top": "150px",
    "width": "292px"
   },
   "toc_section_display": true,
   "toc_window_display": true
  },
  "varInspector": {
   "cols": {
    "lenName": 16,
    "lenType": 16,
    "lenVar": 40
   },
   "kernels_config": {
    "python": {
     "delete_cmd_postfix": "",
     "delete_cmd_prefix": "del ",
     "library": "var_list.py",
     "varRefreshCmd": "print(var_dic_list())"
    },
    "r": {
     "delete_cmd_postfix": ") ",
     "delete_cmd_prefix": "rm(",
     "library": "var_list.r",
     "varRefreshCmd": "cat(var_dic_list()) "
    }
   },
   "types_to_exclude": [
    "module",
    "function",
    "builtin_function_or_method",
    "instance",
    "_Feature"
   ],
   "window_display": false
  }
 },
 "nbformat": 4,
 "nbformat_minor": 2
}
