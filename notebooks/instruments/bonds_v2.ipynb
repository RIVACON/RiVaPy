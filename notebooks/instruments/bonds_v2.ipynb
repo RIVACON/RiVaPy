{
 "cells": [
  {
   "cell_type": "code",
   "execution_count": 54,
   "metadata": {},
   "outputs": [],
   "source": [
    "#TODO: understand timing convetions and problems with bonds\n",
    "# remove plainvanillabond and add a stub to fixedrate and floatrate notes\n",
    "# add multiple possible functions to discount like linear discounting."
   ]
  },
  {
   "cell_type": "code",
   "execution_count": 2,
   "metadata": {},
   "outputs": [],
   "source": [
    "import QuantLib as ql"
   ]
  },
  {
   "cell_type": "code",
   "execution_count": 12,
   "metadata": {},
   "outputs": [],
   "source": [
    "effectiveDate = ql.Date(15,6,2020)\n",
    "terminationDate = ql.Date(30,6,2022)\n",
    "frequency = ql.Period('6M')\n",
    "calendar = ql.TARGET()\n",
    "convention = ql.Unadjusted\n",
    "terminationDateConvention = ql.Unadjusted\n",
    "rule = ql.DateGeneration.Forward\n",
    "endOfMonth = False\n",
    "schedule = ql.Schedule(effectiveDate, terminationDate, frequency, calendar, convention, terminationDateConvention, rule, endOfMonth)"
   ]
  },
  {
   "cell_type": "code",
   "execution_count": 13,
   "metadata": {},
   "outputs": [
    {
     "data": {
      "text/plain": [
       "(Date(15,6,2020),\n",
       " Date(15,12,2020),\n",
       " Date(15,6,2021),\n",
       " Date(15,12,2021),\n",
       " Date(15,6,2022),\n",
       " Date(30,6,2022))"
      ]
     },
     "execution_count": 13,
     "metadata": {},
     "output_type": "execute_result"
    }
   ],
   "source": [
    "schedule.dates()"
   ]
  },
  {
   "cell_type": "code",
   "execution_count": 31,
   "metadata": {},
   "outputs": [],
   "source": [
    "start_date = ql.Date(1,7,2024)\n",
    "end_date = ql.Date(21,7,2024)\n",
    "tenor = ql.Period(3, ql.Days)\n",
    "calendar = ql.NullCalendar()\n",
    "convention = ql.Unadjusted\n",
    "termination_convention = ql.Unadjusted\n",
    "rule = ql.DateGeneration.Forward\n",
    "end_of_month = False\n",
    "\n",
    "# Define stub dates\n",
    "first_stub_date = ql.Date(1, 7, 2024)\n",
    "next_to_last_stub_date = ql.Date(16, 7, 2024)\n",
    "\n",
    "# Create the schedule with stub dates\n",
    "schedule = ql.Schedule(start_date, end_date, tenor, calendar, convention,\n",
    "                       termination_convention, rule, end_of_month, first_stub_date, next_to_last_stub_date)"
   ]
  },
  {
   "cell_type": "code",
   "execution_count": 32,
   "metadata": {},
   "outputs": [
    {
     "data": {
      "text/plain": [
       "(Date(1,7,2024),\n",
       " Date(4,7,2024),\n",
       " Date(7,7,2024),\n",
       " Date(10,7,2024),\n",
       " Date(13,7,2024),\n",
       " Date(16,7,2024),\n",
       " Date(21,7,2024))"
      ]
     },
     "execution_count": 32,
     "metadata": {},
     "output_type": "execute_result"
    }
   ],
   "source": [
    "schedule.dates()"
   ]
  },
  {
   "cell_type": "markdown",
   "metadata": {},
   "source": [
    "Basic Bond Example"
   ]
  },
  {
   "cell_type": "code",
   "execution_count": 35,
   "metadata": {},
   "outputs": [
    {
     "data": {
      "text/plain": [
       "(Date(1,1,2024), Date(1,7,2024), Date(1,1,2025))"
      ]
     },
     "execution_count": 35,
     "metadata": {},
     "output_type": "execute_result"
    }
   ],
   "source": [
    "# basic example of a bond\n",
    "start_date = ql.Date(1,1,2024)\n",
    "end_date = ql.Date(1,1,2025)\n",
    "tenor = ql.Period('6M')\n",
    "calendar = ql.NullCalendar()\n",
    "convention = ql.Unadjusted\n",
    "termination_convention = ql.Unadjusted\n",
    "rule = ql.DateGeneration.Forward\n",
    "end_of_month = False\n",
    "\n",
    "\n",
    "# Create the schedule with stub dates\n",
    "schedule = ql.Schedule(start_date, end_date, tenor, calendar, convention,\n",
    "                       termination_convention, rule, end_of_month)\n",
    "schedule.dates()"
   ]
  },
  {
   "cell_type": "code",
   "execution_count": 42,
   "metadata": {},
   "outputs": [],
   "source": [
    "interest = ql.FixedRateLeg(schedule, ql.Actual365Fixed(), [100.], [0.05])"
   ]
  },
  {
   "cell_type": "code",
   "execution_count": 43,
   "metadata": {},
   "outputs": [],
   "source": [
    "bond = ql.Bond(0, ql.NullCalendar(), start_date, interest)"
   ]
  },
  {
   "cell_type": "code",
   "execution_count": 44,
   "metadata": {},
   "outputs": [
    {
     "name": "stdout",
     "output_type": "stream",
     "text": [
      "Date: July 1st, 2024, Amount: 2.4931506849315\n",
      "Date: January 1st, 2025, Amount: 2.520547945205487\n",
      "Date: January 1st, 2025, Amount: 100.0\n"
     ]
    }
   ],
   "source": [
    "for cf in bond.cashflows():\n",
    "    print(f\"Date: {cf.date()}, Amount: {cf.amount()}\")"
   ]
  },
  {
   "cell_type": "code",
   "execution_count": 67,
   "metadata": {},
   "outputs": [],
   "source": [
    "interest_rate = 0.03  # 3% flat rate\n",
    "discount_curve = ql.FlatForward(ql.Date(1,1,2024), ql.QuoteHandle(ql.SimpleQuote(interest_rate)), ql.Actual365Fixed())\n"
   ]
  },
  {
   "cell_type": "code",
   "execution_count": 68,
   "metadata": {},
   "outputs": [],
   "source": [
    "bond_engine = ql.DiscountingBondEngine(ql.YieldTermStructureHandle(discount_curve))\n",
    "\n",
    "# Assign the pricing engine to the bond\n",
    "bond.setPricingEngine(bond_engine)"
   ]
  },
  {
   "cell_type": "code",
   "execution_count": 69,
   "metadata": {},
   "outputs": [
    {
     "data": {
      "text/plain": [
       "101.48098747548846"
      ]
     },
     "execution_count": 69,
     "metadata": {},
     "output_type": "execute_result"
    }
   ],
   "source": [
    "bond.dirtyPrice()"
   ]
  },
  {
   "cell_type": "code",
   "execution_count": 71,
   "metadata": {},
   "outputs": [
    {
     "data": {
      "text/plain": [
       "1.0"
      ]
     },
     "execution_count": 71,
     "metadata": {},
     "output_type": "execute_result"
    }
   ],
   "source": [
    "date = ql.Date(1, 1, 2024)\n",
    "discount_factor = discount_curve.discount(date)\n",
    "discount_factor"
   ]
  },
  {
   "cell_type": "code",
   "execution_count": 49,
   "metadata": {},
   "outputs": [
    {
     "data": {
      "text/plain": [
       "2.493150684931507"
      ]
     },
     "execution_count": 49,
     "metadata": {},
     "output_type": "execute_result"
    }
   ],
   "source": [
    "(ql.Date(1,7,2024) - ql.Date(1,1,2024))/365*5"
   ]
  },
  {
   "cell_type": "code",
   "execution_count": null,
   "metadata": {},
   "outputs": [],
   "source": []
  },
  {
   "cell_type": "code",
   "execution_count": null,
   "metadata": {},
   "outputs": [],
   "source": []
  },
  {
   "cell_type": "code",
   "execution_count": null,
   "metadata": {},
   "outputs": [],
   "source": []
  },
  {
   "cell_type": "code",
   "execution_count": 26,
   "metadata": {},
   "outputs": [
    {
     "name": "stdout",
     "output_type": "stream",
     "text": [
      "The autoreload extension is already loaded. To reload it, use:\n",
      "  %reload_ext autoreload\n"
     ]
    }
   ],
   "source": [
    "from datetime import date, datetime, timedelta\n",
    "from rivapy.tools import Schedule, Period\n",
    "from rivapy.tools.enums import RollConvention\n",
    "from rivapy.tools.datetools import DayCounter\n",
    "from rivapy.tools.enums import DayCounterType\n",
    "%load_ext autoreload\n",
    "%autoreload 2"
   ]
  },
  {
   "cell_type": "code",
   "execution_count": 27,
   "metadata": {},
   "outputs": [
    {
     "data": {
      "text/plain": [
       "'30360ISDA'"
      ]
     },
     "execution_count": 27,
     "metadata": {},
     "output_type": "execute_result"
    }
   ],
   "source": [
    "DayCounterType.Thirty360ISDA.value"
   ]
  },
  {
   "cell_type": "code",
   "execution_count": 34,
   "metadata": {},
   "outputs": [
    {
     "ename": "NotImplementedError",
     "evalue": "Act252 not yet implemented.",
     "output_type": "error",
     "traceback": [
      "\u001b[1;31m---------------------------------------------------------------------------\u001b[0m",
      "\u001b[1;31mNotImplementedError\u001b[0m                       Traceback (most recent call last)",
      "Cell \u001b[1;32mIn[34], line 1\u001b[0m\n\u001b[1;32m----> 1\u001b[0m dc \u001b[38;5;241m=\u001b[39m \u001b[43mDayCounter\u001b[49m\u001b[43m(\u001b[49m\u001b[38;5;124;43m'\u001b[39;49m\u001b[38;5;124;43mAct252\u001b[39;49m\u001b[38;5;124;43m'\u001b[39;49m\u001b[43m)\u001b[49m\n",
      "File \u001b[1;32mc:\\Users\\Anwender\\Documents\\Python Scripts\\RivaPy\\RiVaPy\\rivapy\\tools\\datetools.py:23\u001b[0m, in \u001b[0;36mDayCounter.__init__\u001b[1;34m(self, daycounter)\u001b[0m\n\u001b[0;32m     21\u001b[0m \u001b[38;5;28;01mdef\u001b[39;00m \u001b[38;5;21m__init__\u001b[39m(\u001b[38;5;28mself\u001b[39m, daycounter: _Union[\u001b[38;5;28mstr\u001b[39m, DayCounterType]):\n\u001b[0;32m     22\u001b[0m     \u001b[38;5;28mself\u001b[39m\u001b[38;5;241m.\u001b[39m_dc \u001b[38;5;241m=\u001b[39m DayCounterType\u001b[38;5;241m.\u001b[39mto_string(daycounter)\n\u001b[1;32m---> 23\u001b[0m     \u001b[38;5;28mself\u001b[39m\u001b[38;5;241m.\u001b[39m_yf \u001b[38;5;241m=\u001b[39m \u001b[43mDayCounter\u001b[49m\u001b[38;5;241;43m.\u001b[39;49m\u001b[43mget\u001b[49m\u001b[43m(\u001b[49m\u001b[38;5;28;43mself\u001b[39;49m\u001b[38;5;241;43m.\u001b[39;49m\u001b[43m_dc\u001b[49m\u001b[43m)\u001b[49m\n",
      "File \u001b[1;32mc:\\Users\\Anwender\\Documents\\Python Scripts\\RivaPy\\RiVaPy\\rivapy\\tools\\datetools.py:51\u001b[0m, in \u001b[0;36mDayCounter.get\u001b[1;34m(daycounter)\u001b[0m\n\u001b[0;32m     49\u001b[0m     \u001b[38;5;28;01mreturn\u001b[39;00m mapping[dc]\n\u001b[0;32m     50\u001b[0m \u001b[38;5;28;01melse\u001b[39;00m:\n\u001b[1;32m---> 51\u001b[0m     \u001b[38;5;28;01mraise\u001b[39;00m \u001b[38;5;167;01mNotImplementedError\u001b[39;00m(\u001b[38;5;124mf\u001b[39m\u001b[38;5;124m\"\u001b[39m\u001b[38;5;132;01m{\u001b[39;00mdc\u001b[38;5;132;01m}\u001b[39;00m\u001b[38;5;124m not yet implemented.\u001b[39m\u001b[38;5;124m\"\u001b[39m)\n",
      "\u001b[1;31mNotImplementedError\u001b[0m: Act252 not yet implemented."
     ]
    }
   ],
   "source": [
    "dc = DayCounter('Act252')"
   ]
  },
  {
   "cell_type": "code",
   "execution_count": 32,
   "metadata": {},
   "outputs": [
    {
     "data": {
      "text/plain": [
       "<function rivapy.tools.datetools.DayCounter.yf_30360ISDA(d1: Union[datetime.date, datetime.datetime], d2: Union[datetime.date, datetime.datetime]) -> float>"
      ]
     },
     "execution_count": 32,
     "metadata": {},
     "output_type": "execute_result"
    }
   ],
   "source": [
    "dc._yf"
   ]
  },
  {
   "cell_type": "markdown",
   "metadata": {},
   "source": [
    "In order to understand RIVAPY's `Schedule` class, we want to create dates seperated by a specific time period. We define the time period between two dates to be 3 days. This can be done using the `Period` class and passing `Period(years=0, months=0, days=3)` as a parameter for the `time_period` argument of the `Schedule` class. The `start_day` is then set to be 01.07.2024 while the `end_day` is 21.07.2024. With this setup not every period has the same length. For simplicity we do not modify the days, if a period falls on a holiday or weekend. Hence, we set `business_day_convention=RollConvention.UNADJUSTED`."
   ]
  },
  {
   "cell_type": "markdown",
   "metadata": {},
   "source": [
    "We first set the parameters `backwards` and `stub` to `False`."
   ]
  },
  {
   "cell_type": "code",
   "execution_count": 52,
   "metadata": {},
   "outputs": [
    {
     "data": {
      "text/plain": [
       "[datetime.datetime(2024, 7, 1, 0, 0),\n",
       " datetime.datetime(2024, 7, 4, 0, 0),\n",
       " datetime.datetime(2024, 7, 7, 0, 0),\n",
       " datetime.datetime(2024, 7, 10, 0, 0),\n",
       " datetime.datetime(2024, 7, 13, 0, 0),\n",
       " datetime.datetime(2024, 7, 16, 0, 0),\n",
       " datetime.datetime(2024, 7, 21, 0, 0)]"
      ]
     },
     "execution_count": 52,
     "metadata": {},
     "output_type": "execute_result"
    }
   ],
   "source": [
    "schedule = Schedule(start_day=date(2024, 7, 1), end_day=date(2024, 7, 21), time_period=Period(0, 0, 3), backwards=False, stub=False, business_day_convention=RollConvention.UNADJUSTED)\n",
    "schedule.generate_dates(False)"
   ]
  },
  {
   "cell_type": "markdown",
   "metadata": {},
   "source": [
    "We see that the first period each period except the last contains has the wanted period length of 3 days. With the parameter `stub=False` the last period is not allowed to contain less than 3 days."
   ]
  },
  {
   "cell_type": "markdown",
   "metadata": {},
   "source": [
    "If we change the parameter `stub` to `True`, we see that the last period contains now less than 3 days."
   ]
  },
  {
   "cell_type": "code",
   "execution_count": 49,
   "metadata": {},
   "outputs": [
    {
     "data": {
      "text/plain": [
       "[datetime.datetime(2024, 7, 1, 0, 0),\n",
       " datetime.datetime(2024, 7, 4, 0, 0),\n",
       " datetime.datetime(2024, 7, 7, 0, 0),\n",
       " datetime.datetime(2024, 7, 10, 0, 0),\n",
       " datetime.datetime(2024, 7, 13, 0, 0),\n",
       " datetime.datetime(2024, 7, 16, 0, 0),\n",
       " datetime.datetime(2024, 7, 19, 0, 0),\n",
       " datetime.datetime(2024, 7, 21, 0, 0)]"
      ]
     },
     "execution_count": 49,
     "metadata": {},
     "output_type": "execute_result"
    }
   ],
   "source": [
    "schedule = Schedule(start_day=date(2024, 7, 1), end_day=date(2024, 7, 21), time_period=Period(0, 0, 3), backwards=False, stub=True, business_day_convention=RollConvention.UNADJUSTED)\n",
    "schedule.generate_dates(False)"
   ]
  },
  {
   "cell_type": "markdown",
   "metadata": {},
   "source": [
    "Setting `stub` back to `False` and changing the parameter `backwards` to `True`, reverses the behaviour. Instead of the last period, the first period now has contains more than 3 days, while the last period contains exatcly 3 days."
   ]
  },
  {
   "cell_type": "code",
   "execution_count": 53,
   "metadata": {},
   "outputs": [
    {
     "data": {
      "text/plain": [
       "[datetime.datetime(2024, 7, 1, 0, 0),\n",
       " datetime.datetime(2024, 7, 6, 0, 0),\n",
       " datetime.datetime(2024, 7, 9, 0, 0),\n",
       " datetime.datetime(2024, 7, 12, 0, 0),\n",
       " datetime.datetime(2024, 7, 15, 0, 0),\n",
       " datetime.datetime(2024, 7, 18, 0, 0),\n",
       " datetime.datetime(2024, 7, 21, 0, 0)]"
      ]
     },
     "execution_count": 53,
     "metadata": {},
     "output_type": "execute_result"
    }
   ],
   "source": [
    "schedule = Schedule(start_day=date(2024, 7, 1), end_day=date(2024, 7, 21), time_period=Period(0, 0, 3), backwards=True, stub=False, business_day_convention=RollConvention.UNADJUSTED)\n",
    "schedule.generate_dates(False)"
   ]
  },
  {
   "cell_type": "code",
   "execution_count": 50,
   "metadata": {},
   "outputs": [
    {
     "data": {
      "text/plain": [
       "[datetime.datetime(2024, 7, 1, 0, 0),\n",
       " datetime.datetime(2024, 7, 3, 0, 0),\n",
       " datetime.datetime(2024, 7, 6, 0, 0),\n",
       " datetime.datetime(2024, 7, 9, 0, 0),\n",
       " datetime.datetime(2024, 7, 12, 0, 0),\n",
       " datetime.datetime(2024, 7, 15, 0, 0),\n",
       " datetime.datetime(2024, 7, 18, 0, 0),\n",
       " datetime.datetime(2024, 7, 21, 0, 0)]"
      ]
     },
     "execution_count": 50,
     "metadata": {},
     "output_type": "execute_result"
    }
   ],
   "source": [
    "schedule = Schedule(start_day=date(2024, 7, 1), end_day=date(2024, 7, 21), time_period=Period(0, 0, 3), backwards=True, stub=True, business_day_convention=RollConvention.UNADJUSTED)\n",
    "schedule.generate_dates(False)"
   ]
  },
  {
   "cell_type": "code",
   "execution_count": 5,
   "metadata": {},
   "outputs": [],
   "source": [
    "d1 = datetime(2024, 1, 1)\n",
    "d2 = datetime(2024, 1, 20)"
   ]
  },
  {
   "cell_type": "code",
   "execution_count": 6,
   "metadata": {},
   "outputs": [
    {
     "data": {
      "text/plain": [
       "19"
      ]
     },
     "execution_count": 6,
     "metadata": {},
     "output_type": "execute_result"
    }
   ],
   "source": [
    "(d2 - d1).days"
   ]
  },
  {
   "cell_type": "code",
   "execution_count": 8,
   "metadata": {},
   "outputs": [
    {
     "data": {
      "text/plain": [
       "datetime.date(1997, 10, 27)"
      ]
     },
     "execution_count": 8,
     "metadata": {},
     "output_type": "execute_result"
    }
   ],
   "source": [
    "date(1900, 1, 1) + timedelta(days=35728)"
   ]
  },
  {
   "cell_type": "code",
   "execution_count": null,
   "metadata": {},
   "outputs": [],
   "source": []
  }
 ],
 "metadata": {
  "kernelspec": {
   "display_name": "rivapy",
   "language": "python",
   "name": "python3"
  },
  "language_info": {
   "codemirror_mode": {
    "name": "ipython",
    "version": 3
   },
   "file_extension": ".py",
   "mimetype": "text/x-python",
   "name": "python",
   "nbconvert_exporter": "python",
   "pygments_lexer": "ipython3",
   "version": "3.8.15"
  }
 },
 "nbformat": 4,
 "nbformat_minor": 2
}
