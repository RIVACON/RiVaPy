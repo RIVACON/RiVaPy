{
 "cells": [
  {
   "cell_type": "code",
   "execution_count": 3,
   "metadata": {},
   "outputs": [],
   "source": [
    "# today\n",
    "\n",
    "# effective date -> start date\n",
    "\n",
    "# end date\n",
    "\n",
    "# Coupon Interval\n",
    "\n",
    "# Bad day convention\n",
    "\n",
    "# standard Cupons dates \n",
    "\n",
    "# A trade's first coupon payment date is determined by the trade date (T): it's the first coupon\n",
    "# payment date after T+1 (calendar, unadjusted)\n",
    "\n",
    "# The accrual period always stretches from (previous coupon payment date) through (this coupon\n",
    "# payment date–1), inclusive; except a contract's last accrual period, which ends with (and\n",
    "# includes) the unadjusted maturity date\n",
    "\n",
    "# CDS Dates: 20th of Mar/Jun/Sep/Dec"
   ]
  },
  {
   "cell_type": "code",
   "execution_count": 70,
   "metadata": {},
   "outputs": [],
   "source": [
    "import math\n",
    "from dateutil import relativedelta\n",
    "from datetime import datetime, timedelta\n",
    "\n",
    "import rivapy\n",
    "from rivapy.marketdata import DiscountCurve, DatedCurve, SurvivalCurve\n",
    "from rivapy import enums\n",
    "import pyvacon as _pyvacon\n",
    "import scipy.optimize"
   ]
  },
  {
   "cell_type": "code",
   "execution_count": 5,
   "metadata": {},
   "outputs": [],
   "source": [
    "def good_day_converter(date):\n",
    "    # print(date) \n",
    "    if datetime.weekday(date) <6:\n",
    "        start_date = date\n",
    "    elif datetime.weekday(date) ==6:\n",
    "        start_date = date + timedelta(days=2)\n",
    "    elif datetime.weekday(date) ==7:\n",
    "        start_date = date + timedelta(days=1)\n",
    "    return(start_date)\n"
   ]
  },
  {
   "cell_type": "code",
   "execution_count": 6,
   "metadata": {},
   "outputs": [],
   "source": [
    "# trade_date = \n",
    "# first_coupon_payment_date = earliest Adjusted CDS Date after T+1 calendar\n",
    "# last_coupon_payment_date = latest Adjusted CDS Date on or before T+1 calendar\n",
    "# next_coupon_payment_date = (this coupon payment date–1)\n",
    "# maturity_date =  accrual end date is included unadjusted"
   ]
  },
  {
   "cell_type": "code",
   "execution_count": 7,
   "metadata": {},
   "outputs": [],
   "source": [
    "def get_next_imm_date(date):\n",
    "    imm_month_list=[3,6,9,12]\n",
    "    next_imm_year = date.year\n",
    "    if date.month in imm_month_list:\n",
    "        if date.day < 20:\n",
    "            next_imm_month=date.month\n",
    "            # print(1)\n",
    "        else:\n",
    "            # print(2)\n",
    "            next_date=date+relativedelta.relativedelta(months=3)\n",
    "            next_imm_month = [min([m for m in imm_month_list if m >= next_date.month])][0]\n",
    "            # print(next_imm_month)\n",
    "            if next_imm_month < date.month:\n",
    "                next_imm_year = next_imm_year+1\n",
    "    else:\n",
    "        # print(3)\n",
    "        next_imm_month = [min([m for m in imm_month_list if m > date.month])][0]\n",
    "    # print(dt.datetime(next_imm_year, next_imm_month, 20))\n",
    "    next_imm_date = good_day_converter(datetime(next_imm_year, next_imm_month, 20))\n",
    "    return (next_imm_date)"
   ]
  },
  {
   "cell_type": "code",
   "execution_count": 8,
   "metadata": {},
   "outputs": [],
   "source": [
    "def get_previous_imm_date(date):\n",
    "    previous_imm_date = date-relativedelta.relativedelta(months=3)\n",
    "    return(good_day_converter(datetime(previous_imm_date.year, previous_imm_date.month, 20)))"
   ]
  },
  {
   "cell_type": "code",
   "execution_count": 9,
   "metadata": {},
   "outputs": [],
   "source": [
    "# trade_date=datetime(2020,9,19)\n",
    "# good_day_converter(datetime(2020, 12, 20))\n",
    "# print(get_next_imm_date(trade_date))\n",
    "# get_previous_imm_date(get_next_imm_date(trade_date))"
   ]
  },
  {
   "cell_type": "code",
   "execution_count": 10,
   "metadata": {},
   "outputs": [],
   "source": [
    "def get_payment_dates(trade_date, maturity_date):   \n",
    "    if maturity_date.day != 20:\n",
    "        raise Exception('Maturity date needs to be CDS (IMM) date.')\n",
    "    first_coupon_date = get_next_imm_date(trade_date)\n",
    "    payment_dates = [first_coupon_date]\n",
    "    i=0\n",
    "    while payment_dates[-1]<maturity_date:\n",
    "        next_date= get_next_imm_date(payment_dates[i])\n",
    "        if next_date.month==maturity_date.month and next_date.year==maturity_date.year:\n",
    "            payment_dates.append(maturity_date)\n",
    "        else:\n",
    "            payment_dates.append(get_next_imm_date(payment_dates[i]))\n",
    "        i+=1\n",
    "    return(payment_dates)"
   ]
  },
  {
   "cell_type": "code",
   "execution_count": 11,
   "metadata": {},
   "outputs": [],
   "source": [
    "# trade_date = datetime(2008,3,20)\n",
    "# maturity_date = datetime(2013,3,20)\n",
    "# payment_dates=get_payment_dates(trade_date, maturity_date)"
   ]
  },
  {
   "cell_type": "code",
   "execution_count": 80,
   "metadata": {},
   "outputs": [],
   "source": [
    "#Specs\n",
    "trade_date = datetime(2007,3,20)\n",
    "maturity_date = datetime(2013,6,20)\n",
    "refdate = trade_date\n",
    "premium_payment = 0.01\n",
    "notional_amount=10000000\n",
    "\n",
    "#yield curve\n",
    "days_to_maturity = [0, 9, 15, 27, 39, 51, 63, 87, 123]\n",
    "# rates = [-0.0065, 0.0003, 0.0059, 0.0086, 0.0101, 0.012, 0.016, 0.02]\n",
    "days_to_maturity_ir=[1,2,3,6,9,12,24,36,48,60,72,84,96,108,120,132,144,180,240,300,360]\n",
    "rates_ir=[0.004450, 0.009488, 0.012337, 0.017762, 0.019350, 0.020838, 0.016520, 0.020180, 0.023033, 0.025250, 0.026960, 0.028250, \n",
    " 0.029310, 0.030170, 0.030920, 0.031600, 0.032310, 0.033670, 0.034190, 0.034110, 0.034120]\n",
    "dates = [refdate + relativedelta.relativedelta(months=d) for d in days_to_maturity]\n",
    "dates_ir = [refdate + relativedelta.relativedelta(months=d) for d in days_to_maturity_ir]\n",
    "dsc_fac = [math.exp(-rates_ir[i]*days_to_maturity_ir[i]/12) for i in range(len(days_to_maturity_ir))]\n",
    "dsc_fac_ir = [1 for i in range(len(days_to_maturity_ir))]\n",
    "dc = DiscountCurve('CDS_interest_rate', refdate, \n",
    "                                    dates_ir, \n",
    "                                    dsc_fac_ir,\n",
    "                                    enums.InterpolationType.LINEAR)\n",
    "# hazard_rates = [0, 0.001, 0.0015, 0.002, 0.0025, 0.003, 0.0035, 0.005]\n",
    "# hazard_rates = [0, 0.023334991,0.067437529,0.149973856, 0.225205315, 0.293957702, 0.356445889, 0.465164897, 0.594880387]\n",
    "hazard_rates = [0, 0.06722888, 0.10921745, 0.18781492, 0.25947741, 0.32498767, 0.38454683, 0.48851860, 0.61257003] \n",
    "\n",
    "#SurvivalCurve\n",
    "sc = SurvivalCurve('Survival', refdate, dates, hazard_rates)\n",
    "\n",
    "#RecoverCurve\n",
    "# recoveries = [0.6, 0.6, 0.6, 0.6, 0.6, 0.6, 0.6, 0.6, 0.6]\n",
    "recoveries = [0.4, 0.4, 0.4, 0.4, 0.4, 0.4, 0.4, 0.4, 0.4]\n",
    "recoveryCurve = DatedCurve('Recovery', refdate, dates, recoveries,\n",
    "                                        enums.DayCounterType.Act365Fixed.name,\n",
    "                                        enums.InterpolationType.LINEAR.name)\n",
    "\n",
    "#Coupon Payment Dates\n",
    "# payment_dates = [refdate + relativedelta.relativedelta(years=i) for i in range(10)]\n",
    "payment_dates=get_payment_dates(trade_date, maturity_date)\n",
    "\n",
    "#RiVaPy Spec\n",
    "spec = rivapy.instruments.CDSSpecification(premium = premium_payment, protection_start=refdate, premium_pay_dates = payment_dates, notional = notional_amount)\n",
    "\n",
    "#Pricind Data\n",
    "cds_pricing_data = rivapy.pricing.CDSPricingData(spec=spec, val_date=refdate, discount_curve=dc, survival_curve=sc, recovery_curve=recoveryCurve)\n",
    "\n",
    "#Price\n",
    "pr = rivapy.pricing.price(cds_pricing_data)"
   ]
  },
  {
   "cell_type": "code",
   "execution_count": 81,
   "metadata": {},
   "outputs": [],
   "source": [
    "# days_to_maturity_2 = [12, 18, 30, 42, 54, 66, 90, 126]\n",
    "days_to_maturity_2 = [9, 15, 27, 39, 51, 63, 87, 123]\n",
    "dates_2 = [refdate + relativedelta.relativedelta(months=d) for d in days_to_maturity_2]\n",
    "hazard_rates_2 =    [0.0914442231726811,0.0932543950451530,0.0944780416613660,0.0949495158343314,0.0951701634832642,0.0953019935507213,0.0954976945248227,0.0956203078190794] \n",
    "# hazard_rates_2 =  [0.0974086731091612,0.0974086731091608,0.0974086731091606,0.0974086731091606,0.0974086731091608,0.0974086731091608,0.097408673109161,0.0974086731091608]\n",
    "sc_2 = SurvivalCurve('Survival2', refdate, dates_2, hazard_rates_2)"
   ]
  },
  {
   "cell_type": "code",
   "execution_count": 82,
   "metadata": {},
   "outputs": [
    {
     "data": {
      "text/plain": [
       "[datetime.datetime(2007, 6, 20, 0, 0),\n",
       " datetime.datetime(2007, 9, 20, 0, 0),\n",
       " datetime.datetime(2007, 12, 20, 0, 0),\n",
       " datetime.datetime(2008, 3, 20, 0, 0),\n",
       " datetime.datetime(2008, 6, 20, 0, 0),\n",
       " datetime.datetime(2008, 9, 20, 0, 0),\n",
       " datetime.datetime(2008, 12, 20, 0, 0),\n",
       " datetime.datetime(2009, 3, 20, 0, 0),\n",
       " datetime.datetime(2009, 6, 20, 0, 0),\n",
       " datetime.datetime(2009, 9, 22, 0, 0),\n",
       " datetime.datetime(2009, 12, 22, 0, 0),\n",
       " datetime.datetime(2010, 3, 20, 0, 0),\n",
       " datetime.datetime(2010, 6, 22, 0, 0),\n",
       " datetime.datetime(2010, 9, 20, 0, 0),\n",
       " datetime.datetime(2010, 12, 20, 0, 0),\n",
       " datetime.datetime(2011, 3, 22, 0, 0),\n",
       " datetime.datetime(2011, 6, 20, 0, 0),\n",
       " datetime.datetime(2011, 9, 20, 0, 0),\n",
       " datetime.datetime(2011, 12, 20, 0, 0),\n",
       " datetime.datetime(2012, 3, 20, 0, 0),\n",
       " datetime.datetime(2012, 6, 20, 0, 0),\n",
       " datetime.datetime(2012, 9, 20, 0, 0),\n",
       " datetime.datetime(2012, 12, 20, 0, 0),\n",
       " datetime.datetime(2013, 3, 20, 0, 0),\n",
       " datetime.datetime(2013, 6, 20, 0, 0)]"
      ]
     },
     "execution_count": 82,
     "metadata": {},
     "output_type": "execute_result"
    }
   ],
   "source": [
    "payment_dates"
   ]
  },
  {
   "cell_type": "code",
   "execution_count": 83,
   "metadata": {},
   "outputs": [],
   "source": [
    "cds_pricing_data = rivapy.pricing.CDSPricingData(spec=spec, val_date=refdate, discount_curve=dc, survival_curve=sc_2, recovery_curve=recoveryCurve)\n",
    "pr = rivapy.pricing.price(cds_pricing_data)"
   ]
  },
  {
   "cell_type": "code",
   "execution_count": 84,
   "metadata": {},
   "outputs": [
    {
     "name": "stdout",
     "output_type": "stream",
     "text": [
      "Expected PV: 2205035.506727943\n",
      "Expected PV protection leg: 2678389.741304264\n",
      "Expected PV premium leg: 467765.29634029494\n",
      "Expected PV accrued interest: 5588.93823602545\n",
      "Expected PV premium leg + accrued: 473354.2345763204\n"
     ]
    }
   ],
   "source": [
    "print(\"Expected PV:\", pr._price)\n",
    "print(\"Expected PV protection leg:\",pr.pv_protection)\n",
    "print(\"Expected PV premium leg:\",pr.premium_leg)\n",
    "print(\"Expected PV accrued interest:\", pr.accrued)\n",
    "print(\"Expected PV premium leg + accrued:\", pr.accrued+pr.premium_leg)"
   ]
  },
  {
   "cell_type": "code",
   "execution_count": 85,
   "metadata": {},
   "outputs": [
    {
     "data": {
      "text/plain": [
       "0.05658320018414072"
      ]
     },
     "execution_count": 85,
     "metadata": {},
     "output_type": "execute_result"
    }
   ],
   "source": [
    "pr.par_spread"
   ]
  },
  {
   "cell_type": "code",
   "execution_count": 86,
   "metadata": {},
   "outputs": [],
   "source": [
    "def _pv_premium_leg(protection_start, premium_pay_dates, valuation_date, survival_curve, discount_curve ):\n",
    "        premium_period_start = protection_start\n",
    "        risk_adj_factor_premium=0  \n",
    "        accrued = 0\n",
    "        # print(premium_pay_dates)      \n",
    "        #TODO include daycounter into CDSSpecification\n",
    "        dc = _pyvacon.finance.definition.DayCounter(_pyvacon.finance.definition.DayCounter.Type.Act365Fixed)\n",
    "        for premium_payment in premium_pay_dates:\n",
    "            if premium_payment >= valuation_date:\n",
    "                period_length = dc.yf(premium_period_start, premium_payment)\n",
    "                survival_prob = survival_curve.value(valuation_date, premium_payment)\n",
    "                # print(survival_prob)\n",
    "                df = discount_curve.value(valuation_date, premium_payment)\n",
    "                risk_adj_factor_premium += period_length*survival_prob*df\n",
    "                # print(risk_adj_factor_premium*0.01*notional_amount)\n",
    "                default_prob = survival_curve.value(valuation_date, premium_period_start)-survival_curve.value(valuation_date, premium_payment)\n",
    "                accrued += 0.5*period_length*default_prob*df\n",
    "                # print(accrued*0.5*0.01*notional_amount)\n",
    "                premium_period_start = premium_payment\n",
    "        return risk_adj_factor_premium, accrued\n"
   ]
  },
  {
   "cell_type": "code",
   "execution_count": 87,
   "metadata": {},
   "outputs": [],
   "source": [
    "def _pv_protection_leg(val_date, protection_start, integration_step, expiry, survival_curve, recovery_curve, discount_curve):\n",
    "        prev_date = max(val_date, protection_start+integration_step)\n",
    "        current_date = min(prev_date + integration_step, expiry)\n",
    "        pv_protection = 0.0\n",
    "        \n",
    "        while current_date <= expiry:\n",
    "            default_prob = survival_curve.value(val_date, prev_date)-survival_curve.value(val_date, current_date)\n",
    "            # print(survival_curve.value(val_date, prev_date))\n",
    "            recovery = None\n",
    "            if recovery is None and recovery_curve is not None:\n",
    "                recovery = recovery_curve.value(val_date, current_date)\n",
    "            # print(recovery)\n",
    "            pv_protection += discount_curve.value(val_date, current_date)  * default_prob\n",
    "            # print(default_prob)\n",
    "            # print(pv_protection)\n",
    "            prev_date = current_date\n",
    "            current_date += integration_step\n",
    "            \n",
    "        if prev_date < expiry and current_date > expiry:\n",
    "            default_prob = survival_curve.value(val_date, prev_date)-survival_curve.value(val_date, expiry)\n",
    "            # print(survival_curve.value(val_date, expiry))\n",
    "            recovery = recovery\n",
    "            if recovery is None and recovery_curve is not None:\n",
    "                recovery = recovery_curve.value(val_date, expiry) \n",
    "            pv_protection += discount_curve.value(val_date, expiry)  * default_prob\n",
    "            # print(pv_protection)\n",
    "            # print(default_prob)\n",
    "            \n",
    "        return pv_protection"
   ]
  },
  {
   "cell_type": "code",
   "execution_count": 88,
   "metadata": {},
   "outputs": [],
   "source": [
    "pv_protection=_pv_protection_leg(refdate, refdate, relativedelta.relativedelta(months=3), maturity_date, sc_2, recoveryCurve, dc)*notional_amount* (1.0-0.4)\n",
    "pv_premium=_pv_premium_leg(refdate, payment_dates, refdate, sc_2, dc)[0]*premium_payment*notional_amount\n",
    "pv_accrued=_pv_premium_leg(refdate, payment_dates, refdate, sc_2, dc)[1]*premium_payment*notional_amount"
   ]
  },
  {
   "cell_type": "code",
   "execution_count": 89,
   "metadata": {},
   "outputs": [
    {
     "data": {
      "text/plain": [
       "2541677.6003533155"
      ]
     },
     "execution_count": 89,
     "metadata": {},
     "output_type": "execute_result"
    }
   ],
   "source": [
    "pv_protection"
   ]
  },
  {
   "cell_type": "code",
   "execution_count": 90,
   "metadata": {},
   "outputs": [
    {
     "data": {
      "text/plain": [
       "467765.296340295"
      ]
     },
     "execution_count": 90,
     "metadata": {},
     "output_type": "execute_result"
    }
   ],
   "source": [
    "pv_premium"
   ]
  },
  {
   "cell_type": "code",
   "execution_count": 91,
   "metadata": {},
   "outputs": [
    {
     "data": {
      "text/plain": [
       "2068323.365776995"
      ]
     },
     "execution_count": 91,
     "metadata": {},
     "output_type": "execute_result"
    }
   ],
   "source": [
    "pv = pv_protection-pv_premium-pv_accrued\n",
    "pv"
   ]
  },
  {
   "cell_type": "code",
   "execution_count": 92,
   "metadata": {},
   "outputs": [
    {
     "data": {
      "text/plain": [
       "1.0"
      ]
     },
     "execution_count": 92,
     "metadata": {},
     "output_type": "execute_result"
    }
   ],
   "source": [
    "sc_2.value(datetime(2008,3,20),datetime(2008,3,20))"
   ]
  },
  {
   "cell_type": "code",
   "execution_count": null,
   "metadata": {},
   "outputs": [],
   "source": []
  },
  {
   "cell_type": "markdown",
   "metadata": {},
   "source": [
    "### Upfront Converter"
   ]
  },
  {
   "cell_type": "code",
   "execution_count": 93,
   "metadata": {},
   "outputs": [],
   "source": [
    "# In: Upfront - PV of CDS\n",
    "# Out: Fair Spread\n",
    "\n",
    "# In: Fair spread\n",
    "# Out: Upfront - PV of CDS"
   ]
  },
  {
   "cell_type": "code",
   "execution_count": 94,
   "metadata": {},
   "outputs": [
    {
     "name": "stdout",
     "output_type": "stream",
     "text": [
      "2068323.365776995\n"
     ]
    }
   ],
   "source": [
    "pv_protection=_pv_protection_leg(refdate, refdate, relativedelta.relativedelta(months=3), maturity_date, sc_2, recoveryCurve, dc)*notional_amount* (1.0-0.4)\n",
    "pv_premium=_pv_premium_leg(refdate, payment_dates, refdate, sc_2, dc)[0]*premium_payment*notional_amount\n",
    "pv_accrued=_pv_premium_leg(refdate, payment_dates, refdate, sc_2, dc)[1]*premium_payment*notional_amount\n",
    "pv_CDS = pv_protection-pv_premium-pv_accrued\n",
    "print(pv_CDS)"
   ]
  },
  {
   "cell_type": "code",
   "execution_count": 100,
   "metadata": {},
   "outputs": [],
   "source": [
    "def calibration_error(x, upfront_charge, refdate, payment_dates, dc, sc_2, recoveryCurve):\n",
    "    pv_protection=_pv_protection_leg(refdate, refdate, relativedelta.relativedelta(months=3), maturity_date, sc_2, recoveryCurve, dc)*notional_amount* (1.0-0.4)\n",
    "    pv_premium=_pv_premium_leg(refdate, payment_dates, refdate, sc_2, dc)[0]*x*notional_amount\n",
    "    pv_accrued=_pv_premium_leg(refdate, payment_dates, refdate, sc_2, dc)[1]*x*notional_amount\n",
    "    pv_CDS = pv_protection-pv_premium-pv_accrued\n",
    "    return  upfront_charge - pv_CDS\n",
    "\n",
    "\n",
    "def get_fair_spread(payment_dates, ref_date, premium_payment, upfront_charge, dc_new, sc_2, recoveryCurve):\n",
    "    sol=scipy.optimize.root_scalar(calibration_error,args=( upfront_charge, ref_date, \n",
    "                         payment_dates, dc_new, sc_2, recoveryCurve),method='brentq',bracket=[-1,3],xtol=1e-8,rtol=1e-8)\n",
    "    spread =  sol.root\n",
    "        #print(numpy.exp(-sol.root*((payment_dates_iter[-1]-ref_date).days/365)))\n",
    "    return spread"
   ]
  },
  {
   "cell_type": "code",
   "execution_count": 103,
   "metadata": {},
   "outputs": [],
   "source": [
    "def calibration_error(x, upfront_charge, refdate, payment_dates, dc, standard_spread, recoveryCurve):\n",
    "    pv_protection=_pv_protection_leg(refdate, refdate, relativedelta.relativedelta(months=3), maturity_date, x, recoveryCurve, dc)*notional_amount* (1.0-0.4)\n",
    "    pv_premium=_pv_premium_leg(refdate, payment_dates, refdate, x, dc)[0]*standard_spread*notional_amount\n",
    "    pv_accrued=_pv_premium_leg(refdate, payment_dates, refdate, x, dc)[1]*standard_spread*notional_amount\n",
    "    pv_CDS = pv_protection-pv_premium-pv_accrued\n",
    "    return  upfront_charge - pv_CDS\n",
    "\n",
    "\n",
    "def get_fair_spread(payment_dates, ref_date, standard_spread, upfront_charge, dc_new, sc_2, recoveryCurve):\n",
    "    sol=scipy.optimize.root_scalar(calibration_error,args=( upfront_charge, ref_date, \n",
    "                         payment_dates, dc_new, standard_spread, recoveryCurve),method='brentq',bracket=[-1,3],xtol=1e-8,rtol=1e-8)\n",
    "    spread =  sol.root\n",
    "        #print(numpy.exp(-sol.root*((payment_dates_iter[-1]-ref_date).days/365)))\n",
    "    return spread"
   ]
  },
  {
   "cell_type": "code",
   "execution_count": 104,
   "metadata": {},
   "outputs": [],
   "source": [
    "premium_payment = 0.01\n",
    "notional_amount=10000000\n",
    "\n",
    "upfront_charge = 240558.36"
   ]
  },
  {
   "cell_type": "code",
   "execution_count": 105,
   "metadata": {},
   "outputs": [
    {
     "ename": "AttributeError",
     "evalue": "'float' object has no attribute 'value'",
     "output_type": "error",
     "traceback": [
      "\u001b[1;31m---------------------------------------------------------------------------\u001b[0m",
      "\u001b[1;31mAttributeError\u001b[0m                            Traceback (most recent call last)",
      "\u001b[1;32m<ipython-input-105-e8c355766c9e>\u001b[0m in \u001b[0;36m<module>\u001b[1;34m\u001b[0m\n\u001b[1;32m----> 1\u001b[1;33m \u001b[0mget_fair_spread\u001b[0m\u001b[1;33m(\u001b[0m\u001b[0mpayment_dates\u001b[0m\u001b[1;33m,\u001b[0m \u001b[0mrefdate\u001b[0m\u001b[1;33m,\u001b[0m \u001b[0mpremium_payment\u001b[0m\u001b[1;33m,\u001b[0m \u001b[0mupfront_charge\u001b[0m\u001b[1;33m,\u001b[0m \u001b[0mdc\u001b[0m\u001b[1;33m,\u001b[0m \u001b[0msc_2\u001b[0m\u001b[1;33m,\u001b[0m \u001b[0mrecoveryCurve\u001b[0m\u001b[1;33m)\u001b[0m\u001b[1;33m\u001b[0m\u001b[1;33m\u001b[0m\u001b[0m\n\u001b[0m",
      "\u001b[1;32m<ipython-input-103-d486646c390b>\u001b[0m in \u001b[0;36mget_fair_spread\u001b[1;34m(payment_dates, ref_date, standard_spread, upfront_charge, dc_new, sc_2, recoveryCurve)\u001b[0m\n\u001b[0;32m      8\u001b[0m \u001b[1;33m\u001b[0m\u001b[0m\n\u001b[0;32m      9\u001b[0m \u001b[1;32mdef\u001b[0m \u001b[0mget_fair_spread\u001b[0m\u001b[1;33m(\u001b[0m\u001b[0mpayment_dates\u001b[0m\u001b[1;33m,\u001b[0m \u001b[0mref_date\u001b[0m\u001b[1;33m,\u001b[0m \u001b[0mstandard_spread\u001b[0m\u001b[1;33m,\u001b[0m \u001b[0mupfront_charge\u001b[0m\u001b[1;33m,\u001b[0m \u001b[0mdc_new\u001b[0m\u001b[1;33m,\u001b[0m \u001b[0msc_2\u001b[0m\u001b[1;33m,\u001b[0m \u001b[0mrecoveryCurve\u001b[0m\u001b[1;33m)\u001b[0m\u001b[1;33m:\u001b[0m\u001b[1;33m\u001b[0m\u001b[1;33m\u001b[0m\u001b[0m\n\u001b[1;32m---> 10\u001b[1;33m     sol=scipy.optimize.root_scalar(calibration_error,args=( upfront_charge, ref_date, \n\u001b[0m\u001b[0;32m     11\u001b[0m                          payment_dates, dc_new, standard_spread, recoveryCurve),method='brentq',bracket=[-1,3],xtol=1e-8,rtol=1e-8)\n\u001b[0;32m     12\u001b[0m     \u001b[0mspread\u001b[0m \u001b[1;33m=\u001b[0m  \u001b[0msol\u001b[0m\u001b[1;33m.\u001b[0m\u001b[0mroot\u001b[0m\u001b[1;33m\u001b[0m\u001b[1;33m\u001b[0m\u001b[0m\n",
      "\u001b[1;32m~\\anaconda3\\lib\\site-packages\\scipy\\optimize\\_root_scalar.py\u001b[0m in \u001b[0;36mroot_scalar\u001b[1;34m(f, args, method, bracket, fprime, fprime2, x0, x1, xtol, rtol, maxiter, options)\u001b[0m\n\u001b[0;32m    247\u001b[0m \u001b[1;33m\u001b[0m\u001b[0m\n\u001b[0;32m    248\u001b[0m         \u001b[0ma\u001b[0m\u001b[1;33m,\u001b[0m \u001b[0mb\u001b[0m \u001b[1;33m=\u001b[0m \u001b[0mbracket\u001b[0m\u001b[1;33m[\u001b[0m\u001b[1;33m:\u001b[0m\u001b[1;36m2\u001b[0m\u001b[1;33m]\u001b[0m\u001b[1;33m\u001b[0m\u001b[1;33m\u001b[0m\u001b[0m\n\u001b[1;32m--> 249\u001b[1;33m         \u001b[0mr\u001b[0m\u001b[1;33m,\u001b[0m \u001b[0msol\u001b[0m \u001b[1;33m=\u001b[0m \u001b[0mmethodc\u001b[0m\u001b[1;33m(\u001b[0m\u001b[0mf\u001b[0m\u001b[1;33m,\u001b[0m \u001b[0ma\u001b[0m\u001b[1;33m,\u001b[0m \u001b[0mb\u001b[0m\u001b[1;33m,\u001b[0m \u001b[0margs\u001b[0m\u001b[1;33m=\u001b[0m\u001b[0margs\u001b[0m\u001b[1;33m,\u001b[0m \u001b[1;33m**\u001b[0m\u001b[0mkwargs\u001b[0m\u001b[1;33m)\u001b[0m\u001b[1;33m\u001b[0m\u001b[1;33m\u001b[0m\u001b[0m\n\u001b[0m\u001b[0;32m    250\u001b[0m     \u001b[1;32melif\u001b[0m \u001b[0mmeth\u001b[0m \u001b[1;32min\u001b[0m \u001b[1;33m[\u001b[0m\u001b[1;34m'secant'\u001b[0m\u001b[1;33m]\u001b[0m\u001b[1;33m:\u001b[0m\u001b[1;33m\u001b[0m\u001b[1;33m\u001b[0m\u001b[0m\n\u001b[0;32m    251\u001b[0m         \u001b[1;32mif\u001b[0m \u001b[0mx0\u001b[0m \u001b[1;32mis\u001b[0m \u001b[1;32mNone\u001b[0m\u001b[1;33m:\u001b[0m\u001b[1;33m\u001b[0m\u001b[1;33m\u001b[0m\u001b[0m\n",
      "\u001b[1;32m~\\anaconda3\\lib\\site-packages\\scipy\\optimize\\zeros.py\u001b[0m in \u001b[0;36mbrentq\u001b[1;34m(f, a, b, args, xtol, rtol, maxiter, full_output, disp)\u001b[0m\n\u001b[0;32m    774\u001b[0m     \u001b[1;32mif\u001b[0m \u001b[0mrtol\u001b[0m \u001b[1;33m<\u001b[0m \u001b[0m_rtol\u001b[0m\u001b[1;33m:\u001b[0m\u001b[1;33m\u001b[0m\u001b[1;33m\u001b[0m\u001b[0m\n\u001b[0;32m    775\u001b[0m         \u001b[1;32mraise\u001b[0m \u001b[0mValueError\u001b[0m\u001b[1;33m(\u001b[0m\u001b[1;34m\"rtol too small (%g < %g)\"\u001b[0m \u001b[1;33m%\u001b[0m \u001b[1;33m(\u001b[0m\u001b[0mrtol\u001b[0m\u001b[1;33m,\u001b[0m \u001b[0m_rtol\u001b[0m\u001b[1;33m)\u001b[0m\u001b[1;33m)\u001b[0m\u001b[1;33m\u001b[0m\u001b[1;33m\u001b[0m\u001b[0m\n\u001b[1;32m--> 776\u001b[1;33m     \u001b[0mr\u001b[0m \u001b[1;33m=\u001b[0m \u001b[0m_zeros\u001b[0m\u001b[1;33m.\u001b[0m\u001b[0m_brentq\u001b[0m\u001b[1;33m(\u001b[0m\u001b[0mf\u001b[0m\u001b[1;33m,\u001b[0m \u001b[0ma\u001b[0m\u001b[1;33m,\u001b[0m \u001b[0mb\u001b[0m\u001b[1;33m,\u001b[0m \u001b[0mxtol\u001b[0m\u001b[1;33m,\u001b[0m \u001b[0mrtol\u001b[0m\u001b[1;33m,\u001b[0m \u001b[0mmaxiter\u001b[0m\u001b[1;33m,\u001b[0m \u001b[0margs\u001b[0m\u001b[1;33m,\u001b[0m \u001b[0mfull_output\u001b[0m\u001b[1;33m,\u001b[0m \u001b[0mdisp\u001b[0m\u001b[1;33m)\u001b[0m\u001b[1;33m\u001b[0m\u001b[1;33m\u001b[0m\u001b[0m\n\u001b[0m\u001b[0;32m    777\u001b[0m     \u001b[1;32mreturn\u001b[0m \u001b[0mresults_c\u001b[0m\u001b[1;33m(\u001b[0m\u001b[0mfull_output\u001b[0m\u001b[1;33m,\u001b[0m \u001b[0mr\u001b[0m\u001b[1;33m)\u001b[0m\u001b[1;33m\u001b[0m\u001b[1;33m\u001b[0m\u001b[0m\n\u001b[0;32m    778\u001b[0m \u001b[1;33m\u001b[0m\u001b[0m\n",
      "\u001b[1;32m<ipython-input-103-d486646c390b>\u001b[0m in \u001b[0;36mcalibration_error\u001b[1;34m(x, upfront_charge, refdate, payment_dates, dc, standard_spread, recoveryCurve)\u001b[0m\n\u001b[0;32m      1\u001b[0m \u001b[1;32mdef\u001b[0m \u001b[0mcalibration_error\u001b[0m\u001b[1;33m(\u001b[0m\u001b[0mx\u001b[0m\u001b[1;33m,\u001b[0m \u001b[0mupfront_charge\u001b[0m\u001b[1;33m,\u001b[0m \u001b[0mrefdate\u001b[0m\u001b[1;33m,\u001b[0m \u001b[0mpayment_dates\u001b[0m\u001b[1;33m,\u001b[0m \u001b[0mdc\u001b[0m\u001b[1;33m,\u001b[0m \u001b[0mstandard_spread\u001b[0m\u001b[1;33m,\u001b[0m \u001b[0mrecoveryCurve\u001b[0m\u001b[1;33m)\u001b[0m\u001b[1;33m:\u001b[0m\u001b[1;33m\u001b[0m\u001b[1;33m\u001b[0m\u001b[0m\n\u001b[1;32m----> 2\u001b[1;33m     \u001b[0mpv_protection\u001b[0m\u001b[1;33m=\u001b[0m\u001b[0m_pv_protection_leg\u001b[0m\u001b[1;33m(\u001b[0m\u001b[0mrefdate\u001b[0m\u001b[1;33m,\u001b[0m \u001b[0mrefdate\u001b[0m\u001b[1;33m,\u001b[0m \u001b[0mrelativedelta\u001b[0m\u001b[1;33m.\u001b[0m\u001b[0mrelativedelta\u001b[0m\u001b[1;33m(\u001b[0m\u001b[0mmonths\u001b[0m\u001b[1;33m=\u001b[0m\u001b[1;36m3\u001b[0m\u001b[1;33m)\u001b[0m\u001b[1;33m,\u001b[0m \u001b[0mmaturity_date\u001b[0m\u001b[1;33m,\u001b[0m \u001b[0mx\u001b[0m\u001b[1;33m,\u001b[0m \u001b[0mrecoveryCurve\u001b[0m\u001b[1;33m,\u001b[0m \u001b[0mdc\u001b[0m\u001b[1;33m)\u001b[0m\u001b[1;33m*\u001b[0m\u001b[0mnotional_amount\u001b[0m\u001b[1;33m*\u001b[0m \u001b[1;33m(\u001b[0m\u001b[1;36m1.0\u001b[0m\u001b[1;33m-\u001b[0m\u001b[1;36m0.4\u001b[0m\u001b[1;33m)\u001b[0m\u001b[1;33m\u001b[0m\u001b[1;33m\u001b[0m\u001b[0m\n\u001b[0m\u001b[0;32m      3\u001b[0m     \u001b[0mpv_premium\u001b[0m\u001b[1;33m=\u001b[0m\u001b[0m_pv_premium_leg\u001b[0m\u001b[1;33m(\u001b[0m\u001b[0mrefdate\u001b[0m\u001b[1;33m,\u001b[0m \u001b[0mpayment_dates\u001b[0m\u001b[1;33m,\u001b[0m \u001b[0mrefdate\u001b[0m\u001b[1;33m,\u001b[0m \u001b[0mx\u001b[0m\u001b[1;33m,\u001b[0m \u001b[0mdc\u001b[0m\u001b[1;33m)\u001b[0m\u001b[1;33m[\u001b[0m\u001b[1;36m0\u001b[0m\u001b[1;33m]\u001b[0m\u001b[1;33m*\u001b[0m\u001b[0mstandard_spread\u001b[0m\u001b[1;33m*\u001b[0m\u001b[0mnotional_amount\u001b[0m\u001b[1;33m\u001b[0m\u001b[1;33m\u001b[0m\u001b[0m\n\u001b[0;32m      4\u001b[0m     \u001b[0mpv_accrued\u001b[0m\u001b[1;33m=\u001b[0m\u001b[0m_pv_premium_leg\u001b[0m\u001b[1;33m(\u001b[0m\u001b[0mrefdate\u001b[0m\u001b[1;33m,\u001b[0m \u001b[0mpayment_dates\u001b[0m\u001b[1;33m,\u001b[0m \u001b[0mrefdate\u001b[0m\u001b[1;33m,\u001b[0m \u001b[0mx\u001b[0m\u001b[1;33m,\u001b[0m \u001b[0mdc\u001b[0m\u001b[1;33m)\u001b[0m\u001b[1;33m[\u001b[0m\u001b[1;36m1\u001b[0m\u001b[1;33m]\u001b[0m\u001b[1;33m*\u001b[0m\u001b[0mstandard_spread\u001b[0m\u001b[1;33m*\u001b[0m\u001b[0mnotional_amount\u001b[0m\u001b[1;33m\u001b[0m\u001b[1;33m\u001b[0m\u001b[0m\n\u001b[0;32m      5\u001b[0m     \u001b[0mpv_CDS\u001b[0m \u001b[1;33m=\u001b[0m \u001b[0mpv_protection\u001b[0m\u001b[1;33m-\u001b[0m\u001b[0mpv_premium\u001b[0m\u001b[1;33m-\u001b[0m\u001b[0mpv_accrued\u001b[0m\u001b[1;33m\u001b[0m\u001b[1;33m\u001b[0m\u001b[0m\n",
      "\u001b[1;32m<ipython-input-87-43f885d9945b>\u001b[0m in \u001b[0;36m_pv_protection_leg\u001b[1;34m(val_date, protection_start, integration_step, expiry, survival_curve, recovery_curve, discount_curve)\u001b[0m\n\u001b[0;32m      5\u001b[0m \u001b[1;33m\u001b[0m\u001b[0m\n\u001b[0;32m      6\u001b[0m         \u001b[1;32mwhile\u001b[0m \u001b[0mcurrent_date\u001b[0m \u001b[1;33m<=\u001b[0m \u001b[0mexpiry\u001b[0m\u001b[1;33m:\u001b[0m\u001b[1;33m\u001b[0m\u001b[1;33m\u001b[0m\u001b[0m\n\u001b[1;32m----> 7\u001b[1;33m             \u001b[0mdefault_prob\u001b[0m \u001b[1;33m=\u001b[0m \u001b[0msurvival_curve\u001b[0m\u001b[1;33m.\u001b[0m\u001b[0mvalue\u001b[0m\u001b[1;33m(\u001b[0m\u001b[0mval_date\u001b[0m\u001b[1;33m,\u001b[0m \u001b[0mprev_date\u001b[0m\u001b[1;33m)\u001b[0m\u001b[1;33m-\u001b[0m\u001b[0msurvival_curve\u001b[0m\u001b[1;33m.\u001b[0m\u001b[0mvalue\u001b[0m\u001b[1;33m(\u001b[0m\u001b[0mval_date\u001b[0m\u001b[1;33m,\u001b[0m \u001b[0mcurrent_date\u001b[0m\u001b[1;33m)\u001b[0m\u001b[1;33m\u001b[0m\u001b[1;33m\u001b[0m\u001b[0m\n\u001b[0m\u001b[0;32m      8\u001b[0m             \u001b[1;31m# print(survival_curve.value(val_date, prev_date))\u001b[0m\u001b[1;33m\u001b[0m\u001b[1;33m\u001b[0m\u001b[1;33m\u001b[0m\u001b[0m\n\u001b[0;32m      9\u001b[0m             \u001b[0mrecovery\u001b[0m \u001b[1;33m=\u001b[0m \u001b[1;32mNone\u001b[0m\u001b[1;33m\u001b[0m\u001b[1;33m\u001b[0m\u001b[0m\n",
      "\u001b[1;31mAttributeError\u001b[0m: 'float' object has no attribute 'value'"
     ]
    }
   ],
   "source": [
    "get_fair_spread(payment_dates, refdate, premium_payment, upfront_charge, dc, sc_2, recoveryCurve)"
   ]
  },
  {
   "cell_type": "code",
   "execution_count": null,
   "metadata": {},
   "outputs": [],
   "source": []
  }
 ],
 "metadata": {
  "interpreter": {
   "hash": "6adee53c13be7cf8582dc470917a193e541c9e29837d59b0c484fc99790beedb"
  },
  "kernelspec": {
   "display_name": "Python 3.8.8 64-bit ('base': conda)",
   "language": "python",
   "name": "python3"
  },
  "language_info": {
   "codemirror_mode": {
    "name": "ipython",
    "version": 3
   },
   "file_extension": ".py",
   "mimetype": "text/x-python",
   "name": "python",
   "nbconvert_exporter": "python",
   "pygments_lexer": "ipython3",
   "version": "3.8.8"
  },
  "orig_nbformat": 4
 },
 "nbformat": 4,
 "nbformat_minor": 2
}
