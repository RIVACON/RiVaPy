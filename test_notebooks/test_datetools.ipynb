{
 "cells": [
  {
   "cell_type": "code",
   "execution_count": 1,
   "metadata": {
    "ExecuteTime": {
     "end_time": "2020-09-20T16:59:35.114846Z",
     "start_time": "2020-09-20T16:59:33.025095Z"
    }
   },
   "outputs": [
    {
     "name": "stdout",
     "output_type": "stream",
     "text": [
      "Failed to load configuration file. Using default configs\n"
     ]
    }
   ],
   "source": [
    "from RiVaPy.tools.datetools import roll_day\n",
    "from RiVaPy.tools.enums import Roll_Convention\n",
    "from datetime import date\n",
    "from dateutil.relativedelta import relativedelta\n",
    "import holidays"
   ]
  },
  {
   "cell_type": "markdown",
   "metadata": {},
   "source": [
    "# External Tests\n",
    "These tests are shall reproduce the results given in [Chapter 4](https://usermanual.wiki/Document/interestrateinstrumentsandmarketconventionsguide.1425400940/view)  of Interest Rate Instruments and Market Conventions Guide by OpenGamma"
   ]
  },
  {
   "cell_type": "code",
   "execution_count": 2,
   "metadata": {
    "ExecuteTime": {
     "end_time": "2020-09-20T16:59:35.138718Z",
     "start_time": "2020-09-20T16:59:35.118532Z"
    }
   },
   "outputs": [],
   "source": [
    "holidays_target2 = holidays.ECB(years=[2011, 2012])"
   ]
  },
  {
   "cell_type": "code",
   "execution_count": 3,
   "metadata": {
    "ExecuteTime": {
     "end_time": "2020-09-20T16:59:35.166541Z",
     "start_time": "2020-09-20T16:59:35.142663Z"
    }
   },
   "outputs": [
    {
     "data": {
      "text/plain": [
       "datetime.date(2011, 9, 19)"
      ]
     },
     "execution_count": 3,
     "metadata": {},
     "output_type": "execute_result"
    }
   ],
   "source": [
    "start_date = date(2011, 8, 18)\n",
    "end_date = start_date + relativedelta(months=1)\n",
    "roll_day(end_date, holidays_target2, Roll_Convention.FOLLOWING)"
   ]
  },
  {
   "cell_type": "code",
   "execution_count": 4,
   "metadata": {
    "ExecuteTime": {
     "end_time": "2020-09-20T16:59:35.175559Z",
     "start_time": "2020-09-20T16:59:35.167640Z"
    }
   },
   "outputs": [
    {
     "data": {
      "text/plain": [
       "datetime.date(2011, 9, 16)"
      ]
     },
     "execution_count": 4,
     "metadata": {},
     "output_type": "execute_result"
    }
   ],
   "source": [
    "start_date = date(2011, 8, 18)\n",
    "end_date = start_date + relativedelta(months=1)\n",
    "roll_day(end_date, holidays_target2, Roll_Convention.PRECEDING)"
   ]
  },
  {
   "cell_type": "code",
   "execution_count": 5,
   "metadata": {
    "ExecuteTime": {
     "end_time": "2020-09-20T16:59:35.193270Z",
     "start_time": "2020-09-20T16:59:35.177552Z"
    }
   },
   "outputs": [
    {
     "data": {
      "text/plain": [
       "datetime.date(2011, 7, 29)"
      ]
     },
     "execution_count": 5,
     "metadata": {},
     "output_type": "execute_result"
    }
   ],
   "source": [
    "start_date = date(2011, 6, 30)\n",
    "end_date = start_date + relativedelta(months=1)\n",
    "roll_day(end_date, holidays_target2, Roll_Convention.MODIFIED_FOLLOWING)"
   ]
  },
  {
   "cell_type": "code",
   "execution_count": 6,
   "metadata": {
    "ExecuteTime": {
     "end_time": "2020-09-20T16:59:35.206296Z",
     "start_time": "2020-09-20T16:59:35.196417Z"
    }
   },
   "outputs": [
    {
     "data": {
      "text/plain": [
       "datetime.date(2011, 8, 1)"
      ]
     },
     "execution_count": 6,
     "metadata": {},
     "output_type": "execute_result"
    }
   ],
   "source": [
    "start_date = date(2011, 6, 30)\n",
    "end_date = start_date + relativedelta(months=1)\n",
    "roll_day(end_date, holidays_target2, Roll_Convention.FOLLOWING)"
   ]
  },
  {
   "cell_type": "code",
   "execution_count": 7,
   "metadata": {
    "ExecuteTime": {
     "end_time": "2020-09-20T16:59:35.224012Z",
     "start_time": "2020-09-20T16:59:35.208293Z"
    }
   },
   "outputs": [
    {
     "data": {
      "text/plain": [
       "datetime.date(2011, 7, 29)"
      ]
     },
     "execution_count": 7,
     "metadata": {},
     "output_type": "execute_result"
    }
   ],
   "source": [
    "start_date = date(2011, 6, 30)\n",
    "end_date = start_date + relativedelta(months=1)\n",
    "roll_day(end_date, holidays_target2, Roll_Convention.MODIFIED_FOLLOWING_BIMONTHLY)"
   ]
  },
  {
   "cell_type": "code",
   "execution_count": 8,
   "metadata": {
    "ExecuteTime": {
     "end_time": "2020-09-20T16:59:35.241783Z",
     "start_time": "2020-09-20T16:59:35.229958Z"
    }
   },
   "outputs": [
    {
     "data": {
      "text/plain": [
       "datetime.date(2011, 10, 14)"
      ]
     },
     "execution_count": 8,
     "metadata": {},
     "output_type": "execute_result"
    }
   ],
   "source": [
    "start_date = date(2011, 9, 15)\n",
    "end_date = start_date + relativedelta(months=1)\n",
    "roll_day(end_date, holidays_target2, Roll_Convention.MODIFIED_FOLLOWING_BIMONTHLY)"
   ]
  },
  {
   "cell_type": "code",
   "execution_count": 9,
   "metadata": {
    "ExecuteTime": {
     "end_time": "2020-09-20T16:59:35.254801Z",
     "start_time": "2020-09-20T16:59:35.246221Z"
    }
   },
   "outputs": [
    {
     "data": {
      "text/plain": [
       "datetime.date(2011, 10, 17)"
      ]
     },
     "execution_count": 9,
     "metadata": {},
     "output_type": "execute_result"
    }
   ],
   "source": [
    "start_date = date(2011, 9, 15)\n",
    "end_date = start_date + relativedelta(months=1)\n",
    "roll_day(end_date, holidays_target2, Roll_Convention.FOLLOWING)"
   ]
  },
  {
   "cell_type": "code",
   "execution_count": 10,
   "metadata": {
    "ExecuteTime": {
     "end_time": "2020-09-20T16:59:35.271474Z",
     "start_time": "2020-09-20T16:59:35.256799Z"
    }
   },
   "outputs": [
    {
     "data": {
      "text/plain": [
       "datetime.date(2011, 3, 31)"
      ]
     },
     "execution_count": 10,
     "metadata": {},
     "output_type": "execute_result"
    }
   ],
   "source": [
    "start_date = date(2011, 2, 28)\n",
    "end_date = start_date + relativedelta(months=1)\n",
    "roll_day(end_date, holidays_target2, Roll_Convention.MODIFIED_FOLLOWING_EOM, start_date)"
   ]
  },
  {
   "cell_type": "code",
   "execution_count": 11,
   "metadata": {
    "ExecuteTime": {
     "end_time": "2020-09-20T16:59:35.286955Z",
     "start_time": "2020-09-20T16:59:35.274467Z"
    }
   },
   "outputs": [
    {
     "data": {
      "text/plain": [
       "datetime.date(2011, 5, 31)"
      ]
     },
     "execution_count": 11,
     "metadata": {},
     "output_type": "execute_result"
    }
   ],
   "source": [
    "start_date = date(2011, 4, 29)\n",
    "end_date = start_date + relativedelta(months=1)\n",
    "roll_day(end_date, holidays_target2, Roll_Convention.MODIFIED_FOLLOWING_EOM, start_date)"
   ]
  },
  {
   "cell_type": "code",
   "execution_count": 12,
   "metadata": {
    "ExecuteTime": {
     "end_time": "2020-09-20T16:59:35.304660Z",
     "start_time": "2020-09-20T16:59:35.288950Z"
    }
   },
   "outputs": [
    {
     "data": {
      "text/plain": [
       "datetime.date(2012, 3, 28)"
      ]
     },
     "execution_count": 12,
     "metadata": {},
     "output_type": "execute_result"
    }
   ],
   "source": [
    "start_date = date(2012, 2, 28)\n",
    "end_date = start_date + relativedelta(months=1)\n",
    "roll_day(end_date, holidays_target2, Roll_Convention.MODIFIED_FOLLOWING_EOM, start_date)"
   ]
  },
  {
   "cell_type": "markdown",
   "metadata": {
    "ExecuteTime": {
     "end_time": "2020-09-19T20:58:12.580622Z",
     "start_time": "2020-09-19T20:58:12.562419Z"
    }
   },
   "source": [
    "# Own Tests\n",
    "These test were created to provide a more extensive coverage."
   ]
  },
  {
   "cell_type": "code",
   "execution_count": 13,
   "metadata": {
    "ExecuteTime": {
     "end_time": "2020-09-20T16:59:35.313960Z",
     "start_time": "2020-09-20T16:59:35.306656Z"
    }
   },
   "outputs": [],
   "source": [
    "holidays_de = holidays.DE(years=1997)\n",
    "def weekday(n):\n",
    "    name = {\n",
    "        1: 'Monday',\n",
    "        2: 'Tuesday',\n",
    "        3: 'Wednesday',\n",
    "        4: 'Thursday',\n",
    "        5: 'Friday',\n",
    "        6: 'Saturday',\n",
    "        7: 'Sunday'\n",
    "    }\n",
    "    return name.get(n, 'weekday(' + str(n) + ') is an invalid day of the week!')"
   ]
  },
  {
   "cell_type": "code",
   "execution_count": 14,
   "metadata": {
    "ExecuteTime": {
     "end_time": "2020-09-20T16:59:35.336885Z",
     "start_time": "2020-09-20T16:59:35.315292Z"
    }
   },
   "outputs": [
    {
     "name": "stdout",
     "output_type": "stream",
     "text": [
      "Wednesday 1997-01-01 Neujahr\n",
      "Friday    1997-03-28 Karfreitag\n",
      "Monday    1997-03-31 Ostermontag\n",
      "Thursday  1997-05-01 Erster Mai\n",
      "Thursday  1997-05-08 Christi Himmelfahrt\n",
      "Monday    1997-05-19 Pfingstmontag\n",
      "Friday    1997-10-03 Tag der Deutschen Einheit\n",
      "Thursday  1997-12-25 Erster Weihnachtstag\n",
      "Friday    1997-12-26 Zweiter Weihnachtstag\n"
     ]
    }
   ],
   "source": [
    "for holiday_date, holiday_name in sorted(holidays_de.items()):\n",
    "    print('{:9s} {} {}'.format(weekday(holiday_date.isoweekday()), holiday_date, holiday_name))"
   ]
  },
  {
   "cell_type": "code",
   "execution_count": 15,
   "metadata": {
    "ExecuteTime": {
     "end_time": "2020-09-20T16:59:35.353459Z",
     "start_time": "2020-09-20T16:59:35.338881Z"
    }
   },
   "outputs": [],
   "source": [
    "roll_conventions = [roll_convention.value for roll_convention in Roll_Convention]\n",
    "roll_conventions.pop(2)  # remove MODIFIED_FOLLOWING_EOM as it needs a start date\n",
    "new_order = [6, 0, 1, 2, 5, 3, 4]\n",
    "roll_conventions = [roll_conventions[i] for i in new_order]"
   ]
  },
  {
   "cell_type": "code",
   "execution_count": 16,
   "metadata": {
    "ExecuteTime": {
     "end_time": "2020-09-20T16:59:35.371056Z",
     "start_time": "2020-09-20T16:59:35.355454Z"
    }
   },
   "outputs": [
    {
     "name": "stdout",
     "output_type": "stream",
     "text": [
      "Wednesday 1997-05-07 kein Feiertag\n",
      "Unadjusted                  : 1997-05-07 => 1997-05-07\n",
      "Following                   : 1997-05-07 => 1997-05-07\n",
      "ModifiedFollowing           : 1997-05-07 => 1997-05-07\n",
      "ModifiedFollowingBimonthly  : 1997-05-07 => 1997-05-07\n",
      "Nearest                     : 1997-05-07 => 1997-05-07\n",
      "Preceding                   : 1997-05-07 => 1997-05-07\n",
      "ModifiedPreceding           : 1997-05-07 => 1997-05-07\n",
      "Thursday  1997-05-08 Feiertag!\n",
      "Unadjusted                  : 1997-05-08 => 1997-05-08\n",
      "Following                   : 1997-05-08 => 1997-05-09\n",
      "ModifiedFollowing           : 1997-05-08 => 1997-05-09\n",
      "ModifiedFollowingBimonthly  : 1997-05-08 => 1997-05-09\n",
      "Nearest                     : 1997-05-08 => 1997-05-09\n",
      "Preceding                   : 1997-05-08 => 1997-05-07\n",
      "ModifiedPreceding           : 1997-05-08 => 1997-05-07\n",
      "Friday    1997-05-09 kein Feiertag\n",
      "Unadjusted                  : 1997-05-09 => 1997-05-09\n",
      "Following                   : 1997-05-09 => 1997-05-09\n",
      "ModifiedFollowing           : 1997-05-09 => 1997-05-09\n",
      "ModifiedFollowingBimonthly  : 1997-05-09 => 1997-05-09\n",
      "Nearest                     : 1997-05-09 => 1997-05-09\n",
      "Preceding                   : 1997-05-09 => 1997-05-09\n",
      "ModifiedPreceding           : 1997-05-09 => 1997-05-09\n"
     ]
    }
   ],
   "source": [
    "test_dates = [date(1997, 5, 8) + relativedelta(days=n) for n in range(-1, 2)]\n",
    "for test_date in test_dates:\n",
    "    if test_date in holidays_de:\n",
    "        is_holiday = 'Feiertag!'\n",
    "    else:\n",
    "        is_holiday = 'kein Feiertag'\n",
    "    print('{:9s} {} {}'.format(weekday(test_date.isoweekday()), test_date, is_holiday))\n",
    "    for roll_convention in roll_conventions:\n",
    "        print('{:28s}: {} => {}'.format(roll_convention, test_date, roll_day(test_date, holidays_de, roll_convention)))"
   ]
  },
  {
   "cell_type": "code",
   "execution_count": 17,
   "metadata": {
    "ExecuteTime": {
     "end_time": "2020-09-20T16:59:35.388559Z",
     "start_time": "2020-09-20T16:59:35.374104Z"
    }
   },
   "outputs": [
    {
     "name": "stdout",
     "output_type": "stream",
     "text": [
      "Wednesday 1997-04-30 kein Feiertag\n",
      "Unadjusted                  : 1997-04-30 => 1997-04-30\n",
      "Following                   : 1997-04-30 => 1997-04-30\n",
      "ModifiedFollowing           : 1997-04-30 => 1997-04-30\n",
      "ModifiedFollowingBimonthly  : 1997-04-30 => 1997-04-30\n",
      "Nearest                     : 1997-04-30 => 1997-04-30\n",
      "Preceding                   : 1997-04-30 => 1997-04-30\n",
      "ModifiedPreceding           : 1997-04-30 => 1997-04-30\n",
      "Thursday  1997-05-01 Feiertag!\n",
      "Unadjusted                  : 1997-05-01 => 1997-05-01\n",
      "Following                   : 1997-05-01 => 1997-05-02\n",
      "ModifiedFollowing           : 1997-05-01 => 1997-05-02\n",
      "ModifiedFollowingBimonthly  : 1997-05-01 => 1997-05-02\n",
      "Nearest                     : 1997-05-01 => 1997-05-02\n",
      "Preceding                   : 1997-05-01 => 1997-04-30\n",
      "ModifiedPreceding           : 1997-05-01 => 1997-05-02\n",
      "Friday    1997-05-02 kein Feiertag\n",
      "Unadjusted                  : 1997-05-02 => 1997-05-02\n",
      "Following                   : 1997-05-02 => 1997-05-02\n",
      "ModifiedFollowing           : 1997-05-02 => 1997-05-02\n",
      "ModifiedFollowingBimonthly  : 1997-05-02 => 1997-05-02\n",
      "Nearest                     : 1997-05-02 => 1997-05-02\n",
      "Preceding                   : 1997-05-02 => 1997-05-02\n",
      "ModifiedPreceding           : 1997-05-02 => 1997-05-02\n"
     ]
    }
   ],
   "source": [
    "test_dates = [date(1997, 5, 1) + relativedelta(days=n) for n in range(-1, 2)]\n",
    "for test_date in test_dates:\n",
    "    if test_date in holidays_de:\n",
    "        is_holiday = 'Feiertag!'\n",
    "    else:\n",
    "        is_holiday = 'kein Feiertag'\n",
    "    print('{:9s} {} {}'.format(weekday(test_date.isoweekday()), test_date, is_holiday))\n",
    "    for roll_convention in roll_conventions:\n",
    "        print('{:28s}: {} => {}'.format(roll_convention, test_date, roll_day(test_date, holidays_de, roll_convention)))"
   ]
  },
  {
   "cell_type": "code",
   "execution_count": 18,
   "metadata": {
    "ExecuteTime": {
     "end_time": "2020-09-20T16:59:35.406282Z",
     "start_time": "2020-09-20T16:59:35.390553Z"
    }
   },
   "outputs": [
    {
     "name": "stdout",
     "output_type": "stream",
     "text": [
      "Friday    1997-07-04 kein Feiertag\n",
      "Unadjusted                  : 1997-07-04 => 1997-07-04\n",
      "Following                   : 1997-07-04 => 1997-07-04\n",
      "ModifiedFollowing           : 1997-07-04 => 1997-07-04\n",
      "ModifiedFollowingBimonthly  : 1997-07-04 => 1997-07-04\n",
      "Nearest                     : 1997-07-04 => 1997-07-04\n",
      "Preceding                   : 1997-07-04 => 1997-07-04\n",
      "ModifiedPreceding           : 1997-07-04 => 1997-07-04\n",
      "Saturday  1997-07-05 kein Feiertag\n",
      "Unadjusted                  : 1997-07-05 => 1997-07-05\n",
      "Following                   : 1997-07-05 => 1997-07-07\n",
      "ModifiedFollowing           : 1997-07-05 => 1997-07-07\n",
      "ModifiedFollowingBimonthly  : 1997-07-05 => 1997-07-07\n",
      "Nearest                     : 1997-07-05 => 1997-07-04\n",
      "Preceding                   : 1997-07-05 => 1997-07-04\n",
      "ModifiedPreceding           : 1997-07-05 => 1997-07-04\n",
      "Sunday    1997-07-06 kein Feiertag\n",
      "Unadjusted                  : 1997-07-06 => 1997-07-06\n",
      "Following                   : 1997-07-06 => 1997-07-07\n",
      "ModifiedFollowing           : 1997-07-06 => 1997-07-07\n",
      "ModifiedFollowingBimonthly  : 1997-07-06 => 1997-07-07\n",
      "Nearest                     : 1997-07-06 => 1997-07-07\n",
      "Preceding                   : 1997-07-06 => 1997-07-04\n",
      "ModifiedPreceding           : 1997-07-06 => 1997-07-04\n",
      "Monday    1997-07-07 kein Feiertag\n",
      "Unadjusted                  : 1997-07-07 => 1997-07-07\n",
      "Following                   : 1997-07-07 => 1997-07-07\n",
      "ModifiedFollowing           : 1997-07-07 => 1997-07-07\n",
      "ModifiedFollowingBimonthly  : 1997-07-07 => 1997-07-07\n",
      "Nearest                     : 1997-07-07 => 1997-07-07\n",
      "Preceding                   : 1997-07-07 => 1997-07-07\n",
      "ModifiedPreceding           : 1997-07-07 => 1997-07-07\n"
     ]
    }
   ],
   "source": [
    "test_dates = [date(1997, 7, 5) + relativedelta(days=n) for n in range(-1, 3)]\n",
    "for test_date in test_dates:\n",
    "    if test_date in holidays_de:\n",
    "        is_holiday = 'Feiertag!'\n",
    "    else:\n",
    "        is_holiday = 'kein Feiertag'\n",
    "    print('{:9s} {} {}'.format(weekday(test_date.isoweekday()), test_date, is_holiday))\n",
    "    for roll_convention in roll_conventions:\n",
    "        print('{:28s}: {} => {}'.format(roll_convention, test_date, roll_day(test_date, holidays_de, roll_convention)))"
   ]
  },
  {
   "cell_type": "code",
   "execution_count": 19,
   "metadata": {
    "ExecuteTime": {
     "end_time": "2020-09-20T16:59:35.424020Z",
     "start_time": "2020-09-20T16:59:35.408295Z"
    }
   },
   "outputs": [
    {
     "name": "stdout",
     "output_type": "stream",
     "text": [
      "Friday    1997-02-14 kein Feiertag\n",
      "Unadjusted                  : 1997-02-14 => 1997-02-14\n",
      "Following                   : 1997-02-14 => 1997-02-14\n",
      "ModifiedFollowing           : 1997-02-14 => 1997-02-14\n",
      "ModifiedFollowingBimonthly  : 1997-02-14 => 1997-02-14\n",
      "Nearest                     : 1997-02-14 => 1997-02-14\n",
      "Preceding                   : 1997-02-14 => 1997-02-14\n",
      "ModifiedPreceding           : 1997-02-14 => 1997-02-14\n",
      "Saturday  1997-02-15 kein Feiertag\n",
      "Unadjusted                  : 1997-02-15 => 1997-02-15\n",
      "Following                   : 1997-02-15 => 1997-02-17\n",
      "ModifiedFollowing           : 1997-02-15 => 1997-02-17\n",
      "ModifiedFollowingBimonthly  : 1997-02-15 => 1997-02-14\n",
      "Nearest                     : 1997-02-15 => 1997-02-14\n",
      "Preceding                   : 1997-02-15 => 1997-02-14\n",
      "ModifiedPreceding           : 1997-02-15 => 1997-02-14\n",
      "Sunday    1997-02-16 kein Feiertag\n",
      "Unadjusted                  : 1997-02-16 => 1997-02-16\n",
      "Following                   : 1997-02-16 => 1997-02-17\n",
      "ModifiedFollowing           : 1997-02-16 => 1997-02-17\n",
      "ModifiedFollowingBimonthly  : 1997-02-16 => 1997-02-17\n",
      "Nearest                     : 1997-02-16 => 1997-02-17\n",
      "Preceding                   : 1997-02-16 => 1997-02-14\n",
      "ModifiedPreceding           : 1997-02-16 => 1997-02-14\n",
      "Monday    1997-02-17 kein Feiertag\n",
      "Unadjusted                  : 1997-02-17 => 1997-02-17\n",
      "Following                   : 1997-02-17 => 1997-02-17\n",
      "ModifiedFollowing           : 1997-02-17 => 1997-02-17\n",
      "ModifiedFollowingBimonthly  : 1997-02-17 => 1997-02-17\n",
      "Nearest                     : 1997-02-17 => 1997-02-17\n",
      "Preceding                   : 1997-02-17 => 1997-02-17\n",
      "ModifiedPreceding           : 1997-02-17 => 1997-02-17\n"
     ]
    }
   ],
   "source": [
    "test_dates = [date(1997, 2, 15) + relativedelta(days=n) for n in range(-1, 3)]\n",
    "for test_date in test_dates:\n",
    "    if test_date in holidays_de:\n",
    "        is_holiday = 'Feiertag!'\n",
    "    else:\n",
    "        is_holiday = 'kein Feiertag'\n",
    "    print('{:9s} {} {}'.format(weekday(test_date.isoweekday()), test_date, is_holiday))\n",
    "    for roll_convention in roll_conventions:\n",
    "        print('{:28s}: {} => {}'.format(roll_convention, test_date, roll_day(test_date, holidays_de, roll_convention)))"
   ]
  },
  {
   "cell_type": "code",
   "execution_count": 20,
   "metadata": {
    "ExecuteTime": {
     "end_time": "2020-09-20T16:59:35.441501Z",
     "start_time": "2020-09-20T16:59:35.426016Z"
    }
   },
   "outputs": [
    {
     "name": "stdout",
     "output_type": "stream",
     "text": [
      "Friday    1997-05-16 kein Feiertag\n",
      "Unadjusted                  : 1997-05-16 => 1997-05-16\n",
      "Following                   : 1997-05-16 => 1997-05-16\n",
      "ModifiedFollowing           : 1997-05-16 => 1997-05-16\n",
      "ModifiedFollowingBimonthly  : 1997-05-16 => 1997-05-16\n",
      "Nearest                     : 1997-05-16 => 1997-05-16\n",
      "Preceding                   : 1997-05-16 => 1997-05-16\n",
      "ModifiedPreceding           : 1997-05-16 => 1997-05-16\n",
      "Saturday  1997-05-17 kein Feiertag\n",
      "Unadjusted                  : 1997-05-17 => 1997-05-17\n",
      "Following                   : 1997-05-17 => 1997-05-20\n",
      "ModifiedFollowing           : 1997-05-17 => 1997-05-20\n",
      "ModifiedFollowingBimonthly  : 1997-05-17 => 1997-05-20\n",
      "Nearest                     : 1997-05-17 => 1997-05-16\n",
      "Preceding                   : 1997-05-17 => 1997-05-16\n",
      "ModifiedPreceding           : 1997-05-17 => 1997-05-16\n",
      "Sunday    1997-05-18 kein Feiertag\n",
      "Unadjusted                  : 1997-05-18 => 1997-05-18\n",
      "Following                   : 1997-05-18 => 1997-05-20\n",
      "ModifiedFollowing           : 1997-05-18 => 1997-05-20\n",
      "ModifiedFollowingBimonthly  : 1997-05-18 => 1997-05-20\n",
      "Nearest                     : 1997-05-18 => 1997-05-20\n",
      "Preceding                   : 1997-05-18 => 1997-05-16\n",
      "ModifiedPreceding           : 1997-05-18 => 1997-05-16\n",
      "Monday    1997-05-19 Feiertag!\n",
      "Unadjusted                  : 1997-05-19 => 1997-05-19\n",
      "Following                   : 1997-05-19 => 1997-05-20\n",
      "ModifiedFollowing           : 1997-05-19 => 1997-05-20\n",
      "ModifiedFollowingBimonthly  : 1997-05-19 => 1997-05-20\n",
      "Nearest                     : 1997-05-19 => 1997-05-20\n",
      "Preceding                   : 1997-05-19 => 1997-05-16\n",
      "ModifiedPreceding           : 1997-05-19 => 1997-05-16\n",
      "Tuesday   1997-05-20 kein Feiertag\n",
      "Unadjusted                  : 1997-05-20 => 1997-05-20\n",
      "Following                   : 1997-05-20 => 1997-05-20\n",
      "ModifiedFollowing           : 1997-05-20 => 1997-05-20\n",
      "ModifiedFollowingBimonthly  : 1997-05-20 => 1997-05-20\n",
      "Nearest                     : 1997-05-20 => 1997-05-20\n",
      "Preceding                   : 1997-05-20 => 1997-05-20\n",
      "ModifiedPreceding           : 1997-05-20 => 1997-05-20\n"
     ]
    }
   ],
   "source": [
    "test_dates = [date(1997, 5, 17) + relativedelta(days=n) for n in range(-1, 4)]\n",
    "for test_date in test_dates:\n",
    "    if test_date in holidays_de:\n",
    "        is_holiday = 'Feiertag!'\n",
    "    else:\n",
    "        is_holiday = 'kein Feiertag'\n",
    "    print('{:9s} {} {}'.format(weekday(test_date.isoweekday()), test_date, is_holiday))\n",
    "    for roll_convention in roll_conventions:\n",
    "        print('{:28s}: {} => {}'.format(roll_convention, test_date, roll_day(test_date, holidays_de, roll_convention)))"
   ]
  },
  {
   "cell_type": "code",
   "execution_count": 21,
   "metadata": {
    "ExecuteTime": {
     "end_time": "2020-09-20T16:59:35.452714Z",
     "start_time": "2020-09-20T16:59:35.443496Z"
    }
   },
   "outputs": [
    {
     "name": "stdout",
     "output_type": "stream",
     "text": [
      "Wednesday 1997-12-24 kein Feiertag\n",
      "Unadjusted                  : 1997-12-24 => 1997-12-24\n",
      "Following                   : 1997-12-24 => 1997-12-24\n",
      "ModifiedFollowing           : 1997-12-24 => 1997-12-24\n",
      "ModifiedFollowingBimonthly  : 1997-12-24 => 1997-12-24\n",
      "Nearest                     : 1997-12-24 => 1997-12-24\n",
      "Preceding                   : 1997-12-24 => 1997-12-24\n",
      "ModifiedPreceding           : 1997-12-24 => 1997-12-24\n",
      "Thursday  1997-12-25 Feiertag!\n",
      "Unadjusted                  : 1997-12-25 => 1997-12-25\n",
      "Following                   : 1997-12-25 => 1997-12-29\n",
      "ModifiedFollowing           : 1997-12-25 => 1997-12-29\n",
      "ModifiedFollowingBimonthly  : 1997-12-25 => 1997-12-29\n",
      "Nearest                     : 1997-12-25 => 1997-12-24\n",
      "Preceding                   : 1997-12-25 => 1997-12-24\n",
      "ModifiedPreceding           : 1997-12-25 => 1997-12-24\n",
      "Friday    1997-12-26 Feiertag!\n",
      "Unadjusted                  : 1997-12-26 => 1997-12-26\n",
      "Following                   : 1997-12-26 => 1997-12-29\n",
      "ModifiedFollowing           : 1997-12-26 => 1997-12-29\n",
      "ModifiedFollowingBimonthly  : 1997-12-26 => 1997-12-29\n",
      "Nearest                     : 1997-12-26 => 1997-12-24\n",
      "Preceding                   : 1997-12-26 => 1997-12-24\n",
      "ModifiedPreceding           : 1997-12-26 => 1997-12-24\n",
      "Saturday  1997-12-27 kein Feiertag\n",
      "Unadjusted                  : 1997-12-27 => 1997-12-27\n",
      "Following                   : 1997-12-27 => 1997-12-29\n",
      "ModifiedFollowing           : 1997-12-27 => 1997-12-29\n",
      "ModifiedFollowingBimonthly  : 1997-12-27 => 1997-12-29\n",
      "Nearest                     : 1997-12-27 => 1997-12-29\n",
      "Preceding                   : 1997-12-27 => 1997-12-24\n",
      "ModifiedPreceding           : 1997-12-27 => 1997-12-24\n",
      "Sunday    1997-12-28 kein Feiertag\n",
      "Unadjusted                  : 1997-12-28 => 1997-12-28\n",
      "Following                   : 1997-12-28 => 1997-12-29\n",
      "ModifiedFollowing           : 1997-12-28 => 1997-12-29\n",
      "ModifiedFollowingBimonthly  : 1997-12-28 => 1997-12-29\n",
      "Nearest                     : 1997-12-28 => 1997-12-29\n",
      "Preceding                   : 1997-12-28 => 1997-12-24\n",
      "ModifiedPreceding           : 1997-12-28 => 1997-12-24\n",
      "Monday    1997-12-29 kein Feiertag\n",
      "Unadjusted                  : 1997-12-29 => 1997-12-29\n",
      "Following                   : 1997-12-29 => 1997-12-29\n",
      "ModifiedFollowing           : 1997-12-29 => 1997-12-29\n",
      "ModifiedFollowingBimonthly  : 1997-12-29 => 1997-12-29\n",
      "Nearest                     : 1997-12-29 => 1997-12-29\n",
      "Preceding                   : 1997-12-29 => 1997-12-29\n",
      "ModifiedPreceding           : 1997-12-29 => 1997-12-29\n"
     ]
    }
   ],
   "source": [
    "test_dates = [date(1997, 12, 25) + relativedelta(days=n) for n in range(-1, 5)]\n",
    "for test_date in test_dates:\n",
    "    if test_date in holidays_de:\n",
    "        is_holiday = 'Feiertag!'\n",
    "    else:\n",
    "        is_holiday = 'kein Feiertag'\n",
    "    print('{:9s} {} {}'.format(weekday(test_date.isoweekday()), test_date, is_holiday))\n",
    "    for roll_convention in roll_conventions:\n",
    "        print('{:28s}: {} => {}'.format(roll_convention, test_date, roll_day(test_date, holidays_de, roll_convention)))"
   ]
  },
  {
   "cell_type": "code",
   "execution_count": 22,
   "metadata": {
    "ExecuteTime": {
     "end_time": "2020-09-20T16:59:35.468295Z",
     "start_time": "2020-09-20T16:59:35.454702Z"
    }
   },
   "outputs": [
    {
     "name": "stdout",
     "output_type": "stream",
     "text": [
      "Thursday  1997-03-27 kein Feiertag\n",
      "Unadjusted                  : 1997-03-27 => 1997-03-27\n",
      "Following                   : 1997-03-27 => 1997-03-27\n",
      "ModifiedFollowing           : 1997-03-27 => 1997-03-27\n",
      "ModifiedFollowingBimonthly  : 1997-03-27 => 1997-03-27\n",
      "Nearest                     : 1997-03-27 => 1997-03-27\n",
      "Preceding                   : 1997-03-27 => 1997-03-27\n",
      "ModifiedPreceding           : 1997-03-27 => 1997-03-27\n",
      "Friday    1997-03-28 Feiertag!\n",
      "Unadjusted                  : 1997-03-28 => 1997-03-28\n",
      "Following                   : 1997-03-28 => 1997-04-01\n",
      "ModifiedFollowing           : 1997-03-28 => 1997-03-27\n",
      "ModifiedFollowingBimonthly  : 1997-03-28 => 1997-03-27\n",
      "Nearest                     : 1997-03-28 => 1997-03-27\n",
      "Preceding                   : 1997-03-28 => 1997-03-27\n",
      "ModifiedPreceding           : 1997-03-28 => 1997-03-27\n",
      "Saturday  1997-03-29 kein Feiertag\n",
      "Unadjusted                  : 1997-03-29 => 1997-03-29\n",
      "Following                   : 1997-03-29 => 1997-04-01\n",
      "ModifiedFollowing           : 1997-03-29 => 1997-03-27\n",
      "ModifiedFollowingBimonthly  : 1997-03-29 => 1997-03-27\n",
      "Nearest                     : 1997-03-29 => 1997-03-27\n",
      "Preceding                   : 1997-03-29 => 1997-03-27\n",
      "ModifiedPreceding           : 1997-03-29 => 1997-03-27\n",
      "Sunday    1997-03-30 kein Feiertag\n",
      "Unadjusted                  : 1997-03-30 => 1997-03-30\n",
      "Following                   : 1997-03-30 => 1997-04-01\n",
      "ModifiedFollowing           : 1997-03-30 => 1997-03-27\n",
      "ModifiedFollowingBimonthly  : 1997-03-30 => 1997-03-27\n",
      "Nearest                     : 1997-03-30 => 1997-04-01\n",
      "Preceding                   : 1997-03-30 => 1997-03-27\n",
      "ModifiedPreceding           : 1997-03-30 => 1997-03-27\n",
      "Monday    1997-03-31 Feiertag!\n",
      "Unadjusted                  : 1997-03-31 => 1997-03-31\n",
      "Following                   : 1997-03-31 => 1997-04-01\n",
      "ModifiedFollowing           : 1997-03-31 => 1997-03-27\n",
      "ModifiedFollowingBimonthly  : 1997-03-31 => 1997-03-27\n",
      "Nearest                     : 1997-03-31 => 1997-04-01\n",
      "Preceding                   : 1997-03-31 => 1997-03-27\n",
      "ModifiedPreceding           : 1997-03-31 => 1997-03-27\n",
      "Tuesday   1997-04-01 kein Feiertag\n",
      "Unadjusted                  : 1997-04-01 => 1997-04-01\n",
      "Following                   : 1997-04-01 => 1997-04-01\n",
      "ModifiedFollowing           : 1997-04-01 => 1997-04-01\n",
      "ModifiedFollowingBimonthly  : 1997-04-01 => 1997-04-01\n",
      "Nearest                     : 1997-04-01 => 1997-04-01\n",
      "Preceding                   : 1997-04-01 => 1997-04-01\n",
      "ModifiedPreceding           : 1997-04-01 => 1997-04-01\n"
     ]
    }
   ],
   "source": [
    "test_dates = [date(1997, 3, 28) + relativedelta(days=n) for n in range(-1, 5)]\n",
    "for test_date in test_dates:\n",
    "    if test_date in holidays_de:\n",
    "        is_holiday = 'Feiertag!'\n",
    "    else:\n",
    "        is_holiday = 'kein Feiertag'\n",
    "    print('{:9s} {} {}'.format(weekday(test_date.isoweekday()), test_date, is_holiday))\n",
    "    for roll_convention in roll_conventions:\n",
    "        print('{:28s}: {} => {}'.format(roll_convention, test_date, roll_day(test_date, holidays_de, roll_convention)))"
   ]
  },
  {
   "cell_type": "code",
   "execution_count": 23,
   "metadata": {
    "ExecuteTime": {
     "end_time": "2020-09-20T16:59:35.492684Z",
     "start_time": "2020-09-20T16:59:35.474450Z"
    }
   },
   "outputs": [
    {
     "name": "stdout",
     "output_type": "stream",
     "text": [
      "Thursday  1997-01-30 - Friday    1997-02-28\n",
      "Friday    1997-01-31 - Friday    1997-02-28\n",
      "Thursday  1997-02-27 - Thursday  1997-03-27\n",
      "Friday    1997-02-28 - Thursday  1997-03-27\n",
      "Wednesday 1997-03-26 - Monday    1997-04-28\n",
      "Thursday  1997-03-27 - Wednesday 1997-04-30\n",
      "Tuesday   1997-04-29 - Thursday  1997-05-29\n",
      "Wednesday 1997-04-30 - Friday    1997-05-30\n",
      "Thursday  1997-05-29 - Monday    1997-06-30\n",
      "Friday    1997-05-30 - Monday    1997-06-30\n",
      "Sunday    1997-06-29 - Tuesday   1997-07-29\n",
      "Monday    1997-06-30 - Thursday  1997-07-31\n",
      "Wednesday 1997-07-30 - Friday    1997-08-29\n",
      "Thursday  1997-07-31 - Friday    1997-08-29\n",
      "Thursday  1997-08-28 - Monday    1997-09-29\n",
      "Friday    1997-08-29 - Tuesday   1997-09-30\n",
      "Monday    1997-09-29 - Wednesday 1997-10-29\n",
      "Tuesday   1997-09-30 - Friday    1997-10-31\n",
      "Thursday  1997-10-30 - Friday    1997-11-28\n",
      "Friday    1997-10-31 - Friday    1997-11-28\n",
      "Thursday  1997-11-27 - Monday    1997-12-29\n",
      "Friday    1997-11-28 - Wednesday 1997-12-31\n"
     ]
    }
   ],
   "source": [
    "start_dates = [date(1997, 1, 30), date(1997, 1, 31), date(1997, 2, 27), date(1997, 2, 28), date(1997, 3, 26), date(1997, 3, 27),\n",
    "               date(1997, 4, 29), date(1997, 4, 30), date(1997, 5, 29), date(1997, 5, 30), date(1997, 6, 29), date(1997, 6, 30),\n",
    "               date(1997, 7, 30), date(1997, 7, 31), date(1997, 8, 28), date(1997, 8, 29), date(1997, 9, 29), date(1997, 9, 30),\n",
    "               date(1997, 10, 30), date(1997, 10, 31), date(1997, 11, 27), date(1997, 11, 28)]\n",
    "for start_date in start_dates:\n",
    "    end_date = start_date + relativedelta(months=1)\n",
    "    end_date = roll_day(end_date, holidays_de, 'ModifiedFollowingEOM', start_date)\n",
    "    print('{:9s} {} - {:9s} {}'.format(weekday(start_date.isoweekday()), start_date, weekday(end_date.isoweekday()),\n",
    "                                       end_date))"
   ]
  }
 ],
 "metadata": {
  "kernelspec": {
   "display_name": "Python 3",
   "language": "python",
   "name": "python3"
  },
  "language_info": {
   "codemirror_mode": {
    "name": "ipython",
    "version": 3
   },
   "file_extension": ".py",
   "mimetype": "text/x-python",
   "name": "python",
   "nbconvert_exporter": "python",
   "pygments_lexer": "ipython3",
   "version": "3.7.6"
  },
  "toc": {
   "base_numbering": 1,
   "nav_menu": {},
   "number_sections": true,
   "sideBar": true,
   "skip_h1_title": false,
   "title_cell": "Table of Contents",
   "title_sidebar": "Contents",
   "toc_cell": false,
   "toc_position": {},
   "toc_section_display": true,
   "toc_window_display": false
  },
  "varInspector": {
   "cols": {
    "lenName": 16,
    "lenType": 16,
    "lenVar": 40
   },
   "kernels_config": {
    "python": {
     "delete_cmd_postfix": "",
     "delete_cmd_prefix": "del ",
     "library": "var_list.py",
     "varRefreshCmd": "print(var_dic_list())"
    },
    "r": {
     "delete_cmd_postfix": ") ",
     "delete_cmd_prefix": "rm(",
     "library": "var_list.r",
     "varRefreshCmd": "cat(var_dic_list()) "
    }
   },
   "types_to_exclude": [
    "module",
    "function",
    "builtin_function_or_method",
    "instance",
    "_Feature"
   ],
   "window_display": false
  }
 },
 "nbformat": 4,
 "nbformat_minor": 4
}
