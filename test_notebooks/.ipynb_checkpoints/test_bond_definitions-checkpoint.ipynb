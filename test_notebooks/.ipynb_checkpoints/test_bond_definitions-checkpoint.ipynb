{
 "cells": [
  {
   "cell_type": "code",
   "execution_count": 1,
   "metadata": {
    "ExecuteTime": {
     "end_time": "2020-09-25T12:12:13.572873Z",
     "start_time": "2020-09-25T12:12:11.469046Z"
    }
   },
   "outputs": [
    {
     "name": "stdout",
     "output_type": "stream",
     "text": [
      "Failed to load configuration file. Using default configs\n"
     ]
    }
   ],
   "source": [
    "from datetime import datetime, date\n",
    "from RiVaPy.instruments.specifications import FixedRateBond, FloatingRateNote, FixedToFloatingRateNote\n",
    "from RiVaPy.tools.enums import DayCounter, RollConvention, SecuritizationLevel"
   ]
  },
  {
   "cell_type": "markdown",
   "metadata": {},
   "source": [
    "# Fixed Rate Bond Example\n",
    "This fixed rate bond is based on the real world example [DE000CZ40NT7](https://www.commerzbank.com/media/aktionaere/emissionsprogramme/mtn_programme/finalterms_2/Final_Terms_MTN_924.pdf)."
   ]
  },
  {
   "cell_type": "code",
   "execution_count": 2,
   "metadata": {
    "ExecuteTime": {
     "end_time": "2020-09-25T12:12:13.603847Z",
     "start_time": "2020-09-25T12:12:13.575867Z"
    }
   },
   "outputs": [],
   "source": [
    "obj_id = 'DE000CZ40NT7'\n",
    "issue_date = date(2019, 3, 11)\n",
    "maturity_date = date(2024, 9, 11)\n",
    "coupon = 0.0125\n",
    "tenor = '1Y'\n",
    "backwards = True\n",
    "stub = True\n",
    "business_day_convention = RollConvention.FOLLOWING\n",
    "calendar = 'TAR'\n",
    "currency = 'EUR'\n",
    "notional = 100000\n",
    "issuer = 'Commerzbank'\n",
    "securitisation_level = SecuritizationLevel.NON_PREFERRED_SENIOR\n",
    "fixed_rate_bond = FixedRateBond.from_master_data(obj_id, issue_date, maturity_date, coupon, tenor, backwards, stub, \n",
    "                                                 business_day_convention, calendar, currency, notional, \n",
    "                                                 issuer, securitisation_level)"
   ]
  },
  {
   "cell_type": "code",
   "execution_count": 3,
   "metadata": {
    "ExecuteTime": {
     "end_time": "2020-09-25T12:12:13.634765Z",
     "start_time": "2020-09-25T12:12:13.607837Z"
    }
   },
   "outputs": [
    {
     "data": {
      "text/plain": [
       "[datetime.date(2019, 9, 11),\n",
       " datetime.date(2020, 9, 11),\n",
       " datetime.date(2021, 9, 13),\n",
       " datetime.date(2022, 9, 12),\n",
       " datetime.date(2023, 9, 11),\n",
       " datetime.date(2024, 9, 11)]"
      ]
     },
     "execution_count": 3,
     "metadata": {},
     "output_type": "execute_result"
    }
   ],
   "source": [
    "fixed_rate_bond.coupon_payment_dates"
   ]
  },
  {
   "cell_type": "code",
   "execution_count": 4,
   "metadata": {
    "ExecuteTime": {
     "end_time": "2020-09-25T12:12:13.649724Z",
     "start_time": "2020-09-25T12:12:13.637757Z"
    }
   },
   "outputs": [
    {
     "data": {
      "text/plain": [
       "[0.0125, 0.0125, 0.0125, 0.0125, 0.0125, 0.0125]"
      ]
     },
     "execution_count": 4,
     "metadata": {},
     "output_type": "execute_result"
    }
   ],
   "source": [
    "fixed_rate_bond.coupons"
   ]
  },
  {
   "cell_type": "markdown",
   "metadata": {},
   "source": [
    "# Floating Rate Note Example\n",
    "This floating rate note (FRN) is based on the real world example [DE000HLB3DU1](https://www.helaba-zertifikate.de/File/OpenPDF/DE000HLB3DU1/BD). <br>\n",
    "Note: Though the real world FRN has capped and floored coupons the example here doesn't exhibit this feature."
   ]
  },
  {
   "cell_type": "code",
   "execution_count": 5,
   "metadata": {
    "ExecuteTime": {
     "end_time": "2020-09-25T12:12:13.679644Z",
     "start_time": "2020-09-25T12:12:13.652717Z"
    }
   },
   "outputs": [],
   "source": [
    "obj_id = 'DE000HLB3DU1'\n",
    "issue_date = date(2016, 6, 23)  # TODO: fix missing settlement day (here two days)\n",
    "maturity_date = date(2024, 6, 27)\n",
    "tenor = '3M'\n",
    "backwards = True\n",
    "stub = False\n",
    "business_day_convention = RollConvention.FOLLOWING\n",
    "calendar = 'TAR'\n",
    "day_count_convention = DayCounter.ThirtyU360\n",
    "spread = 0.0\n",
    "reference_curve = 'EURIBOR_3M'  # Reuters EURIBOR01\n",
    "currency = 'EUR'\n",
    "notional = 1000\n",
    "issuer = 'Helaba'\n",
    "securitisation_level = SecuritizationLevel.NON_PREFERRED_SENIOR\n",
    "floating_rate_note = FloatingRateNote.from_master_data(obj_id, issue_date, maturity_date, tenor, backwards, stub, \n",
    "                                                       business_day_convention, calendar, day_count_convention, spread, \n",
    "                                                       reference_curve, currency, notional, issuer, securitisation_level)"
   ]
  },
  {
   "cell_type": "code",
   "execution_count": 6,
   "metadata": {
    "ExecuteTime": {
     "end_time": "2020-09-25T12:12:13.695603Z",
     "start_time": "2020-09-25T12:12:13.681641Z"
    }
   },
   "outputs": [
    {
     "name": "stdout",
     "output_type": "stream",
     "text": [
      "33\n"
     ]
    },
    {
     "data": {
      "text/plain": [
       "[datetime.date(2016, 6, 23),\n",
       " datetime.date(2016, 9, 27),\n",
       " datetime.date(2016, 12, 27),\n",
       " datetime.date(2017, 3, 27),\n",
       " datetime.date(2017, 6, 27),\n",
       " datetime.date(2017, 9, 27),\n",
       " datetime.date(2017, 12, 27),\n",
       " datetime.date(2018, 3, 27),\n",
       " datetime.date(2018, 6, 27),\n",
       " datetime.date(2018, 9, 27),\n",
       " datetime.date(2018, 12, 27),\n",
       " datetime.date(2019, 3, 27),\n",
       " datetime.date(2019, 6, 27),\n",
       " datetime.date(2019, 9, 27),\n",
       " datetime.date(2019, 12, 27),\n",
       " datetime.date(2020, 3, 27),\n",
       " datetime.date(2020, 6, 29),\n",
       " datetime.date(2020, 9, 28),\n",
       " datetime.date(2020, 12, 28),\n",
       " datetime.date(2021, 3, 29),\n",
       " datetime.date(2021, 6, 28),\n",
       " datetime.date(2021, 9, 27),\n",
       " datetime.date(2021, 12, 27),\n",
       " datetime.date(2022, 3, 28),\n",
       " datetime.date(2022, 6, 27),\n",
       " datetime.date(2022, 9, 27),\n",
       " datetime.date(2022, 12, 27),\n",
       " datetime.date(2023, 3, 27),\n",
       " datetime.date(2023, 6, 27),\n",
       " datetime.date(2023, 9, 27),\n",
       " datetime.date(2023, 12, 27),\n",
       " datetime.date(2024, 3, 27),\n",
       " datetime.date(2024, 6, 27)]"
      ]
     },
     "execution_count": 6,
     "metadata": {},
     "output_type": "execute_result"
    }
   ],
   "source": [
    "print(len(floating_rate_note.coupon_period_dates))\n",
    "floating_rate_note.coupon_period_dates"
   ]
  },
  {
   "cell_type": "code",
   "execution_count": 7,
   "metadata": {
    "ExecuteTime": {
     "end_time": "2020-09-25T12:12:13.710575Z",
     "start_time": "2020-09-25T12:12:13.698595Z"
    }
   },
   "outputs": [
    {
     "data": {
      "text/plain": [
       "'30U360'"
      ]
     },
     "execution_count": 7,
     "metadata": {},
     "output_type": "execute_result"
    }
   ],
   "source": [
    "floating_rate_note.day_count_convention"
   ]
  },
  {
   "cell_type": "code",
   "execution_count": 8,
   "metadata": {
    "ExecuteTime": {
     "end_time": "2020-09-25T12:12:13.726524Z",
     "start_time": "2020-09-25T12:12:13.717543Z"
    }
   },
   "outputs": [
    {
     "name": "stdout",
     "output_type": "stream",
     "text": [
      "32\n"
     ]
    },
    {
     "data": {
      "text/plain": [
       "[0.0,\n",
       " 0.0,\n",
       " 0.0,\n",
       " 0.0,\n",
       " 0.0,\n",
       " 0.0,\n",
       " 0.0,\n",
       " 0.0,\n",
       " 0.0,\n",
       " 0.0,\n",
       " 0.0,\n",
       " 0.0,\n",
       " 0.0,\n",
       " 0.0,\n",
       " 0.0,\n",
       " 0.0,\n",
       " 0.0,\n",
       " 0.0,\n",
       " 0.0,\n",
       " 0.0,\n",
       " 0.0,\n",
       " 0.0,\n",
       " 0.0,\n",
       " 0.0,\n",
       " 0.0,\n",
       " 0.0,\n",
       " 0.0,\n",
       " 0.0,\n",
       " 0.0,\n",
       " 0.0,\n",
       " 0.0,\n",
       " 0.0]"
      ]
     },
     "execution_count": 8,
     "metadata": {},
     "output_type": "execute_result"
    }
   ],
   "source": [
    "print(len(floating_rate_note.spreads))\n",
    "floating_rate_note.spreads"
   ]
  },
  {
   "cell_type": "code",
   "execution_count": 9,
   "metadata": {
    "ExecuteTime": {
     "end_time": "2020-09-25T12:12:13.756442Z",
     "start_time": "2020-09-25T12:12:13.730509Z"
    }
   },
   "outputs": [
    {
     "data": {
      "text/plain": [
       "'EURIBOR_3M'"
      ]
     },
     "execution_count": 9,
     "metadata": {},
     "output_type": "execute_result"
    }
   ],
   "source": [
    "floating_rate_note.reference_curve"
   ]
  },
  {
   "cell_type": "markdown",
   "metadata": {},
   "source": [
    "# Fixed-to-Floating Rate Note Example\n",
    "This fixed-to-floating rate note is based on the real world example [XS1887493309](https://www.rns-pdf.londonstockexchange.com/rns/4018C_1-2018-9-28.pdf). <br>\n",
    "Note: The issuer call right is ignored below."
   ]
  },
  {
   "cell_type": "code",
   "execution_count": 10,
   "metadata": {
    "ExecuteTime": {
     "end_time": "2020-09-25T12:12:14.035767Z",
     "start_time": "2020-09-25T12:12:13.760435Z"
    }
   },
   "outputs": [
    {
     "ename": "TypeError",
     "evalue": "'USD' must be a list of type datetime or date!",
     "output_type": "error",
     "traceback": [
      "\u001b[1;31m---------------------------------------------------------------------------\u001b[0m",
      "\u001b[1;31mTypeError\u001b[0m                                 Traceback (most recent call last)",
      "\u001b[1;32m<ipython-input-10-222aebcb54a8>\u001b[0m in \u001b[0;36m<module>\u001b[1;34m\u001b[0m\n\u001b[0;32m     28\u001b[0m                                                                        \u001b[0mcalendar_float\u001b[0m\u001b[1;33m,\u001b[0m \u001b[0mday_count_convention\u001b[0m\u001b[1;33m,\u001b[0m \u001b[0mspread\u001b[0m\u001b[1;33m,\u001b[0m\u001b[1;33m\u001b[0m\u001b[1;33m\u001b[0m\u001b[0m\n\u001b[0;32m     29\u001b[0m                                                                        \u001b[0mreference_curve\u001b[0m\u001b[1;33m,\u001b[0m \u001b[0mcurrency\u001b[0m\u001b[1;33m,\u001b[0m \u001b[0mnotional\u001b[0m\u001b[1;33m,\u001b[0m \u001b[0missuer\u001b[0m\u001b[1;33m,\u001b[0m\u001b[1;33m\u001b[0m\u001b[1;33m\u001b[0m\u001b[0m\n\u001b[1;32m---> 30\u001b[1;33m                                                                        securitisation_level)\n\u001b[0m",
      "\u001b[1;32m~\\OneDrive - RIVACON\\PycharmProjects\\RiVaPy\\instruments\\specifications.py\u001b[0m in \u001b[0;36mfrom_master_data\u001b[1;34m(cls, obj_id, issue_date, fixed_to_float_date, maturity_date, coupon, tenor_fixed, tenor_float, backwards_fixed, backwards_float, stub_fixed, stub_float, business_day_convention_fixed, business_day_convention_float, calendar_fixed, calendar_float, day_count_convention, spread, reference_curve, currency, notional, issuer, securitisation_level)\u001b[0m\n\u001b[0;32m    480\u001b[0m                                        \u001b[0mfixed_rate_part\u001b[0m\u001b[1;33m.\u001b[0m\u001b[0mcoupons\u001b[0m\u001b[1;33m,\u001b[0m \u001b[0mfloating_rate_part\u001b[0m\u001b[1;33m.\u001b[0m\u001b[0mcoupon_period_dates\u001b[0m\u001b[1;33m,\u001b[0m\u001b[1;33m\u001b[0m\u001b[1;33m\u001b[0m\u001b[0m\n\u001b[0;32m    481\u001b[0m                                        \u001b[0mday_count_convention\u001b[0m\u001b[1;33m,\u001b[0m \u001b[0mfloating_rate_part\u001b[0m\u001b[1;33m.\u001b[0m\u001b[0mspreads\u001b[0m\u001b[1;33m,\u001b[0m \u001b[0mreference_curve\u001b[0m\u001b[1;33m,\u001b[0m \u001b[0mcurrency\u001b[0m\u001b[1;33m,\u001b[0m\u001b[1;33m\u001b[0m\u001b[1;33m\u001b[0m\u001b[0m\n\u001b[1;32m--> 482\u001b[1;33m                                        notional, issuer, securitisation_level)\n\u001b[0m",
      "\u001b[1;32m~\\OneDrive - RIVACON\\PycharmProjects\\RiVaPy\\instruments\\specifications.py\u001b[0m in \u001b[0;36m__init__\u001b[1;34m(self, obj_id, issue_date, maturity_date, coupon_payment_dates, coupons, coupon_period_dates, day_count_convention, spreads, reference_curve, currency, notional, issuer, securitisation_level)\u001b[0m\n\u001b[0;32m    375\u001b[0m         \"\"\"\n\u001b[0;32m    376\u001b[0m         FixedRateBond.__init__(self, obj_id, issue_date, maturity_date, coupon_payment_dates, coupons, currency,\n\u001b[1;32m--> 377\u001b[1;33m                                notional, issuer, securitisation_level)\n\u001b[0m\u001b[0;32m    378\u001b[0m         FloatingRateNote.__init__(self, obj_id, issue_date, maturity_date, coupon_period_dates, day_count_convention,\n\u001b[0;32m    379\u001b[0m                                   spreads, reference_curve, currency, notional, issuer, securitisation_level)\n",
      "\u001b[1;32m~\\OneDrive - RIVACON\\PycharmProjects\\RiVaPy\\instruments\\specifications.py\u001b[0m in \u001b[0;36m__init__\u001b[1;34m(self, obj_id, issue_date, maturity_date, coupon_payment_dates, coupons, currency, notional, issuer, securitisation_level)\u001b[0m\n\u001b[0;32m    128\u001b[0m             \u001b[0mcoupons\u001b[0m \u001b[1;33m(\u001b[0m\u001b[0mList\u001b[0m\u001b[1;33m[\u001b[0m\u001b[0mfloat\u001b[0m\u001b[1;33m]\u001b[0m\u001b[1;33m)\u001b[0m\u001b[1;33m:\u001b[0m \u001b[0mList\u001b[0m \u001b[0mof\u001b[0m \u001b[0mannualised\u001b[0m \u001b[0mcoupon\u001b[0m \u001b[0mamounts\u001b[0m \u001b[1;32mas\u001b[0m \u001b[0mfraction\u001b[0m \u001b[0mof\u001b[0m \u001b[0mnotional\u001b[0m\u001b[1;33m.\u001b[0m\u001b[1;33m\u001b[0m\u001b[1;33m\u001b[0m\u001b[0m\n\u001b[0;32m    129\u001b[0m         \"\"\"\n\u001b[1;32m--> 130\u001b[1;33m         \u001b[0msuper\u001b[0m\u001b[1;33m(\u001b[0m\u001b[1;33m)\u001b[0m\u001b[1;33m.\u001b[0m\u001b[0m__init__\u001b[0m\u001b[1;33m(\u001b[0m\u001b[0mobj_id\u001b[0m\u001b[1;33m,\u001b[0m \u001b[0missue_date\u001b[0m\u001b[1;33m,\u001b[0m \u001b[0mmaturity_date\u001b[0m\u001b[1;33m,\u001b[0m \u001b[0mcurrency\u001b[0m\u001b[1;33m,\u001b[0m \u001b[0mnotional\u001b[0m\u001b[1;33m,\u001b[0m \u001b[0missuer\u001b[0m\u001b[1;33m,\u001b[0m \u001b[0msecuritisation_level\u001b[0m\u001b[1;33m)\u001b[0m\u001b[1;33m\u001b[0m\u001b[1;33m\u001b[0m\u001b[0m\n\u001b[0m\u001b[0;32m    131\u001b[0m         \u001b[0mself\u001b[0m\u001b[1;33m.\u001b[0m\u001b[0m__coupon_payment_dates\u001b[0m \u001b[1;33m=\u001b[0m \u001b[0mdatetime_to_date_list\u001b[0m\u001b[1;33m(\u001b[0m\u001b[0mcoupon_payment_dates\u001b[0m\u001b[1;33m)\u001b[0m\u001b[1;33m\u001b[0m\u001b[1;33m\u001b[0m\u001b[0m\n\u001b[0;32m    132\u001b[0m         \u001b[1;31m# validation of dates' consistency\u001b[0m\u001b[1;33m\u001b[0m\u001b[1;33m\u001b[0m\u001b[1;33m\u001b[0m\u001b[0m\n",
      "\u001b[1;32m~\\OneDrive - RIVACON\\PycharmProjects\\RiVaPy\\instruments\\specifications.py\u001b[0m in \u001b[0;36m__init__\u001b[1;34m(self, obj_id, issue_date, maturity_date, coupon_period_dates, day_count_convention, spreads, reference_curve, currency, notional, issuer, securitisation_level)\u001b[0m\n\u001b[0;32m    247\u001b[0m \u001b[1;33m\u001b[0m\u001b[0m\n\u001b[0;32m    248\u001b[0m         \u001b[0msuper\u001b[0m\u001b[1;33m(\u001b[0m\u001b[1;33m)\u001b[0m\u001b[1;33m.\u001b[0m\u001b[0m__init__\u001b[0m\u001b[1;33m(\u001b[0m\u001b[0mobj_id\u001b[0m\u001b[1;33m,\u001b[0m \u001b[0missue_date\u001b[0m\u001b[1;33m,\u001b[0m \u001b[0mmaturity_date\u001b[0m\u001b[1;33m,\u001b[0m \u001b[0mcurrency\u001b[0m\u001b[1;33m,\u001b[0m \u001b[0mnotional\u001b[0m\u001b[1;33m,\u001b[0m \u001b[0missuer\u001b[0m\u001b[1;33m,\u001b[0m \u001b[0msecuritisation_level\u001b[0m\u001b[1;33m)\u001b[0m\u001b[1;33m\u001b[0m\u001b[1;33m\u001b[0m\u001b[0m\n\u001b[1;32m--> 249\u001b[1;33m         \u001b[0mself\u001b[0m\u001b[1;33m.\u001b[0m\u001b[0m__coupon_period_dates\u001b[0m \u001b[1;33m=\u001b[0m \u001b[0mdatetime_to_date_list\u001b[0m\u001b[1;33m(\u001b[0m\u001b[0mcoupon_period_dates\u001b[0m\u001b[1;33m)\u001b[0m\u001b[1;33m\u001b[0m\u001b[1;33m\u001b[0m\u001b[0m\n\u001b[0m\u001b[0;32m    250\u001b[0m         \u001b[1;31m# validation of dates' consistency\u001b[0m\u001b[1;33m\u001b[0m\u001b[1;33m\u001b[0m\u001b[1;33m\u001b[0m\u001b[0m\n\u001b[0;32m    251\u001b[0m         \u001b[1;32mif\u001b[0m \u001b[1;32mnot\u001b[0m \u001b[0mis_ascending_date_list\u001b[0m\u001b[1;33m(\u001b[0m\u001b[0missue_date\u001b[0m\u001b[1;33m,\u001b[0m \u001b[0mcoupon_period_dates\u001b[0m\u001b[1;33m,\u001b[0m \u001b[0mmaturity_date\u001b[0m\u001b[1;33m,\u001b[0m \u001b[1;32mFalse\u001b[0m\u001b[1;33m)\u001b[0m\u001b[1;33m:\u001b[0m\u001b[1;33m\u001b[0m\u001b[1;33m\u001b[0m\u001b[0m\n",
      "\u001b[1;32m~\\OneDrive - RIVACON\\PycharmProjects\\RiVaPy\\tools\\datetools.py\u001b[0m in \u001b[0;36mdatetime_to_date_list\u001b[1;34m(date_times)\u001b[0m\n\u001b[0;32m    293\u001b[0m         \u001b[1;32mreturn\u001b[0m \u001b[1;33m[\u001b[0m\u001b[0mdatetime_to_date\u001b[0m\u001b[1;33m(\u001b[0m\u001b[0mdate_time\u001b[0m\u001b[1;33m)\u001b[0m \u001b[1;32mfor\u001b[0m \u001b[0mdate_time\u001b[0m \u001b[1;32min\u001b[0m \u001b[0mdate_times\u001b[0m\u001b[1;33m]\u001b[0m\u001b[1;33m\u001b[0m\u001b[1;33m\u001b[0m\u001b[0m\n\u001b[0;32m    294\u001b[0m     \u001b[1;32melse\u001b[0m\u001b[1;33m:\u001b[0m\u001b[1;33m\u001b[0m\u001b[1;33m\u001b[0m\u001b[0m\n\u001b[1;32m--> 295\u001b[1;33m         \u001b[1;32mraise\u001b[0m \u001b[0mTypeError\u001b[0m\u001b[1;33m(\u001b[0m\u001b[1;34m\"'\"\u001b[0m \u001b[1;33m+\u001b[0m \u001b[0mstr\u001b[0m\u001b[1;33m(\u001b[0m\u001b[0mdate_times\u001b[0m\u001b[1;33m)\u001b[0m \u001b[1;33m+\u001b[0m \u001b[1;34m\"' must be a list of type datetime or date!\"\u001b[0m\u001b[1;33m)\u001b[0m\u001b[1;33m\u001b[0m\u001b[1;33m\u001b[0m\u001b[0m\n\u001b[0m\u001b[0;32m    296\u001b[0m \u001b[1;33m\u001b[0m\u001b[0m\n\u001b[0;32m    297\u001b[0m \u001b[1;33m\u001b[0m\u001b[0m\n",
      "\u001b[1;31mTypeError\u001b[0m: 'USD' must be a list of type datetime or date!"
     ]
    }
   ],
   "source": [
    "obj_id = 'XS1887493309'\n",
    "issue_date = date(2010, 10, 4)\n",
    "fixed_to_float_date = date(2022, 1, 20)\n",
    "maturity_date = date(2023, 1, 20)\n",
    "coupon = 0.04247\n",
    "tenor_fixed = '3M'\n",
    "backwards_fixed = True\n",
    "stub_fixed = False\n",
    "business_day_convention_fixed = RollConvention.MODIFIED_FOLLOWING\n",
    "calendar_fixed = 'TAR'\n",
    "tenor_float = '6M'\n",
    "backwards_float = True\n",
    "stub_float = False\n",
    "business_day_convention_float = RollConvention.MODIFIED_FOLLOWING\n",
    "calendar_float = 'TAR'\n",
    "day_count_convention = DayCounter.ThirtyU360\n",
    "spread = 0.0115\n",
    "reference_curve = 'US_LIBOR_3M'  # Reuters LIBOR01\n",
    "currency = 'USD'\n",
    "notional = 1000000\n",
    "issuer = 'Standard Chartered PLC'\n",
    "securitisation_level = SecuritizationLevel.SENIOR_SECURED\n",
    "fixed_to_floating_rate_note = FixedToFloatingRateNote.from_master_data(obj_id, issue_date, fixed_to_float_date, maturity_date,\n",
    "                                                                       coupon, tenor_fixed, tenor_float, backwards_fixed, \n",
    "                                                                       backwards_float, stub_fixed, stub_float, \n",
    "                                                                       business_day_convention_fixed, \n",
    "                                                                       business_day_convention_float, calendar_fixed, \n",
    "                                                                       calendar_float, day_count_convention, spread,\n",
    "                                                                       reference_curve, currency, notional, issuer,\n",
    "                                                                       securitisation_level)"
   ]
  }
 ],
 "metadata": {
  "kernelspec": {
   "display_name": "Python 3",
   "language": "python",
   "name": "python3"
  },
  "language_info": {
   "codemirror_mode": {
    "name": "ipython",
    "version": 3
   },
   "file_extension": ".py",
   "mimetype": "text/x-python",
   "name": "python",
   "nbconvert_exporter": "python",
   "pygments_lexer": "ipython3",
   "version": "3.7.9"
  },
  "toc": {
   "base_numbering": 1,
   "nav_menu": {},
   "number_sections": true,
   "sideBar": true,
   "skip_h1_title": false,
   "title_cell": "Table of Contents",
   "title_sidebar": "Contents",
   "toc_cell": false,
   "toc_position": {},
   "toc_section_display": true,
   "toc_window_display": true
  },
  "varInspector": {
   "cols": {
    "lenName": 16,
    "lenType": 16,
    "lenVar": 40
   },
   "kernels_config": {
    "python": {
     "delete_cmd_postfix": "",
     "delete_cmd_prefix": "del ",
     "library": "var_list.py",
     "varRefreshCmd": "print(var_dic_list())"
    },
    "r": {
     "delete_cmd_postfix": ") ",
     "delete_cmd_prefix": "rm(",
     "library": "var_list.r",
     "varRefreshCmd": "cat(var_dic_list()) "
    }
   },
   "types_to_exclude": [
    "module",
    "function",
    "builtin_function_or_method",
    "instance",
    "_Feature"
   ],
   "window_display": false
  }
 },
 "nbformat": 4,
 "nbformat_minor": 4
}
