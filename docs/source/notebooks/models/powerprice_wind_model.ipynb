{
 "cells": [
  {
   "cell_type": "markdown",
   "id": "eb673194",
   "metadata": {},
   "source": [
    "# Powerprice and Wind Modeling"
   ]
  },
  {
   "cell_type": "code",
   "execution_count": 11,
   "id": "0bb2a80c",
   "metadata": {
    "ExecuteTime": {
     "end_time": "2023-05-19T12:38:21.698099Z",
     "start_time": "2023-05-19T12:38:21.642775Z"
    }
   },
   "outputs": [
    {
     "name": "stdout",
     "output_type": "stream",
     "text": [
      "The autoreload extension is already loaded. To reload it, use:\n",
      "  %reload_ext autoreload\n"
     ]
    }
   ],
   "source": [
    "import datetime as dt\n",
    "import sys\n",
    "sys.path.insert(0,'../../../..')\n",
    "from typing import List\n",
    "import numpy as np\n",
    "import matplotlib.pyplot as plt\n",
    "from rivapy.tools.datetime_grid import DateTimeGrid\n",
    "\n",
    "from rivapy.models import OrnsteinUhlenbeck\n",
    "from rivapy.models.residual_demand_fwd_model import WindPowerForecastModel, WindPowerForecastModelParameter, MultiRegionWindForecastModel, LinearDemandForwardModel\n",
    "\n",
    "%load_ext autoreload\n",
    "%autoreload 2\n",
    "%matplotlib inline"
   ]
  },
  {
   "cell_type": "markdown",
   "id": "27f45474",
   "metadata": {},
   "source": [
    "## Simulation of Powerprices and Wind"
   ]
  },
  {
   "cell_type": "code",
   "execution_count": 31,
   "id": "b2d0061f",
   "metadata": {
    "ExecuteTime": {
     "end_time": "2023-05-19T12:51:46.375583Z",
     "start_time": "2023-05-19T12:51:43.310571Z"
    }
   },
   "outputs": [],
   "source": [
    "params = WindPowerForecastModelParameter(n_call_strikes=40, min_strike=-7.0, max_strike=7.0)\n",
    "# setup \n",
    "wind_region_model = {}\n",
    "vols = [1.0]\n",
    "mean_reversion_speed = [0.5]\n",
    "capacities = [10_000.0]\n",
    "rnd_weights = [ [1.0]\n",
    "              ]\n",
    "np.random.seed(42)\n",
    "regions = []\n",
    "for i in range(len(vols)):\n",
    "    model = WindPowerForecastModel(region='Region_' + str(i), \n",
    "                                            speed_of_mean_reversion=mean_reversion_speed[i],\n",
    "                                            volatility=vols[i], params=params)\n",
    "    regions.append(MultiRegionWindForecastModel.Region( \n",
    "                                    model,\n",
    "                                    capacity=capacities[i],\n",
    "                                    rnd_weights=rnd_weights[i]\n",
    "                                ) )\n",
    "wind = MultiRegionWindForecastModel('Wind_Germany', regions)"
   ]
  },
  {
   "cell_type": "code",
   "execution_count": 37,
   "id": "8a9a5c8f",
   "metadata": {
    "ExecuteTime": {
     "end_time": "2023-05-19T12:54:09.911155Z",
     "start_time": "2023-05-19T12:54:06.708848Z"
    }
   },
   "outputs": [],
   "source": [
    "highest_price = OrnsteinUhlenbeck(speed_of_mean_reversion=1.0, volatility=0.5, mean_reversion_level=0.0)\n",
    "model = LinearDemandForwardModel(wind_power_forecast=wind, \n",
    "                                    highest_price_ou_model= highest_price, \n",
    "                                    power_name= 'Power_Germany')"
   ]
  },
  {
   "cell_type": "code",
   "execution_count": 41,
   "id": "8d63de31",
   "metadata": {
    "ExecuteTime": {
     "end_time": "2023-05-19T12:55:31.150821Z",
     "start_time": "2023-05-19T12:55:27.637641Z"
    }
   },
   "outputs": [],
   "source": [
    "timegrid = np.linspace(0.0,1.0, 365)\n",
    "np.random.seed(42)\n",
    "rnd = np.random.normal(size=model.rnd_shape(10_000, timegrid.shape[0]))\n",
    "results = model.simulate(timegrid, rnd, expiries=[1.0], \n",
    "                         power_fwd_prices=[1.0],\n",
    "                         initial_forecasts={'Region_0': [0.8]})"
   ]
  },
  {
   "cell_type": "code",
   "execution_count": 44,
   "id": "245ecd71",
   "metadata": {
    "ExecuteTime": {
     "end_time": "2023-05-19T12:56:35.713915Z",
     "start_time": "2023-05-19T12:56:24.487046Z"
    }
   },
   "outputs": [
    {
     "name": "stdout",
     "output_type": "stream",
     "text": [
      "Keys of simulated values:  {'Wind_Germany_FWD0', 'Region_0_FWD0', 'Power_Germany_FWD0'}\n",
      "final mean power price:  0.43953416507891396\n"
     ]
    }
   ],
   "source": [
    "print('Keys of simulated values: ', results.keys())\n",
    "simulated_wind = results.get('Wind_Germany_FWD0')\n",
    "simulated_power = results.get('Power_Germany_FWD0')\n",
    "print('final mean power price: ',simulated_power[-1,:].mean() )"
   ]
  },
  {
   "cell_type": "code",
   "execution_count": 43,
   "id": "d3edfc48",
   "metadata": {
    "ExecuteTime": {
     "end_time": "2023-05-19T12:55:42.462732Z",
     "start_time": "2023-05-19T12:55:42.339476Z"
    },
    "tags": [
     "nbsphinx-thumbnail"
    ]
   },
   "outputs": [
    {
     "data": {
      "text/plain": [
       "[<matplotlib.lines.Line2D at 0x7ff5febcb460>]"
      ]
     },
     "execution_count": 43,
     "metadata": {},
     "output_type": "execute_result"
    },
    {
     "data": {
      "image/png": "[encoded data removed]",
      "text/plain": [
       "<Figure size 432x288 with 1 Axes>"
      ]
     },
     "metadata": {
      "needs_background": "light"
     },
     "output_type": "display_data"
    }
   ],
   "source": [
    "timepoint = 180\n",
    "plt.plot(simulated_wind[-1,:], simulated_power[-1,:],'.')"
   ]
  },
  {
   "cell_type": "code",
   "execution_count": 45,
   "id": "69c79bb8",
   "metadata": {
    "ExecuteTime": {
     "end_time": "2023-05-19T12:57:36.116130Z",
     "start_time": "2023-05-19T12:57:33.494468Z"
    }
   },
   "outputs": [
    {
     "data": {
      "text/plain": [
       "array([1.83939721])"
      ]
     },
     "execution_count": 45,
     "metadata": {},
     "output_type": "execute_result"
    }
   ],
   "source": [
    "results._additive_correction"
   ]
  }
 ],
 "metadata": {
  "celltoolbar": "Tags",
  "hide_input": false,
  "kernelspec": {
   "display_name": "Python 3 (ipykernel)",
   "language": "python",
   "name": "python3"
  },
  "language_info": {
   "codemirror_mode": {
    "name": "ipython",
    "version": 3
   },
   "file_extension": ".py",
   "mimetype": "text/x-python",
   "name": "python",
   "nbconvert_exporter": "python",
   "pygments_lexer": "ipython3",
   "version": "3.9.7"
  },
  "toc": {
   "base_numbering": 1,
   "nav_menu": {},
   "number_sections": true,
   "sideBar": true,
   "skip_h1_title": false,
   "title_cell": "Table of Contents",
   "title_sidebar": "Contents",
   "toc_cell": false,
   "toc_position": {},
   "toc_section_display": true,
   "toc_window_display": false
  }
 },
 "nbformat": 4,
 "nbformat_minor": 5
}
