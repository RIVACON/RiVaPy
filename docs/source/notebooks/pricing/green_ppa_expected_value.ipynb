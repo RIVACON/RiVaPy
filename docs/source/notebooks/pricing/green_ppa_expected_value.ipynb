{
 "cells": [
  {
   "cell_type": "markdown",
   "id": "6a3770a2",
   "metadata": {},
   "source": [
    "# Green PPA Pricing - Expected Value"
   ]
  },
  {
   "cell_type": "code",
   "execution_count": 7,
   "id": "c2d0f955",
   "metadata": {
    "ExecuteTime": {
     "end_time": "2023-06-13T06:24:51.362441Z",
     "start_time": "2023-06-13T06:24:48.233161Z"
    }
   },
   "outputs": [
    {
     "name": "stderr",
     "output_type": "stream",
     "text": [
      "C:\\Users\\doeltz\\development\\RiVaPy\\docs\\source\\notebooks\\pricing\\../../../..\\rivapy\\__init__.py:11: UserWarning: The pyvacon module is not available. You may not use all functionality without this module. Consider installing pyvacon.\n",
      "  warnings.warn('The pyvacon module is not available. You may not use all functionality without this module. Consider installing pyvacon.')\n"
     ]
    },
    {
     "data": {
      "text/html": [
       "<style>.container { width:80% !important; }</style>"
      ],
      "text/plain": [
       "<IPython.core.display.HTML object>"
      ]
     },
     "metadata": {},
     "output_type": "display_data"
    }
   ],
   "source": [
    "import sys\n",
    "import datetime as dt\n",
    "sys.path.append('../../../..')\n",
    "import pandas as pd\n",
    "import numpy as np\n",
    "import json\n",
    "import matplotlib.pyplot as plt\n",
    "import logging\n",
    "#logging.basicConfig(level=logging.DEBUG, \n",
    "#                    format=\"%(asctime)s  - %(levelname)s - %(filename)s:%(lineno)s - %(message)s \")\n",
    "logger = logging.getLogger('rivapy.pricing')\n",
    "logger.setLevel(logging.DEBUG)\n",
    "\n",
    "from rivapy.instruments import SimpleSchedule,  GreenPPASpecification\n",
    "#from rivapy.models.residual_demand_fwd_model import WindPowerForecastModel, WindPowerForecastModelParameter, MultiRegionWindForecastModel, LinearDemandForwardModel\n",
    "\n",
    "import rivapy.sample_data.residual_demand_models as rdm\n",
    "from rivapy.tools.datetime_grid import DateTimeGrid\n",
    "\n",
    "from rivapy.marketdata import PowerPriceForwardCurve\n",
    "import rivapy.sample_data.residual_demand_models as rdm_sample\n",
    "\n",
    "from rivapy.instruments.factory import create\n",
    "from rivapy.pricing import green_ppa_mean_pricer\n",
    "\n",
    "from IPython.display import display, HTML\n",
    "display(HTML(\"<style>.container { width:80% !important; }</style>\"))\n",
    "\n",
    "%load_ext autoreload\n",
    "%autoreload 2\n",
    "\n",
    "%matplotlib inline"
   ]
  },
  {
   "cell_type": "markdown",
   "id": "2eacff24",
   "metadata": {},
   "source": [
    "## Green PPA Specification"
   ]
  },
  {
   "cell_type": "code",
   "execution_count": 2,
   "id": "ca679b34",
   "metadata": {
    "ExecuteTime": {
     "end_time": "2023-06-14T05:45:31.641930Z",
     "start_time": "2023-06-14T05:45:31.586502Z"
    }
   },
   "outputs": [],
   "source": [
    "simple_schedule = SimpleSchedule(dt.datetime(2022,12,1), dt.datetime(2023,12,1,4,0,0), freq='1H')\n",
    "green_ppa = GreenPPASpecification(simple_schedule, \n",
    "                                  fixed_price = 10.0, \n",
    "                                  max_capacity=10, \n",
    "                                  technology = 'wind', \n",
    "                                  udl = 'power',\n",
    "                                  location='')"
   ]
  },
  {
   "cell_type": "code",
   "execution_count": 4,
   "id": "0315764f",
   "metadata": {
    "ExecuteTime": {
     "end_time": "2023-06-14T05:55:18.999269Z",
     "start_time": "2023-06-14T05:54:41.238439Z"
    }
   },
   "outputs": [
    {
     "ename": "NameError",
     "evalue": "name 'rd_model' is not defined",
     "output_type": "error",
     "traceback": [
      "\u001b[1;31m---------------------------------------------------------------------------\u001b[0m",
      "\u001b[1;31mNameError\u001b[0m                                 Traceback (most recent call last)",
      "Cell \u001b[1;32mIn[4], line 1\u001b[0m\n\u001b[1;32m----> 1\u001b[0m results \u001b[38;5;241m=\u001b[39m rd_model\u001b[38;5;241m.\u001b[39msimulate(dg, n_sims\u001b[38;5;241m=\u001b[39m\u001b[38;5;241m1000\u001b[39m, start_value_wind\u001b[38;5;241m=\u001b[39m\u001b[38;5;241m0.5\u001b[39m, \n\u001b[0;32m      2\u001b[0m                             start_value_load\u001b[38;5;241m=\u001b[39m\u001b[38;5;241m0.5\u001b[39m, start_value_solar\u001b[38;5;241m=\u001b[39m\u001b[38;5;241m0.5\u001b[39m, seed\u001b[38;5;241m=\u001b[39m\u001b[38;5;241m42\u001b[39m)\n",
      "\u001b[1;31mNameError\u001b[0m: name 'rd_model' is not defined"
     ]
    }
   ],
   "source": [
    "results = rd_model.simulate(dg, n_sims=1000, start_value_wind=0.5, \n",
    "                            start_value_load=0.5, start_value_solar=0.5, seed=42)"
   ]
  },
  {
   "cell_type": "code",
   "execution_count": 3,
   "id": "d4ed5552",
   "metadata": {},
   "outputs": [
    {
     "ename": "NameError",
     "evalue": "name 'rd_model' is not defined",
     "output_type": "error",
     "traceback": [
      "\u001b[1;31m---------------------------------------------------------------------------\u001b[0m",
      "\u001b[1;31mNameError\u001b[0m                                 Traceback (most recent call last)",
      "Cell \u001b[1;32mIn[3], line 1\u001b[0m\n\u001b[1;32m----> 1\u001b[0m green_ppa_mean_pricer\u001b[38;5;241m.\u001b[39mprice(dt\u001b[38;5;241m.\u001b[39mdatetime(\u001b[38;5;241m2022\u001b[39m,\u001b[38;5;241m12\u001b[39m,\u001b[38;5;241m1\u001b[39m), green_ppa, rd_model)\n",
      "\u001b[1;31mNameError\u001b[0m: name 'rd_model' is not defined"
     ]
    }
   ],
   "source": [
    "green_ppa_mean_pricer.price(dt.datetime(2022,12,1), green_ppa, rd_model)"
   ]
  },
  {
   "cell_type": "code",
   "execution_count": 41,
   "id": "5e68908d",
   "metadata": {},
   "outputs": [
    {
     "data": {
      "text/plain": [
       "'q,f'"
      ]
     },
     "execution_count": 41,
     "metadata": {},
     "output_type": "execute_result"
    }
   ],
   "source": [
    "','.join(['q','f'])"
   ]
  },
  {
   "cell_type": "code",
   "execution_count": 4,
   "id": "2ddfdc57",
   "metadata": {},
   "outputs": [],
   "source": [
    "from enum import Enum\n",
    "class PricingRequestTypes(Enum):\n",
    "    PRICE = 'PRICE'\n",
    "\n",
    "    \n",
    "class PricingRequest:\n",
    "        \n",
    "    def __init__(self):\n",
    "        #print(type(self)._validate())\n",
    "        for k in type(self)._get_choices():\n",
    "            setattr(self,k,False)\n",
    "        depp = ', '.join(type(self).get_choices())\n",
    "        self.__doc__='Container to store the information which results the respective pricer shall compute. \\n Following attributes are provided: '+depp \n",
    "        \n",
    "    @classmethod\n",
    "    def _validate(cls):\n",
    "        return cls.selections\n",
    "    \n",
    "    @classmethod\n",
    "    def set_request(cls, x):\n",
    "        cls.selections.append(x)\n",
    "        \n",
    "    @classmethod\n",
    "    def _get_choices(cls):\n",
    "        return cls.selections\n",
    "    \n",
    "class B(PricingRequest):\n",
    "    selections = ['A','B']\n",
    "    \n",
    "class C(PricingRequest):\n",
    "    selections = ['C','D']\n",
    "    \n",
    "b=B()\n",
    "c = C()\n",
    "c.set_request('A')\n",
    "d = B()\n",
    "c.set_request('B')"
   ]
  },
  {
   "cell_type": "code",
   "execution_count": 9,
   "id": "73333901",
   "metadata": {},
   "outputs": [],
   "source": [
    "from rivapy.pricing.pricing_request import GreenPPAPricingRequest"
   ]
  },
  {
   "cell_type": "code",
   "execution_count": 59,
   "id": "de9ee43e",
   "metadata": {
    "ExecuteTime": {
     "end_time": "2023-06-14T05:54:00.895863Z",
     "start_time": "2023-06-14T05:53:57.814289Z"
    }
   },
   "outputs": [
    {
     "data": {
      "text/plain": [
       "array([1458838.01658713,  912878.65079862, 1300659.61324367,\n",
       "       1187527.04573404, 1461813.30606483, 1450109.23215055,\n",
       "       1210193.93137315, 1392645.8144648 , 1510030.58710112,\n",
       "       1438963.69229254, 1335710.63758983, 1597345.67265557,\n",
       "       1254635.06972083, 1282010.90691649, 1417328.6021639 ,\n",
       "       1413159.02346185, -224329.44074632, 1324335.19556399,\n",
       "       1297913.89454097, 1107460.90084507, 1376237.2649392 ,\n",
       "       1496726.56860321, 1310536.71366256, 1002753.27276074,\n",
       "       1386327.28126734, 1337377.25203679, 1293562.15791379,\n",
       "       1280815.61864716, 1317016.5468621 , 1031152.91403738,\n",
       "       1521380.38528176, 1387796.17325859, 1056142.7809435 ,\n",
       "       1203768.64299416, 1222044.46263714, 1286765.32248347,\n",
       "       1381959.06316813, 1412614.4853771 , 1418830.32385771,\n",
       "       1614218.76647742, 1236638.5678654 , 1618001.43452123,\n",
       "       1218830.9993063 , 1306888.94429735, 1505138.01546509,\n",
       "        977000.06682582, 1444303.51671722, 1154569.78741383,\n",
       "       1247690.54734613, 1311177.05553646, 1354497.94538864,\n",
       "       1301365.01895965, 1340334.34474551, 1428259.8344249 ,\n",
       "       1373183.26217074, 1694833.73290997, 1229141.44430147,\n",
       "       1309412.53758452, 1530190.9555784 , 1527210.10461256,\n",
       "       1234944.7744653 , 1451410.04356179, 1279862.10155418,\n",
       "       1011712.61344827, 1205996.54001599, 1237118.49485216,\n",
       "       1212581.22387188, 1486017.13311882, 1197907.02316356,\n",
       "       1261129.78024704, 1008809.73624572, 1178995.26133533,\n",
       "       1129260.82285918, 1086213.98956597, 1151547.83988448,\n",
       "       1230475.8424723 , 1246581.1569894 , 1338649.94055698,\n",
       "       1456359.44365523, 1601509.53983078, 1186926.146955  ,\n",
       "       1516620.26887111, 1600533.18154489, 1661910.07714764,\n",
       "       1469787.65655209, 1396054.97340354, 1483602.56257629,\n",
       "       1474135.96591217, 1263349.99309876, 1212007.22019642,\n",
       "       1217099.81325136, 1378161.69836749, 1196236.08313297,\n",
       "       1226040.39204339, 1378243.08218951, 1250770.81865477,\n",
       "       1236413.63774726, 1188712.73303615, 1407737.45692187,\n",
       "       1305827.04543428])"
      ]
     },
     "execution_count": 59,
     "metadata": {},
     "output_type": "execute_result"
    }
   ],
   "source": [
    "np.sum(np.multiply(results[green_ppa.technology],results['price']),axis=0)"
   ]
  },
  {
   "cell_type": "code",
   "execution_count": 55,
   "id": "56a7a2d2",
   "metadata": {
    "ExecuteTime": {
     "end_time": "2023-06-14T05:51:34.254683Z",
     "start_time": "2023-06-14T05:51:34.190384Z"
    }
   },
   "outputs": [
    {
     "data": {
      "text/plain": [
       "(8764, 100)"
      ]
     },
     "execution_count": 55,
     "metadata": {},
     "output_type": "execute_result"
    }
   ],
   "source": [
    "results['price']"
   ]
  },
  {
   "cell_type": "code",
   "execution_count": 11,
   "id": "b755b16a",
   "metadata": {
    "ExecuteTime": {
     "end_time": "2023-06-14T06:16:32.508012Z",
     "start_time": "2023-06-14T06:16:32.439071Z"
    }
   },
   "outputs": [
    {
     "data": {
      "text/plain": [
       "array([0], dtype=int64)"
      ]
     },
     "execution_count": 11,
     "metadata": {},
     "output_type": "execute_result"
    }
   ],
   "source": [
    "df = dg.df\n",
    "df[df.dates.isin([dt.datetime(2022,12,1)])].index.values"
   ]
  },
  {
   "cell_type": "code",
   "execution_count": null,
   "id": "6f3a5502",
   "metadata": {},
   "outputs": [],
   "source": [
    "values = np.ones((len(simple_schedule.get_schedule()),))\n",
    "hpfc = PowerPriceForwardCurve( dt.datetime(2022,12,1), dt.datetime(2022,12,1), \n",
    "                              dt.datetime(2023,12,1,4,0,0), freq='1H', values = values)"
   ]
  }
 ],
 "metadata": {
  "hide_input": false,
  "kernelspec": {
   "display_name": "Python 3 (ipykernel)",
   "language": "python",
   "name": "python3"
  },
  "language_info": {
   "codemirror_mode": {
    "name": "ipython",
    "version": 3
   },
   "file_extension": ".py",
   "mimetype": "text/x-python",
   "name": "python",
   "nbconvert_exporter": "python",
   "pygments_lexer": "ipython3",
   "version": "3.11.2"
  },
  "toc": {
   "base_numbering": 1,
   "nav_menu": {},
   "number_sections": true,
   "sideBar": true,
   "skip_h1_title": false,
   "title_cell": "Table of Contents",
   "title_sidebar": "Contents",
   "toc_cell": false,
   "toc_position": {
    "height": "calc(100% - 180px)",
    "left": "10px",
    "top": "150px",
    "width": "164.988px"
   },
   "toc_section_display": true,
   "toc_window_display": true
  }
 },
 "nbformat": 4,
 "nbformat_minor": 5
}
