{
 "cells": [
  {
   "cell_type": "code",
   "execution_count": 7,
   "metadata": {},
   "outputs": [],
   "source": [
    "import tensorflow as tf # exit this test if no tensorflow is installed\n",
    "import unittest\n",
    "import datetime as dt\n",
    "import numpy as np\n",
    "from rivapy.models.residual_demand_model import OrnsteinUhlenbeck\n",
    "from rivapy.instruments.ppa_specification import GreenPPASpecification\n",
    "from rivapy.pricing.deep_hedging import DeepHedgeModel"
   ]
  },
  {
   "cell_type": "code",
   "execution_count": 11,
   "metadata": {},
   "outputs": [
    {
     "ename": "TypeError",
     "evalue": "DeepHedgeModel.__init__() missing 2 required positional arguments: 'loss' and 'transaction_cost'",
     "output_type": "error",
     "traceback": [
      "\u001b[1;31m---------------------------------------------------------------------------\u001b[0m",
      "\u001b[1;31mTypeError\u001b[0m                                 Traceback (most recent call last)",
      "Cell \u001b[1;32mIn[11], line 15\u001b[0m\n\u001b[0;32m     13\u001b[0m     \u001b[38;5;28;01melse\u001b[39;00m:\n\u001b[0;32m     14\u001b[0m         payoff \u001b[38;5;241m=\u001b[39m np\u001b[38;5;241m.\u001b[39mmaximum(np\u001b[38;5;241m.\u001b[39mmaximum(s[\u001b[38;5;241m-\u001b[39m\u001b[38;5;241m1\u001b[39m,:]\u001b[38;5;241m-\u001b[39m\u001b[38;5;241m1.0\u001b[39m,\u001b[38;5;241m0.0\u001b[39m), payoff)\n\u001b[1;32m---> 15\u001b[0m model \u001b[38;5;241m=\u001b[39m DeepHedgeModel([k \u001b[38;5;28;01mfor\u001b[39;00m k \u001b[38;5;129;01min\u001b[39;00m spots\u001b[38;5;241m.\u001b[39mkeys()], \u001b[38;5;28;01mNone\u001b[39;00m, timegrid\u001b[38;5;241m=\u001b[39mtimegrid,\n\u001b[0;32m     16\u001b[0m                                     regularization\u001b[38;5;241m=\u001b[39m\u001b[38;5;241m0.0\u001b[39m, depth\u001b[38;5;241m=\u001b[39m\u001b[38;5;241m3\u001b[39m, n_neurons\u001b[38;5;241m=\u001b[39m\u001b[38;5;241m32\u001b[39m)\n",
      "\u001b[1;31mTypeError\u001b[0m: DeepHedgeModel.__init__() missing 2 required positional arguments: 'loss' and 'transaction_cost'"
     ]
    }
   ],
   "source": [
    "spots = {}\n",
    "np.random.seed(42)\n",
    "n_sims = 100\n",
    "timegrid = np.linspace(0.0,1.0,12, endpoint=True)\n",
    "payoff = None\n",
    "for i in range(2):\n",
    "    model = OrnsteinUhlenbeck(1.0,0.2,1.0)\n",
    "    rnd = np.random.normal(size=(timegrid.shape[0], n_sims))\n",
    "    s =  model.simulate(timegrid, start_value=1.0, rnd=rnd)\n",
    "    spots['Asset'+str(i)] = s\n",
    "    if payoff is None:\n",
    "        payoff = np.maximum(s[-1,:]-1.0,0.0)\n",
    "    else:\n",
    "        payoff = np.maximum(np.maximum(s[-1,:]-1.0,0.0), payoff)\n",
    "model = DeepHedgeModel([k for k in spots.keys()], None, timegrid=timegrid,\n",
    "                                    regularization=0.0, depth=3, n_neurons=32,\n",
    "                                    loss = 'exponential_utility',transaction_cost = {})\n",
    "#lr_schedule = tf.keras.optimizers.schedules.ExponentialDecay(\n",
    "#                initial_learning_rate=0.1,#1e-3,\n",
    "#                decay_steps=100,\n",
    "#                decay_rate=0.9)\n",
    "#model.train(spots, payoff, lr_schedule, 5, 10)"
   ]
  }
 ],
 "metadata": {
  "kernelspec": {
   "display_name": "rivapyFS",
   "language": "python",
   "name": "python3"
  },
  "language_info": {
   "codemirror_mode": {
    "name": "ipython",
    "version": 3
   },
   "file_extension": ".py",
   "mimetype": "text/x-python",
   "name": "python",
   "nbconvert_exporter": "python",
   "pygments_lexer": "ipython3",
   "version": "3.11.7"
  }
 },
 "nbformat": 4,
 "nbformat_minor": 2
}
