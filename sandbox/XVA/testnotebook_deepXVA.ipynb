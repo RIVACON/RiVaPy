{
 "cells": [
  {
   "cell_type": "markdown",
   "metadata": {},
   "source": [
    "# TODO:\n",
    "\n",
    "-> Synthetic MarketData YieldCurve etc\n",
    "\n",
    "-> Instruments: FixLeg, FloatLeg, Vanilla Option\n",
    "\n",
    "-> Start with HW1F\n",
    "\n",
    "-> getPV\n",
    "\n",
    "-> getEE\n",
    "\n",
    "-> getPnL"
   ]
  },
  {
   "cell_type": "code",
   "execution_count": null,
   "metadata": {},
   "outputs": [],
   "source": []
  }
 ],
 "metadata": {
  "language_info": {
   "name": "python"
  }
 },
 "nbformat": 4,
 "nbformat_minor": 2
}
