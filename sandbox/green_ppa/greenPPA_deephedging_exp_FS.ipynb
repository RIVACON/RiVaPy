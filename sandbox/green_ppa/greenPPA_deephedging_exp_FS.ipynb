{
 "cells": [
  {
   "cell_type": "code",
   "execution_count": 1,
   "metadata": {},
   "outputs": [
    {
     "name": "stderr",
     "output_type": "stream",
     "text": [
      "c:\\Users\\Anwender\\Documents\\GitHub\\RiVaPy_development\\RiVaPy\\sandbox\\green_ppa\\../..\\rivapy\\__init__.py:11: UserWarning: The pyvacon module is not available. You may not use all functionality without this module. Consider installing pyvacon.\n",
      "  warnings.warn('The pyvacon module is not available. You may not use all functionality without this module. Consider installing pyvacon.')\n"
     ]
    }
   ],
   "source": [
    "import datetime as dt\n",
    "import sys\n",
    "sys.path.insert(0,'../..')\n",
    "from typing import List\n",
    "import numpy as np\n",
    "import matplotlib.pyplot as plt\n",
    "import json\n",
    "import os\n",
    "import numpy as np\n",
    "from scipy.special import comb\n",
    "import pandas as pd\n",
    "import seaborn\n",
    "import pprint\n",
    "import deepdiff\n",
    "os.environ[\"CUDA_VISIBLE_DEVICES\"] = \"-1\"\n",
    "\n",
    "from rivapy.tools.datetime_grid import DateTimeGrid\n",
    "from rivapy.models.residual_demand_fwd_model import WindPowerForecastModel, MultiRegionWindForecastModel, LinearDemandForwardModel\n",
    "from rivapy.instruments.ppa_specification import GreenPPASpecification\n",
    "from rivapy.models.residual_demand_model import SmoothstepSupplyCurve\n",
    "from rivapy.models import OrnsteinUhlenbeck\n",
    "from rivapy.pricing.green_ppa_pricing import GreenPPADeepHedgingPricer, DeepHedgeModel\n",
    "\n",
    "\n",
    "import analysis\n",
    "\n",
    "from IPython.display import display, HTML\n",
    "#display(HTML(\"<style>.container { width:80% !important; }</style>\"))\n",
    "\n",
    "%load_ext autoreload\n",
    "%autoreload 2\n",
    "%matplotlib inline\n",
    "\n",
    "\n"
   ]
  },
  {
   "cell_type": "code",
   "execution_count": 99,
   "metadata": {},
   "outputs": [],
   "source": [
    "def setup(ref_key, ref_key_volume_hedge):\n",
    "    sim_results = {}\n",
    "    forecast_points={}\n",
    "    # simulate paths\n",
    "    print('simulate paths')\n",
    "    for k in ref_keys:\n",
    "        sim_results[k], forecast_points[k] = repo.simulate_model(k, n_sims=100_000)\n",
    "    # load models and specs\n",
    "    print('load models and specs')\n",
    "    hedge_models = {k: repo.get_hedge_model(k) for k in ref_keys}\n",
    "    specs = {k: GreenPPASpecification.from_dict(repo.results[k]['ppa_spec']) for k in ref_keys}\n",
    "    #compute pathwise pnls\n",
    "    print('compute pnl')\n",
    "    paths = {k:{l:sim_results[k].get(l, forecast_points[k]) for l in ['Power_Germany_FWD0', 'Onshore_FWD0', 'Offshore_FWD0']} for k in ref_keys}\n",
    "    pnl = {\n",
    "        'volume_hedge': compute_volume_hedge_pnl(paths[ref_key_volume_hedge], specs[ref_key_volume_hedge]),\n",
    "          'no_hedge': compute_no_hedge_pnl(paths[ref_key_volume_hedge], specs[ref_key_volume_hedge]),\n",
    "        'static_volume_hedge':compute_static_volume_hedge_pnl(paths[ref_key_volume_hedge], specs[ref_key_volume_hedge])\n",
    "          }\n",
    "    for k,v in hedge_models.items():\n",
    "        pnl[k] = compute_pnl(v, paths[k], specs[k])#specs['ec202973a34dfc5b71a86e0e7b2209a62c29b6a1'])#\n",
    "    return sim_results, forecast_points, hedge_models, specs, paths, pnl\n",
    "\n",
    "def compute_pnl(hedge_model, paths, green_ppa_spec):\n",
    "    power_price = paths.get('Power_Germany_FWD0', None)\n",
    "    volume = paths.get(green_ppa_spec.location+'_FWD0')\n",
    "    print(green_ppa_spec.fixed_price)\n",
    "    payoff = (power_price[-1,:] -green_ppa_spec.fixed_price)*(volume[-1,:])*green_ppa_spec.max_capacity\n",
    "    return hedge_model.compute_pnl(paths, payoff)\n",
    "\n",
    "def compute_volume_hedge_pnl(paths, green_ppa_spec):\n",
    "    power_price = paths.get('Power_Germany_FWD0', None)\n",
    "    volume = paths.get(green_ppa_spec.location+'_FWD0')\n",
    "    pnl = volume[0,:]*power_price[0,:]\n",
    "    for i in range(1,power_price.shape[0]-1):\n",
    "        pnl += (volume[i,:]-volume[i-1,:])*power_price[i,:]\n",
    "    pnl -= volume[-2,:]*power_price[-1,:]\n",
    "    pnl += (power_price[-1,:] -green_ppa_spec.fixed_price)*(volume[-1,:])*green_ppa_spec.max_capacity\n",
    "    return pnl\n",
    "\n",
    "def compute_no_hedge_pnl(paths, green_ppa_spec):\n",
    "    power_price = paths.get('Power_Germany_FWD0', None)\n",
    "    volume = paths.get(green_ppa_spec.location+'_FWD0')\n",
    "    pnl = (power_price[-1,:] -green_ppa_spec.fixed_price)*(volume[-1,:])*green_ppa_spec.max_capacity\n",
    "    return pnl\n",
    "\n",
    "\n",
    "def compute_static_volume_hedge_pnl(paths, green_ppa_spec):\n",
    "    power_price = paths.get('Power_Germany_FWD0', None)\n",
    "    volume = paths.get(green_ppa_spec.location+'_FWD0')\n",
    "    pnl = (power_price[-1,:] -green_ppa_spec.fixed_price)*(volume[-1,:]) + (-power_price[-1,:] +power_price[0,:])*(volume[0,:])\n",
    "    return pnl\n",
    "\n",
    "def compute_static_volume_hedge_var_pnl(paths, hedge_volume, green_ppa_spec, strike=None):\n",
    "    power_price = paths.get('Power_Germany_FWD0', None)\n",
    "    volume = paths.get(green_ppa_spec.location+'_FWD0')\n",
    "    strike_ = green_ppa_spec.fixed_price\n",
    "    if strike is not None:\n",
    "        strike_ = strike\n",
    "    pnl = (power_price[-1,:] -strike_)*(volume[-1,:]) + (-power_price[-1,:] +power_price[0,:])*(hedge_volume)\n",
    "    tmp = np.percentile(pnl, 5)\n",
    "    return pnl[pnl<tmp].mean()#pnl.var()\n",
    "\n",
    "\n",
    "def compute_statistics(pnl, labels):\n",
    "    pnl_stat = {'name':[], 'mean': [], 'var':[],'p-skewness':[], \n",
    "                #'20%': [], \n",
    "                #'5%':[], \n",
    "                #'10%':[], \n",
    "                '5% ES':[], \n",
    "                #'10% ES':[], \n",
    "                '20% ES':[], \n",
    "               'utility, 0.05': [], \n",
    "                'utility, 0.1': [],\n",
    "                #'utility, 0.15': [], 'utility, 0.2': [], \n",
    "               }\n",
    "    for k,v in pnl.items():\n",
    "        if ( k == 'static_volume_hedge'):# or (k==): # (k == 'no_hedge') or\n",
    "            continue\n",
    "        v_ = 100.0*v\n",
    "        if k in labels.keys():\n",
    "            pnl_stat['name'].append(labels[k])\n",
    "        else:\n",
    "            pnl_stat['name'].append(k)\n",
    "        pnl_stat['mean'].append(np.mean(v_))\n",
    "        pnl_stat['var'].append(np.sqrt(np.var(v_)))\n",
    "        pnl_stat['p-skewness'].append( 3.0*(v_.mean()-np.median(v_))/v_.std())\n",
    "\n",
    "        tmp = np.percentile(v_, 10)\n",
    "        #pnl_stat['10%'].append(tmp)\n",
    "        tmp = v_[v_<tmp].mean()\n",
    "        #pnl_stat['10% ES'].append(tmp) \n",
    "\n",
    "        tmp = np.percentile(v_, 20)\n",
    "        #pnl_stat['20%'].append(tmp)\n",
    "        tmp = v_[v_<tmp].mean()\n",
    "        pnl_stat['20% ES'].append(tmp)\n",
    "        tmp = np.percentile(v_, 5)\n",
    "        #pnl_stat['5%'].append(tmp)\n",
    "        tmp = v_[v_<tmp].mean()\n",
    "        pnl_stat['5% ES'].append(tmp)\n",
    "        \n",
    "        pnl_stat['utility, 0.05'].append(np.mean(np.exp(-0.05*v_)))\n",
    "        pnl_stat['utility, 0.1'].append(np.mean(np.exp(-0.1*v_)))\n",
    "        #pnl_stat['utility, 0.15'].append(np.mean(np.exp(-0.15*v_)))\n",
    "        #pnl_stat['utility, 0.2'].append( np.mean(np.exp(-0.2*v_)))\n",
    "\n",
    "    pnl_stat = pd.DataFrame(pnl_stat)\n",
    "    return pnl_stat.set_index('name')#.to_latex(float_format=\"{:0.3f}\".format)"
   ]
  },
  {
   "cell_type": "code",
   "execution_count": 100,
   "metadata": {},
   "outputs": [],
   "source": [
    "wind_onshore = WindPowerForecastModel(region='Onshore', speed_of_mean_reversion=2.0, volatility=4.0)\n",
    "wind_offshore = WindPowerForecastModel(region='Offshore', speed_of_mean_reversion=2.0, volatility=3.0)\n",
    "regions = [ MultiRegionWindForecastModel.Region( \n",
    "                                    wind_onshore,\n",
    "                                    capacity=1000.0,\n",
    "                                    rnd_weights=[0.8,0.2]\n",
    "                                ),\n",
    "           MultiRegionWindForecastModel.Region( \n",
    "                                    wind_offshore,\n",
    "                                    capacity=100.0,\n",
    "                                    rnd_weights=[0.2,0.8]\n",
    "                                )\n",
    "           \n",
    "          ]\n",
    "wind = MultiRegionWindForecastModel('Wind_Germany', regions)\n",
    "\n",
    "model = LinearDemandForwardModel(wind_power_forecast=wind, \n",
    "                                 x_volatility = 4.0 , \n",
    "                                 x_mean_reversion_speed = 0.1,\n",
    "                                 power_name= 'Power_Germany')"
   ]
  },
  {
   "cell_type": "code",
   "execution_count": 120,
   "metadata": {},
   "outputs": [],
   "source": [
    "val_date = dt.datetime(2023,1,1)\n",
    "strike = 1.0 #0.22\n",
    "transaction_cost = 0.005\n",
    "spec = GreenPPASpecification(udl='Power_Germany',\n",
    "                            technology = 'Wind',\n",
    "                             location = 'Onshore',\n",
    "                             schedule = [val_date + dt.timedelta(days=2)], \n",
    "                             fixed_price=strike,\n",
    "                             transaction_cost=transaction_cost,\n",
    "                             max_capacity = 1.0)"
   ]
  },
  {
   "cell_type": "code",
   "execution_count": 121,
   "metadata": {},
   "outputs": [],
   "source": [
    "repo = analysis.Repo('./experiments/')"
   ]
  },
  {
   "cell_type": "code",
   "execution_count": 122,
   "metadata": {},
   "outputs": [
    {
     "name": "stdout",
     "output_type": "stream",
     "text": [
      "900/900 [==============================] - 33s 28ms/step - loss: 4.7483e-04\n",
      "3125/3125 [==============================] - 22s 6ms/step\n",
      "3125/3125 [==============================] - 22s 6ms/step - loss: 1.9790e-05\n",
      "WARNING:tensorflow:Compiled the loaded model, but the compiled metrics have yet to be built. `model.compile_metrics` will be empty until you train or evaluate the model.\n"
     ]
    },
    {
     "name": "stderr",
     "output_type": "stream",
     "text": [
      "WARNING:tensorflow:Compiled the loaded model, but the compiled metrics have yet to be built. `model.compile_metrics` will be empty until you train or evaluate the model.\n",
      "WARNING:absl:Function `_wrapped_model` contains input name(s) Power_Germany_FWD0, Onshore_FWD0, Offshore_FWD0 with unsupported characters which will be renamed to power_germany_fwd0, onshore_fwd0, offshore_fwd0 in the SavedModel.\n"
     ]
    },
    {
     "name": "stdout",
     "output_type": "stream",
     "text": [
      "INFO:tensorflow:Assets written to: ./experiments//af85defde5263cb515b50590d2d6605cc5346b59//delta_model\\assets\n"
     ]
    },
    {
     "name": "stderr",
     "output_type": "stream",
     "text": [
      "INFO:tensorflow:Assets written to: ./experiments//af85defde5263cb515b50590d2d6605cc5346b59//delta_model\\assets\n"
     ]
    }
   ],
   "source": [
    "pricing_results = repo.run(val_date, \n",
    "                           spec, model, \n",
    "                           initial_forecasts={'Onshore': [0.8],\n",
    "                                        'Offshore': [0.6]},\n",
    "                           power_fwd_prices=[1.0],\n",
    "                           forecast_hours=[10, 14, 18],\n",
    "                           additional_states=['Offshore'],\n",
    "                           depth=3, \n",
    "                           nb_neurons=64, \n",
    "                           n_sims=100_000, \n",
    "                           regularization=0.0,\n",
    "                           epochs=1, verbose=1,\n",
    "                           tensorboard_logdir = 'logs/' + dt.datetime.now().strftime(\"%Y%m%dT%H%M%S\"), \n",
    "                           initial_lr=5e-4,\n",
    "                           decay_steps=8_000,\n",
    "                           batch_size=100, decay_rate=0.8, seed=42)\n",
    "\n"
   ]
  },
  {
   "cell_type": "code",
   "execution_count": 123,
   "metadata": {},
   "outputs": [
    {
     "data": {
      "text/plain": [
       "dict_keys(['ac419e9a2ac9cfb9139a0ab32b30092fea829fb6', 'c0cc3d8661f12a0d07328528d29024a634023dae', '88b5d0ffbdaf5ce2e221de3ea993b3ff4707fbdb', '2328b3d518c72ccc296c636deb27d1b32a985b95', 'ba8625f0a3a490966d1ae32fa31704168a8003d6', 'aecceb5ac3fbcf3ee64ffb0fe064500c452fe786', '146473e766a73dd0f7c48dc5bc1b62dc26e3381f', 'b8148d11e236aad4826139743f5e1dd068fa8038', 'f787020a866c8e3f8128b98a20a41d0677a76737', 'f676ab8cab4c084686f1580b4715316f72f1abc5', 'c233d91f8e8feb8d07663bac437d130ad1405145', '098b6586c406579a411e1449cc100cf5dd3d77ce', 'a98ca1818881115edfa458c2da6b294d91380d91', 'af85defde5263cb515b50590d2d6605cc5346b59'])"
      ]
     },
     "execution_count": 123,
     "metadata": {},
     "output_type": "execute_result"
    }
   ],
   "source": [
    "repo.results.keys()"
   ]
  },
  {
   "cell_type": "code",
   "execution_count": 124,
   "metadata": {},
   "outputs": [],
   "source": [
    "experiments = {}\n",
    "    \n",
    "tmp={\n",
    "        'ref_keys':[\n",
    "            'a98ca1818881115edfa458c2da6b294d91380d91',\n",
    "            'af85defde5263cb515b50590d2d6605cc5346b59',\n",
    "            '88b5d0ffbdaf5ce2e221de3ea993b3ff4707fbdb'\n",
    "        ],\n",
    "        'labels':{\n",
    "            'a98ca1818881115edfa458c2da6b294d91380d91':'transaction_cost = 0.001',\n",
    "            'af85defde5263cb515b50590d2d6605cc5346b59':'transaction_cost = 0.005',\n",
    "            '88b5d0ffbdaf5ce2e221de3ea993b3ff4707fbdb':'no transaction_cost'\n",
    "            \n",
    "        }\n",
    "}\n",
    "experiments['transaction_cost_test1'] = tmp"
   ]
  },
  {
   "cell_type": "markdown",
   "metadata": {},
   "source": [
    "# PnL Distribution for Experiments"
   ]
  },
  {
   "cell_type": "code",
   "execution_count": 125,
   "metadata": {},
   "outputs": [],
   "source": [
    "repo = analysis.Repo('./experiments/')\n",
    "# TODO: das muss wieder weg und in die serialisierung\n",
    "for k,v in repo.results.items():\n",
    "    v['val_date'] = dt.datetime.fromisoformat(v['val_date'])\n",
    "    v['ppa_spec']['schedule'] = [dt.datetime.fromisoformat(k) for k in v['ppa_spec']['schedule']]"
   ]
  },
  {
   "cell_type": "code",
   "execution_count": 126,
   "metadata": {},
   "outputs": [
    {
     "name": "stdout",
     "output_type": "stream",
     "text": [
      "simulate paths\n",
      "load models and specs\n",
      "WARNING:tensorflow:No training configuration found in save file, so the model was *not* compiled. Compile it manually.\n"
     ]
    },
    {
     "name": "stderr",
     "output_type": "stream",
     "text": [
      "WARNING:tensorflow:No training configuration found in save file, so the model was *not* compiled. Compile it manually.\n"
     ]
    },
    {
     "name": "stdout",
     "output_type": "stream",
     "text": [
      "WARNING:tensorflow:No training configuration found in save file, so the model was *not* compiled. Compile it manually.\n"
     ]
    },
    {
     "name": "stderr",
     "output_type": "stream",
     "text": [
      "WARNING:tensorflow:No training configuration found in save file, so the model was *not* compiled. Compile it manually.\n"
     ]
    },
    {
     "name": "stdout",
     "output_type": "stream",
     "text": [
      "WARNING:tensorflow:No training configuration found in save file, so the model was *not* compiled. Compile it manually.\n"
     ]
    },
    {
     "name": "stderr",
     "output_type": "stream",
     "text": [
      "WARNING:tensorflow:No training configuration found in save file, so the model was *not* compiled. Compile it manually.\n"
     ]
    },
    {
     "name": "stdout",
     "output_type": "stream",
     "text": [
      "compute pnl\n",
      "1.0\n",
      "3125/3125 [==============================] - 29s 9ms/step\n",
      "1.0\n",
      "3125/3125 [==============================] - 27s 8ms/step\n",
      "1.0\n",
      "3125/3125 [==============================] - 29s 9ms/step\n"
     ]
    }
   ],
   "source": [
    "experiment = 'transaction_cost_test1'\n",
    "ref_keys = experiments[experiment]['ref_keys']\n",
    "labels = experiments[experiment]['labels']\n",
    "labels_T = {k:v for v,k in labels.items()}\n",
    "sim_results, forecast_points, hedge_models, specs, paths, pnl = setup(ref_keys, ref_key_volume_hedge=labels_T['transaction_cost = 0.001'])"
   ]
  },
  {
   "cell_type": "code",
   "execution_count": 127,
   "metadata": {},
   "outputs": [
    {
     "data": {
      "text/plain": [
       "dict_keys(['volume_hedge', 'no_hedge', 'static_volume_hedge', 'a98ca1818881115edfa458c2da6b294d91380d91', 'af85defde5263cb515b50590d2d6605cc5346b59', '88b5d0ffbdaf5ce2e221de3ea993b3ff4707fbdb'])"
      ]
     },
     "execution_count": 127,
     "metadata": {},
     "output_type": "execute_result"
    }
   ],
   "source": [
    "pnl.keys()"
   ]
  },
  {
   "cell_type": "code",
   "execution_count": 128,
   "metadata": {},
   "outputs": [
    {
     "data": {
      "text/plain": [
       "Text(0.5, 0, 'PnL')"
      ]
     },
     "execution_count": 128,
     "metadata": {},
     "output_type": "execute_result"
    },
    {
     "data": {
      "image/png": "[encoded data removed]",
      "text/plain": [
       "<Figure size 640x480 with 1 Axes>"
      ]
     },
     "metadata": {},
     "output_type": "display_data"
    }
   ],
   "source": [
    "key = '88b5d0ffbdaf5ce2e221de3ea993b3ff4707fbdb'\n",
    "plt.hist(np.clip(100*pnl[key], -3,1), bins=200, label='no transaction_cost', density=True, alpha=0.5)\n",
    "key = 'a98ca1818881115edfa458c2da6b294d91380d91'\n",
    "plt.hist(np.clip(100*pnl[key], -3,1), bins=200, label='transaction_cost = 0.001', density=True, alpha=0.5);\n",
    "key = 'af85defde5263cb515b50590d2d6605cc5346b59'\n",
    "plt.hist(np.clip(100*pnl[key], -3,1), bins=200, label='transaction_cost = 0.005', density=True, alpha=0.5);\n",
    "plt.legend()\n",
    "plt.xlabel('PnL')"
   ]
  },
  {
   "cell_type": "code",
   "execution_count": 130,
   "metadata": {},
   "outputs": [
    {
     "data": {
      "text/plain": [
       "Text(0, 0.5, 'PnL transaction_cost = 0.001')"
      ]
     },
     "execution_count": 130,
     "metadata": {},
     "output_type": "execute_result"
    },
    {
     "data": {
      "image/png": "[encoded data removed]",
      "text/plain": [
       "<Figure size 640x480 with 1 Axes>"
      ]
     },
     "metadata": {},
     "output_type": "display_data"
    }
   ],
   "source": [
    "key = '88b5d0ffbdaf5ce2e221de3ea993b3ff4707fbdb'\n",
    "pnl1 = 100*pnl[key]\n",
    "key = 'a98ca1818881115edfa458c2da6b294d91380d91'\n",
    "pnl2 = 100*pnl[key]\n",
    "plt.plot(pnl1,pnl2,'.', alpha=0.1)\n",
    "plt.xlabel('PnL no transaction_cost')\n",
    "plt.ylabel('PnL transaction_cost = 0.001')"
   ]
  },
  {
   "cell_type": "code",
   "execution_count": 131,
   "metadata": {},
   "outputs": [
    {
     "data": {
      "text/html": [
       "<div>\n",
       "<style scoped>\n",
       "    .dataframe tbody tr th:only-of-type {\n",
       "        vertical-align: middle;\n",
       "    }\n",
       "\n",
       "    .dataframe tbody tr th {\n",
       "        vertical-align: top;\n",
       "    }\n",
       "\n",
       "    .dataframe thead th {\n",
       "        text-align: right;\n",
       "    }\n",
       "</style>\n",
       "<table border=\"1\" class=\"dataframe\">\n",
       "  <thead>\n",
       "    <tr style=\"text-align: right;\">\n",
       "      <th></th>\n",
       "      <th>mean</th>\n",
       "      <th>var</th>\n",
       "      <th>p-skewness</th>\n",
       "      <th>5% ES</th>\n",
       "      <th>20% ES</th>\n",
       "      <th>utility, 0.05</th>\n",
       "      <th>utility, 0.1</th>\n",
       "    </tr>\n",
       "    <tr>\n",
       "      <th>name</th>\n",
       "      <th></th>\n",
       "      <th></th>\n",
       "      <th></th>\n",
       "      <th></th>\n",
       "      <th></th>\n",
       "      <th></th>\n",
       "      <th></th>\n",
       "    </tr>\n",
       "  </thead>\n",
       "  <tbody>\n",
       "    <tr>\n",
       "      <th>volume_hedge</th>\n",
       "      <td>-0.6388</td>\n",
       "      <td>0.6474</td>\n",
       "      <td>-0.8691</td>\n",
       "      <td>-2.6562</td>\n",
       "      <td>-1.6159</td>\n",
       "      <td>1.0330</td>\n",
       "      <td>1.0684</td>\n",
       "    </tr>\n",
       "    <tr>\n",
       "      <th>no_hedge</th>\n",
       "      <td>-1.0423</td>\n",
       "      <td>14.2003</td>\n",
       "      <td>0.1095</td>\n",
       "      <td>-28.6662</td>\n",
       "      <td>-20.4023</td>\n",
       "      <td>1.3401</td>\n",
       "      <td>2.7755</td>\n",
       "    </tr>\n",
       "    <tr>\n",
       "      <th>transaction_cost = 0.001</th>\n",
       "      <td>-0.4530</td>\n",
       "      <td>0.5619</td>\n",
       "      <td>-0.6678</td>\n",
       "      <td>-2.1200</td>\n",
       "      <td>-1.3103</td>\n",
       "      <td>1.0233</td>\n",
       "      <td>1.0481</td>\n",
       "    </tr>\n",
       "    <tr>\n",
       "      <th>transaction_cost = 0.005</th>\n",
       "      <td>0.2482</td>\n",
       "      <td>0.4547</td>\n",
       "      <td>-0.5865</td>\n",
       "      <td>-1.0393</td>\n",
       "      <td>-0.4428</td>\n",
       "      <td>0.9879</td>\n",
       "      <td>0.9765</td>\n",
       "    </tr>\n",
       "    <tr>\n",
       "      <th>no transaction_cost</th>\n",
       "      <td>-0.6389</td>\n",
       "      <td>0.4813</td>\n",
       "      <td>-0.6428</td>\n",
       "      <td>-2.0434</td>\n",
       "      <td>-1.3704</td>\n",
       "      <td>1.0328</td>\n",
       "      <td>1.0673</td>\n",
       "    </tr>\n",
       "  </tbody>\n",
       "</table>\n",
       "</div>"
      ],
      "text/plain": [
       "                            mean     var  p-skewness    5% ES   20% ES  \\\n",
       "name                                                                     \n",
       "volume_hedge             -0.6388  0.6474     -0.8691  -2.6562  -1.6159   \n",
       "no_hedge                 -1.0423 14.2003      0.1095 -28.6662 -20.4023   \n",
       "transaction_cost = 0.001 -0.4530  0.5619     -0.6678  -2.1200  -1.3103   \n",
       "transaction_cost = 0.005  0.2482  0.4547     -0.5865  -1.0393  -0.4428   \n",
       "no transaction_cost      -0.6389  0.4813     -0.6428  -2.0434  -1.3704   \n",
       "\n",
       "                          utility, 0.05  utility, 0.1  \n",
       "name                                                   \n",
       "volume_hedge                     1.0330        1.0684  \n",
       "no_hedge                         1.3401        2.7755  \n",
       "transaction_cost = 0.001         1.0233        1.0481  \n",
       "transaction_cost = 0.005         0.9879        0.9765  \n",
       "no transaction_cost              1.0328        1.0673  "
      ]
     },
     "execution_count": 131,
     "metadata": {},
     "output_type": "execute_result"
    }
   ],
   "source": [
    "df = compute_statistics(pnl, labels)\n",
    "#df=df.reset_index()\n",
    "pd.options.display.float_format = '{:,.4f}'.format\n",
    "df"
   ]
  }
 ],
 "metadata": {
  "kernelspec": {
   "display_name": "rivapyFS",
   "language": "python",
   "name": "python3"
  },
  "language_info": {
   "codemirror_mode": {
    "name": "ipython",
    "version": 3
   },
   "file_extension": ".py",
   "mimetype": "text/x-python",
   "name": "python",
   "nbconvert_exporter": "python",
   "pygments_lexer": "ipython3",
   "version": "3.11.7"
  }
 },
 "nbformat": 4,
 "nbformat_minor": 2
}
