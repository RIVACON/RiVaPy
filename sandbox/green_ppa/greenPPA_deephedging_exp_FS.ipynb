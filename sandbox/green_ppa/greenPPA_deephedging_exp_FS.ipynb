{
 "cells": [
  {
   "cell_type": "code",
   "execution_count": 35,
   "metadata": {},
   "outputs": [
    {
     "name": "stdout",
     "output_type": "stream",
     "text": [
      "The autoreload extension is already loaded. To reload it, use:\n",
      "  %reload_ext autoreload\n"
     ]
    }
   ],
   "source": [
    "import datetime as dt\n",
    "import sys\n",
    "sys.path.insert(0,'../..')\n",
    "from typing import List\n",
    "import numpy as np\n",
    "import matplotlib.pyplot as plt\n",
    "import json\n",
    "import os\n",
    "import numpy as np\n",
    "from scipy.special import comb\n",
    "import pandas as pd\n",
    "import seaborn\n",
    "import pprint\n",
    "import deepdiff\n",
    "os.environ[\"CUDA_VISIBLE_DEVICES\"] = \"-1\"\n",
    "\n",
    "from rivapy.tools.datetime_grid import DateTimeGrid\n",
    "from rivapy.models.residual_demand_fwd_model import WindPowerForecastModel, MultiRegionWindForecastModel, LinearDemandForwardModel\n",
    "from rivapy.instruments.ppa_specification import GreenPPASpecification\n",
    "from rivapy.models.residual_demand_model import SmoothstepSupplyCurve\n",
    "from rivapy.models import OrnsteinUhlenbeck\n",
    "from rivapy.pricing.green_ppa_pricing import GreenPPADeepHedgingPricer, DeepHedgeModel\n",
    "\n",
    "\n",
    "import analysis\n",
    "\n",
    "from IPython.display import display, HTML\n",
    "#display(HTML(\"<style>.container { width:80% !important; }</style>\"))\n",
    "\n",
    "%load_ext autoreload\n",
    "%autoreload 2\n",
    "%matplotlib inline\n",
    "\n",
    "\n"
   ]
  },
  {
   "cell_type": "code",
   "execution_count": 61,
   "metadata": {},
   "outputs": [],
   "source": [
    "wind_onshore = WindPowerForecastModel(region='Onshore', speed_of_mean_reversion=2.0, volatility=4.0)\n",
    "wind_offshore = WindPowerForecastModel(region='Offshore', speed_of_mean_reversion=2.0, volatility=3.0)\n",
    "regions = [ MultiRegionWindForecastModel.Region( \n",
    "                                    wind_onshore,\n",
    "                                    capacity=1000.0,\n",
    "                                    rnd_weights=[0.8,0.2]\n",
    "                                ),\n",
    "           MultiRegionWindForecastModel.Region( \n",
    "                                    wind_offshore,\n",
    "                                    capacity=100.0,\n",
    "                                    rnd_weights=[0.2,0.8]\n",
    "                                )\n",
    "           \n",
    "          ]\n",
    "wind = MultiRegionWindForecastModel('Wind_Germany', regions)\n",
    "\n",
    "model = LinearDemandForwardModel(wind_power_forecast=wind, \n",
    "                                 x_volatility = 4.0 , \n",
    "                                 x_mean_reversion_speed = 0.1,\n",
    "                                 power_name= 'Power_Germany')"
   ]
  },
  {
   "cell_type": "code",
   "execution_count": 71,
   "metadata": {},
   "outputs": [],
   "source": [
    "val_date = dt.datetime(2023,1,1)\n",
    "strike = 1.0 #0.22\n",
    "transaction_cost = 0.01\n",
    "spec = GreenPPASpecification(udl='Power_Germany',\n",
    "                            technology = 'Wind',\n",
    "                             location = 'Onshore',\n",
    "                             schedule = [val_date + dt.timedelta(days=2)], \n",
    "                             fixed_price=strike,\n",
    "                             transaction_cost=transaction_cost,\n",
    "                             max_capacity = 1.0)"
   ]
  },
  {
   "cell_type": "code",
   "execution_count": 72,
   "metadata": {},
   "outputs": [
    {
     "data": {
      "text/plain": [
       "dict_keys(['a7b4461a3353337f96e58188db2087eb4cd90335', '75b5248ddc4b09a2e0e1194910fdc05bce4e3112', '91c071ac0f3214cd0e65e3e636755f80b8f8a5e7', 'c1ab45b4ad248d3cd152c78631088cc7f1c61ce4', '7ef18c826acc39073b98f0e630cc1861ee7504b0', '4a0107c15c4488cab77dec3325fcadc814a96384'])"
      ]
     },
     "execution_count": 72,
     "metadata": {},
     "output_type": "execute_result"
    }
   ],
   "source": [
    "repo = analysis.Repo('./experiments/')\n",
    "repo.results.keys()"
   ]
  },
  {
   "cell_type": "code",
   "execution_count": 73,
   "metadata": {},
   "outputs": [
    {
     "name": "stdout",
     "output_type": "stream",
     "text": [
      "900/900 [==============================] - 32s 16ms/step - loss: 2.6028e-04\n",
      "3125/3125 [==============================] - 25s 6ms/step\n",
      "3125/3125 [==============================] - 22s 5ms/step - loss: 1.7398e-05\n",
      "WARNING:tensorflow:Compiled the loaded model, but the compiled metrics have yet to be built. `model.compile_metrics` will be empty until you train or evaluate the model.\n"
     ]
    },
    {
     "name": "stderr",
     "output_type": "stream",
     "text": [
      "WARNING:tensorflow:Compiled the loaded model, but the compiled metrics have yet to be built. `model.compile_metrics` will be empty until you train or evaluate the model.\n",
      "WARNING:absl:Function `_wrapped_model` contains input name(s) Power_Germany_FWD0, Onshore_FWD0, Offshore_FWD0 with unsupported characters which will be renamed to power_germany_fwd0, onshore_fwd0, offshore_fwd0 in the SavedModel.\n"
     ]
    },
    {
     "name": "stdout",
     "output_type": "stream",
     "text": [
      "INFO:tensorflow:Assets written to: ./experiments//d87b2c0fa3e81977f043dc1577f26386b2021d19//delta_model\\assets\n"
     ]
    },
    {
     "name": "stderr",
     "output_type": "stream",
     "text": [
      "INFO:tensorflow:Assets written to: ./experiments//d87b2c0fa3e81977f043dc1577f26386b2021d19//delta_model\\assets\n"
     ]
    }
   ],
   "source": [
    "pricing_results = repo.run(val_date, \n",
    "                           spec, model, \n",
    "                           initial_forecasts={'Onshore': [0.8],\n",
    "                                        'Offshore': [0.6]},\n",
    "                           power_fwd_prices=[1.0],\n",
    "                           forecast_hours=[10, 14, 18],\n",
    "                           additional_states=['Offshore'],\n",
    "                           depth=3, \n",
    "                           nb_neurons=64, \n",
    "                           n_sims=100_000, \n",
    "                           regularization=0.0,\n",
    "                           epochs=1, verbose=1,\n",
    "                           tensorboard_logdir = 'logs/' + dt.datetime.now().strftime(\"%Y%m%dT%H%M%S\"), \n",
    "                           initial_lr=5e-4,\n",
    "                           decay_steps=8_000,\n",
    "                           batch_size=100, decay_rate=0.8, seed=42)"
   ]
  }
 ],
 "metadata": {
  "kernelspec": {
   "display_name": "rivapyFS",
   "language": "python",
   "name": "python3"
  },
  "language_info": {
   "codemirror_mode": {
    "name": "ipython",
    "version": 3
   },
   "file_extension": ".py",
   "mimetype": "text/x-python",
   "name": "python",
   "nbconvert_exporter": "python",
   "pygments_lexer": "ipython3",
   "version": "3.11.7"
  }
 },
 "nbformat": 4,
 "nbformat_minor": 2
}
