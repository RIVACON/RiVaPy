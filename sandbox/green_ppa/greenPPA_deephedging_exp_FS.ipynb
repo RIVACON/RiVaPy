{
 "cells": [
  {
   "cell_type": "code",
   "execution_count": 1,
   "metadata": {},
   "outputs": [
    {
     "name": "stderr",
     "output_type": "stream",
     "text": [
      "c:\\Users\\Anwender\\Documents\\GitHub\\RiVaPy_development\\RiVaPy\\sandbox\\green_ppa\\../..\\rivapy\\__init__.py:11: UserWarning: The pyvacon module is not available. You may not use all functionality without this module. Consider installing pyvacon.\n",
      "  warnings.warn('The pyvacon module is not available. You may not use all functionality without this module. Consider installing pyvacon.')\n"
     ]
    }
   ],
   "source": [
    "import datetime as dt\n",
    "import sys\n",
    "sys.path.insert(0,'../..')\n",
    "from typing import List\n",
    "import numpy as np\n",
    "import matplotlib.pyplot as plt\n",
    "import json\n",
    "import os\n",
    "import numpy as np\n",
    "from scipy.special import comb\n",
    "import pandas as pd\n",
    "import seaborn\n",
    "import pprint\n",
    "import deepdiff\n",
    "os.environ[\"CUDA_VISIBLE_DEVICES\"] = \"-1\"\n",
    "\n",
    "from rivapy.tools.datetime_grid import DateTimeGrid\n",
    "from rivapy.models.residual_demand_fwd_model import WindPowerForecastModel, MultiRegionWindForecastModel, LinearDemandForwardModel\n",
    "from rivapy.instruments.ppa_specification import GreenPPASpecification\n",
    "from rivapy.models.residual_demand_model import SmoothstepSupplyCurve\n",
    "from rivapy.models import OrnsteinUhlenbeck\n",
    "from rivapy.pricing.green_ppa_pricing import GreenPPADeepHedgingPricer, DeepHedgeModel\n",
    "\n",
    "\n",
    "import analysis\n",
    "\n",
    "from IPython.display import display, HTML\n",
    "#display(HTML(\"<style>.container { width:80% !important; }</style>\"))\n",
    "\n",
    "%load_ext autoreload\n",
    "%autoreload 2\n",
    "%matplotlib inline\n",
    "\n",
    "\n"
   ]
  },
  {
   "cell_type": "code",
   "execution_count": 2,
   "metadata": {},
   "outputs": [],
   "source": [
    "def setup(ref_key, ref_key_volume_hedge):\n",
    "    sim_results = {}\n",
    "    forecast_points={}\n",
    "    # simulate paths\n",
    "    print('simulate paths')\n",
    "    for k in ref_keys:\n",
    "        sim_results[k], forecast_points[k] = repo.simulate_model(k, n_sims=100_000)\n",
    "    # load models and specs\n",
    "    print('load models and specs')\n",
    "    hedge_models = {k: repo.get_hedge_model(k) for k in ref_keys}\n",
    "    specs = {k: GreenPPASpecification.from_dict(repo.results[k]['ppa_spec']) for k in ref_keys}\n",
    "    #compute pathwise pnls\n",
    "    print('compute pnl')\n",
    "    paths = {k:{l:sim_results[k].get(l, forecast_points[k]) for l in ['Power_Germany_FWD0', 'Onshore_FWD0', 'Offshore_FWD0']} for k in ref_keys}\n",
    "    pnl = {\n",
    "        'volume_hedge': compute_volume_hedge_pnl(paths[ref_key_volume_hedge], specs[ref_key_volume_hedge]),\n",
    "          'no_hedge': compute_no_hedge_pnl(paths[ref_key_volume_hedge], specs[ref_key_volume_hedge]),\n",
    "        'static_volume_hedge':compute_static_volume_hedge_pnl(paths[ref_key_volume_hedge], specs[ref_key_volume_hedge])\n",
    "          }\n",
    "    for k,v in hedge_models.items():\n",
    "        pnl[k] = compute_pnl(v, paths[k], specs[k])#specs['ec202973a34dfc5b71a86e0e7b2209a62c29b6a1'])#\n",
    "    return sim_results, forecast_points, hedge_models, specs, paths, pnl\n",
    "\n",
    "def compute_pnl(hedge_model, paths, green_ppa_spec):\n",
    "    power_price = paths.get('Power_Germany_FWD0', None)\n",
    "    volume = paths.get(green_ppa_spec.location+'_FWD0')\n",
    "    print(green_ppa_spec.fixed_price)\n",
    "    payoff = (power_price[-1,:] -green_ppa_spec.fixed_price)*(volume[-1,:])*green_ppa_spec.max_capacity\n",
    "    return hedge_model.compute_pnl(paths, payoff)\n",
    "\n",
    "def compute_volume_hedge_pnl(paths, green_ppa_spec):\n",
    "    power_price = paths.get('Power_Germany_FWD0', None)\n",
    "    volume = paths.get(green_ppa_spec.location+'_FWD0')\n",
    "    pnl = volume[0,:]*power_price[0,:]\n",
    "    for i in range(1,power_price.shape[0]-1):\n",
    "        pnl += (volume[i,:]-volume[i-1,:])*power_price[i,:]\n",
    "    pnl -= volume[-2,:]*power_price[-1,:]\n",
    "    pnl += (power_price[-1,:] -green_ppa_spec.fixed_price)*(volume[-1,:])*green_ppa_spec.max_capacity\n",
    "    return pnl\n",
    "\n",
    "def compute_no_hedge_pnl(paths, green_ppa_spec):\n",
    "    power_price = paths.get('Power_Germany_FWD0', None)\n",
    "    volume = paths.get(green_ppa_spec.location+'_FWD0')\n",
    "    pnl = (power_price[-1,:] -green_ppa_spec.fixed_price)*(volume[-1,:])*green_ppa_spec.max_capacity\n",
    "    return pnl\n",
    "\n",
    "\n",
    "def compute_static_volume_hedge_pnl(paths, green_ppa_spec):\n",
    "    power_price = paths.get('Power_Germany_FWD0', None)\n",
    "    volume = paths.get(green_ppa_spec.location+'_FWD0')\n",
    "    pnl = (power_price[-1,:] -green_ppa_spec.fixed_price)*(volume[-1,:]) + (-power_price[-1,:] +power_price[0,:])*(volume[0,:])\n",
    "    return pnl\n",
    "\n",
    "def compute_static_volume_hedge_var_pnl(paths, hedge_volume, green_ppa_spec, strike=None):\n",
    "    power_price = paths.get('Power_Germany_FWD0', None)\n",
    "    volume = paths.get(green_ppa_spec.location+'_FWD0')\n",
    "    strike_ = green_ppa_spec.fixed_price\n",
    "    if strike is not None:\n",
    "        strike_ = strike\n",
    "    pnl = (power_price[-1,:] -strike_)*(volume[-1,:]) + (-power_price[-1,:] +power_price[0,:])*(hedge_volume)\n",
    "    tmp = np.percentile(pnl, 5)\n",
    "    return pnl[pnl<tmp].mean()#pnl.var()\n",
    "\n",
    "\n",
    "def compute_statistics(pnl, labels):\n",
    "    pnl_stat = {'name':[], 'mean': [], 'var':[],'p-skewness':[], \n",
    "                #'20%': [], \n",
    "                #'5%':[], \n",
    "                #'10%':[], \n",
    "                '5% ES':[], \n",
    "                #'10% ES':[], \n",
    "                '20% ES':[], \n",
    "               'utility, 0.05': [], \n",
    "                'utility, 0.1': [],\n",
    "                #'utility, 0.15': [], 'utility, 0.2': [], \n",
    "               }\n",
    "    for k,v in pnl.items():\n",
    "        if ( k == 'static_volume_hedge'):# or (k==): # (k == 'no_hedge') or\n",
    "            continue\n",
    "        v_ = 100.0*v\n",
    "        if k in labels.keys():\n",
    "            pnl_stat['name'].append(labels[k])\n",
    "        else:\n",
    "            pnl_stat['name'].append(k)\n",
    "        pnl_stat['mean'].append(np.mean(v_))\n",
    "        pnl_stat['var'].append(np.sqrt(np.var(v_)))\n",
    "        pnl_stat['p-skewness'].append( 3.0*(v_.mean()-np.median(v_))/v_.std())\n",
    "\n",
    "        tmp = np.percentile(v_, 10)\n",
    "        #pnl_stat['10%'].append(tmp)\n",
    "        tmp = v_[v_<tmp].mean()\n",
    "        #pnl_stat['10% ES'].append(tmp) \n",
    "\n",
    "        tmp = np.percentile(v_, 20)\n",
    "        #pnl_stat['20%'].append(tmp)\n",
    "        tmp = v_[v_<tmp].mean()\n",
    "        pnl_stat['20% ES'].append(tmp)\n",
    "        tmp = np.percentile(v_, 5)\n",
    "        #pnl_stat['5%'].append(tmp)\n",
    "        tmp = v_[v_<tmp].mean()\n",
    "        pnl_stat['5% ES'].append(tmp)\n",
    "        \n",
    "        pnl_stat['utility, 0.05'].append(np.mean(np.exp(-0.05*v_)))\n",
    "        pnl_stat['utility, 0.1'].append(np.mean(np.exp(-0.1*v_)))\n",
    "        #pnl_stat['utility, 0.15'].append(np.mean(np.exp(-0.15*v_)))\n",
    "        #pnl_stat['utility, 0.2'].append( np.mean(np.exp(-0.2*v_)))\n",
    "\n",
    "    pnl_stat = pd.DataFrame(pnl_stat)\n",
    "    return pnl_stat.set_index('name')#.to_latex(float_format=\"{:0.3f}\".format)"
   ]
  },
  {
   "cell_type": "code",
   "execution_count": 3,
   "metadata": {},
   "outputs": [],
   "source": [
    "wind_onshore = WindPowerForecastModel(region='Onshore', speed_of_mean_reversion=2.0, volatility=4.0)\n",
    "wind_offshore = WindPowerForecastModel(region='Offshore', speed_of_mean_reversion=2.0, volatility=3.0)\n",
    "regions = [ MultiRegionWindForecastModel.Region( \n",
    "                                    wind_onshore,\n",
    "                                    capacity=1000.0,\n",
    "                                    rnd_weights=[0.8,0.2]\n",
    "                                ),\n",
    "           MultiRegionWindForecastModel.Region( \n",
    "                                    wind_offshore,\n",
    "                                    capacity=100.0,\n",
    "                                    rnd_weights=[0.2,0.8]\n",
    "                                )\n",
    "           \n",
    "          ]\n",
    "wind = MultiRegionWindForecastModel('Wind_Germany', regions)\n",
    "\n",
    "model = LinearDemandForwardModel(wind_power_forecast=wind, \n",
    "                                 x_volatility = 4.0 , \n",
    "                                 x_mean_reversion_speed = 0.1,\n",
    "                                 power_name= 'Power_Germany')"
   ]
  },
  {
   "cell_type": "code",
   "execution_count": 14,
   "metadata": {},
   "outputs": [],
   "source": [
    "val_date = dt.datetime(2023,1,1)\n",
    "strike = 1.0 #0.22\n",
    "spec = GreenPPASpecification(udl='Power_Germany',\n",
    "                            technology = 'Wind',\n",
    "                             location = 'Onshore',\n",
    "                             schedule = [val_date + dt.timedelta(days=2)], \n",
    "                             fixed_price=strike,\n",
    "                             max_capacity = 1.0)"
   ]
  },
  {
   "cell_type": "code",
   "execution_count": 15,
   "metadata": {},
   "outputs": [],
   "source": [
    "repo = analysis.Repo('./experiments/')"
   ]
  },
  {
   "cell_type": "code",
   "execution_count": 24,
   "metadata": {},
   "outputs": [
    {
     "name": "stdout",
     "output_type": "stream",
     "text": [
      "[datetime.datetime(2023, 1, 3, 0, 0)]\n"
     ]
    },
    {
     "ename": "OperatorNotAllowedInGraphError",
     "evalue": "in user code:\n\n    File \"c:\\Users\\Anwender\\.conda\\envs\\rivapyFS\\Lib\\site-packages\\keras\\engine\\training.py\", line 1284, in train_function  *\n        return step_function(self, iterator)\n    File \"c:\\Users\\Anwender\\.conda\\envs\\rivapyFS\\Lib\\site-packages\\keras\\engine\\training.py\", line 1268, in step_function  **\n        outputs = model.distribute_strategy.run(run_step, args=(data,))\n    File \"c:\\Users\\Anwender\\.conda\\envs\\rivapyFS\\Lib\\site-packages\\keras\\engine\\training.py\", line 1249, in run_step  **\n        outputs = model.train_step(data)\n    File \"c:\\Users\\Anwender\\.conda\\envs\\rivapyFS\\Lib\\site-packages\\keras\\engine\\training.py\", line 1050, in train_step\n        y_pred = self(x, training=True)\n    File \"c:\\Users\\Anwender\\Documents\\GitHub\\RiVaPy_development\\RiVaPy\\sandbox\\green_ppa\\../..\\rivapy\\pricing\\deep_hedging.py\", line 61, in __call__\n        return self._compute_pnl_withtransactioncost(x, training) #+ self.price\n    File \"c:\\Users\\Anwender\\Documents\\GitHub\\RiVaPy_development\\RiVaPy\\sandbox\\green_ppa\\../..\\rivapy\\pricing\\deep_hedging.py\", line 101, in _compute_pnl_withtransactioncost\n        for i in tf.range(self.timegrid.shape[0]-2):# TODO_FS: Tensorflow loop?\n\n    OperatorNotAllowedInGraphError: Iterating over a symbolic `tf.Tensor` is not allowed: AutoGraph did convert this function. This might indicate you are trying to use an unsupported feature.\n",
     "output_type": "error",
     "traceback": [
      "\u001b[1;31m---------------------------------------------------------------------------\u001b[0m",
      "\u001b[1;31mOperatorNotAllowedInGraphError\u001b[0m            Traceback (most recent call last)",
      "Cell \u001b[1;32mIn[24], line 1\u001b[0m\n\u001b[1;32m----> 1\u001b[0m pricing_results \u001b[38;5;241m=\u001b[39m repo\u001b[38;5;241m.\u001b[39mrun(val_date, \n\u001b[0;32m      2\u001b[0m                            spec, model, \n\u001b[0;32m      3\u001b[0m                            initial_forecasts\u001b[38;5;241m=\u001b[39m{\u001b[38;5;124m'\u001b[39m\u001b[38;5;124mOnshore\u001b[39m\u001b[38;5;124m'\u001b[39m: [\u001b[38;5;241m0.8\u001b[39m],\n\u001b[0;32m      4\u001b[0m                                         \u001b[38;5;124m'\u001b[39m\u001b[38;5;124mOffshore\u001b[39m\u001b[38;5;124m'\u001b[39m: [\u001b[38;5;241m0.6\u001b[39m]},\n\u001b[0;32m      5\u001b[0m                            power_fwd_prices\u001b[38;5;241m=\u001b[39m[\u001b[38;5;241m1.0\u001b[39m],\n\u001b[0;32m      6\u001b[0m                            forecast_hours\u001b[38;5;241m=\u001b[39m[\u001b[38;5;241m10\u001b[39m, \u001b[38;5;241m14\u001b[39m, \u001b[38;5;241m18\u001b[39m],\n\u001b[0;32m      7\u001b[0m                            additional_states\u001b[38;5;241m=\u001b[39m[\u001b[38;5;124m'\u001b[39m\u001b[38;5;124mOffshore\u001b[39m\u001b[38;5;124m'\u001b[39m],\n\u001b[0;32m      8\u001b[0m                            depth\u001b[38;5;241m=\u001b[39m\u001b[38;5;241m3\u001b[39m, \n\u001b[0;32m      9\u001b[0m                            nb_neurons\u001b[38;5;241m=\u001b[39m\u001b[38;5;241m64\u001b[39m, \n\u001b[0;32m     10\u001b[0m                            n_sims\u001b[38;5;241m=\u001b[39m\u001b[38;5;241m100_000\u001b[39m, \n\u001b[0;32m     11\u001b[0m                            regularization\u001b[38;5;241m=\u001b[39m\u001b[38;5;241m0.0\u001b[39m,\n\u001b[0;32m     12\u001b[0m                            epochs\u001b[38;5;241m=\u001b[39m\u001b[38;5;241m1\u001b[39m, verbose\u001b[38;5;241m=\u001b[39m\u001b[38;5;241m1\u001b[39m,\n\u001b[0;32m     13\u001b[0m                            tensorboard_logdir \u001b[38;5;241m=\u001b[39m \u001b[38;5;124m'\u001b[39m\u001b[38;5;124mlogs/\u001b[39m\u001b[38;5;124m'\u001b[39m \u001b[38;5;241m+\u001b[39m dt\u001b[38;5;241m.\u001b[39mdatetime\u001b[38;5;241m.\u001b[39mnow()\u001b[38;5;241m.\u001b[39mstrftime(\u001b[38;5;124m\"\u001b[39m\u001b[38;5;124m%\u001b[39m\u001b[38;5;124mY\u001b[39m\u001b[38;5;124m%\u001b[39m\u001b[38;5;124mm\u001b[39m\u001b[38;5;132;01m%d\u001b[39;00m\u001b[38;5;124mT\u001b[39m\u001b[38;5;124m%\u001b[39m\u001b[38;5;124mH\u001b[39m\u001b[38;5;124m%\u001b[39m\u001b[38;5;124mM\u001b[39m\u001b[38;5;124m%\u001b[39m\u001b[38;5;124mS\u001b[39m\u001b[38;5;124m\"\u001b[39m), \n\u001b[0;32m     14\u001b[0m                            initial_lr\u001b[38;5;241m=\u001b[39m\u001b[38;5;241m5e-4\u001b[39m,\n\u001b[0;32m     15\u001b[0m                            decay_steps\u001b[38;5;241m=\u001b[39m\u001b[38;5;241m8_000\u001b[39m,\n\u001b[0;32m     16\u001b[0m                            batch_size\u001b[38;5;241m=\u001b[39m\u001b[38;5;241m100\u001b[39m, decay_rate\u001b[38;5;241m=\u001b[39m\u001b[38;5;241m0.8\u001b[39m, seed\u001b[38;5;241m=\u001b[39m\u001b[38;5;241m42\u001b[39m,\n\u001b[0;32m     17\u001b[0m                            transaction_cost \u001b[38;5;241m=\u001b[39m {\u001b[38;5;124m'\u001b[39m\u001b[38;5;124mPower_Germany_FWD0\u001b[39m\u001b[38;5;124m'\u001b[39m: [\u001b[38;5;241m0.001\u001b[39m]})\n",
      "File \u001b[1;32mc:\\Users\\Anwender\\Documents\\GitHub\\RiVaPy_development\\RiVaPy\\sandbox\\green_ppa\\analysis.py:81\u001b[0m, in \u001b[0;36mRepo.run\u001b[1;34m(self, val_date, ppa_spec, model, rerun, **kwargs)\u001b[0m\n\u001b[0;32m     79\u001b[0m \u001b[38;5;28;01mif\u001b[39;00m (hash_key \u001b[38;5;129;01min\u001b[39;00m \u001b[38;5;28mself\u001b[39m\u001b[38;5;241m.\u001b[39mresults\u001b[38;5;241m.\u001b[39mkeys()) \u001b[38;5;129;01mand\u001b[39;00m (\u001b[38;5;129;01mnot\u001b[39;00m rerun):\n\u001b[0;32m     80\u001b[0m     \u001b[38;5;28;01mreturn\u001b[39;00m \u001b[38;5;28mself\u001b[39m\u001b[38;5;241m.\u001b[39mresults[hash_key]\n\u001b[1;32m---> 81\u001b[0m pricing_result \u001b[38;5;241m=\u001b[39m  GreenPPADeepHedgingPricer\u001b[38;5;241m.\u001b[39mprice(val_date, \n\u001b[0;32m     82\u001b[0m                               ppa_spec, \n\u001b[0;32m     83\u001b[0m                               model,\n\u001b[0;32m     84\u001b[0m                             \u001b[38;5;241m*\u001b[39m\u001b[38;5;241m*\u001b[39mkwargs)\n\u001b[0;32m     85\u001b[0m params[\u001b[38;5;124m'\u001b[39m\u001b[38;5;124mresult\u001b[39m\u001b[38;5;124m'\u001b[39m] \u001b[38;5;241m=\u001b[39m Repo\u001b[38;5;241m.\u001b[39mcompute_pnl_figures(pricing_result)\n\u001b[0;32m     86\u001b[0m \u001b[38;5;28mself\u001b[39m\u001b[38;5;241m.\u001b[39mresults[hash_key] \u001b[38;5;241m=\u001b[39m params\n",
      "File \u001b[1;32mc:\\Users\\Anwender\\Documents\\GitHub\\RiVaPy_development\\RiVaPy\\sandbox\\green_ppa\\../..\\rivapy\\pricing\\green_ppa_pricing.py:187\u001b[0m, in \u001b[0;36mGreenPPADeepHedgingPricer.price\u001b[1;34m(val_date, green_ppa, power_wind_model, initial_forecasts, power_fwd_prices, forecast_hours, depth, nb_neurons, n_sims, regularization, epochs, timegrid, verbose, tensorboard_logdir, initial_lr, batch_size, decay_rate, decay_steps, seed, additional_states, loss, transaction_cost)\u001b[0m\n\u001b[0;32m    179\u001b[0m lr_schedule \u001b[38;5;241m=\u001b[39m tf\u001b[38;5;241m.\u001b[39mkeras\u001b[38;5;241m.\u001b[39moptimizers\u001b[38;5;241m.\u001b[39mschedules\u001b[38;5;241m.\u001b[39mInverseTimeDecay(\n\u001b[0;32m    180\u001b[0m         initial_learning_rate\u001b[38;5;241m=\u001b[39minitial_lr,\u001b[38;5;66;03m#1e-3,\u001b[39;00m\n\u001b[0;32m    181\u001b[0m         decay_steps\u001b[38;5;241m=\u001b[39mdecay_steps,\n\u001b[0;32m    182\u001b[0m         decay_rate\u001b[38;5;241m=\u001b[39mdecay_rate, \n\u001b[0;32m    183\u001b[0m         staircase\u001b[38;5;241m=\u001b[39m\u001b[38;5;28;01mTrue\u001b[39;00m)\n\u001b[0;32m    185\u001b[0m payoff \u001b[38;5;241m=\u001b[39m GreenPPADeepHedgingPricer\u001b[38;5;241m.\u001b[39mcompute_payoff(n_sims, hedge_ins, additional_states_, green_ppa)  \n\u001b[1;32m--> 187\u001b[0m hedge_model\u001b[38;5;241m.\u001b[39mtrain(paths, payoff,lr_schedule, epochs\u001b[38;5;241m=\u001b[39mepochs, batch_size\u001b[38;5;241m=\u001b[39mbatch_size, tensorboard_log\u001b[38;5;241m=\u001b[39mtensorboard_logdir, verbose\u001b[38;5;241m=\u001b[39mverbose)\n\u001b[0;32m    188\u001b[0m \u001b[38;5;28;01mreturn\u001b[39;00m GreenPPADeepHedgingPricer\u001b[38;5;241m.\u001b[39mPricingResults(hedge_model, paths\u001b[38;5;241m=\u001b[39mpaths, sim_results\u001b[38;5;241m=\u001b[39msimulation_results, payoff\u001b[38;5;241m=\u001b[39mpayoff)\n",
      "File \u001b[1;32mc:\\Users\\Anwender\\Documents\\GitHub\\RiVaPy_development\\RiVaPy\\sandbox\\green_ppa\\../..\\rivapy\\pricing\\deep_hedging.py:213\u001b[0m, in \u001b[0;36mDeepHedgeModel.train\u001b[1;34m(self, paths, payoff, lr_schedule, epochs, batch_size, tensorboard_log, verbose)\u001b[0m\n\u001b[0;32m    211\u001b[0m \u001b[38;5;28mself\u001b[39m\u001b[38;5;241m.\u001b[39mcompile(optimizer\u001b[38;5;241m=\u001b[39moptimizer, loss\u001b[38;5;241m=\u001b[39m\u001b[38;5;28mself\u001b[39m\u001b[38;5;241m.\u001b[39mcustom_loss)\n\u001b[0;32m    212\u001b[0m inputs \u001b[38;5;241m=\u001b[39m \u001b[38;5;28mself\u001b[39m\u001b[38;5;241m.\u001b[39m_create_inputs(paths)\n\u001b[1;32m--> 213\u001b[0m \u001b[38;5;28;01mreturn\u001b[39;00m \u001b[38;5;28mself\u001b[39m\u001b[38;5;241m.\u001b[39mfit(inputs, payoff, epochs\u001b[38;5;241m=\u001b[39mepochs, \n\u001b[0;32m    214\u001b[0m                     batch_size\u001b[38;5;241m=\u001b[39mbatch_size, callbacks\u001b[38;5;241m=\u001b[39mcallbacks, \n\u001b[0;32m    215\u001b[0m                     verbose\u001b[38;5;241m=\u001b[39mverbose, validation_split\u001b[38;5;241m=\u001b[39m\u001b[38;5;241m0.1\u001b[39m, \n\u001b[0;32m    216\u001b[0m                     validation_freq\u001b[38;5;241m=\u001b[39m\u001b[38;5;241m5\u001b[39m)\n",
      "File \u001b[1;32mc:\\Users\\Anwender\\.conda\\envs\\rivapyFS\\Lib\\site-packages\\keras\\utils\\traceback_utils.py:70\u001b[0m, in \u001b[0;36mfilter_traceback.<locals>.error_handler\u001b[1;34m(*args, **kwargs)\u001b[0m\n\u001b[0;32m     67\u001b[0m     filtered_tb \u001b[38;5;241m=\u001b[39m _process_traceback_frames(e\u001b[38;5;241m.\u001b[39m__traceback__)\n\u001b[0;32m     68\u001b[0m     \u001b[38;5;66;03m# To get the full stack trace, call:\u001b[39;00m\n\u001b[0;32m     69\u001b[0m     \u001b[38;5;66;03m# `tf.debugging.disable_traceback_filtering()`\u001b[39;00m\n\u001b[1;32m---> 70\u001b[0m     \u001b[38;5;28;01mraise\u001b[39;00m e\u001b[38;5;241m.\u001b[39mwith_traceback(filtered_tb) \u001b[38;5;28;01mfrom\u001b[39;00m \u001b[38;5;28;01mNone\u001b[39;00m\n\u001b[0;32m     71\u001b[0m \u001b[38;5;28;01mfinally\u001b[39;00m:\n\u001b[0;32m     72\u001b[0m     \u001b[38;5;28;01mdel\u001b[39;00m filtered_tb\n",
      "File \u001b[1;32mc:\\Users\\Anwender\\.conda\\envs\\rivapyFS\\Lib\\site-packages\\tensorflow\\python\\framework\\func_graph.py:1200\u001b[0m, in \u001b[0;36mfunc_graph_from_py_func.<locals>.autograph_handler\u001b[1;34m(*args, **kwargs)\u001b[0m\n\u001b[0;32m   1198\u001b[0m \u001b[38;5;28;01mexcept\u001b[39;00m \u001b[38;5;167;01mException\u001b[39;00m \u001b[38;5;28;01mas\u001b[39;00m e:  \u001b[38;5;66;03m# pylint:disable=broad-except\u001b[39;00m\n\u001b[0;32m   1199\u001b[0m   \u001b[38;5;28;01mif\u001b[39;00m \u001b[38;5;28mhasattr\u001b[39m(e, \u001b[38;5;124m\"\u001b[39m\u001b[38;5;124mag_error_metadata\u001b[39m\u001b[38;5;124m\"\u001b[39m):\n\u001b[1;32m-> 1200\u001b[0m     \u001b[38;5;28;01mraise\u001b[39;00m e\u001b[38;5;241m.\u001b[39mag_error_metadata\u001b[38;5;241m.\u001b[39mto_exception(e)\n\u001b[0;32m   1201\u001b[0m   \u001b[38;5;28;01melse\u001b[39;00m:\n\u001b[0;32m   1202\u001b[0m     \u001b[38;5;28;01mraise\u001b[39;00m\n",
      "\u001b[1;31mOperatorNotAllowedInGraphError\u001b[0m: in user code:\n\n    File \"c:\\Users\\Anwender\\.conda\\envs\\rivapyFS\\Lib\\site-packages\\keras\\engine\\training.py\", line 1284, in train_function  *\n        return step_function(self, iterator)\n    File \"c:\\Users\\Anwender\\.conda\\envs\\rivapyFS\\Lib\\site-packages\\keras\\engine\\training.py\", line 1268, in step_function  **\n        outputs = model.distribute_strategy.run(run_step, args=(data,))\n    File \"c:\\Users\\Anwender\\.conda\\envs\\rivapyFS\\Lib\\site-packages\\keras\\engine\\training.py\", line 1249, in run_step  **\n        outputs = model.train_step(data)\n    File \"c:\\Users\\Anwender\\.conda\\envs\\rivapyFS\\Lib\\site-packages\\keras\\engine\\training.py\", line 1050, in train_step\n        y_pred = self(x, training=True)\n    File \"c:\\Users\\Anwender\\Documents\\GitHub\\RiVaPy_development\\RiVaPy\\sandbox\\green_ppa\\../..\\rivapy\\pricing\\deep_hedging.py\", line 61, in __call__\n        return self._compute_pnl_withtransactioncost(x, training) #+ self.price\n    File \"c:\\Users\\Anwender\\Documents\\GitHub\\RiVaPy_development\\RiVaPy\\sandbox\\green_ppa\\../..\\rivapy\\pricing\\deep_hedging.py\", line 101, in _compute_pnl_withtransactioncost\n        for i in tf.range(self.timegrid.shape[0]-2):# TODO_FS: Tensorflow loop?\n\n    OperatorNotAllowedInGraphError: Iterating over a symbolic `tf.Tensor` is not allowed: AutoGraph did convert this function. This might indicate you are trying to use an unsupported feature.\n"
     ]
    }
   ],
   "source": [
    "pricing_results = repo.run(val_date, \n",
    "                           spec, model, \n",
    "                           initial_forecasts={'Onshore': [0.8],\n",
    "                                        'Offshore': [0.6]},\n",
    "                           power_fwd_prices=[1.0],\n",
    "                           forecast_hours=[10, 14, 18],\n",
    "                           additional_states=['Offshore'],\n",
    "                           depth=3, \n",
    "                           nb_neurons=64, \n",
    "                           n_sims=100_000, \n",
    "                           regularization=0.0,\n",
    "                           epochs=1, verbose=1,\n",
    "                           tensorboard_logdir = 'logs/' + dt.datetime.now().strftime(\"%Y%m%dT%H%M%S\"), \n",
    "                           initial_lr=5e-4,\n",
    "                           decay_steps=8_000,\n",
    "                           batch_size=100, decay_rate=0.8, seed=42,\n",
    "                           transaction_cost = {'Power_Germany_FWD0': [0.001]})\n",
    "\n"
   ]
  },
  {
   "cell_type": "code",
   "execution_count": 42,
   "metadata": {},
   "outputs": [
    {
     "data": {
      "text/plain": [
       "dict_keys(['a641a2313124d83a67bbcbce9ef00cf83b26f13d', 'c047fbd62cbbb69dfb783b73c54cd49bea910e1f', 'acbb05123fdd2384bbaabc11b31311da0583ee31', '17ab9f49cde592b9058c2e75e20e53bfe00b8bd9', 'e14608efd681231308bfe57ac08418e3bf0d752f'])"
      ]
     },
     "execution_count": 42,
     "metadata": {},
     "output_type": "execute_result"
    }
   ],
   "source": [
    "repo.results.keys()"
   ]
  },
  {
   "cell_type": "code",
   "execution_count": 46,
   "metadata": {},
   "outputs": [],
   "source": [
    "experiments = {}\n",
    "    \n",
    "tmp={\n",
    "        'ref_keys':[\n",
    "            '17ab9f49cde592b9058c2e75e20e53bfe00b8bd9',\n",
    "            'e14608efd681231308bfe57ac08418e3bf0d752f'\n",
    "        ],\n",
    "        'labels':{\n",
    "            '17ab9f49cde592b9058c2e75e20e53bfe00b8bd9':'no_tc with dict',\n",
    "            'e14608efd681231308bfe57ac08418e3bf0d752f':'tc = 0.0001'\n",
    "            \n",
    "        }\n",
    "}\n",
    "experiments['transaction_cost_test1'] = tmp"
   ]
  },
  {
   "cell_type": "markdown",
   "metadata": {},
   "source": [
    "# PnL Distribution for Experiments"
   ]
  },
  {
   "cell_type": "code",
   "execution_count": 47,
   "metadata": {},
   "outputs": [],
   "source": [
    "repo = analysis.Repo('./experiments/')\n",
    "# TODO: das muss wieder weg und in die serialisierung\n",
    "for k,v in repo.results.items():\n",
    "    v['val_date'] = dt.datetime.fromisoformat(v['val_date'])\n",
    "    v['ppa_spec']['schedule'] = [dt.datetime.fromisoformat(k) for k in v['ppa_spec']['schedule']]"
   ]
  },
  {
   "cell_type": "code",
   "execution_count": 48,
   "metadata": {},
   "outputs": [
    {
     "name": "stdout",
     "output_type": "stream",
     "text": [
      "simulate paths\n",
      "load models and specs\n",
      "WARNING:tensorflow:No training configuration found in save file, so the model was *not* compiled. Compile it manually.\n"
     ]
    },
    {
     "name": "stderr",
     "output_type": "stream",
     "text": [
      "WARNING:tensorflow:No training configuration found in save file, so the model was *not* compiled. Compile it manually.\n"
     ]
    },
    {
     "name": "stdout",
     "output_type": "stream",
     "text": [
      "WARNING:tensorflow:No training configuration found in save file, so the model was *not* compiled. Compile it manually.\n"
     ]
    },
    {
     "name": "stderr",
     "output_type": "stream",
     "text": [
      "WARNING:tensorflow:No training configuration found in save file, so the model was *not* compiled. Compile it manually.\n"
     ]
    },
    {
     "name": "stdout",
     "output_type": "stream",
     "text": [
      "compute pnl\n",
      "1.0\n",
      "3125/3125 [==============================] - 27s 7ms/step\n",
      "1.0\n",
      "0.001\n",
      "0.001\n",
      "0.001\n",
      "0.001\n",
      "0.001\n",
      "0.001\n",
      "0.001\n",
      "0.001\n",
      "0.001\n",
      "0.001\n",
      "0.001\n",
      "0.001\n",
      "0.001\n",
      "0.001\n",
      "0.001\n",
      "0.001\n",
      "0.001\n",
      "0.001\n",
      "0.001\n",
      "0.001\n",
      "0.001\n",
      "0.001\n",
      "0.001\n",
      "0.001\n",
      "0.001\n",
      "0.001\n",
      "0.001\n",
      "0.001\n",
      "0.001\n",
      "0.001\n",
      "0.001\n",
      "0.001\n",
      "0.001\n",
      "0.001\n",
      "0.001\n",
      "0.001\n",
      "0.001\n",
      "0.001\n",
      "0.001\n",
      "0.001\n",
      "0.001\n",
      "0.001\n",
      "0.001\n",
      "0.001\n",
      "0.001\n",
      "0.001\n",
      "0.001\n",
      "bla\n",
      "3125/3125 [==============================] - 18s 4ms/step\n"
     ]
    }
   ],
   "source": [
    "experiment = 'transaction_cost_test1'\n",
    "ref_keys = experiments[experiment]['ref_keys']\n",
    "labels = experiments[experiment]['labels']\n",
    "labels_T = {k:v for v,k in labels.items()}\n",
    "sim_results, forecast_points, hedge_models, specs, paths, pnl = setup(ref_keys, ref_key_volume_hedge=labels_T['no_tc with dict'])"
   ]
  },
  {
   "cell_type": "code",
   "execution_count": 49,
   "metadata": {},
   "outputs": [
    {
     "data": {
      "text/plain": [
       "dict_keys(['volume_hedge', 'no_hedge', 'static_volume_hedge', '17ab9f49cde592b9058c2e75e20e53bfe00b8bd9', 'e14608efd681231308bfe57ac08418e3bf0d752f'])"
      ]
     },
     "execution_count": 49,
     "metadata": {},
     "output_type": "execute_result"
    }
   ],
   "source": [
    "pnl.keys()"
   ]
  },
  {
   "cell_type": "code",
   "execution_count": 72,
   "metadata": {},
   "outputs": [
    {
     "data": {
      "text/plain": [
       "Text(0.5, 0, 'PnL')"
      ]
     },
     "execution_count": 72,
     "metadata": {},
     "output_type": "execute_result"
    },
    {
     "data": {
      "image/png": "[encoded data removed]",
      "text/plain": [
       "<Figure size 640x480 with 1 Axes>"
      ]
     },
     "metadata": {},
     "output_type": "display_data"
    }
   ],
   "source": [
    "key = '17ab9f49cde592b9058c2e75e20e53bfe00b8bd9'\n",
    "plt.hist(np.clip(100*pnl[key], -3,1), bins=200, label='no transaction_cost', density=True, alpha=0.5)\n",
    "key = 'e14608efd681231308bfe57ac08418e3bf0d752f'\n",
    "plt.hist(np.clip(100*pnl[key], -3,1), bins=200, label='tc = 0.0001', density=True, alpha=0.5)\n",
    "plt.legend()\n",
    "plt.xlabel('PnL')"
   ]
  },
  {
   "cell_type": "code",
   "execution_count": 135,
   "metadata": {},
   "outputs": [
    {
     "data": {
      "text/plain": [
       "(-6.2602405249248205, 2.62860468515167)"
      ]
     },
     "execution_count": 135,
     "metadata": {},
     "output_type": "execute_result"
    },
    {
     "data": {
      "image/png": "[encoded data removed]",
      "text/plain": [
       "<Figure size 640x480 with 1 Axes>"
      ]
     },
     "metadata": {},
     "output_type": "display_data"
    }
   ],
   "source": [
    "key = '88b5d0ffbdaf5ce2e221de3ea993b3ff4707fbdb'\n",
    "pnl1 = 100*pnl[key]\n",
    "key = 'af85defde5263cb515b50590d2d6605cc5346b59'\n",
    "pnl2 = 100*pnl[key]\n",
    "pnl_min = np.min(100*pnl[key])\n",
    "pnl_max = np.max(100*pnl[key])\n",
    "\n",
    "plt.plot([pnl_min,pnl_max], [pnl_min,pnl_max], '-')\n",
    "plt.plot(pnl1,pnl2,'.', alpha=0.1)\n",
    "plt.xlabel('PnL no transaction_cost')\n",
    "plt.ylabel('PnL transaction_cost = 0.005')\n",
    "plt.xlim(pnl_min, pnl_max)\n",
    "plt.ylim(pnl_min, pnl_max)"
   ]
  },
  {
   "cell_type": "code",
   "execution_count": 131,
   "metadata": {},
   "outputs": [
    {
     "data": {
      "text/html": [
       "<div>\n",
       "<style scoped>\n",
       "    .dataframe tbody tr th:only-of-type {\n",
       "        vertical-align: middle;\n",
       "    }\n",
       "\n",
       "    .dataframe tbody tr th {\n",
       "        vertical-align: top;\n",
       "    }\n",
       "\n",
       "    .dataframe thead th {\n",
       "        text-align: right;\n",
       "    }\n",
       "</style>\n",
       "<table border=\"1\" class=\"dataframe\">\n",
       "  <thead>\n",
       "    <tr style=\"text-align: right;\">\n",
       "      <th></th>\n",
       "      <th>mean</th>\n",
       "      <th>var</th>\n",
       "      <th>p-skewness</th>\n",
       "      <th>5% ES</th>\n",
       "      <th>20% ES</th>\n",
       "      <th>utility, 0.05</th>\n",
       "      <th>utility, 0.1</th>\n",
       "    </tr>\n",
       "    <tr>\n",
       "      <th>name</th>\n",
       "      <th></th>\n",
       "      <th></th>\n",
       "      <th></th>\n",
       "      <th></th>\n",
       "      <th></th>\n",
       "      <th></th>\n",
       "      <th></th>\n",
       "    </tr>\n",
       "  </thead>\n",
       "  <tbody>\n",
       "    <tr>\n",
       "      <th>volume_hedge</th>\n",
       "      <td>-0.6388</td>\n",
       "      <td>0.6474</td>\n",
       "      <td>-0.8691</td>\n",
       "      <td>-2.6562</td>\n",
       "      <td>-1.6159</td>\n",
       "      <td>1.0330</td>\n",
       "      <td>1.0684</td>\n",
       "    </tr>\n",
       "    <tr>\n",
       "      <th>no_hedge</th>\n",
       "      <td>-1.0423</td>\n",
       "      <td>14.2003</td>\n",
       "      <td>0.1095</td>\n",
       "      <td>-28.6662</td>\n",
       "      <td>-20.4023</td>\n",
       "      <td>1.3401</td>\n",
       "      <td>2.7755</td>\n",
       "    </tr>\n",
       "    <tr>\n",
       "      <th>transaction_cost = 0.001</th>\n",
       "      <td>-0.4530</td>\n",
       "      <td>0.5619</td>\n",
       "      <td>-0.6678</td>\n",
       "      <td>-2.1200</td>\n",
       "      <td>-1.3103</td>\n",
       "      <td>1.0233</td>\n",
       "      <td>1.0481</td>\n",
       "    </tr>\n",
       "    <tr>\n",
       "      <th>transaction_cost = 0.005</th>\n",
       "      <td>0.2482</td>\n",
       "      <td>0.4547</td>\n",
       "      <td>-0.5865</td>\n",
       "      <td>-1.0393</td>\n",
       "      <td>-0.4428</td>\n",
       "      <td>0.9879</td>\n",
       "      <td>0.9765</td>\n",
       "    </tr>\n",
       "    <tr>\n",
       "      <th>no transaction_cost</th>\n",
       "      <td>-0.6389</td>\n",
       "      <td>0.4813</td>\n",
       "      <td>-0.6428</td>\n",
       "      <td>-2.0434</td>\n",
       "      <td>-1.3704</td>\n",
       "      <td>1.0328</td>\n",
       "      <td>1.0673</td>\n",
       "    </tr>\n",
       "  </tbody>\n",
       "</table>\n",
       "</div>"
      ],
      "text/plain": [
       "                            mean     var  p-skewness    5% ES   20% ES  \\\n",
       "name                                                                     \n",
       "volume_hedge             -0.6388  0.6474     -0.8691  -2.6562  -1.6159   \n",
       "no_hedge                 -1.0423 14.2003      0.1095 -28.6662 -20.4023   \n",
       "transaction_cost = 0.001 -0.4530  0.5619     -0.6678  -2.1200  -1.3103   \n",
       "transaction_cost = 0.005  0.2482  0.4547     -0.5865  -1.0393  -0.4428   \n",
       "no transaction_cost      -0.6389  0.4813     -0.6428  -2.0434  -1.3704   \n",
       "\n",
       "                          utility, 0.05  utility, 0.1  \n",
       "name                                                   \n",
       "volume_hedge                     1.0330        1.0684  \n",
       "no_hedge                         1.3401        2.7755  \n",
       "transaction_cost = 0.001         1.0233        1.0481  \n",
       "transaction_cost = 0.005         0.9879        0.9765  \n",
       "no transaction_cost              1.0328        1.0673  "
      ]
     },
     "execution_count": 131,
     "metadata": {},
     "output_type": "execute_result"
    }
   ],
   "source": [
    "df = compute_statistics(pnl, labels)\n",
    "#df=df.reset_index()\n",
    "pd.options.display.float_format = '{:,.4f}'.format\n",
    "df"
   ]
  }
 ],
 "metadata": {
  "kernelspec": {
   "display_name": "rivapyFS",
   "language": "python",
   "name": "python3"
  },
  "language_info": {
   "codemirror_mode": {
    "name": "ipython",
    "version": 3
   },
   "file_extension": ".py",
   "mimetype": "text/x-python",
   "name": "python",
   "nbconvert_exporter": "python",
   "pygments_lexer": "ipython3",
   "version": "3.11.7"
  }
 },
 "nbformat": 4,
 "nbformat_minor": 2
}
